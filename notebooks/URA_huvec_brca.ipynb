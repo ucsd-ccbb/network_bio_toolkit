{
 "cells": [
  {
   "cell_type": "markdown",
   "metadata": {},
   "source": [
    "# Upstream Regulator Analysis Package\n",
    "## HUVEC and Breast Cancer Case Study\n",
    "\n",
    "----------------------\n",
    "\n",
    "Author: Mikayla Webster (m1webste@ucsd.edu)\n",
    "\n",
    "Date: 11th January, 2018\n",
    "\n",
    "----------------------\n",
    "\n",
    "<a id='toc'></a>\n",
    "## Table of Contents\n",
    "1. [Background](#background)\n",
    "2. [Import packages](#import)\n",
    "3. [Transcription Factors](#tf)\n",
    "4. [Background Network](#bn)\n",
    "5. [HUVEC](#huvec)\n",
    "    1. [Load DEG's](#loadhuvec)\n",
    "    2. [Calculate p-values and z-scores](#pzhuvec)\n",
    "    3. [Compare the Ingenuity Article's results to Ours](#comphuvec)\n",
    "    4. [Display Our results](#displayhuvec)\n",
    "6. [Breast Cancer](#brca)\n",
    "    1. [Load DEG's](#loadbrca)\n",
    "    2. [Calculate p-values and z-scores](#pzbrca)\n",
    "    3. [Compare the Ingenuity Article's results to Ours](#compbrca)\n",
    "    4. [Display Our results](#displaybrca)"
   ]
  },
  {
   "cell_type": "markdown",
   "metadata": {},
   "source": [
    "## Background\n",
    "<a id='background'></a>\n",
    "\n",
    "This notebook attempts to validate our Upstream Regulator Analysis (URA) modules. Our modules are inspired by Ingenuity System's [Ingenuity Upstream Regulator Analysis in IPA®](http://pages.ingenuity.com/rs/ingenuity/images/0812%20upstream_regulator_analysis_whitepaper.pdf); this test case is inpired by Ingenuity System's corresponding paper, [Causal analysis approaches in Ingenuity Pathway Analysis](https://www.ncbi.nlm.nih.gov/pmc/articles/PMC3928520/). This paper analyses two sets of Differencially Expressed Genes (DEG's): one from a breast cancer tumor and the other from Human Umbilical Vein Endothelial Cells (HUVEC). We run our version of URA on these same breast cancer and HUVEC DEG's, however using the [STRING database](https://string-db.org/) human protein interaction network as our background network. "
   ]
  },
  {
   "cell_type": "markdown",
   "metadata": {},
   "source": [
    "## Import packages\n",
    "<a id='import'></a>"
   ]
  },
  {
   "cell_type": "code",
   "execution_count": 2,
   "metadata": {
    "collapsed": true
   },
   "outputs": [],
   "source": [
    "import networkx as nx\n",
    "import pandas as pd\n",
    "import numpy as np\n",
    "import matplotlib.pyplot as plt\n",
    "\n",
    "# import upstream regulator modules\n",
    "import sys\n",
    "code_path = '../ura'\n",
    "sys.path.append(code_path)\n",
    "import create_graph\n",
    "import stat_analysis\n",
    "reload(create_graph)\n",
    "reload(stat_analysis)\n",
    "\n",
    "# network visualization package\n",
    "# (pip install visJS2jupyter)\n",
    "import visJS2jupyter.visJS_module as visJS_module"
   ]
  },
  {
   "cell_type": "markdown",
   "metadata": {},
   "source": [
    "## Transcription Factors\n",
    "<a id='tf'></a>\n",
    "\n",
    "Load our list of Transcription Factors (TF) we want to analyze. Gene symbols will be in all caps. "
   ]
  },
  {
   "cell_type": "code",
   "execution_count": 5,
   "metadata": {},
   "outputs": [
    {
     "data": {
      "text/plain": [
       "3986"
      ]
     },
     "execution_count": 5,
     "metadata": {},
     "output_type": "execute_result"
    }
   ],
   "source": [
    "TF_list = create_graph.create_TF_list(slowkow_bool=True,\n",
    "                    slowkow_files=['../TF_databases/slowkow_databases/TRED_TF.txt',\n",
    "                                   '../TF_databases/slowkow_databases/ITFP_TF.txt',\n",
    "                                   '../TF_databases/slowkow_databases/ENCODE_TF.txt',\n",
    "                                   '../TF_databases/slowkow_databases/Neph2012_TF.txt',\n",
    "                                   '../TF_databases/slowkow_databases/TRRUST_TF.txt',\n",
    "                                   '../TF_databases/slowkow_databases/Marbach2016_TF.txt'],\n",
    "                    slowkow_sep = '\\n',\n",
    "                    jaspar_bool=True,\n",
    "                    jaspar_file=\"../TF_databases/jaspar_genereg_matrix.txt\")\n",
    "\n",
    "\n",
    "TF_list = TF_list + ['TNF', 'IFNG', 'LBP'] # known regulators of interest missing from our TF databases\n",
    "len(TF_list)"
   ]
  },
  {
   "cell_type": "markdown",
   "metadata": {},
   "source": [
    "## Background Network\n",
    "<a id='bn'></a>\n",
    "\n",
    "Load our background network, available on the [STRING website](https://string-db.org/cgi/download.pl?UserId=9BGA8WkVMRl6&sessionId=HWUK6Dum9xC6&species_text=Homo+sapiens), and keep only our the information about our TF's. \n",
    "\n",
    "The function load_STRING_to_digraph can load any species' \"protein actions\" database from STRING. Just ensure your TF list and DEG list have the same naming convention as you background network (Homo Sapiens use all caps, Mus Musculus only capitalizes the first letter, etc.) Inconsistent naming can effect your results."
   ]
  },
  {
   "cell_type": "code",
   "execution_count": 4,
   "metadata": {},
   "outputs": [
    {
     "name": "stdout",
     "output_type": "stream",
     "text": [
      "querying 1-1000...done.\n",
      "querying 1001-2000...done.\n",
      "querying 2001-3000...done.\n",
      "querying 3001-4000...done.\n",
      "querying 4001-5000...done.\n",
      "querying 5001-6000...done.\n",
      "querying 6001-7000...done.\n",
      "querying 7001-7374...done.\n",
      "Finished.\n",
      "56 input query terms found dup hits:\n",
      "\t[(u'ENSP00000359550', 3), (u'ENSP00000447879', 2), (u'ENSP00000364076', 2), (u'ENSP00000348986', 2),\n",
      "312 input query terms found no hit:\n",
      "\t[u'ENSP00000376684', u'ENSP00000289352', u'ENSP00000202788', u'ENSP00000373637', u'ENSP00000367802',\n",
      "Pass \"returnall=True\" to return complete lists of duplicate or missing query terms.\n"
     ]
    }
   ],
   "source": [
    "filename = \"../background_networks/9606.protein.actions.v10.5.txt\"\n",
    "confidence_filter=400\n",
    "DG_TF, DG_universe = create_graph.load_STRING_to_digraph(filename, confidence_filter, TF_list)"
   ]
  },
  {
   "cell_type": "markdown",
   "metadata": {},
   "source": [
    "## HUVEC##\n",
    "<a id='huvec'></a>"
   ]
  },
  {
   "cell_type": "markdown",
   "metadata": {},
   "source": [
    "### Load HUVEC DEG's ###\n",
    "<a id='loadhuvec'></a>"
   ]
  },
  {
   "cell_type": "code",
   "execution_count": 6,
   "metadata": {
    "collapsed": true
   },
   "outputs": [],
   "source": [
    "# DEG's\n",
    "filename_huvec = '../DEG_databases/geo2r_GSE2639_huvec.txt'\n",
    "\n",
    "# TF's found to be statistically significant in Ingenuity Systems URA article\n",
    "huvec_genes = ['TNF','IFNG','LBP', 'NFKB1', 'NFKB2', 'REL', 'RELA', 'RELB', 'PCBP3', 'PCBP2', 'PCBP1', 'PCBP4', 'NFKBIA']\n",
    "\n",
    "# add DEG information to STRING background network\n",
    "DEG_list_huvec, DEG_to_pvalue_huvec, DEG_to_updown_huvec = create_graph.create_DEG_list(filename_huvec, p_value_filter = 0.3)\n",
    "DG_huvec = create_graph.add_updown_from_DEG(DG_TF, DEG_to_updown_huvec) # will not overwrite original graph DG"
   ]
  },
  {
   "cell_type": "markdown",
   "metadata": {},
   "source": [
    "### Calculate p-values and z-scores\n",
    "<a id='pzhuvec'></a>\n",
    "\n",
    "For a detailed explination of our p-value and z-score calculation functions, see our URA_Basic_Example notebook"
   ]
  },
  {
   "cell_type": "code",
   "execution_count": 7,
   "metadata": {
    "collapsed": true
   },
   "outputs": [],
   "source": [
    "# calculate p-values\n",
    "p_values = stat_analysis.tf_pvalues(DG_huvec, DG_universe, DEG_list_huvec)\n",
    "\n",
    "# calculate z-scores\n",
    "z_scores_huvec = stat_analysis.tf_zscore(DG_huvec, DEG_list_huvec, bias_filter = 0.25) # recommended bias filter is 0.25"
   ]
  },
  {
   "cell_type": "markdown",
   "metadata": {},
   "source": [
    "### Compare the Ingenuity Article's results to Ours\n",
    "<a id='comphuvec'></a>\n",
    "\n",
    "These are the TF's found to be most relevant according to the Ingenuity Pathway Analysis paper. Optimally, these genes would rank very high. A rank of 0 is always best, while the rank associated with a z-score of zero is the worst. \n",
    "\n",
    "In this case, IFNG anf TNF are high ranking, therefore show coordination between our results and the Ingenuity article's results. LBP, PCBP1, PCBP2, PCBP4, and RELB have z-scores of zero, meaning not enough information exists about these genes to calculate a true z-score for them. PCBP3 has a NaN z-score because it is not in the graph."
   ]
  },
  {
   "cell_type": "code",
   "execution_count": 8,
   "metadata": {},
   "outputs": [
    {
     "data": {
      "text/html": [
       "<div>\n",
       "<style>\n",
       "    .dataframe thead tr:only-child th {\n",
       "        text-align: right;\n",
       "    }\n",
       "\n",
       "    .dataframe thead th {\n",
       "        text-align: left;\n",
       "    }\n",
       "\n",
       "    .dataframe tbody tr th {\n",
       "        vertical-align: top;\n",
       "    }\n",
       "</style>\n",
       "<table border=\"1\" class=\"dataframe\">\n",
       "  <thead>\n",
       "    <tr style=\"text-align: right;\">\n",
       "      <th></th>\n",
       "      <th>rank</th>\n",
       "      <th>z-score</th>\n",
       "    </tr>\n",
       "  </thead>\n",
       "  <tbody>\n",
       "    <tr>\n",
       "      <th>IFNG</th>\n",
       "      <td>0.0</td>\n",
       "      <td>3.549648</td>\n",
       "    </tr>\n",
       "    <tr>\n",
       "      <th>TNF</th>\n",
       "      <td>5.0</td>\n",
       "      <td>2.342606</td>\n",
       "    </tr>\n",
       "    <tr>\n",
       "      <th>NFKB2</th>\n",
       "      <td>12.0</td>\n",
       "      <td>1.732051</td>\n",
       "    </tr>\n",
       "    <tr>\n",
       "      <th>RELA</th>\n",
       "      <td>13.0</td>\n",
       "      <td>1.732051</td>\n",
       "    </tr>\n",
       "    <tr>\n",
       "      <th>NFKBIA</th>\n",
       "      <td>19.0</td>\n",
       "      <td>1.341641</td>\n",
       "    </tr>\n",
       "    <tr>\n",
       "      <th>REL</th>\n",
       "      <td>19.0</td>\n",
       "      <td>-1.341641</td>\n",
       "    </tr>\n",
       "    <tr>\n",
       "      <th>NFKB1</th>\n",
       "      <td>23.0</td>\n",
       "      <td>1.091089</td>\n",
       "    </tr>\n",
       "    <tr>\n",
       "      <th>LBP</th>\n",
       "      <td>34.0</td>\n",
       "      <td>0.000000</td>\n",
       "    </tr>\n",
       "    <tr>\n",
       "      <th>PCBP1</th>\n",
       "      <td>34.0</td>\n",
       "      <td>0.000000</td>\n",
       "    </tr>\n",
       "    <tr>\n",
       "      <th>PCBP2</th>\n",
       "      <td>34.0</td>\n",
       "      <td>0.000000</td>\n",
       "    </tr>\n",
       "    <tr>\n",
       "      <th>PCBP4</th>\n",
       "      <td>34.0</td>\n",
       "      <td>0.000000</td>\n",
       "    </tr>\n",
       "    <tr>\n",
       "      <th>RELB</th>\n",
       "      <td>34.0</td>\n",
       "      <td>0.000000</td>\n",
       "    </tr>\n",
       "    <tr>\n",
       "      <th>PCBP3</th>\n",
       "      <td>NaN</td>\n",
       "      <td>NaN</td>\n",
       "    </tr>\n",
       "  </tbody>\n",
       "</table>\n",
       "</div>"
      ],
      "text/plain": [
       "        rank   z-score\n",
       "IFNG     0.0  3.549648\n",
       "TNF      5.0  2.342606\n",
       "NFKB2   12.0  1.732051\n",
       "RELA    13.0  1.732051\n",
       "NFKBIA  19.0  1.341641\n",
       "REL     19.0 -1.341641\n",
       "NFKB1   23.0  1.091089\n",
       "LBP     34.0  0.000000\n",
       "PCBP1   34.0  0.000000\n",
       "PCBP2   34.0  0.000000\n",
       "PCBP4   34.0  0.000000\n",
       "RELB    34.0  0.000000\n",
       "PCBP3    NaN       NaN"
      ]
     },
     "execution_count": 8,
     "metadata": {},
     "output_type": "execute_result"
    }
   ],
   "source": [
    "stat_analysis.rank_and_score_df(z_scores_huvec, huvec_genes, remove_dups=True)"
   ]
  },
  {
   "cell_type": "markdown",
   "metadata": {},
   "source": [
    "### Display Our results\n",
    "<a id='displayhuvec'></a>\n",
    "\n",
    "These are the most relevant TF's according to our analysis. Optimally, these should match the huvec genes defined above. However, using a different background network produces discrepancies.\n",
    "\n",
    "IFNG, TNF, and TNFAIP3 show coordination between our results and the Ingenuity article's results."
   ]
  },
  {
   "cell_type": "code",
   "execution_count": 9,
   "metadata": {
    "scrolled": false
   },
   "outputs": [
    {
     "data": {
      "text/html": [
       "<div>\n",
       "<style>\n",
       "    .dataframe thead tr:only-child th {\n",
       "        text-align: right;\n",
       "    }\n",
       "\n",
       "    .dataframe thead th {\n",
       "        text-align: left;\n",
       "    }\n",
       "\n",
       "    .dataframe tbody tr th {\n",
       "        vertical-align: top;\n",
       "    }\n",
       "</style>\n",
       "<table border=\"1\" class=\"dataframe\">\n",
       "  <thead>\n",
       "    <tr style=\"text-align: right;\">\n",
       "      <th></th>\n",
       "      <th>activating z-score</th>\n",
       "    </tr>\n",
       "  </thead>\n",
       "  <tbody>\n",
       "    <tr>\n",
       "      <th>IFNG</th>\n",
       "      <td>3.549648</td>\n",
       "    </tr>\n",
       "    <tr>\n",
       "      <th>CTF1</th>\n",
       "      <td>3.000000</td>\n",
       "    </tr>\n",
       "    <tr>\n",
       "      <th>STAT4</th>\n",
       "      <td>2.645751</td>\n",
       "    </tr>\n",
       "    <tr>\n",
       "      <th>STAT5A</th>\n",
       "      <td>2.529822</td>\n",
       "    </tr>\n",
       "    <tr>\n",
       "      <th>TNF</th>\n",
       "      <td>2.342606</td>\n",
       "    </tr>\n",
       "    <tr>\n",
       "      <th>HIF1A</th>\n",
       "      <td>2.236068</td>\n",
       "    </tr>\n",
       "    <tr>\n",
       "      <th>GATA3</th>\n",
       "      <td>2.236068</td>\n",
       "    </tr>\n",
       "    <tr>\n",
       "      <th>IRF3</th>\n",
       "      <td>2.236068</td>\n",
       "    </tr>\n",
       "    <tr>\n",
       "      <th>FOS</th>\n",
       "      <td>2.236068</td>\n",
       "    </tr>\n",
       "    <tr>\n",
       "      <th>SPG7</th>\n",
       "      <td>2.236068</td>\n",
       "    </tr>\n",
       "  </tbody>\n",
       "</table>\n",
       "</div>"
      ],
      "text/plain": [
       "        activating z-score\n",
       "IFNG              3.549648\n",
       "CTF1              3.000000\n",
       "STAT4             2.645751\n",
       "STAT5A            2.529822\n",
       "TNF               2.342606\n",
       "HIF1A             2.236068\n",
       "GATA3             2.236068\n",
       "IRF3              2.236068\n",
       "FOS               2.236068\n",
       "SPG7              2.236068"
      ]
     },
     "metadata": {},
     "output_type": "display_data"
    },
    {
     "data": {
      "text/html": [
       "<div>\n",
       "<style>\n",
       "    .dataframe thead tr:only-child th {\n",
       "        text-align: right;\n",
       "    }\n",
       "\n",
       "    .dataframe thead th {\n",
       "        text-align: left;\n",
       "    }\n",
       "\n",
       "    .dataframe tbody tr th {\n",
       "        vertical-align: top;\n",
       "    }\n",
       "</style>\n",
       "<table border=\"1\" class=\"dataframe\">\n",
       "  <thead>\n",
       "    <tr style=\"text-align: right;\">\n",
       "      <th></th>\n",
       "      <th>inhibiting z-score</th>\n",
       "    </tr>\n",
       "  </thead>\n",
       "  <tbody>\n",
       "    <tr>\n",
       "      <th>PPARA</th>\n",
       "      <td>-2.449490</td>\n",
       "    </tr>\n",
       "    <tr>\n",
       "      <th>TNFAIP3</th>\n",
       "      <td>-2.000000</td>\n",
       "    </tr>\n",
       "    <tr>\n",
       "      <th>DDX41</th>\n",
       "      <td>-2.000000</td>\n",
       "    </tr>\n",
       "    <tr>\n",
       "      <th>CACNA2D4</th>\n",
       "      <td>-2.000000</td>\n",
       "    </tr>\n",
       "    <tr>\n",
       "      <th>CACNA2D2</th>\n",
       "      <td>-2.000000</td>\n",
       "    </tr>\n",
       "    <tr>\n",
       "      <th>GPSM1</th>\n",
       "      <td>-1.941451</td>\n",
       "    </tr>\n",
       "    <tr>\n",
       "      <th>SIRT1</th>\n",
       "      <td>-1.897367</td>\n",
       "    </tr>\n",
       "    <tr>\n",
       "      <th>STRAP</th>\n",
       "      <td>-1.732051</td>\n",
       "    </tr>\n",
       "    <tr>\n",
       "      <th>IRF8</th>\n",
       "      <td>-1.732051</td>\n",
       "    </tr>\n",
       "    <tr>\n",
       "      <th>NKX2-5</th>\n",
       "      <td>-1.732051</td>\n",
       "    </tr>\n",
       "  </tbody>\n",
       "</table>\n",
       "</div>"
      ],
      "text/plain": [
       "          inhibiting z-score\n",
       "PPARA              -2.449490\n",
       "TNFAIP3            -2.000000\n",
       "DDX41              -2.000000\n",
       "CACNA2D4           -2.000000\n",
       "CACNA2D2           -2.000000\n",
       "GPSM1              -1.941451\n",
       "SIRT1              -1.897367\n",
       "STRAP              -1.732051\n",
       "IRF8               -1.732051\n",
       "NKX2-5             -1.732051"
      ]
     },
     "metadata": {},
     "output_type": "display_data"
    }
   ],
   "source": [
    "top_act_huvec = stat_analysis.top_values(z_scores_huvec, act = True, abs_value = False, top = 10)\n",
    "top_inh_huvec = stat_analysis.top_values(z_scores_huvec, act = False, abs_value = False, top = 10)\n",
    "display(top_act_huvec.to_frame(name = 'activating z-score'))\n",
    "display(top_inh_huvec.to_frame(name = 'inhibiting z-score'))"
   ]
  },
  {
   "cell_type": "markdown",
   "metadata": {},
   "source": [
    "## Breast Cancer ###\n",
    "<a id='brca'></a>"
   ]
  },
  {
   "cell_type": "markdown",
   "metadata": {},
   "source": [
    "### Load Breast Cancer DEG's\n",
    "<a id='loadbrca'></a>"
   ]
  },
  {
   "cell_type": "code",
   "execution_count": 10,
   "metadata": {
    "collapsed": true
   },
   "outputs": [],
   "source": [
    "filename_brca = '../DEG_databases/geo2r_GSE11352_brca_48hours.txt'\n",
    "brca_genes = ['ESR1', 'FSH', 'MEK', 'BRD4', 'MYC', 'MARK1', 'IL1B','NCOA3','PGR', \n",
    "              'EGR1', 'HIF1A', 'NR3C1','CTNNB1','TP53','SMARCE1','STAT5B']\n",
    "DEG_list_brca, DEG_to_pvalue_brca, DEG_to_updown_brca = create_graph.create_DEG_list(filename_brca, p_value_filter = 0.05)\n",
    "DG_brca = create_graph.add_updown_from_DEG(DG_TF, DEG_to_updown_brca)"
   ]
  },
  {
   "cell_type": "markdown",
   "metadata": {},
   "source": [
    "### Calculate p-values and z-scores\n",
    "<a id='pzbrca'></a>"
   ]
  },
  {
   "cell_type": "code",
   "execution_count": 11,
   "metadata": {
    "collapsed": true
   },
   "outputs": [],
   "source": [
    "# calculate p-values\n",
    "p_values_brca = stat_analysis.tf_pvalues(DG_brca, DG_universe, DEG_list_brca)\n",
    "\n",
    "# calculate z-scores\n",
    "z_scores_brca = stat_analysis.tf_zscore(DG_brca, DEG_list_brca, bias_filter = 0.25)"
   ]
  },
  {
   "cell_type": "markdown",
   "metadata": {},
   "source": [
    "### Compare the Ingenuity Article's results to Ours\n",
    "<a id='compbrca'></a>\n",
    "TP53, MYC, and ESR1 are foud to be highly ranking, showing coordination between our results and the Ingenuity article's results."
   ]
  },
  {
   "cell_type": "code",
   "execution_count": 12,
   "metadata": {},
   "outputs": [
    {
     "data": {
      "text/html": [
       "<div>\n",
       "<style>\n",
       "    .dataframe thead tr:only-child th {\n",
       "        text-align: right;\n",
       "    }\n",
       "\n",
       "    .dataframe thead th {\n",
       "        text-align: left;\n",
       "    }\n",
       "\n",
       "    .dataframe tbody tr th {\n",
       "        vertical-align: top;\n",
       "    }\n",
       "</style>\n",
       "<table border=\"1\" class=\"dataframe\">\n",
       "  <thead>\n",
       "    <tr style=\"text-align: right;\">\n",
       "      <th></th>\n",
       "      <th>rank</th>\n",
       "      <th>z-score</th>\n",
       "    </tr>\n",
       "  </thead>\n",
       "  <tbody>\n",
       "    <tr>\n",
       "      <th>TP53</th>\n",
       "      <td>0.0</td>\n",
       "      <td>-1.889822</td>\n",
       "    </tr>\n",
       "    <tr>\n",
       "      <th>MYC</th>\n",
       "      <td>2.0</td>\n",
       "      <td>1.666667</td>\n",
       "    </tr>\n",
       "    <tr>\n",
       "      <th>ESR1</th>\n",
       "      <td>3.0</td>\n",
       "      <td>1.414214</td>\n",
       "    </tr>\n",
       "    <tr>\n",
       "      <th>STAT5B</th>\n",
       "      <td>4.0</td>\n",
       "      <td>1.341641</td>\n",
       "    </tr>\n",
       "    <tr>\n",
       "      <th>NR3C1</th>\n",
       "      <td>5.0</td>\n",
       "      <td>1.000000</td>\n",
       "    </tr>\n",
       "    <tr>\n",
       "      <th>HIF1A</th>\n",
       "      <td>7.0</td>\n",
       "      <td>-0.577350</td>\n",
       "    </tr>\n",
       "    <tr>\n",
       "      <th>CTNNB1</th>\n",
       "      <td>8.0</td>\n",
       "      <td>0.447214</td>\n",
       "    </tr>\n",
       "    <tr>\n",
       "      <th>EGR1</th>\n",
       "      <td>8.0</td>\n",
       "      <td>-0.447214</td>\n",
       "    </tr>\n",
       "    <tr>\n",
       "      <th>BRD4</th>\n",
       "      <td>9.0</td>\n",
       "      <td>0.000000</td>\n",
       "    </tr>\n",
       "    <tr>\n",
       "      <th>NCOA3</th>\n",
       "      <td>9.0</td>\n",
       "      <td>0.000000</td>\n",
       "    </tr>\n",
       "    <tr>\n",
       "      <th>PGR</th>\n",
       "      <td>9.0</td>\n",
       "      <td>0.000000</td>\n",
       "    </tr>\n",
       "    <tr>\n",
       "      <th>SMARCE1</th>\n",
       "      <td>9.0</td>\n",
       "      <td>0.000000</td>\n",
       "    </tr>\n",
       "    <tr>\n",
       "      <th>FSH</th>\n",
       "      <td>NaN</td>\n",
       "      <td>NaN</td>\n",
       "    </tr>\n",
       "    <tr>\n",
       "      <th>IL1B</th>\n",
       "      <td>NaN</td>\n",
       "      <td>NaN</td>\n",
       "    </tr>\n",
       "    <tr>\n",
       "      <th>MARK1</th>\n",
       "      <td>NaN</td>\n",
       "      <td>NaN</td>\n",
       "    </tr>\n",
       "    <tr>\n",
       "      <th>MEK</th>\n",
       "      <td>NaN</td>\n",
       "      <td>NaN</td>\n",
       "    </tr>\n",
       "  </tbody>\n",
       "</table>\n",
       "</div>"
      ],
      "text/plain": [
       "         rank   z-score\n",
       "TP53      0.0 -1.889822\n",
       "MYC       2.0  1.666667\n",
       "ESR1      3.0  1.414214\n",
       "STAT5B    4.0  1.341641\n",
       "NR3C1     5.0  1.000000\n",
       "HIF1A     7.0 -0.577350\n",
       "CTNNB1    8.0  0.447214\n",
       "EGR1      8.0 -0.447214\n",
       "BRD4      9.0  0.000000\n",
       "NCOA3     9.0  0.000000\n",
       "PGR       9.0  0.000000\n",
       "SMARCE1   9.0  0.000000\n",
       "FSH       NaN       NaN\n",
       "IL1B      NaN       NaN\n",
       "MARK1     NaN       NaN\n",
       "MEK       NaN       NaN"
      ]
     },
     "execution_count": 12,
     "metadata": {},
     "output_type": "execute_result"
    }
   ],
   "source": [
    "stat_analysis.rank_and_score_df(z_scores_brca, brca_genes, act = True, abs_value = True, remove_dups=True)"
   ]
  },
  {
   "cell_type": "markdown",
   "metadata": {},
   "source": [
    "### Display Our results\n",
    "<a id='displaybrca'></a>\n",
    "MYCN, MYC, ESR1, and TP53 show coordination between our results and the Ingenuity article's results.\n",
    "\n",
    "Four out of five of our top activating genes, in particular MYCN, are associated with breast cancer according to literature. Our top three inhibiting genes, in particular FOXO3, are also associated with breast cancer according to literature."
   ]
  },
  {
   "cell_type": "code",
   "execution_count": 13,
   "metadata": {},
   "outputs": [
    {
     "data": {
      "text/html": [
       "<div>\n",
       "<style>\n",
       "    .dataframe thead tr:only-child th {\n",
       "        text-align: right;\n",
       "    }\n",
       "\n",
       "    .dataframe thead th {\n",
       "        text-align: left;\n",
       "    }\n",
       "\n",
       "    .dataframe tbody tr th {\n",
       "        vertical-align: top;\n",
       "    }\n",
       "</style>\n",
       "<table border=\"1\" class=\"dataframe\">\n",
       "  <thead>\n",
       "    <tr style=\"text-align: right;\">\n",
       "      <th></th>\n",
       "      <th>activating z-score</th>\n",
       "    </tr>\n",
       "  </thead>\n",
       "  <tbody>\n",
       "    <tr>\n",
       "      <th>STAT1</th>\n",
       "      <td>1.732051</td>\n",
       "    </tr>\n",
       "    <tr>\n",
       "      <th>MYCN</th>\n",
       "      <td>1.732051</td>\n",
       "    </tr>\n",
       "    <tr>\n",
       "      <th>STAT3</th>\n",
       "      <td>1.732051</td>\n",
       "    </tr>\n",
       "    <tr>\n",
       "      <th>MYC</th>\n",
       "      <td>1.666667</td>\n",
       "    </tr>\n",
       "    <tr>\n",
       "      <th>SREBF1</th>\n",
       "      <td>1.414214</td>\n",
       "    </tr>\n",
       "    <tr>\n",
       "      <th>PHKB</th>\n",
       "      <td>1.414214</td>\n",
       "    </tr>\n",
       "    <tr>\n",
       "      <th>CCNA2</th>\n",
       "      <td>1.414214</td>\n",
       "    </tr>\n",
       "    <tr>\n",
       "      <th>ESR1</th>\n",
       "      <td>1.414214</td>\n",
       "    </tr>\n",
       "    <tr>\n",
       "      <th>SREBF2</th>\n",
       "      <td>1.414214</td>\n",
       "    </tr>\n",
       "    <tr>\n",
       "      <th>IQGAP1</th>\n",
       "      <td>1.414214</td>\n",
       "    </tr>\n",
       "  </tbody>\n",
       "</table>\n",
       "</div>"
      ],
      "text/plain": [
       "        activating z-score\n",
       "STAT1             1.732051\n",
       "MYCN              1.732051\n",
       "STAT3             1.732051\n",
       "MYC               1.666667\n",
       "SREBF1            1.414214\n",
       "PHKB              1.414214\n",
       "CCNA2             1.414214\n",
       "ESR1              1.414214\n",
       "SREBF2            1.414214\n",
       "IQGAP1            1.414214"
      ]
     },
     "metadata": {},
     "output_type": "display_data"
    },
    {
     "data": {
      "text/html": [
       "<div>\n",
       "<style>\n",
       "    .dataframe thead tr:only-child th {\n",
       "        text-align: right;\n",
       "    }\n",
       "\n",
       "    .dataframe thead th {\n",
       "        text-align: left;\n",
       "    }\n",
       "\n",
       "    .dataframe tbody tr th {\n",
       "        vertical-align: top;\n",
       "    }\n",
       "</style>\n",
       "<table border=\"1\" class=\"dataframe\">\n",
       "  <thead>\n",
       "    <tr style=\"text-align: right;\">\n",
       "      <th></th>\n",
       "      <th>inhibiting z-score</th>\n",
       "    </tr>\n",
       "  </thead>\n",
       "  <tbody>\n",
       "    <tr>\n",
       "      <th>TP53</th>\n",
       "      <td>-1.889822</td>\n",
       "    </tr>\n",
       "    <tr>\n",
       "      <th>FOXO3</th>\n",
       "      <td>-1.414214</td>\n",
       "    </tr>\n",
       "    <tr>\n",
       "      <th>EGR2</th>\n",
       "      <td>-1.414214</td>\n",
       "    </tr>\n",
       "    <tr>\n",
       "      <th>NR1H3</th>\n",
       "      <td>-1.414214</td>\n",
       "    </tr>\n",
       "    <tr>\n",
       "      <th>FOXO4</th>\n",
       "      <td>-1.414214</td>\n",
       "    </tr>\n",
       "    <tr>\n",
       "      <th>AKT1</th>\n",
       "      <td>-1.414214</td>\n",
       "    </tr>\n",
       "    <tr>\n",
       "      <th>NR1H2</th>\n",
       "      <td>-1.000000</td>\n",
       "    </tr>\n",
       "    <tr>\n",
       "      <th>NFE2L2</th>\n",
       "      <td>-1.000000</td>\n",
       "    </tr>\n",
       "    <tr>\n",
       "      <th>TWIST1</th>\n",
       "      <td>-1.000000</td>\n",
       "    </tr>\n",
       "    <tr>\n",
       "      <th>FOXP3</th>\n",
       "      <td>-1.000000</td>\n",
       "    </tr>\n",
       "  </tbody>\n",
       "</table>\n",
       "</div>"
      ],
      "text/plain": [
       "        inhibiting z-score\n",
       "TP53             -1.889822\n",
       "FOXO3            -1.414214\n",
       "EGR2             -1.414214\n",
       "NR1H3            -1.414214\n",
       "FOXO4            -1.414214\n",
       "AKT1             -1.414214\n",
       "NR1H2            -1.000000\n",
       "NFE2L2           -1.000000\n",
       "TWIST1           -1.000000\n",
       "FOXP3            -1.000000"
      ]
     },
     "metadata": {},
     "output_type": "display_data"
    }
   ],
   "source": [
    "top_act_brca = stat_analysis.top_values(z_scores_brca, act = True, abs_value = False, top = 10)\n",
    "top_inh_brca = stat_analysis.top_values(z_scores_brca, act = False, abs_value = False, top = 10)\n",
    "display(top_act_brca.to_frame(name = 'activating z-score'))\n",
    "display(top_inh_brca.to_frame(name = 'inhibiting z-score'))"
   ]
  },
  {
   "cell_type": "code",
   "execution_count": 15,
   "metadata": {},
   "outputs": [
    {
     "data": {
      "text/html": [
       "<!doctype html><html><head>  <title>Network | Basic usage</title></head><body><script type=\"text/javascript\">function setUpFrame() {     var frame = window.frames[\"style_file0\"];    frame.runVis([{\"node_shape\": \"dot\", \"degree\": 3.0, \"title\": \"CCL2\", \"color\": \"rgba(0, 0, 256, 1.0)\", \"size_field\": 2.089924707527987, \"y\": 757.9236505883445, \"x\": 527.4138852572414, \"border_width\": 0, \"id\": \"CCL2\"}, {\"node_shape\": \"dot\", \"degree\": 3.0, \"title\": \"TGM2\", \"color\": \"rgba(198, 198, 256, 1.0)\", \"size_field\": 3.932401799030521, \"y\": 1181.7261382379893, \"x\": 652.7047058667256, \"border_width\": 0, \"id\": \"TGM2\"}, {\"node_shape\": \"dot\", \"degree\": 3.0, \"title\": \"TP53INP1\", \"color\": \"rgba(0, 0, 256, 1.0)\", \"size_field\": 5.44201937618241, \"y\": 1100.0862332263284, \"x\": 215.66764705691207, \"border_width\": 2, \"id\": \"TP53INP1\"}, {\"node_shape\": \"dot\", \"degree\": 3.0, \"title\": \"SIRT2\", \"color\": \"rgba(0, 0, 256, 1.0)\", \"size_field\": 2.8182569916027895, \"y\": 441.48116039154064, \"x\": 1088.754282383309, \"border_width\": 0, \"id\": \"SIRT2\"}, {\"node_shape\": \"dot\", \"degree\": 3.0, \"title\": \"SMAD4\", \"color\": \"rgba(0, 0, 256, 1.0)\", \"size_field\": 3.6782522284344603, \"y\": 998.3043037018635, \"x\": 411.0470485434326, \"border_width\": 0, \"id\": \"SMAD4\"}, {\"node_shape\": \"dot\", \"degree\": 3.0, \"title\": \"CDKN1B\", \"color\": \"rgba(0, 0, 256, 1.0)\", \"size_field\": 4.10127823628901, \"y\": 828.895366394225, \"x\": 250.76573989691286, \"border_width\": 0, \"id\": \"CDKN1B\"}, {\"node_shape\": \"dot\", \"degree\": 3.0, \"title\": \"IGF1R\", \"color\": \"rgba(0, 0, 256, 1.0)\", \"size_field\": 3.944211592419732, \"y\": 480.46993138681717, \"x\": 206.07285301748308, \"border_width\": 0, \"id\": \"IGF1R\"}, {\"node_shape\": \"dot\", \"degree\": 3.0, \"title\": \"BCL2\", \"color\": \"rgba(154, 154, 256, 1.0)\", \"size_field\": 3.5186835491656363, \"y\": 684.0816604793505, \"x\": 467.830211206579, \"border_width\": 0, \"id\": \"BCL2\"}, {\"node_shape\": \"dot\", \"degree\": 3.0, \"title\": \"CHL1\", \"color\": \"rgba(256, 172, 172, 1.0)\", \"size_field\": 2.7991745852054755, \"y\": 115.81746463872777, \"x\": 141.98784296611302, \"border_width\": 0, \"id\": \"CHL1\"}, {\"node_shape\": \"dot\", \"degree\": 3.0, \"title\": \"NDRG1\", \"color\": \"rgba(0, 0, 256, 1.0)\", \"size_field\": 2.282628198149102, \"y\": 781.6155689981314, \"x\": 608.400707145688, \"border_width\": 0, \"id\": \"NDRG1\"}, {\"node_shape\": \"dot\", \"degree\": 3.0, \"title\": \"MYBL2\", \"color\": \"rgba(34, 34, 256, 1.0)\", \"size_field\": 2.316904931128684, \"y\": 732.0375403682401, \"x\": 1112.168904276683, \"border_width\": 0, \"id\": \"MYBL2\"}, {\"node_shape\": \"dot\", \"degree\": 3.0, \"title\": \"NES\", \"color\": \"rgba(256, 0, 0, 1.0)\", \"size_field\": 2.8751487885429796, \"y\": 619.1072926331951, \"x\": 266.6441814511213, \"border_width\": 0, \"id\": \"NES\"}, {\"node_shape\": \"dot\", \"degree\": 3.0, \"title\": \"GSN\", \"color\": \"rgba(0, 0, 256, 1.0)\", \"size_field\": 3.868856519613022, \"y\": 0.0, \"x\": 509.6094798303541, \"border_width\": 0, \"id\": \"GSN\"}, {\"node_shape\": \"dot\", \"degree\": 3.0, \"title\": \"MYCN\", \"color\": \"yellow\", \"size_field\": 5.44201937618241, \"y\": 641.3472649420215, \"x\": 558.9011370609178, \"border_width\": 0, \"id\": \"MYCN\"}, {\"node_shape\": \"dot\", \"degree\": 3.0, \"title\": \"KLF10\", \"color\": \"rgba(50, 50, 256, 1.0)\", \"size_field\": 2.8636982817549845, \"y\": 153.48230089014552, \"x\": 452.74762446235144, \"border_width\": 0, \"id\": \"KLF10\"}, {\"node_shape\": \"dot\", \"degree\": 3.0, \"title\": \"STAT3\", \"color\": \"rgba(0, 0, 256, 1.0)\", \"size_field\": 3.0067626350382306, \"y\": 823.1396922750179, \"x\": 54.59626706592586, \"border_width\": 0, \"id\": \"STAT3\"}, {\"node_shape\": \"dot\", \"degree\": 3.0, \"title\": \"CHD7\", \"color\": \"rgba(102, 102, 256, 1.0)\", \"size_field\": 3.1933626252139202, \"y\": 1200.0, \"x\": 444.10923443154934, \"border_width\": 0, \"id\": \"CHD7\"}, {\"node_shape\": \"dot\", \"degree\": 3.0, \"title\": \"RUNX3\", \"color\": \"rgba(0, 0, 256, 1.0)\", \"size_field\": 2.6790470561811635, \"y\": 1028.4953036339402, \"x\": 590.7370682050799, \"border_width\": 0, \"id\": \"RUNX3\"}, {\"node_shape\": \"dot\", \"degree\": 3.0, \"title\": \"CDKL5\", \"color\": \"rgba(0, 0, 256, 1.0)\", \"size_field\": 5.18689277901515, \"y\": 219.29803123703212, \"x\": 613.317062276723, \"border_width\": 2, \"id\": \"CDKL5\"}, {\"node_shape\": \"dot\", \"degree\": 3.0, \"title\": \"SOX11\", \"color\": \"rgba(0, 0, 256, 1.0)\", \"size_field\": 2.8209805520698303, \"y\": 931.0457021062564, \"x\": 1026.4261807268956, \"border_width\": 0, \"id\": \"SOX11\"}, {\"node_shape\": \"dot\", \"degree\": 3.0, \"title\": \"NTRK1\", \"color\": \"rgba(48, 48, 256, 1.0)\", \"size_field\": 2.0781777810640243, \"y\": 1013.8669057795395, \"x\": 761.8181507899669, \"border_width\": 0, \"id\": \"NTRK1\"}, {\"node_shape\": \"dot\", \"degree\": 3.0, \"title\": \"RGS5\", \"color\": \"rgba(0, 0, 256, 1.0)\", \"size_field\": 4.6635549612156595, \"y\": 94.63694558970133, \"x\": 271.4182639651401, \"border_width\": 0, \"id\": \"RGS5\"}, {\"node_shape\": \"dot\", \"degree\": 3.0, \"title\": \"GLI1\", \"color\": \"rgba(0, 0, 256, 1.0)\", \"size_field\": 2.1338743085563276, \"y\": 463.98332402608196, \"x\": 969.2893871744402, \"border_width\": 0, \"id\": \"GLI1\"}, {\"node_shape\": \"dot\", \"degree\": 3.0, \"title\": \"NFKB1\", \"color\": \"rgba(0, 0, 256, 1.0)\", \"size_field\": 2.533923675011968, \"y\": 896.686229733447, \"x\": 93.36513646256142, \"border_width\": 0, \"id\": \"NFKB1\"}, {\"node_shape\": \"dot\", \"degree\": 3.0, \"title\": \"MYC\", \"color\": \"rgba(176, 176, 256, 1.0)\", \"size_field\": 4.296603021316498, \"y\": 956.8531083784045, \"x\": 304.1536147361447, \"border_width\": 0, \"id\": \"MYC\"}, {\"node_shape\": \"dot\", \"degree\": 3.0, \"title\": \"TRPM7\", \"color\": \"rgba(0, 0, 256, 1.0)\", \"size_field\": 3.396344696973392, \"y\": 246.0443965732127, \"x\": 24.543661853357037, \"border_width\": 0, \"id\": \"TRPM7\"}, {\"node_shape\": \"dot\", \"degree\": 3.0, \"title\": \"WT1\", \"color\": \"rgba(0, 0, 256, 1.0)\", \"size_field\": 2.133188594243745, \"y\": 33.45503961687491, \"x\": 375.5422780116881, \"border_width\": 0, \"id\": \"WT1\"}, {\"node_shape\": \"dot\", \"degree\": 3.0, \"title\": \"WDR5\", \"color\": \"rgba(142, 142, 256, 1.0)\", \"size_field\": 4.02117263355586, \"y\": 244.39336720067553, \"x\": 774.6641441136841, \"border_width\": 0, \"id\": \"WDR5\"}, {\"node_shape\": \"dot\", \"degree\": 3.0, \"title\": \"SHC2\", \"color\": \"rgba(0, 0, 256, 1.0)\", \"size_field\": 3.370027388656019, \"y\": 83.58452200109429, \"x\": 755.8292380876115, \"border_width\": 0, \"id\": \"SHC2\"}, {\"node_shape\": \"dot\", \"degree\": 3.0, \"title\": \"ASCL1\", \"color\": \"rgba(256, 8, 8, 1.0)\", \"size_field\": 5.414282621210811, \"y\": 447.13633381321483, \"x\": 77.67883111257963, \"border_width\": 2, \"id\": \"ASCL1\"}, {\"node_shape\": \"dot\", \"degree\": 3.0, \"title\": \"CTSD\", \"color\": \"rgba(252, 252, 256, 1.0)\", \"size_field\": 4.838728524744326, \"y\": 648.536436349337, \"x\": 0.0, \"border_width\": 0, \"id\": \"CTSD\"}, {\"node_shape\": \"dot\", \"degree\": 3.0, \"title\": \"HMGA1\", \"color\": \"rgba(0, 0, 256, 1.0)\", \"size_field\": 2.8563722416629114, \"y\": 1103.2738360405162, \"x\": 325.2653715107681, \"border_width\": 0, \"id\": \"HMGA1\"}, {\"node_shape\": \"dot\", \"degree\": 3.0, \"title\": \"MCM7\", \"color\": \"rgba(130, 130, 256, 1.0)\", \"size_field\": 3.8546992690019293, \"y\": 678.9212623794105, \"x\": 991.4903518361616, \"border_width\": 0, \"id\": \"MCM7\"}, {\"node_shape\": \"dot\", \"degree\": 3.0, \"title\": \"VEGFA\", \"color\": \"rgba(148, 148, 256, 1.0)\", \"size_field\": 3.525556428453398, \"y\": 771.2157268673757, \"x\": 405.74847259061886, \"border_width\": 0, \"id\": \"VEGFA\"}, {\"node_shape\": \"dot\", \"degree\": 3.0, \"title\": \"SHH\", \"color\": \"rgba(0, 0, 256, 1.0)\", \"size_field\": 2.9731256686266936, \"y\": 517.1399277134107, \"x\": 451.8404516659513, \"border_width\": 0, \"id\": \"SHH\"}, {\"node_shape\": \"dot\", \"degree\": 3.0, \"title\": \"SLC19A1\", \"color\": \"rgba(196, 196, 256, 1.0)\", \"size_field\": 4.267217949156755, \"y\": 580.9843359000531, \"x\": 1099.246888272489, \"border_width\": 0, \"id\": \"SLC19A1\"}, {\"node_shape\": \"dot\", \"degree\": 3.0, \"title\": \"TRPM6\", \"color\": \"rgba(0, 0, 256, 1.0)\", \"size_field\": 2.8472311959426606, \"y\": 822.4652576576877, \"x\": 995.5669051989773, \"border_width\": 0, \"id\": \"TRPM6\"}, {\"node_shape\": \"dot\", \"degree\": 3.0, \"title\": \"ALK\", \"color\": \"rgba(0, 0, 256, 1.0)\", \"size_field\": 2.384486701722973, \"y\": 339.135752170655, \"x\": 901.2320870951395, \"border_width\": 0, \"id\": \"ALK\"}, {\"node_shape\": \"dot\", \"degree\": 3.0, \"title\": \"TP53\", \"color\": \"rgba(28, 28, 256, 1.0)\", \"size_field\": 2.4205279857852102, \"y\": 917.4377902876629, \"x\": 222.2820187730547, \"border_width\": 0, \"id\": \"TP53\"}, {\"node_shape\": \"dot\", \"degree\": 3.0, \"title\": \"BMP2\", \"color\": \"rgba(256, 54, 54, 1.0)\", \"size_field\": 3.0555527992076628, \"y\": 489.57121447099706, \"x\": 645.4535084393924, \"border_width\": 0, \"id\": \"BMP2\"}, {\"node_shape\": \"dot\", \"degree\": 3.0, \"title\": \"CCND1\", \"color\": \"rgba(74, 74, 256, 1.0)\", \"size_field\": 3.2437536743377806, \"y\": 619.5106231241797, \"x\": 403.6872961037891, \"border_width\": 0, \"id\": \"CCND1\"}, {\"node_shape\": \"dot\", \"degree\": 3.0, \"title\": \"LRRN3\", \"color\": \"rgba(0, 0, 256, 1.0)\", \"size_field\": 2.8171243603796565, \"y\": 151.99800212012178, \"x\": 886.6173967980687, \"border_width\": 0, \"id\": \"LRRN3\"}, {\"node_shape\": \"dot\", \"degree\": 3.0, \"title\": \"INSM1\", \"color\": \"rgba(0, 0, 256, 1.0)\", \"size_field\": 2.256312612705724, \"y\": 301.22244594574516, \"x\": 203.5120105351332, \"border_width\": 0, \"id\": \"INSM1\"}, {\"node_shape\": \"dot\", \"degree\": 3.0, \"title\": \"AHR\", \"color\": \"rgba(0, 0, 256, 1.0)\", \"size_field\": 2.23990829764694, \"y\": 290.9513736542514, \"x\": 1009.8188315904267, \"border_width\": 0, \"id\": \"AHR\"}, {\"node_shape\": \"dot\", \"degree\": 3.0, \"title\": \"PTEN\", \"color\": \"rgba(0, 0, 256, 1.0)\", \"size_field\": 3.3242589702004377, \"y\": 1073.6486388535636, \"x\": 491.2827120271375, \"border_width\": 0, \"id\": \"PTEN\"}, {\"node_shape\": \"dot\", \"degree\": 3.0, \"title\": \"VIP\", \"color\": \"rgba(110, 110, 256, 1.0)\", \"size_field\": 2.0948602810239603, \"y\": 646.615593040541, \"x\": 113.41324405418253, \"border_width\": 0, \"id\": \"VIP\"}, {\"node_shape\": \"dot\", \"degree\": 3.0, \"title\": \"RD3\", \"color\": \"rgba(0, 0, 256, 1.0)\", \"size_field\": 2.0142003494011416, \"y\": 40.811756798727245, \"x\": 633.3021805031648, \"border_width\": 0, \"id\": \"RD3\"}, {\"node_shape\": \"dot\", \"degree\": 3.0, \"title\": \"SIRT1\", \"color\": \"rgba(44, 44, 256, 1.0)\", \"size_field\": 2.434173272244908, \"y\": 758.835061237839, \"x\": 127.93050360468212, \"border_width\": 0, \"id\": \"SIRT1\"}, {\"node_shape\": \"dot\", \"degree\": 3.0, \"title\": \"MTOR\", \"color\": \"rgba(142, 142, 256, 1.0)\", \"size_field\": 2.2470520963658855, \"y\": 1004.4590985478906, \"x\": 183.32683186419206, \"border_width\": 0, \"id\": \"MTOR\"}, {\"node_shape\": \"dot\", \"degree\": 3.0, \"title\": \"KDM3A\", \"color\": \"rgba(150, 150, 256, 1.0)\", \"size_field\": 3.606941032235513, \"y\": 1018.8896706535937, \"x\": 935.9209707159979, \"border_width\": 0, \"id\": \"KDM3A\"}, {\"node_shape\": \"dot\", \"degree\": 3.0, \"title\": \"KDM5B\", \"color\": \"rgba(0, 0, 256, 1.0)\", \"size_field\": 2.501865882394519, \"y\": 1118.6918319245744, \"x\": 747.2036113782382, \"border_width\": 0, \"id\": \"KDM5B\"}, {\"node_shape\": \"dot\", \"degree\": 3.0, \"title\": \"CDC42\", \"color\": \"rgba(102, 102, 256, 1.0)\", \"size_field\": 2.6002034349172076, \"y\": 585.0459232511538, \"x\": 817.8572790843219, \"border_width\": 0, \"id\": \"CDC42\"}], [{\"color\": \"blue\", \"source\": 26, \"target\": 40}, {\"color\": \"blue\", \"source\": 26, \"target\": 13}, {\"color\": \"blue\", \"source\": 26, \"target\": 6}, {\"color\": \"blue\", \"source\": 26, \"target\": 7}, {\"color\": \"blue\", \"source\": 4, \"target\": 13}, {\"color\": \"red\", \"source\": 4, \"target\": 38}, {\"color\": \"blue\", \"source\": 4, \"target\": 40}, {\"color\": \"red\", \"source\": 4, \"target\": 5}, {\"color\": \"blue\", \"source\": 4, \"target\": 33}, {\"color\": \"blue\", \"source\": 4, \"target\": 24}, {\"color\": \"red\", \"source\": 27, \"target\": 13}, {\"color\": \"red\", \"source\": 10, \"target\": 13}, {\"color\": \"blue\", \"source\": 13, \"target\": 0}, {\"color\": \"blue\", \"source\": 13, \"target\": 1}, {\"color\": \"blue\", \"source\": 13, \"target\": 2}, {\"color\": \"red\", \"source\": 13, \"target\": 3}, {\"color\": \"blue\", \"source\": 13, \"target\": 4}, {\"color\": \"blue\", \"source\": 13, \"target\": 5}, {\"color\": \"red\", \"source\": 13, \"target\": 6}, {\"color\": \"red\", \"source\": 13, \"target\": 7}, {\"color\": \"blue\", \"source\": 13, \"target\": 8}, {\"color\": \"blue\", \"source\": 13, \"target\": 9}, {\"color\": \"red\", \"source\": 13, \"target\": 10}, {\"color\": \"red\", \"source\": 13, \"target\": 11}, {\"color\": \"red\", \"source\": 13, \"target\": 11}, {\"color\": \"blue\", \"source\": 13, \"target\": 12}, {\"color\": \"blue\", \"source\": 13, \"target\": 14}, {\"color\": \"red\", \"source\": 13, \"target\": 15}, {\"color\": \"blue\", \"source\": 13, \"target\": 16}, {\"color\": \"blue\", \"source\": 13, \"target\": 17}, {\"color\": \"blue\", \"source\": 13, \"target\": 18}, {\"color\": \"red\", \"source\": 13, \"target\": 19}, {\"color\": \"blue\", \"source\": 13, \"target\": 20}, {\"color\": \"blue\", \"source\": 13, \"target\": 21}, {\"color\": \"red\", \"source\": 13, \"target\": 22}, {\"color\": \"blue\", \"source\": 13, \"target\": 23}, {\"color\": \"blue\", \"source\": 13, \"target\": 24}, {\"color\": \"red\", \"source\": 13, \"target\": 25}, {\"color\": \"blue\", \"source\": 13, \"target\": 26}, {\"color\": \"red\", \"source\": 13, \"target\": 27}, {\"color\": \"red\", \"source\": 13, \"target\": 28}, {\"color\": \"red\", \"source\": 13, \"target\": 29}, {\"color\": \"blue\", \"source\": 13, \"target\": 30}, {\"color\": \"red\", \"source\": 13, \"target\": 31}, {\"color\": \"red\", \"source\": 13, \"target\": 32}, {\"color\": \"red\", \"source\": 13, \"target\": 33}, {\"color\": \"red\", \"source\": 13, \"target\": 34}, {\"color\": \"red\", \"source\": 13, \"target\": 35}, {\"color\": \"red\", \"source\": 13, \"target\": 36}, {\"color\": \"red\", \"source\": 13, \"target\": 37}, {\"color\": \"red\", \"source\": 13, \"target\": 38}, {\"color\": \"blue\", \"source\": 13, \"target\": 39}, {\"color\": \"red\", \"source\": 13, \"target\": 40}, {\"color\": \"blue\", \"source\": 13, \"target\": 41}, {\"color\": \"red\", \"source\": 13, \"target\": 42}, {\"color\": \"blue\", \"source\": 13, \"target\": 43}, {\"color\": \"red\", \"source\": 13, \"target\": 44}, {\"color\": \"blue\", \"source\": 13, \"target\": 45}, {\"color\": \"blue\", \"source\": 13, \"target\": 46}, {\"color\": \"red\", \"source\": 13, \"target\": 47}, {\"color\": \"red\", \"source\": 13, \"target\": 48}, {\"color\": \"red\", \"source\": 13, \"target\": 49}, {\"color\": \"blue\", \"source\": 13, \"target\": 50}, {\"color\": \"blue\", \"source\": 13, \"target\": 51}, {\"color\": \"blue\", \"source\": 13, \"target\": 51}, {\"color\": \"blue\", \"source\": 14, \"target\": 13}, {\"color\": \"red\", \"source\": 14, \"target\": 39}, {\"color\": \"red\", \"source\": 15, \"target\": 13}, {\"color\": \"red\", \"source\": 15, \"target\": 6}, {\"color\": \"blue\", \"source\": 15, \"target\": 38}, {\"color\": \"blue\", \"source\": 15, \"target\": 40}, {\"color\": \"blue\", \"source\": 15, \"target\": 40}, {\"color\": \"blue\", \"source\": 15, \"target\": 47}, {\"color\": \"blue\", \"source\": 15, \"target\": 33}, {\"color\": \"blue\", \"source\": 15, \"target\": 33}, {\"color\": \"red\", \"source\": 15, \"target\": 48}, {\"color\": \"red\", \"source\": 15, \"target\": 24}, {\"color\": \"blue\", \"source\": 44, \"target\": 0}, {\"color\": \"red\", \"source\": 44, \"target\": 13}, {\"color\": \"blue\", \"source\": 44, \"target\": 1}, {\"color\": \"blue\", \"source\": 44, \"target\": 38}, {\"color\": \"blue\", \"source\": 44, \"target\": 40}, {\"color\": \"blue\", \"source\": 44, \"target\": 20}, {\"color\": \"blue\", \"source\": 44, \"target\": 33}, {\"color\": \"blue\", \"source\": 44, \"target\": 48}, {\"color\": \"red\", \"source\": 44, \"target\": 9}, {\"color\": \"blue\", \"source\": 44, \"target\": 24}, {\"color\": \"blue\", \"source\": 44, \"target\": 50}, {\"color\": \"blue\", \"source\": 44, \"target\": 7}, {\"color\": \"red\", \"source\": 19, \"target\": 13}, {\"color\": \"red\", \"source\": 22, \"target\": 13}, {\"color\": \"red\", \"source\": 22, \"target\": 37}, {\"color\": \"blue\", \"source\": 22, \"target\": 40}, {\"color\": \"blue\", \"source\": 22, \"target\": 40}, {\"color\": \"red\", \"source\": 22, \"target\": 34}, {\"color\": \"red\", \"source\": 22, \"target\": 34}, {\"color\": \"blue\", \"source\": 22, \"target\": 7}, {\"color\": \"blue\", \"source\": 22, \"target\": 7}, {\"color\": \"blue\", \"source\": 22, \"target\": 39}, {\"color\": \"blue\", \"source\": 22, \"target\": 39}, {\"color\": \"red\", \"source\": 23, \"target\": 0}, {\"color\": \"blue\", \"source\": 23, \"target\": 13}, {\"color\": \"blue\", \"source\": 23, \"target\": 47}, {\"color\": \"blue\", \"source\": 23, \"target\": 47}, {\"color\": \"red\", \"source\": 23, \"target\": 38}, {\"color\": \"red\", \"source\": 23, \"target\": 40}, {\"color\": \"red\", \"source\": 23, \"target\": 33}, {\"color\": \"red\", \"source\": 23, \"target\": 34}, {\"color\": \"red\", \"source\": 23, \"target\": 48}, {\"color\": \"red\", \"source\": 23, \"target\": 24}, {\"color\": \"red\", \"source\": 23, \"target\": 7}, {\"color\": \"red\", \"source\": 24, \"target\": 0}, {\"color\": \"blue\", \"source\": 24, \"target\": 13}, {\"color\": \"red\", \"source\": 24, \"target\": 47}, {\"color\": \"red\", \"source\": 24, \"target\": 15}, {\"color\": \"blue\", \"source\": 24, \"target\": 2}, {\"color\": \"blue\", \"source\": 24, \"target\": 38}, {\"color\": \"blue\", \"source\": 24, \"target\": 17}, {\"color\": \"red\", \"source\": 24, \"target\": 40}, {\"color\": \"blue\", \"source\": 24, \"target\": 5}, {\"color\": \"blue\", \"source\": 24, \"target\": 5}, {\"color\": \"red\", \"source\": 24, \"target\": 23}, {\"color\": \"blue\", \"source\": 24, \"target\": 39}, {\"color\": \"blue\", \"source\": 24, \"target\": 44}, {\"color\": \"blue\", \"source\": 24, \"target\": 45}, {\"color\": \"blue\", \"source\": 24, \"target\": 33}, {\"color\": \"blue\", \"source\": 24, \"target\": 9}, {\"color\": \"blue\", \"source\": 24, \"target\": 9}, {\"color\": \"blue\", \"source\": 24, \"target\": 48}, {\"color\": \"red\", \"source\": 24, \"target\": 31}, {\"color\": \"blue\", \"source\": 24, \"target\": 4}, {\"color\": \"blue\", \"source\": 24, \"target\": 7}, {\"color\": \"blue\", \"source\": 24, \"target\": 7}, {\"color\": \"red\", \"source\": 3, \"target\": 13}, {\"color\": \"red\", \"source\": 29, \"target\": 34}, {\"color\": \"red\", \"source\": 29, \"target\": 13}, {\"color\": \"blue\", \"source\": 29, \"target\": 47}, {\"color\": \"red\", \"source\": 29, \"target\": 42}, {\"color\": \"red\", \"source\": 31, \"target\": 13}, {\"color\": \"red\", \"source\": 31, \"target\": 24}, {\"color\": \"blue\", \"source\": 31, \"target\": 38}, {\"color\": \"red\", \"source\": 32, \"target\": 13}, {\"color\": \"red\", \"source\": 38, \"target\": 0}, {\"color\": \"red\", \"source\": 38, \"target\": 13}, {\"color\": \"blue\", \"source\": 38, \"target\": 6}, {\"color\": \"red\", \"source\": 38, \"target\": 2}, {\"color\": \"blue\", \"source\": 38, \"target\": 15}, {\"color\": \"blue\", \"source\": 38, \"target\": 40}, {\"color\": \"blue\", \"source\": 38, \"target\": 5}, {\"color\": \"red\", \"source\": 38, \"target\": 30}, {\"color\": \"blue\", \"source\": 38, \"target\": 47}, {\"color\": \"blue\", \"source\": 38, \"target\": 47}, {\"color\": \"blue\", \"source\": 38, \"target\": 47}, {\"color\": \"blue\", \"source\": 38, \"target\": 31}, {\"color\": \"blue\", \"source\": 38, \"target\": 44}, {\"color\": \"blue\", \"source\": 38, \"target\": 33}, {\"color\": \"red\", \"source\": 38, \"target\": 9}, {\"color\": \"red\", \"source\": 38, \"target\": 34}, {\"color\": \"red\", \"source\": 38, \"target\": 23}, {\"color\": \"blue\", \"source\": 38, \"target\": 24}, {\"color\": \"blue\", \"source\": 38, \"target\": 11}, {\"color\": \"red\", \"source\": 38, \"target\": 4}, {\"color\": \"blue\", \"source\": 38, \"target\": 7}, {\"color\": \"blue\", \"source\": 38, \"target\": 7}, {\"color\": \"blue\", \"source\": 38, \"target\": 7}, {\"color\": \"blue\", \"source\": 42, \"target\": 40}, {\"color\": \"red\", \"source\": 42, \"target\": 13}, {\"color\": \"red\", \"source\": 42, \"target\": 29}, {\"color\": \"red\", \"source\": 42, \"target\": 34}, {\"color\": \"red\", \"source\": 43, \"target\": 0}, {\"color\": \"red\", \"source\": 43, \"target\": 9}, {\"color\": \"red\", \"source\": 43, \"target\": 33}, {\"color\": \"blue\", \"source\": 43, \"target\": 13}, {\"color\": \"blue\", \"source\": 17, \"target\": 13}, {\"color\": \"blue\", \"source\": 17, \"target\": 24}, {\"color\": \"blue\", \"source\": 17, \"target\": 33}, {\"color\": \"blue\", \"source\": 17, \"target\": 7}, {\"color\": \"red\", \"source\": 47, \"target\": 13}, {\"color\": \"blue\", \"source\": 47, \"target\": 15}, {\"color\": \"red\", \"source\": 47, \"target\": 5}, {\"color\": \"blue\", \"source\": 47, \"target\": 29}, {\"color\": \"blue\", \"source\": 47, \"target\": 33}, {\"color\": \"blue\", \"source\": 47, \"target\": 23}, {\"color\": \"blue\", \"source\": 47, \"target\": 23}, {\"color\": \"blue\", \"source\": 47, \"target\": 38}, {\"color\": \"blue\", \"source\": 47, \"target\": 38}, {\"color\": \"blue\", \"source\": 47, \"target\": 38}, {\"color\": \"red\", \"source\": 47, \"target\": 24}, {\"color\": \"blue\", \"source\": 50, \"target\": 13}, {\"color\": \"blue\", \"source\": 50, \"target\": 44}]);}</script><iframe name=\"style_file0\" src=\"style_file0.html\" width=\"100%;\" height=\"805px\"></iframe></body></html>"
      ],
      "text/plain": [
       "<IPython.core.display.HTML object>"
      ]
     },
     "execution_count": 15,
     "metadata": {},
     "output_type": "execute_result"
    }
   ],
   "source": [
    "stat_analysis.vis_tf_network(DG_brca, 'MYCN', '../DEG_databases/geo2r_GSE11352_brca_48hours.txt', DEG_list_brca,\n",
    "              directed_edges = False,\n",
    "              node_spacing = 1200,\n",
    "              graph_id = 0) "
   ]
  },
  {
   "cell_type": "code",
   "execution_count": 16,
   "metadata": {},
   "outputs": [
    {
     "data": {
      "text/html": [
       "<!doctype html><html><head>  <title>Network | Basic usage</title></head><body><script type=\"text/javascript\">function setUpFrame() {     var frame = window.frames[\"style_file1\"];    frame.runVis([{\"node_shape\": \"dot\", \"degree\": 3.0, \"title\": \"MOV10\", \"color\": \"rgba(0, 0, 256, 1.0)\", \"size_field\": 3.4300372840678093, \"y\": 1619.2162078129313, \"x\": 186.95867959369096, \"border_width\": 0, \"id\": \"MOV10\"}, {\"node_shape\": \"dot\", \"degree\": 3.0, \"title\": \"HSPA4\", \"color\": \"rgba(226, 226, 256, 1.0)\", \"size_field\": 4.446455463413748, \"y\": 2136.913961156018, \"x\": 951.5716349024152, \"border_width\": 0, \"id\": \"HSPA4\"}, {\"node_shape\": \"dot\", \"degree\": 3.0, \"title\": \"PLK1\", \"color\": \"rgba(140, 140, 256, 1.0)\", \"size_field\": 3.433385968653741, \"y\": 885.9513472750242, \"x\": 539.679984791836, \"border_width\": 0, \"id\": \"PLK1\"}, {\"node_shape\": \"dot\", \"degree\": 3.0, \"title\": \"PRKAG3\", \"color\": \"rgba(0, 0, 256, 1.0)\", \"size_field\": 2.573055700302125, \"y\": 2000.1857694903108, \"x\": 1186.9281397764294, \"border_width\": 0, \"id\": \"PRKAG3\"}, {\"node_shape\": \"dot\", \"degree\": 3.0, \"title\": \"PRKAG2\", \"color\": \"rgba(166, 166, 256, 1.0)\", \"size_field\": 3.7153541380256496, \"y\": 1674.7476156627106, \"x\": 299.3833096125212, \"border_width\": 0, \"id\": \"PRKAG2\"}, {\"node_shape\": \"dot\", \"degree\": 3.0, \"title\": \"IKBKB\", \"color\": \"rgba(0, 0, 256, 1.0)\", \"size_field\": 2.5563461390678, \"y\": 2249.01510666186, \"x\": 730.7129894398552, \"border_width\": 0, \"id\": \"IKBKB\"}, {\"node_shape\": \"dot\", \"degree\": 3.0, \"title\": \"AKT1\", \"color\": \"rgba(28, 28, 256, 1.0)\", \"size_field\": 2.3191039424601207, \"y\": 1719.8332400737124, \"x\": 839.9349727123858, \"border_width\": 0, \"id\": \"AKT1\"}, {\"node_shape\": \"dot\", \"degree\": 3.0, \"title\": \"AKT2\", \"color\": \"rgba(0, 0, 256, 1.0)\", \"size_field\": 3.296819354692288, \"y\": 2167.626070376796, \"x\": 754.1926743849713, \"border_width\": 0, \"id\": \"AKT2\"}, {\"node_shape\": \"dot\", \"degree\": 3.0, \"title\": \"AKT3\", \"color\": \"rgba(256, 0, 0, 1.0)\", \"size_field\": 2.7689488939762272, \"y\": 2102.4799207048104, \"x\": 778.5356382285645, \"border_width\": 0, \"id\": \"AKT3\"}, {\"node_shape\": \"dot\", \"degree\": 3.0, \"title\": \"TNRC6C\", \"color\": \"rgba(0, 0, 256, 1.0)\", \"size_field\": 4.584948003968227, \"y\": 1423.3861046733498, \"x\": 1294.975711493895, \"border_width\": 0, \"id\": \"TNRC6C\"}, {\"node_shape\": \"dot\", \"degree\": 3.0, \"title\": \"TNRC6B\", \"color\": \"rgba(0, 0, 256, 1.0)\", \"size_field\": 3.8457933577205408, \"y\": 2244.918328817985, \"x\": 445.51184873303436, \"border_width\": 0, \"id\": \"TNRC6B\"}, {\"node_shape\": \"dot\", \"degree\": 3.0, \"title\": \"TNRC6A\", \"color\": \"rgba(256, 194, 194, 1.0)\", \"size_field\": 2.9205497887945384, \"y\": 1317.511420066404, \"x\": 132.9718766265817, \"border_width\": 0, \"id\": \"TNRC6A\"}, {\"node_shape\": \"dot\", \"degree\": 3.0, \"title\": \"PMAIP1\", \"color\": \"rgba(256, 242, 242, 1.0)\", \"size_field\": 4.71356538179032, \"y\": 1044.2312812313892, \"x\": 1032.2571831726466, \"border_width\": 0, \"id\": \"PMAIP1\"}, {\"node_shape\": \"dot\", \"degree\": 3.0, \"title\": \"ADIPOQ\", \"color\": \"rgba(0, 0, 256, 1.0)\", \"size_field\": 2.7832907304129115, \"y\": 2280.7842651847404, \"x\": 581.296898354253, \"border_width\": 0, \"id\": \"ADIPOQ\"}, {\"node_shape\": \"dot\", \"degree\": 3.0, \"title\": \"RAN\", \"color\": \"rgba(100, 100, 256, 1.0)\", \"size_field\": 3.3034248832975956, \"y\": 1012.4702032805318, \"x\": 1286.5111316993275, \"border_width\": 0, \"id\": \"RAN\"}, {\"node_shape\": \"dot\", \"degree\": 3.0, \"title\": \"GADD45A\", \"color\": \"rgba(0, 0, 256, 1.0)\", \"size_field\": 2.279846186684006, \"y\": 1295.3689024204755, \"x\": 839.1108087496607, \"border_width\": 0, \"id\": \"GADD45A\"}, {\"node_shape\": \"dot\", \"degree\": 3.0, \"title\": \"YWHAH\", \"color\": \"rgba(202, 202, 256, 1.0)\", \"size_field\": 2.9757753787090473, \"y\": 1357.2211548837547, \"x\": 567.6527232084272, \"border_width\": 0, \"id\": \"YWHAH\"}, {\"node_shape\": \"dot\", \"degree\": 3.0, \"title\": \"PRKAG1\", \"color\": \"rgba(0, 0, 256, 1.0)\", \"size_field\": 2.0030045090202986, \"y\": 2300.0, \"x\": 684.0123622795447, \"border_width\": 0, \"id\": \"PRKAG1\"}, {\"node_shape\": \"dot\", \"degree\": 3.0, \"title\": \"CSNK1E\", \"color\": \"rgba(82, 82, 256, 1.0)\", \"size_field\": 2.6933472005626125, \"y\": 1959.0278248808866, \"x\": 986.1034748622943, \"border_width\": 0, \"id\": \"CSNK1E\"}, {\"node_shape\": \"dot\", \"degree\": 3.0, \"title\": \"CDH1\", \"color\": \"rgba(0, 0, 256, 1.0)\", \"size_field\": 2.655080979753489, \"y\": 2144.3274409540945, \"x\": 614.7183598283775, \"border_width\": 0, \"id\": \"CDH1\"}, {\"node_shape\": \"dot\", \"degree\": 3.0, \"title\": \"MYC\", \"color\": \"rgba(218, 218, 256, 1.0)\", \"size_field\": 4.296603021316498, \"y\": 1532.0853830062451, \"x\": 587.4000073277748, \"border_width\": 0, \"id\": \"MYC\"}, {\"node_shape\": \"dot\", \"degree\": 3.0, \"title\": \"CDKN2B\", \"color\": \"rgba(0, 0, 256, 1.0)\", \"size_field\": 5.094448246493149, \"y\": 1236.1153908277417, \"x\": 733.4347205541379, \"border_width\": 2, \"id\": \"CDKN2B\"}, {\"node_shape\": \"dot\", \"degree\": 3.0, \"title\": \"STK11\", \"color\": \"rgba(0, 0, 256, 1.0)\", \"size_field\": 3.3356012468043725, \"y\": 1072.5553802769862, \"x\": 653.6685656185641, \"border_width\": 0, \"id\": \"STK11\"}, {\"node_shape\": \"dot\", \"degree\": 3.0, \"title\": \"CTSL\", \"color\": \"rgba(0, 0, 256, 1.0)\", \"size_field\": 2.741917344929375, \"y\": 1252.543287368355, \"x\": 1723.7940448382817, \"border_width\": 0, \"id\": \"CTSL\"}, {\"node_shape\": \"dot\", \"degree\": 3.0, \"title\": \"SP1\", \"color\": \"rgba(0, 0, 256, 1.0)\", \"size_field\": 3.0659515064285614, \"y\": 1513.287034399618, \"x\": 1150.9366498748107, \"border_width\": 0, \"id\": \"SP1\"}, {\"node_shape\": \"dot\", \"degree\": 3.0, \"title\": \"TSC22D3\", \"color\": \"rgba(0, 0, 256, 1.0)\", \"size_field\": 4.267217949156755, \"y\": 1873.598168883391, \"x\": 1332.3879895027396, \"border_width\": 0, \"id\": \"TSC22D3\"}, {\"node_shape\": \"dot\", \"degree\": 3.0, \"title\": \"STK4\", \"color\": \"rgba(0, 0, 256, 1.0)\", \"size_field\": 3.4093583007184423, \"y\": 1187.044614388937, \"x\": 1303.995315111817, \"border_width\": 0, \"id\": \"STK4\"}, {\"node_shape\": \"dot\", \"degree\": 3.0, \"title\": \"SNAI1\", \"color\": \"rgba(256, 150, 150, 1.0)\", \"size_field\": 2.7936307191382674, \"y\": 2200.661104315546, \"x\": 791.4817930987881, \"border_width\": 0, \"id\": \"SNAI1\"}, {\"node_shape\": \"dot\", \"degree\": 3.0, \"title\": \"SETD7\", \"color\": \"rgba(54, 54, 256, 1.0)\", \"size_field\": 2.7244314705997117, \"y\": 964.3601511178348, \"x\": 950.2811054962428, \"border_width\": 0, \"id\": \"SETD7\"}, {\"node_shape\": \"dot\", \"degree\": 3.0, \"title\": \"GATA1\", \"color\": \"rgba(0, 0, 256, 1.0)\", \"size_field\": 2.1928568587093373, \"y\": 820.7075250664999, \"x\": 179.1366448076996, \"border_width\": 0, \"id\": \"GATA1\"}, {\"node_shape\": \"dot\", \"degree\": 3.0, \"title\": \"NME1\", \"color\": \"rgba(188, 188, 256, 1.0)\", \"size_field\": 4.267217949156755, \"y\": 745.7845205125532, \"x\": 1031.4188769068771, \"border_width\": 0, \"id\": \"NME1\"}, {\"node_shape\": \"dot\", \"degree\": 3.0, \"title\": \"FOXM1\", \"color\": \"rgba(0, 0, 256, 1.0)\", \"size_field\": 2.045311222710003, \"y\": 935.2604955272483, \"x\": 1143.8496433706493, \"border_width\": 0, \"id\": \"FOXM1\"}, {\"node_shape\": \"dot\", \"degree\": 3.0, \"title\": \"FOXP3\", \"color\": \"rgba(214, 214, 256, 1.0)\", \"size_field\": 2.736054681571222, \"y\": 1068.1787953723288, \"x\": 692.2036363667502, \"border_width\": 0, \"id\": \"FOXP3\"}, {\"node_shape\": \"dot\", \"degree\": 3.0, \"title\": \"TNFSF10\", \"color\": \"rgba(0, 0, 256, 1.0)\", \"size_field\": 3.7909597890574904, \"y\": 1508.8340416455392, \"x\": 1063.6017717705952, \"border_width\": 0, \"id\": \"TNFSF10\"}, {\"node_shape\": \"dot\", \"degree\": 3.0, \"title\": \"CDKN1B\", \"color\": \"rgba(0, 0, 256, 1.0)\", \"size_field\": 4.10127823628901, \"y\": 1667.6773733523883, \"x\": 852.7686130689988, \"border_width\": 0, \"id\": \"CDKN1B\"}, {\"node_shape\": \"dot\", \"degree\": 3.0, \"title\": \"CDKN1A\", \"color\": \"rgba(0, 0, 256, 1.0)\", \"size_field\": 2.1101497435009873, \"y\": 1667.8472044206044, \"x\": 775.3946038900295, \"border_width\": 0, \"id\": \"CDKN1A\"}, {\"node_shape\": \"dot\", \"degree\": 3.0, \"title\": \"KAT2B\", \"color\": \"rgba(0, 0, 256, 1.0)\", \"size_field\": 4.8717462937730005, \"y\": 1404.869731253498, \"x\": 324.617045133828, \"border_width\": 0, \"id\": \"KAT2B\"}, {\"node_shape\": \"dot\", \"degree\": 3.0, \"title\": \"PINK1\", \"color\": \"rgba(0, 0, 256, 1.0)\", \"size_field\": 3.1384972223670244, \"y\": 1064.039394370273, \"x\": 206.50702596258998, \"border_width\": 0, \"id\": \"PINK1\"}, {\"node_shape\": \"dot\", \"degree\": 3.0, \"title\": \"MTDH\", \"color\": \"rgba(0, 0, 256, 1.0)\", \"size_field\": 3.389098288452625, \"y\": 1829.5445803137568, \"x\": 401.0237249734454, \"border_width\": 0, \"id\": \"MTDH\"}, {\"node_shape\": \"dot\", \"degree\": 3.0, \"title\": \"XPO1\", \"color\": \"rgba(0, 0, 256, 1.0)\", \"size_field\": 2.8060919395760795, \"y\": 1111.1562739164576, \"x\": 426.3153530307424, \"border_width\": 0, \"id\": \"XPO1\"}, {\"node_shape\": \"dot\", \"degree\": 3.0, \"title\": \"MST1\", \"color\": \"rgba(0, 0, 256, 1.0)\", \"size_field\": 2.6597124044737077, \"y\": 1289.4034972565432, \"x\": 1398.4904121777665, \"border_width\": 0, \"id\": \"MST1\"}, {\"node_shape\": \"dot\", \"degree\": 3.0, \"title\": \"RRM2B\", \"color\": \"rgba(0, 0, 256, 1.0)\", \"size_field\": 2.4879232305486862, \"y\": 1744.7476494544464, \"x\": 1439.4123293443265, \"border_width\": 0, \"id\": \"RRM2B\"}, {\"node_shape\": \"dot\", \"degree\": 3.0, \"title\": \"NLK\", \"color\": \"rgba(0, 0, 256, 1.0)\", \"size_field\": 2.980829253011726, \"y\": 1280.0285530294107, \"x\": 530.3919697930729, \"border_width\": 0, \"id\": \"NLK\"}, {\"node_shape\": \"dot\", \"degree\": 3.0, \"title\": \"SIRT1\", \"color\": \"rgba(54, 54, 256, 1.0)\", \"size_field\": 2.434173272244908, \"y\": 853.4861957594866, \"x\": 785.9557146999821, \"border_width\": 0, \"id\": \"SIRT1\"}, {\"node_shape\": \"dot\", \"degree\": 3.0, \"title\": \"PRKAB2\", \"color\": \"rgba(0, 0, 256, 1.0)\", \"size_field\": 3.8891518152367044, \"y\": 915.583200837702, \"x\": 386.9878634051217, \"border_width\": 0, \"id\": \"PRKAB2\"}, {\"node_shape\": \"dot\", \"degree\": 3.0, \"title\": \"PRKAB1\", \"color\": \"rgba(102, 102, 256, 1.0)\", \"size_field\": 3.2013096869064523, \"y\": 896.375582858871, \"x\": 622.7029984022912, \"border_width\": 0, \"id\": \"PRKAB1\"}, {\"node_shape\": \"dot\", \"degree\": 3.0, \"title\": \"NUPR1\", \"color\": \"rgba(0, 0, 256, 1.0)\", \"size_field\": 2.2514144332812394, \"y\": 2146.526487542931, \"x\": 387.1290955149723, \"border_width\": 0, \"id\": \"NUPR1\"}, {\"node_shape\": \"dot\", \"degree\": 3.0, \"title\": \"CHUK\", \"color\": \"rgba(8, 8, 256, 1.0)\", \"size_field\": 2.055512709930259, \"y\": 1544.33060149823, \"x\": 894.8480272282629, \"border_width\": 0, \"id\": \"CHUK\"}, {\"node_shape\": \"dot\", \"degree\": 3.0, \"title\": \"VEGFA\", \"color\": \"rgba(182, 182, 256, 1.0)\", \"size_field\": 3.525556428453398, \"y\": 1529.4036741634993, \"x\": 844.4318542300537, \"border_width\": 0, \"id\": \"VEGFA\"}, {\"node_shape\": \"dot\", \"degree\": 3.0, \"title\": \"BNIP3\", \"color\": \"rgba(202, 202, 256, 1.0)\", \"size_field\": 4.042531187659739, \"y\": 1098.0177089660967, \"x\": 1431.8402719440915, \"border_width\": 0, \"id\": \"BNIP3\"}, {\"node_shape\": \"dot\", \"degree\": 3.0, \"title\": \"ESR2\", \"color\": \"rgba(0, 0, 256, 1.0)\", \"size_field\": 2.626049437027451, \"y\": 444.8876800313648, \"x\": 1167.6237411347468, \"border_width\": 0, \"id\": \"ESR2\"}, {\"node_shape\": \"dot\", \"degree\": 3.0, \"title\": \"G6PC\", \"color\": \"rgba(256, 186, 186, 1.0)\", \"size_field\": 2.325591645525001, \"y\": 1978.7370300047432, \"x\": 1135.7839983478138, \"border_width\": 0, \"id\": \"G6PC\"}, {\"node_shape\": \"dot\", \"degree\": 3.0, \"title\": \"FBXO32\", \"color\": \"rgba(0, 0, 256, 1.0)\", \"size_field\": 3.8825598335545513, \"y\": 944.1449485286626, \"x\": 0.0, \"border_width\": 0, \"id\": \"FBXO32\"}, {\"node_shape\": \"dot\", \"degree\": 3.0, \"title\": \"AGO4\", \"color\": \"rgba(0, 0, 256, 1.0)\", \"size_field\": 4.607752479786846, \"y\": 1340.992804286612, \"x\": 211.2099825336248, \"border_width\": 0, \"id\": \"AGO4\"}, {\"node_shape\": \"dot\", \"degree\": 3.0, \"title\": \"AGO1\", \"color\": \"rgba(0, 0, 256, 1.0)\", \"size_field\": 3.6852396258503823, \"y\": 1517.984103904872, \"x\": 1295.8867033968181, \"border_width\": 0, \"id\": \"AGO1\"}, {\"node_shape\": \"dot\", \"degree\": 3.0, \"title\": \"AGO3\", \"color\": \"rgba(62, 62, 256, 1.0)\", \"size_field\": 2.3934871313487576, \"y\": 1917.0394295744977, \"x\": 296.132044642729, \"border_width\": 0, \"id\": \"AGO3\"}, {\"node_shape\": \"dot\", \"degree\": 3.0, \"title\": \"AGO2\", \"color\": \"rgba(0, 0, 256, 1.0)\", \"size_field\": 2.7756596021344095, \"y\": 703.2260943760729, \"x\": 594.0764171611644, \"border_width\": 0, \"id\": \"AGO2\"}, {\"node_shape\": \"dot\", \"degree\": 3.0, \"title\": \"VMP1\", \"color\": \"rgba(0, 0, 256, 1.0)\", \"size_field\": 3.4841277214686537, \"y\": 1422.0252651226674, \"x\": 948.7667059965029, \"border_width\": 0, \"id\": \"VMP1\"}, {\"node_shape\": \"dot\", \"degree\": 3.0, \"title\": \"MAPK14\", \"color\": \"rgba(30, 30, 256, 1.0)\", \"size_field\": 2.3129315067052314, \"y\": 1669.9063427695746, \"x\": 694.8905898192004, \"border_width\": 0, \"id\": \"MAPK14\"}, {\"node_shape\": \"dot\", \"degree\": 3.0, \"title\": \"CCNG2\", \"color\": \"rgba(0, 0, 256, 1.0)\", \"size_field\": 4.852498105468083, \"y\": 1254.2218664705038, \"x\": 1635.1980807020213, \"border_width\": 0, \"id\": \"CCNG2\"}, {\"node_shape\": \"dot\", \"degree\": 3.0, \"title\": \"MAPK10\", \"color\": \"rgba(0, 0, 256, 1.0)\", \"size_field\": 3.3474583373346922, \"y\": 2088.6792233256497, \"x\": 727.9879522483562, \"border_width\": 0, \"id\": \"MAPK10\"}, {\"node_shape\": \"dot\", \"degree\": 3.0, \"title\": \"MAPK11\", \"color\": \"rgba(0, 0, 256, 1.0)\", \"size_field\": 2.6025754823755585, \"y\": 1693.703255329385, \"x\": 998.979987036612, \"border_width\": 0, \"id\": \"MAPK11\"}, {\"node_shape\": \"dot\", \"degree\": 3.0, \"title\": \"MAPK12\", \"color\": \"rgba(0, 0, 256, 1.0)\", \"size_field\": 2.880199911729801, \"y\": 1759.4677867297285, \"x\": 722.2541073317883, \"border_width\": 0, \"id\": \"MAPK12\"}, {\"node_shape\": \"dot\", \"degree\": 3.0, \"title\": \"MAPK13\", \"color\": \"rgba(0, 0, 256, 1.0)\", \"size_field\": 2.9824305343787003, \"y\": 1734.1235570381264, \"x\": 815.5116708052602, \"border_width\": 0, \"id\": \"MAPK13\"}, {\"node_shape\": \"dot\", \"degree\": 3.0, \"title\": \"BCR\", \"color\": \"rgba(0, 0, 256, 1.0)\", \"size_field\": 2.846065286984658, \"y\": 2293.16921987612, \"x\": 961.6663669373909, \"border_width\": 0, \"id\": \"BCR\"}, {\"node_shape\": \"dot\", \"degree\": 3.0, \"title\": \"STAT3\", \"color\": \"rgba(0, 0, 256, 1.0)\", \"size_field\": 3.0067626350382306, \"y\": 1612.9628387753385, \"x\": 614.5663098815887, \"border_width\": 0, \"id\": \"STAT3\"}, {\"node_shape\": \"dot\", \"degree\": 3.0, \"title\": \"MAPK3\", \"color\": \"rgba(0, 0, 256, 1.0)\", \"size_field\": 2.7052197617942144, \"y\": 1302.7615530723683, \"x\": 924.384089430407, \"border_width\": 0, \"id\": \"MAPK3\"}, {\"node_shape\": \"dot\", \"degree\": 3.0, \"title\": \"MAPK1\", \"color\": \"rgba(0, 0, 256, 1.0)\", \"size_field\": 3.267978134301848, \"y\": 1175.1635718414354, \"x\": 912.2845218921702, \"border_width\": 0, \"id\": \"MAPK1\"}, {\"node_shape\": \"dot\", \"degree\": 3.0, \"title\": \"CITED2\", \"color\": \"rgba(0, 0, 256, 1.0)\", \"size_field\": 4.387054249620496, \"y\": 1413.6784712812305, \"x\": 1209.140570104643, \"border_width\": 0, \"id\": \"CITED2\"}, {\"node_shape\": \"dot\", \"degree\": 3.0, \"title\": \"MAPK8\", \"color\": \"rgba(72, 72, 256, 1.0)\", \"size_field\": 2.745915246098601, \"y\": 2124.3565207585016, \"x\": 894.8025059904697, \"border_width\": 0, \"id\": \"MAPK8\"}, {\"node_shape\": \"dot\", \"degree\": 3.0, \"title\": \"MAPK9\", \"color\": \"rgba(80, 80, 256, 1.0)\", \"size_field\": 3.0642108619507775, \"y\": 1270.864715454686, \"x\": 1250.5518003087104, \"border_width\": 0, \"id\": \"MAPK9\"}, {\"node_shape\": \"dot\", \"degree\": 3.0, \"title\": \"RBL2\", \"color\": \"rgba(0, 0, 256, 1.0)\", \"size_field\": 5.18689277901515, \"y\": 1007.5666529025984, \"x\": 1369.4775863821826, \"border_width\": 2, \"id\": \"RBL2\"}, {\"node_shape\": \"dot\", \"degree\": 3.0, \"title\": \"PAWR\", \"color\": \"rgba(0, 0, 256, 1.0)\", \"size_field\": 4.880619466453487, \"y\": 840.4339174841547, \"x\": 216.86530019498244, \"border_width\": 0, \"id\": \"PAWR\"}, {\"node_shape\": \"dot\", \"degree\": 3.0, \"title\": \"EP300\", \"color\": \"rgba(0, 0, 256, 1.0)\", \"size_field\": 2.98886142470899, \"y\": 1466.4141948853744, \"x\": 670.4796388540606, \"border_width\": 0, \"id\": \"EP300\"}, {\"node_shape\": \"dot\", \"degree\": 3.0, \"title\": \"SGK2\", \"color\": \"rgba(92, 92, 256, 1.0)\", \"size_field\": 2.082621028688337, \"y\": 1203.9297588379302, \"x\": 610.8284916278753, \"border_width\": 0, \"id\": \"SGK2\"}, {\"node_shape\": \"dot\", \"degree\": 3.0, \"title\": \"SGK1\", \"color\": \"rgba(256, 136, 136, 1.0)\", \"size_field\": 4.3166840173735475, \"y\": 1502.9414218091094, \"x\": 548.9990063008543, \"border_width\": 0, \"id\": \"SGK1\"}, {\"node_shape\": \"dot\", \"degree\": 3.0, \"title\": \"IRS2\", \"color\": \"rgba(0, 0, 256, 1.0)\", \"size_field\": 2.567043303764219, \"y\": 1695.152070945687, \"x\": 521.8244543235469, \"border_width\": 0, \"id\": \"IRS2\"}, {\"node_shape\": \"dot\", \"degree\": 3.0, \"title\": \"LEP\", \"color\": \"rgba(256, 2, 2, 1.0)\", \"size_field\": 2.7381445464906813, \"y\": 1315.911729884548, \"x\": 781.5600549553616, \"border_width\": 0, \"id\": \"LEP\"}, {\"node_shape\": \"dot\", \"degree\": 3.0, \"title\": \"PRKACG\", \"color\": \"rgba(26, 26, 256, 1.0)\", \"size_field\": 2.04468360762664, \"y\": 660.8294277055313, \"x\": 854.7773636129724, \"border_width\": 0, \"id\": \"PRKACG\"}, {\"node_shape\": \"dot\", \"degree\": 3.0, \"title\": \"PRKACA\", \"color\": \"rgba(0, 0, 256, 1.0)\", \"size_field\": 2.6416938989710297, \"y\": 1173.9671123038427, \"x\": 643.1054156714289, \"border_width\": 0, \"id\": \"PRKACA\"}, {\"node_shape\": \"dot\", \"degree\": 3.0, \"title\": \"PRKACB\", \"color\": \"rgba(0, 0, 256, 1.0)\", \"size_field\": 3.6455833590704536, \"y\": 680.7223575057762, \"x\": 566.7703835034524, \"border_width\": 0, \"id\": \"PRKACB\"}, {\"node_shape\": \"dot\", \"degree\": 3.0, \"title\": \"SPHK1\", \"color\": \"rgba(182, 182, 256, 1.0)\", \"size_field\": 3.2616019171625723, \"y\": 435.60041312350035, \"x\": 152.7913688892498, \"border_width\": 0, \"id\": \"SPHK1\"}, {\"node_shape\": \"dot\", \"degree\": 3.0, \"title\": \"LCN2\", \"color\": \"rgba(0, 0, 256, 1.0)\", \"size_field\": 3.4692412819408167, \"y\": 2037.9780210317872, \"x\": 1052.9896656172139, \"border_width\": 0, \"id\": \"LCN2\"}, {\"node_shape\": \"dot\", \"degree\": 3.0, \"title\": \"BIRC5\", \"color\": \"rgba(110, 110, 256, 1.0)\", \"size_field\": 3.5228016057745535, \"y\": 1490.6176699782366, \"x\": 721.4602837204262, \"border_width\": 0, \"id\": \"BIRC5\"}, {\"node_shape\": \"dot\", \"degree\": 3.0, \"title\": \"PRDX3\", \"color\": \"rgba(86, 86, 256, 1.0)\", \"size_field\": 3.0820502003691317, \"y\": 1982.278221960332, \"x\": 557.653848803117, \"border_width\": 0, \"id\": \"PRDX3\"}, {\"node_shape\": \"dot\", \"degree\": 3.0, \"title\": \"PRKAA2\", \"color\": \"rgba(0, 0, 256, 1.0)\", \"size_field\": 2.6294214896794004, \"y\": 1061.2851562082753, \"x\": 1226.7809654910593, \"border_width\": 0, \"id\": \"PRKAA2\"}, {\"node_shape\": \"dot\", \"degree\": 3.0, \"title\": \"PRKAA1\", \"color\": \"rgba(0, 0, 256, 1.0)\", \"size_field\": 4.042531187659739, \"y\": 1003.2460247931839, \"x\": 438.82365742356114, \"border_width\": 0, \"id\": \"PRKAA1\"}, {\"node_shape\": \"dot\", \"degree\": 3.0, \"title\": \"CAT\", \"color\": \"rgba(0, 0, 256, 1.0)\", \"size_field\": 2.515000995176471, \"y\": 1244.0425357762476, \"x\": 1458.6483910969569, \"border_width\": 0, \"id\": \"CAT\"}, {\"node_shape\": \"dot\", \"degree\": 3.0, \"title\": \"FOXO3\", \"color\": \"yellow\", \"size_field\": 5.18689277901515, \"y\": 151.73382829669384, \"x\": 964.4528568044699, \"border_width\": 0, \"id\": \"FOXO3\"}, {\"node_shape\": \"dot\", \"degree\": 3.0, \"title\": \"MYOCD\", \"color\": \"rgba(256, 218, 218, 1.0)\", \"size_field\": 3.1273204528048533, \"y\": 1073.2882139713595, \"x\": 1698.7276610748565, \"border_width\": 0, \"id\": \"MYOCD\"}, {\"node_shape\": \"dot\", \"degree\": 3.0, \"title\": \"FOXO4\", \"color\": \"rgba(108, 108, 256, 1.0)\", \"size_field\": 2.2310497228853072, \"y\": 1780.4556803849623, \"x\": 787.337127355776, \"border_width\": 0, \"id\": \"FOXO4\"}, {\"node_shape\": \"dot\", \"degree\": 3.0, \"title\": \"SOD2\", \"color\": \"rgba(0, 0, 256, 1.0)\", \"size_field\": 2.098715972939158, \"y\": 1615.9542184413474, \"x\": 462.0780268365531, \"border_width\": 0, \"id\": \"SOD2\"}, {\"node_shape\": \"dot\", \"degree\": 3.0, \"title\": \"BBC3\", \"color\": \"rgba(0, 0, 256, 1.0)\", \"size_field\": 3.2063800890661485, \"y\": 2057.042181800419, \"x\": 1246.2543895972046, \"border_width\": 0, \"id\": \"BBC3\"}, {\"node_shape\": \"dot\", \"degree\": 3.0, \"title\": \"YWHAZ\", \"color\": \"rgba(76, 76, 256, 1.0)\", \"size_field\": 3.0305798782762827, \"y\": 746.1627986648245, \"x\": 757.8956620075598, \"border_width\": 0, \"id\": \"YWHAZ\"}, {\"node_shape\": \"dot\", \"degree\": 3.0, \"title\": \"GABARAPL1\", \"color\": \"rgba(0, 0, 256, 1.0)\", \"size_field\": 3.5269366909223567, \"y\": 234.285753748183, \"x\": 285.9311735402964, \"border_width\": 0, \"id\": \"GABARAPL1\"}, {\"node_shape\": \"dot\", \"degree\": 3.0, \"title\": \"YWHAQ\", \"color\": \"rgba(0, 0, 256, 1.0)\", \"size_field\": 2.9063404010209872, \"y\": 1033.7013315709903, \"x\": 1062.4284696255804, \"border_width\": 0, \"id\": \"YWHAQ\"}, {\"node_shape\": \"dot\", \"degree\": 3.0, \"title\": \"ABCB1\", \"color\": \"rgba(0, 0, 256, 1.0)\", \"size_field\": 4.3258537199334, \"y\": 1044.0804915421631, \"x\": 555.9437222205585, \"border_width\": 0, \"id\": \"ABCB1\"}, {\"node_shape\": \"dot\", \"degree\": 3.0, \"title\": \"YWHAB\", \"color\": \"rgba(174, 174, 256, 1.0)\", \"size_field\": 3.9365540541312884, \"y\": 808.1016040494568, \"x\": 888.1875694484742, \"border_width\": 0, \"id\": \"YWHAB\"}, {\"node_shape\": \"dot\", \"degree\": 3.0, \"title\": \"YWHAG\", \"color\": \"rgba(34, 34, 256, 1.0)\", \"size_field\": 2.461242123577163, \"y\": 980.6121768405501, \"x\": 760.075651777294, \"border_width\": 0, \"id\": \"YWHAG\"}, {\"node_shape\": \"dot\", \"degree\": 3.0, \"title\": \"YWHAE\", \"color\": \"rgba(0, 0, 256, 1.0)\", \"size_field\": 2.1519863569978814, \"y\": 1064.414407618896, \"x\": 929.676259005237, \"border_width\": 0, \"id\": \"YWHAE\"}, {\"node_shape\": \"dot\", \"degree\": 3.0, \"title\": \"DNMT3B\", \"color\": \"rgba(0, 0, 256, 1.0)\", \"size_field\": 3.29901635301283, \"y\": 0.0, \"x\": 1472.295944202915, \"border_width\": 0, \"id\": \"DNMT3B\"}, {\"node_shape\": \"dot\", \"degree\": 3.0, \"title\": \"NOS3\", \"color\": \"rgba(0, 0, 256, 1.0)\", \"size_field\": 3.7355681895783124, \"y\": 1732.0386335056346, \"x\": 925.9338768217702, \"border_width\": 0, \"id\": \"NOS3\"}, {\"node_shape\": \"dot\", \"degree\": 3.0, \"title\": \"CYR61\", \"color\": \"rgba(0, 0, 256, 1.0)\", \"size_field\": 2.242198957849369, \"y\": 1846.653250709625, \"x\": 451.6024104412899, \"border_width\": 0, \"id\": \"CYR61\"}, {\"node_shape\": \"dot\", \"degree\": 3.0, \"title\": \"AR\", \"color\": \"rgba(0, 0, 256, 1.0)\", \"size_field\": 4.364460496712133, \"y\": 1122.0794602888056, \"x\": 804.2292397152137, \"border_width\": 0, \"id\": \"AR\"}, {\"node_shape\": \"dot\", \"degree\": 3.0, \"title\": \"BCL2L11\", \"color\": \"rgba(230, 230, 256, 1.0)\", \"size_field\": 3.8269722249837996, \"y\": 1446.655788712751, \"x\": 900.1785205270858, \"border_width\": 0, \"id\": \"BCL2L11\"}, {\"node_shape\": \"dot\", \"degree\": 3.0, \"title\": \"CCNB1\", \"color\": \"rgba(72, 72, 256, 1.0)\", \"size_field\": 3.0026659476209008, \"y\": 1087.1650431809535, \"x\": 877.6056235547643, \"border_width\": 0, \"id\": \"CCNB1\"}, {\"node_shape\": \"dot\", \"degree\": 3.0, \"title\": \"CASP8\", \"color\": \"rgba(0, 0, 256, 1.0)\", \"size_field\": 2.964955903855436, \"y\": 1498.0100004789633, \"x\": 1107.7917274245362, \"border_width\": 0, \"id\": \"CASP8\"}, {\"node_shape\": \"dot\", \"degree\": 3.0, \"title\": \"PDK4\", \"color\": \"rgba(0, 0, 256, 1.0)\", \"size_field\": 4.3740810946991155, \"y\": 1102.1024527843304, \"x\": 12.736916241239157, \"border_width\": 0, \"id\": \"PDK4\"}, {\"node_shape\": \"dot\", \"degree\": 3.0, \"title\": \"FASLG\", \"color\": \"rgba(0, 0, 256, 1.0)\", \"size_field\": 2.516173230092586, \"y\": 1448.596212646142, \"x\": 782.8147362302914, \"border_width\": 0, \"id\": \"FASLG\"}, {\"node_shape\": \"dot\", \"degree\": 3.0, \"title\": \"BCL6\", \"color\": \"rgba(0, 0, 256, 1.0)\", \"size_field\": 4.207274913189721, \"y\": 2028.6538845867333, \"x\": 491.19874777668014, \"border_width\": 0, \"id\": \"BCL6\"}], [{\"color\": \"red\", \"source\": 5, \"target\": 33}, {\"color\": \"red\", \"source\": 5, \"target\": 35}, {\"color\": \"red\", \"source\": 5, \"target\": 47}, {\"color\": \"red\", \"source\": 5, \"target\": 106}, {\"color\": \"red\", \"source\": 5, \"target\": 6}, {\"color\": \"red\", \"source\": 5, \"target\": 6}, {\"color\": \"red\", \"source\": 5, \"target\": 7}, {\"color\": \"red\", \"source\": 5, \"target\": 8}, {\"color\": \"red\", \"source\": 5, \"target\": 108}, {\"color\": \"blue\", \"source\": 5, \"target\": 76}, {\"color\": \"blue\", \"source\": 5, \"target\": 76}, {\"color\": \"blue\", \"source\": 5, \"target\": 90}, {\"color\": \"blue\", \"source\": 5, \"target\": 90}, {\"color\": \"red\", \"source\": 6, \"target\": 57}, {\"color\": \"blue\", \"source\": 6, \"target\": 82}, {\"color\": \"blue\", \"source\": 6, \"target\": 34}, {\"color\": \"blue\", \"source\": 6, \"target\": 34}, {\"color\": \"blue\", \"source\": 6, \"target\": 34}, {\"color\": \"blue\", \"source\": 6, \"target\": 35}, {\"color\": \"blue\", \"source\": 6, \"target\": 35}, {\"color\": \"blue\", \"source\": 6, \"target\": 35}, {\"color\": \"blue\", \"source\": 6, \"target\": 90}, {\"color\": \"blue\", \"source\": 6, \"target\": 90}, {\"color\": \"red\", \"source\": 6, \"target\": 87}, {\"color\": \"blue\", \"source\": 6, \"target\": 58}, {\"color\": \"blue\", \"source\": 6, \"target\": 58}, {\"color\": \"blue\", \"source\": 6, \"target\": 7}, {\"color\": \"blue\", \"source\": 6, \"target\": 7}, {\"color\": \"blue\", \"source\": 6, \"target\": 7}, {\"color\": \"blue\", \"source\": 6, \"target\": 7}, {\"color\": \"blue\", \"source\": 6, \"target\": 8}, {\"color\": \"blue\", \"source\": 6, \"target\": 8}, {\"color\": \"blue\", \"source\": 6, \"target\": 8}, {\"color\": \"blue\", \"source\": 6, \"target\": 31}, {\"color\": \"blue\", \"source\": 6, \"target\": 61}, {\"color\": \"blue\", \"source\": 6, \"target\": 61}, {\"color\": \"blue\", \"source\": 6, \"target\": 62}, {\"color\": \"blue\", \"source\": 6, \"target\": 62}, {\"color\": \"blue\", \"source\": 6, \"target\": 63}, {\"color\": \"blue\", \"source\": 6, \"target\": 63}, {\"color\": \"red\", \"source\": 6, \"target\": 93}, {\"color\": \"red\", \"source\": 6, \"target\": 73}, {\"color\": \"blue\", \"source\": 6, \"target\": 65}, {\"color\": \"blue\", \"source\": 6, \"target\": 15}, {\"color\": \"blue\", \"source\": 6, \"target\": 15}, {\"color\": \"red\", \"source\": 6, \"target\": 95}, {\"color\": \"red\", \"source\": 6, \"target\": 40}, {\"color\": \"red\", \"source\": 6, \"target\": 16}, {\"color\": \"blue\", \"source\": 6, \"target\": 19}, {\"color\": \"red\", \"source\": 6, \"target\": 20}, {\"color\": \"red\", \"source\": 6, \"target\": 20}, {\"color\": \"red\", \"source\": 6, \"target\": 83}, {\"color\": \"red\", \"source\": 6, \"target\": 99}, {\"color\": \"red\", \"source\": 6, \"target\": 101}, {\"color\": \"red\", \"source\": 6, \"target\": 101}, {\"color\": \"red\", \"source\": 6, \"target\": 91}, {\"color\": \"red\", \"source\": 6, \"target\": 47}, {\"color\": \"red\", \"source\": 6, \"target\": 47}, {\"color\": \"red\", \"source\": 6, \"target\": 97}, {\"color\": \"red\", \"source\": 6, \"target\": 103}, {\"color\": \"blue\", \"source\": 6, \"target\": 108}, {\"color\": \"blue\", \"source\": 6, \"target\": 104}, {\"color\": \"red\", \"source\": 6, \"target\": 27}, {\"color\": \"blue\", \"source\": 6, \"target\": 49}, {\"color\": \"red\", \"source\": 6, \"target\": 5}, {\"color\": \"red\", \"source\": 6, \"target\": 5}, {\"color\": \"blue\", \"source\": 6, \"target\": 105}, {\"color\": \"red\", \"source\": 6, \"target\": 98}, {\"color\": \"red\", \"source\": 6, \"target\": 77}, {\"color\": \"red\", \"source\": 6, \"target\": 48}, {\"color\": \"blue\", \"source\": 7, \"target\": 58}, {\"color\": \"blue\", \"source\": 7, \"target\": 58}, {\"color\": \"red\", \"source\": 7, \"target\": 57}, {\"color\": \"red\", \"source\": 7, \"target\": 101}, {\"color\": \"blue\", \"source\": 7, \"target\": 34}, {\"color\": \"blue\", \"source\": 7, \"target\": 34}, {\"color\": \"blue\", \"source\": 7, \"target\": 35}, {\"color\": \"blue\", \"source\": 7, \"target\": 35}, {\"color\": \"blue\", \"source\": 7, \"target\": 90}, {\"color\": \"blue\", \"source\": 7, \"target\": 90}, {\"color\": \"red\", \"source\": 7, \"target\": 47}, {\"color\": \"red\", \"source\": 7, \"target\": 5}, {\"color\": \"blue\", \"source\": 7, \"target\": 6}, {\"color\": \"blue\", \"source\": 7, \"target\": 6}, {\"color\": \"blue\", \"source\": 7, \"target\": 6}, {\"color\": \"blue\", \"source\": 7, \"target\": 6}, {\"color\": \"blue\", \"source\": 7, \"target\": 8}, {\"color\": \"blue\", \"source\": 7, \"target\": 8}, {\"color\": \"blue\", \"source\": 7, \"target\": 8}, {\"color\": \"blue\", \"source\": 7, \"target\": 61}, {\"color\": \"blue\", \"source\": 7, \"target\": 61}, {\"color\": \"blue\", \"source\": 7, \"target\": 62}, {\"color\": \"blue\", \"source\": 7, \"target\": 62}, {\"color\": \"blue\", \"source\": 7, \"target\": 63}, {\"color\": \"blue\", \"source\": 7, \"target\": 63}, {\"color\": \"red\", \"source\": 7, \"target\": 27}, {\"color\": \"blue\", \"source\": 8, \"target\": 58}, {\"color\": \"blue\", \"source\": 8, \"target\": 58}, {\"color\": \"red\", \"source\": 8, \"target\": 101}, {\"color\": \"blue\", \"source\": 8, \"target\": 104}, {\"color\": \"blue\", \"source\": 8, \"target\": 34}, {\"color\": \"blue\", \"source\": 8, \"target\": 34}, {\"color\": \"blue\", \"source\": 8, \"target\": 35}, {\"color\": \"blue\", \"source\": 8, \"target\": 35}, {\"color\": \"blue\", \"source\": 8, \"target\": 90}, {\"color\": \"blue\", \"source\": 8, \"target\": 90}, {\"color\": \"red\", \"source\": 8, \"target\": 47}, {\"color\": \"red\", \"source\": 8, \"target\": 5}, {\"color\": \"blue\", \"source\": 8, \"target\": 6}, {\"color\": \"blue\", \"source\": 8, \"target\": 6}, {\"color\": \"blue\", \"source\": 8, \"target\": 6}, {\"color\": \"blue\", \"source\": 8, \"target\": 7}, {\"color\": \"blue\", \"source\": 8, \"target\": 7}, {\"color\": \"blue\", \"source\": 8, \"target\": 7}, {\"color\": \"red\", \"source\": 8, \"target\": 48}, {\"color\": \"blue\", \"source\": 8, \"target\": 61}, {\"color\": \"blue\", \"source\": 8, \"target\": 61}, {\"color\": \"blue\", \"source\": 8, \"target\": 62}, {\"color\": \"blue\", \"source\": 8, \"target\": 62}, {\"color\": \"blue\", \"source\": 8, \"target\": 63}, {\"color\": \"blue\", \"source\": 8, \"target\": 63}, {\"color\": \"blue\", \"source\": 10, \"target\": 20}, {\"color\": \"blue\", \"source\": 10, \"target\": 42}, {\"color\": \"blue\", \"source\": 11, \"target\": 42}, {\"color\": \"blue\", \"source\": 11, \"target\": 20}, {\"color\": \"red\", \"source\": 20, \"target\": 32}, {\"color\": \"blue\", \"source\": 20, \"target\": 57}, {\"color\": \"blue\", \"source\": 20, \"target\": 57}, {\"color\": \"blue\", \"source\": 20, \"target\": 0}, {\"color\": \"red\", \"source\": 20, \"target\": 62}, {\"color\": \"red\", \"source\": 20, \"target\": 1}, {\"color\": \"blue\", \"source\": 20, \"target\": 34}, {\"color\": \"blue\", \"source\": 20, \"target\": 34}, {\"color\": \"blue\", \"source\": 20, \"target\": 35}, {\"color\": \"blue\", \"source\": 20, \"target\": 35}, {\"color\": \"blue\", \"source\": 20, \"target\": 35}, {\"color\": \"blue\", \"source\": 20, \"target\": 22}, {\"color\": \"red\", \"source\": 20, \"target\": 84}, {\"color\": \"red\", \"source\": 20, \"target\": 36}, {\"color\": \"red\", \"source\": 20, \"target\": 6}, {\"color\": \"red\", \"source\": 20, \"target\": 6}, {\"color\": \"blue\", \"source\": 20, \"target\": 9}, {\"color\": \"blue\", \"source\": 20, \"target\": 10}, {\"color\": \"blue\", \"source\": 20, \"target\": 11}, {\"color\": \"red\", \"source\": 20, \"target\": 63}, {\"color\": \"red\", \"source\": 20, \"target\": 12}, {\"color\": \"red\", \"source\": 20, \"target\": 38}, {\"color\": \"red\", \"source\": 20, \"target\": 27}, {\"color\": \"red\", \"source\": 20, \"target\": 65}, {\"color\": \"blue\", \"source\": 20, \"target\": 15}, {\"color\": \"blue\", \"source\": 20, \"target\": 15}, {\"color\": \"red\", \"source\": 20, \"target\": 66}, {\"color\": \"red\", \"source\": 20, \"target\": 67}, {\"color\": \"red\", \"source\": 20, \"target\": 67}, {\"color\": \"red\", \"source\": 20, \"target\": 61}, {\"color\": \"blue\", \"source\": 20, \"target\": 19}, {\"color\": \"red\", \"source\": 20, \"target\": 83}, {\"color\": \"blue\", \"source\": 20, \"target\": 21}, {\"color\": \"blue\", \"source\": 20, \"target\": 21}, {\"color\": \"blue\", \"source\": 20, \"target\": 21}, {\"color\": \"blue\", \"source\": 20, \"target\": 21}, {\"color\": \"red\", \"source\": 20, \"target\": 43}, {\"color\": \"blue\", \"source\": 20, \"target\": 24}, {\"color\": \"red\", \"source\": 20, \"target\": 47}, {\"color\": \"red\", \"source\": 20, \"target\": 103}, {\"color\": \"red\", \"source\": 20, \"target\": 103}, {\"color\": \"blue\", \"source\": 20, \"target\": 48}, {\"color\": \"blue\", \"source\": 20, \"target\": 104}, {\"color\": \"red\", \"source\": 20, \"target\": 73}, {\"color\": \"blue\", \"source\": 20, \"target\": 29}, {\"color\": \"red\", \"source\": 20, \"target\": 58}, {\"color\": \"red\", \"source\": 20, \"target\": 105}, {\"color\": \"red\", \"source\": 20, \"target\": 30}, {\"color\": \"blue\", \"source\": 20, \"target\": 53}, {\"color\": \"red\", \"source\": 20, \"target\": 109}, {\"color\": \"blue\", \"source\": 20, \"target\": 54}, {\"color\": \"blue\", \"source\": 20, \"target\": 55}, {\"color\": \"blue\", \"source\": 20, \"target\": 56}, {\"color\": \"blue\", \"source\": 24, \"target\": 57}, {\"color\": \"blue\", \"source\": 24, \"target\": 33}, {\"color\": \"red\", \"source\": 24, \"target\": 12}, {\"color\": \"red\", \"source\": 24, \"target\": 35}, {\"color\": \"red\", \"source\": 24, \"target\": 58}, {\"color\": \"red\", \"source\": 24, \"target\": 60}, {\"color\": \"red\", \"source\": 24, \"target\": 61}, {\"color\": \"red\", \"source\": 24, \"target\": 62}, {\"color\": \"red\", \"source\": 24, \"target\": 63}, {\"color\": \"red\", \"source\": 24, \"target\": 92}, {\"color\": \"red\", \"source\": 24, \"target\": 96}, {\"color\": \"red\", \"source\": 24, \"target\": 67}, {\"color\": \"blue\", \"source\": 24, \"target\": 20}, {\"color\": \"red\", \"source\": 24, \"target\": 70}, {\"color\": \"red\", \"source\": 24, \"target\": 83}, {\"color\": \"red\", \"source\": 24, \"target\": 21}, {\"color\": \"red\", \"source\": 24, \"target\": 103}, {\"color\": \"red\", \"source\": 24, \"target\": 48}, {\"color\": \"blue\", \"source\": 24, \"target\": 69}, {\"color\": \"blue\", \"source\": 24, \"target\": 105}, {\"color\": \"red\", \"source\": 24, \"target\": 77}, {\"color\": \"blue\", \"source\": 25, \"target\": 104}, {\"color\": \"blue\", \"source\": 27, \"target\": 65}, {\"color\": \"red\", \"source\": 27, \"target\": 6}, {\"color\": \"red\", \"source\": 27, \"target\": 7}, {\"color\": \"red\", \"source\": 27, \"target\": 48}, {\"color\": \"blue\", \"source\": 27, \"target\": 19}, {\"color\": \"blue\", \"source\": 27, \"target\": 19}, {\"color\": \"blue\", \"source\": 27, \"target\": 19}, {\"color\": \"red\", \"source\": 27, \"target\": 20}, {\"color\": \"red\", \"source\": 27, \"target\": 69}, {\"color\": \"blue\", \"source\": 27, \"target\": 13}, {\"color\": \"blue\", \"source\": 29, \"target\": 19}, {\"color\": \"blue\", \"source\": 29, \"target\": 20}, {\"color\": \"red\", \"source\": 31, \"target\": 43}, {\"color\": \"red\", \"source\": 31, \"target\": 2}, {\"color\": \"blue\", \"source\": 31, \"target\": 35}, {\"color\": \"red\", \"source\": 31, \"target\": 105}, {\"color\": \"blue\", \"source\": 31, \"target\": 6}, {\"color\": \"blue\", \"source\": 31, \"target\": 67}, {\"color\": \"blue\", \"source\": 31, \"target\": 48}, {\"color\": \"red\", \"source\": 31, \"target\": 19}, {\"color\": \"blue\", \"source\": 31, \"target\": 69}, {\"color\": \"red\", \"source\": 31, \"target\": 83}, {\"color\": \"blue\", \"source\": 32, \"target\": 43}, {\"color\": \"red\", \"source\": 32, \"target\": 65}, {\"color\": \"red\", \"source\": 32, \"target\": 35}, {\"color\": \"blue\", \"source\": 32, \"target\": 108}, {\"color\": \"red\", \"source\": 32, \"target\": 20}, {\"color\": \"red\", \"source\": 36, \"target\": 58}, {\"color\": \"red\", \"source\": 36, \"target\": 96}, {\"color\": \"red\", \"source\": 36, \"target\": 103}, {\"color\": \"red\", \"source\": 36, \"target\": 20}, {\"color\": \"red\", \"source\": 39, \"target\": 93}, {\"color\": \"red\", \"source\": 39, \"target\": 105}, {\"color\": \"red\", \"source\": 39, \"target\": 2}, {\"color\": \"red\", \"source\": 39, \"target\": 2}, {\"color\": \"red\", \"source\": 39, \"target\": 83}, {\"color\": \"red\", \"source\": 39, \"target\": 83}, {\"color\": \"red\", \"source\": 39, \"target\": 95}, {\"color\": \"red\", \"source\": 39, \"target\": 16}, {\"color\": \"red\", \"source\": 39, \"target\": 90}, {\"color\": \"red\", \"source\": 39, \"target\": 97}, {\"color\": \"red\", \"source\": 39, \"target\": 98}, {\"color\": \"red\", \"source\": 39, \"target\": 99}, {\"color\": \"blue\", \"source\": 43, \"target\": 32}, {\"color\": \"red\", \"source\": 43, \"target\": 101}, {\"color\": \"red\", \"source\": 43, \"target\": 101}, {\"color\": \"blue\", \"source\": 43, \"target\": 65}, {\"color\": \"red\", \"source\": 43, \"target\": 91}, {\"color\": \"red\", \"source\": 43, \"target\": 31}, {\"color\": \"red\", \"source\": 43, \"target\": 15}, {\"color\": \"blue\", \"source\": 43, \"target\": 35}, {\"color\": \"red\", \"source\": 43, \"target\": 86}, {\"color\": \"blue\", \"source\": 43, \"target\": 104}, {\"color\": \"blue\", \"source\": 43, \"target\": 104}, {\"color\": \"red\", \"source\": 43, \"target\": 103}, {\"color\": \"blue\", \"source\": 43, \"target\": 108}, {\"color\": \"red\", \"source\": 43, \"target\": 34}, {\"color\": \"blue\", \"source\": 43, \"target\": 48}, {\"color\": \"red\", \"source\": 43, \"target\": 20}, {\"color\": \"blue\", \"source\": 43, \"target\": 38}, {\"color\": \"red\", \"source\": 43, \"target\": 13}, {\"color\": \"red\", \"source\": 43, \"target\": 13}, {\"color\": \"red\", \"source\": 50, \"target\": 57}, {\"color\": \"red\", \"source\": 50, \"target\": 101}, {\"color\": \"red\", \"source\": 50, \"target\": 66}, {\"color\": \"red\", \"source\": 50, \"target\": 67}, {\"color\": \"blue\", \"source\": 50, \"target\": 48}, {\"color\": \"red\", \"source\": 50, \"target\": 61}, {\"color\": \"red\", \"source\": 50, \"target\": 103}, {\"color\": \"red\", \"source\": 65, \"target\": 32}, {\"color\": \"blue\", \"source\": 65, \"target\": 43}, {\"color\": \"red\", \"source\": 65, \"target\": 73}, {\"color\": \"red\", \"source\": 65, \"target\": 73}, {\"color\": \"red\", \"source\": 65, \"target\": 66}, {\"color\": \"red\", \"source\": 65, \"target\": 66}, {\"color\": \"blue\", \"source\": 65, \"target\": 35}, {\"color\": \"red\", \"source\": 65, \"target\": 90}, {\"color\": \"red\", \"source\": 65, \"target\": 57}, {\"color\": \"red\", \"source\": 65, \"target\": 57}, {\"color\": \"red\", \"source\": 65, \"target\": 58}, {\"color\": \"blue\", \"source\": 65, \"target\": 6}, {\"color\": \"red\", \"source\": 65, \"target\": 67}, {\"color\": \"red\", \"source\": 65, \"target\": 67}, {\"color\": \"blue\", \"source\": 65, \"target\": 48}, {\"color\": \"blue\", \"source\": 65, \"target\": 48}, {\"color\": \"red\", \"source\": 65, \"target\": 77}, {\"color\": \"blue\", \"source\": 65, \"target\": 19}, {\"color\": \"red\", \"source\": 65, \"target\": 20}, {\"color\": \"blue\", \"source\": 65, \"target\": 27}, {\"color\": \"blue\", \"source\": 65, \"target\": 83}, {\"color\": \"blue\", \"source\": 65, \"target\": 109}, {\"color\": \"blue\", \"source\": 68, \"target\": 73}, {\"color\": \"red\", \"source\": 71, \"target\": 90}, {\"color\": \"red\", \"source\": 73, \"target\": 90}, {\"color\": \"red\", \"source\": 73, \"target\": 101}, {\"color\": \"red\", \"source\": 73, \"target\": 65}, {\"color\": \"red\", \"source\": 73, \"target\": 65}, {\"color\": \"red\", \"source\": 73, \"target\": 75}, {\"color\": \"red\", \"source\": 73, \"target\": 15}, {\"color\": \"red\", \"source\": 73, \"target\": 35}, {\"color\": \"red\", \"source\": 73, \"target\": 80}, {\"color\": \"red\", \"source\": 73, \"target\": 96}, {\"color\": \"red\", \"source\": 73, \"target\": 58}, {\"color\": \"red\", \"source\": 73, \"target\": 6}, {\"color\": \"red\", \"source\": 73, \"target\": 78}, {\"color\": \"red\", \"source\": 73, \"target\": 103}, {\"color\": \"red\", \"source\": 73, \"target\": 48}, {\"color\": \"blue\", \"source\": 73, \"target\": 77}, {\"color\": \"red\", \"source\": 73, \"target\": 19}, {\"color\": \"blue\", \"source\": 73, \"target\": 68}, {\"color\": \"red\", \"source\": 73, \"target\": 20}, {\"color\": \"red\", \"source\": 73, \"target\": 13}, {\"color\": \"red\", \"source\": 73, \"target\": 79}, {\"color\": \"red\", \"source\": 88, \"target\": 0}, {\"color\": \"blue\", \"source\": 88, \"target\": 1}, {\"color\": \"red\", \"source\": 88, \"target\": 2}, {\"color\": \"red\", \"source\": 88, \"target\": 3}, {\"color\": \"red\", \"source\": 88, \"target\": 4}, {\"color\": \"blue\", \"source\": 88, \"target\": 5}, {\"color\": \"blue\", \"source\": 88, \"target\": 5}, {\"color\": \"blue\", \"source\": 88, \"target\": 6}, {\"color\": \"blue\", \"source\": 88, \"target\": 6}, {\"color\": \"blue\", \"source\": 88, \"target\": 6}, {\"color\": \"blue\", \"source\": 88, \"target\": 7}, {\"color\": \"blue\", \"source\": 88, \"target\": 7}, {\"color\": \"blue\", \"source\": 88, \"target\": 8}, {\"color\": \"blue\", \"source\": 88, \"target\": 8}, {\"color\": \"red\", \"source\": 88, \"target\": 9}, {\"color\": \"red\", \"source\": 88, \"target\": 10}, {\"color\": \"red\", \"source\": 88, \"target\": 11}, {\"color\": \"red\", \"source\": 88, \"target\": 12}, {\"color\": \"red\", \"source\": 88, \"target\": 13}, {\"color\": \"red\", \"source\": 88, \"target\": 14}, {\"color\": \"red\", \"source\": 88, \"target\": 15}, {\"color\": \"blue\", \"source\": 88, \"target\": 16}, {\"color\": \"blue\", \"source\": 88, \"target\": 16}, {\"color\": \"red\", \"source\": 88, \"target\": 17}, {\"color\": \"red\", \"source\": 88, \"target\": 18}, {\"color\": \"red\", \"source\": 88, \"target\": 19}, {\"color\": \"red\", \"source\": 88, \"target\": 20}, {\"color\": \"red\", \"source\": 88, \"target\": 21}, {\"color\": \"red\", \"source\": 88, \"target\": 22}, {\"color\": \"red\", \"source\": 88, \"target\": 22}, {\"color\": \"red\", \"source\": 88, \"target\": 23}, {\"color\": \"blue\", \"source\": 88, \"target\": 24}, {\"color\": \"blue\", \"source\": 88, \"target\": 25}, {\"color\": \"red\", \"source\": 88, \"target\": 26}, {\"color\": \"blue\", \"source\": 88, \"target\": 27}, {\"color\": \"blue\", \"source\": 88, \"target\": 28}, {\"color\": \"blue\", \"source\": 88, \"target\": 28}, {\"color\": \"red\", \"source\": 88, \"target\": 29}, {\"color\": \"blue\", \"source\": 88, \"target\": 30}, {\"color\": \"blue\", \"source\": 88, \"target\": 31}, {\"color\": \"red\", \"source\": 88, \"target\": 32}, {\"color\": \"red\", \"source\": 88, \"target\": 33}, {\"color\": \"red\", \"source\": 88, \"target\": 34}, {\"color\": \"blue\", \"source\": 88, \"target\": 35}, {\"color\": \"red\", \"source\": 88, \"target\": 36}, {\"color\": \"red\", \"source\": 88, \"target\": 37}, {\"color\": \"blue\", \"source\": 88, \"target\": 38}, {\"color\": \"red\", \"source\": 88, \"target\": 39}, {\"color\": \"red\", \"source\": 88, \"target\": 40}, {\"color\": \"red\", \"source\": 88, \"target\": 41}, {\"color\": \"blue\", \"source\": 88, \"target\": 42}, {\"color\": \"blue\", \"source\": 88, \"target\": 42}, {\"color\": \"red\", \"source\": 88, \"target\": 43}, {\"color\": \"red\", \"source\": 88, \"target\": 43}, {\"color\": \"red\", \"source\": 88, \"target\": 44}, {\"color\": \"red\", \"source\": 88, \"target\": 45}, {\"color\": \"blue\", \"source\": 88, \"target\": 46}, {\"color\": \"blue\", \"source\": 88, \"target\": 47}, {\"color\": \"blue\", \"source\": 88, \"target\": 47}, {\"color\": \"blue\", \"source\": 88, \"target\": 48}, {\"color\": \"red\", \"source\": 88, \"target\": 49}, {\"color\": \"red\", \"source\": 88, \"target\": 50}, {\"color\": \"blue\", \"source\": 88, \"target\": 51}, {\"color\": \"red\", \"source\": 88, \"target\": 52}, {\"color\": \"red\", \"source\": 88, \"target\": 53}, {\"color\": \"red\", \"source\": 88, \"target\": 54}, {\"color\": \"red\", \"source\": 88, \"target\": 55}, {\"color\": \"red\", \"source\": 88, \"target\": 56}, {\"color\": \"blue\", \"source\": 88, \"target\": 57}, {\"color\": \"red\", \"source\": 88, \"target\": 58}, {\"color\": \"red\", \"source\": 88, \"target\": 59}, {\"color\": \"red\", \"source\": 88, \"target\": 60}, {\"color\": \"red\", \"source\": 88, \"target\": 61}, {\"color\": \"red\", \"source\": 88, \"target\": 62}, {\"color\": \"red\", \"source\": 88, \"target\": 63}, {\"color\": \"blue\", \"source\": 88, \"target\": 64}, {\"color\": \"red\", \"source\": 88, \"target\": 65}, {\"color\": \"blue\", \"source\": 88, \"target\": 66}, {\"color\": \"blue\", \"source\": 88, \"target\": 66}, {\"color\": \"blue\", \"source\": 88, \"target\": 67}, {\"color\": \"blue\", \"source\": 88, \"target\": 67}, {\"color\": \"red\", \"source\": 88, \"target\": 68}, {\"color\": \"red\", \"source\": 88, \"target\": 69}, {\"color\": \"red\", \"source\": 88, \"target\": 70}, {\"color\": \"red\", \"source\": 88, \"target\": 71}, {\"color\": \"blue\", \"source\": 88, \"target\": 72}, {\"color\": \"blue\", \"source\": 88, \"target\": 73}, {\"color\": \"blue\", \"source\": 88, \"target\": 74}, {\"color\": \"blue\", \"source\": 88, \"target\": 74}, {\"color\": \"blue\", \"source\": 88, \"target\": 75}, {\"color\": \"blue\", \"source\": 88, \"target\": 75}, {\"color\": \"red\", \"source\": 88, \"target\": 76}, {\"color\": \"blue\", \"source\": 88, \"target\": 77}, {\"color\": \"blue\", \"source\": 88, \"target\": 78}, {\"color\": \"blue\", \"source\": 88, \"target\": 78}, {\"color\": \"blue\", \"source\": 88, \"target\": 79}, {\"color\": \"blue\", \"source\": 88, \"target\": 79}, {\"color\": \"blue\", \"source\": 88, \"target\": 80}, {\"color\": \"blue\", \"source\": 88, \"target\": 80}, {\"color\": \"blue\", \"source\": 88, \"target\": 81}, {\"color\": \"red\", \"source\": 88, \"target\": 82}, {\"color\": \"blue\", \"source\": 88, \"target\": 83}, {\"color\": \"blue\", \"source\": 88, \"target\": 84}, {\"color\": \"red\", \"source\": 88, \"target\": 85}, {\"color\": \"red\", \"source\": 88, \"target\": 86}, {\"color\": \"red\", \"source\": 88, \"target\": 87}, {\"color\": \"blue\", \"source\": 88, \"target\": 89}, {\"color\": \"red\", \"source\": 88, \"target\": 90}, {\"color\": \"red\", \"source\": 88, \"target\": 91}, {\"color\": \"red\", \"source\": 88, \"target\": 92}, {\"color\": \"blue\", \"source\": 88, \"target\": 93}, {\"color\": \"blue\", \"source\": 88, \"target\": 93}, {\"color\": \"red\", \"source\": 88, \"target\": 94}, {\"color\": \"blue\", \"source\": 88, \"target\": 95}, {\"color\": \"blue\", \"source\": 88, \"target\": 95}, {\"color\": \"red\", \"source\": 88, \"target\": 96}, {\"color\": \"blue\", \"source\": 88, \"target\": 97}, {\"color\": \"blue\", \"source\": 88, \"target\": 97}, {\"color\": \"blue\", \"source\": 88, \"target\": 98}, {\"color\": \"blue\", \"source\": 88, \"target\": 98}, {\"color\": \"blue\", \"source\": 88, \"target\": 99}, {\"color\": \"blue\", \"source\": 88, \"target\": 99}, {\"color\": \"blue\", \"source\": 88, \"target\": 100}, {\"color\": \"blue\", \"source\": 88, \"target\": 101}, {\"color\": \"blue\", \"source\": 88, \"target\": 102}, {\"color\": \"red\", \"source\": 88, \"target\": 103}, {\"color\": \"blue\", \"source\": 88, \"target\": 104}, {\"color\": \"blue\", \"source\": 88, \"target\": 104}, {\"color\": \"red\", \"source\": 88, \"target\": 105}, {\"color\": \"red\", \"source\": 88, \"target\": 106}, {\"color\": \"red\", \"source\": 88, \"target\": 107}, {\"color\": \"blue\", \"source\": 88, \"target\": 108}, {\"color\": \"blue\", \"source\": 88, \"target\": 108}, {\"color\": \"red\", \"source\": 88, \"target\": 109}, {\"color\": \"red\", \"source\": 90, \"target\": 17}, {\"color\": \"red\", \"source\": 90, \"target\": 34}, {\"color\": \"blue\", \"source\": 90, \"target\": 35}, {\"color\": \"red\", \"source\": 90, \"target\": 4}, {\"color\": \"red\", \"source\": 90, \"target\": 85}, {\"color\": \"red\", \"source\": 90, \"target\": 86}, {\"color\": \"blue\", \"source\": 90, \"target\": 5}, {\"color\": \"blue\", \"source\": 90, \"target\": 5}, {\"color\": \"blue\", \"source\": 90, \"target\": 6}, {\"color\": \"blue\", \"source\": 90, \"target\": 6}, {\"color\": \"blue\", \"source\": 90, \"target\": 7}, {\"color\": \"blue\", \"source\": 90, \"target\": 7}, {\"color\": \"blue\", \"source\": 90, \"target\": 8}, {\"color\": \"blue\", \"source\": 90, \"target\": 8}, {\"color\": \"red\", \"source\": 90, \"target\": 60}, {\"color\": \"red\", \"source\": 90, \"target\": 60}, {\"color\": \"red\", \"source\": 90, \"target\": 61}, {\"color\": \"red\", \"source\": 90, \"target\": 62}, {\"color\": \"red\", \"source\": 90, \"target\": 63}, {\"color\": \"red\", \"source\": 90, \"target\": 44}, {\"color\": \"red\", \"source\": 90, \"target\": 39}, {\"color\": \"red\", \"source\": 90, \"target\": 65}, {\"color\": \"red\", \"source\": 90, \"target\": 14}, {\"color\": \"red\", \"source\": 90, \"target\": 15}, {\"color\": \"blue\", \"source\": 90, \"target\": 66}, {\"color\": \"blue\", \"source\": 90, \"target\": 66}, {\"color\": \"blue\", \"source\": 90, \"target\": 67}, {\"color\": \"blue\", \"source\": 90, \"target\": 67}, {\"color\": \"red\", \"source\": 90, \"target\": 69}, {\"color\": \"red\", \"source\": 90, \"target\": 69}, {\"color\": \"red\", \"source\": 90, \"target\": 70}, {\"color\": \"red\", \"source\": 90, \"target\": 3}, {\"color\": \"red\", \"source\": 90, \"target\": 21}, {\"color\": \"red\", \"source\": 90, \"target\": 22}, {\"color\": \"red\", \"source\": 90, \"target\": 22}, {\"color\": \"red\", \"source\": 90, \"target\": 91}, {\"color\": \"red\", \"source\": 90, \"target\": 71}, {\"color\": \"red\", \"source\": 90, \"target\": 45}, {\"color\": \"blue\", \"source\": 90, \"target\": 47}, {\"color\": \"blue\", \"source\": 90, \"target\": 47}, {\"color\": \"red\", \"source\": 90, \"target\": 26}, {\"color\": \"red\", \"source\": 90, \"target\": 73}, {\"color\": \"blue\", \"source\": 90, \"target\": 42}, {\"color\": \"blue\", \"source\": 90, \"target\": 42}, {\"color\": \"blue\", \"source\": 90, \"target\": 28}, {\"color\": \"blue\", \"source\": 90, \"target\": 28}, {\"color\": \"red\", \"source\": 90, \"target\": 58}, {\"color\": \"blue\", \"source\": 90, \"target\": 74}, {\"color\": \"blue\", \"source\": 90, \"target\": 74}, {\"color\": \"blue\", \"source\": 90, \"target\": 75}, {\"color\": \"blue\", \"source\": 90, \"target\": 75}, {\"color\": \"red\", \"source\": 90, \"target\": 18}, {\"color\": \"red\", \"source\": 90, \"target\": 108}, {\"color\": \"red\", \"source\": 90, \"target\": 108}, {\"color\": \"red\", \"source\": 90, \"target\": 109}, {\"color\": \"red\", \"source\": 102, \"target\": 37}, {\"color\": \"red\", \"source\": 102, \"target\": 48}, {\"color\": \"red\", \"source\": 103, \"target\": 43}, {\"color\": \"red\", \"source\": 103, \"target\": 50}, {\"color\": \"red\", \"source\": 103, \"target\": 75}, {\"color\": \"red\", \"source\": 103, \"target\": 24}, {\"color\": \"red\", \"source\": 103, \"target\": 35}, {\"color\": \"red\", \"source\": 103, \"target\": 36}, {\"color\": \"red\", \"source\": 103, \"target\": 106}, {\"color\": \"red\", \"source\": 103, \"target\": 47}, {\"color\": \"red\", \"source\": 103, \"target\": 58}, {\"color\": \"red\", \"source\": 103, \"target\": 6}, {\"color\": \"blue\", \"source\": 103, \"target\": 48}, {\"color\": \"blue\", \"source\": 103, \"target\": 19}, {\"color\": \"red\", \"source\": 103, \"target\": 20}, {\"color\": \"red\", \"source\": 103, \"target\": 20}, {\"color\": \"red\", \"source\": 103, \"target\": 73}, {\"color\": \"red\", \"source\": 103, \"target\": 69}, {\"color\": \"red\", \"source\": 103, \"target\": 57}, {\"color\": \"red\", \"source\": 105, \"target\": 39}, {\"color\": \"red\", \"source\": 105, \"target\": 2}, {\"color\": \"blue\", \"source\": 105, \"target\": 15}, {\"color\": \"blue\", \"source\": 105, \"target\": 15}, {\"color\": \"red\", \"source\": 105, \"target\": 35}, {\"color\": \"red\", \"source\": 105, \"target\": 80}, {\"color\": \"red\", \"source\": 105, \"target\": 16}, {\"color\": \"blue\", \"source\": 105, \"target\": 6}, {\"color\": \"red\", \"source\": 105, \"target\": 78}, {\"color\": \"red\", \"source\": 105, \"target\": 31}, {\"color\": \"red\", \"source\": 105, \"target\": 17}, {\"color\": \"blue\", \"source\": 105, \"target\": 24}, {\"color\": \"red\", \"source\": 105, \"target\": 19}, {\"color\": \"red\", \"source\": 105, \"target\": 20}, {\"color\": \"red\", \"source\": 109, \"target\": 20}, {\"color\": \"blue\", \"source\": 109, \"target\": 65}, {\"color\": \"red\", \"source\": 109, \"target\": 90}]);}</script><iframe name=\"style_file1\" src=\"style_file1.html\" width=\"100%;\" height=\"805px\"></iframe></body></html>"
      ],
      "text/plain": [
       "<IPython.core.display.HTML object>"
      ]
     },
     "execution_count": 16,
     "metadata": {},
     "output_type": "execute_result"
    }
   ],
   "source": [
    "stat_analysis.vis_tf_network(DG_brca, 'FOXO3', '../DEG_databases/geo2r_GSE11352_brca_48hours.txt', DEG_list_brca,\n",
    "              directed_edges = True,\n",
    "              node_spacing = 2300,\n",
    "              graph_id = 1) "
   ]
  },
  {
   "cell_type": "code",
   "execution_count": null,
   "metadata": {
    "collapsed": true
   },
   "outputs": [],
   "source": []
  }
 ],
 "metadata": {
  "kernelspec": {
   "display_name": "Python 2",
   "language": "python",
   "name": "python2"
  },
  "language_info": {
   "codemirror_mode": {
    "name": "ipython",
    "version": 2
   },
   "file_extension": ".py",
   "mimetype": "text/x-python",
   "name": "python",
   "nbconvert_exporter": "python",
   "pygments_lexer": "ipython2",
   "version": "2.7.14"
  }
 },
 "nbformat": 4,
 "nbformat_minor": 2
}
