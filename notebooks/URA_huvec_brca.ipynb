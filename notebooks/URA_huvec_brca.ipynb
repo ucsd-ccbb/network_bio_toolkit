{
 "cells": [
  {
   "cell_type": "markdown",
   "metadata": {},
   "source": [
    "# Upstream Regulator Analysis Package\n",
    "## HUVEC and Breast Cancer Case Study\n",
    "\n",
    "----------------------\n",
    "\n",
    "Author: Mikayla Webster (m1webste@ucsd.edu)\n",
    "\n",
    "Date: 11th January, 2018\n",
    "\n",
    "----------------------\n",
    "\n",
    "<a id='toc'></a>\n",
    "## Table of Contents\n",
    "1. [Background](#background)\n",
    "2. [Import packages](#import)\n",
    "3. [Transcription Factors](#tf)\n",
    "4. [Background Network](#bn)\n",
    "5. [HUVEC](#huvec)\n",
    "    1. [Load DEG's](#loadhuvec)\n",
    "    2. [Calculate p-values and z-scores](#pzhuvec)\n",
    "    3. [Compare the Ingenuity Article's results to Ours](#comphuvec)\n",
    "    4. [Display Our results](#displayhuvec)\n",
    "6. [Breast Cancer](#brca)\n",
    "    1. [Load DEG's](#loadbrca)\n",
    "    2. [Calculate p-values and z-scores](#pzbrca)\n",
    "    3. [Compare the Ingenuity Article's results to Ours](#compbrca)\n",
    "    4. [Display Our results](#displaybrca)"
   ]
  },
  {
   "cell_type": "markdown",
   "metadata": {},
   "source": [
    "## Background\n",
    "<a id='background'></a>\n",
    "\n",
    "This notebook attempts to validate our Upstream Regulator Analysis (URA) modules. Our modules are inspired by Ingenuity System's [Ingenuity Upstream Regulator Analysis in IPA®](http://pages.ingenuity.com/rs/ingenuity/images/0812%20upstream_regulator_analysis_whitepaper.pdf); this test case is inpired by Ingenuity System's corresponding paper, [Causal analysis approaches in Ingenuity Pathway Analysis](https://www.ncbi.nlm.nih.gov/pmc/articles/PMC3928520/). This paper analyses two sets of Differencially Expressed Genes (DEG's): one from a breast cancer tumor and the other from Human Umbilical Vein Endothelial Cells (HUVEC). We run our version of URA on these same breast cancer and HUVEC DEG's, however using the [STRING database](https://string-db.org/) human protein interaction network as our background network. "
   ]
  },
  {
   "cell_type": "markdown",
   "metadata": {},
   "source": [
    "## Import packages\n",
    "<a id='import'></a>"
   ]
  },
  {
   "cell_type": "code",
   "execution_count": 14,
   "metadata": {},
   "outputs": [],
   "source": [
    "import networkx as nx\n",
    "import pandas as pd\n",
    "import numpy as np\n",
    "import matplotlib.pyplot as plt\n",
    "\n",
    "# import upstream regulator modules\n",
    "import sys\n",
    "code_path = '../ura'\n",
    "sys.path.append(code_path)\n",
    "import create_graph\n",
    "import stat_analysis\n",
    "reload(create_graph)\n",
    "reload(stat_analysis)\n",
    "\n",
    "# network visualization package\n",
    "# (pip install visJS2jupyter)\n",
    "import visJS2jupyter.visJS_module as visJS_module"
   ]
  },
  {
   "cell_type": "markdown",
   "metadata": {},
   "source": [
    "## Transcription Factors\n",
    "<a id='tf'></a>\n",
    "\n",
    "Load our list of Transcription Factors (TF) we want to analyze. Gene symbols will be in all caps. "
   ]
  },
  {
   "cell_type": "code",
   "execution_count": 2,
   "metadata": {
    "collapsed": true
   },
   "outputs": [],
   "source": [
    "TF_list = create_graph.create_TF_list(slowkow_bool=True,\n",
    "                    slowkow_files=['../slowkow_databases/TRED_TF.txt',\n",
    "                                   '../slowkow_databases/ITFP_TF.txt',\n",
    "                                   '../slowkow_databases/ENCODE_TF.txt',\n",
    "                                   '../slowkow_databases/Neph2012_TF.txt',\n",
    "                                   '../slowkow_databases/TRRUST_TF.txt',\n",
    "                                   '../slowkow_databases/Marbach2016_TF.txt'],\n",
    "                    slowkow_sep = '\\n',\n",
    "                    jaspar_bool=True,\n",
    "                    jaspar_file=\"../jaspar_genereg_matrix.txt\")\n",
    "\n",
    "\n",
    "TF_list = TF_list + ['TNF', 'IFNG', 'LBP'] # known regulators of interest missing from our TF databases"
   ]
  },
  {
   "cell_type": "markdown",
   "metadata": {},
   "source": [
    "## Background Network\n",
    "<a id='bn'></a>\n",
    "\n",
    "Load our background network, available on the [STRING website](https://string-db.org/cgi/download.pl?UserId=9BGA8WkVMRl6&sessionId=HWUK6Dum9xC6&species_text=Homo+sapiens), and keep only our the information about our TF's. \n",
    "\n",
    "The function load_STRING_to_digraph can load any species' \"protein actions\" database from STRING. Just ensure your TF list and DEG list have the same naming convention as you background network (Homo Sapiens use all caps, Mus Musculus only capitalizes the first letter, etc.) Inconsistent naming can effect your results."
   ]
  },
  {
   "cell_type": "code",
   "execution_count": 3,
   "metadata": {},
   "outputs": [
    {
     "name": "stdout",
     "output_type": "stream",
     "text": [
      "querying 1-1000...done.\n",
      "querying 1001-2000...done.\n",
      "querying 2001-3000...done.\n",
      "querying 3001-4000...done.\n",
      "querying 4001-5000...done.\n",
      "querying 5001-6000...done.\n",
      "querying 6001-7000...done.\n",
      "querying 7001-7374...done.\n",
      "Finished.\n",
      "56 input query terms found dup hits:\n",
      "\t[(u'ENSP00000359550', 3), (u'ENSP00000447879', 2), (u'ENSP00000364076', 2), (u'ENSP00000348986', 2),\n",
      "312 input query terms found no hit:\n",
      "\t[u'ENSP00000376684', u'ENSP00000289352', u'ENSP00000202788', u'ENSP00000373637', u'ENSP00000367802',\n",
      "Pass \"returnall=True\" to return complete lists of duplicate or missing query terms.\n"
     ]
    }
   ],
   "source": [
    "filename = \"../9606.protein.actions.v10.5.txt\"\n",
    "confidence_filter=400\n",
    "DG_TF, DG_universe = create_graph.load_STRING_to_digraph(filename, confidence_filter, TF_list)"
   ]
  },
  {
   "cell_type": "markdown",
   "metadata": {},
   "source": [
    "## HUVEC##\n",
    "<a id='huvec'></a>"
   ]
  },
  {
   "cell_type": "markdown",
   "metadata": {},
   "source": [
    "### Load HUVEC DEG's ###\n",
    "<a id='loadhuvec'></a>"
   ]
  },
  {
   "cell_type": "code",
   "execution_count": 4,
   "metadata": {
    "collapsed": true
   },
   "outputs": [],
   "source": [
    "# DEG's\n",
    "filename_huvec = '../geo2r_GSE2639_huvec.txt'\n",
    "\n",
    "# TF's found to be statistically significant in Ingenuity Systems URA article\n",
    "huvec_genes = ['TNF','IFNG','LBP', 'NFKB1', 'NFKB2', 'REL', 'RELA', 'RELB', 'PCBP3', 'PCBP2', 'PCBP1', 'PCBP4', 'NFKBIA']\n",
    "\n",
    "# add DEG information to STRING background network\n",
    "DEG_list_huvec, DEG_to_pvalue_huvec, DEG_to_updown_huvec = create_graph.create_DEG_list(filename_huvec, p_value_filter = 0.3)\n",
    "DG_huvec = create_graph.add_updown_from_DEG(DG_TF, DEG_to_updown_huvec) # will not overwrite original graph DG"
   ]
  },
  {
   "cell_type": "markdown",
   "metadata": {},
   "source": [
    "### Calculate p-values and z-scores\n",
    "<a id='pzhuvec'></a>\n",
    "\n",
    "For a detailed explination of our p-value and z-score calculation functions, see our URA_Basic_Example notebook"
   ]
  },
  {
   "cell_type": "code",
   "execution_count": 5,
   "metadata": {
    "collapsed": true
   },
   "outputs": [],
   "source": [
    "# calculate p-values\n",
    "p_values = stat_analysis.tf_pvalues(DG_huvec, DG_universe, DEG_list_huvec)\n",
    "\n",
    "# calculate z-scores\n",
    "z_scores_huvec = stat_analysis.tf_zscore(DG_huvec, DEG_list_huvec, bias_filter = 0.25) # recommended bias filter is 0.25"
   ]
  },
  {
   "cell_type": "markdown",
   "metadata": {},
   "source": [
    "### Compare the Ingenuity Article's results to Ours\n",
    "<a id='comphuvec'></a>\n",
    "\n",
    "These are the TF's found to be most relevant according to the Ingenuity Pathway Analysis paper. Optimally, these genes would rank very high. A rank of 0 is always best, while the rank associated with a z-score of zero is the worst. \n",
    "\n",
    "In this case, IFNG anf TNF are high ranking, therefore show coordination between our results and the Ingenuity article's results. LBP, PCBP1, PCBP2, PCBP4, and RELB have z-scores of zero, meaning not enough information exists about these genes to calculate a true z-score for them. PCBP3 has a NaN z-score because it is not in the graph."
   ]
  },
  {
   "cell_type": "code",
   "execution_count": 6,
   "metadata": {},
   "outputs": [
    {
     "data": {
      "text/html": [
       "<div>\n",
       "<style>\n",
       "    .dataframe thead tr:only-child th {\n",
       "        text-align: right;\n",
       "    }\n",
       "\n",
       "    .dataframe thead th {\n",
       "        text-align: left;\n",
       "    }\n",
       "\n",
       "    .dataframe tbody tr th {\n",
       "        vertical-align: top;\n",
       "    }\n",
       "</style>\n",
       "<table border=\"1\" class=\"dataframe\">\n",
       "  <thead>\n",
       "    <tr style=\"text-align: right;\">\n",
       "      <th></th>\n",
       "      <th>rank</th>\n",
       "      <th>z-score</th>\n",
       "    </tr>\n",
       "  </thead>\n",
       "  <tbody>\n",
       "    <tr>\n",
       "      <th>IFNG</th>\n",
       "      <td>0.0</td>\n",
       "      <td>3.549648</td>\n",
       "    </tr>\n",
       "    <tr>\n",
       "      <th>TNF</th>\n",
       "      <td>5.0</td>\n",
       "      <td>2.342606</td>\n",
       "    </tr>\n",
       "    <tr>\n",
       "      <th>NFKB2</th>\n",
       "      <td>12.0</td>\n",
       "      <td>1.732051</td>\n",
       "    </tr>\n",
       "    <tr>\n",
       "      <th>RELA</th>\n",
       "      <td>13.0</td>\n",
       "      <td>1.732051</td>\n",
       "    </tr>\n",
       "    <tr>\n",
       "      <th>NFKBIA</th>\n",
       "      <td>19.0</td>\n",
       "      <td>1.341641</td>\n",
       "    </tr>\n",
       "    <tr>\n",
       "      <th>REL</th>\n",
       "      <td>19.0</td>\n",
       "      <td>-1.341641</td>\n",
       "    </tr>\n",
       "    <tr>\n",
       "      <th>NFKB1</th>\n",
       "      <td>23.0</td>\n",
       "      <td>1.091089</td>\n",
       "    </tr>\n",
       "    <tr>\n",
       "      <th>LBP</th>\n",
       "      <td>34.0</td>\n",
       "      <td>0.000000</td>\n",
       "    </tr>\n",
       "    <tr>\n",
       "      <th>PCBP1</th>\n",
       "      <td>34.0</td>\n",
       "      <td>0.000000</td>\n",
       "    </tr>\n",
       "    <tr>\n",
       "      <th>PCBP2</th>\n",
       "      <td>34.0</td>\n",
       "      <td>0.000000</td>\n",
       "    </tr>\n",
       "    <tr>\n",
       "      <th>PCBP4</th>\n",
       "      <td>34.0</td>\n",
       "      <td>0.000000</td>\n",
       "    </tr>\n",
       "    <tr>\n",
       "      <th>RELB</th>\n",
       "      <td>34.0</td>\n",
       "      <td>0.000000</td>\n",
       "    </tr>\n",
       "    <tr>\n",
       "      <th>PCBP3</th>\n",
       "      <td>NaN</td>\n",
       "      <td>NaN</td>\n",
       "    </tr>\n",
       "  </tbody>\n",
       "</table>\n",
       "</div>"
      ],
      "text/plain": [
       "        rank   z-score\n",
       "IFNG     0.0  3.549648\n",
       "TNF      5.0  2.342606\n",
       "NFKB2   12.0  1.732051\n",
       "RELA    13.0  1.732051\n",
       "NFKBIA  19.0  1.341641\n",
       "REL     19.0 -1.341641\n",
       "NFKB1   23.0  1.091089\n",
       "LBP     34.0  0.000000\n",
       "PCBP1   34.0  0.000000\n",
       "PCBP2   34.0  0.000000\n",
       "PCBP4   34.0  0.000000\n",
       "RELB    34.0  0.000000\n",
       "PCBP3    NaN       NaN"
      ]
     },
     "execution_count": 6,
     "metadata": {},
     "output_type": "execute_result"
    }
   ],
   "source": [
    "stat_analysis.rank_and_score_df(z_scores_huvec, huvec_genes, remove_dups=True)"
   ]
  },
  {
   "cell_type": "markdown",
   "metadata": {},
   "source": [
    "### Display Our results\n",
    "<a id='displayhuvec'></a>\n",
    "\n",
    "These are the most relevant TF's according to our analysis. Optimally, these should match the huvec genes defined above. However, using a different background network produces discrepancies.\n",
    "\n",
    "IFNG, TNF, and TNFAIP3 show coordination between our results and the Ingenuity article's results."
   ]
  },
  {
   "cell_type": "code",
   "execution_count": 7,
   "metadata": {
    "scrolled": false
   },
   "outputs": [
    {
     "data": {
      "text/html": [
       "<div>\n",
       "<style>\n",
       "    .dataframe thead tr:only-child th {\n",
       "        text-align: right;\n",
       "    }\n",
       "\n",
       "    .dataframe thead th {\n",
       "        text-align: left;\n",
       "    }\n",
       "\n",
       "    .dataframe tbody tr th {\n",
       "        vertical-align: top;\n",
       "    }\n",
       "</style>\n",
       "<table border=\"1\" class=\"dataframe\">\n",
       "  <thead>\n",
       "    <tr style=\"text-align: right;\">\n",
       "      <th></th>\n",
       "      <th>activating z-score</th>\n",
       "    </tr>\n",
       "  </thead>\n",
       "  <tbody>\n",
       "    <tr>\n",
       "      <th>IFNG</th>\n",
       "      <td>3.549648</td>\n",
       "    </tr>\n",
       "    <tr>\n",
       "      <th>CTF1</th>\n",
       "      <td>3.000000</td>\n",
       "    </tr>\n",
       "    <tr>\n",
       "      <th>STAT4</th>\n",
       "      <td>2.645751</td>\n",
       "    </tr>\n",
       "    <tr>\n",
       "      <th>STAT5A</th>\n",
       "      <td>2.529822</td>\n",
       "    </tr>\n",
       "    <tr>\n",
       "      <th>TNF</th>\n",
       "      <td>2.342606</td>\n",
       "    </tr>\n",
       "    <tr>\n",
       "      <th>HIF1A</th>\n",
       "      <td>2.236068</td>\n",
       "    </tr>\n",
       "    <tr>\n",
       "      <th>GATA3</th>\n",
       "      <td>2.236068</td>\n",
       "    </tr>\n",
       "    <tr>\n",
       "      <th>IRF3</th>\n",
       "      <td>2.236068</td>\n",
       "    </tr>\n",
       "    <tr>\n",
       "      <th>FOS</th>\n",
       "      <td>2.236068</td>\n",
       "    </tr>\n",
       "    <tr>\n",
       "      <th>SPG7</th>\n",
       "      <td>2.236068</td>\n",
       "    </tr>\n",
       "  </tbody>\n",
       "</table>\n",
       "</div>"
      ],
      "text/plain": [
       "        activating z-score\n",
       "IFNG              3.549648\n",
       "CTF1              3.000000\n",
       "STAT4             2.645751\n",
       "STAT5A            2.529822\n",
       "TNF               2.342606\n",
       "HIF1A             2.236068\n",
       "GATA3             2.236068\n",
       "IRF3              2.236068\n",
       "FOS               2.236068\n",
       "SPG7              2.236068"
      ]
     },
     "metadata": {},
     "output_type": "display_data"
    },
    {
     "data": {
      "text/html": [
       "<div>\n",
       "<style>\n",
       "    .dataframe thead tr:only-child th {\n",
       "        text-align: right;\n",
       "    }\n",
       "\n",
       "    .dataframe thead th {\n",
       "        text-align: left;\n",
       "    }\n",
       "\n",
       "    .dataframe tbody tr th {\n",
       "        vertical-align: top;\n",
       "    }\n",
       "</style>\n",
       "<table border=\"1\" class=\"dataframe\">\n",
       "  <thead>\n",
       "    <tr style=\"text-align: right;\">\n",
       "      <th></th>\n",
       "      <th>inhibiting z-score</th>\n",
       "    </tr>\n",
       "  </thead>\n",
       "  <tbody>\n",
       "    <tr>\n",
       "      <th>PPARA</th>\n",
       "      <td>-2.449490</td>\n",
       "    </tr>\n",
       "    <tr>\n",
       "      <th>TNFAIP3</th>\n",
       "      <td>-2.000000</td>\n",
       "    </tr>\n",
       "    <tr>\n",
       "      <th>DDX41</th>\n",
       "      <td>-2.000000</td>\n",
       "    </tr>\n",
       "    <tr>\n",
       "      <th>CACNA2D4</th>\n",
       "      <td>-2.000000</td>\n",
       "    </tr>\n",
       "    <tr>\n",
       "      <th>CACNA2D2</th>\n",
       "      <td>-2.000000</td>\n",
       "    </tr>\n",
       "    <tr>\n",
       "      <th>GPSM1</th>\n",
       "      <td>-1.941451</td>\n",
       "    </tr>\n",
       "    <tr>\n",
       "      <th>SIRT1</th>\n",
       "      <td>-1.897367</td>\n",
       "    </tr>\n",
       "    <tr>\n",
       "      <th>STRAP</th>\n",
       "      <td>-1.732051</td>\n",
       "    </tr>\n",
       "    <tr>\n",
       "      <th>IRF8</th>\n",
       "      <td>-1.732051</td>\n",
       "    </tr>\n",
       "    <tr>\n",
       "      <th>NKX2-5</th>\n",
       "      <td>-1.732051</td>\n",
       "    </tr>\n",
       "  </tbody>\n",
       "</table>\n",
       "</div>"
      ],
      "text/plain": [
       "          inhibiting z-score\n",
       "PPARA              -2.449490\n",
       "TNFAIP3            -2.000000\n",
       "DDX41              -2.000000\n",
       "CACNA2D4           -2.000000\n",
       "CACNA2D2           -2.000000\n",
       "GPSM1              -1.941451\n",
       "SIRT1              -1.897367\n",
       "STRAP              -1.732051\n",
       "IRF8               -1.732051\n",
       "NKX2-5             -1.732051"
      ]
     },
     "metadata": {},
     "output_type": "display_data"
    }
   ],
   "source": [
    "top_act_huvec = stat_analysis.top_values(z_scores_huvec, act = True, abs_value = False, top = 10)\n",
    "top_inh_huvec = stat_analysis.top_values(z_scores_huvec, act = False, abs_value = False, top = 10)\n",
    "display(top_act_huvec.to_frame(name = 'activating z-score'))\n",
    "display(top_inh_huvec.to_frame(name = 'inhibiting z-score'))"
   ]
  },
  {
   "cell_type": "markdown",
   "metadata": {},
   "source": [
    "## Breast Cancer ###\n",
    "<a id='brca'></a>"
   ]
  },
  {
   "cell_type": "markdown",
   "metadata": {},
   "source": [
    "### Load Breast Cancer DEG's\n",
    "<a id='loadbrca'></a>"
   ]
  },
  {
   "cell_type": "code",
   "execution_count": 8,
   "metadata": {
    "collapsed": true
   },
   "outputs": [],
   "source": [
    "filename_brca = '../geo2r_GSE11352_brca_48hours.txt'\n",
    "brca_genes = ['ESR1', 'FSH', 'MEK', 'BRD4', 'MYC', 'MARK1', 'IL1B','NCOA3','PGR', \n",
    "              'EGR1', 'HIF1A', 'NR3C1','CTNNB1','TP53','SMARCE1','STAT5B']\n",
    "DEG_list_brca, DEG_to_pvalue_brca, DEG_to_updown_brca = create_graph.create_DEG_list(filename_brca, p_value_filter = 0.05)\n",
    "DG_brca = create_graph.add_updown_from_DEG(DG_TF, DEG_to_updown_brca)"
   ]
  },
  {
   "cell_type": "markdown",
   "metadata": {},
   "source": [
    "### Calculate p-values and z-scores\n",
    "<a id='pzbrca'></a>"
   ]
  },
  {
   "cell_type": "code",
   "execution_count": 9,
   "metadata": {
    "collapsed": true
   },
   "outputs": [],
   "source": [
    "# calculate p-values\n",
    "p_values_brca = stat_analysis.tf_pvalues(DG_brca, DG_universe, DEG_list_brca)\n",
    "\n",
    "# calculate z-scores\n",
    "z_scores_brca = stat_analysis.tf_zscore(DG_brca, DEG_list_brca, bias_filter = 0.25)"
   ]
  },
  {
   "cell_type": "markdown",
   "metadata": {},
   "source": [
    "### Compare the Ingenuity Article's results to Ours\n",
    "<a id='compbrca'></a>\n",
    "TP53, MYC, and ESR1 are foud to be highly ranking, showing coordination between our results and the Ingenuity article's results."
   ]
  },
  {
   "cell_type": "code",
   "execution_count": 10,
   "metadata": {},
   "outputs": [
    {
     "data": {
      "text/html": [
       "<div>\n",
       "<style>\n",
       "    .dataframe thead tr:only-child th {\n",
       "        text-align: right;\n",
       "    }\n",
       "\n",
       "    .dataframe thead th {\n",
       "        text-align: left;\n",
       "    }\n",
       "\n",
       "    .dataframe tbody tr th {\n",
       "        vertical-align: top;\n",
       "    }\n",
       "</style>\n",
       "<table border=\"1\" class=\"dataframe\">\n",
       "  <thead>\n",
       "    <tr style=\"text-align: right;\">\n",
       "      <th></th>\n",
       "      <th>rank</th>\n",
       "      <th>z-score</th>\n",
       "    </tr>\n",
       "  </thead>\n",
       "  <tbody>\n",
       "    <tr>\n",
       "      <th>TP53</th>\n",
       "      <td>0.0</td>\n",
       "      <td>-1.889822</td>\n",
       "    </tr>\n",
       "    <tr>\n",
       "      <th>MYC</th>\n",
       "      <td>2.0</td>\n",
       "      <td>1.666667</td>\n",
       "    </tr>\n",
       "    <tr>\n",
       "      <th>ESR1</th>\n",
       "      <td>3.0</td>\n",
       "      <td>1.414214</td>\n",
       "    </tr>\n",
       "    <tr>\n",
       "      <th>STAT5B</th>\n",
       "      <td>4.0</td>\n",
       "      <td>1.341641</td>\n",
       "    </tr>\n",
       "    <tr>\n",
       "      <th>NR3C1</th>\n",
       "      <td>5.0</td>\n",
       "      <td>1.000000</td>\n",
       "    </tr>\n",
       "    <tr>\n",
       "      <th>HIF1A</th>\n",
       "      <td>7.0</td>\n",
       "      <td>-0.577350</td>\n",
       "    </tr>\n",
       "    <tr>\n",
       "      <th>CTNNB1</th>\n",
       "      <td>8.0</td>\n",
       "      <td>0.447214</td>\n",
       "    </tr>\n",
       "    <tr>\n",
       "      <th>EGR1</th>\n",
       "      <td>8.0</td>\n",
       "      <td>-0.447214</td>\n",
       "    </tr>\n",
       "    <tr>\n",
       "      <th>BRD4</th>\n",
       "      <td>9.0</td>\n",
       "      <td>0.000000</td>\n",
       "    </tr>\n",
       "    <tr>\n",
       "      <th>NCOA3</th>\n",
       "      <td>9.0</td>\n",
       "      <td>0.000000</td>\n",
       "    </tr>\n",
       "    <tr>\n",
       "      <th>PGR</th>\n",
       "      <td>9.0</td>\n",
       "      <td>0.000000</td>\n",
       "    </tr>\n",
       "    <tr>\n",
       "      <th>SMARCE1</th>\n",
       "      <td>9.0</td>\n",
       "      <td>0.000000</td>\n",
       "    </tr>\n",
       "    <tr>\n",
       "      <th>FSH</th>\n",
       "      <td>NaN</td>\n",
       "      <td>NaN</td>\n",
       "    </tr>\n",
       "    <tr>\n",
       "      <th>IL1B</th>\n",
       "      <td>NaN</td>\n",
       "      <td>NaN</td>\n",
       "    </tr>\n",
       "    <tr>\n",
       "      <th>MARK1</th>\n",
       "      <td>NaN</td>\n",
       "      <td>NaN</td>\n",
       "    </tr>\n",
       "    <tr>\n",
       "      <th>MEK</th>\n",
       "      <td>NaN</td>\n",
       "      <td>NaN</td>\n",
       "    </tr>\n",
       "  </tbody>\n",
       "</table>\n",
       "</div>"
      ],
      "text/plain": [
       "         rank   z-score\n",
       "TP53      0.0 -1.889822\n",
       "MYC       2.0  1.666667\n",
       "ESR1      3.0  1.414214\n",
       "STAT5B    4.0  1.341641\n",
       "NR3C1     5.0  1.000000\n",
       "HIF1A     7.0 -0.577350\n",
       "CTNNB1    8.0  0.447214\n",
       "EGR1      8.0 -0.447214\n",
       "BRD4      9.0  0.000000\n",
       "NCOA3     9.0  0.000000\n",
       "PGR       9.0  0.000000\n",
       "SMARCE1   9.0  0.000000\n",
       "FSH       NaN       NaN\n",
       "IL1B      NaN       NaN\n",
       "MARK1     NaN       NaN\n",
       "MEK       NaN       NaN"
      ]
     },
     "execution_count": 10,
     "metadata": {},
     "output_type": "execute_result"
    }
   ],
   "source": [
    "stat_analysis.rank_and_score_df(z_scores_brca, brca_genes, act = True, abs_value = True, remove_dups=True)"
   ]
  },
  {
   "cell_type": "markdown",
   "metadata": {},
   "source": [
    "### Display Our results\n",
    "<a id='displaybrca'></a>\n",
    "MYCN, MYC, ESR1, and TP53 show coordination between our results and the Ingenuity article's results.\n",
    "\n",
    "Four out of five of our top activating genes, in particular MYCN, are associated with breast cancer according to literature. Our top three inhibiting genes, in particular FOXO3, are also associated with breast cancer according to literature."
   ]
  },
  {
   "cell_type": "code",
   "execution_count": 11,
   "metadata": {},
   "outputs": [
    {
     "data": {
      "text/html": [
       "<div>\n",
       "<style>\n",
       "    .dataframe thead tr:only-child th {\n",
       "        text-align: right;\n",
       "    }\n",
       "\n",
       "    .dataframe thead th {\n",
       "        text-align: left;\n",
       "    }\n",
       "\n",
       "    .dataframe tbody tr th {\n",
       "        vertical-align: top;\n",
       "    }\n",
       "</style>\n",
       "<table border=\"1\" class=\"dataframe\">\n",
       "  <thead>\n",
       "    <tr style=\"text-align: right;\">\n",
       "      <th></th>\n",
       "      <th>activating z-score</th>\n",
       "    </tr>\n",
       "  </thead>\n",
       "  <tbody>\n",
       "    <tr>\n",
       "      <th>STAT1</th>\n",
       "      <td>1.732051</td>\n",
       "    </tr>\n",
       "    <tr>\n",
       "      <th>MYCN</th>\n",
       "      <td>1.732051</td>\n",
       "    </tr>\n",
       "    <tr>\n",
       "      <th>STAT3</th>\n",
       "      <td>1.732051</td>\n",
       "    </tr>\n",
       "    <tr>\n",
       "      <th>MYC</th>\n",
       "      <td>1.666667</td>\n",
       "    </tr>\n",
       "    <tr>\n",
       "      <th>SREBF1</th>\n",
       "      <td>1.414214</td>\n",
       "    </tr>\n",
       "    <tr>\n",
       "      <th>PHKB</th>\n",
       "      <td>1.414214</td>\n",
       "    </tr>\n",
       "    <tr>\n",
       "      <th>CCNA2</th>\n",
       "      <td>1.414214</td>\n",
       "    </tr>\n",
       "    <tr>\n",
       "      <th>ESR1</th>\n",
       "      <td>1.414214</td>\n",
       "    </tr>\n",
       "    <tr>\n",
       "      <th>SREBF2</th>\n",
       "      <td>1.414214</td>\n",
       "    </tr>\n",
       "    <tr>\n",
       "      <th>IQGAP1</th>\n",
       "      <td>1.414214</td>\n",
       "    </tr>\n",
       "  </tbody>\n",
       "</table>\n",
       "</div>"
      ],
      "text/plain": [
       "        activating z-score\n",
       "STAT1             1.732051\n",
       "MYCN              1.732051\n",
       "STAT3             1.732051\n",
       "MYC               1.666667\n",
       "SREBF1            1.414214\n",
       "PHKB              1.414214\n",
       "CCNA2             1.414214\n",
       "ESR1              1.414214\n",
       "SREBF2            1.414214\n",
       "IQGAP1            1.414214"
      ]
     },
     "metadata": {},
     "output_type": "display_data"
    },
    {
     "data": {
      "text/html": [
       "<div>\n",
       "<style>\n",
       "    .dataframe thead tr:only-child th {\n",
       "        text-align: right;\n",
       "    }\n",
       "\n",
       "    .dataframe thead th {\n",
       "        text-align: left;\n",
       "    }\n",
       "\n",
       "    .dataframe tbody tr th {\n",
       "        vertical-align: top;\n",
       "    }\n",
       "</style>\n",
       "<table border=\"1\" class=\"dataframe\">\n",
       "  <thead>\n",
       "    <tr style=\"text-align: right;\">\n",
       "      <th></th>\n",
       "      <th>inhibiting z-score</th>\n",
       "    </tr>\n",
       "  </thead>\n",
       "  <tbody>\n",
       "    <tr>\n",
       "      <th>TP53</th>\n",
       "      <td>-1.889822</td>\n",
       "    </tr>\n",
       "    <tr>\n",
       "      <th>FOXO3</th>\n",
       "      <td>-1.414214</td>\n",
       "    </tr>\n",
       "    <tr>\n",
       "      <th>EGR2</th>\n",
       "      <td>-1.414214</td>\n",
       "    </tr>\n",
       "    <tr>\n",
       "      <th>NR1H3</th>\n",
       "      <td>-1.414214</td>\n",
       "    </tr>\n",
       "    <tr>\n",
       "      <th>FOXO4</th>\n",
       "      <td>-1.414214</td>\n",
       "    </tr>\n",
       "    <tr>\n",
       "      <th>AKT1</th>\n",
       "      <td>-1.414214</td>\n",
       "    </tr>\n",
       "    <tr>\n",
       "      <th>NR1H2</th>\n",
       "      <td>-1.000000</td>\n",
       "    </tr>\n",
       "    <tr>\n",
       "      <th>NFE2L2</th>\n",
       "      <td>-1.000000</td>\n",
       "    </tr>\n",
       "    <tr>\n",
       "      <th>TWIST1</th>\n",
       "      <td>-1.000000</td>\n",
       "    </tr>\n",
       "    <tr>\n",
       "      <th>FOXP3</th>\n",
       "      <td>-1.000000</td>\n",
       "    </tr>\n",
       "  </tbody>\n",
       "</table>\n",
       "</div>"
      ],
      "text/plain": [
       "        inhibiting z-score\n",
       "TP53             -1.889822\n",
       "FOXO3            -1.414214\n",
       "EGR2             -1.414214\n",
       "NR1H3            -1.414214\n",
       "FOXO4            -1.414214\n",
       "AKT1             -1.414214\n",
       "NR1H2            -1.000000\n",
       "NFE2L2           -1.000000\n",
       "TWIST1           -1.000000\n",
       "FOXP3            -1.000000"
      ]
     },
     "metadata": {},
     "output_type": "display_data"
    }
   ],
   "source": [
    "top_act_brca = stat_analysis.top_values(z_scores_brca, act = True, abs_value = False, top = 10)\n",
    "top_inh_brca = stat_analysis.top_values(z_scores_brca, act = False, abs_value = False, top = 10)\n",
    "display(top_act_brca.to_frame(name = 'activating z-score'))\n",
    "display(top_inh_brca.to_frame(name = 'inhibiting z-score'))"
   ]
  },
  {
   "cell_type": "code",
   "execution_count": 12,
   "metadata": {},
   "outputs": [
    {
     "data": {
      "text/html": [
       "<!doctype html><html><head>  <title>Network | Basic usage</title></head><body><script type=\"text/javascript\">function setUpFrame() {     var frame = window.frames[\"style_file0\"];    frame.runVis([{\"node_shape\": \"dot\", \"degree\": 3.0, \"title\": \"CCL2\", \"color\": \"rgba(0, 0, 256, 1.0)\", \"size_field\": 2.089924707527987, \"y\": 580.6257854010311, \"x\": 438.93382814826407, \"border_width\": 0, \"id\": \"CCL2\"}, {\"node_shape\": \"dot\", \"degree\": 3.0, \"title\": \"TGM2\", \"color\": \"rgba(198, 198, 256, 1.0)\", \"size_field\": 3.932401799030521, \"y\": 452.42275664905355, \"x\": 197.3082548176441, \"border_width\": 0, \"id\": \"TGM2\"}, {\"node_shape\": \"dot\", \"degree\": 3.0, \"title\": \"TP53INP1\", \"color\": \"rgba(0, 0, 256, 1.0)\", \"size_field\": 5.44201937618241, \"y\": 1033.489435064414, \"x\": 620.5507809338889, \"border_width\": 2, \"id\": \"TP53INP1\"}, {\"node_shape\": \"dot\", \"degree\": 3.0, \"title\": \"SIRT2\", \"color\": \"rgba(0, 0, 256, 1.0)\", \"size_field\": 2.8182569916027895, \"y\": 120.3483327033853, \"x\": 971.4538832801542, \"border_width\": 0, \"id\": \"SIRT2\"}, {\"node_shape\": \"dot\", \"degree\": 3.0, \"title\": \"SMAD4\", \"color\": \"rgba(0, 0, 256, 1.0)\", \"size_field\": 3.6782522284344603, \"y\": 1115.4447893954284, \"x\": 552.4475576554131, \"border_width\": 0, \"id\": \"SMAD4\"}, {\"node_shape\": \"dot\", \"degree\": 3.0, \"title\": \"CDKN1B\", \"color\": \"rgba(0, 0, 256, 1.0)\", \"size_field\": 4.10127823628901, \"y\": 1006.3523559748606, \"x\": 507.29875761304413, \"border_width\": 0, \"id\": \"CDKN1B\"}, {\"node_shape\": \"dot\", \"degree\": 3.0, \"title\": \"IGF1R\", \"color\": \"rgba(0, 0, 256, 1.0)\", \"size_field\": 3.944211592419732, \"y\": 698.0871216855346, \"x\": 568.8962266196787, \"border_width\": 0, \"id\": \"IGF1R\"}, {\"node_shape\": \"dot\", \"degree\": 3.0, \"title\": \"BCL2\", \"color\": \"rgba(154, 154, 256, 1.0)\", \"size_field\": 3.5186835491656363, \"y\": 675.4849567687321, \"x\": 668.322486062623, \"border_width\": 0, \"id\": \"BCL2\"}, {\"node_shape\": \"dot\", \"degree\": 3.0, \"title\": \"CHL1\", \"color\": \"rgba(256, 172, 172, 1.0)\", \"size_field\": 2.7991745852054755, \"y\": 629.5043971423127, \"x\": 1081.247633655069, \"border_width\": 0, \"id\": \"CHL1\"}, {\"node_shape\": \"dot\", \"degree\": 3.0, \"title\": \"NDRG1\", \"color\": \"rgba(0, 0, 256, 1.0)\", \"size_field\": 2.282628198149102, \"y\": 635.7533019798977, \"x\": 491.03682952546757, \"border_width\": 0, \"id\": \"NDRG1\"}, {\"node_shape\": \"dot\", \"degree\": 3.0, \"title\": \"MYBL2\", \"color\": \"rgba(34, 34, 256, 1.0)\", \"size_field\": 2.316904931128684, \"y\": 167.49923677181695, \"x\": 188.89745824861615, \"border_width\": 0, \"id\": \"MYBL2\"}, {\"node_shape\": \"dot\", \"degree\": 3.0, \"title\": \"NES\", \"color\": \"rgba(256, 0, 0, 1.0)\", \"size_field\": 2.8751487885429796, \"y\": 856.3194269495367, \"x\": 641.9959100393255, \"border_width\": 0, \"id\": \"NES\"}, {\"node_shape\": \"dot\", \"degree\": 3.0, \"title\": \"GSN\", \"color\": \"rgba(0, 0, 256, 1.0)\", \"size_field\": 3.868856519613022, \"y\": 423.8773488727664, \"x\": 1107.826307398895, \"border_width\": 0, \"id\": \"GSN\"}, {\"node_shape\": \"dot\", \"degree\": 3.0, \"title\": \"MYCN\", \"color\": \"yellow\", \"size_field\": 5.44201937618241, \"y\": 553.2280718116043, \"x\": 545.6443960668583, \"border_width\": 0, \"id\": \"MYCN\"}, {\"node_shape\": \"dot\", \"degree\": 3.0, \"title\": \"KLF10\", \"color\": \"rgba(50, 50, 256, 1.0)\", \"size_field\": 2.8636982817549845, \"y\": 0.7601870897561122, \"x\": 556.5333772378266, \"border_width\": 0, \"id\": \"KLF10\"}, {\"node_shape\": \"dot\", \"degree\": 3.0, \"title\": \"STAT3\", \"color\": \"rgba(0, 0, 256, 1.0)\", \"size_field\": 3.0067626350382306, \"y\": 1040.2059341011516, \"x\": 265.90363216351074, \"border_width\": 0, \"id\": \"STAT3\"}, {\"node_shape\": \"dot\", \"degree\": 3.0, \"title\": \"CHD7\", \"color\": \"rgba(102, 102, 256, 1.0)\", \"size_field\": 3.1933626252139202, \"y\": 537.785247676778, \"x\": 1200.0, \"border_width\": 0, \"id\": \"CHD7\"}, {\"node_shape\": \"dot\", \"degree\": 3.0, \"title\": \"RUNX3\", \"color\": \"rgba(0, 0, 256, 1.0)\", \"size_field\": 2.6790470561811635, \"y\": 1018.6785856134406, \"x\": 743.990964936323, \"border_width\": 0, \"id\": \"RUNX3\"}, {\"node_shape\": \"dot\", \"degree\": 3.0, \"title\": \"CDKL5\", \"color\": \"rgba(0, 0, 256, 1.0)\", \"size_field\": 5.18689277901515, \"y\": 730.2546704885631, \"x\": 960.8196987177621, \"border_width\": 2, \"id\": \"CDKL5\"}, {\"node_shape\": \"dot\", \"degree\": 3.0, \"title\": \"SOX11\", \"color\": \"rgba(0, 0, 256, 1.0)\", \"size_field\": 2.8209805520698303, \"y\": 965.6695713830189, \"x\": 916.6001936072906, \"border_width\": 0, \"id\": \"SOX11\"}, {\"node_shape\": \"dot\", \"degree\": 3.0, \"title\": \"NTRK1\", \"color\": \"rgba(48, 48, 256, 1.0)\", \"size_field\": 2.0781777810640243, \"y\": 494.23402405204905, \"x\": 65.88914708152063, \"border_width\": 0, \"id\": \"NTRK1\"}, {\"node_shape\": \"dot\", \"degree\": 3.0, \"title\": \"RGS5\", \"color\": \"rgba(0, 0, 256, 1.0)\", \"size_field\": 4.6635549612156595, \"y\": 758.695819538948, \"x\": 1117.849769139908, \"border_width\": 0, \"id\": \"RGS5\"}, {\"node_shape\": \"dot\", \"degree\": 3.0, \"title\": \"GLI1\", \"color\": \"rgba(0, 0, 256, 1.0)\", \"size_field\": 2.1338743085563276, \"y\": 207.42845719350584, \"x\": 1120.8885483298407, \"border_width\": 0, \"id\": \"GLI1\"}, {\"node_shape\": \"dot\", \"degree\": 3.0, \"title\": \"NFKB1\", \"color\": \"rgba(0, 0, 256, 1.0)\", \"size_field\": 2.533923675011968, \"y\": 882.7138678203902, \"x\": 370.5142185732551, \"border_width\": 0, \"id\": \"NFKB1\"}, {\"node_shape\": \"dot\", \"degree\": 3.0, \"title\": \"MYC\", \"color\": \"rgba(176, 176, 256, 1.0)\", \"size_field\": 4.296603021316498, \"y\": 979.640839642999, \"x\": 438.9756998939553, \"border_width\": 0, \"id\": \"MYC\"}, {\"node_shape\": \"dot\", \"degree\": 3.0, \"title\": \"TRPM7\", \"color\": \"rgba(0, 0, 256, 1.0)\", \"size_field\": 3.396344696973392, \"y\": 865.8503014784836, \"x\": 985.8885271439898, \"border_width\": 0, \"id\": \"TRPM7\"}, {\"node_shape\": \"dot\", \"degree\": 3.0, \"title\": \"WT1\", \"color\": \"rgba(0, 0, 256, 1.0)\", \"size_field\": 2.133188594243745, \"y\": 145.65892634162765, \"x\": 772.4803280113202, \"border_width\": 0, \"id\": \"WT1\"}, {\"node_shape\": \"dot\", \"degree\": 3.0, \"title\": \"WDR5\", \"color\": \"rgba(142, 142, 256, 1.0)\", \"size_field\": 4.02117263355586, \"y\": 155.02926176377306, \"x\": 381.3699794471103, \"border_width\": 0, \"id\": \"WDR5\"}, {\"node_shape\": \"dot\", \"degree\": 3.0, \"title\": \"SHC2\", \"color\": \"rgba(0, 0, 256, 1.0)\", \"size_field\": 3.370027388656019, \"y\": 70.07974403107139, \"x\": 287.3100947282143, \"border_width\": 0, \"id\": \"SHC2\"}, {\"node_shape\": \"dot\", \"degree\": 3.0, \"title\": \"ASCL1\", \"color\": \"rgba(256, 8, 8, 1.0)\", \"size_field\": 5.414282621210811, \"y\": 543.3578082003738, \"x\": 164.67120801712676, \"border_width\": 2, \"id\": \"ASCL1\"}, {\"node_shape\": \"dot\", \"degree\": 3.0, \"title\": \"CTSD\", \"color\": \"rgba(252, 252, 256, 1.0)\", \"size_field\": 4.838728524744326, \"y\": 814.8144845638355, \"x\": 110.51439071036445, \"border_width\": 0, \"id\": \"CTSD\"}, {\"node_shape\": \"dot\", \"degree\": 3.0, \"title\": \"HMGA1\", \"color\": \"rgba(0, 0, 256, 1.0)\", \"size_field\": 2.8563722416629114, \"y\": 1123.690598701679, \"x\": 415.94717409788467, \"border_width\": 0, \"id\": \"HMGA1\"}, {\"node_shape\": \"dot\", \"degree\": 3.0, \"title\": \"MCM7\", \"color\": \"rgba(130, 130, 256, 1.0)\", \"size_field\": 3.8546992690019293, \"y\": 239.23949120613116, \"x\": 917.319438145118, \"border_width\": 0, \"id\": \"MCM7\"}, {\"node_shape\": \"dot\", \"degree\": 3.0, \"title\": \"VEGFA\", \"color\": \"rgba(148, 148, 256, 1.0)\", \"size_field\": 3.525556428453398, \"y\": 777.4081572947526, \"x\": 518.749187135292, \"border_width\": 0, \"id\": \"VEGFA\"}, {\"node_shape\": \"dot\", \"degree\": 3.0, \"title\": \"SHH\", \"color\": \"rgba(0, 0, 256, 1.0)\", \"size_field\": 2.9731256686266936, \"y\": 454.6208774886272, \"x\": 600.3400553666206, \"border_width\": 0, \"id\": \"SHH\"}, {\"node_shape\": \"dot\", \"degree\": 3.0, \"title\": \"SLC19A1\", \"color\": \"rgba(196, 196, 256, 1.0)\", \"size_field\": 4.267217949156755, \"y\": 683.4674159053799, \"x\": 0.0, \"border_width\": 0, \"id\": \"SLC19A1\"}, {\"node_shape\": \"dot\", \"degree\": 3.0, \"title\": \"TRPM6\", \"color\": \"rgba(0, 0, 256, 1.0)\", \"size_field\": 2.8472311959426606, \"y\": 124.74906907710843, \"x\": 588.8554251519015, \"border_width\": 0, \"id\": \"TRPM6\"}, {\"node_shape\": \"dot\", \"degree\": 3.0, \"title\": \"ALK\", \"color\": \"rgba(0, 0, 256, 1.0)\", \"size_field\": 2.384486701722973, \"y\": 308.2321357010483, \"x\": 1101.2846173234527, \"border_width\": 0, \"id\": \"ALK\"}, {\"node_shape\": \"dot\", \"degree\": 3.0, \"title\": \"TP53\", \"color\": \"rgba(28, 28, 256, 1.0)\", \"size_field\": 2.4205279857852102, \"y\": 980.9995428652793, \"x\": 344.56354850646625, \"border_width\": 0, \"id\": \"TP53\"}, {\"node_shape\": \"dot\", \"degree\": 3.0, \"title\": \"BMP2\", \"color\": \"rgba(256, 54, 54, 1.0)\", \"size_field\": 3.0555527992076628, \"y\": 385.56498704142405, \"x\": 777.4964296676973, \"border_width\": 0, \"id\": \"BMP2\"}, {\"node_shape\": \"dot\", \"degree\": 3.0, \"title\": \"CCND1\", \"color\": \"rgba(74, 74, 256, 1.0)\", \"size_field\": 3.2437536743377806, \"y\": 631.1384773229049, \"x\": 578.8384674675845, \"border_width\": 0, \"id\": \"CCND1\"}, {\"node_shape\": \"dot\", \"degree\": 3.0, \"title\": \"LRRN3\", \"color\": \"rgba(0, 0, 256, 1.0)\", \"size_field\": 2.8171243603796565, \"y\": 494.8713659588584, \"x\": 1009.8209871429566, \"border_width\": 0, \"id\": \"LRRN3\"}, {\"node_shape\": \"dot\", \"degree\": 3.0, \"title\": \"INSM1\", \"color\": \"rgba(0, 0, 256, 1.0)\", \"size_field\": 2.256312612705724, \"y\": 310.1695853128087, \"x\": 116.33732273486942, \"border_width\": 0, \"id\": \"INSM1\"}, {\"node_shape\": \"dot\", \"degree\": 3.0, \"title\": \"AHR\", \"color\": \"rgba(0, 0, 256, 1.0)\", \"size_field\": 2.23990829764694, \"y\": 45.898446760352165, \"x\": 834.6267865727606, \"border_width\": 0, \"id\": \"AHR\"}, {\"node_shape\": \"dot\", \"degree\": 3.0, \"title\": \"PTEN\", \"color\": \"rgba(0, 0, 256, 1.0)\", \"size_field\": 3.3242589702004377, \"y\": 806.6062607826456, \"x\": 192.09973282912148, \"border_width\": 0, \"id\": \"PTEN\"}, {\"node_shape\": \"dot\", \"degree\": 3.0, \"title\": \"VIP\", \"color\": \"rgba(110, 110, 256, 1.0)\", \"size_field\": 2.0948602810239603, \"y\": 716.2961648547645, \"x\": 266.21121031669753, \"border_width\": 0, \"id\": \"VIP\"}, {\"node_shape\": \"dot\", \"degree\": 3.0, \"title\": \"RD3\", \"color\": \"rgba(0, 0, 256, 1.0)\", \"size_field\": 2.0142003494011416, \"y\": 14.05115740839197, \"x\": 439.0673339263068, \"border_width\": 0, \"id\": \"RD3\"}, {\"node_shape\": \"dot\", \"degree\": 3.0, \"title\": \"SIRT1\", \"color\": \"rgba(44, 44, 256, 1.0)\", \"size_field\": 2.434173272244908, \"y\": 849.1049442626918, \"x\": 285.09351227924685, \"border_width\": 0, \"id\": \"SIRT1\"}, {\"node_shape\": \"dot\", \"degree\": 3.0, \"title\": \"MTOR\", \"color\": \"rgba(142, 142, 256, 1.0)\", \"size_field\": 2.2470520963658855, \"y\": 950.3567602546381, \"x\": 200.75500287511974, \"border_width\": 0, \"id\": \"MTOR\"}, {\"node_shape\": \"dot\", \"degree\": 3.0, \"title\": \"KDM3A\", \"color\": \"rgba(150, 150, 256, 1.0)\", \"size_field\": 3.606941032235513, \"y\": 0.0, \"x\": 707.0666777879769, \"border_width\": 0, \"id\": \"KDM3A\"}, {\"node_shape\": \"dot\", \"degree\": 3.0, \"title\": \"KDM5B\", \"color\": \"rgba(0, 0, 256, 1.0)\", \"size_field\": 2.501865882394519, \"y\": 597.1111790197053, \"x\": 30.410878207099977, \"border_width\": 0, \"id\": \"KDM5B\"}, {\"node_shape\": \"dot\", \"degree\": 3.0, \"title\": \"CDC42\", \"color\": \"rgba(102, 102, 256, 1.0)\", \"size_field\": 2.6002034349172076, \"y\": 480.66292299073723, \"x\": 837.9587879357751, \"border_width\": 0, \"id\": \"CDC42\"}], [{\"color\": \"blue\", \"source\": 26, \"target\": 40}, {\"color\": \"blue\", \"source\": 26, \"target\": 13}, {\"color\": \"blue\", \"source\": 26, \"target\": 6}, {\"color\": \"blue\", \"source\": 26, \"target\": 7}, {\"color\": \"blue\", \"source\": 4, \"target\": 13}, {\"color\": \"red\", \"source\": 4, \"target\": 38}, {\"color\": \"blue\", \"source\": 4, \"target\": 40}, {\"color\": \"red\", \"source\": 4, \"target\": 5}, {\"color\": \"blue\", \"source\": 4, \"target\": 33}, {\"color\": \"blue\", \"source\": 4, \"target\": 24}, {\"color\": \"red\", \"source\": 27, \"target\": 13}, {\"color\": \"red\", \"source\": 10, \"target\": 13}, {\"color\": \"blue\", \"source\": 13, \"target\": 0}, {\"color\": \"blue\", \"source\": 13, \"target\": 1}, {\"color\": \"blue\", \"source\": 13, \"target\": 2}, {\"color\": \"red\", \"source\": 13, \"target\": 3}, {\"color\": \"blue\", \"source\": 13, \"target\": 4}, {\"color\": \"blue\", \"source\": 13, \"target\": 5}, {\"color\": \"red\", \"source\": 13, \"target\": 6}, {\"color\": \"red\", \"source\": 13, \"target\": 7}, {\"color\": \"blue\", \"source\": 13, \"target\": 8}, {\"color\": \"blue\", \"source\": 13, \"target\": 9}, {\"color\": \"red\", \"source\": 13, \"target\": 10}, {\"color\": \"red\", \"source\": 13, \"target\": 11}, {\"color\": \"red\", \"source\": 13, \"target\": 11}, {\"color\": \"blue\", \"source\": 13, \"target\": 12}, {\"color\": \"blue\", \"source\": 13, \"target\": 14}, {\"color\": \"red\", \"source\": 13, \"target\": 15}, {\"color\": \"blue\", \"source\": 13, \"target\": 16}, {\"color\": \"blue\", \"source\": 13, \"target\": 17}, {\"color\": \"blue\", \"source\": 13, \"target\": 18}, {\"color\": \"red\", \"source\": 13, \"target\": 19}, {\"color\": \"blue\", \"source\": 13, \"target\": 20}, {\"color\": \"blue\", \"source\": 13, \"target\": 21}, {\"color\": \"red\", \"source\": 13, \"target\": 22}, {\"color\": \"blue\", \"source\": 13, \"target\": 23}, {\"color\": \"blue\", \"source\": 13, \"target\": 24}, {\"color\": \"red\", \"source\": 13, \"target\": 25}, {\"color\": \"blue\", \"source\": 13, \"target\": 26}, {\"color\": \"red\", \"source\": 13, \"target\": 27}, {\"color\": \"red\", \"source\": 13, \"target\": 28}, {\"color\": \"red\", \"source\": 13, \"target\": 29}, {\"color\": \"blue\", \"source\": 13, \"target\": 30}, {\"color\": \"red\", \"source\": 13, \"target\": 31}, {\"color\": \"red\", \"source\": 13, \"target\": 32}, {\"color\": \"red\", \"source\": 13, \"target\": 33}, {\"color\": \"red\", \"source\": 13, \"target\": 34}, {\"color\": \"red\", \"source\": 13, \"target\": 35}, {\"color\": \"red\", \"source\": 13, \"target\": 36}, {\"color\": \"red\", \"source\": 13, \"target\": 37}, {\"color\": \"red\", \"source\": 13, \"target\": 38}, {\"color\": \"blue\", \"source\": 13, \"target\": 39}, {\"color\": \"red\", \"source\": 13, \"target\": 40}, {\"color\": \"blue\", \"source\": 13, \"target\": 41}, {\"color\": \"red\", \"source\": 13, \"target\": 42}, {\"color\": \"blue\", \"source\": 13, \"target\": 43}, {\"color\": \"red\", \"source\": 13, \"target\": 44}, {\"color\": \"blue\", \"source\": 13, \"target\": 45}, {\"color\": \"blue\", \"source\": 13, \"target\": 46}, {\"color\": \"red\", \"source\": 13, \"target\": 47}, {\"color\": \"red\", \"source\": 13, \"target\": 48}, {\"color\": \"red\", \"source\": 13, \"target\": 49}, {\"color\": \"blue\", \"source\": 13, \"target\": 50}, {\"color\": \"blue\", \"source\": 13, \"target\": 51}, {\"color\": \"blue\", \"source\": 13, \"target\": 51}, {\"color\": \"blue\", \"source\": 14, \"target\": 13}, {\"color\": \"red\", \"source\": 14, \"target\": 39}, {\"color\": \"red\", \"source\": 15, \"target\": 13}, {\"color\": \"red\", \"source\": 15, \"target\": 6}, {\"color\": \"blue\", \"source\": 15, \"target\": 38}, {\"color\": \"blue\", \"source\": 15, \"target\": 40}, {\"color\": \"blue\", \"source\": 15, \"target\": 40}, {\"color\": \"blue\", \"source\": 15, \"target\": 47}, {\"color\": \"blue\", \"source\": 15, \"target\": 33}, {\"color\": \"blue\", \"source\": 15, \"target\": 33}, {\"color\": \"red\", \"source\": 15, \"target\": 48}, {\"color\": \"red\", \"source\": 15, \"target\": 24}, {\"color\": \"blue\", \"source\": 44, \"target\": 0}, {\"color\": \"red\", \"source\": 44, \"target\": 13}, {\"color\": \"blue\", \"source\": 44, \"target\": 1}, {\"color\": \"blue\", \"source\": 44, \"target\": 38}, {\"color\": \"blue\", \"source\": 44, \"target\": 40}, {\"color\": \"blue\", \"source\": 44, \"target\": 20}, {\"color\": \"blue\", \"source\": 44, \"target\": 33}, {\"color\": \"blue\", \"source\": 44, \"target\": 48}, {\"color\": \"red\", \"source\": 44, \"target\": 9}, {\"color\": \"blue\", \"source\": 44, \"target\": 24}, {\"color\": \"blue\", \"source\": 44, \"target\": 50}, {\"color\": \"blue\", \"source\": 44, \"target\": 7}, {\"color\": \"red\", \"source\": 19, \"target\": 13}, {\"color\": \"red\", \"source\": 22, \"target\": 13}, {\"color\": \"red\", \"source\": 22, \"target\": 37}, {\"color\": \"blue\", \"source\": 22, \"target\": 40}, {\"color\": \"blue\", \"source\": 22, \"target\": 40}, {\"color\": \"red\", \"source\": 22, \"target\": 34}, {\"color\": \"red\", \"source\": 22, \"target\": 34}, {\"color\": \"blue\", \"source\": 22, \"target\": 7}, {\"color\": \"blue\", \"source\": 22, \"target\": 7}, {\"color\": \"blue\", \"source\": 22, \"target\": 39}, {\"color\": \"blue\", \"source\": 22, \"target\": 39}, {\"color\": \"red\", \"source\": 23, \"target\": 0}, {\"color\": \"blue\", \"source\": 23, \"target\": 13}, {\"color\": \"blue\", \"source\": 23, \"target\": 47}, {\"color\": \"blue\", \"source\": 23, \"target\": 47}, {\"color\": \"red\", \"source\": 23, \"target\": 38}, {\"color\": \"red\", \"source\": 23, \"target\": 40}, {\"color\": \"red\", \"source\": 23, \"target\": 33}, {\"color\": \"red\", \"source\": 23, \"target\": 34}, {\"color\": \"red\", \"source\": 23, \"target\": 48}, {\"color\": \"red\", \"source\": 23, \"target\": 24}, {\"color\": \"red\", \"source\": 23, \"target\": 7}, {\"color\": \"red\", \"source\": 24, \"target\": 0}, {\"color\": \"blue\", \"source\": 24, \"target\": 13}, {\"color\": \"red\", \"source\": 24, \"target\": 47}, {\"color\": \"red\", \"source\": 24, \"target\": 15}, {\"color\": \"blue\", \"source\": 24, \"target\": 2}, {\"color\": \"blue\", \"source\": 24, \"target\": 38}, {\"color\": \"blue\", \"source\": 24, \"target\": 17}, {\"color\": \"red\", \"source\": 24, \"target\": 40}, {\"color\": \"blue\", \"source\": 24, \"target\": 5}, {\"color\": \"blue\", \"source\": 24, \"target\": 5}, {\"color\": \"red\", \"source\": 24, \"target\": 23}, {\"color\": \"blue\", \"source\": 24, \"target\": 39}, {\"color\": \"blue\", \"source\": 24, \"target\": 44}, {\"color\": \"blue\", \"source\": 24, \"target\": 45}, {\"color\": \"blue\", \"source\": 24, \"target\": 33}, {\"color\": \"blue\", \"source\": 24, \"target\": 9}, {\"color\": \"blue\", \"source\": 24, \"target\": 9}, {\"color\": \"blue\", \"source\": 24, \"target\": 48}, {\"color\": \"red\", \"source\": 24, \"target\": 31}, {\"color\": \"blue\", \"source\": 24, \"target\": 4}, {\"color\": \"blue\", \"source\": 24, \"target\": 7}, {\"color\": \"blue\", \"source\": 24, \"target\": 7}, {\"color\": \"red\", \"source\": 3, \"target\": 13}, {\"color\": \"red\", \"source\": 29, \"target\": 34}, {\"color\": \"red\", \"source\": 29, \"target\": 13}, {\"color\": \"blue\", \"source\": 29, \"target\": 47}, {\"color\": \"red\", \"source\": 29, \"target\": 42}, {\"color\": \"red\", \"source\": 31, \"target\": 13}, {\"color\": \"red\", \"source\": 31, \"target\": 24}, {\"color\": \"blue\", \"source\": 31, \"target\": 38}, {\"color\": \"red\", \"source\": 32, \"target\": 13}, {\"color\": \"red\", \"source\": 38, \"target\": 0}, {\"color\": \"red\", \"source\": 38, \"target\": 13}, {\"color\": \"blue\", \"source\": 38, \"target\": 6}, {\"color\": \"red\", \"source\": 38, \"target\": 2}, {\"color\": \"blue\", \"source\": 38, \"target\": 15}, {\"color\": \"blue\", \"source\": 38, \"target\": 40}, {\"color\": \"blue\", \"source\": 38, \"target\": 5}, {\"color\": \"red\", \"source\": 38, \"target\": 30}, {\"color\": \"blue\", \"source\": 38, \"target\": 47}, {\"color\": \"blue\", \"source\": 38, \"target\": 47}, {\"color\": \"blue\", \"source\": 38, \"target\": 47}, {\"color\": \"blue\", \"source\": 38, \"target\": 31}, {\"color\": \"blue\", \"source\": 38, \"target\": 44}, {\"color\": \"blue\", \"source\": 38, \"target\": 33}, {\"color\": \"red\", \"source\": 38, \"target\": 9}, {\"color\": \"red\", \"source\": 38, \"target\": 34}, {\"color\": \"red\", \"source\": 38, \"target\": 23}, {\"color\": \"blue\", \"source\": 38, \"target\": 24}, {\"color\": \"blue\", \"source\": 38, \"target\": 11}, {\"color\": \"red\", \"source\": 38, \"target\": 4}, {\"color\": \"blue\", \"source\": 38, \"target\": 7}, {\"color\": \"blue\", \"source\": 38, \"target\": 7}, {\"color\": \"blue\", \"source\": 38, \"target\": 7}, {\"color\": \"blue\", \"source\": 42, \"target\": 40}, {\"color\": \"red\", \"source\": 42, \"target\": 13}, {\"color\": \"red\", \"source\": 42, \"target\": 29}, {\"color\": \"red\", \"source\": 42, \"target\": 34}, {\"color\": \"red\", \"source\": 43, \"target\": 0}, {\"color\": \"red\", \"source\": 43, \"target\": 9}, {\"color\": \"red\", \"source\": 43, \"target\": 33}, {\"color\": \"blue\", \"source\": 43, \"target\": 13}, {\"color\": \"blue\", \"source\": 17, \"target\": 13}, {\"color\": \"blue\", \"source\": 17, \"target\": 24}, {\"color\": \"blue\", \"source\": 17, \"target\": 33}, {\"color\": \"blue\", \"source\": 17, \"target\": 7}, {\"color\": \"red\", \"source\": 47, \"target\": 13}, {\"color\": \"blue\", \"source\": 47, \"target\": 15}, {\"color\": \"red\", \"source\": 47, \"target\": 5}, {\"color\": \"blue\", \"source\": 47, \"target\": 29}, {\"color\": \"blue\", \"source\": 47, \"target\": 33}, {\"color\": \"blue\", \"source\": 47, \"target\": 23}, {\"color\": \"blue\", \"source\": 47, \"target\": 23}, {\"color\": \"blue\", \"source\": 47, \"target\": 38}, {\"color\": \"blue\", \"source\": 47, \"target\": 38}, {\"color\": \"blue\", \"source\": 47, \"target\": 38}, {\"color\": \"red\", \"source\": 47, \"target\": 24}, {\"color\": \"blue\", \"source\": 50, \"target\": 13}, {\"color\": \"blue\", \"source\": 50, \"target\": 44}]);}</script><iframe name=\"style_file0\" src=\"style_file0.html\" height=\"1200px\" width=\"100%;\"></iframe></body></html>"
      ],
      "text/plain": [
       "<IPython.core.display.HTML object>"
      ]
     },
     "execution_count": 12,
     "metadata": {},
     "output_type": "execute_result"
    }
   ],
   "source": [
    "stat_analysis.vis_tf_network(DG_brca, 'MYCN', '../geo2r_GSE11352_brca_48hours.txt', DEG_list_brca,\n",
    "              directed_edges = False,\n",
    "              node_spacing = 1200,\n",
    "              graph_id = 0) "
   ]
  },
  {
   "cell_type": "code",
   "execution_count": 15,
   "metadata": {},
   "outputs": [
    {
     "data": {
      "text/html": [
       "<!doctype html><html><head>  <title>Network | Basic usage</title></head><body><script type=\"text/javascript\">function setUpFrame() {     var frame = window.frames[\"style_file1\"];    frame.runVis([{\"node_shape\": \"dot\", \"degree\": 3.0, \"title\": \"MOV10\", \"color\": \"rgba(0, 0, 256, 1.0)\", \"size_field\": 3.4300372840678093, \"y\": 1572.4600146532239, \"x\": 1313.0492276582825, \"border_width\": 0, \"id\": \"MOV10\"}, {\"node_shape\": \"dot\", \"degree\": 3.0, \"title\": \"HSPA4\", \"color\": \"rgba(226, 226, 256, 1.0)\", \"size_field\": 4.446455463413748, \"y\": 1233.8734711071731, \"x\": 590.2288133560762, \"border_width\": 0, \"id\": \"HSPA4\"}, {\"node_shape\": \"dot\", \"degree\": 3.0, \"title\": \"PLK1\", \"color\": \"rgba(140, 140, 256, 1.0)\", \"size_field\": 3.433385968653741, \"y\": 714.506185746802, \"x\": 1784.5422599834922, \"border_width\": 0, \"id\": \"PLK1\"}, {\"node_shape\": \"dot\", \"degree\": 3.0, \"title\": \"PRKAG3\", \"color\": \"rgba(0, 0, 256, 1.0)\", \"size_field\": 2.573055700302125, \"y\": 1789.7246773727802, \"x\": 1435.9885868162798, \"border_width\": 0, \"id\": \"PRKAG3\"}, {\"node_shape\": \"dot\", \"degree\": 3.0, \"title\": \"PRKAG2\", \"color\": \"rgba(166, 166, 256, 1.0)\", \"size_field\": 3.7153541380256496, \"y\": 984.0559473306682, \"x\": 1850.8245106448667, \"border_width\": 0, \"id\": \"PRKAG2\"}, {\"node_shape\": \"dot\", \"degree\": 3.0, \"title\": \"IKBKB\", \"color\": \"rgba(0, 0, 256, 1.0)\", \"size_field\": 2.5563461390678, \"y\": 594.1012597017683, \"x\": 1401.028818653547, \"border_width\": 0, \"id\": \"IKBKB\"}, {\"node_shape\": \"dot\", \"degree\": 3.0, \"title\": \"AKT1\", \"color\": \"rgba(28, 28, 256, 1.0)\", \"size_field\": 2.3191039424601207, \"y\": 698.6180687193814, \"x\": 1505.4145481183143, \"border_width\": 0, \"id\": \"AKT1\"}, {\"node_shape\": \"dot\", \"degree\": 3.0, \"title\": \"AKT2\", \"color\": \"rgba(0, 0, 256, 1.0)\", \"size_field\": 3.296819354692288, \"y\": 1010.7329132131621, \"x\": 1292.3063093299525, \"border_width\": 0, \"id\": \"AKT2\"}, {\"node_shape\": \"dot\", \"degree\": 3.0, \"title\": \"AKT3\", \"color\": \"rgba(256, 0, 0, 1.0)\", \"size_field\": 2.7689488939762272, \"y\": 882.0754217178832, \"x\": 1408.7673845800289, \"border_width\": 0, \"id\": \"AKT3\"}, {\"node_shape\": \"dot\", \"degree\": 3.0, \"title\": \"TNRC6C\", \"color\": \"rgba(0, 0, 256, 1.0)\", \"size_field\": 4.584948003968227, \"y\": 1482.7252727156178, \"x\": 970.9796908140981, \"border_width\": 0, \"id\": \"TNRC6C\"}, {\"node_shape\": \"dot\", \"degree\": 3.0, \"title\": \"TNRC6B\", \"color\": \"rgba(0, 0, 256, 1.0)\", \"size_field\": 3.8457933577205408, \"y\": 835.5837196875679, \"x\": 721.7263960585974, \"border_width\": 0, \"id\": \"TNRC6B\"}, {\"node_shape\": \"dot\", \"degree\": 3.0, \"title\": \"TNRC6A\", \"color\": \"rgba(256, 194, 194, 1.0)\", \"size_field\": 2.9205497887945384, \"y\": 580.5926975363893, \"x\": 1055.4325455068638, \"border_width\": 0, \"id\": \"TNRC6A\"}, {\"node_shape\": \"dot\", \"degree\": 3.0, \"title\": \"PMAIP1\", \"color\": \"rgba(256, 242, 242, 1.0)\", \"size_field\": 4.71356538179032, \"y\": 1043.7211955829016, \"x\": 1633.2095878508217, \"border_width\": 0, \"id\": \"PMAIP1\"}, {\"node_shape\": \"dot\", \"degree\": 3.0, \"title\": \"ADIPOQ\", \"color\": \"rgba(0, 0, 256, 1.0)\", \"size_field\": 2.7832907304129115, \"y\": 1217.6249871047726, \"x\": 1442.8380096143057, \"border_width\": 0, \"id\": \"ADIPOQ\"}, {\"node_shape\": \"dot\", \"degree\": 3.0, \"title\": \"RAN\", \"color\": \"rgba(100, 100, 256, 1.0)\", \"size_field\": 3.3034248832975956, \"y\": 557.9313383230256, \"x\": 981.8581001266692, \"border_width\": 0, \"id\": \"RAN\"}, {\"node_shape\": \"dot\", \"degree\": 3.0, \"title\": \"GADD45A\", \"color\": \"rgba(0, 0, 256, 1.0)\", \"size_field\": 2.279846186684006, \"y\": 954.5786637003708, \"x\": 1185.7583542199893, \"border_width\": 0, \"id\": \"GADD45A\"}, {\"node_shape\": \"dot\", \"degree\": 3.0, \"title\": \"YWHAH\", \"color\": \"rgba(202, 202, 256, 1.0)\", \"size_field\": 2.9757753787090473, \"y\": 363.42498123251545, \"x\": 1776.379179571224, \"border_width\": 0, \"id\": \"YWHAH\"}, {\"node_shape\": \"dot\", \"degree\": 3.0, \"title\": \"PRKAG1\", \"color\": \"rgba(0, 0, 256, 1.0)\", \"size_field\": 2.0030045090202986, \"y\": 1397.1365026170681, \"x\": 1620.6851361671822, \"border_width\": 0, \"id\": \"PRKAG1\"}, {\"node_shape\": \"dot\", \"degree\": 3.0, \"title\": \"CSNK1E\", \"color\": \"rgba(82, 82, 256, 1.0)\", \"size_field\": 2.6933472005626125, \"y\": 676.0082629607393, \"x\": 778.7017249235606, \"border_width\": 0, \"id\": \"CSNK1E\"}, {\"node_shape\": \"dot\", \"degree\": 3.0, \"title\": \"CDH1\", \"color\": \"rgba(0, 0, 256, 1.0)\", \"size_field\": 2.655080979753489, \"y\": 1070.008173797056, \"x\": 1418.6247125469283, \"border_width\": 0, \"id\": \"CDH1\"}, {\"node_shape\": \"dot\", \"degree\": 3.0, \"title\": \"MYC\", \"color\": \"rgba(218, 218, 256, 1.0)\", \"size_field\": 4.296603021316498, \"y\": 672.8726897612429, \"x\": 1345.9111694048565, \"border_width\": 0, \"id\": \"MYC\"}, {\"node_shape\": \"dot\", \"degree\": 3.0, \"title\": \"CDKN2B\", \"color\": \"rgba(0, 0, 256, 1.0)\", \"size_field\": 5.094448246493149, \"y\": 995.281023618346, \"x\": 956.1325738780723, \"border_width\": 2, \"id\": \"CDKN2B\"}, {\"node_shape\": \"dot\", \"degree\": 3.0, \"title\": \"STK11\", \"color\": \"rgba(0, 0, 256, 1.0)\", \"size_field\": 3.3356012468043725, \"y\": 477.76419162121994, \"x\": 1541.650464851211, \"border_width\": 0, \"id\": \"STK11\"}, {\"node_shape\": \"dot\", \"degree\": 3.0, \"title\": \"CTSL\", \"color\": \"rgba(0, 0, 256, 1.0)\", \"size_field\": 2.741917344929375, \"y\": 868.5717613255225, \"x\": 443.267064146619, \"border_width\": 0, \"id\": \"CTSL\"}, {\"node_shape\": \"dot\", \"degree\": 3.0, \"title\": \"SP1\", \"color\": \"rgba(0, 0, 256, 1.0)\", \"size_field\": 3.0659515064285614, \"y\": 964.3209750192734, \"x\": 891.0374395783258, \"border_width\": 0, \"id\": \"SP1\"}, {\"node_shape\": \"dot\", \"degree\": 3.0, \"title\": \"TSC22D3\", \"color\": \"rgba(0, 0, 256, 1.0)\", \"size_field\": 4.267217949156755, \"y\": 275.7099618586302, \"x\": 1362.5894959380355, \"border_width\": 0, \"id\": \"TSC22D3\"}, {\"node_shape\": \"dot\", \"degree\": 3.0, \"title\": \"STK4\", \"color\": \"rgba(0, 0, 256, 1.0)\", \"size_field\": 3.4093583007184423, \"y\": 1345.404499783761, \"x\": 1590.9264907665981, \"border_width\": 0, \"id\": \"STK4\"}, {\"node_shape\": \"dot\", \"degree\": 3.0, \"title\": \"SNAI1\", \"color\": \"rgba(256, 150, 150, 1.0)\", \"size_field\": 2.7936307191382674, \"y\": 1332.5967427969042, \"x\": 1335.9144973029133, \"border_width\": 0, \"id\": \"SNAI1\"}, {\"node_shape\": \"dot\", \"degree\": 3.0, \"title\": \"SETD7\", \"color\": \"rgba(54, 54, 256, 1.0)\", \"size_field\": 2.7244314705997117, \"y\": 1297.5798377803853, \"x\": 1084.8743666108157, \"border_width\": 0, \"id\": \"SETD7\"}, {\"node_shape\": \"dot\", \"degree\": 3.0, \"title\": \"GATA1\", \"color\": \"rgba(0, 0, 256, 1.0)\", \"size_field\": 2.1928568587093373, \"y\": 1029.1620987896706, \"x\": 1607.8547490607457, \"border_width\": 0, \"id\": \"GATA1\"}, {\"node_shape\": \"dot\", \"degree\": 3.0, \"title\": \"NME1\", \"color\": \"rgba(188, 188, 256, 1.0)\", \"size_field\": 4.267217949156755, \"y\": 1399.1050974341747, \"x\": 760.3514028743856, \"border_width\": 0, \"id\": \"NME1\"}, {\"node_shape\": \"dot\", \"degree\": 3.0, \"title\": \"FOXM1\", \"color\": \"rgba(0, 0, 256, 1.0)\", \"size_field\": 2.045311222710003, \"y\": 1352.6768317057097, \"x\": 1266.59249612769, \"border_width\": 0, \"id\": \"FOXM1\"}, {\"node_shape\": \"dot\", \"degree\": 3.0, \"title\": \"FOXP3\", \"color\": \"rgba(214, 214, 256, 1.0)\", \"size_field\": 2.736054681571222, \"y\": 1196.5094070913124, \"x\": 1246.330791079435, \"border_width\": 0, \"id\": \"FOXP3\"}, {\"node_shape\": \"dot\", \"degree\": 3.0, \"title\": \"TNFSF10\", \"color\": \"rgba(0, 0, 256, 1.0)\", \"size_field\": 3.7909597890574904, \"y\": 688.2621281922324, \"x\": 982.9344522660153, \"border_width\": 0, \"id\": \"TNFSF10\"}, {\"node_shape\": \"dot\", \"degree\": 3.0, \"title\": \"CDKN1B\", \"color\": \"rgba(0, 0, 256, 1.0)\", \"size_field\": 4.10127823628901, \"y\": 824.1906411730296, \"x\": 1184.1419466917819, \"border_width\": 0, \"id\": \"CDKN1B\"}, {\"node_shape\": \"dot\", \"degree\": 3.0, \"title\": \"CDKN1A\", \"color\": \"rgba(0, 0, 256, 1.0)\", \"size_field\": 2.1101497435009873, \"y\": 874.8006873487939, \"x\": 1293.0358390354018, \"border_width\": 0, \"id\": \"CDKN1A\"}, {\"node_shape\": \"dot\", \"degree\": 3.0, \"title\": \"KAT2B\", \"color\": \"rgba(0, 0, 256, 1.0)\", \"size_field\": 4.8717462937730005, \"y\": 1012.0124835492624, \"x\": 994.9328276456519, \"border_width\": 0, \"id\": \"KAT2B\"}, {\"node_shape\": \"dot\", \"degree\": 3.0, \"title\": \"PINK1\", \"color\": \"rgba(0, 0, 256, 1.0)\", \"size_field\": 3.1384972223670244, \"y\": 746.5093682205879, \"x\": 1567.820695204809, \"border_width\": 0, \"id\": \"PINK1\"}, {\"node_shape\": \"dot\", \"degree\": 3.0, \"title\": \"MTDH\", \"color\": \"rgba(0, 0, 256, 1.0)\", \"size_field\": 3.389098288452625, \"y\": 1052.092923332843, \"x\": 1038.855205990633, \"border_width\": 0, \"id\": \"MTDH\"}, {\"node_shape\": \"dot\", \"degree\": 3.0, \"title\": \"XPO1\", \"color\": \"rgba(0, 0, 256, 1.0)\", \"size_field\": 2.8060919395760795, \"y\": 1182.9646568985206, \"x\": 1753.0769737539056, \"border_width\": 0, \"id\": \"XPO1\"}, {\"node_shape\": \"dot\", \"degree\": 3.0, \"title\": \"MST1\", \"color\": \"rgba(0, 0, 256, 1.0)\", \"size_field\": 2.6597124044737077, \"y\": 1274.156924945032, \"x\": 774.0255453910542, \"border_width\": 0, \"id\": \"MST1\"}, {\"node_shape\": \"dot\", \"degree\": 3.0, \"title\": \"RRM2B\", \"color\": \"rgba(0, 0, 256, 1.0)\", \"size_field\": 2.4879232305486862, \"y\": 794.0160282584498, \"x\": 536.5315742688545, \"border_width\": 0, \"id\": \"RRM2B\"}, {\"node_shape\": \"dot\", \"degree\": 3.0, \"title\": \"NLK\", \"color\": \"rgba(0, 0, 256, 1.0)\", \"size_field\": 2.980829253011726, \"y\": 1247.1034687077847, \"x\": 934.8290010743127, \"border_width\": 0, \"id\": \"NLK\"}, {\"node_shape\": \"dot\", \"degree\": 3.0, \"title\": \"SIRT1\", \"color\": \"rgba(54, 54, 256, 1.0)\", \"size_field\": 2.434173272244908, \"y\": 661.3067078792799, \"x\": 1467.65961852198, \"border_width\": 0, \"id\": \"SIRT1\"}, {\"node_shape\": \"dot\", \"degree\": 3.0, \"title\": \"PRKAB2\", \"color\": \"rgba(0, 0, 256, 1.0)\", \"size_field\": 3.8891518152367044, \"y\": 1215.1109707913174, \"x\": 736.928119941811, \"border_width\": 0, \"id\": \"PRKAB2\"}, {\"node_shape\": \"dot\", \"degree\": 3.0, \"title\": \"PRKAB1\", \"color\": \"rgba(102, 102, 256, 1.0)\", \"size_field\": 3.2013096869064523, \"y\": 770.9073434274942, \"x\": 1321.6058518194175, \"border_width\": 0, \"id\": \"PRKAB1\"}, {\"node_shape\": \"dot\", \"degree\": 3.0, \"title\": \"NUPR1\", \"color\": \"rgba(0, 0, 256, 1.0)\", \"size_field\": 2.2514144332812394, \"y\": 691.5621078155935, \"x\": 806.3680104839691, \"border_width\": 0, \"id\": \"NUPR1\"}, {\"node_shape\": \"dot\", \"degree\": 3.0, \"title\": \"CHUK\", \"color\": \"rgba(8, 8, 256, 1.0)\", \"size_field\": 2.055512709930259, \"y\": 190.64520510184846, \"x\": 1798.0496521356545, \"border_width\": 0, \"id\": \"CHUK\"}, {\"node_shape\": \"dot\", \"degree\": 3.0, \"title\": \"VEGFA\", \"color\": \"rgba(182, 182, 256, 1.0)\", \"size_field\": 3.525556428453398, \"y\": 923.4559313394531, \"x\": 1331.130125235832, \"border_width\": 0, \"id\": \"VEGFA\"}, {\"node_shape\": \"dot\", \"degree\": 3.0, \"title\": \"BNIP3\", \"color\": \"rgba(202, 202, 256, 1.0)\", \"size_field\": 4.042531187659739, \"y\": 322.49919638085913, \"x\": 1878.2459069677982, \"border_width\": 0, \"id\": \"BNIP3\"}, {\"node_shape\": \"dot\", \"degree\": 3.0, \"title\": \"ESR2\", \"color\": \"rgba(0, 0, 256, 1.0)\", \"size_field\": 2.626049437027451, \"y\": 1516.538428796258, \"x\": 1571.6886454346998, \"border_width\": 0, \"id\": \"ESR2\"}, {\"node_shape\": \"dot\", \"degree\": 3.0, \"title\": \"G6PC\", \"color\": \"rgba(256, 186, 186, 1.0)\", \"size_field\": 2.325591645525001, \"y\": 743.6751092082296, \"x\": 448.8643069166595, \"border_width\": 0, \"id\": \"G6PC\"}, {\"node_shape\": \"dot\", \"degree\": 3.0, \"title\": \"FBXO32\", \"color\": \"rgba(0, 0, 256, 1.0)\", \"size_field\": 3.8825598335545513, \"y\": 1947.4599272238986, \"x\": 1521.0330722051651, \"border_width\": 0, \"id\": \"FBXO32\"}, {\"node_shape\": \"dot\", \"degree\": 3.0, \"title\": \"AGO4\", \"color\": \"rgba(0, 0, 256, 1.0)\", \"size_field\": 4.607752479786846, \"y\": 1302.9113417589997, \"x\": 837.2041866401366, \"border_width\": 0, \"id\": \"AGO4\"}, {\"node_shape\": \"dot\", \"degree\": 3.0, \"title\": \"AGO1\", \"color\": \"rgba(0, 0, 256, 1.0)\", \"size_field\": 3.6852396258503823, \"y\": 1264.684712167487, \"x\": 1780.5369069728233, \"border_width\": 0, \"id\": \"AGO1\"}, {\"node_shape\": \"dot\", \"degree\": 3.0, \"title\": \"AGO3\", \"color\": \"rgba(62, 62, 256, 1.0)\", \"size_field\": 2.3934871313487576, \"y\": 1132.113670516651, \"x\": 548.5624966967151, \"border_width\": 0, \"id\": \"AGO3\"}, {\"node_shape\": \"dot\", \"degree\": 3.0, \"title\": \"AGO2\", \"color\": \"rgba(0, 0, 256, 1.0)\", \"size_field\": 2.7756596021344095, \"y\": 1050.2822010389675, \"x\": 745.9410678036984, \"border_width\": 0, \"id\": \"AGO2\"}, {\"node_shape\": \"dot\", \"degree\": 3.0, \"title\": \"VMP1\", \"color\": \"rgba(0, 0, 256, 1.0)\", \"size_field\": 3.4841277214686537, \"y\": 848.9083123067478, \"x\": 1386.1877168792637, \"border_width\": 0, \"id\": \"VMP1\"}, {\"node_shape\": \"dot\", \"degree\": 3.0, \"title\": \"MAPK14\", \"color\": \"rgba(30, 30, 256, 1.0)\", \"size_field\": 2.3129315067052314, \"y\": 777.8872239344772, \"x\": 1237.664101463587, \"border_width\": 0, \"id\": \"MAPK14\"}, {\"node_shape\": \"dot\", \"degree\": 3.0, \"title\": \"CCNG2\", \"color\": \"rgba(0, 0, 256, 1.0)\", \"size_field\": 4.852498105468083, \"y\": 1452.3605577736655, \"x\": 1788.530870320637, \"border_width\": 0, \"id\": \"CCNG2\"}, {\"node_shape\": \"dot\", \"degree\": 3.0, \"title\": \"MAPK10\", \"color\": \"rgba(0, 0, 256, 1.0)\", \"size_field\": 3.3474583373346922, \"y\": 520.9072089328396, \"x\": 1239.0882738225002, \"border_width\": 0, \"id\": \"MAPK10\"}, {\"node_shape\": \"dot\", \"degree\": 3.0, \"title\": \"MAPK11\", \"color\": \"rgba(0, 0, 256, 1.0)\", \"size_field\": 2.6025754823755585, \"y\": 395.27550248218694, \"x\": 1787.2803825035103, \"border_width\": 0, \"id\": \"MAPK11\"}, {\"node_shape\": \"dot\", \"degree\": 3.0, \"title\": \"MAPK12\", \"color\": \"rgba(0, 0, 256, 1.0)\", \"size_field\": 2.880199911729801, \"y\": 693.9646264547424, \"x\": 1383.0557845065746, \"border_width\": 0, \"id\": \"MAPK12\"}, {\"node_shape\": \"dot\", \"degree\": 3.0, \"title\": \"MAPK13\", \"color\": \"rgba(0, 0, 256, 1.0)\", \"size_field\": 2.9824305343787003, \"y\": 0.0, \"x\": 1901.7749598947405, \"border_width\": 0, \"id\": \"MAPK13\"}, {\"node_shape\": \"dot\", \"degree\": 3.0, \"title\": \"BCR\", \"color\": \"rgba(0, 0, 256, 1.0)\", \"size_field\": 2.846065286984658, \"y\": 1496.6329727426885, \"x\": 1107.5085485075706, \"border_width\": 0, \"id\": \"BCR\"}, {\"node_shape\": \"dot\", \"degree\": 3.0, \"title\": \"STAT3\", \"color\": \"rgba(0, 0, 256, 1.0)\", \"size_field\": 3.0067626350382306, \"y\": 935.0931359135348, \"x\": 1557.3883259440468, \"border_width\": 0, \"id\": \"STAT3\"}, {\"node_shape\": \"dot\", \"degree\": 3.0, \"title\": \"MAPK3\", \"color\": \"rgba(0, 0, 256, 1.0)\", \"size_field\": 2.7052197617942144, \"y\": 1400.1454850067987, \"x\": 1228.381446693489, \"border_width\": 0, \"id\": \"MAPK3\"}, {\"node_shape\": \"dot\", \"degree\": 3.0, \"title\": \"MAPK1\", \"color\": \"rgba(0, 0, 256, 1.0)\", \"size_field\": 3.267978134301848, \"y\": 379.31905545432875, \"x\": 1723.9454009707033, \"border_width\": 0, \"id\": \"MAPK1\"}, {\"node_shape\": \"dot\", \"degree\": 3.0, \"title\": \"CITED2\", \"color\": \"rgba(0, 0, 256, 1.0)\", \"size_field\": 4.387054249620496, \"y\": 1464.475377919695, \"x\": 1836.4260057093404, \"border_width\": 0, \"id\": \"CITED2\"}, {\"node_shape\": \"dot\", \"degree\": 3.0, \"title\": \"MAPK8\", \"color\": \"rgba(72, 72, 256, 1.0)\", \"size_field\": 2.745915246098601, \"y\": 924.4436424476991, \"x\": 1610.4462312008084, \"border_width\": 0, \"id\": \"MAPK8\"}, {\"node_shape\": \"dot\", \"degree\": 3.0, \"title\": \"MAPK9\", \"color\": \"rgba(80, 80, 256, 1.0)\", \"size_field\": 3.0642108619507775, \"y\": 553.666836665424, \"x\": 1077.2639973560902, \"border_width\": 0, \"id\": \"MAPK9\"}, {\"node_shape\": \"dot\", \"degree\": 3.0, \"title\": \"RBL2\", \"color\": \"rgba(0, 0, 256, 1.0)\", \"size_field\": 5.18689277901515, \"y\": 617.7698268751277, \"x\": 1877.6593156273657, \"border_width\": 2, \"id\": \"RBL2\"}, {\"node_shape\": \"dot\", \"degree\": 3.0, \"title\": \"PAWR\", \"color\": \"rgba(0, 0, 256, 1.0)\", \"size_field\": 4.880619466453487, \"y\": 1761.8582890681025, \"x\": 1396.0204786621625, \"border_width\": 0, \"id\": \"PAWR\"}, {\"node_shape\": \"dot\", \"degree\": 3.0, \"title\": \"EP300\", \"color\": \"rgba(0, 0, 256, 1.0)\", \"size_field\": 2.98886142470899, \"y\": 1033.846287202301, \"x\": 1524.553136472024, \"border_width\": 0, \"id\": \"EP300\"}, {\"node_shape\": \"dot\", \"degree\": 3.0, \"title\": \"SGK2\", \"color\": \"rgba(92, 92, 256, 1.0)\", \"size_field\": 2.082621028688337, \"y\": 1339.5330700293814, \"x\": 1160.6734828765589, \"border_width\": 0, \"id\": \"SGK2\"}, {\"node_shape\": \"dot\", \"degree\": 3.0, \"title\": \"SGK1\", \"color\": \"rgba(256, 136, 136, 1.0)\", \"size_field\": 4.3166840173735475, \"y\": 309.07799504256315, \"x\": 1724.6870127478323, \"border_width\": 0, \"id\": \"SGK1\"}, {\"node_shape\": \"dot\", \"degree\": 3.0, \"title\": \"IRS2\", \"color\": \"rgba(0, 0, 256, 1.0)\", \"size_field\": 2.567043303764219, \"y\": 1015.0102145222579, \"x\": 709.928194510125, \"border_width\": 0, \"id\": \"IRS2\"}, {\"node_shape\": \"dot\", \"degree\": 3.0, \"title\": \"LEP\", \"color\": \"rgba(256, 2, 2, 1.0)\", \"size_field\": 2.7381445464906813, \"y\": 1091.0299333060439, \"x\": 1174.67966316595, \"border_width\": 0, \"id\": \"LEP\"}, {\"node_shape\": \"dot\", \"degree\": 3.0, \"title\": \"PRKACG\", \"color\": \"rgba(26, 26, 256, 1.0)\", \"size_field\": 2.04468360762664, \"y\": 1219.359298687762, \"x\": 1030.232746364521, \"border_width\": 0, \"id\": \"PRKACG\"}, {\"node_shape\": \"dot\", \"degree\": 3.0, \"title\": \"PRKACA\", \"color\": \"rgba(0, 0, 256, 1.0)\", \"size_field\": 2.6416938989710297, \"y\": 1766.6602450553964, \"x\": 994.2108346582153, \"border_width\": 0, \"id\": \"PRKACA\"}, {\"node_shape\": \"dot\", \"degree\": 3.0, \"title\": \"PRKACB\", \"color\": \"rgba(0, 0, 256, 1.0)\", \"size_field\": 3.6455833590704536, \"y\": 1558.3316362136504, \"x\": 1223.7291403981098, \"border_width\": 0, \"id\": \"PRKACB\"}, {\"node_shape\": \"dot\", \"degree\": 3.0, \"title\": \"SPHK1\", \"color\": \"rgba(182, 182, 256, 1.0)\", \"size_field\": 3.2616019171625723, \"y\": 2300.0, \"x\": 1016.6627431450673, \"border_width\": 0, \"id\": \"SPHK1\"}, {\"node_shape\": \"dot\", \"degree\": 3.0, \"title\": \"LCN2\", \"color\": \"rgba(0, 0, 256, 1.0)\", \"size_field\": 3.4692412819408167, \"y\": 1444.5739934660871, \"x\": 906.7015089527761, \"border_width\": 0, \"id\": \"LCN2\"}, {\"node_shape\": \"dot\", \"degree\": 3.0, \"title\": \"BIRC5\", \"color\": \"rgba(110, 110, 256, 1.0)\", \"size_field\": 3.5228016057745535, \"y\": 912.1501218424434, \"x\": 1489.9529679577652, \"border_width\": 0, \"id\": \"BIRC5\"}, {\"node_shape\": \"dot\", \"degree\": 3.0, \"title\": \"PRDX3\", \"color\": \"rgba(86, 86, 256, 1.0)\", \"size_field\": 3.0820502003691317, \"y\": 1397.2067371559258, \"x\": 633.9993371699794, \"border_width\": 0, \"id\": \"PRDX3\"}, {\"node_shape\": \"dot\", \"degree\": 3.0, \"title\": \"PRKAA2\", \"color\": \"rgba(0, 0, 256, 1.0)\", \"size_field\": 2.6294214896794004, \"y\": 1221.098521756906, \"x\": 1660.8472378249437, \"border_width\": 0, \"id\": \"PRKAA2\"}, {\"node_shape\": \"dot\", \"degree\": 3.0, \"title\": \"PRKAA1\", \"color\": \"rgba(0, 0, 256, 1.0)\", \"size_field\": 4.042531187659739, \"y\": 1240.459119215225, \"x\": 1703.4734135562694, \"border_width\": 0, \"id\": \"PRKAA1\"}, {\"node_shape\": \"dot\", \"degree\": 3.0, \"title\": \"CAT\", \"color\": \"rgba(0, 0, 256, 1.0)\", \"size_field\": 2.515000995176471, \"y\": 1555.3924855172017, \"x\": 1443.8381700235223, \"border_width\": 0, \"id\": \"CAT\"}, {\"node_shape\": \"dot\", \"degree\": 3.0, \"title\": \"FOXO3\", \"color\": \"yellow\", \"size_field\": 5.18689277901515, \"y\": 2260.062788170517, \"x\": 435.49817662464017, \"border_width\": 0, \"id\": \"FOXO3\"}, {\"node_shape\": \"dot\", \"degree\": 3.0, \"title\": \"MYOCD\", \"color\": \"rgba(256, 218, 218, 1.0)\", \"size_field\": 3.1273204528048533, \"y\": 2202.604815571664, \"x\": 0.0, \"border_width\": 0, \"id\": \"MYOCD\"}, {\"node_shape\": \"dot\", \"degree\": 3.0, \"title\": \"FOXO4\", \"color\": \"rgba(108, 108, 256, 1.0)\", \"size_field\": 2.2310497228853072, \"y\": 869.5544306203809, \"x\": 1547.196557658836, \"border_width\": 0, \"id\": \"FOXO4\"}, {\"node_shape\": \"dot\", \"degree\": 3.0, \"title\": \"SOD2\", \"color\": \"rgba(0, 0, 256, 1.0)\", \"size_field\": 2.098715972939158, \"y\": 858.6311857474719, \"x\": 1044.4998841243814, \"border_width\": 0, \"id\": \"SOD2\"}, {\"node_shape\": \"dot\", \"degree\": 3.0, \"title\": \"BBC3\", \"color\": \"rgba(0, 0, 256, 1.0)\", \"size_field\": 3.2063800890661485, \"y\": 1307.912649663911, \"x\": 373.4677441639629, \"border_width\": 0, \"id\": \"BBC3\"}, {\"node_shape\": \"dot\", \"degree\": 3.0, \"title\": \"YWHAZ\", \"color\": \"rgba(76, 76, 256, 1.0)\", \"size_field\": 3.0305798782762827, \"y\": 1057.9694142012254, \"x\": 1552.8030858763925, \"border_width\": 0, \"id\": \"YWHAZ\"}, {\"node_shape\": \"dot\", \"degree\": 3.0, \"title\": \"GABARAPL1\", \"color\": \"rgba(0, 0, 256, 1.0)\", \"size_field\": 3.5269366909223567, \"y\": 1422.8195972003546, \"x\": 225.89741744854206, \"border_width\": 0, \"id\": \"GABARAPL1\"}, {\"node_shape\": \"dot\", \"degree\": 3.0, \"title\": \"YWHAQ\", \"color\": \"rgba(0, 0, 256, 1.0)\", \"size_field\": 2.9063404010209872, \"y\": 998.8742363183964, \"x\": 1395.0309385945534, \"border_width\": 0, \"id\": \"YWHAQ\"}, {\"node_shape\": \"dot\", \"degree\": 3.0, \"title\": \"ABCB1\", \"color\": \"rgba(0, 0, 256, 1.0)\", \"size_field\": 4.3258537199334, \"y\": 484.56279420072434, \"x\": 1421.7329191944636, \"border_width\": 0, \"id\": \"ABCB1\"}, {\"node_shape\": \"dot\", \"degree\": 3.0, \"title\": \"YWHAB\", \"color\": \"rgba(174, 174, 256, 1.0)\", \"size_field\": 3.9365540541312884, \"y\": 1539.273634444744, \"x\": 1165.716730712759, \"border_width\": 0, \"id\": \"YWHAB\"}, {\"node_shape\": \"dot\", \"degree\": 3.0, \"title\": \"YWHAG\", \"color\": \"rgba(34, 34, 256, 1.0)\", \"size_field\": 2.461242123577163, \"y\": 749.0247736432935, \"x\": 1290.2109290272897, \"border_width\": 0, \"id\": \"YWHAG\"}, {\"node_shape\": \"dot\", \"degree\": 3.0, \"title\": \"YWHAE\", \"color\": \"rgba(0, 0, 256, 1.0)\", \"size_field\": 2.1519863569978814, \"y\": 1070.0671001937146, \"x\": 1666.98252116225, \"border_width\": 0, \"id\": \"YWHAE\"}, {\"node_shape\": \"dot\", \"degree\": 3.0, \"title\": \"DNMT3B\", \"color\": \"rgba(0, 0, 256, 1.0)\", \"size_field\": 3.29901635301283, \"y\": 1108.8052666091132, \"x\": 1939.986260272769, \"border_width\": 0, \"id\": \"DNMT3B\"}, {\"node_shape\": \"dot\", \"degree\": 3.0, \"title\": \"NOS3\", \"color\": \"rgba(0, 0, 256, 1.0)\", \"size_field\": 3.7355681895783124, \"y\": 1122.8020382859638, \"x\": 1464.0924009276732, \"border_width\": 0, \"id\": \"NOS3\"}, {\"node_shape\": \"dot\", \"degree\": 3.0, \"title\": \"CYR61\", \"color\": \"rgba(0, 0, 256, 1.0)\", \"size_field\": 2.242198957849369, \"y\": 414.68902443313607, \"x\": 914.3567289921195, \"border_width\": 0, \"id\": \"CYR61\"}, {\"node_shape\": \"dot\", \"degree\": 3.0, \"title\": \"AR\", \"color\": \"rgba(0, 0, 256, 1.0)\", \"size_field\": 4.364460496712133, \"y\": 729.7689961112029, \"x\": 1533.6963650596163, \"border_width\": 0, \"id\": \"AR\"}, {\"node_shape\": \"dot\", \"degree\": 3.0, \"title\": \"BCL2L11\", \"color\": \"rgba(230, 230, 256, 1.0)\", \"size_field\": 3.8269722249837996, \"y\": 666.0781294689772, \"x\": 1223.6284364754745, \"border_width\": 0, \"id\": \"BCL2L11\"}, {\"node_shape\": \"dot\", \"degree\": 3.0, \"title\": \"CCNB1\", \"color\": \"rgba(72, 72, 256, 1.0)\", \"size_field\": 3.0026659476209008, \"y\": 1264.2517848622244, \"x\": 1160.908460944061, \"border_width\": 0, \"id\": \"CCNB1\"}, {\"node_shape\": \"dot\", \"degree\": 3.0, \"title\": \"CASP8\", \"color\": \"rgba(0, 0, 256, 1.0)\", \"size_field\": 2.964955903855436, \"y\": 688.5034057468044, \"x\": 937.9898751143581, \"border_width\": 0, \"id\": \"CASP8\"}, {\"node_shape\": \"dot\", \"degree\": 3.0, \"title\": \"PDK4\", \"color\": \"rgba(0, 0, 256, 1.0)\", \"size_field\": 4.3740810946991155, \"y\": 494.21058702604216, \"x\": 753.5182087322559, \"border_width\": 0, \"id\": \"PDK4\"}, {\"node_shape\": \"dot\", \"degree\": 3.0, \"title\": \"FASLG\", \"color\": \"rgba(0, 0, 256, 1.0)\", \"size_field\": 2.516173230092586, \"y\": 1033.0119348838243, \"x\": 1220.8717485492061, \"border_width\": 0, \"id\": \"FASLG\"}, {\"node_shape\": \"dot\", \"degree\": 3.0, \"title\": \"BCL6\", \"color\": \"rgba(0, 0, 256, 1.0)\", \"size_field\": 4.207274913189721, \"y\": 547.4083619472588, \"x\": 1727.694217190534, \"border_width\": 0, \"id\": \"BCL6\"}], [{\"color\": \"red\", \"source\": 5, \"target\": 33}, {\"color\": \"red\", \"source\": 5, \"target\": 35}, {\"color\": \"red\", \"source\": 5, \"target\": 47}, {\"color\": \"red\", \"source\": 5, \"target\": 106}, {\"color\": \"red\", \"source\": 5, \"target\": 6}, {\"color\": \"red\", \"source\": 5, \"target\": 6}, {\"color\": \"red\", \"source\": 5, \"target\": 7}, {\"color\": \"red\", \"source\": 5, \"target\": 8}, {\"color\": \"red\", \"source\": 5, \"target\": 108}, {\"color\": \"blue\", \"source\": 5, \"target\": 76}, {\"color\": \"blue\", \"source\": 5, \"target\": 76}, {\"color\": \"blue\", \"source\": 5, \"target\": 90}, {\"color\": \"blue\", \"source\": 5, \"target\": 90}, {\"color\": \"red\", \"source\": 6, \"target\": 57}, {\"color\": \"blue\", \"source\": 6, \"target\": 82}, {\"color\": \"blue\", \"source\": 6, \"target\": 34}, {\"color\": \"blue\", \"source\": 6, \"target\": 34}, {\"color\": \"blue\", \"source\": 6, \"target\": 34}, {\"color\": \"blue\", \"source\": 6, \"target\": 35}, {\"color\": \"blue\", \"source\": 6, \"target\": 35}, {\"color\": \"blue\", \"source\": 6, \"target\": 35}, {\"color\": \"blue\", \"source\": 6, \"target\": 90}, {\"color\": \"blue\", \"source\": 6, \"target\": 90}, {\"color\": \"red\", \"source\": 6, \"target\": 87}, {\"color\": \"blue\", \"source\": 6, \"target\": 58}, {\"color\": \"blue\", \"source\": 6, \"target\": 58}, {\"color\": \"blue\", \"source\": 6, \"target\": 7}, {\"color\": \"blue\", \"source\": 6, \"target\": 7}, {\"color\": \"blue\", \"source\": 6, \"target\": 7}, {\"color\": \"blue\", \"source\": 6, \"target\": 7}, {\"color\": \"blue\", \"source\": 6, \"target\": 8}, {\"color\": \"blue\", \"source\": 6, \"target\": 8}, {\"color\": \"blue\", \"source\": 6, \"target\": 8}, {\"color\": \"blue\", \"source\": 6, \"target\": 31}, {\"color\": \"blue\", \"source\": 6, \"target\": 61}, {\"color\": \"blue\", \"source\": 6, \"target\": 61}, {\"color\": \"blue\", \"source\": 6, \"target\": 62}, {\"color\": \"blue\", \"source\": 6, \"target\": 62}, {\"color\": \"blue\", \"source\": 6, \"target\": 63}, {\"color\": \"blue\", \"source\": 6, \"target\": 63}, {\"color\": \"red\", \"source\": 6, \"target\": 93}, {\"color\": \"red\", \"source\": 6, \"target\": 73}, {\"color\": \"blue\", \"source\": 6, \"target\": 65}, {\"color\": \"blue\", \"source\": 6, \"target\": 15}, {\"color\": \"blue\", \"source\": 6, \"target\": 15}, {\"color\": \"red\", \"source\": 6, \"target\": 95}, {\"color\": \"red\", \"source\": 6, \"target\": 40}, {\"color\": \"red\", \"source\": 6, \"target\": 16}, {\"color\": \"blue\", \"source\": 6, \"target\": 19}, {\"color\": \"red\", \"source\": 6, \"target\": 20}, {\"color\": \"red\", \"source\": 6, \"target\": 20}, {\"color\": \"red\", \"source\": 6, \"target\": 83}, {\"color\": \"red\", \"source\": 6, \"target\": 99}, {\"color\": \"red\", \"source\": 6, \"target\": 101}, {\"color\": \"red\", \"source\": 6, \"target\": 101}, {\"color\": \"red\", \"source\": 6, \"target\": 91}, {\"color\": \"red\", \"source\": 6, \"target\": 47}, {\"color\": \"red\", \"source\": 6, \"target\": 47}, {\"color\": \"red\", \"source\": 6, \"target\": 97}, {\"color\": \"red\", \"source\": 6, \"target\": 103}, {\"color\": \"blue\", \"source\": 6, \"target\": 108}, {\"color\": \"blue\", \"source\": 6, \"target\": 104}, {\"color\": \"red\", \"source\": 6, \"target\": 27}, {\"color\": \"blue\", \"source\": 6, \"target\": 49}, {\"color\": \"red\", \"source\": 6, \"target\": 5}, {\"color\": \"red\", \"source\": 6, \"target\": 5}, {\"color\": \"blue\", \"source\": 6, \"target\": 105}, {\"color\": \"red\", \"source\": 6, \"target\": 98}, {\"color\": \"red\", \"source\": 6, \"target\": 77}, {\"color\": \"red\", \"source\": 6, \"target\": 48}, {\"color\": \"blue\", \"source\": 7, \"target\": 58}, {\"color\": \"blue\", \"source\": 7, \"target\": 58}, {\"color\": \"red\", \"source\": 7, \"target\": 57}, {\"color\": \"red\", \"source\": 7, \"target\": 101}, {\"color\": \"blue\", \"source\": 7, \"target\": 34}, {\"color\": \"blue\", \"source\": 7, \"target\": 34}, {\"color\": \"blue\", \"source\": 7, \"target\": 35}, {\"color\": \"blue\", \"source\": 7, \"target\": 35}, {\"color\": \"blue\", \"source\": 7, \"target\": 90}, {\"color\": \"blue\", \"source\": 7, \"target\": 90}, {\"color\": \"red\", \"source\": 7, \"target\": 47}, {\"color\": \"red\", \"source\": 7, \"target\": 5}, {\"color\": \"blue\", \"source\": 7, \"target\": 6}, {\"color\": \"blue\", \"source\": 7, \"target\": 6}, {\"color\": \"blue\", \"source\": 7, \"target\": 6}, {\"color\": \"blue\", \"source\": 7, \"target\": 6}, {\"color\": \"blue\", \"source\": 7, \"target\": 8}, {\"color\": \"blue\", \"source\": 7, \"target\": 8}, {\"color\": \"blue\", \"source\": 7, \"target\": 8}, {\"color\": \"blue\", \"source\": 7, \"target\": 61}, {\"color\": \"blue\", \"source\": 7, \"target\": 61}, {\"color\": \"blue\", \"source\": 7, \"target\": 62}, {\"color\": \"blue\", \"source\": 7, \"target\": 62}, {\"color\": \"blue\", \"source\": 7, \"target\": 63}, {\"color\": \"blue\", \"source\": 7, \"target\": 63}, {\"color\": \"red\", \"source\": 7, \"target\": 27}, {\"color\": \"blue\", \"source\": 8, \"target\": 58}, {\"color\": \"blue\", \"source\": 8, \"target\": 58}, {\"color\": \"red\", \"source\": 8, \"target\": 101}, {\"color\": \"blue\", \"source\": 8, \"target\": 104}, {\"color\": \"blue\", \"source\": 8, \"target\": 34}, {\"color\": \"blue\", \"source\": 8, \"target\": 34}, {\"color\": \"blue\", \"source\": 8, \"target\": 35}, {\"color\": \"blue\", \"source\": 8, \"target\": 35}, {\"color\": \"blue\", \"source\": 8, \"target\": 90}, {\"color\": \"blue\", \"source\": 8, \"target\": 90}, {\"color\": \"red\", \"source\": 8, \"target\": 47}, {\"color\": \"red\", \"source\": 8, \"target\": 5}, {\"color\": \"blue\", \"source\": 8, \"target\": 6}, {\"color\": \"blue\", \"source\": 8, \"target\": 6}, {\"color\": \"blue\", \"source\": 8, \"target\": 6}, {\"color\": \"blue\", \"source\": 8, \"target\": 7}, {\"color\": \"blue\", \"source\": 8, \"target\": 7}, {\"color\": \"blue\", \"source\": 8, \"target\": 7}, {\"color\": \"red\", \"source\": 8, \"target\": 48}, {\"color\": \"blue\", \"source\": 8, \"target\": 61}, {\"color\": \"blue\", \"source\": 8, \"target\": 61}, {\"color\": \"blue\", \"source\": 8, \"target\": 62}, {\"color\": \"blue\", \"source\": 8, \"target\": 62}, {\"color\": \"blue\", \"source\": 8, \"target\": 63}, {\"color\": \"blue\", \"source\": 8, \"target\": 63}, {\"color\": \"blue\", \"source\": 10, \"target\": 20}, {\"color\": \"blue\", \"source\": 10, \"target\": 42}, {\"color\": \"blue\", \"source\": 11, \"target\": 42}, {\"color\": \"blue\", \"source\": 11, \"target\": 20}, {\"color\": \"red\", \"source\": 20, \"target\": 32}, {\"color\": \"blue\", \"source\": 20, \"target\": 57}, {\"color\": \"blue\", \"source\": 20, \"target\": 57}, {\"color\": \"blue\", \"source\": 20, \"target\": 0}, {\"color\": \"red\", \"source\": 20, \"target\": 62}, {\"color\": \"red\", \"source\": 20, \"target\": 1}, {\"color\": \"blue\", \"source\": 20, \"target\": 34}, {\"color\": \"blue\", \"source\": 20, \"target\": 34}, {\"color\": \"blue\", \"source\": 20, \"target\": 35}, {\"color\": \"blue\", \"source\": 20, \"target\": 35}, {\"color\": \"blue\", \"source\": 20, \"target\": 35}, {\"color\": \"blue\", \"source\": 20, \"target\": 22}, {\"color\": \"red\", \"source\": 20, \"target\": 84}, {\"color\": \"red\", \"source\": 20, \"target\": 36}, {\"color\": \"red\", \"source\": 20, \"target\": 6}, {\"color\": \"red\", \"source\": 20, \"target\": 6}, {\"color\": \"blue\", \"source\": 20, \"target\": 9}, {\"color\": \"blue\", \"source\": 20, \"target\": 10}, {\"color\": \"blue\", \"source\": 20, \"target\": 11}, {\"color\": \"red\", \"source\": 20, \"target\": 63}, {\"color\": \"red\", \"source\": 20, \"target\": 12}, {\"color\": \"red\", \"source\": 20, \"target\": 38}, {\"color\": \"red\", \"source\": 20, \"target\": 27}, {\"color\": \"red\", \"source\": 20, \"target\": 65}, {\"color\": \"blue\", \"source\": 20, \"target\": 15}, {\"color\": \"blue\", \"source\": 20, \"target\": 15}, {\"color\": \"red\", \"source\": 20, \"target\": 66}, {\"color\": \"red\", \"source\": 20, \"target\": 67}, {\"color\": \"red\", \"source\": 20, \"target\": 67}, {\"color\": \"red\", \"source\": 20, \"target\": 61}, {\"color\": \"blue\", \"source\": 20, \"target\": 19}, {\"color\": \"red\", \"source\": 20, \"target\": 83}, {\"color\": \"blue\", \"source\": 20, \"target\": 21}, {\"color\": \"blue\", \"source\": 20, \"target\": 21}, {\"color\": \"blue\", \"source\": 20, \"target\": 21}, {\"color\": \"blue\", \"source\": 20, \"target\": 21}, {\"color\": \"red\", \"source\": 20, \"target\": 43}, {\"color\": \"blue\", \"source\": 20, \"target\": 24}, {\"color\": \"red\", \"source\": 20, \"target\": 47}, {\"color\": \"red\", \"source\": 20, \"target\": 103}, {\"color\": \"red\", \"source\": 20, \"target\": 103}, {\"color\": \"blue\", \"source\": 20, \"target\": 48}, {\"color\": \"blue\", \"source\": 20, \"target\": 104}, {\"color\": \"red\", \"source\": 20, \"target\": 73}, {\"color\": \"blue\", \"source\": 20, \"target\": 29}, {\"color\": \"red\", \"source\": 20, \"target\": 58}, {\"color\": \"red\", \"source\": 20, \"target\": 105}, {\"color\": \"red\", \"source\": 20, \"target\": 30}, {\"color\": \"blue\", \"source\": 20, \"target\": 53}, {\"color\": \"red\", \"source\": 20, \"target\": 109}, {\"color\": \"blue\", \"source\": 20, \"target\": 54}, {\"color\": \"blue\", \"source\": 20, \"target\": 55}, {\"color\": \"blue\", \"source\": 20, \"target\": 56}, {\"color\": \"blue\", \"source\": 24, \"target\": 57}, {\"color\": \"blue\", \"source\": 24, \"target\": 33}, {\"color\": \"red\", \"source\": 24, \"target\": 12}, {\"color\": \"red\", \"source\": 24, \"target\": 35}, {\"color\": \"red\", \"source\": 24, \"target\": 58}, {\"color\": \"red\", \"source\": 24, \"target\": 60}, {\"color\": \"red\", \"source\": 24, \"target\": 61}, {\"color\": \"red\", \"source\": 24, \"target\": 62}, {\"color\": \"red\", \"source\": 24, \"target\": 63}, {\"color\": \"red\", \"source\": 24, \"target\": 92}, {\"color\": \"red\", \"source\": 24, \"target\": 96}, {\"color\": \"red\", \"source\": 24, \"target\": 67}, {\"color\": \"blue\", \"source\": 24, \"target\": 20}, {\"color\": \"red\", \"source\": 24, \"target\": 70}, {\"color\": \"red\", \"source\": 24, \"target\": 83}, {\"color\": \"red\", \"source\": 24, \"target\": 21}, {\"color\": \"red\", \"source\": 24, \"target\": 103}, {\"color\": \"red\", \"source\": 24, \"target\": 48}, {\"color\": \"blue\", \"source\": 24, \"target\": 69}, {\"color\": \"blue\", \"source\": 24, \"target\": 105}, {\"color\": \"red\", \"source\": 24, \"target\": 77}, {\"color\": \"blue\", \"source\": 25, \"target\": 104}, {\"color\": \"blue\", \"source\": 27, \"target\": 65}, {\"color\": \"red\", \"source\": 27, \"target\": 6}, {\"color\": \"red\", \"source\": 27, \"target\": 7}, {\"color\": \"red\", \"source\": 27, \"target\": 48}, {\"color\": \"blue\", \"source\": 27, \"target\": 19}, {\"color\": \"blue\", \"source\": 27, \"target\": 19}, {\"color\": \"blue\", \"source\": 27, \"target\": 19}, {\"color\": \"red\", \"source\": 27, \"target\": 20}, {\"color\": \"red\", \"source\": 27, \"target\": 69}, {\"color\": \"blue\", \"source\": 27, \"target\": 13}, {\"color\": \"blue\", \"source\": 29, \"target\": 19}, {\"color\": \"blue\", \"source\": 29, \"target\": 20}, {\"color\": \"red\", \"source\": 31, \"target\": 43}, {\"color\": \"red\", \"source\": 31, \"target\": 2}, {\"color\": \"blue\", \"source\": 31, \"target\": 35}, {\"color\": \"red\", \"source\": 31, \"target\": 105}, {\"color\": \"blue\", \"source\": 31, \"target\": 6}, {\"color\": \"blue\", \"source\": 31, \"target\": 67}, {\"color\": \"blue\", \"source\": 31, \"target\": 48}, {\"color\": \"red\", \"source\": 31, \"target\": 19}, {\"color\": \"blue\", \"source\": 31, \"target\": 69}, {\"color\": \"red\", \"source\": 31, \"target\": 83}, {\"color\": \"blue\", \"source\": 32, \"target\": 43}, {\"color\": \"red\", \"source\": 32, \"target\": 65}, {\"color\": \"red\", \"source\": 32, \"target\": 35}, {\"color\": \"blue\", \"source\": 32, \"target\": 108}, {\"color\": \"red\", \"source\": 32, \"target\": 20}, {\"color\": \"red\", \"source\": 36, \"target\": 58}, {\"color\": \"red\", \"source\": 36, \"target\": 96}, {\"color\": \"red\", \"source\": 36, \"target\": 103}, {\"color\": \"red\", \"source\": 36, \"target\": 20}, {\"color\": \"red\", \"source\": 39, \"target\": 93}, {\"color\": \"red\", \"source\": 39, \"target\": 105}, {\"color\": \"red\", \"source\": 39, \"target\": 2}, {\"color\": \"red\", \"source\": 39, \"target\": 2}, {\"color\": \"red\", \"source\": 39, \"target\": 83}, {\"color\": \"red\", \"source\": 39, \"target\": 83}, {\"color\": \"red\", \"source\": 39, \"target\": 95}, {\"color\": \"red\", \"source\": 39, \"target\": 16}, {\"color\": \"red\", \"source\": 39, \"target\": 90}, {\"color\": \"red\", \"source\": 39, \"target\": 97}, {\"color\": \"red\", \"source\": 39, \"target\": 98}, {\"color\": \"red\", \"source\": 39, \"target\": 99}, {\"color\": \"blue\", \"source\": 43, \"target\": 32}, {\"color\": \"red\", \"source\": 43, \"target\": 101}, {\"color\": \"red\", \"source\": 43, \"target\": 101}, {\"color\": \"blue\", \"source\": 43, \"target\": 65}, {\"color\": \"red\", \"source\": 43, \"target\": 91}, {\"color\": \"red\", \"source\": 43, \"target\": 31}, {\"color\": \"red\", \"source\": 43, \"target\": 15}, {\"color\": \"blue\", \"source\": 43, \"target\": 35}, {\"color\": \"red\", \"source\": 43, \"target\": 86}, {\"color\": \"blue\", \"source\": 43, \"target\": 104}, {\"color\": \"blue\", \"source\": 43, \"target\": 104}, {\"color\": \"red\", \"source\": 43, \"target\": 103}, {\"color\": \"blue\", \"source\": 43, \"target\": 108}, {\"color\": \"red\", \"source\": 43, \"target\": 34}, {\"color\": \"blue\", \"source\": 43, \"target\": 48}, {\"color\": \"red\", \"source\": 43, \"target\": 20}, {\"color\": \"blue\", \"source\": 43, \"target\": 38}, {\"color\": \"red\", \"source\": 43, \"target\": 13}, {\"color\": \"red\", \"source\": 43, \"target\": 13}, {\"color\": \"red\", \"source\": 50, \"target\": 57}, {\"color\": \"red\", \"source\": 50, \"target\": 101}, {\"color\": \"red\", \"source\": 50, \"target\": 66}, {\"color\": \"red\", \"source\": 50, \"target\": 67}, {\"color\": \"blue\", \"source\": 50, \"target\": 48}, {\"color\": \"red\", \"source\": 50, \"target\": 61}, {\"color\": \"red\", \"source\": 50, \"target\": 103}, {\"color\": \"red\", \"source\": 65, \"target\": 32}, {\"color\": \"blue\", \"source\": 65, \"target\": 43}, {\"color\": \"red\", \"source\": 65, \"target\": 73}, {\"color\": \"red\", \"source\": 65, \"target\": 73}, {\"color\": \"red\", \"source\": 65, \"target\": 66}, {\"color\": \"red\", \"source\": 65, \"target\": 66}, {\"color\": \"blue\", \"source\": 65, \"target\": 35}, {\"color\": \"red\", \"source\": 65, \"target\": 90}, {\"color\": \"red\", \"source\": 65, \"target\": 57}, {\"color\": \"red\", \"source\": 65, \"target\": 57}, {\"color\": \"red\", \"source\": 65, \"target\": 58}, {\"color\": \"blue\", \"source\": 65, \"target\": 6}, {\"color\": \"red\", \"source\": 65, \"target\": 67}, {\"color\": \"red\", \"source\": 65, \"target\": 67}, {\"color\": \"blue\", \"source\": 65, \"target\": 48}, {\"color\": \"blue\", \"source\": 65, \"target\": 48}, {\"color\": \"red\", \"source\": 65, \"target\": 77}, {\"color\": \"blue\", \"source\": 65, \"target\": 19}, {\"color\": \"red\", \"source\": 65, \"target\": 20}, {\"color\": \"blue\", \"source\": 65, \"target\": 27}, {\"color\": \"blue\", \"source\": 65, \"target\": 83}, {\"color\": \"blue\", \"source\": 65, \"target\": 109}, {\"color\": \"blue\", \"source\": 68, \"target\": 73}, {\"color\": \"red\", \"source\": 71, \"target\": 90}, {\"color\": \"red\", \"source\": 73, \"target\": 90}, {\"color\": \"red\", \"source\": 73, \"target\": 101}, {\"color\": \"red\", \"source\": 73, \"target\": 65}, {\"color\": \"red\", \"source\": 73, \"target\": 65}, {\"color\": \"red\", \"source\": 73, \"target\": 75}, {\"color\": \"red\", \"source\": 73, \"target\": 15}, {\"color\": \"red\", \"source\": 73, \"target\": 35}, {\"color\": \"red\", \"source\": 73, \"target\": 80}, {\"color\": \"red\", \"source\": 73, \"target\": 96}, {\"color\": \"red\", \"source\": 73, \"target\": 58}, {\"color\": \"red\", \"source\": 73, \"target\": 6}, {\"color\": \"red\", \"source\": 73, \"target\": 78}, {\"color\": \"red\", \"source\": 73, \"target\": 103}, {\"color\": \"red\", \"source\": 73, \"target\": 48}, {\"color\": \"blue\", \"source\": 73, \"target\": 77}, {\"color\": \"red\", \"source\": 73, \"target\": 19}, {\"color\": \"blue\", \"source\": 73, \"target\": 68}, {\"color\": \"red\", \"source\": 73, \"target\": 20}, {\"color\": \"red\", \"source\": 73, \"target\": 13}, {\"color\": \"red\", \"source\": 73, \"target\": 79}, {\"color\": \"red\", \"source\": 88, \"target\": 0}, {\"color\": \"blue\", \"source\": 88, \"target\": 1}, {\"color\": \"red\", \"source\": 88, \"target\": 2}, {\"color\": \"red\", \"source\": 88, \"target\": 3}, {\"color\": \"red\", \"source\": 88, \"target\": 4}, {\"color\": \"blue\", \"source\": 88, \"target\": 5}, {\"color\": \"blue\", \"source\": 88, \"target\": 5}, {\"color\": \"blue\", \"source\": 88, \"target\": 6}, {\"color\": \"blue\", \"source\": 88, \"target\": 6}, {\"color\": \"blue\", \"source\": 88, \"target\": 6}, {\"color\": \"blue\", \"source\": 88, \"target\": 7}, {\"color\": \"blue\", \"source\": 88, \"target\": 7}, {\"color\": \"blue\", \"source\": 88, \"target\": 8}, {\"color\": \"blue\", \"source\": 88, \"target\": 8}, {\"color\": \"red\", \"source\": 88, \"target\": 9}, {\"color\": \"red\", \"source\": 88, \"target\": 10}, {\"color\": \"red\", \"source\": 88, \"target\": 11}, {\"color\": \"red\", \"source\": 88, \"target\": 12}, {\"color\": \"red\", \"source\": 88, \"target\": 13}, {\"color\": \"red\", \"source\": 88, \"target\": 14}, {\"color\": \"red\", \"source\": 88, \"target\": 15}, {\"color\": \"blue\", \"source\": 88, \"target\": 16}, {\"color\": \"blue\", \"source\": 88, \"target\": 16}, {\"color\": \"red\", \"source\": 88, \"target\": 17}, {\"color\": \"red\", \"source\": 88, \"target\": 18}, {\"color\": \"red\", \"source\": 88, \"target\": 19}, {\"color\": \"red\", \"source\": 88, \"target\": 20}, {\"color\": \"red\", \"source\": 88, \"target\": 21}, {\"color\": \"red\", \"source\": 88, \"target\": 22}, {\"color\": \"red\", \"source\": 88, \"target\": 22}, {\"color\": \"red\", \"source\": 88, \"target\": 23}, {\"color\": \"blue\", \"source\": 88, \"target\": 24}, {\"color\": \"blue\", \"source\": 88, \"target\": 25}, {\"color\": \"red\", \"source\": 88, \"target\": 26}, {\"color\": \"blue\", \"source\": 88, \"target\": 27}, {\"color\": \"blue\", \"source\": 88, \"target\": 28}, {\"color\": \"blue\", \"source\": 88, \"target\": 28}, {\"color\": \"red\", \"source\": 88, \"target\": 29}, {\"color\": \"blue\", \"source\": 88, \"target\": 30}, {\"color\": \"blue\", \"source\": 88, \"target\": 31}, {\"color\": \"red\", \"source\": 88, \"target\": 32}, {\"color\": \"red\", \"source\": 88, \"target\": 33}, {\"color\": \"red\", \"source\": 88, \"target\": 34}, {\"color\": \"blue\", \"source\": 88, \"target\": 35}, {\"color\": \"red\", \"source\": 88, \"target\": 36}, {\"color\": \"red\", \"source\": 88, \"target\": 37}, {\"color\": \"blue\", \"source\": 88, \"target\": 38}, {\"color\": \"red\", \"source\": 88, \"target\": 39}, {\"color\": \"red\", \"source\": 88, \"target\": 40}, {\"color\": \"red\", \"source\": 88, \"target\": 41}, {\"color\": \"blue\", \"source\": 88, \"target\": 42}, {\"color\": \"blue\", \"source\": 88, \"target\": 42}, {\"color\": \"red\", \"source\": 88, \"target\": 43}, {\"color\": \"red\", \"source\": 88, \"target\": 43}, {\"color\": \"red\", \"source\": 88, \"target\": 44}, {\"color\": \"red\", \"source\": 88, \"target\": 45}, {\"color\": \"blue\", \"source\": 88, \"target\": 46}, {\"color\": \"blue\", \"source\": 88, \"target\": 47}, {\"color\": \"blue\", \"source\": 88, \"target\": 47}, {\"color\": \"blue\", \"source\": 88, \"target\": 48}, {\"color\": \"red\", \"source\": 88, \"target\": 49}, {\"color\": \"red\", \"source\": 88, \"target\": 50}, {\"color\": \"blue\", \"source\": 88, \"target\": 51}, {\"color\": \"red\", \"source\": 88, \"target\": 52}, {\"color\": \"red\", \"source\": 88, \"target\": 53}, {\"color\": \"red\", \"source\": 88, \"target\": 54}, {\"color\": \"red\", \"source\": 88, \"target\": 55}, {\"color\": \"red\", \"source\": 88, \"target\": 56}, {\"color\": \"blue\", \"source\": 88, \"target\": 57}, {\"color\": \"red\", \"source\": 88, \"target\": 58}, {\"color\": \"red\", \"source\": 88, \"target\": 59}, {\"color\": \"red\", \"source\": 88, \"target\": 60}, {\"color\": \"red\", \"source\": 88, \"target\": 61}, {\"color\": \"red\", \"source\": 88, \"target\": 62}, {\"color\": \"red\", \"source\": 88, \"target\": 63}, {\"color\": \"blue\", \"source\": 88, \"target\": 64}, {\"color\": \"red\", \"source\": 88, \"target\": 65}, {\"color\": \"blue\", \"source\": 88, \"target\": 66}, {\"color\": \"blue\", \"source\": 88, \"target\": 66}, {\"color\": \"blue\", \"source\": 88, \"target\": 67}, {\"color\": \"blue\", \"source\": 88, \"target\": 67}, {\"color\": \"red\", \"source\": 88, \"target\": 68}, {\"color\": \"red\", \"source\": 88, \"target\": 69}, {\"color\": \"red\", \"source\": 88, \"target\": 70}, {\"color\": \"red\", \"source\": 88, \"target\": 71}, {\"color\": \"blue\", \"source\": 88, \"target\": 72}, {\"color\": \"blue\", \"source\": 88, \"target\": 73}, {\"color\": \"blue\", \"source\": 88, \"target\": 74}, {\"color\": \"blue\", \"source\": 88, \"target\": 74}, {\"color\": \"blue\", \"source\": 88, \"target\": 75}, {\"color\": \"blue\", \"source\": 88, \"target\": 75}, {\"color\": \"red\", \"source\": 88, \"target\": 76}, {\"color\": \"blue\", \"source\": 88, \"target\": 77}, {\"color\": \"blue\", \"source\": 88, \"target\": 78}, {\"color\": \"blue\", \"source\": 88, \"target\": 78}, {\"color\": \"blue\", \"source\": 88, \"target\": 79}, {\"color\": \"blue\", \"source\": 88, \"target\": 79}, {\"color\": \"blue\", \"source\": 88, \"target\": 80}, {\"color\": \"blue\", \"source\": 88, \"target\": 80}, {\"color\": \"blue\", \"source\": 88, \"target\": 81}, {\"color\": \"red\", \"source\": 88, \"target\": 82}, {\"color\": \"blue\", \"source\": 88, \"target\": 83}, {\"color\": \"blue\", \"source\": 88, \"target\": 84}, {\"color\": \"red\", \"source\": 88, \"target\": 85}, {\"color\": \"red\", \"source\": 88, \"target\": 86}, {\"color\": \"red\", \"source\": 88, \"target\": 87}, {\"color\": \"blue\", \"source\": 88, \"target\": 89}, {\"color\": \"red\", \"source\": 88, \"target\": 90}, {\"color\": \"red\", \"source\": 88, \"target\": 91}, {\"color\": \"red\", \"source\": 88, \"target\": 92}, {\"color\": \"blue\", \"source\": 88, \"target\": 93}, {\"color\": \"blue\", \"source\": 88, \"target\": 93}, {\"color\": \"red\", \"source\": 88, \"target\": 94}, {\"color\": \"blue\", \"source\": 88, \"target\": 95}, {\"color\": \"blue\", \"source\": 88, \"target\": 95}, {\"color\": \"red\", \"source\": 88, \"target\": 96}, {\"color\": \"blue\", \"source\": 88, \"target\": 97}, {\"color\": \"blue\", \"source\": 88, \"target\": 97}, {\"color\": \"blue\", \"source\": 88, \"target\": 98}, {\"color\": \"blue\", \"source\": 88, \"target\": 98}, {\"color\": \"blue\", \"source\": 88, \"target\": 99}, {\"color\": \"blue\", \"source\": 88, \"target\": 99}, {\"color\": \"blue\", \"source\": 88, \"target\": 100}, {\"color\": \"blue\", \"source\": 88, \"target\": 101}, {\"color\": \"blue\", \"source\": 88, \"target\": 102}, {\"color\": \"red\", \"source\": 88, \"target\": 103}, {\"color\": \"blue\", \"source\": 88, \"target\": 104}, {\"color\": \"blue\", \"source\": 88, \"target\": 104}, {\"color\": \"red\", \"source\": 88, \"target\": 105}, {\"color\": \"red\", \"source\": 88, \"target\": 106}, {\"color\": \"red\", \"source\": 88, \"target\": 107}, {\"color\": \"blue\", \"source\": 88, \"target\": 108}, {\"color\": \"blue\", \"source\": 88, \"target\": 108}, {\"color\": \"red\", \"source\": 88, \"target\": 109}, {\"color\": \"red\", \"source\": 90, \"target\": 17}, {\"color\": \"red\", \"source\": 90, \"target\": 34}, {\"color\": \"blue\", \"source\": 90, \"target\": 35}, {\"color\": \"red\", \"source\": 90, \"target\": 4}, {\"color\": \"red\", \"source\": 90, \"target\": 85}, {\"color\": \"red\", \"source\": 90, \"target\": 86}, {\"color\": \"blue\", \"source\": 90, \"target\": 5}, {\"color\": \"blue\", \"source\": 90, \"target\": 5}, {\"color\": \"blue\", \"source\": 90, \"target\": 6}, {\"color\": \"blue\", \"source\": 90, \"target\": 6}, {\"color\": \"blue\", \"source\": 90, \"target\": 7}, {\"color\": \"blue\", \"source\": 90, \"target\": 7}, {\"color\": \"blue\", \"source\": 90, \"target\": 8}, {\"color\": \"blue\", \"source\": 90, \"target\": 8}, {\"color\": \"red\", \"source\": 90, \"target\": 60}, {\"color\": \"red\", \"source\": 90, \"target\": 60}, {\"color\": \"red\", \"source\": 90, \"target\": 61}, {\"color\": \"red\", \"source\": 90, \"target\": 62}, {\"color\": \"red\", \"source\": 90, \"target\": 63}, {\"color\": \"red\", \"source\": 90, \"target\": 44}, {\"color\": \"red\", \"source\": 90, \"target\": 39}, {\"color\": \"red\", \"source\": 90, \"target\": 65}, {\"color\": \"red\", \"source\": 90, \"target\": 14}, {\"color\": \"red\", \"source\": 90, \"target\": 15}, {\"color\": \"blue\", \"source\": 90, \"target\": 66}, {\"color\": \"blue\", \"source\": 90, \"target\": 66}, {\"color\": \"blue\", \"source\": 90, \"target\": 67}, {\"color\": \"blue\", \"source\": 90, \"target\": 67}, {\"color\": \"red\", \"source\": 90, \"target\": 69}, {\"color\": \"red\", \"source\": 90, \"target\": 69}, {\"color\": \"red\", \"source\": 90, \"target\": 70}, {\"color\": \"red\", \"source\": 90, \"target\": 3}, {\"color\": \"red\", \"source\": 90, \"target\": 21}, {\"color\": \"red\", \"source\": 90, \"target\": 22}, {\"color\": \"red\", \"source\": 90, \"target\": 22}, {\"color\": \"red\", \"source\": 90, \"target\": 91}, {\"color\": \"red\", \"source\": 90, \"target\": 71}, {\"color\": \"red\", \"source\": 90, \"target\": 45}, {\"color\": \"blue\", \"source\": 90, \"target\": 47}, {\"color\": \"blue\", \"source\": 90, \"target\": 47}, {\"color\": \"red\", \"source\": 90, \"target\": 26}, {\"color\": \"red\", \"source\": 90, \"target\": 73}, {\"color\": \"blue\", \"source\": 90, \"target\": 42}, {\"color\": \"blue\", \"source\": 90, \"target\": 42}, {\"color\": \"blue\", \"source\": 90, \"target\": 28}, {\"color\": \"blue\", \"source\": 90, \"target\": 28}, {\"color\": \"red\", \"source\": 90, \"target\": 58}, {\"color\": \"blue\", \"source\": 90, \"target\": 74}, {\"color\": \"blue\", \"source\": 90, \"target\": 74}, {\"color\": \"blue\", \"source\": 90, \"target\": 75}, {\"color\": \"blue\", \"source\": 90, \"target\": 75}, {\"color\": \"red\", \"source\": 90, \"target\": 18}, {\"color\": \"red\", \"source\": 90, \"target\": 108}, {\"color\": \"red\", \"source\": 90, \"target\": 108}, {\"color\": \"red\", \"source\": 90, \"target\": 109}, {\"color\": \"red\", \"source\": 102, \"target\": 37}, {\"color\": \"red\", \"source\": 102, \"target\": 48}, {\"color\": \"red\", \"source\": 103, \"target\": 43}, {\"color\": \"red\", \"source\": 103, \"target\": 50}, {\"color\": \"red\", \"source\": 103, \"target\": 75}, {\"color\": \"red\", \"source\": 103, \"target\": 24}, {\"color\": \"red\", \"source\": 103, \"target\": 35}, {\"color\": \"red\", \"source\": 103, \"target\": 36}, {\"color\": \"red\", \"source\": 103, \"target\": 106}, {\"color\": \"red\", \"source\": 103, \"target\": 47}, {\"color\": \"red\", \"source\": 103, \"target\": 58}, {\"color\": \"red\", \"source\": 103, \"target\": 6}, {\"color\": \"blue\", \"source\": 103, \"target\": 48}, {\"color\": \"blue\", \"source\": 103, \"target\": 19}, {\"color\": \"red\", \"source\": 103, \"target\": 20}, {\"color\": \"red\", \"source\": 103, \"target\": 20}, {\"color\": \"red\", \"source\": 103, \"target\": 73}, {\"color\": \"red\", \"source\": 103, \"target\": 69}, {\"color\": \"red\", \"source\": 103, \"target\": 57}, {\"color\": \"red\", \"source\": 105, \"target\": 39}, {\"color\": \"red\", \"source\": 105, \"target\": 2}, {\"color\": \"blue\", \"source\": 105, \"target\": 15}, {\"color\": \"blue\", \"source\": 105, \"target\": 15}, {\"color\": \"red\", \"source\": 105, \"target\": 35}, {\"color\": \"red\", \"source\": 105, \"target\": 80}, {\"color\": \"red\", \"source\": 105, \"target\": 16}, {\"color\": \"blue\", \"source\": 105, \"target\": 6}, {\"color\": \"red\", \"source\": 105, \"target\": 78}, {\"color\": \"red\", \"source\": 105, \"target\": 31}, {\"color\": \"red\", \"source\": 105, \"target\": 17}, {\"color\": \"blue\", \"source\": 105, \"target\": 24}, {\"color\": \"red\", \"source\": 105, \"target\": 19}, {\"color\": \"red\", \"source\": 105, \"target\": 20}, {\"color\": \"red\", \"source\": 109, \"target\": 20}, {\"color\": \"blue\", \"source\": 109, \"target\": 65}, {\"color\": \"red\", \"source\": 109, \"target\": 90}]);}</script><iframe name=\"style_file1\" src=\"style_file1.html\" height=\"1200px\" width=\"100%;\"></iframe></body></html>"
      ],
      "text/plain": [
       "<IPython.core.display.HTML object>"
      ]
     },
     "execution_count": 15,
     "metadata": {},
     "output_type": "execute_result"
    }
   ],
   "source": [
    "stat_analysis.vis_tf_network(DG_brca, 'FOXO3', '../geo2r_GSE11352_brca_48hours.txt', DEG_list_brca,\n",
    "              directed_edges = True,\n",
    "              node_spacing = 2300,\n",
    "              graph_id = 1) "
   ]
  },
  {
   "cell_type": "code",
   "execution_count": null,
   "metadata": {
    "collapsed": true
   },
   "outputs": [],
   "source": []
  }
 ],
 "metadata": {
  "kernelspec": {
   "display_name": "Python 2",
   "language": "python",
   "name": "python2"
  },
  "language_info": {
   "codemirror_mode": {
    "name": "ipython",
    "version": 2
   },
   "file_extension": ".py",
   "mimetype": "text/x-python",
   "name": "python",
   "nbconvert_exporter": "python",
   "pygments_lexer": "ipython2",
   "version": "2.7.14"
  }
 },
 "nbformat": 4,
 "nbformat_minor": 2
}
