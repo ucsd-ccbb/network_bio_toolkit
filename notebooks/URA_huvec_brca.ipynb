{
 "cells": [
  {
   "cell_type": "markdown",
   "metadata": {},
   "source": [
    "# Upstream Regulator Analysis Package\n",
    "## HUVEC and Breast Cancer Case Study\n",
    "\n",
    "----------------------\n",
    "\n",
    "Author: Mikayla Webster (m1webste@ucsd.edu)\n",
    "\n",
    "Date: 11th January, 2018\n",
    "\n",
    "----------------------\n",
    "\n",
    "<a id='toc'></a>\n",
    "## Table of Contents\n",
    "1. [Import packages](#import)\n",
    "2. [Background](#background)\n",
    "3. [Transcription Factors](#tf)\n",
    "4. [Background Network](#bn)\n",
    "5. [HUVEC](#huvec)\n",
    "    1. [Load DEG's](#loadhuvec)\n",
    "    2. [Calculate p-values and z-scores](#pzhuvec)\n",
    "    3. [Compare the Ingenuity Article's results to Ours](#comphuvec)\n",
    "    4. [Display Our results](#displayhuvec)\n",
    "6. [Breast Cancer](#brca)\n",
    "    1. [Load DEG's](#loadbrca)\n",
    "    2. [Calculate p-values and z-scores](#pzbrca)\n",
    "    3. [Compare the Ingenuity Article's results to Ours](#compbrca)\n",
    "    4. [Display Our results](#displaybrca)"
   ]
  },
  {
   "cell_type": "markdown",
   "metadata": {},
   "source": [
    "## Background\n",
    "<a id='background'></a>\n",
    "\n",
    "This notebook attempts to validate our Upstream Regulator Analysis (URA) modules. Our modules are inspired by Ingenuity System's [Ingenuity Upstream Regulator Analysis in IPA®](http://pages.ingenuity.com/rs/ingenuity/images/0812%20upstream_regulator_analysis_whitepaper.pdf); this test case is inpired by Ingenuity System's corresponding paper, [Causal analysis approaches in Ingenuity Pathway Analysis](https://www.ncbi.nlm.nih.gov/pmc/articles/PMC3928520/). This paper analyses two sets of Differencially Expressed Genes (DEG's): one from a breast cancer tumor and the other from Human Umbilical Vein Endothelial Cells (HUVEC). We run our version of URA on these same breast cancer and HUVEC DEG's, however using the [STRING database](https://string-db.org/) human protein interaction network as our background network. "
   ]
  },
  {
   "cell_type": "markdown",
   "metadata": {},
   "source": [
    "## Import packages\n",
    "<a id='import'></a>"
   ]
  },
  {
   "cell_type": "code",
   "execution_count": 58,
   "metadata": {},
   "outputs": [],
   "source": [
    "import networkx as nx\n",
    "import pandas as pd\n",
    "import numpy as np\n",
    "import matplotlib.pyplot as plt\n",
    "\n",
    "# import upstream regulator modules\n",
    "import sys\n",
    "code_path = '../ura'\n",
    "sys.path.append(code_path)\n",
    "import create_graph\n",
    "import stat_analysis\n",
    "reload(create_graph)\n",
    "reload(stat_analysis)\n",
    "\n",
    "# network visualization package\n",
    "# (pip install visJS2jupyter)\n",
    "import visJS2jupyter.visJS_module as visJS_module"
   ]
  },
  {
   "cell_type": "markdown",
   "metadata": {},
   "source": [
    "## Transcription Factors\n",
    "<a id='tf'></a>\n",
    "\n",
    "Load our list of Transcription Factors (TF) we want to analyze. Gene symbols will be in all caps. "
   ]
  },
  {
   "cell_type": "code",
   "execution_count": 2,
   "metadata": {
    "collapsed": true
   },
   "outputs": [],
   "source": [
    "TF_list = create_graph.create_TF_list(slowkow_bool=True,\n",
    "                    slowkow_files=['../slowkow_databases/TRED_TF.txt',\n",
    "                                   '../slowkow_databases/ITFP_TF.txt',\n",
    "                                   '../slowkow_databases/ENCODE_TF.txt',\n",
    "                                   '../slowkow_databases/Neph2012_TF.txt',\n",
    "                                   '../slowkow_databases/TRRUST_TF.txt',\n",
    "                                   '../slowkow_databases/Marbach2016_TF.txt'],\n",
    "                    slowkow_sep = '\\n',\n",
    "                    jaspar_bool=True,\n",
    "                    jaspar_file=\"../jaspar_genereg_matrix.txt\")\n",
    "\n",
    "\n",
    "TF_list = TF_list + ['TNF', 'IFNG', 'LBP'] # known regulators of interest missing from our TF databases"
   ]
  },
  {
   "cell_type": "markdown",
   "metadata": {},
   "source": [
    "## Background Network\n",
    "<a id='bn'></a>\n",
    "\n",
    "Load our background network, available on the [STRING website](https://string-db.org/cgi/download.pl?UserId=9BGA8WkVMRl6&sessionId=HWUK6Dum9xC6&species_text=Homo+sapiens), and keep only our the information about our TF's. \n",
    "\n",
    "The function load_STRING_to_digraph can load any species' \"protein actions\" database from STRING. Just ensure your TF list and DEG list have the same naming convention as you background network (Homo Sapiens use all caps, Mus Musculus only capitalizes the first letter, etc.) Inconsistent naming can effect your results."
   ]
  },
  {
   "cell_type": "code",
   "execution_count": 3,
   "metadata": {},
   "outputs": [
    {
     "name": "stdout",
     "output_type": "stream",
     "text": [
      "querying 1-1000...done.\n",
      "querying 1001-2000...done.\n",
      "querying 2001-3000...done.\n",
      "querying 3001-4000...done.\n",
      "querying 4001-5000...done.\n",
      "querying 5001-6000...done.\n",
      "querying 6001-7000...done.\n",
      "querying 7001-7374...done.\n",
      "Finished.\n",
      "56 input query terms found dup hits:\n",
      "\t[(u'ENSP00000359550', 3), (u'ENSP00000447879', 2), (u'ENSP00000364076', 2), (u'ENSP00000348986', 2),\n",
      "312 input query terms found no hit:\n",
      "\t[u'ENSP00000376684', u'ENSP00000289352', u'ENSP00000202788', u'ENSP00000373637', u'ENSP00000367802',\n",
      "Pass \"returnall=True\" to return complete lists of duplicate or missing query terms.\n"
     ]
    }
   ],
   "source": [
    "filename = \"../9606.protein.actions.v10.5.txt\"\n",
    "confidence_filter=400\n",
    "DG = create_graph.load_STRING_to_digraph(filename, confidence_filter, TF_list)"
   ]
  },
  {
   "cell_type": "markdown",
   "metadata": {},
   "source": [
    "## HUVEC##\n",
    "<a id='huvec'></a>"
   ]
  },
  {
   "cell_type": "markdown",
   "metadata": {},
   "source": [
    "### Load HUVEC DEG's ###\n",
    "<a id='loadhuvec'></a>"
   ]
  },
  {
   "cell_type": "code",
   "execution_count": 4,
   "metadata": {
    "collapsed": true
   },
   "outputs": [],
   "source": [
    "# DEG's\n",
    "filename_huvec = '../geo2r_GSE2639_huvec.txt'\n",
    "\n",
    "# TF's found to be statistically significant in Ingenuity Systems URA article\n",
    "huvec_genes = ['TNF','IFNG','LBP', 'NFKB1', 'NFKB2', 'REL', 'RELA', 'RELB', 'PCBP3', 'PCBP2', 'PCBP1', 'PCBP4', 'NFKBIA']\n",
    "\n",
    "# add DEG information to STRING background network\n",
    "DEG_list_huvec, DEG_to_pvalue_huvec, DEG_to_updown_huvec = create_graph.create_DEG_list(filename_huvec, p_value_filter = 0.3)\n",
    "DG_huvec = create_graph.add_updown_from_DEG(DG, DEG_to_updown_huvec) # will not overwrite original graph DG"
   ]
  },
  {
   "cell_type": "markdown",
   "metadata": {},
   "source": [
    "### Calculate p-values and z-scores\n",
    "<a id='pzhuvec'></a>\n",
    "\n",
    "For a detailed explination of our p-value and z-score calculation functions, see our URA_Basic_Example notebook"
   ]
  },
  {
   "cell_type": "code",
   "execution_count": 5,
   "metadata": {
    "collapsed": true
   },
   "outputs": [],
   "source": [
    "# calculate p-values\n",
    "p_values_huvec = stat_analysis.tf_pvalues(DG_huvec, DG, DEG_list_huvec)\n",
    "\n",
    "# calculate z-scores\n",
    "z_scores_huvec = stat_analysis.tf_zscore(DG_huvec, DEG_list_huvec, bias_filter = 0.25) # recommended bias filter is 0.25"
   ]
  },
  {
   "cell_type": "markdown",
   "metadata": {},
   "source": [
    "### Compare the Ingenuity Article's results to Ours\n",
    "<a id='comphuvec'></a>\n",
    "\n",
    "These are the TF's found to be most relevant according to the Ingenuity Pathway Analysis paper. Optimally, these genes would rank very high. A rank of 0 is always best, while the rank associated with a z-score of zero is the worst. \n",
    "\n",
    "In this case, IFNG anf TNF are high ranking, therefore show coordination between our results and the Ingenuity article's results. LBP, PCBP1, PCBP2, PCBP4, and RELB have z-scores of zero, meaning not enough information exists about these genes to calculate a true z-score for them. PCBP3 has a NaN z-score because it is not in the graph."
   ]
  },
  {
   "cell_type": "code",
   "execution_count": 6,
   "metadata": {},
   "outputs": [
    {
     "data": {
      "text/html": [
       "<div>\n",
       "<style>\n",
       "    .dataframe thead tr:only-child th {\n",
       "        text-align: right;\n",
       "    }\n",
       "\n",
       "    .dataframe thead th {\n",
       "        text-align: left;\n",
       "    }\n",
       "\n",
       "    .dataframe tbody tr th {\n",
       "        vertical-align: top;\n",
       "    }\n",
       "</style>\n",
       "<table border=\"1\" class=\"dataframe\">\n",
       "  <thead>\n",
       "    <tr style=\"text-align: right;\">\n",
       "      <th></th>\n",
       "      <th>rank</th>\n",
       "      <th>z-score</th>\n",
       "    </tr>\n",
       "  </thead>\n",
       "  <tbody>\n",
       "    <tr>\n",
       "      <th>IFNG</th>\n",
       "      <td>0.0</td>\n",
       "      <td>3.549648</td>\n",
       "    </tr>\n",
       "    <tr>\n",
       "      <th>TNF</th>\n",
       "      <td>5.0</td>\n",
       "      <td>2.342606</td>\n",
       "    </tr>\n",
       "    <tr>\n",
       "      <th>NFKB2</th>\n",
       "      <td>12.0</td>\n",
       "      <td>1.732051</td>\n",
       "    </tr>\n",
       "    <tr>\n",
       "      <th>RELA</th>\n",
       "      <td>13.0</td>\n",
       "      <td>1.732051</td>\n",
       "    </tr>\n",
       "    <tr>\n",
       "      <th>NFKBIA</th>\n",
       "      <td>19.0</td>\n",
       "      <td>1.341641</td>\n",
       "    </tr>\n",
       "    <tr>\n",
       "      <th>REL</th>\n",
       "      <td>19.0</td>\n",
       "      <td>-1.341641</td>\n",
       "    </tr>\n",
       "    <tr>\n",
       "      <th>NFKB1</th>\n",
       "      <td>23.0</td>\n",
       "      <td>1.091089</td>\n",
       "    </tr>\n",
       "    <tr>\n",
       "      <th>LBP</th>\n",
       "      <td>34.0</td>\n",
       "      <td>0.000000</td>\n",
       "    </tr>\n",
       "    <tr>\n",
       "      <th>PCBP1</th>\n",
       "      <td>34.0</td>\n",
       "      <td>0.000000</td>\n",
       "    </tr>\n",
       "    <tr>\n",
       "      <th>PCBP2</th>\n",
       "      <td>34.0</td>\n",
       "      <td>0.000000</td>\n",
       "    </tr>\n",
       "    <tr>\n",
       "      <th>PCBP4</th>\n",
       "      <td>34.0</td>\n",
       "      <td>0.000000</td>\n",
       "    </tr>\n",
       "    <tr>\n",
       "      <th>RELB</th>\n",
       "      <td>34.0</td>\n",
       "      <td>0.000000</td>\n",
       "    </tr>\n",
       "    <tr>\n",
       "      <th>PCBP3</th>\n",
       "      <td>NaN</td>\n",
       "      <td>NaN</td>\n",
       "    </tr>\n",
       "  </tbody>\n",
       "</table>\n",
       "</div>"
      ],
      "text/plain": [
       "        rank   z-score\n",
       "IFNG     0.0  3.549648\n",
       "TNF      5.0  2.342606\n",
       "NFKB2   12.0  1.732051\n",
       "RELA    13.0  1.732051\n",
       "NFKBIA  19.0  1.341641\n",
       "REL     19.0 -1.341641\n",
       "NFKB1   23.0  1.091089\n",
       "LBP     34.0  0.000000\n",
       "PCBP1   34.0  0.000000\n",
       "PCBP2   34.0  0.000000\n",
       "PCBP4   34.0  0.000000\n",
       "RELB    34.0  0.000000\n",
       "PCBP3    NaN       NaN"
      ]
     },
     "execution_count": 6,
     "metadata": {},
     "output_type": "execute_result"
    }
   ],
   "source": [
    "stat_analysis.rank_and_score_df(z_scores_huvec, huvec_genes, remove_dups=True)"
   ]
  },
  {
   "cell_type": "markdown",
   "metadata": {},
   "source": [
    "### Display Our results\n",
    "<a id='displayhuvec'></a>\n",
    "\n",
    "These are the most relevant TF's according to our analysis. Optimally, these should match the huvec genes defined above. However, using a different background network produces discrepancies.\n",
    "\n",
    "IFNG, TNF, and TNFAIP3 show coordination between our results and the Ingenuity article's results."
   ]
  },
  {
   "cell_type": "code",
   "execution_count": 7,
   "metadata": {
    "scrolled": true
   },
   "outputs": [
    {
     "data": {
      "text/html": [
       "<div>\n",
       "<style>\n",
       "    .dataframe thead tr:only-child th {\n",
       "        text-align: right;\n",
       "    }\n",
       "\n",
       "    .dataframe thead th {\n",
       "        text-align: left;\n",
       "    }\n",
       "\n",
       "    .dataframe tbody tr th {\n",
       "        vertical-align: top;\n",
       "    }\n",
       "</style>\n",
       "<table border=\"1\" class=\"dataframe\">\n",
       "  <thead>\n",
       "    <tr style=\"text-align: right;\">\n",
       "      <th></th>\n",
       "      <th>activating z-score</th>\n",
       "    </tr>\n",
       "  </thead>\n",
       "  <tbody>\n",
       "    <tr>\n",
       "      <th>IFNG</th>\n",
       "      <td>3.549648</td>\n",
       "    </tr>\n",
       "    <tr>\n",
       "      <th>CTF1</th>\n",
       "      <td>3.000000</td>\n",
       "    </tr>\n",
       "    <tr>\n",
       "      <th>STAT4</th>\n",
       "      <td>2.645751</td>\n",
       "    </tr>\n",
       "    <tr>\n",
       "      <th>STAT5A</th>\n",
       "      <td>2.529822</td>\n",
       "    </tr>\n",
       "    <tr>\n",
       "      <th>TNF</th>\n",
       "      <td>2.342606</td>\n",
       "    </tr>\n",
       "    <tr>\n",
       "      <th>HIF1A</th>\n",
       "      <td>2.236068</td>\n",
       "    </tr>\n",
       "    <tr>\n",
       "      <th>GATA3</th>\n",
       "      <td>2.236068</td>\n",
       "    </tr>\n",
       "    <tr>\n",
       "      <th>IRF3</th>\n",
       "      <td>2.236068</td>\n",
       "    </tr>\n",
       "    <tr>\n",
       "      <th>FOS</th>\n",
       "      <td>2.236068</td>\n",
       "    </tr>\n",
       "    <tr>\n",
       "      <th>SPG7</th>\n",
       "      <td>2.236068</td>\n",
       "    </tr>\n",
       "  </tbody>\n",
       "</table>\n",
       "</div>"
      ],
      "text/plain": [
       "        activating z-score\n",
       "IFNG              3.549648\n",
       "CTF1              3.000000\n",
       "STAT4             2.645751\n",
       "STAT5A            2.529822\n",
       "TNF               2.342606\n",
       "HIF1A             2.236068\n",
       "GATA3             2.236068\n",
       "IRF3              2.236068\n",
       "FOS               2.236068\n",
       "SPG7              2.236068"
      ]
     },
     "metadata": {},
     "output_type": "display_data"
    },
    {
     "data": {
      "text/html": [
       "<div>\n",
       "<style>\n",
       "    .dataframe thead tr:only-child th {\n",
       "        text-align: right;\n",
       "    }\n",
       "\n",
       "    .dataframe thead th {\n",
       "        text-align: left;\n",
       "    }\n",
       "\n",
       "    .dataframe tbody tr th {\n",
       "        vertical-align: top;\n",
       "    }\n",
       "</style>\n",
       "<table border=\"1\" class=\"dataframe\">\n",
       "  <thead>\n",
       "    <tr style=\"text-align: right;\">\n",
       "      <th></th>\n",
       "      <th>inhibiting z-score</th>\n",
       "    </tr>\n",
       "  </thead>\n",
       "  <tbody>\n",
       "    <tr>\n",
       "      <th>PPARA</th>\n",
       "      <td>-2.449490</td>\n",
       "    </tr>\n",
       "    <tr>\n",
       "      <th>TNFAIP3</th>\n",
       "      <td>-2.000000</td>\n",
       "    </tr>\n",
       "    <tr>\n",
       "      <th>DDX41</th>\n",
       "      <td>-2.000000</td>\n",
       "    </tr>\n",
       "    <tr>\n",
       "      <th>CACNA2D4</th>\n",
       "      <td>-2.000000</td>\n",
       "    </tr>\n",
       "    <tr>\n",
       "      <th>CACNA2D2</th>\n",
       "      <td>-2.000000</td>\n",
       "    </tr>\n",
       "    <tr>\n",
       "      <th>GPSM1</th>\n",
       "      <td>-1.941451</td>\n",
       "    </tr>\n",
       "    <tr>\n",
       "      <th>SIRT1</th>\n",
       "      <td>-1.897367</td>\n",
       "    </tr>\n",
       "    <tr>\n",
       "      <th>STRAP</th>\n",
       "      <td>-1.732051</td>\n",
       "    </tr>\n",
       "    <tr>\n",
       "      <th>IRF8</th>\n",
       "      <td>-1.732051</td>\n",
       "    </tr>\n",
       "    <tr>\n",
       "      <th>NKX2-5</th>\n",
       "      <td>-1.732051</td>\n",
       "    </tr>\n",
       "  </tbody>\n",
       "</table>\n",
       "</div>"
      ],
      "text/plain": [
       "          inhibiting z-score\n",
       "PPARA              -2.449490\n",
       "TNFAIP3            -2.000000\n",
       "DDX41              -2.000000\n",
       "CACNA2D4           -2.000000\n",
       "CACNA2D2           -2.000000\n",
       "GPSM1              -1.941451\n",
       "SIRT1              -1.897367\n",
       "STRAP              -1.732051\n",
       "IRF8               -1.732051\n",
       "NKX2-5             -1.732051"
      ]
     },
     "metadata": {},
     "output_type": "display_data"
    }
   ],
   "source": [
    "top_act_huvec = stat_analysis.top_values(z_scores_huvec, act = True, abs_value = False, top = 10)\n",
    "top_inh_huvec = stat_analysis.top_values(z_scores_huvec, act = False, abs_value = False, top = 10)\n",
    "display(top_act_huvec.to_frame(name = 'activating z-score'))\n",
    "display(top_inh_huvec.to_frame(name = 'inhibiting z-score'))"
   ]
  },
  {
   "cell_type": "markdown",
   "metadata": {},
   "source": [
    "## Breast Cancer ###\n",
    "<a id='brca'></a>"
   ]
  },
  {
   "cell_type": "markdown",
   "metadata": {},
   "source": [
    "### Load Breast Cancer DEG's\n",
    "<a id='loadbrca'></a>"
   ]
  },
  {
   "cell_type": "code",
   "execution_count": 8,
   "metadata": {
    "collapsed": true
   },
   "outputs": [],
   "source": [
    "filename_brca = '../geo2r_GSE11352_brca_48hours.txt'\n",
    "brca_genes = ['ESR1', 'FSH', 'MEK', 'BRD4', 'MYC', 'MARK1', 'IL1B','NCOA3','PGR', \n",
    "              'EGR1', 'HIF1A', 'NR3C1','CTNNB1','TP53','SMARCE1','STAT5B']\n",
    "DEG_list_brca, DEG_to_pvalue_brca, DEG_to_updown_brca = create_graph.create_DEG_list(filename_brca, p_value_filter = 0.05)\n",
    "DG_brca = create_graph.add_updown_from_DEG(DG, DEG_to_updown_brca)"
   ]
  },
  {
   "cell_type": "markdown",
   "metadata": {},
   "source": [
    "### Calculate p-values and z-scores\n",
    "<a id='pzbrca'></a>"
   ]
  },
  {
   "cell_type": "code",
   "execution_count": 9,
   "metadata": {
    "collapsed": true
   },
   "outputs": [],
   "source": [
    "p_values_brca = stat_analysis.tf_pvalues(DG_brca, DG, DEG_list_brca)\n",
    "\n",
    "z_scores_brca = stat_analysis.tf_zscore(DG_brca, DEG_list_brca, bias_filter = 0.25)"
   ]
  },
  {
   "cell_type": "markdown",
   "metadata": {},
   "source": [
    "### Compare the Ingenuity Article's results to Ours\n",
    "<a id='compbrca'></a>\n",
    "TP53, MYC, and ESR1 are foud to be highly ranking, showing coordination between our results and the Ingenuity article's results."
   ]
  },
  {
   "cell_type": "code",
   "execution_count": 10,
   "metadata": {},
   "outputs": [
    {
     "data": {
      "text/html": [
       "<div>\n",
       "<style>\n",
       "    .dataframe thead tr:only-child th {\n",
       "        text-align: right;\n",
       "    }\n",
       "\n",
       "    .dataframe thead th {\n",
       "        text-align: left;\n",
       "    }\n",
       "\n",
       "    .dataframe tbody tr th {\n",
       "        vertical-align: top;\n",
       "    }\n",
       "</style>\n",
       "<table border=\"1\" class=\"dataframe\">\n",
       "  <thead>\n",
       "    <tr style=\"text-align: right;\">\n",
       "      <th></th>\n",
       "      <th>rank</th>\n",
       "      <th>z-score</th>\n",
       "    </tr>\n",
       "  </thead>\n",
       "  <tbody>\n",
       "    <tr>\n",
       "      <th>TP53</th>\n",
       "      <td>0.0</td>\n",
       "      <td>-1.889822</td>\n",
       "    </tr>\n",
       "    <tr>\n",
       "      <th>MYC</th>\n",
       "      <td>2.0</td>\n",
       "      <td>1.666667</td>\n",
       "    </tr>\n",
       "    <tr>\n",
       "      <th>ESR1</th>\n",
       "      <td>3.0</td>\n",
       "      <td>1.414214</td>\n",
       "    </tr>\n",
       "    <tr>\n",
       "      <th>STAT5B</th>\n",
       "      <td>4.0</td>\n",
       "      <td>1.341641</td>\n",
       "    </tr>\n",
       "    <tr>\n",
       "      <th>NR3C1</th>\n",
       "      <td>5.0</td>\n",
       "      <td>1.000000</td>\n",
       "    </tr>\n",
       "    <tr>\n",
       "      <th>HIF1A</th>\n",
       "      <td>7.0</td>\n",
       "      <td>-0.577350</td>\n",
       "    </tr>\n",
       "    <tr>\n",
       "      <th>CTNNB1</th>\n",
       "      <td>8.0</td>\n",
       "      <td>0.447214</td>\n",
       "    </tr>\n",
       "    <tr>\n",
       "      <th>EGR1</th>\n",
       "      <td>8.0</td>\n",
       "      <td>-0.447214</td>\n",
       "    </tr>\n",
       "    <tr>\n",
       "      <th>BRD4</th>\n",
       "      <td>9.0</td>\n",
       "      <td>0.000000</td>\n",
       "    </tr>\n",
       "    <tr>\n",
       "      <th>NCOA3</th>\n",
       "      <td>9.0</td>\n",
       "      <td>0.000000</td>\n",
       "    </tr>\n",
       "    <tr>\n",
       "      <th>PGR</th>\n",
       "      <td>9.0</td>\n",
       "      <td>0.000000</td>\n",
       "    </tr>\n",
       "    <tr>\n",
       "      <th>SMARCE1</th>\n",
       "      <td>9.0</td>\n",
       "      <td>0.000000</td>\n",
       "    </tr>\n",
       "    <tr>\n",
       "      <th>FSH</th>\n",
       "      <td>NaN</td>\n",
       "      <td>NaN</td>\n",
       "    </tr>\n",
       "    <tr>\n",
       "      <th>IL1B</th>\n",
       "      <td>NaN</td>\n",
       "      <td>NaN</td>\n",
       "    </tr>\n",
       "    <tr>\n",
       "      <th>MARK1</th>\n",
       "      <td>NaN</td>\n",
       "      <td>NaN</td>\n",
       "    </tr>\n",
       "    <tr>\n",
       "      <th>MEK</th>\n",
       "      <td>NaN</td>\n",
       "      <td>NaN</td>\n",
       "    </tr>\n",
       "  </tbody>\n",
       "</table>\n",
       "</div>"
      ],
      "text/plain": [
       "         rank   z-score\n",
       "TP53      0.0 -1.889822\n",
       "MYC       2.0  1.666667\n",
       "ESR1      3.0  1.414214\n",
       "STAT5B    4.0  1.341641\n",
       "NR3C1     5.0  1.000000\n",
       "HIF1A     7.0 -0.577350\n",
       "CTNNB1    8.0  0.447214\n",
       "EGR1      8.0 -0.447214\n",
       "BRD4      9.0  0.000000\n",
       "NCOA3     9.0  0.000000\n",
       "PGR       9.0  0.000000\n",
       "SMARCE1   9.0  0.000000\n",
       "FSH       NaN       NaN\n",
       "IL1B      NaN       NaN\n",
       "MARK1     NaN       NaN\n",
       "MEK       NaN       NaN"
      ]
     },
     "execution_count": 10,
     "metadata": {},
     "output_type": "execute_result"
    }
   ],
   "source": [
    "stat_analysis.rank_and_score_df(z_scores_brca, brca_genes, act = True, abs_value = True, remove_dups=True)"
   ]
  },
  {
   "cell_type": "markdown",
   "metadata": {},
   "source": [
    "### Display Our results\n",
    "<a id='displaybrca'></a>\n",
    "MYCN, MYC, ESR1, and TP53 show coordination between our results and the Ingenuity article's results.\n",
    "\n",
    "Four out of five of our top activating genes are associated with breast cancer according to literature. Our top three inhibiting genes are also associated with breast cancer according to literature. "
   ]
  },
  {
   "cell_type": "code",
   "execution_count": 11,
   "metadata": {},
   "outputs": [
    {
     "data": {
      "text/html": [
       "<div>\n",
       "<style>\n",
       "    .dataframe thead tr:only-child th {\n",
       "        text-align: right;\n",
       "    }\n",
       "\n",
       "    .dataframe thead th {\n",
       "        text-align: left;\n",
       "    }\n",
       "\n",
       "    .dataframe tbody tr th {\n",
       "        vertical-align: top;\n",
       "    }\n",
       "</style>\n",
       "<table border=\"1\" class=\"dataframe\">\n",
       "  <thead>\n",
       "    <tr style=\"text-align: right;\">\n",
       "      <th></th>\n",
       "      <th>activating z-score</th>\n",
       "    </tr>\n",
       "  </thead>\n",
       "  <tbody>\n",
       "    <tr>\n",
       "      <th>STAT1</th>\n",
       "      <td>1.732051</td>\n",
       "    </tr>\n",
       "    <tr>\n",
       "      <th>MYCN</th>\n",
       "      <td>1.732051</td>\n",
       "    </tr>\n",
       "    <tr>\n",
       "      <th>STAT3</th>\n",
       "      <td>1.732051</td>\n",
       "    </tr>\n",
       "    <tr>\n",
       "      <th>MYC</th>\n",
       "      <td>1.666667</td>\n",
       "    </tr>\n",
       "    <tr>\n",
       "      <th>SREBF1</th>\n",
       "      <td>1.414214</td>\n",
       "    </tr>\n",
       "    <tr>\n",
       "      <th>PHKB</th>\n",
       "      <td>1.414214</td>\n",
       "    </tr>\n",
       "    <tr>\n",
       "      <th>CCNA2</th>\n",
       "      <td>1.414214</td>\n",
       "    </tr>\n",
       "    <tr>\n",
       "      <th>ESR1</th>\n",
       "      <td>1.414214</td>\n",
       "    </tr>\n",
       "    <tr>\n",
       "      <th>SREBF2</th>\n",
       "      <td>1.414214</td>\n",
       "    </tr>\n",
       "    <tr>\n",
       "      <th>IQGAP1</th>\n",
       "      <td>1.414214</td>\n",
       "    </tr>\n",
       "  </tbody>\n",
       "</table>\n",
       "</div>"
      ],
      "text/plain": [
       "        activating z-score\n",
       "STAT1             1.732051\n",
       "MYCN              1.732051\n",
       "STAT3             1.732051\n",
       "MYC               1.666667\n",
       "SREBF1            1.414214\n",
       "PHKB              1.414214\n",
       "CCNA2             1.414214\n",
       "ESR1              1.414214\n",
       "SREBF2            1.414214\n",
       "IQGAP1            1.414214"
      ]
     },
     "metadata": {},
     "output_type": "display_data"
    },
    {
     "data": {
      "text/html": [
       "<div>\n",
       "<style>\n",
       "    .dataframe thead tr:only-child th {\n",
       "        text-align: right;\n",
       "    }\n",
       "\n",
       "    .dataframe thead th {\n",
       "        text-align: left;\n",
       "    }\n",
       "\n",
       "    .dataframe tbody tr th {\n",
       "        vertical-align: top;\n",
       "    }\n",
       "</style>\n",
       "<table border=\"1\" class=\"dataframe\">\n",
       "  <thead>\n",
       "    <tr style=\"text-align: right;\">\n",
       "      <th></th>\n",
       "      <th>inhibiting z-score</th>\n",
       "    </tr>\n",
       "  </thead>\n",
       "  <tbody>\n",
       "    <tr>\n",
       "      <th>TP53</th>\n",
       "      <td>-1.889822</td>\n",
       "    </tr>\n",
       "    <tr>\n",
       "      <th>FOXO3</th>\n",
       "      <td>-1.414214</td>\n",
       "    </tr>\n",
       "    <tr>\n",
       "      <th>EGR2</th>\n",
       "      <td>-1.414214</td>\n",
       "    </tr>\n",
       "    <tr>\n",
       "      <th>NR1H3</th>\n",
       "      <td>-1.414214</td>\n",
       "    </tr>\n",
       "    <tr>\n",
       "      <th>FOXO4</th>\n",
       "      <td>-1.414214</td>\n",
       "    </tr>\n",
       "    <tr>\n",
       "      <th>AKT1</th>\n",
       "      <td>-1.414214</td>\n",
       "    </tr>\n",
       "    <tr>\n",
       "      <th>NR1H2</th>\n",
       "      <td>-1.000000</td>\n",
       "    </tr>\n",
       "    <tr>\n",
       "      <th>NFE2L2</th>\n",
       "      <td>-1.000000</td>\n",
       "    </tr>\n",
       "    <tr>\n",
       "      <th>TWIST1</th>\n",
       "      <td>-1.000000</td>\n",
       "    </tr>\n",
       "    <tr>\n",
       "      <th>FOXP3</th>\n",
       "      <td>-1.000000</td>\n",
       "    </tr>\n",
       "  </tbody>\n",
       "</table>\n",
       "</div>"
      ],
      "text/plain": [
       "        inhibiting z-score\n",
       "TP53             -1.889822\n",
       "FOXO3            -1.414214\n",
       "EGR2             -1.414214\n",
       "NR1H3            -1.414214\n",
       "FOXO4            -1.414214\n",
       "AKT1             -1.414214\n",
       "NR1H2            -1.000000\n",
       "NFE2L2           -1.000000\n",
       "TWIST1           -1.000000\n",
       "FOXP3            -1.000000"
      ]
     },
     "metadata": {},
     "output_type": "display_data"
    }
   ],
   "source": [
    "top_act_brca = stat_analysis.top_values(z_scores_brca, act = True, abs_value = False, top = 10)\n",
    "top_inh_brca = stat_analysis.top_values(z_scores_brca, act = False, abs_value = False, top = 10)\n",
    "display(top_act_brca.to_frame(name = 'activating z-score'))\n",
    "display(top_inh_brca.to_frame(name = 'inhibiting z-score'))"
   ]
  },
  {
   "cell_type": "code",
   "execution_count": 68,
   "metadata": {},
   "outputs": [
    {
     "data": {
      "text/html": [
       "<!doctype html><html><head>  <title>Network | Basic usage</title></head><body><script type=\"text/javascript\">function setUpFrame() {     var frame = window.frames[\"style_file0\"];    frame.runVis([{\"node_shape\": \"dot\", \"degree\": 3.0, \"title\": \"CCL2\", \"color\": \"rgba(0, 0, 256, 1.0)\", \"size_field\": 2.089924707527987, \"y\": 497.4276900195747, \"x\": 359.6107301503351, \"border_width\": 0, \"id\": \"CCL2\"}, {\"node_shape\": \"dot\", \"degree\": 3.0, \"title\": \"TGM2\", \"color\": \"rgba(198, 198, 256, 1.0)\", \"size_field\": 3.932401799030521, \"y\": 1099.7295399361076, \"x\": 598.2407379383468, \"border_width\": 0, \"id\": \"TGM2\"}, {\"node_shape\": \"dot\", \"degree\": 3.0, \"title\": \"TP53INP1\", \"color\": \"rgba(0, 0, 256, 1.0)\", \"size_field\": 5.44201937618241, \"y\": 552.953241180014, \"x\": 131.62610503441172, \"border_width\": 2, \"id\": \"TP53INP1\"}, {\"node_shape\": \"dot\", \"degree\": 3.0, \"title\": \"SIRT2\", \"color\": \"rgba(0, 0, 256, 1.0)\", \"size_field\": 2.8182569916027895, \"y\": 314.31625333859984, \"x\": 1137.2470457830402, \"border_width\": 0, \"id\": \"SIRT2\"}, {\"node_shape\": \"dot\", \"degree\": 3.0, \"title\": \"SMAD4\", \"color\": \"rgba(0, 0, 256, 1.0)\", \"size_field\": 3.6782522284344603, \"y\": 966.5275169558794, \"x\": 204.12456160342884, \"border_width\": 0, \"id\": \"SMAD4\"}, {\"node_shape\": \"dot\", \"degree\": 3.0, \"title\": \"CDKN1B\", \"color\": \"rgba(0, 0, 256, 1.0)\", \"size_field\": 4.10127823628901, \"y\": 946.662256923105, \"x\": 114.3988522479769, \"border_width\": 0, \"id\": \"CDKN1B\"}, {\"node_shape\": \"dot\", \"degree\": 3.0, \"title\": \"IGF1R\", \"color\": \"rgba(0, 0, 256, 1.0)\", \"size_field\": 3.944211592419732, \"y\": 383.8531391057574, \"x\": 471.1846813376185, \"border_width\": 0, \"id\": \"IGF1R\"}, {\"node_shape\": \"dot\", \"degree\": 3.0, \"title\": \"BCL2\", \"color\": \"rgba(154, 154, 256, 1.0)\", \"size_field\": 3.5186835491656363, \"y\": 559.8706413335698, \"x\": 438.6011820271806, \"border_width\": 0, \"id\": \"BCL2\"}, {\"node_shape\": \"dot\", \"degree\": 3.0, \"title\": \"CHL1\", \"color\": \"rgba(256, 172, 172, 1.0)\", \"size_field\": 2.7991745852054755, \"y\": 674.4141554627463, \"x\": 956.2687698593716, \"border_width\": 0, \"id\": \"CHL1\"}, {\"node_shape\": \"dot\", \"degree\": 3.0, \"title\": \"NDRG1\", \"color\": \"rgba(0, 0, 256, 1.0)\", \"size_field\": 2.282628198149102, \"y\": 508.5954990611286, \"x\": 460.63129192376994, \"border_width\": 0, \"id\": \"NDRG1\"}, {\"node_shape\": \"dot\", \"degree\": 3.0, \"title\": \"MYBL2\", \"color\": \"rgba(34, 34, 256, 1.0)\", \"size_field\": 2.316904931128684, \"y\": 216.59745832665416, \"x\": 944.0105300702018, \"border_width\": 0, \"id\": \"MYBL2\"}, {\"node_shape\": \"dot\", \"degree\": 3.0, \"title\": \"NES\", \"color\": \"rgba(256, 0, 0, 1.0)\", \"size_field\": 2.8751487885429796, \"y\": 790.7325543090591, \"x\": 364.82709673576545, \"border_width\": 0, \"id\": \"NES\"}, {\"node_shape\": \"dot\", \"degree\": 3.0, \"title\": \"GSN\", \"color\": \"rgba(0, 0, 256, 1.0)\", \"size_field\": 3.868856519613022, \"y\": 370.39938657801997, \"x\": 980.3709749186746, \"border_width\": 0, \"id\": \"GSN\"}, {\"node_shape\": \"dot\", \"degree\": 3.0, \"title\": \"MYCN\", \"color\": \"yellow\", \"size_field\": 5.44201937618241, \"y\": 636.9674052650763, \"x\": 552.9392496391896, \"border_width\": 0, \"id\": \"MYCN\"}, {\"node_shape\": \"dot\", \"degree\": 3.0, \"title\": \"KLF10\", \"color\": \"rgba(50, 50, 256, 1.0)\", \"size_field\": 2.8636982817549845, \"y\": 682.5340098185202, \"x\": 1093.5664541976366, \"border_width\": 0, \"id\": \"KLF10\"}, {\"node_shape\": \"dot\", \"degree\": 3.0, \"title\": \"STAT3\", \"color\": \"rgba(0, 0, 256, 1.0)\", \"size_field\": 3.0067626350382306, \"y\": 684.0655625272293, \"x\": 20.075723573039316, \"border_width\": 0, \"id\": \"STAT3\"}, {\"node_shape\": \"dot\", \"degree\": 3.0, \"title\": \"CHD7\", \"color\": \"rgba(102, 102, 256, 1.0)\", \"size_field\": 3.1933626252139202, \"y\": 0.0, \"x\": 801.2473555879462, \"border_width\": 0, \"id\": \"CHD7\"}, {\"node_shape\": \"dot\", \"degree\": 3.0, \"title\": \"RUNX3\", \"color\": \"rgba(0, 0, 256, 1.0)\", \"size_field\": 2.6790470561811635, \"y\": 977.8146450788428, \"x\": 468.245790058086, \"border_width\": 0, \"id\": \"RUNX3\"}, {\"node_shape\": \"dot\", \"degree\": 3.0, \"title\": \"CDKL5\", \"color\": \"rgba(0, 0, 256, 1.0)\", \"size_field\": 5.18689277901515, \"y\": 207.98200801875214, \"x\": 202.87979468386408, \"border_width\": 2, \"id\": \"CDKL5\"}, {\"node_shape\": \"dot\", \"degree\": 3.0, \"title\": \"SOX11\", \"color\": \"rgba(0, 0, 256, 1.0)\", \"size_field\": 2.8209805520698303, \"y\": 77.15434940467846, \"x\": 422.9274197693177, \"border_width\": 0, \"id\": \"SOX11\"}, {\"node_shape\": \"dot\", \"degree\": 3.0, \"title\": \"NTRK1\", \"color\": \"rgba(48, 48, 256, 1.0)\", \"size_field\": 2.0781777810640243, \"y\": 1033.0262046647806, \"x\": 664.2998421096364, \"border_width\": 0, \"id\": \"NTRK1\"}, {\"node_shape\": \"dot\", \"degree\": 3.0, \"title\": \"RGS5\", \"color\": \"rgba(0, 0, 256, 1.0)\", \"size_field\": 4.6635549612156595, \"y\": 1113.0165191587164, \"x\": 836.8557680460866, \"border_width\": 0, \"id\": \"RGS5\"}, {\"node_shape\": \"dot\", \"degree\": 3.0, \"title\": \"GLI1\", \"color\": \"rgba(0, 0, 256, 1.0)\", \"size_field\": 2.1338743085563276, \"y\": 204.8684382473929, \"x\": 698.4399363557447, \"border_width\": 0, \"id\": \"GLI1\"}, {\"node_shape\": \"dot\", \"degree\": 3.0, \"title\": \"NFKB1\", \"color\": \"rgba(0, 0, 256, 1.0)\", \"size_field\": 2.533923675011968, \"y\": 781.0343236358501, \"x\": 0.0, \"border_width\": 0, \"id\": \"NFKB1\"}, {\"node_shape\": \"dot\", \"degree\": 3.0, \"title\": \"MYC\", \"color\": \"rgba(176, 176, 256, 1.0)\", \"size_field\": 4.296603021316498, \"y\": 819.1779849135005, \"x\": 198.34091018501587, \"border_width\": 0, \"id\": \"MYC\"}, {\"node_shape\": \"dot\", \"degree\": 3.0, \"title\": \"TRPM7\", \"color\": \"rgba(0, 0, 256, 1.0)\", \"size_field\": 3.396344696973392, \"y\": 943.6682517535053, \"x\": 1017.4193086443917, \"border_width\": 0, \"id\": \"TRPM7\"}, {\"node_shape\": \"dot\", \"degree\": 3.0, \"title\": \"WT1\", \"color\": \"rgba(0, 0, 256, 1.0)\", \"size_field\": 2.133188594243745, \"y\": 105.92840597729929, \"x\": 1081.7205420796943, \"border_width\": 0, \"id\": \"WT1\"}, {\"node_shape\": \"dot\", \"degree\": 3.0, \"title\": \"WDR5\", \"color\": \"rgba(142, 142, 256, 1.0)\", \"size_field\": 4.02117263355586, \"y\": 1200.0, \"x\": 419.93627349943927, \"border_width\": 0, \"id\": \"WDR5\"}, {\"node_shape\": \"dot\", \"degree\": 3.0, \"title\": \"SHC2\", \"color\": \"rgba(0, 0, 256, 1.0)\", \"size_field\": 3.370027388656019, \"y\": 538.589421734412, \"x\": 1101.5863276644739, \"border_width\": 0, \"id\": \"SHC2\"}, {\"node_shape\": \"dot\", \"degree\": 3.0, \"title\": \"ASCL1\", \"color\": \"rgba(256, 8, 8, 1.0)\", \"size_field\": 5.414282621210811, \"y\": 1105.6489885521803, \"x\": 259.6161567771677, \"border_width\": 2, \"id\": \"ASCL1\"}, {\"node_shape\": \"dot\", \"degree\": 3.0, \"title\": \"CTSD\", \"color\": \"rgba(252, 252, 256, 1.0)\", \"size_field\": 4.838728524744326, \"y\": 435.3825452508297, \"x\": 81.83285767738134, \"border_width\": 0, \"id\": \"CTSD\"}, {\"node_shape\": \"dot\", \"degree\": 3.0, \"title\": \"HMGA1\", \"color\": \"rgba(0, 0, 256, 1.0)\", \"size_field\": 2.8563722416629114, \"y\": 580.4063748152237, \"x\": 36.42471771354189, \"border_width\": 0, \"id\": \"HMGA1\"}, {\"node_shape\": \"dot\", \"degree\": 3.0, \"title\": \"MCM7\", \"color\": \"rgba(130, 130, 256, 1.0)\", \"size_field\": 3.8546992690019293, \"y\": 1003.4538233653233, \"x\": 908.9312042370984, \"border_width\": 0, \"id\": \"MCM7\"}, {\"node_shape\": \"dot\", \"degree\": 3.0, \"title\": \"VEGFA\", \"color\": \"rgba(148, 148, 256, 1.0)\", \"size_field\": 3.525556428453398, \"y\": 635.1331663120525, \"x\": 320.3478656139481, \"border_width\": 0, \"id\": \"VEGFA\"}, {\"node_shape\": \"dot\", \"degree\": 3.0, \"title\": \"SHH\", \"color\": \"rgba(0, 0, 256, 1.0)\", \"size_field\": 2.9731256686266936, \"y\": 688.9430962247147, \"x\": 432.93926186610605, \"border_width\": 0, \"id\": \"SHH\"}, {\"node_shape\": \"dot\", \"degree\": 3.0, \"title\": \"SLC19A1\", \"color\": \"rgba(196, 196, 256, 1.0)\", \"size_field\": 4.267217949156755, \"y\": 812.6008013357113, \"x\": 1076.5177673488809, \"border_width\": 0, \"id\": \"SLC19A1\"}, {\"node_shape\": \"dot\", \"degree\": 3.0, \"title\": \"TRPM6\", \"color\": \"rgba(0, 0, 256, 1.0)\", \"size_field\": 2.8472311959426606, \"y\": 96.0643285438476, \"x\": 544.0415443261502, \"border_width\": 0, \"id\": \"TRPM6\"}, {\"node_shape\": \"dot\", \"degree\": 3.0, \"title\": \"ALK\", \"color\": \"rgba(0, 0, 256, 1.0)\", \"size_field\": 2.384486701722973, \"y\": 41.164359867892564, \"x\": 676.1002556471603, \"border_width\": 0, \"id\": \"ALK\"}, {\"node_shape\": \"dot\", \"degree\": 3.0, \"title\": \"TP53\", \"color\": \"rgba(28, 28, 256, 1.0)\", \"size_field\": 2.4205279857852102, \"y\": 776.7234858862282, \"x\": 119.02220603962948, \"border_width\": 0, \"id\": \"TP53\"}, {\"node_shape\": \"dot\", \"degree\": 3.0, \"title\": \"BMP2\", \"color\": \"rgba(256, 54, 54, 1.0)\", \"size_field\": 3.0555527992076628, \"y\": 512.2764993037774, \"x\": 689.0184816951652, \"border_width\": 0, \"id\": \"BMP2\"}, {\"node_shape\": \"dot\", \"degree\": 3.0, \"title\": \"CCND1\", \"color\": \"rgba(74, 74, 256, 1.0)\", \"size_field\": 3.2437536743377806, \"y\": 606.8039011524552, \"x\": 436.1714220744769, \"border_width\": 0, \"id\": \"CCND1\"}, {\"node_shape\": \"dot\", \"degree\": 3.0, \"title\": \"LRRN3\", \"color\": \"rgba(0, 0, 256, 1.0)\", \"size_field\": 2.8171243603796565, \"y\": 832.2486972290847, \"x\": 926.48174309684, \"border_width\": 0, \"id\": \"LRRN3\"}, {\"node_shape\": \"dot\", \"degree\": 3.0, \"title\": \"INSM1\", \"color\": \"rgba(0, 0, 256, 1.0)\", \"size_field\": 2.256312612705724, \"y\": 1178.8194012886909, \"x\": 507.34952329074395, \"border_width\": 0, \"id\": \"INSM1\"}, {\"node_shape\": \"dot\", \"degree\": 3.0, \"title\": \"AHR\", \"color\": \"rgba(0, 0, 256, 1.0)\", \"size_field\": 2.23990829764694, \"y\": 47.529299662446604, \"x\": 928.6211085172956, \"border_width\": 0, \"id\": \"AHR\"}, {\"node_shape\": \"dot\", \"degree\": 3.0, \"title\": \"PTEN\", \"color\": \"rgba(0, 0, 256, 1.0)\", \"size_field\": 3.3242589702004377, \"y\": 909.2474923829343, \"x\": 382.62987439712606, \"border_width\": 0, \"id\": \"PTEN\"}, {\"node_shape\": \"dot\", \"degree\": 3.0, \"title\": \"VIP\", \"color\": \"rgba(110, 110, 256, 1.0)\", \"size_field\": 2.0948602810239603, \"y\": 1040.7689933500105, \"x\": 332.61037476292785, \"border_width\": 0, \"id\": \"VIP\"}, {\"node_shape\": \"dot\", \"degree\": 3.0, \"title\": \"RD3\", \"color\": \"rgba(0, 0, 256, 1.0)\", \"size_field\": 2.0142003494011416, \"y\": 512.2173670227562, \"x\": 963.0614286169972, \"border_width\": 0, \"id\": \"RD3\"}, {\"node_shape\": \"dot\", \"degree\": 3.0, \"title\": \"SIRT1\", \"color\": \"rgba(44, 44, 256, 1.0)\", \"size_field\": 2.434173272244908, \"y\": 870.5335698503972, \"x\": 71.43412737669934, \"border_width\": 0, \"id\": \"SIRT1\"}, {\"node_shape\": \"dot\", \"degree\": 3.0, \"title\": \"MTOR\", \"color\": \"rgba(142, 142, 256, 1.0)\", \"size_field\": 2.2470520963658855, \"y\": 696.222088747036, \"x\": 168.97998465555324, \"border_width\": 0, \"id\": \"MTOR\"}, {\"node_shape\": \"dot\", \"degree\": 3.0, \"title\": \"KDM3A\", \"color\": \"rgba(150, 150, 256, 1.0)\", \"size_field\": 3.606941032235513, \"y\": 157.13200616500404, \"x\": 325.467321126792, \"border_width\": 0, \"id\": \"KDM3A\"}, {\"node_shape\": \"dot\", \"degree\": 3.0, \"title\": \"KDM5B\", \"color\": \"rgba(0, 0, 256, 1.0)\", \"size_field\": 2.501865882394519, \"y\": 919.8810181735181, \"x\": 677.7750708417069, \"border_width\": 0, \"id\": \"KDM5B\"}, {\"node_shape\": \"dot\", \"degree\": 3.0, \"title\": \"CDC42\", \"color\": \"rgba(102, 102, 256, 1.0)\", \"size_field\": 2.6002034349172076, \"y\": 394.5358164694784, \"x\": 754.8939762698174, \"border_width\": 0, \"id\": \"CDC42\"}], [{\"color\": \"blue\", \"source\": 26, \"target\": 40}, {\"color\": \"blue\", \"source\": 26, \"target\": 13}, {\"color\": \"blue\", \"source\": 26, \"target\": 6}, {\"color\": \"blue\", \"source\": 26, \"target\": 7}, {\"color\": \"blue\", \"source\": 4, \"target\": 13}, {\"color\": \"red\", \"source\": 4, \"target\": 38}, {\"color\": \"blue\", \"source\": 4, \"target\": 40}, {\"color\": \"red\", \"source\": 4, \"target\": 5}, {\"color\": \"blue\", \"source\": 4, \"target\": 33}, {\"color\": \"blue\", \"source\": 4, \"target\": 24}, {\"color\": \"red\", \"source\": 27, \"target\": 13}, {\"color\": \"red\", \"source\": 10, \"target\": 13}, {\"color\": \"blue\", \"source\": 13, \"target\": 0}, {\"color\": \"blue\", \"source\": 13, \"target\": 1}, {\"color\": \"blue\", \"source\": 13, \"target\": 2}, {\"color\": \"red\", \"source\": 13, \"target\": 3}, {\"color\": \"blue\", \"source\": 13, \"target\": 4}, {\"color\": \"blue\", \"source\": 13, \"target\": 5}, {\"color\": \"red\", \"source\": 13, \"target\": 6}, {\"color\": \"red\", \"source\": 13, \"target\": 7}, {\"color\": \"blue\", \"source\": 13, \"target\": 8}, {\"color\": \"blue\", \"source\": 13, \"target\": 9}, {\"color\": \"red\", \"source\": 13, \"target\": 10}, {\"color\": \"red\", \"source\": 13, \"target\": 11}, {\"color\": \"red\", \"source\": 13, \"target\": 11}, {\"color\": \"blue\", \"source\": 13, \"target\": 12}, {\"color\": \"blue\", \"source\": 13, \"target\": 14}, {\"color\": \"red\", \"source\": 13, \"target\": 15}, {\"color\": \"blue\", \"source\": 13, \"target\": 16}, {\"color\": \"blue\", \"source\": 13, \"target\": 17}, {\"color\": \"blue\", \"source\": 13, \"target\": 18}, {\"color\": \"red\", \"source\": 13, \"target\": 19}, {\"color\": \"blue\", \"source\": 13, \"target\": 20}, {\"color\": \"blue\", \"source\": 13, \"target\": 21}, {\"color\": \"red\", \"source\": 13, \"target\": 22}, {\"color\": \"blue\", \"source\": 13, \"target\": 23}, {\"color\": \"blue\", \"source\": 13, \"target\": 24}, {\"color\": \"red\", \"source\": 13, \"target\": 25}, {\"color\": \"blue\", \"source\": 13, \"target\": 26}, {\"color\": \"red\", \"source\": 13, \"target\": 27}, {\"color\": \"red\", \"source\": 13, \"target\": 28}, {\"color\": \"red\", \"source\": 13, \"target\": 29}, {\"color\": \"blue\", \"source\": 13, \"target\": 30}, {\"color\": \"red\", \"source\": 13, \"target\": 31}, {\"color\": \"red\", \"source\": 13, \"target\": 32}, {\"color\": \"red\", \"source\": 13, \"target\": 33}, {\"color\": \"red\", \"source\": 13, \"target\": 34}, {\"color\": \"red\", \"source\": 13, \"target\": 35}, {\"color\": \"red\", \"source\": 13, \"target\": 36}, {\"color\": \"red\", \"source\": 13, \"target\": 37}, {\"color\": \"red\", \"source\": 13, \"target\": 38}, {\"color\": \"blue\", \"source\": 13, \"target\": 39}, {\"color\": \"red\", \"source\": 13, \"target\": 40}, {\"color\": \"blue\", \"source\": 13, \"target\": 41}, {\"color\": \"red\", \"source\": 13, \"target\": 42}, {\"color\": \"blue\", \"source\": 13, \"target\": 43}, {\"color\": \"red\", \"source\": 13, \"target\": 44}, {\"color\": \"blue\", \"source\": 13, \"target\": 45}, {\"color\": \"blue\", \"source\": 13, \"target\": 46}, {\"color\": \"red\", \"source\": 13, \"target\": 47}, {\"color\": \"red\", \"source\": 13, \"target\": 48}, {\"color\": \"red\", \"source\": 13, \"target\": 49}, {\"color\": \"blue\", \"source\": 13, \"target\": 50}, {\"color\": \"blue\", \"source\": 13, \"target\": 51}, {\"color\": \"blue\", \"source\": 13, \"target\": 51}, {\"color\": \"blue\", \"source\": 14, \"target\": 13}, {\"color\": \"red\", \"source\": 14, \"target\": 39}, {\"color\": \"red\", \"source\": 15, \"target\": 13}, {\"color\": \"red\", \"source\": 15, \"target\": 6}, {\"color\": \"blue\", \"source\": 15, \"target\": 38}, {\"color\": \"blue\", \"source\": 15, \"target\": 40}, {\"color\": \"blue\", \"source\": 15, \"target\": 40}, {\"color\": \"blue\", \"source\": 15, \"target\": 47}, {\"color\": \"blue\", \"source\": 15, \"target\": 33}, {\"color\": \"blue\", \"source\": 15, \"target\": 33}, {\"color\": \"red\", \"source\": 15, \"target\": 48}, {\"color\": \"red\", \"source\": 15, \"target\": 24}, {\"color\": \"blue\", \"source\": 44, \"target\": 0}, {\"color\": \"red\", \"source\": 44, \"target\": 13}, {\"color\": \"blue\", \"source\": 44, \"target\": 1}, {\"color\": \"blue\", \"source\": 44, \"target\": 38}, {\"color\": \"blue\", \"source\": 44, \"target\": 40}, {\"color\": \"blue\", \"source\": 44, \"target\": 20}, {\"color\": \"blue\", \"source\": 44, \"target\": 33}, {\"color\": \"blue\", \"source\": 44, \"target\": 48}, {\"color\": \"red\", \"source\": 44, \"target\": 9}, {\"color\": \"blue\", \"source\": 44, \"target\": 24}, {\"color\": \"blue\", \"source\": 44, \"target\": 50}, {\"color\": \"blue\", \"source\": 44, \"target\": 7}, {\"color\": \"red\", \"source\": 19, \"target\": 13}, {\"color\": \"red\", \"source\": 22, \"target\": 13}, {\"color\": \"red\", \"source\": 22, \"target\": 37}, {\"color\": \"blue\", \"source\": 22, \"target\": 40}, {\"color\": \"blue\", \"source\": 22, \"target\": 40}, {\"color\": \"red\", \"source\": 22, \"target\": 34}, {\"color\": \"red\", \"source\": 22, \"target\": 34}, {\"color\": \"blue\", \"source\": 22, \"target\": 7}, {\"color\": \"blue\", \"source\": 22, \"target\": 7}, {\"color\": \"blue\", \"source\": 22, \"target\": 39}, {\"color\": \"blue\", \"source\": 22, \"target\": 39}, {\"color\": \"red\", \"source\": 23, \"target\": 0}, {\"color\": \"blue\", \"source\": 23, \"target\": 13}, {\"color\": \"blue\", \"source\": 23, \"target\": 47}, {\"color\": \"blue\", \"source\": 23, \"target\": 47}, {\"color\": \"red\", \"source\": 23, \"target\": 38}, {\"color\": \"red\", \"source\": 23, \"target\": 40}, {\"color\": \"red\", \"source\": 23, \"target\": 33}, {\"color\": \"red\", \"source\": 23, \"target\": 34}, {\"color\": \"red\", \"source\": 23, \"target\": 48}, {\"color\": \"red\", \"source\": 23, \"target\": 24}, {\"color\": \"red\", \"source\": 23, \"target\": 7}, {\"color\": \"red\", \"source\": 24, \"target\": 0}, {\"color\": \"blue\", \"source\": 24, \"target\": 13}, {\"color\": \"red\", \"source\": 24, \"target\": 47}, {\"color\": \"red\", \"source\": 24, \"target\": 15}, {\"color\": \"blue\", \"source\": 24, \"target\": 2}, {\"color\": \"blue\", \"source\": 24, \"target\": 38}, {\"color\": \"blue\", \"source\": 24, \"target\": 17}, {\"color\": \"red\", \"source\": 24, \"target\": 40}, {\"color\": \"blue\", \"source\": 24, \"target\": 5}, {\"color\": \"blue\", \"source\": 24, \"target\": 5}, {\"color\": \"red\", \"source\": 24, \"target\": 23}, {\"color\": \"blue\", \"source\": 24, \"target\": 39}, {\"color\": \"blue\", \"source\": 24, \"target\": 44}, {\"color\": \"blue\", \"source\": 24, \"target\": 45}, {\"color\": \"blue\", \"source\": 24, \"target\": 33}, {\"color\": \"blue\", \"source\": 24, \"target\": 9}, {\"color\": \"blue\", \"source\": 24, \"target\": 9}, {\"color\": \"blue\", \"source\": 24, \"target\": 48}, {\"color\": \"red\", \"source\": 24, \"target\": 31}, {\"color\": \"blue\", \"source\": 24, \"target\": 4}, {\"color\": \"blue\", \"source\": 24, \"target\": 7}, {\"color\": \"blue\", \"source\": 24, \"target\": 7}, {\"color\": \"red\", \"source\": 3, \"target\": 13}, {\"color\": \"red\", \"source\": 29, \"target\": 34}, {\"color\": \"red\", \"source\": 29, \"target\": 13}, {\"color\": \"blue\", \"source\": 29, \"target\": 47}, {\"color\": \"red\", \"source\": 29, \"target\": 42}, {\"color\": \"red\", \"source\": 31, \"target\": 13}, {\"color\": \"red\", \"source\": 31, \"target\": 24}, {\"color\": \"blue\", \"source\": 31, \"target\": 38}, {\"color\": \"red\", \"source\": 32, \"target\": 13}, {\"color\": \"red\", \"source\": 38, \"target\": 0}, {\"color\": \"red\", \"source\": 38, \"target\": 13}, {\"color\": \"blue\", \"source\": 38, \"target\": 6}, {\"color\": \"red\", \"source\": 38, \"target\": 2}, {\"color\": \"blue\", \"source\": 38, \"target\": 15}, {\"color\": \"blue\", \"source\": 38, \"target\": 40}, {\"color\": \"blue\", \"source\": 38, \"target\": 5}, {\"color\": \"red\", \"source\": 38, \"target\": 30}, {\"color\": \"blue\", \"source\": 38, \"target\": 47}, {\"color\": \"blue\", \"source\": 38, \"target\": 47}, {\"color\": \"blue\", \"source\": 38, \"target\": 47}, {\"color\": \"blue\", \"source\": 38, \"target\": 31}, {\"color\": \"blue\", \"source\": 38, \"target\": 44}, {\"color\": \"blue\", \"source\": 38, \"target\": 33}, {\"color\": \"red\", \"source\": 38, \"target\": 9}, {\"color\": \"red\", \"source\": 38, \"target\": 34}, {\"color\": \"red\", \"source\": 38, \"target\": 23}, {\"color\": \"blue\", \"source\": 38, \"target\": 24}, {\"color\": \"blue\", \"source\": 38, \"target\": 11}, {\"color\": \"red\", \"source\": 38, \"target\": 4}, {\"color\": \"blue\", \"source\": 38, \"target\": 7}, {\"color\": \"blue\", \"source\": 38, \"target\": 7}, {\"color\": \"blue\", \"source\": 38, \"target\": 7}, {\"color\": \"blue\", \"source\": 42, \"target\": 40}, {\"color\": \"red\", \"source\": 42, \"target\": 13}, {\"color\": \"red\", \"source\": 42, \"target\": 29}, {\"color\": \"red\", \"source\": 42, \"target\": 34}, {\"color\": \"red\", \"source\": 43, \"target\": 0}, {\"color\": \"red\", \"source\": 43, \"target\": 9}, {\"color\": \"red\", \"source\": 43, \"target\": 33}, {\"color\": \"blue\", \"source\": 43, \"target\": 13}, {\"color\": \"blue\", \"source\": 17, \"target\": 13}, {\"color\": \"blue\", \"source\": 17, \"target\": 24}, {\"color\": \"blue\", \"source\": 17, \"target\": 33}, {\"color\": \"blue\", \"source\": 17, \"target\": 7}, {\"color\": \"red\", \"source\": 47, \"target\": 13}, {\"color\": \"blue\", \"source\": 47, \"target\": 15}, {\"color\": \"red\", \"source\": 47, \"target\": 5}, {\"color\": \"blue\", \"source\": 47, \"target\": 29}, {\"color\": \"blue\", \"source\": 47, \"target\": 33}, {\"color\": \"blue\", \"source\": 47, \"target\": 23}, {\"color\": \"blue\", \"source\": 47, \"target\": 23}, {\"color\": \"blue\", \"source\": 47, \"target\": 38}, {\"color\": \"blue\", \"source\": 47, \"target\": 38}, {\"color\": \"blue\", \"source\": 47, \"target\": 38}, {\"color\": \"red\", \"source\": 47, \"target\": 24}, {\"color\": \"blue\", \"source\": 50, \"target\": 13}, {\"color\": \"blue\", \"source\": 50, \"target\": 44}]);}</script><iframe name=\"style_file0\" src=\"style_file0.html\" height=\"1200px\" width=\"100%;\"></iframe></body></html>"
      ],
      "text/plain": [
       "<IPython.core.display.HTML object>"
      ]
     },
     "execution_count": 68,
     "metadata": {},
     "output_type": "execute_result"
    }
   ],
   "source": [
    "stat_analysis.vis_tf_network(DG_brca, 'MYCN', '../geo2r_GSE11352_brca_48hours.txt', DEG_list_brca,\n",
    "              directed_edges = False,\n",
    "              node_spacing = 1200,\n",
    "              graph_id = 0) "
   ]
  },
  {
   "cell_type": "code",
   "execution_count": 67,
   "metadata": {},
   "outputs": [
    {
     "data": {
      "text/html": [
       "<!doctype html><html><head>  <title>Network | Basic usage</title></head><body><script type=\"text/javascript\">function setUpFrame() {     var frame = window.frames[\"style_file1\"];    frame.runVis([{\"node_shape\": \"dot\", \"degree\": 3.0, \"title\": \"MOV10\", \"color\": \"rgba(0, 0, 256, 1.0)\", \"size_field\": 3.4300372840678093, \"y\": 654.2969339627654, \"x\": 2179.185098770619, \"border_width\": 0, \"id\": \"MOV10\"}, {\"node_shape\": \"dot\", \"degree\": 3.0, \"title\": \"HSPA4\", \"color\": \"rgba(226, 226, 256, 1.0)\", \"size_field\": 4.446455463413748, \"y\": 350.9436145278464, \"x\": 1252.0674695124992, \"border_width\": 0, \"id\": \"HSPA4\"}, {\"node_shape\": \"dot\", \"degree\": 3.0, \"title\": \"PLK1\", \"color\": \"rgba(140, 140, 256, 1.0)\", \"size_field\": 3.433385968653741, \"y\": 1473.0657073736172, \"x\": 995.3689181619632, \"border_width\": 0, \"id\": \"PLK1\"}, {\"node_shape\": \"dot\", \"degree\": 3.0, \"title\": \"PRKAG3\", \"color\": \"rgba(0, 0, 256, 1.0)\", \"size_field\": 2.573055700302125, \"y\": 1839.129480861576, \"x\": 1069.1829230074934, \"border_width\": 0, \"id\": \"PRKAG3\"}, {\"node_shape\": \"dot\", \"degree\": 3.0, \"title\": \"PRKAG2\", \"color\": \"rgba(166, 166, 256, 1.0)\", \"size_field\": 3.7153541380256496, \"y\": 1735.1087475759045, \"x\": 812.3691431315365, \"border_width\": 0, \"id\": \"PRKAG2\"}, {\"node_shape\": \"dot\", \"degree\": 3.0, \"title\": \"IKBKB\", \"color\": \"rgba(0, 0, 256, 1.0)\", \"size_field\": 2.5563461390678, \"y\": 1483.2720404574372, \"x\": 1242.0307749274273, \"border_width\": 0, \"id\": \"IKBKB\"}, {\"node_shape\": \"dot\", \"degree\": 3.0, \"title\": \"AKT1\", \"color\": \"rgba(28, 28, 256, 1.0)\", \"size_field\": 2.3191039424601207, \"y\": 1289.1667373454604, \"x\": 1503.0270451481247, \"border_width\": 0, \"id\": \"AKT1\"}, {\"node_shape\": \"dot\", \"degree\": 3.0, \"title\": \"AKT2\", \"color\": \"rgba(0, 0, 256, 1.0)\", \"size_field\": 3.296819354692288, \"y\": 1511.9737265345607, \"x\": 1416.7875005299945, \"border_width\": 0, \"id\": \"AKT2\"}, {\"node_shape\": \"dot\", \"degree\": 3.0, \"title\": \"AKT3\", \"color\": \"rgba(256, 0, 0, 1.0)\", \"size_field\": 2.7689488939762272, \"y\": 1540.457471938935, \"x\": 1319.1971111797611, \"border_width\": 0, \"id\": \"AKT3\"}, {\"node_shape\": \"dot\", \"degree\": 3.0, \"title\": \"TNRC6C\", \"color\": \"rgba(0, 0, 256, 1.0)\", \"size_field\": 4.584948003968227, \"y\": 540.9206863741216, \"x\": 2141.8078606325926, \"border_width\": 0, \"id\": \"TNRC6C\"}, {\"node_shape\": \"dot\", \"degree\": 3.0, \"title\": \"TNRC6B\", \"color\": \"rgba(0, 0, 256, 1.0)\", \"size_field\": 3.8457933577205408, \"y\": 344.4445196412289, \"x\": 1973.7601533222398, \"border_width\": 0, \"id\": \"TNRC6B\"}, {\"node_shape\": \"dot\", \"degree\": 3.0, \"title\": \"TNRC6A\", \"color\": \"rgba(256, 194, 194, 1.0)\", \"size_field\": 2.9205497887945384, \"y\": 461.921536249409, \"x\": 2063.275206629535, \"border_width\": 0, \"id\": \"TNRC6A\"}, {\"node_shape\": \"dot\", \"degree\": 3.0, \"title\": \"PMAIP1\", \"color\": \"rgba(256, 242, 242, 1.0)\", \"size_field\": 4.71356538179032, \"y\": 373.589164476693, \"x\": 1413.8865064168785, \"border_width\": 0, \"id\": \"PMAIP1\"}, {\"node_shape\": \"dot\", \"degree\": 3.0, \"title\": \"ADIPOQ\", \"color\": \"rgba(0, 0, 256, 1.0)\", \"size_field\": 2.7832907304129115, \"y\": 1210.3029550467393, \"x\": 2144.9218557868994, \"border_width\": 0, \"id\": \"ADIPOQ\"}, {\"node_shape\": \"dot\", \"degree\": 3.0, \"title\": \"RAN\", \"color\": \"rgba(100, 100, 256, 1.0)\", \"size_field\": 3.3034248832975956, \"y\": 1630.0223684392363, \"x\": 759.791419989472, \"border_width\": 0, \"id\": \"RAN\"}, {\"node_shape\": \"dot\", \"degree\": 3.0, \"title\": \"GADD45A\", \"color\": \"rgba(0, 0, 256, 1.0)\", \"size_field\": 2.279846186684006, \"y\": 1175.508257762633, \"x\": 1626.7343390384715, \"border_width\": 0, \"id\": \"GADD45A\"}, {\"node_shape\": \"dot\", \"degree\": 3.0, \"title\": \"YWHAH\", \"color\": \"rgba(202, 202, 256, 1.0)\", \"size_field\": 2.9757753787090473, \"y\": 1127.9306070309715, \"x\": 922.4827666595106, \"border_width\": 0, \"id\": \"YWHAH\"}, {\"node_shape\": \"dot\", \"degree\": 3.0, \"title\": \"PRKAG1\", \"color\": \"rgba(0, 0, 256, 1.0)\", \"size_field\": 2.0030045090202986, \"y\": 1528.393001406385, \"x\": 896.2259195623484, \"border_width\": 0, \"id\": \"PRKAG1\"}, {\"node_shape\": \"dot\", \"degree\": 3.0, \"title\": \"CSNK1E\", \"color\": \"rgba(82, 82, 256, 1.0)\", \"size_field\": 2.6933472005626125, \"y\": 1934.6822290284117, \"x\": 1358.3969569724052, \"border_width\": 0, \"id\": \"CSNK1E\"}, {\"node_shape\": \"dot\", \"degree\": 3.0, \"title\": \"CDH1\", \"color\": \"rgba(0, 0, 256, 1.0)\", \"size_field\": 2.655080979753489, \"y\": 1029.2796261645294, \"x\": 1738.9054238511474, \"border_width\": 0, \"id\": \"CDH1\"}, {\"node_shape\": \"dot\", \"degree\": 3.0, \"title\": \"MYC\", \"color\": \"rgba(218, 218, 256, 1.0)\", \"size_field\": 4.296603021316498, \"y\": 842.2707176581407, \"x\": 1732.753408625566, \"border_width\": 0, \"id\": \"MYC\"}, {\"node_shape\": \"dot\", \"degree\": 3.0, \"title\": \"CDKN2B\", \"color\": \"rgba(0, 0, 256, 1.0)\", \"size_field\": 5.094448246493149, \"y\": 796.1267184556772, \"x\": 1500.0442793599766, \"border_width\": 2, \"id\": \"CDKN2B\"}, {\"node_shape\": \"dot\", \"degree\": 3.0, \"title\": \"STK11\", \"color\": \"rgba(0, 0, 256, 1.0)\", \"size_field\": 3.3356012468043725, \"y\": 1372.8393820796782, \"x\": 1345.861266046108, \"border_width\": 0, \"id\": \"STK11\"}, {\"node_shape\": \"dot\", \"degree\": 3.0, \"title\": \"CTSL\", \"color\": \"rgba(0, 0, 256, 1.0)\", \"size_field\": 2.741917344929375, \"y\": 1395.8940220543677, \"x\": 0.0, \"border_width\": 0, \"id\": \"CTSL\"}, {\"node_shape\": \"dot\", \"degree\": 3.0, \"title\": \"SP1\", \"color\": \"rgba(0, 0, 256, 1.0)\", \"size_field\": 3.0659515064285614, \"y\": 565.9572950549928, \"x\": 1236.648942275746, \"border_width\": 0, \"id\": \"SP1\"}, {\"node_shape\": \"dot\", \"degree\": 3.0, \"title\": \"TSC22D3\", \"color\": \"rgba(0, 0, 256, 1.0)\", \"size_field\": 4.267217949156755, \"y\": 0.0, \"x\": 1105.0270414362678, \"border_width\": 0, \"id\": \"TSC22D3\"}, {\"node_shape\": \"dot\", \"degree\": 3.0, \"title\": \"STK4\", \"color\": \"rgba(0, 0, 256, 1.0)\", \"size_field\": 3.4093583007184423, \"y\": 1899.4697277196142, \"x\": 933.487277676174, \"border_width\": 0, \"id\": \"STK4\"}, {\"node_shape\": \"dot\", \"degree\": 3.0, \"title\": \"SNAI1\", \"color\": \"rgba(256, 150, 150, 1.0)\", \"size_field\": 2.7936307191382674, \"y\": 1403.6160503452415, \"x\": 1851.1913341195382, \"border_width\": 0, \"id\": \"SNAI1\"}, {\"node_shape\": \"dot\", \"degree\": 3.0, \"title\": \"SETD7\", \"color\": \"rgba(54, 54, 256, 1.0)\", \"size_field\": 2.7244314705997117, \"y\": 1600.574229941133, \"x\": 1166.7538142148649, \"border_width\": 0, \"id\": \"SETD7\"}, {\"node_shape\": \"dot\", \"degree\": 3.0, \"title\": \"GATA1\", \"color\": \"rgba(0, 0, 256, 1.0)\", \"size_field\": 2.1928568587093373, \"y\": 193.39415382152873, \"x\": 1671.4786254206451, \"border_width\": 0, \"id\": \"GATA1\"}, {\"node_shape\": \"dot\", \"degree\": 3.0, \"title\": \"NME1\", \"color\": \"rgba(188, 188, 256, 1.0)\", \"size_field\": 4.267217949156755, \"y\": 452.9562024277079, \"x\": 1948.9844593171017, \"border_width\": 0, \"id\": \"NME1\"}, {\"node_shape\": \"dot\", \"degree\": 3.0, \"title\": \"FOXM1\", \"color\": \"rgba(0, 0, 256, 1.0)\", \"size_field\": 2.045311222710003, \"y\": 1488.0543177179006, \"x\": 1644.7055071777072, \"border_width\": 0, \"id\": \"FOXM1\"}, {\"node_shape\": \"dot\", \"degree\": 3.0, \"title\": \"FOXP3\", \"color\": \"rgba(214, 214, 256, 1.0)\", \"size_field\": 2.736054681571222, \"y\": 979.3659761922241, \"x\": 2138.606302170384, \"border_width\": 0, \"id\": \"FOXP3\"}, {\"node_shape\": \"dot\", \"degree\": 3.0, \"title\": \"TNFSF10\", \"color\": \"rgba(0, 0, 256, 1.0)\", \"size_field\": 3.7909597890574904, \"y\": 868.9611524100372, \"x\": 813.4901815221731, \"border_width\": 0, \"id\": \"TNFSF10\"}, {\"node_shape\": \"dot\", \"degree\": 3.0, \"title\": \"CDKN1B\", \"color\": \"rgba(0, 0, 256, 1.0)\", \"size_field\": 4.10127823628901, \"y\": 1367.9821448747825, \"x\": 1607.907861126589, \"border_width\": 0, \"id\": \"CDKN1B\"}, {\"node_shape\": \"dot\", \"degree\": 3.0, \"title\": \"CDKN1A\", \"color\": \"rgba(0, 0, 256, 1.0)\", \"size_field\": 2.1101497435009873, \"y\": 1174.7582621071056, \"x\": 1569.5709387525708, \"border_width\": 0, \"id\": \"CDKN1A\"}, {\"node_shape\": \"dot\", \"degree\": 3.0, \"title\": \"KAT2B\", \"color\": \"rgba(0, 0, 256, 1.0)\", \"size_field\": 4.8717462937730005, \"y\": 389.94246079006354, \"x\": 1737.2034921810823, \"border_width\": 0, \"id\": \"KAT2B\"}, {\"node_shape\": \"dot\", \"degree\": 3.0, \"title\": \"PINK1\", \"color\": \"rgba(0, 0, 256, 1.0)\", \"size_field\": 3.1384972223670244, \"y\": 582.4585872605445, \"x\": 549.5677063490988, \"border_width\": 0, \"id\": \"PINK1\"}, {\"node_shape\": \"dot\", \"degree\": 3.0, \"title\": \"MTDH\", \"color\": \"rgba(0, 0, 256, 1.0)\", \"size_field\": 3.389098288452625, \"y\": 794.0300660993149, \"x\": 2158.850549441834, \"border_width\": 0, \"id\": \"MTDH\"}, {\"node_shape\": \"dot\", \"degree\": 3.0, \"title\": \"XPO1\", \"color\": \"rgba(0, 0, 256, 1.0)\", \"size_field\": 2.8060919395760795, \"y\": 1411.2271332390947, \"x\": 821.9241569409584, \"border_width\": 0, \"id\": \"XPO1\"}, {\"node_shape\": \"dot\", \"degree\": 3.0, \"title\": \"MST1\", \"color\": \"rgba(0, 0, 256, 1.0)\", \"size_field\": 2.6597124044737077, \"y\": 729.1709089869039, \"x\": 979.2878822268356, \"border_width\": 0, \"id\": \"MST1\"}, {\"node_shape\": \"dot\", \"degree\": 3.0, \"title\": \"RRM2B\", \"color\": \"rgba(0, 0, 256, 1.0)\", \"size_field\": 2.4879232305486862, \"y\": 1977.6464888776077, \"x\": 1522.329687039086, \"border_width\": 0, \"id\": \"RRM2B\"}, {\"node_shape\": \"dot\", \"degree\": 3.0, \"title\": \"NLK\", \"color\": \"rgba(0, 0, 256, 1.0)\", \"size_field\": 2.980829253011726, \"y\": 961.0431044170123, \"x\": 1805.305553057302, \"border_width\": 0, \"id\": \"NLK\"}, {\"node_shape\": \"dot\", \"degree\": 3.0, \"title\": \"SIRT1\", \"color\": \"rgba(54, 54, 256, 1.0)\", \"size_field\": 2.434173272244908, \"y\": 1012.7755824198836, \"x\": 1896.1591455426037, \"border_width\": 0, \"id\": \"SIRT1\"}, {\"node_shape\": \"dot\", \"degree\": 3.0, \"title\": \"PRKAB2\", \"color\": \"rgba(0, 0, 256, 1.0)\", \"size_field\": 3.8891518152367044, \"y\": 1811.7666192169688, \"x\": 892.9987284691194, \"border_width\": 0, \"id\": \"PRKAB2\"}, {\"node_shape\": \"dot\", \"degree\": 3.0, \"title\": \"PRKAB1\", \"color\": \"rgba(102, 102, 256, 1.0)\", \"size_field\": 3.2013096869064523, \"y\": 1518.4076127143585, \"x\": 724.4106614789837, \"border_width\": 0, \"id\": \"PRKAB1\"}, {\"node_shape\": \"dot\", \"degree\": 3.0, \"title\": \"NUPR1\", \"color\": \"rgba(0, 0, 256, 1.0)\", \"size_field\": 2.2514144332812394, \"y\": 431.7572064395283, \"x\": 632.6376094491657, \"border_width\": 0, \"id\": \"NUPR1\"}, {\"node_shape\": \"dot\", \"degree\": 3.0, \"title\": \"CHUK\", \"color\": \"rgba(8, 8, 256, 1.0)\", \"size_field\": 2.055512709930259, \"y\": 1258.5580570000268, \"x\": 1420.0905786295316, \"border_width\": 0, \"id\": \"CHUK\"}, {\"node_shape\": \"dot\", \"degree\": 3.0, \"title\": \"VEGFA\", \"color\": \"rgba(182, 182, 256, 1.0)\", \"size_field\": 3.525556428453398, \"y\": 957.0083565319169, \"x\": 1417.0147113519808, \"border_width\": 0, \"id\": \"VEGFA\"}, {\"node_shape\": \"dot\", \"degree\": 3.0, \"title\": \"BNIP3\", \"color\": \"rgba(202, 202, 256, 1.0)\", \"size_field\": 4.042531187659739, \"y\": 1765.3298800568955, \"x\": 1688.8463670667022, \"border_width\": 0, \"id\": \"BNIP3\"}, {\"node_shape\": \"dot\", \"degree\": 3.0, \"title\": \"ESR2\", \"color\": \"rgba(0, 0, 256, 1.0)\", \"size_field\": 2.626049437027451, \"y\": 114.70075433710257, \"x\": 1371.2558849501643, \"border_width\": 0, \"id\": \"ESR2\"}, {\"node_shape\": \"dot\", \"degree\": 3.0, \"title\": \"G6PC\", \"color\": \"rgba(256, 186, 186, 1.0)\", \"size_field\": 2.325591645525001, \"y\": 870.2140443976864, \"x\": 333.32087272989736, \"border_width\": 0, \"id\": \"G6PC\"}, {\"node_shape\": \"dot\", \"degree\": 3.0, \"title\": \"FBXO32\", \"color\": \"rgba(0, 0, 256, 1.0)\", \"size_field\": 3.8825598335545513, \"y\": 46.53996613583751, \"x\": 940.0601319863608, \"border_width\": 0, \"id\": \"FBXO32\"}, {\"node_shape\": \"dot\", \"degree\": 3.0, \"title\": \"AGO4\", \"color\": \"rgba(0, 0, 256, 1.0)\", \"size_field\": 4.607752479786846, \"y\": 310.41438454933615, \"x\": 1594.8008098579642, \"border_width\": 0, \"id\": \"AGO4\"}, {\"node_shape\": \"dot\", \"degree\": 3.0, \"title\": \"AGO1\", \"color\": \"rgba(0, 0, 256, 1.0)\", \"size_field\": 3.6852396258503823, \"y\": 250.16547668729274, \"x\": 1772.0046348203518, \"border_width\": 0, \"id\": \"AGO1\"}, {\"node_shape\": \"dot\", \"degree\": 3.0, \"title\": \"AGO3\", \"color\": \"rgba(62, 62, 256, 1.0)\", \"size_field\": 2.3934871313487576, \"y\": 268.59232870967537, \"x\": 1375.213908776756, \"border_width\": 0, \"id\": \"AGO3\"}, {\"node_shape\": \"dot\", \"degree\": 3.0, \"title\": \"AGO2\", \"color\": \"rgba(0, 0, 256, 1.0)\", \"size_field\": 2.7756596021344095, \"y\": 208.84634090311212, \"x\": 1533.5568059990585, \"border_width\": 0, \"id\": \"AGO2\"}, {\"node_shape\": \"dot\", \"degree\": 3.0, \"title\": \"VMP1\", \"color\": \"rgba(0, 0, 256, 1.0)\", \"size_field\": 3.4841277214686537, \"y\": 840.7067681940076, \"x\": 1585.3581919966475, \"border_width\": 0, \"id\": \"VMP1\"}, {\"node_shape\": \"dot\", \"degree\": 3.0, \"title\": \"MAPK14\", \"color\": \"rgba(30, 30, 256, 1.0)\", \"size_field\": 2.3129315067052314, \"y\": 1103.204585567527, \"x\": 1520.8689723989391, \"border_width\": 0, \"id\": \"MAPK14\"}, {\"node_shape\": \"dot\", \"degree\": 3.0, \"title\": \"CCNG2\", \"color\": \"rgba(0, 0, 256, 1.0)\", \"size_field\": 4.852498105468083, \"y\": 305.4089130176591, \"x\": 565.2613403646565, \"border_width\": 0, \"id\": \"CCNG2\"}, {\"node_shape\": \"dot\", \"degree\": 3.0, \"title\": \"MAPK10\", \"color\": \"rgba(0, 0, 256, 1.0)\", \"size_field\": 3.3474583373346922, \"y\": 1224.1777677913178, \"x\": 1086.021167931856, \"border_width\": 0, \"id\": \"MAPK10\"}, {\"node_shape\": \"dot\", \"degree\": 3.0, \"title\": \"MAPK11\", \"color\": \"rgba(0, 0, 256, 1.0)\", \"size_field\": 2.6025754823755585, \"y\": 1055.461373368131, \"x\": 1302.1967925985948, \"border_width\": 0, \"id\": \"MAPK11\"}, {\"node_shape\": \"dot\", \"degree\": 3.0, \"title\": \"MAPK12\", \"color\": \"rgba(0, 0, 256, 1.0)\", \"size_field\": 2.880199911729801, \"y\": 1269.3628612414411, \"x\": 1265.729874867789, \"border_width\": 0, \"id\": \"MAPK12\"}, {\"node_shape\": \"dot\", \"degree\": 3.0, \"title\": \"MAPK13\", \"color\": \"rgba(0, 0, 256, 1.0)\", \"size_field\": 2.9824305343787003, \"y\": 1231.4331360216202, \"x\": 1315.0760494106373, \"border_width\": 0, \"id\": \"MAPK13\"}, {\"node_shape\": \"dot\", \"degree\": 3.0, \"title\": \"BCR\", \"color\": \"rgba(0, 0, 256, 1.0)\", \"size_field\": 2.846065286984658, \"y\": 459.01430160535983, \"x\": 446.32823469598617, \"border_width\": 0, \"id\": \"BCR\"}, {\"node_shape\": \"dot\", \"degree\": 3.0, \"title\": \"STAT3\", \"color\": \"rgba(0, 0, 256, 1.0)\", \"size_field\": 3.0067626350382306, \"y\": 1264.6091640174138, \"x\": 1935.0673307219056, \"border_width\": 0, \"id\": \"STAT3\"}, {\"node_shape\": \"dot\", \"degree\": 3.0, \"title\": \"MAPK3\", \"color\": \"rgba(0, 0, 256, 1.0)\", \"size_field\": 2.7052197617942144, \"y\": 965.5081080897079, \"x\": 1638.620433282011, \"border_width\": 0, \"id\": \"MAPK3\"}, {\"node_shape\": \"dot\", \"degree\": 3.0, \"title\": \"MAPK1\", \"color\": \"rgba(0, 0, 256, 1.0)\", \"size_field\": 3.267978134301848, \"y\": 971.6319684901197, \"x\": 1515.631836690009, \"border_width\": 0, \"id\": \"MAPK1\"}, {\"node_shape\": \"dot\", \"degree\": 3.0, \"title\": \"CITED2\", \"color\": \"rgba(0, 0, 256, 1.0)\", \"size_field\": 4.387054249620496, \"y\": 1003.3176782195033, \"x\": 2300.0, \"border_width\": 0, \"id\": \"CITED2\"}, {\"node_shape\": \"dot\", \"degree\": 3.0, \"title\": \"MAPK8\", \"color\": \"rgba(72, 72, 256, 1.0)\", \"size_field\": 2.745915246098601, \"y\": 1159.8367981058814, \"x\": 1459.1311521275463, \"border_width\": 0, \"id\": \"MAPK8\"}, {\"node_shape\": \"dot\", \"degree\": 3.0, \"title\": \"MAPK9\", \"color\": \"rgba(80, 80, 256, 1.0)\", \"size_field\": 3.0642108619507775, \"y\": 929.0897126423829, \"x\": 1005.8846072537407, \"border_width\": 0, \"id\": \"MAPK9\"}, {\"node_shape\": \"dot\", \"degree\": 3.0, \"title\": \"RBL2\", \"color\": \"rgba(0, 0, 256, 1.0)\", \"size_field\": 5.18689277901515, \"y\": 1873.7818452064687, \"x\": 1261.1104301244013, \"border_width\": 2, \"id\": \"RBL2\"}, {\"node_shape\": \"dot\", \"degree\": 3.0, \"title\": \"PAWR\", \"color\": \"rgba(0, 0, 256, 1.0)\", \"size_field\": 4.880619466453487, \"y\": 309.29338340871686, \"x\": 751.0044687314555, \"border_width\": 0, \"id\": \"PAWR\"}, {\"node_shape\": \"dot\", \"degree\": 3.0, \"title\": \"EP300\", \"color\": \"rgba(0, 0, 256, 1.0)\", \"size_field\": 2.98886142470899, \"y\": 1136.1842368872485, \"x\": 1919.2429734363059, \"border_width\": 0, \"id\": \"EP300\"}, {\"node_shape\": \"dot\", \"degree\": 3.0, \"title\": \"SGK2\", \"color\": \"rgba(92, 92, 256, 1.0)\", \"size_field\": 2.082621028688337, \"y\": 1490.4830802406016, \"x\": 1115.6876641671356, \"border_width\": 0, \"id\": \"SGK2\"}, {\"node_shape\": \"dot\", \"degree\": 3.0, \"title\": \"SGK1\", \"color\": \"rgba(256, 136, 136, 1.0)\", \"size_field\": 4.3166840173735475, \"y\": 1248.9806693551918, \"x\": 1702.1160053693004, \"border_width\": 0, \"id\": \"SGK1\"}, {\"node_shape\": \"dot\", \"degree\": 3.0, \"title\": \"IRS2\", \"color\": \"rgba(0, 0, 256, 1.0)\", \"size_field\": 2.567043303764219, \"y\": 1674.6853561128667, \"x\": 891.8088054552271, \"border_width\": 0, \"id\": \"IRS2\"}, {\"node_shape\": \"dot\", \"degree\": 3.0, \"title\": \"LEP\", \"color\": \"rgba(256, 2, 2, 1.0)\", \"size_field\": 2.7381445464906813, \"y\": 835.9117887128712, \"x\": 1823.7435120401362, \"border_width\": 0, \"id\": \"LEP\"}, {\"node_shape\": \"dot\", \"degree\": 3.0, \"title\": \"PRKACG\", \"color\": \"rgba(26, 26, 256, 1.0)\", \"size_field\": 2.04468360762664, \"y\": 1399.9591106637527, \"x\": 1478.1429667937357, \"border_width\": 0, \"id\": \"PRKACG\"}, {\"node_shape\": \"dot\", \"degree\": 3.0, \"title\": \"PRKACA\", \"color\": \"rgba(0, 0, 256, 1.0)\", \"size_field\": 2.6416938989710297, \"y\": 710.7779615475314, \"x\": 1923.5189546894312, \"border_width\": 0, \"id\": \"PRKACA\"}, {\"node_shape\": \"dot\", \"degree\": 3.0, \"title\": \"PRKACB\", \"color\": \"rgba(0, 0, 256, 1.0)\", \"size_field\": 3.6455833590704536, \"y\": 661.127176078896, \"x\": 1389.2528197377567, \"border_width\": 0, \"id\": \"PRKACB\"}, {\"node_shape\": \"dot\", \"degree\": 3.0, \"title\": \"SPHK1\", \"color\": \"rgba(182, 182, 256, 1.0)\", \"size_field\": 3.2616019171625723, \"y\": 943.0491348736147, \"x\": 433.64513920979294, \"border_width\": 0, \"id\": \"SPHK1\"}, {\"node_shape\": \"dot\", \"degree\": 3.0, \"title\": \"LCN2\", \"color\": \"rgba(0, 0, 256, 1.0)\", \"size_field\": 3.4692412819408167, \"y\": 1716.2373740405167, \"x\": 1822.0850738538104, \"border_width\": 0, \"id\": \"LCN2\"}, {\"node_shape\": \"dot\", \"degree\": 3.0, \"title\": \"BIRC5\", \"color\": \"rgba(110, 110, 256, 1.0)\", \"size_field\": 3.5228016057745535, \"y\": 1164.1024051459865, \"x\": 1242.2403063298073, \"border_width\": 0, \"id\": \"BIRC5\"}, {\"node_shape\": \"dot\", \"degree\": 3.0, \"title\": \"PRDX3\", \"color\": \"rgba(86, 86, 256, 1.0)\", \"size_field\": 3.0820502003691317, \"y\": 278.03743464922303, \"x\": 1882.3384364278277, \"border_width\": 0, \"id\": \"PRDX3\"}, {\"node_shape\": \"dot\", \"degree\": 3.0, \"title\": \"PRKAA2\", \"color\": \"rgba(0, 0, 256, 1.0)\", \"size_field\": 2.6294214896794004, \"y\": 1919.9573149031753, \"x\": 1158.3311425667791, \"border_width\": 0, \"id\": \"PRKAA2\"}, {\"node_shape\": \"dot\", \"degree\": 3.0, \"title\": \"PRKAA1\", \"color\": \"rgba(0, 0, 256, 1.0)\", \"size_field\": 4.042531187659739, \"y\": 1520.3621049266483, \"x\": 1997.637560341002, \"border_width\": 0, \"id\": \"PRKAA1\"}, {\"node_shape\": \"dot\", \"degree\": 3.0, \"title\": \"CAT\", \"color\": \"rgba(0, 0, 256, 1.0)\", \"size_field\": 2.515000995176471, \"y\": 1797.1068187680578, \"x\": 1496.5336700167006, \"border_width\": 0, \"id\": \"CAT\"}, {\"node_shape\": \"dot\", \"degree\": 3.0, \"title\": \"FOXO3\", \"color\": \"yellow\", \"size_field\": 5.18689277901515, \"y\": 920.5519471497067, \"x\": 1338.6399318381798, \"border_width\": 0, \"id\": \"FOXO3\"}, {\"node_shape\": \"dot\", \"degree\": 3.0, \"title\": \"MYOCD\", \"color\": \"rgba(256, 218, 218, 1.0)\", \"size_field\": 3.1273204528048533, \"y\": 1125.5190952273874, \"x\": 316.46646561338576, \"border_width\": 0, \"id\": \"MYOCD\"}, {\"node_shape\": \"dot\", \"degree\": 3.0, \"title\": \"FOXO4\", \"color\": \"rgba(108, 108, 256, 1.0)\", \"size_field\": 2.2310497228853072, \"y\": 1571.7709870935541, \"x\": 1479.7381326319905, \"border_width\": 0, \"id\": \"FOXO4\"}, {\"node_shape\": \"dot\", \"degree\": 3.0, \"title\": \"SOD2\", \"color\": \"rgba(0, 0, 256, 1.0)\", \"size_field\": 2.098715972939158, \"y\": 1548.900931961383, \"x\": 1835.2035567303244, \"border_width\": 0, \"id\": \"SOD2\"}, {\"node_shape\": \"dot\", \"degree\": 3.0, \"title\": \"BBC3\", \"color\": \"rgba(0, 0, 256, 1.0)\", \"size_field\": 3.2063800890661485, \"y\": 238.9343243141269, \"x\": 1010.29021708047, \"border_width\": 0, \"id\": \"BBC3\"}, {\"node_shape\": \"dot\", \"degree\": 3.0, \"title\": \"YWHAZ\", \"color\": \"rgba(76, 76, 256, 1.0)\", \"size_field\": 3.0305798782762827, \"y\": 1117.500936889741, \"x\": 765.9228630078255, \"border_width\": 0, \"id\": \"YWHAZ\"}, {\"node_shape\": \"dot\", \"degree\": 3.0, \"title\": \"GABARAPL1\", \"color\": \"rgba(0, 0, 256, 1.0)\", \"size_field\": 3.5269366909223567, \"y\": 177.5088867520977, \"x\": 691.8765617766911, \"border_width\": 0, \"id\": \"GABARAPL1\"}, {\"node_shape\": \"dot\", \"degree\": 3.0, \"title\": \"YWHAQ\", \"color\": \"rgba(0, 0, 256, 1.0)\", \"size_field\": 2.9063404010209872, \"y\": 1245.784294064718, \"x\": 862.2592495561685, \"border_width\": 0, \"id\": \"YWHAQ\"}, {\"node_shape\": \"dot\", \"degree\": 3.0, \"title\": \"ABCB1\", \"color\": \"rgba(0, 0, 256, 1.0)\", \"size_field\": 4.3258537199334, \"y\": 540.3244212427131, \"x\": 1710.51282257887, \"border_width\": 0, \"id\": \"ABCB1\"}, {\"node_shape\": \"dot\", \"degree\": 3.0, \"title\": \"YWHAB\", \"color\": \"rgba(174, 174, 256, 1.0)\", \"size_field\": 3.9365540541312884, \"y\": 1165.1387169829677, \"x\": 829.1016176903227, \"border_width\": 0, \"id\": \"YWHAB\"}, {\"node_shape\": \"dot\", \"degree\": 3.0, \"title\": \"YWHAG\", \"color\": \"rgba(34, 34, 256, 1.0)\", \"size_field\": 2.461242123577163, \"y\": 1284.6071525397579, \"x\": 945.7897437292327, \"border_width\": 0, \"id\": \"YWHAG\"}, {\"node_shape\": \"dot\", \"degree\": 3.0, \"title\": \"YWHAE\", \"color\": \"rgba(0, 0, 256, 1.0)\", \"size_field\": 2.1519863569978814, \"y\": 1022.3185615931352, \"x\": 883.8239421629579, \"border_width\": 0, \"id\": \"YWHAE\"}, {\"node_shape\": \"dot\", \"degree\": 3.0, \"title\": \"DNMT3B\", \"color\": \"rgba(0, 0, 256, 1.0)\", \"size_field\": 3.29901635301283, \"y\": 137.1432589580485, \"x\": 831.1066699547032, \"border_width\": 0, \"id\": \"DNMT3B\"}, {\"node_shape\": \"dot\", \"degree\": 3.0, \"title\": \"NOS3\", \"color\": \"rgba(0, 0, 256, 1.0)\", \"size_field\": 3.7355681895783124, \"y\": 995.7376251472124, \"x\": 1561.4149849130051, \"border_width\": 0, \"id\": \"NOS3\"}, {\"node_shape\": \"dot\", \"degree\": 3.0, \"title\": \"CYR61\", \"color\": \"rgba(0, 0, 256, 1.0)\", \"size_field\": 2.242198957849369, \"y\": 612.4323453973296, \"x\": 417.69239997374206, \"border_width\": 0, \"id\": \"CYR61\"}, {\"node_shape\": \"dot\", \"degree\": 3.0, \"title\": \"AR\", \"color\": \"rgba(0, 0, 256, 1.0)\", \"size_field\": 4.364460496712133, \"y\": 657.2953034344425, \"x\": 1625.518133421184, \"border_width\": 0, \"id\": \"AR\"}, {\"node_shape\": \"dot\", \"degree\": 3.0, \"title\": \"BCL2L11\", \"color\": \"rgba(230, 230, 256, 1.0)\", \"size_field\": 3.8269722249837996, \"y\": 789.2078955007217, \"x\": 1376.6008720629802, \"border_width\": 0, \"id\": \"BCL2L11\"}, {\"node_shape\": \"dot\", \"degree\": 3.0, \"title\": \"CCNB1\", \"color\": \"rgba(72, 72, 256, 1.0)\", \"size_field\": 3.0026659476209008, \"y\": 1058.970440712358, \"x\": 1158.192828503517, \"border_width\": 0, \"id\": \"CCNB1\"}, {\"node_shape\": \"dot\", \"degree\": 3.0, \"title\": \"CASP8\", \"color\": \"rgba(0, 0, 256, 1.0)\", \"size_field\": 2.964955903855436, \"y\": 1202.0875374542431, \"x\": 1812.249594865267, \"border_width\": 0, \"id\": \"CASP8\"}, {\"node_shape\": \"dot\", \"degree\": 3.0, \"title\": \"PDK4\", \"color\": \"rgba(0, 0, 256, 1.0)\", \"size_field\": 4.3740810946991155, \"y\": 743.6867747734229, \"x\": 383.5558055325263, \"border_width\": 0, \"id\": \"PDK4\"}, {\"node_shape\": \"dot\", \"degree\": 3.0, \"title\": \"FASLG\", \"color\": \"rgba(0, 0, 256, 1.0)\", \"size_field\": 2.516173230092586, \"y\": 1365.5428746689581, \"x\": 1715.4832587026222, \"border_width\": 0, \"id\": \"FASLG\"}, {\"node_shape\": \"dot\", \"degree\": 3.0, \"title\": \"BCL6\", \"color\": \"rgba(0, 0, 256, 1.0)\", \"size_field\": 4.207274913189721, \"y\": 1371.1169500433277, \"x\": 1997.7076988322801, \"border_width\": 0, \"id\": \"BCL6\"}], [{\"color\": \"red\", \"source\": 5, \"target\": 33}, {\"color\": \"red\", \"source\": 5, \"target\": 35}, {\"color\": \"red\", \"source\": 5, \"target\": 47}, {\"color\": \"red\", \"source\": 5, \"target\": 106}, {\"color\": \"blue\", \"source\": 5, \"target\": 88}, {\"color\": \"blue\", \"source\": 5, \"target\": 88}, {\"color\": \"red\", \"source\": 5, \"target\": 6}, {\"color\": \"red\", \"source\": 5, \"target\": 6}, {\"color\": \"red\", \"source\": 5, \"target\": 7}, {\"color\": \"red\", \"source\": 5, \"target\": 8}, {\"color\": \"red\", \"source\": 5, \"target\": 108}, {\"color\": \"blue\", \"source\": 5, \"target\": 76}, {\"color\": \"blue\", \"source\": 5, \"target\": 76}, {\"color\": \"blue\", \"source\": 5, \"target\": 90}, {\"color\": \"blue\", \"source\": 5, \"target\": 90}, {\"color\": \"red\", \"source\": 6, \"target\": 57}, {\"color\": \"blue\", \"source\": 6, \"target\": 82}, {\"color\": \"blue\", \"source\": 6, \"target\": 34}, {\"color\": \"blue\", \"source\": 6, \"target\": 34}, {\"color\": \"blue\", \"source\": 6, \"target\": 34}, {\"color\": \"blue\", \"source\": 6, \"target\": 35}, {\"color\": \"blue\", \"source\": 6, \"target\": 35}, {\"color\": \"blue\", \"source\": 6, \"target\": 35}, {\"color\": \"blue\", \"source\": 6, \"target\": 90}, {\"color\": \"blue\", \"source\": 6, \"target\": 90}, {\"color\": \"blue\", \"source\": 6, \"target\": 88}, {\"color\": \"blue\", \"source\": 6, \"target\": 88}, {\"color\": \"blue\", \"source\": 6, \"target\": 88}, {\"color\": \"red\", \"source\": 6, \"target\": 87}, {\"color\": \"blue\", \"source\": 6, \"target\": 58}, {\"color\": \"blue\", \"source\": 6, \"target\": 58}, {\"color\": \"blue\", \"source\": 6, \"target\": 7}, {\"color\": \"blue\", \"source\": 6, \"target\": 7}, {\"color\": \"blue\", \"source\": 6, \"target\": 7}, {\"color\": \"blue\", \"source\": 6, \"target\": 7}, {\"color\": \"blue\", \"source\": 6, \"target\": 8}, {\"color\": \"blue\", \"source\": 6, \"target\": 8}, {\"color\": \"blue\", \"source\": 6, \"target\": 8}, {\"color\": \"blue\", \"source\": 6, \"target\": 31}, {\"color\": \"blue\", \"source\": 6, \"target\": 61}, {\"color\": \"blue\", \"source\": 6, \"target\": 61}, {\"color\": \"blue\", \"source\": 6, \"target\": 62}, {\"color\": \"blue\", \"source\": 6, \"target\": 62}, {\"color\": \"blue\", \"source\": 6, \"target\": 63}, {\"color\": \"blue\", \"source\": 6, \"target\": 63}, {\"color\": \"red\", \"source\": 6, \"target\": 93}, {\"color\": \"red\", \"source\": 6, \"target\": 73}, {\"color\": \"blue\", \"source\": 6, \"target\": 65}, {\"color\": \"blue\", \"source\": 6, \"target\": 15}, {\"color\": \"blue\", \"source\": 6, \"target\": 15}, {\"color\": \"red\", \"source\": 6, \"target\": 95}, {\"color\": \"red\", \"source\": 6, \"target\": 40}, {\"color\": \"red\", \"source\": 6, \"target\": 16}, {\"color\": \"blue\", \"source\": 6, \"target\": 19}, {\"color\": \"red\", \"source\": 6, \"target\": 20}, {\"color\": \"red\", \"source\": 6, \"target\": 20}, {\"color\": \"red\", \"source\": 6, \"target\": 83}, {\"color\": \"red\", \"source\": 6, \"target\": 99}, {\"color\": \"red\", \"source\": 6, \"target\": 101}, {\"color\": \"red\", \"source\": 6, \"target\": 101}, {\"color\": \"red\", \"source\": 6, \"target\": 91}, {\"color\": \"red\", \"source\": 6, \"target\": 47}, {\"color\": \"red\", \"source\": 6, \"target\": 47}, {\"color\": \"red\", \"source\": 6, \"target\": 97}, {\"color\": \"red\", \"source\": 6, \"target\": 103}, {\"color\": \"blue\", \"source\": 6, \"target\": 108}, {\"color\": \"blue\", \"source\": 6, \"target\": 104}, {\"color\": \"red\", \"source\": 6, \"target\": 27}, {\"color\": \"blue\", \"source\": 6, \"target\": 49}, {\"color\": \"red\", \"source\": 6, \"target\": 5}, {\"color\": \"red\", \"source\": 6, \"target\": 5}, {\"color\": \"blue\", \"source\": 6, \"target\": 105}, {\"color\": \"red\", \"source\": 6, \"target\": 98}, {\"color\": \"red\", \"source\": 6, \"target\": 77}, {\"color\": \"red\", \"source\": 6, \"target\": 48}, {\"color\": \"blue\", \"source\": 7, \"target\": 58}, {\"color\": \"blue\", \"source\": 7, \"target\": 58}, {\"color\": \"red\", \"source\": 7, \"target\": 57}, {\"color\": \"red\", \"source\": 7, \"target\": 101}, {\"color\": \"blue\", \"source\": 7, \"target\": 34}, {\"color\": \"blue\", \"source\": 7, \"target\": 34}, {\"color\": \"blue\", \"source\": 7, \"target\": 35}, {\"color\": \"blue\", \"source\": 7, \"target\": 35}, {\"color\": \"blue\", \"source\": 7, \"target\": 90}, {\"color\": \"blue\", \"source\": 7, \"target\": 90}, {\"color\": \"red\", \"source\": 7, \"target\": 47}, {\"color\": \"red\", \"source\": 7, \"target\": 5}, {\"color\": \"blue\", \"source\": 7, \"target\": 6}, {\"color\": \"blue\", \"source\": 7, \"target\": 6}, {\"color\": \"blue\", \"source\": 7, \"target\": 6}, {\"color\": \"blue\", \"source\": 7, \"target\": 6}, {\"color\": \"blue\", \"source\": 7, \"target\": 88}, {\"color\": \"blue\", \"source\": 7, \"target\": 88}, {\"color\": \"blue\", \"source\": 7, \"target\": 8}, {\"color\": \"blue\", \"source\": 7, \"target\": 8}, {\"color\": \"blue\", \"source\": 7, \"target\": 8}, {\"color\": \"blue\", \"source\": 7, \"target\": 61}, {\"color\": \"blue\", \"source\": 7, \"target\": 61}, {\"color\": \"blue\", \"source\": 7, \"target\": 62}, {\"color\": \"blue\", \"source\": 7, \"target\": 62}, {\"color\": \"blue\", \"source\": 7, \"target\": 63}, {\"color\": \"blue\", \"source\": 7, \"target\": 63}, {\"color\": \"red\", \"source\": 7, \"target\": 27}, {\"color\": \"blue\", \"source\": 8, \"target\": 58}, {\"color\": \"blue\", \"source\": 8, \"target\": 58}, {\"color\": \"red\", \"source\": 8, \"target\": 101}, {\"color\": \"blue\", \"source\": 8, \"target\": 104}, {\"color\": \"blue\", \"source\": 8, \"target\": 34}, {\"color\": \"blue\", \"source\": 8, \"target\": 34}, {\"color\": \"blue\", \"source\": 8, \"target\": 35}, {\"color\": \"blue\", \"source\": 8, \"target\": 35}, {\"color\": \"blue\", \"source\": 8, \"target\": 90}, {\"color\": \"blue\", \"source\": 8, \"target\": 90}, {\"color\": \"blue\", \"source\": 8, \"target\": 88}, {\"color\": \"blue\", \"source\": 8, \"target\": 88}, {\"color\": \"red\", \"source\": 8, \"target\": 47}, {\"color\": \"red\", \"source\": 8, \"target\": 5}, {\"color\": \"blue\", \"source\": 8, \"target\": 6}, {\"color\": \"blue\", \"source\": 8, \"target\": 6}, {\"color\": \"blue\", \"source\": 8, \"target\": 6}, {\"color\": \"blue\", \"source\": 8, \"target\": 7}, {\"color\": \"blue\", \"source\": 8, \"target\": 7}, {\"color\": \"blue\", \"source\": 8, \"target\": 7}, {\"color\": \"red\", \"source\": 8, \"target\": 48}, {\"color\": \"blue\", \"source\": 8, \"target\": 61}, {\"color\": \"blue\", \"source\": 8, \"target\": 61}, {\"color\": \"blue\", \"source\": 8, \"target\": 62}, {\"color\": \"blue\", \"source\": 8, \"target\": 62}, {\"color\": \"blue\", \"source\": 8, \"target\": 63}, {\"color\": \"blue\", \"source\": 8, \"target\": 63}, {\"color\": \"red\", \"source\": 10, \"target\": 88}, {\"color\": \"blue\", \"source\": 10, \"target\": 20}, {\"color\": \"blue\", \"source\": 10, \"target\": 42}, {\"color\": \"red\", \"source\": 11, \"target\": 88}, {\"color\": \"blue\", \"source\": 11, \"target\": 42}, {\"color\": \"blue\", \"source\": 11, \"target\": 20}, {\"color\": \"red\", \"source\": 20, \"target\": 32}, {\"color\": \"blue\", \"source\": 20, \"target\": 57}, {\"color\": \"blue\", \"source\": 20, \"target\": 57}, {\"color\": \"blue\", \"source\": 20, \"target\": 0}, {\"color\": \"red\", \"source\": 20, \"target\": 62}, {\"color\": \"red\", \"source\": 20, \"target\": 1}, {\"color\": \"blue\", \"source\": 20, \"target\": 34}, {\"color\": \"blue\", \"source\": 20, \"target\": 34}, {\"color\": \"blue\", \"source\": 20, \"target\": 35}, {\"color\": \"blue\", \"source\": 20, \"target\": 35}, {\"color\": \"blue\", \"source\": 20, \"target\": 35}, {\"color\": \"blue\", \"source\": 20, \"target\": 22}, {\"color\": \"red\", \"source\": 20, \"target\": 84}, {\"color\": \"red\", \"source\": 20, \"target\": 36}, {\"color\": \"red\", \"source\": 20, \"target\": 88}, {\"color\": \"red\", \"source\": 20, \"target\": 6}, {\"color\": \"red\", \"source\": 20, \"target\": 6}, {\"color\": \"blue\", \"source\": 20, \"target\": 9}, {\"color\": \"blue\", \"source\": 20, \"target\": 10}, {\"color\": \"blue\", \"source\": 20, \"target\": 11}, {\"color\": \"red\", \"source\": 20, \"target\": 63}, {\"color\": \"red\", \"source\": 20, \"target\": 12}, {\"color\": \"red\", \"source\": 20, \"target\": 38}, {\"color\": \"red\", \"source\": 20, \"target\": 27}, {\"color\": \"red\", \"source\": 20, \"target\": 65}, {\"color\": \"blue\", \"source\": 20, \"target\": 15}, {\"color\": \"blue\", \"source\": 20, \"target\": 15}, {\"color\": \"red\", \"source\": 20, \"target\": 66}, {\"color\": \"red\", \"source\": 20, \"target\": 67}, {\"color\": \"red\", \"source\": 20, \"target\": 67}, {\"color\": \"red\", \"source\": 20, \"target\": 61}, {\"color\": \"blue\", \"source\": 20, \"target\": 19}, {\"color\": \"red\", \"source\": 20, \"target\": 83}, {\"color\": \"blue\", \"source\": 20, \"target\": 21}, {\"color\": \"blue\", \"source\": 20, \"target\": 21}, {\"color\": \"blue\", \"source\": 20, \"target\": 21}, {\"color\": \"blue\", \"source\": 20, \"target\": 21}, {\"color\": \"red\", \"source\": 20, \"target\": 43}, {\"color\": \"blue\", \"source\": 20, \"target\": 24}, {\"color\": \"red\", \"source\": 20, \"target\": 47}, {\"color\": \"red\", \"source\": 20, \"target\": 103}, {\"color\": \"red\", \"source\": 20, \"target\": 103}, {\"color\": \"blue\", \"source\": 20, \"target\": 48}, {\"color\": \"blue\", \"source\": 20, \"target\": 104}, {\"color\": \"red\", \"source\": 20, \"target\": 73}, {\"color\": \"blue\", \"source\": 20, \"target\": 29}, {\"color\": \"red\", \"source\": 20, \"target\": 58}, {\"color\": \"red\", \"source\": 20, \"target\": 105}, {\"color\": \"red\", \"source\": 20, \"target\": 30}, {\"color\": \"blue\", \"source\": 20, \"target\": 53}, {\"color\": \"red\", \"source\": 20, \"target\": 109}, {\"color\": \"blue\", \"source\": 20, \"target\": 54}, {\"color\": \"blue\", \"source\": 20, \"target\": 55}, {\"color\": \"blue\", \"source\": 20, \"target\": 56}, {\"color\": \"blue\", \"source\": 24, \"target\": 57}, {\"color\": \"blue\", \"source\": 24, \"target\": 33}, {\"color\": \"red\", \"source\": 24, \"target\": 12}, {\"color\": \"red\", \"source\": 24, \"target\": 35}, {\"color\": \"red\", \"source\": 24, \"target\": 58}, {\"color\": \"red\", \"source\": 24, \"target\": 60}, {\"color\": \"red\", \"source\": 24, \"target\": 61}, {\"color\": \"red\", \"source\": 24, \"target\": 62}, {\"color\": \"red\", \"source\": 24, \"target\": 63}, {\"color\": \"red\", \"source\": 24, \"target\": 92}, {\"color\": \"red\", \"source\": 24, \"target\": 96}, {\"color\": \"red\", \"source\": 24, \"target\": 67}, {\"color\": \"blue\", \"source\": 24, \"target\": 20}, {\"color\": \"red\", \"source\": 24, \"target\": 70}, {\"color\": \"red\", \"source\": 24, \"target\": 83}, {\"color\": \"red\", \"source\": 24, \"target\": 21}, {\"color\": \"red\", \"source\": 24, \"target\": 103}, {\"color\": \"red\", \"source\": 24, \"target\": 48}, {\"color\": \"blue\", \"source\": 24, \"target\": 69}, {\"color\": \"blue\", \"source\": 24, \"target\": 88}, {\"color\": \"blue\", \"source\": 24, \"target\": 105}, {\"color\": \"red\", \"source\": 24, \"target\": 77}, {\"color\": \"blue\", \"source\": 25, \"target\": 88}, {\"color\": \"blue\", \"source\": 25, \"target\": 104}, {\"color\": \"blue\", \"source\": 27, \"target\": 65}, {\"color\": \"blue\", \"source\": 27, \"target\": 88}, {\"color\": \"red\", \"source\": 27, \"target\": 6}, {\"color\": \"red\", \"source\": 27, \"target\": 7}, {\"color\": \"red\", \"source\": 27, \"target\": 48}, {\"color\": \"blue\", \"source\": 27, \"target\": 19}, {\"color\": \"blue\", \"source\": 27, \"target\": 19}, {\"color\": \"blue\", \"source\": 27, \"target\": 19}, {\"color\": \"red\", \"source\": 27, \"target\": 20}, {\"color\": \"red\", \"source\": 27, \"target\": 69}, {\"color\": \"blue\", \"source\": 27, \"target\": 13}, {\"color\": \"red\", \"source\": 29, \"target\": 88}, {\"color\": \"blue\", \"source\": 29, \"target\": 19}, {\"color\": \"blue\", \"source\": 29, \"target\": 20}, {\"color\": \"red\", \"source\": 31, \"target\": 43}, {\"color\": \"red\", \"source\": 31, \"target\": 2}, {\"color\": \"blue\", \"source\": 31, \"target\": 35}, {\"color\": \"red\", \"source\": 31, \"target\": 105}, {\"color\": \"blue\", \"source\": 31, \"target\": 88}, {\"color\": \"blue\", \"source\": 31, \"target\": 6}, {\"color\": \"blue\", \"source\": 31, \"target\": 67}, {\"color\": \"blue\", \"source\": 31, \"target\": 48}, {\"color\": \"red\", \"source\": 31, \"target\": 19}, {\"color\": \"blue\", \"source\": 31, \"target\": 69}, {\"color\": \"red\", \"source\": 31, \"target\": 83}, {\"color\": \"blue\", \"source\": 32, \"target\": 43}, {\"color\": \"red\", \"source\": 32, \"target\": 65}, {\"color\": \"red\", \"source\": 32, \"target\": 35}, {\"color\": \"red\", \"source\": 32, \"target\": 88}, {\"color\": \"blue\", \"source\": 32, \"target\": 108}, {\"color\": \"red\", \"source\": 32, \"target\": 20}, {\"color\": \"red\", \"source\": 36, \"target\": 88}, {\"color\": \"red\", \"source\": 36, \"target\": 58}, {\"color\": \"red\", \"source\": 36, \"target\": 96}, {\"color\": \"red\", \"source\": 36, \"target\": 103}, {\"color\": \"red\", \"source\": 36, \"target\": 20}, {\"color\": \"red\", \"source\": 39, \"target\": 93}, {\"color\": \"red\", \"source\": 39, \"target\": 105}, {\"color\": \"red\", \"source\": 39, \"target\": 2}, {\"color\": \"red\", \"source\": 39, \"target\": 2}, {\"color\": \"red\", \"source\": 39, \"target\": 83}, {\"color\": \"red\", \"source\": 39, \"target\": 83}, {\"color\": \"red\", \"source\": 39, \"target\": 95}, {\"color\": \"red\", \"source\": 39, \"target\": 88}, {\"color\": \"red\", \"source\": 39, \"target\": 16}, {\"color\": \"red\", \"source\": 39, \"target\": 90}, {\"color\": \"red\", \"source\": 39, \"target\": 97}, {\"color\": \"red\", \"source\": 39, \"target\": 98}, {\"color\": \"red\", \"source\": 39, \"target\": 99}, {\"color\": \"blue\", \"source\": 43, \"target\": 32}, {\"color\": \"red\", \"source\": 43, \"target\": 101}, {\"color\": \"red\", \"source\": 43, \"target\": 101}, {\"color\": \"blue\", \"source\": 43, \"target\": 65}, {\"color\": \"red\", \"source\": 43, \"target\": 91}, {\"color\": \"red\", \"source\": 43, \"target\": 31}, {\"color\": \"red\", \"source\": 43, \"target\": 15}, {\"color\": \"blue\", \"source\": 43, \"target\": 35}, {\"color\": \"red\", \"source\": 43, \"target\": 86}, {\"color\": \"red\", \"source\": 43, \"target\": 88}, {\"color\": \"red\", \"source\": 43, \"target\": 88}, {\"color\": \"blue\", \"source\": 43, \"target\": 104}, {\"color\": \"blue\", \"source\": 43, \"target\": 104}, {\"color\": \"red\", \"source\": 43, \"target\": 103}, {\"color\": \"blue\", \"source\": 43, \"target\": 108}, {\"color\": \"red\", \"source\": 43, \"target\": 34}, {\"color\": \"blue\", \"source\": 43, \"target\": 48}, {\"color\": \"red\", \"source\": 43, \"target\": 20}, {\"color\": \"blue\", \"source\": 43, \"target\": 38}, {\"color\": \"red\", \"source\": 43, \"target\": 13}, {\"color\": \"red\", \"source\": 43, \"target\": 13}, {\"color\": \"blue\", \"source\": 46, \"target\": 88}, {\"color\": \"red\", \"source\": 50, \"target\": 57}, {\"color\": \"red\", \"source\": 50, \"target\": 101}, {\"color\": \"red\", \"source\": 50, \"target\": 88}, {\"color\": \"red\", \"source\": 50, \"target\": 66}, {\"color\": \"red\", \"source\": 50, \"target\": 67}, {\"color\": \"blue\", \"source\": 50, \"target\": 48}, {\"color\": \"red\", \"source\": 50, \"target\": 61}, {\"color\": \"red\", \"source\": 50, \"target\": 103}, {\"color\": \"red\", \"source\": 52, \"target\": 88}, {\"color\": \"red\", \"source\": 65, \"target\": 32}, {\"color\": \"blue\", \"source\": 65, \"target\": 43}, {\"color\": \"red\", \"source\": 65, \"target\": 73}, {\"color\": \"red\", \"source\": 65, \"target\": 73}, {\"color\": \"red\", \"source\": 65, \"target\": 66}, {\"color\": \"red\", \"source\": 65, \"target\": 66}, {\"color\": \"blue\", \"source\": 65, \"target\": 35}, {\"color\": \"red\", \"source\": 65, \"target\": 90}, {\"color\": \"red\", \"source\": 65, \"target\": 57}, {\"color\": \"red\", \"source\": 65, \"target\": 57}, {\"color\": \"red\", \"source\": 65, \"target\": 58}, {\"color\": \"blue\", \"source\": 65, \"target\": 6}, {\"color\": \"red\", \"source\": 65, \"target\": 88}, {\"color\": \"red\", \"source\": 65, \"target\": 67}, {\"color\": \"red\", \"source\": 65, \"target\": 67}, {\"color\": \"blue\", \"source\": 65, \"target\": 48}, {\"color\": \"blue\", \"source\": 65, \"target\": 48}, {\"color\": \"red\", \"source\": 65, \"target\": 77}, {\"color\": \"blue\", \"source\": 65, \"target\": 19}, {\"color\": \"red\", \"source\": 65, \"target\": 20}, {\"color\": \"blue\", \"source\": 65, \"target\": 27}, {\"color\": \"blue\", \"source\": 65, \"target\": 83}, {\"color\": \"blue\", \"source\": 65, \"target\": 109}, {\"color\": \"red\", \"source\": 68, \"target\": 88}, {\"color\": \"blue\", \"source\": 68, \"target\": 73}, {\"color\": \"red\", \"source\": 71, \"target\": 88}, {\"color\": \"red\", \"source\": 71, \"target\": 90}, {\"color\": \"blue\", \"source\": 72, \"target\": 88}, {\"color\": \"red\", \"source\": 73, \"target\": 90}, {\"color\": \"blue\", \"source\": 73, \"target\": 88}, {\"color\": \"red\", \"source\": 73, \"target\": 101}, {\"color\": \"red\", \"source\": 73, \"target\": 65}, {\"color\": \"red\", \"source\": 73, \"target\": 65}, {\"color\": \"red\", \"source\": 73, \"target\": 75}, {\"color\": \"red\", \"source\": 73, \"target\": 15}, {\"color\": \"red\", \"source\": 73, \"target\": 35}, {\"color\": \"red\", \"source\": 73, \"target\": 80}, {\"color\": \"red\", \"source\": 73, \"target\": 96}, {\"color\": \"red\", \"source\": 73, \"target\": 58}, {\"color\": \"red\", \"source\": 73, \"target\": 6}, {\"color\": \"red\", \"source\": 73, \"target\": 78}, {\"color\": \"red\", \"source\": 73, \"target\": 103}, {\"color\": \"red\", \"source\": 73, \"target\": 48}, {\"color\": \"blue\", \"source\": 73, \"target\": 77}, {\"color\": \"red\", \"source\": 73, \"target\": 19}, {\"color\": \"blue\", \"source\": 73, \"target\": 68}, {\"color\": \"red\", \"source\": 73, \"target\": 20}, {\"color\": \"red\", \"source\": 73, \"target\": 13}, {\"color\": \"red\", \"source\": 73, \"target\": 79}, {\"color\": \"red\", \"source\": 88, \"target\": 0}, {\"color\": \"blue\", \"source\": 88, \"target\": 1}, {\"color\": \"red\", \"source\": 88, \"target\": 2}, {\"color\": \"red\", \"source\": 88, \"target\": 3}, {\"color\": \"red\", \"source\": 88, \"target\": 4}, {\"color\": \"blue\", \"source\": 88, \"target\": 5}, {\"color\": \"blue\", \"source\": 88, \"target\": 5}, {\"color\": \"blue\", \"source\": 88, \"target\": 6}, {\"color\": \"blue\", \"source\": 88, \"target\": 6}, {\"color\": \"blue\", \"source\": 88, \"target\": 6}, {\"color\": \"blue\", \"source\": 88, \"target\": 7}, {\"color\": \"blue\", \"source\": 88, \"target\": 7}, {\"color\": \"blue\", \"source\": 88, \"target\": 8}, {\"color\": \"blue\", \"source\": 88, \"target\": 8}, {\"color\": \"red\", \"source\": 88, \"target\": 9}, {\"color\": \"red\", \"source\": 88, \"target\": 10}, {\"color\": \"red\", \"source\": 88, \"target\": 11}, {\"color\": \"red\", \"source\": 88, \"target\": 12}, {\"color\": \"red\", \"source\": 88, \"target\": 13}, {\"color\": \"red\", \"source\": 88, \"target\": 14}, {\"color\": \"red\", \"source\": 88, \"target\": 15}, {\"color\": \"blue\", \"source\": 88, \"target\": 16}, {\"color\": \"blue\", \"source\": 88, \"target\": 16}, {\"color\": \"red\", \"source\": 88, \"target\": 17}, {\"color\": \"red\", \"source\": 88, \"target\": 18}, {\"color\": \"red\", \"source\": 88, \"target\": 19}, {\"color\": \"red\", \"source\": 88, \"target\": 20}, {\"color\": \"red\", \"source\": 88, \"target\": 21}, {\"color\": \"red\", \"source\": 88, \"target\": 22}, {\"color\": \"red\", \"source\": 88, \"target\": 22}, {\"color\": \"red\", \"source\": 88, \"target\": 23}, {\"color\": \"blue\", \"source\": 88, \"target\": 24}, {\"color\": \"blue\", \"source\": 88, \"target\": 25}, {\"color\": \"red\", \"source\": 88, \"target\": 26}, {\"color\": \"blue\", \"source\": 88, \"target\": 27}, {\"color\": \"blue\", \"source\": 88, \"target\": 28}, {\"color\": \"blue\", \"source\": 88, \"target\": 28}, {\"color\": \"red\", \"source\": 88, \"target\": 29}, {\"color\": \"blue\", \"source\": 88, \"target\": 30}, {\"color\": \"blue\", \"source\": 88, \"target\": 31}, {\"color\": \"red\", \"source\": 88, \"target\": 32}, {\"color\": \"red\", \"source\": 88, \"target\": 33}, {\"color\": \"red\", \"source\": 88, \"target\": 34}, {\"color\": \"blue\", \"source\": 88, \"target\": 35}, {\"color\": \"red\", \"source\": 88, \"target\": 36}, {\"color\": \"red\", \"source\": 88, \"target\": 37}, {\"color\": \"blue\", \"source\": 88, \"target\": 38}, {\"color\": \"red\", \"source\": 88, \"target\": 39}, {\"color\": \"red\", \"source\": 88, \"target\": 40}, {\"color\": \"red\", \"source\": 88, \"target\": 41}, {\"color\": \"blue\", \"source\": 88, \"target\": 42}, {\"color\": \"blue\", \"source\": 88, \"target\": 42}, {\"color\": \"red\", \"source\": 88, \"target\": 43}, {\"color\": \"red\", \"source\": 88, \"target\": 43}, {\"color\": \"red\", \"source\": 88, \"target\": 44}, {\"color\": \"red\", \"source\": 88, \"target\": 45}, {\"color\": \"blue\", \"source\": 88, \"target\": 46}, {\"color\": \"blue\", \"source\": 88, \"target\": 47}, {\"color\": \"blue\", \"source\": 88, \"target\": 47}, {\"color\": \"blue\", \"source\": 88, \"target\": 48}, {\"color\": \"red\", \"source\": 88, \"target\": 49}, {\"color\": \"red\", \"source\": 88, \"target\": 50}, {\"color\": \"blue\", \"source\": 88, \"target\": 51}, {\"color\": \"red\", \"source\": 88, \"target\": 52}, {\"color\": \"red\", \"source\": 88, \"target\": 53}, {\"color\": \"red\", \"source\": 88, \"target\": 54}, {\"color\": \"red\", \"source\": 88, \"target\": 55}, {\"color\": \"red\", \"source\": 88, \"target\": 56}, {\"color\": \"blue\", \"source\": 88, \"target\": 57}, {\"color\": \"red\", \"source\": 88, \"target\": 58}, {\"color\": \"red\", \"source\": 88, \"target\": 59}, {\"color\": \"red\", \"source\": 88, \"target\": 60}, {\"color\": \"red\", \"source\": 88, \"target\": 61}, {\"color\": \"red\", \"source\": 88, \"target\": 62}, {\"color\": \"red\", \"source\": 88, \"target\": 63}, {\"color\": \"blue\", \"source\": 88, \"target\": 64}, {\"color\": \"red\", \"source\": 88, \"target\": 65}, {\"color\": \"blue\", \"source\": 88, \"target\": 66}, {\"color\": \"blue\", \"source\": 88, \"target\": 66}, {\"color\": \"blue\", \"source\": 88, \"target\": 67}, {\"color\": \"blue\", \"source\": 88, \"target\": 67}, {\"color\": \"red\", \"source\": 88, \"target\": 68}, {\"color\": \"red\", \"source\": 88, \"target\": 69}, {\"color\": \"red\", \"source\": 88, \"target\": 70}, {\"color\": \"red\", \"source\": 88, \"target\": 71}, {\"color\": \"blue\", \"source\": 88, \"target\": 72}, {\"color\": \"blue\", \"source\": 88, \"target\": 73}, {\"color\": \"blue\", \"source\": 88, \"target\": 74}, {\"color\": \"blue\", \"source\": 88, \"target\": 74}, {\"color\": \"blue\", \"source\": 88, \"target\": 75}, {\"color\": \"blue\", \"source\": 88, \"target\": 75}, {\"color\": \"red\", \"source\": 88, \"target\": 76}, {\"color\": \"blue\", \"source\": 88, \"target\": 77}, {\"color\": \"blue\", \"source\": 88, \"target\": 78}, {\"color\": \"blue\", \"source\": 88, \"target\": 78}, {\"color\": \"blue\", \"source\": 88, \"target\": 79}, {\"color\": \"blue\", \"source\": 88, \"target\": 79}, {\"color\": \"blue\", \"source\": 88, \"target\": 80}, {\"color\": \"blue\", \"source\": 88, \"target\": 80}, {\"color\": \"blue\", \"source\": 88, \"target\": 81}, {\"color\": \"red\", \"source\": 88, \"target\": 82}, {\"color\": \"blue\", \"source\": 88, \"target\": 83}, {\"color\": \"blue\", \"source\": 88, \"target\": 84}, {\"color\": \"red\", \"source\": 88, \"target\": 85}, {\"color\": \"red\", \"source\": 88, \"target\": 86}, {\"color\": \"red\", \"source\": 88, \"target\": 87}, {\"color\": \"blue\", \"source\": 88, \"target\": 89}, {\"color\": \"red\", \"source\": 88, \"target\": 90}, {\"color\": \"red\", \"source\": 88, \"target\": 91}, {\"color\": \"red\", \"source\": 88, \"target\": 92}, {\"color\": \"blue\", \"source\": 88, \"target\": 93}, {\"color\": \"blue\", \"source\": 88, \"target\": 93}, {\"color\": \"red\", \"source\": 88, \"target\": 94}, {\"color\": \"blue\", \"source\": 88, \"target\": 95}, {\"color\": \"blue\", \"source\": 88, \"target\": 95}, {\"color\": \"red\", \"source\": 88, \"target\": 96}, {\"color\": \"blue\", \"source\": 88, \"target\": 97}, {\"color\": \"blue\", \"source\": 88, \"target\": 97}, {\"color\": \"blue\", \"source\": 88, \"target\": 98}, {\"color\": \"blue\", \"source\": 88, \"target\": 98}, {\"color\": \"blue\", \"source\": 88, \"target\": 99}, {\"color\": \"blue\", \"source\": 88, \"target\": 99}, {\"color\": \"blue\", \"source\": 88, \"target\": 100}, {\"color\": \"blue\", \"source\": 88, \"target\": 101}, {\"color\": \"blue\", \"source\": 88, \"target\": 102}, {\"color\": \"red\", \"source\": 88, \"target\": 103}, {\"color\": \"blue\", \"source\": 88, \"target\": 104}, {\"color\": \"blue\", \"source\": 88, \"target\": 104}, {\"color\": \"red\", \"source\": 88, \"target\": 105}, {\"color\": \"red\", \"source\": 88, \"target\": 106}, {\"color\": \"red\", \"source\": 88, \"target\": 107}, {\"color\": \"blue\", \"source\": 88, \"target\": 108}, {\"color\": \"blue\", \"source\": 88, \"target\": 108}, {\"color\": \"red\", \"source\": 88, \"target\": 109}, {\"color\": \"blue\", \"source\": 89, \"target\": 88}, {\"color\": \"red\", \"source\": 90, \"target\": 17}, {\"color\": \"red\", \"source\": 90, \"target\": 34}, {\"color\": \"blue\", \"source\": 90, \"target\": 35}, {\"color\": \"red\", \"source\": 90, \"target\": 4}, {\"color\": \"red\", \"source\": 90, \"target\": 88}, {\"color\": \"red\", \"source\": 90, \"target\": 85}, {\"color\": \"red\", \"source\": 90, \"target\": 86}, {\"color\": \"blue\", \"source\": 90, \"target\": 5}, {\"color\": \"blue\", \"source\": 90, \"target\": 5}, {\"color\": \"blue\", \"source\": 90, \"target\": 6}, {\"color\": \"blue\", \"source\": 90, \"target\": 6}, {\"color\": \"blue\", \"source\": 90, \"target\": 7}, {\"color\": \"blue\", \"source\": 90, \"target\": 7}, {\"color\": \"blue\", \"source\": 90, \"target\": 8}, {\"color\": \"blue\", \"source\": 90, \"target\": 8}, {\"color\": \"red\", \"source\": 90, \"target\": 60}, {\"color\": \"red\", \"source\": 90, \"target\": 60}, {\"color\": \"red\", \"source\": 90, \"target\": 61}, {\"color\": \"red\", \"source\": 90, \"target\": 62}, {\"color\": \"red\", \"source\": 90, \"target\": 63}, {\"color\": \"red\", \"source\": 90, \"target\": 44}, {\"color\": \"red\", \"source\": 90, \"target\": 39}, {\"color\": \"red\", \"source\": 90, \"target\": 65}, {\"color\": \"red\", \"source\": 90, \"target\": 14}, {\"color\": \"red\", \"source\": 90, \"target\": 15}, {\"color\": \"blue\", \"source\": 90, \"target\": 66}, {\"color\": \"blue\", \"source\": 90, \"target\": 66}, {\"color\": \"blue\", \"source\": 90, \"target\": 67}, {\"color\": \"blue\", \"source\": 90, \"target\": 67}, {\"color\": \"red\", \"source\": 90, \"target\": 69}, {\"color\": \"red\", \"source\": 90, \"target\": 69}, {\"color\": \"red\", \"source\": 90, \"target\": 70}, {\"color\": \"red\", \"source\": 90, \"target\": 3}, {\"color\": \"red\", \"source\": 90, \"target\": 21}, {\"color\": \"red\", \"source\": 90, \"target\": 22}, {\"color\": \"red\", \"source\": 90, \"target\": 22}, {\"color\": \"red\", \"source\": 90, \"target\": 91}, {\"color\": \"red\", \"source\": 90, \"target\": 71}, {\"color\": \"red\", \"source\": 90, \"target\": 45}, {\"color\": \"blue\", \"source\": 90, \"target\": 47}, {\"color\": \"blue\", \"source\": 90, \"target\": 47}, {\"color\": \"red\", \"source\": 90, \"target\": 26}, {\"color\": \"red\", \"source\": 90, \"target\": 73}, {\"color\": \"blue\", \"source\": 90, \"target\": 42}, {\"color\": \"blue\", \"source\": 90, \"target\": 42}, {\"color\": \"blue\", \"source\": 90, \"target\": 28}, {\"color\": \"blue\", \"source\": 90, \"target\": 28}, {\"color\": \"red\", \"source\": 90, \"target\": 58}, {\"color\": \"blue\", \"source\": 90, \"target\": 74}, {\"color\": \"blue\", \"source\": 90, \"target\": 74}, {\"color\": \"blue\", \"source\": 90, \"target\": 75}, {\"color\": \"blue\", \"source\": 90, \"target\": 75}, {\"color\": \"red\", \"source\": 90, \"target\": 18}, {\"color\": \"red\", \"source\": 90, \"target\": 108}, {\"color\": \"red\", \"source\": 90, \"target\": 108}, {\"color\": \"red\", \"source\": 90, \"target\": 109}, {\"color\": \"blue\", \"source\": 100, \"target\": 88}, {\"color\": \"blue\", \"source\": 102, \"target\": 88}, {\"color\": \"red\", \"source\": 102, \"target\": 37}, {\"color\": \"red\", \"source\": 102, \"target\": 48}, {\"color\": \"red\", \"source\": 103, \"target\": 88}, {\"color\": \"red\", \"source\": 103, \"target\": 43}, {\"color\": \"red\", \"source\": 103, \"target\": 50}, {\"color\": \"red\", \"source\": 103, \"target\": 75}, {\"color\": \"red\", \"source\": 103, \"target\": 24}, {\"color\": \"red\", \"source\": 103, \"target\": 35}, {\"color\": \"red\", \"source\": 103, \"target\": 36}, {\"color\": \"red\", \"source\": 103, \"target\": 106}, {\"color\": \"red\", \"source\": 103, \"target\": 47}, {\"color\": \"red\", \"source\": 103, \"target\": 58}, {\"color\": \"red\", \"source\": 103, \"target\": 6}, {\"color\": \"blue\", \"source\": 103, \"target\": 48}, {\"color\": \"blue\", \"source\": 103, \"target\": 19}, {\"color\": \"red\", \"source\": 103, \"target\": 20}, {\"color\": \"red\", \"source\": 103, \"target\": 20}, {\"color\": \"red\", \"source\": 103, \"target\": 73}, {\"color\": \"red\", \"source\": 103, \"target\": 69}, {\"color\": \"red\", \"source\": 103, \"target\": 57}, {\"color\": \"red\", \"source\": 105, \"target\": 39}, {\"color\": \"red\", \"source\": 105, \"target\": 2}, {\"color\": \"blue\", \"source\": 105, \"target\": 15}, {\"color\": \"blue\", \"source\": 105, \"target\": 15}, {\"color\": \"red\", \"source\": 105, \"target\": 35}, {\"color\": \"red\", \"source\": 105, \"target\": 80}, {\"color\": \"red\", \"source\": 105, \"target\": 16}, {\"color\": \"red\", \"source\": 105, \"target\": 88}, {\"color\": \"blue\", \"source\": 105, \"target\": 6}, {\"color\": \"red\", \"source\": 105, \"target\": 78}, {\"color\": \"red\", \"source\": 105, \"target\": 31}, {\"color\": \"red\", \"source\": 105, \"target\": 17}, {\"color\": \"blue\", \"source\": 105, \"target\": 24}, {\"color\": \"red\", \"source\": 105, \"target\": 19}, {\"color\": \"red\", \"source\": 105, \"target\": 20}, {\"color\": \"red\", \"source\": 109, \"target\": 88}, {\"color\": \"red\", \"source\": 109, \"target\": 20}, {\"color\": \"blue\", \"source\": 109, \"target\": 65}, {\"color\": \"red\", \"source\": 109, \"target\": 90}]);}</script><iframe name=\"style_file1\" src=\"style_file1.html\" height=\"1200px\" width=\"100%;\"></iframe></body></html>"
      ],
      "text/plain": [
       "<IPython.core.display.HTML object>"
      ]
     },
     "execution_count": 67,
     "metadata": {},
     "output_type": "execute_result"
    }
   ],
   "source": [
    "stat_analysis.vis_tf_network(DG_brca, 'FOXO3', '../geo2r_GSE11352_brca_48hours.txt', DEG_list_brca,\n",
    "              directed_edges = False,\n",
    "              node_spacing = 2300,\n",
    "              graph_id = 1) "
   ]
  },
  {
   "cell_type": "code",
   "execution_count": null,
   "metadata": {
    "collapsed": true
   },
   "outputs": [],
   "source": []
  }
 ],
 "metadata": {
  "kernelspec": {
   "display_name": "Python 2",
   "language": "python",
   "name": "python2"
  },
  "language_info": {
   "codemirror_mode": {
    "name": "ipython",
    "version": 2
   },
   "file_extension": ".py",
   "mimetype": "text/x-python",
   "name": "python",
   "nbconvert_exporter": "python",
   "pygments_lexer": "ipython2",
   "version": "2.7.14"
  }
 },
 "nbformat": 4,
 "nbformat_minor": 2
}
