{
 "cells": [
  {
   "cell_type": "code",
   "execution_count": 1,
   "metadata": {
    "collapsed": true
   },
   "outputs": [],
   "source": [
    "import sys\n",
    "code_path = '../../network_bio_toolkit'\n",
    "sys.path.append(code_path)\n",
    "import create_graph\n",
    "reload(create_graph)\n",
    "import heat_and_cluster\n",
    "reload(heat_and_cluster)\n",
    "import copy\n",
    "\n",
    "import community # pip install python-louvain\n",
    "import networkx as nx\n",
    "import visJS2jupyter.visJS_module as visJS_module\n",
    "import visJS2jupyter.visualizations as visualizations\n",
    "import matplotlib as mpl\n",
    "import random\n",
    "import operator\n",
    "import matplotlib.pyplot as plt\n",
    "import numpy as np\n",
    "import pandas as pd"
   ]
  },
  {
   "cell_type": "code",
   "execution_count": 90,
   "metadata": {
    "collapsed": true
   },
   "outputs": [],
   "source": [
    "def bias_position_by_partition(pos,partition,r=1.0):\n",
    "    '''\n",
    "    Bias the positions by partition membership, to group them together\n",
    "    \n",
    "    '''\n",
    "    \n",
    "    partition = pd.Series(partition)\n",
    "    \n",
    "    for p in list(np.unique(partition)):\n",
    "\n",
    "        focal_nodes = partition[partition==p].index.tolist()\n",
    "        for n in focal_nodes:\n",
    "            pos[n][0]+=pol2cart(r,float(p)/(np.max(partition)+1)*2*np.pi)[0]\n",
    "            pos[n][1]+=pol2cart(r,float(p)/(np.max(partition)+1)*2*np.pi)[1]\n",
    "            \n",
    "    return pos\n",
    "\n",
    "def cart2pol(x, y):\n",
    "    rho = np.sqrt(x**2 + y**2)\n",
    "    phi = np.arctan2(y, x)\n",
    "    return(rho, phi)\n",
    "\n",
    "def pol2cart(rho, phi):\n",
    "    x = rho * np.cos(phi)\n",
    "    y = rho * np.sin(phi)\n",
    "    return(x, y)\n",
    "\n",
    "def assign_colors_to_clusters(node_to_cluster, cluster_size_cut_off = 20, color_list = None):\n",
    "\n",
    "    node_to_color = {}\n",
    "    \n",
    "    if color_list == None:\n",
    "        color_list = ['#ff0044', '#a300cc', '#3000b3', '#000c59', '#00d9ca', \n",
    "        '#004033', '#00f281', '#00660e', '#88ff00', '#a66f00', '#593000', '#cc5200', '#f22000', '#ff408c', '#731d3f', '#571a66', '#1d3f73', '#40bfff', '#21330d', '#e5c339', '#d96cd2', '#9173e6', '#aacc66', '#736f39', '#403120', '#e5a173', '#e57373', '#d9a3ce', '#40303f', '#acb4e6', '#7c92a6', '#bff2ff', '#b6f2d6', '#d9c7a3', '#806060',\n",
    "        '#a60016', '#330022', '#004759', '#00735c', '#59000c']\n",
    "   \n",
    "    cluster_to_nodes = invert_dict(node_to_cluster)\n",
    "    \n",
    "    cluster_to_color = {}\n",
    "    color_index = 0\n",
    "    for cluster_id, node_list in cluster_to_nodes.iteritems():\n",
    "        if len(node_list) < cluster_size_cut_off:\n",
    "            cluster_to_color[cluster_id] = 'grey'\n",
    "        else:\n",
    "            cluster_to_color[cluster_id] = color_list[color_index]\n",
    "            if color_index < len(color_list)-1:\n",
    "                color_index = color_index + 1\n",
    "\n",
    "    for node, cluster_id in node_to_cluster.iteritems():\n",
    "        node_to_color[node] = cluster_to_color[cluster_id]\n",
    "    \n",
    "    return node_to_color\n",
    "\n",
    "def invert_dict(old_dict):\n",
    "    inv_dict = {}\n",
    "    for k, v in old_dict.iteritems():\n",
    "        inv_dict [v] = inv_dict.get(v, [])\n",
    "        inv_dict [v].append(k)\n",
    "    return inv_dict "
   ]
  },
  {
   "cell_type": "markdown",
   "metadata": {},
   "source": [
    "## Load Databases"
   ]
  },
  {
   "cell_type": "code",
   "execution_count": 2,
   "metadata": {},
   "outputs": [
    {
     "name": "stdout",
     "output_type": "stream",
     "text": [
      "Number of DEG's: 394\n"
     ]
    }
   ],
   "source": [
    "# differentially expressed genes\n",
    "DEG_filename = \"../../DEG_databases/DE_CoeffspaceFlight - groundControl_glds48_20180312.csv\"  \n",
    "DEG_list, DEG_to_pvalue, DEG_to_updown = create_graph.create_DEG_list(DEG_filename, \n",
    "                                                                      p_value_filter=0.1,\n",
    "                                                                      gene_type='symbol',\n",
    "                                                                      sep = ',')\n",
    "\n",
    "print \"Number of DEG's: \" + str(len(DEG_list))"
   ]
  },
  {
   "cell_type": "code",
   "execution_count": 53,
   "metadata": {},
   "outputs": [
    {
     "name": "stdout",
     "output_type": "stream",
     "text": [
      "querying 1-1000...done.\n",
      "querying 1001-2000...done.\n",
      "querying 2001-3000...done.\n",
      "querying 3001-4000...done.\n",
      "querying 4001-5000...done.\n",
      "querying 5001-6000...done.\n",
      "querying 6001-7000...done.\n",
      "querying 7001-7303...done.\n",
      "Finished.\n",
      "57 input query terms found dup hits:\n",
      "\t[(u'ENSMUSP00000042658', 2), (u'ENSMUSP00000126737', 2), (u'ENSMUSP00000051968', 3), (u'ENSMUSP00000\n",
      "154 input query terms found no hit:\n",
      "\t[u'ENSMUSP00000036849', u'ENSMUSP00000097354', u'ENSMUSP00000097358', u'ENSMUSP00000137522', u'ENSMU\n",
      "Pass \"returnall=True\" to return complete lists of duplicate or missing query terms.\n",
      "\n",
      "Number of interactions: 2564\n"
     ]
    }
   ],
   "source": [
    "# background network\n",
    "filename = \"../../background_networks/10090.protein.actions.v10.5.txt\"\n",
    "G_DEG, DG_universe = create_graph.load_STRING_to_digraph(filename, DEG_list, confidence_filter = 400, gene_type = 'symbol', species = 'mouse')\n",
    "\n",
    "print \"\\nNumber of interactions: \" + str(len(list(G_DEG.edges())))"
   ]
  },
  {
   "cell_type": "markdown",
   "metadata": {},
   "source": [
    "## Run Heat Prop"
   ]
  },
  {
   "cell_type": "code",
   "execution_count": 56,
   "metadata": {
    "scrolled": false
   },
   "outputs": [
    {
     "data": {
      "text/html": [
       "<!doctype html><html><head>  <title>Network | Basic usage</title></head><body><script type=\"text/javascript\">function setUpFrame() {     var frame = window.frames[\"style_file0\"];    frame.runVis([{\"node_label\": \"Dnmt3b\", \"node_shape\": \"triangle\", \"x\": 95.82113676279342, \"degree\": 2, \"node_size\": 10, \"color\": \"rgba(256, 133, 0, 1.0)\", \"title\": \"Dnmt3b<br/>heat = 0.0034\", \"border_width\": 2, \"id\": \"Dnmt3b\", \"y\": 640.7042693653461}, {\"node_label\": \"Rbm4\", \"node_shape\": \"dot\", \"x\": 881.2480307728536, \"degree\": 1, \"node_size\": 10, \"color\": \"rgba(256, 217, 0, 1.0)\", \"title\": \"Rbm4<br/>heat = 0.00144\", \"border_width\": 0, \"id\": \"Rbm4\", \"y\": 167.60490839819516}, {\"node_label\": \"Rnf144b\", \"node_shape\": \"triangle\", \"x\": 200.79700442857438, \"degree\": 1, \"node_size\": 10, \"color\": \"rgba(256, 131, 0, 1.0)\", \"title\": \"Rnf144b<br/>heat = 0.00346\", \"border_width\": 2, \"id\": \"Rnf144b\", \"y\": 152.11920469096435}, {\"node_label\": \"Nr1d1\", \"node_shape\": \"triangle\", \"x\": 671.030924573159, \"degree\": 3, \"node_size\": 10, \"color\": \"rgba(256, 122, 0, 1.0)\", \"title\": \"Nr1d1<br/>heat = 0.0038\", \"border_width\": 2, \"id\": \"Nr1d1\", \"y\": 220.26532626425032}, {\"node_label\": \"Bcl6b\", \"node_shape\": \"triangle\", \"x\": 238.7467198912991, \"degree\": 1, \"node_size\": 10, \"color\": \"rgba(256, 134, 0, 1.0)\", \"title\": \"Bcl6b<br/>heat = 0.00336\", \"border_width\": 2, \"id\": \"Bcl6b\", \"y\": 92.96580895980462}, {\"node_label\": \"Cpt1a\", \"node_shape\": \"triangle\", \"x\": 987.0874091321265, \"degree\": 1, \"node_size\": 10, \"color\": \"rgba(256, 106, 0, 1.0)\", \"title\": \"Cpt1a<br/>heat = 0.00446\", \"border_width\": 2, \"id\": \"Cpt1a\", \"y\": 563.5516789805089}, {\"node_label\": \"Irf1\", \"node_shape\": \"dot\", \"x\": 597.0559976269274, \"degree\": 2, \"node_size\": 10, \"color\": \"rgba(256, 236, 0, 1.0)\", \"title\": \"Irf1<br/>heat = 0.00119\", \"border_width\": 0, \"id\": \"Irf1\", \"y\": 974.746690461242}, {\"node_label\": \"Bid\", \"node_shape\": \"triangle\", \"x\": 647.4013295537725, \"degree\": 5, \"node_size\": 10, \"color\": \"rgba(256, 135, 0, 1.0)\", \"title\": \"Bid<br/>heat = 0.00333\", \"border_width\": 2, \"id\": \"Bid\", \"y\": 123.66981992057487}, {\"node_label\": \"Irf8\", \"node_shape\": \"dot\", \"x\": 624.2396777616998, \"degree\": 1, \"node_size\": 10, \"color\": \"rgba(256, 189, 0, 1.0)\", \"title\": \"Irf8<br/>heat = 0.00191\", \"border_width\": 0, \"id\": \"Irf8\", \"y\": 954.5819325920319}, {\"node_label\": \"Ppargc1a\", \"node_shape\": \"triangle\", \"x\": 755.1706889806147, \"degree\": 8, \"node_size\": 10, \"color\": \"rgba(256, 135, 0, 1.0)\", \"title\": \"Ppargc1a<br/>heat = 0.00332\", \"border_width\": 2, \"id\": \"Ppargc1a\", \"y\": 433.6033358220949}, {\"node_label\": \"Ppargc1b\", \"node_shape\": \"triangle\", \"x\": 125.90560484956856, \"degree\": 1, \"node_size\": 10, \"color\": \"rgba(256, 0, 0, 1.0)\", \"title\": \"Ppargc1b<br/>heat = 0.01317\", \"border_width\": 2, \"id\": \"Ppargc1b\", \"y\": 156.08101131374295}, {\"node_label\": \"Hbp1\", \"node_shape\": \"dot\", \"x\": 9.973248850228332, \"degree\": 1, \"node_size\": 10, \"color\": \"rgba(256, 183, 0, 1.0)\", \"title\": \"Hbp1<br/>heat = 0.00204\", \"border_width\": 0, \"id\": \"Hbp1\", \"y\": 582.7709684062896}, {\"node_label\": \"Creb3l3\", \"node_shape\": \"triangle\", \"x\": 931.4734862594975, \"degree\": 2, \"node_size\": 10, \"color\": \"rgba(256, 130, 0, 1.0)\", \"title\": \"Creb3l3<br/>heat = 0.00349\", \"border_width\": 2, \"id\": \"Creb3l3\", \"y\": 745.4874199303979}, {\"node_label\": \"Rpp14\", \"node_shape\": \"dot\", \"x\": 976.614190680498, \"degree\": 1, \"node_size\": 10, \"color\": \"rgba(256, 176, 0, 1.0)\", \"title\": \"Rpp14<br/>heat = 0.00219\", \"border_width\": 0, \"id\": \"Rpp14\", \"y\": 411.8786658629184}, {\"node_label\": \"Avpr1a\", \"node_shape\": \"triangle\", \"x\": 190.88510914056215, \"degree\": 2, \"node_size\": 10, \"color\": \"rgba(256, 107, 0, 1.0)\", \"title\": \"Avpr1a<br/>heat = 0.00441\", \"border_width\": 2, \"id\": \"Avpr1a\", \"y\": 885.7568561097104}, {\"node_label\": \"Zbtb17\", \"node_shape\": \"dot\", \"x\": 34.49230687179374, \"degree\": 1, \"node_size\": 10, \"color\": \"rgba(256, 201, 0, 1.0)\", \"title\": \"Zbtb17<br/>heat = 0.00169\", \"border_width\": 0, \"id\": \"Zbtb17\", \"y\": 627.2378220712393}, {\"node_label\": \"Pcbp4\", \"node_shape\": \"triangle\", \"x\": 328.4157009925652, \"degree\": 1, \"node_size\": 10, \"color\": \"rgba(256, 131, 0, 1.0)\", \"title\": \"Pcbp4<br/>heat = 0.00346\", \"border_width\": 2, \"id\": \"Pcbp4\", \"y\": 24.959638595695456}, {\"node_label\": \"Mapk1\", \"node_shape\": \"dot\", \"x\": 787.7217557751218, \"degree\": 6, \"node_size\": 10, \"color\": \"rgba(256, 186, 0, 1.0)\", \"title\": \"Mapk1<br/>heat = 0.00198\", \"border_width\": 0, \"id\": \"Mapk1\", \"y\": 607.7688724071329}, {\"node_label\": \"Nox4\", \"node_shape\": \"dot\", \"x\": 816.2765328036248, \"degree\": 1, \"node_size\": 10, \"color\": \"rgba(256, 187, 0, 1.0)\", \"title\": \"Nox4<br/>heat = 0.00195\", \"border_width\": 0, \"id\": \"Nox4\", \"y\": 115.07564712816756}, {\"node_label\": \"Baiap2\", \"node_shape\": \"triangle\", \"x\": 741.7852988603433, \"degree\": 3, \"node_size\": 10, \"color\": \"rgba(256, 135, 0, 1.0)\", \"title\": \"Baiap2<br/>heat = 0.00334\", \"border_width\": 2, \"id\": \"Baiap2\", \"y\": 762.2167641981324}, {\"node_label\": \"Rad23b\", \"node_shape\": \"triangle\", \"x\": 985.0020611782189, \"degree\": 1, \"node_size\": 10, \"color\": \"rgba(256, 135, 0, 1.0)\", \"title\": \"Rad23b<br/>heat = 0.00332\", \"border_width\": 2, \"id\": \"Rad23b\", \"y\": 369.08859119115175}, {\"node_label\": \"Plcb1\", \"node_shape\": \"triangle\", \"x\": 153.81655029999797, \"degree\": 3, \"node_size\": 10, \"color\": \"rgba(256, 57, 0, 1.0)\", \"title\": \"Plcb1<br/>heat = 0.00733\", \"border_width\": 2, \"id\": \"Plcb1\", \"y\": 827.6256846635603}, {\"node_label\": \"Ddit4\", \"node_shape\": \"triangle\", \"x\": 492.2353191952136, \"degree\": 1, \"node_size\": 10, \"color\": \"rgba(256, 135, 0, 1.0)\", \"title\": \"Ddit4<br/>heat = 0.00333\", \"border_width\": 2, \"id\": \"Ddit4\", \"y\": 397.617716136749}, {\"node_label\": \"Ddb2\", \"node_shape\": \"dot\", \"x\": 995.1667200434994, \"degree\": 1, \"node_size\": 10, \"color\": \"rgba(256, 149, 0, 1.0)\", \"title\": \"Ddb2<br/>heat = 0.00289\", \"border_width\": 0, \"id\": \"Ddb2\", \"y\": 522.8295314465992}, {\"node_label\": \"Cxcl12\", \"node_shape\": \"triangle\", \"x\": 266.98387939010547, \"degree\": 8, \"node_size\": 10, \"color\": \"rgba(256, 125, 0, 1.0)\", \"title\": \"Cxcl12<br/>heat = 0.00368\", \"border_width\": 2, \"id\": \"Cxcl12\", \"y\": 696.0311976627992}, {\"node_label\": \"Hba-x\", \"node_shape\": \"dot\", \"x\": 682.0218351621725, \"degree\": 1, \"node_size\": 10, \"color\": \"rgba(256, 236, 0, 1.0)\", \"title\": \"Hba-x<br/>heat = 0.00119\", \"border_width\": 0, \"id\": \"Hba-x\", \"y\": 840.5396529278997}, {\"node_label\": \"Krt18\", \"node_shape\": \"dot\", \"x\": 306.1681669772226, \"degree\": 1, \"node_size\": 10, \"color\": \"rgba(256, 237, 0, 1.0)\", \"title\": \"Krt18<br/>heat = 0.00118\", \"border_width\": 0, \"id\": \"Krt18\", \"y\": 35.32633305549113}, {\"node_label\": \"Adcy6\", \"node_shape\": \"triangle\", \"x\": 709.3971118092887, \"degree\": 2, \"node_size\": 10, \"color\": \"rgba(256, 134, 0, 1.0)\", \"title\": \"Adcy6<br/>heat = 0.00337\", \"border_width\": 2, \"id\": \"Adcy6\", \"y\": 945.8808952457474}, {\"node_label\": \"Thra\", \"node_shape\": \"triangle\", \"x\": 760.587785611792, \"degree\": 2, \"node_size\": 10, \"color\": \"rgba(256, 122, 0, 1.0)\", \"title\": \"Thra<br/>heat = 0.00379\", \"border_width\": 2, \"id\": \"Thra\", \"y\": 219.91396016217357}, {\"node_label\": \"Cd40lg\", \"node_shape\": \"dot\", \"x\": 101.19119711825115, \"degree\": 1, \"node_size\": 10, \"color\": \"rgba(256, 134, 0, 1.0)\", \"title\": \"Cd40lg<br/>heat = 0.00335\", \"border_width\": 0, \"id\": \"Cd40lg\", \"y\": 722.5775673565654}, {\"node_label\": \"Hdac11\", \"node_shape\": \"triangle\", \"x\": 5.026618162958561, \"degree\": 2, \"node_size\": 10, \"color\": \"rgba(256, 126, 0, 1.0)\", \"title\": \"Hdac11<br/>heat = 0.00363\", \"border_width\": 2, \"id\": \"Hdac11\", \"y\": 486.839044034469}, {\"node_label\": \"Nr1d2\", \"node_shape\": \"triangle\", \"x\": 198.67070169122653, \"degree\": 3, \"node_size\": 10, \"color\": \"rgba(256, 122, 0, 1.0)\", \"title\": \"Nr1d2<br/>heat = 0.00377\", \"border_width\": 2, \"id\": \"Nr1d2\", \"y\": 257.826472899839}, {\"node_label\": \"Tab2\", \"node_shape\": \"triangle\", \"x\": 941.4911812084341, \"degree\": 2, \"node_size\": 10, \"color\": \"rgba(256, 72, 0, 1.0)\", \"title\": \"Tab2<br/>heat = 0.00632\", \"border_width\": 2, \"id\": \"Tab2\", \"y\": 253.7841256896468}, {\"node_label\": \"Lep\", \"node_shape\": \"dot\", \"x\": 658.305114130352, \"degree\": 1, \"node_size\": 10, \"color\": \"rgba(256, 183, 0, 1.0)\", \"title\": \"Lep<br/>heat = 0.00204\", \"border_width\": 0, \"id\": \"Lep\", \"y\": 933.0477834732193}, {\"node_label\": \"Camkk2\", \"node_shape\": \"dot\", \"x\": 875.8401086235668, \"degree\": 1, \"node_size\": 10, \"color\": \"rgba(256, 256, 0, 1.0)\", \"title\": \"Camkk2<br/>heat = 0.00098\", \"border_width\": 0, \"id\": \"Camkk2\", \"y\": 826.604809262661}, {\"node_label\": \"Gna14\", \"node_shape\": \"dot\", \"x\": 91.3914763238436, \"degree\": 2, \"node_size\": 10, \"color\": \"rgba(256, 30, 0, 1.0)\", \"title\": \"Gna14<br/>heat = 0.0097\", \"border_width\": 0, \"id\": \"Gna14\", \"y\": 778.8103162712943}, {\"node_label\": \"Gna12\", \"node_shape\": \"triangle\", \"x\": 226.56824775055242, \"degree\": 3, \"node_size\": 10, \"color\": \"rgba(256, 114, 0, 1.0)\", \"title\": \"Gna12<br/>heat = 0.00411\", \"border_width\": 2, \"id\": \"Gna12\", \"y\": 897.328290700973}, {\"node_label\": \"Ndrg1\", \"node_shape\": \"triangle\", \"x\": 334.07537977225064, \"degree\": 1, \"node_size\": 10, \"color\": \"rgba(256, 116, 0, 1.0)\", \"title\": \"Ndrg1<br/>heat = 0.00405\", \"border_width\": 2, \"id\": \"Ndrg1\", \"y\": 151.30737622408708}, {\"node_label\": \"Madd\", \"node_shape\": \"dot\", \"x\": 562.6072130449364, \"degree\": 1, \"node_size\": 10, \"color\": \"rgba(256, 241, 0, 1.0)\", \"title\": \"Madd<br/>heat = 0.00114\", \"border_width\": 0, \"id\": \"Madd\", \"y\": 0.0}, {\"node_label\": \"Stat2\", \"node_shape\": \"dot\", \"x\": 310.7278961299412, \"degree\": 1, \"node_size\": 10, \"color\": \"rgba(256, 9, 0, 1.0)\", \"title\": \"Stat2<br/>heat = 0.01195\", \"border_width\": 0, \"id\": \"Stat2\", \"y\": 905.1961880559663}, {\"node_label\": \"Stat1\", \"node_shape\": \"triangle\", \"x\": 501.5820051926845, \"degree\": 8, \"node_size\": 10, \"color\": \"rgba(256, 132, 0, 1.0)\", \"title\": \"Stat1<br/>heat = 0.00342\", \"border_width\": 2, \"id\": \"Stat1\", \"y\": 755.4845457679063}, {\"node_label\": \"Cdkn1a\", \"node_shape\": \"triangle\", \"x\": 210.5026287251054, \"degree\": 7, \"node_size\": 10, \"color\": \"rgba(256, 89, 0, 1.0)\", \"title\": \"Cdkn1a<br/>heat = 0.00532\", \"border_width\": 2, \"id\": \"Cdkn1a\", \"y\": 455.379802693471}, {\"node_label\": \"Per3\", \"node_shape\": \"triangle\", \"x\": 602.2398661398774, \"degree\": 2, \"node_size\": 10, \"color\": \"rgba(256, 134, 0, 1.0)\", \"title\": \"Per3<br/>heat = 0.00336\", \"border_width\": 2, \"id\": \"Per3\", \"y\": 1.690189922583955}, {\"node_label\": \"Per1\", \"node_shape\": \"triangle\", \"x\": 732.4039735531936, \"degree\": 3, \"node_size\": 10, \"color\": \"rgba(256, 123, 0, 1.0)\", \"title\": \"Per1<br/>heat = 0.00374\", \"border_width\": 2, \"id\": \"Per1\", \"y\": 79.37001980206288}, {\"node_label\": \"Pde4a\", \"node_shape\": \"dot\", \"x\": 896.2683837371382, \"degree\": 1, \"node_size\": 10, \"color\": \"rgba(256, 176, 0, 1.0)\", \"title\": \"Pde4a<br/>heat = 0.00219\", \"border_width\": 0, \"id\": \"Pde4a\", \"y\": 786.3579670576926}, {\"node_label\": \"F11\", \"node_shape\": \"triangle\", \"x\": 16.096674888115338, \"degree\": 1, \"node_size\": 10, \"color\": \"rgba(256, 91, 0, 1.0)\", \"title\": \"F11<br/>heat = 0.00519\", \"border_width\": 2, \"id\": \"F11\", \"y\": 531.6627145868084}, {\"node_label\": \"Sirt1\", \"node_shape\": \"dot\", \"x\": 383.95676252013624, \"degree\": 7, \"node_size\": 10, \"color\": \"rgba(256, 235, 0, 1.0)\", \"title\": \"Sirt1<br/>heat = 0.0012\", \"border_width\": 0, \"id\": \"Sirt1\", \"y\": 433.02265212937016}, {\"node_label\": \"Ngef\", \"node_shape\": \"triangle\", \"x\": 366.07501647301103, \"degree\": 1, \"node_size\": 10, \"color\": \"rgba(256, 103, 0, 1.0)\", \"title\": \"Ngef<br/>heat = 0.00461\", \"border_width\": 2, \"id\": \"Ngef\", \"y\": 950.0703681350067}, {\"node_label\": \"Lipg\", \"node_shape\": \"triangle\", \"x\": 783.9916798502322, \"degree\": 1, \"node_size\": 10, \"color\": \"rgba(256, 134, 0, 1.0)\", \"title\": \"Lipg<br/>heat = 0.00335\", \"border_width\": 2, \"id\": \"Lipg\", \"y\": 899.4469342997296}, {\"node_label\": \"Bhlhe41\", \"node_shape\": \"triangle\", \"x\": 339.00856071154834, \"degree\": 3, \"node_size\": 10, \"color\": \"rgba(256, 133, 0, 1.0)\", \"title\": \"Bhlhe41<br/>heat = 0.00341\", \"border_width\": 2, \"id\": \"Bhlhe41\", \"y\": 86.26875660308146}, {\"node_label\": \"Pla2g12a\", \"node_shape\": \"triangle\", \"x\": 962.6204519389945, \"degree\": 1, \"node_size\": 10, \"color\": \"rgba(256, 128, 0, 1.0)\", \"title\": \"Pla2g12a<br/>heat = 0.00357\", \"border_width\": 2, \"id\": \"Pla2g12a\", \"y\": 679.6291485620856}, {\"node_label\": \"Actb\", \"node_shape\": \"triangle\", \"x\": 829.1158335570242, \"degree\": 6, \"node_size\": 10, \"color\": \"rgba(256, 128, 0, 1.0)\", \"title\": \"Actb<br/>heat = 0.00355\", \"border_width\": 2, \"id\": \"Actb\", \"y\": 423.1749880539703}, {\"node_label\": \"Me1\", \"node_shape\": \"triangle\", \"x\": 965.6951023260514, \"degree\": 1, \"node_size\": 10, \"color\": \"rgba(256, 114, 0, 1.0)\", \"title\": \"Me1<br/>heat = 0.0041\", \"border_width\": 2, \"id\": \"Me1\", \"y\": 601.6337432638862}, {\"node_label\": \"Dbp\", \"node_shape\": \"triangle\", \"x\": 476.3396683182394, \"degree\": 2, \"node_size\": 10, \"color\": \"rgba(256, 130, 0, 1.0)\", \"title\": \"Dbp<br/>heat = 0.00348\", \"border_width\": 2, \"id\": \"Dbp\", \"y\": 26.744607666212687}, {\"node_label\": \"Acox1\", \"node_shape\": \"dot\", \"x\": 878.2981959222546, \"degree\": 2, \"node_size\": 10, \"color\": \"rgba(256, 186, 0, 1.0)\", \"title\": \"Acox1<br/>heat = 0.00198\", \"border_width\": 0, \"id\": \"Acox1\", \"y\": 694.185393662482}, {\"node_label\": \"Ctsf\", \"node_shape\": \"triangle\", \"x\": 527.3208036567403, \"degree\": 1, \"node_size\": 10, \"color\": \"rgba(256, 134, 0, 1.0)\", \"title\": \"Ctsf<br/>heat = 0.00337\", \"border_width\": 2, \"id\": \"Ctsf\", \"y\": 17.876124062771005}, {\"node_label\": \"Arpc3\", \"node_shape\": \"dot\", \"x\": 952.2172547110804, \"degree\": 1, \"node_size\": 10, \"color\": \"rgba(256, 253, 0, 1.0)\", \"title\": \"Arpc3<br/>heat = 0.001\", \"border_width\": 0, \"id\": \"Arpc3\", \"y\": 339.65439596915087}, {\"node_label\": \"Cyct\", \"node_shape\": \"dot\", \"x\": 830.5069437856143, \"degree\": 2, \"node_size\": 10, \"color\": \"rgba(256, 186, 0, 1.0)\", \"title\": \"Cyct<br/>heat = 0.00198\", \"border_width\": 0, \"id\": \"Cyct\", \"y\": 237.87837298708757}, {\"node_label\": \"Chrnb2\", \"node_shape\": \"triangle\", \"x\": 319.08022757905377, \"degree\": 1, \"node_size\": 10, \"color\": \"rgba(256, 132, 0, 1.0)\", \"title\": \"Chrnb2<br/>heat = 0.00341\", \"border_width\": 2, \"id\": \"Chrnb2\", \"y\": 958.6513513376331}, {\"node_label\": \"Epha1\", \"node_shape\": \"triangle\", \"x\": 349.0732723285305, \"degree\": 3, \"node_size\": 10, \"color\": \"rgba(256, 94, 0, 1.0)\", \"title\": \"Epha1<br/>heat = 0.00502\", \"border_width\": 2, \"id\": \"Epha1\", \"y\": 659.0787513807617}, {\"node_label\": \"Hmgcs1\", \"node_shape\": \"triangle\", \"x\": 59.953823022398, \"degree\": 1, \"node_size\": 10, \"color\": \"rgba(256, 131, 0, 1.0)\", \"title\": \"Hmgcs1<br/>heat = 0.00347\", \"border_width\": 2, \"id\": \"Hmgcs1\", \"y\": 248.17076787690328}, {\"node_label\": \"Bcl2l11\", \"node_shape\": \"triangle\", \"x\": 599.9786646583017, \"degree\": 3, \"node_size\": 10, \"color\": \"rgba(256, 133, 0, 1.0)\", \"title\": \"Bcl2l11<br/>heat = 0.00338\", \"border_width\": 2, \"id\": \"Bcl2l11\", \"y\": 638.3669429199667}, {\"node_label\": \"Diaph3\", \"node_shape\": \"dot\", \"x\": 809.7445748564442, \"degree\": 1, \"node_size\": 10, \"color\": \"rgba(256, 139, 0, 1.0)\", \"title\": \"Diaph3<br/>heat = 0.00319\", \"border_width\": 0, \"id\": \"Diaph3\", \"y\": 880.8966032692448}, {\"node_label\": \"Chrna4\", \"node_shape\": \"triangle\", \"x\": 167.2836256405826, \"degree\": 1, \"node_size\": 10, \"color\": \"rgba(256, 131, 0, 1.0)\", \"title\": \"Chrna4<br/>heat = 0.00348\", \"border_width\": 2, \"id\": \"Chrna4\", \"y\": 864.8247508745399}, {\"node_label\": \"Agtr2\", \"node_shape\": \"dot\", \"x\": 0.0, \"degree\": 1, \"node_size\": 10, \"color\": \"rgba(256, 192, 0, 1.0)\", \"title\": \"Agtr2<br/>heat = 0.00187\", \"border_width\": 0, \"id\": \"Agtr2\", \"y\": 451.1183521902007}, {\"node_label\": \"Serpine1\", \"node_shape\": \"triangle\", \"x\": 147.29418018309715, \"degree\": 6, \"node_size\": 10, \"color\": \"rgba(256, 134, 0, 1.0)\", \"title\": \"Serpine1<br/>heat = 0.00335\", \"border_width\": 2, \"id\": \"Serpine1\", \"y\": 392.10665597058323}, {\"node_label\": \"Serpine2\", \"node_shape\": \"dot\", \"x\": 27.21474672770011, \"degree\": 4, \"node_size\": 10, \"color\": \"rgba(256, 79, 0, 1.0)\", \"title\": \"Serpine2<br/>heat = 0.00589\", \"border_width\": 0, \"id\": \"Serpine2\", \"y\": 372.7509444061381}, {\"node_label\": \"Arntl\", \"node_shape\": \"triangle\", \"x\": 514.3066734871686, \"degree\": 11, \"node_size\": 10, \"color\": \"rgba(256, 76, 0, 1.0)\", \"title\": \"Arntl<br/>heat = 0.00607\", \"border_width\": 2, \"id\": \"Arntl\", \"y\": 198.72536233684312}, {\"node_label\": \"Abcb1b\", \"node_shape\": \"dot\", \"x\": 173.9729084512405, \"degree\": 1, \"node_size\": 10, \"color\": \"rgba(256, 256, 0, 1.0)\", \"title\": \"Abcb1b<br/>heat = 0.00098\", \"border_width\": 0, \"id\": \"Abcb1b\", \"y\": 112.8580319723372}, {\"node_label\": \"Abcb1a\", \"node_shape\": \"triangle\", \"x\": 267.14203273033405, \"degree\": 3, \"node_size\": 10, \"color\": \"rgba(256, 134, 0, 1.0)\", \"title\": \"Abcb1a<br/>heat = 0.00335\", \"border_width\": 2, \"id\": \"Abcb1a\", \"y\": 247.53408841290997}, {\"node_label\": \"Ppp1r15a\", \"node_shape\": \"dot\", \"x\": 7.540626951559173, \"degree\": 1, \"node_size\": 10, \"color\": \"rgba(256, 66, 0, 1.0)\", \"title\": \"Ppp1r15a<br/>heat = 0.00667\", \"border_width\": 0, \"id\": \"Ppp1r15a\", \"y\": 413.01342742723466}, {\"node_label\": \"Acss2\", \"node_shape\": \"triangle\", \"x\": 112.14788803884417, \"degree\": 2, \"node_size\": 10, \"color\": \"rgba(256, 129, 0, 1.0)\", \"title\": \"Acss2<br/>heat = 0.00353\", \"border_width\": 2, \"id\": \"Acss2\", \"y\": 304.9298800223676}, {\"node_label\": \"Srebf1\", \"node_shape\": \"dot\", \"x\": 102.23406536461226, \"degree\": 5, \"node_size\": 10, \"color\": \"rgba(256, 213, 0, 1.0)\", \"title\": \"Srebf1<br/>heat = 0.0015\", \"border_width\": 0, \"id\": \"Srebf1\", \"y\": 189.96520556656978}, {\"node_label\": \"Isg15\", \"node_shape\": \"triangle\", \"x\": 367.78696441786275, \"degree\": 1, \"node_size\": 10, \"color\": \"rgba(256, 134, 0, 1.0)\", \"title\": \"Isg15<br/>heat = 0.00337\", \"border_width\": 2, \"id\": \"Isg15\", \"y\": 21.808213704564842}, {\"node_label\": \"Pml\", \"node_shape\": \"triangle\", \"x\": 276.859018038897, \"degree\": 2, \"node_size\": 10, \"color\": \"rgba(256, 133, 0, 1.0)\", \"title\": \"Pml<br/>heat = 0.00341\", \"border_width\": 2, \"id\": \"Pml\", \"y\": 395.32984578333014}, {\"node_label\": \"App\", \"node_shape\": \"dot\", \"x\": 704.057714677042, \"degree\": 1, \"node_size\": 10, \"color\": \"rgba(256, 183, 0, 1.0)\", \"title\": \"App<br/>heat = 0.00205\", \"border_width\": 0, \"id\": \"App\", \"y\": 43.36147069920459}, {\"node_label\": \"Casp6\", \"node_shape\": \"triangle\", \"x\": 576.3410994795371, \"degree\": 4, \"node_size\": 10, \"color\": \"rgba(256, 53, 0, 1.0)\", \"title\": \"Casp6<br/>heat = 0.00761\", \"border_width\": 2, \"id\": \"Casp6\", \"y\": 193.3426296631478}, {\"node_label\": \"Npas2\", \"node_shape\": \"triangle\", \"x\": 566.5510741427886, \"degree\": 7, \"node_size\": 10, \"color\": \"rgba(256, 134, 0, 1.0)\", \"title\": \"Npas2<br/>heat = 0.00336\", \"border_width\": 2, \"id\": \"Npas2\", \"y\": 65.42733591471057}, {\"node_label\": \"Brk1\", \"node_shape\": \"dot\", \"x\": 518.266938212849, \"degree\": 1, \"node_size\": 10, \"color\": \"rgba(256, 183, 0, 1.0)\", \"title\": \"Brk1<br/>heat = 0.00204\", \"border_width\": 0, \"id\": \"Brk1\", \"y\": 984.1225761510508}, {\"node_label\": \"Capn2\", \"node_shape\": \"triangle\", \"x\": 990.9756556878169, \"degree\": 1, \"node_size\": 10, \"color\": \"rgba(256, 131, 0, 1.0)\", \"title\": \"Capn2<br/>heat = 0.00345\", \"border_width\": 2, \"id\": \"Capn2\", \"y\": 458.3440818119469}, {\"node_label\": \"Dusp1\", \"node_shape\": \"triangle\", \"x\": 730.8348281705686, \"degree\": 4, \"node_size\": 10, \"color\": \"rgba(256, 134, 0, 1.0)\", \"title\": \"Dusp1<br/>heat = 0.00337\", \"border_width\": 2, \"id\": \"Dusp1\", \"y\": 334.7018312030939}, {\"node_label\": \"Ripk1\", \"node_shape\": \"dot\", \"x\": 849.1607056695996, \"degree\": 2, \"node_size\": 10, \"color\": \"rgba(256, 83, 0, 1.0)\", \"title\": \"Ripk1<br/>heat = 0.00562\", \"border_width\": 0, \"id\": \"Ripk1\", \"y\": 137.0340154517532}, {\"node_label\": \"Ripk2\", \"node_shape\": \"triangle\", \"x\": 1000.0, \"degree\": 1, \"node_size\": 10, \"color\": \"rgba(256, 131, 0, 1.0)\", \"title\": \"Ripk2<br/>heat = 0.00346\", \"border_width\": 2, \"id\": \"Ripk2\", \"y\": 473.9735516268034}, {\"node_label\": \"Acaca\", \"node_shape\": \"triangle\", \"x\": 35.04429334228523, \"degree\": 1, \"node_size\": 10, \"color\": \"rgba(256, 122, 0, 1.0)\", \"title\": \"Acaca<br/>heat = 0.00379\", \"border_width\": 2, \"id\": \"Acaca\", \"y\": 299.47010642759875}, {\"node_label\": \"Il23a\", \"node_shape\": \"dot\", \"x\": 443.8497216207051, \"degree\": 1, \"node_size\": 10, \"color\": \"rgba(256, 108, 0, 1.0)\", \"title\": \"Il23a<br/>heat = 0.00439\", \"border_width\": 0, \"id\": \"Il23a\", \"y\": 955.0218045482203}, {\"node_label\": \"Trp53\", \"node_shape\": \"dot\", \"x\": 386.50524843709246, \"degree\": 17, \"node_size\": 10, \"color\": \"rgba(256, 76, 0, 1.0)\", \"title\": \"Trp53<br/>heat = 0.00606\", \"border_width\": 0, \"id\": \"Trp53\", \"y\": 323.5067723868556}, {\"node_label\": \"Camk4\", \"node_shape\": \"triangle\", \"x\": 842.2008704433994, \"degree\": 4, \"node_size\": 10, \"color\": \"rgba(256, 132, 0, 1.0)\", \"title\": \"Camk4<br/>heat = 0.00343\", \"border_width\": 2, \"id\": \"Camk4\", \"y\": 853.7348831644947}, {\"node_label\": \"Ugcg\", \"node_shape\": \"triangle\", \"x\": 125.86309337849846, \"degree\": 1, \"node_size\": 10, \"color\": \"rgba(256, 133, 0, 1.0)\", \"title\": \"Ugcg<br/>heat = 0.0034\", \"border_width\": 2, \"id\": \"Ugcg\", \"y\": 810.1734275472928}, {\"node_label\": \"Cry2\", \"node_shape\": \"triangle\", \"x\": 647.1277172192051, \"degree\": 2, \"node_size\": 10, \"color\": \"rgba(256, 124, 0, 1.0)\", \"title\": \"Cry2<br/>heat = 0.00371\", \"border_width\": 2, \"id\": \"Cry2\", \"y\": 13.974754779457385}, {\"node_label\": \"Rapgef4\", \"node_shape\": \"dot\", \"x\": 541.8711238618225, \"degree\": 1, \"node_size\": 10, \"color\": \"rgba(256, 243, 0, 1.0)\", \"title\": \"Rapgef4<br/>heat = 0.00111\", \"border_width\": 0, \"id\": \"Rapgef4\", \"y\": 992.2454412898093}, {\"node_label\": \"Dok1\", \"node_shape\": \"dot\", \"x\": 952.6238227755925, \"degree\": 1, \"node_size\": 10, \"color\": \"rgba(256, 176, 0, 1.0)\", \"title\": \"Dok1<br/>heat = 0.00219\", \"border_width\": 0, \"id\": \"Dok1\", \"y\": 286.1008423543713}, {\"node_label\": \"Jak2\", \"node_shape\": \"dot\", \"x\": 275.1779317003556, \"degree\": 4, \"node_size\": 10, \"color\": \"rgba(256, 191, 0, 1.0)\", \"title\": \"Jak2<br/>heat = 0.00188\", \"border_width\": 0, \"id\": \"Jak2\", \"y\": 888.7908478746867}, {\"node_label\": \"Lasp1\", \"node_shape\": \"triangle\", \"x\": 410.5744723916173, \"degree\": 1, \"node_size\": 10, \"color\": \"rgba(256, 121, 0, 1.0)\", \"title\": \"Lasp1<br/>heat = 0.00384\", \"border_width\": 2, \"id\": \"Lasp1\", \"y\": 20.579026853299883}, {\"node_label\": \"Rsad2\", \"node_shape\": \"triangle\", \"x\": 568.9950864437624, \"degree\": 1, \"node_size\": 10, \"color\": \"rgba(256, 131, 0, 1.0)\", \"title\": \"Rsad2<br/>heat = 0.00348\", \"border_width\": 2, \"id\": \"Rsad2\", \"y\": 986.4655532182106}], [{\"color\": \"rgba(256, 168, 0, 1.0)\", \"source\": 0, \"target\": 41}, {\"color\": \"rgba(256, 237, 0, 1.0)\", \"source\": 0, \"target\": 24}, {\"color\": \"rgba(256, 233, 0, 1.0)\", \"source\": 1, \"target\": 43}, {\"color\": \"rgba(256, 144, 0, 1.0)\", \"source\": 2, \"target\": 85}, {\"color\": \"rgba(256, 254, 0, 1.0)\", \"source\": 64, \"target\": 65}, {\"color\": \"rgba(256, 143, 0, 1.0)\", \"source\": 3, \"target\": 67}, {\"color\": \"rgba(256, 231, 0, 1.0)\", \"source\": 3, \"target\": 9}, {\"color\": \"rgba(256, 231, 0, 1.0)\", \"source\": 3, \"target\": 77}, {\"color\": \"rgba(256, 144, 0, 1.0)\", \"source\": 4, \"target\": 85}, {\"color\": \"rgba(256, 201, 0, 1.0)\", \"source\": 5, \"target\": 9}, {\"color\": \"rgba(256, 247, 0, 1.0)\", \"source\": 6, \"target\": 93}, {\"color\": \"rgba(256, 250, 0, 1.0)\", \"source\": 6, \"target\": 40}, {\"color\": \"rgba(256, 158, 0, 1.0)\", \"source\": 7, \"target\": 81}, {\"color\": \"rgba(256, 256, 0, 1.0)\", \"source\": 7, \"target\": 57}, {\"color\": \"rgba(256, 256, 0, 1.0)\", \"source\": 7, \"target\": 38}, {\"color\": \"rgba(256, 253, 0, 1.0)\", \"source\": 7, \"target\": 55}, {\"color\": \"rgba(256, 144, 0, 1.0)\", \"source\": 7, \"target\": 85}, {\"color\": \"rgba(256, 250, 0, 1.0)\", \"source\": 8, \"target\": 40}, {\"color\": \"rgba(256, 143, 0, 1.0)\", \"source\": 9, \"target\": 67}, {\"color\": \"rgba(256, 256, 0, 1.0)\", \"source\": 9, \"target\": 46}, {\"color\": \"rgba(256, 256, 0, 1.0)\", \"source\": 9, \"target\": 57}, {\"color\": \"rgba(256, 256, 0, 1.0)\", \"source\": 9, \"target\": 54}, {\"color\": \"rgba(256, 256, 0, 1.0)\", \"source\": 9, \"target\": 13}, {\"color\": \"rgba(256, 216, 0, 1.0)\", \"source\": 9, \"target\": 52}, {\"color\": \"rgba(256, 168, 0, 1.0)\", \"source\": 11, \"target\": 41}, {\"color\": \"rgba(256, 246, 0, 1.0)\", \"source\": 12, \"target\": 17}, {\"color\": \"rgba(256, 246, 0, 1.0)\", \"source\": 12, \"target\": 86}, {\"color\": \"rgba(256, 56, 0, 1.0)\", \"source\": 14, \"target\": 35}, {\"color\": \"rgba(256, 203, 0, 1.0)\", \"source\": 14, \"target\": 36}, {\"color\": \"rgba(256, 168, 0, 1.0)\", \"source\": 15, \"target\": 41}, {\"color\": \"rgba(256, 144, 0, 1.0)\", \"source\": 16, \"target\": 85}, {\"color\": \"rgba(256, 253, 0, 1.0)\", \"source\": 17, \"target\": 61}, {\"color\": \"rgba(256, 250, 0, 1.0)\", \"source\": 17, \"target\": 40}, {\"color\": \"rgba(256, 242, 0, 1.0)\", \"source\": 17, \"target\": 50}, {\"color\": \"rgba(256, 249, 0, 1.0)\", \"source\": 17, \"target\": 79}, {\"color\": \"rgba(256, 253, 0, 1.0)\", \"source\": 17, \"target\": 80}, {\"color\": \"rgba(256, 253, 0, 1.0)\", \"source\": 18, \"target\": 80}, {\"color\": \"rgba(256, 144, 0, 1.0)\", \"source\": 37, \"target\": 85}, {\"color\": \"rgba(256, 243, 0, 1.0)\", \"source\": 20, \"target\": 51}, {\"color\": \"rgba(256, 56, 0, 1.0)\", \"source\": 21, \"target\": 35}, {\"color\": \"rgba(256, 108, 0, 1.0)\", \"source\": 21, \"target\": 24}, {\"color\": \"rgba(256, 108, 0, 1.0)\", \"source\": 21, \"target\": 36}, {\"color\": \"rgba(256, 144, 0, 1.0)\", \"source\": 22, \"target\": 85}, {\"color\": \"rgba(256, 243, 0, 1.0)\", \"source\": 23, \"target\": 51}, {\"color\": \"rgba(256, 237, 0, 1.0)\", \"source\": 24, \"target\": 29}, {\"color\": \"rgba(256, 18, 0, 1.0)\", \"source\": 24, \"target\": 39}, {\"color\": \"rgba(256, 237, 0, 1.0)\", \"source\": 24, \"target\": 40}, {\"color\": \"rgba(256, 144, 0, 1.0)\", \"source\": 24, \"target\": 85}, {\"color\": \"rgba(256, 179, 0, 1.0)\", \"source\": 24, \"target\": 59}, {\"color\": \"rgba(256, 216, 0, 1.0)\", \"source\": 24, \"target\": 36}, {\"color\": \"rgba(256, 253, 0, 1.0)\", \"source\": 25, \"target\": 61}, {\"color\": \"rgba(256, 101, 0, 1.0)\", \"source\": 26, \"target\": 76}, {\"color\": \"rgba(256, 253, 0, 1.0)\", \"source\": 27, \"target\": 89}, {\"color\": \"rgba(256, 250, 0, 1.0)\", \"source\": 27, \"target\": 86}, {\"color\": \"rgba(256, 143, 0, 1.0)\", \"source\": 28, \"target\": 67}, {\"color\": \"rgba(256, 231, 0, 1.0)\", \"source\": 28, \"target\": 51}, {\"color\": \"rgba(256, 239, 0, 1.0)\", \"source\": 30, \"target\": 65}, {\"color\": \"rgba(256, 149, 0, 1.0)\", \"source\": 30, \"target\": 66}, {\"color\": \"rgba(256, 143, 0, 1.0)\", \"source\": 31, \"target\": 67}, {\"color\": \"rgba(256, 232, 0, 1.0)\", \"source\": 31, \"target\": 65}, {\"color\": \"rgba(256, 149, 0, 1.0)\", \"source\": 31, \"target\": 66}, {\"color\": \"rgba(256, 136, 0, 1.0)\", \"source\": 32, \"target\": 81}, {\"color\": \"rgba(256, 136, 0, 1.0)\", \"source\": 32, \"target\": 82}, {\"color\": \"rgba(256, 250, 0, 1.0)\", \"source\": 33, \"target\": 40}, {\"color\": \"rgba(256, 250, 0, 1.0)\", \"source\": 34, \"target\": 86}, {\"color\": \"rgba(256, 256, 0, 1.0)\", \"source\": 19, \"target\": 78}, {\"color\": \"rgba(256, 243, 0, 1.0)\", \"source\": 19, \"target\": 51}, {\"color\": \"rgba(256, 256, 0, 1.0)\", \"source\": 19, \"target\": 62}, {\"color\": \"rgba(256, 204, 0, 1.0)\", \"source\": 40, \"target\": 84}, {\"color\": \"rgba(256, 144, 0, 1.0)\", \"source\": 40, \"target\": 85}, {\"color\": \"rgba(256, 250, 0, 1.0)\", \"source\": 40, \"target\": 91}, {\"color\": \"rgba(256, 143, 0, 1.0)\", \"source\": 41, \"target\": 67}, {\"color\": \"rgba(256, 168, 0, 1.0)\", \"source\": 41, \"target\": 46}, {\"color\": \"rgba(256, 144, 0, 1.0)\", \"source\": 41, \"target\": 85}, {\"color\": \"rgba(256, 126, 0, 1.0)\", \"source\": 41, \"target\": 70}, {\"color\": \"rgba(256, 143, 0, 1.0)\", \"source\": 42, \"target\": 67}, {\"color\": \"rgba(256, 253, 0, 1.0)\", \"source\": 42, \"target\": 77}, {\"color\": \"rgba(256, 143, 0, 1.0)\", \"source\": 43, \"target\": 67}, {\"color\": \"rgba(256, 233, 0, 1.0)\", \"source\": 43, \"target\": 77}, {\"color\": \"rgba(256, 250, 0, 1.0)\", \"source\": 44, \"target\": 86}, {\"color\": \"rgba(256, 149, 0, 1.0)\", \"source\": 45, \"target\": 66}, {\"color\": \"rgba(256, 254, 0, 1.0)\", \"source\": 46, \"target\": 69}, {\"color\": \"rgba(256, 253, 0, 1.0)\", \"source\": 46, \"target\": 61}, {\"color\": \"rgba(256, 245, 0, 1.0)\", \"source\": 46, \"target\": 71}, {\"color\": \"rgba(256, 251, 0, 1.0)\", \"source\": 46, \"target\": 74}, {\"color\": \"rgba(256, 254, 0, 1.0)\", \"source\": 46, \"target\": 65}, {\"color\": \"rgba(256, 179, 0, 1.0)\", \"source\": 47, \"target\": 59}, {\"color\": \"rgba(256, 254, 0, 1.0)\", \"source\": 48, \"target\": 54}, {\"color\": \"rgba(256, 143, 0, 1.0)\", \"source\": 49, \"target\": 67}, {\"color\": \"rgba(256, 251, 0, 1.0)\", \"source\": 49, \"target\": 72}, {\"color\": \"rgba(256, 251, 0, 1.0)\", \"source\": 49, \"target\": 77}, {\"color\": \"rgba(256, 101, 0, 1.0)\", \"source\": 75, \"target\": 76}, {\"color\": \"rgba(256, 101, 0, 1.0)\", \"source\": 51, \"target\": 76}, {\"color\": \"rgba(256, 243, 0, 1.0)\", \"source\": 51, \"target\": 56}, {\"color\": \"rgba(256, 143, 0, 1.0)\", \"source\": 53, \"target\": 67}, {\"color\": \"rgba(256, 247, 0, 1.0)\", \"source\": 53, \"target\": 77}, {\"color\": \"rgba(256, 0, 0, 1.0)\", \"source\": 10, \"target\": 72}, {\"color\": \"rgba(256, 251, 0, 1.0)\", \"source\": 58, \"target\": 91}, {\"color\": \"rgba(256, 144, 0, 1.0)\", \"source\": 59, \"target\": 85}, {\"color\": \"rgba(256, 247, 0, 1.0)\", \"source\": 60, \"target\": 72}, {\"color\": \"rgba(256, 247, 0, 1.0)\", \"source\": 63, \"target\": 91}, {\"color\": \"rgba(256, 144, 0, 1.0)\", \"source\": 65, \"target\": 85}, {\"color\": \"rgba(256, 149, 0, 1.0)\", \"source\": 65, \"target\": 66}, {\"color\": \"rgba(256, 143, 0, 1.0)\", \"source\": 67, \"target\": 88}, {\"color\": \"rgba(256, 143, 0, 1.0)\", \"source\": 67, \"target\": 77}, {\"color\": \"rgba(256, 254, 0, 1.0)\", \"source\": 68, \"target\": 69}, {\"color\": \"rgba(256, 144, 0, 1.0)\", \"source\": 69, \"target\": 85}, {\"color\": \"rgba(256, 245, 0, 1.0)\", \"source\": 71, \"target\": 72}, {\"color\": \"rgba(256, 231, 0, 1.0)\", \"source\": 72, \"target\": 83}, {\"color\": \"rgba(256, 144, 0, 1.0)\", \"source\": 73, \"target\": 85}, {\"color\": \"rgba(256, 144, 0, 1.0)\", \"source\": 74, \"target\": 85}, {\"color\": \"rgba(256, 101, 0, 1.0)\", \"source\": 76, \"target\": 85}, {\"color\": \"rgba(256, 235, 0, 1.0)\", \"source\": 77, \"target\": 88}, {\"color\": \"rgba(256, 253, 0, 1.0)\", \"source\": 80, \"target\": 90}, {\"color\": \"rgba(256, 144, 0, 1.0)\", \"source\": 80, \"target\": 85}, {\"color\": \"rgba(256, 144, 0, 1.0)\", \"source\": 85, \"target\": 92}, {\"color\": \"rgba(256, 251, 0, 1.0)\", \"source\": 87, \"target\": 91}]);}</script><iframe name=\"style_file0\" src=\"style_file0.html\" width=\"100%;\" height=\"805px\"></iframe></body></html>"
      ],
      "text/plain": [
       "<IPython.core.display.HTML object>"
      ]
     },
     "execution_count": 56,
     "metadata": {},
     "output_type": "execute_result"
    }
   ],
   "source": [
    "G_heat = nx.Graph(G_DEG)\n",
    "seed_nodes = [n for n in DEG_list if n in G_DEG]\n",
    "Wprime = visualizations.normalized_adj_matrix(G_DEG)\n",
    "visualizations.draw_heat_prop(G_heat,\n",
    "              seed_nodes,\n",
    "              Wprime = Wprime,\n",
    "              num_nodes = 200,\n",
    "              edge_width=2,\n",
    "              edge_smooth_enabled=True,\n",
    "              edge_smooth_type='bezier',\n",
    "              node_size_multiplier=5,\n",
    "              hover = False,\n",
    "              hover_connected_edges = False,\n",
    "              largest_connected_component = True,\n",
    "              physics_enabled=True,\n",
    "              node_font_size=40)  "
   ]
  },
  {
   "cell_type": "markdown",
   "metadata": {},
   "source": [
    "## Clustering "
   ]
  },
  {
   "cell_type": "code",
   "execution_count": 76,
   "metadata": {},
   "outputs": [],
   "source": [
    "# find hottest genes\n",
    "Fnew = visualizations.network_propagation(G,Wprime,seed_nodes,alpha=.5, num_its=20)\n",
    "top_genes = Fnew.sort_values(ascending=False)[0:500].index\n",
    "G_top_genes = DG_universe.subgraph(top_genes)"
   ]
  },
  {
   "cell_type": "code",
   "execution_count": 78,
   "metadata": {},
   "outputs": [],
   "source": [
    "# cluster hottest genes\n",
    "G_top_genes = nx.Graph(G_top_genes)\n",
    "node_to_cluster = community.best_partition(G_top_genes)"
   ]
  },
  {
   "cell_type": "code",
   "execution_count": 88,
   "metadata": {},
   "outputs": [],
   "source": [
    "# position based on cluster\n",
    "pos = nx.spring_layout(G_top_genes)\n",
    "bias_position_by_partition(pos,node_to_cluster,r=1.0); # modifies pos in place"
   ]
  },
  {
   "cell_type": "code",
   "execution_count": 91,
   "metadata": {},
   "outputs": [],
   "source": [
    "# color based on cluster\n",
    "node_to_color = assign_colors_to_clusters(node_to_cluster, cluster_size_cut_off = 20, color_list = None)"
   ]
  },
  {
   "cell_type": "code",
   "execution_count": null,
   "metadata": {
    "collapsed": true
   },
   "outputs": [],
   "source": []
  },
  {
   "cell_type": "code",
   "execution_count": null,
   "metadata": {
    "collapsed": true
   },
   "outputs": [],
   "source": []
  },
  {
   "cell_type": "code",
   "execution_count": null,
   "metadata": {
    "collapsed": true
   },
   "outputs": [],
   "source": []
  },
  {
   "cell_type": "code",
   "execution_count": null,
   "metadata": {
    "collapsed": true
   },
   "outputs": [],
   "source": []
  },
  {
   "cell_type": "code",
   "execution_count": null,
   "metadata": {
    "collapsed": true
   },
   "outputs": [],
   "source": []
  },
  {
   "cell_type": "code",
   "execution_count": null,
   "metadata": {
    "collapsed": true
   },
   "outputs": [],
   "source": []
  },
  {
   "cell_type": "code",
   "execution_count": null,
   "metadata": {
    "collapsed": true
   },
   "outputs": [],
   "source": []
  },
  {
   "cell_type": "code",
   "execution_count": null,
   "metadata": {
    "collapsed": true
   },
   "outputs": [],
   "source": []
  },
  {
   "cell_type": "code",
   "execution_count": null,
   "metadata": {
    "collapsed": true
   },
   "outputs": [],
   "source": []
  },
  {
   "cell_type": "code",
   "execution_count": null,
   "metadata": {
    "collapsed": true
   },
   "outputs": [],
   "source": []
  },
  {
   "cell_type": "code",
   "execution_count": null,
   "metadata": {
    "collapsed": true
   },
   "outputs": [],
   "source": []
  },
  {
   "cell_type": "code",
   "execution_count": null,
   "metadata": {
    "collapsed": true
   },
   "outputs": [],
   "source": []
  },
  {
   "cell_type": "code",
   "execution_count": null,
   "metadata": {
    "collapsed": true
   },
   "outputs": [],
   "source": []
  },
  {
   "cell_type": "code",
   "execution_count": null,
   "metadata": {
    "collapsed": true
   },
   "outputs": [],
   "source": []
  },
  {
   "cell_type": "code",
   "execution_count": 18,
   "metadata": {},
   "outputs": [
    {
     "data": {
      "text/html": [
       "<!doctype html><html><head>  <title>Network | Basic usage</title></head><body><script type=\"text/javascript\">function setUpFrame() {     var frame = window.frames[\"style_file111\"];    frame.runVis([{\"node_label\": \"Dnmt3b\", \"border_width\": 0, \"node_shape\": \"triangle\", \"y\": 622.9409502496183, \"degree\": 2, \"node_size\": 10, \"color\": \"#ff0044\", \"x\": 769.8885716909659, \"title\": \"Dnmt3b<br/>cluster = 0\", \"id\": \"Dnmt3b\"}, {\"node_label\": \"\", \"border_width\": 0, \"node_shape\": \"dot\", \"y\": 804.6121192993761, \"degree\": 1, \"node_size\": 10, \"color\": \"#a300cc\", \"x\": 894.8094692816838, \"title\": \"Rbm4<br/>cluster = 1\", \"id\": \"Rbm4\"}, {\"node_label\": \"Rnf144b\", \"border_width\": 0, \"node_shape\": \"triangle\", \"y\": 31.16340401688029, \"degree\": 1, \"node_size\": 10, \"color\": \"#3000b3\", \"x\": 501.79050922976853, \"title\": \"Rnf144b<br/>cluster = 2\", \"id\": \"Rnf144b\"}, {\"node_label\": \"Nr1d1\", \"border_width\": 0, \"node_shape\": \"triangle\", \"y\": 862.3836273726439, \"degree\": 3, \"node_size\": 10, \"color\": \"#a300cc\", \"x\": 641.2627961744505, \"title\": \"Nr1d1<br/>cluster = 1\", \"id\": \"Nr1d1\"}, {\"node_label\": \"Bcl6b\", \"border_width\": 0, \"node_shape\": \"triangle\", \"y\": 33.52383119274289, \"degree\": 1, \"node_size\": 10, \"color\": \"#3000b3\", \"x\": 452.52680419006856, \"title\": \"Bcl6b<br/>cluster = 2\", \"id\": \"Bcl6b\"}, {\"node_label\": \"Cpt1a\", \"border_width\": 0, \"node_shape\": \"triangle\", \"y\": 895.6198338525973, \"degree\": 1, \"node_size\": 10, \"color\": \"#000c59\", \"x\": 213.49689874329692, \"title\": \"Cpt1a<br/>cluster = 3\", \"id\": \"Cpt1a\"}, {\"node_label\": \"\", \"border_width\": 0, \"node_shape\": \"dot\", \"y\": 280.75291289313657, \"degree\": 2, \"node_size\": 10, \"color\": \"#00d9ca\", \"x\": 937.8769373093827, \"title\": \"Irf1<br/>cluster = 4\", \"id\": \"Irf1\"}, {\"node_label\": \"Bid\", \"border_width\": 0, \"node_shape\": \"triangle\", \"y\": 347.8050946616309, \"degree\": 5, \"node_size\": 10, \"color\": \"#000c59\", \"x\": 189.19900245127135, \"title\": \"Bid<br/>cluster = 3\", \"id\": \"Bid\"}, {\"node_label\": \"\", \"border_width\": 0, \"node_shape\": \"dot\", \"y\": 190.39254285975008, \"degree\": 1, \"node_size\": 10, \"color\": \"#00d9ca\", \"x\": 886.3388586934625, \"title\": \"Irf8<br/>cluster = 4\", \"id\": \"Irf8\"}, {\"node_label\": \"Ppargc1a\", \"border_width\": 0, \"node_shape\": \"triangle\", \"y\": 813.6417946234295, \"degree\": 8, \"node_size\": 10, \"color\": \"#000c59\", \"x\": 401.72511614225624, \"title\": \"Ppargc1a<br/>cluster = 3\", \"id\": \"Ppargc1a\"}, {\"node_label\": \"Ppargc1b\", \"border_width\": 0, \"node_shape\": \"triangle\", \"y\": 996.880795235824, \"degree\": 1, \"node_size\": 10, \"color\": \"#ff0044\", \"x\": 500.21002136931435, \"title\": \"Ppargc1b<br/>cluster = 0\", \"id\": \"Ppargc1b\"}, {\"node_label\": \"\", \"border_width\": 0, \"node_shape\": \"dot\", \"y\": 955.9966376860974, \"degree\": 1, \"node_size\": 10, \"color\": \"#ff0044\", \"x\": 682.4986683654807, \"title\": \"Hbp1<br/>cluster = 0\", \"id\": \"Hbp1\"}, {\"node_label\": \"Creb3l3\", \"border_width\": 0, \"node_shape\": \"triangle\", \"y\": 509.7950667825475, \"degree\": 2, \"node_size\": 10, \"color\": \"#004033\", \"x\": 783.6502662810971, \"title\": \"Creb3l3<br/>cluster = 5\", \"id\": \"Creb3l3\"}, {\"node_label\": \"\", \"border_width\": 0, \"node_shape\": \"dot\", \"y\": 982.6110263635771, \"degree\": 1, \"node_size\": 10, \"color\": \"#000c59\", \"x\": 399.4429242354019, \"title\": \"Rpp14<br/>cluster = 3\", \"id\": \"Rpp14\"}, {\"node_label\": \"Avpr1a\", \"border_width\": 0, \"node_shape\": \"triangle\", \"y\": 924.4365488480549, \"degree\": 2, \"node_size\": 10, \"color\": \"#00f281\", \"x\": 759.7187771472197, \"title\": \"Avpr1a<br/>cluster = 6\", \"id\": \"Avpr1a\"}, {\"node_label\": \"\", \"border_width\": 0, \"node_shape\": \"dot\", \"y\": 974.5624044700343, \"degree\": 1, \"node_size\": 10, \"color\": \"#ff0044\", \"x\": 562.7330113722537, \"title\": \"Zbtb17<br/>cluster = 0\", \"id\": \"Zbtb17\"}, {\"node_label\": \"Pcbp4\", \"border_width\": 0, \"node_shape\": \"triangle\", \"y\": 32.613053667335926, \"degree\": 1, \"node_size\": 10, \"color\": \"#3000b3\", \"x\": 568.1699653728809, \"title\": \"Pcbp4<br/>cluster = 2\", \"id\": \"Pcbp4\"}, {\"node_label\": \"\", \"border_width\": 0, \"node_shape\": \"dot\", \"y\": 463.3454907743052, \"degree\": 6, \"node_size\": 10, \"color\": \"#004033\", \"x\": 522.7472082355615, \"title\": \"Mapk1<br/>cluster = 5\", \"id\": \"Mapk1\"}, {\"node_label\": \"\", \"border_width\": 0, \"node_shape\": \"dot\", \"y\": 392.5108043787517, \"degree\": 1, \"node_size\": 10, \"color\": \"#004033\", \"x\": 15.976047795921863, \"title\": \"Nox4<br/>cluster = 5\", \"id\": \"Nox4\"}, {\"node_label\": \"Baiap2\", \"border_width\": 0, \"node_shape\": \"triangle\", \"y\": 171.29070226077457, \"degree\": 3, \"node_size\": 10, \"color\": \"#00660e\", \"x\": 197.60948390553492, \"title\": \"Baiap2<br/>cluster = 7\", \"id\": \"Baiap2\"}, {\"node_label\": \"Rad23b\", \"border_width\": 0, \"node_shape\": \"triangle\", \"y\": 484.5239954449487, \"degree\": 1, \"node_size\": 10, \"color\": \"#00660e\", \"x\": 0.0, \"title\": \"Rad23b<br/>cluster = 7\", \"id\": \"Rad23b\"}, {\"node_label\": \"Plcb1\", \"border_width\": 0, \"node_shape\": \"triangle\", \"y\": 743.5275687811397, \"degree\": 3, \"node_size\": 10, \"color\": \"#00f281\", \"x\": 938.2546573408082, \"title\": \"Plcb1<br/>cluster = 6\", \"id\": \"Plcb1\"}, {\"node_label\": \"Ddit4\", \"border_width\": 0, \"node_shape\": \"triangle\", \"y\": 33.099543042111094, \"degree\": 1, \"node_size\": 10, \"color\": \"#3000b3\", \"x\": 684.1437310838511, \"title\": \"Ddit4<br/>cluster = 2\", \"id\": \"Ddit4\"}, {\"node_label\": \"\", \"border_width\": 0, \"node_shape\": \"dot\", \"y\": 536.7423753519646, \"degree\": 1, \"node_size\": 10, \"color\": \"#00660e\", \"x\": 2.2345095648613293, \"title\": \"Ddb2<br/>cluster = 7\", \"id\": \"Ddb2\"}, {\"node_label\": \"Cxcl12\", \"border_width\": 0, \"node_shape\": \"triangle\", \"y\": 465.78535920635164, \"degree\": 8, \"node_size\": 10, \"color\": \"#00f281\", \"x\": 833.4453751091964, \"title\": \"Cxcl12<br/>cluster = 6\", \"id\": \"Cxcl12\"}, {\"node_label\": \"\", \"border_width\": 0, \"node_shape\": \"dot\", \"y\": 909.7582744785552, \"degree\": 1, \"node_size\": 10, \"color\": \"#004033\", \"x\": 782.84184804602, \"title\": \"Hba-x<br/>cluster = 5\", \"id\": \"Hba-x\"}, {\"node_label\": \"\", \"border_width\": 0, \"node_shape\": \"dot\", \"y\": 256.45084773040196, \"degree\": 1, \"node_size\": 10, \"color\": \"#00660e\", \"x\": 74.38180001514225, \"title\": \"Krt18<br/>cluster = 7\", \"id\": \"Krt18\"}, {\"node_label\": \"Adcy6\", \"border_width\": 0, \"node_shape\": \"triangle\", \"y\": 862.62730351828, \"degree\": 2, \"node_size\": 10, \"color\": \"#004033\", \"x\": 829.590332369811, \"title\": \"Adcy6<br/>cluster = 5\", \"id\": \"Adcy6\"}, {\"node_label\": \"Thra\", \"border_width\": 0, \"node_shape\": \"triangle\", \"y\": 667.6637989899889, \"degree\": 2, \"node_size\": 10, \"color\": \"#00660e\", \"x\": 370.12417740866346, \"title\": \"Thra<br/>cluster = 7\", \"id\": \"Thra\"}, {\"node_label\": \"\", \"border_width\": 0, \"node_shape\": \"dot\", \"y\": 494.0121593918066, \"degree\": 1, \"node_size\": 10, \"color\": \"#00f281\", \"x\": 999.8744830253713, \"title\": \"Cd40lg<br/>cluster = 6\", \"id\": \"Cd40lg\"}, {\"node_label\": \"Hdac11\", \"border_width\": 0, \"node_shape\": \"triangle\", \"y\": 18.61510406053204, \"degree\": 2, \"node_size\": 10, \"color\": \"#88ff00\", \"x\": 650.1513338920769, \"title\": \"Hdac11<br/>cluster = 8\", \"id\": \"Hdac11\"}, {\"node_label\": \"Nr1d2\", \"border_width\": 0, \"node_shape\": \"triangle\", \"y\": 376.5281935551874, \"degree\": 3, \"node_size\": 10, \"color\": \"#88ff00\", \"x\": 695.479183219086, \"title\": \"Nr1d2<br/>cluster = 8\", \"id\": \"Nr1d2\"}, {\"node_label\": \"Tab2\", \"border_width\": 0, \"node_shape\": \"triangle\", \"y\": 150.72197585190906, \"degree\": 2, \"node_size\": 10, \"color\": \"#000c59\", \"x\": 138.19135870204272, \"title\": \"Tab2<br/>cluster = 3\", \"id\": \"Tab2\"}, {\"node_label\": \"\", \"border_width\": 0, \"node_shape\": \"dot\", \"y\": 239.82009460450544, \"degree\": 1, \"node_size\": 10, \"color\": \"#00d9ca\", \"x\": 853.2513450205283, \"title\": \"Lep<br/>cluster = 4\", \"id\": \"Lep\"}, {\"node_label\": \"\", \"border_width\": 0, \"node_shape\": \"dot\", \"y\": 365.1292874705123, \"degree\": 1, \"node_size\": 10, \"color\": \"#004033\", \"x\": 989.1181065861402, \"title\": \"Camkk2<br/>cluster = 5\", \"id\": \"Camkk2\"}, {\"node_label\": \"\", \"border_width\": 0, \"node_shape\": \"dot\", \"y\": 853.2809132561781, \"degree\": 2, \"node_size\": 10, \"color\": \"#00f281\", \"x\": 858.5208800985092, \"title\": \"Gna14<br/>cluster = 6\", \"id\": \"Gna14\"}, {\"node_label\": \"Gna12\", \"border_width\": 0, \"node_shape\": \"triangle\", \"y\": 759.3929663577298, \"degree\": 3, \"node_size\": 10, \"color\": \"#00f281\", \"x\": 892.6206118987969, \"title\": \"Gna12<br/>cluster = 6\", \"id\": \"Gna12\"}, {\"node_label\": \"Ndrg1\", \"border_width\": 0, \"node_shape\": \"triangle\", \"y\": 86.72517825132688, \"degree\": 1, \"node_size\": 10, \"color\": \"#3000b3\", \"x\": 765.3481662783149, \"title\": \"Ndrg1<br/>cluster = 2\", \"id\": \"Ndrg1\"}, {\"node_label\": \"\", \"border_width\": 0, \"node_shape\": \"dot\", \"y\": 280.6416696899025, \"degree\": 1, \"node_size\": 10, \"color\": \"#000c59\", \"x\": 54.27704746810855, \"title\": \"Madd<br/>cluster = 3\", \"id\": \"Madd\"}, {\"node_label\": \"\", \"border_width\": 0, \"node_shape\": \"dot\", \"y\": 396.5157440378731, \"degree\": 1, \"node_size\": 10, \"color\": \"#00f281\", \"x\": 994.0533791891842, \"title\": \"Stat2<br/>cluster = 6\", \"id\": \"Stat2\"}, {\"node_label\": \"Stat1\", \"border_width\": 0, \"node_shape\": \"triangle\", \"y\": 278.3365243273445, \"degree\": 8, \"node_size\": 10, \"color\": \"#00d9ca\", \"x\": 693.3100129602826, \"title\": \"Stat1<br/>cluster = 4\", \"id\": \"Stat1\"}, {\"node_label\": \"Cdkn1a\", \"border_width\": 0, \"node_shape\": \"triangle\", \"y\": 719.43020209365, \"degree\": 7, \"node_size\": 10, \"color\": \"#ff0044\", \"x\": 566.0330507490311, \"title\": \"Cdkn1a<br/>cluster = 0\", \"id\": \"Cdkn1a\"}, {\"node_label\": \"Per3\", \"border_width\": 0, \"node_shape\": \"triangle\", \"y\": 674.241969350551, \"degree\": 2, \"node_size\": 10, \"color\": \"#a300cc\", \"x\": 956.1273452473035, \"title\": \"Per3<br/>cluster = 1\", \"id\": \"Per3\"}, {\"node_label\": \"Per1\", \"border_width\": 0, \"node_shape\": \"triangle\", \"y\": 704.3849464582984, \"degree\": 3, \"node_size\": 10, \"color\": \"#a300cc\", \"x\": 953.7459928561292, \"title\": \"Per1<br/>cluster = 1\", \"id\": \"Per1\"}, {\"node_label\": \"\", \"border_width\": 0, \"node_shape\": \"dot\", \"y\": 714.9883826508136, \"degree\": 1, \"node_size\": 10, \"color\": \"#004033\", \"x\": 939.4993260908775, \"title\": \"Pde4a<br/>cluster = 5\", \"id\": \"Pde4a\"}, {\"node_label\": \"F11\", \"border_width\": 0, \"node_shape\": \"triangle\", \"y\": 6.484066049929952, \"degree\": 1, \"node_size\": 10, \"color\": \"#88ff00\", \"x\": 611.0253297052955, \"title\": \"F11<br/>cluster = 8\", \"id\": \"F11\"}, {\"node_label\": \"\", \"border_width\": 0, \"node_shape\": \"dot\", \"y\": 575.538730189744, \"degree\": 7, \"node_size\": 10, \"color\": \"#ff0044\", \"x\": 449.48413667491445, \"title\": \"Sirt1<br/>cluster = 0\", \"id\": \"Sirt1\"}, {\"node_label\": \"Ngef\", \"border_width\": 0, \"node_shape\": \"triangle\", \"y\": 141.24268393339946, \"degree\": 1, \"node_size\": 10, \"color\": \"#00f281\", \"x\": 852.4935691765709, \"title\": \"Ngef<br/>cluster = 6\", \"id\": \"Ngef\"}, {\"node_label\": \"Lipg\", \"border_width\": 0, \"node_shape\": \"triangle\", \"y\": 867.3798435368457, \"degree\": 1, \"node_size\": 10, \"color\": \"#000c59\", \"x\": 169.52046140183924, \"title\": \"Lipg<br/>cluster = 3\", \"id\": \"Lipg\"}, {\"node_label\": \"Bhlhe41\", \"border_width\": 0, \"node_shape\": \"triangle\", \"y\": 903.9003753090991, \"degree\": 3, \"node_size\": 10, \"color\": \"#a300cc\", \"x\": 603.9412404892945, \"title\": \"Bhlhe41<br/>cluster = 1\", \"id\": \"Bhlhe41\"}, {\"node_label\": \"Pla2g12a\", \"border_width\": 0, \"node_shape\": \"triangle\", \"y\": 582.3162149141605, \"degree\": 1, \"node_size\": 10, \"color\": \"#004033\", \"x\": 320.4951337907419, \"title\": \"Pla2g12a<br/>cluster = 5\", \"id\": \"Pla2g12a\"}, {\"node_label\": \"Actb\", \"border_width\": 0, \"node_shape\": \"triangle\", \"y\": 494.44550745516585, \"degree\": 6, \"node_size\": 10, \"color\": \"#00660e\", \"x\": 114.4075626227462, \"title\": \"Actb<br/>cluster = 7\", \"id\": \"Actb\"}, {\"node_label\": \"Me1\", \"border_width\": 0, \"node_shape\": \"triangle\", \"y\": 914.7126597247222, \"degree\": 1, \"node_size\": 10, \"color\": \"#000c59\", \"x\": 299.53763128576094, \"title\": \"Me1<br/>cluster = 3\", \"id\": \"Me1\"}, {\"node_label\": \"Dbp\", \"border_width\": 0, \"node_shape\": \"triangle\", \"y\": 725.0347645471315, \"degree\": 2, \"node_size\": 10, \"color\": \"#a300cc\", \"x\": 856.4076040628498, \"title\": \"Dbp<br/>cluster = 1\", \"id\": \"Dbp\"}, {\"node_label\": \"\", \"border_width\": 0, \"node_shape\": \"dot\", \"y\": 920.0900730228165, \"degree\": 2, \"node_size\": 10, \"color\": \"#000c59\", \"x\": 249.40680953849503, \"title\": \"Acox1<br/>cluster = 3\", \"id\": \"Acox1\"}, {\"node_label\": \"Ctsf\", \"border_width\": 0, \"node_shape\": \"triangle\", \"y\": 217.77458283886193, \"degree\": 1, \"node_size\": 10, \"color\": \"#000c59\", \"x\": 83.249081912985, \"title\": \"Ctsf<br/>cluster = 3\", \"id\": \"Ctsf\"}, {\"node_label\": \"\", \"border_width\": 0, \"node_shape\": \"dot\", \"y\": 689.931144209401, \"degree\": 1, \"node_size\": 10, \"color\": \"#00660e\", \"x\": 49.17035109811075, \"title\": \"Arpc3<br/>cluster = 7\", \"id\": \"Arpc3\"}, {\"node_label\": \"\", \"border_width\": 0, \"node_shape\": \"dot\", \"y\": 650.8277702239549, \"degree\": 2, \"node_size\": 10, \"color\": \"#000c59\", \"x\": 169.60798392204603, \"title\": \"Cyct<br/>cluster = 3\", \"id\": \"Cyct\"}, {\"node_label\": \"Chrnb2\", \"border_width\": 0, \"node_shape\": \"triangle\", \"y\": 327.57273686141326, \"degree\": 1, \"node_size\": 10, \"color\": \"#00d9ca\", \"x\": 32.3958956407983, \"title\": \"Chrnb2<br/>cluster = 4\", \"id\": \"Chrnb2\"}, {\"node_label\": \"Epha1\", \"border_width\": 0, \"node_shape\": \"triangle\", \"y\": 235.0793723443077, \"degree\": 3, \"node_size\": 10, \"color\": \"#00f281\", \"x\": 780.676847063697, \"title\": \"Epha1<br/>cluster = 6\", \"id\": \"Epha1\"}, {\"node_label\": \"Hmgcs1\", \"border_width\": 0, \"node_shape\": \"triangle\", \"y\": 960.4769786101672, \"degree\": 1, \"node_size\": 10, \"color\": \"#ff0044\", \"x\": 314.4250306344028, \"title\": \"Hmgcs1<br/>cluster = 0\", \"id\": \"Hmgcs1\"}, {\"node_label\": \"Bcl2l11\", \"border_width\": 0, \"node_shape\": \"triangle\", \"y\": 687.3706018605984, \"degree\": 3, \"node_size\": 10, \"color\": \"#004033\", \"x\": 613.7136181417625, \"title\": \"Bcl2l11<br/>cluster = 5\", \"id\": \"Bcl2l11\"}, {\"node_label\": \"\", \"border_width\": 0, \"node_shape\": \"dot\", \"y\": 20.12777918125124, \"degree\": 1, \"node_size\": 10, \"color\": \"#00660e\", \"x\": 387.3422489309995, \"title\": \"Diaph3<br/>cluster = 7\", \"id\": \"Diaph3\"}, {\"node_label\": \"Chrna4\", \"border_width\": 0, \"node_shape\": \"triangle\", \"y\": 102.21093746557456, \"degree\": 1, \"node_size\": 10, \"color\": \"#00d9ca\", \"x\": 192.06298214417762, \"title\": \"Chrna4<br/>cluster = 4\", \"id\": \"Chrna4\"}, {\"node_label\": \"\", \"border_width\": 0, \"node_shape\": \"dot\", \"y\": 25.734385588742327, \"degree\": 1, \"node_size\": 10, \"color\": \"#88ff00\", \"x\": 366.75546701078434, \"title\": \"Agtr2<br/>cluster = 8\", \"id\": \"Agtr2\"}, {\"node_label\": \"Serpine1\", \"border_width\": 0, \"node_shape\": \"triangle\", \"y\": 216.5875193138341, \"degree\": 6, \"node_size\": 10, \"color\": \"#88ff00\", \"x\": 550.8335366839641, \"title\": \"Serpine1<br/>cluster = 8\", \"id\": \"Serpine1\"}, {\"node_label\": \"\", \"border_width\": 0, \"node_shape\": \"dot\", \"y\": 120.82599823452185, \"degree\": 4, \"node_size\": 10, \"color\": \"#88ff00\", \"x\": 689.3505985468241, \"title\": \"Serpine2<br/>cluster = 8\", \"id\": \"Serpine2\"}, {\"node_label\": \"Arntl\", \"border_width\": 0, \"node_shape\": \"triangle\", \"y\": 705.0427828593123, \"degree\": 11, \"node_size\": 10, \"color\": \"#a300cc\", \"x\": 701.8601805562331, \"title\": \"Arntl<br/>cluster = 1\", \"id\": \"Arntl\"}, {\"node_label\": \"\", \"border_width\": 0, \"node_shape\": \"dot\", \"y\": 636.4315241309563, \"degree\": 1, \"node_size\": 10, \"color\": \"#3000b3\", \"x\": 29.05249856437801, \"title\": \"Abcb1b<br/>cluster = 2\", \"id\": \"Abcb1b\"}, {\"node_label\": \"Abcb1a\", \"border_width\": 0, \"node_shape\": \"triangle\", \"y\": 486.862112971684, \"degree\": 3, \"node_size\": 10, \"color\": \"#3000b3\", \"x\": 277.7055349219684, \"title\": \"Abcb1a<br/>cluster = 2\", \"id\": \"Abcb1a\"}, {\"node_label\": \"\", \"border_width\": 0, \"node_shape\": \"dot\", \"y\": 994.5795846646608, \"degree\": 1, \"node_size\": 10, \"color\": \"#ff0044\", \"x\": 466.0523786142713, \"title\": \"Ppp1r15a<br/>cluster = 0\", \"id\": \"Ppp1r15a\"}, {\"node_label\": \"Acss2\", \"border_width\": 0, \"node_shape\": \"triangle\", \"y\": 806.6224496043537, \"degree\": 2, \"node_size\": 10, \"color\": \"#ff0044\", \"x\": 296.08196045287394, \"title\": \"Acss2<br/>cluster = 0\", \"id\": \"Acss2\"}, {\"node_label\": \"\", \"border_width\": 0, \"node_shape\": \"dot\", \"y\": 947.4159771521877, \"degree\": 5, \"node_size\": 10, \"color\": \"#ff0044\", \"x\": 365.44980377414566, \"title\": \"Srebf1<br/>cluster = 0\", \"id\": \"Srebf1\"}, {\"node_label\": \"Isg15\", \"border_width\": 0, \"node_shape\": \"triangle\", \"y\": 52.83432423953763, \"degree\": 1, \"node_size\": 10, \"color\": \"#3000b3\", \"x\": 725.0508203232619, \"title\": \"Isg15<br/>cluster = 2\", \"id\": \"Isg15\"}, {\"node_label\": \"Pml\", \"border_width\": 0, \"node_shape\": \"triangle\", \"y\": 385.6946890786627, \"degree\": 2, \"node_size\": 10, \"color\": \"#ff0044\", \"x\": 468.08852027223213, \"title\": \"Pml<br/>cluster = 0\", \"id\": \"Pml\"}, {\"node_label\": \"\", \"border_width\": 0, \"node_shape\": \"dot\", \"y\": 574.020198199241, \"degree\": 1, \"node_size\": 10, \"color\": \"#00660e\", \"x\": 8.459715225186736, \"title\": \"App<br/>cluster = 7\", \"id\": \"App\"}, {\"node_label\": \"Casp6\", \"border_width\": 0, \"node_shape\": \"triangle\", \"y\": 396.82213141937774, \"degree\": 4, \"node_size\": 10, \"color\": \"#00660e\", \"x\": 177.59513328017712, \"title\": \"Casp6<br/>cluster = 7\", \"id\": \"Casp6\"}, {\"node_label\": \"Npas2\", \"border_width\": 0, \"node_shape\": \"triangle\", \"y\": 786.4114255986668, \"degree\": 7, \"node_size\": 10, \"color\": \"#a300cc\", \"x\": 810.1431839567446, \"title\": \"Npas2<br/>cluster = 1\", \"id\": \"Npas2\"}, {\"node_label\": \"\", \"border_width\": 0, \"node_shape\": \"dot\", \"y\": 35.24564798701614, \"degree\": 1, \"node_size\": 10, \"color\": \"#00660e\", \"x\": 302.76065258785707, \"title\": \"Brk1<br/>cluster = 7\", \"id\": \"Brk1\"}, {\"node_label\": \"Capn2\", \"border_width\": 0, \"node_shape\": \"triangle\", \"y\": 407.35127674849144, \"degree\": 1, \"node_size\": 10, \"color\": \"#004033\", \"x\": 370.6198333204732, \"title\": \"Capn2<br/>cluster = 5\", \"id\": \"Capn2\"}, {\"node_label\": \"Dusp1\", \"border_width\": 0, \"node_shape\": \"triangle\", \"y\": 310.2079473250718, \"degree\": 4, \"node_size\": 10, \"color\": \"#004033\", \"x\": 276.146088051512, \"title\": \"Dusp1<br/>cluster = 5\", \"id\": \"Dusp1\"}, {\"node_label\": \"\", \"border_width\": 0, \"node_shape\": \"dot\", \"y\": 301.8334832107387, \"degree\": 2, \"node_size\": 10, \"color\": \"#000c59\", \"x\": 39.878942582080995, \"title\": \"Ripk1<br/>cluster = 3\", \"id\": \"Ripk1\"}, {\"node_label\": \"Ripk2\", \"border_width\": 0, \"node_shape\": \"triangle\", \"y\": 78.20258561578873, \"degree\": 1, \"node_size\": 10, \"color\": \"#000c59\", \"x\": 225.07165090033888, \"title\": \"Ripk2<br/>cluster = 3\", \"id\": \"Ripk2\"}, {\"node_label\": \"Acaca\", \"border_width\": 0, \"node_shape\": \"triangle\", \"y\": 843.6339879039555, \"degree\": 1, \"node_size\": 10, \"color\": \"#ff0044\", \"x\": 146.17362113908058, \"title\": \"Acaca<br/>cluster = 0\", \"id\": \"Acaca\"}, {\"node_label\": \"\", \"border_width\": 0, \"node_shape\": \"dot\", \"y\": 310.0626671511272, \"degree\": 1, \"node_size\": 10, \"color\": \"#00d9ca\", \"x\": 863.2632548087641, \"title\": \"Il23a<br/>cluster = 4\", \"id\": \"Il23a\"}, {\"node_label\": \"\", \"border_width\": 0, \"node_shape\": \"dot\", \"y\": 266.34420658676976, \"degree\": 17, \"node_size\": 10, \"color\": \"#3000b3\", \"x\": 525.6682662216533, \"title\": \"Trp53<br/>cluster = 2\", \"id\": \"Trp53\"}, {\"node_label\": \"Camk4\", \"border_width\": 0, \"node_shape\": \"triangle\", \"y\": 587.4467143583173, \"degree\": 4, \"node_size\": 10, \"color\": \"#004033\", \"x\": 962.1266625479013, \"title\": \"Camk4<br/>cluster = 5\", \"id\": \"Camk4\"}, {\"node_label\": \"Ugcg\", \"border_width\": 0, \"node_shape\": \"triangle\", \"y\": 54.6428098541687, \"degree\": 1, \"node_size\": 10, \"color\": \"#00d9ca\", \"x\": 269.6848435594494, \"title\": \"Ugcg<br/>cluster = 4\", \"id\": \"Ugcg\"}, {\"node_label\": \"Cry2\", \"border_width\": 0, \"node_shape\": \"triangle\", \"y\": 642.6900296185313, \"degree\": 2, \"node_size\": 10, \"color\": \"#a300cc\", \"x\": 960.8787207912268, \"title\": \"Cry2<br/>cluster = 1\", \"id\": \"Cry2\"}, {\"node_label\": \"\", \"border_width\": 0, \"node_shape\": \"dot\", \"y\": 964.3075701420314, \"degree\": 1, \"node_size\": 10, \"color\": \"#004033\", \"x\": 649.306285895851, \"title\": \"Rapgef4<br/>cluster = 5\", \"id\": \"Rapgef4\"}, {\"node_label\": \"\", \"border_width\": 0, \"node_shape\": \"dot\", \"y\": 179.72599921933855, \"degree\": 1, \"node_size\": 10, \"color\": \"#004033\", \"x\": 110.43533512583811, \"title\": \"Dok1<br/>cluster = 5\", \"id\": \"Dok1\"}, {\"node_label\": \"\", \"border_width\": 0, \"node_shape\": \"dot\", \"y\": 184.073926902608, \"degree\": 4, \"node_size\": 10, \"color\": \"#00d9ca\", \"x\": 323.85525936648827, \"title\": \"Jak2<br/>cluster = 4\", \"id\": \"Jak2\"}, {\"node_label\": \"Lasp1\", \"border_width\": 0, \"node_shape\": \"triangle\", \"y\": 0.0, \"degree\": 1, \"node_size\": 10, \"color\": \"#3000b3\", \"x\": 518.9331128466806, \"title\": \"Lasp1<br/>cluster = 2\", \"id\": \"Lasp1\"}, {\"node_label\": \"Rsad2\", \"border_width\": 0, \"node_shape\": \"triangle\", \"y\": 429.18170361925377, \"degree\": 1, \"node_size\": 10, \"color\": \"#00d9ca\", \"x\": 1000.0, \"title\": \"Rsad2<br/>cluster = 4\", \"id\": \"Rsad2\"}], [{\"color\": \"grey\", \"source\": 0, \"target\": 41}, {\"color\": \"grey\", \"source\": 0, \"target\": 24}, {\"color\": \"grey\", \"source\": 1, \"target\": 43}, {\"color\": \"grey\", \"source\": 2, \"target\": 85}, {\"color\": \"grey\", \"source\": 64, \"target\": 65}, {\"color\": \"grey\", \"source\": 3, \"target\": 67}, {\"color\": \"grey\", \"source\": 3, \"target\": 9}, {\"color\": \"grey\", \"source\": 3, \"target\": 77}, {\"color\": \"grey\", \"source\": 4, \"target\": 85}, {\"color\": \"grey\", \"source\": 5, \"target\": 9}, {\"color\": \"grey\", \"source\": 6, \"target\": 93}, {\"color\": \"grey\", \"source\": 6, \"target\": 40}, {\"color\": \"grey\", \"source\": 7, \"target\": 81}, {\"color\": \"grey\", \"source\": 7, \"target\": 57}, {\"color\": \"grey\", \"source\": 7, \"target\": 38}, {\"color\": \"grey\", \"source\": 7, \"target\": 55}, {\"color\": \"grey\", \"source\": 7, \"target\": 85}, {\"color\": \"grey\", \"source\": 8, \"target\": 40}, {\"color\": \"grey\", \"source\": 9, \"target\": 67}, {\"color\": \"grey\", \"source\": 9, \"target\": 46}, {\"color\": \"grey\", \"source\": 9, \"target\": 57}, {\"color\": \"grey\", \"source\": 9, \"target\": 54}, {\"color\": \"grey\", \"source\": 9, \"target\": 13}, {\"color\": \"grey\", \"source\": 9, \"target\": 52}, {\"color\": \"grey\", \"source\": 11, \"target\": 41}, {\"color\": \"grey\", \"source\": 12, \"target\": 17}, {\"color\": \"grey\", \"source\": 12, \"target\": 86}, {\"color\": \"grey\", \"source\": 14, \"target\": 35}, {\"color\": \"grey\", \"source\": 14, \"target\": 36}, {\"color\": \"grey\", \"source\": 15, \"target\": 41}, {\"color\": \"grey\", \"source\": 16, \"target\": 85}, {\"color\": \"grey\", \"source\": 17, \"target\": 61}, {\"color\": \"grey\", \"source\": 17, \"target\": 40}, {\"color\": \"grey\", \"source\": 17, \"target\": 50}, {\"color\": \"grey\", \"source\": 17, \"target\": 79}, {\"color\": \"grey\", \"source\": 17, \"target\": 80}, {\"color\": \"grey\", \"source\": 18, \"target\": 80}, {\"color\": \"grey\", \"source\": 37, \"target\": 85}, {\"color\": \"grey\", \"source\": 20, \"target\": 51}, {\"color\": \"grey\", \"source\": 21, \"target\": 35}, {\"color\": \"grey\", \"source\": 21, \"target\": 24}, {\"color\": \"grey\", \"source\": 21, \"target\": 36}, {\"color\": \"grey\", \"source\": 22, \"target\": 85}, {\"color\": \"grey\", \"source\": 23, \"target\": 51}, {\"color\": \"grey\", \"source\": 24, \"target\": 29}, {\"color\": \"grey\", \"source\": 24, \"target\": 39}, {\"color\": \"grey\", \"source\": 24, \"target\": 40}, {\"color\": \"grey\", \"source\": 24, \"target\": 85}, {\"color\": \"grey\", \"source\": 24, \"target\": 59}, {\"color\": \"grey\", \"source\": 24, \"target\": 36}, {\"color\": \"grey\", \"source\": 25, \"target\": 61}, {\"color\": \"grey\", \"source\": 26, \"target\": 76}, {\"color\": \"grey\", \"source\": 27, \"target\": 89}, {\"color\": \"grey\", \"source\": 27, \"target\": 86}, {\"color\": \"grey\", \"source\": 28, \"target\": 67}, {\"color\": \"grey\", \"source\": 28, \"target\": 51}, {\"color\": \"grey\", \"source\": 30, \"target\": 65}, {\"color\": \"grey\", \"source\": 30, \"target\": 66}, {\"color\": \"grey\", \"source\": 31, \"target\": 67}, {\"color\": \"grey\", \"source\": 31, \"target\": 65}, {\"color\": \"grey\", \"source\": 31, \"target\": 66}, {\"color\": \"grey\", \"source\": 32, \"target\": 81}, {\"color\": \"grey\", \"source\": 32, \"target\": 82}, {\"color\": \"grey\", \"source\": 33, \"target\": 40}, {\"color\": \"grey\", \"source\": 34, \"target\": 86}, {\"color\": \"grey\", \"source\": 19, \"target\": 78}, {\"color\": \"grey\", \"source\": 19, \"target\": 51}, {\"color\": \"grey\", \"source\": 19, \"target\": 62}, {\"color\": \"grey\", \"source\": 40, \"target\": 84}, {\"color\": \"grey\", \"source\": 40, \"target\": 85}, {\"color\": \"grey\", \"source\": 40, \"target\": 91}, {\"color\": \"grey\", \"source\": 41, \"target\": 67}, {\"color\": \"grey\", \"source\": 41, \"target\": 46}, {\"color\": \"grey\", \"source\": 41, \"target\": 85}, {\"color\": \"grey\", \"source\": 41, \"target\": 70}, {\"color\": \"grey\", \"source\": 42, \"target\": 67}, {\"color\": \"grey\", \"source\": 42, \"target\": 77}, {\"color\": \"grey\", \"source\": 43, \"target\": 67}, {\"color\": \"grey\", \"source\": 43, \"target\": 77}, {\"color\": \"grey\", \"source\": 44, \"target\": 86}, {\"color\": \"grey\", \"source\": 45, \"target\": 66}, {\"color\": \"grey\", \"source\": 46, \"target\": 69}, {\"color\": \"grey\", \"source\": 46, \"target\": 61}, {\"color\": \"grey\", \"source\": 46, \"target\": 71}, {\"color\": \"grey\", \"source\": 46, \"target\": 74}, {\"color\": \"grey\", \"source\": 46, \"target\": 65}, {\"color\": \"grey\", \"source\": 47, \"target\": 59}, {\"color\": \"grey\", \"source\": 48, \"target\": 54}, {\"color\": \"grey\", \"source\": 49, \"target\": 67}, {\"color\": \"grey\", \"source\": 49, \"target\": 72}, {\"color\": \"grey\", \"source\": 49, \"target\": 77}, {\"color\": \"grey\", \"source\": 75, \"target\": 76}, {\"color\": \"grey\", \"source\": 51, \"target\": 76}, {\"color\": \"grey\", \"source\": 51, \"target\": 56}, {\"color\": \"grey\", \"source\": 53, \"target\": 67}, {\"color\": \"grey\", \"source\": 53, \"target\": 77}, {\"color\": \"grey\", \"source\": 10, \"target\": 72}, {\"color\": \"grey\", \"source\": 58, \"target\": 91}, {\"color\": \"grey\", \"source\": 59, \"target\": 85}, {\"color\": \"grey\", \"source\": 60, \"target\": 72}, {\"color\": \"grey\", \"source\": 63, \"target\": 91}, {\"color\": \"grey\", \"source\": 65, \"target\": 85}, {\"color\": \"grey\", \"source\": 65, \"target\": 66}, {\"color\": \"grey\", \"source\": 67, \"target\": 88}, {\"color\": \"grey\", \"source\": 67, \"target\": 77}, {\"color\": \"grey\", \"source\": 68, \"target\": 69}, {\"color\": \"grey\", \"source\": 69, \"target\": 85}, {\"color\": \"grey\", \"source\": 71, \"target\": 72}, {\"color\": \"grey\", \"source\": 72, \"target\": 83}, {\"color\": \"grey\", \"source\": 73, \"target\": 85}, {\"color\": \"grey\", \"source\": 74, \"target\": 85}, {\"color\": \"grey\", \"source\": 76, \"target\": 85}, {\"color\": \"grey\", \"source\": 77, \"target\": 88}, {\"color\": \"grey\", \"source\": 80, \"target\": 90}, {\"color\": \"grey\", \"source\": 80, \"target\": 85}, {\"color\": \"grey\", \"source\": 85, \"target\": 92}, {\"color\": \"grey\", \"source\": 87, \"target\": 91}]);}</script><iframe name=\"style_file111\" src=\"style_file111.html\" width=\"100%;\" height=\"805px\"></iframe></body></html>"
      ],
      "text/plain": [
       "<IPython.core.display.HTML object>"
      ]
     },
     "execution_count": 18,
     "metadata": {},
     "output_type": "execute_result"
    }
   ],
   "source": [
    "reload(heat_and_cluster)\n",
    "heat_and_cluster.draw_clustering(G_DEG,\n",
    "              DEG_list,\n",
    "              cluster_size_cut_off = 0,\n",
    "              Wprime = Wprime,\n",
    "              num_nodes = 200,\n",
    "              edge_smooth_enabled=True,\n",
    "              edge_smooth_type='bezier',\n",
    "              edge_width=2,\n",
    "              node_size_multiplier=5,\n",
    "              hover = False,\n",
    "              hover_connected_edges = False,\n",
    "              physics_enabled = True,\n",
    "              node_font_size=40,\n",
    "              graph_id = 111)"
   ]
  },
  {
   "cell_type": "code",
   "execution_count": 20,
   "metadata": {},
   "outputs": [
    {
     "data": {
      "text/html": [
       "<!doctype html><html><head>  <title>Network | Basic usage</title></head><body><script type=\"text/javascript\">function setUpFrame() {     var frame = window.frames[\"style_file11\"];    frame.runVis([{\"node_label\": \"Dnmt3b\", \"border_width\": 0, \"node_shape\": \"triangle\", \"y\": 399.0337739483934, \"degree\": 2, \"node_size\": 10, \"color\": \"#ff0044\", \"x\": 1440.1030041391869, \"title\": \"Dnmt3b<br/>cluster = 0\", \"id\": \"Dnmt3b\"}, {\"node_label\": \"\", \"border_width\": 0, \"node_shape\": \"dot\", \"y\": 468.17969537623077, \"degree\": 1, \"node_size\": 10, \"color\": \"#a300cc\", \"x\": 1212.1058181028222, \"title\": \"Rbm4<br/>cluster = 1\", \"id\": \"Rbm4\"}, {\"node_label\": \"Rnf144b\", \"border_width\": 0, \"node_shape\": \"triangle\", \"y\": 1066.4416026223687, \"degree\": 1, \"node_size\": 10, \"color\": \"#3000b3\", \"x\": 1050.5452419076212, \"title\": \"Rnf144b<br/>cluster = 2\", \"id\": \"Rnf144b\"}, {\"node_label\": \"Nr1d1\", \"border_width\": 0, \"node_shape\": \"triangle\", \"y\": 450.2509577825156, \"degree\": 3, \"node_size\": 10, \"color\": \"#a300cc\", \"x\": 973.8543472386434, \"title\": \"Nr1d1<br/>cluster = 1\", \"id\": \"Nr1d1\"}, {\"node_label\": \"Bcl6b\", \"border_width\": 0, \"node_shape\": \"triangle\", \"y\": 1449.8744566090566, \"degree\": 1, \"node_size\": 10, \"color\": \"#3000b3\", \"x\": 750.6832970975983, \"title\": \"Bcl6b<br/>cluster = 2\", \"id\": \"Bcl6b\"}, {\"node_label\": \"Cpt1a\", \"border_width\": 0, \"node_shape\": \"triangle\", \"y\": 749.2085141602166, \"degree\": 1, \"node_size\": 10, \"color\": \"#000c59\", \"x\": 696.9688192618572, \"title\": \"Cpt1a<br/>cluster = 3\", \"id\": \"Cpt1a\"}, {\"node_label\": \"\", \"border_width\": 0, \"node_shape\": \"dot\", \"y\": 1131.649129542919, \"degree\": 2, \"node_size\": 10, \"color\": \"#00d9ca\", \"x\": -153.2136786699626, \"title\": \"Irf1<br/>cluster = 4\", \"id\": \"Irf1\"}, {\"node_label\": \"Bid\", \"border_width\": 0, \"node_shape\": \"triangle\", \"y\": 764.2176146264317, \"degree\": 5, \"node_size\": 10, \"color\": \"#000c59\", \"x\": 135.3692604142374, \"title\": \"Bid<br/>cluster = 3\", \"id\": \"Bid\"}, {\"node_label\": \"\", \"border_width\": 0, \"node_shape\": \"dot\", \"y\": 1072.1555229120424, \"degree\": 1, \"node_size\": 10, \"color\": \"#00d9ca\", \"x\": -257.3222192316553, \"title\": \"Irf8<br/>cluster = 4\", \"id\": \"Irf8\"}, {\"node_label\": \"Ppargc1a\", \"border_width\": 0, \"node_shape\": \"triangle\", \"y\": 772.3468512237499, \"degree\": 8, \"node_size\": 10, \"color\": \"#000c59\", \"x\": 448.8158522093121, \"title\": \"Ppargc1a<br/>cluster = 3\", \"id\": \"Ppargc1a\"}, {\"node_label\": \"Ppargc1b\", \"border_width\": 0, \"node_shape\": \"triangle\", \"y\": 60.63602275951911, \"degree\": 1, \"node_size\": 10, \"color\": \"#ff0044\", \"x\": 1219.109475430754, \"title\": \"Ppargc1b<br/>cluster = 0\", \"id\": \"Ppargc1b\"}, {\"node_label\": \"\", \"border_width\": 0, \"node_shape\": \"dot\", \"y\": 754.2393166296956, \"degree\": 1, \"node_size\": 10, \"color\": \"#ff0044\", \"x\": 1428.4824006972565, \"title\": \"Hbp1<br/>cluster = 0\", \"id\": \"Hbp1\"}, {\"node_label\": \"Creb3l3\", \"border_width\": 0, \"node_shape\": \"triangle\", \"y\": 443.9970470305671, \"degree\": 2, \"node_size\": 10, \"color\": \"#004033\", \"x\": -446.2647719252537, \"title\": \"Creb3l3<br/>cluster = 5\", \"id\": \"Creb3l3\"}, {\"node_label\": \"\", \"border_width\": 0, \"node_shape\": \"dot\", \"y\": 567.1251253846376, \"degree\": 1, \"node_size\": 10, \"color\": \"#000c59\", \"x\": 536.8797497481029, \"title\": \"Rpp14<br/>cluster = 3\", \"id\": \"Rpp14\"}, {\"node_label\": \"Avpr1a\", \"border_width\": 0, \"node_shape\": \"triangle\", \"y\": -416.17131509879334, \"degree\": 2, \"node_size\": 10, \"color\": \"#00f281\", \"x\": 376.04435295357774, \"title\": \"Avpr1a<br/>cluster = 6\", \"id\": \"Avpr1a\"}, {\"node_label\": \"\", \"border_width\": 0, \"node_shape\": \"dot\", \"y\": 502.35799475807175, \"degree\": 1, \"node_size\": 10, \"color\": \"#ff0044\", \"x\": 1500.0, \"title\": \"Zbtb17<br/>cluster = 0\", \"id\": \"Zbtb17\"}, {\"node_label\": \"Pcbp4\", \"border_width\": 0, \"node_shape\": \"triangle\", \"y\": 1340.113425340791, \"degree\": 1, \"node_size\": 10, \"color\": \"#3000b3\", \"x\": 935.5862928923888, \"title\": \"Pcbp4<br/>cluster = 2\", \"id\": \"Pcbp4\"}, {\"node_label\": \"\", \"border_width\": 0, \"node_shape\": \"dot\", \"y\": 593.3153724453705, \"degree\": 6, \"node_size\": 10, \"color\": \"#004033\", \"x\": -268.20028855130005, \"title\": \"Mapk1<br/>cluster = 5\", \"id\": \"Mapk1\"}, {\"node_label\": \"\", \"border_width\": 0, \"node_shape\": \"dot\", \"y\": 523.3972771483558, \"degree\": 1, \"node_size\": 10, \"color\": \"#004033\", \"x\": -421.82335310393523, \"title\": \"Nox4<br/>cluster = 5\", \"id\": \"Nox4\"}, {\"node_label\": \"Baiap2\", \"border_width\": 0, \"node_shape\": \"triangle\", \"y\": -29.40306010797694, \"degree\": 3, \"node_size\": 10, \"color\": \"#00660e\", \"x\": 93.20810055849529, \"title\": \"Baiap2<br/>cluster = 7\", \"id\": \"Baiap2\"}, {\"node_label\": \"Rad23b\", \"border_width\": 0, \"node_shape\": \"triangle\", \"y\": 340.998699855147, \"degree\": 1, \"node_size\": 10, \"color\": \"#00660e\", \"x\": 219.66732334635404, \"title\": \"Rad23b<br/>cluster = 7\", \"id\": \"Rad23b\"}, {\"node_label\": \"Plcb1\", \"border_width\": 0, \"node_shape\": \"triangle\", \"y\": -208.75403967714564, \"degree\": 3, \"node_size\": 10, \"color\": \"#00f281\", \"x\": 622.3824204408559, \"title\": \"Plcb1<br/>cluster = 6\", \"id\": \"Plcb1\"}, {\"node_label\": \"Ddit4\", \"border_width\": 0, \"node_shape\": \"triangle\", \"y\": 1144.1752999767373, \"degree\": 1, \"node_size\": 10, \"color\": \"#3000b3\", \"x\": 1054.7130012573987, \"title\": \"Ddit4<br/>cluster = 2\", \"id\": \"Ddit4\"}, {\"node_label\": \"\", \"border_width\": 0, \"node_shape\": \"dot\", \"y\": 240.9051261630739, \"degree\": 1, \"node_size\": 10, \"color\": \"#00660e\", \"x\": 164.2478597544822, \"title\": \"Ddb2<br/>cluster = 7\", \"id\": \"Ddb2\"}, {\"node_label\": \"Cxcl12\", \"border_width\": 0, \"node_shape\": \"triangle\", \"y\": 47.50944735592238, \"degree\": 8, \"node_size\": 10, \"color\": \"#00f281\", \"x\": 517.0568689000967, \"title\": \"Cxcl12<br/>cluster = 6\", \"id\": \"Cxcl12\"}, {\"node_label\": \"\", \"border_width\": 0, \"node_shape\": \"dot\", \"y\": 822.9562306661372, \"degree\": 1, \"node_size\": 10, \"color\": \"#004033\", \"x\": -59.37513862929511, \"title\": \"Hba-x<br/>cluster = 5\", \"id\": \"Hba-x\"}, {\"node_label\": \"\", \"border_width\": 0, \"node_shape\": \"dot\", \"y\": 250.68220163343778, \"degree\": 1, \"node_size\": 10, \"color\": \"#00660e\", \"x\": 945.3574162566309, \"title\": \"Krt18<br/>cluster = 7\", \"id\": \"Krt18\"}, {\"node_label\": \"Adcy6\", \"border_width\": 0, \"node_shape\": \"triangle\", \"y\": 579.7204630604004, \"degree\": 2, \"node_size\": 10, \"color\": \"#004033\", \"x\": -361.14777893161596, \"title\": \"Adcy6<br/>cluster = 5\", \"id\": \"Adcy6\"}, {\"node_label\": \"Thra\", \"border_width\": 0, \"node_shape\": \"triangle\", \"y\": -187.8494924211917, \"degree\": 2, \"node_size\": 10, \"color\": \"#00660e\", \"x\": 371.72888428803856, \"title\": \"Thra<br/>cluster = 7\", \"id\": \"Thra\"}, {\"node_label\": \"\", \"border_width\": 0, \"node_shape\": \"dot\", \"y\": -144.77692024340604, \"degree\": 1, \"node_size\": 10, \"color\": \"#00f281\", \"x\": 680.3307004164711, \"title\": \"Cd40lg<br/>cluster = 6\", \"id\": \"Cd40lg\"}, {\"node_label\": \"Hdac11\", \"border_width\": 0, \"node_shape\": \"triangle\", \"y\": 398.55403468517153, \"degree\": 2, \"node_size\": 10, \"color\": \"#88ff00\", \"x\": 1332.5244730828738, \"title\": \"Hdac11<br/>cluster = 8\", \"id\": \"Hdac11\"}, {\"node_label\": \"Nr1d2\", \"border_width\": 0, \"node_shape\": \"triangle\", \"y\": 90.65269107454677, \"degree\": 3, \"node_size\": 10, \"color\": \"#88ff00\", \"x\": 1168.2038915264438, \"title\": \"Nr1d2<br/>cluster = 8\", \"id\": \"Nr1d2\"}, {\"node_label\": \"Tab2\", \"border_width\": 0, \"node_shape\": \"triangle\", \"y\": 450.0332560754555, \"degree\": 2, \"node_size\": 10, \"color\": \"#000c59\", \"x\": 258.2524041501691, \"title\": \"Tab2<br/>cluster = 3\", \"id\": \"Tab2\"}, {\"node_label\": \"\", \"border_width\": 0, \"node_shape\": \"dot\", \"y\": 1162.7544822253433, \"degree\": 1, \"node_size\": 10, \"color\": \"#00d9ca\", \"x\": -10.985642244378313, \"title\": \"Lep<br/>cluster = 4\", \"id\": \"Lep\"}, {\"node_label\": \"\", \"border_width\": 0, \"node_shape\": \"dot\", \"y\": 101.62055448862567, \"degree\": 1, \"node_size\": 10, \"color\": \"#004033\", \"x\": -406.46037334482946, \"title\": \"Camkk2<br/>cluster = 5\", \"id\": \"Camkk2\"}, {\"node_label\": \"\", \"border_width\": 0, \"node_shape\": \"dot\", \"y\": -348.79753519025365, \"degree\": 2, \"node_size\": 10, \"color\": \"#00f281\", \"x\": 526.1438144712969, \"title\": \"Gna14<br/>cluster = 6\", \"id\": \"Gna14\"}, {\"node_label\": \"Gna12\", \"border_width\": 0, \"node_shape\": \"triangle\", \"y\": -236.87851484930044, \"degree\": 3, \"node_size\": 10, \"color\": \"#00f281\", \"x\": 550.7031868615692, \"title\": \"Gna12<br/>cluster = 6\", \"id\": \"Gna12\"}, {\"node_label\": \"Ndrg1\", \"border_width\": 0, \"node_shape\": \"triangle\", \"y\": 1352.6299397082298, \"degree\": 1, \"node_size\": 10, \"color\": \"#3000b3\", \"x\": 835.1884005754303, \"title\": \"Ndrg1<br/>cluster = 2\", \"id\": \"Ndrg1\"}, {\"node_label\": \"\", \"border_width\": 0, \"node_shape\": \"dot\", \"y\": 570.69534431389, \"degree\": 1, \"node_size\": 10, \"color\": \"#000c59\", \"x\": -45.87719223434961, \"title\": \"Madd<br/>cluster = 3\", \"id\": \"Madd\"}, {\"node_label\": \"\", \"border_width\": 0, \"node_shape\": \"dot\", \"y\": 23.34869346811391, \"degree\": 1, \"node_size\": 10, \"color\": \"#00f281\", \"x\": 727.6354859547183, \"title\": \"Stat2<br/>cluster = 6\", \"id\": \"Stat2\"}, {\"node_label\": \"Stat1\", \"border_width\": 0, \"node_shape\": \"triangle\", \"y\": 928.4407772378572, \"degree\": 8, \"node_size\": 10, \"color\": \"#00d9ca\", \"x\": -62.891169209184696, \"title\": \"Stat1<br/>cluster = 4\", \"id\": \"Stat1\"}, {\"node_label\": \"Cdkn1a\", \"border_width\": 0, \"node_shape\": \"triangle\", \"y\": 529.7564793030011, \"degree\": 7, \"node_size\": 10, \"color\": \"#ff0044\", \"x\": 1299.9826575829102, \"title\": \"Cdkn1a<br/>cluster = 0\", \"id\": \"Cdkn1a\"}, {\"node_label\": \"Per3\", \"border_width\": 0, \"node_shape\": \"triangle\", \"y\": 338.96355913101945, \"degree\": 2, \"node_size\": 10, \"color\": \"#a300cc\", \"x\": 761.6256502411597, \"title\": \"Per3<br/>cluster = 1\", \"id\": \"Per3\"}, {\"node_label\": \"Per1\", \"border_width\": 0, \"node_shape\": \"triangle\", \"y\": 379.7854694545613, \"degree\": 3, \"node_size\": 10, \"color\": \"#a300cc\", \"x\": 1025.5064302001692, \"title\": \"Per1<br/>cluster = 1\", \"id\": \"Per1\"}, {\"node_label\": \"\", \"border_width\": 0, \"node_shape\": \"dot\", \"y\": 251.1808310700886, \"degree\": 1, \"node_size\": 10, \"color\": \"#004033\", \"x\": -457.9687442676533, \"title\": \"Pde4a<br/>cluster = 5\", \"id\": \"Pde4a\"}, {\"node_label\": \"F11\", \"border_width\": 0, \"node_shape\": \"triangle\", \"y\": 552.4922220065303, \"degree\": 1, \"node_size\": 10, \"color\": \"#88ff00\", \"x\": 1210.3601439189565, \"title\": \"F11<br/>cluster = 8\", \"id\": \"F11\"}, {\"node_label\": \"\", \"border_width\": 0, \"node_shape\": \"dot\", \"y\": 605.2527164482345, \"degree\": 7, \"node_size\": 10, \"color\": \"#ff0044\", \"x\": 1128.7959795623945, \"title\": \"Sirt1<br/>cluster = 0\", \"id\": \"Sirt1\"}, {\"node_label\": \"Ngef\", \"border_width\": 0, \"node_shape\": \"triangle\", \"y\": 488.0726762523754, \"degree\": 1, \"node_size\": 10, \"color\": \"#00f281\", \"x\": 517.3341923590339, \"title\": \"Ngef<br/>cluster = 6\", \"id\": \"Ngef\"}, {\"node_label\": \"Lipg\", \"border_width\": 0, \"node_shape\": \"triangle\", \"y\": 1419.1203612424138, \"degree\": 1, \"node_size\": 10, \"color\": \"#000c59\", \"x\": 349.90440808126834, \"title\": \"Lipg<br/>cluster = 3\", \"id\": \"Lipg\"}, {\"node_label\": \"Bhlhe41\", \"border_width\": 0, \"node_shape\": \"triangle\", \"y\": 331.99832155482255, \"degree\": 3, \"node_size\": 10, \"color\": \"#a300cc\", \"x\": 810.889076405046, \"title\": \"Bhlhe41<br/>cluster = 1\", \"id\": \"Bhlhe41\"}, {\"node_label\": \"Pla2g12a\", \"border_width\": 0, \"node_shape\": \"triangle\", \"y\": 635.9123721083938, \"degree\": 1, \"node_size\": 10, \"color\": \"#004033\", \"x\": -361.6435143305865, \"title\": \"Pla2g12a<br/>cluster = 5\", \"id\": \"Pla2g12a\"}, {\"node_label\": \"Actb\", \"border_width\": 0, \"node_shape\": \"triangle\", \"y\": 59.5201045532715, \"degree\": 6, \"node_size\": 10, \"color\": \"#00660e\", \"x\": 325.32368184246417, \"title\": \"Actb<br/>cluster = 7\", \"id\": \"Actb\"}, {\"node_label\": \"Me1\", \"border_width\": 0, \"node_shape\": \"triangle\", \"y\": 650.0429236474843, \"degree\": 1, \"node_size\": 10, \"color\": \"#000c59\", \"x\": 660.836884201912, \"title\": \"Me1<br/>cluster = 3\", \"id\": \"Me1\"}, {\"node_label\": \"Dbp\", \"border_width\": 0, \"node_shape\": \"triangle\", \"y\": 377.04087582306795, \"degree\": 2, \"node_size\": 10, \"color\": \"#a300cc\", \"x\": 683.6979605687767, \"title\": \"Dbp<br/>cluster = 1\", \"id\": \"Dbp\"}, {\"node_label\": \"\", \"border_width\": 0, \"node_shape\": \"dot\", \"y\": 1117.7966125975424, \"degree\": 2, \"node_size\": 10, \"color\": \"#000c59\", \"x\": 367.12040957806533, \"title\": \"Acox1<br/>cluster = 3\", \"id\": \"Acox1\"}, {\"node_label\": \"Ctsf\", \"border_width\": 0, \"node_shape\": \"triangle\", \"y\": 618.8732406376088, \"degree\": 1, \"node_size\": 10, \"color\": \"#000c59\", \"x\": -84.37595142322188, \"title\": \"Ctsf<br/>cluster = 3\", \"id\": \"Ctsf\"}, {\"node_label\": \"\", \"border_width\": 0, \"node_shape\": \"dot\", \"y\": -87.66973042422616, \"degree\": 1, \"node_size\": 10, \"color\": \"#00660e\", \"x\": 169.82894483616735, \"title\": \"Arpc3<br/>cluster = 7\", \"id\": \"Arpc3\"}, {\"node_label\": \"\", \"border_width\": 0, \"node_shape\": \"dot\", \"y\": 708.7525197355972, \"degree\": 2, \"node_size\": 10, \"color\": \"#000c59\", \"x\": 246.5824953809127, \"title\": \"Cyct<br/>cluster = 3\", \"id\": \"Cyct\"}, {\"node_label\": \"Chrnb2\", \"border_width\": 0, \"node_shape\": \"triangle\", \"y\": 484.7698304730807, \"degree\": 1, \"node_size\": 10, \"color\": \"#00d9ca\", \"x\": -431.5645330433477, \"title\": \"Chrnb2<br/>cluster = 4\", \"id\": \"Chrnb2\"}, {\"node_label\": \"Epha1\", \"border_width\": 0, \"node_shape\": \"triangle\", \"y\": 314.7553118396801, \"degree\": 3, \"node_size\": 10, \"color\": \"#00f281\", \"x\": 541.8824490345248, \"title\": \"Epha1<br/>cluster = 6\", \"id\": \"Epha1\"}, {\"node_label\": \"Hmgcs1\", \"border_width\": 0, \"node_shape\": \"triangle\", \"y\": 0.0, \"degree\": 1, \"node_size\": 10, \"color\": \"#ff0044\", \"x\": 971.4689041361478, \"title\": \"Hmgcs1<br/>cluster = 0\", \"id\": \"Hmgcs1\"}, {\"node_label\": \"Bcl2l11\", \"border_width\": 0, \"node_shape\": \"triangle\", \"y\": 667.1010805575594, \"degree\": 3, \"node_size\": 10, \"color\": \"#004033\", \"x\": -51.313490910675384, \"title\": \"Bcl2l11<br/>cluster = 5\", \"id\": \"Bcl2l11\"}, {\"node_label\": \"\", \"border_width\": 0, \"node_shape\": \"dot\", \"y\": -114.81465574896677, \"degree\": 1, \"node_size\": 10, \"color\": \"#00660e\", \"x\": 100.02272544511229, \"title\": \"Diaph3<br/>cluster = 7\", \"id\": \"Diaph3\"}, {\"node_label\": \"Chrna4\", \"border_width\": 0, \"node_shape\": \"triangle\", \"y\": 717.8702029119861, \"degree\": 1, \"node_size\": 10, \"color\": \"#00d9ca\", \"x\": -469.84631039295414, \"title\": \"Chrna4<br/>cluster = 4\", \"id\": \"Chrna4\"}, {\"node_label\": \"\", \"border_width\": 0, \"node_shape\": \"dot\", \"y\": 360.5183598509698, \"degree\": 1, \"node_size\": 10, \"color\": \"#88ff00\", \"x\": 1347.447530943489, \"title\": \"Agtr2<br/>cluster = 8\", \"id\": \"Agtr2\"}, {\"node_label\": \"Serpine1\", \"border_width\": 0, \"node_shape\": \"triangle\", \"y\": 295.29859354783974, \"degree\": 6, \"node_size\": 10, \"color\": \"#88ff00\", \"x\": 1221.318850697267, \"title\": \"Serpine1<br/>cluster = 8\", \"id\": \"Serpine1\"}, {\"node_label\": \"\", \"border_width\": 0, \"node_shape\": \"dot\", \"y\": 335.2321191396481, \"degree\": 4, \"node_size\": 10, \"color\": \"#88ff00\", \"x\": 1286.123032016324, \"title\": \"Serpine2<br/>cluster = 8\", \"id\": \"Serpine2\"}, {\"node_label\": \"Arntl\", \"border_width\": 0, \"node_shape\": \"triangle\", \"y\": 522.426993004011, \"degree\": 11, \"node_size\": 10, \"color\": \"#a300cc\", \"x\": 912.2158403858656, \"title\": \"Arntl<br/>cluster = 1\", \"id\": \"Arntl\"}, {\"node_label\": \"\", \"border_width\": 0, \"node_shape\": \"dot\", \"y\": 1442.2895291464492, \"degree\": 1, \"node_size\": 10, \"color\": \"#3000b3\", \"x\": 609.8867661333021, \"title\": \"Abcb1b<br/>cluster = 2\", \"id\": \"Abcb1b\"}, {\"node_label\": \"Abcb1a\", \"border_width\": 0, \"node_shape\": \"triangle\", \"y\": 1328.7098318784672, \"degree\": 3, \"node_size\": 10, \"color\": \"#3000b3\", \"x\": 681.4036370813105, \"title\": \"Abcb1a<br/>cluster = 2\", \"id\": \"Abcb1a\"}, {\"node_label\": \"\", \"border_width\": 0, \"node_shape\": \"dot\", \"y\": 783.1791514315726, \"degree\": 1, \"node_size\": 10, \"color\": \"#ff0044\", \"x\": 1387.6194855315607, \"title\": \"Ppp1r15a<br/>cluster = 0\", \"id\": \"Ppp1r15a\"}, {\"node_label\": \"Acss2\", \"border_width\": 0, \"node_shape\": \"triangle\", \"y\": 305.48203314639875, \"degree\": 2, \"node_size\": 10, \"color\": \"#ff0044\", \"x\": 1101.6999835284391, \"title\": \"Acss2<br/>cluster = 0\", \"id\": \"Acss2\"}, {\"node_label\": \"\", \"border_width\": 0, \"node_shape\": \"dot\", \"y\": 41.71558603656591, \"degree\": 5, \"node_size\": 10, \"color\": \"#ff0044\", \"x\": 1063.3226343169492, \"title\": \"Srebf1<br/>cluster = 0\", \"id\": \"Srebf1\"}, {\"node_label\": \"Isg15\", \"border_width\": 0, \"node_shape\": \"triangle\", \"y\": 1436.337514843085, \"degree\": 1, \"node_size\": 10, \"color\": \"#3000b3\", \"x\": 801.3917330264384, \"title\": \"Isg15<br/>cluster = 2\", \"id\": \"Isg15\"}, {\"node_label\": \"Pml\", \"border_width\": 0, \"node_shape\": \"triangle\", \"y\": 820.4803537081169, \"degree\": 2, \"node_size\": 10, \"color\": \"#ff0044\", \"x\": 1175.4073422609674, \"title\": \"Pml<br/>cluster = 0\", \"id\": \"Pml\"}, {\"node_label\": \"\", \"border_width\": 0, \"node_shape\": \"dot\", \"y\": -75.15671664343837, \"degree\": 1, \"node_size\": 10, \"color\": \"#00660e\", \"x\": 1067.1047237941134, \"title\": \"App<br/>cluster = 7\", \"id\": \"App\"}, {\"node_label\": \"Casp6\", \"border_width\": 0, \"node_shape\": \"triangle\", \"y\": 62.72946565070481, \"degree\": 4, \"node_size\": 10, \"color\": \"#00660e\", \"x\": 742.5830285167809, \"title\": \"Casp6<br/>cluster = 7\", \"id\": \"Casp6\"}, {\"node_label\": \"Npas2\", \"border_width\": 0, \"node_shape\": \"triangle\", \"y\": 367.649614416495, \"degree\": 7, \"node_size\": 10, \"color\": \"#a300cc\", \"x\": 834.8740400800772, \"title\": \"Npas2<br/>cluster = 1\", \"id\": \"Npas2\"}, {\"node_label\": \"\", \"border_width\": 0, \"node_shape\": \"dot\", \"y\": -152.15864569581282, \"degree\": 1, \"node_size\": 10, \"color\": \"#00660e\", \"x\": 111.95267430840649, \"title\": \"Brk1<br/>cluster = 7\", \"id\": \"Brk1\"}, {\"node_label\": \"Capn2\", \"border_width\": 0, \"node_shape\": \"triangle\", \"y\": 488.20356477972314, \"degree\": 1, \"node_size\": 10, \"color\": \"#004033\", \"x\": -438.7832103171839, \"title\": \"Capn2<br/>cluster = 5\", \"id\": \"Capn2\"}, {\"node_label\": \"Dusp1\", \"border_width\": 0, \"node_shape\": \"triangle\", \"y\": 546.7451983163934, \"degree\": 4, \"node_size\": 10, \"color\": \"#004033\", \"x\": -146.70783543828196, \"title\": \"Dusp1<br/>cluster = 5\", \"id\": \"Dusp1\"}, {\"node_label\": \"\", \"border_width\": 0, \"node_shape\": \"dot\", \"y\": 541.3046164062589, \"degree\": 2, \"node_size\": 10, \"color\": \"#000c59\", \"x\": 68.74725157622986, \"title\": \"Ripk1<br/>cluster = 3\", \"id\": \"Ripk1\"}, {\"node_label\": \"Ripk2\", \"border_width\": 0, \"node_shape\": \"triangle\", \"y\": 466.3118288405326, \"degree\": 1, \"node_size\": 10, \"color\": \"#000c59\", \"x\": 430.9390698262885, \"title\": \"Ripk2<br/>cluster = 3\", \"id\": \"Ripk2\"}, {\"node_label\": \"Acaca\", \"border_width\": 0, \"node_shape\": \"triangle\", \"y\": 21.801009437758815, \"degree\": 1, \"node_size\": 10, \"color\": \"#ff0044\", \"x\": 1146.8162857922377, \"title\": \"Acaca<br/>cluster = 0\", \"id\": \"Acaca\"}, {\"node_label\": \"\", \"border_width\": 0, \"node_shape\": \"dot\", \"y\": 1113.7521255054585, \"degree\": 1, \"node_size\": 10, \"color\": \"#00d9ca\", \"x\": -201.3834596774099, \"title\": \"Il23a<br/>cluster = 4\", \"id\": \"Il23a\"}, {\"node_label\": \"\", \"border_width\": 0, \"node_shape\": \"dot\", \"y\": 1175.4614281704073, \"degree\": 17, \"node_size\": 10, \"color\": \"#3000b3\", \"x\": 775.8892715890895, \"title\": \"Trp53<br/>cluster = 2\", \"id\": \"Trp53\"}, {\"node_label\": \"Camk4\", \"border_width\": 0, \"node_shape\": \"triangle\", \"y\": 339.44114818455864, \"degree\": 4, \"node_size\": 10, \"color\": \"#004033\", \"x\": -438.2112946443267, \"title\": \"Camk4<br/>cluster = 5\", \"id\": \"Camk4\"}, {\"node_label\": \"Ugcg\", \"border_width\": 0, \"node_shape\": \"triangle\", \"y\": 891.8908501996134, \"degree\": 1, \"node_size\": 10, \"color\": \"#00d9ca\", \"x\": -421.32355479876264, \"title\": \"Ugcg<br/>cluster = 4\", \"id\": \"Ugcg\"}, {\"node_label\": \"Cry2\", \"border_width\": 0, \"node_shape\": \"triangle\", \"y\": 353.57467747190884, \"degree\": 2, \"node_size\": 10, \"color\": \"#a300cc\", \"x\": 722.8556542997237, \"title\": \"Cry2<br/>cluster = 1\", \"id\": \"Cry2\"}, {\"node_label\": \"\", \"border_width\": 0, \"node_shape\": \"dot\", \"y\": 703.6814324071734, \"degree\": 1, \"node_size\": 10, \"color\": \"#004033\", \"x\": -244.6699089678046, \"title\": \"Rapgef4<br/>cluster = 5\", \"id\": \"Rapgef4\"}, {\"node_label\": \"\", \"border_width\": 0, \"node_shape\": \"dot\", \"y\": 505.097085065765, \"degree\": 1, \"node_size\": 10, \"color\": \"#004033\", \"x\": -290.06414947212335, \"title\": \"Dok1<br/>cluster = 5\", \"id\": \"Dok1\"}, {\"node_label\": \"\", \"border_width\": 0, \"node_shape\": \"dot\", \"y\": 746.4048869389195, \"degree\": 4, \"node_size\": 10, \"color\": \"#00d9ca\", \"x\": -351.14347550649126, \"title\": \"Jak2<br/>cluster = 4\", \"id\": \"Jak2\"}, {\"node_label\": \"Lasp1\", \"border_width\": 0, \"node_shape\": \"triangle\", \"y\": 1105.8160067545828, \"degree\": 1, \"node_size\": 10, \"color\": \"#3000b3\", \"x\": 1066.0153085452764, \"title\": \"Lasp1<br/>cluster = 2\", \"id\": \"Lasp1\"}, {\"node_label\": \"Rsad2\", \"border_width\": 0, \"node_shape\": \"triangle\", \"y\": 1144.731936900894, \"degree\": 1, \"node_size\": 10, \"color\": \"#00d9ca\", \"x\": -108.00648671299024, \"title\": \"Rsad2<br/>cluster = 4\", \"id\": \"Rsad2\"}], [{\"color\": \"grey\", \"source\": 0, \"target\": 41}, {\"color\": \"grey\", \"source\": 0, \"target\": 24}, {\"color\": \"grey\", \"source\": 1, \"target\": 43}, {\"color\": \"grey\", \"source\": 2, \"target\": 85}, {\"color\": \"grey\", \"source\": 64, \"target\": 65}, {\"color\": \"grey\", \"source\": 3, \"target\": 67}, {\"color\": \"grey\", \"source\": 3, \"target\": 9}, {\"color\": \"grey\", \"source\": 3, \"target\": 77}, {\"color\": \"grey\", \"source\": 4, \"target\": 85}, {\"color\": \"grey\", \"source\": 5, \"target\": 9}, {\"color\": \"grey\", \"source\": 6, \"target\": 93}, {\"color\": \"grey\", \"source\": 6, \"target\": 40}, {\"color\": \"grey\", \"source\": 7, \"target\": 81}, {\"color\": \"grey\", \"source\": 7, \"target\": 57}, {\"color\": \"grey\", \"source\": 7, \"target\": 38}, {\"color\": \"grey\", \"source\": 7, \"target\": 55}, {\"color\": \"grey\", \"source\": 7, \"target\": 85}, {\"color\": \"grey\", \"source\": 8, \"target\": 40}, {\"color\": \"grey\", \"source\": 9, \"target\": 67}, {\"color\": \"grey\", \"source\": 9, \"target\": 46}, {\"color\": \"grey\", \"source\": 9, \"target\": 57}, {\"color\": \"grey\", \"source\": 9, \"target\": 54}, {\"color\": \"grey\", \"source\": 9, \"target\": 13}, {\"color\": \"grey\", \"source\": 9, \"target\": 52}, {\"color\": \"grey\", \"source\": 11, \"target\": 41}, {\"color\": \"grey\", \"source\": 12, \"target\": 17}, {\"color\": \"grey\", \"source\": 12, \"target\": 86}, {\"color\": \"grey\", \"source\": 14, \"target\": 35}, {\"color\": \"grey\", \"source\": 14, \"target\": 36}, {\"color\": \"grey\", \"source\": 15, \"target\": 41}, {\"color\": \"grey\", \"source\": 16, \"target\": 85}, {\"color\": \"grey\", \"source\": 17, \"target\": 61}, {\"color\": \"grey\", \"source\": 17, \"target\": 40}, {\"color\": \"grey\", \"source\": 17, \"target\": 50}, {\"color\": \"grey\", \"source\": 17, \"target\": 79}, {\"color\": \"grey\", \"source\": 17, \"target\": 80}, {\"color\": \"grey\", \"source\": 18, \"target\": 80}, {\"color\": \"grey\", \"source\": 37, \"target\": 85}, {\"color\": \"grey\", \"source\": 20, \"target\": 51}, {\"color\": \"grey\", \"source\": 21, \"target\": 35}, {\"color\": \"grey\", \"source\": 21, \"target\": 24}, {\"color\": \"grey\", \"source\": 21, \"target\": 36}, {\"color\": \"grey\", \"source\": 22, \"target\": 85}, {\"color\": \"grey\", \"source\": 23, \"target\": 51}, {\"color\": \"grey\", \"source\": 24, \"target\": 29}, {\"color\": \"grey\", \"source\": 24, \"target\": 39}, {\"color\": \"grey\", \"source\": 24, \"target\": 40}, {\"color\": \"grey\", \"source\": 24, \"target\": 85}, {\"color\": \"grey\", \"source\": 24, \"target\": 59}, {\"color\": \"grey\", \"source\": 24, \"target\": 36}, {\"color\": \"grey\", \"source\": 25, \"target\": 61}, {\"color\": \"grey\", \"source\": 26, \"target\": 76}, {\"color\": \"grey\", \"source\": 27, \"target\": 89}, {\"color\": \"grey\", \"source\": 27, \"target\": 86}, {\"color\": \"grey\", \"source\": 28, \"target\": 67}, {\"color\": \"grey\", \"source\": 28, \"target\": 51}, {\"color\": \"grey\", \"source\": 30, \"target\": 65}, {\"color\": \"grey\", \"source\": 30, \"target\": 66}, {\"color\": \"grey\", \"source\": 31, \"target\": 67}, {\"color\": \"grey\", \"source\": 31, \"target\": 65}, {\"color\": \"grey\", \"source\": 31, \"target\": 66}, {\"color\": \"grey\", \"source\": 32, \"target\": 81}, {\"color\": \"grey\", \"source\": 32, \"target\": 82}, {\"color\": \"grey\", \"source\": 33, \"target\": 40}, {\"color\": \"grey\", \"source\": 34, \"target\": 86}, {\"color\": \"grey\", \"source\": 19, \"target\": 78}, {\"color\": \"grey\", \"source\": 19, \"target\": 51}, {\"color\": \"grey\", \"source\": 19, \"target\": 62}, {\"color\": \"grey\", \"source\": 40, \"target\": 84}, {\"color\": \"grey\", \"source\": 40, \"target\": 85}, {\"color\": \"grey\", \"source\": 40, \"target\": 91}, {\"color\": \"grey\", \"source\": 41, \"target\": 67}, {\"color\": \"grey\", \"source\": 41, \"target\": 46}, {\"color\": \"grey\", \"source\": 41, \"target\": 85}, {\"color\": \"grey\", \"source\": 41, \"target\": 70}, {\"color\": \"grey\", \"source\": 42, \"target\": 67}, {\"color\": \"grey\", \"source\": 42, \"target\": 77}, {\"color\": \"grey\", \"source\": 43, \"target\": 67}, {\"color\": \"grey\", \"source\": 43, \"target\": 77}, {\"color\": \"grey\", \"source\": 44, \"target\": 86}, {\"color\": \"grey\", \"source\": 45, \"target\": 66}, {\"color\": \"grey\", \"source\": 46, \"target\": 69}, {\"color\": \"grey\", \"source\": 46, \"target\": 61}, {\"color\": \"grey\", \"source\": 46, \"target\": 71}, {\"color\": \"grey\", \"source\": 46, \"target\": 74}, {\"color\": \"grey\", \"source\": 46, \"target\": 65}, {\"color\": \"grey\", \"source\": 47, \"target\": 59}, {\"color\": \"grey\", \"source\": 48, \"target\": 54}, {\"color\": \"grey\", \"source\": 49, \"target\": 67}, {\"color\": \"grey\", \"source\": 49, \"target\": 72}, {\"color\": \"grey\", \"source\": 49, \"target\": 77}, {\"color\": \"grey\", \"source\": 75, \"target\": 76}, {\"color\": \"grey\", \"source\": 51, \"target\": 76}, {\"color\": \"grey\", \"source\": 51, \"target\": 56}, {\"color\": \"grey\", \"source\": 53, \"target\": 67}, {\"color\": \"grey\", \"source\": 53, \"target\": 77}, {\"color\": \"grey\", \"source\": 10, \"target\": 72}, {\"color\": \"grey\", \"source\": 58, \"target\": 91}, {\"color\": \"grey\", \"source\": 59, \"target\": 85}, {\"color\": \"grey\", \"source\": 60, \"target\": 72}, {\"color\": \"grey\", \"source\": 63, \"target\": 91}, {\"color\": \"grey\", \"source\": 65, \"target\": 85}, {\"color\": \"grey\", \"source\": 65, \"target\": 66}, {\"color\": \"grey\", \"source\": 67, \"target\": 88}, {\"color\": \"grey\", \"source\": 67, \"target\": 77}, {\"color\": \"grey\", \"source\": 68, \"target\": 69}, {\"color\": \"grey\", \"source\": 69, \"target\": 85}, {\"color\": \"grey\", \"source\": 71, \"target\": 72}, {\"color\": \"grey\", \"source\": 72, \"target\": 83}, {\"color\": \"grey\", \"source\": 73, \"target\": 85}, {\"color\": \"grey\", \"source\": 74, \"target\": 85}, {\"color\": \"grey\", \"source\": 76, \"target\": 85}, {\"color\": \"grey\", \"source\": 77, \"target\": 88}, {\"color\": \"grey\", \"source\": 80, \"target\": 90}, {\"color\": \"grey\", \"source\": 80, \"target\": 85}, {\"color\": \"grey\", \"source\": 85, \"target\": 92}, {\"color\": \"grey\", \"source\": 87, \"target\": 91}]);}</script><iframe name=\"style_file11\" src=\"style_file11.html\" width=\"100%;\" height=\"805px\"></iframe></body></html>"
      ],
      "text/plain": [
       "<IPython.core.display.HTML object>"
      ]
     },
     "execution_count": 20,
     "metadata": {},
     "output_type": "execute_result"
    }
   ],
   "source": [
    "reload(heat_and_cluster)\n",
    "html, cluster_pos, rad_pos, node_to_cluster = heat_and_cluster.draw_rad_clustering(G_DEG,\n",
    "              DEG_list,\n",
    "              node_spacing = 1000,\n",
    "              r = 1,\n",
    "              cluster_size_cut_off = 0,\n",
    "              Wprime = Wprime,\n",
    "              num_nodes = 200,\n",
    "              edge_width=1,\n",
    "              node_size_multiplier=5,\n",
    "              hover = False,\n",
    "              hover_connected_edges = False,\n",
    "              node_font_size=25,\n",
    "              graph_id = 11)\n",
    "html"
   ]
  },
  {
   "cell_type": "code",
   "execution_count": null,
   "metadata": {
    "collapsed": true
   },
   "outputs": [],
   "source": []
  },
  {
   "cell_type": "code",
   "execution_count": null,
   "metadata": {
    "collapsed": true
   },
   "outputs": [],
   "source": []
  },
  {
   "cell_type": "code",
   "execution_count": null,
   "metadata": {
    "collapsed": true
   },
   "outputs": [],
   "source": []
  },
  {
   "cell_type": "code",
   "execution_count": null,
   "metadata": {
    "collapsed": true
   },
   "outputs": [],
   "source": []
  },
  {
   "cell_type": "code",
   "execution_count": 9,
   "metadata": {
    "collapsed": true
   },
   "outputs": [],
   "source": [
    "x_edges = [(1,2),(1,3),(1,4),(1,5),(2,3),(2,4),(2,5),(3,4),(3,5),(4,5),(6,7),(6,8),(6,9),(6,10),(7,8),(7,9),(7,10),(8,9),\n",
    "            (8,10),(9,10),(4,10),(1,9),(8,3),(6,5),(7,2),(11,2),(11,7),(11,10),(12,3),(12,8),(13,1),(13,10),(15,2),(15,3),(15,13)]\n",
    "x_G = nx.Graph(x_edges)"
   ]
  },
  {
   "cell_type": "code",
   "execution_count": 10,
   "metadata": {
    "collapsed": true
   },
   "outputs": [],
   "source": [
    "x_node_to_cluster = community.best_partition(x_G)"
   ]
  },
  {
   "cell_type": "code",
   "execution_count": 11,
   "metadata": {},
   "outputs": [
    {
     "data": {
      "text/plain": [
       "{1: 0,\n",
       " 2: 0,\n",
       " 3: 0,\n",
       " 4: 0,\n",
       " 5: 0,\n",
       " 6: 1,\n",
       " 7: 1,\n",
       " 8: 1,\n",
       " 9: 1,\n",
       " 10: 1,\n",
       " 11: 1,\n",
       " 12: 0,\n",
       " 13: 0,\n",
       " 15: 0}"
      ]
     },
     "execution_count": 11,
     "metadata": {},
     "output_type": "execute_result"
    }
   ],
   "source": [
    "x_node_to_cluster"
   ]
  },
  {
   "cell_type": "code",
   "execution_count": 12,
   "metadata": {},
   "outputs": [
    {
     "data": {
      "text/plain": [
       "{1: array([ 0.46103064,  0.54995217]),\n",
       " 2: array([ 0.36617802,  0.68440125]),\n",
       " 3: array([ 0.28746095,  0.29549474]),\n",
       " 4: array([ 0.25148389,  0.4892981 ]),\n",
       " 5: array([ 0.50094765,  0.32507271]),\n",
       " 6: array([ 0.91182003,  0.41316342]),\n",
       " 7: array([ 0.80632666,  0.73429647]),\n",
       " 8: array([ 0.72077933,  0.32295785]),\n",
       " 9: array([ 0.91954019,  0.58398888]),\n",
       " 10: array([ 0.6271457 ,  0.68946312]),\n",
       " 11: array([ 0.61486197,  1.        ]),\n",
       " 12: array([ 0.45971638,  0.        ]),\n",
       " 13: array([ 0.20174121,  0.86262025]),\n",
       " 15: array([ 0.        ,  0.60201047])}"
      ]
     },
     "execution_count": 12,
     "metadata": {},
     "output_type": "execute_result"
    }
   ],
   "source": [
    "x_pos = nx.spring_layout(x_G)\n",
    "x_pos"
   ]
  },
  {
   "cell_type": "code",
   "execution_count": 13,
   "metadata": {},
   "outputs": [
    {
     "data": {
      "text/plain": [
       "{1: array([ 0.96103064,  0.54995217]),\n",
       " 2: array([ 0.86617802,  0.68440125]),\n",
       " 3: array([ 0.78746095,  0.29549474]),\n",
       " 4: array([ 0.75148389,  0.4892981 ]),\n",
       " 5: array([ 1.00094765,  0.32507271]),\n",
       " 6: array([ 0.41182003,  0.41316342]),\n",
       " 7: array([ 0.30632666,  0.73429647]),\n",
       " 8: array([ 0.22077933,  0.32295785]),\n",
       " 9: array([ 0.41954019,  0.58398888]),\n",
       " 10: array([ 0.1271457 ,  0.68946312]),\n",
       " 11: array([ 0.11486197,  1.        ]),\n",
       " 12: array([ 0.95971638,  0.        ]),\n",
       " 13: array([ 0.70174121,  0.86262025]),\n",
       " 15: array([ 0.5       ,  0.60201047])}"
      ]
     },
     "execution_count": 13,
     "metadata": {},
     "output_type": "execute_result"
    }
   ],
   "source": [
    "x_rad_pos = heat_and_cluster.bias_position_by_partition(x_pos, x_node_to_cluster, r=0.5)\n",
    "x_rad_pos"
   ]
  },
  {
   "cell_type": "code",
   "execution_count": 21,
   "metadata": {},
   "outputs": [
    {
     "data": {
      "text/html": [
       "<!doctype html><html><head>  <title>Network | Basic usage</title></head><body><script type=\"text/javascript\">function setUpFrame() {     var frame = window.frames[\"style_file5473\"];    frame.runVis([{\"node_shape\": \"dot\", \"degree\": 3.0, \"title\": 1, \"color\": \"pink\", \"node_size\": 20, \"y\": 384.9665205271273, \"x\": 322.7214492312926, \"border_width\": 0, \"id\": 1}, {\"node_shape\": \"dot\", \"degree\": 3.0, \"title\": 2, \"color\": \"pink\", \"node_size\": 20, \"y\": 479.0808758434566, \"x\": 256.32461148863325, \"border_width\": 0, \"id\": 2}, {\"node_shape\": \"dot\", \"degree\": 3.0, \"title\": 3, \"color\": \"pink\", \"node_size\": 20, \"y\": 206.8463199452444, \"x\": 201.22266611722284, \"border_width\": 0, \"id\": 3}, {\"node_shape\": \"dot\", \"degree\": 3.0, \"title\": 4, \"color\": \"pink\", \"node_size\": 20, \"y\": 342.5086684932311, \"x\": 176.03872068174206, \"border_width\": 0, \"id\": 4}, {\"node_shape\": \"dot\", \"degree\": 3.0, \"title\": 5, \"color\": \"pink\", \"node_size\": 20, \"y\": 227.55089621311097, \"x\": 350.66335288933914, \"border_width\": 0, \"id\": 5}, {\"node_shape\": \"star\", \"degree\": 3.0, \"title\": 6, \"color\": \"pink\", \"node_size\": 20, \"y\": 289.2143969961705, \"x\": 638.2740235105401, \"border_width\": 0, \"id\": 6}, {\"node_shape\": \"star\", \"degree\": 3.0, \"title\": 7, \"color\": \"pink\", \"node_size\": 20, \"y\": 514.0075304134757, \"x\": 564.4286622201546, \"border_width\": 0, \"id\": 7}, {\"node_shape\": \"star\", \"degree\": 3.0, \"title\": 8, \"color\": \"pink\", \"node_size\": 20, \"y\": 226.07049753977148, \"x\": 504.54553195969817, \"border_width\": 0, \"id\": 8}, {\"node_shape\": \"star\", \"degree\": 3.0, \"title\": 9, \"color\": \"pink\", \"node_size\": 20, \"y\": 408.79221692079284, \"x\": 643.6781305875304, \"border_width\": 0, \"id\": 9}, {\"node_shape\": \"star\", \"degree\": 3.0, \"title\": 10, \"color\": \"pink\", \"node_size\": 20, \"y\": 482.62418614426167, \"x\": 439.0019879795812, \"border_width\": 0, \"id\": 10}, {\"node_shape\": \"star\", \"degree\": 3.0, \"title\": 11, \"color\": \"pink\", \"node_size\": 20, \"y\": 700.0, \"x\": 430.4033807719187, \"border_width\": 0, \"id\": 11}, {\"node_shape\": \"dot\", \"degree\": 3.0, \"title\": 12, \"color\": \"pink\", \"node_size\": 20, \"y\": 0.0, \"x\": 321.8014657552126, \"border_width\": 0, \"id\": 12}, {\"node_shape\": \"dot\", \"degree\": 3.0, \"title\": 13, \"color\": \"pink\", \"node_size\": 20, \"y\": 603.8341726097707, \"x\": 141.218846930892, \"border_width\": 0, \"id\": 13}, {\"node_shape\": \"dot\", \"degree\": 3.0, \"title\": 15, \"color\": \"pink\", \"node_size\": 20, \"y\": 421.4073319965612, \"x\": 0.0, \"border_width\": 0, \"id\": 15}], [{\"color\": \"orange\", \"source\": 0, \"target\": 1}, {\"color\": \"orange\", \"source\": 0, \"target\": 2}, {\"color\": \"orange\", \"source\": 0, \"target\": 3}, {\"color\": \"orange\", \"source\": 0, \"target\": 4}, {\"color\": \"orange\", \"source\": 0, \"target\": 8}, {\"color\": \"orange\", \"source\": 0, \"target\": 12}, {\"color\": \"orange\", \"source\": 1, \"target\": 2}, {\"color\": \"orange\", \"source\": 1, \"target\": 3}, {\"color\": \"orange\", \"source\": 1, \"target\": 4}, {\"color\": \"orange\", \"source\": 1, \"target\": 6}, {\"color\": \"orange\", \"source\": 1, \"target\": 10}, {\"color\": \"orange\", \"source\": 1, \"target\": 13}, {\"color\": \"orange\", \"source\": 2, \"target\": 3}, {\"color\": \"orange\", \"source\": 2, \"target\": 4}, {\"color\": \"orange\", \"source\": 2, \"target\": 7}, {\"color\": \"orange\", \"source\": 2, \"target\": 11}, {\"color\": \"orange\", \"source\": 2, \"target\": 13}, {\"color\": \"orange\", \"source\": 3, \"target\": 9}, {\"color\": \"orange\", \"source\": 3, \"target\": 4}, {\"color\": \"orange\", \"source\": 4, \"target\": 5}, {\"color\": \"orange\", \"source\": 5, \"target\": 7}, {\"color\": \"orange\", \"source\": 5, \"target\": 8}, {\"color\": \"orange\", \"source\": 5, \"target\": 9}, {\"color\": \"orange\", \"source\": 5, \"target\": 6}, {\"color\": \"orange\", \"source\": 6, \"target\": 7}, {\"color\": \"orange\", \"source\": 6, \"target\": 8}, {\"color\": \"orange\", \"source\": 6, \"target\": 9}, {\"color\": \"orange\", \"source\": 6, \"target\": 10}, {\"color\": \"orange\", \"source\": 7, \"target\": 8}, {\"color\": \"orange\", \"source\": 7, \"target\": 9}, {\"color\": \"orange\", \"source\": 7, \"target\": 11}, {\"color\": \"orange\", \"source\": 8, \"target\": 9}, {\"color\": \"orange\", \"source\": 9, \"target\": 10}, {\"color\": \"orange\", \"source\": 9, \"target\": 12}, {\"color\": \"orange\", \"source\": 12, \"target\": 13}]);}</script><iframe name=\"style_file5473\" src=\"style_file5473.html\" width=\"100%;\" height=\"805px\"></iframe></body></html>"
      ],
      "text/plain": [
       "<IPython.core.display.HTML object>"
      ]
     },
     "execution_count": 21,
     "metadata": {},
     "output_type": "execute_result"
    }
   ],
   "source": [
    "nodes = x_G.nodes()\n",
    "edges = x_G.edges()\n",
    "node_to_shape = {n:'dot' if x_node_to_cluster[n] == 0 else 'star' for n in nodes}\n",
    "\n",
    "# per node attributes\n",
    "nodes_dict = [{\"id\":n,\n",
    "               \"color\":'pink',\n",
    "               \"node_shape\": node_to_shape[n],\n",
    "               \"node_size\": 20,\n",
    "               \"x\":x_pos[n][0]*700,\n",
    "               \"y\":x_pos[n][1]*700} for n in nodes\n",
    "              ]\n",
    "\n",
    "# map to indices for source/target in edges\n",
    "node_map = dict(zip(nodes,range(len(nodes)))) \n",
    "\n",
    "# per edge attributes\n",
    "edges_dict = [{\"source\":node_map[edges[i][0]], \"target\":node_map[edges[i][1]], \n",
    "              \"color\":'orange'} for i in range(len(edges))]\n",
    "\n",
    "# set some network-wide styles\n",
    "visJS_module.visjs_network(nodes_dict,edges_dict, graph_id = 5473, node_size_multiplier = 10)"
   ]
  },
  {
   "cell_type": "code",
   "execution_count": 23,
   "metadata": {},
   "outputs": [
    {
     "data": {
      "text/html": [
       "<!doctype html><html><head>  <title>Network | Basic usage</title></head><body><script type=\"text/javascript\">function setUpFrame() {     var frame = window.frames[\"style_file573\"];    frame.runVis([{\"node_shape\": \"dot\", \"degree\": 3.0, \"title\": 1, \"color\": \"pink\", \"node_size\": 20, \"y\": 1099.9043443632208, \"x\": 1922.0612835179786, \"border_width\": 0, \"id\": 1}, {\"node_shape\": \"dot\", \"degree\": 3.0, \"title\": 2, \"color\": \"pink\", \"node_size\": 20, \"y\": 1368.802502409876, \"x\": 1732.3560328246663, \"border_width\": 0, \"id\": 2}, {\"node_shape\": \"dot\", \"degree\": 3.0, \"title\": 3, \"color\": \"pink\", \"node_size\": 20, \"y\": 590.9894855578411, \"x\": 1574.9219031920654, \"border_width\": 0, \"id\": 3}, {\"node_shape\": \"dot\", \"degree\": 3.0, \"title\": 4, \"color\": \"pink\", \"node_size\": 20, \"y\": 978.5961956949459, \"x\": 1502.967773376406, \"border_width\": 0, \"id\": 4}, {\"node_shape\": \"dot\", \"degree\": 3.0, \"title\": 5, \"color\": \"pink\", \"node_size\": 20, \"y\": 650.1454177517456, \"x\": 2001.8952939695405, \"border_width\": 0, \"id\": 5}, {\"node_shape\": \"star\", \"degree\": 3.0, \"title\": 6, \"color\": \"pink\", \"node_size\": 20, \"y\": 826.3268485604872, \"x\": 823.6400671729717, \"border_width\": 0, \"id\": 6}, {\"node_shape\": \"star\", \"degree\": 3.0, \"title\": 7, \"color\": \"pink\", \"node_size\": 20, \"y\": 1468.5929440385023, \"x\": 612.6533206290133, \"border_width\": 0, \"id\": 7}, {\"node_shape\": \"star\", \"degree\": 3.0, \"title\": 8, \"color\": \"pink\", \"node_size\": 20, \"y\": 645.91570725649, \"x\": 441.55866274199474, \"border_width\": 0, \"id\": 8}, {\"node_shape\": \"star\", \"degree\": 3.0, \"title\": 9, \"color\": \"pink\", \"node_size\": 20, \"y\": 1167.9777626308369, \"x\": 839.0803731072298, \"border_width\": 0, \"id\": 9}, {\"node_shape\": \"star\", \"degree\": 3.0, \"title\": 10, \"color\": \"pink\", \"node_size\": 20, \"y\": 1378.9262461264623, \"x\": 254.29139422737478, \"border_width\": 0, \"id\": 10}, {\"node_shape\": \"star\", \"degree\": 3.0, \"title\": 11, \"color\": \"pink\", \"node_size\": 20, \"y\": 2000.0, \"x\": 229.72394506262495, \"border_width\": 0, \"id\": 11}, {\"node_shape\": \"dot\", \"degree\": 3.0, \"title\": 12, \"color\": \"pink\", \"node_size\": 20, \"y\": 0.0, \"x\": 1919.4327593006074, \"border_width\": 0, \"id\": 12}, {\"node_shape\": \"dot\", \"degree\": 3.0, \"title\": 13, \"color\": \"pink\", \"node_size\": 20, \"y\": 1725.2404931707733, \"x\": 1403.4824198025485, \"border_width\": 0, \"id\": 13}, {\"node_shape\": \"dot\", \"degree\": 3.0, \"title\": 15, \"color\": \"pink\", \"node_size\": 20, \"y\": 1204.0209485616033, \"x\": 1000.0, \"border_width\": 0, \"id\": 15}], [{\"color\": \"orange\", \"source\": 0, \"target\": 1}, {\"color\": \"orange\", \"source\": 0, \"target\": 2}, {\"color\": \"orange\", \"source\": 0, \"target\": 3}, {\"color\": \"orange\", \"source\": 0, \"target\": 4}, {\"color\": \"orange\", \"source\": 0, \"target\": 8}, {\"color\": \"orange\", \"source\": 0, \"target\": 12}, {\"color\": \"orange\", \"source\": 1, \"target\": 2}, {\"color\": \"orange\", \"source\": 1, \"target\": 3}, {\"color\": \"orange\", \"source\": 1, \"target\": 4}, {\"color\": \"orange\", \"source\": 1, \"target\": 6}, {\"color\": \"orange\", \"source\": 1, \"target\": 10}, {\"color\": \"orange\", \"source\": 1, \"target\": 13}, {\"color\": \"orange\", \"source\": 2, \"target\": 3}, {\"color\": \"orange\", \"source\": 2, \"target\": 4}, {\"color\": \"orange\", \"source\": 2, \"target\": 7}, {\"color\": \"orange\", \"source\": 2, \"target\": 11}, {\"color\": \"orange\", \"source\": 2, \"target\": 13}, {\"color\": \"orange\", \"source\": 3, \"target\": 9}, {\"color\": \"orange\", \"source\": 3, \"target\": 4}, {\"color\": \"orange\", \"source\": 4, \"target\": 5}, {\"color\": \"orange\", \"source\": 5, \"target\": 7}, {\"color\": \"orange\", \"source\": 5, \"target\": 8}, {\"color\": \"orange\", \"source\": 5, \"target\": 9}, {\"color\": \"orange\", \"source\": 5, \"target\": 6}, {\"color\": \"orange\", \"source\": 6, \"target\": 7}, {\"color\": \"orange\", \"source\": 6, \"target\": 8}, {\"color\": \"orange\", \"source\": 6, \"target\": 9}, {\"color\": \"orange\", \"source\": 6, \"target\": 10}, {\"color\": \"orange\", \"source\": 7, \"target\": 8}, {\"color\": \"orange\", \"source\": 7, \"target\": 9}, {\"color\": \"orange\", \"source\": 7, \"target\": 11}, {\"color\": \"orange\", \"source\": 8, \"target\": 9}, {\"color\": \"orange\", \"source\": 9, \"target\": 10}, {\"color\": \"orange\", \"source\": 9, \"target\": 12}, {\"color\": \"orange\", \"source\": 12, \"target\": 13}]);}</script><iframe name=\"style_file573\" src=\"style_file573.html\" width=\"100%;\" height=\"805px\"></iframe></body></html>"
      ],
      "text/plain": [
       "<IPython.core.display.HTML object>"
      ]
     },
     "execution_count": 23,
     "metadata": {},
     "output_type": "execute_result"
    }
   ],
   "source": [
    "# per node attributes\n",
    "nodes_dict = [{\"id\":n,\n",
    "               \"color\":'pink',\n",
    "               \"node_shape\": node_to_shape[n],\n",
    "               \"node_size\": 20,\n",
    "               \"x\":x_rad_pos[n][0]*2000,\n",
    "               \"y\":x_rad_pos[n][1]*2000} for n in nodes\n",
    "              ]\n",
    "\n",
    "# set some network-wide styles\n",
    "visJS_module.visjs_network(nodes_dict,edges_dict, graph_id = 573, node_size_multiplier = 30)"
   ]
  },
  {
   "cell_type": "code",
   "execution_count": 25,
   "metadata": {
    "scrolled": true
   },
   "outputs": [
    {
     "data": {
      "text/html": [
       "<!doctype html><html><head>  <title>Network | Basic usage</title></head><body><script type=\"text/javascript\">function setUpFrame() {     var frame = window.frames[\"style_file490823\"];    frame.runVis([{\"node_label\": \"1\", \"border_width\": 0, \"node_shape\": \"triangle\", \"y\": 1134.975553148873, \"degree\": 6, \"node_size\": 10, \"color\": \"#ff0044\", \"x\": 3247.435484103464, \"title\": \"1<br/>cluster = 0\", \"id\": \"1\"}, {\"node_label\": \"\", \"border_width\": 0, \"node_shape\": \"dot\", \"y\": 900.7308467701656, \"degree\": 7, \"node_size\": 10, \"color\": \"#ff0044\", \"x\": 2854.7648490397487, \"title\": \"2<br/>cluster = 0\", \"id\": \"2\"}, {\"node_label\": \"3\", \"border_width\": 0, \"node_shape\": \"triangle\", \"y\": 1617.2768473870476, \"degree\": 7, \"node_size\": 10, \"color\": \"#ff0044\", \"x\": 4004.1403393949145, \"title\": \"3<br/>cluster = 0\", \"id\": \"3\"}, {\"node_label\": \"\", \"border_width\": 0, \"node_shape\": \"dot\", \"y\": 1027.1285657027706, \"degree\": 5, \"node_size\": 10, \"color\": \"#ff0044\", \"x\": 3709.9212242127046, \"title\": \"4<br/>cluster = 0\", \"id\": \"4\"}, {\"node_label\": \"5\", \"border_width\": 0, \"node_shape\": \"triangle\", \"y\": 1864.0532590458365, \"degree\": 5, \"node_size\": 10, \"color\": \"#ff0044\", \"x\": 3345.622590881358, \"title\": \"5<br/>cluster = 0\", \"id\": \"5\"}, {\"node_label\": \"\", \"border_width\": 0, \"node_shape\": \"dot\", \"y\": 2674.1014081322614, \"degree\": 5, \"node_size\": 10, \"color\": \"#a300cc\", \"x\": -697.2897803313027, \"title\": \"6<br/>cluster = 1\", \"id\": \"6\"}, {\"node_label\": \"7\", \"border_width\": 0, \"node_shape\": \"triangle\", \"y\": 1853.5868339850945, \"degree\": 6, \"node_size\": 10, \"color\": \"#a300cc\", \"x\": -1095.3311954098647, \"title\": \"7<br/>cluster = 1\", \"id\": \"7\"}, {\"node_label\": \"\", \"border_width\": 0, \"node_shape\": \"dot\", \"y\": 2538.4818386764446, \"degree\": 6, \"node_size\": 10, \"color\": \"#a300cc\", \"x\": 134.5355523647207, \"title\": \"8<br/>cluster = 1\", \"id\": \"8\"}, {\"node_label\": \"9\", \"border_width\": 0, \"node_shape\": \"triangle\", \"y\": 2181.61147259676, \"degree\": 5, \"node_size\": 10, \"color\": \"#a300cc\", \"x\": -582.433105663938, \"title\": \"9<br/>cluster = 1\", \"id\": \"9\"}, {\"node_label\": \"\", \"border_width\": 0, \"node_shape\": \"dot\", \"y\": 1430.0132771948836, \"degree\": 7, \"node_size\": 10, \"color\": \"#a300cc\", \"x\": -567.2465012579813, \"title\": \"10<br/>cluster = 1\", \"id\": \"10\"}, {\"node_label\": \"\", \"border_width\": 0, \"node_shape\": \"dot\", \"y\": 895.8943511348322, \"degree\": 3, \"node_size\": 10, \"color\": \"#a300cc\", \"x\": -1500.0, \"title\": \"11<br/>cluster = 1\", \"id\": \"11\"}, {\"node_label\": \"\", \"border_width\": 0, \"node_shape\": \"dot\", \"y\": 2977.256510628072, \"degree\": 2, \"node_size\": 10, \"color\": \"#ff0044\", \"x\": 4500.0, \"title\": \"12<br/>cluster = 0\", \"id\": \"12\"}, {\"node_label\": \"\", \"border_width\": 0, \"node_shape\": \"dot\", \"y\": 0.0, \"degree\": 3, \"node_size\": 10, \"color\": \"#ff0044\", \"x\": 2918.9940728821643, \"title\": \"13<br/>cluster = 0\", \"id\": \"13\"}, {\"node_label\": \"\", \"border_width\": 0, \"node_shape\": \"dot\", \"y\": 125.87704250588642, \"degree\": 3, \"node_size\": 10, \"color\": \"#ff0044\", \"x\": 3900.5449989722533, \"title\": \"15<br/>cluster = 0\", \"id\": \"15\"}], [{\"color\": \"grey\", \"source\": 0, \"target\": 1}, {\"color\": \"grey\", \"source\": 0, \"target\": 2}, {\"color\": \"grey\", \"source\": 0, \"target\": 3}, {\"color\": \"grey\", \"source\": 0, \"target\": 4}, {\"color\": \"grey\", \"source\": 0, \"target\": 8}, {\"color\": \"grey\", \"source\": 0, \"target\": 12}, {\"color\": \"grey\", \"source\": 1, \"target\": 2}, {\"color\": \"grey\", \"source\": 1, \"target\": 3}, {\"color\": \"grey\", \"source\": 1, \"target\": 4}, {\"color\": \"grey\", \"source\": 1, \"target\": 6}, {\"color\": \"grey\", \"source\": 1, \"target\": 10}, {\"color\": \"grey\", \"source\": 1, \"target\": 13}, {\"color\": \"grey\", \"source\": 2, \"target\": 3}, {\"color\": \"grey\", \"source\": 2, \"target\": 4}, {\"color\": \"grey\", \"source\": 2, \"target\": 7}, {\"color\": \"grey\", \"source\": 2, \"target\": 11}, {\"color\": \"grey\", \"source\": 2, \"target\": 13}, {\"color\": \"grey\", \"source\": 3, \"target\": 9}, {\"color\": \"grey\", \"source\": 3, \"target\": 4}, {\"color\": \"grey\", \"source\": 4, \"target\": 5}, {\"color\": \"grey\", \"source\": 5, \"target\": 7}, {\"color\": \"grey\", \"source\": 5, \"target\": 8}, {\"color\": \"grey\", \"source\": 5, \"target\": 9}, {\"color\": \"grey\", \"source\": 5, \"target\": 6}, {\"color\": \"grey\", \"source\": 6, \"target\": 7}, {\"color\": \"grey\", \"source\": 6, \"target\": 8}, {\"color\": \"grey\", \"source\": 6, \"target\": 9}, {\"color\": \"grey\", \"source\": 6, \"target\": 10}, {\"color\": \"grey\", \"source\": 7, \"target\": 8}, {\"color\": \"grey\", \"source\": 7, \"target\": 9}, {\"color\": \"grey\", \"source\": 7, \"target\": 11}, {\"color\": \"grey\", \"source\": 8, \"target\": 9}, {\"color\": \"grey\", \"source\": 9, \"target\": 10}, {\"color\": \"grey\", \"source\": 9, \"target\": 12}, {\"color\": \"grey\", \"source\": 12, \"target\": 13}]);}</script><iframe name=\"style_file490823\" src=\"style_file490823.html\" width=\"100%;\" height=\"805px\"></iframe></body></html>"
      ],
      "text/plain": [
       "<IPython.core.display.HTML object>"
      ]
     },
     "execution_count": 25,
     "metadata": {},
     "output_type": "execute_result"
    }
   ],
   "source": [
    "reload(heat_and_cluster)\n",
    "html, cluster_pos, rad_pos, node_to_cluster = heat_and_cluster.draw_rad_clustering(x_G,\n",
    "              [1,3,5,7,9],\n",
    "              node_spacing = 3000,\n",
    "              r = 20,\n",
    "              cluster_size_cut_off = 0,\n",
    "              num_nodes = 300,\n",
    "              edge_width=2,\n",
    "              node_size_multiplier=15,\n",
    "              hover = False,\n",
    "              hover_connected_edges = False,\n",
    "              node_font_size= 40,\n",
    "              graph_id = 490823)\n",
    "html"
   ]
  },
  {
   "cell_type": "code",
   "execution_count": 17,
   "metadata": {},
   "outputs": [
    {
     "data": {
      "text/html": [
       "<!doctype html><html><head>  <title>Network | Basic usage</title></head><body><script type=\"text/javascript\">function setUpFrame() {     var frame = window.frames[\"style_file15437\"];    frame.runVis([{\"node_label\": \"1\", \"border_width\": 0, \"node_shape\": \"triangle\", \"y\": 1317.9445092705246, \"degree\": 6, \"node_size\": 10, \"color\": \"#ff0044\", \"x\": 2857.394708720034, \"title\": \"1<br/>cluster = 0\", \"id\": \"1\"}, {\"node_label\": \"\", \"border_width\": 0, \"node_shape\": \"dot\", \"y\": 1443.0358507161782, \"degree\": 7, \"node_size\": 10, \"color\": \"#ff0044\", \"x\": 3490.167012058762, \"title\": \"2<br/>cluster = 0\", \"id\": \"2\"}, {\"node_label\": \"3\", \"border_width\": 0, \"node_shape\": \"triangle\", \"y\": 2054.2470146524256, \"degree\": 7, \"node_size\": 10, \"color\": \"#ff0044\", \"x\": 2673.7862583513643, \"title\": \"3<br/>cluster = 0\", \"id\": \"3\"}, {\"node_label\": \"\", \"border_width\": 0, \"node_shape\": \"dot\", \"y\": 1951.6342689842659, \"degree\": 5, \"node_size\": 10, \"color\": \"#ff0044\", \"x\": 3492.6130458235552, \"title\": \"4<br/>cluster = 0\", \"id\": \"4\"}, {\"node_label\": \"5\", \"border_width\": 0, \"node_shape\": \"triangle\", \"y\": 2480.925665348182, \"degree\": 5, \"node_size\": 10, \"color\": \"#ff0044\", \"x\": 3174.453923299983, \"title\": \"5<br/>cluster = 0\", \"id\": \"5\"}, {\"node_label\": \"\", \"border_width\": 0, \"node_shape\": \"dot\", \"y\": 2093.326378107198, \"degree\": 5, \"node_size\": 10, \"color\": \"#a300cc\", \"x\": -1016.6452520618806, \"title\": \"6<br/>cluster = 1\", \"id\": \"6\"}, {\"node_label\": \"7\", \"border_width\": 0, \"node_shape\": \"triangle\", \"y\": 1392.6087907746985, \"degree\": 6, \"node_size\": 10, \"color\": \"#a300cc\", \"x\": -693.1387996071466, \"title\": \"7<br/>cluster = 1\", \"id\": \"7\"}, {\"node_label\": \"\", \"border_width\": 0, \"node_shape\": \"dot\", \"y\": 1964.9316473043623, \"degree\": 6, \"node_size\": 10, \"color\": \"#a300cc\", \"x\": -1500.0, \"title\": \"8<br/>cluster = 1\", \"id\": \"8\"}, {\"node_label\": \"9\", \"border_width\": 0, \"node_shape\": \"triangle\", \"y\": 1229.2253971635407, \"degree\": 5, \"node_size\": 10, \"color\": \"#a300cc\", \"x\": -1464.6241321892396, \"title\": \"9<br/>cluster = 1\", \"id\": \"9\"}, {\"node_label\": \"\", \"border_width\": 0, \"node_shape\": \"dot\", \"y\": 998.2793675805686, \"degree\": 7, \"node_size\": 10, \"color\": \"#a300cc\", \"x\": -692.8034077202171, \"title\": \"10<br/>cluster = 1\", \"id\": \"10\"}, {\"node_label\": \"\", \"border_width\": 0, \"node_shape\": \"dot\", \"y\": 689.504461776102, \"degree\": 3, \"node_size\": 10, \"color\": \"#a300cc\", \"x\": 544.7631009421937, \"title\": \"11<br/>cluster = 1\", \"id\": \"11\"}, {\"node_label\": \"\", \"border_width\": 0, \"node_shape\": \"dot\", \"y\": 3000.0, \"degree\": 2, \"node_size\": 10, \"color\": \"#ff0044\", \"x\": 1620.6493525895462, \"title\": \"12<br/>cluster = 0\", \"id\": \"12\"}, {\"node_label\": \"\", \"border_width\": 0, \"node_shape\": \"dot\", \"y\": 0.0, \"degree\": 3, \"node_size\": 10, \"color\": \"#ff0044\", \"x\": 2501.6597763327372, \"title\": \"13<br/>cluster = 0\", \"id\": \"13\"}, {\"node_label\": \"\", \"border_width\": 0, \"node_shape\": \"dot\", \"y\": 486.5672870693747, \"degree\": 3, \"node_size\": 10, \"color\": \"#ff0044\", \"x\": 3125.4710458221193, \"title\": \"15<br/>cluster = 0\", \"id\": \"15\"}], [{\"color\": \"grey\", \"source\": 0, \"target\": 1}, {\"color\": \"grey\", \"source\": 0, \"target\": 2}, {\"color\": \"grey\", \"source\": 0, \"target\": 3}, {\"color\": \"grey\", \"source\": 0, \"target\": 4}, {\"color\": \"grey\", \"source\": 0, \"target\": 8}, {\"color\": \"grey\", \"source\": 0, \"target\": 12}, {\"color\": \"grey\", \"source\": 1, \"target\": 2}, {\"color\": \"grey\", \"source\": 1, \"target\": 3}, {\"color\": \"grey\", \"source\": 1, \"target\": 4}, {\"color\": \"grey\", \"source\": 1, \"target\": 6}, {\"color\": \"grey\", \"source\": 1, \"target\": 10}, {\"color\": \"grey\", \"source\": 1, \"target\": 13}, {\"color\": \"grey\", \"source\": 2, \"target\": 3}, {\"color\": \"grey\", \"source\": 2, \"target\": 4}, {\"color\": \"grey\", \"source\": 2, \"target\": 7}, {\"color\": \"grey\", \"source\": 2, \"target\": 11}, {\"color\": \"grey\", \"source\": 2, \"target\": 13}, {\"color\": \"grey\", \"source\": 3, \"target\": 9}, {\"color\": \"grey\", \"source\": 3, \"target\": 4}, {\"color\": \"grey\", \"source\": 4, \"target\": 5}, {\"color\": \"grey\", \"source\": 5, \"target\": 7}, {\"color\": \"grey\", \"source\": 5, \"target\": 8}, {\"color\": \"grey\", \"source\": 5, \"target\": 9}, {\"color\": \"grey\", \"source\": 5, \"target\": 6}, {\"color\": \"grey\", \"source\": 6, \"target\": 7}, {\"color\": \"grey\", \"source\": 6, \"target\": 8}, {\"color\": \"grey\", \"source\": 6, \"target\": 9}, {\"color\": \"grey\", \"source\": 6, \"target\": 10}, {\"color\": \"grey\", \"source\": 7, \"target\": 8}, {\"color\": \"grey\", \"source\": 7, \"target\": 9}, {\"color\": \"grey\", \"source\": 7, \"target\": 11}, {\"color\": \"grey\", \"source\": 8, \"target\": 9}, {\"color\": \"grey\", \"source\": 9, \"target\": 10}, {\"color\": \"grey\", \"source\": 9, \"target\": 12}, {\"color\": \"grey\", \"source\": 12, \"target\": 13}]);}</script><iframe name=\"style_file15437\" src=\"style_file15437.html\" width=\"100%;\" height=\"805px\"></iframe></body></html>"
      ],
      "text/plain": [
       "<IPython.core.display.HTML object>"
      ]
     },
     "execution_count": 17,
     "metadata": {},
     "output_type": "execute_result"
    }
   ],
   "source": [
    "reload(heat_and_cluster)\n",
    "html, cluster_pos, rad_pos, node_to_cluster = heat_and_cluster.draw_rad_clustering(x_G,\n",
    "              [1,3,5,7,9],\n",
    "              node_spacing = 3000,\n",
    "              r = 2,\n",
    "              cluster_size_cut_off = 0,\n",
    "              num_nodes = 300,\n",
    "              edge_width=2,\n",
    "              node_size_multiplier=5,\n",
    "              hover = False,\n",
    "              hover_connected_edges = False,\n",
    "              physics_enabled = True,\n",
    "              node_font_size= 40,\n",
    "              graph_id = 15437)\n",
    "html"
   ]
  },
  {
   "cell_type": "code",
   "execution_count": null,
   "metadata": {
    "collapsed": true
   },
   "outputs": [],
   "source": []
  }
 ],
 "metadata": {
  "kernelspec": {
   "display_name": "Python 2",
   "language": "python",
   "name": "python2"
  },
  "language_info": {
   "codemirror_mode": {
    "name": "ipython",
    "version": 2
   },
   "file_extension": ".py",
   "mimetype": "text/x-python",
   "name": "python",
   "nbconvert_exporter": "python",
   "pygments_lexer": "ipython2",
   "version": "2.7.14"
  }
 },
 "nbformat": 4,
 "nbformat_minor": 2
}
