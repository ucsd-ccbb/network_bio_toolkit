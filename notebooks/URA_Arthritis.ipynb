{
 "cells": [
  {
   "cell_type": "markdown",
   "metadata": {},
   "source": [
    "# Upstream Regulator Analysis Package\n",
    "## Arthritis Case Study\n",
    "\n",
    "----------------------\n",
    "\n",
    "Author: Mikayla Webster (m1webste@ucsd.edu)\n",
    "\n",
    "Date: 19th January, 2018\n",
    "\n",
    "----------------------\n",
    "\n",
    "<a id='toc'></a>\n",
    "## Table of Contents\n",
    "1. [Background](#background)\n",
    "2. [Import packages](#import)\n",
    "3. [Load Networks](#load)\n",
    "6. [P-value and Z-score Calculation](#pz)\n",
    "7. [Compare the Ingenuity Article's results to Ours](#comp)\n",
    "8. [Display Our results](#display)"
   ]
  },
  {
   "cell_type": "markdown",
   "metadata": {},
   "source": [
    "## Background\n",
    "<a id='background'></a>\n",
    "\n",
    "Need some info about where these genes come from. Also Some feedback from Katie and Adam on motivation will go good here!"
   ]
  },
  {
   "cell_type": "markdown",
   "metadata": {},
   "source": [
    "## Import packages\n",
    "<a id='import'></a>"
   ]
  },
  {
   "cell_type": "code",
   "execution_count": 21,
   "metadata": {
    "collapsed": true
   },
   "outputs": [],
   "source": [
    "import networkx as nx\n",
    "import pandas as pd\n",
    "import numpy as np\n",
    "import matplotlib.pyplot as plt\n",
    "\n",
    "# import upstream regulator modules\n",
    "import sys\n",
    "code_path = '../ura'\n",
    "sys.path.append(code_path)\n",
    "import create_graph\n",
    "import stat_analysis\n",
    "reload(create_graph)\n",
    "reload(stat_analysis)\n",
    "\n",
    "# network visualization package\n",
    "import visJS2jupyter.visJS_module as visJS_module # >> pip install visJS2jupyter"
   ]
  },
  {
   "cell_type": "code",
   "execution_count": 1,
   "metadata": {
    "collapsed": true
   },
   "outputs": [],
   "source": [
    "# User preferences\n",
    "symbol = 'symbol'\n",
    "entez = 'entrez'\n",
    "\n",
    "gene_type = symbol"
   ]
  },
  {
   "cell_type": "markdown",
   "metadata": {},
   "source": [
    "## Load Networks\n",
    "<a id='load'></a>\n",
    "\n",
    "1. List of all **Transcription Factors** (TF's) or regulators of interest to us\n",
    "    <br>\n",
    "    - Our sources are [slowkow](https://github.com/slowkow/tftargets) and [jaspar](http://jaspar.genereg.net/) TF databases\n",
    "    <br><br>\n",
    "2. **Background Network**: [STRING human protein interactions network](https://string-db.org/cgi/download.pl?UserId=9BGA8WkVMRl6&sessionId=HWUK6Dum9xC6&species_text=Homo+sapiens)  \n",
    "    - Filter our background network down to just the sub network of TF's and their targets\n",
    "    <br><br>\n",
    "3. User-supplied list of **Differentially Expressed Genes** (DEG's)"
   ]
  },
  {
   "cell_type": "code",
   "execution_count": 2,
   "metadata": {},
   "outputs": [
    {
     "name": "stdout",
     "output_type": "stream",
     "text": [
      "Number of TF's: 3983\n"
     ]
    }
   ],
   "source": [
    "# transcription factors\n",
    "TF_list = create_graph.create_TF_list(slowkow_bool=True,\n",
    "                    slowkow_files=['../TF_databases/slowkow_databases/TRED_TF.txt',\n",
    "                                   '../TF_databases/slowkow_databases/ITFP_TF.txt',\n",
    "                                   '../TF_databases/slowkow_databases/ENCODE_TF.txt',\n",
    "                                   '../TF_databases/slowkow_databases/Neph2012_TF.txt',\n",
    "                                   '../TF_databases/slowkow_databases/TRRUST_TF.txt',\n",
    "                                   '../TF_databases/slowkow_databases/Marbach2016_TF.txt'],\n",
    "                    slowkow_sep = '\\n',\n",
    "                    jaspar_bool=True,\n",
    "                    jaspar_file=\"../TF_databases/jaspar_genereg_matrix.txt\")\n",
    "print \"Number of TF's: \" + str(len(TF_list))"
   ]
  },
  {
   "cell_type": "code",
   "execution_count": 3,
   "metadata": {},
   "outputs": [
    {
     "name": "stdout",
     "output_type": "stream",
     "text": [
      "querying 1-1000...done.\n",
      "querying 1001-2000...done.\n",
      "querying 2001-3000...done.\n",
      "querying 3001-4000...done.\n",
      "querying 4001-5000...done.\n",
      "querying 5001-6000...done.\n",
      "querying 6001-7000...done.\n",
      "querying 7001-7374...done.\n",
      "Finished.\n",
      "56 input query terms found dup hits:\n",
      "\t[(u'ENSP00000359550', 3), (u'ENSP00000447879', 2), (u'ENSP00000364076', 2), (u'ENSP00000348986', 2),\n",
      "312 input query terms found no hit:\n",
      "\t[u'ENSP00000376684', u'ENSP00000289352', u'ENSP00000202788', u'ENSP00000373637', u'ENSP00000367802',\n",
      "Pass \"returnall=True\" to return complete lists of duplicate or missing query terms.\n",
      "Number of interactions: 28939\n"
     ]
    }
   ],
   "source": [
    "# background network\n",
    "filename = \"../background_networks/9606.protein.actions.v10.5.txt\"\n",
    "confidence_filter=400\n",
    "DG_TF, DG_universe = create_graph.load_STRING_to_digraph(filename, confidence_filter, TF_list) # supplying TF_list filters network\n",
    "print \"Number of interactions: \" + str(len(list(DG_TF.edges())))"
   ]
  },
  {
   "cell_type": "code",
   "execution_count": 28,
   "metadata": {
    "collapsed": true
   },
   "outputs": [],
   "source": [
    "def create_DEG_full_graph(filename):\n",
    "\n",
    "    df = pd.DataFrame.from_csv(filename, sep='\\t')\n",
    "\n",
    "    # remove duplicate lines for same gene symbol, just use first occurance\n",
    "    df.drop_duplicates(subset=['gene_symbol'], keep='first', inplace=True)\n",
    "\n",
    "    DEG_full_list = df['gene_symbol']\n",
    "    \n",
    "    DEG_full_graph = nx.DiGraph()\n",
    "    DEG_full_graph.add_nodes_from(DEG_full_list)\n",
    "\n",
    "    return DEG_full_graph\n",
    "\n",
    "def map_TF_to_DEG_attributes(filename, TF_list):\n",
    "    \n",
    "    DEG_list, DEG_to_adj_pvalue, DEG_to_updown = create_graph.create_DEG_list(DEG_filename, p_value_filter = 1)\n",
    "    TF_to_adjp = { k: DEG_to_adj_pvalue[k] if k in DEG_to_adj_pvalue else 0 for k in TF_list }\n",
    "    TF_to_foldchange = { k: DEG_to_adj_pvalue[k] if k in DEG_to_adj_pvalue else 0 for k in TF_list }\n",
    "    \n",
    "    return TF_to_adjp, TF_to_foldchange"
   ]
  },
  {
   "cell_type": "code",
   "execution_count": 29,
   "metadata": {},
   "outputs": [
    {
     "name": "stdout",
     "output_type": "stream",
     "text": [
      "Number of DEG's: 1456\n"
     ]
    }
   ],
   "source": [
    "# differentially expressed genes\n",
    "DEG_filename = \"../DEG_databases/DE_Coeff_OAvsNormal_OAvsNormal_20171215.csv\" \n",
    "DEG_full_graph = create_DEG_full_graph(DEG_filename) # create graph of full DEG file\n",
    "DEG_list, DEG_to_adj_pvalue, DEG_to_updown = create_graph.create_DEG_list(DEG_filename, \n",
    "                                                                          p_value_filter = 0.05, # p < 0.05\n",
    "                                                                          fold_change_filter = 1) # |fld| > 1\n",
    "DG_TF = create_graph.add_updown_from_DEG(DG_TF, DEG_to_updown) # add DEG information to our background network\n",
    "print \"Number of DEG's: \" + str(len(DEG_list))"
   ]
  },
  {
   "cell_type": "markdown",
   "metadata": {},
   "source": [
    "## P-values and Z-score Calculation\n",
    "<a id='pz'></a>\n",
    "\n",
    "1. **P-values**: How relevant is a TF to its DEG targets? Are they connected by chance, or is their connection statistically significant?\n",
    "    <br>\n",
    "    1. -log(p-value) for each TF using [scipy.stats.hypergeom.logsf](https://docs.scipy.org/doc/scipy-0.19.1/reference/generated/scipy.stats.hypergeom.html).\n",
    "        1. high value = significant connection between this TF and its DEG targets\n",
    "        2. low value = TF is randomly associated with its DEG targets\n",
    "        3. zero = None of this TF's targets were DEG's\n",
    "        4. inf = original p-value was so small that its log is inf. Very high significance.\n",
    "        <br><br>\n",
    "2. **Z-scores**: Goal is to predict the activation states of the TF's\n",
    "\n",
    "    - activation states: interaction type/regulation direction = predicted state\n",
    "        - activating/up  = activating\n",
    "        - activating/down = inhibiting\n",
    "        - inhibiting/up = inhibiting\n",
    "        - inhibiting/down = activating\n",
    "        <br><br>\n",
    "    - unbiased vs biased calculations:\n",
    "        - **unbiased calculation**: Assume a normal distribution of activating and inhibiting states \n",
    "        - **biased calculation**: For the case when you cannot assume a 50-50 split between up/down-regulated targets and activating/inhbiting interactions. Modify our formula to approximate a normal distribution."
   ]
  },
  {
   "cell_type": "code",
   "execution_count": 31,
   "metadata": {
    "collapsed": true
   },
   "outputs": [],
   "source": [
    "p_values_DEG_uni = stat_analysis.tf_pvalues(DG_TF, DEG_full_graph, DEG_list) # with respect to DEG universe"
   ]
  },
  {
   "cell_type": "code",
   "execution_count": 26,
   "metadata": {
    "collapsed": true
   },
   "outputs": [],
   "source": [
    "p_values_STRING_uni = stat_analysis.tf_pvalues(DG_TF, DG_universe, DEG_list) #"
   ]
  },
  {
   "cell_type": "code",
   "execution_count": 51,
   "metadata": {},
   "outputs": [
    {
     "data": {
      "text/plain": [
       "WDR3            inf\n",
       "OLIG1           inf\n",
       "ZNF281          inf\n",
       "TRIM3           inf\n",
       "ZBTB4           inf\n",
       "ZNF24           inf\n",
       "KIN             inf\n",
       "ARNT      22.376288\n",
       "TGFB1     21.262197\n",
       "TP53      18.989094\n",
       "HIF1A     17.696511\n",
       "PPARG     14.845413\n",
       "HMGB1     13.595826\n",
       "FOSL1     13.495069\n",
       "BRD2      12.435065\n",
       "EP300     12.037722\n",
       "SIRT1     11.840031\n",
       "ARNTL     11.381461\n",
       "RBPJ      10.491796\n",
       "NRG1      10.480185\n",
       "dtype: float64"
      ]
     },
     "execution_count": 51,
     "metadata": {},
     "output_type": "execute_result"
    }
   ],
   "source": [
    "p_values_STRING_uni[50:70]"
   ]
  },
  {
   "cell_type": "code",
   "execution_count": 52,
   "metadata": {},
   "outputs": [
    {
     "data": {
      "text/plain": [
       "ZNF346           inf\n",
       "SIVA1            inf\n",
       "MLX              inf\n",
       "NAB1             inf\n",
       "FBXO32           inf\n",
       "IGF2BP3          inf\n",
       "MAFB             inf\n",
       "ARNT       18.988004\n",
       "TGFB1      15.557520\n",
       "HIF1A      13.596403\n",
       "HMGB1      11.648640\n",
       "TP53       11.595237\n",
       "FOSL1      11.449493\n",
       "PPARG      11.401583\n",
       "BRD2       10.539068\n",
       "ARNTL       9.634253\n",
       "TAF1        9.123597\n",
       "NRG1        9.076989\n",
       "SIRT1       9.056385\n",
       "EP300       8.884415\n",
       "dtype: float64"
      ]
     },
     "execution_count": 52,
     "metadata": {},
     "output_type": "execute_result"
    }
   ],
   "source": [
    "p_values_DEG_uni[50:70]"
   ]
  },
  {
   "cell_type": "code",
   "execution_count": 19,
   "metadata": {
    "collapsed": true
   },
   "outputs": [],
   "source": [
    "z_scores = stat_analysis.tf_zscore(DG_TF, DEG_list, bias_filter = 0.25) # recommended bias filter is 0.25"
   ]
  },
  {
   "cell_type": "markdown",
   "metadata": {},
   "source": [
    "## Display Our Results\n",
    "- Display TF's with top z-scores\n",
    "- Display where certain TF's rank among others and overall according to z-score\n",
    "- Display subnetwork of a particular TF and its targets"
   ]
  },
  {
   "cell_type": "code",
   "execution_count": 68,
   "metadata": {
    "collapsed": true
   },
   "outputs": [
    {
     "name": "stdout",
     "output_type": "stream",
     "text": [
      "<type 'list'>\n"
     ]
    },
    {
     "data": {
      "text/plain": [
       "RBL2     -3.162278\n",
       "STAT1     2.840188\n",
       "GLI2     -2.828427\n",
       "FOXO3    -2.710687\n",
       "KNTC1     2.672612\n",
       "CLIP1     2.672612\n",
       "CLASP1    2.672612\n",
       "CKAP5     2.672612\n",
       "CENPA     2.672612\n",
       "MAD1L1    2.672612\n",
       "CLASP2    2.672612\n",
       "AHCTF1    2.672612\n",
       "BUB3      2.672612\n",
       "NCOR1     2.645751\n",
       "ARNTL2    2.645751\n",
       "STAT5A    2.523573\n",
       "AKT2      2.500000\n",
       "FOXM1     2.500000\n",
       "STAT5B    2.500000\n",
       "RORA     -2.449490\n",
       "dtype: float64"
      ]
     },
     "execution_count": 68,
     "metadata": {},
     "output_type": "execute_result"
    }
   ],
   "source": [
    "def top_values(series, TF_to_adjp, TF_to_foldchange, act = True, abs_value = False, top = 10):\n",
    "\n",
    "    # top activating and inhibiting, sort by strongest zscore or log(pvalue)\n",
    "    if abs_value == True:\n",
    "        top_series_abs = series.abs().sort_values(ascending=False).head(top)\n",
    "        top_genes = list(top_series_abs.index)\n",
    "        top_values = [series[gene] for gene in top_genes]\n",
    "        return pd.Series(top_values, index=top_genes)\n",
    "\n",
    "    # top activating\n",
    "    if act == True:\n",
    "        return series.sort_values(ascending=False).head(top)\n",
    "\n",
    "    # top inhibiting\n",
    "    else:\n",
    "        return series.sort_values(ascending=True).head(top)\n",
    "    \n",
    "#df1['e'] = p.Series(np.random.randn(sLength), index=df1.index)\n",
    "top_values(z_scores, TF_to_adjp, TF_to_foldchange, act = False, abs_value = True, top = 20)"
   ]
  },
  {
   "cell_type": "code",
   "execution_count": 81,
   "metadata": {
    "collapsed": true
   },
   "outputs": [],
   "source": [
    "series = z_scores.sort_values(ascending=False).head(10)\n",
    "top_to_adjp = pd.Series({ k: TF_to_adjp[k] for k in TF_to_adjp if k in series })\n",
    "top_to_foldchange = pd.Series({ k: TF_to_foldchange[k] for k in TF_to_foldchange if k in series })"
   ]
  },
  {
   "cell_type": "code",
   "execution_count": 86,
   "metadata": {},
   "outputs": [
    {
     "data": {
      "text/html": [
       "<div>\n",
       "<style>\n",
       "    .dataframe thead tr:only-child th {\n",
       "        text-align: right;\n",
       "    }\n",
       "\n",
       "    .dataframe thead th {\n",
       "        text-align: left;\n",
       "    }\n",
       "\n",
       "    .dataframe tbody tr th {\n",
       "        vertical-align: top;\n",
       "    }\n",
       "</style>\n",
       "<table border=\"1\" class=\"dataframe\">\n",
       "  <thead>\n",
       "    <tr style=\"text-align: right;\">\n",
       "      <th></th>\n",
       "      <th>0</th>\n",
       "      <th>1</th>\n",
       "      <th>2</th>\n",
       "    </tr>\n",
       "  </thead>\n",
       "  <tbody>\n",
       "    <tr>\n",
       "      <th>AHCTF1</th>\n",
       "      <td>2.672612</td>\n",
       "      <td>0.043979</td>\n",
       "      <td>0.043979</td>\n",
       "    </tr>\n",
       "    <tr>\n",
       "      <th>BUB3</th>\n",
       "      <td>2.672612</td>\n",
       "      <td>0.045374</td>\n",
       "      <td>0.045374</td>\n",
       "    </tr>\n",
       "    <tr>\n",
       "      <th>CENPA</th>\n",
       "      <td>2.672612</td>\n",
       "      <td>0.000000</td>\n",
       "      <td>0.000000</td>\n",
       "    </tr>\n",
       "    <tr>\n",
       "      <th>CKAP5</th>\n",
       "      <td>2.672612</td>\n",
       "      <td>0.866232</td>\n",
       "      <td>0.866232</td>\n",
       "    </tr>\n",
       "    <tr>\n",
       "      <th>CLASP1</th>\n",
       "      <td>2.672612</td>\n",
       "      <td>0.002800</td>\n",
       "      <td>0.002800</td>\n",
       "    </tr>\n",
       "    <tr>\n",
       "      <th>CLASP2</th>\n",
       "      <td>2.672612</td>\n",
       "      <td>0.024884</td>\n",
       "      <td>0.024884</td>\n",
       "    </tr>\n",
       "    <tr>\n",
       "      <th>CLIP1</th>\n",
       "      <td>2.672612</td>\n",
       "      <td>0.042270</td>\n",
       "      <td>0.042270</td>\n",
       "    </tr>\n",
       "    <tr>\n",
       "      <th>KNTC1</th>\n",
       "      <td>2.672612</td>\n",
       "      <td>0.629780</td>\n",
       "      <td>0.629780</td>\n",
       "    </tr>\n",
       "    <tr>\n",
       "      <th>MAD1L1</th>\n",
       "      <td>2.672612</td>\n",
       "      <td>0.039497</td>\n",
       "      <td>0.039497</td>\n",
       "    </tr>\n",
       "    <tr>\n",
       "      <th>STAT1</th>\n",
       "      <td>2.840188</td>\n",
       "      <td>0.826469</td>\n",
       "      <td>0.826469</td>\n",
       "    </tr>\n",
       "  </tbody>\n",
       "</table>\n",
       "</div>"
      ],
      "text/plain": [
       "               0         1         2\n",
       "AHCTF1  2.672612  0.043979  0.043979\n",
       "BUB3    2.672612  0.045374  0.045374\n",
       "CENPA   2.672612  0.000000  0.000000\n",
       "CKAP5   2.672612  0.866232  0.866232\n",
       "CLASP1  2.672612  0.002800  0.002800\n",
       "CLASP2  2.672612  0.024884  0.024884\n",
       "CLIP1   2.672612  0.042270  0.042270\n",
       "KNTC1   2.672612  0.629780  0.629780\n",
       "MAD1L1  2.672612  0.039497  0.039497\n",
       "STAT1   2.840188  0.826469  0.826469"
      ]
     },
     "execution_count": 86,
     "metadata": {},
     "output_type": "execute_result"
    }
   ],
   "source": [
    "pd.concat([series, top_to_adjp, top_to_foldchange], axis=1, names = [\"z-scores\", \"adj p-value\", \"fold change\"])"
   ]
  },
  {
   "cell_type": "code",
   "execution_count": 20,
   "metadata": {},
   "outputs": [
    {
     "data": {
      "text/html": [
       "<div>\n",
       "<style>\n",
       "    .dataframe thead tr:only-child th {\n",
       "        text-align: right;\n",
       "    }\n",
       "\n",
       "    .dataframe thead th {\n",
       "        text-align: left;\n",
       "    }\n",
       "\n",
       "    .dataframe tbody tr th {\n",
       "        vertical-align: top;\n",
       "    }\n",
       "</style>\n",
       "<table border=\"1\" class=\"dataframe\">\n",
       "  <thead>\n",
       "    <tr style=\"text-align: right;\">\n",
       "      <th></th>\n",
       "      <th>top z-scores</th>\n",
       "    </tr>\n",
       "  </thead>\n",
       "  <tbody>\n",
       "    <tr>\n",
       "      <th>RBL2</th>\n",
       "      <td>-3.162278</td>\n",
       "    </tr>\n",
       "    <tr>\n",
       "      <th>STAT1</th>\n",
       "      <td>2.840188</td>\n",
       "    </tr>\n",
       "    <tr>\n",
       "      <th>GLI2</th>\n",
       "      <td>-2.828427</td>\n",
       "    </tr>\n",
       "    <tr>\n",
       "      <th>FOXO3</th>\n",
       "      <td>-2.710687</td>\n",
       "    </tr>\n",
       "    <tr>\n",
       "      <th>KNTC1</th>\n",
       "      <td>2.672612</td>\n",
       "    </tr>\n",
       "    <tr>\n",
       "      <th>CLIP1</th>\n",
       "      <td>2.672612</td>\n",
       "    </tr>\n",
       "    <tr>\n",
       "      <th>CLASP1</th>\n",
       "      <td>2.672612</td>\n",
       "    </tr>\n",
       "    <tr>\n",
       "      <th>CKAP5</th>\n",
       "      <td>2.672612</td>\n",
       "    </tr>\n",
       "    <tr>\n",
       "      <th>CENPA</th>\n",
       "      <td>2.672612</td>\n",
       "    </tr>\n",
       "    <tr>\n",
       "      <th>MAD1L1</th>\n",
       "      <td>2.672612</td>\n",
       "    </tr>\n",
       "    <tr>\n",
       "      <th>CLASP2</th>\n",
       "      <td>2.672612</td>\n",
       "    </tr>\n",
       "    <tr>\n",
       "      <th>AHCTF1</th>\n",
       "      <td>2.672612</td>\n",
       "    </tr>\n",
       "    <tr>\n",
       "      <th>BUB3</th>\n",
       "      <td>2.672612</td>\n",
       "    </tr>\n",
       "    <tr>\n",
       "      <th>NCOR1</th>\n",
       "      <td>2.645751</td>\n",
       "    </tr>\n",
       "    <tr>\n",
       "      <th>ARNTL2</th>\n",
       "      <td>2.645751</td>\n",
       "    </tr>\n",
       "    <tr>\n",
       "      <th>STAT5A</th>\n",
       "      <td>2.523573</td>\n",
       "    </tr>\n",
       "    <tr>\n",
       "      <th>AKT2</th>\n",
       "      <td>2.500000</td>\n",
       "    </tr>\n",
       "    <tr>\n",
       "      <th>FOXM1</th>\n",
       "      <td>2.500000</td>\n",
       "    </tr>\n",
       "    <tr>\n",
       "      <th>STAT5B</th>\n",
       "      <td>2.500000</td>\n",
       "    </tr>\n",
       "    <tr>\n",
       "      <th>RORA</th>\n",
       "      <td>-2.449490</td>\n",
       "    </tr>\n",
       "  </tbody>\n",
       "</table>\n",
       "</div>"
      ],
      "text/plain": [
       "        top z-scores\n",
       "RBL2       -3.162278\n",
       "STAT1       2.840188\n",
       "GLI2       -2.828427\n",
       "FOXO3      -2.710687\n",
       "KNTC1       2.672612\n",
       "CLIP1       2.672612\n",
       "CLASP1      2.672612\n",
       "CKAP5       2.672612\n",
       "CENPA       2.672612\n",
       "MAD1L1      2.672612\n",
       "CLASP2      2.672612\n",
       "AHCTF1      2.672612\n",
       "BUB3        2.672612\n",
       "NCOR1       2.645751\n",
       "ARNTL2      2.645751\n",
       "STAT5A      2.523573\n",
       "AKT2        2.500000\n",
       "FOXM1       2.500000\n",
       "STAT5B      2.500000\n",
       "RORA       -2.449490"
      ]
     },
     "metadata": {},
     "output_type": "display_data"
    }
   ],
   "source": [
    "# Top TF's\n",
    "# ~~~~~~~~~~~~~~~~~~~~~~ KATIE'S REQUEST ~~~~~~~~~~~~~~~~~~~~~~~~~~~~ #\n",
    "TF_to_adjp, TF_to_foldchange = map_TF_to_DEG_attributes(DEG_filename, TF_list)\n",
    "top_overall = stat_analysis.top_values(z_scores, act = False, abs_value = True, top = 20)\n",
    "display(top_overall.to_frame(name = 'top z-scores'))"
   ]
  },
  {
   "cell_type": "code",
   "execution_count": 25,
   "metadata": {},
   "outputs": [
    {
     "data": {
      "text/html": [
       "<div>\n",
       "<style>\n",
       "    .dataframe thead tr:only-child th {\n",
       "        text-align: right;\n",
       "    }\n",
       "\n",
       "    .dataframe thead th {\n",
       "        text-align: left;\n",
       "    }\n",
       "\n",
       "    .dataframe tbody tr th {\n",
       "        vertical-align: top;\n",
       "    }\n",
       "</style>\n",
       "<table border=\"1\" class=\"dataframe\">\n",
       "  <thead>\n",
       "    <tr style=\"text-align: right;\">\n",
       "      <th></th>\n",
       "      <th>rank</th>\n",
       "      <th>z-score</th>\n",
       "    </tr>\n",
       "  </thead>\n",
       "  <tbody>\n",
       "    <tr>\n",
       "      <th>RBL2</th>\n",
       "      <td>0</td>\n",
       "      <td>-3.162278</td>\n",
       "    </tr>\n",
       "    <tr>\n",
       "      <th>STAT1</th>\n",
       "      <td>1</td>\n",
       "      <td>2.840188</td>\n",
       "    </tr>\n",
       "    <tr>\n",
       "      <th>STAT5B</th>\n",
       "      <td>7</td>\n",
       "      <td>2.500000</td>\n",
       "    </tr>\n",
       "    <tr>\n",
       "      <th>CEBPB</th>\n",
       "      <td>29</td>\n",
       "      <td>-1.632993</td>\n",
       "    </tr>\n",
       "    <tr>\n",
       "      <th>HIF1A</th>\n",
       "      <td>37</td>\n",
       "      <td>-1.333333</td>\n",
       "    </tr>\n",
       "    <tr>\n",
       "      <th>TLE3</th>\n",
       "      <td>46</td>\n",
       "      <td>-1.000000</td>\n",
       "    </tr>\n",
       "    <tr>\n",
       "      <th>KLF4</th>\n",
       "      <td>49</td>\n",
       "      <td>-0.832050</td>\n",
       "    </tr>\n",
       "    <tr>\n",
       "      <th>TP53</th>\n",
       "      <td>65</td>\n",
       "      <td>0.321634</td>\n",
       "    </tr>\n",
       "    <tr>\n",
       "      <th>HOXA4</th>\n",
       "      <td>70</td>\n",
       "      <td>0.000000</td>\n",
       "    </tr>\n",
       "  </tbody>\n",
       "</table>\n",
       "</div>"
      ],
      "text/plain": [
       "        rank   z-score\n",
       "RBL2       0 -3.162278\n",
       "STAT1      1  2.840188\n",
       "STAT5B     7  2.500000\n",
       "CEBPB     29 -1.632993\n",
       "HIF1A     37 -1.333333\n",
       "TLE3      46 -1.000000\n",
       "KLF4      49 -0.832050\n",
       "TP53      65  0.321634\n",
       "HOXA4     70  0.000000"
      ]
     },
     "execution_count": 25,
     "metadata": {},
     "output_type": "execute_result"
    }
   ],
   "source": [
    "# Ranking (in this case from 0 to 168)\n",
    "genes_to_rank = ['HOXA4', 'CEBPB', 'HIF1A','KLF4', 'TLE3', 'RBL2','TP53', 'STAT1', 'STAT5B']\n",
    "stat_analysis.rank_and_score_df(z_scores, genes_to_rank, act = True, abs_value = True, remove_dups=True)"
   ]
  },
  {
   "cell_type": "code",
   "execution_count": 27,
   "metadata": {},
   "outputs": [
    {
     "data": {
      "text/html": [
       "<!doctype html><html><head>  <title>Network | Basic usage</title></head><body><script type=\"text/javascript\">function setUpFrame() {     var frame = window.frames[\"style_file2\"];    frame.runVis([{\"node_shape\": \"dot\", \"degree\": 3.0, \"title\": \"BIRC5\", \"color\": \"rgba(256, 252, 252, 1.0)\", \"size_field\": 3.5228016057745535, \"y\": 796.0445916134381, \"x\": 1000.8267085706647, \"border_width\": 0, \"id\": \"BIRC5\"}, {\"node_shape\": \"dot\", \"degree\": 3.0, \"title\": \"SOX9\", \"color\": \"rgba(0, 0, 256, 1.0)\", \"size_field\": 3.5769707222965987, \"y\": 1268.0898239650496, \"x\": 787.2525939287558, \"border_width\": 2, \"id\": \"SOX9\"}, {\"node_shape\": \"dot\", \"degree\": 3.0, \"title\": \"EGF\", \"color\": \"rgba(138, 138, 256, 1.0)\", \"size_field\": 2.385515432800544, \"y\": 475.28986589898943, \"x\": 821.9677132028021, \"border_width\": 0, \"id\": \"EGF\"}, {\"node_shape\": \"dot\", \"degree\": 3.0, \"title\": \"SOX4\", \"color\": \"rgba(256, 200, 200, 1.0)\", \"size_field\": 3.4312917270506267, \"y\": 354.8926824633126, \"x\": 1377.922553250713, \"border_width\": 0, \"id\": \"SOX4\"}, {\"node_shape\": \"dot\", \"degree\": 3.0, \"title\": \"CEBPB\", \"color\": \"rgba(256, 196, 196, 1.0)\", \"size_field\": 3.8042369907391675, \"y\": 907.4171002223679, \"x\": 870.8710161967058, \"border_width\": 2, \"id\": \"CEBPB\"}, {\"node_shape\": \"dot\", \"degree\": 3.0, \"title\": \"NANOG\", \"color\": \"rgba(0, 0, 256, 1.0)\", \"size_field\": 2.5963835121276375, \"y\": 432.62524467142987, \"x\": 1180.1106629362864, \"border_width\": 0, \"id\": \"NANOG\"}, {\"node_shape\": \"dot\", \"degree\": 3.0, \"title\": \"CEBPD\", \"color\": \"rgba(0, 0, 256, 1.0)\", \"size_field\": 2.3874287456220658, \"y\": 599.1410716984093, \"x\": 827.4301966415634, \"border_width\": 0, \"id\": \"CEBPD\"}, {\"node_shape\": \"dot\", \"degree\": 3.0, \"title\": \"FYN\", \"color\": \"rgba(0, 0, 256, 1.0)\", \"size_field\": 3.171182981502945, \"y\": 87.62879832786263, \"x\": 831.9432952456538, \"border_width\": 0, \"id\": \"FYN\"}, {\"node_shape\": \"dot\", \"degree\": 3.0, \"title\": \"KLF5\", \"color\": \"yellow\", \"size_field\": 4.835315552148087, \"y\": 627.5958855740032, \"x\": 0.0, \"border_width\": 0, \"id\": \"KLF5\"}, {\"node_shape\": \"dot\", \"degree\": 3.0, \"title\": \"CDH1\", \"color\": \"rgba(0, 0, 256, 1.0)\", \"size_field\": 2.655080979753489, \"y\": 743.9829060991703, \"x\": 1483.0674525734844, \"border_width\": 0, \"id\": \"CDH1\"}, {\"node_shape\": \"dot\", \"degree\": 3.0, \"title\": \"MYC\", \"color\": \"rgba(256, 0, 0, 1.0)\", \"size_field\": 4.296603021316498, \"y\": 319.7005549829939, \"x\": 784.1500048886097, \"border_width\": 2, \"id\": \"MYC\"}, {\"node_shape\": \"dot\", \"degree\": 3.0, \"title\": \"DUSP1\", \"color\": \"rgba(0, 0, 256, 1.0)\", \"size_field\": 3.9848588991938882, \"y\": 53.67430885205489, \"x\": 1197.878364362672, \"border_width\": 2, \"id\": \"DUSP1\"}, {\"node_shape\": \"dot\", \"degree\": 3.0, \"title\": \"PDGFA\", \"color\": \"rgba(54, 54, 256, 1.0)\", \"size_field\": 2.171856506946191, \"y\": 1372.002807705963, \"x\": 430.9073904541291, \"border_width\": 0, \"id\": \"PDGFA\"}, {\"node_shape\": \"dot\", \"degree\": 3.0, \"title\": \"PDGFB\", \"color\": \"rgba(0, 0, 256, 1.0)\", \"size_field\": 2.855195632514344, \"y\": 926.5067695339243, \"x\": 1152.6547127711028, \"border_width\": 0, \"id\": \"PDGFB\"}, {\"node_shape\": \"dot\", \"degree\": 3.0, \"title\": \"IGF1\", \"color\": \"rgba(0, 0, 256, 1.0)\", \"size_field\": 2.838635487308551, \"y\": 761.2574102483921, \"x\": 914.3129582022751, \"border_width\": 2, \"id\": \"IGF1\"}, {\"node_shape\": \"dot\", \"degree\": 3.0, \"title\": \"FOXD3\", \"color\": \"rgba(256, 56, 56, 1.0)\", \"size_field\": 3.068277088872037, \"y\": 215.7311014173143, \"x\": 891.7704548874943, \"border_width\": 0, \"id\": \"FOXD3\"}, {\"node_shape\": \"dot\", \"degree\": 3.0, \"title\": \"PPARG\", \"color\": \"rgba(0, 0, 256, 1.0)\", \"size_field\": 2.6806259000062735, \"y\": 759.9884388422955, \"x\": 496.85764646386184, \"border_width\": 0, \"id\": \"PPARG\"}, {\"node_shape\": \"dot\", \"degree\": 3.0, \"title\": \"PPARA\", \"color\": \"rgba(0, 0, 256, 1.0)\", \"size_field\": 2.2568296089690163, \"y\": 161.31480257156565, \"x\": 327.13894166354885, \"border_width\": 0, \"id\": \"PPARA\"}, {\"node_shape\": \"dot\", \"degree\": 3.0, \"title\": \"STAT3\", \"color\": \"rgba(0, 0, 256, 1.0)\", \"size_field\": 3.0067626350382306, \"y\": 529.3956871082465, \"x\": 1492.4904139578512, \"border_width\": 0, \"id\": \"STAT3\"}, {\"node_shape\": \"dot\", \"degree\": 3.0, \"title\": \"FGF2\", \"color\": \"rgba(0, 0, 256, 1.0)\", \"size_field\": 2.64855629723207, \"y\": 835.3222795262815, \"x\": 1500.0, \"border_width\": 0, \"id\": \"FGF2\"}, {\"node_shape\": \"dot\", \"degree\": 3.0, \"title\": \"CCND1\", \"color\": \"rgba(216, 216, 256, 1.0)\", \"size_field\": 3.2437536743377806, \"y\": 293.6766632355601, \"x\": 1255.043277672539, \"border_width\": 2, \"id\": \"CCND1\"}, {\"node_shape\": \"dot\", \"degree\": 3.0, \"title\": \"RUNX2\", \"color\": \"rgba(0, 0, 256, 1.0)\", \"size_field\": 2.741497441500992, \"y\": 1165.61528074886, \"x\": 367.192398951193, \"border_width\": 0, \"id\": \"RUNX2\"}, {\"node_shape\": \"dot\", \"degree\": 3.0, \"title\": \"WWOX\", \"color\": \"rgba(0, 0, 256, 1.0)\", \"size_field\": 4.835315552148087, \"y\": 1123.4939924365087, \"x\": 647.3951349032848, \"border_width\": 0, \"id\": \"WWOX\"}, {\"node_shape\": \"dot\", \"degree\": 3.0, \"title\": \"LPAR3\", \"color\": \"rgba(0, 0, 256, 1.0)\", \"size_field\": 2.654888468442855, \"y\": 0.0, \"x\": 87.88824369210234, \"border_width\": 0, \"id\": \"LPAR3\"}], [{\"color\": \"blue\", \"source\": 1, \"target\": 9}, {\"color\": \"blue\", \"source\": 1, \"target\": 21}, {\"color\": \"red\", \"source\": 1, \"target\": 14}, {\"color\": \"red\", \"source\": 1, \"target\": 19}, {\"color\": \"red\", \"source\": 3, \"target\": 18}, {\"color\": \"red\", \"source\": 4, \"target\": 16}, {\"color\": \"red\", \"source\": 4, \"target\": 18}, {\"color\": \"blue\", \"source\": 5, \"target\": 18}, {\"color\": \"red\", \"source\": 5, \"target\": 15}, {\"color\": \"red\", \"source\": 5, \"target\": 15}, {\"color\": \"red\", \"source\": 5, \"target\": 19}, {\"color\": \"red\", \"source\": 6, \"target\": 16}, {\"color\": \"red\", \"source\": 6, \"target\": 14}, {\"color\": \"red\", \"source\": 6, \"target\": 18}, {\"color\": \"blue\", \"source\": 6, \"target\": 10}, {\"color\": \"red\", \"source\": 8, \"target\": 0}, {\"color\": \"blue\", \"source\": 8, \"target\": 1}, {\"color\": \"red\", \"source\": 8, \"target\": 2}, {\"color\": \"red\", \"source\": 8, \"target\": 3}, {\"color\": \"red\", \"source\": 8, \"target\": 4}, {\"color\": \"red\", \"source\": 8, \"target\": 5}, {\"color\": \"red\", \"source\": 8, \"target\": 6}, {\"color\": \"red\", \"source\": 8, \"target\": 7}, {\"color\": \"red\", \"source\": 8, \"target\": 9}, {\"color\": \"red\", \"source\": 8, \"target\": 10}, {\"color\": \"red\", \"source\": 8, \"target\": 11}, {\"color\": \"red\", \"source\": 8, \"target\": 12}, {\"color\": \"red\", \"source\": 8, \"target\": 13}, {\"color\": \"red\", \"source\": 8, \"target\": 14}, {\"color\": \"blue\", \"source\": 8, \"target\": 15}, {\"color\": \"red\", \"source\": 8, \"target\": 16}, {\"color\": \"red\", \"source\": 8, \"target\": 17}, {\"color\": \"red\", \"source\": 8, \"target\": 18}, {\"color\": \"red\", \"source\": 8, \"target\": 19}, {\"color\": \"red\", \"source\": 8, \"target\": 20}, {\"color\": \"red\", \"source\": 8, \"target\": 21}, {\"color\": \"blue\", \"source\": 8, \"target\": 22}, {\"color\": \"red\", \"source\": 8, \"target\": 23}, {\"color\": \"red\", \"source\": 10, \"target\": 14}, {\"color\": \"red\", \"source\": 10, \"target\": 14}, {\"color\": \"red\", \"source\": 10, \"target\": 18}, {\"color\": \"blue\", \"source\": 10, \"target\": 6}, {\"color\": \"red\", \"source\": 10, \"target\": 20}, {\"color\": \"red\", \"source\": 10, \"target\": 0}, {\"color\": \"blue\", \"source\": 10, \"target\": 19}, {\"color\": \"blue\", \"source\": 10, \"target\": 17}, {\"color\": \"blue\", \"source\": 10, \"target\": 9}, {\"color\": \"red\", \"source\": 10, \"target\": 2}, {\"color\": \"red\", \"source\": 15, \"target\": 5}, {\"color\": \"red\", \"source\": 15, \"target\": 5}, {\"color\": \"red\", \"source\": 16, \"target\": 4}, {\"color\": \"blue\", \"source\": 16, \"target\": 2}, {\"color\": \"red\", \"source\": 16, \"target\": 6}, {\"color\": \"blue\", \"source\": 17, \"target\": 10}, {\"color\": \"blue\", \"source\": 17, \"target\": 11}, {\"color\": \"red\", \"source\": 18, \"target\": 4}, {\"color\": \"red\", \"source\": 18, \"target\": 13}, {\"color\": \"blue\", \"source\": 18, \"target\": 5}, {\"color\": \"red\", \"source\": 18, \"target\": 6}, {\"color\": \"blue\", \"source\": 18, \"target\": 20}, {\"color\": \"blue\", \"source\": 18, \"target\": 20}, {\"color\": \"blue\", \"source\": 18, \"target\": 0}, {\"color\": \"red\", \"source\": 18, \"target\": 7}, {\"color\": \"red\", \"source\": 18, \"target\": 19}, {\"color\": \"blue\", \"source\": 18, \"target\": 9}, {\"color\": \"red\", \"source\": 18, \"target\": 10}, {\"color\": \"red\", \"source\": 18, \"target\": 2}, {\"color\": \"red\", \"source\": 18, \"target\": 3}, {\"color\": \"red\", \"source\": 21, \"target\": 0}, {\"color\": \"blue\", \"source\": 21, \"target\": 1}, {\"color\": \"red\", \"source\": 21, \"target\": 14}, {\"color\": \"blue\", \"source\": 21, \"target\": 19}, {\"color\": \"red\", \"source\": 22, \"target\": 9}]);}</script><iframe name=\"style_file2\" src=\"style_file2.html\" width=\"100%;\" height=\"805px\"></iframe></body></html>"
      ],
      "text/plain": [
       "<IPython.core.display.HTML object>"
      ]
     },
     "execution_count": 27,
     "metadata": {},
     "output_type": "execute_result"
    }
   ],
   "source": [
    "stat_analysis.vis_tf_network(DG_TF, 'KLF5', '../DEG_databases/geo2r_GSE11352_brca_48hours.txt', DEG_list,\n",
    "              directed_edges = True,\n",
    "              node_spacing = 1500,\n",
    "              graph_id = 2) "
   ]
  },
  {
   "cell_type": "code",
   "execution_count": 23,
   "metadata": {},
   "outputs": [
    {
     "data": {
      "text/html": [
       "<!doctype html><html><head>  <title>Network | Basic usage</title></head><body><script type=\"text/javascript\">function setUpFrame() {     var frame = window.frames[\"style_file1\"];    frame.runVis([{\"node_shape\": \"dot\", \"degree\": 3.0, \"title\": \"BCL2L1\", \"color\": \"rgba(0, 0, 256, 1.0)\", \"size_field\": 3.897786873873585, \"y\": 1121.6337509911007, \"x\": 1309.6119075758447, \"border_width\": 0, \"id\": \"BCL2L1\"}, {\"node_shape\": \"dot\", \"degree\": 3.0, \"title\": \"HAMP\", \"color\": \"rgba(0, 0, 256, 1.0)\", \"size_field\": 2.2073932412229778, \"y\": 1448.1450321122438, \"x\": 1292.142787834062, \"border_width\": 0, \"id\": \"HAMP\"}, {\"node_shape\": \"dot\", \"degree\": 3.0, \"title\": \"TBX21\", \"color\": \"rgba(0, 0, 256, 1.0)\", \"size_field\": 2.006018072325563, \"y\": 709.4462581456119, \"x\": 196.75859322660315, \"border_width\": 0, \"id\": \"TBX21\"}, {\"node_shape\": \"dot\", \"degree\": 3.0, \"title\": \"IL6ST\", \"color\": \"rgba(118, 118, 256, 1.0)\", \"size_field\": 3.253163048516708, \"y\": 1627.352023431091, \"x\": 1130.7465120986794, \"border_width\": 0, \"id\": \"IL6ST\"}, {\"node_shape\": \"dot\", \"degree\": 3.0, \"title\": \"IFNAR2\", \"color\": \"rgba(118, 118, 256, 1.0)\", \"size_field\": 3.311929279164584, \"y\": 423.83236109511034, \"x\": 568.8092589597449, \"border_width\": 0, \"id\": \"IFNAR2\"}, {\"node_shape\": \"dot\", \"degree\": 3.0, \"title\": \"EPO\", \"color\": \"rgba(18, 18, 256, 1.0)\", \"size_field\": 2.2529586363933953, \"y\": 1299.2844370421042, \"x\": 572.7905264743298, \"border_width\": 0, \"id\": \"EPO\"}, {\"node_shape\": \"dot\", \"degree\": 3.0, \"title\": \"IL22\", \"color\": \"rgba(0, 0, 256, 1.0)\", \"size_field\": 2.450357876998901, \"y\": 575.6485726076952, \"x\": 1577.5394575919502, \"border_width\": 0, \"id\": \"IL22\"}, {\"node_shape\": \"dot\", \"degree\": 3.0, \"title\": \"IL27\", \"color\": \"rgba(248, 248, 256, 1.0)\", \"size_field\": 2.816671666845443, \"y\": 1368.6623957739805, \"x\": 1214.5553305388385, \"border_width\": 0, \"id\": \"IL27\"}, {\"node_shape\": \"dot\", \"degree\": 3.0, \"title\": \"TYK2\", \"color\": \"rgba(2, 2, 256, 1.0)\", \"size_field\": 2.0214279474136205, \"y\": 823.6404513977426, \"x\": 806.9972413132651, \"border_width\": 0, \"id\": \"TYK2\"}, {\"node_shape\": \"dot\", \"degree\": 3.0, \"title\": \"EGF\", \"color\": \"rgba(44, 44, 256, 1.0)\", \"size_field\": 2.385515432800544, \"y\": 1727.7689256373467, \"x\": 922.2843562227507, \"border_width\": 0, \"id\": \"EGF\"}, {\"node_shape\": \"dot\", \"degree\": 3.0, \"title\": \"IL12RB1\", \"color\": \"rgba(118, 118, 256, 1.0)\", \"size_field\": 2.708260818369993, \"y\": 1672.589303242657, \"x\": 303.0395944731062, \"border_width\": 0, \"id\": \"IL12RB1\"}, {\"node_shape\": \"dot\", \"degree\": 3.0, \"title\": \"ZNF148\", \"color\": \"rgba(0, 0, 256, 1.0)\", \"size_field\": 3.1564532883579597, \"y\": 1457.1587085255896, \"x\": 1628.6877162518379, \"border_width\": 0, \"id\": \"ZNF148\"}, {\"node_shape\": \"dot\", \"degree\": 3.0, \"title\": \"IL12RB2\", \"color\": \"rgba(0, 0, 256, 1.0)\", \"size_field\": 2.028502360472712, \"y\": 979.7407723667734, \"x\": 631.2354763000676, \"border_width\": 0, \"id\": \"IL12RB2\"}, {\"node_shape\": \"dot\", \"degree\": 3.0, \"title\": \"FADD\", \"color\": \"rgba(98, 98, 256, 1.0)\", \"size_field\": 3.2786963505218725, \"y\": 1115.6693482151838, \"x\": 152.8368476822785, \"border_width\": 0, \"id\": \"FADD\"}, {\"node_shape\": \"dot\", \"degree\": 3.0, \"title\": \"LYN\", \"color\": \"rgba(0, 0, 256, 1.0)\", \"size_field\": 4.698595042331455, \"y\": 993.3785334513685, \"x\": 1158.6877410559878, \"border_width\": 0, \"id\": \"LYN\"}, {\"node_shape\": \"dot\", \"degree\": 3.0, \"title\": \"IFNG\", \"color\": \"rgba(0, 0, 256, 1.0)\", \"size_field\": 3.6184786570862495, \"y\": 1192.7034806449233, \"x\": 646.0277215464976, \"border_width\": 0, \"id\": \"IFNG\"}, {\"node_shape\": \"dot\", \"degree\": 3.0, \"title\": \"CAMK2G\", \"color\": \"rgba(0, 0, 256, 1.0)\", \"size_field\": 3.1818852078619315, \"y\": 1200.251227525177, \"x\": 830.1367751818098, \"border_width\": 0, \"id\": \"CAMK2G\"}, {\"node_shape\": \"dot\", \"degree\": 3.0, \"title\": \"CAMK2A\", \"color\": \"rgba(0, 0, 256, 1.0)\", \"size_field\": 2.9088187170354542, \"y\": 1228.9105136942421, \"x\": 741.6267812510166, \"border_width\": 0, \"id\": \"CAMK2A\"}, {\"node_shape\": \"dot\", \"degree\": 3.0, \"title\": \"IFI30\", \"color\": \"rgba(0, 0, 256, 1.0)\", \"size_field\": 2.9848803134313155, \"y\": 1063.0030164812922, \"x\": 1620.7043846922645, \"border_width\": 2, \"id\": \"IFI30\"}, {\"node_shape\": \"dot\", \"degree\": 3.0, \"title\": \"SP7\", \"color\": \"rgba(98, 98, 256, 1.0)\", \"size_field\": 2.1966233415048144, \"y\": 1205.3362868094023, \"x\": 1675.9933624741536, \"border_width\": 0, \"id\": \"SP7\"}, {\"node_shape\": \"dot\", \"degree\": 3.0, \"title\": \"CXCL12\", \"color\": \"rgba(256, 0, 0, 1.0)\", \"size_field\": 5.329807385575482, \"y\": 920.7504049207937, \"x\": 558.7818652746203, \"border_width\": 0, \"id\": \"CXCL12\"}, {\"node_shape\": \"dot\", \"degree\": 3.0, \"title\": \"GATA3\", \"color\": \"rgba(0, 0, 256, 1.0)\", \"size_field\": 4.9132310520422475, \"y\": 1010.15075830083, \"x\": 234.39618963764994, \"border_width\": 0, \"id\": \"GATA3\"}, {\"node_shape\": \"dot\", \"degree\": 3.0, \"title\": \"SOCS5\", \"color\": \"rgba(0, 0, 256, 1.0)\", \"size_field\": 3.1014162160008443, \"y\": 1611.4328864882852, \"x\": 649.3074475512661, \"border_width\": 0, \"id\": \"SOCS5\"}, {\"node_shape\": \"dot\", \"degree\": 3.0, \"title\": \"SOCS4\", \"color\": \"rgba(72, 72, 256, 1.0)\", \"size_field\": 2.755235372873367, \"y\": 825.7189628271975, \"x\": 459.3629048580196, \"border_width\": 0, \"id\": \"SOCS4\"}, {\"node_shape\": \"dot\", \"degree\": 3.0, \"title\": \"XAF1\", \"color\": \"rgba(92, 92, 256, 1.0)\", \"size_field\": 2.7225759912507574, \"y\": 1641.599680445515, \"x\": 1195.421781665161, \"border_width\": 0, \"id\": \"XAF1\"}, {\"node_shape\": \"dot\", \"degree\": 3.0, \"title\": \"SOCS6\", \"color\": \"rgba(0, 0, 256, 1.0)\", \"size_field\": 3.835711356757238, \"y\": 523.2297723655979, \"x\": 741.9366716222427, \"border_width\": 0, \"id\": \"SOCS6\"}, {\"node_shape\": \"dot\", \"degree\": 3.0, \"title\": \"SOCS1\", \"color\": \"rgba(0, 0, 256, 1.0)\", \"size_field\": 3.795767490625594, \"y\": 808.6732519614144, \"x\": 1106.0438668409902, \"border_width\": 0, \"id\": \"SOCS1\"}, {\"node_shape\": \"dot\", \"degree\": 3.0, \"title\": \"SOCS3\", \"color\": \"rgba(0, 0, 256, 1.0)\", \"size_field\": 4.292634762140878, \"y\": 770.0558508301617, \"x\": 612.2909814467628, \"border_width\": 2, \"id\": \"SOCS3\"}, {\"node_shape\": \"dot\", \"degree\": 3.0, \"title\": \"SOCS2\", \"color\": \"rgba(0, 0, 256, 1.0)\", \"size_field\": 5.44201937618241, \"y\": 1045.3029364291376, \"x\": 481.60038307656555, \"border_width\": 0, \"id\": \"SOCS2\"}, {\"node_shape\": \"dot\", \"degree\": 3.0, \"title\": \"EIF2A\", \"color\": \"rgba(24, 24, 256, 1.0)\", \"size_field\": 2.384486701722973, \"y\": 1745.0383908912777, \"x\": 1252.9443556813776, \"border_width\": 0, \"id\": \"EIF2A\"}, {\"node_shape\": \"dot\", \"degree\": 3.0, \"title\": \"KIT\", \"color\": \"rgba(256, 216, 216, 1.0)\", \"size_field\": 2.538196820562123, \"y\": 1153.2631313193847, \"x\": 1461.1602538946975, \"border_width\": 2, \"id\": \"KIT\"}, {\"node_shape\": \"dot\", \"degree\": 3.0, \"title\": \"IFNAR1\", \"color\": \"rgba(0, 0, 256, 1.0)\", \"size_field\": 2.410226425209875, \"y\": 384.9860418268478, \"x\": 1281.2303355777321, \"border_width\": 0, \"id\": \"IFNAR1\"}, {\"node_shape\": \"dot\", \"degree\": 3.0, \"title\": \"CYLD\", \"color\": \"rgba(0, 0, 256, 1.0)\", \"size_field\": 2.938025224020161, \"y\": 1662.4981608487221, \"x\": 142.90452894866613, \"border_width\": 0, \"id\": \"CYLD\"}, {\"node_shape\": \"dot\", \"degree\": 3.0, \"title\": \"CSF2RB\", \"color\": \"rgba(0, 0, 256, 1.0)\", \"size_field\": 2.073754188588662, \"y\": 1657.339186229851, \"x\": 1484.7742397330032, \"border_width\": 0, \"id\": \"CSF2RB\"}, {\"node_shape\": \"dot\", \"degree\": 3.0, \"title\": \"TNFSF10\", \"color\": \"rgba(0, 0, 256, 1.0)\", \"size_field\": 3.7909597890574904, \"y\": 1223.424172753003, \"x\": 1290.2756111315316, \"border_width\": 0, \"id\": \"TNFSF10\"}, {\"node_shape\": \"dot\", \"degree\": 3.0, \"title\": \"MMP10\", \"color\": \"rgba(0, 0, 256, 1.0)\", \"size_field\": 2.098715972939158, \"y\": 838.147007807219, \"x\": 71.49742167026584, \"border_width\": 0, \"id\": \"MMP10\"}, {\"node_shape\": \"dot\", \"degree\": 3.0, \"title\": \"IL10RA\", \"color\": \"rgba(0, 0, 256, 1.0)\", \"size_field\": 2.2975977372391574, \"y\": 0.0, \"x\": 861.1817382456852, \"border_width\": 0, \"id\": \"IL10RA\"}, {\"node_shape\": \"dot\", \"degree\": 3.0, \"title\": \"ALB\", \"color\": \"rgba(150, 150, 256, 1.0)\", \"size_field\": 2.6020275871924614, \"y\": 1593.5870546434312, \"x\": 937.1344354870195, \"border_width\": 0, \"id\": \"ALB\"}, {\"node_shape\": \"dot\", \"degree\": 3.0, \"title\": \"CCR7\", \"color\": \"rgba(0, 0, 256, 1.0)\", \"size_field\": 2.8615658321849087, \"y\": 318.5854364104152, \"x\": 459.1750436913155, \"border_width\": 0, \"id\": \"CCR7\"}, {\"node_shape\": \"dot\", \"degree\": 3.0, \"title\": \"TRAF2\", \"color\": \"rgba(48, 48, 256, 1.0)\", \"size_field\": 2.4193105149302174, \"y\": 1262.909249968515, \"x\": 119.97223992138841, \"border_width\": 0, \"id\": \"TRAF2\"}, {\"node_shape\": \"dot\", \"degree\": 3.0, \"title\": \"CSF2\", \"color\": \"rgba(106, 106, 256, 1.0)\", \"size_field\": 2.5040155318374415, \"y\": 2000.0, \"x\": 808.1336513200678, \"border_width\": 0, \"id\": \"CSF2\"}, {\"node_shape\": \"dot\", \"degree\": 3.0, \"title\": \"IFNGR2\", \"color\": \"rgba(0, 0, 256, 1.0)\", \"size_field\": 2.6256754654449326, \"y\": 1760.3798509204307, \"x\": 944.9310793869691, \"border_width\": 0, \"id\": \"IFNGR2\"}, {\"node_shape\": \"dot\", \"degree\": 3.0, \"title\": \"PIAS2\", \"color\": \"rgba(80, 80, 256, 1.0)\", \"size_field\": 3.4346446220609375, \"y\": 1608.3409862334677, \"x\": 556.6667117631824, \"border_width\": 0, \"id\": \"PIAS2\"}, {\"node_shape\": \"dot\", \"degree\": 3.0, \"title\": \"DMBT1\", \"color\": \"rgba(74, 74, 256, 1.0)\", \"size_field\": 2.2990801174041504, \"y\": 349.8618566830282, \"x\": 1500.0182744645454, \"border_width\": 2, \"id\": \"DMBT1\"}, {\"node_shape\": \"dot\", \"degree\": 3.0, \"title\": \"JAK2\", \"color\": \"rgba(128, 128, 256, 1.0)\", \"size_field\": 3.5050778971098575, \"y\": 1481.0105001769502, \"x\": 456.8767057618485, \"border_width\": 0, \"id\": \"JAK2\"}, {\"node_shape\": \"dot\", \"degree\": 3.0, \"title\": \"JAK3\", \"color\": \"rgba(0, 0, 256, 1.0)\", \"size_field\": 3.5329399414613754, \"y\": 1200.65724731961, \"x\": 434.8545446699753, \"border_width\": 2, \"id\": \"JAK3\"}, {\"node_shape\": \"dot\", \"degree\": 3.0, \"title\": \"JAK1\", \"color\": \"rgba(0, 0, 256, 1.0)\", \"size_field\": 3.653389799963283, \"y\": 1198.4683823789462, \"x\": 1119.5141705636916, \"border_width\": 0, \"id\": \"JAK1\"}, {\"node_shape\": \"dot\", \"degree\": 3.0, \"title\": \"IL22RA1\", \"color\": \"rgba(0, 0, 256, 1.0)\", \"size_field\": 2.0180621428184087, \"y\": 787.2717053061135, \"x\": 638.9845971466067, \"border_width\": 0, \"id\": \"IL22RA1\"}, {\"node_shape\": \"dot\", \"degree\": 3.0, \"title\": \"FOS\", \"color\": \"rgba(192, 192, 256, 1.0)\", \"size_field\": 4.371935171128839, \"y\": 1551.0574751319803, \"x\": 1050.064801459798, \"border_width\": 2, \"id\": \"FOS\"}, {\"node_shape\": \"dot\", \"degree\": 3.0, \"title\": \"IGFBP3\", \"color\": \"rgba(0, 0, 256, 1.0)\", \"size_field\": 4.647896278282463, \"y\": 1245.6631239658088, \"x\": 663.9545952268671, \"border_width\": 2, \"id\": \"IGFBP3\"}, {\"node_shape\": \"dot\", \"degree\": 3.0, \"title\": \"VEGFA\", \"color\": \"rgba(136, 136, 256, 1.0)\", \"size_field\": 3.525556428453398, \"y\": 1405.666403652877, \"x\": 991.0817463246761, \"border_width\": 2, \"id\": \"VEGFA\"}, {\"node_shape\": \"dot\", \"degree\": 3.0, \"title\": \"PTPN2\", \"color\": \"rgba(0, 0, 256, 1.0)\", \"size_field\": 3.7153541380256496, \"y\": 254.39001036772208, \"x\": 1023.4200179941236, \"border_width\": 0, \"id\": \"PTPN2\"}, {\"node_shape\": \"dot\", \"degree\": 3.0, \"title\": \"EPOR\", \"color\": \"rgba(0, 0, 256, 1.0)\", \"size_field\": 3.926205565780978, \"y\": 1344.5967593357375, \"x\": 726.3946093859055, \"border_width\": 0, \"id\": \"EPOR\"}, {\"node_shape\": \"dot\", \"degree\": 3.0, \"title\": \"IRF1\", \"color\": \"rgba(0, 0, 256, 1.0)\", \"size_field\": 4.02798826009092, \"y\": 1363.6054677254845, \"x\": 909.1229669988495, \"border_width\": 2, \"id\": \"IRF1\"}, {\"node_shape\": \"dot\", \"degree\": 3.0, \"title\": \"TP53\", \"color\": \"rgba(26, 26, 256, 1.0)\", \"size_field\": 2.4205279857852102, \"y\": 1476.1643910039365, \"x\": 848.2786285183694, \"border_width\": 0, \"id\": \"TP53\"}, {\"node_shape\": \"dot\", \"degree\": 3.0, \"title\": \"TNFRSF1A\", \"color\": \"rgba(6, 6, 256, 1.0)\", \"size_field\": 2.0666741332679925, \"y\": 1209.6898502795914, \"x\": 89.4823052174452, \"border_width\": 0, \"id\": \"TNFRSF1A\"}, {\"node_shape\": \"dot\", \"degree\": 3.0, \"title\": \"CD274\", \"color\": \"rgba(256, 238, 238, 1.0)\", \"size_field\": 2.857786002501592, \"y\": 92.33537846531031, \"x\": 976.9396198419482, \"border_width\": 0, \"id\": \"CD274\"}, {\"node_shape\": \"dot\", \"degree\": 3.0, \"title\": \"SDC2\", \"color\": \"rgba(110, 110, 256, 1.0)\", \"size_field\": 3.8042369907391675, \"y\": 1301.3390972326915, \"x\": 1145.6866522938856, \"border_width\": 0, \"id\": \"SDC2\"}, {\"node_shape\": \"dot\", \"degree\": 3.0, \"title\": \"IRF8\", \"color\": \"rgba(256, 250, 250, 1.0)\", \"size_field\": 2.7793588773790106, \"y\": 1140.5935811416487, \"x\": 1364.503189839383, \"border_width\": 0, \"id\": \"IRF8\"}, {\"node_shape\": \"dot\", \"degree\": 3.0, \"title\": \"LCK\", \"color\": \"rgba(0, 0, 256, 1.0)\", \"size_field\": 3.3314274596790505, \"y\": 1404.5932679188602, \"x\": 275.41257165360935, \"border_width\": 0, \"id\": \"LCK\"}, {\"node_shape\": \"dot\", \"degree\": 3.0, \"title\": \"CREBBP\", \"color\": \"rgba(0, 0, 256, 1.0)\", \"size_field\": 2.796731496816516, \"y\": 1296.5637957307865, \"x\": 983.4470657901386, \"border_width\": 0, \"id\": \"CREBBP\"}, {\"node_shape\": \"dot\", \"degree\": 3.0, \"title\": \"PDGFRB\", \"color\": \"rgba(36, 36, 256, 1.0)\", \"size_field\": 2.0648585723484962, \"y\": 123.63620252335492, \"x\": 1281.2942552203044, \"border_width\": 0, \"id\": \"PDGFRB\"}, {\"node_shape\": \"dot\", \"degree\": 3.0, \"title\": \"SMAD7\", \"color\": \"rgba(0, 0, 256, 1.0)\", \"size_field\": 2.036871474775905, \"y\": 1412.8464509513533, \"x\": 1432.4877312255094, \"border_width\": 0, \"id\": \"SMAD7\"}, {\"node_shape\": \"dot\", \"degree\": 3.0, \"title\": \"MAPK14\", \"color\": \"rgba(22, 22, 256, 1.0)\", \"size_field\": 2.3129315067052314, \"y\": 1388.05583075464, \"x\": 608.2962509218637, \"border_width\": 0, \"id\": \"MAPK14\"}, {\"node_shape\": \"dot\", \"degree\": 3.0, \"title\": \"CSF2RA\", \"color\": \"rgba(0, 0, 256, 1.0)\", \"size_field\": 2.3042180410918807, \"y\": 1216.179848847424, \"x\": 0.0, \"border_width\": 0, \"id\": \"CSF2RA\"}, {\"node_shape\": \"dot\", \"degree\": 3.0, \"title\": \"MAPK11\", \"color\": \"rgba(0, 0, 256, 1.0)\", \"size_field\": 2.6025754823755585, \"y\": 1440.0756135477425, \"x\": 616.369175674303, \"border_width\": 0, \"id\": \"MAPK11\"}, {\"node_shape\": \"dot\", \"degree\": 3.0, \"title\": \"MAPK12\", \"color\": \"rgba(0, 0, 256, 1.0)\", \"size_field\": 2.880199911729801, \"y\": 1503.281110536528, \"x\": 1235.3086998787685, \"border_width\": 0, \"id\": \"MAPK12\"}, {\"node_shape\": \"dot\", \"degree\": 3.0, \"title\": \"ARRB1\", \"color\": \"rgba(0, 0, 256, 1.0)\", \"size_field\": 4.8895720777256, \"y\": 318.4344024262407, \"x\": 328.15393737647656, \"border_width\": 0, \"id\": \"ARRB1\"}, {\"node_shape\": \"dot\", \"degree\": 3.0, \"title\": \"CD86\", \"color\": \"rgba(0, 0, 256, 1.0)\", \"size_field\": 2.958154935972854, \"y\": 423.4438637171958, \"x\": 360.21063164884526, \"border_width\": 0, \"id\": \"CD86\"}, {\"node_shape\": \"dot\", \"degree\": 3.0, \"title\": \"STAT1\", \"color\": \"yellow\", \"size_field\": 5.44201937618241, \"y\": 636.0830344100159, \"x\": 995.2592468608927, \"border_width\": 0, \"id\": \"STAT1\"}, {\"node_shape\": \"dot\", \"degree\": 3.0, \"title\": \"CIITA\", \"color\": \"rgba(0, 0, 256, 1.0)\", \"size_field\": 2.7680862672244393, \"y\": 1004.6541682989059, \"x\": 1204.8438057857527, \"border_width\": 0, \"id\": \"CIITA\"}, {\"node_shape\": \"dot\", \"degree\": 3.0, \"title\": \"TRADD\", \"color\": \"rgba(0, 0, 256, 1.0)\", \"size_field\": 2.4903696151986083, \"y\": 1263.8019038877862, \"x\": 230.75523859759542, \"border_width\": 0, \"id\": \"TRADD\"}, {\"node_shape\": \"dot\", \"degree\": 3.0, \"title\": \"IFNB1\", \"color\": \"rgba(182, 182, 256, 1.0)\", \"size_field\": 2.423272726758129, \"y\": 1269.9643412778512, \"x\": 1114.3463262080052, \"border_width\": 0, \"id\": \"IFNB1\"}, {\"node_shape\": \"dot\", \"degree\": 3.0, \"title\": \"MAPK3\", \"color\": \"rgba(0, 0, 256, 1.0)\", \"size_field\": 2.7052197617942144, \"y\": 1343.296069637255, \"x\": 835.5083079988623, \"border_width\": 0, \"id\": \"MAPK3\"}, {\"node_shape\": \"dot\", \"degree\": 3.0, \"title\": \"MAPK1\", \"color\": \"rgba(0, 0, 256, 1.0)\", \"size_field\": 3.267978134301848, \"y\": 1268.722313401351, \"x\": 960.1974474751298, \"border_width\": 0, \"id\": \"MAPK1\"}, {\"node_shape\": \"dot\", \"degree\": 3.0, \"title\": \"CISH\", \"color\": \"rgba(124, 124, 256, 1.0)\", \"size_field\": 3.9152839555135523, \"y\": 1070.2168095355146, \"x\": 921.2157037034054, \"border_width\": 2, \"id\": \"CISH\"}, {\"node_shape\": \"dot\", \"degree\": 3.0, \"title\": \"IL17A\", \"color\": \"rgba(0, 0, 256, 1.0)\", \"size_field\": 3.8858503926276504, \"y\": 941.7555732291698, \"x\": 397.6657899987563, \"border_width\": 0, \"id\": \"IL17A\"}, {\"node_shape\": \"dot\", \"degree\": 3.0, \"title\": \"IL6R\", \"color\": \"rgba(116, 116, 256, 1.0)\", \"size_field\": 3.0255477178111043, \"y\": 1353.8040408686145, \"x\": 1390.2869055384758, \"border_width\": 2, \"id\": \"IL6R\"}, {\"node_shape\": \"dot\", \"degree\": 3.0, \"title\": \"CCL2\", \"color\": \"rgba(0, 0, 256, 1.0)\", \"size_field\": 2.089924707527987, \"y\": 1401.5959547936584, \"x\": 1230.956486264609, \"border_width\": 0, \"id\": \"CCL2\"}, {\"node_shape\": \"dot\", \"degree\": 3.0, \"title\": \"EP300\", \"color\": \"rgba(0, 0, 256, 1.0)\", \"size_field\": 2.98886142470899, \"y\": 1441.8920042432605, \"x\": 548.7069985376672, \"border_width\": 0, \"id\": \"EP300\"}, {\"node_shape\": \"dot\", \"degree\": 3.0, \"title\": \"IL2RA\", \"color\": \"rgba(186, 186, 256, 1.0)\", \"size_field\": 2.566690756607386, \"y\": 1179.8074223870412, \"x\": 1048.9110867164195, \"border_width\": 0, \"id\": \"IL2RA\"}, {\"node_shape\": \"dot\", \"degree\": 3.0, \"title\": \"IL2RB\", \"color\": \"rgba(0, 0, 256, 1.0)\", \"size_field\": 2.1068060043178094, \"y\": 1345.4662512571308, \"x\": 176.05469305157226, \"border_width\": 0, \"id\": \"IL2RB\"}, {\"node_shape\": \"dot\", \"degree\": 3.0, \"title\": \"IL2RG\", \"color\": \"rgba(256, 232, 232, 1.0)\", \"size_field\": 2.6867675735959065, \"y\": 1022.3836078937869, \"x\": 69.41878273525103, \"border_width\": 0, \"id\": \"IL2RG\"}, {\"node_shape\": \"dot\", \"degree\": 3.0, \"title\": \"IFNA1\", \"color\": \"rgba(256, 250, 250, 1.0)\", \"size_field\": 2.2950424268580734, \"y\": 1543.2731773059156, \"x\": 1269.6742684123674, \"border_width\": 0, \"id\": \"IFNA1\"}, {\"node_shape\": \"dot\", \"degree\": 3.0, \"title\": \"IL13\", \"color\": \"rgba(0, 0, 256, 1.0)\", \"size_field\": 2.243218715745261, \"y\": 1356.7143010418145, \"x\": 373.78110715223477, \"border_width\": 0, \"id\": \"IL13\"}, {\"node_shape\": \"dot\", \"degree\": 3.0, \"title\": \"LMO4\", \"color\": \"rgba(0, 0, 256, 1.0)\", \"size_field\": 2.7271177001310987, \"y\": 1444.5297207769247, \"x\": 1513.6878407324903, \"border_width\": 0, \"id\": \"LMO4\"}, {\"node_shape\": \"dot\", \"degree\": 3.0, \"title\": \"IL6\", \"color\": \"rgba(12, 12, 256, 1.0)\", \"size_field\": 2.013591953519467, \"y\": 1539.1619098182662, \"x\": 903.5430723455571, \"border_width\": 0, \"id\": \"IL6\"}, {\"node_shape\": \"dot\", \"degree\": 3.0, \"title\": \"PIAS3\", \"color\": \"rgba(10, 10, 256, 1.0)\", \"size_field\": 2.1428316491075425, \"y\": 531.8925454639968, \"x\": 618.5949015365538, \"border_width\": 0, \"id\": \"PIAS3\"}, {\"node_shape\": \"dot\", \"degree\": 3.0, \"title\": \"IL4\", \"color\": \"rgba(166, 166, 256, 1.0)\", \"size_field\": 2.4980739398408276, \"y\": 1386.3874364035453, \"x\": 497.33637914623546, \"border_width\": 0, \"id\": \"IL4\"}, {\"node_shape\": \"dot\", \"degree\": 3.0, \"title\": \"PIAS1\", \"color\": \"rgba(0, 0, 256, 1.0)\", \"size_field\": 4.509609262428372, \"y\": 1446.1302189437877, \"x\": 1061.980494656661, \"border_width\": 0, \"id\": \"PIAS1\"}, {\"node_shape\": \"dot\", \"degree\": 3.0, \"title\": \"IL2\", \"color\": \"rgba(0, 0, 256, 1.0)\", \"size_field\": 2.112944759016134, \"y\": 1208.211690481973, \"x\": 601.2729286937541, \"border_width\": 0, \"id\": \"IL2\"}, {\"node_shape\": \"dot\", \"degree\": 3.0, \"title\": \"PIAS4\", \"color\": \"rgba(0, 0, 256, 1.0)\", \"size_field\": 2.475297617706845, \"y\": 397.98206361441135, \"x\": 1127.547775706754, \"border_width\": 0, \"id\": \"PIAS4\"}, {\"node_shape\": \"dot\", \"degree\": 3.0, \"title\": \"EBI3\", \"color\": \"rgba(0, 0, 256, 1.0)\", \"size_field\": 2.0781777810640243, \"y\": 401.2383207774364, \"x\": 231.45952178693688, \"border_width\": 0, \"id\": \"EBI3\"}, {\"node_shape\": \"dot\", \"degree\": 3.0, \"title\": \"IFNGR1\", \"color\": \"rgba(0, 0, 256, 1.0)\", \"size_field\": 3.229974606864937, \"y\": 798.2407947682678, \"x\": 382.1451720303241, \"border_width\": 0, \"id\": \"IFNGR1\"}, {\"node_shape\": \"dot\", \"degree\": 3.0, \"title\": \"IDO1\", \"color\": \"rgba(0, 0, 256, 1.0)\", \"size_field\": 2.670994375918812, \"y\": 1605.455339097741, \"x\": 1444.429978282693, \"border_width\": 0, \"id\": \"IDO1\"}, {\"node_shape\": \"dot\", \"degree\": 3.0, \"title\": \"IL23A\", \"color\": \"rgba(60, 60, 256, 1.0)\", \"size_field\": 2.5803543530848234, \"y\": 901.6191776746327, \"x\": 1531.1261430299924, \"border_width\": 0, \"id\": \"IL23A\"}, {\"node_shape\": \"dot\", \"degree\": 3.0, \"title\": \"EGFR\", \"color\": \"rgba(256, 206, 206, 1.0)\", \"size_field\": 2.941352162469526, \"y\": 1286.7652639887, \"x\": 882.006943608659, \"border_width\": 0, \"id\": \"EGFR\"}, {\"node_shape\": \"dot\", \"degree\": 3.0, \"title\": \"IL12B\", \"color\": \"rgba(0, 0, 256, 1.0)\", \"size_field\": 2.182241559993784, \"y\": 993.5143747010256, \"x\": 582.85359642367, \"border_width\": 0, \"id\": \"IL12B\"}, {\"node_shape\": \"dot\", \"degree\": 3.0, \"title\": \"IL12A\", \"color\": \"rgba(102, 102, 256, 1.0)\", \"size_field\": 2.4183983835200635, \"y\": 896.314463986096, \"x\": 730.3657597865206, \"border_width\": 0, \"id\": \"IL12A\"}, {\"node_shape\": \"dot\", \"degree\": 3.0, \"title\": \"IL23R\", \"color\": \"rgba(190, 190, 256, 1.0)\", \"size_field\": 2.395415772255163, \"y\": 539.4783437719494, \"x\": 201.30838102734705, \"border_width\": 0, \"id\": \"IL23R\"}, {\"node_shape\": \"dot\", \"degree\": 3.0, \"title\": \"MPL\", \"color\": \"rgba(0, 0, 256, 1.0)\", \"size_field\": 3.0903465442510774, \"y\": 1312.2615659838584, \"x\": 129.20599602350325, \"border_width\": 0, \"id\": \"MPL\"}, {\"node_shape\": \"dot\", \"degree\": 3.0, \"title\": \"FYN\", \"color\": \"rgba(0, 0, 256, 1.0)\", \"size_field\": 3.171182981502945, \"y\": 1766.7378461899395, \"x\": 1039.2320130869077, \"border_width\": 0, \"id\": \"FYN\"}, {\"node_shape\": \"dot\", \"degree\": 3.0, \"title\": \"THPO\", \"color\": \"rgba(256, 248, 248, 1.0)\", \"size_field\": 2.6869663214848645, \"y\": 1023.8034205579419, \"x\": 1708.4769555074022, \"border_width\": 0, \"id\": \"THPO\"}, {\"node_shape\": \"dot\", \"degree\": 3.0, \"title\": \"CAMK2D\", \"color\": \"rgba(0, 0, 256, 1.0)\", \"size_field\": 3.579879110192556, \"y\": 1000.4028711662887, \"x\": 831.6657694056471, \"border_width\": 0, \"id\": \"CAMK2D\"}, {\"node_shape\": \"dot\", \"degree\": 3.0, \"title\": \"CXCR4\", \"color\": \"rgba(0, 0, 256, 1.0)\", \"size_field\": 4.4001979218610465, \"y\": 1553.061971110588, \"x\": 1115.8342370506464, \"border_width\": 0, \"id\": \"CXCR4\"}, {\"node_shape\": \"dot\", \"degree\": 3.0, \"title\": \"PDGFB\", \"color\": \"rgba(0, 0, 256, 1.0)\", \"size_field\": 2.855195632514344, \"y\": 855.0086938650893, \"x\": 1638.4719491042854, \"border_width\": 0, \"id\": \"PDGFB\"}, {\"node_shape\": \"dot\", \"degree\": 3.0, \"title\": \"PRKCD\", \"color\": \"rgba(0, 0, 256, 1.0)\", \"size_field\": 2.8512054852182205, \"y\": 1564.4099372624069, \"x\": 1330.992454037816, \"border_width\": 0, \"id\": \"PRKCD\"}, {\"node_shape\": \"dot\", \"degree\": 3.0, \"title\": \"CAMK2B\", \"color\": \"rgba(0, 0, 256, 1.0)\", \"size_field\": 3.8109422886448288, \"y\": 1545.5392260559906, \"x\": 701.1425339245737, \"border_width\": 0, \"id\": \"CAMK2B\"}, {\"node_shape\": \"dot\", \"degree\": 3.0, \"title\": \"CASP3\", \"color\": \"rgba(0, 0, 256, 1.0)\", \"size_field\": 2.552342303968924, \"y\": 1112.1454512081152, \"x\": 608.7163165335041, \"border_width\": 0, \"id\": \"CASP3\"}, {\"node_shape\": \"dot\", \"degree\": 3.0, \"title\": \"CASP1\", \"color\": \"rgba(256, 78, 78, 1.0)\", \"size_field\": 3.4722880742868667, \"y\": 1034.8432194342108, \"x\": 415.44780369603063, \"border_width\": 0, \"id\": \"CASP1\"}, {\"node_shape\": \"dot\", \"degree\": 3.0, \"title\": \"IL27RA\", \"color\": \"rgba(142, 142, 256, 1.0)\", \"size_field\": 3.579879110192556, \"y\": 957.9289658195262, \"x\": 25.122135864247863, \"border_width\": 0, \"id\": \"IL27RA\"}, {\"node_shape\": \"dot\", \"degree\": 3.0, \"title\": \"MAPK13\", \"color\": \"rgba(0, 0, 256, 1.0)\", \"size_field\": 2.9824305343787003, \"y\": 1379.8080805914972, \"x\": 1491.114486168892, \"border_width\": 0, \"id\": \"MAPK13\"}, {\"node_shape\": \"dot\", \"degree\": 3.0, \"title\": \"BCL2\", \"color\": \"rgba(142, 142, 256, 1.0)\", \"size_field\": 3.5186835491656363, \"y\": 1461.5544460275435, \"x\": 752.2213195210429, \"border_width\": 0, \"id\": \"BCL2\"}], [{\"color\": \"red\", \"source\": 2, \"target\": 81}, {\"color\": \"red\", \"source\": 2, \"target\": 12}, {\"color\": \"red\", \"source\": 2, \"target\": 12}, {\"color\": \"blue\", \"source\": 2, \"target\": 76}, {\"color\": \"red\", \"source\": 2, \"target\": 15}, {\"color\": \"red\", \"source\": 2, \"target\": 15}, {\"color\": \"blue\", \"source\": 2, \"target\": 84}, {\"color\": \"red\", \"source\": 2, \"target\": 97}, {\"color\": \"red\", \"source\": 2, \"target\": 98}, {\"color\": \"red\", \"source\": 2, \"target\": 110}, {\"color\": \"red\", \"source\": 2, \"target\": 4}, {\"color\": \"red\", \"source\": 2, \"target\": 10}, {\"color\": \"blue\", \"source\": 2, \"target\": 88}, {\"color\": \"blue\", \"source\": 2, \"target\": 88}, {\"color\": \"blue\", \"source\": 2, \"target\": 27}, {\"color\": \"red\", \"source\": 2, \"target\": 44}, {\"color\": \"blue\", \"source\": 2, \"target\": 99}, {\"color\": \"blue\", \"source\": 2, \"target\": 90}, {\"color\": \"red\", \"source\": 2, \"target\": 8}, {\"color\": \"blue\", \"source\": 2, \"target\": 21}, {\"color\": \"blue\", \"source\": 2, \"target\": 21}, {\"color\": \"red\", \"source\": 19, \"target\": 50}, {\"color\": \"blue\", \"source\": 21, \"target\": 2}, {\"color\": \"blue\", \"source\": 21, \"target\": 2}, {\"color\": \"blue\", \"source\": 21, \"target\": 84}, {\"color\": \"red\", \"source\": 21, \"target\": 63}, {\"color\": \"blue\", \"source\": 21, \"target\": 5}, {\"color\": \"blue\", \"source\": 21, \"target\": 88}, {\"color\": \"blue\", \"source\": 21, \"target\": 88}, {\"color\": \"blue\", \"source\": 21, \"target\": 10}, {\"color\": \"blue\", \"source\": 21, \"target\": 15}, {\"color\": \"red\", \"source\": 21, \"target\": 79}, {\"color\": \"red\", \"source\": 48, \"target\": 0}, {\"color\": \"red\", \"source\": 48, \"target\": 78}, {\"color\": \"red\", \"source\": 48, \"target\": 78}, {\"color\": \"red\", \"source\": 48, \"target\": 34}, {\"color\": \"blue\", \"source\": 48, \"target\": 1}, {\"color\": \"red\", \"source\": 48, \"target\": 62}, {\"color\": \"blue\", \"source\": 48, \"target\": 96}, {\"color\": \"red\", \"source\": 48, \"target\": 97}, {\"color\": \"red\", \"source\": 48, \"target\": 98}, {\"color\": \"red\", \"source\": 48, \"target\": 63}, {\"color\": \"red\", \"source\": 48, \"target\": 63}, {\"color\": \"red\", \"source\": 48, \"target\": 5}, {\"color\": \"red\", \"source\": 48, \"target\": 65}, {\"color\": \"red\", \"source\": 48, \"target\": 66}, {\"color\": \"red\", \"source\": 48, \"target\": 111}, {\"color\": \"red\", \"source\": 48, \"target\": 8}, {\"color\": \"red\", \"source\": 48, \"target\": 9}, {\"color\": \"red\", \"source\": 48, \"target\": 10}, {\"color\": \"red\", \"source\": 48, \"target\": 12}, {\"color\": \"red\", \"source\": 48, \"target\": 101}, {\"color\": \"blue\", \"source\": 48, \"target\": 72}, {\"color\": \"red\", \"source\": 48, \"target\": 73}, {\"color\": \"red\", \"source\": 48, \"target\": 73}, {\"color\": \"red\", \"source\": 48, \"target\": 74}, {\"color\": \"red\", \"source\": 48, \"target\": 74}, {\"color\": \"red\", \"source\": 48, \"target\": 44}, {\"color\": \"blue\", \"source\": 48, \"target\": 46}, {\"color\": \"blue\", \"source\": 48, \"target\": 14}, {\"color\": \"red\", \"source\": 48, \"target\": 15}, {\"color\": \"blue\", \"source\": 48, \"target\": 16}, {\"color\": \"red\", \"source\": 48, \"target\": 80}, {\"color\": \"blue\", \"source\": 48, \"target\": 54}, {\"color\": \"blue\", \"source\": 48, \"target\": 54}, {\"color\": \"red\", \"source\": 48, \"target\": 57}, {\"color\": \"red\", \"source\": 48, \"target\": 84}, {\"color\": \"red\", \"source\": 48, \"target\": 40}, {\"color\": \"red\", \"source\": 48, \"target\": 40}, {\"color\": \"red\", \"source\": 48, \"target\": 86}, {\"color\": \"red\", \"source\": 48, \"target\": 86}, {\"color\": \"red\", \"source\": 48, \"target\": 88}, {\"color\": \"red\", \"source\": 48, \"target\": 88}, {\"color\": \"red\", \"source\": 48, \"target\": 90}, {\"color\": \"red\", \"source\": 48, \"target\": 90}, {\"color\": \"red\", \"source\": 49, \"target\": 54}, {\"color\": \"red\", \"source\": 49, \"target\": 57}, {\"color\": \"red\", \"source\": 49, \"target\": 79}, {\"color\": \"blue\", \"source\": 49, \"target\": 50}, {\"color\": \"blue\", \"source\": 49, \"target\": 50}, {\"color\": \"red\", \"source\": 53, \"target\": 34}, {\"color\": \"red\", \"source\": 53, \"target\": 26}, {\"color\": \"blue\", \"source\": 53, \"target\": 27}, {\"color\": \"red\", \"source\": 53, \"target\": 15}, {\"color\": \"red\", \"source\": 53, \"target\": 70}, {\"color\": \"red\", \"source\": 53, \"target\": 83}, {\"color\": \"red\", \"source\": 53, \"target\": 96}, {\"color\": \"red\", \"source\": 53, \"target\": 72}, {\"color\": \"red\", \"source\": 53, \"target\": 86}, {\"color\": \"blue\", \"source\": 53, \"target\": 88}, {\"color\": \"blue\", \"source\": 53, \"target\": 50}, {\"color\": \"red\", \"source\": 53, \"target\": 79}, {\"color\": \"red\", \"source\": 53, \"target\": 60}, {\"color\": \"red\", \"source\": 54, \"target\": 78}, {\"color\": \"red\", \"source\": 54, \"target\": 1}, {\"color\": \"red\", \"source\": 54, \"target\": 96}, {\"color\": \"red\", \"source\": 54, \"target\": 96}, {\"color\": \"red\", \"source\": 54, \"target\": 63}, {\"color\": \"red\", \"source\": 54, \"target\": 65}, {\"color\": \"blue\", \"source\": 54, \"target\": 20}, {\"color\": \"red\", \"source\": 54, \"target\": 73}, {\"color\": \"red\", \"source\": 54, \"target\": 74}, {\"color\": \"red\", \"source\": 54, \"target\": 75}, {\"color\": \"blue\", \"source\": 54, \"target\": 104}, {\"color\": \"red\", \"source\": 54, \"target\": 76}, {\"color\": \"blue\", \"source\": 54, \"target\": 48}, {\"color\": \"blue\", \"source\": 54, \"target\": 48}, {\"color\": \"red\", \"source\": 54, \"target\": 106}, {\"color\": \"red\", \"source\": 54, \"target\": 49}, {\"color\": \"blue\", \"source\": 54, \"target\": 50}, {\"color\": \"blue\", \"source\": 54, \"target\": 79}, {\"color\": \"blue\", \"source\": 54, \"target\": 79}, {\"color\": \"blue\", \"source\": 54, \"target\": 79}, {\"color\": \"blue\", \"source\": 54, \"target\": 24}, {\"color\": \"red\", \"source\": 54, \"target\": 109}, {\"color\": \"blue\", \"source\": 54, \"target\": 58}, {\"color\": \"red\", \"source\": 54, \"target\": 37}, {\"color\": \"blue\", \"source\": 54, \"target\": 86}, {\"color\": \"blue\", \"source\": 54, \"target\": 86}, {\"color\": \"red\", \"source\": 54, \"target\": 88}, {\"color\": \"blue\", \"source\": 54, \"target\": 90}, {\"color\": \"blue\", \"source\": 54, \"target\": 60}, {\"color\": \"blue\", \"source\": 54, \"target\": 60}, {\"color\": \"blue\", \"source\": 54, \"target\": 60}, {\"color\": \"blue\", \"source\": 54, \"target\": 112}, {\"color\": \"blue\", \"source\": 54, \"target\": 112}, {\"color\": \"blue\", \"source\": 54, \"target\": 112}, {\"color\": \"blue\", \"source\": 58, \"target\": 0}, {\"color\": \"blue\", \"source\": 58, \"target\": 54}, {\"color\": \"red\", \"source\": 58, \"target\": 108}, {\"color\": \"red\", \"source\": 58, \"target\": 15}, {\"color\": \"red\", \"source\": 58, \"target\": 83}, {\"color\": \"blue\", \"source\": 58, \"target\": 40}, {\"color\": \"red\", \"source\": 58, \"target\": 7}, {\"color\": \"red\", \"source\": 58, \"target\": 7}, {\"color\": \"blue\", \"source\": 58, \"target\": 46}, {\"color\": \"red\", \"source\": 60, \"target\": 52}, {\"color\": \"red\", \"source\": 60, \"target\": 80}, {\"color\": \"red\", \"source\": 60, \"target\": 53}, {\"color\": \"blue\", \"source\": 60, \"target\": 54}, {\"color\": \"blue\", \"source\": 60, \"target\": 54}, {\"color\": \"blue\", \"source\": 60, \"target\": 54}, {\"color\": \"red\", \"source\": 60, \"target\": 103}, {\"color\": \"red\", \"source\": 60, \"target\": 16}, {\"color\": \"red\", \"source\": 60, \"target\": 17}, {\"color\": \"blue\", \"source\": 60, \"target\": 40}, {\"color\": \"red\", \"source\": 60, \"target\": 30}, {\"color\": \"red\", \"source\": 60, \"target\": 63}, {\"color\": \"red\", \"source\": 60, \"target\": 5}, {\"color\": \"red\", \"source\": 60, \"target\": 50}, {\"color\": \"red\", \"source\": 60, \"target\": 107}, {\"color\": \"red\", \"source\": 60, \"target\": 72}, {\"color\": \"red\", \"source\": 60, \"target\": 112}, {\"color\": \"blue\", \"source\": 62, \"target\": 1}, {\"color\": \"red\", \"source\": 62, \"target\": 48}, {\"color\": \"red\", \"source\": 62, \"target\": 40}, {\"color\": \"blue\", \"source\": 62, \"target\": 74}, {\"color\": \"red\", \"source\": 62, \"target\": 9}, {\"color\": \"red\", \"source\": 69, \"target\": 0}, {\"color\": \"red\", \"source\": 69, \"target\": 1}, {\"color\": \"red\", \"source\": 69, \"target\": 2}, {\"color\": \"blue\", \"source\": 69, \"target\": 3}, {\"color\": \"red\", \"source\": 69, \"target\": 4}, {\"color\": \"red\", \"source\": 69, \"target\": 4}, {\"color\": \"red\", \"source\": 69, \"target\": 5}, {\"color\": \"red\", \"source\": 69, \"target\": 6}, {\"color\": \"red\", \"source\": 69, \"target\": 7}, {\"color\": \"red\", \"source\": 69, \"target\": 8}, {\"color\": \"red\", \"source\": 69, \"target\": 8}, {\"color\": \"red\", \"source\": 69, \"target\": 9}, {\"color\": \"red\", \"source\": 69, \"target\": 10}, {\"color\": \"blue\", \"source\": 69, \"target\": 11}, {\"color\": \"red\", \"source\": 69, \"target\": 12}, {\"color\": \"red\", \"source\": 69, \"target\": 12}, {\"color\": \"red\", \"source\": 69, \"target\": 13}, {\"color\": \"red\", \"source\": 69, \"target\": 14}, {\"color\": \"red\", \"source\": 69, \"target\": 15}, {\"color\": \"red\", \"source\": 69, \"target\": 16}, {\"color\": \"red\", \"source\": 69, \"target\": 16}, {\"color\": \"red\", \"source\": 69, \"target\": 17}, {\"color\": \"red\", \"source\": 69, \"target\": 17}, {\"color\": \"blue\", \"source\": 69, \"target\": 18}, {\"color\": \"blue\", \"source\": 69, \"target\": 19}, {\"color\": \"red\", \"source\": 69, \"target\": 20}, {\"color\": \"blue\", \"source\": 69, \"target\": 21}, {\"color\": \"blue\", \"source\": 69, \"target\": 22}, {\"color\": \"blue\", \"source\": 69, \"target\": 22}, {\"color\": \"blue\", \"source\": 69, \"target\": 23}, {\"color\": \"blue\", \"source\": 69, \"target\": 23}, {\"color\": \"red\", \"source\": 69, \"target\": 24}, {\"color\": \"blue\", \"source\": 69, \"target\": 25}, {\"color\": \"blue\", \"source\": 69, \"target\": 25}, {\"color\": \"blue\", \"source\": 69, \"target\": 26}, {\"color\": \"blue\", \"source\": 69, \"target\": 26}, {\"color\": \"blue\", \"source\": 69, \"target\": 26}, {\"color\": \"blue\", \"source\": 69, \"target\": 27}, {\"color\": \"blue\", \"source\": 69, \"target\": 27}, {\"color\": \"blue\", \"source\": 69, \"target\": 27}, {\"color\": \"blue\", \"source\": 69, \"target\": 28}, {\"color\": \"blue\", \"source\": 69, \"target\": 28}, {\"color\": \"red\", \"source\": 69, \"target\": 29}, {\"color\": \"red\", \"source\": 69, \"target\": 30}, {\"color\": \"red\", \"source\": 69, \"target\": 31}, {\"color\": \"red\", \"source\": 69, \"target\": 31}, {\"color\": \"blue\", \"source\": 69, \"target\": 32}, {\"color\": \"red\", \"source\": 69, \"target\": 33}, {\"color\": \"blue\", \"source\": 69, \"target\": 34}, {\"color\": \"blue\", \"source\": 69, \"target\": 35}, {\"color\": \"red\", \"source\": 69, \"target\": 36}, {\"color\": \"red\", \"source\": 69, \"target\": 37}, {\"color\": \"red\", \"source\": 69, \"target\": 38}, {\"color\": \"red\", \"source\": 69, \"target\": 39}, {\"color\": \"red\", \"source\": 69, \"target\": 40}, {\"color\": \"red\", \"source\": 69, \"target\": 41}, {\"color\": \"blue\", \"source\": 69, \"target\": 42}, {\"color\": \"blue\", \"source\": 69, \"target\": 42}, {\"color\": \"red\", \"source\": 69, \"target\": 43}, {\"color\": \"red\", \"source\": 69, \"target\": 44}, {\"color\": \"red\", \"source\": 69, \"target\": 44}, {\"color\": \"red\", \"source\": 69, \"target\": 45}, {\"color\": \"red\", \"source\": 69, \"target\": 45}, {\"color\": \"red\", \"source\": 69, \"target\": 46}, {\"color\": \"red\", \"source\": 69, \"target\": 46}, {\"color\": \"red\", \"source\": 69, \"target\": 47}, {\"color\": \"blue\", \"source\": 69, \"target\": 48}, {\"color\": \"red\", \"source\": 69, \"target\": 49}, {\"color\": \"blue\", \"source\": 69, \"target\": 50}, {\"color\": \"blue\", \"source\": 69, \"target\": 51}, {\"color\": \"blue\", \"source\": 69, \"target\": 51}, {\"color\": \"red\", \"source\": 69, \"target\": 52}, {\"color\": \"red\", \"source\": 69, \"target\": 52}, {\"color\": \"blue\", \"source\": 69, \"target\": 53}, {\"color\": \"blue\", \"source\": 69, \"target\": 54}, {\"color\": \"red\", \"source\": 69, \"target\": 55}, {\"color\": \"red\", \"source\": 69, \"target\": 56}, {\"color\": \"red\", \"source\": 69, \"target\": 57}, {\"color\": \"blue\", \"source\": 69, \"target\": 58}, {\"color\": \"red\", \"source\": 69, \"target\": 59}, {\"color\": \"red\", \"source\": 69, \"target\": 60}, {\"color\": \"red\", \"source\": 69, \"target\": 60}, {\"color\": \"red\", \"source\": 69, \"target\": 61}, {\"color\": \"red\", \"source\": 69, \"target\": 62}, {\"color\": \"red\", \"source\": 69, \"target\": 63}, {\"color\": \"red\", \"source\": 69, \"target\": 64}, {\"color\": \"red\", \"source\": 69, \"target\": 65}, {\"color\": \"red\", \"source\": 69, \"target\": 66}, {\"color\": \"blue\", \"source\": 69, \"target\": 67}, {\"color\": \"blue\", \"source\": 69, \"target\": 68}, {\"color\": \"red\", \"source\": 69, \"target\": 70}, {\"color\": \"red\", \"source\": 69, \"target\": 70}, {\"color\": \"red\", \"source\": 69, \"target\": 71}, {\"color\": \"red\", \"source\": 69, \"target\": 72}, {\"color\": \"red\", \"source\": 69, \"target\": 73}, {\"color\": \"red\", \"source\": 69, \"target\": 73}, {\"color\": \"red\", \"source\": 69, \"target\": 74}, {\"color\": \"red\", \"source\": 69, \"target\": 74}, {\"color\": \"red\", \"source\": 69, \"target\": 74}, {\"color\": \"blue\", \"source\": 69, \"target\": 75}, {\"color\": \"blue\", \"source\": 69, \"target\": 75}, {\"color\": \"blue\", \"source\": 69, \"target\": 76}, {\"color\": \"blue\", \"source\": 69, \"target\": 77}, {\"color\": \"blue\", \"source\": 69, \"target\": 78}, {\"color\": \"red\", \"source\": 69, \"target\": 79}, {\"color\": \"red\", \"source\": 69, \"target\": 80}, {\"color\": \"red\", \"source\": 69, \"target\": 81}, {\"color\": \"red\", \"source\": 69, \"target\": 82}, {\"color\": \"red\", \"source\": 69, \"target\": 83}, {\"color\": \"blue\", \"source\": 69, \"target\": 84}, {\"color\": \"blue\", \"source\": 69, \"target\": 85}, {\"color\": \"blue\", \"source\": 69, \"target\": 86}, {\"color\": \"blue\", \"source\": 69, \"target\": 87}, {\"color\": \"blue\", \"source\": 69, \"target\": 87}, {\"color\": \"blue\", \"source\": 69, \"target\": 88}, {\"color\": \"blue\", \"source\": 69, \"target\": 89}, {\"color\": \"blue\", \"source\": 69, \"target\": 89}, {\"color\": \"red\", \"source\": 69, \"target\": 90}, {\"color\": \"blue\", \"source\": 69, \"target\": 91}, {\"color\": \"blue\", \"source\": 69, \"target\": 91}, {\"color\": \"red\", \"source\": 69, \"target\": 92}, {\"color\": \"red\", \"source\": 69, \"target\": 93}, {\"color\": \"red\", \"source\": 69, \"target\": 93}, {\"color\": \"red\", \"source\": 69, \"target\": 94}, {\"color\": \"red\", \"source\": 69, \"target\": 95}, {\"color\": \"red\", \"source\": 69, \"target\": 96}, {\"color\": \"red\", \"source\": 69, \"target\": 97}, {\"color\": \"red\", \"source\": 69, \"target\": 98}, {\"color\": \"red\", \"source\": 69, \"target\": 99}, {\"color\": \"red\", \"source\": 69, \"target\": 100}, {\"color\": \"red\", \"source\": 69, \"target\": 101}, {\"color\": \"red\", \"source\": 69, \"target\": 102}, {\"color\": \"red\", \"source\": 69, \"target\": 103}, {\"color\": \"red\", \"source\": 69, \"target\": 103}, {\"color\": \"red\", \"source\": 69, \"target\": 104}, {\"color\": \"red\", \"source\": 69, \"target\": 105}, {\"color\": \"red\", \"source\": 69, \"target\": 106}, {\"color\": \"red\", \"source\": 69, \"target\": 107}, {\"color\": \"red\", \"source\": 69, \"target\": 107}, {\"color\": \"red\", \"source\": 69, \"target\": 108}, {\"color\": \"red\", \"source\": 69, \"target\": 109}, {\"color\": \"red\", \"source\": 69, \"target\": 110}, {\"color\": \"red\", \"source\": 69, \"target\": 111}, {\"color\": \"red\", \"source\": 69, \"target\": 112}, {\"color\": \"blue\", \"source\": 70, \"target\": 15}, {\"color\": \"red\", \"source\": 70, \"target\": 53}, {\"color\": \"blue\", \"source\": 70, \"target\": 26}, {\"color\": \"blue\", \"source\": 70, \"target\": 88}, {\"color\": \"red\", \"source\": 71, \"target\": 39}, {\"color\": \"red\", \"source\": 71, \"target\": 39}, {\"color\": \"red\", \"source\": 71, \"target\": 108}, {\"color\": \"red\", \"source\": 71, \"target\": 55}, {\"color\": \"red\", \"source\": 71, \"target\": 55}, {\"color\": \"red\", \"source\": 71, \"target\": 55}, {\"color\": \"blue\", \"source\": 71, \"target\": 32}, {\"color\": \"red\", \"source\": 71, \"target\": 13}, {\"color\": \"red\", \"source\": 71, \"target\": 13}, {\"color\": \"red\", \"source\": 79, \"target\": 53}, {\"color\": \"blue\", \"source\": 79, \"target\": 54}, {\"color\": \"blue\", \"source\": 79, \"target\": 54}, {\"color\": \"blue\", \"source\": 79, \"target\": 54}, {\"color\": \"red\", \"source\": 79, \"target\": 49}, {\"color\": \"red\", \"source\": 79, \"target\": 103}, {\"color\": \"red\", \"source\": 79, \"target\": 16}, {\"color\": \"red\", \"source\": 79, \"target\": 17}, {\"color\": \"blue\", \"source\": 79, \"target\": 40}, {\"color\": \"red\", \"source\": 79, \"target\": 63}, {\"color\": \"red\", \"source\": 79, \"target\": 5}, {\"color\": \"red\", \"source\": 79, \"target\": 50}, {\"color\": \"red\", \"source\": 79, \"target\": 107}, {\"color\": \"red\", \"source\": 79, \"target\": 21}, {\"color\": \"red\", \"source\": 79, \"target\": 112}, {\"color\": \"red\", \"source\": 85, \"target\": 89}, {\"color\": \"red\", \"source\": 89, \"target\": 85}, {\"color\": \"red\", \"source\": 89, \"target\": 77}, {\"color\": \"red\", \"source\": 89, \"target\": 86}, {\"color\": \"red\", \"source\": 89, \"target\": 46}, {\"color\": \"red\", \"source\": 89, \"target\": 3}, {\"color\": \"blue\", \"source\": 91, \"target\": 26}, {\"color\": \"red\", \"source\": 39, \"target\": 108}, {\"color\": \"red\", \"source\": 39, \"target\": 55}, {\"color\": \"red\", \"source\": 39, \"target\": 55}, {\"color\": \"red\", \"source\": 39, \"target\": 71}, {\"color\": \"red\", \"source\": 39, \"target\": 71}, {\"color\": \"red\", \"source\": 39, \"target\": 63}, {\"color\": \"blue\", \"source\": 39, \"target\": 32}, {\"color\": \"blue\", \"source\": 39, \"target\": 32}, {\"color\": \"blue\", \"source\": 39, \"target\": 32}, {\"color\": \"red\", \"source\": 39, \"target\": 65}, {\"color\": \"red\", \"source\": 39, \"target\": 13}]);}</script><iframe name=\"style_file1\" src=\"style_file1.html\" width=\"100%;\" height=\"805px\"></iframe></body></html>"
      ],
      "text/plain": [
       "<IPython.core.display.HTML object>"
      ]
     },
     "execution_count": 23,
     "metadata": {},
     "output_type": "execute_result"
    }
   ],
   "source": [
    "# display subnetworks using visJS2jupyter\n",
    "stat_analysis.vis_tf_network(DG_TF, 'STAT1', '../DEG_databases/geo2r_GSE11352_brca_48hours.txt', DEG_list,\n",
    "              directed_edges = True,\n",
    "              node_spacing = 2000,\n",
    "              graph_id = 1) "
   ]
  },
  {
   "cell_type": "code",
   "execution_count": null,
   "metadata": {
    "collapsed": true
   },
   "outputs": [],
   "source": []
  }
 ],
 "metadata": {
  "kernelspec": {
   "display_name": "Python 2",
   "language": "python",
   "name": "python2"
  },
  "language_info": {
   "codemirror_mode": {
    "name": "ipython",
    "version": 2
   },
   "file_extension": ".py",
   "mimetype": "text/x-python",
   "name": "python",
   "nbconvert_exporter": "python",
   "pygments_lexer": "ipython2",
   "version": "2.7.14"
  }
 },
 "nbformat": 4,
 "nbformat_minor": 2
}
