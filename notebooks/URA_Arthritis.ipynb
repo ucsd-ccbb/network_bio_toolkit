{
 "cells": [
  {
   "cell_type": "markdown",
   "metadata": {},
   "source": [
    "# Upstream Regulator Analysis Package\n",
    "## Arthritis Case Study\n",
    "\n",
    "----------------------\n",
    "\n",
    "Author: Mikayla Webster (m1webste@ucsd.edu)\n",
    "\n",
    "Date: 9th February, 2018\n",
    "\n",
    "----------------------\n",
    "\n",
    "<a id='toc'></a>\n",
    "## Table of Contents\n",
    "1. [Background](#background)\n",
    "2. [Import packages](#import)\n",
    "3. [Load Networks](#load)\n",
    "6. [P-value and Z-score Calculation](#pz)\n",
    "7. [Compare the Ingenuity Article's results to Ours](#comp)\n",
    "8. [Display Our results](#display)"
   ]
  },
  {
   "cell_type": "markdown",
   "metadata": {},
   "source": [
    "## Background\n",
    "<a id='background'></a>\n",
    "\n",
    "Need some info about where these genes come from. Also Some feedback from Katie and Adam on motivation will go good here!"
   ]
  },
  {
   "cell_type": "markdown",
   "metadata": {},
   "source": [
    "## Import packages\n",
    "<a id='import'></a>"
   ]
  },
  {
   "cell_type": "code",
   "execution_count": 1,
   "metadata": {
    "collapsed": true
   },
   "outputs": [],
   "source": [
    "# import upstream regulator module\n",
    "import sys\n",
    "code_path = '../ura'\n",
    "sys.path.append(code_path)\n",
    "import Upstream\n",
    "reload(Upstream)\n",
    "import seaborn as sns\n",
    "sns.set(color_codes=True)\n",
    "import numpy as np\n",
    "import pandas as pd\n",
    "from scipy import stats, integrate\n",
    "import matplotlib.pyplot as plt\n",
    "# latex rendering of text in graphs\n",
    "import matplotlib as mpl\n",
    "mpl.rc('text', usetex = False)\n",
    "mpl.rc('font', family = 'serif')"
   ]
  },
  {
   "cell_type": "code",
   "execution_count": 2,
   "metadata": {
    "collapsed": true
   },
   "outputs": [],
   "source": [
    "%matplotlib inline"
   ]
  },
  {
   "cell_type": "code",
   "execution_count": 3,
   "metadata": {
    "collapsed": true
   },
   "outputs": [],
   "source": [
    "# User preferences\n",
    "symbol = 'symbol'\n",
    "entrez = 'entrez'\n",
    "\n",
    "ura = Upstream.Upstream(symbol)"
   ]
  },
  {
   "cell_type": "markdown",
   "metadata": {},
   "source": [
    "## Load Networks\n",
    "<a id='load'></a>\n",
    "\n",
    "1. List of all **Transcription Factors** (TF's) or regulators of interest to us\n",
    "    <br>\n",
    "    - Our sources are [slowkow](https://github.com/slowkow/tftargets) and [jaspar](http://jaspar.genereg.net/) TF databases\n",
    "    <br><br>\n",
    "2. **Background Network**: [STRING human protein interactions network](https://string-db.org/cgi/download.pl?UserId=9BGA8WkVMRl6&sessionId=HWUK6Dum9xC6&species_text=Homo+sapiens)  \n",
    "    - Filter our background network down to just the sub network of TF's and their targets\n",
    "    <br><br>\n",
    "3. User-supplied list of **Differentially Expressed Genes** (DEG's)"
   ]
  },
  {
   "cell_type": "code",
   "execution_count": 4,
   "metadata": {},
   "outputs": [
    {
     "name": "stdout",
     "output_type": "stream",
     "text": [
      "Number of TF's: 3983\n"
     ]
    }
   ],
   "source": [
    "# transcription factors\n",
    "ura.easy_load_TF_list(slowkow_bool=True, jaspar_bool=True)\n",
    "TF_list = ura.get('TF_list')\n",
    "print \"Number of TF's: \" + str(len(TF_list))"
   ]
  },
  {
   "cell_type": "code",
   "execution_count": 5,
   "metadata": {},
   "outputs": [
    {
     "name": "stdout",
     "output_type": "stream",
     "text": [
      "querying 1-1000...done.\n",
      "querying 1001-2000...done.\n",
      "querying 2001-3000...done.\n",
      "querying 3001-4000...done.\n",
      "querying 4001-5000...done.\n",
      "querying 5001-6000...done.\n",
      "querying 6001-7000...done.\n",
      "querying 7001-7374...done.\n",
      "Finished.\n",
      "56 input query terms found dup hits:\n",
      "\t[(u'ENSP00000359550', 3), (u'ENSP00000447879', 2), (u'ENSP00000364076', 2), (u'ENSP00000348986', 2),\n",
      "312 input query terms found no hit:\n",
      "\t[u'ENSP00000376684', u'ENSP00000289352', u'ENSP00000202788', u'ENSP00000373637', u'ENSP00000367802',\n",
      "Pass \"returnall=True\" to return complete lists of duplicate or missing query terms.\n",
      "\n",
      "Number of interactions: 28939\n"
     ]
    }
   ],
   "source": [
    "# background network\n",
    "filename = \"../background_networks/9606.protein.actions.v10.5.txt\"\n",
    "confidence_filter = 400\n",
    "ura.load_STRING_to_digraph(filename, confidence_filter)\n",
    "DG_TF = ura.get('DG_TF')\n",
    "DG_universe = ura.get('DG_universe')\n",
    "\n",
    "\n",
    "print \"\\nNumber of interactions: \" + str(len(list(DG_TF.edges())))"
   ]
  },
  {
   "cell_type": "code",
   "execution_count": 6,
   "metadata": {},
   "outputs": [
    {
     "name": "stdout",
     "output_type": "stream",
     "text": [
      "Number of DEG's: 1456\n"
     ]
    }
   ],
   "source": [
    "#ura.DG_TF = save_DG_TF\n",
    "#ura.DG_universe = DG_universe\n",
    "# differentially expressed genes\n",
    "DEG_filename = \"../DEG_databases/DE_Coeff_OAvsNormal_OAvsNormal_20171215.csv\" \n",
    "ura.create_DEG_list(DEG_filename, p_value_filter = 0.05, fold_change_filter = 1)\n",
    "\n",
    "DEG_list = ura.get('DEG_list')\n",
    "DG_TF = ura.get('DG_TF')\n",
    "DEG_full_graph = ura.get('DEG_full_graph')\n",
    "DEG_to_pvalue = ura.get('DEG_to_pvalue')\n",
    "DEG_to_updown = ura.get('DEG_to_updown')\n",
    "\n",
    "print \"Number of DEG's: \" + str(len(DEG_list))"
   ]
  },
  {
   "cell_type": "markdown",
   "metadata": {},
   "source": [
    "## P-values and Z-score Calculation\n",
    "<a id='pz'></a>\n",
    "\n",
    "1. **P-values**: How relevant is a TF to its DEG targets? Are they connected by chance, or is their connection statistically significant?\n",
    "    <br>\n",
    "    1. -log(p-value) for each TF using [scipy.stats.hypergeom.logsf](https://docs.scipy.org/doc/scipy-0.19.1/reference/generated/scipy.stats.hypergeom.html).\n",
    "        1. high value = significant connection between this TF and its DEG targets\n",
    "        2. low value = TF is randomly associated with its DEG targets\n",
    "        3. zero = None of this TF's targets were DEG's\n",
    "        4. inf = original p-value was so small that its log is inf. Very high significance.\n",
    "        <br><br>\n",
    "2. **Z-scores**: Goal is to predict the activation states of the TF's\n",
    "\n",
    "    - activation states: interaction type/regulation direction = predicted state\n",
    "        - activating/up  = activating\n",
    "        - activating/down = inhibiting\n",
    "        - inhibiting/up = inhibiting\n",
    "        - inhibiting/down = activating\n",
    "        <br><br>\n",
    "    - unbiased vs biased calculations:\n",
    "        - **unbiased calculation**: Assume a normal distribution of activating and inhibiting states \n",
    "        - **biased calculation**: For the case when you cannot assume a 50-50 split between up/down-regulated targets and activating/inhbiting interactions. Modify our formula to approximate a normal distribution."
   ]
  },
  {
   "cell_type": "code",
   "execution_count": 7,
   "metadata": {
    "scrolled": true
   },
   "outputs": [
    {
     "data": {
      "text/plain": [
       "TF_ENRICHMENT    4.114487e-12\n",
       "dtype: float64"
      ]
     },
     "execution_count": 7,
     "metadata": {},
     "output_type": "execute_result"
    }
   ],
   "source": [
    "# Enrichment of every TF with respect to its targets\n",
    "ura.tf_target_enrichment_calc()\n",
    "tf_target_enrichment = ura.get('tf_target_enrichment')\n",
    "\n",
    "# Enrichment of TF's themselves\n",
    "ura.tf_enrichment_calc()   \n",
    "ura.get('tf_enrichment')"
   ]
  },
  {
   "cell_type": "code",
   "execution_count": 8,
   "metadata": {
    "scrolled": true
   },
   "outputs": [
    {
     "data": {
      "text/plain": [
       "STAT1       2.840188\n",
       "CLASP2      2.672612\n",
       "KNTC1       2.672612\n",
       "CLIP1       2.672612\n",
       "CKAP5       2.672612\n",
       "MAD1L1      2.672612\n",
       "CENPA       2.672612\n",
       "BUB3        2.672612\n",
       "AHCTF1      2.672612\n",
       "CLASP1      2.672612\n",
       "ARNTL2      2.645751\n",
       "NCOR1       2.645751\n",
       "STAT5A      2.523573\n",
       "FOXM1       2.500000\n",
       "STAT5B      2.500000\n",
       "AKT2        2.500000\n",
       "TWIST1      2.333333\n",
       "RBX1        2.333333\n",
       "JUND        2.333333\n",
       "PAFAH1B1    2.323790\n",
       "CUL1        2.309401\n",
       "WWTR1       2.236068\n",
       "FBXW11      2.236068\n",
       "ARNTL       2.182821\n",
       "RANBP2      2.182821\n",
       "XPO1        2.182821\n",
       "NFKBIA      2.121320\n",
       "CDC20       2.041241\n",
       "EGR1        2.041241\n",
       "MYC         2.020726\n",
       "              ...   \n",
       "NR2F1      -1.732051\n",
       "MTA1       -1.732051\n",
       "PPP2R2A    -1.732051\n",
       "ID4        -1.732051\n",
       "TPR        -1.732051\n",
       "E2F2       -1.732051\n",
       "HMGB2      -1.732051\n",
       "KLF6       -1.732051\n",
       "CREBBP     -1.800000\n",
       "MED1       -1.889822\n",
       "SMARCD3    -1.889822\n",
       "NCOA1      -1.897367\n",
       "AR         -1.961161\n",
       "FOSL2      -2.000000\n",
       "MEF2A      -2.000000\n",
       "NR2F2      -2.000000\n",
       "BRCA1      -2.000000\n",
       "EPAS1      -2.110579\n",
       "PPARGC1A   -2.121320\n",
       "RBL1       -2.121320\n",
       "E2F3       -2.138090\n",
       "EP300      -2.190890\n",
       "CTF1       -2.236068\n",
       "ELK1       -2.236068\n",
       "NFATC2     -2.236068\n",
       "CDC6       -2.449490\n",
       "RORA       -2.449490\n",
       "FOXO3      -2.710687\n",
       "GLI2       -2.828427\n",
       "RBL2       -3.162278\n",
       "Length: 1354, dtype: float64"
      ]
     },
     "execution_count": 8,
     "metadata": {},
     "output_type": "execute_result"
    }
   ],
   "source": [
    "ura.tf_zscore(bias_filter = 0.25) # recommended bias filter is 0.25\n",
    "ura.get('z_scores')"
   ]
  },
  {
   "cell_type": "code",
   "execution_count": 9,
   "metadata": {
    "collapsed": true
   },
   "outputs": [],
   "source": [
    "z_scores = ura.get('z_scores')"
   ]
  },
  {
   "cell_type": "code",
   "execution_count": 10,
   "metadata": {},
   "outputs": [
    {
     "data": {
      "text/plain": [
       "<matplotlib.axes._subplots.AxesSubplot at 0x3026e550>"
      ]
     },
     "execution_count": 10,
     "metadata": {},
     "output_type": "execute_result"
    },
    {
     "data": {
      "image/png": "[encoded data removed]",
      "text/plain": [
       "<matplotlib.figure.Figure at 0x3026eef0>"
      ]
     },
     "metadata": {},
     "output_type": "display_data"
    }
   ],
   "source": [
    "sns.distplot(z_scores, kde = True, rug = True)"
   ]
  },
  {
   "cell_type": "markdown",
   "metadata": {},
   "source": [
    "## Display Our Results\n",
    "- Display TF's with top z-scores\n",
    "- Display where certain TF's rank among others and overall according to z-score\n",
    "- Display subnetwork of a particular TF and its targets"
   ]
  },
  {
   "cell_type": "code",
   "execution_count": 11,
   "metadata": {},
   "outputs": [
    {
     "ename": "NameError",
     "evalue": "name 'stat_analysis' is not defined",
     "output_type": "error",
     "traceback": [
      "\u001b[1;31m---------------------------------------------------------------------------\u001b[0m",
      "\u001b[1;31mNameError\u001b[0m                                 Traceback (most recent call last)",
      "\u001b[1;32m<ipython-input-11-c9d902d62a06>\u001b[0m in \u001b[0;36m<module>\u001b[1;34m()\u001b[0m\n\u001b[1;32m----> 1\u001b[1;33m \u001b[0mtop_overall\u001b[0m \u001b[1;33m=\u001b[0m \u001b[0mstat_analysis\u001b[0m\u001b[1;33m.\u001b[0m\u001b[0mtop_values\u001b[0m\u001b[1;33m(\u001b[0m\u001b[0mz_scores\u001b[0m\u001b[1;33m,\u001b[0m \u001b[0mDEG_to_pvalue\u001b[0m\u001b[1;33m,\u001b[0m \u001b[0mDEG_to_updown\u001b[0m\u001b[1;33m,\u001b[0m \u001b[0mact\u001b[0m \u001b[1;33m=\u001b[0m \u001b[0mFalse\u001b[0m\u001b[1;33m,\u001b[0m \u001b[0mabs_value\u001b[0m \u001b[1;33m=\u001b[0m \u001b[0mTrue\u001b[0m\u001b[1;33m,\u001b[0m \u001b[0mtop\u001b[0m \u001b[1;33m=\u001b[0m \u001b[1;36m10\u001b[0m\u001b[1;33m)\u001b[0m\u001b[1;33m\u001b[0m\u001b[0m\n\u001b[0m\u001b[0;32m      2\u001b[0m \u001b[0mdisplay\u001b[0m\u001b[1;33m(\u001b[0m\u001b[0mtop_overall\u001b[0m\u001b[1;33m)\u001b[0m\u001b[1;33m\u001b[0m\u001b[0m\n",
      "\u001b[1;31mNameError\u001b[0m: name 'stat_analysis' is not defined"
     ]
    }
   ],
   "source": [
    "top_overall = stat_analysis.top_values(z_scores, DEG_to_pvalue, DEG_to_updown, act = False, abs_value = True, top = 10)\n",
    "display(top_overall)"
   ]
  },
  {
   "cell_type": "code",
   "execution_count": null,
   "metadata": {
    "collapsed": true
   },
   "outputs": [],
   "source": [
    "# Ranking (in this case from 0 to 168)\n",
    "genes_to_rank = ['HOXA4', 'CEBPB', 'HIF1A','KLF4', 'TLE3', 'RBL2','TP53', 'STAT1', 'STAT5B']\n",
    "stat_analysis.rank_and_score_df(z_scores, genes_to_rank, act = True, abs_value = True, remove_dups=True)"
   ]
  },
  {
   "cell_type": "code",
   "execution_count": null,
   "metadata": {
    "collapsed": true
   },
   "outputs": [],
   "source": [
    "stat_analysis.vis_tf_network(DG_TF, 'KLF5', '../DEG_databases/geo2r_GSE11352_brca_48hours.txt', DEG_list,\n",
    "              directed_edges = False,\n",
    "              node_spacing = 1500,\n",
    "              color_non_DEGs = False,\n",
    "              graph_id = 2) "
   ]
  },
  {
   "cell_type": "code",
   "execution_count": null,
   "metadata": {
    "collapsed": true
   },
   "outputs": [],
   "source": [
    "# display subnetworks using visJS2jupyter\n",
    "stat_analysis.vis_tf_network(DG_TF, 'STAT1', '../DEG_databases/geo2r_GSE11352_brca_48hours.txt', DEG_list,\n",
    "              directed_edges = True,\n",
    "              node_spacing = 2000,\n",
    "              graph_id = 1) "
   ]
  },
  {
   "cell_type": "code",
   "execution_count": null,
   "metadata": {
    "collapsed": true
   },
   "outputs": [],
   "source": []
  },
  {
   "cell_type": "code",
   "execution_count": null,
   "metadata": {
    "collapsed": true
   },
   "outputs": [],
   "source": []
  },
  {
   "cell_type": "code",
   "execution_count": null,
   "metadata": {
    "collapsed": true
   },
   "outputs": [],
   "source": []
  }
 ],
 "metadata": {
  "kernelspec": {
   "display_name": "Python 2",
   "language": "python",
   "name": "python2"
  },
  "language_info": {
   "codemirror_mode": {
    "name": "ipython",
    "version": 2
   },
   "file_extension": ".py",
   "mimetype": "text/x-python",
   "name": "python",
   "nbconvert_exporter": "python",
   "pygments_lexer": "ipython2",
   "version": "2.7.14"
  }
 },
 "nbformat": 4,
 "nbformat_minor": 2
}
