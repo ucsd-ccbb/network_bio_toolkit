{
 "cells": [
  {
   "cell_type": "markdown",
   "metadata": {},
   "source": [
    "# Upstream Regulator Analysis Package\n",
    "## Arthritis Case Study\n",
    "\n",
    "----------------------\n",
    "\n",
    "Author: Mikayla Webster (m1webste@ucsd.edu)\n",
    "\n",
    "Date: 19th January, 2018\n",
    "\n",
    "----------------------\n",
    "\n",
    "<a id='toc'></a>\n",
    "## Table of Contents\n",
    "1. [Background](#background)\n",
    "2. [Import packages](#import)\n",
    "3. [Load Networks](#load)\n",
    "6. [P-value and Z-score Calculation](#pz)\n",
    "7. [Compare the Ingenuity Article's results to Ours](#comp)\n",
    "8. [Display Our results](#display)"
   ]
  },
  {
   "cell_type": "markdown",
   "metadata": {},
   "source": [
    "## Background\n",
    "<a id='background'></a>\n",
    "\n",
    "Need some info about where these genes come from. Also Some feedback from Katie and Adam on motivation will go good here!"
   ]
  },
  {
   "cell_type": "markdown",
   "metadata": {},
   "source": [
    "## Import packages\n",
    "<a id='import'></a>"
   ]
  },
  {
   "cell_type": "code",
   "execution_count": 10,
   "metadata": {
    "collapsed": true
   },
   "outputs": [],
   "source": [
    "import networkx as nx\n",
    "import pandas as pd\n",
    "import numpy as np\n",
    "import matplotlib.pyplot as plt\n",
    "\n",
    "# import upstream regulator modules\n",
    "import sys\n",
    "code_path = '../ura'\n",
    "sys.path.append(code_path)\n",
    "import create_graph\n",
    "import stat_analysis\n",
    "reload(create_graph)\n",
    "reload(stat_analysis)\n",
    "\n",
    "# network visualization package\n",
    "# (pip install visJS2jupyter)\n",
    "import visJS2jupyter.visJS_module as visJS_module"
   ]
  },
  {
   "cell_type": "markdown",
   "metadata": {},
   "source": [
    "## Load Networks\n",
    "<a id='load'></a>\n",
    "\n",
    "1. List of all **Transcription Factors** (TF's) or regulators of interest to us\n",
    "    <br>\n",
    "    - Our sources are [slowkow](https://github.com/slowkow/tftargets) and [jaspar](http://jaspar.genereg.net/) TF databases\n",
    "    <br><br>\n",
    "2. **Background Network**: [STRING human protein interactions network](https://string-db.org/cgi/download.pl?UserId=9BGA8WkVMRl6&sessionId=HWUK6Dum9xC6&species_text=Homo+sapiens)  \n",
    "    - Filter our background network down to just the sub network of TF's and their targets\n",
    "    <br><br>\n",
    "3. User-supplied list of **Differentially Expressed Genes** (DEG's)"
   ]
  },
  {
   "cell_type": "code",
   "execution_count": 2,
   "metadata": {},
   "outputs": [
    {
     "name": "stdout",
     "output_type": "stream",
     "text": [
      "Number of TF's: 3983\n"
     ]
    }
   ],
   "source": [
    "# transcription factors\n",
    "TF_list = create_graph.create_TF_list(slowkow_bool=True,\n",
    "                    slowkow_files=['../slowkow_databases/TRED_TF.txt',\n",
    "                                   '../slowkow_databases/ITFP_TF.txt',\n",
    "                                   '../slowkow_databases/ENCODE_TF.txt',\n",
    "                                   '../slowkow_databases/Neph2012_TF.txt',\n",
    "                                   '../slowkow_databases/TRRUST_TF.txt',\n",
    "                                   '../slowkow_databases/Marbach2016_TF.txt'],\n",
    "                    slowkow_sep = '\\n',\n",
    "                    jaspar_bool=True,\n",
    "                    jaspar_file=\"../jaspar_genereg_matrix.txt\")\n",
    "print \"Number of TF's: \" + str(len(TF_list))"
   ]
  },
  {
   "cell_type": "code",
   "execution_count": 3,
   "metadata": {},
   "outputs": [
    {
     "name": "stdout",
     "output_type": "stream",
     "text": [
      "querying 1-1000...done.\n",
      "querying 1001-2000...done.\n",
      "querying 2001-3000...done.\n",
      "querying 3001-4000...done.\n",
      "querying 4001-5000...done.\n",
      "querying 5001-6000...done.\n",
      "querying 6001-7000...done.\n",
      "querying 7001-7374...done.\n",
      "Finished.\n",
      "56 input query terms found dup hits:\n",
      "\t[(u'ENSP00000359550', 3), (u'ENSP00000447879', 2), (u'ENSP00000364076', 2), (u'ENSP00000348986', 2),\n",
      "312 input query terms found no hit:\n",
      "\t[u'ENSP00000376684', u'ENSP00000289352', u'ENSP00000202788', u'ENSP00000373637', u'ENSP00000367802',\n",
      "Pass \"returnall=True\" to return complete lists of duplicate or missing query terms.\n",
      "Number of interactions: 28931\n"
     ]
    }
   ],
   "source": [
    "# background network\n",
    "filename = \"../9606.protein.actions.v10.5.txt\"\n",
    "confidence_filter=400\n",
    "DG_TF, DG_universe = create_graph.load_STRING_to_digraph(filename, confidence_filter, TF_list) # supplying TF_list filters network\n",
    "print \"Number of interactions: \" + str(len(list(DG_TF.edges())))"
   ]
  },
  {
   "cell_type": "code",
   "execution_count": 4,
   "metadata": {},
   "outputs": [
    {
     "name": "stdout",
     "output_type": "stream",
     "text": [
      "Number of DEG's: 7035\n"
     ]
    }
   ],
   "source": [
    "# differentially expressed genes\n",
    "DEG_filename = \"DE_Coeff_OAvsNormal_OAvsNormal_20171215.csv\" # must meet requirements, see Basic Example notebook\n",
    "DEG_list, DEG_to_adj_pvalue, DEG_to_updown = create_graph.create_DEG_list(DEG_filename, p_value_filter = 0.3)\n",
    "DG_TF = create_graph.add_updown_from_DEG(DG_TF, DEG_to_updown)\n",
    "print \"Number of DEG's: \" + str(len(DEG_list))"
   ]
  },
  {
   "cell_type": "markdown",
   "metadata": {},
   "source": [
    "## P-values and Z-score Calculation\n",
    "<a id='pz'></a>\n",
    "\n",
    "1. **P-values**: How relevant is a TF to its DEG targets? Are they connected by chance, or is their connection statistically significant?\n",
    "    <br>\n",
    "    1. -log(p-value) for each TF using [scipy.stats.hypergeom.logsf](https://docs.scipy.org/doc/scipy-0.19.1/reference/generated/scipy.stats.hypergeom.html).\n",
    "        1. high value = significant connection between this TF and its DEG targets\n",
    "        2. low value = TF is randomly associated with its DEG targets\n",
    "        3. zero = None of this TF's targets were DEG's\n",
    "        4. inf = original p-value was so small that its log is inf. Very high significance.\n",
    "        <br><br>\n",
    "2. **Z-scores**: Goal is to predict the activation states of the TF's\n",
    "\n",
    "    - activation states: interaction type/regulation direction = predicted state\n",
    "        - activating/up  = activating\n",
    "        - activating/down = inhibiting\n",
    "        - inhibiting/up = inhibiting\n",
    "        - inhibiting/down = activating\n",
    "        <br><br>\n",
    "    - unbiased vs biased calculations:\n",
    "        - **unbiased calculation**: Assume a normal distribution of activating and inhibiting states \n",
    "        - **biased calculation**: For the case when you cannot assume a 50-50 split between up/down-regulated targets and activating/inhbiting interactions. Modify our formula to approximate a normal distribution."
   ]
  },
  {
   "cell_type": "code",
   "execution_count": 5,
   "metadata": {
    "collapsed": true
   },
   "outputs": [],
   "source": [
    "p_values = stat_analysis.tf_pvalues(DG_TF, DG_universe, DEG_list)\n",
    "z_scores = stat_analysis.tf_zscore(DG_TF, DEG_list, bias_filter = 0.25) # recommended bias filter is 0.25"
   ]
  },
  {
   "cell_type": "markdown",
   "metadata": {},
   "source": [
    "## Display Our Results\n",
    "- Display TF's with top z-scores\n",
    "- Display where certain TF's rank among others and overall according to z-score\n",
    "- Display subnetwork of a particular TF and its targets"
   ]
  },
  {
   "cell_type": "code",
   "execution_count": 11,
   "metadata": {},
   "outputs": [
    {
     "data": {
      "text/html": [
       "<div>\n",
       "<style>\n",
       "    .dataframe thead tr:only-child th {\n",
       "        text-align: right;\n",
       "    }\n",
       "\n",
       "    .dataframe thead th {\n",
       "        text-align: left;\n",
       "    }\n",
       "\n",
       "    .dataframe tbody tr th {\n",
       "        vertical-align: top;\n",
       "    }\n",
       "</style>\n",
       "<table border=\"1\" class=\"dataframe\">\n",
       "  <thead>\n",
       "    <tr style=\"text-align: right;\">\n",
       "      <th></th>\n",
       "      <th>top z-scores</th>\n",
       "    </tr>\n",
       "  </thead>\n",
       "  <tbody>\n",
       "    <tr>\n",
       "      <th>WASL</th>\n",
       "      <td>3.411211</td>\n",
       "    </tr>\n",
       "    <tr>\n",
       "      <th>RBL2</th>\n",
       "      <td>-3.356586</td>\n",
       "    </tr>\n",
       "    <tr>\n",
       "      <th>NCF2</th>\n",
       "      <td>3.207135</td>\n",
       "    </tr>\n",
       "    <tr>\n",
       "      <th>FOXO3</th>\n",
       "      <td>-3.170376</td>\n",
       "    </tr>\n",
       "    <tr>\n",
       "      <th>NCOR1</th>\n",
       "      <td>3.000000</td>\n",
       "    </tr>\n",
       "    <tr>\n",
       "      <th>PIAS2</th>\n",
       "      <td>3.000000</td>\n",
       "    </tr>\n",
       "    <tr>\n",
       "      <th>TTC8</th>\n",
       "      <td>2.645751</td>\n",
       "    </tr>\n",
       "    <tr>\n",
       "      <th>RORA</th>\n",
       "      <td>-2.645751</td>\n",
       "    </tr>\n",
       "    <tr>\n",
       "      <th>TLE3</th>\n",
       "      <td>2.529822</td>\n",
       "    </tr>\n",
       "    <tr>\n",
       "      <th>NFATC2</th>\n",
       "      <td>-2.501851</td>\n",
       "    </tr>\n",
       "    <tr>\n",
       "      <th>NFATC3</th>\n",
       "      <td>-2.500000</td>\n",
       "    </tr>\n",
       "    <tr>\n",
       "      <th>ARNTL</th>\n",
       "      <td>2.474874</td>\n",
       "    </tr>\n",
       "    <tr>\n",
       "      <th>CEBPA</th>\n",
       "      <td>-2.474874</td>\n",
       "    </tr>\n",
       "    <tr>\n",
       "      <th>MYF5</th>\n",
       "      <td>2.449490</td>\n",
       "    </tr>\n",
       "    <tr>\n",
       "      <th>PIAS3</th>\n",
       "      <td>2.449490</td>\n",
       "    </tr>\n",
       "    <tr>\n",
       "      <th>SPG7</th>\n",
       "      <td>-2.449490</td>\n",
       "    </tr>\n",
       "    <tr>\n",
       "      <th>TWIST1</th>\n",
       "      <td>2.400397</td>\n",
       "    </tr>\n",
       "    <tr>\n",
       "      <th>EPAS1</th>\n",
       "      <td>-2.400397</td>\n",
       "    </tr>\n",
       "    <tr>\n",
       "      <th>AR</th>\n",
       "      <td>-2.380476</td>\n",
       "    </tr>\n",
       "    <tr>\n",
       "      <th>IQGAP1</th>\n",
       "      <td>-2.334869</td>\n",
       "    </tr>\n",
       "  </tbody>\n",
       "</table>\n",
       "</div>"
      ],
      "text/plain": [
       "        top z-scores\n",
       "WASL        3.411211\n",
       "RBL2       -3.356586\n",
       "NCF2        3.207135\n",
       "FOXO3      -3.170376\n",
       "NCOR1       3.000000\n",
       "PIAS2       3.000000\n",
       "TTC8        2.645751\n",
       "RORA       -2.645751\n",
       "TLE3        2.529822\n",
       "NFATC2     -2.501851\n",
       "NFATC3     -2.500000\n",
       "ARNTL       2.474874\n",
       "CEBPA      -2.474874\n",
       "MYF5        2.449490\n",
       "PIAS3       2.449490\n",
       "SPG7       -2.449490\n",
       "TWIST1      2.400397\n",
       "EPAS1      -2.400397\n",
       "AR         -2.380476\n",
       "IQGAP1     -2.334869"
      ]
     },
     "metadata": {},
     "output_type": "display_data"
    }
   ],
   "source": [
    "# Top TF's\n",
    "top_overall = stat_analysis.top_values(z_scores, act = False, abs_value = True, top = 20)\n",
    "display(top_overall.to_frame(name = 'top z-scores'))"
   ]
  },
  {
   "cell_type": "code",
   "execution_count": 7,
   "metadata": {},
   "outputs": [
    {
     "data": {
      "text/html": [
       "<div>\n",
       "<style>\n",
       "    .dataframe thead tr:only-child th {\n",
       "        text-align: right;\n",
       "    }\n",
       "\n",
       "    .dataframe thead th {\n",
       "        text-align: left;\n",
       "    }\n",
       "\n",
       "    .dataframe tbody tr th {\n",
       "        vertical-align: top;\n",
       "    }\n",
       "</style>\n",
       "<table border=\"1\" class=\"dataframe\">\n",
       "  <thead>\n",
       "    <tr style=\"text-align: right;\">\n",
       "      <th></th>\n",
       "      <th>rank</th>\n",
       "      <th>z-score</th>\n",
       "    </tr>\n",
       "  </thead>\n",
       "  <tbody>\n",
       "    <tr>\n",
       "      <th>WASL</th>\n",
       "      <td>0.0</td>\n",
       "      <td>3.411211</td>\n",
       "    </tr>\n",
       "    <tr>\n",
       "      <th>RBL2</th>\n",
       "      <td>1.0</td>\n",
       "      <td>-3.356586</td>\n",
       "    </tr>\n",
       "    <tr>\n",
       "      <th>TLE3</th>\n",
       "      <td>6.0</td>\n",
       "      <td>2.529822</td>\n",
       "    </tr>\n",
       "    <tr>\n",
       "      <th>STAT5B</th>\n",
       "      <td>31.0</td>\n",
       "      <td>1.941451</td>\n",
       "    </tr>\n",
       "    <tr>\n",
       "      <th>CBX8</th>\n",
       "      <td>35.0</td>\n",
       "      <td>1.889822</td>\n",
       "    </tr>\n",
       "    <tr>\n",
       "      <th>STAT1</th>\n",
       "      <td>38.0</td>\n",
       "      <td>1.807392</td>\n",
       "    </tr>\n",
       "    <tr>\n",
       "      <th>TP53</th>\n",
       "      <td>75.0</td>\n",
       "      <td>1.204076</td>\n",
       "    </tr>\n",
       "    <tr>\n",
       "      <th>HOXA4</th>\n",
       "      <td>168.0</td>\n",
       "      <td>0.000000</td>\n",
       "    </tr>\n",
       "    <tr>\n",
       "      <th>Z</th>\n",
       "      <td>NaN</td>\n",
       "      <td>NaN</td>\n",
       "    </tr>\n",
       "  </tbody>\n",
       "</table>\n",
       "</div>"
      ],
      "text/plain": [
       "         rank   z-score\n",
       "WASL      0.0  3.411211\n",
       "RBL2      1.0 -3.356586\n",
       "TLE3      6.0  2.529822\n",
       "STAT5B   31.0  1.941451\n",
       "CBX8     35.0  1.889822\n",
       "STAT1    38.0  1.807392\n",
       "TP53     75.0  1.204076\n",
       "HOXA4   168.0  0.000000\n",
       "Z         NaN       NaN"
      ]
     },
     "execution_count": 7,
     "metadata": {},
     "output_type": "execute_result"
    }
   ],
   "source": [
    "# Ranking (in this case from 0 to 168)\n",
    "genes_to_rank = ['HOXA4', 'CBX8', 'WASL','Z', 'TLE3', 'RBL2','TP53', 'STAT1', 'STAT5B']\n",
    "stat_analysis.rank_and_score_df(z_scores, genes_to_rank, act = True, abs_value = True, remove_dups=True)"
   ]
  },
  {
   "cell_type": "code",
   "execution_count": 8,
   "metadata": {},
   "outputs": [
    {
     "data": {
      "text/html": [
       "<!doctype html><html><head>  <title>Network | Basic usage</title></head><body><script type=\"text/javascript\">function setUpFrame() {     var frame = window.frames[\"style_file1\"];    frame.runVis([{\"node_shape\": \"dot\", \"degree\": 3.0, \"title\": \"ACTG1\", \"color\": \"rgba(0, 0, 256, 1.0)\", \"size_field\": 2.8864692687057496, \"y\": 354.91260661622414, \"x\": 477.69925218356644, \"border_width\": 2, \"id\": \"ACTG1\"}, {\"node_shape\": \"dot\", \"degree\": 3.0, \"title\": \"HMGB1\", \"color\": \"rgba(0, 0, 256, 1.0)\", \"size_field\": 3.1874435023747254, \"y\": 678.5727243367417, \"x\": 1000.0, \"border_width\": 2, \"id\": \"HMGB1\"}, {\"node_shape\": \"dot\", \"degree\": 3.0, \"title\": \"PIP5K1A\", \"color\": \"rgba(196, 196, 256, 1.0)\", \"size_field\": 2.3874287456220658, \"y\": 15.397066021061054, \"x\": 424.3057539275925, \"border_width\": 2, \"id\": \"PIP5K1A\"}, {\"node_shape\": \"dot\", \"degree\": 3.0, \"title\": \"WASL\", \"color\": \"yellow\", \"size_field\": 3.786771927717016, \"y\": 397.56037031872484, \"x\": 672.2333680162553, \"border_width\": 0, \"id\": \"WASL\"}, {\"node_shape\": \"dot\", \"degree\": 3.0, \"title\": \"IQGAP1\", \"color\": \"rgba(0, 0, 256, 1.0)\", \"size_field\": 2.569691376633027, \"y\": 0.0, \"x\": 273.92255605852574, \"border_width\": 0, \"id\": \"IQGAP1\"}, {\"node_shape\": \"dot\", \"degree\": 3.0, \"title\": \"RAC1\", \"color\": \"rgba(0, 0, 256, 1.0)\", \"size_field\": 3.1900698991569447, \"y\": 466.26871504253666, \"x\": 0.0, \"border_width\": 2, \"id\": \"RAC1\"}, {\"node_shape\": \"dot\", \"degree\": 3.0, \"title\": \"ARPC3\", \"color\": \"rgba(242, 242, 256, 1.0)\", \"size_field\": 2.803855302544367, \"y\": 467.3308312821189, \"x\": 312.4558953019706, \"border_width\": 2, \"id\": \"ARPC3\"}, {\"node_shape\": \"dot\", \"degree\": 3.0, \"title\": \"ARPC2\", \"color\": \"rgba(256, 0, 0, 1.0)\", \"size_field\": 3.452434163624436, \"y\": 660.690179808, \"x\": 519.2931336019559, \"border_width\": 2, \"id\": \"ARPC2\"}, {\"node_shape\": \"dot\", \"degree\": 3.0, \"title\": \"ARPC5\", \"color\": \"rgba(98, 98, 256, 1.0)\", \"size_field\": 2.0736465401682986, \"y\": 771.216529156981, \"x\": 550.5900289867019, \"border_width\": 2, \"id\": \"ARPC5\"}, {\"node_shape\": \"dot\", \"degree\": 3.0, \"title\": \"ARPC4\", \"color\": \"rgba(0, 0, 256, 1.0)\", \"size_field\": 2.761640177005246, \"y\": 105.01890965983795, \"x\": 163.58410880101619, \"border_width\": 0, \"id\": \"ARPC4\"}, {\"node_shape\": \"dot\", \"degree\": 3.0, \"title\": \"NCK1\", \"color\": \"rgba(0, 0, 256, 1.0)\", \"size_field\": 2.399582444950009, \"y\": 171.60324859480863, \"x\": 523.7883863312169, \"border_width\": 2, \"id\": \"NCK1\"}, {\"node_shape\": \"dot\", \"degree\": 3.0, \"title\": \"NCK2\", \"color\": \"rgba(0, 0, 256, 1.0)\", \"size_field\": 3.024990148797496, \"y\": 613.1904357137602, \"x\": 400.019828419256, \"border_width\": 0, \"id\": \"NCK2\"}, {\"node_shape\": \"dot\", \"degree\": 3.0, \"title\": \"PIP5K1C\", \"color\": \"rgba(0, 0, 256, 1.0)\", \"size_field\": 2.3164931543059004, \"y\": 271.90098162001175, \"x\": 120.29016010714635, \"border_width\": 0, \"id\": \"PIP5K1C\"}, {\"node_shape\": \"dot\", \"degree\": 3.0, \"title\": \"ARPC1B\", \"color\": \"rgba(224, 224, 256, 1.0)\", \"size_field\": 2.668649708959558, \"y\": 237.36570410522404, \"x\": 745.4949110256164, \"border_width\": 2, \"id\": \"ARPC1B\"}, {\"node_shape\": \"dot\", \"degree\": 3.0, \"title\": \"ARPC1A\", \"color\": \"rgba(256, 196, 196, 1.0)\", \"size_field\": 3.0552654841647438, \"y\": 394.5973329813388, \"x\": 949.2701289936264, \"border_width\": 2, \"id\": \"ARPC1A\"}, {\"node_shape\": \"dot\", \"degree\": 3.0, \"title\": \"ARPC5L\", \"color\": \"rgba(256, 0, 0, 1.0)\", \"size_field\": 3.658628156624872, \"y\": 922.2351088406109, \"x\": 433.1479093481169, \"border_width\": 2, \"id\": \"ARPC5L\"}, {\"node_shape\": \"dot\", \"degree\": 3.0, \"title\": \"GRB2\", \"color\": \"rgba(256, 114, 114, 1.0)\", \"size_field\": 3.2238354334221877, \"y\": 901.813365441982, \"x\": 946.3304948568389, \"border_width\": 0, \"id\": \"GRB2\"}, {\"node_shape\": \"dot\", \"degree\": 3.0, \"title\": \"PIP5K1B\", \"color\": \"rgba(0, 0, 256, 1.0)\", \"size_field\": 2.680033541414562, \"y\": 782.045912524134, \"x\": 717.2167807474566, \"border_width\": 0, \"id\": \"PIP5K1B\"}, {\"node_shape\": \"dot\", \"degree\": 3.0, \"title\": \"ACTB\", \"color\": \"rgba(242, 242, 256, 1.0)\", \"size_field\": 2.733760863445242, \"y\": 555.5057221706235, \"x\": 280.7542506006878, \"border_width\": 2, \"id\": \"ACTB\"}, {\"node_shape\": \"dot\", \"degree\": 3.0, \"title\": \"ACTR3\", \"color\": \"rgba(0, 0, 256, 1.0)\", \"size_field\": 3.029179513952773, \"y\": 993.2120811246278, \"x\": 788.7132139012845, \"border_width\": 0, \"id\": \"ACTR3\"}, {\"node_shape\": \"dot\", \"degree\": 3.0, \"title\": \"ACTR2\", \"color\": \"rgba(256, 216, 216, 1.0)\", \"size_field\": 3.012251123020066, \"y\": 870.0740734466608, \"x\": 805.5902875127618, \"border_width\": 2, \"id\": \"ACTR2\"}, {\"node_shape\": \"dot\", \"degree\": 3.0, \"title\": \"CDC42\", \"color\": \"rgba(256, 0, 0, 1.0)\", \"size_field\": 2.6002034349172076, \"y\": 279.455271637757, \"x\": 282.2280305318035, \"border_width\": 2, \"id\": \"CDC42\"}], [{\"color\": \"blue\", \"source\": 1, \"target\": 3}, {\"color\": \"red\", \"source\": 3, \"target\": 20}, {\"color\": \"red\", \"source\": 3, \"target\": 13}, {\"color\": \"red\", \"source\": 3, \"target\": 13}, {\"color\": \"red\", \"source\": 3, \"target\": 0}, {\"color\": \"red\", \"source\": 3, \"target\": 11}, {\"color\": \"red\", \"source\": 3, \"target\": 5}, {\"color\": \"red\", \"source\": 3, \"target\": 5}, {\"color\": \"red\", \"source\": 3, \"target\": 12}, {\"color\": \"red\", \"source\": 3, \"target\": 7}, {\"color\": \"red\", \"source\": 3, \"target\": 7}, {\"color\": \"red\", \"source\": 3, \"target\": 14}, {\"color\": \"red\", \"source\": 3, \"target\": 14}, {\"color\": \"red\", \"source\": 3, \"target\": 15}, {\"color\": \"red\", \"source\": 3, \"target\": 2}, {\"color\": \"red\", \"source\": 3, \"target\": 8}, {\"color\": \"red\", \"source\": 3, \"target\": 8}, {\"color\": \"red\", \"source\": 3, \"target\": 9}, {\"color\": \"red\", \"source\": 3, \"target\": 6}, {\"color\": \"red\", \"source\": 3, \"target\": 6}, {\"color\": \"red\", \"source\": 3, \"target\": 16}, {\"color\": \"red\", \"source\": 3, \"target\": 17}, {\"color\": \"red\", \"source\": 3, \"target\": 18}, {\"color\": \"red\", \"source\": 3, \"target\": 21}, {\"color\": \"red\", \"source\": 3, \"target\": 21}, {\"color\": \"red\", \"source\": 3, \"target\": 21}, {\"color\": \"red\", \"source\": 3, \"target\": 19}, {\"color\": \"red\", \"source\": 3, \"target\": 4}, {\"color\": \"blue\", \"source\": 3, \"target\": 1}, {\"color\": \"red\", \"source\": 3, \"target\": 10}, {\"color\": \"blue\", \"source\": 4, \"target\": 21}, {\"color\": \"blue\", \"source\": 4, \"target\": 21}, {\"color\": \"blue\", \"source\": 4, \"target\": 21}, {\"color\": \"blue\", \"source\": 4, \"target\": 21}, {\"color\": \"red\", \"source\": 4, \"target\": 18}, {\"color\": \"blue\", \"source\": 4, \"target\": 5}, {\"color\": \"blue\", \"source\": 4, \"target\": 5}, {\"color\": \"blue\", \"source\": 4, \"target\": 5}, {\"color\": \"blue\", \"source\": 4, \"target\": 5}, {\"color\": \"red\", \"source\": 4, \"target\": 0}, {\"color\": \"red\", \"source\": 4, \"target\": 3}, {\"color\": \"red\", \"source\": 14, \"target\": 18}, {\"color\": \"red\", \"source\": 14, \"target\": 0}, {\"color\": \"red\", \"source\": 14, \"target\": 3}, {\"color\": \"red\", \"source\": 14, \"target\": 3}, {\"color\": \"red\", \"source\": 13, \"target\": 18}, {\"color\": \"red\", \"source\": 13, \"target\": 10}, {\"color\": \"red\", \"source\": 13, \"target\": 0}, {\"color\": \"red\", \"source\": 13, \"target\": 11}, {\"color\": \"red\", \"source\": 13, \"target\": 3}, {\"color\": \"red\", \"source\": 13, \"target\": 3}]);}</script><iframe name=\"style_file1\" src=\"style_file1.html\" height=\"1200px\" width=\"100%;\"></iframe></body></html>"
      ],
      "text/plain": [
       "<IPython.core.display.HTML object>"
      ]
     },
     "execution_count": 8,
     "metadata": {},
     "output_type": "execute_result"
    }
   ],
   "source": [
    "# display subnetworks using visJS2jupyter\n",
    "stat_analysis.vis_tf_network(DG_TF, 'WASL', '../geo2r_GSE11352_brca_48hours.txt', DEG_list,\n",
    "              directed_edges = False,\n",
    "              node_spacing = 1000,\n",
    "              graph_id = 1) "
   ]
  },
  {
   "cell_type": "code",
   "execution_count": 9,
   "metadata": {},
   "outputs": [
    {
     "data": {
      "text/html": [
       "<!doctype html><html><head>  <title>Network | Basic usage</title></head><body><script type=\"text/javascript\">function setUpFrame() {     var frame = window.frames[\"style_file2\"];    frame.runVis([{\"node_shape\": \"dot\", \"degree\": 3.0, \"title\": \"TGFB1\", \"color\": \"rgba(256, 162, 162, 1.0)\", \"size_field\": 3.6755777149386453, \"y\": 570.573200092278, \"x\": 1500.0, \"border_width\": 0, \"id\": \"TGFB1\"}, {\"node_shape\": \"dot\", \"degree\": 3.0, \"title\": \"DHFR\", \"color\": \"rgba(0, 0, 256, 1.0)\", \"size_field\": 3.099312533782503, \"y\": 1301.3534824511937, \"x\": 470.42296570465413, \"border_width\": 0, \"id\": \"DHFR\"}, {\"node_shape\": \"dot\", \"degree\": 3.0, \"title\": \"FOXO3\", \"color\": \"rgba(0, 0, 256, 1.0)\", \"size_field\": 2.7635696448564913, \"y\": 172.13224471516438, \"x\": 1321.6249509989123, \"border_width\": 2, \"id\": \"FOXO3\"}, {\"node_shape\": \"dot\", \"degree\": 3.0, \"title\": \"FOXO4\", \"color\": \"rgba(78, 78, 256, 1.0)\", \"size_field\": 2.2310497228853072, \"y\": 0.0, \"x\": 1159.2296309647681, \"border_width\": 0, \"id\": \"FOXO4\"}, {\"node_shape\": \"dot\", \"degree\": 3.0, \"title\": \"MYBL2\", \"color\": \"rgba(30, 30, 256, 1.0)\", \"size_field\": 2.316904931128684, \"y\": 332.2909490931118, \"x\": 243.05238943510778, \"border_width\": 0, \"id\": \"MYBL2\"}, {\"node_shape\": \"dot\", \"degree\": 3.0, \"title\": \"CDC6\", \"color\": \"rgba(156, 156, 256, 1.0)\", \"size_field\": 4.360214205830681, \"y\": 1087.9103223878053, \"x\": 487.07709625213835, \"border_width\": 0, \"id\": \"CDC6\"}, {\"node_shape\": \"dot\", \"degree\": 3.0, \"title\": \"CCNA2\", \"color\": \"rgba(110, 110, 256, 1.0)\", \"size_field\": 3.983404353482894, \"y\": 852.0527374093163, \"x\": 523.4706217957533, \"border_width\": 2, \"id\": \"CCNA2\"}, {\"node_shape\": \"dot\", \"degree\": 3.0, \"title\": \"CCNA1\", \"color\": \"rgba(256, 0, 0, 1.0)\", \"size_field\": 3.7849824849490314, \"y\": 1046.9147496943144, \"x\": 611.3603597425933, \"border_width\": 0, \"id\": \"CCNA1\"}, {\"node_shape\": \"dot\", \"degree\": 3.0, \"title\": \"CDK4\", \"color\": \"rgba(0, 0, 256, 1.0)\", \"size_field\": 2.012983927558295, \"y\": 843.0314514614707, \"x\": 825.3687129083995, \"border_width\": 2, \"id\": \"CDK4\"}, {\"node_shape\": \"dot\", \"degree\": 3.0, \"title\": \"TOP2A\", \"color\": \"rgba(0, 0, 256, 1.0)\", \"size_field\": 2.3792127369640985, \"y\": 1094.0876662975718, \"x\": 343.09671729499263, \"border_width\": 2, \"id\": \"TOP2A\"}, {\"node_shape\": \"dot\", \"degree\": 3.0, \"title\": \"BRCA1\", \"color\": \"rgba(0, 0, 256, 1.0)\", \"size_field\": 2.6558513958162484, \"y\": 383.8508467705845, \"x\": 91.35910827127655, \"border_width\": 0, \"id\": \"BRCA1\"}, {\"node_shape\": \"dot\", \"degree\": 3.0, \"title\": \"RBL1\", \"color\": \"rgba(68, 68, 256, 1.0)\", \"size_field\": 3.155500150875158, \"y\": 640.0066052115877, \"x\": 439.77320564261527, \"border_width\": 0, \"id\": \"RBL1\"}, {\"node_shape\": \"dot\", \"degree\": 3.0, \"title\": \"RBL2\", \"color\": \"yellow\", \"size_field\": 5.18689277901515, \"y\": 570.8406226992759, \"x\": 695.1102512702344, \"border_width\": 0, \"id\": \"RBL2\"}, {\"node_shape\": \"dot\", \"degree\": 3.0, \"title\": \"CDC25C\", \"color\": \"rgba(0, 0, 256, 1.0)\", \"size_field\": 3.785578610152974, \"y\": 520.044293584238, \"x\": 0.0, \"border_width\": 0, \"id\": \"CDC25C\"}, {\"node_shape\": \"dot\", \"degree\": 3.0, \"title\": \"CDC25A\", \"color\": \"rgba(256, 254, 254, 1.0)\", \"size_field\": 3.281934345795648, \"y\": 978.6010402075534, \"x\": 391.9974974581299, \"border_width\": 0, \"id\": \"CDC25A\"}, {\"node_shape\": \"dot\", \"degree\": 3.0, \"title\": \"E2F5\", \"color\": \"rgba(46, 46, 256, 1.0)\", \"size_field\": 2.5753641449035616, \"y\": 472.1048458940486, \"x\": 440.7354120586227, \"border_width\": 0, \"id\": \"E2F5\"}, {\"node_shape\": \"dot\", \"degree\": 3.0, \"title\": \"E2F4\", \"color\": \"rgba(32, 32, 256, 1.0)\", \"size_field\": 2.3533946158171624, \"y\": 828.4035603654943, \"x\": 144.0143636891677, \"border_width\": 2, \"id\": \"E2F4\"}, {\"node_shape\": \"dot\", \"degree\": 3.0, \"title\": \"LIN9\", \"color\": \"rgba(0, 0, 256, 1.0)\", \"size_field\": 2.579461416156129, \"y\": 1172.1442683403818, \"x\": 800.6340178752496, \"border_width\": 2, \"id\": \"LIN9\"}, {\"node_shape\": \"dot\", \"degree\": 3.0, \"title\": \"E2F1\", \"color\": \"rgba(0, 0, 256, 1.0)\", \"size_field\": 2.674718045091578, \"y\": 938.2078072024746, \"x\": 508.9097478208428, \"border_width\": 0, \"id\": \"E2F1\"}, {\"node_shape\": \"dot\", \"degree\": 3.0, \"title\": \"CCND1\", \"color\": \"rgba(66, 66, 256, 1.0)\", \"size_field\": 3.2437536743377806, \"y\": 725.3984533014933, \"x\": 704.1857617983625, \"border_width\": 2, \"id\": \"CCND1\"}, {\"node_shape\": \"dot\", \"degree\": 3.0, \"title\": \"CCND3\", \"color\": \"rgba(136, 136, 256, 1.0)\", \"size_field\": 2.295311099616272, \"y\": 508.8045706539352, \"x\": 588.0665665885895, \"border_width\": 0, \"id\": \"CCND3\"}, {\"node_shape\": \"dot\", \"degree\": 3.0, \"title\": \"CCND2\", \"color\": \"rgba(0, 0, 256, 1.0)\", \"size_field\": 2.5539071134684415, \"y\": 837.066226985255, \"x\": 296.34368073993295, \"border_width\": 0, \"id\": \"CCND2\"}, {\"node_shape\": \"dot\", \"degree\": 3.0, \"title\": \"RBBP7\", \"color\": \"rgba(48, 48, 256, 1.0)\", \"size_field\": 2.9418649829935855, \"y\": 49.96393046669186, \"x\": 641.2198304805389, \"border_width\": 0, \"id\": \"RBBP7\"}, {\"node_shape\": \"dot\", \"degree\": 3.0, \"title\": \"RBBP4\", \"color\": \"rgba(0, 0, 256, 1.0)\", \"size_field\": 3.5159475693467614, \"y\": 1023.3378362375189, \"x\": 159.4977387317178, \"border_width\": 0, \"id\": \"RBBP4\"}, {\"node_shape\": \"dot\", \"degree\": 3.0, \"title\": \"CDK1\", \"color\": \"rgba(54, 54, 256, 1.0)\", \"size_field\": 2.9508821766437743, \"y\": 761.5377306115734, \"x\": 367.9671024201624, \"border_width\": 2, \"id\": \"CDK1\"}, {\"node_shape\": \"dot\", \"degree\": 3.0, \"title\": \"PCNA\", \"color\": \"rgba(28, 28, 256, 1.0)\", \"size_field\": 2.4728877844255988, \"y\": 712.3711446993753, \"x\": 552.3335286591029, \"border_width\": 2, \"id\": \"PCNA\"}, {\"node_shape\": \"dot\", \"degree\": 3.0, \"title\": \"CDK6\", \"color\": \"rgba(0, 0, 256, 1.0)\", \"size_field\": 4.808423175248997, \"y\": 531.2486845867106, \"x\": 826.693176878998, \"border_width\": 2, \"id\": \"CDK6\"}, {\"node_shape\": \"dot\", \"degree\": 3.0, \"title\": \"LIN54\", \"color\": \"rgba(38, 38, 256, 1.0)\", \"size_field\": 2.518857795463255, \"y\": 1281.1108860465351, \"x\": 947.0130249210124, \"border_width\": 0, \"id\": \"LIN54\"}, {\"node_shape\": \"dot\", \"degree\": 3.0, \"title\": \"TFDP2\", \"color\": \"rgba(0, 0, 256, 1.0)\", \"size_field\": 4.20455135272268, \"y\": 693.3171345448807, \"x\": 152.29761824829436, \"border_width\": 2, \"id\": \"TFDP2\"}, {\"node_shape\": \"dot\", \"degree\": 3.0, \"title\": \"TFDP1\", \"color\": \"rgba(68, 68, 256, 1.0)\", \"size_field\": 3.099312533782503, \"y\": 640.5703747298044, \"x\": 264.97352782500207, \"border_width\": 2, \"id\": \"TFDP1\"}], [{\"color\": \"blue\", \"source\": 0, \"target\": 19}, {\"color\": \"red\", \"source\": 0, \"target\": 12}, {\"color\": \"red\", \"source\": 2, \"target\": 12}, {\"color\": \"red\", \"source\": 2, \"target\": 3}, {\"color\": \"red\", \"source\": 3, \"target\": 2}, {\"color\": \"red\", \"source\": 3, \"target\": 12}, {\"color\": \"blue\", \"source\": 4, \"target\": 15}, {\"color\": \"blue\", \"source\": 4, \"target\": 16}, {\"color\": \"blue\", \"source\": 4, \"target\": 11}, {\"color\": \"blue\", \"source\": 4, \"target\": 12}, {\"color\": \"red\", \"source\": 4, \"target\": 24}, {\"color\": \"blue\", \"source\": 4, \"target\": 28}, {\"color\": \"blue\", \"source\": 4, \"target\": 29}, {\"color\": \"blue\", \"source\": 5, \"target\": 15}, {\"color\": \"blue\", \"source\": 5, \"target\": 16}, {\"color\": \"blue\", \"source\": 5, \"target\": 6}, {\"color\": \"blue\", \"source\": 5, \"target\": 6}, {\"color\": \"blue\", \"source\": 5, \"target\": 17}, {\"color\": \"blue\", \"source\": 5, \"target\": 12}, {\"color\": \"blue\", \"source\": 5, \"target\": 7}, {\"color\": \"blue\", \"source\": 5, \"target\": 7}, {\"color\": \"blue\", \"source\": 5, \"target\": 23}, {\"color\": \"blue\", \"source\": 5, \"target\": 24}, {\"color\": \"blue\", \"source\": 5, \"target\": 24}, {\"color\": \"blue\", \"source\": 5, \"target\": 27}, {\"color\": \"blue\", \"source\": 5, \"target\": 28}, {\"color\": \"blue\", \"source\": 5, \"target\": 29}, {\"color\": \"blue\", \"source\": 6, \"target\": 15}, {\"color\": \"blue\", \"source\": 6, \"target\": 16}, {\"color\": \"blue\", \"source\": 6, \"target\": 11}, {\"color\": \"blue\", \"source\": 6, \"target\": 12}, {\"color\": \"blue\", \"source\": 6, \"target\": 7}, {\"color\": \"blue\", \"source\": 6, \"target\": 7}, {\"color\": \"red\", \"source\": 6, \"target\": 19}, {\"color\": \"blue\", \"source\": 6, \"target\": 18}, {\"color\": \"blue\", \"source\": 6, \"target\": 18}, {\"color\": \"blue\", \"source\": 6, \"target\": 24}, {\"color\": \"blue\", \"source\": 6, \"target\": 24}, {\"color\": \"red\", \"source\": 6, \"target\": 29}, {\"color\": \"red\", \"source\": 6, \"target\": 29}, {\"color\": \"blue\", \"source\": 6, \"target\": 28}, {\"color\": \"blue\", \"source\": 6, \"target\": 5}, {\"color\": \"blue\", \"source\": 6, \"target\": 5}, {\"color\": \"blue\", \"source\": 10, \"target\": 29}, {\"color\": \"blue\", \"source\": 10, \"target\": 16}, {\"color\": \"blue\", \"source\": 10, \"target\": 11}, {\"color\": \"blue\", \"source\": 10, \"target\": 12}, {\"color\": \"blue\", \"source\": 10, \"target\": 28}, {\"color\": \"blue\", \"source\": 11, \"target\": 1}, {\"color\": \"blue\", \"source\": 11, \"target\": 4}, {\"color\": \"blue\", \"source\": 11, \"target\": 6}, {\"color\": \"blue\", \"source\": 11, \"target\": 7}, {\"color\": \"blue\", \"source\": 11, \"target\": 10}, {\"color\": \"blue\", \"source\": 11, \"target\": 12}, {\"color\": \"blue\", \"source\": 11, \"target\": 13}, {\"color\": \"blue\", \"source\": 11, \"target\": 14}, {\"color\": \"blue\", \"source\": 11, \"target\": 15}, {\"color\": \"blue\", \"source\": 11, \"target\": 16}, {\"color\": \"blue\", \"source\": 11, \"target\": 18}, {\"color\": \"blue\", \"source\": 11, \"target\": 18}, {\"color\": \"blue\", \"source\": 11, \"target\": 17}, {\"color\": \"blue\", \"source\": 11, \"target\": 19}, {\"color\": \"blue\", \"source\": 11, \"target\": 19}, {\"color\": \"blue\", \"source\": 11, \"target\": 20}, {\"color\": \"blue\", \"source\": 11, \"target\": 20}, {\"color\": \"blue\", \"source\": 11, \"target\": 21}, {\"color\": \"blue\", \"source\": 11, \"target\": 21}, {\"color\": \"blue\", \"source\": 11, \"target\": 22}, {\"color\": \"blue\", \"source\": 11, \"target\": 23}, {\"color\": \"blue\", \"source\": 11, \"target\": 24}, {\"color\": \"blue\", \"source\": 11, \"target\": 8}, {\"color\": \"blue\", \"source\": 11, \"target\": 8}, {\"color\": \"blue\", \"source\": 11, \"target\": 26}, {\"color\": \"blue\", \"source\": 11, \"target\": 26}, {\"color\": \"blue\", \"source\": 11, \"target\": 27}, {\"color\": \"blue\", \"source\": 11, \"target\": 28}, {\"color\": \"blue\", \"source\": 11, \"target\": 29}, {\"color\": \"red\", \"source\": 12, \"target\": 0}, {\"color\": \"blue\", \"source\": 12, \"target\": 1}, {\"color\": \"red\", \"source\": 12, \"target\": 2}, {\"color\": \"red\", \"source\": 12, \"target\": 3}, {\"color\": \"blue\", \"source\": 12, \"target\": 4}, {\"color\": \"blue\", \"source\": 12, \"target\": 5}, {\"color\": \"blue\", \"source\": 12, \"target\": 6}, {\"color\": \"blue\", \"source\": 12, \"target\": 7}, {\"color\": \"blue\", \"source\": 12, \"target\": 8}, {\"color\": \"blue\", \"source\": 12, \"target\": 8}, {\"color\": \"blue\", \"source\": 12, \"target\": 9}, {\"color\": \"blue\", \"source\": 12, \"target\": 10}, {\"color\": \"blue\", \"source\": 12, \"target\": 11}, {\"color\": \"blue\", \"source\": 12, \"target\": 13}, {\"color\": \"blue\", \"source\": 12, \"target\": 14}, {\"color\": \"blue\", \"source\": 12, \"target\": 15}, {\"color\": \"blue\", \"source\": 12, \"target\": 16}, {\"color\": \"blue\", \"source\": 12, \"target\": 17}, {\"color\": \"blue\", \"source\": 12, \"target\": 18}, {\"color\": \"blue\", \"source\": 12, \"target\": 19}, {\"color\": \"blue\", \"source\": 12, \"target\": 19}, {\"color\": \"blue\", \"source\": 12, \"target\": 20}, {\"color\": \"blue\", \"source\": 12, \"target\": 20}, {\"color\": \"blue\", \"source\": 12, \"target\": 21}, {\"color\": \"blue\", \"source\": 12, \"target\": 21}, {\"color\": \"blue\", \"source\": 12, \"target\": 22}, {\"color\": \"blue\", \"source\": 12, \"target\": 23}, {\"color\": \"blue\", \"source\": 12, \"target\": 24}, {\"color\": \"blue\", \"source\": 12, \"target\": 25}, {\"color\": \"blue\", \"source\": 12, \"target\": 26}, {\"color\": \"blue\", \"source\": 12, \"target\": 26}, {\"color\": \"blue\", \"source\": 12, \"target\": 27}, {\"color\": \"blue\", \"source\": 12, \"target\": 28}, {\"color\": \"blue\", \"source\": 12, \"target\": 29}, {\"color\": \"blue\", \"source\": 15, \"target\": 25}, {\"color\": \"blue\", \"source\": 15, \"target\": 6}, {\"color\": \"blue\", \"source\": 15, \"target\": 17}, {\"color\": \"blue\", \"source\": 15, \"target\": 18}, {\"color\": \"blue\", \"source\": 15, \"target\": 7}, {\"color\": \"blue\", \"source\": 15, \"target\": 14}, {\"color\": \"blue\", \"source\": 15, \"target\": 24}, {\"color\": \"blue\", \"source\": 15, \"target\": 12}, {\"color\": \"blue\", \"source\": 15, \"target\": 4}, {\"color\": \"blue\", \"source\": 15, \"target\": 9}, {\"color\": \"blue\", \"source\": 15, \"target\": 5}, {\"color\": \"blue\", \"source\": 15, \"target\": 11}, {\"color\": \"blue\", \"source\": 16, \"target\": 10}, {\"color\": \"blue\", \"source\": 16, \"target\": 25}, {\"color\": \"blue\", \"source\": 16, \"target\": 1}, {\"color\": \"blue\", \"source\": 16, \"target\": 6}, {\"color\": \"blue\", \"source\": 16, \"target\": 11}, {\"color\": \"blue\", \"source\": 16, \"target\": 12}, {\"color\": \"blue\", \"source\": 16, \"target\": 7}, {\"color\": \"blue\", \"source\": 16, \"target\": 13}, {\"color\": \"blue\", \"source\": 16, \"target\": 18}, {\"color\": \"blue\", \"source\": 16, \"target\": 14}, {\"color\": \"blue\", \"source\": 16, \"target\": 17}, {\"color\": \"blue\", \"source\": 16, \"target\": 24}, {\"color\": \"red\", \"source\": 16, \"target\": 19}, {\"color\": \"red\", \"source\": 16, \"target\": 19}, {\"color\": \"blue\", \"source\": 16, \"target\": 4}, {\"color\": \"blue\", \"source\": 16, \"target\": 5}, {\"color\": \"blue\", \"source\": 16, \"target\": 9}, {\"color\": \"red\", \"source\": 18, \"target\": 25}, {\"color\": \"red\", \"source\": 18, \"target\": 25}, {\"color\": \"blue\", \"source\": 18, \"target\": 15}, {\"color\": \"blue\", \"source\": 18, \"target\": 16}, {\"color\": \"blue\", \"source\": 18, \"target\": 6}, {\"color\": \"blue\", \"source\": 18, \"target\": 6}, {\"color\": \"blue\", \"source\": 18, \"target\": 11}, {\"color\": \"blue\", \"source\": 18, \"target\": 11}, {\"color\": \"blue\", \"source\": 18, \"target\": 12}, {\"color\": \"blue\", \"source\": 18, \"target\": 7}, {\"color\": \"blue\", \"source\": 18, \"target\": 7}, {\"color\": \"red\", \"source\": 18, \"target\": 1}, {\"color\": \"red\", \"source\": 18, \"target\": 14}, {\"color\": \"red\", \"source\": 18, \"target\": 21}, {\"color\": \"red\", \"source\": 18, \"target\": 21}, {\"color\": \"blue\", \"source\": 18, \"target\": 17}, {\"color\": \"blue\", \"source\": 18, \"target\": 23}, {\"color\": \"red\", \"source\": 18, \"target\": 24}, {\"color\": \"red\", \"source\": 18, \"target\": 24}, {\"color\": \"blue\", \"source\": 18, \"target\": 28}, {\"color\": \"red\", \"source\": 18, \"target\": 8}, {\"color\": \"red\", \"source\": 18, \"target\": 8}, {\"color\": \"blue\", \"source\": 18, \"target\": 26}, {\"color\": \"red\", \"source\": 18, \"target\": 19}, {\"color\": \"red\", \"source\": 18, \"target\": 19}, {\"color\": \"blue\", \"source\": 18, \"target\": 27}, {\"color\": \"red\", \"source\": 18, \"target\": 20}, {\"color\": \"red\", \"source\": 18, \"target\": 20}, {\"color\": \"blue\", \"source\": 18, \"target\": 29}, {\"color\": \"blue\", \"source\": 22, \"target\": 25}, {\"color\": \"blue\", \"source\": 22, \"target\": 11}, {\"color\": \"blue\", \"source\": 22, \"target\": 12}, {\"color\": \"blue\", \"source\": 23, \"target\": 25}, {\"color\": \"blue\", \"source\": 23, \"target\": 11}, {\"color\": \"blue\", \"source\": 23, \"target\": 12}, {\"color\": \"blue\", \"source\": 23, \"target\": 18}, {\"color\": \"blue\", \"source\": 23, \"target\": 14}, {\"color\": \"blue\", \"source\": 23, \"target\": 29}, {\"color\": \"blue\", \"source\": 23, \"target\": 28}, {\"color\": \"blue\", \"source\": 23, \"target\": 5}, {\"color\": \"blue\", \"source\": 23, \"target\": 9}, {\"color\": \"blue\", \"source\": 27, \"target\": 25}, {\"color\": \"blue\", \"source\": 27, \"target\": 12}, {\"color\": \"blue\", \"source\": 27, \"target\": 18}, {\"color\": \"blue\", \"source\": 27, \"target\": 14}, {\"color\": \"blue\", \"source\": 27, \"target\": 9}, {\"color\": \"blue\", \"source\": 27, \"target\": 5}, {\"color\": \"blue\", \"source\": 27, \"target\": 11}, {\"color\": \"blue\", \"source\": 28, \"target\": 25}, {\"color\": \"blue\", \"source\": 28, \"target\": 10}, {\"color\": \"blue\", \"source\": 28, \"target\": 6}, {\"color\": \"blue\", \"source\": 28, \"target\": 11}, {\"color\": \"blue\", \"source\": 28, \"target\": 12}, {\"color\": \"blue\", \"source\": 28, \"target\": 7}, {\"color\": \"blue\", \"source\": 28, \"target\": 1}, {\"color\": \"blue\", \"source\": 28, \"target\": 18}, {\"color\": \"blue\", \"source\": 28, \"target\": 14}, {\"color\": \"blue\", \"source\": 28, \"target\": 23}, {\"color\": \"blue\", \"source\": 28, \"target\": 13}, {\"color\": \"blue\", \"source\": 28, \"target\": 24}, {\"color\": \"blue\", \"source\": 28, \"target\": 4}, {\"color\": \"blue\", \"source\": 28, \"target\": 5}, {\"color\": \"blue\", \"source\": 28, \"target\": 9}, {\"color\": \"blue\", \"source\": 29, \"target\": 10}, {\"color\": \"blue\", \"source\": 29, \"target\": 25}, {\"color\": \"red\", \"source\": 29, \"target\": 6}, {\"color\": \"red\", \"source\": 29, \"target\": 6}, {\"color\": \"blue\", \"source\": 29, \"target\": 11}, {\"color\": \"blue\", \"source\": 29, \"target\": 12}, {\"color\": \"blue\", \"source\": 29, \"target\": 7}, {\"color\": \"red\", \"source\": 29, \"target\": 1}, {\"color\": \"blue\", \"source\": 29, \"target\": 18}, {\"color\": \"blue\", \"source\": 29, \"target\": 14}, {\"color\": \"red\", \"source\": 29, \"target\": 21}, {\"color\": \"red\", \"source\": 29, \"target\": 21}, {\"color\": \"blue\", \"source\": 29, \"target\": 23}, {\"color\": \"blue\", \"source\": 29, \"target\": 13}, {\"color\": \"blue\", \"source\": 29, \"target\": 24}, {\"color\": \"blue\", \"source\": 29, \"target\": 8}, {\"color\": \"blue\", \"source\": 29, \"target\": 26}, {\"color\": \"red\", \"source\": 29, \"target\": 19}, {\"color\": \"red\", \"source\": 29, \"target\": 19}, {\"color\": \"blue\", \"source\": 29, \"target\": 4}, {\"color\": \"red\", \"source\": 29, \"target\": 20}, {\"color\": \"red\", \"source\": 29, \"target\": 20}, {\"color\": \"blue\", \"source\": 29, \"target\": 5}, {\"color\": \"blue\", \"source\": 29, \"target\": 9}]);}</script><iframe name=\"style_file2\" src=\"style_file2.html\" height=\"1200px\" width=\"100%;\"></iframe></body></html>"
      ],
      "text/plain": [
       "<IPython.core.display.HTML object>"
      ]
     },
     "execution_count": 9,
     "metadata": {},
     "output_type": "execute_result"
    }
   ],
   "source": [
    "stat_analysis.vis_tf_network(DG_TF, 'RBL2', '../geo2r_GSE11352_brca_48hours.txt', DEG_list,\n",
    "              directed_edges = False,\n",
    "              node_spacing = 1500,\n",
    "              graph_id = 2) "
   ]
  },
  {
   "cell_type": "code",
   "execution_count": null,
   "metadata": {
    "collapsed": true
   },
   "outputs": [],
   "source": []
  }
 ],
 "metadata": {
  "kernelspec": {
   "display_name": "Python 2",
   "language": "python",
   "name": "python2"
  },
  "language_info": {
   "codemirror_mode": {
    "name": "ipython",
    "version": 2
   },
   "file_extension": ".py",
   "mimetype": "text/x-python",
   "name": "python",
   "nbconvert_exporter": "python",
   "pygments_lexer": "ipython2",
   "version": "2.7.14"
  }
 },
 "nbformat": 4,
 "nbformat_minor": 2
}
