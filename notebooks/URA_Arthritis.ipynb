{
 "cells": [
  {
   "cell_type": "markdown",
   "metadata": {},
   "source": [
    "# Upstream Regulator Analysis Package\n",
    "## Arthritis Case Study\n",
    "\n",
    "----------------------\n",
    "\n",
    "Author: Mikayla Webster (m1webste@ucsd.edu)\n",
    "\n",
    "Date: 19th January, 2018\n",
    "\n",
    "----------------------\n",
    "\n",
    "<a id='toc'></a>\n",
    "## Table of Contents\n",
    "1. [Background](#background)\n",
    "2. [Import packages](#import)\n",
    "3. [Load Networks](#load)\n",
    "6. [P-value and Z-score Calculation](#pz)\n",
    "7. [Compare the Ingenuity Article's results to Ours](#comp)\n",
    "8. [Display Our results](#display)"
   ]
  },
  {
   "cell_type": "markdown",
   "metadata": {},
   "source": [
    "## Background\n",
    "<a id='background'></a>\n",
    "\n",
    "Need some info about where these genes come from. Also Some feedback from Katie and Adam on motivation will go good here!"
   ]
  },
  {
   "cell_type": "markdown",
   "metadata": {},
   "source": [
    "## Import packages\n",
    "<a id='import'></a>"
   ]
  },
  {
   "cell_type": "code",
   "execution_count": 49,
   "metadata": {
    "collapsed": true
   },
   "outputs": [],
   "source": [
    "import networkx as nx\n",
    "import pandas as pd\n",
    "import numpy as np\n",
    "import matplotlib.pyplot as plt\n",
    "import mygene\n",
    "\n",
    "# import upstream regulator modules\n",
    "import sys\n",
    "code_path = '../ura'\n",
    "sys.path.append(code_path)\n",
    "import create_graph\n",
    "import stat_analysis\n",
    "reload(create_graph)\n",
    "reload(stat_analysis)\n",
    "\n",
    "# network visualization package\n",
    "import visJS2jupyter.visJS_module as visJS_module # >> pip install visJS2jupyter"
   ]
  },
  {
   "cell_type": "code",
   "execution_count": 3,
   "metadata": {
    "collapsed": true
   },
   "outputs": [],
   "source": [
    "# User preferences\n",
    "symbol = 'symbol'\n",
    "entrez = 'entrez'\n",
    "\n",
    "gene_type = symbol"
   ]
  },
  {
   "cell_type": "markdown",
   "metadata": {},
   "source": [
    "## Load Networks\n",
    "<a id='load'></a>\n",
    "\n",
    "1. List of all **Transcription Factors** (TF's) or regulators of interest to us\n",
    "    <br>\n",
    "    - Our sources are [slowkow](https://github.com/slowkow/tftargets) and [jaspar](http://jaspar.genereg.net/) TF databases\n",
    "    <br><br>\n",
    "2. **Background Network**: [STRING human protein interactions network](https://string-db.org/cgi/download.pl?UserId=9BGA8WkVMRl6&sessionId=HWUK6Dum9xC6&species_text=Homo+sapiens)  \n",
    "    - Filter our background network down to just the sub network of TF's and their targets\n",
    "    <br><br>\n",
    "3. User-supplied list of **Differentially Expressed Genes** (DEG's)"
   ]
  },
  {
   "cell_type": "code",
   "execution_count": 4,
   "metadata": {},
   "outputs": [
    {
     "name": "stdout",
     "output_type": "stream",
     "text": [
      "Number of TF's: 3983\n"
     ]
    }
   ],
   "source": [
    "# transcription factors\n",
    "TF_list = create_graph.easy_load_TF_list(slowkow_bool=True, jaspar_bool=True, gene_type = gene_type)\n",
    "print \"Number of TF's: \" + str(len(TF_list))"
   ]
  },
  {
   "cell_type": "code",
   "execution_count": 5,
   "metadata": {},
   "outputs": [
    {
     "name": "stdout",
     "output_type": "stream",
     "text": [
      "querying 1-1000...done.\n",
      "querying 1001-2000...done.\n",
      "querying 2001-3000...done.\n",
      "querying 3001-4000...done.\n",
      "querying 4001-5000...done.\n",
      "querying 5001-6000...done.\n",
      "querying 6001-7000...done.\n",
      "querying 7001-7374...done.\n",
      "Finished.\n",
      "56 input query terms found dup hits:\n",
      "\t[(u'ENSP00000359550', 3), (u'ENSP00000447879', 2), (u'ENSP00000364076', 2), (u'ENSP00000348986', 2),\n",
      "312 input query terms found no hit:\n",
      "\t[u'ENSP00000376684', u'ENSP00000289352', u'ENSP00000202788', u'ENSP00000373637', u'ENSP00000367802',\n",
      "Pass \"returnall=True\" to return complete lists of duplicate or missing query terms.\n",
      "\n",
      "Number of interactions: 28939\n"
     ]
    }
   ],
   "source": [
    "# background network\n",
    "filename = \"../background_networks/9606.protein.actions.v10.5.txt\"\n",
    "confidence_filter = 400\n",
    "DG_TF, DG_universe = create_graph.load_STRING_to_digraph(filename, TF_list, confidence_filter, gene_type)\n",
    "\n",
    "print \"\\nNumber of interactions: \" + str(len(list(DG_TF.edges())))"
   ]
  },
  {
   "cell_type": "code",
   "execution_count": null,
   "metadata": {
    "collapsed": true
   },
   "outputs": [],
   "source": []
  },
  {
   "cell_type": "code",
   "execution_count": null,
   "metadata": {
    "collapsed": true
   },
   "outputs": [],
   "source": []
  },
  {
   "cell_type": "code",
   "execution_count": null,
   "metadata": {
    "collapsed": true
   },
   "outputs": [],
   "source": []
  },
  {
   "cell_type": "code",
   "execution_count": null,
   "metadata": {
    "collapsed": true
   },
   "outputs": [],
   "source": []
  },
  {
   "cell_type": "code",
   "execution_count": null,
   "metadata": {
    "collapsed": true
   },
   "outputs": [],
   "source": []
  },
  {
   "cell_type": "code",
   "execution_count": 71,
   "metadata": {},
   "outputs": [],
   "source": []
  },
  {
   "cell_type": "code",
   "execution_count": 73,
   "metadata": {},
   "outputs": [
    {
     "name": "stdout",
     "output_type": "stream",
     "text": [
      "Number of DEG's: 1456\n"
     ]
    }
   ],
   "source": [
    "# differentially expressed genes\n",
    "DEG_filename = \"../DEG_databases/DE_Coeff_OAvsNormal_OAvsNormal_20171215.csv\" \n",
    "#DEG_full_graph = create_graph.create_DEG_full_graph(DEG_filename) # create graph of full DEG file\n",
    "reload(create_graph)\n",
    "DEG_list, DG_TF = create_graph.create_DEG_list(DEG_filename, \n",
    "                                        DG_TF, # adding DEG up-down information to our graph\n",
    "                                        p_value_filter = 0.05, # p < 0.05\n",
    "                                        fold_change_filter = 1) # |fld| > 1\n",
    "\n",
    "if type(DEG_list) != int:\n",
    "    print \"Number of DEG's: \" + str(len(DEG_list))\n",
    "else:\n",
    "    print \"Please modify create_DEG_list function call.\\n\""
   ]
  },
  {
   "cell_type": "markdown",
   "metadata": {},
   "source": [
    "## P-values and Z-score Calculation\n",
    "<a id='pz'></a>\n",
    "\n",
    "1. **P-values**: How relevant is a TF to its DEG targets? Are they connected by chance, or is their connection statistically significant?\n",
    "    <br>\n",
    "    1. -log(p-value) for each TF using [scipy.stats.hypergeom.logsf](https://docs.scipy.org/doc/scipy-0.19.1/reference/generated/scipy.stats.hypergeom.html).\n",
    "        1. high value = significant connection between this TF and its DEG targets\n",
    "        2. low value = TF is randomly associated with its DEG targets\n",
    "        3. zero = None of this TF's targets were DEG's\n",
    "        4. inf = original p-value was so small that its log is inf. Very high significance.\n",
    "        <br><br>\n",
    "2. **Z-scores**: Goal is to predict the activation states of the TF's\n",
    "\n",
    "    - activation states: interaction type/regulation direction = predicted state\n",
    "        - activating/up  = activating\n",
    "        - activating/down = inhibiting\n",
    "        - inhibiting/up = inhibiting\n",
    "        - inhibiting/down = activating\n",
    "        <br><br>\n",
    "    - unbiased vs biased calculations:\n",
    "        - **unbiased calculation**: Assume a normal distribution of activating and inhibiting states \n",
    "        - **biased calculation**: For the case when you cannot assume a 50-50 split between up/down-regulated targets and activating/inhbiting interactions. Modify our formula to approximate a normal distribution."
   ]
  },
  {
   "cell_type": "code",
   "execution_count": 19,
   "metadata": {
    "scrolled": true
   },
   "outputs": [
    {
     "data": {
      "text/plain": [
       "TF_ENRICHMENT    4.114487e-12\n",
       "dtype: float64"
      ]
     },
     "execution_count": 19,
     "metadata": {},
     "output_type": "execute_result"
    }
   ],
   "source": [
    "# Enrichment of every TF with respect to its targets\n",
    "p_values = stat_analysis.tf_target_enrichment(DG_TF, DG_universe, DEG_list)\n",
    "\n",
    "# Enrichment of TF's themselves\n",
    "stat_analysis.tf_enrichment(TF_list, DEG_full_graph, DEG_list)    "
   ]
  },
  {
   "cell_type": "code",
   "execution_count": null,
   "metadata": {
    "collapsed": true
   },
   "outputs": [],
   "source": [
    "z_scores = stat_analysis.tf_zscore(DG_TF, DEG_list, bias_filter = 0.25) # recommended bias filter is 0.25"
   ]
  },
  {
   "cell_type": "markdown",
   "metadata": {},
   "source": [
    "## Display Our Results\n",
    "- Display TF's with top z-scores\n",
    "- Display where certain TF's rank among others and overall according to z-score\n",
    "- Display subnetwork of a particular TF and its targets"
   ]
  },
  {
   "cell_type": "code",
   "execution_count": null,
   "metadata": {
    "collapsed": true
   },
   "outputs": [],
   "source": [
    "def top_values(series, TF_to_adjp, TF_to_foldchange, act = True, abs_value = False, top = 10):\n",
    "\n",
    "    # top activating and inhibiting, sort by strongest zscore or log(pvalue)\n",
    "    if abs_value == True:\n",
    "        top_series_abs = series.abs().sort_values(ascending=False).head(top)\n",
    "        top_genes = list(top_series_abs.index)\n",
    "        top_values = [series[gene] for gene in top_genes]\n",
    "        return pd.Series(top_values, index=top_genes)\n",
    "\n",
    "    # top activating\n",
    "    if act == True:\n",
    "        return series.sort_values(ascending=False).head(top)\n",
    "\n",
    "    # top inhibiting\n",
    "    else:\n",
    "        return series.sort_values(ascending=True).head(top)\n",
    "    \n",
    "#df1['e'] = p.Series(np.random.randn(sLength), index=df1.index)\n",
    "top_values(z_scores, TF_to_adjp, TF_to_foldchange, act = False, abs_value = True, top = 20)"
   ]
  },
  {
   "cell_type": "code",
   "execution_count": null,
   "metadata": {
    "collapsed": true
   },
   "outputs": [],
   "source": [
    "series = z_scores.sort_values(ascending=False).head(10)\n",
    "top_to_adjp = pd.Series({ k: TF_to_adjp[k] for k in TF_to_adjp if k in series })\n",
    "top_to_foldchange = pd.Series({ k: TF_to_foldchange[k] for k in TF_to_foldchange if k in series })"
   ]
  },
  {
   "cell_type": "code",
   "execution_count": null,
   "metadata": {
    "collapsed": true
   },
   "outputs": [],
   "source": [
    "pd.concat([series, top_to_adjp, top_to_foldchange], axis=1, names = [\"z-scores\", \"adj p-value\", \"fold change\"])"
   ]
  },
  {
   "cell_type": "code",
   "execution_count": null,
   "metadata": {
    "collapsed": true
   },
   "outputs": [],
   "source": [
    "# Top TF's\n",
    "# ~~~~~~~~~~~~~~~~~~~~~~ KATIE'S REQUEST ~~~~~~~~~~~~~~~~~~~~~~~~~~~~ #\n",
    "TF_to_adjp, TF_to_foldchange = map_TF_to_DEG_attributes(DEG_filename, TF_list)\n",
    "top_overall = stat_analysis.top_values(z_scores, act = False, abs_value = True, top = 20)\n",
    "display(top_overall.to_frame(name = 'top z-scores'))"
   ]
  },
  {
   "cell_type": "code",
   "execution_count": null,
   "metadata": {
    "collapsed": true
   },
   "outputs": [],
   "source": [
    "# Ranking (in this case from 0 to 168)\n",
    "genes_to_rank = ['HOXA4', 'CEBPB', 'HIF1A','KLF4', 'TLE3', 'RBL2','TP53', 'STAT1', 'STAT5B']\n",
    "stat_analysis.rank_and_score_df(z_scores, genes_to_rank, act = True, abs_value = True, remove_dups=True)"
   ]
  },
  {
   "cell_type": "code",
   "execution_count": null,
   "metadata": {
    "collapsed": true
   },
   "outputs": [],
   "source": [
    "stat_analysis.vis_tf_network(DG_TF, 'KLF5', '../DEG_databases/geo2r_GSE11352_brca_48hours.txt', DEG_list,\n",
    "              directed_edges = True,\n",
    "              node_spacing = 1500,\n",
    "              graph_id = 2) "
   ]
  },
  {
   "cell_type": "code",
   "execution_count": null,
   "metadata": {
    "collapsed": true
   },
   "outputs": [],
   "source": [
    "# display subnetworks using visJS2jupyter\n",
    "stat_analysis.vis_tf_network(DG_TF, 'STAT1', '../DEG_databases/geo2r_GSE11352_brca_48hours.txt', DEG_list,\n",
    "              directed_edges = True,\n",
    "              node_spacing = 2000,\n",
    "              graph_id = 1) "
   ]
  },
  {
   "cell_type": "code",
   "execution_count": null,
   "metadata": {
    "collapsed": true
   },
   "outputs": [],
   "source": []
  }
 ],
 "metadata": {
  "kernelspec": {
   "display_name": "Python 2",
   "language": "python",
   "name": "python2"
  },
  "language_info": {
   "codemirror_mode": {
    "name": "ipython",
    "version": 2
   },
   "file_extension": ".py",
   "mimetype": "text/x-python",
   "name": "python",
   "nbconvert_exporter": "python",
   "pygments_lexer": "ipython2",
   "version": "2.7.14"
  }
 },
 "nbformat": 4,
 "nbformat_minor": 2
}
