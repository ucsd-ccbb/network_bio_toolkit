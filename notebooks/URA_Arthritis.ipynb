{
 "cells": [
  {
   "cell_type": "markdown",
   "metadata": {},
   "source": [
    "# Upstream Regulator Analysis Package\n",
    "## Arthritis Case Study\n",
    "\n",
    "----------------------\n",
    "\n",
    "Author: Mikayla Webster (m1webste@ucsd.edu)\n",
    "\n",
    "Date: 9th February, 2018\n",
    "\n",
    "----------------------\n",
    "\n",
    "<a id='toc'></a>\n",
    "## Table of Contents\n",
    "1. [Background](#background)\n",
    "2. [Import packages](#import)\n",
    "3. [Load Networks](#load)\n",
    "6. [P-value and Z-score Calculation](#pz)\n",
    "7. [Compare the Ingenuity Article's results to Ours](#comp)\n",
    "8. [Display Our results](#display)"
   ]
  },
  {
   "cell_type": "markdown",
   "metadata": {},
   "source": [
    "## Background\n",
    "<a id='background'></a>\n",
    "\n",
    "Need some info about where these genes come from. Also Some feedback from Katie and Adam on motivation will go good here!"
   ]
  },
  {
   "cell_type": "markdown",
   "metadata": {},
   "source": [
    "## Import packages\n",
    "<a id='import'></a>"
   ]
  },
  {
   "cell_type": "code",
   "execution_count": 1,
   "metadata": {},
   "outputs": [
    {
     "data": {
      "text/plain": [
       "<module 'stat_analysis' from '../ura\\stat_analysis.pyc'>"
      ]
     },
     "execution_count": 1,
     "metadata": {},
     "output_type": "execute_result"
    }
   ],
   "source": [
    "# import upstream regulator module\n",
    "import sys\n",
    "code_path = '../ura'\n",
    "sys.path.append(code_path)\n",
    "import Upstream\n",
    "import stat_analysis\n",
    "reload(Upstream)\n",
    "reload(stat_analysis)"
   ]
  },
  {
   "cell_type": "code",
   "execution_count": 2,
   "metadata": {
    "collapsed": true
   },
   "outputs": [],
   "source": [
    "import seaborn as sns\n",
    "sns.set(color_codes=True)\n",
    "import numpy as np\n",
    "import pandas as pd\n",
    "from scipy import stats, integrate\n",
    "import matplotlib.pyplot as plt\n",
    "# latex rendering of text in graphs\n",
    "import matplotlib as mpl\n",
    "mpl.rc('text', usetex = False)\n",
    "mpl.rc('font', family = 'serif')"
   ]
  },
  {
   "cell_type": "code",
   "execution_count": 3,
   "metadata": {
    "collapsed": true
   },
   "outputs": [],
   "source": [
    "%matplotlib inline"
   ]
  },
  {
   "cell_type": "code",
   "execution_count": 4,
   "metadata": {
    "collapsed": true
   },
   "outputs": [],
   "source": [
    "# User preferences\n",
    "symbol = 'symbol'\n",
    "entrez = 'entrez'\n",
    "\n",
    "ura = Upstream.Upstream(symbol)"
   ]
  },
  {
   "cell_type": "markdown",
   "metadata": {},
   "source": [
    "## Load Networks\n",
    "<a id='load'></a>\n",
    "\n",
    "1. List of all **Transcription Factors** (TF's) or regulators of interest to us\n",
    "    <br>\n",
    "    - Our sources are [slowkow](https://github.com/slowkow/tftargets) and [jaspar](http://jaspar.genereg.net/) TF databases\n",
    "    <br><br>\n",
    "2. **Background Network**: [STRING human protein interactions network](https://string-db.org/cgi/download.pl?UserId=9BGA8WkVMRl6&sessionId=HWUK6Dum9xC6&species_text=Homo+sapiens)  \n",
    "    - Filter our background network down to just the sub network of TF's and their targets\n",
    "    <br><br>\n",
    "3. User-supplied list of **Differentially Expressed Genes** (DEG's)"
   ]
  },
  {
   "cell_type": "code",
   "execution_count": 5,
   "metadata": {},
   "outputs": [
    {
     "name": "stdout",
     "output_type": "stream",
     "text": [
      "Number of TF's: 3983\n"
     ]
    }
   ],
   "source": [
    "# transcription factors\n",
    "ura.easy_load_TF_list(slowkow_bool=True, jaspar_bool=True)\n",
    "TF_list = ura.get('TF_list')\n",
    "print \"Number of TF's: \" + str(len(TF_list))"
   ]
  },
  {
   "cell_type": "code",
   "execution_count": 6,
   "metadata": {},
   "outputs": [
    {
     "name": "stdout",
     "output_type": "stream",
     "text": [
      "querying 1-1000...done.\n",
      "querying 1001-2000...done.\n",
      "querying 2001-3000...done.\n",
      "querying 3001-4000...done.\n",
      "querying 4001-5000...done.\n",
      "querying 5001-6000...done.\n",
      "querying 6001-7000...done.\n",
      "querying 7001-7374...done.\n",
      "Finished.\n",
      "56 input query terms found dup hits:\n",
      "\t[(u'ENSP00000359550', 3), (u'ENSP00000447879', 2), (u'ENSP00000364076', 2), (u'ENSP00000348986', 2),\n",
      "312 input query terms found no hit:\n",
      "\t[u'ENSP00000376684', u'ENSP00000289352', u'ENSP00000202788', u'ENSP00000373637', u'ENSP00000367802',\n",
      "Pass \"returnall=True\" to return complete lists of duplicate or missing query terms.\n",
      "\n",
      "Number of interactions: 28939\n"
     ]
    }
   ],
   "source": [
    "# background network\n",
    "filename = \"../background_networks/9606.protein.actions.v10.5.txt\"\n",
    "confidence_filter = 400\n",
    "ura.load_STRING_to_digraph(filename, confidence_filter)\n",
    "DG_TF = ura.get('DG_TF')\n",
    "DG_universe = ura.get('DG_universe')\n",
    "\n",
    "\n",
    "print \"\\nNumber of interactions: \" + str(len(list(DG_TF.edges())))"
   ]
  },
  {
   "cell_type": "code",
   "execution_count": 7,
   "metadata": {},
   "outputs": [
    {
     "name": "stdout",
     "output_type": "stream",
     "text": [
      "Number of DEG's: 1456\n"
     ]
    }
   ],
   "source": [
    "#ura.DG_TF = save_DG_TF\n",
    "#ura.DG_universe = DG_universe\n",
    "# differentially expressed genes\n",
    "DEG_filename = \"../DEG_databases/DE_Coeff_OAvsNormal_OAvsNormal_20171215.csv\" \n",
    "ura.create_DEG_list(DEG_filename, p_value_filter = 0.05, fold_change_filter = 1)\n",
    "\n",
    "DEG_list = ura.get('DEG_list')\n",
    "DG_TF = ura.get('DG_TF')\n",
    "DEG_full_graph = ura.get('DEG_full_graph')\n",
    "DEG_to_pvalue = ura.get('DEG_to_pvalue')\n",
    "DEG_to_updown = ura.get('DEG_to_updown')\n",
    "\n",
    "print \"Number of DEG's: \" + str(len(DEG_list))"
   ]
  },
  {
   "cell_type": "markdown",
   "metadata": {},
   "source": [
    "## P-values and Z-score Calculation\n",
    "<a id='pz'></a>\n",
    "\n",
    "1. **P-values**: How relevant is a TF to its DEG targets? Are they connected by chance, or is their connection statistically significant?\n",
    "    <br>\n",
    "    1. -log(p-value) for each TF using [scipy.stats.hypergeom.logsf](https://docs.scipy.org/doc/scipy-0.19.1/reference/generated/scipy.stats.hypergeom.html).\n",
    "        1. high value = significant connection between this TF and its DEG targets\n",
    "        2. low value = TF is randomly associated with its DEG targets\n",
    "        3. zero = None of this TF's targets were DEG's\n",
    "        4. inf = original p-value was so small that its log is inf. Very high significance.\n",
    "        <br><br>\n",
    "2. **Z-scores**: Goal is to predict the activation states of the TF's\n",
    "\n",
    "    - activation states: interaction type/regulation direction = predicted state\n",
    "        - activating/up  = activating\n",
    "        - activating/down = inhibiting\n",
    "        - inhibiting/up = inhibiting\n",
    "        - inhibiting/down = activating\n",
    "        <br><br>\n",
    "    - unbiased vs biased calculations:\n",
    "        - **unbiased calculation**: Assume a normal distribution of activating and inhibiting states \n",
    "        - **biased calculation**: For the case when you cannot assume a 50-50 split between up/down-regulated targets and activating/inhbiting interactions. Modify our formula to approximate a normal distribution."
   ]
  },
  {
   "cell_type": "code",
   "execution_count": 8,
   "metadata": {
    "scrolled": true
   },
   "outputs": [
    {
     "data": {
      "text/plain": [
       "TF_ENRICHMENT    4.114487e-12\n",
       "dtype: float64"
      ]
     },
     "execution_count": 8,
     "metadata": {},
     "output_type": "execute_result"
    }
   ],
   "source": [
    "# Enrichment of every TF with respect to its targets\n",
    "ura.tf_target_enrichment_calc()\n",
    "tf_target_enrichment = ura.get('tf_target_enrichment')\n",
    "\n",
    "# Enrichment of TF's themselves\n",
    "ura.tf_enrichment_calc()   \n",
    "ura.get('tf_enrichment')"
   ]
  },
  {
   "cell_type": "code",
   "execution_count": 9,
   "metadata": {
    "collapsed": true,
    "scrolled": true
   },
   "outputs": [],
   "source": [
    "ura.tf_zscore(bias_filter = 0.25) # recommended bias filter is 0.25\n",
    "z_scores = ura.get('z_scores')"
   ]
  },
  {
   "cell_type": "code",
   "execution_count": 10,
   "metadata": {
    "collapsed": true
   },
   "outputs": [],
   "source": [
    "#sns.distplot(z_scores, kde = True, rug = True)"
   ]
  },
  {
   "cell_type": "markdown",
   "metadata": {},
   "source": [
    "## Display Our Results\n",
    "- Display TF's with top z-scores\n",
    "- Display where certain TF's rank among others and overall according to z-score\n",
    "- Display subnetwork of a particular TF and its targets"
   ]
  },
  {
   "cell_type": "code",
   "execution_count": 11,
   "metadata": {},
   "outputs": [
    {
     "data": {
      "text/html": [
       "<div>\n",
       "<style>\n",
       "    .dataframe thead tr:only-child th {\n",
       "        text-align: right;\n",
       "    }\n",
       "\n",
       "    .dataframe thead th {\n",
       "        text-align: left;\n",
       "    }\n",
       "\n",
       "    .dataframe tbody tr th {\n",
       "        vertical-align: top;\n",
       "    }\n",
       "</style>\n",
       "<table border=\"1\" class=\"dataframe\">\n",
       "  <thead>\n",
       "    <tr style=\"text-align: right;\">\n",
       "      <th></th>\n",
       "      <th>z-score</th>\n",
       "      <th>(adj) p-value</th>\n",
       "      <th>(log) fold change</th>\n",
       "    </tr>\n",
       "  </thead>\n",
       "  <tbody>\n",
       "    <tr>\n",
       "      <th>STAT1</th>\n",
       "      <td>2.840188</td>\n",
       "      <td>0.826469</td>\n",
       "      <td>0.063822</td>\n",
       "    </tr>\n",
       "    <tr>\n",
       "      <th>AHCTF1</th>\n",
       "      <td>2.672612</td>\n",
       "      <td>0.043979</td>\n",
       "      <td>-0.401034</td>\n",
       "    </tr>\n",
       "    <tr>\n",
       "      <th>BUB3</th>\n",
       "      <td>2.672612</td>\n",
       "      <td>0.045374</td>\n",
       "      <td>0.264598</td>\n",
       "    </tr>\n",
       "    <tr>\n",
       "      <th>CENPA</th>\n",
       "      <td>2.672612</td>\n",
       "      <td>NaN</td>\n",
       "      <td>NaN</td>\n",
       "    </tr>\n",
       "    <tr>\n",
       "      <th>MAD1L1</th>\n",
       "      <td>2.672612</td>\n",
       "      <td>0.039497</td>\n",
       "      <td>-0.561039</td>\n",
       "    </tr>\n",
       "    <tr>\n",
       "      <th>CKAP5</th>\n",
       "      <td>2.672612</td>\n",
       "      <td>0.866232</td>\n",
       "      <td>-0.071815</td>\n",
       "    </tr>\n",
       "    <tr>\n",
       "      <th>CLIP1</th>\n",
       "      <td>2.672612</td>\n",
       "      <td>0.042270</td>\n",
       "      <td>-0.521127</td>\n",
       "    </tr>\n",
       "    <tr>\n",
       "      <th>FOXO3</th>\n",
       "      <td>-2.710687</td>\n",
       "      <td>0.000292</td>\n",
       "      <td>-1.125810</td>\n",
       "    </tr>\n",
       "    <tr>\n",
       "      <th>GLI2</th>\n",
       "      <td>-2.828427</td>\n",
       "      <td>0.172742</td>\n",
       "      <td>-0.554695</td>\n",
       "    </tr>\n",
       "    <tr>\n",
       "      <th>RBL2</th>\n",
       "      <td>-3.162278</td>\n",
       "      <td>0.129498</td>\n",
       "      <td>-0.830733</td>\n",
       "    </tr>\n",
       "  </tbody>\n",
       "</table>\n",
       "</div>"
      ],
      "text/plain": [
       "         z-score  (adj) p-value  (log) fold change\n",
       "STAT1   2.840188       0.826469           0.063822\n",
       "AHCTF1  2.672612       0.043979          -0.401034\n",
       "BUB3    2.672612       0.045374           0.264598\n",
       "CENPA   2.672612            NaN                NaN\n",
       "MAD1L1  2.672612       0.039497          -0.561039\n",
       "CKAP5   2.672612       0.866232          -0.071815\n",
       "CLIP1   2.672612       0.042270          -0.521127\n",
       "FOXO3  -2.710687       0.000292          -1.125810\n",
       "GLI2   -2.828427       0.172742          -0.554695\n",
       "RBL2   -3.162278       0.129498          -0.830733"
      ]
     },
     "metadata": {},
     "output_type": "display_data"
    }
   ],
   "source": [
    "top_values = ura.top_values(act=True, abs_value=True, top=10)\n",
    "display(top_values)"
   ]
  },
  {
   "cell_type": "code",
   "execution_count": 12,
   "metadata": {},
   "outputs": [
    {
     "data": {
      "text/html": [
       "<div>\n",
       "<style>\n",
       "    .dataframe thead tr:only-child th {\n",
       "        text-align: right;\n",
       "    }\n",
       "\n",
       "    .dataframe thead th {\n",
       "        text-align: left;\n",
       "    }\n",
       "\n",
       "    .dataframe tbody tr th {\n",
       "        vertical-align: top;\n",
       "    }\n",
       "</style>\n",
       "<table border=\"1\" class=\"dataframe\">\n",
       "  <thead>\n",
       "    <tr style=\"text-align: right;\">\n",
       "      <th></th>\n",
       "      <th>rank</th>\n",
       "      <th>z-score</th>\n",
       "    </tr>\n",
       "  </thead>\n",
       "  <tbody>\n",
       "    <tr>\n",
       "      <th>RBL2</th>\n",
       "      <td>0</td>\n",
       "      <td>-3.162278</td>\n",
       "    </tr>\n",
       "    <tr>\n",
       "      <th>STAT1</th>\n",
       "      <td>1</td>\n",
       "      <td>2.840188</td>\n",
       "    </tr>\n",
       "    <tr>\n",
       "      <th>STAT5B</th>\n",
       "      <td>7</td>\n",
       "      <td>2.500000</td>\n",
       "    </tr>\n",
       "    <tr>\n",
       "      <th>CEBPB</th>\n",
       "      <td>29</td>\n",
       "      <td>-1.632993</td>\n",
       "    </tr>\n",
       "    <tr>\n",
       "      <th>HIF1A</th>\n",
       "      <td>37</td>\n",
       "      <td>-1.333333</td>\n",
       "    </tr>\n",
       "    <tr>\n",
       "      <th>TLE3</th>\n",
       "      <td>46</td>\n",
       "      <td>-1.000000</td>\n",
       "    </tr>\n",
       "    <tr>\n",
       "      <th>KLF4</th>\n",
       "      <td>49</td>\n",
       "      <td>-0.832050</td>\n",
       "    </tr>\n",
       "    <tr>\n",
       "      <th>TP53</th>\n",
       "      <td>65</td>\n",
       "      <td>0.321634</td>\n",
       "    </tr>\n",
       "    <tr>\n",
       "      <th>HOXA4</th>\n",
       "      <td>70</td>\n",
       "      <td>0.000000</td>\n",
       "    </tr>\n",
       "  </tbody>\n",
       "</table>\n",
       "</div>"
      ],
      "text/plain": [
       "        rank   z-score\n",
       "RBL2       0 -3.162278\n",
       "STAT1      1  2.840188\n",
       "STAT5B     7  2.500000\n",
       "CEBPB     29 -1.632993\n",
       "HIF1A     37 -1.333333\n",
       "TLE3      46 -1.000000\n",
       "KLF4      49 -0.832050\n",
       "TP53      65  0.321634\n",
       "HOXA4     70  0.000000"
      ]
     },
     "execution_count": 12,
     "metadata": {},
     "output_type": "execute_result"
    }
   ],
   "source": [
    "# Ranking (in this case from 0 to 168)\n",
    "genes_to_rank = ['HOXA4', 'CEBPB', 'HIF1A','KLF4', 'TLE3', 'RBL2','TP53', 'STAT1', 'STAT5B']\n",
    "stat_analysis.rank_and_score_df(z_scores, genes_to_rank, act = True, abs_value = True, remove_dups=True)"
   ]
  },
  {
   "cell_type": "code",
   "execution_count": 18,
   "metadata": {},
   "outputs": [
    {
     "data": {
      "text/html": [
       "<!doctype html><html><head>  <title>Network | Basic usage</title></head><body><script type=\"text/javascript\">function setUpFrame() {     var frame = window.frames[\"style_file2\"];    frame.runVis([{\"node_shape\": \"circle\", \"degree\": 3.0, \"title\": \"BIRC5\", \"color\": \"rgba(0, 0, 256, 1.0)\", \"size_field\": 7.233579913228549, \"y\": 815.6754094662687, \"x\": 927.603192929412, \"border_width\": 0, \"id\": \"BIRC5\"}, {\"node_shape\": \"circle\", \"degree\": 3.0, \"title\": \"SOX9\", \"color\": \"rgba(0, 0, 256, 1.0)\", \"size_field\": 17.472254861827405, \"y\": 634.4513315816776, \"x\": 1500.0, \"border_width\": 2, \"id\": \"SOX9\"}, {\"node_shape\": \"circle\", \"degree\": 3.0, \"title\": \"EGF\", \"color\": \"rgba(0, 0, 256, 1.0)\", \"size_field\": 7.233579913228549, \"y\": 347.65849348181786, \"x\": 332.680161706707, \"border_width\": 0, \"id\": \"EGF\"}, {\"node_shape\": \"circle\", \"degree\": 3.0, \"title\": \"SOX4\", \"color\": \"rgba(160, 160, 256, 1.0)\", \"size_field\": 7.095383336795881, \"y\": 58.188621514168794, \"x\": 1055.3297857099749, \"border_width\": 0, \"id\": \"SOX4\"}, {\"node_shape\": \"circle\", \"degree\": 3.0, \"title\": \"CEBPB\", \"color\": \"rgba(0, 0, 256, 1.0)\", \"size_field\": 12.668518211585257, \"y\": 0.0, \"x\": 739.3322416157228, \"border_width\": 2, \"id\": \"CEBPB\"}, {\"node_shape\": \"circle\", \"degree\": 3.0, \"title\": \"NANOG\", \"color\": \"rgba(0, 0, 256, 1.0)\", \"size_field\": 7.233579913228549, \"y\": 178.99819081672584, \"x\": 246.1216193550472, \"border_width\": 0, \"id\": \"NANOG\"}, {\"node_shape\": \"circle\", \"degree\": 3.0, \"title\": \"CEBPD\", \"color\": \"rgba(0, 0, 256, 1.0)\", \"size_field\": 4.948123107528526, \"y\": 374.59910907746644, \"x\": 174.38827485721671, \"border_width\": 0, \"id\": \"CEBPD\"}, {\"node_shape\": \"circle\", \"degree\": 3.0, \"title\": \"FYN\", \"color\": \"rgba(0, 0, 256, 1.0)\", \"size_field\": 2.167442616450891, \"y\": 317.3324914489032, \"x\": 1219.0603823048214, \"border_width\": 0, \"id\": \"FYN\"}, {\"node_shape\": \"star\", \"degree\": 3.0, \"title\": \"KLF5\", \"color\": \"rgba(0, 0, 256, 1.0)\", \"size_field\": 12.472254861827405, \"y\": 426.7012359195122, \"x\": 750.9020200898912, \"border_width\": 2, \"id\": \"KLF5\"}, {\"node_shape\": \"circle\", \"degree\": 3.0, \"title\": \"CDH1\", \"color\": \"rgba(0, 0, 256, 1.0)\", \"size_field\": 7.233579913228549, \"y\": 448.7743731606053, \"x\": 985.519481904925, \"border_width\": 0, \"id\": \"CDH1\"}, {\"node_shape\": \"circle\", \"degree\": 3.0, \"title\": \"MYC\", \"color\": \"rgba(0, 0, 256, 1.0)\", \"size_field\": 7.7638573135398, \"y\": 742.697571487497, \"x\": 343.16239950800934, \"border_width\": 2, \"id\": \"MYC\"}, {\"node_shape\": \"circle\", \"degree\": 3.0, \"title\": \"DUSP1\", \"color\": \"rgba(0, 0, 256, 1.0)\", \"size_field\": 12.054375875291882, \"y\": 1211.9367079203903, \"x\": 828.3578504186463, \"border_width\": 2, \"id\": \"DUSP1\"}, {\"node_shape\": \"circle\", \"degree\": 3.0, \"title\": \"PDGFA\", \"color\": \"rgba(0, 0, 256, 1.0)\", \"size_field\": 2.003322162552698, \"y\": 1103.9412739435427, \"x\": 269.2895834093844, \"border_width\": 0, \"id\": \"PDGFA\"}, {\"node_shape\": \"circle\", \"degree\": 3.0, \"title\": \"PDGFB\", \"color\": \"rgba(0, 0, 256, 1.0)\", \"size_field\": 7.233579913228549, \"y\": 144.76621873822486, \"x\": 1179.8320091348019, \"border_width\": 0, \"id\": \"PDGFB\"}, {\"node_shape\": \"circle\", \"degree\": 3.0, \"title\": \"IGF1\", \"color\": \"rgba(256, 64, 64, 1.0)\", \"size_field\": 5.270916525524362, \"y\": 771.8099605211751, \"x\": 787.2721537068697, \"border_width\": 2, \"id\": \"IGF1\"}, {\"node_shape\": \"circle\", \"degree\": 3.0, \"title\": \"FOXD3\", \"color\": \"rgba(0, 0, 256, 1.0)\", \"size_field\": 7.233579913228549, \"y\": 71.4469100939634, \"x\": 367.85060010819393, \"border_width\": 0, \"id\": \"FOXD3\"}, {\"node_shape\": \"circle\", \"degree\": 3.0, \"title\": \"PPARG\", \"color\": \"rgba(0, 0, 256, 1.0)\", \"size_field\": 7.233579913228549, \"y\": 33.23495775406898, \"x\": 528.766119884882, \"border_width\": 0, \"id\": \"PPARG\"}, {\"node_shape\": \"circle\", \"degree\": 3.0, \"title\": \"PPARA\", \"color\": \"rgba(0, 0, 256, 1.0)\", \"size_field\": 2.299240310681016, \"y\": 1092.1000193858572, \"x\": 514.5832107741568, \"border_width\": 0, \"id\": \"PPARA\"}, {\"node_shape\": \"circle\", \"degree\": 3.0, \"title\": \"STAT3\", \"color\": \"rgba(0, 0, 256, 1.0)\", \"size_field\": 4.514757305414338, \"y\": 246.37416376089064, \"x\": 548.0773364380851, \"border_width\": 0, \"id\": \"STAT3\"}, {\"node_shape\": \"circle\", \"degree\": 3.0, \"title\": \"FGF2\", \"color\": \"rgba(0, 0, 256, 1.0)\", \"size_field\": 2.2782729567070286, \"y\": 594.1401908767352, \"x\": 875.869992979848, \"border_width\": 0, \"id\": \"FGF2\"}, {\"node_shape\": \"circle\", \"degree\": 3.0, \"title\": \"CCND1\", \"color\": \"rgba(256, 0, 0, 1.0)\", \"size_field\": 14.239595949266329, \"y\": 547.8614787232234, \"x\": 300.75342112279526, \"border_width\": 2, \"id\": \"CCND1\"}, {\"node_shape\": \"circle\", \"degree\": 3.0, \"title\": \"RUNX2\", \"color\": \"rgba(0, 0, 256, 1.0)\", \"size_field\": 2.086527380462619, \"y\": 868.614934115026, \"x\": 1412.4672485740248, \"border_width\": 0, \"id\": \"RUNX2\"}, {\"node_shape\": \"circle\", \"degree\": 3.0, \"title\": \"WWOX\", \"color\": \"rgba(0, 0, 256, 1.0)\", \"size_field\": 3.618213084131578, \"y\": 5.149410720690912, \"x\": 947.2584032704804, \"border_width\": 0, \"id\": \"WWOX\"}, {\"node_shape\": \"circle\", \"degree\": 3.0, \"title\": \"LPAR3\", \"color\": \"rgba(0, 0, 256, 1.0)\", \"size_field\": 7.233579913228549, \"y\": 751.8267684479615, \"x\": 0.0, \"border_width\": 0, \"id\": \"LPAR3\"}], [{\"color\": \"blue\", \"source\": 1, \"target\": 9}, {\"color\": \"blue\", \"source\": 1, \"target\": 21}, {\"color\": \"blue\", \"source\": 1, \"target\": 8}, {\"color\": \"red\", \"source\": 1, \"target\": 14}, {\"color\": \"red\", \"source\": 1, \"target\": 19}, {\"color\": \"red\", \"source\": 3, \"target\": 8}, {\"color\": \"red\", \"source\": 3, \"target\": 18}, {\"color\": \"red\", \"source\": 4, \"target\": 16}, {\"color\": \"red\", \"source\": 4, \"target\": 8}, {\"color\": \"red\", \"source\": 4, \"target\": 18}, {\"color\": \"red\", \"source\": 5, \"target\": 8}, {\"color\": \"blue\", \"source\": 5, \"target\": 18}, {\"color\": \"red\", \"source\": 5, \"target\": 15}, {\"color\": \"red\", \"source\": 5, \"target\": 15}, {\"color\": \"red\", \"source\": 5, \"target\": 19}, {\"color\": \"red\", \"source\": 6, \"target\": 16}, {\"color\": \"red\", \"source\": 6, \"target\": 8}, {\"color\": \"red\", \"source\": 6, \"target\": 14}, {\"color\": \"red\", \"source\": 6, \"target\": 18}, {\"color\": \"blue\", \"source\": 6, \"target\": 10}, {\"color\": \"red\", \"source\": 8, \"target\": 0}, {\"color\": \"blue\", \"source\": 8, \"target\": 1}, {\"color\": \"red\", \"source\": 8, \"target\": 2}, {\"color\": \"red\", \"source\": 8, \"target\": 3}, {\"color\": \"red\", \"source\": 8, \"target\": 4}, {\"color\": \"red\", \"source\": 8, \"target\": 5}, {\"color\": \"red\", \"source\": 8, \"target\": 6}, {\"color\": \"red\", \"source\": 8, \"target\": 7}, {\"color\": \"red\", \"source\": 8, \"target\": 9}, {\"color\": \"red\", \"source\": 8, \"target\": 10}, {\"color\": \"red\", \"source\": 8, \"target\": 11}, {\"color\": \"red\", \"source\": 8, \"target\": 12}, {\"color\": \"red\", \"source\": 8, \"target\": 13}, {\"color\": \"red\", \"source\": 8, \"target\": 14}, {\"color\": \"blue\", \"source\": 8, \"target\": 15}, {\"color\": \"red\", \"source\": 8, \"target\": 16}, {\"color\": \"red\", \"source\": 8, \"target\": 17}, {\"color\": \"red\", \"source\": 8, \"target\": 18}, {\"color\": \"red\", \"source\": 8, \"target\": 19}, {\"color\": \"red\", \"source\": 8, \"target\": 20}, {\"color\": \"red\", \"source\": 8, \"target\": 21}, {\"color\": \"blue\", \"source\": 8, \"target\": 22}, {\"color\": \"red\", \"source\": 8, \"target\": 23}, {\"color\": \"red\", \"source\": 10, \"target\": 14}, {\"color\": \"red\", \"source\": 10, \"target\": 14}, {\"color\": \"red\", \"source\": 10, \"target\": 18}, {\"color\": \"blue\", \"source\": 10, \"target\": 6}, {\"color\": \"red\", \"source\": 10, \"target\": 20}, {\"color\": \"red\", \"source\": 10, \"target\": 0}, {\"color\": \"blue\", \"source\": 10, \"target\": 19}, {\"color\": \"red\", \"source\": 10, \"target\": 8}, {\"color\": \"blue\", \"source\": 10, \"target\": 17}, {\"color\": \"blue\", \"source\": 10, \"target\": 9}, {\"color\": \"red\", \"source\": 10, \"target\": 2}, {\"color\": \"blue\", \"source\": 15, \"target\": 8}, {\"color\": \"red\", \"source\": 15, \"target\": 5}, {\"color\": \"red\", \"source\": 15, \"target\": 5}, {\"color\": \"red\", \"source\": 16, \"target\": 4}, {\"color\": \"red\", \"source\": 16, \"target\": 8}, {\"color\": \"blue\", \"source\": 16, \"target\": 2}, {\"color\": \"red\", \"source\": 16, \"target\": 6}, {\"color\": \"blue\", \"source\": 17, \"target\": 10}, {\"color\": \"blue\", \"source\": 17, \"target\": 11}, {\"color\": \"red\", \"source\": 17, \"target\": 8}, {\"color\": \"red\", \"source\": 18, \"target\": 4}, {\"color\": \"red\", \"source\": 18, \"target\": 13}, {\"color\": \"blue\", \"source\": 18, \"target\": 5}, {\"color\": \"red\", \"source\": 18, \"target\": 6}, {\"color\": \"blue\", \"source\": 18, \"target\": 20}, {\"color\": \"blue\", \"source\": 18, \"target\": 20}, {\"color\": \"blue\", \"source\": 18, \"target\": 0}, {\"color\": \"red\", \"source\": 18, \"target\": 7}, {\"color\": \"red\", \"source\": 18, \"target\": 19}, {\"color\": \"red\", \"source\": 18, \"target\": 8}, {\"color\": \"blue\", \"source\": 18, \"target\": 9}, {\"color\": \"red\", \"source\": 18, \"target\": 10}, {\"color\": \"red\", \"source\": 18, \"target\": 2}, {\"color\": \"red\", \"source\": 18, \"target\": 3}, {\"color\": \"red\", \"source\": 21, \"target\": 0}, {\"color\": \"blue\", \"source\": 21, \"target\": 1}, {\"color\": \"red\", \"source\": 21, \"target\": 8}, {\"color\": \"red\", \"source\": 21, \"target\": 14}, {\"color\": \"blue\", \"source\": 21, \"target\": 19}, {\"color\": \"red\", \"source\": 22, \"target\": 9}, {\"color\": \"blue\", \"source\": 22, \"target\": 8}]);}</script><iframe name=\"style_file2\" src=\"style_file2.html\" width=\"100%;\" height=\"805px\"></iframe></body></html>"
      ],
      "text/plain": [
       "<IPython.core.display.HTML object>"
      ]
     },
     "execution_count": 18,
     "metadata": {},
     "output_type": "execute_result"
    }
   ],
   "source": [
    "reload(Upstream)\n",
    "ura.vis_tf_network('KLF5',\n",
    "              directed_edges = False,\n",
    "              node_spacing = 1500,\n",
    "              color_non_DEGs = True,\n",
    "              graph_id = 2,\n",
    "              tf_size_amplifier = -5) "
   ]
  },
  {
   "cell_type": "code",
   "execution_count": 14,
   "metadata": {},
   "outputs": [
    {
     "data": {
      "text/html": [
       "<!doctype html><html><head>  <title>Network | Basic usage</title></head><body><script type=\"text/javascript\">function setUpFrame() {     var frame = window.frames[\"style_file1\"];    frame.runVis([{\"node_shape\": \"circle\", \"degree\": 3.0, \"title\": \"BCL2L1\", \"color\": \"grey\", \"size_field\": 2.430987093907155, \"y\": 581.8042277442805, \"x\": 1524.6481142981447, \"border_width\": 0, \"id\": \"BCL2L1\"}, {\"node_shape\": \"circle\", \"degree\": 3.0, \"title\": \"HAMP\", \"color\": \"grey\", \"size_field\": 5.088935797617125, \"y\": 804.7228648157305, \"x\": 1829.252641967999, \"border_width\": 0, \"id\": \"HAMP\"}, {\"node_shape\": \"circle\", \"degree\": 3.0, \"title\": \"TBX21\", \"color\": \"grey\", \"size_field\": 5.088935797617125, \"y\": 473.83827298050477, \"x\": 1563.007298117875, \"border_width\": 0, \"id\": \"TBX21\"}, {\"node_shape\": \"circle\", \"degree\": 3.0, \"title\": \"IL6ST\", \"color\": \"grey\", \"size_field\": 4.588200278750872, \"y\": 1504.6624062880073, \"x\": 550.3114088616054, \"border_width\": 0, \"id\": \"IL6ST\"}, {\"node_shape\": \"circle\", \"degree\": 3.0, \"title\": \"IFNAR2\", \"color\": \"grey\", \"size_field\": 6.350647766692723, \"y\": 691.2670301353393, \"x\": 1397.6555679200171, \"border_width\": 0, \"id\": \"IFNAR2\"}, {\"node_shape\": \"circle\", \"degree\": 3.0, \"title\": \"EPO\", \"color\": \"grey\", \"size_field\": 5.088935797617125, \"y\": 433.8681610766228, \"x\": 1218.0242863303124, \"border_width\": 0, \"id\": \"EPO\"}, {\"node_shape\": \"circle\", \"degree\": 3.0, \"title\": \"IL22\", \"color\": \"grey\", \"size_field\": 5.088935797617125, \"y\": 1493.9571297150237, \"x\": 1263.3812799431748, \"border_width\": 0, \"id\": \"IL22\"}, {\"node_shape\": \"circle\", \"degree\": 3.0, \"title\": \"IL27\", \"color\": \"grey\", \"size_field\": 2.3561526931617913, \"y\": 187.23773801105276, \"x\": 1259.6163079110452, \"border_width\": 0, \"id\": \"IL27\"}, {\"node_shape\": \"circle\", \"degree\": 3.0, \"title\": \"TYK2\", \"color\": \"grey\", \"size_field\": 2.907442950118574, \"y\": 683.5478387701105, \"x\": 936.8824516962605, \"border_width\": 0, \"id\": \"TYK2\"}, {\"node_shape\": \"circle\", \"degree\": 3.0, \"title\": \"EGF\", \"color\": \"grey\", \"size_field\": 5.088935797617125, \"y\": 670.850625174442, \"x\": 1129.5238959264952, \"border_width\": 0, \"id\": \"EGF\"}, {\"node_shape\": \"circle\", \"degree\": 3.0, \"title\": \"IL12RB1\", \"color\": \"grey\", \"size_field\": 5.088935797617125, \"y\": 441.23562748448535, \"x\": 1366.402633372898, \"border_width\": 0, \"id\": \"IL12RB1\"}, {\"node_shape\": \"circle\", \"degree\": 3.0, \"title\": \"ZNF148\", \"color\": \"grey\", \"size_field\": 2.9042969058500487, \"y\": 0.0, \"x\": 1020.881311732985, \"border_width\": 0, \"id\": \"ZNF148\"}, {\"node_shape\": \"circle\", \"degree\": 3.0, \"title\": \"IL12RB2\", \"color\": \"grey\", \"size_field\": 3.1954248627529185, \"y\": 753.9766600046187, \"x\": 1723.6405568184184, \"border_width\": 0, \"id\": \"IL12RB2\"}, {\"node_shape\": \"circle\", \"degree\": 3.0, \"title\": \"FADD\", \"color\": \"grey\", \"size_field\": 10.283927757244037, \"y\": 123.45842816422511, \"x\": 1456.3893196924168, \"border_width\": 0, \"id\": \"FADD\"}, {\"node_shape\": \"circle\", \"degree\": 3.0, \"title\": \"LYN\", \"color\": \"grey\", \"size_field\": 2.8279799824091345, \"y\": 1044.6774726427498, \"x\": 1523.0247534321077, \"border_width\": 0, \"id\": \"LYN\"}, {\"node_shape\": \"circle\", \"degree\": 3.0, \"title\": \"IFNG\", \"color\": \"grey\", \"size_field\": 5.088935797617125, \"y\": 723.3000003828666, \"x\": 1480.9725196813217, \"border_width\": 0, \"id\": \"IFNG\"}, {\"node_shape\": \"circle\", \"degree\": 3.0, \"title\": \"CAMK2G\", \"color\": \"grey\", \"size_field\": 2.615623561242911, \"y\": 885.6024165822905, \"x\": 1166.8354568862217, \"border_width\": 0, \"id\": \"CAMK2G\"}, {\"node_shape\": \"circle\", \"degree\": 3.0, \"title\": \"CAMK2A\", \"color\": \"grey\", \"size_field\": 5.088935797617125, \"y\": 634.2573302328763, \"x\": 884.4921694886083, \"border_width\": 0, \"id\": \"CAMK2A\"}, {\"node_shape\": \"circle\", \"degree\": 3.0, \"title\": \"IFI30\", \"color\": \"rgba(202, 202, 256, 1.0)\", \"size_field\": 5.322711481510136, \"y\": 1347.4935867248314, \"x\": 1623.3534477864234, \"border_width\": 2, \"id\": \"IFI30\"}, {\"node_shape\": \"circle\", \"degree\": 3.0, \"title\": \"SP7\", \"color\": \"grey\", \"size_field\": 4.091681605587128, \"y\": 246.6000655868911, \"x\": 1461.2828893613344, \"border_width\": 0, \"id\": \"SP7\"}, {\"node_shape\": \"circle\", \"degree\": 3.0, \"title\": \"CXCL12\", \"color\": \"grey\", \"size_field\": 4.332982512941924, \"y\": 194.4067055557544, \"x\": 847.0840848719782, \"border_width\": 0, \"id\": \"CXCL12\"}, {\"node_shape\": \"circle\", \"degree\": 3.0, \"title\": \"GATA3\", \"color\": \"grey\", \"size_field\": 5.088935797617125, \"y\": 383.546166806333, \"x\": 1460.2634518397463, \"border_width\": 0, \"id\": \"GATA3\"}, {\"node_shape\": \"circle\", \"degree\": 3.0, \"title\": \"SOCS5\", \"color\": \"grey\", \"size_field\": 2.282668638107833, \"y\": 1103.1043266796805, \"x\": 326.33878807735965, \"border_width\": 0, \"id\": \"SOCS5\"}, {\"node_shape\": \"circle\", \"degree\": 3.0, \"title\": \"SOCS4\", \"color\": \"grey\", \"size_field\": 5.9091609480237395, \"y\": 629.7693466526913, \"x\": 324.17885343528246, \"border_width\": 0, \"id\": \"SOCS4\"}, {\"node_shape\": \"circle\", \"degree\": 3.0, \"title\": \"XAF1\", \"color\": \"grey\", \"size_field\": 2.1223772025174172, \"y\": 249.6871908344936, \"x\": 784.7262392115327, \"border_width\": 0, \"id\": \"XAF1\"}, {\"node_shape\": \"circle\", \"degree\": 3.0, \"title\": \"SOCS6\", \"color\": \"grey\", \"size_field\": 6.011356430648988, \"y\": 1153.9227835549018, \"x\": 1318.464159092149, \"border_width\": 0, \"id\": \"SOCS6\"}, {\"node_shape\": \"circle\", \"degree\": 3.0, \"title\": \"SOCS1\", \"color\": \"grey\", \"size_field\": 5.088935797617125, \"y\": 990.9411070160672, \"x\": 1288.5906650589563, \"border_width\": 0, \"id\": \"SOCS1\"}, {\"node_shape\": \"circle\", \"degree\": 3.0, \"title\": \"SOCS3\", \"color\": \"rgba(0, 0, 256, 1.0)\", \"size_field\": 6.531631665424094, \"y\": 929.9160874710306, \"x\": 1442.5105924881557, \"border_width\": 2, \"id\": \"SOCS3\"}, {\"node_shape\": \"circle\", \"degree\": 3.0, \"title\": \"SOCS2\", \"color\": \"grey\", \"size_field\": 5.482242227732794, \"y\": 1103.5290489311253, \"x\": 553.0808360506708, \"border_width\": 0, \"id\": \"SOCS2\"}, {\"node_shape\": \"circle\", \"degree\": 3.0, \"title\": \"EIF2A\", \"color\": \"grey\", \"size_field\": 3.5122330695142114, \"y\": 1369.8390045339745, \"x\": 1215.267190688593, \"border_width\": 0, \"id\": \"EIF2A\"}, {\"node_shape\": \"circle\", \"degree\": 3.0, \"title\": \"KIT\", \"color\": \"rgba(0, 0, 256, 1.0)\", \"size_field\": 12.2067555977314, \"y\": 1171.4370673211588, \"x\": 840.4795321397818, \"border_width\": 2, \"id\": \"KIT\"}, {\"node_shape\": \"circle\", \"degree\": 3.0, \"title\": \"IFNAR1\", \"color\": \"grey\", \"size_field\": 2.0916205340358873, \"y\": 397.3111208797119, \"x\": 422.2813741435844, \"border_width\": 0, \"id\": \"IFNAR1\"}, {\"node_shape\": \"circle\", \"degree\": 3.0, \"title\": \"CYLD\", \"color\": \"grey\", \"size_field\": 3.365882014966637, \"y\": 149.89205537105428, \"x\": 1568.5100590806423, \"border_width\": 0, \"id\": \"CYLD\"}, {\"node_shape\": \"circle\", \"degree\": 3.0, \"title\": \"CSF2RB\", \"color\": \"grey\", \"size_field\": 5.088935797617125, \"y\": 1454.7761554760975, \"x\": 617.7345496117136, \"border_width\": 0, \"id\": \"CSF2RB\"}, {\"node_shape\": \"circle\", \"degree\": 3.0, \"title\": \"TNFSF10\", \"color\": \"grey\", \"size_field\": 4.8971937036565105, \"y\": 1048.6811967080862, \"x\": 1124.4740855023736, \"border_width\": 0, \"id\": \"TNFSF10\"}, {\"node_shape\": \"circle\", \"degree\": 3.0, \"title\": \"MMP10\", \"color\": \"grey\", \"size_field\": 5.088935797617125, \"y\": 824.7189658015959, \"x\": 0.0, \"border_width\": 0, \"id\": \"MMP10\"}, {\"node_shape\": \"circle\", \"degree\": 3.0, \"title\": \"IL10RA\", \"color\": \"grey\", \"size_field\": 5.088935797617125, \"y\": 1633.609957560412, \"x\": 607.5519159770606, \"border_width\": 0, \"id\": \"IL10RA\"}, {\"node_shape\": \"circle\", \"degree\": 3.0, \"title\": \"ALB\", \"color\": \"grey\", \"size_field\": 5.088935797617125, \"y\": 302.6896392497422, \"x\": 624.4802159526611, \"border_width\": 0, \"id\": \"ALB\"}, {\"node_shape\": \"circle\", \"degree\": 3.0, \"title\": \"CCR7\", \"color\": \"grey\", \"size_field\": 5.088935797617125, \"y\": 1264.2815525529193, \"x\": 1798.6195396729836, \"border_width\": 0, \"id\": \"CCR7\"}, {\"node_shape\": \"circle\", \"degree\": 3.0, \"title\": \"TRAF2\", \"color\": \"grey\", \"size_field\": 2.3000659538481774, \"y\": 82.9260261994224, \"x\": 1024.0495203128846, \"border_width\": 0, \"id\": \"TRAF2\"}, {\"node_shape\": \"circle\", \"degree\": 3.0, \"title\": \"CSF2\", \"color\": \"grey\", \"size_field\": 5.088935797617125, \"y\": 540.5089570456485, \"x\": 1010.462319963813, \"border_width\": 0, \"id\": \"CSF2\"}, {\"node_shape\": \"circle\", \"degree\": 3.0, \"title\": \"IFNGR2\", \"color\": \"grey\", \"size_field\": 3.3707608578707697, \"y\": 1411.350198857401, \"x\": 1129.2850177530254, \"border_width\": 0, \"id\": \"IFNGR2\"}, {\"node_shape\": \"circle\", \"degree\": 3.0, \"title\": \"PIAS2\", \"color\": \"grey\", \"size_field\": 3.854600115400334, \"y\": 1080.2618213829724, \"x\": 1814.2103993710894, \"border_width\": 0, \"id\": \"PIAS2\"}, {\"node_shape\": \"circle\", \"degree\": 3.0, \"title\": \"DMBT1\", \"color\": \"rgba(256, 12, 12, 1.0)\", \"size_field\": 14.186571411719306, \"y\": 488.5645719714313, \"x\": 106.05919937465428, \"border_width\": 2, \"id\": \"DMBT1\"}, {\"node_shape\": \"circle\", \"degree\": 3.0, \"title\": \"JAK2\", \"color\": \"grey\", \"size_field\": 2.1600003188520085, \"y\": 487.3855179889845, \"x\": 983.4282386390627, \"border_width\": 0, \"id\": \"JAK2\"}, {\"node_shape\": \"circle\", \"degree\": 3.0, \"title\": \"JAK3\", \"color\": \"rgba(228, 228, 256, 1.0)\", \"size_field\": 13.769483786243455, \"y\": 537.0724499187742, \"x\": 687.7242201496331, \"border_width\": 2, \"id\": \"JAK3\"}, {\"node_shape\": \"circle\", \"degree\": 3.0, \"title\": \"JAK1\", \"color\": \"grey\", \"size_field\": 4.13557305634912, \"y\": 854.7371613031213, \"x\": 1066.4146699147007, \"border_width\": 0, \"id\": \"JAK1\"}, {\"node_shape\": \"circle\", \"degree\": 3.0, \"title\": \"IL22RA1\", \"color\": \"grey\", \"size_field\": 5.088935797617125, \"y\": 1254.8719830740104, \"x\": 67.61133630155022, \"border_width\": 0, \"id\": \"IL22RA1\"}, {\"node_shape\": \"circle\", \"degree\": 3.0, \"title\": \"FOS\", \"color\": \"rgba(0, 0, 256, 1.0)\", \"size_field\": 9.636661028915066, \"y\": 592.4060821188165, \"x\": 831.9763125852567, \"border_width\": 2, \"id\": \"FOS\"}, {\"node_shape\": \"circle\", \"degree\": 3.0, \"title\": \"IGFBP3\", \"color\": \"rgba(256, 0, 0, 1.0)\", \"size_field\": 11.46529260234245, \"y\": 324.2931068824605, \"x\": 943.3315338140001, \"border_width\": 2, \"id\": \"IGFBP3\"}, {\"node_shape\": \"circle\", \"degree\": 3.0, \"title\": \"VEGFA\", \"color\": \"rgba(0, 0, 256, 1.0)\", \"size_field\": 18.079351742217305, \"y\": 499.3892636250139, \"x\": 1255.1875036767788, \"border_width\": 2, \"id\": \"VEGFA\"}, {\"node_shape\": \"circle\", \"degree\": 3.0, \"title\": \"PTPN2\", \"color\": \"grey\", \"size_field\": 3.658040660156031, \"y\": 814.850690058752, \"x\": 673.188173306409, \"border_width\": 0, \"id\": \"PTPN2\"}, {\"node_shape\": \"circle\", \"degree\": 3.0, \"title\": \"EPOR\", \"color\": \"grey\", \"size_field\": 2.0699590605051577, \"y\": 958.6818164860808, \"x\": 642.3688079867808, \"border_width\": 0, \"id\": \"EPOR\"}, {\"node_shape\": \"circle\", \"degree\": 3.0, \"title\": \"IRF1\", \"color\": \"rgba(0, 0, 256, 1.0)\", \"size_field\": 10.307409228018198, \"y\": 935.6572234484667, \"x\": 1736.5990984358368, \"border_width\": 2, \"id\": \"IRF1\"}, {\"node_shape\": \"circle\", \"degree\": 3.0, \"title\": \"TP53\", \"color\": \"grey\", \"size_field\": 2.1548699347618787, \"y\": 570.1972198767221, \"x\": 1149.3221585020792, \"border_width\": 0, \"id\": \"TP53\"}, {\"node_shape\": \"circle\", \"degree\": 3.0, \"title\": \"TNFRSF1A\", \"color\": \"grey\", \"size_field\": 4.131370142264556, \"y\": 174.2463848660587, \"x\": 1604.858016026079, \"border_width\": 0, \"id\": \"TNFRSF1A\"}, {\"node_shape\": \"circle\", \"degree\": 3.0, \"title\": \"CD274\", \"color\": \"grey\", \"size_field\": 4.9658563661186115, \"y\": 265.8999778356534, \"x\": 213.40883789211523, \"border_width\": 0, \"id\": \"CD274\"}, {\"node_shape\": \"circle\", \"degree\": 3.0, \"title\": \"SDC2\", \"color\": \"grey\", \"size_field\": 3.8478870032643933, \"y\": 655.6625946293976, \"x\": 1628.6224623704438, \"border_width\": 0, \"id\": \"SDC2\"}, {\"node_shape\": \"circle\", \"degree\": 3.0, \"title\": \"IRF8\", \"color\": \"grey\", \"size_field\": 5.088935797617125, \"y\": 369.0360940032287, \"x\": 1512.8162594823607, \"border_width\": 0, \"id\": \"IRF8\"}, {\"node_shape\": \"circle\", \"degree\": 3.0, \"title\": \"LCK\", \"color\": \"grey\", \"size_field\": 5.088935797617125, \"y\": 1401.1524519696893, \"x\": 1341.503685610444, \"border_width\": 0, \"id\": \"LCK\"}, {\"node_shape\": \"circle\", \"degree\": 3.0, \"title\": \"CREBBP\", \"color\": \"grey\", \"size_field\": 3.480574117843834, \"y\": 798.8411092437418, \"x\": 1124.3930968058112, \"border_width\": 0, \"id\": \"CREBBP\"}, {\"node_shape\": \"circle\", \"degree\": 3.0, \"title\": \"PDGFRB\", \"color\": \"grey\", \"size_field\": 2.433056608554594, \"y\": 95.92579226894499, \"x\": 527.0213802574835, \"border_width\": 0, \"id\": \"PDGFRB\"}, {\"node_shape\": \"circle\", \"degree\": 3.0, \"title\": \"SMAD7\", \"color\": \"grey\", \"size_field\": 8.509120729480891, \"y\": 553.0926506452765, \"x\": 427.74711074667744, \"border_width\": 0, \"id\": \"SMAD7\"}, {\"node_shape\": \"circle\", \"degree\": 3.0, \"title\": \"MAPK14\", \"color\": \"grey\", \"size_field\": 2.1816819760842687, \"y\": 564.3887735971158, \"x\": 1334.0175810048033, \"border_width\": 0, \"id\": \"MAPK14\"}, {\"node_shape\": \"circle\", \"degree\": 3.0, \"title\": \"CSF2RA\", \"color\": \"grey\", \"size_field\": 5.088935797617125, \"y\": 1406.8430117973624, \"x\": 770.4049176045755, \"border_width\": 0, \"id\": \"CSF2RA\"}, {\"node_shape\": \"circle\", \"degree\": 3.0, \"title\": \"MAPK11\", \"color\": \"grey\", \"size_field\": 2.5987664645089525, \"y\": 340.3447420368363, \"x\": 786.7109673886124, \"border_width\": 0, \"id\": \"MAPK11\"}, {\"node_shape\": \"circle\", \"degree\": 3.0, \"title\": \"MAPK12\", \"color\": \"grey\", \"size_field\": 2.1419644423541837, \"y\": 898.3687992524767, \"x\": 491.65294727151934, \"border_width\": 0, \"id\": \"MAPK12\"}, {\"node_shape\": \"circle\", \"degree\": 3.0, \"title\": \"ARRB1\", \"color\": \"grey\", \"size_field\": 5.490802346920649, \"y\": 1655.570719546642, \"x\": 953.0444404046799, \"border_width\": 0, \"id\": \"ARRB1\"}, {\"node_shape\": \"circle\", \"degree\": 3.0, \"title\": \"CD86\", \"color\": \"grey\", \"size_field\": 5.088935797617125, \"y\": 1560.512972372974, \"x\": 426.6454668279746, \"border_width\": 0, \"id\": \"CD86\"}, {\"node_shape\": \"star\", \"degree\": 3.0, \"title\": \"STAT1\", \"color\": \"grey\", \"size_field\": 14.21162900062276, \"y\": 802.6004357545614, \"x\": 484.71588782287785, \"border_width\": 0, \"id\": \"STAT1\"}, {\"node_shape\": \"circle\", \"degree\": 3.0, \"title\": \"CIITA\", \"color\": \"grey\", \"size_field\": 5.088935797617125, \"y\": 1128.346039509987, \"x\": 1190.739541874931, \"border_width\": 0, \"id\": \"CIITA\"}, {\"node_shape\": \"circle\", \"degree\": 3.0, \"title\": \"TRADD\", \"color\": \"grey\", \"size_field\": 3.86415840757297, \"y\": 35.41277859419183, \"x\": 821.1981787475604, \"border_width\": 0, \"id\": \"TRADD\"}, {\"node_shape\": \"circle\", \"degree\": 3.0, \"title\": \"IFNB1\", \"color\": \"grey\", \"size_field\": 5.088935797617125, \"y\": 1028.743288818874, \"x\": 1255.5338446360731, \"border_width\": 0, \"id\": \"IFNB1\"}, {\"node_shape\": \"circle\", \"degree\": 3.0, \"title\": \"MAPK3\", \"color\": \"grey\", \"size_field\": 4.008148957337652, \"y\": 863.6919707206605, \"x\": 1820.3132529464767, \"border_width\": 0, \"id\": \"MAPK3\"}, {\"node_shape\": \"circle\", \"degree\": 3.0, \"title\": \"MAPK1\", \"color\": \"grey\", \"size_field\": 3.9605199652336243, \"y\": 811.7879188443386, \"x\": 1369.7681578468175, \"border_width\": 0, \"id\": \"MAPK1\"}, {\"node_shape\": \"circle\", \"degree\": 3.0, \"title\": \"CISH\", \"color\": \"rgba(0, 0, 256, 1.0)\", \"size_field\": 24.21162900062276, \"y\": 946.8234947712745, \"x\": 1592.3538621478124, \"border_width\": 2, \"id\": \"CISH\"}, {\"node_shape\": \"circle\", \"degree\": 3.0, \"title\": \"IL17A\", \"color\": \"grey\", \"size_field\": 5.088935797617125, \"y\": 531.0842859417205, \"x\": 1699.4549534005748, \"border_width\": 0, \"id\": \"IL17A\"}, {\"node_shape\": \"circle\", \"degree\": 3.0, \"title\": \"IL6R\", \"color\": \"rgba(0, 0, 256, 1.0)\", \"size_field\": 10.140876508464517, \"y\": 1374.5898372087674, \"x\": 888.4654535480116, \"border_width\": 2, \"id\": \"IL6R\"}, {\"node_shape\": \"circle\", \"degree\": 3.0, \"title\": \"CCL2\", \"color\": \"grey\", \"size_field\": 2.00132764645493, \"y\": 873.1204341905507, \"x\": 1029.3343727735191, \"border_width\": 0, \"id\": \"CCL2\"}, {\"node_shape\": \"circle\", \"degree\": 3.0, \"title\": \"EP300\", \"color\": \"grey\", \"size_field\": 2.6687184002702002, \"y\": 532.5176560993697, \"x\": 1316.780522258843, \"border_width\": 0, \"id\": \"EP300\"}, {\"node_shape\": \"circle\", \"degree\": 3.0, \"title\": \"IL2RA\", \"color\": \"grey\", \"size_field\": 5.088935797617125, \"y\": 774.5813721547211, \"x\": 1843.1739445611945, \"border_width\": 0, \"id\": \"IL2RA\"}, {\"node_shape\": \"circle\", \"degree\": 3.0, \"title\": \"IL2RB\", \"color\": \"grey\", \"size_field\": 5.088935797617125, \"y\": 249.68307733503744, \"x\": 1171.5779107337842, \"border_width\": 0, \"id\": \"IL2RB\"}, {\"node_shape\": \"circle\", \"degree\": 3.0, \"title\": \"IL2RG\", \"color\": \"grey\", \"size_field\": 5.088935797617125, \"y\": 1478.9893558196281, \"x\": 1059.235111814122, \"border_width\": 0, \"id\": \"IL2RG\"}, {\"node_shape\": \"circle\", \"degree\": 3.0, \"title\": \"IFNA1\", \"color\": \"grey\", \"size_field\": 5.088935797617125, \"y\": 751.3708379373711, \"x\": 1528.0731515696637, \"border_width\": 0, \"id\": \"IFNA1\"}, {\"node_shape\": \"circle\", \"degree\": 3.0, \"title\": \"IL13\", \"color\": \"grey\", \"size_field\": 5.088935797617125, \"y\": 501.4516912425969, \"x\": 1201.1477392726165, \"border_width\": 0, \"id\": \"IL13\"}, {\"node_shape\": \"circle\", \"degree\": 3.0, \"title\": \"LMO4\", \"color\": \"grey\", \"size_field\": 3.9053475585977075, \"y\": 1500.020962156619, \"x\": 767.0949582737658, \"border_width\": 0, \"id\": \"LMO4\"}, {\"node_shape\": \"circle\", \"degree\": 3.0, \"title\": \"IL6\", \"color\": \"grey\", \"size_field\": 4.127660779424653, \"y\": 945.827590290674, \"x\": 1063.5590898370267, \"border_width\": 0, \"id\": \"IL6\"}, {\"node_shape\": \"circle\", \"degree\": 3.0, \"title\": \"PIAS3\", \"color\": \"grey\", \"size_field\": 2.5031221497521208, \"y\": 1190.507447051039, \"x\": 557.7276070266848, \"border_width\": 0, \"id\": \"PIAS3\"}, {\"node_shape\": \"circle\", \"degree\": 3.0, \"title\": \"IL4\", \"color\": \"grey\", \"size_field\": 5.088935797617125, \"y\": 719.5754319347236, \"x\": 1381.2379090614245, \"border_width\": 0, \"id\": \"IL4\"}, {\"node_shape\": \"circle\", \"degree\": 3.0, \"title\": \"PIAS1\", \"color\": \"grey\", \"size_field\": 3.696675347245827, \"y\": 1274.092958908898, \"x\": 510.4889937873076, \"border_width\": 0, \"id\": \"PIAS1\"}, {\"node_shape\": \"circle\", \"degree\": 3.0, \"title\": \"IL2\", \"color\": \"grey\", \"size_field\": 5.088935797617125, \"y\": 678.8281746228471, \"x\": 1830.8633412665356, \"border_width\": 0, \"id\": \"IL2\"}, {\"node_shape\": \"circle\", \"degree\": 3.0, \"title\": \"PIAS4\", \"color\": \"grey\", \"size_field\": 4.604498003522812, \"y\": 1127.874794117498, \"x\": 1598.5713401192318, \"border_width\": 0, \"id\": \"PIAS4\"}, {\"node_shape\": \"circle\", \"degree\": 3.0, \"title\": \"EBI3\", \"color\": \"grey\", \"size_field\": 5.088935797617125, \"y\": 1642.9278499239936, \"x\": 750.55686977907, \"border_width\": 0, \"id\": \"EBI3\"}, {\"node_shape\": \"circle\", \"degree\": 3.0, \"title\": \"IFNGR1\", \"color\": \"grey\", \"size_field\": 2.369786307169507, \"y\": 985.3314143444948, \"x\": 1845.930611750132, \"border_width\": 0, \"id\": \"IFNGR1\"}, {\"node_shape\": \"circle\", \"degree\": 3.0, \"title\": \"IDO1\", \"color\": \"grey\", \"size_field\": 5.088935797617125, \"y\": 1102.3646545494898, \"x\": 102.08526519009756, \"border_width\": 0, \"id\": \"IDO1\"}, {\"node_shape\": \"circle\", \"degree\": 3.0, \"title\": \"IL23A\", \"color\": \"grey\", \"size_field\": 5.088935797617125, \"y\": 1435.9216588199672, \"x\": 438.4692633984847, \"border_width\": 0, \"id\": \"IL23A\"}, {\"node_shape\": \"circle\", \"degree\": 3.0, \"title\": \"EGFR\", \"color\": \"grey\", \"size_field\": 7.8927701194867375, \"y\": 818.143558005839, \"x\": 1208.9709002218463, \"border_width\": 0, \"id\": \"EGFR\"}, {\"node_shape\": \"circle\", \"degree\": 3.0, \"title\": \"IL12B\", \"color\": \"grey\", \"size_field\": 5.088935797617125, \"y\": 607.3857531101307, \"x\": 1619.6495666406288, \"border_width\": 0, \"id\": \"IL12B\"}, {\"node_shape\": \"circle\", \"degree\": 3.0, \"title\": \"IL12A\", \"color\": \"grey\", \"size_field\": 5.088935797617125, \"y\": 350.24393285883934, \"x\": 1113.9940728642616, \"border_width\": 0, \"id\": \"IL12A\"}, {\"node_shape\": \"circle\", \"degree\": 3.0, \"title\": \"IL23R\", \"color\": \"grey\", \"size_field\": 5.088935797617125, \"y\": 1009.6360152420544, \"x\": 1734.4145931333699, \"border_width\": 0, \"id\": \"IL23R\"}, {\"node_shape\": \"circle\", \"degree\": 3.0, \"title\": \"MPL\", \"color\": \"grey\", \"size_field\": 5.088935797617125, \"y\": 1569.3695519730297, \"x\": 1183.9304260459894, \"border_width\": 0, \"id\": \"MPL\"}, {\"node_shape\": \"circle\", \"degree\": 3.0, \"title\": \"FYN\", \"color\": \"grey\", \"size_field\": 2.167442616450891, \"y\": 1046.5546954502627, \"x\": 883.908758763314, \"border_width\": 0, \"id\": \"FYN\"}, {\"node_shape\": \"circle\", \"degree\": 3.0, \"title\": \"THPO\", \"color\": \"grey\", \"size_field\": 5.088935797617125, \"y\": 1544.9338730715688, \"x\": 908.7682889229637, \"border_width\": 0, \"id\": \"THPO\"}, {\"node_shape\": \"circle\", \"degree\": 3.0, \"title\": \"CAMK2D\", \"color\": \"grey\", \"size_field\": 6.128872504049397, \"y\": 881.192683431027, \"x\": 1479.4016560472828, \"border_width\": 0, \"id\": \"CAMK2D\"}, {\"node_shape\": \"circle\", \"degree\": 3.0, \"title\": \"CXCR4\", \"color\": \"grey\", \"size_field\": 5.088935797617125, \"y\": 847.8813256990322, \"x\": 1681.1131734344874, \"border_width\": 0, \"id\": \"CXCR4\"}, {\"node_shape\": \"circle\", \"degree\": 3.0, \"title\": \"PDGFB\", \"color\": \"grey\", \"size_field\": 5.088935797617125, \"y\": 1586.0627766799012, \"x\": 1031.0318070063147, \"border_width\": 0, \"id\": \"PDGFB\"}, {\"node_shape\": \"circle\", \"degree\": 3.0, \"title\": \"PRKCD\", \"color\": \"grey\", \"size_field\": 2.094701759579387, \"y\": 613.6597071492243, \"x\": 1762.5261806238336, \"border_width\": 0, \"id\": \"PRKCD\"}, {\"node_shape\": \"circle\", \"degree\": 3.0, \"title\": \"CAMK2B\", \"color\": \"grey\", \"size_field\": 5.088935797617125, \"y\": 746.3506546980376, \"x\": 1189.819319793378, \"border_width\": 0, \"id\": \"CAMK2B\"}, {\"node_shape\": \"circle\", \"degree\": 3.0, \"title\": \"CASP3\", \"color\": \"grey\", \"size_field\": 2.5142634880697257, \"y\": 268.30775074196464, \"x\": 1702.0215477882216, \"border_width\": 0, \"id\": \"CASP3\"}, {\"node_shape\": \"circle\", \"degree\": 3.0, \"title\": \"CASP1\", \"color\": \"grey\", \"size_field\": 5.088935797617125, \"y\": 442.4176046472831, \"x\": 1609.7336172908203, \"border_width\": 0, \"id\": \"CASP1\"}, {\"node_shape\": \"circle\", \"degree\": 3.0, \"title\": \"IL27RA\", \"color\": \"grey\", \"size_field\": 5.088935797617125, \"y\": 170.27475146258342, \"x\": 1141.5464667874037, \"border_width\": 0, \"id\": \"IL27RA\"}, {\"node_shape\": \"circle\", \"degree\": 3.0, \"title\": \"MAPK13\", \"color\": \"grey\", \"size_field\": 4.340177975302543, \"y\": 412.57924542319813, \"x\": 476.2477864635296, \"border_width\": 0, \"id\": \"MAPK13\"}, {\"node_shape\": \"circle\", \"degree\": 3.0, \"title\": \"BCL2\", \"color\": \"grey\", \"size_field\": 2.1943776429221855, \"y\": 698.8771236312815, \"x\": 2000.0, \"border_width\": 0, \"id\": \"BCL2\"}], [{\"color\": \"red\", \"source\": 2, \"target\": 81}, {\"color\": \"red\", \"source\": 2, \"target\": 12}, {\"color\": \"red\", \"source\": 2, \"target\": 12}, {\"color\": \"blue\", \"source\": 2, \"target\": 76}, {\"color\": \"red\", \"source\": 2, \"target\": 15}, {\"color\": \"red\", \"source\": 2, \"target\": 15}, {\"color\": \"blue\", \"source\": 2, \"target\": 84}, {\"color\": \"red\", \"source\": 2, \"target\": 97}, {\"color\": \"red\", \"source\": 2, \"target\": 98}, {\"color\": \"red\", \"source\": 2, \"target\": 110}, {\"color\": \"red\", \"source\": 2, \"target\": 4}, {\"color\": \"red\", \"source\": 2, \"target\": 10}, {\"color\": \"blue\", \"source\": 2, \"target\": 88}, {\"color\": \"blue\", \"source\": 2, \"target\": 88}, {\"color\": \"blue\", \"source\": 2, \"target\": 27}, {\"color\": \"red\", \"source\": 2, \"target\": 44}, {\"color\": \"blue\", \"source\": 2, \"target\": 99}, {\"color\": \"blue\", \"source\": 2, \"target\": 90}, {\"color\": \"red\", \"source\": 2, \"target\": 8}, {\"color\": \"blue\", \"source\": 2, \"target\": 21}, {\"color\": \"blue\", \"source\": 2, \"target\": 21}, {\"color\": \"red\", \"source\": 19, \"target\": 50}, {\"color\": \"blue\", \"source\": 21, \"target\": 2}, {\"color\": \"blue\", \"source\": 21, \"target\": 2}, {\"color\": \"blue\", \"source\": 21, \"target\": 84}, {\"color\": \"red\", \"source\": 21, \"target\": 63}, {\"color\": \"blue\", \"source\": 21, \"target\": 5}, {\"color\": \"blue\", \"source\": 21, \"target\": 88}, {\"color\": \"blue\", \"source\": 21, \"target\": 88}, {\"color\": \"blue\", \"source\": 21, \"target\": 10}, {\"color\": \"blue\", \"source\": 21, \"target\": 15}, {\"color\": \"red\", \"source\": 21, \"target\": 79}, {\"color\": \"red\", \"source\": 48, \"target\": 0}, {\"color\": \"red\", \"source\": 48, \"target\": 78}, {\"color\": \"red\", \"source\": 48, \"target\": 78}, {\"color\": \"red\", \"source\": 48, \"target\": 34}, {\"color\": \"blue\", \"source\": 48, \"target\": 1}, {\"color\": \"red\", \"source\": 48, \"target\": 62}, {\"color\": \"blue\", \"source\": 48, \"target\": 96}, {\"color\": \"red\", \"source\": 48, \"target\": 97}, {\"color\": \"red\", \"source\": 48, \"target\": 98}, {\"color\": \"red\", \"source\": 48, \"target\": 63}, {\"color\": \"red\", \"source\": 48, \"target\": 63}, {\"color\": \"red\", \"source\": 48, \"target\": 5}, {\"color\": \"red\", \"source\": 48, \"target\": 65}, {\"color\": \"red\", \"source\": 48, \"target\": 66}, {\"color\": \"red\", \"source\": 48, \"target\": 111}, {\"color\": \"red\", \"source\": 48, \"target\": 8}, {\"color\": \"red\", \"source\": 48, \"target\": 9}, {\"color\": \"red\", \"source\": 48, \"target\": 10}, {\"color\": \"red\", \"source\": 48, \"target\": 12}, {\"color\": \"red\", \"source\": 48, \"target\": 101}, {\"color\": \"blue\", \"source\": 48, \"target\": 72}, {\"color\": \"red\", \"source\": 48, \"target\": 73}, {\"color\": \"red\", \"source\": 48, \"target\": 73}, {\"color\": \"red\", \"source\": 48, \"target\": 74}, {\"color\": \"red\", \"source\": 48, \"target\": 74}, {\"color\": \"red\", \"source\": 48, \"target\": 44}, {\"color\": \"blue\", \"source\": 48, \"target\": 46}, {\"color\": \"blue\", \"source\": 48, \"target\": 14}, {\"color\": \"red\", \"source\": 48, \"target\": 15}, {\"color\": \"blue\", \"source\": 48, \"target\": 16}, {\"color\": \"red\", \"source\": 48, \"target\": 80}, {\"color\": \"blue\", \"source\": 48, \"target\": 54}, {\"color\": \"blue\", \"source\": 48, \"target\": 54}, {\"color\": \"red\", \"source\": 48, \"target\": 57}, {\"color\": \"red\", \"source\": 48, \"target\": 84}, {\"color\": \"red\", \"source\": 48, \"target\": 40}, {\"color\": \"red\", \"source\": 48, \"target\": 40}, {\"color\": \"red\", \"source\": 48, \"target\": 86}, {\"color\": \"red\", \"source\": 48, \"target\": 86}, {\"color\": \"red\", \"source\": 48, \"target\": 88}, {\"color\": \"red\", \"source\": 48, \"target\": 88}, {\"color\": \"red\", \"source\": 48, \"target\": 90}, {\"color\": \"red\", \"source\": 48, \"target\": 90}, {\"color\": \"red\", \"source\": 49, \"target\": 54}, {\"color\": \"red\", \"source\": 49, \"target\": 57}, {\"color\": \"red\", \"source\": 49, \"target\": 79}, {\"color\": \"blue\", \"source\": 49, \"target\": 50}, {\"color\": \"blue\", \"source\": 49, \"target\": 50}, {\"color\": \"red\", \"source\": 53, \"target\": 34}, {\"color\": \"red\", \"source\": 53, \"target\": 26}, {\"color\": \"blue\", \"source\": 53, \"target\": 27}, {\"color\": \"red\", \"source\": 53, \"target\": 15}, {\"color\": \"red\", \"source\": 53, \"target\": 70}, {\"color\": \"red\", \"source\": 53, \"target\": 83}, {\"color\": \"red\", \"source\": 53, \"target\": 96}, {\"color\": \"red\", \"source\": 53, \"target\": 72}, {\"color\": \"red\", \"source\": 53, \"target\": 86}, {\"color\": \"blue\", \"source\": 53, \"target\": 88}, {\"color\": \"blue\", \"source\": 53, \"target\": 50}, {\"color\": \"red\", \"source\": 53, \"target\": 79}, {\"color\": \"red\", \"source\": 53, \"target\": 60}, {\"color\": \"red\", \"source\": 54, \"target\": 78}, {\"color\": \"red\", \"source\": 54, \"target\": 1}, {\"color\": \"red\", \"source\": 54, \"target\": 96}, {\"color\": \"red\", \"source\": 54, \"target\": 96}, {\"color\": \"red\", \"source\": 54, \"target\": 63}, {\"color\": \"red\", \"source\": 54, \"target\": 65}, {\"color\": \"blue\", \"source\": 54, \"target\": 20}, {\"color\": \"red\", \"source\": 54, \"target\": 73}, {\"color\": \"red\", \"source\": 54, \"target\": 74}, {\"color\": \"red\", \"source\": 54, \"target\": 75}, {\"color\": \"blue\", \"source\": 54, \"target\": 104}, {\"color\": \"red\", \"source\": 54, \"target\": 76}, {\"color\": \"blue\", \"source\": 54, \"target\": 48}, {\"color\": \"blue\", \"source\": 54, \"target\": 48}, {\"color\": \"red\", \"source\": 54, \"target\": 106}, {\"color\": \"red\", \"source\": 54, \"target\": 49}, {\"color\": \"blue\", \"source\": 54, \"target\": 50}, {\"color\": \"blue\", \"source\": 54, \"target\": 79}, {\"color\": \"blue\", \"source\": 54, \"target\": 79}, {\"color\": \"blue\", \"source\": 54, \"target\": 79}, {\"color\": \"blue\", \"source\": 54, \"target\": 24}, {\"color\": \"red\", \"source\": 54, \"target\": 109}, {\"color\": \"blue\", \"source\": 54, \"target\": 58}, {\"color\": \"red\", \"source\": 54, \"target\": 37}, {\"color\": \"blue\", \"source\": 54, \"target\": 86}, {\"color\": \"blue\", \"source\": 54, \"target\": 86}, {\"color\": \"red\", \"source\": 54, \"target\": 88}, {\"color\": \"blue\", \"source\": 54, \"target\": 90}, {\"color\": \"blue\", \"source\": 54, \"target\": 60}, {\"color\": \"blue\", \"source\": 54, \"target\": 60}, {\"color\": \"blue\", \"source\": 54, \"target\": 60}, {\"color\": \"blue\", \"source\": 54, \"target\": 112}, {\"color\": \"blue\", \"source\": 54, \"target\": 112}, {\"color\": \"blue\", \"source\": 54, \"target\": 112}, {\"color\": \"blue\", \"source\": 58, \"target\": 0}, {\"color\": \"blue\", \"source\": 58, \"target\": 54}, {\"color\": \"red\", \"source\": 58, \"target\": 108}, {\"color\": \"red\", \"source\": 58, \"target\": 15}, {\"color\": \"red\", \"source\": 58, \"target\": 83}, {\"color\": \"blue\", \"source\": 58, \"target\": 40}, {\"color\": \"red\", \"source\": 58, \"target\": 7}, {\"color\": \"red\", \"source\": 58, \"target\": 7}, {\"color\": \"blue\", \"source\": 58, \"target\": 46}, {\"color\": \"red\", \"source\": 60, \"target\": 52}, {\"color\": \"red\", \"source\": 60, \"target\": 80}, {\"color\": \"red\", \"source\": 60, \"target\": 53}, {\"color\": \"blue\", \"source\": 60, \"target\": 54}, {\"color\": \"blue\", \"source\": 60, \"target\": 54}, {\"color\": \"blue\", \"source\": 60, \"target\": 54}, {\"color\": \"red\", \"source\": 60, \"target\": 103}, {\"color\": \"red\", \"source\": 60, \"target\": 16}, {\"color\": \"red\", \"source\": 60, \"target\": 17}, {\"color\": \"blue\", \"source\": 60, \"target\": 40}, {\"color\": \"red\", \"source\": 60, \"target\": 30}, {\"color\": \"red\", \"source\": 60, \"target\": 63}, {\"color\": \"red\", \"source\": 60, \"target\": 5}, {\"color\": \"red\", \"source\": 60, \"target\": 50}, {\"color\": \"red\", \"source\": 60, \"target\": 107}, {\"color\": \"red\", \"source\": 60, \"target\": 72}, {\"color\": \"red\", \"source\": 60, \"target\": 112}, {\"color\": \"blue\", \"source\": 62, \"target\": 1}, {\"color\": \"red\", \"source\": 62, \"target\": 48}, {\"color\": \"red\", \"source\": 62, \"target\": 40}, {\"color\": \"blue\", \"source\": 62, \"target\": 74}, {\"color\": \"red\", \"source\": 62, \"target\": 9}, {\"color\": \"red\", \"source\": 69, \"target\": 0}, {\"color\": \"red\", \"source\": 69, \"target\": 1}, {\"color\": \"red\", \"source\": 69, \"target\": 2}, {\"color\": \"blue\", \"source\": 69, \"target\": 3}, {\"color\": \"red\", \"source\": 69, \"target\": 4}, {\"color\": \"red\", \"source\": 69, \"target\": 4}, {\"color\": \"red\", \"source\": 69, \"target\": 5}, {\"color\": \"red\", \"source\": 69, \"target\": 6}, {\"color\": \"red\", \"source\": 69, \"target\": 7}, {\"color\": \"red\", \"source\": 69, \"target\": 8}, {\"color\": \"red\", \"source\": 69, \"target\": 8}, {\"color\": \"red\", \"source\": 69, \"target\": 9}, {\"color\": \"red\", \"source\": 69, \"target\": 10}, {\"color\": \"blue\", \"source\": 69, \"target\": 11}, {\"color\": \"red\", \"source\": 69, \"target\": 12}, {\"color\": \"red\", \"source\": 69, \"target\": 12}, {\"color\": \"red\", \"source\": 69, \"target\": 13}, {\"color\": \"red\", \"source\": 69, \"target\": 14}, {\"color\": \"red\", \"source\": 69, \"target\": 15}, {\"color\": \"red\", \"source\": 69, \"target\": 16}, {\"color\": \"red\", \"source\": 69, \"target\": 16}, {\"color\": \"red\", \"source\": 69, \"target\": 17}, {\"color\": \"red\", \"source\": 69, \"target\": 17}, {\"color\": \"blue\", \"source\": 69, \"target\": 18}, {\"color\": \"blue\", \"source\": 69, \"target\": 19}, {\"color\": \"red\", \"source\": 69, \"target\": 20}, {\"color\": \"blue\", \"source\": 69, \"target\": 21}, {\"color\": \"blue\", \"source\": 69, \"target\": 22}, {\"color\": \"blue\", \"source\": 69, \"target\": 22}, {\"color\": \"blue\", \"source\": 69, \"target\": 23}, {\"color\": \"blue\", \"source\": 69, \"target\": 23}, {\"color\": \"red\", \"source\": 69, \"target\": 24}, {\"color\": \"blue\", \"source\": 69, \"target\": 25}, {\"color\": \"blue\", \"source\": 69, \"target\": 25}, {\"color\": \"blue\", \"source\": 69, \"target\": 26}, {\"color\": \"blue\", \"source\": 69, \"target\": 26}, {\"color\": \"blue\", \"source\": 69, \"target\": 26}, {\"color\": \"blue\", \"source\": 69, \"target\": 27}, {\"color\": \"blue\", \"source\": 69, \"target\": 27}, {\"color\": \"blue\", \"source\": 69, \"target\": 27}, {\"color\": \"blue\", \"source\": 69, \"target\": 28}, {\"color\": \"blue\", \"source\": 69, \"target\": 28}, {\"color\": \"red\", \"source\": 69, \"target\": 29}, {\"color\": \"red\", \"source\": 69, \"target\": 30}, {\"color\": \"red\", \"source\": 69, \"target\": 31}, {\"color\": \"red\", \"source\": 69, \"target\": 31}, {\"color\": \"blue\", \"source\": 69, \"target\": 32}, {\"color\": \"red\", \"source\": 69, \"target\": 33}, {\"color\": \"blue\", \"source\": 69, \"target\": 34}, {\"color\": \"blue\", \"source\": 69, \"target\": 35}, {\"color\": \"red\", \"source\": 69, \"target\": 36}, {\"color\": \"red\", \"source\": 69, \"target\": 37}, {\"color\": \"red\", \"source\": 69, \"target\": 38}, {\"color\": \"red\", \"source\": 69, \"target\": 39}, {\"color\": \"red\", \"source\": 69, \"target\": 40}, {\"color\": \"red\", \"source\": 69, \"target\": 41}, {\"color\": \"blue\", \"source\": 69, \"target\": 42}, {\"color\": \"blue\", \"source\": 69, \"target\": 42}, {\"color\": \"red\", \"source\": 69, \"target\": 43}, {\"color\": \"red\", \"source\": 69, \"target\": 44}, {\"color\": \"red\", \"source\": 69, \"target\": 44}, {\"color\": \"red\", \"source\": 69, \"target\": 45}, {\"color\": \"red\", \"source\": 69, \"target\": 45}, {\"color\": \"red\", \"source\": 69, \"target\": 46}, {\"color\": \"red\", \"source\": 69, \"target\": 46}, {\"color\": \"red\", \"source\": 69, \"target\": 47}, {\"color\": \"blue\", \"source\": 69, \"target\": 48}, {\"color\": \"red\", \"source\": 69, \"target\": 49}, {\"color\": \"blue\", \"source\": 69, \"target\": 50}, {\"color\": \"blue\", \"source\": 69, \"target\": 51}, {\"color\": \"blue\", \"source\": 69, \"target\": 51}, {\"color\": \"red\", \"source\": 69, \"target\": 52}, {\"color\": \"red\", \"source\": 69, \"target\": 52}, {\"color\": \"blue\", \"source\": 69, \"target\": 53}, {\"color\": \"blue\", \"source\": 69, \"target\": 54}, {\"color\": \"red\", \"source\": 69, \"target\": 55}, {\"color\": \"red\", \"source\": 69, \"target\": 56}, {\"color\": \"red\", \"source\": 69, \"target\": 57}, {\"color\": \"blue\", \"source\": 69, \"target\": 58}, {\"color\": \"red\", \"source\": 69, \"target\": 59}, {\"color\": \"red\", \"source\": 69, \"target\": 60}, {\"color\": \"red\", \"source\": 69, \"target\": 60}, {\"color\": \"red\", \"source\": 69, \"target\": 61}, {\"color\": \"red\", \"source\": 69, \"target\": 62}, {\"color\": \"red\", \"source\": 69, \"target\": 63}, {\"color\": \"red\", \"source\": 69, \"target\": 64}, {\"color\": \"red\", \"source\": 69, \"target\": 65}, {\"color\": \"red\", \"source\": 69, \"target\": 66}, {\"color\": \"blue\", \"source\": 69, \"target\": 67}, {\"color\": \"blue\", \"source\": 69, \"target\": 68}, {\"color\": \"red\", \"source\": 69, \"target\": 70}, {\"color\": \"red\", \"source\": 69, \"target\": 70}, {\"color\": \"red\", \"source\": 69, \"target\": 71}, {\"color\": \"red\", \"source\": 69, \"target\": 72}, {\"color\": \"red\", \"source\": 69, \"target\": 73}, {\"color\": \"red\", \"source\": 69, \"target\": 73}, {\"color\": \"red\", \"source\": 69, \"target\": 74}, {\"color\": \"red\", \"source\": 69, \"target\": 74}, {\"color\": \"red\", \"source\": 69, \"target\": 74}, {\"color\": \"blue\", \"source\": 69, \"target\": 75}, {\"color\": \"blue\", \"source\": 69, \"target\": 75}, {\"color\": \"blue\", \"source\": 69, \"target\": 76}, {\"color\": \"blue\", \"source\": 69, \"target\": 77}, {\"color\": \"blue\", \"source\": 69, \"target\": 78}, {\"color\": \"red\", \"source\": 69, \"target\": 79}, {\"color\": \"red\", \"source\": 69, \"target\": 80}, {\"color\": \"red\", \"source\": 69, \"target\": 81}, {\"color\": \"red\", \"source\": 69, \"target\": 82}, {\"color\": \"red\", \"source\": 69, \"target\": 83}, {\"color\": \"blue\", \"source\": 69, \"target\": 84}, {\"color\": \"blue\", \"source\": 69, \"target\": 85}, {\"color\": \"blue\", \"source\": 69, \"target\": 86}, {\"color\": \"blue\", \"source\": 69, \"target\": 87}, {\"color\": \"blue\", \"source\": 69, \"target\": 87}, {\"color\": \"blue\", \"source\": 69, \"target\": 88}, {\"color\": \"blue\", \"source\": 69, \"target\": 89}, {\"color\": \"blue\", \"source\": 69, \"target\": 89}, {\"color\": \"red\", \"source\": 69, \"target\": 90}, {\"color\": \"blue\", \"source\": 69, \"target\": 91}, {\"color\": \"blue\", \"source\": 69, \"target\": 91}, {\"color\": \"red\", \"source\": 69, \"target\": 92}, {\"color\": \"red\", \"source\": 69, \"target\": 93}, {\"color\": \"red\", \"source\": 69, \"target\": 93}, {\"color\": \"red\", \"source\": 69, \"target\": 94}, {\"color\": \"red\", \"source\": 69, \"target\": 95}, {\"color\": \"red\", \"source\": 69, \"target\": 96}, {\"color\": \"red\", \"source\": 69, \"target\": 97}, {\"color\": \"red\", \"source\": 69, \"target\": 98}, {\"color\": \"red\", \"source\": 69, \"target\": 99}, {\"color\": \"red\", \"source\": 69, \"target\": 100}, {\"color\": \"red\", \"source\": 69, \"target\": 101}, {\"color\": \"red\", \"source\": 69, \"target\": 102}, {\"color\": \"red\", \"source\": 69, \"target\": 103}, {\"color\": \"red\", \"source\": 69, \"target\": 103}, {\"color\": \"red\", \"source\": 69, \"target\": 104}, {\"color\": \"red\", \"source\": 69, \"target\": 105}, {\"color\": \"red\", \"source\": 69, \"target\": 106}, {\"color\": \"red\", \"source\": 69, \"target\": 107}, {\"color\": \"red\", \"source\": 69, \"target\": 107}, {\"color\": \"red\", \"source\": 69, \"target\": 108}, {\"color\": \"red\", \"source\": 69, \"target\": 109}, {\"color\": \"red\", \"source\": 69, \"target\": 110}, {\"color\": \"red\", \"source\": 69, \"target\": 111}, {\"color\": \"red\", \"source\": 69, \"target\": 112}, {\"color\": \"blue\", \"source\": 70, \"target\": 15}, {\"color\": \"red\", \"source\": 70, \"target\": 53}, {\"color\": \"blue\", \"source\": 70, \"target\": 26}, {\"color\": \"blue\", \"source\": 70, \"target\": 88}, {\"color\": \"red\", \"source\": 71, \"target\": 39}, {\"color\": \"red\", \"source\": 71, \"target\": 39}, {\"color\": \"red\", \"source\": 71, \"target\": 108}, {\"color\": \"red\", \"source\": 71, \"target\": 55}, {\"color\": \"red\", \"source\": 71, \"target\": 55}, {\"color\": \"red\", \"source\": 71, \"target\": 55}, {\"color\": \"blue\", \"source\": 71, \"target\": 32}, {\"color\": \"red\", \"source\": 71, \"target\": 13}, {\"color\": \"red\", \"source\": 71, \"target\": 13}, {\"color\": \"red\", \"source\": 79, \"target\": 53}, {\"color\": \"blue\", \"source\": 79, \"target\": 54}, {\"color\": \"blue\", \"source\": 79, \"target\": 54}, {\"color\": \"blue\", \"source\": 79, \"target\": 54}, {\"color\": \"red\", \"source\": 79, \"target\": 49}, {\"color\": \"red\", \"source\": 79, \"target\": 103}, {\"color\": \"red\", \"source\": 79, \"target\": 16}, {\"color\": \"red\", \"source\": 79, \"target\": 17}, {\"color\": \"blue\", \"source\": 79, \"target\": 40}, {\"color\": \"red\", \"source\": 79, \"target\": 63}, {\"color\": \"red\", \"source\": 79, \"target\": 5}, {\"color\": \"red\", \"source\": 79, \"target\": 50}, {\"color\": \"red\", \"source\": 79, \"target\": 107}, {\"color\": \"red\", \"source\": 79, \"target\": 21}, {\"color\": \"red\", \"source\": 79, \"target\": 112}, {\"color\": \"red\", \"source\": 85, \"target\": 89}, {\"color\": \"red\", \"source\": 89, \"target\": 85}, {\"color\": \"red\", \"source\": 89, \"target\": 77}, {\"color\": \"red\", \"source\": 89, \"target\": 86}, {\"color\": \"red\", \"source\": 89, \"target\": 46}, {\"color\": \"red\", \"source\": 89, \"target\": 3}, {\"color\": \"blue\", \"source\": 91, \"target\": 26}, {\"color\": \"red\", \"source\": 39, \"target\": 108}, {\"color\": \"red\", \"source\": 39, \"target\": 55}, {\"color\": \"red\", \"source\": 39, \"target\": 55}, {\"color\": \"red\", \"source\": 39, \"target\": 71}, {\"color\": \"red\", \"source\": 39, \"target\": 71}, {\"color\": \"red\", \"source\": 39, \"target\": 63}, {\"color\": \"blue\", \"source\": 39, \"target\": 32}, {\"color\": \"blue\", \"source\": 39, \"target\": 32}, {\"color\": \"blue\", \"source\": 39, \"target\": 32}, {\"color\": \"red\", \"source\": 39, \"target\": 65}, {\"color\": \"red\", \"source\": 39, \"target\": 13}]);}</script><iframe name=\"style_file1\" src=\"style_file1.html\" width=\"100%;\" height=\"805px\"></iframe></body></html>"
      ],
      "text/plain": [
       "<IPython.core.display.HTML object>"
      ]
     },
     "execution_count": 14,
     "metadata": {},
     "output_type": "execute_result"
    }
   ],
   "source": [
    "# display subnetworks using visJS2jupyter\n",
    "ura.vis_tf_network('STAT1',\n",
    "              directed_edges = True,\n",
    "              node_spacing = 2000,\n",
    "              graph_id = 1,\n",
    "              tf_size_amplifier = -10) "
   ]
  },
  {
   "cell_type": "code",
   "execution_count": 15,
   "metadata": {
    "collapsed": true
   },
   "outputs": [],
   "source": [
    "# to write data to a csv file\n",
    "csv_filename = 'URA_Analysis.txt'\n",
    "to_csv(csv_filename)"
   ]
  },
  {
   "cell_type": "code",
   "execution_count": 16,
   "metadata": {},
   "outputs": [
    {
     "data": {
      "text/plain": [
       "'TGFB1'"
      ]
     },
     "execution_count": 16,
     "metadata": {},
     "output_type": "execute_result"
    }
   ],
   "source": [
    "# to get back the csv file\n",
    "my_string = pd.DataFrame.from_csv(csv_filename, sep='\\t')['targets'][0]\n",
    "my_list = my_string.split(\",\")\n",
    "my_list[0] # elaborate better on this part"
   ]
  },
  {
   "cell_type": "code",
   "execution_count": null,
   "metadata": {
    "collapsed": true
   },
   "outputs": [],
   "source": []
  },
  {
   "cell_type": "code",
   "execution_count": null,
   "metadata": {
    "collapsed": true
   },
   "outputs": [],
   "source": []
  }
 ],
 "metadata": {
  "kernelspec": {
   "display_name": "Python 2",
   "language": "python",
   "name": "python2"
  },
  "language_info": {
   "codemirror_mode": {
    "name": "ipython",
    "version": 2
   },
   "file_extension": ".py",
   "mimetype": "text/x-python",
   "name": "python",
   "nbconvert_exporter": "python",
   "pygments_lexer": "ipython2",
   "version": "2.7.14"
  }
 },
 "nbformat": 4,
 "nbformat_minor": 2
}
