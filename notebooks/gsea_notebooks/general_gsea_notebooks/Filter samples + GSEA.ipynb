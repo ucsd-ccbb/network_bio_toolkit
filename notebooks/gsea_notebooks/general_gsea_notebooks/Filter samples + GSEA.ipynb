{
 "cells": [
  {
   "cell_type": "markdown",
   "metadata": {},
   "source": [
    "### This notebook modifies the meta_file so it matches the samples in the expression_file, then filters it again by only keeping the samples that satisfy the \"controls\" (so GSEA compares the samples differed only by the class_name).\n",
    "\n",
    "### Dataframe samp_to_class (cls file for GSEA) is made, according to the class_name specified by the user.\n",
    "\n",
    "### Expression_file is filtered so its samples match those in the meta_file.\n",
    "\n",
    "### Benefits:\n",
    "### 1. Correctly matches the samples in expression_file and meta_file; \n",
    "### 2. Keep other conditions the same (by specifying controls) when comparing results for a certain class;\n",
    "### 3. User can specify the class name and the controls\n"
   ]
  },
  {
   "cell_type": "code",
   "execution_count": 14,
   "metadata": {},
   "outputs": [
    {
     "name": "stdout",
     "output_type": "stream",
     "text": [
      "{'mouse genotype': 'Alb-Cre;IL-17RA-flox/flox', 'Model': 'DEN ', 'Treatment': 'DEN_HFD_alcohol'}\n"
     ]
    }
   ],
   "source": [
    "import pandas as pd\n",
    "import numpy as np\n",
    "import gseapy as gp\n",
    "\n",
    "gmt_file = '../../gseapy_databases/h.all.v6.1.symbols.gmt'\n",
    "expression_file = '../../gseapy_databases/exp_ALCvsCHOWinNTinAlbCre.tsv'\n",
    "meta_file = '../../gseapy_databases/dHEP_metadata.csv'\n",
    "output_dir = '/../../gseapy_databases/mouse_liver_output'\n",
    "\n",
    "# ONLY compare the samples differed by the class_name, \n",
    "# while keeping all other parameters the same\n",
    "class_name = 'Tissue'  #'Treatment' \n",
    "class_A = 'Liver'  #'DEN_HFD_alcohol'\n",
    "class_B = 'liver_tumor'  #'DEN_only'\n",
    "\n",
    "# User types in the controls (attributes that remain constant)\n",
    "controls = {\n",
    "    'mouse genotype': 'Alb-Cre;IL-17RA-flox/flox',\n",
    "    'Model': 'DEN ',  ### There is a space at the end\n",
    "    'Treatment': 'DEN_HFD_alcohol'}\n",
    "print controls"
   ]
  },
  {
   "cell_type": "code",
   "execution_count": 15,
   "metadata": {},
   "outputs": [
    {
     "data": {
      "text/html": [
       "<div>\n",
       "<style>\n",
       "    .dataframe thead tr:only-child th {\n",
       "        text-align: right;\n",
       "    }\n",
       "\n",
       "    .dataframe thead th {\n",
       "        text-align: left;\n",
       "    }\n",
       "\n",
       "    .dataframe tbody tr th {\n",
       "        vertical-align: top;\n",
       "    }\n",
       "</style>\n",
       "<table border=\"1\" class=\"dataframe\">\n",
       "  <thead>\n",
       "    <tr style=\"text-align: right;\">\n",
       "      <th></th>\n",
       "      <th>dHEP_520_A_NT</th>\n",
       "      <th>dHEP_550_A_NT</th>\n",
       "      <th>F_F_158_NC_NT</th>\n",
       "      <th>dHEP_549_A_NT</th>\n",
       "      <th>F_F_503_A_NT</th>\n",
       "      <th>dHEP_165_NC_NT</th>\n",
       "      <th>F_F_595_A_NT</th>\n",
       "      <th>F_F_523_A_NT</th>\n",
       "      <th>F_F_157_NC_NT</th>\n",
       "      <th>dHEP_518_A_NT</th>\n",
       "      <th>dHEP_164_NC_NT</th>\n",
       "      <th>dHEP_155_NC_NT</th>\n",
       "      <th>F_F_159_NC_NT</th>\n",
       "      <th>F_F_581_A_NT</th>\n",
       "    </tr>\n",
       "  </thead>\n",
       "  <tbody>\n",
       "    <tr>\n",
       "      <th>Gnai3</th>\n",
       "      <td>6.482501</td>\n",
       "      <td>6.648272</td>\n",
       "      <td>6.644257</td>\n",
       "      <td>6.734103</td>\n",
       "      <td>6.557685</td>\n",
       "      <td>6.672892</td>\n",
       "      <td>6.707925</td>\n",
       "      <td>6.591240</td>\n",
       "      <td>6.632168</td>\n",
       "      <td>6.483054</td>\n",
       "      <td>6.815480</td>\n",
       "      <td>6.667075</td>\n",
       "      <td>6.768433</td>\n",
       "      <td>6.708067</td>\n",
       "    </tr>\n",
       "    <tr>\n",
       "      <th>Cdc45</th>\n",
       "      <td>0.779113</td>\n",
       "      <td>0.881496</td>\n",
       "      <td>0.026606</td>\n",
       "      <td>0.036682</td>\n",
       "      <td>0.688223</td>\n",
       "      <td>0.222011</td>\n",
       "      <td>0.281181</td>\n",
       "      <td>0.493432</td>\n",
       "      <td>0.192387</td>\n",
       "      <td>1.325266</td>\n",
       "      <td>1.160785</td>\n",
       "      <td>0.731233</td>\n",
       "      <td>0.930572</td>\n",
       "      <td>0.931043</td>\n",
       "    </tr>\n",
       "    <tr>\n",
       "      <th>Apoh</th>\n",
       "      <td>10.437362</td>\n",
       "      <td>10.285868</td>\n",
       "      <td>10.683067</td>\n",
       "      <td>10.462445</td>\n",
       "      <td>10.204836</td>\n",
       "      <td>10.558875</td>\n",
       "      <td>10.289569</td>\n",
       "      <td>10.032467</td>\n",
       "      <td>10.643058</td>\n",
       "      <td>10.364403</td>\n",
       "      <td>10.533293</td>\n",
       "      <td>10.551628</td>\n",
       "      <td>10.831810</td>\n",
       "      <td>10.346315</td>\n",
       "    </tr>\n",
       "    <tr>\n",
       "      <th>Narf</th>\n",
       "      <td>5.990224</td>\n",
       "      <td>6.089289</td>\n",
       "      <td>5.152588</td>\n",
       "      <td>6.280477</td>\n",
       "      <td>6.093053</td>\n",
       "      <td>6.277727</td>\n",
       "      <td>6.377708</td>\n",
       "      <td>5.902462</td>\n",
       "      <td>5.912509</td>\n",
       "      <td>6.144837</td>\n",
       "      <td>6.152632</td>\n",
       "      <td>5.551067</td>\n",
       "      <td>5.925389</td>\n",
       "      <td>6.137725</td>\n",
       "    </tr>\n",
       "    <tr>\n",
       "      <th>Cav2</th>\n",
       "      <td>1.732318</td>\n",
       "      <td>2.221725</td>\n",
       "      <td>2.069250</td>\n",
       "      <td>2.199621</td>\n",
       "      <td>1.634452</td>\n",
       "      <td>2.148011</td>\n",
       "      <td>2.390303</td>\n",
       "      <td>2.233464</td>\n",
       "      <td>1.226334</td>\n",
       "      <td>1.180876</td>\n",
       "      <td>2.263471</td>\n",
       "      <td>2.416598</td>\n",
       "      <td>1.768019</td>\n",
       "      <td>2.586876</td>\n",
       "    </tr>\n",
       "  </tbody>\n",
       "</table>\n",
       "</div>"
      ],
      "text/plain": [
       "       dHEP_520_A_NT  dHEP_550_A_NT  F_F_158_NC_NT  dHEP_549_A_NT  \\\n",
       "Gnai3       6.482501       6.648272       6.644257       6.734103   \n",
       "Cdc45       0.779113       0.881496       0.026606       0.036682   \n",
       "Apoh       10.437362      10.285868      10.683067      10.462445   \n",
       "Narf        5.990224       6.089289       5.152588       6.280477   \n",
       "Cav2        1.732318       2.221725       2.069250       2.199621   \n",
       "\n",
       "       F_F_503_A_NT  dHEP_165_NC_NT  F_F_595_A_NT  F_F_523_A_NT  \\\n",
       "Gnai3      6.557685        6.672892      6.707925      6.591240   \n",
       "Cdc45      0.688223        0.222011      0.281181      0.493432   \n",
       "Apoh      10.204836       10.558875     10.289569     10.032467   \n",
       "Narf       6.093053        6.277727      6.377708      5.902462   \n",
       "Cav2       1.634452        2.148011      2.390303      2.233464   \n",
       "\n",
       "       F_F_157_NC_NT  dHEP_518_A_NT  dHEP_164_NC_NT  dHEP_155_NC_NT  \\\n",
       "Gnai3       6.632168       6.483054        6.815480        6.667075   \n",
       "Cdc45       0.192387       1.325266        1.160785        0.731233   \n",
       "Apoh       10.643058      10.364403       10.533293       10.551628   \n",
       "Narf        5.912509       6.144837        6.152632        5.551067   \n",
       "Cav2        1.226334       1.180876        2.263471        2.416598   \n",
       "\n",
       "       F_F_159_NC_NT  F_F_581_A_NT  \n",
       "Gnai3       6.768433      6.708067  \n",
       "Cdc45       0.930572      0.931043  \n",
       "Apoh       10.831810     10.346315  \n",
       "Narf        5.925389      6.137725  \n",
       "Cav2        1.768019      2.586876  "
      ]
     },
     "execution_count": 15,
     "metadata": {},
     "output_type": "execute_result"
    }
   ],
   "source": [
    "df_expression = pd.read_table(expression_file, index_col='Unnamed: 0')\n",
    "df_expression.head()"
   ]
  },
  {
   "cell_type": "code",
   "execution_count": 16,
   "metadata": {},
   "outputs": [
    {
     "data": {
      "text/plain": [
       "14"
      ]
     },
     "execution_count": 16,
     "metadata": {},
     "output_type": "execute_result"
    }
   ],
   "source": [
    "focal_samples = list(df_expression)  # header\n",
    "len(focal_samples)"
   ]
  },
  {
   "cell_type": "code",
   "execution_count": 17,
   "metadata": {
    "scrolled": false
   },
   "outputs": [
    {
     "data": {
      "text/html": [
       "<div>\n",
       "<style>\n",
       "    .dataframe thead tr:only-child th {\n",
       "        text-align: right;\n",
       "    }\n",
       "\n",
       "    .dataframe thead th {\n",
       "        text-align: left;\n",
       "    }\n",
       "\n",
       "    .dataframe tbody tr th {\n",
       "        vertical-align: top;\n",
       "    }\n",
       "</style>\n",
       "<table border=\"1\" class=\"dataframe\">\n",
       "  <thead>\n",
       "    <tr style=\"text-align: right;\">\n",
       "      <th></th>\n",
       "      <th>Sample_name</th>\n",
       "      <th>Sample_Name2</th>\n",
       "      <th>mouse genotype</th>\n",
       "      <th>short_genotype</th>\n",
       "      <th>Model</th>\n",
       "      <th>Treatment</th>\n",
       "      <th>Tissue</th>\n",
       "    </tr>\n",
       "  </thead>\n",
       "  <tbody>\n",
       "    <tr>\n",
       "      <th>0</th>\n",
       "      <td>dHEP_518_A_NT</td>\n",
       "      <td>dHEP-518-A-NT</td>\n",
       "      <td>Alb-Cre;IL-17RA-flox/flox</td>\n",
       "      <td>AlbCre_IL17RA_floxflox</td>\n",
       "      <td>DEN</td>\n",
       "      <td>DEN_HFD_alcohol</td>\n",
       "      <td>Liver</td>\n",
       "    </tr>\n",
       "    <tr>\n",
       "      <th>1</th>\n",
       "      <td>dHEP_520_A_NT</td>\n",
       "      <td>dHEP-520-A-NT</td>\n",
       "      <td>Alb-Cre;IL-17RA-flox/flox</td>\n",
       "      <td>AlbCre_IL17RA_floxflox</td>\n",
       "      <td>DEN</td>\n",
       "      <td>DEN_HFD_alcohol</td>\n",
       "      <td>Liver</td>\n",
       "    </tr>\n",
       "    <tr>\n",
       "      <th>2</th>\n",
       "      <td>dHEP_549_A_NT</td>\n",
       "      <td>dHEP-549-A-NT</td>\n",
       "      <td>Alb-Cre;IL-17RA-flox/flox</td>\n",
       "      <td>AlbCre_IL17RA_floxflox</td>\n",
       "      <td>DEN</td>\n",
       "      <td>DEN_HFD_alcohol</td>\n",
       "      <td>Liver</td>\n",
       "    </tr>\n",
       "    <tr>\n",
       "      <th>3</th>\n",
       "      <td>dHEP_550_A_NT</td>\n",
       "      <td>dHEP-550-A-NT</td>\n",
       "      <td>Alb-Cre;IL-17RA-flox/flox</td>\n",
       "      <td>AlbCre_IL17RA_floxflox</td>\n",
       "      <td>DEN</td>\n",
       "      <td>DEN_HFD_alcohol</td>\n",
       "      <td>Liver</td>\n",
       "    </tr>\n",
       "    <tr>\n",
       "      <th>4</th>\n",
       "      <td>F_F_503_A_NT</td>\n",
       "      <td>F/F-503-A-NT</td>\n",
       "      <td>IL-17RA-flox/flox</td>\n",
       "      <td>IL17RA_floxflox</td>\n",
       "      <td>DEN</td>\n",
       "      <td>DEN_HFD_alcohol</td>\n",
       "      <td>Liver</td>\n",
       "    </tr>\n",
       "  </tbody>\n",
       "</table>\n",
       "</div>"
      ],
      "text/plain": [
       "     Sample_name   Sample_Name2             mouse genotype  \\\n",
       "0  dHEP_518_A_NT  dHEP-518-A-NT  Alb-Cre;IL-17RA-flox/flox   \n",
       "1  dHEP_520_A_NT  dHEP-520-A-NT  Alb-Cre;IL-17RA-flox/flox   \n",
       "2  dHEP_549_A_NT  dHEP-549-A-NT  Alb-Cre;IL-17RA-flox/flox   \n",
       "3  dHEP_550_A_NT  dHEP-550-A-NT  Alb-Cre;IL-17RA-flox/flox   \n",
       "4   F_F_503_A_NT   F/F-503-A-NT          IL-17RA-flox/flox   \n",
       "\n",
       "           short_genotype Model        Treatment Tissue  \n",
       "0  AlbCre_IL17RA_floxflox  DEN   DEN_HFD_alcohol  Liver  \n",
       "1  AlbCre_IL17RA_floxflox  DEN   DEN_HFD_alcohol  Liver  \n",
       "2  AlbCre_IL17RA_floxflox  DEN   DEN_HFD_alcohol  Liver  \n",
       "3  AlbCre_IL17RA_floxflox  DEN   DEN_HFD_alcohol  Liver  \n",
       "4         IL17RA_floxflox  DEN   DEN_HFD_alcohol  Liver  "
      ]
     },
     "execution_count": 17,
     "metadata": {},
     "output_type": "execute_result"
    }
   ],
   "source": [
    "df_meta = pd.read_csv(meta_file)\n",
    "df_meta.head()"
   ]
  },
  {
   "cell_type": "code",
   "execution_count": 18,
   "metadata": {},
   "outputs": [
    {
     "data": {
      "text/plain": [
       "(14, 7)"
      ]
     },
     "execution_count": 18,
     "metadata": {},
     "output_type": "execute_result"
    }
   ],
   "source": [
    "# keep the samples that are in the expression file\n",
    "df_meta = df_meta[df_meta['Sample_name'].isin(focal_samples)]\n",
    "df_meta.shape"
   ]
  },
  {
   "cell_type": "code",
   "execution_count": 19,
   "metadata": {
    "collapsed": true
   },
   "outputs": [],
   "source": [
    "#df_meta['Model'] == 'DEN'  #this would print as False, because it is actually 'DEN ' with a space\n"
   ]
  },
  {
   "cell_type": "code",
   "execution_count": 20,
   "metadata": {},
   "outputs": [
    {
     "data": {
      "text/html": [
       "<div>\n",
       "<style>\n",
       "    .dataframe thead tr:only-child th {\n",
       "        text-align: right;\n",
       "    }\n",
       "\n",
       "    .dataframe thead th {\n",
       "        text-align: left;\n",
       "    }\n",
       "\n",
       "    .dataframe tbody tr th {\n",
       "        vertical-align: top;\n",
       "    }\n",
       "</style>\n",
       "<table border=\"1\" class=\"dataframe\">\n",
       "  <thead>\n",
       "    <tr style=\"text-align: right;\">\n",
       "      <th></th>\n",
       "      <th>Sample_name</th>\n",
       "      <th>Sample_Name2</th>\n",
       "      <th>mouse genotype</th>\n",
       "      <th>short_genotype</th>\n",
       "      <th>Model</th>\n",
       "      <th>Treatment</th>\n",
       "      <th>Tissue</th>\n",
       "    </tr>\n",
       "  </thead>\n",
       "  <tbody>\n",
       "    <tr>\n",
       "      <th>0</th>\n",
       "      <td>dHEP_518_A_NT</td>\n",
       "      <td>dHEP-518-A-NT</td>\n",
       "      <td>Alb-Cre;IL-17RA-flox/flox</td>\n",
       "      <td>AlbCre_IL17RA_floxflox</td>\n",
       "      <td>DEN</td>\n",
       "      <td>DEN_HFD_alcohol</td>\n",
       "      <td>Liver</td>\n",
       "    </tr>\n",
       "    <tr>\n",
       "      <th>1</th>\n",
       "      <td>dHEP_520_A_NT</td>\n",
       "      <td>dHEP-520-A-NT</td>\n",
       "      <td>Alb-Cre;IL-17RA-flox/flox</td>\n",
       "      <td>AlbCre_IL17RA_floxflox</td>\n",
       "      <td>DEN</td>\n",
       "      <td>DEN_HFD_alcohol</td>\n",
       "      <td>Liver</td>\n",
       "    </tr>\n",
       "    <tr>\n",
       "      <th>2</th>\n",
       "      <td>dHEP_549_A_NT</td>\n",
       "      <td>dHEP-549-A-NT</td>\n",
       "      <td>Alb-Cre;IL-17RA-flox/flox</td>\n",
       "      <td>AlbCre_IL17RA_floxflox</td>\n",
       "      <td>DEN</td>\n",
       "      <td>DEN_HFD_alcohol</td>\n",
       "      <td>Liver</td>\n",
       "    </tr>\n",
       "    <tr>\n",
       "      <th>3</th>\n",
       "      <td>dHEP_550_A_NT</td>\n",
       "      <td>dHEP-550-A-NT</td>\n",
       "      <td>Alb-Cre;IL-17RA-flox/flox</td>\n",
       "      <td>AlbCre_IL17RA_floxflox</td>\n",
       "      <td>DEN</td>\n",
       "      <td>DEN_HFD_alcohol</td>\n",
       "      <td>Liver</td>\n",
       "    </tr>\n",
       "  </tbody>\n",
       "</table>\n",
       "</div>"
      ],
      "text/plain": [
       "     Sample_name   Sample_Name2             mouse genotype  \\\n",
       "0  dHEP_518_A_NT  dHEP-518-A-NT  Alb-Cre;IL-17RA-flox/flox   \n",
       "1  dHEP_520_A_NT  dHEP-520-A-NT  Alb-Cre;IL-17RA-flox/flox   \n",
       "2  dHEP_549_A_NT  dHEP-549-A-NT  Alb-Cre;IL-17RA-flox/flox   \n",
       "3  dHEP_550_A_NT  dHEP-550-A-NT  Alb-Cre;IL-17RA-flox/flox   \n",
       "\n",
       "           short_genotype Model        Treatment Tissue  \n",
       "0  AlbCre_IL17RA_floxflox  DEN   DEN_HFD_alcohol  Liver  \n",
       "1  AlbCre_IL17RA_floxflox  DEN   DEN_HFD_alcohol  Liver  \n",
       "2  AlbCre_IL17RA_floxflox  DEN   DEN_HFD_alcohol  Liver  \n",
       "3  AlbCre_IL17RA_floxflox  DEN   DEN_HFD_alcohol  Liver  "
      ]
     },
     "execution_count": 20,
     "metadata": {},
     "output_type": "execute_result"
    }
   ],
   "source": [
    "# filter the samples: ONLY keep the samples that match the controls\n",
    "for key, value in controls.iteritems(): \n",
    "    df_meta = df_meta[df_meta[key]==value]\n",
    "\n",
    "df_meta   \n"
   ]
  },
  {
   "cell_type": "code",
   "execution_count": 21,
   "metadata": {},
   "outputs": [
    {
     "name": "stdout",
     "output_type": "stream",
     "text": [
      "4\n"
     ]
    },
    {
     "data": {
      "text/html": [
       "<div>\n",
       "<style>\n",
       "    .dataframe thead tr:only-child th {\n",
       "        text-align: right;\n",
       "    }\n",
       "\n",
       "    .dataframe thead th {\n",
       "        text-align: left;\n",
       "    }\n",
       "\n",
       "    .dataframe tbody tr th {\n",
       "        vertical-align: top;\n",
       "    }\n",
       "</style>\n",
       "<table border=\"1\" class=\"dataframe\">\n",
       "  <thead>\n",
       "    <tr style=\"text-align: right;\">\n",
       "      <th></th>\n",
       "      <th>Sample_name</th>\n",
       "      <th>Tissue</th>\n",
       "    </tr>\n",
       "  </thead>\n",
       "  <tbody>\n",
       "    <tr>\n",
       "      <th>0</th>\n",
       "      <td>dHEP_518_A_NT</td>\n",
       "      <td>Liver</td>\n",
       "    </tr>\n",
       "    <tr>\n",
       "      <th>1</th>\n",
       "      <td>dHEP_520_A_NT</td>\n",
       "      <td>Liver</td>\n",
       "    </tr>\n",
       "    <tr>\n",
       "      <th>2</th>\n",
       "      <td>dHEP_549_A_NT</td>\n",
       "      <td>Liver</td>\n",
       "    </tr>\n",
       "    <tr>\n",
       "      <th>3</th>\n",
       "      <td>dHEP_550_A_NT</td>\n",
       "      <td>Liver</td>\n",
       "    </tr>\n",
       "  </tbody>\n",
       "</table>\n",
       "</div>"
      ],
      "text/plain": [
       "     Sample_name Tissue\n",
       "0  dHEP_518_A_NT  Liver\n",
       "1  dHEP_520_A_NT  Liver\n",
       "2  dHEP_549_A_NT  Liver\n",
       "3  dHEP_550_A_NT  Liver"
      ]
     },
     "execution_count": 21,
     "metadata": {},
     "output_type": "execute_result"
    }
   ],
   "source": [
    "# extract only the COLUMNS with sample_name and class name\n",
    "samp_to_class = df_meta[['Sample_name', class_name]]\n",
    "\n",
    "# only keep the rows with class_A and class_B\n",
    "samp_to_class = samp_to_class[(samp_to_class[class_name] == class_A) | (samp_to_class[class_name] == class_B)]\n",
    "\n",
    "print(len(samp_to_class))\n",
    "samp_to_class"
   ]
  },
  {
   "cell_type": "code",
   "execution_count": 22,
   "metadata": {},
   "outputs": [
    {
     "data": {
      "text/plain": [
       "(12651, 4)"
      ]
     },
     "execution_count": 22,
     "metadata": {},
     "output_type": "execute_result"
    }
   ],
   "source": [
    "# Filter expression file\n",
    "real_focal_samples = samp_to_class['Sample_name'].tolist()\n",
    "df_expression = df_expression[real_focal_samples]\n",
    "df_expression.shape"
   ]
  },
  {
   "cell_type": "code",
   "execution_count": 23,
   "metadata": {},
   "outputs": [
    {
     "data": {
      "text/plain": [
       "(12651, 5)"
      ]
     },
     "execution_count": 23,
     "metadata": {},
     "output_type": "execute_result"
    }
   ],
   "source": [
    "cap_gene = [str(g).upper() for g in df_expression.index.tolist()] # cap the genes\n",
    "df_expression['Name'] = cap_gene                                  # create a new column\n",
    "df_expression = df_expression[['Name'] + real_focal_samples]           # put the 'Name' column at front\n",
    "df_expression.index = range(0,len(df_expression))                 # number the rows\n",
    "df_expression.head()\n",
    "df_expression.shape"
   ]
  },
  {
   "cell_type": "code",
   "execution_count": 24,
   "metadata": {
    "scrolled": true
   },
   "outputs": [
    {
     "data": {
      "text/plain": [
       "['Liver', 'Liver', 'Liver', 'Liver']"
      ]
     },
     "execution_count": 24,
     "metadata": {},
     "output_type": "execute_result"
    }
   ],
   "source": [
    "cls_list = samp_to_class[class_name].tolist()\n",
    "cls_list"
   ]
  },
  {
   "cell_type": "code",
   "execution_count": 25,
   "metadata": {},
   "outputs": [
    {
     "ename": "IndexError",
     "evalue": "list index out of range",
     "output_type": "error",
     "traceback": [
      "\u001b[1;31m---------------------------------------------------------------------------\u001b[0m",
      "\u001b[1;31mIndexError\u001b[0m                                Traceback (most recent call last)",
      "\u001b[1;32m<ipython-input-25-44bb022abc18>\u001b[0m in \u001b[0;36m<module>\u001b[1;34m()\u001b[0m\n\u001b[0;32m      7\u001b[0m                  \u001b[0mmethod\u001b[0m\u001b[1;33m=\u001b[0m\u001b[1;34m'log2_ratio_of_classes'\u001b[0m\u001b[1;33m,\u001b[0m\u001b[1;33m\u001b[0m\u001b[0m\n\u001b[0;32m      8\u001b[0m                  \u001b[0mprocesses\u001b[0m\u001b[1;33m=\u001b[0m\u001b[1;36m4\u001b[0m\u001b[1;33m,\u001b[0m    \u001b[1;31m## 1 is default\u001b[0m\u001b[1;33m\u001b[0m\u001b[0m\n\u001b[1;32m----> 9\u001b[1;33m                  format='png')\n\u001b[0m",
      "\u001b[1;32mC:\\Users\\m1webste\\Anaconda2\\lib\\site-packages\\gseapy\\gsea.pyc\u001b[0m in \u001b[0;36mgsea\u001b[1;34m(data, gene_sets, cls, outdir, min_size, max_size, permutation_num, weighted_score_type, permutation_type, method, ascending, processes, figsize, format, graph_num, no_plot, seed, verbose)\u001b[0m\n\u001b[0;32m    857\u001b[0m               \u001b[0mweighted_score_type\u001b[0m\u001b[1;33m,\u001b[0m \u001b[0mpermutation_type\u001b[0m\u001b[1;33m,\u001b[0m \u001b[0mmethod\u001b[0m\u001b[1;33m,\u001b[0m \u001b[0mascending\u001b[0m\u001b[1;33m,\u001b[0m \u001b[0mprocesses\u001b[0m\u001b[1;33m,\u001b[0m\u001b[1;33m\u001b[0m\u001b[0m\n\u001b[0;32m    858\u001b[0m                figsize, format, graph_num, no_plot, seed, verbose)\n\u001b[1;32m--> 859\u001b[1;33m     \u001b[0mgs\u001b[0m\u001b[1;33m.\u001b[0m\u001b[0mrun\u001b[0m\u001b[1;33m(\u001b[0m\u001b[1;33m)\u001b[0m\u001b[1;33m\u001b[0m\u001b[0m\n\u001b[0m\u001b[0;32m    860\u001b[0m \u001b[1;33m\u001b[0m\u001b[0m\n\u001b[0;32m    861\u001b[0m     \u001b[1;32mreturn\u001b[0m \u001b[0mgs\u001b[0m\u001b[1;33m\u001b[0m\u001b[0m\n",
      "\u001b[1;32mC:\\Users\\m1webste\\Anaconda2\\lib\\site-packages\\gseapy\\gsea.pyc\u001b[0m in \u001b[0;36mrun\u001b[1;34m(self)\u001b[0m\n\u001b[0;32m    339\u001b[0m         \u001b[0mself\u001b[0m\u001b[1;33m.\u001b[0m\u001b[0m_logger\u001b[0m\u001b[1;33m.\u001b[0m\u001b[0minfo\u001b[0m\u001b[1;33m(\u001b[0m\u001b[1;34m\"Parsing data files for GSEA.............................\"\u001b[0m\u001b[1;33m)\u001b[0m\u001b[1;33m\u001b[0m\u001b[0m\n\u001b[0;32m    340\u001b[0m         \u001b[1;31m# phenotype labels parsing\u001b[0m\u001b[1;33m\u001b[0m\u001b[1;33m\u001b[0m\u001b[0m\n\u001b[1;32m--> 341\u001b[1;33m         \u001b[0mphenoPos\u001b[0m\u001b[1;33m,\u001b[0m \u001b[0mphenoNeg\u001b[0m\u001b[1;33m,\u001b[0m \u001b[0mcls_vector\u001b[0m \u001b[1;33m=\u001b[0m \u001b[0mgsea_cls_parser\u001b[0m\u001b[1;33m(\u001b[0m\u001b[0mself\u001b[0m\u001b[1;33m.\u001b[0m\u001b[0mclasses\u001b[0m\u001b[1;33m)\u001b[0m\u001b[1;33m\u001b[0m\u001b[0m\n\u001b[0m\u001b[0;32m    342\u001b[0m         \u001b[1;31m# select correct expression genes and values.\u001b[0m\u001b[1;33m\u001b[0m\u001b[1;33m\u001b[0m\u001b[0m\n\u001b[0;32m    343\u001b[0m         \u001b[0mdat\u001b[0m \u001b[1;33m=\u001b[0m \u001b[0mself\u001b[0m\u001b[1;33m.\u001b[0m\u001b[0mload_data\u001b[0m\u001b[1;33m(\u001b[0m\u001b[0mcls_vector\u001b[0m\u001b[1;33m)\u001b[0m\u001b[1;33m\u001b[0m\u001b[0m\n",
      "\u001b[1;32mC:\\Users\\m1webste\\Anaconda2\\lib\\site-packages\\gseapy\\parser.pyc\u001b[0m in \u001b[0;36mgsea_cls_parser\u001b[1;34m(cls)\u001b[0m\n\u001b[0;32m     29\u001b[0m         \u001b[1;32mraise\u001b[0m \u001b[0mException\u001b[0m\u001b[1;33m(\u001b[0m\u001b[1;34m'Error parsing sample name!'\u001b[0m\u001b[1;33m)\u001b[0m\u001b[1;33m\u001b[0m\u001b[0m\n\u001b[0;32m     30\u001b[0m \u001b[1;33m\u001b[0m\u001b[0m\n\u001b[1;32m---> 31\u001b[1;33m     \u001b[1;32mreturn\u001b[0m \u001b[0msample_name\u001b[0m\u001b[1;33m[\u001b[0m\u001b[1;36m0\u001b[0m\u001b[1;33m]\u001b[0m\u001b[1;33m,\u001b[0m \u001b[0msample_name\u001b[0m\u001b[1;33m[\u001b[0m\u001b[1;36m1\u001b[0m\u001b[1;33m]\u001b[0m\u001b[1;33m,\u001b[0m \u001b[0mclasses\u001b[0m\u001b[1;33m\u001b[0m\u001b[0m\n\u001b[0m\u001b[0;32m     32\u001b[0m \u001b[1;33m\u001b[0m\u001b[0m\n\u001b[0;32m     33\u001b[0m \u001b[1;32mdef\u001b[0m \u001b[0mgsea_edb_parser\u001b[0m\u001b[1;33m(\u001b[0m\u001b[0mresults_path\u001b[0m\u001b[1;33m,\u001b[0m \u001b[0mindex\u001b[0m\u001b[1;33m=\u001b[0m\u001b[1;36m0\u001b[0m\u001b[1;33m)\u001b[0m\u001b[1;33m:\u001b[0m\u001b[1;33m\u001b[0m\u001b[0m\n",
      "\u001b[1;31mIndexError\u001b[0m: list index out of range"
     ]
    }
   ],
   "source": [
    "gs_res = gp.gsea(data=df_expression, \n",
    "                 gene_sets=gmt_file,\n",
    "                 cls=samp_to_class[class_name].tolist(),  # we only need Treatment column here, since the Sample_name is in the expression file\n",
    "                 permutation_num=100, # reduce number to speed up test\n",
    "                 weighted_score_type = 1,  # default: 1\n",
    "                 outdir=output_dir,\n",
    "                 method='log2_ratio_of_classes',\n",
    "                 processes=4,    ## 1 is default\n",
    "                 format='png')"
   ]
  },
  {
   "cell_type": "code",
   "execution_count": null,
   "metadata": {},
   "outputs": [],
   "source": [
    "#access the dataframe results throught res2d attribute\n",
    "gs_res.res2d.head()"
   ]
  },
  {
   "cell_type": "code",
   "execution_count": null,
   "metadata": {},
   "outputs": [],
   "source": [
    "#gp.gsea?"
   ]
  },
  {
   "cell_type": "code",
   "execution_count": null,
   "metadata": {
    "collapsed": true
   },
   "outputs": [],
   "source": []
  },
  {
   "cell_type": "code",
   "execution_count": null,
   "metadata": {
    "collapsed": true
   },
   "outputs": [],
   "source": []
  },
  {
   "cell_type": "code",
   "execution_count": null,
   "metadata": {
    "collapsed": true
   },
   "outputs": [],
   "source": []
  }
 ],
 "metadata": {
  "kernelspec": {
   "display_name": "Python 2",
   "language": "python",
   "name": "python2"
  }
 },
 "nbformat": 4,
 "nbformat_minor": 2
}
