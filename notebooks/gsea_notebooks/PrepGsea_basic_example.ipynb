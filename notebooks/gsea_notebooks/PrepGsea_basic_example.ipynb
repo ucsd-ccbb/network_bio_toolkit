{
 "cells": [
  {
   "cell_type": "markdown",
   "metadata": {},
   "source": [
    "# Full Analysis Basic Example\n",
    "## PrepGsea Package\n",
    "\n",
    "\n",
    "----------------------\n",
    "\n",
    "Author: Mikayla Webster (13webstermj@ucsd.edu)\n",
    "\n",
    "Date: 14th May, 2018\n",
    "\n",
    "----------------------\n",
    "\n",
    "<a id='toc'></a>\n",
    "## Table of Contents\n",
    "1. [Background](#background)\n",
    "1. [Tips](#tip)\n",
    "2. [Import packages](#import)\n",
    "3. [User Preferences for Metafile Filtering](#meta)\n",
    "6. [Filter Expression File](#expression)\n",
    "8. [GSEA call](#gsea)\n",
    "8. [Visualization Functions](#vis)"
   ]
  },
  {
   "cell_type": "markdown",
   "metadata": {},
   "source": [
    "## Background\n",
    "<a id='background'></a>"
   ]
  },
  {
   "cell_type": "markdown",
   "metadata": {},
   "source": [
    "The gene set enrichment analysis workflow provides an interactive interface to the gseapy tools.\n",
    "\n",
    "This notebook shows you how to use the complete functionality of our PrepGsea module from start to finish. We have provided a simple gmt and meta file compatible with this notebook. With these two alone (and a dummy expression file), you can run the preferences selection portion of this notebook. In order to run the full analysis, you will need to provide an expression file. "
   ]
  },
  {
   "cell_type": "markdown",
   "metadata": {},
   "source": [
    "## Tips ##\n",
    "<a id='tip'></a>"
   ]
  },
  {
   "cell_type": "markdown",
   "metadata": {},
   "source": [
    "- For each cell: Run the cell, fill out the widget/form, (don't run that cell again), then run the next cell.\n",
    "\n",
    "- If your analysis isn't looking right, try re-running it from the beginning. If information is given out of order, PrepGsea will sometimes forget important information."
   ]
  },
  {
   "cell_type": "markdown",
   "metadata": {},
   "source": [
    "## Import Packages\n",
    "<a id='import'></a>"
   ]
  },
  {
   "cell_type": "code",
   "execution_count": 5,
   "metadata": {},
   "outputs": [
    {
     "data": {
      "text/plain": [
       "<module 'PrepGsea' from '../../network_bio_toolkit\\PrepGsea.pyc'>"
      ]
     },
     "execution_count": 5,
     "metadata": {},
     "output_type": "execute_result"
    }
   ],
   "source": [
    "# import PrepGsea module\n",
    "import sys\n",
    "code_path = '../../network_bio_toolkit'\n",
    "sys.path.append(code_path)\n",
    "import PrepGsea\n",
    "reload(PrepGsea)"
   ]
  },
  {
   "cell_type": "markdown",
   "metadata": {},
   "source": [
    "## User Preferences for Metafile Filtering\n",
    "<a id='meta'></a>"
   ]
  },
  {
   "cell_type": "code",
   "execution_count": 14,
   "metadata": {
    "scrolled": true
   },
   "outputs": [],
   "source": [
    "gsea_prepper = PrepGsea.PrepGsea(gmt_file = '../../gseapy_databases/h.all.v6.1.symbols.gmt', # provided\n",
    "                        expression_file = '../../gseapy_databases/RNA_cpm_all_samples.tsv', # need to supply your own expression file\n",
    "                        meta_file = '../../gseapy_databases/dHEP_metadata.csv', # provided\n",
    "                        output_dir = '../../gsea_output') # There can sometimes be errors if you use an existing folder path for gsea_output"
   ]
  },
  {
   "cell_type": "code",
   "execution_count": 15,
   "metadata": {},
   "outputs": [
    {
     "name": "stdout",
     "output_type": "stream",
     "text": [
      "Indicate any columns that contain information you do not want to analyze.\n"
     ]
    },
    {
     "data": {
      "application/vnd.jupyter.widget-view+json": {
       "model_id": "4bff8705bc6643e89b868c6d5e0d022c",
       "version_major": 2,
       "version_minor": 0
      },
      "text/html": [
       "<p>Failed to display Jupyter Widget of type <code>Box</code>.</p>\n",
       "<p>\n",
       "  If you're reading this message in the Jupyter Notebook or JupyterLab Notebook, it may mean\n",
       "  that the widgets JavaScript is still loading. If this message persists, it\n",
       "  likely means that the widgets JavaScript library is either not installed or\n",
       "  not enabled. See the <a href=\"https://ipywidgets.readthedocs.io/en/stable/user_install.html\">Jupyter\n",
       "  Widgets Documentation</a> for setup instructions.\n",
       "</p>\n",
       "<p>\n",
       "  If you're reading this message in another frontend (for example, a static\n",
       "  rendering on GitHub or <a href=\"https://nbviewer.jupyter.org/\">NBViewer</a>),\n",
       "  it may mean that your frontend doesn't currently support widgets.\n",
       "</p>\n"
      ],
      "text/plain": [
       "Box(children=(Box(children=(Label(value=u'Remove unnecesary columns:'), VBox(children=(VBox(children=(Checkbox(value=False, description=u'Sample_name', style=DescriptionStyle(description_width=u'initial')), Checkbox(value=False, description=u'Sample_Name2', style=DescriptionStyle(description_width=u'initial')), Checkbox(value=False, description=u'mouse genotype', style=DescriptionStyle(description_width=u'initial')), Checkbox(value=False, description=u'short_genotype', style=DescriptionStyle(description_width=u'initial')), Checkbox(value=False, description=u'Model', style=DescriptionStyle(description_width=u'initial')), Checkbox(value=False, description=u'Treatment', style=DescriptionStyle(description_width=u'initial')), Checkbox(value=False, description=u'Tissue', style=DescriptionStyle(description_width=u'initial'))), layout=Layout(overflow=u'scroll')),))), layout=Layout(display=u'flex', flex_flow=u'row', justify_content=u'space-between')),), layout=Layout(align_items=u'stretch', border=u'solid 2px', display=u'flex', flex_flow=u'column', width=u'50%'))"
      ]
     },
     "metadata": {},
     "output_type": "display_data"
    }
   ],
   "source": [
    "# check box Sample_Name2 to remove that column from the analysis\n",
    "\n",
    "gsea_prepper.remove_extra_columns()"
   ]
  },
  {
   "cell_type": "code",
   "execution_count": 16,
   "metadata": {},
   "outputs": [
    {
     "name": "stdout",
     "output_type": "stream",
     "text": [
      "Please choose a class from the following list.\n",
      "\n",
      "Do not reload cell after marking your choice.\n",
      "Mark your choice before proceding.\n"
     ]
    },
    {
     "data": {
      "application/vnd.jupyter.widget-view+json": {
       "model_id": "f698fe58d1354a8bbbbcf0d3612922a6",
       "version_major": 2,
       "version_minor": 0
      },
      "text/html": [
       "<p>Failed to display Jupyter Widget of type <code>Box</code>.</p>\n",
       "<p>\n",
       "  If you're reading this message in the Jupyter Notebook or JupyterLab Notebook, it may mean\n",
       "  that the widgets JavaScript is still loading. If this message persists, it\n",
       "  likely means that the widgets JavaScript library is either not installed or\n",
       "  not enabled. See the <a href=\"https://ipywidgets.readthedocs.io/en/stable/user_install.html\">Jupyter\n",
       "  Widgets Documentation</a> for setup instructions.\n",
       "</p>\n",
       "<p>\n",
       "  If you're reading this message in another frontend (for example, a static\n",
       "  rendering on GitHub or <a href=\"https://nbviewer.jupyter.org/\">NBViewer</a>),\n",
       "  it may mean that your frontend doesn't currently support widgets.\n",
       "</p>\n"
      ],
      "text/plain": [
       "Box(children=(Box(children=(Label(value=u'Comparison options'), Dropdown(options=('mouse genotype', 'short_genotype', 'Model', 'Treatment', 'Tissue'), value='mouse genotype')), layout=Layout(display=u'flex', flex_flow=u'row', justify_content=u'space-between')),), layout=Layout(align_items=u'stretch', border=u'solid 2px', display=u'flex', flex_flow=u'column', width=u'50%'))"
      ]
     },
     "metadata": {},
     "output_type": "display_data"
    }
   ],
   "source": [
    "# Pick 'Tissue' from drop down choices\n",
    "\n",
    "gsea_prepper.choose_comparison_col('Sample_name') # indicate sample name column (it shouldn't be a comparison choice)"
   ]
  },
  {
   "cell_type": "code",
   "execution_count": 17,
   "metadata": {},
   "outputs": [
    {
     "name": "stdout",
     "output_type": "stream",
     "text": [
      "Please specify the two classes you wish to compare for class \"Tissue\".\n",
      "\n",
      "Do not reload cell after indicating your choices.\n",
      "Indicate your choices before proceding.\n",
      "Reload this cell if the correct class isn't showing\n"
     ]
    },
    {
     "data": {
      "application/vnd.jupyter.widget-view+json": {
       "model_id": "3cf631b5dd5943fbb48161708adf730a",
       "version_major": 2,
       "version_minor": 0
      },
      "text/html": [
       "<p>Failed to display Jupyter Widget of type <code>Box</code>.</p>\n",
       "<p>\n",
       "  If you're reading this message in the Jupyter Notebook or JupyterLab Notebook, it may mean\n",
       "  that the widgets JavaScript is still loading. If this message persists, it\n",
       "  likely means that the widgets JavaScript library is either not installed or\n",
       "  not enabled. See the <a href=\"https://ipywidgets.readthedocs.io/en/stable/user_install.html\">Jupyter\n",
       "  Widgets Documentation</a> for setup instructions.\n",
       "</p>\n",
       "<p>\n",
       "  If you're reading this message in another frontend (for example, a static\n",
       "  rendering on GitHub or <a href=\"https://nbviewer.jupyter.org/\">NBViewer</a>),\n",
       "  it may mean that your frontend doesn't currently support widgets.\n",
       "</p>\n"
      ],
      "text/plain": [
       "Box(children=(Box(children=(Label(value=u'Tissue class A'), Dropdown(options=('Liver', 'liver_tumor'), value='Liver')), layout=Layout(display=u'flex', flex_flow=u'row', justify_content=u'space-between')), Box(children=(Label(value=u'Tissue class B'), Dropdown(options=('Liver', 'liver_tumor'), value='Liver')), layout=Layout(display=u'flex', flex_flow=u'row', justify_content=u'space-between'))), layout=Layout(align_items=u'stretch', border=u'solid 2px', display=u'flex', flex_flow=u'column', width=u'50%'))"
      ]
     },
     "metadata": {},
     "output_type": "display_data"
    }
   ],
   "source": [
    "# Please choose the following:\n",
    "\n",
    "# Tissue class A: Liver\n",
    "# Tissue class B: liver_tumor\n",
    "\n",
    "gsea_prepper.choose_two_classes() # text must match exactly what's in your meta dataframe"
   ]
  },
  {
   "cell_type": "code",
   "execution_count": 18,
   "metadata": {
    "scrolled": true
   },
   "outputs": [
    {
     "name": "stdout",
     "output_type": "stream",
     "text": [
      "Please specify your control values for each of the following.\n",
      "\n",
      "Do not reload cell after typing your choices.\n",
      "Type your choices before proceding.\n"
     ]
    },
    {
     "data": {
      "application/vnd.jupyter.widget-view+json": {
       "model_id": "3a6fc62bcb0a4af7a095a9edc9b66634",
       "version_major": 2,
       "version_minor": 0
      },
      "text/html": [
       "<p>Failed to display Jupyter Widget of type <code>Box</code>.</p>\n",
       "<p>\n",
       "  If you're reading this message in the Jupyter Notebook or JupyterLab Notebook, it may mean\n",
       "  that the widgets JavaScript is still loading. If this message persists, it\n",
       "  likely means that the widgets JavaScript library is either not installed or\n",
       "  not enabled. See the <a href=\"https://ipywidgets.readthedocs.io/en/stable/user_install.html\">Jupyter\n",
       "  Widgets Documentation</a> for setup instructions.\n",
       "</p>\n",
       "<p>\n",
       "  If you're reading this message in another frontend (for example, a static\n",
       "  rendering on GitHub or <a href=\"https://nbviewer.jupyter.org/\">NBViewer</a>),\n",
       "  it may mean that your frontend doesn't currently support widgets.\n",
       "</p>\n"
      ],
      "text/plain": [
       "Box(children=(Box(children=(Label(value=u'mouse genotype'), Dropdown(options=('Alb-Cre;IL-17RA-flox/flox', 'IL-17RA-flox/flox'), value='Alb-Cre;IL-17RA-flox/flox')), layout=Layout(display=u'flex', flex_flow=u'row', justify_content=u'space-between')), Box(children=(Label(value=u'short_genotype'), Dropdown(options=('IL17RA_floxflox', 'AlbCre_IL17RA_floxflox'), value='IL17RA_floxflox')), layout=Layout(display=u'flex', flex_flow=u'row', justify_content=u'space-between')), Box(children=(Label(value=u'Model'), Dropdown(options=('DEN ', 'no_injury'), value='DEN ')), layout=Layout(display=u'flex', flex_flow=u'row', justify_content=u'space-between')), Box(children=(Label(value=u'Treatment'), Dropdown(options=('DEN_HFD_alcohol', 'no_injury', 'DEN_only'), value='DEN_HFD_alcohol')), layout=Layout(display=u'flex', flex_flow=u'row', justify_content=u'space-between'))), layout=Layout(align_items=u'stretch', border=u'solid 2px', display=u'flex', flex_flow=u'column', width=u'50%'))"
      ]
     },
     "metadata": {},
     "output_type": "display_data"
    }
   ],
   "source": [
    "# Please choose the following:\n",
    "\n",
    "# mouse genotype: Alb-Cre;IL-17RA-flox/flox (defualt choice)\n",
    "# short_genotype: AlbCre_IL17RA_floxflox\n",
    "# Model: DEN (default choice)\n",
    "# Treatment: DEN_HFD_alcohol (default choice)\n",
    "\n",
    "gsea_prepper.choose_controls() # text must match exactly what's in your meta dataframe"
   ]
  },
  {
   "cell_type": "code",
   "execution_count": 19,
   "metadata": {},
   "outputs": [
    {
     "name": "stdout",
     "output_type": "stream",
     "text": [
      "Filtering metafile by the following classes and controls:\n",
      "\n",
      "class name: Tissue\n",
      "Tissue value 1: Liver\n",
      "Tissue value 2: liver_tumor\n",
      "\n",
      "controls: \n",
      "mouse genotype: Alb-Cre;IL-17RA-flox/flox\n",
      "short_genotype: AlbCre_IL17RA_floxflox\n",
      "Model: DEN \n",
      "Treatment: DEN_HFD_alcohol\n",
      "\n",
      "Please confirm that all the information above is correct.\n",
      "\n"
     ]
    },
    {
     "data": {
      "text/html": [
       "<div>\n",
       "<style scoped>\n",
       "    .dataframe tbody tr th:only-of-type {\n",
       "        vertical-align: middle;\n",
       "    }\n",
       "\n",
       "    .dataframe tbody tr th {\n",
       "        vertical-align: top;\n",
       "    }\n",
       "\n",
       "    .dataframe thead th {\n",
       "        text-align: right;\n",
       "    }\n",
       "</style>\n",
       "<table border=\"1\" class=\"dataframe\">\n",
       "  <thead>\n",
       "    <tr style=\"text-align: right;\">\n",
       "      <th></th>\n",
       "      <th>Sample_name</th>\n",
       "      <th>mouse genotype</th>\n",
       "      <th>short_genotype</th>\n",
       "      <th>Model</th>\n",
       "      <th>Treatment</th>\n",
       "      <th>Tissue</th>\n",
       "    </tr>\n",
       "  </thead>\n",
       "  <tbody>\n",
       "    <tr>\n",
       "      <th>0</th>\n",
       "      <td>dHEP_518_A_NT</td>\n",
       "      <td>Alb-Cre;IL-17RA-flox/flox</td>\n",
       "      <td>AlbCre_IL17RA_floxflox</td>\n",
       "      <td>DEN</td>\n",
       "      <td>DEN_HFD_alcohol</td>\n",
       "      <td>Liver</td>\n",
       "    </tr>\n",
       "    <tr>\n",
       "      <th>1</th>\n",
       "      <td>dHEP_520_A_NT</td>\n",
       "      <td>Alb-Cre;IL-17RA-flox/flox</td>\n",
       "      <td>AlbCre_IL17RA_floxflox</td>\n",
       "      <td>DEN</td>\n",
       "      <td>DEN_HFD_alcohol</td>\n",
       "      <td>Liver</td>\n",
       "    </tr>\n",
       "    <tr>\n",
       "      <th>2</th>\n",
       "      <td>dHEP_549_A_NT</td>\n",
       "      <td>Alb-Cre;IL-17RA-flox/flox</td>\n",
       "      <td>AlbCre_IL17RA_floxflox</td>\n",
       "      <td>DEN</td>\n",
       "      <td>DEN_HFD_alcohol</td>\n",
       "      <td>Liver</td>\n",
       "    </tr>\n",
       "    <tr>\n",
       "      <th>3</th>\n",
       "      <td>dHEP_550_A_NT</td>\n",
       "      <td>Alb-Cre;IL-17RA-flox/flox</td>\n",
       "      <td>AlbCre_IL17RA_floxflox</td>\n",
       "      <td>DEN</td>\n",
       "      <td>DEN_HFD_alcohol</td>\n",
       "      <td>Liver</td>\n",
       "    </tr>\n",
       "    <tr>\n",
       "      <th>4</th>\n",
       "      <td>dHEP_518_A_T1</td>\n",
       "      <td>Alb-Cre;IL-17RA-flox/flox</td>\n",
       "      <td>AlbCre_IL17RA_floxflox</td>\n",
       "      <td>DEN</td>\n",
       "      <td>DEN_HFD_alcohol</td>\n",
       "      <td>liver_tumor</td>\n",
       "    </tr>\n",
       "    <tr>\n",
       "      <th>5</th>\n",
       "      <td>dHEP_520_A_T</td>\n",
       "      <td>Alb-Cre;IL-17RA-flox/flox</td>\n",
       "      <td>AlbCre_IL17RA_floxflox</td>\n",
       "      <td>DEN</td>\n",
       "      <td>DEN_HFD_alcohol</td>\n",
       "      <td>liver_tumor</td>\n",
       "    </tr>\n",
       "    <tr>\n",
       "      <th>6</th>\n",
       "      <td>dHEP_549_A_T</td>\n",
       "      <td>Alb-Cre;IL-17RA-flox/flox</td>\n",
       "      <td>AlbCre_IL17RA_floxflox</td>\n",
       "      <td>DEN</td>\n",
       "      <td>DEN_HFD_alcohol</td>\n",
       "      <td>liver_tumor</td>\n",
       "    </tr>\n",
       "    <tr>\n",
       "      <th>7</th>\n",
       "      <td>dHEP_550_A_T</td>\n",
       "      <td>Alb-Cre;IL-17RA-flox/flox</td>\n",
       "      <td>AlbCre_IL17RA_floxflox</td>\n",
       "      <td>DEN</td>\n",
       "      <td>DEN_HFD_alcohol</td>\n",
       "      <td>liver_tumor</td>\n",
       "    </tr>\n",
       "  </tbody>\n",
       "</table>\n",
       "</div>"
      ],
      "text/plain": [
       "     Sample_name             mouse genotype          short_genotype Model  \\\n",
       "0  dHEP_518_A_NT  Alb-Cre;IL-17RA-flox/flox  AlbCre_IL17RA_floxflox  DEN    \n",
       "1  dHEP_520_A_NT  Alb-Cre;IL-17RA-flox/flox  AlbCre_IL17RA_floxflox  DEN    \n",
       "2  dHEP_549_A_NT  Alb-Cre;IL-17RA-flox/flox  AlbCre_IL17RA_floxflox  DEN    \n",
       "3  dHEP_550_A_NT  Alb-Cre;IL-17RA-flox/flox  AlbCre_IL17RA_floxflox  DEN    \n",
       "4  dHEP_518_A_T1  Alb-Cre;IL-17RA-flox/flox  AlbCre_IL17RA_floxflox  DEN    \n",
       "5   dHEP_520_A_T  Alb-Cre;IL-17RA-flox/flox  AlbCre_IL17RA_floxflox  DEN    \n",
       "6   dHEP_549_A_T  Alb-Cre;IL-17RA-flox/flox  AlbCre_IL17RA_floxflox  DEN    \n",
       "7   dHEP_550_A_T  Alb-Cre;IL-17RA-flox/flox  AlbCre_IL17RA_floxflox  DEN    \n",
       "\n",
       "         Treatment       Tissue  \n",
       "0  DEN_HFD_alcohol        Liver  \n",
       "1  DEN_HFD_alcohol        Liver  \n",
       "2  DEN_HFD_alcohol        Liver  \n",
       "3  DEN_HFD_alcohol        Liver  \n",
       "4  DEN_HFD_alcohol  liver_tumor  \n",
       "5  DEN_HFD_alcohol  liver_tumor  \n",
       "6  DEN_HFD_alcohol  liver_tumor  \n",
       "7  DEN_HFD_alcohol  liver_tumor  "
      ]
     },
     "metadata": {},
     "output_type": "display_data"
    }
   ],
   "source": [
    "gsea_prepper.filter_metafile()"
   ]
  },
  {
   "cell_type": "markdown",
   "metadata": {},
   "source": [
    "## Filter Expression File\n",
    "<a id='expression'></a>"
   ]
  },
  {
   "cell_type": "code",
   "execution_count": 20,
   "metadata": {
    "scrolled": false
   },
   "outputs": [
    {
     "name": "stdout",
     "output_type": "stream",
     "text": [
      "Expression file before filtering: (22187, 30)\n"
     ]
    },
    {
     "data": {
      "text/html": [
       "<div>\n",
       "<style scoped>\n",
       "    .dataframe tbody tr th:only-of-type {\n",
       "        vertical-align: middle;\n",
       "    }\n",
       "\n",
       "    .dataframe tbody tr th {\n",
       "        vertical-align: top;\n",
       "    }\n",
       "\n",
       "    .dataframe thead th {\n",
       "        text-align: right;\n",
       "    }\n",
       "</style>\n",
       "<table border=\"1\" class=\"dataframe\">\n",
       "  <thead>\n",
       "    <tr style=\"text-align: right;\">\n",
       "      <th></th>\n",
       "      <th>dHEP_549_A_T</th>\n",
       "      <th>dHEP_520_A_NT</th>\n",
       "      <th>dHEP_178_NI</th>\n",
       "      <th>F_F_167_NC_T</th>\n",
       "      <th>dHEP_550_A_NT</th>\n",
       "      <th>F_F_158_NC_NT</th>\n",
       "      <th>dHEP_549_A_NT</th>\n",
       "      <th>dHEP_520_A_T</th>\n",
       "      <th>F_F_169_NC_T</th>\n",
       "      <th>F_F_503_A_T1</th>\n",
       "      <th>...</th>\n",
       "      <th>dHEP_164_NC_NT</th>\n",
       "      <th>F_F_523_A_T1</th>\n",
       "      <th>F_F_184_NI</th>\n",
       "      <th>dHEP_155_NC_NT</th>\n",
       "      <th>F_F_159_NC_NT</th>\n",
       "      <th>dHEP_165_NC_T</th>\n",
       "      <th>dHEP_155_NC_T</th>\n",
       "      <th>F_F_168_NC_T</th>\n",
       "      <th>F_F_595_A_T</th>\n",
       "      <th>F_F_581_A_NT</th>\n",
       "    </tr>\n",
       "  </thead>\n",
       "  <tbody>\n",
       "    <tr>\n",
       "      <th>Gnai3</th>\n",
       "      <td>121.519560</td>\n",
       "      <td>89.035979</td>\n",
       "      <td>94.557437</td>\n",
       "      <td>113.223446</td>\n",
       "      <td>98.230254</td>\n",
       "      <td>111.136707</td>\n",
       "      <td>97.474351</td>\n",
       "      <td>132.836892</td>\n",
       "      <td>109.328840</td>\n",
       "      <td>114.096305</td>\n",
       "      <td>...</td>\n",
       "      <td>113.769663</td>\n",
       "      <td>132.891660</td>\n",
       "      <td>109.728700</td>\n",
       "      <td>106.096154</td>\n",
       "      <td>103.304758</td>\n",
       "      <td>192.471416</td>\n",
       "      <td>153.176144</td>\n",
       "      <td>183.460817</td>\n",
       "      <td>152.620839</td>\n",
       "      <td>108.366033</td>\n",
       "    </tr>\n",
       "    <tr>\n",
       "      <th>NaN</th>\n",
       "      <td>0.000000</td>\n",
       "      <td>0.000000</td>\n",
       "      <td>0.000000</td>\n",
       "      <td>0.000000</td>\n",
       "      <td>0.000000</td>\n",
       "      <td>0.000000</td>\n",
       "      <td>0.000000</td>\n",
       "      <td>0.000000</td>\n",
       "      <td>0.000000</td>\n",
       "      <td>0.000000</td>\n",
       "      <td>...</td>\n",
       "      <td>0.000000</td>\n",
       "      <td>0.000000</td>\n",
       "      <td>0.000000</td>\n",
       "      <td>0.000000</td>\n",
       "      <td>0.000000</td>\n",
       "      <td>0.000000</td>\n",
       "      <td>0.000000</td>\n",
       "      <td>0.000000</td>\n",
       "      <td>0.000000</td>\n",
       "      <td>0.000000</td>\n",
       "    </tr>\n",
       "    <tr>\n",
       "      <th>Cdc45</th>\n",
       "      <td>1.958903</td>\n",
       "      <td>1.673062</td>\n",
       "      <td>1.196930</td>\n",
       "      <td>2.630385</td>\n",
       "      <td>1.766455</td>\n",
       "      <td>1.086912</td>\n",
       "      <td>0.898758</td>\n",
       "      <td>2.300206</td>\n",
       "      <td>1.993288</td>\n",
       "      <td>1.984284</td>\n",
       "      <td>...</td>\n",
       "      <td>2.222064</td>\n",
       "      <td>1.612585</td>\n",
       "      <td>0.693510</td>\n",
       "      <td>1.687041</td>\n",
       "      <td>1.777031</td>\n",
       "      <td>1.688346</td>\n",
       "      <td>4.976438</td>\n",
       "      <td>4.123100</td>\n",
       "      <td>1.531535</td>\n",
       "      <td>1.943865</td>\n",
       "    </tr>\n",
       "    <tr>\n",
       "      <th>NaN</th>\n",
       "      <td>0.067548</td>\n",
       "      <td>0.072742</td>\n",
       "      <td>0.108812</td>\n",
       "      <td>0.233812</td>\n",
       "      <td>0.153605</td>\n",
       "      <td>0.000000</td>\n",
       "      <td>0.000000</td>\n",
       "      <td>0.287526</td>\n",
       "      <td>0.241611</td>\n",
       "      <td>0.631363</td>\n",
       "      <td>...</td>\n",
       "      <td>0.000000</td>\n",
       "      <td>0.293197</td>\n",
       "      <td>0.077057</td>\n",
       "      <td>0.000000</td>\n",
       "      <td>0.000000</td>\n",
       "      <td>0.135068</td>\n",
       "      <td>0.238221</td>\n",
       "      <td>0.056104</td>\n",
       "      <td>0.000000</td>\n",
       "      <td>0.065916</td>\n",
       "    </tr>\n",
       "    <tr>\n",
       "      <th>Apoh</th>\n",
       "      <td>1484.443494</td>\n",
       "      <td>1381.221548</td>\n",
       "      <td>1823.576617</td>\n",
       "      <td>1170.813440</td>\n",
       "      <td>1223.001220</td>\n",
       "      <td>1827.370055</td>\n",
       "      <td>1292.413480</td>\n",
       "      <td>886.585618</td>\n",
       "      <td>1267.127294</td>\n",
       "      <td>1078.638506</td>\n",
       "      <td>...</td>\n",
       "      <td>1497.374679</td>\n",
       "      <td>1145.375110</td>\n",
       "      <td>1898.753434</td>\n",
       "      <td>1567.636285</td>\n",
       "      <td>1727.570680</td>\n",
       "      <td>1453.395562</td>\n",
       "      <td>627.533836</td>\n",
       "      <td>1003.480178</td>\n",
       "      <td>1232.619699</td>\n",
       "      <td>1349.697628</td>\n",
       "    </tr>\n",
       "  </tbody>\n",
       "</table>\n",
       "<p>5 rows × 30 columns</p>\n",
       "</div>"
      ],
      "text/plain": [
       "       dHEP_549_A_T  dHEP_520_A_NT  dHEP_178_NI  F_F_167_NC_T  dHEP_550_A_NT  \\\n",
       "Gnai3    121.519560      89.035979    94.557437    113.223446      98.230254   \n",
       "NaN        0.000000       0.000000     0.000000      0.000000       0.000000   \n",
       "Cdc45      1.958903       1.673062     1.196930      2.630385       1.766455   \n",
       "NaN        0.067548       0.072742     0.108812      0.233812       0.153605   \n",
       "Apoh    1484.443494    1381.221548  1823.576617   1170.813440    1223.001220   \n",
       "\n",
       "       F_F_158_NC_NT  dHEP_549_A_NT  dHEP_520_A_T  F_F_169_NC_T  F_F_503_A_T1  \\\n",
       "Gnai3     111.136707      97.474351    132.836892    109.328840    114.096305   \n",
       "NaN         0.000000       0.000000      0.000000      0.000000      0.000000   \n",
       "Cdc45       1.086912       0.898758      2.300206      1.993288      1.984284   \n",
       "NaN         0.000000       0.000000      0.287526      0.241611      0.631363   \n",
       "Apoh     1827.370055    1292.413480    886.585618   1267.127294   1078.638506   \n",
       "\n",
       "           ...       dHEP_164_NC_NT  F_F_523_A_T1   F_F_184_NI  \\\n",
       "Gnai3      ...           113.769663    132.891660   109.728700   \n",
       "NaN        ...             0.000000      0.000000     0.000000   \n",
       "Cdc45      ...             2.222064      1.612585     0.693510   \n",
       "NaN        ...             0.000000      0.293197     0.077057   \n",
       "Apoh       ...          1497.374679   1145.375110  1898.753434   \n",
       "\n",
       "       dHEP_155_NC_NT  F_F_159_NC_NT  dHEP_165_NC_T  dHEP_155_NC_T  \\\n",
       "Gnai3      106.096154     103.304758     192.471416     153.176144   \n",
       "NaN          0.000000       0.000000       0.000000       0.000000   \n",
       "Cdc45        1.687041       1.777031       1.688346       4.976438   \n",
       "NaN          0.000000       0.000000       0.135068       0.238221   \n",
       "Apoh      1567.636285    1727.570680    1453.395562     627.533836   \n",
       "\n",
       "       F_F_168_NC_T  F_F_595_A_T  F_F_581_A_NT  \n",
       "Gnai3    183.460817   152.620839    108.366033  \n",
       "NaN        0.000000     0.000000      0.000000  \n",
       "Cdc45      4.123100     1.531535      1.943865  \n",
       "NaN        0.056104     0.000000      0.065916  \n",
       "Apoh    1003.480178  1232.619699   1349.697628  \n",
       "\n",
       "[5 rows x 30 columns]"
      ]
     },
     "metadata": {},
     "output_type": "display_data"
    },
    {
     "name": "stdout",
     "output_type": "stream",
     "text": [
      "\n",
      "Filtered meta file: (8, 6)\n"
     ]
    },
    {
     "data": {
      "text/html": [
       "<div>\n",
       "<style scoped>\n",
       "    .dataframe tbody tr th:only-of-type {\n",
       "        vertical-align: middle;\n",
       "    }\n",
       "\n",
       "    .dataframe tbody tr th {\n",
       "        vertical-align: top;\n",
       "    }\n",
       "\n",
       "    .dataframe thead th {\n",
       "        text-align: right;\n",
       "    }\n",
       "</style>\n",
       "<table border=\"1\" class=\"dataframe\">\n",
       "  <thead>\n",
       "    <tr style=\"text-align: right;\">\n",
       "      <th></th>\n",
       "      <th>Sample_name</th>\n",
       "      <th>mouse genotype</th>\n",
       "      <th>short_genotype</th>\n",
       "      <th>Model</th>\n",
       "      <th>Treatment</th>\n",
       "      <th>Tissue</th>\n",
       "    </tr>\n",
       "  </thead>\n",
       "  <tbody>\n",
       "    <tr>\n",
       "      <th>0</th>\n",
       "      <td>dHEP_518_A_NT</td>\n",
       "      <td>Alb-Cre;IL-17RA-flox/flox</td>\n",
       "      <td>AlbCre_IL17RA_floxflox</td>\n",
       "      <td>DEN</td>\n",
       "      <td>DEN_HFD_alcohol</td>\n",
       "      <td>Liver</td>\n",
       "    </tr>\n",
       "    <tr>\n",
       "      <th>1</th>\n",
       "      <td>dHEP_520_A_NT</td>\n",
       "      <td>Alb-Cre;IL-17RA-flox/flox</td>\n",
       "      <td>AlbCre_IL17RA_floxflox</td>\n",
       "      <td>DEN</td>\n",
       "      <td>DEN_HFD_alcohol</td>\n",
       "      <td>Liver</td>\n",
       "    </tr>\n",
       "    <tr>\n",
       "      <th>2</th>\n",
       "      <td>dHEP_549_A_NT</td>\n",
       "      <td>Alb-Cre;IL-17RA-flox/flox</td>\n",
       "      <td>AlbCre_IL17RA_floxflox</td>\n",
       "      <td>DEN</td>\n",
       "      <td>DEN_HFD_alcohol</td>\n",
       "      <td>Liver</td>\n",
       "    </tr>\n",
       "    <tr>\n",
       "      <th>3</th>\n",
       "      <td>dHEP_550_A_NT</td>\n",
       "      <td>Alb-Cre;IL-17RA-flox/flox</td>\n",
       "      <td>AlbCre_IL17RA_floxflox</td>\n",
       "      <td>DEN</td>\n",
       "      <td>DEN_HFD_alcohol</td>\n",
       "      <td>Liver</td>\n",
       "    </tr>\n",
       "    <tr>\n",
       "      <th>4</th>\n",
       "      <td>dHEP_518_A_T1</td>\n",
       "      <td>Alb-Cre;IL-17RA-flox/flox</td>\n",
       "      <td>AlbCre_IL17RA_floxflox</td>\n",
       "      <td>DEN</td>\n",
       "      <td>DEN_HFD_alcohol</td>\n",
       "      <td>liver_tumor</td>\n",
       "    </tr>\n",
       "    <tr>\n",
       "      <th>5</th>\n",
       "      <td>dHEP_520_A_T</td>\n",
       "      <td>Alb-Cre;IL-17RA-flox/flox</td>\n",
       "      <td>AlbCre_IL17RA_floxflox</td>\n",
       "      <td>DEN</td>\n",
       "      <td>DEN_HFD_alcohol</td>\n",
       "      <td>liver_tumor</td>\n",
       "    </tr>\n",
       "    <tr>\n",
       "      <th>6</th>\n",
       "      <td>dHEP_549_A_T</td>\n",
       "      <td>Alb-Cre;IL-17RA-flox/flox</td>\n",
       "      <td>AlbCre_IL17RA_floxflox</td>\n",
       "      <td>DEN</td>\n",
       "      <td>DEN_HFD_alcohol</td>\n",
       "      <td>liver_tumor</td>\n",
       "    </tr>\n",
       "    <tr>\n",
       "      <th>7</th>\n",
       "      <td>dHEP_550_A_T</td>\n",
       "      <td>Alb-Cre;IL-17RA-flox/flox</td>\n",
       "      <td>AlbCre_IL17RA_floxflox</td>\n",
       "      <td>DEN</td>\n",
       "      <td>DEN_HFD_alcohol</td>\n",
       "      <td>liver_tumor</td>\n",
       "    </tr>\n",
       "  </tbody>\n",
       "</table>\n",
       "</div>"
      ],
      "text/plain": [
       "     Sample_name             mouse genotype          short_genotype Model  \\\n",
       "0  dHEP_518_A_NT  Alb-Cre;IL-17RA-flox/flox  AlbCre_IL17RA_floxflox  DEN    \n",
       "1  dHEP_520_A_NT  Alb-Cre;IL-17RA-flox/flox  AlbCre_IL17RA_floxflox  DEN    \n",
       "2  dHEP_549_A_NT  Alb-Cre;IL-17RA-flox/flox  AlbCre_IL17RA_floxflox  DEN    \n",
       "3  dHEP_550_A_NT  Alb-Cre;IL-17RA-flox/flox  AlbCre_IL17RA_floxflox  DEN    \n",
       "4  dHEP_518_A_T1  Alb-Cre;IL-17RA-flox/flox  AlbCre_IL17RA_floxflox  DEN    \n",
       "5   dHEP_520_A_T  Alb-Cre;IL-17RA-flox/flox  AlbCre_IL17RA_floxflox  DEN    \n",
       "6   dHEP_549_A_T  Alb-Cre;IL-17RA-flox/flox  AlbCre_IL17RA_floxflox  DEN    \n",
       "7   dHEP_550_A_T  Alb-Cre;IL-17RA-flox/flox  AlbCre_IL17RA_floxflox  DEN    \n",
       "\n",
       "         Treatment       Tissue  \n",
       "0  DEN_HFD_alcohol        Liver  \n",
       "1  DEN_HFD_alcohol        Liver  \n",
       "2  DEN_HFD_alcohol        Liver  \n",
       "3  DEN_HFD_alcohol        Liver  \n",
       "4  DEN_HFD_alcohol  liver_tumor  \n",
       "5  DEN_HFD_alcohol  liver_tumor  \n",
       "6  DEN_HFD_alcohol  liver_tumor  \n",
       "7  DEN_HFD_alcohol  liver_tumor  "
      ]
     },
     "metadata": {},
     "output_type": "display_data"
    },
    {
     "name": "stdout",
     "output_type": "stream",
     "text": [
      "\n",
      "Filtered expression file: (22187, 9)\n"
     ]
    },
    {
     "data": {
      "text/html": [
       "<div>\n",
       "<style scoped>\n",
       "    .dataframe tbody tr th:only-of-type {\n",
       "        vertical-align: middle;\n",
       "    }\n",
       "\n",
       "    .dataframe tbody tr th {\n",
       "        vertical-align: top;\n",
       "    }\n",
       "\n",
       "    .dataframe thead th {\n",
       "        text-align: right;\n",
       "    }\n",
       "</style>\n",
       "<table border=\"1\" class=\"dataframe\">\n",
       "  <thead>\n",
       "    <tr style=\"text-align: right;\">\n",
       "      <th></th>\n",
       "      <th>Name</th>\n",
       "      <th>dHEP_518_A_NT</th>\n",
       "      <th>dHEP_520_A_NT</th>\n",
       "      <th>dHEP_549_A_NT</th>\n",
       "      <th>dHEP_550_A_NT</th>\n",
       "      <th>dHEP_518_A_T1</th>\n",
       "      <th>dHEP_520_A_T</th>\n",
       "      <th>dHEP_549_A_T</th>\n",
       "      <th>dHEP_550_A_T</th>\n",
       "    </tr>\n",
       "  </thead>\n",
       "  <tbody>\n",
       "    <tr>\n",
       "      <th>0</th>\n",
       "      <td>GNAI3</td>\n",
       "      <td>89.013791</td>\n",
       "      <td>89.035979</td>\n",
       "      <td>97.474351</td>\n",
       "      <td>98.230254</td>\n",
       "      <td>109.496950</td>\n",
       "      <td>132.836892</td>\n",
       "      <td>121.519560</td>\n",
       "      <td>230.577450</td>\n",
       "    </tr>\n",
       "    <tr>\n",
       "      <th>1</th>\n",
       "      <td>NAN</td>\n",
       "      <td>0.000000</td>\n",
       "      <td>0.000000</td>\n",
       "      <td>0.000000</td>\n",
       "      <td>0.000000</td>\n",
       "      <td>0.000000</td>\n",
       "      <td>0.000000</td>\n",
       "      <td>0.000000</td>\n",
       "      <td>0.000000</td>\n",
       "    </tr>\n",
       "    <tr>\n",
       "      <th>2</th>\n",
       "      <td>CDC45</td>\n",
       "      <td>2.455007</td>\n",
       "      <td>1.673062</td>\n",
       "      <td>0.898758</td>\n",
       "      <td>1.766455</td>\n",
       "      <td>1.489754</td>\n",
       "      <td>2.300206</td>\n",
       "      <td>1.958903</td>\n",
       "      <td>6.451114</td>\n",
       "    </tr>\n",
       "    <tr>\n",
       "      <th>3</th>\n",
       "      <td>NAN</td>\n",
       "      <td>0.000000</td>\n",
       "      <td>0.072742</td>\n",
       "      <td>0.000000</td>\n",
       "      <td>0.153605</td>\n",
       "      <td>0.165528</td>\n",
       "      <td>0.287526</td>\n",
       "      <td>0.067548</td>\n",
       "      <td>0.199519</td>\n",
       "    </tr>\n",
       "    <tr>\n",
       "      <th>4</th>\n",
       "      <td>APOH</td>\n",
       "      <td>1312.319871</td>\n",
       "      <td>1381.221548</td>\n",
       "      <td>1292.413480</td>\n",
       "      <td>1223.001220</td>\n",
       "      <td>1304.197234</td>\n",
       "      <td>886.585618</td>\n",
       "      <td>1484.443494</td>\n",
       "      <td>1383.930242</td>\n",
       "    </tr>\n",
       "  </tbody>\n",
       "</table>\n",
       "</div>"
      ],
      "text/plain": [
       "    Name  dHEP_518_A_NT  dHEP_520_A_NT  dHEP_549_A_NT  dHEP_550_A_NT  \\\n",
       "0  GNAI3      89.013791      89.035979      97.474351      98.230254   \n",
       "1    NAN       0.000000       0.000000       0.000000       0.000000   \n",
       "2  CDC45       2.455007       1.673062       0.898758       1.766455   \n",
       "3    NAN       0.000000       0.072742       0.000000       0.153605   \n",
       "4   APOH    1312.319871    1381.221548    1292.413480    1223.001220   \n",
       "\n",
       "   dHEP_518_A_T1  dHEP_520_A_T  dHEP_549_A_T  dHEP_550_A_T  \n",
       "0     109.496950    132.836892    121.519560    230.577450  \n",
       "1       0.000000      0.000000      0.000000      0.000000  \n",
       "2       1.489754      2.300206      1.958903      6.451114  \n",
       "3       0.165528      0.287526      0.067548      0.199519  \n",
       "4    1304.197234    886.585618   1484.443494   1383.930242  "
      ]
     },
     "metadata": {},
     "output_type": "display_data"
    }
   ],
   "source": [
    "# None of the output tables should be empty. If so, try re-running the pipeline\n",
    "gsea_prepper.filter_expression_file()"
   ]
  },
  {
   "cell_type": "markdown",
   "metadata": {},
   "source": [
    "## GSEA Call\n",
    "<a id='gsea'></a>"
   ]
  },
  {
   "cell_type": "code",
   "execution_count": 21,
   "metadata": {
    "scrolled": false
   },
   "outputs": [
    {
     "name": "stderr",
     "output_type": "stream",
     "text": [
      "2018-06-21 10:21:43,160 Warning: dropping duplicated gene names, only keep the first values\n"
     ]
    },
    {
     "name": "stdout",
     "output_type": "stream",
     "text": [
      "This may take a few minutes.\n",
      "\n"
     ]
    },
    {
     "name": "stderr",
     "output_type": "stream",
     "text": [
      "C:\\Users\\m1web\\Anaconda2\\lib\\site-packages\\gseapy\\algorithm.py:525: RuntimeWarning: divide by zero encountered in true_divide\n",
      "  np.sum(esnull >= es.reshape(len(es),1), axis=1)/ np.sum(esnull >= 0, axis=1)]\n",
      "C:\\Users\\m1web\\Anaconda2\\lib\\site-packages\\gseapy\\algorithm.py:525: RuntimeWarning: invalid value encountered in true_divide\n",
      "  np.sum(esnull >= es.reshape(len(es),1), axis=1)/ np.sum(esnull >= 0, axis=1)]\n",
      "C:\\Users\\m1web\\Anaconda2\\lib\\site-packages\\gseapy\\algorithm.py:573: RuntimeWarning: Mean of empty slice.\n",
      "  meanPos = enrNull[enrNull >= 0].mean()\n",
      "C:\\Users\\m1web\\Anaconda2\\lib\\site-packages\\numpy\\core\\_methods.py:80: RuntimeWarning: invalid value encountered in double_scalars\n",
      "  ret = ret.dtype.type(ret / rcount)\n"
     ]
    },
    {
     "name": "stdout",
     "output_type": "stream",
     "text": [
      "Gsea output written to filepath:\n",
      "../../gsea_output/gseapy.gsea.gene_set.report.csv\n",
      "\n",
      "Class and comparison preferences written to filepath:\n",
      "../../gsea_output/extra_gsea_info.txt\n"
     ]
    },
    {
     "data": {
      "text/html": [
       "<div>\n",
       "<style scoped>\n",
       "    .dataframe tbody tr th:only-of-type {\n",
       "        vertical-align: middle;\n",
       "    }\n",
       "\n",
       "    .dataframe tbody tr th {\n",
       "        vertical-align: top;\n",
       "    }\n",
       "\n",
       "    .dataframe thead th {\n",
       "        text-align: right;\n",
       "    }\n",
       "</style>\n",
       "<table border=\"1\" class=\"dataframe\">\n",
       "  <thead>\n",
       "    <tr style=\"text-align: right;\">\n",
       "      <th></th>\n",
       "      <th>es</th>\n",
       "      <th>nes</th>\n",
       "      <th>pval</th>\n",
       "      <th>fdr</th>\n",
       "      <th>geneset_size</th>\n",
       "      <th>matched_size</th>\n",
       "      <th>genes</th>\n",
       "    </tr>\n",
       "    <tr>\n",
       "      <th>Term</th>\n",
       "      <th></th>\n",
       "      <th></th>\n",
       "      <th></th>\n",
       "      <th></th>\n",
       "      <th></th>\n",
       "      <th></th>\n",
       "      <th></th>\n",
       "    </tr>\n",
       "  </thead>\n",
       "  <tbody>\n",
       "    <tr>\n",
       "      <th>HALLMARK_MITOTIC_SPINDLE</th>\n",
       "      <td>-0.583940</td>\n",
       "      <td>-1.753938</td>\n",
       "      <td>0.0</td>\n",
       "      <td>0.0</td>\n",
       "      <td>200</td>\n",
       "      <td>196</td>\n",
       "      <td>GSN,DYNLL2,PREX1,ARHGAP10,SHROOM1,KIF1B,FGD4,S...</td>\n",
       "    </tr>\n",
       "    <tr>\n",
       "      <th>HALLMARK_G2M_CHECKPOINT</th>\n",
       "      <td>-0.718074</td>\n",
       "      <td>-2.197428</td>\n",
       "      <td>0.0</td>\n",
       "      <td>0.0</td>\n",
       "      <td>200</td>\n",
       "      <td>191</td>\n",
       "      <td>EFNA5,SLC12A2,FOXN3,CCNF,RPS6KA5,MAPK14,TGFB1,...</td>\n",
       "    </tr>\n",
       "    <tr>\n",
       "      <th>HALLMARK_FATTY_ACID_METABOLISM</th>\n",
       "      <td>0.427845</td>\n",
       "      <td>2.201317</td>\n",
       "      <td>0.0</td>\n",
       "      <td>0.0</td>\n",
       "      <td>158</td>\n",
       "      <td>138</td>\n",
       "      <td>CIDEA,INMT,GLUL,RDH16,RETSAT,AADAT,HSD17B11,GC...</td>\n",
       "    </tr>\n",
       "    <tr>\n",
       "      <th>HALLMARK_E2F_TARGETS</th>\n",
       "      <td>-0.683372</td>\n",
       "      <td>-2.033558</td>\n",
       "      <td>0.0</td>\n",
       "      <td>0.0</td>\n",
       "      <td>200</td>\n",
       "      <td>193</td>\n",
       "      <td>E2F8,TK1,AK2,CCP110,PTTG1,WEE1,SHMT1,DCLRE1B,P...</td>\n",
       "    </tr>\n",
       "    <tr>\n",
       "      <th>HALLMARK_CHOLESTEROL_HOMEOSTASIS</th>\n",
       "      <td>-0.686419</td>\n",
       "      <td>-1.897569</td>\n",
       "      <td>0.0</td>\n",
       "      <td>0.0</td>\n",
       "      <td>74</td>\n",
       "      <td>68</td>\n",
       "      <td>GNAI1,ADH4,NFIL3,ETHE1,ECH1,CPEB2,PPARG,ABCA2,...</td>\n",
       "    </tr>\n",
       "  </tbody>\n",
       "</table>\n",
       "</div>"
      ],
      "text/plain": [
       "                                        es       nes  pval  fdr  geneset_size  \\\n",
       "Term                                                                            \n",
       "HALLMARK_MITOTIC_SPINDLE         -0.583940 -1.753938   0.0  0.0           200   \n",
       "HALLMARK_G2M_CHECKPOINT          -0.718074 -2.197428   0.0  0.0           200   \n",
       "HALLMARK_FATTY_ACID_METABOLISM    0.427845  2.201317   0.0  0.0           158   \n",
       "HALLMARK_E2F_TARGETS             -0.683372 -2.033558   0.0  0.0           200   \n",
       "HALLMARK_CHOLESTEROL_HOMEOSTASIS -0.686419 -1.897569   0.0  0.0            74   \n",
       "\n",
       "                                  matched_size  \\\n",
       "Term                                             \n",
       "HALLMARK_MITOTIC_SPINDLE                   196   \n",
       "HALLMARK_G2M_CHECKPOINT                    191   \n",
       "HALLMARK_FATTY_ACID_METABOLISM             138   \n",
       "HALLMARK_E2F_TARGETS                       193   \n",
       "HALLMARK_CHOLESTEROL_HOMEOSTASIS            68   \n",
       "\n",
       "                                                                              genes  \n",
       "Term                                                                                 \n",
       "HALLMARK_MITOTIC_SPINDLE          GSN,DYNLL2,PREX1,ARHGAP10,SHROOM1,KIF1B,FGD4,S...  \n",
       "HALLMARK_G2M_CHECKPOINT           EFNA5,SLC12A2,FOXN3,CCNF,RPS6KA5,MAPK14,TGFB1,...  \n",
       "HALLMARK_FATTY_ACID_METABOLISM    CIDEA,INMT,GLUL,RDH16,RETSAT,AADAT,HSD17B11,GC...  \n",
       "HALLMARK_E2F_TARGETS              E2F8,TK1,AK2,CCP110,PTTG1,WEE1,SHMT1,DCLRE1B,P...  \n",
       "HALLMARK_CHOLESTEROL_HOMEOSTASIS  GNAI1,ADH4,NFIL3,ETHE1,ECH1,CPEB2,PPARG,ABCA2,...  "
      ]
     },
     "execution_count": 21,
     "metadata": {},
     "output_type": "execute_result"
    }
   ],
   "source": [
    "gsea_prepper.call_gsea(method = 'log2_ratio_of_classes',\n",
    "          processes = 4,\n",
    "          format = 'png',\n",
    "          permutation_num = 10,\n",
    "          weighted_score_type = 1)"
   ]
  },
  {
   "cell_type": "markdown",
   "metadata": {},
   "source": [
    "## Visualization Functions\n",
    "<a id='vis'></a>"
   ]
  },
  {
   "cell_type": "code",
   "execution_count": 22,
   "metadata": {
    "scrolled": false
   },
   "outputs": [
    {
     "name": "stdout",
     "output_type": "stream",
     "text": [
      "Filtering metafile by the following classes and controls:\n",
      "\n",
      "class name: Tissue\n",
      "Tissue value 1: Liver\n",
      "Tissue value 2: liver_tumor\n",
      "\n",
      "controls: \n",
      "mouse genotype: Alb-Cre;IL-17RA-flox/flox\n",
      "short_genotype: AlbCre_IL17RA_floxflox\n",
      "Model: DEN \n",
      "Treatment: DEN_HFD_alcohol\n",
      "\n",
      "Please confirm that all the information above is correct.\n",
      "\n"
     ]
    },
    {
     "data": {
      "image/png": "[encoded data removed]",
      "text/plain": [
       "<matplotlib.figure.Figure at 0xcffb320>"
      ]
     },
     "metadata": {},
     "output_type": "display_data"
    }
   ],
   "source": [
    "gsea_prepper.plot_gsea(style_content = 'ggplot', top = 20, y = 'fdr', x = 'Term', fontsize = 8)"
   ]
  },
  {
   "cell_type": "code",
   "execution_count": 23,
   "metadata": {},
   "outputs": [
    {
     "name": "stdout",
     "output_type": "stream",
     "text": [
      "Filtering metafile by the following classes and controls:\n",
      "\n",
      "class name: Tissue\n",
      "Tissue value 1: Liver\n",
      "Tissue value 2: liver_tumor\n",
      "\n",
      "controls: \n",
      "mouse genotype: Alb-Cre;IL-17RA-flox/flox\n",
      "short_genotype: AlbCre_IL17RA_floxflox\n",
      "Model: DEN \n",
      "Treatment: DEN_HFD_alcohol\n",
      "\n",
      "Please confirm that all the information above is correct.\n",
      "\n"
     ]
    },
    {
     "data": {
      "image/png": "[encoded data removed]",
      "text/plain": [
       "<matplotlib.figure.Figure at 0xcffb3c8>"
      ]
     },
     "metadata": {},
     "output_type": "display_data"
    }
   ],
   "source": [
    "gsea_prepper.plot_individual_pathway_heatmap('HALLMARK_SPERMATOGENESIS')"
   ]
  },
  {
   "cell_type": "code",
   "execution_count": null,
   "metadata": {},
   "outputs": [],
   "source": []
  }
 ],
 "metadata": {
  "kernelspec": {
   "display_name": "Python 2",
   "language": "python",
   "name": "python2"
  },
  "language_info": {
   "codemirror_mode": {
    "name": "ipython",
    "version": 2
   },
   "file_extension": ".py",
   "mimetype": "text/x-python",
   "name": "python",
   "nbconvert_exporter": "python",
   "pygments_lexer": "ipython2",
   "version": "2.7.14"
  }
 },
 "nbformat": 4,
 "nbformat_minor": 2
}
