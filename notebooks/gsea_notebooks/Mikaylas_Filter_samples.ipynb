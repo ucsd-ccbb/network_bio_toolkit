{
 "cells": [
  {
   "cell_type": "markdown",
   "metadata": {},
   "source": [
    "## Import Packages"
   ]
  },
  {
   "cell_type": "code",
   "execution_count": 1,
   "metadata": {},
   "outputs": [],
   "source": [
    "import pandas as pd\n",
    "import numpy as np\n",
    "import gseapy as gp\n",
    "\n",
    "from IPython.core.interactiveshell import InteractiveShell\n",
    "InteractiveShell.ast_node_interactivity = \"all\"\n",
    "\n",
    "from ipywidgets import widgets\n",
    "from IPython.display import display"
   ]
  },
  {
   "cell_type": "markdown",
   "metadata": {},
   "source": [
    "## User Preferences for Metafile Filtering"
   ]
  },
  {
   "cell_type": "code",
   "execution_count": 62,
   "metadata": {
    "scrolled": true
   },
   "outputs": [
    {
     "data": {
      "text/html": [
       "<div>\n",
       "<style>\n",
       "    .dataframe thead tr:only-child th {\n",
       "        text-align: right;\n",
       "    }\n",
       "\n",
       "    .dataframe thead th {\n",
       "        text-align: left;\n",
       "    }\n",
       "\n",
       "    .dataframe tbody tr th {\n",
       "        vertical-align: top;\n",
       "    }\n",
       "</style>\n",
       "<table border=\"1\" class=\"dataframe\">\n",
       "  <thead>\n",
       "    <tr style=\"text-align: right;\">\n",
       "      <th></th>\n",
       "      <th>Sample_name</th>\n",
       "      <th>Sample_Name2</th>\n",
       "      <th>mouse genotype</th>\n",
       "      <th>short_genotype</th>\n",
       "      <th>Model</th>\n",
       "      <th>Treatment</th>\n",
       "      <th>Tissue</th>\n",
       "    </tr>\n",
       "  </thead>\n",
       "  <tbody>\n",
       "    <tr>\n",
       "      <th>0</th>\n",
       "      <td>dHEP_518_A_NT</td>\n",
       "      <td>dHEP-518-A-NT</td>\n",
       "      <td>Alb-Cre;IL-17RA-flox/flox</td>\n",
       "      <td>AlbCre_IL17RA_floxflox</td>\n",
       "      <td>DEN</td>\n",
       "      <td>DEN_HFD_alcohol</td>\n",
       "      <td>Liver</td>\n",
       "    </tr>\n",
       "    <tr>\n",
       "      <th>1</th>\n",
       "      <td>dHEP_520_A_NT</td>\n",
       "      <td>dHEP-520-A-NT</td>\n",
       "      <td>Alb-Cre;IL-17RA-flox/flox</td>\n",
       "      <td>AlbCre_IL17RA_floxflox</td>\n",
       "      <td>DEN</td>\n",
       "      <td>DEN_HFD_alcohol</td>\n",
       "      <td>Liver</td>\n",
       "    </tr>\n",
       "    <tr>\n",
       "      <th>2</th>\n",
       "      <td>dHEP_549_A_NT</td>\n",
       "      <td>dHEP-549-A-NT</td>\n",
       "      <td>Alb-Cre;IL-17RA-flox/flox</td>\n",
       "      <td>AlbCre_IL17RA_floxflox</td>\n",
       "      <td>DEN</td>\n",
       "      <td>DEN_HFD_alcohol</td>\n",
       "      <td>Liver</td>\n",
       "    </tr>\n",
       "    <tr>\n",
       "      <th>3</th>\n",
       "      <td>dHEP_550_A_NT</td>\n",
       "      <td>dHEP-550-A-NT</td>\n",
       "      <td>Alb-Cre;IL-17RA-flox/flox</td>\n",
       "      <td>AlbCre_IL17RA_floxflox</td>\n",
       "      <td>DEN</td>\n",
       "      <td>DEN_HFD_alcohol</td>\n",
       "      <td>Liver</td>\n",
       "    </tr>\n",
       "    <tr>\n",
       "      <th>4</th>\n",
       "      <td>F_F_503_A_NT</td>\n",
       "      <td>F/F-503-A-NT</td>\n",
       "      <td>IL-17RA-flox/flox</td>\n",
       "      <td>IL17RA_floxflox</td>\n",
       "      <td>DEN</td>\n",
       "      <td>DEN_HFD_alcohol</td>\n",
       "      <td>Liver</td>\n",
       "    </tr>\n",
       "    <tr>\n",
       "      <th>5</th>\n",
       "      <td>F_F_523_A_NT</td>\n",
       "      <td>F/F-523-A-NT</td>\n",
       "      <td>IL-17RA-flox/flox</td>\n",
       "      <td>IL17RA_floxflox</td>\n",
       "      <td>DEN</td>\n",
       "      <td>DEN_HFD_alcohol</td>\n",
       "      <td>Liver</td>\n",
       "    </tr>\n",
       "    <tr>\n",
       "      <th>6</th>\n",
       "      <td>F_F_581_A_NT</td>\n",
       "      <td>F/F-581-A-NT</td>\n",
       "      <td>IL-17RA-flox/flox</td>\n",
       "      <td>IL17RA_floxflox</td>\n",
       "      <td>DEN</td>\n",
       "      <td>DEN_HFD_alcohol</td>\n",
       "      <td>Liver</td>\n",
       "    </tr>\n",
       "    <tr>\n",
       "      <th>7</th>\n",
       "      <td>F_F_595_A_NT</td>\n",
       "      <td>F/F-595-A-NT</td>\n",
       "      <td>IL-17RA-flox/flox</td>\n",
       "      <td>IL17RA_floxflox</td>\n",
       "      <td>DEN</td>\n",
       "      <td>DEN_HFD_alcohol</td>\n",
       "      <td>Liver</td>\n",
       "    </tr>\n",
       "    <tr>\n",
       "      <th>8</th>\n",
       "      <td>dHEP_155_NC_NT</td>\n",
       "      <td>dHEP-155-NC-NT</td>\n",
       "      <td>Alb-Cre;IL-17RA-flox/flox</td>\n",
       "      <td>AlbCre_IL17RA_floxflox</td>\n",
       "      <td>DEN</td>\n",
       "      <td>DEN_only</td>\n",
       "      <td>Liver</td>\n",
       "    </tr>\n",
       "    <tr>\n",
       "      <th>9</th>\n",
       "      <td>dHEP_164_NC_NT</td>\n",
       "      <td>dHEP-164-NC-NT</td>\n",
       "      <td>Alb-Cre;IL-17RA-flox/flox</td>\n",
       "      <td>AlbCre_IL17RA_floxflox</td>\n",
       "      <td>DEN</td>\n",
       "      <td>DEN_only</td>\n",
       "      <td>Liver</td>\n",
       "    </tr>\n",
       "    <tr>\n",
       "      <th>10</th>\n",
       "      <td>dHEP_165_NC_NT</td>\n",
       "      <td>dHEP-165-NC-NT</td>\n",
       "      <td>Alb-Cre;IL-17RA-flox/flox</td>\n",
       "      <td>AlbCre_IL17RA_floxflox</td>\n",
       "      <td>DEN</td>\n",
       "      <td>DEN_only</td>\n",
       "      <td>Liver</td>\n",
       "    </tr>\n",
       "    <tr>\n",
       "      <th>11</th>\n",
       "      <td>F_F_157_NC_NT</td>\n",
       "      <td>F/F-157-NC-NT</td>\n",
       "      <td>IL-17RA-flox/flox</td>\n",
       "      <td>IL17RA_floxflox</td>\n",
       "      <td>DEN</td>\n",
       "      <td>DEN_only</td>\n",
       "      <td>Liver</td>\n",
       "    </tr>\n",
       "    <tr>\n",
       "      <th>12</th>\n",
       "      <td>F_F_158_NC_NT</td>\n",
       "      <td>F/F-158-NC-NT</td>\n",
       "      <td>IL-17RA-flox/flox</td>\n",
       "      <td>IL17RA_floxflox</td>\n",
       "      <td>DEN</td>\n",
       "      <td>DEN_only</td>\n",
       "      <td>Liver</td>\n",
       "    </tr>\n",
       "    <tr>\n",
       "      <th>13</th>\n",
       "      <td>F_F_159_NC_NT</td>\n",
       "      <td>F/F-159-NC-NT</td>\n",
       "      <td>IL-17RA-flox/flox</td>\n",
       "      <td>IL17RA_floxflox</td>\n",
       "      <td>DEN</td>\n",
       "      <td>DEN_only</td>\n",
       "      <td>Liver</td>\n",
       "    </tr>\n",
       "    <tr>\n",
       "      <th>14</th>\n",
       "      <td>dHEP_518_A_T1</td>\n",
       "      <td>dHEP-518-A-T1</td>\n",
       "      <td>Alb-Cre;IL-17RA-flox/flox</td>\n",
       "      <td>AlbCre_IL17RA_floxflox</td>\n",
       "      <td>DEN</td>\n",
       "      <td>DEN_HFD_alcohol</td>\n",
       "      <td>liver_tumor</td>\n",
       "    </tr>\n",
       "    <tr>\n",
       "      <th>15</th>\n",
       "      <td>dHEP_520_A_T</td>\n",
       "      <td>dHEP-520-A-T</td>\n",
       "      <td>Alb-Cre;IL-17RA-flox/flox</td>\n",
       "      <td>AlbCre_IL17RA_floxflox</td>\n",
       "      <td>DEN</td>\n",
       "      <td>DEN_HFD_alcohol</td>\n",
       "      <td>liver_tumor</td>\n",
       "    </tr>\n",
       "    <tr>\n",
       "      <th>16</th>\n",
       "      <td>dHEP_549_A_T</td>\n",
       "      <td>dHEP-549-A-T</td>\n",
       "      <td>Alb-Cre;IL-17RA-flox/flox</td>\n",
       "      <td>AlbCre_IL17RA_floxflox</td>\n",
       "      <td>DEN</td>\n",
       "      <td>DEN_HFD_alcohol</td>\n",
       "      <td>liver_tumor</td>\n",
       "    </tr>\n",
       "    <tr>\n",
       "      <th>17</th>\n",
       "      <td>dHEP_550_A_T</td>\n",
       "      <td>dHEP-550-A-T</td>\n",
       "      <td>Alb-Cre;IL-17RA-flox/flox</td>\n",
       "      <td>AlbCre_IL17RA_floxflox</td>\n",
       "      <td>DEN</td>\n",
       "      <td>DEN_HFD_alcohol</td>\n",
       "      <td>liver_tumor</td>\n",
       "    </tr>\n",
       "    <tr>\n",
       "      <th>18</th>\n",
       "      <td>F_F_503_A_T1</td>\n",
       "      <td>F/F-503-A-T1</td>\n",
       "      <td>IL-17RA-flox/flox</td>\n",
       "      <td>IL17RA_floxflox</td>\n",
       "      <td>DEN</td>\n",
       "      <td>DEN_HFD_alcohol</td>\n",
       "      <td>liver_tumor</td>\n",
       "    </tr>\n",
       "    <tr>\n",
       "      <th>19</th>\n",
       "      <td>F_F_523_A_T1</td>\n",
       "      <td>F/F-523-A-T1</td>\n",
       "      <td>IL-17RA-flox/flox</td>\n",
       "      <td>IL17RA_floxflox</td>\n",
       "      <td>DEN</td>\n",
       "      <td>DEN_HFD_alcohol</td>\n",
       "      <td>liver_tumor</td>\n",
       "    </tr>\n",
       "    <tr>\n",
       "      <th>20</th>\n",
       "      <td>F_F_581_A_T</td>\n",
       "      <td>F/F-581-A-T</td>\n",
       "      <td>IL-17RA-flox/flox</td>\n",
       "      <td>IL17RA_floxflox</td>\n",
       "      <td>DEN</td>\n",
       "      <td>DEN_HFD_alcohol</td>\n",
       "      <td>liver_tumor</td>\n",
       "    </tr>\n",
       "    <tr>\n",
       "      <th>21</th>\n",
       "      <td>F_F_595_A_T</td>\n",
       "      <td>F/F-595-A-T</td>\n",
       "      <td>IL-17RA-flox/flox</td>\n",
       "      <td>IL17RA_floxflox</td>\n",
       "      <td>DEN</td>\n",
       "      <td>DEN_HFD_alcohol</td>\n",
       "      <td>liver_tumor</td>\n",
       "    </tr>\n",
       "    <tr>\n",
       "      <th>22</th>\n",
       "      <td>dHEP_155_NC_T</td>\n",
       "      <td>dHEP-155-NC-T</td>\n",
       "      <td>Alb-Cre;IL-17RA-flox/flox</td>\n",
       "      <td>AlbCre_IL17RA_floxflox</td>\n",
       "      <td>DEN</td>\n",
       "      <td>DEN_only</td>\n",
       "      <td>liver_tumor</td>\n",
       "    </tr>\n",
       "    <tr>\n",
       "      <th>23</th>\n",
       "      <td>dHEP_164_NC_T</td>\n",
       "      <td>dHEP-164-NC-T</td>\n",
       "      <td>Alb-Cre;IL-17RA-flox/flox</td>\n",
       "      <td>AlbCre_IL17RA_floxflox</td>\n",
       "      <td>DEN</td>\n",
       "      <td>DEN_only</td>\n",
       "      <td>liver_tumor</td>\n",
       "    </tr>\n",
       "    <tr>\n",
       "      <th>24</th>\n",
       "      <td>dHEP_165_NC_T</td>\n",
       "      <td>dHEP-165-NC-T</td>\n",
       "      <td>Alb-Cre;IL-17RA-flox/flox</td>\n",
       "      <td>AlbCre_IL17RA_floxflox</td>\n",
       "      <td>DEN</td>\n",
       "      <td>DEN_only</td>\n",
       "      <td>liver_tumor</td>\n",
       "    </tr>\n",
       "    <tr>\n",
       "      <th>25</th>\n",
       "      <td>F_F_167_NC_T</td>\n",
       "      <td>F/F-167-NC-T</td>\n",
       "      <td>IL-17RA-flox/flox</td>\n",
       "      <td>IL17RA_floxflox</td>\n",
       "      <td>DEN</td>\n",
       "      <td>DEN_only</td>\n",
       "      <td>liver_tumor</td>\n",
       "    </tr>\n",
       "    <tr>\n",
       "      <th>26</th>\n",
       "      <td>F_F_168_NC_T</td>\n",
       "      <td>F/F-168-NC-T</td>\n",
       "      <td>IL-17RA-flox/flox</td>\n",
       "      <td>IL17RA_floxflox</td>\n",
       "      <td>DEN</td>\n",
       "      <td>DEN_only</td>\n",
       "      <td>liver_tumor</td>\n",
       "    </tr>\n",
       "    <tr>\n",
       "      <th>27</th>\n",
       "      <td>F_F_169_NC_T</td>\n",
       "      <td>F/F-169-NC-T</td>\n",
       "      <td>IL-17RA-flox/flox</td>\n",
       "      <td>IL17RA_floxflox</td>\n",
       "      <td>DEN</td>\n",
       "      <td>DEN_only</td>\n",
       "      <td>liver_tumor</td>\n",
       "    </tr>\n",
       "    <tr>\n",
       "      <th>28</th>\n",
       "      <td>F_F_184_NI</td>\n",
       "      <td>F/F-184-NI</td>\n",
       "      <td>IL-17RA-flox/flox</td>\n",
       "      <td>IL17RA_floxflox</td>\n",
       "      <td>no_injury</td>\n",
       "      <td>no_injury</td>\n",
       "      <td>Liver</td>\n",
       "    </tr>\n",
       "    <tr>\n",
       "      <th>29</th>\n",
       "      <td>dHEP_178_NI</td>\n",
       "      <td>dHEP-178-NI</td>\n",
       "      <td>Alb-Cre;IL-17RA-flox/flox</td>\n",
       "      <td>AlbCre_IL17RA_floxflox</td>\n",
       "      <td>no_injury</td>\n",
       "      <td>no_injury</td>\n",
       "      <td>Liver</td>\n",
       "    </tr>\n",
       "  </tbody>\n",
       "</table>\n",
       "</div>"
      ],
      "text/plain": [
       "       Sample_name    Sample_Name2             mouse genotype  \\\n",
       "0    dHEP_518_A_NT   dHEP-518-A-NT  Alb-Cre;IL-17RA-flox/flox   \n",
       "1    dHEP_520_A_NT   dHEP-520-A-NT  Alb-Cre;IL-17RA-flox/flox   \n",
       "2    dHEP_549_A_NT   dHEP-549-A-NT  Alb-Cre;IL-17RA-flox/flox   \n",
       "3    dHEP_550_A_NT   dHEP-550-A-NT  Alb-Cre;IL-17RA-flox/flox   \n",
       "4     F_F_503_A_NT    F/F-503-A-NT          IL-17RA-flox/flox   \n",
       "5     F_F_523_A_NT    F/F-523-A-NT          IL-17RA-flox/flox   \n",
       "6     F_F_581_A_NT    F/F-581-A-NT          IL-17RA-flox/flox   \n",
       "7     F_F_595_A_NT    F/F-595-A-NT          IL-17RA-flox/flox   \n",
       "8   dHEP_155_NC_NT  dHEP-155-NC-NT  Alb-Cre;IL-17RA-flox/flox   \n",
       "9   dHEP_164_NC_NT  dHEP-164-NC-NT  Alb-Cre;IL-17RA-flox/flox   \n",
       "10  dHEP_165_NC_NT  dHEP-165-NC-NT  Alb-Cre;IL-17RA-flox/flox   \n",
       "11   F_F_157_NC_NT   F/F-157-NC-NT          IL-17RA-flox/flox   \n",
       "12   F_F_158_NC_NT   F/F-158-NC-NT          IL-17RA-flox/flox   \n",
       "13   F_F_159_NC_NT   F/F-159-NC-NT          IL-17RA-flox/flox   \n",
       "14   dHEP_518_A_T1   dHEP-518-A-T1  Alb-Cre;IL-17RA-flox/flox   \n",
       "15    dHEP_520_A_T    dHEP-520-A-T  Alb-Cre;IL-17RA-flox/flox   \n",
       "16    dHEP_549_A_T    dHEP-549-A-T  Alb-Cre;IL-17RA-flox/flox   \n",
       "17    dHEP_550_A_T    dHEP-550-A-T  Alb-Cre;IL-17RA-flox/flox   \n",
       "18    F_F_503_A_T1    F/F-503-A-T1          IL-17RA-flox/flox   \n",
       "19    F_F_523_A_T1    F/F-523-A-T1          IL-17RA-flox/flox   \n",
       "20     F_F_581_A_T     F/F-581-A-T          IL-17RA-flox/flox   \n",
       "21     F_F_595_A_T     F/F-595-A-T          IL-17RA-flox/flox   \n",
       "22   dHEP_155_NC_T   dHEP-155-NC-T  Alb-Cre;IL-17RA-flox/flox   \n",
       "23   dHEP_164_NC_T   dHEP-164-NC-T  Alb-Cre;IL-17RA-flox/flox   \n",
       "24   dHEP_165_NC_T   dHEP-165-NC-T  Alb-Cre;IL-17RA-flox/flox   \n",
       "25    F_F_167_NC_T    F/F-167-NC-T          IL-17RA-flox/flox   \n",
       "26    F_F_168_NC_T    F/F-168-NC-T          IL-17RA-flox/flox   \n",
       "27    F_F_169_NC_T    F/F-169-NC-T          IL-17RA-flox/flox   \n",
       "28      F_F_184_NI      F/F-184-NI          IL-17RA-flox/flox   \n",
       "29     dHEP_178_NI     dHEP-178-NI  Alb-Cre;IL-17RA-flox/flox   \n",
       "\n",
       "            short_genotype      Model        Treatment       Tissue  \n",
       "0   AlbCre_IL17RA_floxflox       DEN   DEN_HFD_alcohol        Liver  \n",
       "1   AlbCre_IL17RA_floxflox       DEN   DEN_HFD_alcohol        Liver  \n",
       "2   AlbCre_IL17RA_floxflox       DEN   DEN_HFD_alcohol        Liver  \n",
       "3   AlbCre_IL17RA_floxflox       DEN   DEN_HFD_alcohol        Liver  \n",
       "4          IL17RA_floxflox       DEN   DEN_HFD_alcohol        Liver  \n",
       "5          IL17RA_floxflox       DEN   DEN_HFD_alcohol        Liver  \n",
       "6          IL17RA_floxflox       DEN   DEN_HFD_alcohol        Liver  \n",
       "7          IL17RA_floxflox       DEN   DEN_HFD_alcohol        Liver  \n",
       "8   AlbCre_IL17RA_floxflox       DEN          DEN_only        Liver  \n",
       "9   AlbCre_IL17RA_floxflox       DEN          DEN_only        Liver  \n",
       "10  AlbCre_IL17RA_floxflox       DEN          DEN_only        Liver  \n",
       "11         IL17RA_floxflox       DEN          DEN_only        Liver  \n",
       "12         IL17RA_floxflox       DEN          DEN_only        Liver  \n",
       "13         IL17RA_floxflox       DEN          DEN_only        Liver  \n",
       "14  AlbCre_IL17RA_floxflox       DEN   DEN_HFD_alcohol  liver_tumor  \n",
       "15  AlbCre_IL17RA_floxflox       DEN   DEN_HFD_alcohol  liver_tumor  \n",
       "16  AlbCre_IL17RA_floxflox       DEN   DEN_HFD_alcohol  liver_tumor  \n",
       "17  AlbCre_IL17RA_floxflox       DEN   DEN_HFD_alcohol  liver_tumor  \n",
       "18         IL17RA_floxflox       DEN   DEN_HFD_alcohol  liver_tumor  \n",
       "19         IL17RA_floxflox       DEN   DEN_HFD_alcohol  liver_tumor  \n",
       "20         IL17RA_floxflox       DEN   DEN_HFD_alcohol  liver_tumor  \n",
       "21         IL17RA_floxflox       DEN   DEN_HFD_alcohol  liver_tumor  \n",
       "22  AlbCre_IL17RA_floxflox       DEN          DEN_only  liver_tumor  \n",
       "23  AlbCre_IL17RA_floxflox       DEN          DEN_only  liver_tumor  \n",
       "24  AlbCre_IL17RA_floxflox       DEN          DEN_only  liver_tumor  \n",
       "25         IL17RA_floxflox       DEN          DEN_only  liver_tumor  \n",
       "26         IL17RA_floxflox       DEN          DEN_only  liver_tumor  \n",
       "27         IL17RA_floxflox       DEN          DEN_only  liver_tumor  \n",
       "28         IL17RA_floxflox  no_injury        no_injury        Liver  \n",
       "29  AlbCre_IL17RA_floxflox  no_injury        no_injury        Liver  "
      ]
     },
     "execution_count": 62,
     "metadata": {},
     "output_type": "execute_result"
    }
   ],
   "source": [
    "gmt_file = '../../gseapy_databases/h.all.v6.1.symbols.gmt'\n",
    "expression_file = '../../gseapy_databases/exp_ALCvsCHOWinNTinAlbCre.tsv'\n",
    "meta_file = '../../gseapy_databases/dHEP_metadata.csv'\n",
    "output_dir = '/../../gseapy_databases/mouse_liver_output'\n",
    "\n",
    "df_meta = pd.read_csv(meta_file)\n",
    "df_meta"
   ]
  },
  {
   "cell_type": "code",
   "execution_count": 50,
   "metadata": {},
   "outputs": [
    {
     "name": "stdout",
     "output_type": "stream",
     "text": [
      "Please choose a class from the following list: \n",
      " (Do not hit enter after marking your choice)\n"
     ]
    },
    {
     "data": {
      "application/vnd.jupyter.widget-view+json": {
       "model_id": "c091e7c6d41b4a3cb70d2f9be4ad1e20",
       "version_major": 2,
       "version_minor": 0
      },
      "text/plain": [
       "A Jupyter Widget"
      ]
     },
     "metadata": {},
     "output_type": "display_data"
    }
   ],
   "source": [
    "col_headers = list(df_meta)\n",
    "col_headers = [header for header in col_headers if 'sample' not in header.lower()]\n",
    "\n",
    "print \"Please choose a class from the following list: \\n (Do not hit enter after marking your choice)\"\n",
    "button = widgets.RadioButtons(\n",
    "    options = col_headers,\n",
    "    description='Class options:',\n",
    "    style = {'description_width': 'initial'},\n",
    "    disabled=False\n",
    ")\n",
    "display(button)"
   ]
  },
  {
   "cell_type": "code",
   "execution_count": 74,
   "metadata": {},
   "outputs": [
    {
     "name": "stdout",
     "output_type": "stream",
     "text": [
      "Please specify the two classes you wish to compare: \n",
      " (Do not hit enter after typing your choices)\n"
     ]
    },
    {
     "data": {
      "application/vnd.jupyter.widget-view+json": {
       "model_id": "a7b21bcb6bfa4931b2c1d5f564b1085f",
       "version_major": 2,
       "version_minor": 0
      },
      "text/plain": [
       "A Jupyter Widget"
      ]
     },
     "metadata": {},
     "output_type": "display_data"
    },
    {
     "data": {
      "application/vnd.jupyter.widget-view+json": {
       "model_id": "e90e311d26cb4eec8fcb85c2ec82067c",
       "version_major": 2,
       "version_minor": 0
      },
      "text/plain": [
       "A Jupyter Widget"
      ]
     },
     "metadata": {},
     "output_type": "display_data"
    }
   ],
   "source": [
    "print \"Please specify the two classes you wish to compare: \\n (Do not hit enter after typing your choices)\"\n",
    "class_name = button.value\n",
    "text1 = widgets.Text(description = class_name + ' value 1: ', style = {'description_width': 'initial'})\n",
    "text2 = widgets.Text(description = class_name + ' value 2: ', style = {'description_width': 'initial'})\n",
    "display(text1)\n",
    "display(text2)"
   ]
  },
  {
   "cell_type": "code",
   "execution_count": 75,
   "metadata": {},
   "outputs": [
    {
     "data": {
      "text/plain": [
       "u'Liver'"
      ]
     },
     "execution_count": 75,
     "metadata": {},
     "output_type": "execute_result"
    },
    {
     "data": {
      "text/plain": [
       "u'liver_tumor'"
      ]
     },
     "execution_count": 75,
     "metadata": {},
     "output_type": "execute_result"
    }
   ],
   "source": [
    "class_A = text1.value\n",
    "class_B = text2.value\n",
    "class_A\n",
    "class_B"
   ]
  },
  {
   "cell_type": "code",
   "execution_count": 76,
   "metadata": {},
   "outputs": [
    {
     "data": {
      "text/plain": [
       "['mouse genotype', 'short_genotype', 'Model', 'Treatment']"
      ]
     },
     "execution_count": 76,
     "metadata": {},
     "output_type": "execute_result"
    }
   ],
   "source": [
    "if class_name in col_headers:\n",
    "    col_headers.remove(class_name)\n",
    "col_headers"
   ]
  },
  {
   "cell_type": "code",
   "execution_count": 70,
   "metadata": {},
   "outputs": [
    {
     "name": "stdout",
     "output_type": "stream",
     "text": [
      "Please specify your control values for each of the following: \n",
      " (Do not hit enter after tying your choices) \n"
     ]
    },
    {
     "data": {
      "application/vnd.jupyter.widget-view+json": {
       "model_id": "f47445f638304b3e8cd369424a5d69ff",
       "version_major": 2,
       "version_minor": 0
      },
      "text/plain": [
       "A Jupyter Widget"
      ]
     },
     "metadata": {},
     "output_type": "display_data"
    },
    {
     "data": {
      "application/vnd.jupyter.widget-view+json": {
       "model_id": "5a9b0fca949f44a78b0d0ed5f1471ab1",
       "version_major": 2,
       "version_minor": 0
      },
      "text/plain": [
       "A Jupyter Widget"
      ]
     },
     "metadata": {},
     "output_type": "display_data"
    },
    {
     "data": {
      "application/vnd.jupyter.widget-view+json": {
       "model_id": "c286200ce9a8475faf3068dd436bff3c",
       "version_major": 2,
       "version_minor": 0
      },
      "text/plain": [
       "A Jupyter Widget"
      ]
     },
     "metadata": {},
     "output_type": "display_data"
    },
    {
     "data": {
      "application/vnd.jupyter.widget-view+json": {
       "model_id": "0d69f643f289416186be2c0a3d8d965b",
       "version_major": 2,
       "version_minor": 0
      },
      "text/plain": [
       "A Jupyter Widget"
      ]
     },
     "metadata": {},
     "output_type": "display_data"
    }
   ],
   "source": [
    "print \"Please specify your control values for each of the following: \\n (Do not hit enter after tying your choices) \"\n",
    "widget_array = []\n",
    "for header in col_headers:\n",
    "    if 'sample' not in header.lower():\n",
    "        text = widgets.Text(description = header, style = {'description_width': 'initial'})\n",
    "        display(text)\n",
    "        widget_array.append(text)"
   ]
  },
  {
   "cell_type": "code",
   "execution_count": 77,
   "metadata": {},
   "outputs": [
    {
     "data": {
      "text/plain": [
       "{'Model': u'DEN ',\n",
       " 'Treatment': u'DEN_HFD_alcohol',\n",
       " 'mouse genotype': u'Alb-Cre;IL-17RA-flox/flox',\n",
       " 'short_genotype': u'AlbCre_IL17RA_floxflox'}"
      ]
     },
     "execution_count": 77,
     "metadata": {},
     "output_type": "execute_result"
    }
   ],
   "source": [
    "control_to_value = {}\n",
    "for col, text in zip(col_headers, widget_array):\n",
    "    control_to_value[col] = text.value\n",
    "control_to_value"
   ]
  },
  {
   "cell_type": "code",
   "execution_count": null,
   "metadata": {
    "collapsed": true
   },
   "outputs": [],
   "source": [
    "# filter the metafile here\n",
    "# make a function"
   ]
  },
  {
   "cell_type": "markdown",
   "metadata": {},
   "source": [
    "## Filter Expression File"
   ]
  },
  {
   "cell_type": "code",
   "execution_count": 4,
   "metadata": {},
   "outputs": [
    {
     "data": {
      "text/html": [
       "<div>\n",
       "<style>\n",
       "    .dataframe thead tr:only-child th {\n",
       "        text-align: right;\n",
       "    }\n",
       "\n",
       "    .dataframe thead th {\n",
       "        text-align: left;\n",
       "    }\n",
       "\n",
       "    .dataframe tbody tr th {\n",
       "        vertical-align: top;\n",
       "    }\n",
       "</style>\n",
       "<table border=\"1\" class=\"dataframe\">\n",
       "  <thead>\n",
       "    <tr style=\"text-align: right;\">\n",
       "      <th></th>\n",
       "      <th>dHEP_520_A_NT</th>\n",
       "      <th>dHEP_550_A_NT</th>\n",
       "      <th>F_F_158_NC_NT</th>\n",
       "      <th>dHEP_549_A_NT</th>\n",
       "      <th>F_F_503_A_NT</th>\n",
       "      <th>dHEP_165_NC_NT</th>\n",
       "      <th>F_F_595_A_NT</th>\n",
       "      <th>F_F_523_A_NT</th>\n",
       "      <th>F_F_157_NC_NT</th>\n",
       "      <th>dHEP_518_A_NT</th>\n",
       "      <th>dHEP_164_NC_NT</th>\n",
       "      <th>dHEP_155_NC_NT</th>\n",
       "      <th>F_F_159_NC_NT</th>\n",
       "      <th>F_F_581_A_NT</th>\n",
       "    </tr>\n",
       "  </thead>\n",
       "  <tbody>\n",
       "    <tr>\n",
       "      <th>Gnai3</th>\n",
       "      <td>6.482501</td>\n",
       "      <td>6.648272</td>\n",
       "      <td>6.644257</td>\n",
       "      <td>6.734103</td>\n",
       "      <td>6.557685</td>\n",
       "      <td>6.672892</td>\n",
       "      <td>6.707925</td>\n",
       "      <td>6.591240</td>\n",
       "      <td>6.632168</td>\n",
       "      <td>6.483054</td>\n",
       "      <td>6.815480</td>\n",
       "      <td>6.667075</td>\n",
       "      <td>6.768433</td>\n",
       "      <td>6.708067</td>\n",
       "    </tr>\n",
       "    <tr>\n",
       "      <th>Cdc45</th>\n",
       "      <td>0.779113</td>\n",
       "      <td>0.881496</td>\n",
       "      <td>0.026606</td>\n",
       "      <td>0.036682</td>\n",
       "      <td>0.688223</td>\n",
       "      <td>0.222011</td>\n",
       "      <td>0.281181</td>\n",
       "      <td>0.493432</td>\n",
       "      <td>0.192387</td>\n",
       "      <td>1.325266</td>\n",
       "      <td>1.160785</td>\n",
       "      <td>0.731233</td>\n",
       "      <td>0.930572</td>\n",
       "      <td>0.931043</td>\n",
       "    </tr>\n",
       "    <tr>\n",
       "      <th>Apoh</th>\n",
       "      <td>10.437362</td>\n",
       "      <td>10.285868</td>\n",
       "      <td>10.683067</td>\n",
       "      <td>10.462445</td>\n",
       "      <td>10.204836</td>\n",
       "      <td>10.558875</td>\n",
       "      <td>10.289569</td>\n",
       "      <td>10.032467</td>\n",
       "      <td>10.643058</td>\n",
       "      <td>10.364403</td>\n",
       "      <td>10.533293</td>\n",
       "      <td>10.551628</td>\n",
       "      <td>10.831810</td>\n",
       "      <td>10.346315</td>\n",
       "    </tr>\n",
       "    <tr>\n",
       "      <th>Narf</th>\n",
       "      <td>5.990224</td>\n",
       "      <td>6.089289</td>\n",
       "      <td>5.152588</td>\n",
       "      <td>6.280477</td>\n",
       "      <td>6.093053</td>\n",
       "      <td>6.277727</td>\n",
       "      <td>6.377708</td>\n",
       "      <td>5.902462</td>\n",
       "      <td>5.912509</td>\n",
       "      <td>6.144837</td>\n",
       "      <td>6.152632</td>\n",
       "      <td>5.551067</td>\n",
       "      <td>5.925389</td>\n",
       "      <td>6.137725</td>\n",
       "    </tr>\n",
       "    <tr>\n",
       "      <th>Cav2</th>\n",
       "      <td>1.732318</td>\n",
       "      <td>2.221725</td>\n",
       "      <td>2.069250</td>\n",
       "      <td>2.199621</td>\n",
       "      <td>1.634452</td>\n",
       "      <td>2.148011</td>\n",
       "      <td>2.390303</td>\n",
       "      <td>2.233464</td>\n",
       "      <td>1.226334</td>\n",
       "      <td>1.180876</td>\n",
       "      <td>2.263471</td>\n",
       "      <td>2.416598</td>\n",
       "      <td>1.768019</td>\n",
       "      <td>2.586876</td>\n",
       "    </tr>\n",
       "  </tbody>\n",
       "</table>\n",
       "</div>"
      ],
      "text/plain": [
       "       dHEP_520_A_NT  dHEP_550_A_NT  F_F_158_NC_NT  dHEP_549_A_NT  \\\n",
       "Gnai3       6.482501       6.648272       6.644257       6.734103   \n",
       "Cdc45       0.779113       0.881496       0.026606       0.036682   \n",
       "Apoh       10.437362      10.285868      10.683067      10.462445   \n",
       "Narf        5.990224       6.089289       5.152588       6.280477   \n",
       "Cav2        1.732318       2.221725       2.069250       2.199621   \n",
       "\n",
       "       F_F_503_A_NT  dHEP_165_NC_NT  F_F_595_A_NT  F_F_523_A_NT  \\\n",
       "Gnai3      6.557685        6.672892      6.707925      6.591240   \n",
       "Cdc45      0.688223        0.222011      0.281181      0.493432   \n",
       "Apoh      10.204836       10.558875     10.289569     10.032467   \n",
       "Narf       6.093053        6.277727      6.377708      5.902462   \n",
       "Cav2       1.634452        2.148011      2.390303      2.233464   \n",
       "\n",
       "       F_F_157_NC_NT  dHEP_518_A_NT  dHEP_164_NC_NT  dHEP_155_NC_NT  \\\n",
       "Gnai3       6.632168       6.483054        6.815480        6.667075   \n",
       "Cdc45       0.192387       1.325266        1.160785        0.731233   \n",
       "Apoh       10.643058      10.364403       10.533293       10.551628   \n",
       "Narf        5.912509       6.144837        6.152632        5.551067   \n",
       "Cav2        1.226334       1.180876        2.263471        2.416598   \n",
       "\n",
       "       F_F_159_NC_NT  F_F_581_A_NT  \n",
       "Gnai3       6.768433      6.708067  \n",
       "Cdc45       0.930572      0.931043  \n",
       "Apoh       10.831810     10.346315  \n",
       "Narf        5.925389      6.137725  \n",
       "Cav2        1.768019      2.586876  "
      ]
     },
     "execution_count": 4,
     "metadata": {},
     "output_type": "execute_result"
    }
   ],
   "source": [
    "df_expression = pd.read_table(expression_file, index_col='Unnamed: 0')\n",
    "df_expression.head()"
   ]
  },
  {
   "cell_type": "code",
   "execution_count": 5,
   "metadata": {},
   "outputs": [
    {
     "data": {
      "text/plain": [
       "14"
      ]
     },
     "execution_count": 5,
     "metadata": {},
     "output_type": "execute_result"
    }
   ],
   "source": [
    "focal_samples = list(df_expression)  # header\n",
    "len(focal_samples)"
   ]
  },
  {
   "cell_type": "code",
   "execution_count": 12,
   "metadata": {
    "scrolled": false
   },
   "outputs": [
    {
     "data": {
      "text/html": [
       "<div>\n",
       "<style>\n",
       "    .dataframe thead tr:only-child th {\n",
       "        text-align: right;\n",
       "    }\n",
       "\n",
       "    .dataframe thead th {\n",
       "        text-align: left;\n",
       "    }\n",
       "\n",
       "    .dataframe tbody tr th {\n",
       "        vertical-align: top;\n",
       "    }\n",
       "</style>\n",
       "<table border=\"1\" class=\"dataframe\">\n",
       "  <thead>\n",
       "    <tr style=\"text-align: right;\">\n",
       "      <th></th>\n",
       "      <th>Sample_name</th>\n",
       "      <th>Sample_Name2</th>\n",
       "      <th>mouse genotype</th>\n",
       "      <th>short_genotype</th>\n",
       "      <th>Model</th>\n",
       "      <th>Treatment</th>\n",
       "      <th>Tissue</th>\n",
       "    </tr>\n",
       "  </thead>\n",
       "  <tbody>\n",
       "    <tr>\n",
       "      <th>0</th>\n",
       "      <td>dHEP_518_A_NT</td>\n",
       "      <td>dHEP-518-A-NT</td>\n",
       "      <td>Alb-Cre;IL-17RA-flox/flox</td>\n",
       "      <td>AlbCre_IL17RA_floxflox</td>\n",
       "      <td>DEN</td>\n",
       "      <td>DEN_HFD_alcohol</td>\n",
       "      <td>Liver</td>\n",
       "    </tr>\n",
       "    <tr>\n",
       "      <th>1</th>\n",
       "      <td>dHEP_520_A_NT</td>\n",
       "      <td>dHEP-520-A-NT</td>\n",
       "      <td>Alb-Cre;IL-17RA-flox/flox</td>\n",
       "      <td>AlbCre_IL17RA_floxflox</td>\n",
       "      <td>DEN</td>\n",
       "      <td>DEN_HFD_alcohol</td>\n",
       "      <td>Liver</td>\n",
       "    </tr>\n",
       "    <tr>\n",
       "      <th>2</th>\n",
       "      <td>dHEP_549_A_NT</td>\n",
       "      <td>dHEP-549-A-NT</td>\n",
       "      <td>Alb-Cre;IL-17RA-flox/flox</td>\n",
       "      <td>AlbCre_IL17RA_floxflox</td>\n",
       "      <td>DEN</td>\n",
       "      <td>DEN_HFD_alcohol</td>\n",
       "      <td>Liver</td>\n",
       "    </tr>\n",
       "    <tr>\n",
       "      <th>3</th>\n",
       "      <td>dHEP_550_A_NT</td>\n",
       "      <td>dHEP-550-A-NT</td>\n",
       "      <td>Alb-Cre;IL-17RA-flox/flox</td>\n",
       "      <td>AlbCre_IL17RA_floxflox</td>\n",
       "      <td>DEN</td>\n",
       "      <td>DEN_HFD_alcohol</td>\n",
       "      <td>Liver</td>\n",
       "    </tr>\n",
       "    <tr>\n",
       "      <th>4</th>\n",
       "      <td>F_F_503_A_NT</td>\n",
       "      <td>F/F-503-A-NT</td>\n",
       "      <td>IL-17RA-flox/flox</td>\n",
       "      <td>IL17RA_floxflox</td>\n",
       "      <td>DEN</td>\n",
       "      <td>DEN_HFD_alcohol</td>\n",
       "      <td>Liver</td>\n",
       "    </tr>\n",
       "  </tbody>\n",
       "</table>\n",
       "</div>"
      ],
      "text/plain": [
       "     Sample_name   Sample_Name2             mouse genotype  \\\n",
       "0  dHEP_518_A_NT  dHEP-518-A-NT  Alb-Cre;IL-17RA-flox/flox   \n",
       "1  dHEP_520_A_NT  dHEP-520-A-NT  Alb-Cre;IL-17RA-flox/flox   \n",
       "2  dHEP_549_A_NT  dHEP-549-A-NT  Alb-Cre;IL-17RA-flox/flox   \n",
       "3  dHEP_550_A_NT  dHEP-550-A-NT  Alb-Cre;IL-17RA-flox/flox   \n",
       "4   F_F_503_A_NT   F/F-503-A-NT          IL-17RA-flox/flox   \n",
       "\n",
       "           short_genotype Model        Treatment Tissue  \n",
       "0  AlbCre_IL17RA_floxflox  DEN   DEN_HFD_alcohol  Liver  \n",
       "1  AlbCre_IL17RA_floxflox  DEN   DEN_HFD_alcohol  Liver  \n",
       "2  AlbCre_IL17RA_floxflox  DEN   DEN_HFD_alcohol  Liver  \n",
       "3  AlbCre_IL17RA_floxflox  DEN   DEN_HFD_alcohol  Liver  \n",
       "4         IL17RA_floxflox  DEN   DEN_HFD_alcohol  Liver  "
      ]
     },
     "execution_count": 12,
     "metadata": {},
     "output_type": "execute_result"
    },
    {
     "data": {
      "text/plain": [
       "['Sample_name',\n",
       " 'Sample_Name2',\n",
       " 'mouse genotype',\n",
       " 'short_genotype',\n",
       " 'Model',\n",
       " 'Treatment',\n",
       " 'Tissue']"
      ]
     },
     "execution_count": 12,
     "metadata": {},
     "output_type": "execute_result"
    }
   ],
   "source": []
  },
  {
   "cell_type": "code",
   "execution_count": 5,
   "metadata": {},
   "outputs": [
    {
     "data": {
      "text/plain": [
       "(30, 7)"
      ]
     },
     "execution_count": 5,
     "metadata": {},
     "output_type": "execute_result"
    }
   ],
   "source": [
    "# keep the samples that are in the expression file\n",
    "df_meta = df_meta[df_meta['Sample_name'].isin(focal_samples)]\n",
    "df_meta.shape"
   ]
  },
  {
   "cell_type": "code",
   "execution_count": 6,
   "metadata": {
    "collapsed": true
   },
   "outputs": [],
   "source": [
    "#df_meta['Model'] == 'DEN'  #this would print as False, because it is actually 'DEN ' with a space\n"
   ]
  },
  {
   "cell_type": "code",
   "execution_count": 7,
   "metadata": {},
   "outputs": [
    {
     "data": {
      "text/html": [
       "<div>\n",
       "<style scoped>\n",
       "    .dataframe tbody tr th:only-of-type {\n",
       "        vertical-align: middle;\n",
       "    }\n",
       "\n",
       "    .dataframe tbody tr th {\n",
       "        vertical-align: top;\n",
       "    }\n",
       "\n",
       "    .dataframe thead th {\n",
       "        text-align: right;\n",
       "    }\n",
       "</style>\n",
       "<table border=\"1\" class=\"dataframe\">\n",
       "  <thead>\n",
       "    <tr style=\"text-align: right;\">\n",
       "      <th></th>\n",
       "      <th>Sample_name</th>\n",
       "      <th>Sample_Name2</th>\n",
       "      <th>mouse genotype</th>\n",
       "      <th>short_genotype</th>\n",
       "      <th>Model</th>\n",
       "      <th>Treatment</th>\n",
       "      <th>Tissue</th>\n",
       "    </tr>\n",
       "  </thead>\n",
       "  <tbody>\n",
       "    <tr>\n",
       "      <th>0</th>\n",
       "      <td>dHEP_518_A_NT</td>\n",
       "      <td>dHEP-518-A-NT</td>\n",
       "      <td>Alb-Cre;IL-17RA-flox/flox</td>\n",
       "      <td>AlbCre_IL17RA_floxflox</td>\n",
       "      <td>DEN</td>\n",
       "      <td>DEN_HFD_alcohol</td>\n",
       "      <td>Liver</td>\n",
       "    </tr>\n",
       "    <tr>\n",
       "      <th>1</th>\n",
       "      <td>dHEP_520_A_NT</td>\n",
       "      <td>dHEP-520-A-NT</td>\n",
       "      <td>Alb-Cre;IL-17RA-flox/flox</td>\n",
       "      <td>AlbCre_IL17RA_floxflox</td>\n",
       "      <td>DEN</td>\n",
       "      <td>DEN_HFD_alcohol</td>\n",
       "      <td>Liver</td>\n",
       "    </tr>\n",
       "    <tr>\n",
       "      <th>2</th>\n",
       "      <td>dHEP_549_A_NT</td>\n",
       "      <td>dHEP-549-A-NT</td>\n",
       "      <td>Alb-Cre;IL-17RA-flox/flox</td>\n",
       "      <td>AlbCre_IL17RA_floxflox</td>\n",
       "      <td>DEN</td>\n",
       "      <td>DEN_HFD_alcohol</td>\n",
       "      <td>Liver</td>\n",
       "    </tr>\n",
       "    <tr>\n",
       "      <th>3</th>\n",
       "      <td>dHEP_550_A_NT</td>\n",
       "      <td>dHEP-550-A-NT</td>\n",
       "      <td>Alb-Cre;IL-17RA-flox/flox</td>\n",
       "      <td>AlbCre_IL17RA_floxflox</td>\n",
       "      <td>DEN</td>\n",
       "      <td>DEN_HFD_alcohol</td>\n",
       "      <td>Liver</td>\n",
       "    </tr>\n",
       "    <tr>\n",
       "      <th>14</th>\n",
       "      <td>dHEP_518_A_T1</td>\n",
       "      <td>dHEP-518-A-T1</td>\n",
       "      <td>Alb-Cre;IL-17RA-flox/flox</td>\n",
       "      <td>AlbCre_IL17RA_floxflox</td>\n",
       "      <td>DEN</td>\n",
       "      <td>DEN_HFD_alcohol</td>\n",
       "      <td>liver_tumor</td>\n",
       "    </tr>\n",
       "    <tr>\n",
       "      <th>15</th>\n",
       "      <td>dHEP_520_A_T</td>\n",
       "      <td>dHEP-520-A-T</td>\n",
       "      <td>Alb-Cre;IL-17RA-flox/flox</td>\n",
       "      <td>AlbCre_IL17RA_floxflox</td>\n",
       "      <td>DEN</td>\n",
       "      <td>DEN_HFD_alcohol</td>\n",
       "      <td>liver_tumor</td>\n",
       "    </tr>\n",
       "    <tr>\n",
       "      <th>16</th>\n",
       "      <td>dHEP_549_A_T</td>\n",
       "      <td>dHEP-549-A-T</td>\n",
       "      <td>Alb-Cre;IL-17RA-flox/flox</td>\n",
       "      <td>AlbCre_IL17RA_floxflox</td>\n",
       "      <td>DEN</td>\n",
       "      <td>DEN_HFD_alcohol</td>\n",
       "      <td>liver_tumor</td>\n",
       "    </tr>\n",
       "    <tr>\n",
       "      <th>17</th>\n",
       "      <td>dHEP_550_A_T</td>\n",
       "      <td>dHEP-550-A-T</td>\n",
       "      <td>Alb-Cre;IL-17RA-flox/flox</td>\n",
       "      <td>AlbCre_IL17RA_floxflox</td>\n",
       "      <td>DEN</td>\n",
       "      <td>DEN_HFD_alcohol</td>\n",
       "      <td>liver_tumor</td>\n",
       "    </tr>\n",
       "  </tbody>\n",
       "</table>\n",
       "</div>"
      ],
      "text/plain": [
       "      Sample_name   Sample_Name2             mouse genotype  \\\n",
       "0   dHEP_518_A_NT  dHEP-518-A-NT  Alb-Cre;IL-17RA-flox/flox   \n",
       "1   dHEP_520_A_NT  dHEP-520-A-NT  Alb-Cre;IL-17RA-flox/flox   \n",
       "2   dHEP_549_A_NT  dHEP-549-A-NT  Alb-Cre;IL-17RA-flox/flox   \n",
       "3   dHEP_550_A_NT  dHEP-550-A-NT  Alb-Cre;IL-17RA-flox/flox   \n",
       "14  dHEP_518_A_T1  dHEP-518-A-T1  Alb-Cre;IL-17RA-flox/flox   \n",
       "15   dHEP_520_A_T   dHEP-520-A-T  Alb-Cre;IL-17RA-flox/flox   \n",
       "16   dHEP_549_A_T   dHEP-549-A-T  Alb-Cre;IL-17RA-flox/flox   \n",
       "17   dHEP_550_A_T   dHEP-550-A-T  Alb-Cre;IL-17RA-flox/flox   \n",
       "\n",
       "            short_genotype Model        Treatment       Tissue  \n",
       "0   AlbCre_IL17RA_floxflox  DEN   DEN_HFD_alcohol        Liver  \n",
       "1   AlbCre_IL17RA_floxflox  DEN   DEN_HFD_alcohol        Liver  \n",
       "2   AlbCre_IL17RA_floxflox  DEN   DEN_HFD_alcohol        Liver  \n",
       "3   AlbCre_IL17RA_floxflox  DEN   DEN_HFD_alcohol        Liver  \n",
       "14  AlbCre_IL17RA_floxflox  DEN   DEN_HFD_alcohol  liver_tumor  \n",
       "15  AlbCre_IL17RA_floxflox  DEN   DEN_HFD_alcohol  liver_tumor  \n",
       "16  AlbCre_IL17RA_floxflox  DEN   DEN_HFD_alcohol  liver_tumor  \n",
       "17  AlbCre_IL17RA_floxflox  DEN   DEN_HFD_alcohol  liver_tumor  "
      ]
     },
     "execution_count": 7,
     "metadata": {},
     "output_type": "execute_result"
    }
   ],
   "source": [
    "# filter the samples: ONLY keep the samples that match the controls\n",
    "for key, value in controls.iteritems(): \n",
    "    df_meta = df_meta[df_meta[key]==value]\n",
    "\n",
    "df_meta   \n"
   ]
  },
  {
   "cell_type": "code",
   "execution_count": 8,
   "metadata": {},
   "outputs": [
    {
     "name": "stdout",
     "output_type": "stream",
     "text": [
      "8\n"
     ]
    },
    {
     "data": {
      "text/html": [
       "<div>\n",
       "<style scoped>\n",
       "    .dataframe tbody tr th:only-of-type {\n",
       "        vertical-align: middle;\n",
       "    }\n",
       "\n",
       "    .dataframe tbody tr th {\n",
       "        vertical-align: top;\n",
       "    }\n",
       "\n",
       "    .dataframe thead th {\n",
       "        text-align: right;\n",
       "    }\n",
       "</style>\n",
       "<table border=\"1\" class=\"dataframe\">\n",
       "  <thead>\n",
       "    <tr style=\"text-align: right;\">\n",
       "      <th></th>\n",
       "      <th>Sample_name</th>\n",
       "      <th>Tissue</th>\n",
       "    </tr>\n",
       "  </thead>\n",
       "  <tbody>\n",
       "    <tr>\n",
       "      <th>0</th>\n",
       "      <td>dHEP_518_A_NT</td>\n",
       "      <td>Liver</td>\n",
       "    </tr>\n",
       "    <tr>\n",
       "      <th>1</th>\n",
       "      <td>dHEP_520_A_NT</td>\n",
       "      <td>Liver</td>\n",
       "    </tr>\n",
       "    <tr>\n",
       "      <th>2</th>\n",
       "      <td>dHEP_549_A_NT</td>\n",
       "      <td>Liver</td>\n",
       "    </tr>\n",
       "    <tr>\n",
       "      <th>3</th>\n",
       "      <td>dHEP_550_A_NT</td>\n",
       "      <td>Liver</td>\n",
       "    </tr>\n",
       "    <tr>\n",
       "      <th>14</th>\n",
       "      <td>dHEP_518_A_T1</td>\n",
       "      <td>liver_tumor</td>\n",
       "    </tr>\n",
       "    <tr>\n",
       "      <th>15</th>\n",
       "      <td>dHEP_520_A_T</td>\n",
       "      <td>liver_tumor</td>\n",
       "    </tr>\n",
       "    <tr>\n",
       "      <th>16</th>\n",
       "      <td>dHEP_549_A_T</td>\n",
       "      <td>liver_tumor</td>\n",
       "    </tr>\n",
       "    <tr>\n",
       "      <th>17</th>\n",
       "      <td>dHEP_550_A_T</td>\n",
       "      <td>liver_tumor</td>\n",
       "    </tr>\n",
       "  </tbody>\n",
       "</table>\n",
       "</div>"
      ],
      "text/plain": [
       "      Sample_name       Tissue\n",
       "0   dHEP_518_A_NT        Liver\n",
       "1   dHEP_520_A_NT        Liver\n",
       "2   dHEP_549_A_NT        Liver\n",
       "3   dHEP_550_A_NT        Liver\n",
       "14  dHEP_518_A_T1  liver_tumor\n",
       "15   dHEP_520_A_T  liver_tumor\n",
       "16   dHEP_549_A_T  liver_tumor\n",
       "17   dHEP_550_A_T  liver_tumor"
      ]
     },
     "execution_count": 8,
     "metadata": {},
     "output_type": "execute_result"
    }
   ],
   "source": [
    "# extract only the COLUMNS with sample_name and class name\n",
    "samp_to_class = df_meta[['Sample_name', class_name]]\n",
    "\n",
    "# only keep the rows with class_A and class_B\n",
    "samp_to_class = samp_to_class[(samp_to_class[class_name] == class_A) | (samp_to_class[class_name] == class_B)]\n",
    "\n",
    "print(len(samp_to_class))\n",
    "samp_to_class"
   ]
  },
  {
   "cell_type": "code",
   "execution_count": 9,
   "metadata": {},
   "outputs": [
    {
     "data": {
      "text/plain": [
       "(22187, 8)"
      ]
     },
     "execution_count": 9,
     "metadata": {},
     "output_type": "execute_result"
    }
   ],
   "source": [
    "# Filter expression file\n",
    "real_focal_samples = samp_to_class['Sample_name'].tolist()\n",
    "df_expression = df_expression[real_focal_samples]\n",
    "df_expression.shape"
   ]
  },
  {
   "cell_type": "code",
   "execution_count": 10,
   "metadata": {},
   "outputs": [
    {
     "data": {
      "text/plain": [
       "(22187, 9)"
      ]
     },
     "execution_count": 10,
     "metadata": {},
     "output_type": "execute_result"
    }
   ],
   "source": [
    "cap_gene = [str(g).upper() for g in df_expression.index.tolist()] # cap the genes\n",
    "df_expression['Name'] = cap_gene                                  # create a new column\n",
    "df_expression = df_expression[['Name'] + real_focal_samples]           # put the 'Name' column at front\n",
    "df_expression.index = range(0,len(df_expression))                 # number the rows\n",
    "df_expression.head()\n",
    "df_expression.shape"
   ]
  },
  {
   "cell_type": "code",
   "execution_count": 11,
   "metadata": {
    "scrolled": true
   },
   "outputs": [
    {
     "data": {
      "text/plain": [
       "['Liver',\n",
       " 'Liver',\n",
       " 'Liver',\n",
       " 'Liver',\n",
       " 'liver_tumor',\n",
       " 'liver_tumor',\n",
       " 'liver_tumor',\n",
       " 'liver_tumor']"
      ]
     },
     "execution_count": 11,
     "metadata": {},
     "output_type": "execute_result"
    }
   ],
   "source": [
    "cls_list = samp_to_class[class_name].tolist()\n",
    "cls_list"
   ]
  },
  {
   "cell_type": "code",
   "execution_count": 12,
   "metadata": {},
   "outputs": [
    {
     "name": "stderr",
     "output_type": "stream",
     "text": [
      "2018-03-01 15:58:29,267 Warning: dropping duplicated gene names, only keep the first values\n"
     ]
    }
   ],
   "source": [
    "gs_res = gp.gsea(data=df_expression, \n",
    "                 gene_sets=gmt_file,\n",
    "                 cls=samp_to_class[class_name].tolist(),  # we only need Treatment column here, since the Sample_name is in the expression file\n",
    "                 permutation_num=100, # reduce number to speed up test\n",
    "                 weighted_score_type = 1,  # default: 1\n",
    "                 outdir=output_dir,\n",
    "                 method='log2_ratio_of_classes',\n",
    "                 processes=4,    ## 1 is default\n",
    "                 format='png')"
   ]
  },
  {
   "cell_type": "code",
   "execution_count": 2,
   "metadata": {},
   "outputs": [
    {
     "ename": "NameError",
     "evalue": "name 'gs_res' is not defined",
     "output_type": "error",
     "traceback": [
      "\u001b[0;31m---------------------------------------------------------------------------\u001b[0m",
      "\u001b[0;31mNameError\u001b[0m                                 Traceback (most recent call last)",
      "\u001b[0;32m<ipython-input-2-edd6cd57222e>\u001b[0m in \u001b[0;36m<module>\u001b[0;34m()\u001b[0m\n\u001b[1;32m      1\u001b[0m \u001b[0;31m#access the dataframe results throught res2d attribute\u001b[0m\u001b[0;34m\u001b[0m\u001b[0;34m\u001b[0m\u001b[0m\n\u001b[0;32m----> 2\u001b[0;31m \u001b[0mgs_res\u001b[0m\u001b[0;34m.\u001b[0m\u001b[0mres2d\u001b[0m\u001b[0;34m.\u001b[0m\u001b[0mhead\u001b[0m\u001b[0;34m(\u001b[0m\u001b[0;34m)\u001b[0m\u001b[0;34m\u001b[0m\u001b[0m\n\u001b[0m",
      "\u001b[0;31mNameError\u001b[0m: name 'gs_res' is not defined"
     ]
    }
   ],
   "source": [
    "#access the dataframe results throught res2d attribute\n",
    "gs_res.res2d.head()"
   ]
  },
  {
   "cell_type": "code",
   "execution_count": 1,
   "metadata": {},
   "outputs": [
    {
     "name": "stdout",
     "output_type": "stream",
     "text": [
      "Object `gp.gsea` not found.\n"
     ]
    }
   ],
   "source": [
    "#gp.gsea?"
   ]
  },
  {
   "cell_type": "code",
   "execution_count": null,
   "metadata": {
    "collapsed": true
   },
   "outputs": [],
   "source": []
  }
 ],
 "metadata": {
  "kernelspec": {
   "display_name": "Python 2",
   "language": "python",
   "name": "python2"
  },
  "language_info": {
   "codemirror_mode": {
    "name": "ipython",
    "version": 2
   },
   "file_extension": ".py",
   "mimetype": "text/x-python",
   "name": "python",
   "nbconvert_exporter": "python",
   "pygments_lexer": "ipython2",
   "version": "2.7.14"
  }
 },
 "nbformat": 4,
 "nbformat_minor": 2
}
