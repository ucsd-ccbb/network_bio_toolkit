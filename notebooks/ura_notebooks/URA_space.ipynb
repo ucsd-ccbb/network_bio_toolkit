{
 "cells": [
  {
   "cell_type": "markdown",
   "metadata": {},
   "source": [
    "# Space Mice Genes!\n",
    "## Upstream Regulator Analysis\n",
    "\n",
    "----------------------\n",
    "\n",
    "Author: Mikayla Webster (13webstermj@gmail.com)\n",
    "\n",
    "Date: 21st March, 2018\n",
    "\n",
    "----------------------\n",
    "<a id='toc'></a>\n",
    "## Table of Contents\n",
    "1. [Background](#background)\n",
    "2. [Import packages](#import)\n",
    "3. [Load Networks](#load)\n",
    "4. [Enrichment Analysis](#enrich)\n",
    "6. [Activation State Prediction](#active)\n",
    "8. [Visualization](#vis)"
   ]
  },
  {
   "cell_type": "markdown",
   "metadata": {},
   "source": [
    "## Background\n",
    "<a id='background'></a>"
   ]
  },
  {
   "cell_type": "markdown",
   "metadata": {},
   "source": [
    "The set of DEGs analyzed in this notebook come from an experiment performed by NASA called the [Rodent Research Project on the ISS](https://genelab-data.ndc.nasa.gov/genelab/accession/GLDS-48). The tissues sampled for this experiment were taken from the livers of mice who experienced space flight. "
   ]
  },
  {
   "cell_type": "markdown",
   "metadata": {},
   "source": [
    "## Import packages\n",
    "<a id='import'></a>"
   ]
  },
  {
   "cell_type": "code",
   "execution_count": 15,
   "metadata": {},
   "outputs": [
    {
     "data": {
      "text/plain": [
       "<module 'Upstream' from '../../network_bio_toolkit\\Upstream.pyc'>"
      ]
     },
     "execution_count": 15,
     "metadata": {},
     "output_type": "execute_result"
    }
   ],
   "source": [
    "# import upstream regulator module\n",
    "import sys\n",
    "code_path = '../../network_bio_toolkit'\n",
    "sys.path.append(code_path)\n",
    "import Upstream\n",
    "reload(Upstream)"
   ]
  },
  {
   "cell_type": "code",
   "execution_count": 16,
   "metadata": {},
   "outputs": [],
   "source": [
    "# User preferences\n",
    "symbol = 'symbol'\n",
    "entrez = 'entrez'\n",
    "\n",
    "human = 'human'\n",
    "mouse = 'mouse'\n",
    "\n",
    "ura = Upstream.Upstream(gene_type = symbol, species = mouse)"
   ]
  },
  {
   "cell_type": "markdown",
   "metadata": {},
   "source": [
    "## Load Networks\n",
    "<a id='load'></a>"
   ]
  },
  {
   "cell_type": "code",
   "execution_count": 17,
   "metadata": {},
   "outputs": [
    {
     "name": "stdout",
     "output_type": "stream",
     "text": [
      "Number of TF's: 3983\n"
     ]
    }
   ],
   "source": [
    "# transcription factors\n",
    "ura.easy_load_TF_list('../../TF_databases/TF_database_URA.csv')\n",
    "TF_list = ura.get('TF_list')\n",
    "print \"Number of TF's: \" + str(len(TF_list))"
   ]
  },
  {
   "cell_type": "code",
   "execution_count": 18,
   "metadata": {},
   "outputs": [
    {
     "name": "stdout",
     "output_type": "stream",
     "text": [
      "querying 1-1000...done.\n",
      "querying 1001-2000...done.\n",
      "querying 2001-3000...done.\n",
      "querying 3001-4000...done.\n",
      "querying 4001-5000...done.\n",
      "querying 5001-6000...done.\n",
      "querying 6001-7000...done.\n",
      "querying 7001-7303...done.\n",
      "Finished.\n",
      "36 input query terms found dup hits:\n",
      "\t[(u'ENSMUSP00000010241', 2), (u'ENSMUSP00000010248', 2), (u'ENSMUSP00000095200', 2), (u'ENSMUSP00000\n",
      "155 input query terms found no hit:\n",
      "\t[u'ENSMUSP00000036849', u'ENSMUSP00000097354', u'ENSMUSP00000097358', u'ENSMUSP00000137522', u'ENSMU\n",
      "Pass \"returnall=True\" to return complete lists of duplicate or missing query terms.\n",
      "\n",
      "Number of interactions: 24701\n"
     ]
    }
   ],
   "source": [
    "# background network\n",
    "filename = \"../../background_networks/10090.protein.actions.v10.5.txt\"\n",
    "confidence_filter = 400\n",
    "ura.load_STRING_to_digraph(filename, confidence_filter)\n",
    "DG_TF = ura.get('DG_TF')\n",
    "\n",
    "print \"\\nNumber of interactions: \" + str(len(list(DG_TF.edges())))"
   ]
  },
  {
   "cell_type": "code",
   "execution_count": 19,
   "metadata": {},
   "outputs": [
    {
     "name": "stdout",
     "output_type": "stream",
     "text": [
      "Number of DEG's: 181\n"
     ]
    }
   ],
   "source": [
    "# differentially expressed genes\n",
    "DEG_filename = \"../../DEG_databases/DE_CoeffspaceFlight - groundControl_glds48_20180312.csv\" \n",
    "ura.create_DEG_list(DEG_filename, p_value_filter = 0.05, sep = ',')\n",
    "\n",
    "DEG_list = ura.get('DEG_list')\n",
    "print \"Number of DEG's: \" + str(len(DEG_list))"
   ]
  },
  {
   "cell_type": "markdown",
   "metadata": {},
   "source": [
    "## Enrichment Analysis\n",
    "<a id='enrich'></a>"
   ]
  },
  {
   "cell_type": "code",
   "execution_count": 20,
   "metadata": {
    "scrolled": true
   },
   "outputs": [
    {
     "data": {
      "text/plain": [
       "TF_ENRICHMENT    1.476166e-10\n",
       "dtype: float64"
      ]
     },
     "execution_count": 20,
     "metadata": {},
     "output_type": "execute_result"
    }
   ],
   "source": [
    "# Enrichment of every TF with respect to its targets\n",
    "ura.tf_target_enrichment_calc()\n",
    "\n",
    "# Enrichment of TF's themselves\n",
    "ura.tf_enrichment_calc()   \n",
    "ura.get('tf_enrichment')"
   ]
  },
  {
   "cell_type": "markdown",
   "metadata": {},
   "source": [
    "## Activation State Prediction\n",
    "<a id='active'></a>"
   ]
  },
  {
   "cell_type": "code",
   "execution_count": 21,
   "metadata": {},
   "outputs": [],
   "source": [
    "ura.tf_zscore(bias_filter = 0.25)"
   ]
  },
  {
   "cell_type": "code",
   "execution_count": 22,
   "metadata": {},
   "outputs": [
    {
     "data": {
      "text/html": [
       "<div>\n",
       "<style scoped>\n",
       "    .dataframe tbody tr th:only-of-type {\n",
       "        vertical-align: middle;\n",
       "    }\n",
       "\n",
       "    .dataframe tbody tr th {\n",
       "        vertical-align: top;\n",
       "    }\n",
       "\n",
       "    .dataframe thead th {\n",
       "        text-align: right;\n",
       "    }\n",
       "</style>\n",
       "<table border=\"1\" class=\"dataframe\">\n",
       "  <thead>\n",
       "    <tr style=\"text-align: right;\">\n",
       "      <th></th>\n",
       "      <th>z-score</th>\n",
       "      <th>(adj) p-value</th>\n",
       "      <th>(log) fold change</th>\n",
       "    </tr>\n",
       "  </thead>\n",
       "  <tbody>\n",
       "    <tr>\n",
       "      <th>Rora</th>\n",
       "      <td>2.000000</td>\n",
       "      <td>0.148817</td>\n",
       "      <td>0.325489</td>\n",
       "    </tr>\n",
       "    <tr>\n",
       "      <th>Fbxw11</th>\n",
       "      <td>2.000000</td>\n",
       "      <td>0.545442</td>\n",
       "      <td>0.188419</td>\n",
       "    </tr>\n",
       "    <tr>\n",
       "      <th>Btrc</th>\n",
       "      <td>2.000000</td>\n",
       "      <td>0.983205</td>\n",
       "      <td>0.009308</td>\n",
       "    </tr>\n",
       "    <tr>\n",
       "      <th>Per1</th>\n",
       "      <td>-2.000000</td>\n",
       "      <td>0.018291</td>\n",
       "      <td>-0.773709</td>\n",
       "    </tr>\n",
       "    <tr>\n",
       "      <th>Per2</th>\n",
       "      <td>-2.236068</td>\n",
       "      <td>0.396750</td>\n",
       "      <td>-0.874570</td>\n",
       "    </tr>\n",
       "  </tbody>\n",
       "</table>\n",
       "</div>"
      ],
      "text/plain": [
       "         z-score  (adj) p-value  (log) fold change\n",
       "Rora    2.000000       0.148817           0.325489\n",
       "Fbxw11  2.000000       0.545442           0.188419\n",
       "Btrc    2.000000       0.983205           0.009308\n",
       "Per1   -2.000000       0.018291          -0.773709\n",
       "Per2   -2.236068       0.396750          -0.874570"
      ]
     },
     "metadata": {},
     "output_type": "display_data"
    }
   ],
   "source": [
    "top_values = ura.top_values(act=True, abs_value=True, top=5)\n",
    "display(top_values)"
   ]
  },
  {
   "cell_type": "markdown",
   "metadata": {},
   "source": [
    "## Visualization\n",
    "<a id='vis'></a>"
   ]
  },
  {
   "cell_type": "code",
   "execution_count": 23,
   "metadata": {
    "scrolled": false
   },
   "outputs": [
    {
     "data": {
      "image/png": "[encoded data removed]",
      "text/plain": [
       "<matplotlib.figure.Figure at 0x33a66e80>"
      ]
     },
     "metadata": {},
     "output_type": "display_data"
    }
   ],
   "source": [
    "genes_to_rank = ['Stat1', 'Cenpa', 'Foxo3', 'Twist1', 'Rbl2']\n",
    "ura.compare_genes(genes_to_rank, font_size = 14)"
   ]
  },
  {
   "cell_type": "code",
   "execution_count": 24,
   "metadata": {
    "scrolled": false
   },
   "outputs": [
    {
     "data": {
      "text/html": [
       "<!doctype html><html><head>  <title>Network | Basic usage</title></head><body><script type=\"text/javascript\">function setUpFrame() {     var frame = window.frames[\"style_file2\"];    frame.runVis([{\"node_shape\": \"circle\", \"degree\": 3.0, \"title\": \"Cpt1a\", \"color\": \"grey\", \"size_field\": 4.4111090954676975, \"y\": 122.72171760643388, \"x\": 697.5976262905822, \"border_width\": 0, \"id\": \"Cpt1a\"}, {\"node_shape\": \"circle\", \"degree\": 3.0, \"title\": \"Arntl\", \"color\": \"rgba(256, 98, 98, 1.0)\", \"size_field\": 7.431223550613733, \"y\": 233.9016581104986, \"x\": 442.9493194407302, \"border_width\": 2, \"id\": \"Arntl\"}, {\"node_shape\": \"circle\", \"degree\": 3.0, \"title\": \"Clock\", \"color\": \"grey\", \"size_field\": 3.9121058390889814, \"y\": 0.0, \"x\": 222.8628670449626, \"border_width\": 0, \"id\": \"Clock\"}, {\"node_shape\": \"circle\", \"degree\": 3.0, \"title\": \"Npas2\", \"color\": \"rgba(256, 0, 0, 1.0)\", \"size_field\": 5.910199136897473, \"y\": 257.2603843401241, \"x\": 152.5832547511897, \"border_width\": 2, \"id\": \"Npas2\"}, {\"node_shape\": \"star\", \"degree\": 3.0, \"title\": \"Rora\", \"color\": \"grey\", \"size_field\": 17.431223550613733, \"y\": 900.0, \"x\": 0.0, \"border_width\": 0, \"id\": \"Rora\"}, {\"node_shape\": \"circle\", \"degree\": 3.0, \"title\": \"Srebf1\", \"color\": \"grey\", \"size_field\": 2.555807689954973, \"y\": 786.2743982266871, \"x\": 627.7585754908482, \"border_width\": 0, \"id\": \"Srebf1\"}, {\"node_shape\": \"circle\", \"degree\": 3.0, \"title\": \"Nr1d1\", \"color\": \"grey\", \"size_field\": 4.643424698198657, \"y\": 430.6835187310353, \"x\": 214.7800147106613, \"border_width\": 0, \"id\": \"Nr1d1\"}], [{\"color\": \"blue\", \"source\": 1, \"target\": 6}, {\"color\": \"red\", \"source\": 1, \"target\": 3}, {\"color\": \"blue\", \"source\": 2, \"target\": 6}, {\"color\": \"red\", \"source\": 3, \"target\": 1}, {\"color\": \"blue\", \"source\": 3, \"target\": 6}, {\"color\": \"red\", \"source\": 4, \"target\": 0}, {\"color\": \"red\", \"source\": 4, \"target\": 1}, {\"color\": \"red\", \"source\": 4, \"target\": 1}, {\"color\": \"red\", \"source\": 4, \"target\": 2}, {\"color\": \"red\", \"source\": 4, \"target\": 3}, {\"color\": \"red\", \"source\": 4, \"target\": 3}, {\"color\": \"red\", \"source\": 4, \"target\": 5}, {\"color\": \"red\", \"source\": 4, \"target\": 6}, {\"color\": \"blue\", \"source\": 6, \"target\": 1}, {\"color\": \"blue\", \"source\": 6, \"target\": 3}, {\"color\": \"blue\", \"source\": 6, \"target\": 2}]);}</script><iframe name=\"style_file2\" src=\"style_file2.html\" width=\"100%;\" height=\"805px\"></iframe></body></html>"
      ],
      "text/plain": [
       "<IPython.core.display.HTML object>"
      ]
     },
     "execution_count": 24,
     "metadata": {},
     "output_type": "execute_result"
    }
   ],
   "source": [
    "ura.vis_tf_network('Rora',\n",
    "              directed_edges = True,\n",
    "              color_non_DEGs = False,\n",
    "              node_spacing = 900,\n",
    "              graph_id = 2,\n",
    "              tf_size_amplifier = 10)"
   ]
  },
  {
   "cell_type": "code",
   "execution_count": 25,
   "metadata": {},
   "outputs": [
    {
     "data": {
      "text/html": [
       "<!doctype html><html><head>  <title>Network | Basic usage</title></head><body><script type=\"text/javascript\">function setUpFrame() {     var frame = window.frames[\"style_file1\"];    frame.runVis([{\"node_shape\": \"circle\", \"degree\": 3.0, \"title\": \"Arntl\", \"color\": \"rgba(256, 118, 118, 1.0)\", \"size_field\": 7.431223550613733, \"y\": 344.11845204684556, \"x\": 423.84978557160235, \"border_width\": 2, \"id\": \"Arntl\"}, {\"node_shape\": \"circle\", \"degree\": 3.0, \"title\": \"Fbxw11\", \"color\": \"grey\", \"size_field\": 2.6061584375911613, \"y\": 827.9624332207932, \"x\": 824.5647866271634, \"border_width\": 0, \"id\": \"Fbxw11\"}, {\"node_shape\": \"circle\", \"degree\": 3.0, \"title\": \"Clock\", \"color\": \"grey\", \"size_field\": 3.9121058390889814, \"y\": 695.3768955116333, \"x\": 931.1181463102506, \"border_width\": 0, \"id\": \"Clock\"}, {\"node_shape\": \"circle\", \"degree\": 3.0, \"title\": \"Tshb\", \"color\": \"grey\", \"size_field\": 3.4041541681019702, \"y\": 576.6184098023629, \"x\": 0.0, \"border_width\": 0, \"id\": \"Tshb\"}, {\"node_shape\": \"star\", \"degree\": 3.0, \"title\": \"Per1\", \"color\": \"rgba(0, 0, 256, 1.0)\", \"size_field\": 17.431223550613733, \"y\": 1100.0, \"x\": 558.4742226625192, \"border_width\": 2, \"id\": \"Per1\"}, {\"node_shape\": \"circle\", \"degree\": 3.0, \"title\": \"Btrc\", \"color\": \"grey\", \"size_field\": 2.016937224418086, \"y\": 972.1869515696934, \"x\": 976.5145846459641, \"border_width\": 0, \"id\": \"Btrc\"}, {\"node_shape\": \"circle\", \"degree\": 3.0, \"title\": \"Skp1a\", \"color\": \"grey\", \"size_field\": 2.302049825884292, \"y\": 932.0133066341248, \"x\": 136.14141839132643, \"border_width\": 0, \"id\": \"Skp1a\"}, {\"node_shape\": \"circle\", \"degree\": 3.0, \"title\": \"Rbm4\", \"color\": \"grey\", \"size_field\": 2.114319226544208, \"y\": 0.0, \"x\": 382.11663797472175, \"border_width\": 0, \"id\": \"Rbm4\"}, {\"node_shape\": \"circle\", \"degree\": 3.0, \"title\": \"Pth\", \"color\": \"grey\", \"size_field\": 3.4041541681019702, \"y\": 199.55893608920323, \"x\": 726.9580003243776, \"border_width\": 0, \"id\": \"Pth\"}, {\"node_shape\": \"circle\", \"degree\": 3.0, \"title\": \"Csnk1d\", \"color\": \"grey\", \"size_field\": 2.090320096100914, \"y\": 491.0215827186479, \"x\": 592.2842629546926, \"border_width\": 0, \"id\": \"Csnk1d\"}, {\"node_shape\": \"circle\", \"degree\": 3.0, \"title\": \"Csnk1e\", \"color\": \"grey\", \"size_field\": 2.062774108018921, \"y\": 631.6971622146056, \"x\": 573.0602541532713, \"border_width\": 0, \"id\": \"Csnk1e\"}, {\"node_shape\": \"circle\", \"degree\": 3.0, \"title\": \"Npas2\", \"color\": \"rgba(256, 0, 0, 1.0)\", \"size_field\": 5.910199136897473, \"y\": 876.2551222811379, \"x\": 325.6154029821661, \"border_width\": 2, \"id\": \"Npas2\"}, {\"node_shape\": \"circle\", \"degree\": 3.0, \"title\": \"Rbx1\", \"color\": \"grey\", \"size_field\": 2.9956408542434483, \"y\": 515.1169678320454, \"x\": 305.7150417267766, \"border_width\": 0, \"id\": \"Rbx1\"}, {\"node_shape\": \"circle\", \"degree\": 3.0, \"title\": \"Arntl2\", \"color\": \"grey\", \"size_field\": 2.258044580511776, \"y\": 924.1067484541377, \"x\": 571.9540825514277, \"border_width\": 0, \"id\": \"Arntl2\"}, {\"node_shape\": \"circle\", \"degree\": 3.0, \"title\": \"Cul1\", \"color\": \"grey\", \"size_field\": 2.3269966268587576, \"y\": 171.29260512065454, \"x\": 383.71170207663647, \"border_width\": 0, \"id\": \"Cul1\"}, {\"node_shape\": \"circle\", \"degree\": 3.0, \"title\": \"Ar\", \"color\": \"grey\", \"size_field\": 3.630026092716604, \"y\": 283.19107126292823, \"x\": 943.5422730360048, \"border_width\": 0, \"id\": \"Ar\"}], [{\"color\": \"blue\", \"source\": 0, \"target\": 10}, {\"color\": \"blue\", \"source\": 0, \"target\": 10}, {\"color\": \"blue\", \"source\": 0, \"target\": 9}, {\"color\": \"blue\", \"source\": 0, \"target\": 9}, {\"color\": \"red\", \"source\": 0, \"target\": 11}, {\"color\": \"blue\", \"source\": 2, \"target\": 9}, {\"color\": \"blue\", \"source\": 2, \"target\": 9}, {\"color\": \"blue\", \"source\": 2, \"target\": 10}, {\"color\": \"blue\", \"source\": 2, \"target\": 10}, {\"color\": \"blue\", \"source\": 4, \"target\": 0}, {\"color\": \"blue\", \"source\": 4, \"target\": 0}, {\"color\": \"blue\", \"source\": 4, \"target\": 1}, {\"color\": \"blue\", \"source\": 4, \"target\": 1}, {\"color\": \"blue\", \"source\": 4, \"target\": 2}, {\"color\": \"blue\", \"source\": 4, \"target\": 2}, {\"color\": \"blue\", \"source\": 4, \"target\": 3}, {\"color\": \"blue\", \"source\": 4, \"target\": 5}, {\"color\": \"blue\", \"source\": 4, \"target\": 5}, {\"color\": \"blue\", \"source\": 4, \"target\": 6}, {\"color\": \"blue\", \"source\": 4, \"target\": 6}, {\"color\": \"red\", \"source\": 4, \"target\": 7}, {\"color\": \"red\", \"source\": 4, \"target\": 8}, {\"color\": \"red\", \"source\": 4, \"target\": 9}, {\"color\": \"red\", \"source\": 4, \"target\": 9}, {\"color\": \"red\", \"source\": 4, \"target\": 10}, {\"color\": \"red\", \"source\": 4, \"target\": 10}, {\"color\": \"blue\", \"source\": 4, \"target\": 11}, {\"color\": \"blue\", \"source\": 4, \"target\": 11}, {\"color\": \"blue\", \"source\": 4, \"target\": 12}, {\"color\": \"blue\", \"source\": 4, \"target\": 12}, {\"color\": \"blue\", \"source\": 4, \"target\": 13}, {\"color\": \"blue\", \"source\": 4, \"target\": 13}, {\"color\": \"blue\", \"source\": 4, \"target\": 14}, {\"color\": \"blue\", \"source\": 4, \"target\": 14}, {\"color\": \"red\", \"source\": 4, \"target\": 15}, {\"color\": \"red\", \"source\": 11, \"target\": 0}, {\"color\": \"blue\", \"source\": 11, \"target\": 9}, {\"color\": \"blue\", \"source\": 11, \"target\": 9}, {\"color\": \"blue\", \"source\": 11, \"target\": 10}, {\"color\": \"blue\", \"source\": 11, \"target\": 10}]);}</script><iframe name=\"style_file1\" src=\"style_file1.html\" width=\"100%;\" height=\"805px\"></iframe></body></html>"
      ],
      "text/plain": [
       "<IPython.core.display.HTML object>"
      ]
     },
     "execution_count": 25,
     "metadata": {},
     "output_type": "execute_result"
    }
   ],
   "source": [
    "# display subnetworks using visJS2jupyter\n",
    "ura.vis_tf_network('Per1',\n",
    "              color_non_DEGs = False,\n",
    "              directed_edges = True,\n",
    "              node_spacing = 1100,\n",
    "              graph_id = 1,\n",
    "              tf_size_amplifier = 10) "
   ]
  },
  {
   "cell_type": "code",
   "execution_count": 13,
   "metadata": {},
   "outputs": [],
   "source": [
    "# to write data to a csv file\n",
    "#csv_filename = 'analysis_space.txt'\n",
    "#ura.to_csv(csv_filename)"
   ]
  },
  {
   "cell_type": "code",
   "execution_count": null,
   "metadata": {},
   "outputs": [],
   "source": []
  },
  {
   "cell_type": "code",
   "execution_count": null,
   "metadata": {},
   "outputs": [],
   "source": []
  },
  {
   "cell_type": "code",
   "execution_count": null,
   "metadata": {},
   "outputs": [],
   "source": []
  }
 ],
 "metadata": {
  "kernelspec": {
   "display_name": "Python 2",
   "language": "python",
   "name": "python2"
  },
  "language_info": {
   "codemirror_mode": {
    "name": "ipython",
    "version": 2
   },
   "file_extension": ".py",
   "mimetype": "text/x-python",
   "name": "python",
   "nbconvert_exporter": "python",
   "pygments_lexer": "ipython2",
   "version": "2.7.14"
  }
 },
 "nbformat": 4,
 "nbformat_minor": 2
}
