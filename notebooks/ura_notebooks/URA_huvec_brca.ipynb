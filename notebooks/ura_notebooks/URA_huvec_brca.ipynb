{
 "cells": [
  {
   "cell_type": "markdown",
   "metadata": {},
   "source": [
    "# HUVEC and Breast Cancer Case Study\n",
    "## Upstream Regulator Analysis\n",
    "\n",
    "----------------------\n",
    "\n",
    "Author: Mikayla Webster (13webstermj@gmail.com)\n",
    "\n",
    "Date: 11th January, 2018\n",
    "\n",
    "----------------------\n",
    "\n",
    "<a id='toc'></a>\n",
    "## Table of Contents\n",
    "1. [Background](#background)\n",
    "2. [Import packages](#import)\n",
    "3. [Transcription Factors](#tf)\n",
    "4. [Background Network](#bn)\n",
    "5. [HUVEC](#huvec)\n",
    "    1. [Load DEG's](#loadhuvec)\n",
    "    2. [Calculate enrichment and activation state of TFs](#pzhuvec)\n",
    "    3. [Compare the Ingenuity Article's results to Ours](#comphuvec)\n",
    "    4. [Display Our results](#displayhuvec)\n",
    "6. [Breast Cancer](#brca)\n",
    "    1. [Load DEG's](#loadbrca)\n",
    "    2. [Calculate enrichment and activation state of TFs](#pzbrca)\n",
    "    3. [Compare the Ingenuity Article's results to Ours](#compbrca)\n",
    "    4. [Display Our results](#displaybrca)"
   ]
  },
  {
   "cell_type": "markdown",
   "metadata": {},
   "source": [
    "## Background\n",
    "<a id='background'></a>\n",
    "\n",
    "This notebook provides validation for our Upstream Regulator Analysis (URA) modules. Our modules are inspired by Ingenuity System's [Ingenuity Upstream Regulator Analysis in IPA®](http://pages.ingenuity.com/rs/ingenuity/images/0812%20upstream_regulator_analysis_whitepaper.pdf); this test case is inpired by Ingenuity System's corresponding paper, [Causal analysis approaches in Ingenuity Pathway Analysis](https://www.ncbi.nlm.nih.gov/pmc/articles/PMC3928520/). This paper analyses two sets of Differencially Expressed Genes (DEG's): one from a breast cancer tumor and the other from Human Umbilical Vein Endothelial Cells (HUVEC). We run our version of URA on these same breast cancer and HUVEC DEG's, however using the [STRING database](https://string-db.org/) human protein interaction network as our background network. "
   ]
  },
  {
   "cell_type": "markdown",
   "metadata": {},
   "source": [
    "## Import packages\n",
    "<a id='import'></a>"
   ]
  },
  {
   "cell_type": "code",
   "execution_count": 1,
   "metadata": {},
   "outputs": [],
   "source": [
    "# uncomment if you have not pip-installed network_bio_toolkit\n",
    "\n",
    "#import sys\n",
    "#code_path = '../../network_bio_toolkit'\n",
    "#sys.path.append(code_path)\n",
    "#import Upstream\n",
    "#reload(Upstream)\n",
    "\n",
    "from network_bio_toolkit import Upstream"
   ]
  },
  {
   "cell_type": "code",
   "execution_count": 2,
   "metadata": {},
   "outputs": [],
   "source": [
    "# User preferences\n",
    "symbol = 'symbol'\n",
    "entrez = 'entrez'\n",
    "\n",
    "ura = Upstream.Upstream(symbol)"
   ]
  },
  {
   "cell_type": "markdown",
   "metadata": {},
   "source": [
    "## Transcription Factors\n",
    "<a id='tf'></a>\n",
    "\n",
    "Load our list of Transcription Factors (TF) we want to analyze. Gene symbols will be in all caps. "
   ]
  },
  {
   "cell_type": "code",
   "execution_count": 3,
   "metadata": {},
   "outputs": [
    {
     "name": "stderr",
     "output_type": "stream",
     "text": [
      "../../network_bio_toolkit\\create_graph.py:46: FutureWarning: from_csv is deprecated. Please use read_csv(...) instead. Note that some of the default arguments are different, so please refer to the documentation for from_csv when changing your function calls\n",
      "  df2 = pd.DataFrame.from_csv(csv_filename)\n"
     ]
    },
    {
     "data": {
      "text/plain": [
       "3986"
      ]
     },
     "execution_count": 3,
     "metadata": {},
     "output_type": "execute_result"
    }
   ],
   "source": [
    "ura.easy_load_TF_list('../../TF_databases/TF_database_URA.csv')\n",
    "TF_list = ura.get('TF_list')\n",
    "TF_list = TF_list + ['TNF', 'IFNG', 'LBP'] # known regulators of interest missing from our TF databases\n",
    "ura.set('TF_list', TF_list)\n",
    "len(ura.get('TF_list'))"
   ]
  },
  {
   "cell_type": "markdown",
   "metadata": {},
   "source": [
    "## Background Network\n",
    "<a id='bn'></a>\n",
    "\n",
    "Load our background network, available on the [STRING website](https://string-db.org/cgi/download.pl?UserId=9BGA8WkVMRl6&sessionId=HWUK6Dum9xC6&species_text=Homo+sapiens), and keep only our the information about our TF's. \n",
    "\n",
    "The function load_STRING_to_digraph can load any species' \"protein actions\" database from STRING. Just ensure your TF list and DEG list have the same naming convention as you background network (Homo Sapiens use all caps, Mus Musculus only capitalizes the first letter, etc.) Inconsistent naming can effect your results."
   ]
  },
  {
   "cell_type": "code",
   "execution_count": 4,
   "metadata": {},
   "outputs": [
    {
     "name": "stdout",
     "output_type": "stream",
     "text": [
      "querying 1-1000...done.\n",
      "querying 1001-2000...done.\n",
      "querying 2001-3000...done.\n",
      "querying 3001-4000...done.\n",
      "querying 4001-5000...done.\n",
      "querying 5001-6000...done.\n",
      "querying 6001-7000...done.\n",
      "querying 7001-7374...done.\n",
      "Finished.\n",
      "34 input query terms found dup hits:\n",
      "\t[(u'ENSP00000447879', 2), (u'ENSP00000364076', 2), (u'ENSP00000313571', 2), (u'ENSP00000368927', 2),\n",
      "314 input query terms found no hit:\n",
      "\t[u'ENSP00000376684', u'ENSP00000289352', u'ENSP00000202788', u'ENSP00000373637', u'ENSP00000367802',\n",
      "Pass \"returnall=True\" to return complete lists of duplicate or missing query terms.\n",
      "\n",
      "Number of interactions: 29428\n"
     ]
    }
   ],
   "source": [
    "filename = \"../../background_networks/9606.protein.actions.v10.5.txt\"\n",
    "confidence_filter = 400\n",
    "ura.load_STRING_to_digraph(filename, confidence_filter)\n",
    "DG_TF = ura.get('DG_TF')\n",
    "\n",
    "print \"\\nNumber of interactions: \" + str(len(list(DG_TF.edges())))"
   ]
  },
  {
   "cell_type": "markdown",
   "metadata": {},
   "source": [
    "## HUVEC##\n",
    "<a id='huvec'></a>"
   ]
  },
  {
   "cell_type": "markdown",
   "metadata": {},
   "source": [
    "### Load HUVEC DEG's ###\n",
    "<a id='loadhuvec'></a>"
   ]
  },
  {
   "cell_type": "code",
   "execution_count": 5,
   "metadata": {},
   "outputs": [
    {
     "name": "stderr",
     "output_type": "stream",
     "text": [
      "../../network_bio_toolkit\\create_graph.py:366: FutureWarning: from_csv is deprecated. Please use read_csv(...) instead. Note that some of the default arguments are different, so please refer to the documentation for from_csv when changing your function calls\n",
      "  df = pd.DataFrame.from_csv(filename, sep = sep)\n"
     ]
    }
   ],
   "source": [
    "# DEG's\n",
    "filename_huvec = '../../DEG_databases/geo2r_GSE2639_huvec.txt'\n",
    "\n",
    "# TF's found to be statistically significant in Ingenuity Systems URA article\n",
    "huvec_genes = ['TNF','IFNG','LBP', 'NFKB1', 'NFKB2', 'REL', 'RELA', 'RELB', 'PCBP3', 'PCBP2', 'PCBP1', 'PCBP4', 'NFKBIA']\n",
    "\n",
    "# add DEG information to STRING background network\n",
    "ura.create_DEG_list(filename_huvec, p_value_filter = 0.3)"
   ]
  },
  {
   "cell_type": "markdown",
   "metadata": {},
   "source": [
    "### Calculate enrichment and activation state of TFs\n",
    "<a id='pzhuvec'></a>\n",
    "\n",
    "For a detailed explination of our p-value and z-score calculation functions, see our URA_Basic_Example notebook"
   ]
  },
  {
   "cell_type": "code",
   "execution_count": 6,
   "metadata": {},
   "outputs": [
    {
     "data": {
      "text/plain": [
       "TF_ENRICHMENT    0.000067\n",
       "dtype: float64"
      ]
     },
     "execution_count": 6,
     "metadata": {},
     "output_type": "execute_result"
    }
   ],
   "source": [
    "# Enrichment of every TF with respect to its targets\n",
    "ura.tf_target_enrichment_calc()\n",
    "\n",
    "# Enrichment of TF's themselves\n",
    "ura.tf_enrichment_calc()   \n",
    "ura.get('tf_enrichment')"
   ]
  },
  {
   "cell_type": "code",
   "execution_count": 7,
   "metadata": {},
   "outputs": [],
   "source": [
    "# calculate z-scores\n",
    "ura.tf_zscore(bias_filter = 0.25)"
   ]
  },
  {
   "cell_type": "markdown",
   "metadata": {},
   "source": [
    "### Compare the Ingenuity Article's results to Ours\n",
    "<a id='comphuvec'></a>\n",
    "\n",
    "These are the TF's found to be most relevant according to the Ingenuity Pathway Analysis paper. Optimally, these genes would rank very high. A rank of 0 is always best, while the rank associated with a z-score of zero is the worst. \n",
    "\n",
    "In this case, IFNG anf TNF are high ranking, therefore show coordination between our results and the Ingenuity article's results. LBP, PCBP1, PCBP2, PCBP4, and RELB have z-scores of zero, meaning not enough information exists about these genes to calculate a true z-score for them. PCBP3 has a NaN z-score because it is not in the graph."
   ]
  },
  {
   "cell_type": "code",
   "execution_count": 8,
   "metadata": {},
   "outputs": [
    {
     "name": "stdout",
     "output_type": "stream",
     "text": [
      "PCBP3 is not a valid transcription factor in our graph.\n"
     ]
    },
    {
     "data": {
      "image/png": "[encoded data removed]",
      "text/plain": [
       "<matplotlib.figure.Figure at 0xc7e2e48>"
      ]
     },
     "metadata": {},
     "output_type": "display_data"
    }
   ],
   "source": [
    "ura.compare_genes(huvec_genes)"
   ]
  },
  {
   "cell_type": "markdown",
   "metadata": {},
   "source": [
    "### Display Our results\n",
    "<a id='displayhuvec'></a>\n",
    "\n",
    "These are the most relevant TF's according to our analysis. Optimally, these should match the huvec genes defined above. However, using a different background network produces discrepancies.\n",
    "\n",
    "IFNG, TNF, and TNFAIP3 show coordination between our results and the Ingenuity article's results."
   ]
  },
  {
   "cell_type": "code",
   "execution_count": 9,
   "metadata": {
    "scrolled": false
   },
   "outputs": [
    {
     "data": {
      "text/html": [
       "<div>\n",
       "<style scoped>\n",
       "    .dataframe tbody tr th:only-of-type {\n",
       "        vertical-align: middle;\n",
       "    }\n",
       "\n",
       "    .dataframe tbody tr th {\n",
       "        vertical-align: top;\n",
       "    }\n",
       "\n",
       "    .dataframe thead th {\n",
       "        text-align: right;\n",
       "    }\n",
       "</style>\n",
       "<table border=\"1\" class=\"dataframe\">\n",
       "  <thead>\n",
       "    <tr style=\"text-align: right;\">\n",
       "      <th></th>\n",
       "      <th>z-score</th>\n",
       "      <th>(adj) p-value</th>\n",
       "      <th>(log) fold change</th>\n",
       "    </tr>\n",
       "  </thead>\n",
       "  <tbody>\n",
       "    <tr>\n",
       "      <th>IFNG</th>\n",
       "      <td>3.549648</td>\n",
       "      <td>0.943412</td>\n",
       "      <td>-0.1720</td>\n",
       "    </tr>\n",
       "    <tr>\n",
       "      <th>CTF1</th>\n",
       "      <td>3.000000</td>\n",
       "      <td>0.947242</td>\n",
       "      <td>0.4870</td>\n",
       "    </tr>\n",
       "    <tr>\n",
       "      <th>STAT4</th>\n",
       "      <td>2.645751</td>\n",
       "      <td>0.990425</td>\n",
       "      <td>0.0383</td>\n",
       "    </tr>\n",
       "    <tr>\n",
       "      <th>STAT5A</th>\n",
       "      <td>2.529822</td>\n",
       "      <td>0.344762</td>\n",
       "      <td>1.0600</td>\n",
       "    </tr>\n",
       "    <tr>\n",
       "      <th>TNF</th>\n",
       "      <td>2.342606</td>\n",
       "      <td>0.658852</td>\n",
       "      <td>1.1200</td>\n",
       "    </tr>\n",
       "    <tr>\n",
       "      <th>HIF1A</th>\n",
       "      <td>2.236068</td>\n",
       "      <td>0.965412</td>\n",
       "      <td>0.1130</td>\n",
       "    </tr>\n",
       "    <tr>\n",
       "      <th>FOS</th>\n",
       "      <td>2.236068</td>\n",
       "      <td>0.625963</td>\n",
       "      <td>-0.8010</td>\n",
       "    </tr>\n",
       "    <tr>\n",
       "      <th>IRF3</th>\n",
       "      <td>2.236068</td>\n",
       "      <td>0.972756</td>\n",
       "      <td>0.1810</td>\n",
       "    </tr>\n",
       "    <tr>\n",
       "      <th>GATA3</th>\n",
       "      <td>2.236068</td>\n",
       "      <td>0.323464</td>\n",
       "      <td>-0.8050</td>\n",
       "    </tr>\n",
       "    <tr>\n",
       "      <th>SPG7</th>\n",
       "      <td>2.236068</td>\n",
       "      <td>NaN</td>\n",
       "      <td>NaN</td>\n",
       "    </tr>\n",
       "  </tbody>\n",
       "</table>\n",
       "</div>"
      ],
      "text/plain": [
       "         z-score  (adj) p-value  (log) fold change\n",
       "IFNG    3.549648       0.943412            -0.1720\n",
       "CTF1    3.000000       0.947242             0.4870\n",
       "STAT4   2.645751       0.990425             0.0383\n",
       "STAT5A  2.529822       0.344762             1.0600\n",
       "TNF     2.342606       0.658852             1.1200\n",
       "HIF1A   2.236068       0.965412             0.1130\n",
       "FOS     2.236068       0.625963            -0.8010\n",
       "IRF3    2.236068       0.972756             0.1810\n",
       "GATA3   2.236068       0.323464            -0.8050\n",
       "SPG7    2.236068            NaN                NaN"
      ]
     },
     "metadata": {},
     "output_type": "display_data"
    },
    {
     "data": {
      "text/html": [
       "<div>\n",
       "<style scoped>\n",
       "    .dataframe tbody tr th:only-of-type {\n",
       "        vertical-align: middle;\n",
       "    }\n",
       "\n",
       "    .dataframe tbody tr th {\n",
       "        vertical-align: top;\n",
       "    }\n",
       "\n",
       "    .dataframe thead th {\n",
       "        text-align: right;\n",
       "    }\n",
       "</style>\n",
       "<table border=\"1\" class=\"dataframe\">\n",
       "  <thead>\n",
       "    <tr style=\"text-align: right;\">\n",
       "      <th></th>\n",
       "      <th>z-score</th>\n",
       "      <th>(adj) p-value</th>\n",
       "      <th>(log) fold change</th>\n",
       "    </tr>\n",
       "  </thead>\n",
       "  <tbody>\n",
       "    <tr>\n",
       "      <th>PPARA</th>\n",
       "      <td>-2.449490</td>\n",
       "      <td>0.931975</td>\n",
       "      <td>0.26200</td>\n",
       "    </tr>\n",
       "    <tr>\n",
       "      <th>TNFAIP3</th>\n",
       "      <td>-2.000000</td>\n",
       "      <td>0.000369</td>\n",
       "      <td>2.80000</td>\n",
       "    </tr>\n",
       "    <tr>\n",
       "      <th>DDX41</th>\n",
       "      <td>-2.000000</td>\n",
       "      <td>0.884567</td>\n",
       "      <td>0.21500</td>\n",
       "    </tr>\n",
       "    <tr>\n",
       "      <th>CACNA2D4</th>\n",
       "      <td>-2.000000</td>\n",
       "      <td>NaN</td>\n",
       "      <td>NaN</td>\n",
       "    </tr>\n",
       "    <tr>\n",
       "      <th>CACNA2D2</th>\n",
       "      <td>-2.000000</td>\n",
       "      <td>0.994112</td>\n",
       "      <td>-0.04400</td>\n",
       "    </tr>\n",
       "    <tr>\n",
       "      <th>GPSM1</th>\n",
       "      <td>-1.941451</td>\n",
       "      <td>NaN</td>\n",
       "      <td>NaN</td>\n",
       "    </tr>\n",
       "    <tr>\n",
       "      <th>SIRT1</th>\n",
       "      <td>-1.897367</td>\n",
       "      <td>0.998068</td>\n",
       "      <td>0.00695</td>\n",
       "    </tr>\n",
       "    <tr>\n",
       "      <th>NR3C1</th>\n",
       "      <td>-1.732051</td>\n",
       "      <td>0.853714</td>\n",
       "      <td>0.30100</td>\n",
       "    </tr>\n",
       "    <tr>\n",
       "      <th>NKX2-5</th>\n",
       "      <td>-1.732051</td>\n",
       "      <td>0.847805</td>\n",
       "      <td>0.99000</td>\n",
       "    </tr>\n",
       "    <tr>\n",
       "      <th>IRF8</th>\n",
       "      <td>-1.732051</td>\n",
       "      <td>0.969826</td>\n",
       "      <td>0.14900</td>\n",
       "    </tr>\n",
       "  </tbody>\n",
       "</table>\n",
       "</div>"
      ],
      "text/plain": [
       "           z-score  (adj) p-value  (log) fold change\n",
       "PPARA    -2.449490       0.931975            0.26200\n",
       "TNFAIP3  -2.000000       0.000369            2.80000\n",
       "DDX41    -2.000000       0.884567            0.21500\n",
       "CACNA2D4 -2.000000            NaN                NaN\n",
       "CACNA2D2 -2.000000       0.994112           -0.04400\n",
       "GPSM1    -1.941451            NaN                NaN\n",
       "SIRT1    -1.897367       0.998068            0.00695\n",
       "NR3C1    -1.732051       0.853714            0.30100\n",
       "NKX2-5   -1.732051       0.847805            0.99000\n",
       "IRF8     -1.732051       0.969826            0.14900"
      ]
     },
     "metadata": {},
     "output_type": "display_data"
    }
   ],
   "source": [
    "top_act_huvec = ura.top_values(act = True, abs_value = False, top = 10)\n",
    "top_inh_huvec = ura.top_values(act = False, abs_value = False, top = 10)\n",
    "display(top_act_huvec)\n",
    "display(top_inh_huvec)"
   ]
  },
  {
   "cell_type": "markdown",
   "metadata": {},
   "source": [
    "## Breast Cancer ###\n",
    "<a id='brca'></a>"
   ]
  },
  {
   "cell_type": "markdown",
   "metadata": {},
   "source": [
    "### Load Breast Cancer DEG's\n",
    "<a id='loadbrca'></a>"
   ]
  },
  {
   "cell_type": "code",
   "execution_count": 10,
   "metadata": {},
   "outputs": [],
   "source": [
    "urb = ura.copyUpstream()"
   ]
  },
  {
   "cell_type": "code",
   "execution_count": 11,
   "metadata": {},
   "outputs": [],
   "source": [
    "# DEG's\n",
    "filename_brca = '../../DEG_databases/geo2r_GSE11352_brca_48hours.txt'\n",
    "\n",
    "# TF's found to be statistically significant in Ingenuity Systems URA article\n",
    "brca_genes = ['ESR1', 'FSH', 'MEK', 'BRD4', 'MYC', 'MARK1', 'IL1B','NCOA3','PGR', \n",
    "              'EGR1', 'HIF1A', 'NR3C1','CTNNB1','TP53','SMARCE1','STAT5B']\n",
    "\n",
    "# add DEG information to STRING background network\n",
    "urb.create_DEG_list(filename_brca, p_value_filter = 0.05)"
   ]
  },
  {
   "cell_type": "markdown",
   "metadata": {},
   "source": [
    "### Calculate enrichment and activation state of TFs\n",
    "<a id='pzbrca'></a>"
   ]
  },
  {
   "cell_type": "code",
   "execution_count": 12,
   "metadata": {},
   "outputs": [
    {
     "data": {
      "text/plain": [
       "TF_ENRICHMENT    0.009482\n",
       "dtype: float64"
      ]
     },
     "execution_count": 12,
     "metadata": {},
     "output_type": "execute_result"
    }
   ],
   "source": [
    "# Enrichment of every TF with respect to its targets\n",
    "urb.tf_target_enrichment_calc()\n",
    "\n",
    "# Enrichment of TF's themselves\n",
    "urb.tf_enrichment_calc()   \n",
    "urb.get('tf_enrichment')"
   ]
  },
  {
   "cell_type": "code",
   "execution_count": 13,
   "metadata": {},
   "outputs": [],
   "source": [
    "# calculate z-scores\n",
    "urb.tf_zscore(bias_filter = 0.25)"
   ]
  },
  {
   "cell_type": "markdown",
   "metadata": {},
   "source": [
    "### Compare the Ingenuity Article's results to Ours\n",
    "<a id='compbrca'></a>\n",
    "TP53, MYC, and ESR1 are foud to be highly ranking, showing coordination between our results and the Ingenuity article's results."
   ]
  },
  {
   "cell_type": "code",
   "execution_count": 14,
   "metadata": {},
   "outputs": [
    {
     "name": "stdout",
     "output_type": "stream",
     "text": [
      "FSH is not a valid transcription factor in our graph.\n",
      "MEK is not a valid transcription factor in our graph.\n",
      "MARK1 is not a valid transcription factor in our graph.\n",
      "IL1B is not a valid transcription factor in our graph.\n"
     ]
    },
    {
     "data": {
      "image/png": "[encoded data removed]",
      "text/plain": [
       "<matplotlib.figure.Figure at 0x2a591ba8>"
      ]
     },
     "metadata": {},
     "output_type": "display_data"
    }
   ],
   "source": [
    "urb.compare_genes(brca_genes, fig_size = (14, 9), font_size = 11)"
   ]
  },
  {
   "cell_type": "markdown",
   "metadata": {},
   "source": [
    "### Display Our results\n",
    "<a id='displaybrca'></a>\n",
    "MYCN, MYC, ESR1, and TP53 show coordination between our results and the Ingenuity article's results.\n",
    "\n",
    "Four out of five of our top activating genes, in particular MYCN, are associated with breast cancer according to literature. Our top three inhibiting genes, in particular FOXO3, are also associated with breast cancer according to literature."
   ]
  },
  {
   "cell_type": "code",
   "execution_count": 15,
   "metadata": {},
   "outputs": [
    {
     "data": {
      "text/html": [
       "<div>\n",
       "<style scoped>\n",
       "    .dataframe tbody tr th:only-of-type {\n",
       "        vertical-align: middle;\n",
       "    }\n",
       "\n",
       "    .dataframe tbody tr th {\n",
       "        vertical-align: top;\n",
       "    }\n",
       "\n",
       "    .dataframe thead th {\n",
       "        text-align: right;\n",
       "    }\n",
       "</style>\n",
       "<table border=\"1\" class=\"dataframe\">\n",
       "  <thead>\n",
       "    <tr style=\"text-align: right;\">\n",
       "      <th></th>\n",
       "      <th>z-score</th>\n",
       "      <th>(adj) p-value</th>\n",
       "      <th>(log) fold change</th>\n",
       "    </tr>\n",
       "  </thead>\n",
       "  <tbody>\n",
       "    <tr>\n",
       "      <th>STAT1</th>\n",
       "      <td>1.732051</td>\n",
       "      <td>0.6421</td>\n",
       "      <td>0.136488</td>\n",
       "    </tr>\n",
       "    <tr>\n",
       "      <th>MYCN</th>\n",
       "      <td>1.732051</td>\n",
       "      <td>0.0545</td>\n",
       "      <td>-3.033888</td>\n",
       "    </tr>\n",
       "    <tr>\n",
       "      <th>STAT3</th>\n",
       "      <td>1.732051</td>\n",
       "      <td>0.3654</td>\n",
       "      <td>-0.324608</td>\n",
       "    </tr>\n",
       "    <tr>\n",
       "      <th>MYC</th>\n",
       "      <td>1.666667</td>\n",
       "      <td>0.1006</td>\n",
       "      <td>0.807643</td>\n",
       "    </tr>\n",
       "    <tr>\n",
       "      <th>CCNA2</th>\n",
       "      <td>1.414214</td>\n",
       "      <td>0.1376</td>\n",
       "      <td>0.569129</td>\n",
       "    </tr>\n",
       "    <tr>\n",
       "      <th>NFATC2</th>\n",
       "      <td>1.414214</td>\n",
       "      <td>0.1698</td>\n",
       "      <td>0.800778</td>\n",
       "    </tr>\n",
       "    <tr>\n",
       "      <th>STAT2</th>\n",
       "      <td>1.414214</td>\n",
       "      <td>0.6577</td>\n",
       "      <td>0.219203</td>\n",
       "    </tr>\n",
       "    <tr>\n",
       "      <th>PHKB</th>\n",
       "      <td>1.414214</td>\n",
       "      <td>0.0907</td>\n",
       "      <td>-0.781048</td>\n",
       "    </tr>\n",
       "    <tr>\n",
       "      <th>SREBF2</th>\n",
       "      <td>1.414214</td>\n",
       "      <td>0.5486</td>\n",
       "      <td>0.314303</td>\n",
       "    </tr>\n",
       "    <tr>\n",
       "      <th>PHKA1</th>\n",
       "      <td>1.414214</td>\n",
       "      <td>0.7130</td>\n",
       "      <td>-0.288041</td>\n",
       "    </tr>\n",
       "  </tbody>\n",
       "</table>\n",
       "</div>"
      ],
      "text/plain": [
       "         z-score  (adj) p-value  (log) fold change\n",
       "STAT1   1.732051         0.6421           0.136488\n",
       "MYCN    1.732051         0.0545          -3.033888\n",
       "STAT3   1.732051         0.3654          -0.324608\n",
       "MYC     1.666667         0.1006           0.807643\n",
       "CCNA2   1.414214         0.1376           0.569129\n",
       "NFATC2  1.414214         0.1698           0.800778\n",
       "STAT2   1.414214         0.6577           0.219203\n",
       "PHKB    1.414214         0.0907          -0.781048\n",
       "SREBF2  1.414214         0.5486           0.314303\n",
       "PHKA1   1.414214         0.7130          -0.288041"
      ]
     },
     "metadata": {},
     "output_type": "display_data"
    },
    {
     "data": {
      "text/html": [
       "<div>\n",
       "<style scoped>\n",
       "    .dataframe tbody tr th:only-of-type {\n",
       "        vertical-align: middle;\n",
       "    }\n",
       "\n",
       "    .dataframe tbody tr th {\n",
       "        vertical-align: top;\n",
       "    }\n",
       "\n",
       "    .dataframe thead th {\n",
       "        text-align: right;\n",
       "    }\n",
       "</style>\n",
       "<table border=\"1\" class=\"dataframe\">\n",
       "  <thead>\n",
       "    <tr style=\"text-align: right;\">\n",
       "      <th></th>\n",
       "      <th>z-score</th>\n",
       "      <th>(adj) p-value</th>\n",
       "      <th>(log) fold change</th>\n",
       "    </tr>\n",
       "  </thead>\n",
       "  <tbody>\n",
       "    <tr>\n",
       "      <th>TP53</th>\n",
       "      <td>-1.889822</td>\n",
       "      <td>0.6567</td>\n",
       "      <td>0.131119</td>\n",
       "    </tr>\n",
       "    <tr>\n",
       "      <th>NR1H3</th>\n",
       "      <td>-1.414214</td>\n",
       "      <td>0.6998</td>\n",
       "      <td>0.123408</td>\n",
       "    </tr>\n",
       "    <tr>\n",
       "      <th>EGR2</th>\n",
       "      <td>-1.414214</td>\n",
       "      <td>0.9456</td>\n",
       "      <td>0.223257</td>\n",
       "    </tr>\n",
       "    <tr>\n",
       "      <th>AKT1</th>\n",
       "      <td>-1.414214</td>\n",
       "      <td>0.7268</td>\n",
       "      <td>0.109646</td>\n",
       "    </tr>\n",
       "    <tr>\n",
       "      <th>FOXO3</th>\n",
       "      <td>-1.414214</td>\n",
       "      <td>0.4660</td>\n",
       "      <td>-0.221403</td>\n",
       "    </tr>\n",
       "    <tr>\n",
       "      <th>FOXO4</th>\n",
       "      <td>-1.414214</td>\n",
       "      <td>0.7937</td>\n",
       "      <td>0.403570</td>\n",
       "    </tr>\n",
       "    <tr>\n",
       "      <th>CEBPB</th>\n",
       "      <td>-1.000000</td>\n",
       "      <td>0.1646</td>\n",
       "      <td>0.497956</td>\n",
       "    </tr>\n",
       "    <tr>\n",
       "      <th>NR1H2</th>\n",
       "      <td>-1.000000</td>\n",
       "      <td>0.9669</td>\n",
       "      <td>-0.020007</td>\n",
       "    </tr>\n",
       "    <tr>\n",
       "      <th>RFX1</th>\n",
       "      <td>-1.000000</td>\n",
       "      <td>0.2920</td>\n",
       "      <td>0.932776</td>\n",
       "    </tr>\n",
       "    <tr>\n",
       "      <th>JUND</th>\n",
       "      <td>-1.000000</td>\n",
       "      <td>0.4683</td>\n",
       "      <td>0.220135</td>\n",
       "    </tr>\n",
       "  </tbody>\n",
       "</table>\n",
       "</div>"
      ],
      "text/plain": [
       "        z-score  (adj) p-value  (log) fold change\n",
       "TP53  -1.889822         0.6567           0.131119\n",
       "NR1H3 -1.414214         0.6998           0.123408\n",
       "EGR2  -1.414214         0.9456           0.223257\n",
       "AKT1  -1.414214         0.7268           0.109646\n",
       "FOXO3 -1.414214         0.4660          -0.221403\n",
       "FOXO4 -1.414214         0.7937           0.403570\n",
       "CEBPB -1.000000         0.1646           0.497956\n",
       "NR1H2 -1.000000         0.9669          -0.020007\n",
       "RFX1  -1.000000         0.2920           0.932776\n",
       "JUND  -1.000000         0.4683           0.220135"
      ]
     },
     "metadata": {},
     "output_type": "display_data"
    }
   ],
   "source": [
    "top_act_brca = urb.top_values(act = True, abs_value = False, top = 10)\n",
    "top_inh_brca = urb.top_values(act = False, abs_value = False, top = 10)\n",
    "display(top_act_brca)\n",
    "display(top_inh_brca)"
   ]
  },
  {
   "cell_type": "code",
   "execution_count": 16,
   "metadata": {},
   "outputs": [
    {
     "data": {
      "text/html": [
       "<!doctype html><html><head>  <title>Network | Basic usage</title></head><body><script type=\"text/javascript\">function setUpFrame() {     var frame = window.frames[\"style_file0\"];    frame.runVis([{\"node_shape\": \"circle\", \"degree\": 3.0, \"title\": \"CCL2\", \"color\": \"grey\", \"size_field\": 2.089924707527987, \"y\": 310.0241836764525, \"x\": 1005.5016284017108, \"border_width\": 0, \"id\": \"CCL2\"}, {\"node_shape\": \"circle\", \"degree\": 3.0, \"title\": \"TGM2\", \"color\": \"grey\", \"size_field\": 3.932401799030521, \"y\": 394.6921616479553, \"x\": 784.3345775210528, \"border_width\": 0, \"id\": \"TGM2\"}, {\"node_shape\": \"circle\", \"degree\": 3.0, \"title\": \"SIRT2\", \"color\": \"grey\", \"size_field\": 2.8182569916027895, \"y\": 851.6204024751265, \"x\": 1059.7957792475088, \"border_width\": 0, \"id\": \"SIRT2\"}, {\"node_shape\": \"circle\", \"degree\": 3.0, \"title\": \"SMAD4\", \"color\": \"grey\", \"size_field\": 3.6782522284344603, \"y\": 719.4716120128642, \"x\": 756.9146385720809, \"border_width\": 0, \"id\": \"SMAD4\"}, {\"node_shape\": \"circle\", \"degree\": 3.0, \"title\": \"CDKN1B\", \"color\": \"grey\", \"size_field\": 4.10127823628901, \"y\": 365.8829277390527, \"x\": 746.0886959395478, \"border_width\": 0, \"id\": \"CDKN1B\"}, {\"node_shape\": \"circle\", \"degree\": 3.0, \"title\": \"VEGFA\", \"color\": \"grey\", \"size_field\": 3.525556428453398, \"y\": 428.20012526889116, \"x\": 832.4747218729892, \"border_width\": 0, \"id\": \"VEGFA\"}, {\"node_shape\": \"circle\", \"degree\": 3.0, \"title\": \"IGF1R\", \"color\": \"grey\", \"size_field\": 3.944211592419732, \"y\": 182.72005390421916, \"x\": 504.18737114515255, \"border_width\": 0, \"id\": \"IGF1R\"}, {\"node_shape\": \"circle\", \"degree\": 3.0, \"title\": \"BCL2\", \"color\": \"grey\", \"size_field\": 3.5186835491656363, \"y\": 439.8347210918527, \"x\": 1116.0340971649027, \"border_width\": 0, \"id\": \"BCL2\"}, {\"node_shape\": \"circle\", \"degree\": 3.0, \"title\": \"CHL1\", \"color\": \"grey\", \"size_field\": 2.7991745852054755, \"y\": 0.0, \"x\": 499.69149959833703, \"border_width\": 0, \"id\": \"CHL1\"}, {\"node_shape\": \"circle\", \"degree\": 3.0, \"title\": \"NDRG1\", \"color\": \"grey\", \"size_field\": 2.282628198149102, \"y\": 283.9956885652085, \"x\": 1075.1330884706344, \"border_width\": 0, \"id\": \"NDRG1\"}, {\"node_shape\": \"circle\", \"degree\": 3.0, \"title\": \"MYBL2\", \"color\": \"grey\", \"size_field\": 2.316904931128684, \"y\": 890.1804527213153, \"x\": 935.5393395985064, \"border_width\": 0, \"id\": \"MYBL2\"}, {\"node_shape\": \"circle\", \"degree\": 3.0, \"title\": \"NES\", \"color\": \"grey\", \"size_field\": 2.8751487885429796, \"y\": 555.2881299455958, \"x\": 793.2798648437565, \"border_width\": 0, \"id\": \"NES\"}, {\"node_shape\": \"circle\", \"degree\": 3.0, \"title\": \"GSN\", \"color\": \"grey\", \"size_field\": 3.868856519613022, \"y\": 1056.1280983663758, \"x\": 715.5358586380302, \"border_width\": 0, \"id\": \"GSN\"}, {\"node_shape\": \"star\", \"degree\": 3.0, \"title\": \"MYCN\", \"color\": \"grey\", \"size_field\": 13.44201937618241, \"y\": 665.7646850346905, \"x\": 297.3972468899391, \"border_width\": 0, \"id\": \"MYCN\"}, {\"node_shape\": \"circle\", \"degree\": 3.0, \"title\": \"KLF10\", \"color\": \"grey\", \"size_field\": 2.8636982817549845, \"y\": 229.50753469891592, \"x\": 765.421995093383, \"border_width\": 0, \"id\": \"KLF10\"}, {\"node_shape\": \"circle\", \"degree\": 3.0, \"title\": \"STAT3\", \"color\": \"grey\", \"size_field\": 3.0067626350382306, \"y\": 198.28732110331626, \"x\": 768.1738161840909, \"border_width\": 0, \"id\": \"STAT3\"}, {\"node_shape\": \"circle\", \"degree\": 3.0, \"title\": \"CHD7\", \"color\": \"grey\", \"size_field\": 3.1933626252139202, \"y\": 963.4578175627902, \"x\": 995.019565970456, \"border_width\": 0, \"id\": \"CHD7\"}, {\"node_shape\": \"circle\", \"degree\": 3.0, \"title\": \"RUNX3\", \"color\": \"grey\", \"size_field\": 2.6790470561811635, \"y\": 763.5295821983443, \"x\": 444.2591958484748, \"border_width\": 0, \"id\": \"RUNX3\"}, {\"node_shape\": \"circle\", \"degree\": 3.0, \"title\": \"CDKL5\", \"color\": \"rgba(112, 112, 256, 1.0)\", \"size_field\": 5.18689277901515, \"y\": 64.56476446164581, \"x\": 543.5887818961199, \"border_width\": 2, \"id\": \"CDKL5\"}, {\"node_shape\": \"circle\", \"degree\": 3.0, \"title\": \"SOX11\", \"color\": \"grey\", \"size_field\": 2.8209805520698303, \"y\": 1125.9252926866175, \"x\": 532.3870993334157, \"border_width\": 0, \"id\": \"SOX11\"}, {\"node_shape\": \"circle\", \"degree\": 3.0, \"title\": \"NTRK1\", \"color\": \"grey\", \"size_field\": 2.0781777810640243, \"y\": 544.6938936388356, \"x\": 880.9805060245835, \"border_width\": 0, \"id\": \"NTRK1\"}, {\"node_shape\": \"circle\", \"degree\": 3.0, \"title\": \"RGS5\", \"color\": \"grey\", \"size_field\": 4.6635549612156595, \"y\": 196.26427385515802, \"x\": 533.1876173785973, \"border_width\": 0, \"id\": \"RGS5\"}, {\"node_shape\": \"circle\", \"degree\": 3.0, \"title\": \"GLI1\", \"color\": \"grey\", \"size_field\": 2.1338743085563276, \"y\": 1047.4757726561627, \"x\": 383.48063374716116, \"border_width\": 0, \"id\": \"GLI1\"}, {\"node_shape\": \"circle\", \"degree\": 3.0, \"title\": \"NFKB1\", \"color\": \"grey\", \"size_field\": 2.533923675011968, \"y\": 605.9224332453878, \"x\": 924.4914408580635, \"border_width\": 0, \"id\": \"NFKB1\"}, {\"node_shape\": \"circle\", \"degree\": 3.0, \"title\": \"MYC\", \"color\": \"grey\", \"size_field\": 4.296603021316498, \"y\": 512.0647976386487, \"x\": 680.9225108969589, \"border_width\": 0, \"id\": \"MYC\"}, {\"node_shape\": \"circle\", \"degree\": 3.0, \"title\": \"TRPM7\", \"color\": \"grey\", \"size_field\": 3.396344696973392, \"y\": 335.2606304589686, \"x\": 139.90200946272967, \"border_width\": 0, \"id\": \"TRPM7\"}, {\"node_shape\": \"circle\", \"degree\": 3.0, \"title\": \"WT1\", \"color\": \"grey\", \"size_field\": 2.133188594243745, \"y\": 218.04872052606567, \"x\": 259.1431654982238, \"border_width\": 0, \"id\": \"WT1\"}, {\"node_shape\": \"circle\", \"degree\": 3.0, \"title\": \"WDR5\", \"color\": \"grey\", \"size_field\": 4.02117263355586, \"y\": 589.696335608956, \"x\": 1183.9148438449054, \"border_width\": 0, \"id\": \"WDR5\"}, {\"node_shape\": \"circle\", \"degree\": 3.0, \"title\": \"SHC2\", \"color\": \"grey\", \"size_field\": 3.370027388656019, \"y\": 681.5179397238419, \"x\": 1129.230359305387, \"border_width\": 0, \"id\": \"SHC2\"}, {\"node_shape\": \"circle\", \"degree\": 3.0, \"title\": \"ASCL1\", \"color\": \"rgba(256, 4, 4, 1.0)\", \"size_field\": 5.414282621210811, \"y\": 177.78563355475384, \"x\": 862.8659252820078, \"border_width\": 2, \"id\": \"ASCL1\"}, {\"node_shape\": \"circle\", \"degree\": 3.0, \"title\": \"CTSD\", \"color\": \"grey\", \"size_field\": 4.838728524744326, \"y\": 464.35356840225217, \"x\": 395.90814620064447, \"border_width\": 0, \"id\": \"CTSD\"}, {\"node_shape\": \"circle\", \"degree\": 3.0, \"title\": \"HMGA1\", \"color\": \"grey\", \"size_field\": 2.8563722416629114, \"y\": 296.9485724932184, \"x\": 558.1760841916139, \"border_width\": 0, \"id\": \"HMGA1\"}, {\"node_shape\": \"circle\", \"degree\": 3.0, \"title\": \"MCM7\", \"color\": \"grey\", \"size_field\": 3.8546992690019293, \"y\": 289.79456312632055, \"x\": 38.78917992525853, \"border_width\": 0, \"id\": \"MCM7\"}, {\"node_shape\": \"circle\", \"degree\": 3.0, \"title\": \"MTOR\", \"color\": \"grey\", \"size_field\": 2.2470520963658855, \"y\": 371.10349475826234, \"x\": 981.1143009442229, \"border_width\": 0, \"id\": \"MTOR\"}, {\"node_shape\": \"circle\", \"degree\": 3.0, \"title\": \"SHH\", \"color\": \"grey\", \"size_field\": 2.9731256686266936, \"y\": 650.4989461462852, \"x\": 665.0524457254357, \"border_width\": 0, \"id\": \"SHH\"}, {\"node_shape\": \"circle\", \"degree\": 3.0, \"title\": \"SLC19A1\", \"color\": \"grey\", \"size_field\": 4.267217949156755, \"y\": 1065.9664017899272, \"x\": 808.7200273567108, \"border_width\": 0, \"id\": \"SLC19A1\"}, {\"node_shape\": \"circle\", \"degree\": 3.0, \"title\": \"TRPM6\", \"color\": \"grey\", \"size_field\": 2.8472311959426606, \"y\": 919.7040906943055, \"x\": 0.0, \"border_width\": 0, \"id\": \"TRPM6\"}, {\"node_shape\": \"circle\", \"degree\": 3.0, \"title\": \"ALK\", \"color\": \"grey\", \"size_field\": 2.384486701722973, \"y\": 1003.4532253041613, \"x\": 566.9003401676327, \"border_width\": 0, \"id\": \"ALK\"}, {\"node_shape\": \"circle\", \"degree\": 3.0, \"title\": \"TP53\", \"color\": \"grey\", \"size_field\": 2.4205279857852102, \"y\": 473.3263241689976, \"x\": 794.515082223416, \"border_width\": 0, \"id\": \"TP53\"}, {\"node_shape\": \"circle\", \"degree\": 3.0, \"title\": \"BMP2\", \"color\": \"grey\", \"size_field\": 3.0555527992076628, \"y\": 470.15562618280507, \"x\": 1189.770546949133, \"border_width\": 0, \"id\": \"BMP2\"}, {\"node_shape\": \"circle\", \"degree\": 3.0, \"title\": \"CCND1\", \"color\": \"grey\", \"size_field\": 3.2437536743377806, \"y\": 562.8085993205194, \"x\": 610.989794147692, \"border_width\": 0, \"id\": \"CCND1\"}, {\"node_shape\": \"circle\", \"degree\": 3.0, \"title\": \"LRRN3\", \"color\": \"grey\", \"size_field\": 2.8171243603796565, \"y\": 766.5022746071854, \"x\": 117.94876163565262, \"border_width\": 0, \"id\": \"LRRN3\"}, {\"node_shape\": \"circle\", \"degree\": 3.0, \"title\": \"INSM1\", \"color\": \"grey\", \"size_field\": 2.256312612705724, \"y\": 340.58283586464336, \"x\": 571.9794728179475, \"border_width\": 0, \"id\": \"INSM1\"}, {\"node_shape\": \"circle\", \"degree\": 3.0, \"title\": \"AHR\", \"color\": \"grey\", \"size_field\": 2.23990829764694, \"y\": 487.56328306625437, \"x\": 63.15555194392442, \"border_width\": 0, \"id\": \"AHR\"}, {\"node_shape\": \"circle\", \"degree\": 3.0, \"title\": \"PTEN\", \"color\": \"grey\", \"size_field\": 3.3242589702004377, \"y\": 763.1686017458544, \"x\": 671.1178271687394, \"border_width\": 0, \"id\": \"PTEN\"}, {\"node_shape\": \"circle\", \"degree\": 3.0, \"title\": \"VIP\", \"color\": \"grey\", \"size_field\": 2.0948602810239603, \"y\": 497.08236088287254, \"x\": 1200.0, \"border_width\": 0, \"id\": \"VIP\"}, {\"node_shape\": \"circle\", \"degree\": 3.0, \"title\": \"RD3\", \"color\": \"grey\", \"size_field\": 2.0142003494011416, \"y\": 774.5215111410618, \"x\": 1006.9006537926737, \"border_width\": 0, \"id\": \"RD3\"}, {\"node_shape\": \"circle\", \"degree\": 3.0, \"title\": \"SIRT1\", \"color\": \"grey\", \"size_field\": 2.434173272244908, \"y\": 408.8388184850691, \"x\": 990.3365621835028, \"border_width\": 0, \"id\": \"SIRT1\"}, {\"node_shape\": \"circle\", \"degree\": 3.0, \"title\": \"TP53INP1\", \"color\": \"rgba(90, 90, 256, 1.0)\", \"size_field\": 5.44201937618241, \"y\": 703.9345257521487, \"x\": 877.4012061764457, \"border_width\": 2, \"id\": \"TP53INP1\"}, {\"node_shape\": \"circle\", \"degree\": 3.0, \"title\": \"KDM3A\", \"color\": \"grey\", \"size_field\": 3.606941032235513, \"y\": 113.40832265896896, \"x\": 235.19750638634846, \"border_width\": 0, \"id\": \"KDM3A\"}, {\"node_shape\": \"circle\", \"degree\": 3.0, \"title\": \"KDM5B\", \"color\": \"grey\", \"size_field\": 2.501865882394519, \"y\": 919.3492375424896, \"x\": 766.7425651850153, \"border_width\": 0, \"id\": \"KDM5B\"}, {\"node_shape\": \"circle\", \"degree\": 3.0, \"title\": \"CDC42\", \"color\": \"grey\", \"size_field\": 2.6002034349172076, \"y\": 600.4556203067073, \"x\": 884.1586764231135, \"border_width\": 0, \"id\": \"CDC42\"}], [{\"color\": \"blue\", \"source\": 26, \"target\": 40}, {\"color\": \"blue\", \"source\": 26, \"target\": 6}, {\"color\": \"blue\", \"source\": 26, \"target\": 7}, {\"color\": \"red\", \"source\": 3, \"target\": 38}, {\"color\": \"blue\", \"source\": 3, \"target\": 40}, {\"color\": \"red\", \"source\": 3, \"target\": 4}, {\"color\": \"blue\", \"source\": 3, \"target\": 5}, {\"color\": \"blue\", \"source\": 3, \"target\": 24}, {\"color\": \"blue\", \"source\": 13, \"target\": 0}, {\"color\": \"blue\", \"source\": 13, \"target\": 1}, {\"color\": \"red\", \"source\": 13, \"target\": 2}, {\"color\": \"blue\", \"source\": 13, \"target\": 3}, {\"color\": \"blue\", \"source\": 13, \"target\": 4}, {\"color\": \"red\", \"source\": 13, \"target\": 5}, {\"color\": \"red\", \"source\": 13, \"target\": 6}, {\"color\": \"red\", \"source\": 13, \"target\": 7}, {\"color\": \"blue\", \"source\": 13, \"target\": 8}, {\"color\": \"blue\", \"source\": 13, \"target\": 9}, {\"color\": \"red\", \"source\": 13, \"target\": 10}, {\"color\": \"red\", \"source\": 13, \"target\": 11}, {\"color\": \"red\", \"source\": 13, \"target\": 11}, {\"color\": \"blue\", \"source\": 13, \"target\": 12}, {\"color\": \"blue\", \"source\": 13, \"target\": 14}, {\"color\": \"red\", \"source\": 13, \"target\": 15}, {\"color\": \"blue\", \"source\": 13, \"target\": 16}, {\"color\": \"blue\", \"source\": 13, \"target\": 17}, {\"color\": \"blue\", \"source\": 13, \"target\": 18}, {\"color\": \"red\", \"source\": 13, \"target\": 19}, {\"color\": \"blue\", \"source\": 13, \"target\": 20}, {\"color\": \"blue\", \"source\": 13, \"target\": 21}, {\"color\": \"red\", \"source\": 13, \"target\": 22}, {\"color\": \"blue\", \"source\": 13, \"target\": 23}, {\"color\": \"blue\", \"source\": 13, \"target\": 24}, {\"color\": \"red\", \"source\": 13, \"target\": 25}, {\"color\": \"blue\", \"source\": 13, \"target\": 26}, {\"color\": \"red\", \"source\": 13, \"target\": 27}, {\"color\": \"red\", \"source\": 13, \"target\": 28}, {\"color\": \"red\", \"source\": 13, \"target\": 29}, {\"color\": \"blue\", \"source\": 13, \"target\": 30}, {\"color\": \"red\", \"source\": 13, \"target\": 31}, {\"color\": \"red\", \"source\": 13, \"target\": 32}, {\"color\": \"red\", \"source\": 13, \"target\": 33}, {\"color\": \"red\", \"source\": 13, \"target\": 34}, {\"color\": \"red\", \"source\": 13, \"target\": 35}, {\"color\": \"red\", \"source\": 13, \"target\": 36}, {\"color\": \"red\", \"source\": 13, \"target\": 37}, {\"color\": \"red\", \"source\": 13, \"target\": 38}, {\"color\": \"blue\", \"source\": 13, \"target\": 39}, {\"color\": \"red\", \"source\": 13, \"target\": 40}, {\"color\": \"blue\", \"source\": 13, \"target\": 41}, {\"color\": \"red\", \"source\": 13, \"target\": 42}, {\"color\": \"blue\", \"source\": 13, \"target\": 43}, {\"color\": \"red\", \"source\": 13, \"target\": 44}, {\"color\": \"blue\", \"source\": 13, \"target\": 45}, {\"color\": \"blue\", \"source\": 13, \"target\": 46}, {\"color\": \"red\", \"source\": 13, \"target\": 47}, {\"color\": \"blue\", \"source\": 13, \"target\": 48}, {\"color\": \"red\", \"source\": 13, \"target\": 49}, {\"color\": \"blue\", \"source\": 13, \"target\": 50}, {\"color\": \"blue\", \"source\": 13, \"target\": 51}, {\"color\": \"blue\", \"source\": 13, \"target\": 51}, {\"color\": \"red\", \"source\": 14, \"target\": 39}, {\"color\": \"red\", \"source\": 15, \"target\": 6}, {\"color\": \"blue\", \"source\": 15, \"target\": 38}, {\"color\": \"blue\", \"source\": 15, \"target\": 40}, {\"color\": \"blue\", \"source\": 15, \"target\": 40}, {\"color\": \"blue\", \"source\": 15, \"target\": 47}, {\"color\": \"blue\", \"source\": 15, \"target\": 5}, {\"color\": \"blue\", \"source\": 15, \"target\": 5}, {\"color\": \"red\", \"source\": 15, \"target\": 33}, {\"color\": \"red\", \"source\": 15, \"target\": 24}, {\"color\": \"blue\", \"source\": 44, \"target\": 0}, {\"color\": \"blue\", \"source\": 44, \"target\": 1}, {\"color\": \"blue\", \"source\": 44, \"target\": 38}, {\"color\": \"blue\", \"source\": 44, \"target\": 40}, {\"color\": \"blue\", \"source\": 44, \"target\": 20}, {\"color\": \"blue\", \"source\": 44, \"target\": 5}, {\"color\": \"blue\", \"source\": 44, \"target\": 33}, {\"color\": \"red\", \"source\": 44, \"target\": 9}, {\"color\": \"blue\", \"source\": 44, \"target\": 24}, {\"color\": \"blue\", \"source\": 44, \"target\": 50}, {\"color\": \"blue\", \"source\": 44, \"target\": 7}, {\"color\": \"red\", \"source\": 22, \"target\": 37}, {\"color\": \"blue\", \"source\": 22, \"target\": 40}, {\"color\": \"blue\", \"source\": 22, \"target\": 40}, {\"color\": \"red\", \"source\": 22, \"target\": 34}, {\"color\": \"red\", \"source\": 22, \"target\": 34}, {\"color\": \"blue\", \"source\": 22, \"target\": 7}, {\"color\": \"blue\", \"source\": 22, \"target\": 7}, {\"color\": \"blue\", \"source\": 22, \"target\": 39}, {\"color\": \"blue\", \"source\": 22, \"target\": 39}, {\"color\": \"red\", \"source\": 23, \"target\": 0}, {\"color\": \"blue\", \"source\": 23, \"target\": 47}, {\"color\": \"blue\", \"source\": 23, \"target\": 47}, {\"color\": \"red\", \"source\": 23, \"target\": 38}, {\"color\": \"red\", \"source\": 23, \"target\": 40}, {\"color\": \"red\", \"source\": 23, \"target\": 5}, {\"color\": \"red\", \"source\": 23, \"target\": 34}, {\"color\": \"red\", \"source\": 23, \"target\": 33}, {\"color\": \"red\", \"source\": 23, \"target\": 24}, {\"color\": \"red\", \"source\": 23, \"target\": 7}, {\"color\": \"red\", \"source\": 24, \"target\": 0}, {\"color\": \"red\", \"source\": 24, \"target\": 47}, {\"color\": \"red\", \"source\": 24, \"target\": 15}, {\"color\": \"blue\", \"source\": 24, \"target\": 48}, {\"color\": \"blue\", \"source\": 24, \"target\": 38}, {\"color\": \"blue\", \"source\": 24, \"target\": 17}, {\"color\": \"red\", \"source\": 24, \"target\": 40}, {\"color\": \"blue\", \"source\": 24, \"target\": 4}, {\"color\": \"blue\", \"source\": 24, \"target\": 4}, {\"color\": \"red\", \"source\": 24, \"target\": 23}, {\"color\": \"blue\", \"source\": 24, \"target\": 39}, {\"color\": \"blue\", \"source\": 24, \"target\": 44}, {\"color\": \"blue\", \"source\": 24, \"target\": 45}, {\"color\": \"blue\", \"source\": 24, \"target\": 5}, {\"color\": \"blue\", \"source\": 24, \"target\": 9}, {\"color\": \"blue\", \"source\": 24, \"target\": 9}, {\"color\": \"blue\", \"source\": 24, \"target\": 33}, {\"color\": \"red\", \"source\": 24, \"target\": 31}, {\"color\": \"blue\", \"source\": 24, \"target\": 3}, {\"color\": \"blue\", \"source\": 24, \"target\": 7}, {\"color\": \"blue\", \"source\": 24, \"target\": 7}, {\"color\": \"red\", \"source\": 29, \"target\": 34}, {\"color\": \"blue\", \"source\": 29, \"target\": 47}, {\"color\": \"red\", \"source\": 29, \"target\": 42}, {\"color\": \"red\", \"source\": 31, \"target\": 24}, {\"color\": \"blue\", \"source\": 31, \"target\": 38}, {\"color\": \"red\", \"source\": 38, \"target\": 0}, {\"color\": \"blue\", \"source\": 38, \"target\": 6}, {\"color\": \"red\", \"source\": 38, \"target\": 48}, {\"color\": \"blue\", \"source\": 38, \"target\": 15}, {\"color\": \"blue\", \"source\": 38, \"target\": 40}, {\"color\": \"blue\", \"source\": 38, \"target\": 4}, {\"color\": \"red\", \"source\": 38, \"target\": 30}, {\"color\": \"blue\", \"source\": 38, \"target\": 47}, {\"color\": \"blue\", \"source\": 38, \"target\": 47}, {\"color\": \"blue\", \"source\": 38, \"target\": 47}, {\"color\": \"blue\", \"source\": 38, \"target\": 31}, {\"color\": \"blue\", \"source\": 38, \"target\": 44}, {\"color\": \"blue\", \"source\": 38, \"target\": 5}, {\"color\": \"red\", \"source\": 38, \"target\": 9}, {\"color\": \"red\", \"source\": 38, \"target\": 34}, {\"color\": \"red\", \"source\": 38, \"target\": 23}, {\"color\": \"blue\", \"source\": 38, \"target\": 24}, {\"color\": \"blue\", \"source\": 38, \"target\": 11}, {\"color\": \"red\", \"source\": 38, \"target\": 3}, {\"color\": \"blue\", \"source\": 38, \"target\": 7}, {\"color\": \"blue\", \"source\": 38, \"target\": 7}, {\"color\": \"blue\", \"source\": 38, \"target\": 7}, {\"color\": \"blue\", \"source\": 42, \"target\": 40}, {\"color\": \"red\", \"source\": 42, \"target\": 29}, {\"color\": \"red\", \"source\": 42, \"target\": 34}, {\"color\": \"red\", \"source\": 43, \"target\": 0}, {\"color\": \"red\", \"source\": 43, \"target\": 9}, {\"color\": \"red\", \"source\": 43, \"target\": 5}, {\"color\": \"blue\", \"source\": 17, \"target\": 24}, {\"color\": \"blue\", \"source\": 17, \"target\": 5}, {\"color\": \"blue\", \"source\": 17, \"target\": 7}, {\"color\": \"blue\", \"source\": 47, \"target\": 15}, {\"color\": \"red\", \"source\": 47, \"target\": 4}, {\"color\": \"blue\", \"source\": 47, \"target\": 29}, {\"color\": \"blue\", \"source\": 47, \"target\": 5}, {\"color\": \"blue\", \"source\": 47, \"target\": 23}, {\"color\": \"blue\", \"source\": 47, \"target\": 23}, {\"color\": \"blue\", \"source\": 47, \"target\": 38}, {\"color\": \"blue\", \"source\": 47, \"target\": 38}, {\"color\": \"blue\", \"source\": 47, \"target\": 38}, {\"color\": \"red\", \"source\": 47, \"target\": 24}, {\"color\": \"blue\", \"source\": 50, \"target\": 44}]);}</script><iframe name=\"style_file0\" src=\"style_file0.html\" width=\"100%;\" height=\"805px\"></iframe></body></html>"
      ],
      "text/plain": [
       "<IPython.core.display.HTML object>"
      ]
     },
     "execution_count": 16,
     "metadata": {},
     "output_type": "execute_result"
    }
   ],
   "source": [
    "urb.vis_tf_network('MYCN',\n",
    "                   directed_edges = True,\n",
    "                   node_spacing = 1200,\n",
    "                   graph_id = 0) "
   ]
  },
  {
   "cell_type": "code",
   "execution_count": 17,
   "metadata": {},
   "outputs": [
    {
     "data": {
      "text/html": [
       "<!doctype html><html><head>  <title>Network | Basic usage</title></head><body><script type=\"text/javascript\">function setUpFrame() {     var frame = window.frames[\"style_file68\"];    frame.runVis([{\"node_shape\": \"circle\", \"degree\": 3.0, \"title\": \"MOV10\", \"color\": \"grey\", \"size_field\": 3.4300372840678093, \"y\": 819.5453539367754, \"x\": 669.119639869443, \"border_width\": 0, \"id\": \"MOV10\"}, {\"node_shape\": \"circle\", \"degree\": 3.0, \"title\": \"HSPA4\", \"color\": \"grey\", \"size_field\": 4.446455463413748, \"y\": 1419.5618406074236, \"x\": 961.0194617159692, \"border_width\": 0, \"id\": \"HSPA4\"}, {\"node_shape\": \"circle\", \"degree\": 3.0, \"title\": \"PLK1\", \"color\": \"grey\", \"size_field\": 3.433385968653741, \"y\": 900.4376864832061, \"x\": 534.3924755047084, \"border_width\": 0, \"id\": \"PLK1\"}, {\"node_shape\": \"circle\", \"degree\": 3.0, \"title\": \"PRKAG3\", \"color\": \"grey\", \"size_field\": 2.573055700302125, \"y\": 1309.0081823939845, \"x\": 816.412910934281, \"border_width\": 0, \"id\": \"PRKAG3\"}, {\"node_shape\": \"circle\", \"degree\": 3.0, \"title\": \"PRKAG2\", \"color\": \"grey\", \"size_field\": 3.7153541380256496, \"y\": 871.2619707121191, \"x\": 1039.5417817144005, \"border_width\": 0, \"id\": \"PRKAG2\"}, {\"node_shape\": \"circle\", \"degree\": 3.0, \"title\": \"IKBKB\", \"color\": \"grey\", \"size_field\": 2.5563461390678, \"y\": 840.6942114129985, \"x\": 869.8700622683895, \"border_width\": 0, \"id\": \"IKBKB\"}, {\"node_shape\": \"circle\", \"degree\": 3.0, \"title\": \"AKT1\", \"color\": \"grey\", \"size_field\": 2.3191039424601207, \"y\": 768.5738638179881, \"x\": 796.9318829591433, \"border_width\": 0, \"id\": \"AKT1\"}, {\"node_shape\": \"circle\", \"degree\": 3.0, \"title\": \"AKT2\", \"color\": \"grey\", \"size_field\": 3.296819354692288, \"y\": 411.9016135535253, \"x\": 512.3901406795595, \"border_width\": 0, \"id\": \"AKT2\"}, {\"node_shape\": \"circle\", \"degree\": 3.0, \"title\": \"AKT3\", \"color\": \"grey\", \"size_field\": 2.7689488939762272, \"y\": 763.52245903677, \"x\": 978.7304242942296, \"border_width\": 0, \"id\": \"AKT3\"}, {\"node_shape\": \"circle\", \"degree\": 3.0, \"title\": \"TNRC6C\", \"color\": \"grey\", \"size_field\": 4.584948003968227, \"y\": 1108.143120463689, \"x\": 480.2246864505328, \"border_width\": 0, \"id\": \"TNRC6C\"}, {\"node_shape\": \"circle\", \"degree\": 3.0, \"title\": \"TNRC6B\", \"color\": \"grey\", \"size_field\": 3.8457933577205408, \"y\": 629.062657938368, \"x\": 1514.705555046589, \"border_width\": 0, \"id\": \"TNRC6B\"}, {\"node_shape\": \"circle\", \"degree\": 3.0, \"title\": \"TNRC6A\", \"color\": \"grey\", \"size_field\": 2.9205497887945384, \"y\": 1113.3005081764989, \"x\": 1065.0631191707828, \"border_width\": 0, \"id\": \"TNRC6A\"}, {\"node_shape\": \"circle\", \"degree\": 3.0, \"title\": \"PMAIP1\", \"color\": \"grey\", \"size_field\": 4.71356538179032, \"y\": 705.7618046843457, \"x\": 1385.2389771514188, \"border_width\": 0, \"id\": \"PMAIP1\"}, {\"node_shape\": \"circle\", \"degree\": 3.0, \"title\": \"ADIPOQ\", \"color\": \"grey\", \"size_field\": 2.7832907304129115, \"y\": 1335.6962414429984, \"x\": 1233.7611095041852, \"border_width\": 0, \"id\": \"ADIPOQ\"}, {\"node_shape\": \"circle\", \"degree\": 3.0, \"title\": \"RAN\", \"color\": \"grey\", \"size_field\": 3.3034248832975956, \"y\": 1200.4972886460635, \"x\": 787.6274553100351, \"border_width\": 0, \"id\": \"RAN\"}, {\"node_shape\": \"circle\", \"degree\": 3.0, \"title\": \"GADD45A\", \"color\": \"grey\", \"size_field\": 2.279846186684006, \"y\": 989.2401682678137, \"x\": 959.6430182708887, \"border_width\": 0, \"id\": \"GADD45A\"}, {\"node_shape\": \"circle\", \"degree\": 3.0, \"title\": \"YWHAH\", \"color\": \"grey\", \"size_field\": 2.9757753787090473, \"y\": 1247.4249492993913, \"x\": 1157.895201111134, \"border_width\": 0, \"id\": \"YWHAH\"}, {\"node_shape\": \"circle\", \"degree\": 3.0, \"title\": \"PRKAG1\", \"color\": \"grey\", \"size_field\": 2.0030045090202986, \"y\": 1249.3869627814213, \"x\": 706.0993166682794, \"border_width\": 0, \"id\": \"PRKAG1\"}, {\"node_shape\": \"circle\", \"degree\": 3.0, \"title\": \"CSNK1E\", \"color\": \"grey\", \"size_field\": 2.6933472005626125, \"y\": 1168.3086170261322, \"x\": 390.4513965412472, \"border_width\": 0, \"id\": \"CSNK1E\"}, {\"node_shape\": \"circle\", \"degree\": 3.0, \"title\": \"CDH1\", \"color\": \"grey\", \"size_field\": 2.655080979753489, \"y\": 511.7331677188067, \"x\": 355.0922934651538, \"border_width\": 0, \"id\": \"CDH1\"}, {\"node_shape\": \"circle\", \"degree\": 3.0, \"title\": \"MYC\", \"color\": \"grey\", \"size_field\": 4.296603021316498, \"y\": 557.7421907782142, \"x\": 708.3694820488813, \"border_width\": 0, \"id\": \"MYC\"}, {\"node_shape\": \"circle\", \"degree\": 3.0, \"title\": \"CDKN2B\", \"color\": \"rgba(136, 136, 256, 1.0)\", \"size_field\": 5.094448246493149, \"y\": 440.2546683791649, \"x\": 498.81574026775894, \"border_width\": 2, \"id\": \"CDKN2B\"}, {\"node_shape\": \"circle\", \"degree\": 3.0, \"title\": \"STK11\", \"color\": \"grey\", \"size_field\": 3.3356012468043725, \"y\": 900.8800909704447, \"x\": 842.0448890747554, \"border_width\": 0, \"id\": \"STK11\"}, {\"node_shape\": \"circle\", \"degree\": 3.0, \"title\": \"CTSL\", \"color\": \"grey\", \"size_field\": 2.741917344929375, \"y\": 2185.531097730488, \"x\": 1737.956009257701, \"border_width\": 0, \"id\": \"CTSL\"}, {\"node_shape\": \"circle\", \"degree\": 3.0, \"title\": \"SP1\", \"color\": \"grey\", \"size_field\": 3.0659515064285614, \"y\": 264.84988121002243, \"x\": 503.87686137729975, \"border_width\": 0, \"id\": \"SP1\"}, {\"node_shape\": \"circle\", \"degree\": 3.0, \"title\": \"TSC22D3\", \"color\": \"grey\", \"size_field\": 4.267217949156755, \"y\": 323.5225164026376, \"x\": 1590.3231335742269, \"border_width\": 0, \"id\": \"TSC22D3\"}, {\"node_shape\": \"circle\", \"degree\": 3.0, \"title\": \"STK4\", \"color\": \"grey\", \"size_field\": 3.4093583007184423, \"y\": 1267.5230987806456, \"x\": 582.7619706484102, \"border_width\": 0, \"id\": \"STK4\"}, {\"node_shape\": \"circle\", \"degree\": 3.0, \"title\": \"SNAI1\", \"color\": \"grey\", \"size_field\": 2.7936307191382674, \"y\": 917.0012114555335, \"x\": 515.223125229712, \"border_width\": 0, \"id\": \"SNAI1\"}, {\"node_shape\": \"circle\", \"degree\": 3.0, \"title\": \"SETD7\", \"color\": \"grey\", \"size_field\": 2.7244314705997117, \"y\": 1031.159328942643, \"x\": 794.6214081496522, \"border_width\": 0, \"id\": \"SETD7\"}, {\"node_shape\": \"circle\", \"degree\": 3.0, \"title\": \"GATA1\", \"color\": \"grey\", \"size_field\": 2.1928568587093373, \"y\": 345.26729603836094, \"x\": 987.7348280662035, \"border_width\": 0, \"id\": \"GATA1\"}, {\"node_shape\": \"circle\", \"degree\": 3.0, \"title\": \"NME1\", \"color\": \"grey\", \"size_field\": 4.267217949156755, \"y\": 916.0302055743584, \"x\": 1617.9286883726202, \"border_width\": 0, \"id\": \"NME1\"}, {\"node_shape\": \"circle\", \"degree\": 3.0, \"title\": \"FOXM1\", \"color\": \"grey\", \"size_field\": 2.045311222710003, \"y\": 1396.6380276386917, \"x\": 1128.2170317576858, \"border_width\": 0, \"id\": \"FOXM1\"}, {\"node_shape\": \"circle\", \"degree\": 3.0, \"title\": \"FOXP3\", \"color\": \"grey\", \"size_field\": 2.736054681571222, \"y\": 640.4050956793998, \"x\": 1154.1214543000451, \"border_width\": 0, \"id\": \"FOXP3\"}, {\"node_shape\": \"circle\", \"degree\": 3.0, \"title\": \"TNFSF10\", \"color\": \"grey\", \"size_field\": 3.7909597890574904, \"y\": 282.2390393637655, \"x\": 759.2657475162465, \"border_width\": 0, \"id\": \"TNFSF10\"}, {\"node_shape\": \"circle\", \"degree\": 3.0, \"title\": \"CDKN1B\", \"color\": \"grey\", \"size_field\": 4.10127823628901, \"y\": 475.43906924728446, \"x\": 506.7558223819049, \"border_width\": 0, \"id\": \"CDKN1B\"}, {\"node_shape\": \"circle\", \"degree\": 3.0, \"title\": \"CDKN1A\", \"color\": \"grey\", \"size_field\": 2.1101497435009873, \"y\": 737.4068761586569, \"x\": 865.8451081927827, \"border_width\": 0, \"id\": \"CDKN1A\"}, {\"node_shape\": \"circle\", \"degree\": 3.0, \"title\": \"KAT2B\", \"color\": \"grey\", \"size_field\": 4.8717462937730005, \"y\": 291.3907522754439, \"x\": 1104.5609784685685, \"border_width\": 0, \"id\": \"KAT2B\"}, {\"node_shape\": \"circle\", \"degree\": 3.0, \"title\": \"PINK1\", \"color\": \"grey\", \"size_field\": 3.1384972223670244, \"y\": 286.8242565233948, \"x\": 919.6773115993607, \"border_width\": 0, \"id\": \"PINK1\"}, {\"node_shape\": \"circle\", \"degree\": 3.0, \"title\": \"MTDH\", \"color\": \"grey\", \"size_field\": 3.389098288452625, \"y\": 637.2845815595948, \"x\": 1354.605362577987, \"border_width\": 0, \"id\": \"MTDH\"}, {\"node_shape\": \"circle\", \"degree\": 3.0, \"title\": \"XPO1\", \"color\": \"grey\", \"size_field\": 2.8060919395760795, \"y\": 1342.8866126500184, \"x\": 718.1257732807549, \"border_width\": 0, \"id\": \"XPO1\"}, {\"node_shape\": \"circle\", \"degree\": 3.0, \"title\": \"MST1\", \"color\": \"grey\", \"size_field\": 2.6597124044737077, \"y\": 787.178699929875, \"x\": 326.5317474441096, \"border_width\": 0, \"id\": \"MST1\"}, {\"node_shape\": \"circle\", \"degree\": 3.0, \"title\": \"RRM2B\", \"color\": \"grey\", \"size_field\": 2.4879232305486862, \"y\": 1063.6682819079176, \"x\": 467.1978366461078, \"border_width\": 0, \"id\": \"RRM2B\"}, {\"node_shape\": \"circle\", \"degree\": 3.0, \"title\": \"NLK\", \"color\": \"grey\", \"size_field\": 2.980829253011726, \"y\": 659.5062945951289, \"x\": 946.521352439243, \"border_width\": 0, \"id\": \"NLK\"}, {\"node_shape\": \"circle\", \"degree\": 3.0, \"title\": \"SIRT1\", \"color\": \"grey\", \"size_field\": 2.434173272244908, \"y\": 1067.1697529289895, \"x\": 1322.6860478437804, \"border_width\": 0, \"id\": \"SIRT1\"}, {\"node_shape\": \"circle\", \"degree\": 3.0, \"title\": \"PRKAB2\", \"color\": \"grey\", \"size_field\": 3.8891518152367044, \"y\": 110.45192874471081, \"x\": 0.0, \"border_width\": 0, \"id\": \"PRKAB2\"}, {\"node_shape\": \"circle\", \"degree\": 3.0, \"title\": \"PRKAB1\", \"color\": \"grey\", \"size_field\": 3.2013096869064523, \"y\": 1332.7590945580203, \"x\": 959.8753610972441, \"border_width\": 0, \"id\": \"PRKAB1\"}, {\"node_shape\": \"circle\", \"degree\": 3.0, \"title\": \"NUPR1\", \"color\": \"grey\", \"size_field\": 2.2514144332812394, \"y\": 1137.9139710860788, \"x\": 425.067575413982, \"border_width\": 0, \"id\": \"NUPR1\"}, {\"node_shape\": \"circle\", \"degree\": 3.0, \"title\": \"CHUK\", \"color\": \"grey\", \"size_field\": 2.055512709930259, \"y\": 705.1350131990532, \"x\": 720.9086342325737, \"border_width\": 0, \"id\": \"CHUK\"}, {\"node_shape\": \"circle\", \"degree\": 3.0, \"title\": \"VEGFA\", \"color\": \"grey\", \"size_field\": 3.525556428453398, \"y\": 524.6393173969711, \"x\": 447.8046861081065, \"border_width\": 0, \"id\": \"VEGFA\"}, {\"node_shape\": \"circle\", \"degree\": 3.0, \"title\": \"BNIP3\", \"color\": \"grey\", \"size_field\": 4.042531187659739, \"y\": 845.3663382602101, \"x\": 1193.8228588000475, \"border_width\": 0, \"id\": \"BNIP3\"}, {\"node_shape\": \"circle\", \"degree\": 3.0, \"title\": \"ESR2\", \"color\": \"grey\", \"size_field\": 2.626049437027451, \"y\": 272.57694911109417, \"x\": 209.5999609871479, \"border_width\": 0, \"id\": \"ESR2\"}, {\"node_shape\": \"circle\", \"degree\": 3.0, \"title\": \"G6PC\", \"color\": \"grey\", \"size_field\": 2.325591645525001, \"y\": 1232.1331932801181, \"x\": 283.96455476408323, \"border_width\": 0, \"id\": \"G6PC\"}, {\"node_shape\": \"circle\", \"degree\": 3.0, \"title\": \"FBXO32\", \"color\": \"grey\", \"size_field\": 3.8825598335545513, \"y\": 2032.540978417096, \"x\": 1373.8143925235697, \"border_width\": 0, \"id\": \"FBXO32\"}, {\"node_shape\": \"circle\", \"degree\": 3.0, \"title\": \"AGO4\", \"color\": \"grey\", \"size_field\": 4.607752479786846, \"y\": 478.8485253685934, \"x\": 1314.2879498500743, \"border_width\": 0, \"id\": \"AGO4\"}, {\"node_shape\": \"circle\", \"degree\": 3.0, \"title\": \"AGO1\", \"color\": \"grey\", \"size_field\": 3.6852396258503823, \"y\": 724.818921517741, \"x\": 1337.1584391373456, \"border_width\": 0, \"id\": \"AGO1\"}, {\"node_shape\": \"circle\", \"degree\": 3.0, \"title\": \"AGO3\", \"color\": \"grey\", \"size_field\": 2.3934871313487576, \"y\": 462.18723544080046, \"x\": 1421.5708397122444, \"border_width\": 0, \"id\": \"AGO3\"}, {\"node_shape\": \"circle\", \"degree\": 3.0, \"title\": \"AGO2\", \"color\": \"grey\", \"size_field\": 2.7756596021344095, \"y\": 1403.0214744679326, \"x\": 841.3283980882134, \"border_width\": 0, \"id\": \"AGO2\"}, {\"node_shape\": \"circle\", \"degree\": 3.0, \"title\": \"VMP1\", \"color\": \"grey\", \"size_field\": 3.4841277214686537, \"y\": 594.9394241321695, \"x\": 944.697833942992, \"border_width\": 0, \"id\": \"VMP1\"}, {\"node_shape\": \"circle\", \"degree\": 3.0, \"title\": \"MAPK14\", \"color\": \"grey\", \"size_field\": 2.3129315067052314, \"y\": 197.68741895392057, \"x\": 284.1053653986734, \"border_width\": 0, \"id\": \"MAPK14\"}, {\"node_shape\": \"circle\", \"degree\": 3.0, \"title\": \"CCNG2\", \"color\": \"grey\", \"size_field\": 4.852498105468083, \"y\": 983.4810544494875, \"x\": 2192.8640798524057, \"border_width\": 0, \"id\": \"CCNG2\"}, {\"node_shape\": \"circle\", \"degree\": 3.0, \"title\": \"MAPK10\", \"color\": \"grey\", \"size_field\": 3.3474583373346922, \"y\": 438.37233937527947, \"x\": 864.9187087723452, \"border_width\": 0, \"id\": \"MAPK10\"}, {\"node_shape\": \"circle\", \"degree\": 3.0, \"title\": \"MAPK11\", \"color\": \"grey\", \"size_field\": 2.6025754823755585, \"y\": 343.0976020712254, \"x\": 495.2683183693994, \"border_width\": 0, \"id\": \"MAPK11\"}, {\"node_shape\": \"circle\", \"degree\": 3.0, \"title\": \"MAPK12\", \"color\": \"grey\", \"size_field\": 2.880199911729801, \"y\": 502.0134665193842, \"x\": 727.2959512923989, \"border_width\": 0, \"id\": \"MAPK12\"}, {\"node_shape\": \"circle\", \"degree\": 3.0, \"title\": \"MAPK13\", \"color\": \"grey\", \"size_field\": 2.9824305343787003, \"y\": 510.4436689997013, \"x\": 848.2059338159416, \"border_width\": 0, \"id\": \"MAPK13\"}, {\"node_shape\": \"circle\", \"degree\": 3.0, \"title\": \"BCR\", \"color\": \"grey\", \"size_field\": 2.846065286984658, \"y\": 400.2548195297155, \"x\": 1563.885068120376, \"border_width\": 0, \"id\": \"BCR\"}, {\"node_shape\": \"circle\", \"degree\": 3.0, \"title\": \"STAT3\", \"color\": \"grey\", \"size_field\": 3.0067626350382306, \"y\": 928.3612177782461, \"x\": 790.2587186704986, \"border_width\": 0, \"id\": \"STAT3\"}, {\"node_shape\": \"circle\", \"degree\": 3.0, \"title\": \"MAPK3\", \"color\": \"grey\", \"size_field\": 2.7052197617942144, \"y\": 850.3285802536311, \"x\": 652.7195876175848, \"border_width\": 0, \"id\": \"MAPK3\"}, {\"node_shape\": \"circle\", \"degree\": 3.0, \"title\": \"MAPK1\", \"color\": \"grey\", \"size_field\": 3.267978134301848, \"y\": 802.1818549276269, \"x\": 744.852736029102, \"border_width\": 0, \"id\": \"MAPK1\"}, {\"node_shape\": \"circle\", \"degree\": 3.0, \"title\": \"CITED2\", \"color\": \"grey\", \"size_field\": 4.387054249620496, \"y\": 1116.0488454839292, \"x\": 1706.5149019227733, \"border_width\": 0, \"id\": \"CITED2\"}, {\"node_shape\": \"circle\", \"degree\": 3.0, \"title\": \"MAPK8\", \"color\": \"grey\", \"size_field\": 2.745915246098601, \"y\": 657.1917451973529, \"x\": 424.1914898178724, \"border_width\": 0, \"id\": \"MAPK8\"}, {\"node_shape\": \"circle\", \"degree\": 3.0, \"title\": \"MAPK9\", \"color\": \"grey\", \"size_field\": 3.0642108619507775, \"y\": 104.0667234887647, \"x\": 286.4251595264929, \"border_width\": 0, \"id\": \"MAPK9\"}, {\"node_shape\": \"circle\", \"degree\": 3.0, \"title\": \"RBL2\", \"color\": \"rgba(162, 162, 256, 1.0)\", \"size_field\": 5.18689277901515, \"y\": 1223.8208789261666, \"x\": 427.5241376417007, \"border_width\": 2, \"id\": \"RBL2\"}, {\"node_shape\": \"circle\", \"degree\": 3.0, \"title\": \"PAWR\", \"color\": \"grey\", \"size_field\": 4.880619466453487, \"y\": 165.4977556078623, \"x\": 1176.4054931812445, \"border_width\": 0, \"id\": \"PAWR\"}, {\"node_shape\": \"circle\", \"degree\": 3.0, \"title\": \"EP300\", \"color\": \"grey\", \"size_field\": 2.98886142470899, \"y\": 884.9371110971603, \"x\": 994.5506744381738, \"border_width\": 0, \"id\": \"EP300\"}, {\"node_shape\": \"circle\", \"degree\": 3.0, \"title\": \"SGK2\", \"color\": \"grey\", \"size_field\": 2.082621028688337, \"y\": 1010.4256250680686, \"x\": 870.3535998026399, \"border_width\": 0, \"id\": \"SGK2\"}, {\"node_shape\": \"circle\", \"degree\": 3.0, \"title\": \"SGK1\", \"color\": \"grey\", \"size_field\": 4.3166840173735475, \"y\": 659.7535454976803, \"x\": 767.0271995656379, \"border_width\": 0, \"id\": \"SGK1\"}, {\"node_shape\": \"circle\", \"degree\": 3.0, \"title\": \"IRS2\", \"color\": \"grey\", \"size_field\": 2.567043303764219, \"y\": 1113.8601237415542, \"x\": 1488.2888678497052, \"border_width\": 0, \"id\": \"IRS2\"}, {\"node_shape\": \"circle\", \"degree\": 3.0, \"title\": \"LEP\", \"color\": \"grey\", \"size_field\": 2.7381445464906813, \"y\": 817.5563497287146, \"x\": 1283.1641518987806, \"border_width\": 0, \"id\": \"LEP\"}, {\"node_shape\": \"circle\", \"degree\": 3.0, \"title\": \"PRKACG\", \"color\": \"grey\", \"size_field\": 2.04468360762664, \"y\": 1474.9103829668356, \"x\": 1412.4488750687847, \"border_width\": 0, \"id\": \"PRKACG\"}, {\"node_shape\": \"circle\", \"degree\": 3.0, \"title\": \"PRKACA\", \"color\": \"grey\", \"size_field\": 2.6416938989710297, \"y\": 617.6670418947241, \"x\": 862.9707793779122, \"border_width\": 0, \"id\": \"PRKACA\"}, {\"node_shape\": \"circle\", \"degree\": 3.0, \"title\": \"PRKACB\", \"color\": \"grey\", \"size_field\": 3.6455833590704536, \"y\": 1259.5898553920335, \"x\": 1433.2847333323678, \"border_width\": 0, \"id\": \"PRKACB\"}, {\"node_shape\": \"circle\", \"degree\": 3.0, \"title\": \"SPHK1\", \"color\": \"grey\", \"size_field\": 3.2616019171625723, \"y\": 1289.8721971760333, \"x\": 2300.0, \"border_width\": 0, \"id\": \"SPHK1\"}, {\"node_shape\": \"circle\", \"degree\": 3.0, \"title\": \"LCN2\", \"color\": \"grey\", \"size_field\": 3.4692412819408167, \"y\": 1405.6665784174597, \"x\": 1308.183145088238, \"border_width\": 0, \"id\": \"LCN2\"}, {\"node_shape\": \"circle\", \"degree\": 3.0, \"title\": \"BIRC5\", \"color\": \"grey\", \"size_field\": 3.5228016057745535, \"y\": 482.3916673075864, \"x\": 151.6843823054844, \"border_width\": 0, \"id\": \"BIRC5\"}, {\"node_shape\": \"circle\", \"degree\": 3.0, \"title\": \"PRDX3\", \"color\": \"grey\", \"size_field\": 3.0820502003691317, \"y\": 820.1094490719933, \"x\": 1253.227581757906, \"border_width\": 0, \"id\": \"PRDX3\"}, {\"node_shape\": \"circle\", \"degree\": 3.0, \"title\": \"PRKAA2\", \"color\": \"grey\", \"size_field\": 2.6294214896794004, \"y\": 1434.519200508802, \"x\": 687.0754522841439, \"border_width\": 0, \"id\": \"PRKAA2\"}, {\"node_shape\": \"circle\", \"degree\": 3.0, \"title\": \"PRKAA1\", \"color\": \"grey\", \"size_field\": 4.042531187659739, \"y\": 1205.3000485568698, \"x\": 990.9051602690367, \"border_width\": 0, \"id\": \"PRKAA1\"}, {\"node_shape\": \"circle\", \"degree\": 3.0, \"title\": \"CAT\", \"color\": \"grey\", \"size_field\": 2.515000995176471, \"y\": 851.9488162914307, \"x\": 1518.1126560553935, \"border_width\": 0, \"id\": \"CAT\"}, {\"node_shape\": \"star\", \"degree\": 3.0, \"title\": \"FOXO3\", \"color\": \"grey\", \"size_field\": 13.18689277901515, \"y\": 1773.4100218954698, \"x\": 2032.1515155238305, \"border_width\": 0, \"id\": \"FOXO3\"}, {\"node_shape\": \"circle\", \"degree\": 3.0, \"title\": \"MYOCD\", \"color\": \"grey\", \"size_field\": 3.1273204528048533, \"y\": 908.4412778804002, \"x\": 2069.197861402941, \"border_width\": 0, \"id\": \"MYOCD\"}, {\"node_shape\": \"circle\", \"degree\": 3.0, \"title\": \"FOXO4\", \"color\": \"grey\", \"size_field\": 2.2310497228853072, \"y\": 462.0560325912909, \"x\": 266.63555444166866, \"border_width\": 0, \"id\": \"FOXO4\"}, {\"node_shape\": \"circle\", \"degree\": 3.0, \"title\": \"SOD2\", \"color\": \"grey\", \"size_field\": 2.098715972939158, \"y\": 740.2143755283337, \"x\": 592.7710603529468, \"border_width\": 0, \"id\": \"SOD2\"}, {\"node_shape\": \"circle\", \"degree\": 3.0, \"title\": \"BBC3\", \"color\": \"grey\", \"size_field\": 3.2063800890661485, \"y\": 542.475163762415, \"x\": 1388.3989048777264, \"border_width\": 0, \"id\": \"BBC3\"}, {\"node_shape\": \"circle\", \"degree\": 3.0, \"title\": \"YWHAZ\", \"color\": \"grey\", \"size_field\": 3.0305798782762827, \"y\": 1503.8067413250874, \"x\": 1186.4799706608321, \"border_width\": 0, \"id\": \"YWHAZ\"}, {\"node_shape\": \"circle\", \"degree\": 3.0, \"title\": \"GABARAPL1\", \"color\": \"grey\", \"size_field\": 3.5269366909223567, \"y\": 1160.4735764564466, \"x\": 2137.7711125230107, \"border_width\": 0, \"id\": \"GABARAPL1\"}, {\"node_shape\": \"circle\", \"degree\": 3.0, \"title\": \"YWHAQ\", \"color\": \"grey\", \"size_field\": 2.9063404010209872, \"y\": 1406.383866059375, \"x\": 1432.3619016869636, \"border_width\": 0, \"id\": \"YWHAQ\"}, {\"node_shape\": \"circle\", \"degree\": 3.0, \"title\": \"ABCB1\", \"color\": \"grey\", \"size_field\": 4.3258537199334, \"y\": 331.2366413277684, \"x\": 1032.455431091604, \"border_width\": 0, \"id\": \"ABCB1\"}, {\"node_shape\": \"circle\", \"degree\": 3.0, \"title\": \"YWHAB\", \"color\": \"grey\", \"size_field\": 3.9365540541312884, \"y\": 851.4035988194142, \"x\": 1079.1598495857104, \"border_width\": 0, \"id\": \"YWHAB\"}, {\"node_shape\": \"circle\", \"degree\": 3.0, \"title\": \"YWHAG\", \"color\": \"grey\", \"size_field\": 2.461242123577163, \"y\": 1521.4470637164893, \"x\": 1274.7385295131226, \"border_width\": 0, \"id\": \"YWHAG\"}, {\"node_shape\": \"circle\", \"degree\": 3.0, \"title\": \"YWHAE\", \"color\": \"grey\", \"size_field\": 2.1519863569978814, \"y\": 1264.477679018742, \"x\": 1303.1987389409999, \"border_width\": 0, \"id\": \"YWHAE\"}, {\"node_shape\": \"circle\", \"degree\": 3.0, \"title\": \"DNMT3B\", \"color\": \"grey\", \"size_field\": 3.29901635301283, \"y\": 1959.5773109863053, \"x\": 1142.3680025022304, \"border_width\": 0, \"id\": \"DNMT3B\"}, {\"node_shape\": \"circle\", \"degree\": 3.0, \"title\": \"NOS3\", \"color\": \"grey\", \"size_field\": 3.7355681895783124, \"y\": 793.6084347326308, \"x\": 953.3505401515065, \"border_width\": 0, \"id\": \"NOS3\"}, {\"node_shape\": \"circle\", \"degree\": 3.0, \"title\": \"CYR61\", \"color\": \"grey\", \"size_field\": 2.242198957849369, \"y\": 0.0, \"x\": 111.69292227502979, \"border_width\": 0, \"id\": \"CYR61\"}, {\"node_shape\": \"circle\", \"degree\": 3.0, \"title\": \"AR\", \"color\": \"grey\", \"size_field\": 4.364460496712133, \"y\": 510.7898926909654, \"x\": 806.1597372010576, \"border_width\": 0, \"id\": \"AR\"}, {\"node_shape\": \"circle\", \"degree\": 3.0, \"title\": \"BCL2L11\", \"color\": \"grey\", \"size_field\": 3.8269722249837996, \"y\": 174.54494972107918, \"x\": 411.6612014556864, \"border_width\": 0, \"id\": \"BCL2L11\"}, {\"node_shape\": \"circle\", \"degree\": 3.0, \"title\": \"CCNB1\", \"color\": \"grey\", \"size_field\": 3.0026659476209008, \"y\": 998.6324896660205, \"x\": 692.9139197953909, \"border_width\": 0, \"id\": \"CCNB1\"}, {\"node_shape\": \"circle\", \"degree\": 3.0, \"title\": \"CASP8\", \"color\": \"grey\", \"size_field\": 2.964955903855436, \"y\": 436.7511272043025, \"x\": 1130.0371922847633, \"border_width\": 0, \"id\": \"CASP8\"}, {\"node_shape\": \"circle\", \"degree\": 3.0, \"title\": \"PDK4\", \"color\": \"grey\", \"size_field\": 4.3740810946991155, \"y\": 586.9220356747317, \"x\": 145.4560890593573, \"border_width\": 0, \"id\": \"PDK4\"}, {\"node_shape\": \"circle\", \"degree\": 3.0, \"title\": \"FASLG\", \"color\": \"grey\", \"size_field\": 2.516173230092586, \"y\": 1033.3197904205574, \"x\": 1128.4530580281782, \"border_width\": 0, \"id\": \"FASLG\"}, {\"node_shape\": \"circle\", \"degree\": 3.0, \"title\": \"BCL6\", \"color\": \"grey\", \"size_field\": 4.207274913189721, \"y\": 966.6013155644622, \"x\": 490.7873761132369, \"border_width\": 0, \"id\": \"BCL6\"}], [{\"color\": \"red\", \"source\": 5, \"target\": 33}, {\"color\": \"red\", \"source\": 5, \"target\": 35}, {\"color\": \"red\", \"source\": 5, \"target\": 47}, {\"color\": \"red\", \"source\": 5, \"target\": 106}, {\"color\": \"red\", \"source\": 5, \"target\": 6}, {\"color\": \"red\", \"source\": 5, \"target\": 6}, {\"color\": \"red\", \"source\": 5, \"target\": 7}, {\"color\": \"red\", \"source\": 5, \"target\": 8}, {\"color\": \"red\", \"source\": 5, \"target\": 108}, {\"color\": \"blue\", \"source\": 5, \"target\": 76}, {\"color\": \"blue\", \"source\": 5, \"target\": 76}, {\"color\": \"blue\", \"source\": 5, \"target\": 90}, {\"color\": \"blue\", \"source\": 5, \"target\": 90}, {\"color\": \"red\", \"source\": 6, \"target\": 57}, {\"color\": \"blue\", \"source\": 6, \"target\": 82}, {\"color\": \"blue\", \"source\": 6, \"target\": 34}, {\"color\": \"blue\", \"source\": 6, \"target\": 34}, {\"color\": \"blue\", \"source\": 6, \"target\": 34}, {\"color\": \"blue\", \"source\": 6, \"target\": 35}, {\"color\": \"blue\", \"source\": 6, \"target\": 35}, {\"color\": \"blue\", \"source\": 6, \"target\": 35}, {\"color\": \"blue\", \"source\": 6, \"target\": 90}, {\"color\": \"blue\", \"source\": 6, \"target\": 90}, {\"color\": \"red\", \"source\": 6, \"target\": 87}, {\"color\": \"blue\", \"source\": 6, \"target\": 58}, {\"color\": \"blue\", \"source\": 6, \"target\": 58}, {\"color\": \"blue\", \"source\": 6, \"target\": 7}, {\"color\": \"blue\", \"source\": 6, \"target\": 7}, {\"color\": \"blue\", \"source\": 6, \"target\": 7}, {\"color\": \"blue\", \"source\": 6, \"target\": 7}, {\"color\": \"blue\", \"source\": 6, \"target\": 8}, {\"color\": \"blue\", \"source\": 6, \"target\": 8}, {\"color\": \"blue\", \"source\": 6, \"target\": 8}, {\"color\": \"blue\", \"source\": 6, \"target\": 31}, {\"color\": \"blue\", \"source\": 6, \"target\": 61}, {\"color\": \"blue\", \"source\": 6, \"target\": 61}, {\"color\": \"blue\", \"source\": 6, \"target\": 62}, {\"color\": \"blue\", \"source\": 6, \"target\": 62}, {\"color\": \"blue\", \"source\": 6, \"target\": 63}, {\"color\": \"blue\", \"source\": 6, \"target\": 63}, {\"color\": \"red\", \"source\": 6, \"target\": 93}, {\"color\": \"red\", \"source\": 6, \"target\": 73}, {\"color\": \"blue\", \"source\": 6, \"target\": 65}, {\"color\": \"blue\", \"source\": 6, \"target\": 15}, {\"color\": \"blue\", \"source\": 6, \"target\": 15}, {\"color\": \"red\", \"source\": 6, \"target\": 95}, {\"color\": \"red\", \"source\": 6, \"target\": 40}, {\"color\": \"red\", \"source\": 6, \"target\": 16}, {\"color\": \"blue\", \"source\": 6, \"target\": 19}, {\"color\": \"red\", \"source\": 6, \"target\": 20}, {\"color\": \"red\", \"source\": 6, \"target\": 20}, {\"color\": \"red\", \"source\": 6, \"target\": 83}, {\"color\": \"red\", \"source\": 6, \"target\": 99}, {\"color\": \"red\", \"source\": 6, \"target\": 101}, {\"color\": \"red\", \"source\": 6, \"target\": 101}, {\"color\": \"red\", \"source\": 6, \"target\": 91}, {\"color\": \"red\", \"source\": 6, \"target\": 47}, {\"color\": \"red\", \"source\": 6, \"target\": 47}, {\"color\": \"red\", \"source\": 6, \"target\": 97}, {\"color\": \"red\", \"source\": 6, \"target\": 103}, {\"color\": \"blue\", \"source\": 6, \"target\": 108}, {\"color\": \"blue\", \"source\": 6, \"target\": 104}, {\"color\": \"red\", \"source\": 6, \"target\": 27}, {\"color\": \"blue\", \"source\": 6, \"target\": 49}, {\"color\": \"red\", \"source\": 6, \"target\": 5}, {\"color\": \"red\", \"source\": 6, \"target\": 5}, {\"color\": \"blue\", \"source\": 6, \"target\": 105}, {\"color\": \"red\", \"source\": 6, \"target\": 98}, {\"color\": \"red\", \"source\": 6, \"target\": 77}, {\"color\": \"red\", \"source\": 6, \"target\": 48}, {\"color\": \"blue\", \"source\": 7, \"target\": 58}, {\"color\": \"blue\", \"source\": 7, \"target\": 58}, {\"color\": \"red\", \"source\": 7, \"target\": 57}, {\"color\": \"red\", \"source\": 7, \"target\": 101}, {\"color\": \"blue\", \"source\": 7, \"target\": 34}, {\"color\": \"blue\", \"source\": 7, \"target\": 34}, {\"color\": \"blue\", \"source\": 7, \"target\": 35}, {\"color\": \"blue\", \"source\": 7, \"target\": 35}, {\"color\": \"blue\", \"source\": 7, \"target\": 90}, {\"color\": \"blue\", \"source\": 7, \"target\": 90}, {\"color\": \"red\", \"source\": 7, \"target\": 47}, {\"color\": \"red\", \"source\": 7, \"target\": 5}, {\"color\": \"blue\", \"source\": 7, \"target\": 6}, {\"color\": \"blue\", \"source\": 7, \"target\": 6}, {\"color\": \"blue\", \"source\": 7, \"target\": 6}, {\"color\": \"blue\", \"source\": 7, \"target\": 6}, {\"color\": \"blue\", \"source\": 7, \"target\": 8}, {\"color\": \"blue\", \"source\": 7, \"target\": 8}, {\"color\": \"blue\", \"source\": 7, \"target\": 8}, {\"color\": \"blue\", \"source\": 7, \"target\": 61}, {\"color\": \"blue\", \"source\": 7, \"target\": 61}, {\"color\": \"blue\", \"source\": 7, \"target\": 62}, {\"color\": \"blue\", \"source\": 7, \"target\": 62}, {\"color\": \"blue\", \"source\": 7, \"target\": 63}, {\"color\": \"blue\", \"source\": 7, \"target\": 63}, {\"color\": \"red\", \"source\": 7, \"target\": 27}, {\"color\": \"blue\", \"source\": 8, \"target\": 58}, {\"color\": \"blue\", \"source\": 8, \"target\": 58}, {\"color\": \"red\", \"source\": 8, \"target\": 101}, {\"color\": \"blue\", \"source\": 8, \"target\": 104}, {\"color\": \"blue\", \"source\": 8, \"target\": 34}, {\"color\": \"blue\", \"source\": 8, \"target\": 34}, {\"color\": \"blue\", \"source\": 8, \"target\": 35}, {\"color\": \"blue\", \"source\": 8, \"target\": 35}, {\"color\": \"blue\", \"source\": 8, \"target\": 90}, {\"color\": \"blue\", \"source\": 8, \"target\": 90}, {\"color\": \"red\", \"source\": 8, \"target\": 47}, {\"color\": \"red\", \"source\": 8, \"target\": 5}, {\"color\": \"blue\", \"source\": 8, \"target\": 6}, {\"color\": \"blue\", \"source\": 8, \"target\": 6}, {\"color\": \"blue\", \"source\": 8, \"target\": 6}, {\"color\": \"blue\", \"source\": 8, \"target\": 7}, {\"color\": \"blue\", \"source\": 8, \"target\": 7}, {\"color\": \"blue\", \"source\": 8, \"target\": 7}, {\"color\": \"red\", \"source\": 8, \"target\": 48}, {\"color\": \"blue\", \"source\": 8, \"target\": 61}, {\"color\": \"blue\", \"source\": 8, \"target\": 61}, {\"color\": \"blue\", \"source\": 8, \"target\": 62}, {\"color\": \"blue\", \"source\": 8, \"target\": 62}, {\"color\": \"blue\", \"source\": 8, \"target\": 63}, {\"color\": \"blue\", \"source\": 8, \"target\": 63}, {\"color\": \"blue\", \"source\": 10, \"target\": 20}, {\"color\": \"blue\", \"source\": 10, \"target\": 42}, {\"color\": \"blue\", \"source\": 11, \"target\": 42}, {\"color\": \"blue\", \"source\": 11, \"target\": 20}, {\"color\": \"red\", \"source\": 20, \"target\": 32}, {\"color\": \"blue\", \"source\": 20, \"target\": 57}, {\"color\": \"blue\", \"source\": 20, \"target\": 57}, {\"color\": \"blue\", \"source\": 20, \"target\": 0}, {\"color\": \"red\", \"source\": 20, \"target\": 62}, {\"color\": \"red\", \"source\": 20, \"target\": 1}, {\"color\": \"blue\", \"source\": 20, \"target\": 34}, {\"color\": \"blue\", \"source\": 20, \"target\": 34}, {\"color\": \"blue\", \"source\": 20, \"target\": 35}, {\"color\": \"blue\", \"source\": 20, \"target\": 35}, {\"color\": \"blue\", \"source\": 20, \"target\": 35}, {\"color\": \"blue\", \"source\": 20, \"target\": 22}, {\"color\": \"red\", \"source\": 20, \"target\": 84}, {\"color\": \"red\", \"source\": 20, \"target\": 36}, {\"color\": \"red\", \"source\": 20, \"target\": 6}, {\"color\": \"red\", \"source\": 20, \"target\": 6}, {\"color\": \"blue\", \"source\": 20, \"target\": 9}, {\"color\": \"blue\", \"source\": 20, \"target\": 10}, {\"color\": \"blue\", \"source\": 20, \"target\": 11}, {\"color\": \"red\", \"source\": 20, \"target\": 63}, {\"color\": \"red\", \"source\": 20, \"target\": 12}, {\"color\": \"red\", \"source\": 20, \"target\": 38}, {\"color\": \"red\", \"source\": 20, \"target\": 27}, {\"color\": \"red\", \"source\": 20, \"target\": 65}, {\"color\": \"blue\", \"source\": 20, \"target\": 15}, {\"color\": \"blue\", \"source\": 20, \"target\": 15}, {\"color\": \"red\", \"source\": 20, \"target\": 66}, {\"color\": \"red\", \"source\": 20, \"target\": 67}, {\"color\": \"red\", \"source\": 20, \"target\": 67}, {\"color\": \"red\", \"source\": 20, \"target\": 61}, {\"color\": \"blue\", \"source\": 20, \"target\": 19}, {\"color\": \"red\", \"source\": 20, \"target\": 83}, {\"color\": \"blue\", \"source\": 20, \"target\": 21}, {\"color\": \"blue\", \"source\": 20, \"target\": 21}, {\"color\": \"blue\", \"source\": 20, \"target\": 21}, {\"color\": \"blue\", \"source\": 20, \"target\": 21}, {\"color\": \"red\", \"source\": 20, \"target\": 43}, {\"color\": \"blue\", \"source\": 20, \"target\": 24}, {\"color\": \"red\", \"source\": 20, \"target\": 47}, {\"color\": \"red\", \"source\": 20, \"target\": 103}, {\"color\": \"red\", \"source\": 20, \"target\": 103}, {\"color\": \"blue\", \"source\": 20, \"target\": 48}, {\"color\": \"blue\", \"source\": 20, \"target\": 104}, {\"color\": \"red\", \"source\": 20, \"target\": 73}, {\"color\": \"blue\", \"source\": 20, \"target\": 29}, {\"color\": \"red\", \"source\": 20, \"target\": 58}, {\"color\": \"red\", \"source\": 20, \"target\": 105}, {\"color\": \"red\", \"source\": 20, \"target\": 30}, {\"color\": \"blue\", \"source\": 20, \"target\": 53}, {\"color\": \"red\", \"source\": 20, \"target\": 109}, {\"color\": \"blue\", \"source\": 20, \"target\": 54}, {\"color\": \"blue\", \"source\": 20, \"target\": 55}, {\"color\": \"blue\", \"source\": 20, \"target\": 56}, {\"color\": \"blue\", \"source\": 24, \"target\": 57}, {\"color\": \"blue\", \"source\": 24, \"target\": 33}, {\"color\": \"red\", \"source\": 24, \"target\": 12}, {\"color\": \"red\", \"source\": 24, \"target\": 35}, {\"color\": \"red\", \"source\": 24, \"target\": 58}, {\"color\": \"red\", \"source\": 24, \"target\": 60}, {\"color\": \"red\", \"source\": 24, \"target\": 61}, {\"color\": \"red\", \"source\": 24, \"target\": 62}, {\"color\": \"red\", \"source\": 24, \"target\": 63}, {\"color\": \"red\", \"source\": 24, \"target\": 92}, {\"color\": \"red\", \"source\": 24, \"target\": 96}, {\"color\": \"red\", \"source\": 24, \"target\": 67}, {\"color\": \"blue\", \"source\": 24, \"target\": 20}, {\"color\": \"red\", \"source\": 24, \"target\": 70}, {\"color\": \"red\", \"source\": 24, \"target\": 83}, {\"color\": \"red\", \"source\": 24, \"target\": 21}, {\"color\": \"red\", \"source\": 24, \"target\": 103}, {\"color\": \"red\", \"source\": 24, \"target\": 48}, {\"color\": \"blue\", \"source\": 24, \"target\": 69}, {\"color\": \"blue\", \"source\": 24, \"target\": 105}, {\"color\": \"red\", \"source\": 24, \"target\": 77}, {\"color\": \"blue\", \"source\": 25, \"target\": 104}, {\"color\": \"blue\", \"source\": 27, \"target\": 65}, {\"color\": \"red\", \"source\": 27, \"target\": 6}, {\"color\": \"red\", \"source\": 27, \"target\": 7}, {\"color\": \"red\", \"source\": 27, \"target\": 48}, {\"color\": \"blue\", \"source\": 27, \"target\": 19}, {\"color\": \"blue\", \"source\": 27, \"target\": 19}, {\"color\": \"blue\", \"source\": 27, \"target\": 19}, {\"color\": \"red\", \"source\": 27, \"target\": 20}, {\"color\": \"red\", \"source\": 27, \"target\": 69}, {\"color\": \"blue\", \"source\": 27, \"target\": 13}, {\"color\": \"blue\", \"source\": 29, \"target\": 19}, {\"color\": \"blue\", \"source\": 29, \"target\": 20}, {\"color\": \"red\", \"source\": 31, \"target\": 105}, {\"color\": \"red\", \"source\": 31, \"target\": 2}, {\"color\": \"blue\", \"source\": 31, \"target\": 35}, {\"color\": \"red\", \"source\": 31, \"target\": 43}, {\"color\": \"blue\", \"source\": 31, \"target\": 6}, {\"color\": \"blue\", \"source\": 31, \"target\": 67}, {\"color\": \"blue\", \"source\": 31, \"target\": 48}, {\"color\": \"red\", \"source\": 31, \"target\": 19}, {\"color\": \"blue\", \"source\": 31, \"target\": 69}, {\"color\": \"red\", \"source\": 31, \"target\": 83}, {\"color\": \"blue\", \"source\": 32, \"target\": 43}, {\"color\": \"red\", \"source\": 32, \"target\": 65}, {\"color\": \"red\", \"source\": 32, \"target\": 35}, {\"color\": \"blue\", \"source\": 32, \"target\": 108}, {\"color\": \"red\", \"source\": 32, \"target\": 20}, {\"color\": \"red\", \"source\": 36, \"target\": 58}, {\"color\": \"red\", \"source\": 36, \"target\": 96}, {\"color\": \"red\", \"source\": 36, \"target\": 103}, {\"color\": \"red\", \"source\": 36, \"target\": 20}, {\"color\": \"red\", \"source\": 39, \"target\": 93}, {\"color\": \"red\", \"source\": 39, \"target\": 105}, {\"color\": \"red\", \"source\": 39, \"target\": 2}, {\"color\": \"red\", \"source\": 39, \"target\": 2}, {\"color\": \"red\", \"source\": 39, \"target\": 83}, {\"color\": \"red\", \"source\": 39, \"target\": 83}, {\"color\": \"red\", \"source\": 39, \"target\": 95}, {\"color\": \"red\", \"source\": 39, \"target\": 16}, {\"color\": \"red\", \"source\": 39, \"target\": 90}, {\"color\": \"red\", \"source\": 39, \"target\": 97}, {\"color\": \"red\", \"source\": 39, \"target\": 98}, {\"color\": \"red\", \"source\": 39, \"target\": 99}, {\"color\": \"blue\", \"source\": 43, \"target\": 32}, {\"color\": \"red\", \"source\": 43, \"target\": 101}, {\"color\": \"red\", \"source\": 43, \"target\": 101}, {\"color\": \"blue\", \"source\": 43, \"target\": 65}, {\"color\": \"red\", \"source\": 43, \"target\": 91}, {\"color\": \"red\", \"source\": 43, \"target\": 31}, {\"color\": \"red\", \"source\": 43, \"target\": 15}, {\"color\": \"blue\", \"source\": 43, \"target\": 35}, {\"color\": \"red\", \"source\": 43, \"target\": 86}, {\"color\": \"blue\", \"source\": 43, \"target\": 104}, {\"color\": \"blue\", \"source\": 43, \"target\": 104}, {\"color\": \"red\", \"source\": 43, \"target\": 103}, {\"color\": \"blue\", \"source\": 43, \"target\": 108}, {\"color\": \"red\", \"source\": 43, \"target\": 34}, {\"color\": \"blue\", \"source\": 43, \"target\": 48}, {\"color\": \"red\", \"source\": 43, \"target\": 20}, {\"color\": \"blue\", \"source\": 43, \"target\": 38}, {\"color\": \"red\", \"source\": 43, \"target\": 13}, {\"color\": \"red\", \"source\": 43, \"target\": 13}, {\"color\": \"red\", \"source\": 50, \"target\": 57}, {\"color\": \"red\", \"source\": 50, \"target\": 101}, {\"color\": \"red\", \"source\": 50, \"target\": 66}, {\"color\": \"red\", \"source\": 50, \"target\": 67}, {\"color\": \"blue\", \"source\": 50, \"target\": 48}, {\"color\": \"red\", \"source\": 50, \"target\": 61}, {\"color\": \"red\", \"source\": 50, \"target\": 103}, {\"color\": \"red\", \"source\": 65, \"target\": 32}, {\"color\": \"blue\", \"source\": 65, \"target\": 43}, {\"color\": \"red\", \"source\": 65, \"target\": 73}, {\"color\": \"red\", \"source\": 65, \"target\": 73}, {\"color\": \"red\", \"source\": 65, \"target\": 66}, {\"color\": \"red\", \"source\": 65, \"target\": 66}, {\"color\": \"blue\", \"source\": 65, \"target\": 35}, {\"color\": \"red\", \"source\": 65, \"target\": 90}, {\"color\": \"red\", \"source\": 65, \"target\": 57}, {\"color\": \"red\", \"source\": 65, \"target\": 57}, {\"color\": \"red\", \"source\": 65, \"target\": 58}, {\"color\": \"blue\", \"source\": 65, \"target\": 6}, {\"color\": \"red\", \"source\": 65, \"target\": 67}, {\"color\": \"red\", \"source\": 65, \"target\": 67}, {\"color\": \"blue\", \"source\": 65, \"target\": 48}, {\"color\": \"blue\", \"source\": 65, \"target\": 48}, {\"color\": \"red\", \"source\": 65, \"target\": 77}, {\"color\": \"blue\", \"source\": 65, \"target\": 19}, {\"color\": \"red\", \"source\": 65, \"target\": 20}, {\"color\": \"blue\", \"source\": 65, \"target\": 27}, {\"color\": \"blue\", \"source\": 65, \"target\": 83}, {\"color\": \"blue\", \"source\": 65, \"target\": 109}, {\"color\": \"blue\", \"source\": 68, \"target\": 73}, {\"color\": \"red\", \"source\": 71, \"target\": 90}, {\"color\": \"red\", \"source\": 73, \"target\": 90}, {\"color\": \"red\", \"source\": 73, \"target\": 101}, {\"color\": \"red\", \"source\": 73, \"target\": 65}, {\"color\": \"red\", \"source\": 73, \"target\": 65}, {\"color\": \"red\", \"source\": 73, \"target\": 75}, {\"color\": \"red\", \"source\": 73, \"target\": 15}, {\"color\": \"red\", \"source\": 73, \"target\": 35}, {\"color\": \"red\", \"source\": 73, \"target\": 80}, {\"color\": \"red\", \"source\": 73, \"target\": 96}, {\"color\": \"red\", \"source\": 73, \"target\": 58}, {\"color\": \"red\", \"source\": 73, \"target\": 6}, {\"color\": \"red\", \"source\": 73, \"target\": 78}, {\"color\": \"red\", \"source\": 73, \"target\": 103}, {\"color\": \"red\", \"source\": 73, \"target\": 48}, {\"color\": \"blue\", \"source\": 73, \"target\": 77}, {\"color\": \"red\", \"source\": 73, \"target\": 19}, {\"color\": \"blue\", \"source\": 73, \"target\": 68}, {\"color\": \"red\", \"source\": 73, \"target\": 20}, {\"color\": \"red\", \"source\": 73, \"target\": 13}, {\"color\": \"red\", \"source\": 73, \"target\": 79}, {\"color\": \"red\", \"source\": 88, \"target\": 0}, {\"color\": \"blue\", \"source\": 88, \"target\": 1}, {\"color\": \"red\", \"source\": 88, \"target\": 2}, {\"color\": \"red\", \"source\": 88, \"target\": 3}, {\"color\": \"red\", \"source\": 88, \"target\": 4}, {\"color\": \"blue\", \"source\": 88, \"target\": 5}, {\"color\": \"blue\", \"source\": 88, \"target\": 5}, {\"color\": \"blue\", \"source\": 88, \"target\": 6}, {\"color\": \"blue\", \"source\": 88, \"target\": 6}, {\"color\": \"blue\", \"source\": 88, \"target\": 6}, {\"color\": \"blue\", \"source\": 88, \"target\": 7}, {\"color\": \"blue\", \"source\": 88, \"target\": 7}, {\"color\": \"blue\", \"source\": 88, \"target\": 8}, {\"color\": \"blue\", \"source\": 88, \"target\": 8}, {\"color\": \"red\", \"source\": 88, \"target\": 9}, {\"color\": \"red\", \"source\": 88, \"target\": 10}, {\"color\": \"red\", \"source\": 88, \"target\": 11}, {\"color\": \"red\", \"source\": 88, \"target\": 12}, {\"color\": \"red\", \"source\": 88, \"target\": 13}, {\"color\": \"red\", \"source\": 88, \"target\": 14}, {\"color\": \"red\", \"source\": 88, \"target\": 15}, {\"color\": \"blue\", \"source\": 88, \"target\": 16}, {\"color\": \"blue\", \"source\": 88, \"target\": 16}, {\"color\": \"red\", \"source\": 88, \"target\": 17}, {\"color\": \"red\", \"source\": 88, \"target\": 18}, {\"color\": \"red\", \"source\": 88, \"target\": 19}, {\"color\": \"red\", \"source\": 88, \"target\": 20}, {\"color\": \"red\", \"source\": 88, \"target\": 21}, {\"color\": \"red\", \"source\": 88, \"target\": 22}, {\"color\": \"red\", \"source\": 88, \"target\": 22}, {\"color\": \"red\", \"source\": 88, \"target\": 23}, {\"color\": \"blue\", \"source\": 88, \"target\": 24}, {\"color\": \"blue\", \"source\": 88, \"target\": 25}, {\"color\": \"red\", \"source\": 88, \"target\": 26}, {\"color\": \"blue\", \"source\": 88, \"target\": 27}, {\"color\": \"blue\", \"source\": 88, \"target\": 28}, {\"color\": \"blue\", \"source\": 88, \"target\": 28}, {\"color\": \"red\", \"source\": 88, \"target\": 29}, {\"color\": \"blue\", \"source\": 88, \"target\": 30}, {\"color\": \"blue\", \"source\": 88, \"target\": 31}, {\"color\": \"red\", \"source\": 88, \"target\": 32}, {\"color\": \"red\", \"source\": 88, \"target\": 33}, {\"color\": \"red\", \"source\": 88, \"target\": 34}, {\"color\": \"blue\", \"source\": 88, \"target\": 35}, {\"color\": \"red\", \"source\": 88, \"target\": 36}, {\"color\": \"red\", \"source\": 88, \"target\": 37}, {\"color\": \"blue\", \"source\": 88, \"target\": 38}, {\"color\": \"red\", \"source\": 88, \"target\": 39}, {\"color\": \"red\", \"source\": 88, \"target\": 40}, {\"color\": \"red\", \"source\": 88, \"target\": 41}, {\"color\": \"blue\", \"source\": 88, \"target\": 42}, {\"color\": \"blue\", \"source\": 88, \"target\": 42}, {\"color\": \"red\", \"source\": 88, \"target\": 43}, {\"color\": \"red\", \"source\": 88, \"target\": 43}, {\"color\": \"red\", \"source\": 88, \"target\": 44}, {\"color\": \"red\", \"source\": 88, \"target\": 45}, {\"color\": \"blue\", \"source\": 88, \"target\": 46}, {\"color\": \"blue\", \"source\": 88, \"target\": 47}, {\"color\": \"blue\", \"source\": 88, \"target\": 47}, {\"color\": \"blue\", \"source\": 88, \"target\": 48}, {\"color\": \"red\", \"source\": 88, \"target\": 49}, {\"color\": \"red\", \"source\": 88, \"target\": 50}, {\"color\": \"blue\", \"source\": 88, \"target\": 51}, {\"color\": \"red\", \"source\": 88, \"target\": 52}, {\"color\": \"red\", \"source\": 88, \"target\": 53}, {\"color\": \"red\", \"source\": 88, \"target\": 54}, {\"color\": \"red\", \"source\": 88, \"target\": 55}, {\"color\": \"red\", \"source\": 88, \"target\": 56}, {\"color\": \"blue\", \"source\": 88, \"target\": 57}, {\"color\": \"red\", \"source\": 88, \"target\": 58}, {\"color\": \"red\", \"source\": 88, \"target\": 59}, {\"color\": \"red\", \"source\": 88, \"target\": 60}, {\"color\": \"red\", \"source\": 88, \"target\": 61}, {\"color\": \"red\", \"source\": 88, \"target\": 62}, {\"color\": \"red\", \"source\": 88, \"target\": 63}, {\"color\": \"blue\", \"source\": 88, \"target\": 64}, {\"color\": \"red\", \"source\": 88, \"target\": 65}, {\"color\": \"blue\", \"source\": 88, \"target\": 66}, {\"color\": \"blue\", \"source\": 88, \"target\": 66}, {\"color\": \"blue\", \"source\": 88, \"target\": 67}, {\"color\": \"blue\", \"source\": 88, \"target\": 67}, {\"color\": \"red\", \"source\": 88, \"target\": 68}, {\"color\": \"red\", \"source\": 88, \"target\": 69}, {\"color\": \"red\", \"source\": 88, \"target\": 70}, {\"color\": \"red\", \"source\": 88, \"target\": 71}, {\"color\": \"blue\", \"source\": 88, \"target\": 72}, {\"color\": \"blue\", \"source\": 88, \"target\": 73}, {\"color\": \"blue\", \"source\": 88, \"target\": 74}, {\"color\": \"blue\", \"source\": 88, \"target\": 74}, {\"color\": \"blue\", \"source\": 88, \"target\": 75}, {\"color\": \"blue\", \"source\": 88, \"target\": 75}, {\"color\": \"red\", \"source\": 88, \"target\": 76}, {\"color\": \"blue\", \"source\": 88, \"target\": 77}, {\"color\": \"blue\", \"source\": 88, \"target\": 78}, {\"color\": \"blue\", \"source\": 88, \"target\": 78}, {\"color\": \"blue\", \"source\": 88, \"target\": 79}, {\"color\": \"blue\", \"source\": 88, \"target\": 79}, {\"color\": \"blue\", \"source\": 88, \"target\": 80}, {\"color\": \"blue\", \"source\": 88, \"target\": 80}, {\"color\": \"blue\", \"source\": 88, \"target\": 81}, {\"color\": \"red\", \"source\": 88, \"target\": 82}, {\"color\": \"blue\", \"source\": 88, \"target\": 83}, {\"color\": \"blue\", \"source\": 88, \"target\": 84}, {\"color\": \"red\", \"source\": 88, \"target\": 85}, {\"color\": \"red\", \"source\": 88, \"target\": 86}, {\"color\": \"red\", \"source\": 88, \"target\": 87}, {\"color\": \"blue\", \"source\": 88, \"target\": 89}, {\"color\": \"red\", \"source\": 88, \"target\": 90}, {\"color\": \"red\", \"source\": 88, \"target\": 91}, {\"color\": \"red\", \"source\": 88, \"target\": 92}, {\"color\": \"blue\", \"source\": 88, \"target\": 93}, {\"color\": \"blue\", \"source\": 88, \"target\": 93}, {\"color\": \"red\", \"source\": 88, \"target\": 94}, {\"color\": \"blue\", \"source\": 88, \"target\": 95}, {\"color\": \"blue\", \"source\": 88, \"target\": 95}, {\"color\": \"red\", \"source\": 88, \"target\": 96}, {\"color\": \"blue\", \"source\": 88, \"target\": 97}, {\"color\": \"blue\", \"source\": 88, \"target\": 97}, {\"color\": \"blue\", \"source\": 88, \"target\": 98}, {\"color\": \"blue\", \"source\": 88, \"target\": 98}, {\"color\": \"blue\", \"source\": 88, \"target\": 99}, {\"color\": \"blue\", \"source\": 88, \"target\": 99}, {\"color\": \"blue\", \"source\": 88, \"target\": 100}, {\"color\": \"blue\", \"source\": 88, \"target\": 101}, {\"color\": \"blue\", \"source\": 88, \"target\": 102}, {\"color\": \"red\", \"source\": 88, \"target\": 103}, {\"color\": \"blue\", \"source\": 88, \"target\": 104}, {\"color\": \"blue\", \"source\": 88, \"target\": 104}, {\"color\": \"red\", \"source\": 88, \"target\": 105}, {\"color\": \"red\", \"source\": 88, \"target\": 106}, {\"color\": \"red\", \"source\": 88, \"target\": 107}, {\"color\": \"blue\", \"source\": 88, \"target\": 108}, {\"color\": \"blue\", \"source\": 88, \"target\": 108}, {\"color\": \"red\", \"source\": 88, \"target\": 109}, {\"color\": \"red\", \"source\": 90, \"target\": 17}, {\"color\": \"red\", \"source\": 90, \"target\": 34}, {\"color\": \"blue\", \"source\": 90, \"target\": 35}, {\"color\": \"red\", \"source\": 90, \"target\": 4}, {\"color\": \"red\", \"source\": 90, \"target\": 85}, {\"color\": \"red\", \"source\": 90, \"target\": 86}, {\"color\": \"blue\", \"source\": 90, \"target\": 5}, {\"color\": \"blue\", \"source\": 90, \"target\": 5}, {\"color\": \"blue\", \"source\": 90, \"target\": 6}, {\"color\": \"blue\", \"source\": 90, \"target\": 6}, {\"color\": \"blue\", \"source\": 90, \"target\": 7}, {\"color\": \"blue\", \"source\": 90, \"target\": 7}, {\"color\": \"blue\", \"source\": 90, \"target\": 8}, {\"color\": \"blue\", \"source\": 90, \"target\": 8}, {\"color\": \"red\", \"source\": 90, \"target\": 60}, {\"color\": \"red\", \"source\": 90, \"target\": 60}, {\"color\": \"red\", \"source\": 90, \"target\": 61}, {\"color\": \"red\", \"source\": 90, \"target\": 62}, {\"color\": \"red\", \"source\": 90, \"target\": 63}, {\"color\": \"red\", \"source\": 90, \"target\": 44}, {\"color\": \"red\", \"source\": 90, \"target\": 39}, {\"color\": \"red\", \"source\": 90, \"target\": 65}, {\"color\": \"red\", \"source\": 90, \"target\": 14}, {\"color\": \"red\", \"source\": 90, \"target\": 15}, {\"color\": \"blue\", \"source\": 90, \"target\": 66}, {\"color\": \"blue\", \"source\": 90, \"target\": 66}, {\"color\": \"blue\", \"source\": 90, \"target\": 67}, {\"color\": \"blue\", \"source\": 90, \"target\": 67}, {\"color\": \"red\", \"source\": 90, \"target\": 69}, {\"color\": \"red\", \"source\": 90, \"target\": 69}, {\"color\": \"red\", \"source\": 90, \"target\": 70}, {\"color\": \"red\", \"source\": 90, \"target\": 3}, {\"color\": \"red\", \"source\": 90, \"target\": 21}, {\"color\": \"red\", \"source\": 90, \"target\": 22}, {\"color\": \"red\", \"source\": 90, \"target\": 22}, {\"color\": \"red\", \"source\": 90, \"target\": 91}, {\"color\": \"red\", \"source\": 90, \"target\": 71}, {\"color\": \"red\", \"source\": 90, \"target\": 45}, {\"color\": \"blue\", \"source\": 90, \"target\": 47}, {\"color\": \"blue\", \"source\": 90, \"target\": 47}, {\"color\": \"red\", \"source\": 90, \"target\": 26}, {\"color\": \"red\", \"source\": 90, \"target\": 73}, {\"color\": \"blue\", \"source\": 90, \"target\": 42}, {\"color\": \"blue\", \"source\": 90, \"target\": 42}, {\"color\": \"blue\", \"source\": 90, \"target\": 28}, {\"color\": \"blue\", \"source\": 90, \"target\": 28}, {\"color\": \"red\", \"source\": 90, \"target\": 58}, {\"color\": \"blue\", \"source\": 90, \"target\": 74}, {\"color\": \"blue\", \"source\": 90, \"target\": 74}, {\"color\": \"blue\", \"source\": 90, \"target\": 75}, {\"color\": \"blue\", \"source\": 90, \"target\": 75}, {\"color\": \"red\", \"source\": 90, \"target\": 18}, {\"color\": \"red\", \"source\": 90, \"target\": 108}, {\"color\": \"red\", \"source\": 90, \"target\": 108}, {\"color\": \"red\", \"source\": 90, \"target\": 109}, {\"color\": \"red\", \"source\": 102, \"target\": 37}, {\"color\": \"red\", \"source\": 102, \"target\": 48}, {\"color\": \"red\", \"source\": 103, \"target\": 43}, {\"color\": \"red\", \"source\": 103, \"target\": 50}, {\"color\": \"red\", \"source\": 103, \"target\": 75}, {\"color\": \"red\", \"source\": 103, \"target\": 24}, {\"color\": \"red\", \"source\": 103, \"target\": 35}, {\"color\": \"red\", \"source\": 103, \"target\": 36}, {\"color\": \"red\", \"source\": 103, \"target\": 106}, {\"color\": \"red\", \"source\": 103, \"target\": 47}, {\"color\": \"red\", \"source\": 103, \"target\": 58}, {\"color\": \"red\", \"source\": 103, \"target\": 6}, {\"color\": \"blue\", \"source\": 103, \"target\": 48}, {\"color\": \"blue\", \"source\": 103, \"target\": 19}, {\"color\": \"red\", \"source\": 103, \"target\": 20}, {\"color\": \"red\", \"source\": 103, \"target\": 20}, {\"color\": \"red\", \"source\": 103, \"target\": 73}, {\"color\": \"red\", \"source\": 103, \"target\": 69}, {\"color\": \"red\", \"source\": 103, \"target\": 57}, {\"color\": \"red\", \"source\": 105, \"target\": 39}, {\"color\": \"red\", \"source\": 105, \"target\": 2}, {\"color\": \"blue\", \"source\": 105, \"target\": 15}, {\"color\": \"blue\", \"source\": 105, \"target\": 15}, {\"color\": \"red\", \"source\": 105, \"target\": 35}, {\"color\": \"red\", \"source\": 105, \"target\": 80}, {\"color\": \"red\", \"source\": 105, \"target\": 16}, {\"color\": \"blue\", \"source\": 105, \"target\": 6}, {\"color\": \"red\", \"source\": 105, \"target\": 78}, {\"color\": \"red\", \"source\": 105, \"target\": 31}, {\"color\": \"red\", \"source\": 105, \"target\": 17}, {\"color\": \"blue\", \"source\": 105, \"target\": 24}, {\"color\": \"red\", \"source\": 105, \"target\": 19}, {\"color\": \"red\", \"source\": 105, \"target\": 20}, {\"color\": \"red\", \"source\": 109, \"target\": 20}, {\"color\": \"blue\", \"source\": 109, \"target\": 65}, {\"color\": \"red\", \"source\": 109, \"target\": 90}]);}</script><iframe name=\"style_file68\" src=\"style_file68.html\" width=\"100%;\" height=\"805px\"></iframe></body></html>"
      ],
      "text/plain": [
       "<IPython.core.display.HTML object>"
      ]
     },
     "execution_count": 17,
     "metadata": {},
     "output_type": "execute_result"
    }
   ],
   "source": [
    "urb.vis_tf_network('FOXO3',\n",
    "                   directed_edges = True,\n",
    "                   node_spacing = 2300,\n",
    "                   graph_id = 68) "
   ]
  },
  {
   "cell_type": "code",
   "execution_count": null,
   "metadata": {},
   "outputs": [],
   "source": []
  },
  {
   "cell_type": "code",
   "execution_count": null,
   "metadata": {},
   "outputs": [],
   "source": []
  },
  {
   "cell_type": "code",
   "execution_count": null,
   "metadata": {},
   "outputs": [],
   "source": []
  }
 ],
 "metadata": {
  "kernelspec": {
   "display_name": "Python 2",
   "language": "python",
   "name": "python2"
  },
  "language_info": {
   "codemirror_mode": {
    "name": "ipython",
    "version": 2
   },
   "file_extension": ".py",
   "mimetype": "text/x-python",
   "name": "python",
   "nbconvert_exporter": "python",
   "pygments_lexer": "ipython2",
   "version": "2.7.14"
  }
 },
 "nbformat": 4,
 "nbformat_minor": 2
}
