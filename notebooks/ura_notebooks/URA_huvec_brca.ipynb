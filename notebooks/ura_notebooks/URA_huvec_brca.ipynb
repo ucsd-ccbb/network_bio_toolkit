{
 "cells": [
  {
   "cell_type": "markdown",
   "metadata": {},
   "source": [
    "# HUVEC and Breast Cancer Case Study\n",
    "## Upstream Regulator Analysis\n",
    "\n",
    "----------------------\n",
    "\n",
    "Author: Mikayla Webster (13webstermj@gmail.com)\n",
    "\n",
    "Date: 11th January, 2018\n",
    "\n",
    "----------------------\n",
    "\n",
    "<a id='toc'></a>\n",
    "## Table of Contents\n",
    "1. [Background](#background)\n",
    "2. [Import packages](#import)\n",
    "3. [Transcription Factors](#tf)\n",
    "4. [Background Network](#bn)\n",
    "5. [HUVEC](#huvec)\n",
    "    1. [Load DEG's](#loadhuvec)\n",
    "    2. [Calculate p-values and z-scores](#pzhuvec)\n",
    "    3. [Compare the Ingenuity Article's results to Ours](#comphuvec)\n",
    "    4. [Display Our results](#displayhuvec)\n",
    "6. [Breast Cancer](#brca)\n",
    "    1. [Load DEG's](#loadbrca)\n",
    "    2. [Calculate p-values and z-scores](#pzbrca)\n",
    "    3. [Compare the Ingenuity Article's results to Ours](#compbrca)\n",
    "    4. [Display Our results](#displaybrca)"
   ]
  },
  {
   "cell_type": "markdown",
   "metadata": {},
   "source": [
    "## Background\n",
    "<a id='background'></a>\n",
    "\n",
    "This notebook provides validation for our Upstream Regulator Analysis (URA) modules. Our modules are inspired by Ingenuity System's [Ingenuity Upstream Regulator Analysis in IPA®](http://pages.ingenuity.com/rs/ingenuity/images/0812%20upstream_regulator_analysis_whitepaper.pdf); this test case is inpired by Ingenuity System's corresponding paper, [Causal analysis approaches in Ingenuity Pathway Analysis](https://www.ncbi.nlm.nih.gov/pmc/articles/PMC3928520/). This paper analyses two sets of Differencially Expressed Genes (DEG's): one from a breast cancer tumor and the other from Human Umbilical Vein Endothelial Cells (HUVEC). We run our version of URA on these same breast cancer and HUVEC DEG's, however using the [STRING database](https://string-db.org/) human protein interaction network as our background network. "
   ]
  },
  {
   "cell_type": "markdown",
   "metadata": {},
   "source": [
    "## Import packages\n",
    "<a id='import'></a>"
   ]
  },
  {
   "cell_type": "code",
   "execution_count": 1,
   "metadata": {},
   "outputs": [
    {
     "data": {
      "text/plain": [
       "<module 'Upstream' from '../../ura\\Upstream.pyc'>"
      ]
     },
     "execution_count": 1,
     "metadata": {},
     "output_type": "execute_result"
    }
   ],
   "source": [
    "# import upstream regulator module\n",
    "import sys\n",
    "code_path = '../../network_bio_toolkit'\n",
    "sys.path.append(code_path)\n",
    "import Upstream\n",
    "reload(Upstream)"
   ]
  },
  {
   "cell_type": "code",
   "execution_count": 2,
   "metadata": {
    "collapsed": true
   },
   "outputs": [],
   "source": [
    "%matplotlib inline"
   ]
  },
  {
   "cell_type": "code",
   "execution_count": 3,
   "metadata": {
    "collapsed": true
   },
   "outputs": [],
   "source": [
    "# User preferences\n",
    "symbol = 'symbol'\n",
    "entrez = 'entrez'\n",
    "\n",
    "ura = Upstream.Upstream(symbol)"
   ]
  },
  {
   "cell_type": "markdown",
   "metadata": {},
   "source": [
    "## Transcription Factors\n",
    "<a id='tf'></a>\n",
    "\n",
    "Load our list of Transcription Factors (TF) we want to analyze. Gene symbols will be in all caps. "
   ]
  },
  {
   "cell_type": "code",
   "execution_count": 4,
   "metadata": {},
   "outputs": [
    {
     "data": {
      "text/plain": [
       "3986"
      ]
     },
     "execution_count": 4,
     "metadata": {},
     "output_type": "execute_result"
    }
   ],
   "source": [
    "ura.easy_load_TF_list('../../TF_databases/TF_database_URA.csv')\n",
    "TF_list = ura.get('TF_list')\n",
    "TF_list = TF_list + ['TNF', 'IFNG', 'LBP'] # known regulators of interest missing from our TF databases\n",
    "ura.set('TF_list', TF_list)\n",
    "len(ura.get('TF_list'))"
   ]
  },
  {
   "cell_type": "markdown",
   "metadata": {},
   "source": [
    "## Background Network\n",
    "<a id='bn'></a>\n",
    "\n",
    "Load our background network, available on the [STRING website](https://string-db.org/cgi/download.pl?UserId=9BGA8WkVMRl6&sessionId=HWUK6Dum9xC6&species_text=Homo+sapiens), and keep only our the information about our TF's. \n",
    "\n",
    "The function load_STRING_to_digraph can load any species' \"protein actions\" database from STRING. Just ensure your TF list and DEG list have the same naming convention as you background network (Homo Sapiens use all caps, Mus Musculus only capitalizes the first letter, etc.) Inconsistent naming can effect your results."
   ]
  },
  {
   "cell_type": "code",
   "execution_count": 5,
   "metadata": {},
   "outputs": [
    {
     "name": "stdout",
     "output_type": "stream",
     "text": [
      "querying 1-1000...done.\n",
      "querying 1001-2000...done.\n",
      "querying 2001-3000...done.\n",
      "querying 3001-4000...done.\n",
      "querying 4001-5000...done.\n",
      "querying 5001-6000...done.\n",
      "querying 6001-7000...done.\n",
      "querying 7001-7374...done.\n",
      "Finished.\n",
      "56 input query terms found dup hits:\n",
      "\t[(u'ENSP00000359550', 3), (u'ENSP00000447879', 2), (u'ENSP00000364076', 2), (u'ENSP00000348986', 2),\n",
      "312 input query terms found no hit:\n",
      "\t[u'ENSP00000376684', u'ENSP00000289352', u'ENSP00000202788', u'ENSP00000373637', u'ENSP00000367802',\n",
      "Pass \"returnall=True\" to return complete lists of duplicate or missing query terms.\n",
      "\n",
      "Number of interactions: 29462\n"
     ]
    }
   ],
   "source": [
    "filename = \"../../background_networks/9606.protein.actions.v10.5.txt\"\n",
    "confidence_filter = 400\n",
    "ura.load_STRING_to_digraph(filename, confidence_filter)\n",
    "DG_TF = ura.get('DG_TF')\n",
    "\n",
    "print \"\\nNumber of interactions: \" + str(len(list(DG_TF.edges())))"
   ]
  },
  {
   "cell_type": "markdown",
   "metadata": {},
   "source": [
    "## HUVEC##\n",
    "<a id='huvec'></a>"
   ]
  },
  {
   "cell_type": "markdown",
   "metadata": {},
   "source": [
    "### Load HUVEC DEG's ###\n",
    "<a id='loadhuvec'></a>"
   ]
  },
  {
   "cell_type": "code",
   "execution_count": 6,
   "metadata": {
    "collapsed": true
   },
   "outputs": [],
   "source": [
    "# DEG's\n",
    "filename_huvec = '../../DEG_databases/geo2r_GSE2639_huvec.txt'\n",
    "\n",
    "# TF's found to be statistically significant in Ingenuity Systems URA article\n",
    "huvec_genes = ['TNF','IFNG','LBP', 'NFKB1', 'NFKB2', 'REL', 'RELA', 'RELB', 'PCBP3', 'PCBP2', 'PCBP1', 'PCBP4', 'NFKBIA']\n",
    "\n",
    "# add DEG information to STRING background network\n",
    "ura.create_DEG_list(filename_huvec, p_value_filter = 0.3)"
   ]
  },
  {
   "cell_type": "markdown",
   "metadata": {},
   "source": [
    "### Calculate p-values and z-scores\n",
    "<a id='pzhuvec'></a>\n",
    "\n",
    "For a detailed explination of our p-value and z-score calculation functions, see our URA_Basic_Example notebook"
   ]
  },
  {
   "cell_type": "code",
   "execution_count": 7,
   "metadata": {},
   "outputs": [
    {
     "data": {
      "text/plain": [
       "TF_ENRICHMENT    0.000067\n",
       "dtype: float64"
      ]
     },
     "execution_count": 7,
     "metadata": {},
     "output_type": "execute_result"
    }
   ],
   "source": [
    "# Enrichment of every TF with respect to its targets\n",
    "ura.tf_target_enrichment_calc()\n",
    "\n",
    "# Enrichment of TF's themselves\n",
    "ura.tf_enrichment_calc()   \n",
    "ura.get('tf_enrichment')"
   ]
  },
  {
   "cell_type": "code",
   "execution_count": 8,
   "metadata": {
    "collapsed": true
   },
   "outputs": [],
   "source": [
    "# calculate z-scores\n",
    "ura.tf_zscore(bias_filter=0.25)"
   ]
  },
  {
   "cell_type": "markdown",
   "metadata": {},
   "source": [
    "### Compare the Ingenuity Article's results to Ours\n",
    "<a id='comphuvec'></a>\n",
    "\n",
    "These are the TF's found to be most relevant according to the Ingenuity Pathway Analysis paper. Optimally, these genes would rank very high. A rank of 0 is always best, while the rank associated with a z-score of zero is the worst. \n",
    "\n",
    "In this case, IFNG anf TNF are high ranking, therefore show coordination between our results and the Ingenuity article's results. LBP, PCBP1, PCBP2, PCBP4, and RELB have z-scores of zero, meaning not enough information exists about these genes to calculate a true z-score for them. PCBP3 has a NaN z-score because it is not in the graph."
   ]
  },
  {
   "cell_type": "code",
   "execution_count": 9,
   "metadata": {},
   "outputs": [
    {
     "name": "stdout",
     "output_type": "stream",
     "text": [
      "PCBP3 is not a valid transcription factor in our graph.\n"
     ]
    },
    {
     "data": {
      "image/png": "[encoded data removed]",
      "text/plain": [
       "<matplotlib.figure.Figure at 0x95b5128>"
      ]
     },
     "metadata": {},
     "output_type": "display_data"
    }
   ],
   "source": [
    "ura.compare_genes(huvec_genes)"
   ]
  },
  {
   "cell_type": "markdown",
   "metadata": {},
   "source": [
    "### Display Our results\n",
    "<a id='displayhuvec'></a>\n",
    "\n",
    "These are the most relevant TF's according to our analysis. Optimally, these should match the huvec genes defined above. However, using a different background network produces discrepancies.\n",
    "\n",
    "IFNG, TNF, and TNFAIP3 show coordination between our results and the Ingenuity article's results."
   ]
  },
  {
   "cell_type": "code",
   "execution_count": 10,
   "metadata": {
    "scrolled": false
   },
   "outputs": [
    {
     "data": {
      "text/html": [
       "<div>\n",
       "<style>\n",
       "    .dataframe thead tr:only-child th {\n",
       "        text-align: right;\n",
       "    }\n",
       "\n",
       "    .dataframe thead th {\n",
       "        text-align: left;\n",
       "    }\n",
       "\n",
       "    .dataframe tbody tr th {\n",
       "        vertical-align: top;\n",
       "    }\n",
       "</style>\n",
       "<table border=\"1\" class=\"dataframe\">\n",
       "  <thead>\n",
       "    <tr style=\"text-align: right;\">\n",
       "      <th></th>\n",
       "      <th>z-score</th>\n",
       "      <th>(adj) p-value</th>\n",
       "      <th>(log) fold change</th>\n",
       "    </tr>\n",
       "  </thead>\n",
       "  <tbody>\n",
       "    <tr>\n",
       "      <th>IFNG</th>\n",
       "      <td>3.549648</td>\n",
       "      <td>0.943412</td>\n",
       "      <td>-0.1720</td>\n",
       "    </tr>\n",
       "    <tr>\n",
       "      <th>CTF1</th>\n",
       "      <td>3.000000</td>\n",
       "      <td>0.947242</td>\n",
       "      <td>0.4870</td>\n",
       "    </tr>\n",
       "    <tr>\n",
       "      <th>STAT4</th>\n",
       "      <td>2.645751</td>\n",
       "      <td>0.990425</td>\n",
       "      <td>0.0383</td>\n",
       "    </tr>\n",
       "    <tr>\n",
       "      <th>STAT5A</th>\n",
       "      <td>2.529822</td>\n",
       "      <td>0.344762</td>\n",
       "      <td>1.0600</td>\n",
       "    </tr>\n",
       "    <tr>\n",
       "      <th>TNF</th>\n",
       "      <td>2.342606</td>\n",
       "      <td>0.658852</td>\n",
       "      <td>1.1200</td>\n",
       "    </tr>\n",
       "    <tr>\n",
       "      <th>IRF9</th>\n",
       "      <td>2.236068</td>\n",
       "      <td>0.823891</td>\n",
       "      <td>0.5460</td>\n",
       "    </tr>\n",
       "    <tr>\n",
       "      <th>HIF1A</th>\n",
       "      <td>2.236068</td>\n",
       "      <td>0.965412</td>\n",
       "      <td>0.1130</td>\n",
       "    </tr>\n",
       "    <tr>\n",
       "      <th>FOS</th>\n",
       "      <td>2.236068</td>\n",
       "      <td>0.625963</td>\n",
       "      <td>-0.8010</td>\n",
       "    </tr>\n",
       "    <tr>\n",
       "      <th>IRF3</th>\n",
       "      <td>2.236068</td>\n",
       "      <td>0.972756</td>\n",
       "      <td>0.1810</td>\n",
       "    </tr>\n",
       "    <tr>\n",
       "      <th>GATA3</th>\n",
       "      <td>2.236068</td>\n",
       "      <td>0.323464</td>\n",
       "      <td>-0.8050</td>\n",
       "    </tr>\n",
       "  </tbody>\n",
       "</table>\n",
       "</div>"
      ],
      "text/plain": [
       "         z-score  (adj) p-value  (log) fold change\n",
       "IFNG    3.549648       0.943412            -0.1720\n",
       "CTF1    3.000000       0.947242             0.4870\n",
       "STAT4   2.645751       0.990425             0.0383\n",
       "STAT5A  2.529822       0.344762             1.0600\n",
       "TNF     2.342606       0.658852             1.1200\n",
       "IRF9    2.236068       0.823891             0.5460\n",
       "HIF1A   2.236068       0.965412             0.1130\n",
       "FOS     2.236068       0.625963            -0.8010\n",
       "IRF3    2.236068       0.972756             0.1810\n",
       "GATA3   2.236068       0.323464            -0.8050"
      ]
     },
     "metadata": {},
     "output_type": "display_data"
    },
    {
     "data": {
      "text/html": [
       "<div>\n",
       "<style>\n",
       "    .dataframe thead tr:only-child th {\n",
       "        text-align: right;\n",
       "    }\n",
       "\n",
       "    .dataframe thead th {\n",
       "        text-align: left;\n",
       "    }\n",
       "\n",
       "    .dataframe tbody tr th {\n",
       "        vertical-align: top;\n",
       "    }\n",
       "</style>\n",
       "<table border=\"1\" class=\"dataframe\">\n",
       "  <thead>\n",
       "    <tr style=\"text-align: right;\">\n",
       "      <th></th>\n",
       "      <th>z-score</th>\n",
       "      <th>(adj) p-value</th>\n",
       "      <th>(log) fold change</th>\n",
       "    </tr>\n",
       "  </thead>\n",
       "  <tbody>\n",
       "    <tr>\n",
       "      <th>PPARA</th>\n",
       "      <td>-2.449490</td>\n",
       "      <td>0.931975</td>\n",
       "      <td>0.26200</td>\n",
       "    </tr>\n",
       "    <tr>\n",
       "      <th>TNFAIP3</th>\n",
       "      <td>-2.000000</td>\n",
       "      <td>0.000369</td>\n",
       "      <td>2.80000</td>\n",
       "    </tr>\n",
       "    <tr>\n",
       "      <th>DDX41</th>\n",
       "      <td>-2.000000</td>\n",
       "      <td>0.884567</td>\n",
       "      <td>0.21500</td>\n",
       "    </tr>\n",
       "    <tr>\n",
       "      <th>CACNA2D4</th>\n",
       "      <td>-2.000000</td>\n",
       "      <td>NaN</td>\n",
       "      <td>NaN</td>\n",
       "    </tr>\n",
       "    <tr>\n",
       "      <th>CACNA2D2</th>\n",
       "      <td>-2.000000</td>\n",
       "      <td>0.994112</td>\n",
       "      <td>-0.04400</td>\n",
       "    </tr>\n",
       "    <tr>\n",
       "      <th>GPSM1</th>\n",
       "      <td>-1.941451</td>\n",
       "      <td>NaN</td>\n",
       "      <td>NaN</td>\n",
       "    </tr>\n",
       "    <tr>\n",
       "      <th>SIRT1</th>\n",
       "      <td>-1.897367</td>\n",
       "      <td>0.998068</td>\n",
       "      <td>0.00695</td>\n",
       "    </tr>\n",
       "    <tr>\n",
       "      <th>IRF8</th>\n",
       "      <td>-1.732051</td>\n",
       "      <td>0.969826</td>\n",
       "      <td>0.14900</td>\n",
       "    </tr>\n",
       "    <tr>\n",
       "      <th>NR3C1</th>\n",
       "      <td>-1.732051</td>\n",
       "      <td>0.853714</td>\n",
       "      <td>0.30100</td>\n",
       "    </tr>\n",
       "    <tr>\n",
       "      <th>PPP2R1B</th>\n",
       "      <td>-1.732051</td>\n",
       "      <td>0.181523</td>\n",
       "      <td>1.86000</td>\n",
       "    </tr>\n",
       "  </tbody>\n",
       "</table>\n",
       "</div>"
      ],
      "text/plain": [
       "           z-score  (adj) p-value  (log) fold change\n",
       "PPARA    -2.449490       0.931975            0.26200\n",
       "TNFAIP3  -2.000000       0.000369            2.80000\n",
       "DDX41    -2.000000       0.884567            0.21500\n",
       "CACNA2D4 -2.000000            NaN                NaN\n",
       "CACNA2D2 -2.000000       0.994112           -0.04400\n",
       "GPSM1    -1.941451            NaN                NaN\n",
       "SIRT1    -1.897367       0.998068            0.00695\n",
       "IRF8     -1.732051       0.969826            0.14900\n",
       "NR3C1    -1.732051       0.853714            0.30100\n",
       "PPP2R1B  -1.732051       0.181523            1.86000"
      ]
     },
     "metadata": {},
     "output_type": "display_data"
    }
   ],
   "source": [
    "top_act_huvec = ura.top_values(act = True, abs_value = False, top = 10)\n",
    "top_inh_huvec = ura.top_values(act = False, abs_value = False, top = 10)\n",
    "display(top_act_huvec)\n",
    "display(top_inh_huvec)"
   ]
  },
  {
   "cell_type": "markdown",
   "metadata": {},
   "source": [
    "## Breast Cancer ###\n",
    "<a id='brca'></a>"
   ]
  },
  {
   "cell_type": "markdown",
   "metadata": {},
   "source": [
    "### Load Breast Cancer DEG's\n",
    "<a id='loadbrca'></a>"
   ]
  },
  {
   "cell_type": "code",
   "execution_count": 11,
   "metadata": {
    "collapsed": true
   },
   "outputs": [],
   "source": [
    "urb = ura.copyUpstream()"
   ]
  },
  {
   "cell_type": "code",
   "execution_count": 12,
   "metadata": {
    "collapsed": true
   },
   "outputs": [],
   "source": [
    "# DEG's\n",
    "filename_brca = '../../DEG_databases/geo2r_GSE11352_brca_48hours.txt'\n",
    "\n",
    "# TF's found to be statistically significant in Ingenuity Systems URA article\n",
    "brca_genes = ['ESR1', 'FSH', 'MEK', 'BRD4', 'MYC', 'MARK1', 'IL1B','NCOA3','PGR', \n",
    "              'EGR1', 'HIF1A', 'NR3C1','CTNNB1','TP53','SMARCE1','STAT5B']\n",
    "\n",
    "# add DEG information to STRING background network\n",
    "urb.create_DEG_list(filename_brca, p_value_filter = 0.05)"
   ]
  },
  {
   "cell_type": "markdown",
   "metadata": {},
   "source": [
    "### Calculate p-values and z-scores\n",
    "<a id='pzbrca'></a>"
   ]
  },
  {
   "cell_type": "code",
   "execution_count": 13,
   "metadata": {},
   "outputs": [
    {
     "data": {
      "text/plain": [
       "TF_ENRICHMENT    0.009482\n",
       "dtype: float64"
      ]
     },
     "execution_count": 13,
     "metadata": {},
     "output_type": "execute_result"
    }
   ],
   "source": [
    "# Enrichment of every TF with respect to its targets\n",
    "urb.tf_target_enrichment_calc()\n",
    "\n",
    "# Enrichment of TF's themselves\n",
    "urb.tf_enrichment_calc()   \n",
    "urb.get('tf_enrichment')"
   ]
  },
  {
   "cell_type": "code",
   "execution_count": 14,
   "metadata": {
    "collapsed": true
   },
   "outputs": [],
   "source": [
    "# calculate z-scores\n",
    "urb.tf_zscore(bias_filter=0.25)"
   ]
  },
  {
   "cell_type": "markdown",
   "metadata": {},
   "source": [
    "### Compare the Ingenuity Article's results to Ours\n",
    "<a id='compbrca'></a>\n",
    "TP53, MYC, and ESR1 are foud to be highly ranking, showing coordination between our results and the Ingenuity article's results."
   ]
  },
  {
   "cell_type": "code",
   "execution_count": 15,
   "metadata": {},
   "outputs": [
    {
     "name": "stdout",
     "output_type": "stream",
     "text": [
      "FSH is not a valid transcription factor in our graph.\n",
      "MEK is not a valid transcription factor in our graph.\n",
      "MARK1 is not a valid transcription factor in our graph.\n",
      "IL1B is not a valid transcription factor in our graph.\n"
     ]
    },
    {
     "data": {
      "image/png": "[encoded data removed]",
      "text/plain": [
       "<matplotlib.figure.Figure at 0x48a97a90>"
      ]
     },
     "metadata": {},
     "output_type": "display_data"
    }
   ],
   "source": [
    "urb.compare_genes(brca_genes, fig_size = (14, 9), font_size = 11)"
   ]
  },
  {
   "cell_type": "markdown",
   "metadata": {},
   "source": [
    "### Display Our results\n",
    "<a id='displaybrca'></a>\n",
    "MYCN, MYC, ESR1, and TP53 show coordination between our results and the Ingenuity article's results.\n",
    "\n",
    "Four out of five of our top activating genes, in particular MYCN, are associated with breast cancer according to literature. Our top three inhibiting genes, in particular FOXO3, are also associated with breast cancer according to literature."
   ]
  },
  {
   "cell_type": "code",
   "execution_count": 16,
   "metadata": {},
   "outputs": [
    {
     "data": {
      "text/html": [
       "<div>\n",
       "<style>\n",
       "    .dataframe thead tr:only-child th {\n",
       "        text-align: right;\n",
       "    }\n",
       "\n",
       "    .dataframe thead th {\n",
       "        text-align: left;\n",
       "    }\n",
       "\n",
       "    .dataframe tbody tr th {\n",
       "        vertical-align: top;\n",
       "    }\n",
       "</style>\n",
       "<table border=\"1\" class=\"dataframe\">\n",
       "  <thead>\n",
       "    <tr style=\"text-align: right;\">\n",
       "      <th></th>\n",
       "      <th>z-score</th>\n",
       "      <th>(adj) p-value</th>\n",
       "      <th>(log) fold change</th>\n",
       "    </tr>\n",
       "  </thead>\n",
       "  <tbody>\n",
       "    <tr>\n",
       "      <th>STAT1</th>\n",
       "      <td>1.732051</td>\n",
       "      <td>0.6421</td>\n",
       "      <td>0.136488</td>\n",
       "    </tr>\n",
       "    <tr>\n",
       "      <th>MYCN</th>\n",
       "      <td>1.732051</td>\n",
       "      <td>0.0545</td>\n",
       "      <td>-3.033888</td>\n",
       "    </tr>\n",
       "    <tr>\n",
       "      <th>STAT3</th>\n",
       "      <td>1.732051</td>\n",
       "      <td>0.3654</td>\n",
       "      <td>-0.324608</td>\n",
       "    </tr>\n",
       "    <tr>\n",
       "      <th>MYC</th>\n",
       "      <td>1.666667</td>\n",
       "      <td>0.1006</td>\n",
       "      <td>0.807643</td>\n",
       "    </tr>\n",
       "    <tr>\n",
       "      <th>CCNA2</th>\n",
       "      <td>1.414214</td>\n",
       "      <td>0.1376</td>\n",
       "      <td>0.569129</td>\n",
       "    </tr>\n",
       "    <tr>\n",
       "      <th>ESR1</th>\n",
       "      <td>1.414214</td>\n",
       "      <td>0.0604</td>\n",
       "      <td>-1.452417</td>\n",
       "    </tr>\n",
       "    <tr>\n",
       "      <th>SREBF2</th>\n",
       "      <td>1.414214</td>\n",
       "      <td>0.5486</td>\n",
       "      <td>0.314303</td>\n",
       "    </tr>\n",
       "    <tr>\n",
       "      <th>PHKA1</th>\n",
       "      <td>1.414214</td>\n",
       "      <td>0.7130</td>\n",
       "      <td>-0.288041</td>\n",
       "    </tr>\n",
       "    <tr>\n",
       "      <th>SREBF1</th>\n",
       "      <td>1.414214</td>\n",
       "      <td>0.3877</td>\n",
       "      <td>-1.347036</td>\n",
       "    </tr>\n",
       "    <tr>\n",
       "      <th>STAT2</th>\n",
       "      <td>1.414214</td>\n",
       "      <td>0.6577</td>\n",
       "      <td>0.219203</td>\n",
       "    </tr>\n",
       "  </tbody>\n",
       "</table>\n",
       "</div>"
      ],
      "text/plain": [
       "         z-score  (adj) p-value  (log) fold change\n",
       "STAT1   1.732051         0.6421           0.136488\n",
       "MYCN    1.732051         0.0545          -3.033888\n",
       "STAT3   1.732051         0.3654          -0.324608\n",
       "MYC     1.666667         0.1006           0.807643\n",
       "CCNA2   1.414214         0.1376           0.569129\n",
       "ESR1    1.414214         0.0604          -1.452417\n",
       "SREBF2  1.414214         0.5486           0.314303\n",
       "PHKA1   1.414214         0.7130          -0.288041\n",
       "SREBF1  1.414214         0.3877          -1.347036\n",
       "STAT2   1.414214         0.6577           0.219203"
      ]
     },
     "metadata": {},
     "output_type": "display_data"
    },
    {
     "data": {
      "text/html": [
       "<div>\n",
       "<style>\n",
       "    .dataframe thead tr:only-child th {\n",
       "        text-align: right;\n",
       "    }\n",
       "\n",
       "    .dataframe thead th {\n",
       "        text-align: left;\n",
       "    }\n",
       "\n",
       "    .dataframe tbody tr th {\n",
       "        vertical-align: top;\n",
       "    }\n",
       "</style>\n",
       "<table border=\"1\" class=\"dataframe\">\n",
       "  <thead>\n",
       "    <tr style=\"text-align: right;\">\n",
       "      <th></th>\n",
       "      <th>z-score</th>\n",
       "      <th>(adj) p-value</th>\n",
       "      <th>(log) fold change</th>\n",
       "    </tr>\n",
       "  </thead>\n",
       "  <tbody>\n",
       "    <tr>\n",
       "      <th>TP53</th>\n",
       "      <td>-1.889822</td>\n",
       "      <td>0.6567</td>\n",
       "      <td>0.131119</td>\n",
       "    </tr>\n",
       "    <tr>\n",
       "      <th>NR1H3</th>\n",
       "      <td>-1.414214</td>\n",
       "      <td>0.6998</td>\n",
       "      <td>0.123408</td>\n",
       "    </tr>\n",
       "    <tr>\n",
       "      <th>EGR2</th>\n",
       "      <td>-1.414214</td>\n",
       "      <td>0.9456</td>\n",
       "      <td>0.223257</td>\n",
       "    </tr>\n",
       "    <tr>\n",
       "      <th>AKT1</th>\n",
       "      <td>-1.414214</td>\n",
       "      <td>0.7268</td>\n",
       "      <td>0.109646</td>\n",
       "    </tr>\n",
       "    <tr>\n",
       "      <th>FOXO3</th>\n",
       "      <td>-1.414214</td>\n",
       "      <td>0.4660</td>\n",
       "      <td>-0.221403</td>\n",
       "    </tr>\n",
       "    <tr>\n",
       "      <th>FOXO4</th>\n",
       "      <td>-1.414214</td>\n",
       "      <td>0.7937</td>\n",
       "      <td>0.403570</td>\n",
       "    </tr>\n",
       "    <tr>\n",
       "      <th>TCF7L2</th>\n",
       "      <td>-1.000000</td>\n",
       "      <td>0.0523</td>\n",
       "      <td>-1.195871</td>\n",
       "    </tr>\n",
       "    <tr>\n",
       "      <th>RXRG</th>\n",
       "      <td>-1.000000</td>\n",
       "      <td>0.2832</td>\n",
       "      <td>-2.354852</td>\n",
       "    </tr>\n",
       "    <tr>\n",
       "      <th>COPS5</th>\n",
       "      <td>-1.000000</td>\n",
       "      <td>0.7316</td>\n",
       "      <td>0.105172</td>\n",
       "    </tr>\n",
       "    <tr>\n",
       "      <th>NFE2L2</th>\n",
       "      <td>-1.000000</td>\n",
       "      <td>0.2036</td>\n",
       "      <td>0.839586</td>\n",
       "    </tr>\n",
       "  </tbody>\n",
       "</table>\n",
       "</div>"
      ],
      "text/plain": [
       "         z-score  (adj) p-value  (log) fold change\n",
       "TP53   -1.889822         0.6567           0.131119\n",
       "NR1H3  -1.414214         0.6998           0.123408\n",
       "EGR2   -1.414214         0.9456           0.223257\n",
       "AKT1   -1.414214         0.7268           0.109646\n",
       "FOXO3  -1.414214         0.4660          -0.221403\n",
       "FOXO4  -1.414214         0.7937           0.403570\n",
       "TCF7L2 -1.000000         0.0523          -1.195871\n",
       "RXRG   -1.000000         0.2832          -2.354852\n",
       "COPS5  -1.000000         0.7316           0.105172\n",
       "NFE2L2 -1.000000         0.2036           0.839586"
      ]
     },
     "metadata": {},
     "output_type": "display_data"
    }
   ],
   "source": [
    "top_act_brca = urb.top_values(act = True, abs_value = False, top = 10)\n",
    "top_inh_brca = urb.top_values(act = False, abs_value = False, top = 10)\n",
    "display(top_act_brca)\n",
    "display(top_inh_brca)"
   ]
  },
  {
   "cell_type": "code",
   "execution_count": 17,
   "metadata": {},
   "outputs": [
    {
     "data": {
      "text/html": [
       "<!doctype html><html><head>  <title>Network | Basic usage</title></head><body><script type=\"text/javascript\">function setUpFrame() {     var frame = window.frames[\"style_file0\"];    frame.runVis([{\"node_shape\": \"circle\", \"degree\": 3.0, \"title\": \"CCL2\", \"color\": \"grey\", \"size_field\": 2.089924707527987, \"y\": 88.08875978390078, \"x\": 1003.8070145147834, \"border_width\": 0, \"id\": \"CCL2\"}, {\"node_shape\": \"circle\", \"degree\": 3.0, \"title\": \"TGM2\", \"color\": \"grey\", \"size_field\": 3.932401799030521, \"y\": 1028.888024144137, \"x\": 498.56595347760384, \"border_width\": 0, \"id\": \"TGM2\"}, {\"node_shape\": \"circle\", \"degree\": 3.0, \"title\": \"SIRT2\", \"color\": \"grey\", \"size_field\": 2.8182569916027895, \"y\": 750.5255248884483, \"x\": 400.13185274388223, \"border_width\": 0, \"id\": \"SIRT2\"}, {\"node_shape\": \"circle\", \"degree\": 3.0, \"title\": \"SMAD4\", \"color\": \"grey\", \"size_field\": 3.6782522284344603, \"y\": 460.6582008960753, \"x\": 821.7247749246171, \"border_width\": 0, \"id\": \"SMAD4\"}, {\"node_shape\": \"circle\", \"degree\": 3.0, \"title\": \"CDKN1B\", \"color\": \"grey\", \"size_field\": 4.10127823628901, \"y\": 344.2168059252301, \"x\": 807.5655706523903, \"border_width\": 0, \"id\": \"CDKN1B\"}, {\"node_shape\": \"circle\", \"degree\": 3.0, \"title\": \"VEGFA\", \"color\": \"grey\", \"size_field\": 3.525556428453398, \"y\": 474.397288530976, \"x\": 641.9774806908775, \"border_width\": 0, \"id\": \"VEGFA\"}, {\"node_shape\": \"circle\", \"degree\": 3.0, \"title\": \"IGF1R\", \"color\": \"grey\", \"size_field\": 3.944211592419732, \"y\": 538.219318127713, \"x\": 464.7703957577892, \"border_width\": 0, \"id\": \"IGF1R\"}, {\"node_shape\": \"circle\", \"degree\": 3.0, \"title\": \"BCL2\", \"color\": \"grey\", \"size_field\": 3.5186835491656363, \"y\": 338.0999312473016, \"x\": 682.8686443935766, \"border_width\": 0, \"id\": \"BCL2\"}, {\"node_shape\": \"circle\", \"degree\": 3.0, \"title\": \"CHL1\", \"color\": \"grey\", \"size_field\": 2.7991745852054755, \"y\": 350.41661123278453, \"x\": 1054.0471575723716, \"border_width\": 0, \"id\": \"CHL1\"}, {\"node_shape\": \"circle\", \"degree\": 3.0, \"title\": \"NDRG1\", \"color\": \"grey\", \"size_field\": 2.282628198149102, \"y\": 569.27217126201, \"x\": 777.3450423753216, \"border_width\": 0, \"id\": \"NDRG1\"}, {\"node_shape\": \"circle\", \"degree\": 3.0, \"title\": \"MYBL2\", \"color\": \"grey\", \"size_field\": 2.316904931128684, \"y\": 419.29880973942335, \"x\": 1112.6412694210285, \"border_width\": 0, \"id\": \"MYBL2\"}, {\"node_shape\": \"circle\", \"degree\": 3.0, \"title\": \"NES\", \"color\": \"grey\", \"size_field\": 2.8751487885429796, \"y\": 675.9775748526822, \"x\": 305.4584767392363, \"border_width\": 0, \"id\": \"NES\"}, {\"node_shape\": \"circle\", \"degree\": 3.0, \"title\": \"GSN\", \"color\": \"grey\", \"size_field\": 3.868856519613022, \"y\": 1200.0, \"x\": 116.82021121807975, \"border_width\": 0, \"id\": \"GSN\"}, {\"node_shape\": \"star\", \"degree\": 3.0, \"title\": \"MYCN\", \"color\": \"grey\", \"size_field\": 13.44201937618241, \"y\": 1011.9576738115617, \"x\": 305.32018302999285, \"border_width\": 0, \"id\": \"MYCN\"}, {\"node_shape\": \"circle\", \"degree\": 3.0, \"title\": \"KLF10\", \"color\": \"grey\", \"size_field\": 2.8636982817549845, \"y\": 117.31779308231457, \"x\": 527.4159734099243, \"border_width\": 0, \"id\": \"KLF10\"}, {\"node_shape\": \"circle\", \"degree\": 3.0, \"title\": \"STAT3\", \"color\": \"grey\", \"size_field\": 3.0067626350382306, \"y\": 397.76624884334615, \"x\": 440.1594236203009, \"border_width\": 0, \"id\": \"STAT3\"}, {\"node_shape\": \"circle\", \"degree\": 3.0, \"title\": \"CHD7\", \"color\": \"grey\", \"size_field\": 3.1933626252139202, \"y\": 0.0, \"x\": 768.3320395019421, \"border_width\": 0, \"id\": \"CHD7\"}, {\"node_shape\": \"circle\", \"degree\": 3.0, \"title\": \"RUNX3\", \"color\": \"grey\", \"size_field\": 2.6790470561811635, \"y\": 261.3713581356377, \"x\": 480.1907073531413, \"border_width\": 0, \"id\": \"RUNX3\"}, {\"node_shape\": \"circle\", \"degree\": 3.0, \"title\": \"CDKL5\", \"color\": \"rgba(112, 112, 256, 1.0)\", \"size_field\": 5.18689277901515, \"y\": 911.0890969028766, \"x\": 892.2109555190854, \"border_width\": 2, \"id\": \"CDKL5\"}, {\"node_shape\": \"circle\", \"degree\": 3.0, \"title\": \"SOX11\", \"color\": \"grey\", \"size_field\": 2.8209805520698303, \"y\": 226.36545832723473, \"x\": 938.2991330750201, \"border_width\": 0, \"id\": \"SOX11\"}, {\"node_shape\": \"circle\", \"degree\": 3.0, \"title\": \"NTRK1\", \"color\": \"grey\", \"size_field\": 2.0781777810640243, \"y\": 663.9965810243347, \"x\": 905.9802035393011, \"border_width\": 0, \"id\": \"NTRK1\"}, {\"node_shape\": \"circle\", \"degree\": 3.0, \"title\": \"RGS5\", \"color\": \"grey\", \"size_field\": 4.6635549612156595, \"y\": 820.002755718259, \"x\": 0.0, \"border_width\": 0, \"id\": \"RGS5\"}, {\"node_shape\": \"circle\", \"degree\": 3.0, \"title\": \"GLI1\", \"color\": \"grey\", \"size_field\": 2.1338743085563276, \"y\": 174.3529680835008, \"x\": 433.63801230644947, \"border_width\": 0, \"id\": \"GLI1\"}, {\"node_shape\": \"circle\", \"degree\": 3.0, \"title\": \"NFKB1\", \"color\": \"grey\", \"size_field\": 2.533923675011968, \"y\": 331.1732371757271, \"x\": 634.810887751737, \"border_width\": 0, \"id\": \"NFKB1\"}, {\"node_shape\": \"circle\", \"degree\": 3.0, \"title\": \"MYC\", \"color\": \"grey\", \"size_field\": 4.296603021316498, \"y\": 213.4878925535906, \"x\": 774.6689638239911, \"border_width\": 0, \"id\": \"MYC\"}, {\"node_shape\": \"circle\", \"degree\": 3.0, \"title\": \"TRPM7\", \"color\": \"grey\", \"size_field\": 3.396344696973392, \"y\": 299.60686084237875, \"x\": 256.54596872096266, \"border_width\": 0, \"id\": \"TRPM7\"}, {\"node_shape\": \"circle\", \"degree\": 3.0, \"title\": \"WT1\", \"color\": \"grey\", \"size_field\": 2.133188594243745, \"y\": 570.4475953339588, \"x\": 744.8922186901391, \"border_width\": 0, \"id\": \"WT1\"}, {\"node_shape\": \"circle\", \"degree\": 3.0, \"title\": \"WDR5\", \"color\": \"grey\", \"size_field\": 4.02117263355586, \"y\": 148.33163761338295, \"x\": 319.85339944668436, \"border_width\": 0, \"id\": \"WDR5\"}, {\"node_shape\": \"circle\", \"degree\": 3.0, \"title\": \"SHC2\", \"color\": \"grey\", \"size_field\": 3.370027388656019, \"y\": 1014.6070373429139, \"x\": 914.1321220906692, \"border_width\": 0, \"id\": \"SHC2\"}, {\"node_shape\": \"circle\", \"degree\": 3.0, \"title\": \"ASCL1\", \"color\": \"rgba(256, 4, 4, 1.0)\", \"size_field\": 5.414282621210811, \"y\": 621.3207608069946, \"x\": 575.611133700618, \"border_width\": 2, \"id\": \"ASCL1\"}, {\"node_shape\": \"circle\", \"degree\": 3.0, \"title\": \"CTSD\", \"color\": \"grey\", \"size_field\": 4.838728524744326, \"y\": 133.27848775703941, \"x\": 894.4421970404973, \"border_width\": 0, \"id\": \"CTSD\"}, {\"node_shape\": \"circle\", \"degree\": 3.0, \"title\": \"HMGA1\", \"color\": \"grey\", \"size_field\": 2.8563722416629114, \"y\": 79.26480120946552, \"x\": 809.0272405715459, \"border_width\": 0, \"id\": \"HMGA1\"}, {\"node_shape\": \"circle\", \"degree\": 3.0, \"title\": \"MCM7\", \"color\": \"grey\", \"size_field\": 3.8546992690019293, \"y\": 114.89116903977367, \"x\": 383.76950442231816, \"border_width\": 0, \"id\": \"MCM7\"}, {\"node_shape\": \"circle\", \"degree\": 3.0, \"title\": \"MTOR\", \"color\": \"grey\", \"size_field\": 2.2470520963658855, \"y\": 382.83517776230485, \"x\": 574.3688995550672, \"border_width\": 0, \"id\": \"MTOR\"}, {\"node_shape\": \"circle\", \"degree\": 3.0, \"title\": \"SHH\", \"color\": \"grey\", \"size_field\": 2.9731256686266936, \"y\": 403.4180093085513, \"x\": 647.8562358631995, \"border_width\": 0, \"id\": \"SHH\"}, {\"node_shape\": \"circle\", \"degree\": 3.0, \"title\": \"SLC19A1\", \"color\": \"grey\", \"size_field\": 4.267217949156755, \"y\": 72.98653098711215, \"x\": 1131.6464618752113, \"border_width\": 0, \"id\": \"SLC19A1\"}, {\"node_shape\": \"circle\", \"degree\": 3.0, \"title\": \"TRPM6\", \"color\": \"grey\", \"size_field\": 2.8472311959426606, \"y\": 63.625566672157674, \"x\": 572.0069804335031, \"border_width\": 0, \"id\": \"TRPM6\"}, {\"node_shape\": \"circle\", \"degree\": 3.0, \"title\": \"ALK\", \"color\": \"grey\", \"size_field\": 2.384486701722973, \"y\": 434.9510378593654, \"x\": 205.09715761045928, \"border_width\": 0, \"id\": \"ALK\"}, {\"node_shape\": \"circle\", \"degree\": 3.0, \"title\": \"TP53\", \"color\": \"grey\", \"size_field\": 2.4205279857852102, \"y\": 325.8432926783888, \"x\": 588.5564108520034, \"border_width\": 0, \"id\": \"TP53\"}, {\"node_shape\": \"circle\", \"degree\": 3.0, \"title\": \"BMP2\", \"color\": \"grey\", \"size_field\": 3.0555527992076628, \"y\": 222.90036723496414, \"x\": 637.2131534276006, \"border_width\": 0, \"id\": \"BMP2\"}, {\"node_shape\": \"circle\", \"degree\": 3.0, \"title\": \"CCND1\", \"color\": \"grey\", \"size_field\": 3.2437536743377806, \"y\": 137.97354809770283, \"x\": 798.299204297124, \"border_width\": 0, \"id\": \"CCND1\"}, {\"node_shape\": \"circle\", \"degree\": 3.0, \"title\": \"LRRN3\", \"color\": \"grey\", \"size_field\": 2.8171243603796565, \"y\": 510.05831011738087, \"x\": 1138.083288126667, \"border_width\": 0, \"id\": \"LRRN3\"}, {\"node_shape\": \"circle\", \"degree\": 3.0, \"title\": \"INSM1\", \"color\": \"grey\", \"size_field\": 2.256312612705724, \"y\": 468.664767973606, \"x\": 933.4106486350523, \"border_width\": 0, \"id\": \"INSM1\"}, {\"node_shape\": \"circle\", \"degree\": 3.0, \"title\": \"AHR\", \"color\": \"grey\", \"size_field\": 2.23990829764694, \"y\": 657.6396967942572, \"x\": 963.5515805841154, \"border_width\": 0, \"id\": \"AHR\"}, {\"node_shape\": \"circle\", \"degree\": 3.0, \"title\": \"PTEN\", \"color\": \"grey\", \"size_field\": 3.3242589702004377, \"y\": 612.4936016395216, \"x\": 673.5736627030846, \"border_width\": 0, \"id\": \"PTEN\"}, {\"node_shape\": \"circle\", \"degree\": 3.0, \"title\": \"VIP\", \"color\": \"grey\", \"size_field\": 2.0948602810239603, \"y\": 679.8690499718941, \"x\": 789.4373447732263, \"border_width\": 0, \"id\": \"VIP\"}, {\"node_shape\": \"circle\", \"degree\": 3.0, \"title\": \"RD3\", \"color\": \"grey\", \"size_field\": 2.0142003494011416, \"y\": 177.69681672829014, \"x\": 1005.7899847421137, \"border_width\": 0, \"id\": \"RD3\"}, {\"node_shape\": \"circle\", \"degree\": 3.0, \"title\": \"SIRT1\", \"color\": \"grey\", \"size_field\": 2.434173272244908, \"y\": 212.21698507161653, \"x\": 605.4986409455787, \"border_width\": 0, \"id\": \"SIRT1\"}, {\"node_shape\": \"circle\", \"degree\": 3.0, \"title\": \"TP53INP1\", \"color\": \"rgba(90, 90, 256, 1.0)\", \"size_field\": 5.44201937618241, \"y\": 196.49031206607978, \"x\": 1041.3281466505566, \"border_width\": 2, \"id\": \"TP53INP1\"}, {\"node_shape\": \"circle\", \"degree\": 3.0, \"title\": \"KDM3A\", \"color\": \"grey\", \"size_field\": 3.606941032235513, \"y\": 1085.8280184548996, \"x\": 801.2454383693672, \"border_width\": 0, \"id\": \"KDM3A\"}, {\"node_shape\": \"circle\", \"degree\": 3.0, \"title\": \"KDM5B\", \"color\": \"grey\", \"size_field\": 2.501865882394519, \"y\": 998.7323866839785, \"x\": 611.5085589127257, \"border_width\": 0, \"id\": \"KDM5B\"}, {\"node_shape\": \"circle\", \"degree\": 3.0, \"title\": \"CDC42\", \"color\": \"grey\", \"size_field\": 2.6002034349172076, \"y\": 670.5918834857902, \"x\": 989.4435804377956, \"border_width\": 0, \"id\": \"CDC42\"}], [{\"color\": \"blue\", \"source\": 26, \"target\": 40}, {\"color\": \"blue\", \"source\": 26, \"target\": 6}, {\"color\": \"blue\", \"source\": 26, \"target\": 7}, {\"color\": \"red\", \"source\": 3, \"target\": 38}, {\"color\": \"blue\", \"source\": 3, \"target\": 40}, {\"color\": \"red\", \"source\": 3, \"target\": 4}, {\"color\": \"blue\", \"source\": 3, \"target\": 5}, {\"color\": \"blue\", \"source\": 3, \"target\": 24}, {\"color\": \"blue\", \"source\": 13, \"target\": 0}, {\"color\": \"blue\", \"source\": 13, \"target\": 1}, {\"color\": \"red\", \"source\": 13, \"target\": 2}, {\"color\": \"blue\", \"source\": 13, \"target\": 3}, {\"color\": \"blue\", \"source\": 13, \"target\": 4}, {\"color\": \"red\", \"source\": 13, \"target\": 5}, {\"color\": \"red\", \"source\": 13, \"target\": 6}, {\"color\": \"red\", \"source\": 13, \"target\": 7}, {\"color\": \"blue\", \"source\": 13, \"target\": 8}, {\"color\": \"blue\", \"source\": 13, \"target\": 9}, {\"color\": \"red\", \"source\": 13, \"target\": 10}, {\"color\": \"red\", \"source\": 13, \"target\": 11}, {\"color\": \"red\", \"source\": 13, \"target\": 11}, {\"color\": \"blue\", \"source\": 13, \"target\": 12}, {\"color\": \"blue\", \"source\": 13, \"target\": 14}, {\"color\": \"red\", \"source\": 13, \"target\": 15}, {\"color\": \"blue\", \"source\": 13, \"target\": 16}, {\"color\": \"blue\", \"source\": 13, \"target\": 17}, {\"color\": \"blue\", \"source\": 13, \"target\": 18}, {\"color\": \"red\", \"source\": 13, \"target\": 19}, {\"color\": \"blue\", \"source\": 13, \"target\": 20}, {\"color\": \"blue\", \"source\": 13, \"target\": 21}, {\"color\": \"red\", \"source\": 13, \"target\": 22}, {\"color\": \"blue\", \"source\": 13, \"target\": 23}, {\"color\": \"blue\", \"source\": 13, \"target\": 24}, {\"color\": \"red\", \"source\": 13, \"target\": 25}, {\"color\": \"blue\", \"source\": 13, \"target\": 26}, {\"color\": \"red\", \"source\": 13, \"target\": 27}, {\"color\": \"red\", \"source\": 13, \"target\": 28}, {\"color\": \"red\", \"source\": 13, \"target\": 29}, {\"color\": \"blue\", \"source\": 13, \"target\": 30}, {\"color\": \"red\", \"source\": 13, \"target\": 31}, {\"color\": \"red\", \"source\": 13, \"target\": 32}, {\"color\": \"red\", \"source\": 13, \"target\": 33}, {\"color\": \"red\", \"source\": 13, \"target\": 34}, {\"color\": \"red\", \"source\": 13, \"target\": 35}, {\"color\": \"red\", \"source\": 13, \"target\": 36}, {\"color\": \"red\", \"source\": 13, \"target\": 37}, {\"color\": \"red\", \"source\": 13, \"target\": 38}, {\"color\": \"blue\", \"source\": 13, \"target\": 39}, {\"color\": \"red\", \"source\": 13, \"target\": 40}, {\"color\": \"blue\", \"source\": 13, \"target\": 41}, {\"color\": \"red\", \"source\": 13, \"target\": 42}, {\"color\": \"blue\", \"source\": 13, \"target\": 43}, {\"color\": \"red\", \"source\": 13, \"target\": 44}, {\"color\": \"blue\", \"source\": 13, \"target\": 45}, {\"color\": \"blue\", \"source\": 13, \"target\": 46}, {\"color\": \"red\", \"source\": 13, \"target\": 47}, {\"color\": \"blue\", \"source\": 13, \"target\": 48}, {\"color\": \"red\", \"source\": 13, \"target\": 49}, {\"color\": \"blue\", \"source\": 13, \"target\": 50}, {\"color\": \"blue\", \"source\": 13, \"target\": 51}, {\"color\": \"blue\", \"source\": 13, \"target\": 51}, {\"color\": \"red\", \"source\": 14, \"target\": 39}, {\"color\": \"red\", \"source\": 15, \"target\": 6}, {\"color\": \"blue\", \"source\": 15, \"target\": 38}, {\"color\": \"blue\", \"source\": 15, \"target\": 40}, {\"color\": \"blue\", \"source\": 15, \"target\": 40}, {\"color\": \"blue\", \"source\": 15, \"target\": 47}, {\"color\": \"blue\", \"source\": 15, \"target\": 5}, {\"color\": \"blue\", \"source\": 15, \"target\": 5}, {\"color\": \"red\", \"source\": 15, \"target\": 33}, {\"color\": \"red\", \"source\": 15, \"target\": 24}, {\"color\": \"blue\", \"source\": 44, \"target\": 0}, {\"color\": \"blue\", \"source\": 44, \"target\": 1}, {\"color\": \"blue\", \"source\": 44, \"target\": 38}, {\"color\": \"blue\", \"source\": 44, \"target\": 40}, {\"color\": \"blue\", \"source\": 44, \"target\": 20}, {\"color\": \"blue\", \"source\": 44, \"target\": 5}, {\"color\": \"blue\", \"source\": 44, \"target\": 33}, {\"color\": \"red\", \"source\": 44, \"target\": 9}, {\"color\": \"blue\", \"source\": 44, \"target\": 24}, {\"color\": \"blue\", \"source\": 44, \"target\": 50}, {\"color\": \"blue\", \"source\": 44, \"target\": 7}, {\"color\": \"red\", \"source\": 22, \"target\": 37}, {\"color\": \"blue\", \"source\": 22, \"target\": 40}, {\"color\": \"blue\", \"source\": 22, \"target\": 40}, {\"color\": \"red\", \"source\": 22, \"target\": 34}, {\"color\": \"red\", \"source\": 22, \"target\": 34}, {\"color\": \"blue\", \"source\": 22, \"target\": 7}, {\"color\": \"blue\", \"source\": 22, \"target\": 7}, {\"color\": \"blue\", \"source\": 22, \"target\": 39}, {\"color\": \"blue\", \"source\": 22, \"target\": 39}, {\"color\": \"red\", \"source\": 23, \"target\": 0}, {\"color\": \"blue\", \"source\": 23, \"target\": 47}, {\"color\": \"blue\", \"source\": 23, \"target\": 47}, {\"color\": \"red\", \"source\": 23, \"target\": 38}, {\"color\": \"red\", \"source\": 23, \"target\": 40}, {\"color\": \"red\", \"source\": 23, \"target\": 5}, {\"color\": \"red\", \"source\": 23, \"target\": 34}, {\"color\": \"red\", \"source\": 23, \"target\": 33}, {\"color\": \"red\", \"source\": 23, \"target\": 24}, {\"color\": \"red\", \"source\": 23, \"target\": 7}, {\"color\": \"red\", \"source\": 24, \"target\": 0}, {\"color\": \"red\", \"source\": 24, \"target\": 47}, {\"color\": \"red\", \"source\": 24, \"target\": 15}, {\"color\": \"blue\", \"source\": 24, \"target\": 48}, {\"color\": \"blue\", \"source\": 24, \"target\": 38}, {\"color\": \"blue\", \"source\": 24, \"target\": 17}, {\"color\": \"red\", \"source\": 24, \"target\": 40}, {\"color\": \"blue\", \"source\": 24, \"target\": 4}, {\"color\": \"blue\", \"source\": 24, \"target\": 4}, {\"color\": \"red\", \"source\": 24, \"target\": 23}, {\"color\": \"blue\", \"source\": 24, \"target\": 39}, {\"color\": \"blue\", \"source\": 24, \"target\": 44}, {\"color\": \"blue\", \"source\": 24, \"target\": 45}, {\"color\": \"blue\", \"source\": 24, \"target\": 5}, {\"color\": \"blue\", \"source\": 24, \"target\": 9}, {\"color\": \"blue\", \"source\": 24, \"target\": 9}, {\"color\": \"blue\", \"source\": 24, \"target\": 33}, {\"color\": \"red\", \"source\": 24, \"target\": 31}, {\"color\": \"blue\", \"source\": 24, \"target\": 3}, {\"color\": \"blue\", \"source\": 24, \"target\": 7}, {\"color\": \"blue\", \"source\": 24, \"target\": 7}, {\"color\": \"red\", \"source\": 29, \"target\": 34}, {\"color\": \"blue\", \"source\": 29, \"target\": 47}, {\"color\": \"red\", \"source\": 29, \"target\": 42}, {\"color\": \"red\", \"source\": 31, \"target\": 24}, {\"color\": \"blue\", \"source\": 31, \"target\": 38}, {\"color\": \"red\", \"source\": 38, \"target\": 0}, {\"color\": \"blue\", \"source\": 38, \"target\": 6}, {\"color\": \"red\", \"source\": 38, \"target\": 48}, {\"color\": \"blue\", \"source\": 38, \"target\": 15}, {\"color\": \"blue\", \"source\": 38, \"target\": 40}, {\"color\": \"blue\", \"source\": 38, \"target\": 4}, {\"color\": \"red\", \"source\": 38, \"target\": 30}, {\"color\": \"blue\", \"source\": 38, \"target\": 47}, {\"color\": \"blue\", \"source\": 38, \"target\": 47}, {\"color\": \"blue\", \"source\": 38, \"target\": 47}, {\"color\": \"blue\", \"source\": 38, \"target\": 31}, {\"color\": \"blue\", \"source\": 38, \"target\": 44}, {\"color\": \"blue\", \"source\": 38, \"target\": 5}, {\"color\": \"red\", \"source\": 38, \"target\": 9}, {\"color\": \"red\", \"source\": 38, \"target\": 34}, {\"color\": \"red\", \"source\": 38, \"target\": 23}, {\"color\": \"blue\", \"source\": 38, \"target\": 24}, {\"color\": \"blue\", \"source\": 38, \"target\": 11}, {\"color\": \"red\", \"source\": 38, \"target\": 3}, {\"color\": \"blue\", \"source\": 38, \"target\": 7}, {\"color\": \"blue\", \"source\": 38, \"target\": 7}, {\"color\": \"blue\", \"source\": 38, \"target\": 7}, {\"color\": \"blue\", \"source\": 42, \"target\": 40}, {\"color\": \"red\", \"source\": 42, \"target\": 29}, {\"color\": \"red\", \"source\": 42, \"target\": 34}, {\"color\": \"red\", \"source\": 43, \"target\": 0}, {\"color\": \"red\", \"source\": 43, \"target\": 9}, {\"color\": \"red\", \"source\": 43, \"target\": 5}, {\"color\": \"blue\", \"source\": 17, \"target\": 24}, {\"color\": \"blue\", \"source\": 17, \"target\": 5}, {\"color\": \"blue\", \"source\": 17, \"target\": 7}, {\"color\": \"blue\", \"source\": 47, \"target\": 15}, {\"color\": \"red\", \"source\": 47, \"target\": 4}, {\"color\": \"blue\", \"source\": 47, \"target\": 29}, {\"color\": \"blue\", \"source\": 47, \"target\": 5}, {\"color\": \"blue\", \"source\": 47, \"target\": 23}, {\"color\": \"blue\", \"source\": 47, \"target\": 23}, {\"color\": \"blue\", \"source\": 47, \"target\": 38}, {\"color\": \"blue\", \"source\": 47, \"target\": 38}, {\"color\": \"blue\", \"source\": 47, \"target\": 38}, {\"color\": \"red\", \"source\": 47, \"target\": 24}, {\"color\": \"blue\", \"source\": 50, \"target\": 44}]);}</script><iframe name=\"style_file0\" src=\"style_file0.html\" width=\"100%;\" height=\"805px\"></iframe></body></html>"
      ],
      "text/plain": [
       "<IPython.core.display.HTML object>"
      ]
     },
     "execution_count": 17,
     "metadata": {},
     "output_type": "execute_result"
    }
   ],
   "source": [
    "urb.vis_tf_network('MYCN',\n",
    "                   directed_edges = True,\n",
    "                   node_spacing = 1200,\n",
    "                   graph_id = 0) "
   ]
  },
  {
   "cell_type": "code",
   "execution_count": 18,
   "metadata": {},
   "outputs": [
    {
     "data": {
      "text/html": [
       "<!doctype html><html><head>  <title>Network | Basic usage</title></head><body><script type=\"text/javascript\">function setUpFrame() {     var frame = window.frames[\"style_file68\"];    frame.runVis([{\"node_shape\": \"circle\", \"degree\": 3.0, \"title\": \"MOV10\", \"color\": \"grey\", \"size_field\": 3.4300372840678093, \"y\": 638.4735891324448, \"x\": 640.1841061918536, \"border_width\": 0, \"id\": \"MOV10\"}, {\"node_shape\": \"circle\", \"degree\": 3.0, \"title\": \"HSPA4\", \"color\": \"grey\", \"size_field\": 4.446455463413748, \"y\": 1387.1783769727672, \"x\": 755.3963399941875, \"border_width\": 0, \"id\": \"HSPA4\"}, {\"node_shape\": \"circle\", \"degree\": 3.0, \"title\": \"PLK1\", \"color\": \"grey\", \"size_field\": 3.433385968653741, \"y\": 229.3490652163836, \"x\": 1257.6039962580708, \"border_width\": 0, \"id\": \"PLK1\"}, {\"node_shape\": \"circle\", \"degree\": 3.0, \"title\": \"PRKAG3\", \"color\": \"grey\", \"size_field\": 2.573055700302125, \"y\": 1505.7061217285739, \"x\": 1327.685450619639, \"border_width\": 0, \"id\": \"PRKAG3\"}, {\"node_shape\": \"circle\", \"degree\": 3.0, \"title\": \"PRKAG2\", \"color\": \"grey\", \"size_field\": 3.7153541380256496, \"y\": 1436.520206329198, \"x\": 286.47894368353644, \"border_width\": 0, \"id\": \"PRKAG2\"}, {\"node_shape\": \"circle\", \"degree\": 3.0, \"title\": \"IKBKB\", \"color\": \"grey\", \"size_field\": 2.5563461390678, \"y\": 1180.9171324382894, \"x\": 774.753411096157, \"border_width\": 0, \"id\": \"IKBKB\"}, {\"node_shape\": \"circle\", \"degree\": 3.0, \"title\": \"AKT1\", \"color\": \"grey\", \"size_field\": 2.3191039424601207, \"y\": 509.62282026792263, \"x\": 1016.5805526688326, \"border_width\": 0, \"id\": \"AKT1\"}, {\"node_shape\": \"circle\", \"degree\": 3.0, \"title\": \"AKT2\", \"color\": \"grey\", \"size_field\": 3.296819354692288, \"y\": 882.5962546516039, \"x\": 809.5021895067282, \"border_width\": 0, \"id\": \"AKT2\"}, {\"node_shape\": \"circle\", \"degree\": 3.0, \"title\": \"AKT3\", \"color\": \"grey\", \"size_field\": 2.7689488939762272, \"y\": 655.7762054005605, \"x\": 811.2892896362415, \"border_width\": 0, \"id\": \"AKT3\"}, {\"node_shape\": \"circle\", \"degree\": 3.0, \"title\": \"TNRC6C\", \"color\": \"grey\", \"size_field\": 4.584948003968227, \"y\": 1360.426554033194, \"x\": 1590.4681093793122, \"border_width\": 0, \"id\": \"TNRC6C\"}, {\"node_shape\": \"circle\", \"degree\": 3.0, \"title\": \"TNRC6B\", \"color\": \"grey\", \"size_field\": 3.8457933577205408, \"y\": 1415.100211562473, \"x\": 1532.845319186996, \"border_width\": 0, \"id\": \"TNRC6B\"}, {\"node_shape\": \"circle\", \"degree\": 3.0, \"title\": \"TNRC6A\", \"color\": \"grey\", \"size_field\": 2.9205497887945384, \"y\": 1369.3742874656125, \"x\": 1404.405038724258, \"border_width\": 0, \"id\": \"TNRC6A\"}, {\"node_shape\": \"circle\", \"degree\": 3.0, \"title\": \"PMAIP1\", \"color\": \"grey\", \"size_field\": 4.71356538179032, \"y\": 1416.0732377594215, \"x\": 1447.9415201118995, \"border_width\": 0, \"id\": \"PMAIP1\"}, {\"node_shape\": \"circle\", \"degree\": 3.0, \"title\": \"ADIPOQ\", \"color\": \"grey\", \"size_field\": 2.7832907304129115, \"y\": 1156.2721390457623, \"x\": 701.9966684883706, \"border_width\": 0, \"id\": \"ADIPOQ\"}, {\"node_shape\": \"circle\", \"degree\": 3.0, \"title\": \"RAN\", \"color\": \"grey\", \"size_field\": 3.3034248832975956, \"y\": 1581.0351703022397, \"x\": 344.8282940667725, \"border_width\": 0, \"id\": \"RAN\"}, {\"node_shape\": \"circle\", \"degree\": 3.0, \"title\": \"GADD45A\", \"color\": \"grey\", \"size_field\": 2.279846186684006, \"y\": 780.6982476511643, \"x\": 1088.1712177419456, \"border_width\": 0, \"id\": \"GADD45A\"}, {\"node_shape\": \"circle\", \"degree\": 3.0, \"title\": \"YWHAH\", \"color\": \"grey\", \"size_field\": 2.9757753787090473, \"y\": 1277.5991459434808, \"x\": 972.0544381070313, \"border_width\": 0, \"id\": \"YWHAH\"}, {\"node_shape\": \"circle\", \"degree\": 3.0, \"title\": \"PRKAG1\", \"color\": \"grey\", \"size_field\": 2.0030045090202986, \"y\": 1341.79807912227, \"x\": 1124.9515912552556, \"border_width\": 0, \"id\": \"PRKAG1\"}, {\"node_shape\": \"circle\", \"degree\": 3.0, \"title\": \"CSNK1E\", \"color\": \"grey\", \"size_field\": 2.6933472005626125, \"y\": 946.0879291085773, \"x\": 535.4570805461703, \"border_width\": 0, \"id\": \"CSNK1E\"}, {\"node_shape\": \"circle\", \"degree\": 3.0, \"title\": \"CDH1\", \"color\": \"grey\", \"size_field\": 2.655080979753489, \"y\": 991.9997889000598, \"x\": 1214.295905365496, \"border_width\": 0, \"id\": \"CDH1\"}, {\"node_shape\": \"circle\", \"degree\": 3.0, \"title\": \"MYC\", \"color\": \"grey\", \"size_field\": 4.296603021316498, \"y\": 685.0949747564927, \"x\": 1282.6953097589271, \"border_width\": 0, \"id\": \"MYC\"}, {\"node_shape\": \"circle\", \"degree\": 3.0, \"title\": \"CDKN2B\", \"color\": \"rgba(136, 136, 256, 1.0)\", \"size_field\": 5.094448246493149, \"y\": 1139.7309723115563, \"x\": 1299.0214316122754, \"border_width\": 2, \"id\": \"CDKN2B\"}, {\"node_shape\": \"circle\", \"degree\": 3.0, \"title\": \"STK11\", \"color\": \"grey\", \"size_field\": 3.3356012468043725, \"y\": 0.0, \"x\": 1225.3590865702356, \"border_width\": 0, \"id\": \"STK11\"}, {\"node_shape\": \"circle\", \"degree\": 3.0, \"title\": \"CTSL\", \"color\": \"grey\", \"size_field\": 2.741917344929375, \"y\": 869.4777685608119, \"x\": 133.13076639165473, \"border_width\": 0, \"id\": \"CTSL\"}, {\"node_shape\": \"circle\", \"degree\": 3.0, \"title\": \"SP1\", \"color\": \"grey\", \"size_field\": 3.0659515064285614, \"y\": 1117.3978866616908, \"x\": 1288.1698398644046, \"border_width\": 0, \"id\": \"SP1\"}, {\"node_shape\": \"circle\", \"degree\": 3.0, \"title\": \"TSC22D3\", \"color\": \"grey\", \"size_field\": 4.267217949156755, \"y\": 872.8695618860071, \"x\": 1645.9447020144512, \"border_width\": 0, \"id\": \"TSC22D3\"}, {\"node_shape\": \"circle\", \"degree\": 3.0, \"title\": \"STK4\", \"color\": \"grey\", \"size_field\": 3.4093583007184423, \"y\": 1554.7185091359704, \"x\": 580.6353659627528, \"border_width\": 0, \"id\": \"STK4\"}, {\"node_shape\": \"circle\", \"degree\": 3.0, \"title\": \"SNAI1\", \"color\": \"grey\", \"size_field\": 2.7936307191382674, \"y\": 1043.7858426185455, \"x\": 1240.2709398885263, \"border_width\": 0, \"id\": \"SNAI1\"}, {\"node_shape\": \"circle\", \"degree\": 3.0, \"title\": \"SETD7\", \"color\": \"grey\", \"size_field\": 2.7244314705997117, \"y\": 1419.6184085409413, \"x\": 781.7631162724821, \"border_width\": 0, \"id\": \"SETD7\"}, {\"node_shape\": \"circle\", \"degree\": 3.0, \"title\": \"GATA1\", \"color\": \"grey\", \"size_field\": 2.1928568587093373, \"y\": 1497.9085758515978, \"x\": 1287.5700020023232, \"border_width\": 0, \"id\": \"GATA1\"}, {\"node_shape\": \"circle\", \"degree\": 3.0, \"title\": \"NME1\", \"color\": \"grey\", \"size_field\": 4.267217949156755, \"y\": 1001.1640776253505, \"x\": 1041.9843275067751, \"border_width\": 0, \"id\": \"NME1\"}, {\"node_shape\": \"circle\", \"degree\": 3.0, \"title\": \"FOXM1\", \"color\": \"grey\", \"size_field\": 2.045311222710003, \"y\": 855.4413361429313, \"x\": 498.43724510923215, \"border_width\": 0, \"id\": \"FOXM1\"}, {\"node_shape\": \"circle\", \"degree\": 3.0, \"title\": \"FOXP3\", \"color\": \"grey\", \"size_field\": 2.736054681571222, \"y\": 858.6923034638442, \"x\": 622.8983758883684, \"border_width\": 0, \"id\": \"FOXP3\"}, {\"node_shape\": \"circle\", \"degree\": 3.0, \"title\": \"TNFSF10\", \"color\": \"grey\", \"size_field\": 3.7909597890574904, \"y\": 308.1369889751583, \"x\": 1333.3126276656378, \"border_width\": 0, \"id\": \"TNFSF10\"}, {\"node_shape\": \"circle\", \"degree\": 3.0, \"title\": \"CDKN1B\", \"color\": \"grey\", \"size_field\": 4.10127823628901, \"y\": 536.1926662775181, \"x\": 877.1023514040736, \"border_width\": 0, \"id\": \"CDKN1B\"}, {\"node_shape\": \"circle\", \"degree\": 3.0, \"title\": \"CDKN1A\", \"color\": \"grey\", \"size_field\": 2.1101497435009873, \"y\": 736.8993900797697, \"x\": 894.9538709665946, \"border_width\": 0, \"id\": \"CDKN1A\"}, {\"node_shape\": \"circle\", \"degree\": 3.0, \"title\": \"KAT2B\", \"color\": \"grey\", \"size_field\": 4.8717462937730005, \"y\": 1257.172780621702, \"x\": 1424.0167344133065, \"border_width\": 0, \"id\": \"KAT2B\"}, {\"node_shape\": \"circle\", \"degree\": 3.0, \"title\": \"PINK1\", \"color\": \"grey\", \"size_field\": 3.1384972223670244, \"y\": 849.3523763905113, \"x\": 1138.008452458418, \"border_width\": 0, \"id\": \"PINK1\"}, {\"node_shape\": \"circle\", \"degree\": 3.0, \"title\": \"MTDH\", \"color\": \"grey\", \"size_field\": 3.389098288452625, \"y\": 1053.759787843825, \"x\": 603.9569556317506, \"border_width\": 0, \"id\": \"MTDH\"}, {\"node_shape\": \"circle\", \"degree\": 3.0, \"title\": \"XPO1\", \"color\": \"grey\", \"size_field\": 2.8060919395760795, \"y\": 868.0706229504424, \"x\": 1425.4518568062263, \"border_width\": 0, \"id\": \"XPO1\"}, {\"node_shape\": \"circle\", \"degree\": 3.0, \"title\": \"MST1\", \"color\": \"grey\", \"size_field\": 2.6597124044737077, \"y\": 1140.3693915908575, \"x\": 433.0371378218663, \"border_width\": 0, \"id\": \"MST1\"}, {\"node_shape\": \"circle\", \"degree\": 3.0, \"title\": \"RRM2B\", \"color\": \"grey\", \"size_field\": 2.4879232305486862, \"y\": 1655.9197836744343, \"x\": 0.0, \"border_width\": 0, \"id\": \"RRM2B\"}, {\"node_shape\": \"circle\", \"degree\": 3.0, \"title\": \"NLK\", \"color\": \"grey\", \"size_field\": 2.980829253011726, \"y\": 1514.3286426590412, \"x\": 966.8051565024937, \"border_width\": 0, \"id\": \"NLK\"}, {\"node_shape\": \"circle\", \"degree\": 3.0, \"title\": \"SIRT1\", \"color\": \"grey\", \"size_field\": 2.434173272244908, \"y\": 558.556602385023, \"x\": 843.7386535355932, \"border_width\": 0, \"id\": \"SIRT1\"}, {\"node_shape\": \"circle\", \"degree\": 3.0, \"title\": \"PRKAB2\", \"color\": \"grey\", \"size_field\": 3.8891518152367044, \"y\": 1290.2567395680014, \"x\": 1303.919549875207, \"border_width\": 0, \"id\": \"PRKAB2\"}, {\"node_shape\": \"circle\", \"degree\": 3.0, \"title\": \"PRKAB1\", \"color\": \"grey\", \"size_field\": 3.2013096869064523, \"y\": 1542.4047518898835, \"x\": 433.6397633991696, \"border_width\": 0, \"id\": \"PRKAB1\"}, {\"node_shape\": \"circle\", \"degree\": 3.0, \"title\": \"NUPR1\", \"color\": \"grey\", \"size_field\": 2.2514144332812394, \"y\": 132.6758978364095, \"x\": 1371.3234792484086, \"border_width\": 0, \"id\": \"NUPR1\"}, {\"node_shape\": \"circle\", \"degree\": 3.0, \"title\": \"CHUK\", \"color\": \"grey\", \"size_field\": 2.055512709930259, \"y\": 275.568776724916, \"x\": 1064.5235327958678, \"border_width\": 0, \"id\": \"CHUK\"}, {\"node_shape\": \"circle\", \"degree\": 3.0, \"title\": \"VEGFA\", \"color\": \"grey\", \"size_field\": 3.525556428453398, \"y\": 736.8851684631013, \"x\": 928.2325687969403, \"border_width\": 0, \"id\": \"VEGFA\"}, {\"node_shape\": \"circle\", \"degree\": 3.0, \"title\": \"BNIP3\", \"color\": \"grey\", \"size_field\": 4.042531187659739, \"y\": 1283.9838825581703, \"x\": 1017.6985477789406, \"border_width\": 0, \"id\": \"BNIP3\"}, {\"node_shape\": \"circle\", \"degree\": 3.0, \"title\": \"ESR2\", \"color\": \"grey\", \"size_field\": 2.626049437027451, \"y\": 1268.6205434924848, \"x\": 1261.7144966643682, \"border_width\": 0, \"id\": \"ESR2\"}, {\"node_shape\": \"circle\", \"degree\": 3.0, \"title\": \"G6PC\", \"color\": \"grey\", \"size_field\": 2.325591645525001, \"y\": 1959.4419841602853, \"x\": 1462.057278816432, \"border_width\": 0, \"id\": \"G6PC\"}, {\"node_shape\": \"circle\", \"degree\": 3.0, \"title\": \"FBXO32\", \"color\": \"grey\", \"size_field\": 3.8825598335545513, \"y\": 1465.499871797519, \"x\": 138.78977463260668, \"border_width\": 0, \"id\": \"FBXO32\"}, {\"node_shape\": \"circle\", \"degree\": 3.0, \"title\": \"AGO4\", \"color\": \"grey\", \"size_field\": 4.607752479786846, \"y\": 1410.5249997460915, \"x\": 1644.5884027481954, \"border_width\": 0, \"id\": \"AGO4\"}, {\"node_shape\": \"circle\", \"degree\": 3.0, \"title\": \"AGO1\", \"color\": \"grey\", \"size_field\": 3.6852396258503823, \"y\": 166.78934027385316, \"x\": 1470.7829858815494, \"border_width\": 0, \"id\": \"AGO1\"}, {\"node_shape\": \"circle\", \"degree\": 3.0, \"title\": \"AGO3\", \"color\": \"grey\", \"size_field\": 2.3934871313487576, \"y\": 1488.730806483968, \"x\": 1546.255783621952, \"border_width\": 0, \"id\": \"AGO3\"}, {\"node_shape\": \"circle\", \"degree\": 3.0, \"title\": \"AGO2\", \"color\": \"grey\", \"size_field\": 2.7756596021344095, \"y\": 1522.1766456787993, \"x\": 1231.8667463728407, \"border_width\": 0, \"id\": \"AGO2\"}, {\"node_shape\": \"circle\", \"degree\": 3.0, \"title\": \"VMP1\", \"color\": \"grey\", \"size_field\": 3.4841277214686537, \"y\": 939.0153465051745, \"x\": 1161.164376366229, \"border_width\": 0, \"id\": \"VMP1\"}, {\"node_shape\": \"circle\", \"degree\": 3.0, \"title\": \"MAPK14\", \"color\": \"grey\", \"size_field\": 2.3129315067052314, \"y\": 827.4854042272677, \"x\": 1058.0086857183007, \"border_width\": 0, \"id\": \"MAPK14\"}, {\"node_shape\": \"circle\", \"degree\": 3.0, \"title\": \"CCNG2\", \"color\": \"grey\", \"size_field\": 4.852498105468083, \"y\": 1499.7695879920159, \"x\": 1770.4089401709837, \"border_width\": 0, \"id\": \"CCNG2\"}, {\"node_shape\": \"circle\", \"degree\": 3.0, \"title\": \"MAPK10\", \"color\": \"grey\", \"size_field\": 3.3474583373346922, \"y\": 1411.8498130522219, \"x\": 659.4483643380983, \"border_width\": 0, \"id\": \"MAPK10\"}, {\"node_shape\": \"circle\", \"degree\": 3.0, \"title\": \"MAPK11\", \"color\": \"grey\", \"size_field\": 2.6025754823755585, \"y\": 866.0798967783622, \"x\": 918.1174058219354, \"border_width\": 0, \"id\": \"MAPK11\"}, {\"node_shape\": \"circle\", \"degree\": 3.0, \"title\": \"MAPK12\", \"color\": \"grey\", \"size_field\": 2.880199911729801, \"y\": 698.8449771870321, \"x\": 952.2794586045911, \"border_width\": 0, \"id\": \"MAPK12\"}, {\"node_shape\": \"circle\", \"degree\": 3.0, \"title\": \"MAPK13\", \"color\": \"grey\", \"size_field\": 2.9824305343787003, \"y\": 966.9233053065734, \"x\": 879.398697159458, \"border_width\": 0, \"id\": \"MAPK13\"}, {\"node_shape\": \"circle\", \"degree\": 3.0, \"title\": \"BCR\", \"color\": \"grey\", \"size_field\": 2.846065286984658, \"y\": 561.4955505084429, \"x\": 351.4742781516207, \"border_width\": 0, \"id\": \"BCR\"}, {\"node_shape\": \"circle\", \"degree\": 3.0, \"title\": \"STAT3\", \"color\": \"grey\", \"size_field\": 3.0067626350382306, \"y\": 1024.064840107597, \"x\": 811.0466910165799, \"border_width\": 0, \"id\": \"STAT3\"}, {\"node_shape\": \"circle\", \"degree\": 3.0, \"title\": \"MAPK3\", \"color\": \"grey\", \"size_field\": 2.7052197617942144, \"y\": 1086.9124158997809, \"x\": 941.5915148896236, \"border_width\": 0, \"id\": \"MAPK3\"}, {\"node_shape\": \"circle\", \"degree\": 3.0, \"title\": \"MAPK1\", \"color\": \"grey\", \"size_field\": 3.267978134301848, \"y\": 546.3678933726172, \"x\": 1092.5614595519296, \"border_width\": 0, \"id\": \"MAPK1\"}, {\"node_shape\": \"circle\", \"degree\": 3.0, \"title\": \"CITED2\", \"color\": \"grey\", \"size_field\": 4.387054249620496, \"y\": 1493.2846163291426, \"x\": 1129.538576482372, \"border_width\": 0, \"id\": \"CITED2\"}, {\"node_shape\": \"circle\", \"degree\": 3.0, \"title\": \"MAPK8\", \"color\": \"grey\", \"size_field\": 2.745915246098601, \"y\": 994.9169424457101, \"x\": 1076.1026406326425, \"border_width\": 0, \"id\": \"MAPK8\"}, {\"node_shape\": \"circle\", \"degree\": 3.0, \"title\": \"MAPK9\", \"color\": \"grey\", \"size_field\": 3.0642108619507775, \"y\": 443.1055920026132, \"x\": 1053.2835102387917, \"border_width\": 0, \"id\": \"MAPK9\"}, {\"node_shape\": \"circle\", \"degree\": 3.0, \"title\": \"RBL2\", \"color\": \"rgba(162, 162, 256, 1.0)\", \"size_field\": 5.18689277901515, \"y\": 617.405670126015, \"x\": 462.0716905747956, \"border_width\": 2, \"id\": \"RBL2\"}, {\"node_shape\": \"circle\", \"degree\": 3.0, \"title\": \"PAWR\", \"color\": \"grey\", \"size_field\": 4.880619466453487, \"y\": 1192.1763823684203, \"x\": 1753.817203033256, \"border_width\": 0, \"id\": \"PAWR\"}, {\"node_shape\": \"circle\", \"degree\": 3.0, \"title\": \"EP300\", \"color\": \"grey\", \"size_field\": 2.98886142470899, \"y\": 964.1438740261301, \"x\": 1003.7829516828477, \"border_width\": 0, \"id\": \"EP300\"}, {\"node_shape\": \"circle\", \"degree\": 3.0, \"title\": \"SGK2\", \"color\": \"grey\", \"size_field\": 2.082621028688337, \"y\": 887.0949512324088, \"x\": 1005.7945185766661, \"border_width\": 0, \"id\": \"SGK2\"}, {\"node_shape\": \"circle\", \"degree\": 3.0, \"title\": \"SGK1\", \"color\": \"grey\", \"size_field\": 4.3166840173735475, \"y\": 1268.913776614729, \"x\": 1048.6166171436514, \"border_width\": 0, \"id\": \"SGK1\"}, {\"node_shape\": \"circle\", \"degree\": 3.0, \"title\": \"IRS2\", \"color\": \"grey\", \"size_field\": 2.567043303764219, \"y\": 849.0113159851397, \"x\": 1110.2229105566323, \"border_width\": 0, \"id\": \"IRS2\"}, {\"node_shape\": \"circle\", \"degree\": 3.0, \"title\": \"LEP\", \"color\": \"grey\", \"size_field\": 2.7381445464906813, \"y\": 255.11386233400168, \"x\": 1182.6577877056475, \"border_width\": 0, \"id\": \"LEP\"}, {\"node_shape\": \"circle\", \"degree\": 3.0, \"title\": \"PRKACG\", \"color\": \"grey\", \"size_field\": 2.04468360762664, \"y\": 1609.8733548114885, \"x\": 929.4720215402205, \"border_width\": 0, \"id\": \"PRKACG\"}, {\"node_shape\": \"circle\", \"degree\": 3.0, \"title\": \"PRKACA\", \"color\": \"grey\", \"size_field\": 2.6416938989710297, \"y\": 1253.5923365278782, \"x\": 588.6732675171377, \"border_width\": 0, \"id\": \"PRKACA\"}, {\"node_shape\": \"circle\", \"degree\": 3.0, \"title\": \"PRKACB\", \"color\": \"grey\", \"size_field\": 3.6455833590704536, \"y\": 1186.000544720529, \"x\": 687.0134926173647, \"border_width\": 0, \"id\": \"PRKACB\"}, {\"node_shape\": \"circle\", \"degree\": 3.0, \"title\": \"SPHK1\", \"color\": \"grey\", \"size_field\": 3.2616019171625723, \"y\": 2300.0, \"x\": 1227.4341608291245, \"border_width\": 0, \"id\": \"SPHK1\"}, {\"node_shape\": \"circle\", \"degree\": 3.0, \"title\": \"LCN2\", \"color\": \"grey\", \"size_field\": 3.4692412819408167, \"y\": 1056.1521412895927, \"x\": 383.7605666148862, \"border_width\": 0, \"id\": \"LCN2\"}, {\"node_shape\": \"circle\", \"degree\": 3.0, \"title\": \"BIRC5\", \"color\": \"grey\", \"size_field\": 3.5228016057745535, \"y\": 1048.2591951622721, \"x\": 1116.4764513192197, \"border_width\": 0, \"id\": \"BIRC5\"}, {\"node_shape\": \"circle\", \"degree\": 3.0, \"title\": \"PRDX3\", \"color\": \"grey\", \"size_field\": 3.0820502003691317, \"y\": 906.7220359475235, \"x\": 445.5453717741646, \"border_width\": 0, \"id\": \"PRDX3\"}, {\"node_shape\": \"circle\", \"degree\": 3.0, \"title\": \"PRKAA2\", \"color\": \"grey\", \"size_field\": 2.6294214896794004, \"y\": 144.08002128709163, \"x\": 1154.9323862587398, \"border_width\": 0, \"id\": \"PRKAA2\"}, {\"node_shape\": \"circle\", \"degree\": 3.0, \"title\": \"PRKAA1\", \"color\": \"grey\", \"size_field\": 4.042531187659739, \"y\": 872.8702280474769, \"x\": 515.6090170708492, \"border_width\": 0, \"id\": \"PRKAA1\"}, {\"node_shape\": \"circle\", \"degree\": 3.0, \"title\": \"CAT\", \"color\": \"grey\", \"size_field\": 2.515000995176471, \"y\": 1086.0030860209058, \"x\": 314.8015403028934, \"border_width\": 0, \"id\": \"CAT\"}, {\"node_shape\": \"star\", \"degree\": 3.0, \"title\": \"FOXO3\", \"color\": \"grey\", \"size_field\": 13.18689277901515, \"y\": 2248.408476579859, \"x\": 647.4037923165025, \"border_width\": 0, \"id\": \"FOXO3\"}, {\"node_shape\": \"circle\", \"degree\": 3.0, \"title\": \"MYOCD\", \"color\": \"grey\", \"size_field\": 3.1273204528048533, \"y\": 503.227465853937, \"x\": 492.9961604445271, \"border_width\": 0, \"id\": \"MYOCD\"}, {\"node_shape\": \"circle\", \"degree\": 3.0, \"title\": \"FOXO4\", \"color\": \"grey\", \"size_field\": 2.2310497228853072, \"y\": 879.6478485084342, \"x\": 761.4141755070519, \"border_width\": 0, \"id\": \"FOXO4\"}, {\"node_shape\": \"circle\", \"degree\": 3.0, \"title\": \"SOD2\", \"color\": \"grey\", \"size_field\": 2.098715972939158, \"y\": 233.77529215739932, \"x\": 907.5574679405623, \"border_width\": 0, \"id\": \"SOD2\"}, {\"node_shape\": \"circle\", \"degree\": 3.0, \"title\": \"BBC3\", \"color\": \"grey\", \"size_field\": 3.2063800890661485, \"y\": 1097.7337967779013, \"x\": 1636.5998740216435, \"border_width\": 0, \"id\": \"BBC3\"}, {\"node_shape\": \"circle\", \"degree\": 3.0, \"title\": \"YWHAZ\", \"color\": \"grey\", \"size_field\": 3.0305798782762827, \"y\": 864.627002726276, \"x\": 729.459109061177, \"border_width\": 0, \"id\": \"YWHAZ\"}, {\"node_shape\": \"circle\", \"degree\": 3.0, \"title\": \"GABARAPL1\", \"color\": \"grey\", \"size_field\": 3.5269366909223567, \"y\": 1408.727714613701, \"x\": 1.8424346624889916, \"border_width\": 0, \"id\": \"GABARAPL1\"}, {\"node_shape\": \"circle\", \"degree\": 3.0, \"title\": \"YWHAQ\", \"color\": \"grey\", \"size_field\": 2.9063404010209872, \"y\": 810.7766035579635, \"x\": 1305.3632313215276, \"border_width\": 0, \"id\": \"YWHAQ\"}, {\"node_shape\": \"circle\", \"degree\": 3.0, \"title\": \"ABCB1\", \"color\": \"grey\", \"size_field\": 4.3258537199334, \"y\": 1279.061621138319, \"x\": 1505.569525717005, \"border_width\": 0, \"id\": \"ABCB1\"}, {\"node_shape\": \"circle\", \"degree\": 3.0, \"title\": \"YWHAB\", \"color\": \"grey\", \"size_field\": 3.9365540541312884, \"y\": 1289.123644962174, \"x\": 908.1745000959259, \"border_width\": 0, \"id\": \"YWHAB\"}, {\"node_shape\": \"circle\", \"degree\": 3.0, \"title\": \"YWHAG\", \"color\": \"grey\", \"size_field\": 2.461242123577163, \"y\": 1125.881850048438, \"x\": 1343.4823861401537, \"border_width\": 0, \"id\": \"YWHAG\"}, {\"node_shape\": \"circle\", \"degree\": 3.0, \"title\": \"YWHAE\", \"color\": \"grey\", \"size_field\": 2.1519863569978814, \"y\": 873.4376877140987, \"x\": 966.2412803617117, \"border_width\": 0, \"id\": \"YWHAE\"}, {\"node_shape\": \"circle\", \"degree\": 3.0, \"title\": \"DNMT3B\", \"color\": \"grey\", \"size_field\": 3.29901635301283, \"y\": 1794.0723566335116, \"x\": 109.85133948126249, \"border_width\": 0, \"id\": \"DNMT3B\"}, {\"node_shape\": \"circle\", \"degree\": 3.0, \"title\": \"NOS3\", \"color\": \"grey\", \"size_field\": 3.7355681895783124, \"y\": 441.91949984772737, \"x\": 1144.0882099714574, \"border_width\": 0, \"id\": \"NOS3\"}, {\"node_shape\": \"circle\", \"degree\": 3.0, \"title\": \"CYR61\", \"color\": \"grey\", \"size_field\": 2.242198957849369, \"y\": 940.3830865027538, \"x\": 160.18268596756928, \"border_width\": 0, \"id\": \"CYR61\"}, {\"node_shape\": \"circle\", \"degree\": 3.0, \"title\": \"AR\", \"color\": \"grey\", \"size_field\": 4.364460496712133, \"y\": 499.8930809084797, \"x\": 1354.4383915619267, \"border_width\": 0, \"id\": \"AR\"}, {\"node_shape\": \"circle\", \"degree\": 3.0, \"title\": \"BCL2L11\", \"color\": \"grey\", \"size_field\": 3.8269722249837996, \"y\": 754.8853337284032, \"x\": 1168.5389942103043, \"border_width\": 0, \"id\": \"BCL2L11\"}, {\"node_shape\": \"circle\", \"degree\": 3.0, \"title\": \"CCNB1\", \"color\": \"grey\", \"size_field\": 3.0026659476209008, \"y\": 963.6668334947599, \"x\": 1195.4311026863763, \"border_width\": 0, \"id\": \"CCNB1\"}, {\"node_shape\": \"circle\", \"degree\": 3.0, \"title\": \"CASP8\", \"color\": \"grey\", \"size_field\": 2.964955903855436, \"y\": 1215.9400517069262, \"x\": 906.8138161830987, \"border_width\": 0, \"id\": \"CASP8\"}, {\"node_shape\": \"circle\", \"degree\": 3.0, \"title\": \"PDK4\", \"color\": \"grey\", \"size_field\": 4.3740810946991155, \"y\": 563.1961466512951, \"x\": 909.6618757731222, \"border_width\": 0, \"id\": \"PDK4\"}, {\"node_shape\": \"circle\", \"degree\": 3.0, \"title\": \"FASLG\", \"color\": \"grey\", \"size_field\": 2.516173230092586, \"y\": 724.6633930601909, \"x\": 988.4767394884419, \"border_width\": 0, \"id\": \"FASLG\"}, {\"node_shape\": \"circle\", \"degree\": 3.0, \"title\": \"BCL6\", \"color\": \"grey\", \"size_field\": 4.207274913189721, \"y\": 878.0901521868572, \"x\": 839.6151326399341, \"border_width\": 0, \"id\": \"BCL6\"}], [{\"color\": \"red\", \"source\": 5, \"target\": 33}, {\"color\": \"red\", \"source\": 5, \"target\": 35}, {\"color\": \"red\", \"source\": 5, \"target\": 47}, {\"color\": \"red\", \"source\": 5, \"target\": 106}, {\"color\": \"red\", \"source\": 5, \"target\": 6}, {\"color\": \"red\", \"source\": 5, \"target\": 6}, {\"color\": \"red\", \"source\": 5, \"target\": 7}, {\"color\": \"red\", \"source\": 5, \"target\": 8}, {\"color\": \"red\", \"source\": 5, \"target\": 108}, {\"color\": \"blue\", \"source\": 5, \"target\": 76}, {\"color\": \"blue\", \"source\": 5, \"target\": 76}, {\"color\": \"blue\", \"source\": 5, \"target\": 90}, {\"color\": \"blue\", \"source\": 5, \"target\": 90}, {\"color\": \"red\", \"source\": 6, \"target\": 57}, {\"color\": \"blue\", \"source\": 6, \"target\": 82}, {\"color\": \"blue\", \"source\": 6, \"target\": 34}, {\"color\": \"blue\", \"source\": 6, \"target\": 34}, {\"color\": \"blue\", \"source\": 6, \"target\": 34}, {\"color\": \"blue\", \"source\": 6, \"target\": 35}, {\"color\": \"blue\", \"source\": 6, \"target\": 35}, {\"color\": \"blue\", \"source\": 6, \"target\": 35}, {\"color\": \"blue\", \"source\": 6, \"target\": 90}, {\"color\": \"blue\", \"source\": 6, \"target\": 90}, {\"color\": \"red\", \"source\": 6, \"target\": 87}, {\"color\": \"blue\", \"source\": 6, \"target\": 58}, {\"color\": \"blue\", \"source\": 6, \"target\": 58}, {\"color\": \"blue\", \"source\": 6, \"target\": 7}, {\"color\": \"blue\", \"source\": 6, \"target\": 7}, {\"color\": \"blue\", \"source\": 6, \"target\": 7}, {\"color\": \"blue\", \"source\": 6, \"target\": 7}, {\"color\": \"blue\", \"source\": 6, \"target\": 8}, {\"color\": \"blue\", \"source\": 6, \"target\": 8}, {\"color\": \"blue\", \"source\": 6, \"target\": 8}, {\"color\": \"blue\", \"source\": 6, \"target\": 31}, {\"color\": \"blue\", \"source\": 6, \"target\": 61}, {\"color\": \"blue\", \"source\": 6, \"target\": 61}, {\"color\": \"blue\", \"source\": 6, \"target\": 62}, {\"color\": \"blue\", \"source\": 6, \"target\": 62}, {\"color\": \"blue\", \"source\": 6, \"target\": 63}, {\"color\": \"blue\", \"source\": 6, \"target\": 63}, {\"color\": \"red\", \"source\": 6, \"target\": 93}, {\"color\": \"red\", \"source\": 6, \"target\": 73}, {\"color\": \"blue\", \"source\": 6, \"target\": 65}, {\"color\": \"blue\", \"source\": 6, \"target\": 15}, {\"color\": \"blue\", \"source\": 6, \"target\": 15}, {\"color\": \"red\", \"source\": 6, \"target\": 95}, {\"color\": \"red\", \"source\": 6, \"target\": 40}, {\"color\": \"red\", \"source\": 6, \"target\": 16}, {\"color\": \"blue\", \"source\": 6, \"target\": 19}, {\"color\": \"red\", \"source\": 6, \"target\": 20}, {\"color\": \"red\", \"source\": 6, \"target\": 20}, {\"color\": \"red\", \"source\": 6, \"target\": 83}, {\"color\": \"red\", \"source\": 6, \"target\": 99}, {\"color\": \"red\", \"source\": 6, \"target\": 101}, {\"color\": \"red\", \"source\": 6, \"target\": 101}, {\"color\": \"red\", \"source\": 6, \"target\": 91}, {\"color\": \"red\", \"source\": 6, \"target\": 47}, {\"color\": \"red\", \"source\": 6, \"target\": 47}, {\"color\": \"red\", \"source\": 6, \"target\": 97}, {\"color\": \"red\", \"source\": 6, \"target\": 103}, {\"color\": \"blue\", \"source\": 6, \"target\": 108}, {\"color\": \"blue\", \"source\": 6, \"target\": 104}, {\"color\": \"red\", \"source\": 6, \"target\": 27}, {\"color\": \"blue\", \"source\": 6, \"target\": 49}, {\"color\": \"red\", \"source\": 6, \"target\": 5}, {\"color\": \"red\", \"source\": 6, \"target\": 5}, {\"color\": \"blue\", \"source\": 6, \"target\": 105}, {\"color\": \"red\", \"source\": 6, \"target\": 98}, {\"color\": \"red\", \"source\": 6, \"target\": 77}, {\"color\": \"red\", \"source\": 6, \"target\": 48}, {\"color\": \"blue\", \"source\": 7, \"target\": 58}, {\"color\": \"blue\", \"source\": 7, \"target\": 58}, {\"color\": \"red\", \"source\": 7, \"target\": 57}, {\"color\": \"red\", \"source\": 7, \"target\": 101}, {\"color\": \"blue\", \"source\": 7, \"target\": 34}, {\"color\": \"blue\", \"source\": 7, \"target\": 34}, {\"color\": \"blue\", \"source\": 7, \"target\": 35}, {\"color\": \"blue\", \"source\": 7, \"target\": 35}, {\"color\": \"blue\", \"source\": 7, \"target\": 90}, {\"color\": \"blue\", \"source\": 7, \"target\": 90}, {\"color\": \"red\", \"source\": 7, \"target\": 47}, {\"color\": \"red\", \"source\": 7, \"target\": 5}, {\"color\": \"blue\", \"source\": 7, \"target\": 6}, {\"color\": \"blue\", \"source\": 7, \"target\": 6}, {\"color\": \"blue\", \"source\": 7, \"target\": 6}, {\"color\": \"blue\", \"source\": 7, \"target\": 6}, {\"color\": \"blue\", \"source\": 7, \"target\": 8}, {\"color\": \"blue\", \"source\": 7, \"target\": 8}, {\"color\": \"blue\", \"source\": 7, \"target\": 8}, {\"color\": \"blue\", \"source\": 7, \"target\": 61}, {\"color\": \"blue\", \"source\": 7, \"target\": 61}, {\"color\": \"blue\", \"source\": 7, \"target\": 62}, {\"color\": \"blue\", \"source\": 7, \"target\": 62}, {\"color\": \"blue\", \"source\": 7, \"target\": 63}, {\"color\": \"blue\", \"source\": 7, \"target\": 63}, {\"color\": \"red\", \"source\": 7, \"target\": 27}, {\"color\": \"blue\", \"source\": 8, \"target\": 58}, {\"color\": \"blue\", \"source\": 8, \"target\": 58}, {\"color\": \"red\", \"source\": 8, \"target\": 101}, {\"color\": \"blue\", \"source\": 8, \"target\": 104}, {\"color\": \"blue\", \"source\": 8, \"target\": 34}, {\"color\": \"blue\", \"source\": 8, \"target\": 34}, {\"color\": \"blue\", \"source\": 8, \"target\": 35}, {\"color\": \"blue\", \"source\": 8, \"target\": 35}, {\"color\": \"blue\", \"source\": 8, \"target\": 90}, {\"color\": \"blue\", \"source\": 8, \"target\": 90}, {\"color\": \"red\", \"source\": 8, \"target\": 47}, {\"color\": \"red\", \"source\": 8, \"target\": 5}, {\"color\": \"blue\", \"source\": 8, \"target\": 6}, {\"color\": \"blue\", \"source\": 8, \"target\": 6}, {\"color\": \"blue\", \"source\": 8, \"target\": 6}, {\"color\": \"blue\", \"source\": 8, \"target\": 7}, {\"color\": \"blue\", \"source\": 8, \"target\": 7}, {\"color\": \"blue\", \"source\": 8, \"target\": 7}, {\"color\": \"red\", \"source\": 8, \"target\": 48}, {\"color\": \"blue\", \"source\": 8, \"target\": 61}, {\"color\": \"blue\", \"source\": 8, \"target\": 61}, {\"color\": \"blue\", \"source\": 8, \"target\": 62}, {\"color\": \"blue\", \"source\": 8, \"target\": 62}, {\"color\": \"blue\", \"source\": 8, \"target\": 63}, {\"color\": \"blue\", \"source\": 8, \"target\": 63}, {\"color\": \"blue\", \"source\": 10, \"target\": 20}, {\"color\": \"blue\", \"source\": 10, \"target\": 42}, {\"color\": \"blue\", \"source\": 11, \"target\": 42}, {\"color\": \"blue\", \"source\": 11, \"target\": 20}, {\"color\": \"red\", \"source\": 20, \"target\": 32}, {\"color\": \"blue\", \"source\": 20, \"target\": 57}, {\"color\": \"blue\", \"source\": 20, \"target\": 57}, {\"color\": \"blue\", \"source\": 20, \"target\": 0}, {\"color\": \"red\", \"source\": 20, \"target\": 62}, {\"color\": \"red\", \"source\": 20, \"target\": 1}, {\"color\": \"blue\", \"source\": 20, \"target\": 34}, {\"color\": \"blue\", \"source\": 20, \"target\": 34}, {\"color\": \"blue\", \"source\": 20, \"target\": 35}, {\"color\": \"blue\", \"source\": 20, \"target\": 35}, {\"color\": \"blue\", \"source\": 20, \"target\": 35}, {\"color\": \"blue\", \"source\": 20, \"target\": 22}, {\"color\": \"red\", \"source\": 20, \"target\": 84}, {\"color\": \"red\", \"source\": 20, \"target\": 36}, {\"color\": \"red\", \"source\": 20, \"target\": 6}, {\"color\": \"red\", \"source\": 20, \"target\": 6}, {\"color\": \"blue\", \"source\": 20, \"target\": 9}, {\"color\": \"blue\", \"source\": 20, \"target\": 10}, {\"color\": \"blue\", \"source\": 20, \"target\": 11}, {\"color\": \"red\", \"source\": 20, \"target\": 63}, {\"color\": \"red\", \"source\": 20, \"target\": 12}, {\"color\": \"red\", \"source\": 20, \"target\": 38}, {\"color\": \"red\", \"source\": 20, \"target\": 27}, {\"color\": \"red\", \"source\": 20, \"target\": 65}, {\"color\": \"blue\", \"source\": 20, \"target\": 15}, {\"color\": \"blue\", \"source\": 20, \"target\": 15}, {\"color\": \"red\", \"source\": 20, \"target\": 66}, {\"color\": \"red\", \"source\": 20, \"target\": 67}, {\"color\": \"red\", \"source\": 20, \"target\": 67}, {\"color\": \"red\", \"source\": 20, \"target\": 61}, {\"color\": \"blue\", \"source\": 20, \"target\": 19}, {\"color\": \"red\", \"source\": 20, \"target\": 83}, {\"color\": \"blue\", \"source\": 20, \"target\": 21}, {\"color\": \"blue\", \"source\": 20, \"target\": 21}, {\"color\": \"blue\", \"source\": 20, \"target\": 21}, {\"color\": \"blue\", \"source\": 20, \"target\": 21}, {\"color\": \"red\", \"source\": 20, \"target\": 43}, {\"color\": \"blue\", \"source\": 20, \"target\": 24}, {\"color\": \"red\", \"source\": 20, \"target\": 47}, {\"color\": \"red\", \"source\": 20, \"target\": 103}, {\"color\": \"red\", \"source\": 20, \"target\": 103}, {\"color\": \"blue\", \"source\": 20, \"target\": 48}, {\"color\": \"blue\", \"source\": 20, \"target\": 104}, {\"color\": \"red\", \"source\": 20, \"target\": 73}, {\"color\": \"blue\", \"source\": 20, \"target\": 29}, {\"color\": \"red\", \"source\": 20, \"target\": 58}, {\"color\": \"red\", \"source\": 20, \"target\": 105}, {\"color\": \"red\", \"source\": 20, \"target\": 30}, {\"color\": \"blue\", \"source\": 20, \"target\": 53}, {\"color\": \"red\", \"source\": 20, \"target\": 109}, {\"color\": \"blue\", \"source\": 20, \"target\": 54}, {\"color\": \"blue\", \"source\": 20, \"target\": 55}, {\"color\": \"blue\", \"source\": 20, \"target\": 56}, {\"color\": \"blue\", \"source\": 24, \"target\": 57}, {\"color\": \"blue\", \"source\": 24, \"target\": 33}, {\"color\": \"red\", \"source\": 24, \"target\": 12}, {\"color\": \"red\", \"source\": 24, \"target\": 35}, {\"color\": \"red\", \"source\": 24, \"target\": 58}, {\"color\": \"red\", \"source\": 24, \"target\": 60}, {\"color\": \"red\", \"source\": 24, \"target\": 61}, {\"color\": \"red\", \"source\": 24, \"target\": 62}, {\"color\": \"red\", \"source\": 24, \"target\": 63}, {\"color\": \"red\", \"source\": 24, \"target\": 92}, {\"color\": \"red\", \"source\": 24, \"target\": 96}, {\"color\": \"red\", \"source\": 24, \"target\": 67}, {\"color\": \"blue\", \"source\": 24, \"target\": 20}, {\"color\": \"red\", \"source\": 24, \"target\": 70}, {\"color\": \"red\", \"source\": 24, \"target\": 83}, {\"color\": \"red\", \"source\": 24, \"target\": 21}, {\"color\": \"red\", \"source\": 24, \"target\": 103}, {\"color\": \"red\", \"source\": 24, \"target\": 48}, {\"color\": \"blue\", \"source\": 24, \"target\": 69}, {\"color\": \"blue\", \"source\": 24, \"target\": 105}, {\"color\": \"red\", \"source\": 24, \"target\": 77}, {\"color\": \"blue\", \"source\": 25, \"target\": 104}, {\"color\": \"blue\", \"source\": 27, \"target\": 65}, {\"color\": \"red\", \"source\": 27, \"target\": 6}, {\"color\": \"red\", \"source\": 27, \"target\": 7}, {\"color\": \"red\", \"source\": 27, \"target\": 48}, {\"color\": \"blue\", \"source\": 27, \"target\": 19}, {\"color\": \"blue\", \"source\": 27, \"target\": 19}, {\"color\": \"blue\", \"source\": 27, \"target\": 19}, {\"color\": \"red\", \"source\": 27, \"target\": 20}, {\"color\": \"red\", \"source\": 27, \"target\": 69}, {\"color\": \"blue\", \"source\": 27, \"target\": 13}, {\"color\": \"blue\", \"source\": 29, \"target\": 19}, {\"color\": \"blue\", \"source\": 29, \"target\": 20}, {\"color\": \"red\", \"source\": 31, \"target\": 105}, {\"color\": \"red\", \"source\": 31, \"target\": 2}, {\"color\": \"blue\", \"source\": 31, \"target\": 35}, {\"color\": \"red\", \"source\": 31, \"target\": 43}, {\"color\": \"blue\", \"source\": 31, \"target\": 6}, {\"color\": \"blue\", \"source\": 31, \"target\": 67}, {\"color\": \"blue\", \"source\": 31, \"target\": 48}, {\"color\": \"red\", \"source\": 31, \"target\": 19}, {\"color\": \"blue\", \"source\": 31, \"target\": 69}, {\"color\": \"red\", \"source\": 31, \"target\": 83}, {\"color\": \"blue\", \"source\": 32, \"target\": 43}, {\"color\": \"red\", \"source\": 32, \"target\": 65}, {\"color\": \"red\", \"source\": 32, \"target\": 35}, {\"color\": \"blue\", \"source\": 32, \"target\": 108}, {\"color\": \"red\", \"source\": 32, \"target\": 20}, {\"color\": \"red\", \"source\": 36, \"target\": 58}, {\"color\": \"red\", \"source\": 36, \"target\": 96}, {\"color\": \"red\", \"source\": 36, \"target\": 103}, {\"color\": \"red\", \"source\": 36, \"target\": 20}, {\"color\": \"red\", \"source\": 39, \"target\": 93}, {\"color\": \"red\", \"source\": 39, \"target\": 105}, {\"color\": \"red\", \"source\": 39, \"target\": 2}, {\"color\": \"red\", \"source\": 39, \"target\": 2}, {\"color\": \"red\", \"source\": 39, \"target\": 83}, {\"color\": \"red\", \"source\": 39, \"target\": 83}, {\"color\": \"red\", \"source\": 39, \"target\": 95}, {\"color\": \"red\", \"source\": 39, \"target\": 16}, {\"color\": \"red\", \"source\": 39, \"target\": 90}, {\"color\": \"red\", \"source\": 39, \"target\": 97}, {\"color\": \"red\", \"source\": 39, \"target\": 98}, {\"color\": \"red\", \"source\": 39, \"target\": 99}, {\"color\": \"blue\", \"source\": 43, \"target\": 32}, {\"color\": \"red\", \"source\": 43, \"target\": 101}, {\"color\": \"red\", \"source\": 43, \"target\": 101}, {\"color\": \"blue\", \"source\": 43, \"target\": 65}, {\"color\": \"red\", \"source\": 43, \"target\": 91}, {\"color\": \"red\", \"source\": 43, \"target\": 31}, {\"color\": \"red\", \"source\": 43, \"target\": 15}, {\"color\": \"blue\", \"source\": 43, \"target\": 35}, {\"color\": \"red\", \"source\": 43, \"target\": 86}, {\"color\": \"blue\", \"source\": 43, \"target\": 104}, {\"color\": \"blue\", \"source\": 43, \"target\": 104}, {\"color\": \"red\", \"source\": 43, \"target\": 103}, {\"color\": \"blue\", \"source\": 43, \"target\": 108}, {\"color\": \"red\", \"source\": 43, \"target\": 34}, {\"color\": \"blue\", \"source\": 43, \"target\": 48}, {\"color\": \"red\", \"source\": 43, \"target\": 20}, {\"color\": \"blue\", \"source\": 43, \"target\": 38}, {\"color\": \"red\", \"source\": 43, \"target\": 13}, {\"color\": \"red\", \"source\": 43, \"target\": 13}, {\"color\": \"red\", \"source\": 50, \"target\": 57}, {\"color\": \"red\", \"source\": 50, \"target\": 101}, {\"color\": \"red\", \"source\": 50, \"target\": 66}, {\"color\": \"red\", \"source\": 50, \"target\": 67}, {\"color\": \"blue\", \"source\": 50, \"target\": 48}, {\"color\": \"red\", \"source\": 50, \"target\": 61}, {\"color\": \"red\", \"source\": 50, \"target\": 103}, {\"color\": \"red\", \"source\": 65, \"target\": 32}, {\"color\": \"blue\", \"source\": 65, \"target\": 43}, {\"color\": \"red\", \"source\": 65, \"target\": 73}, {\"color\": \"red\", \"source\": 65, \"target\": 73}, {\"color\": \"red\", \"source\": 65, \"target\": 66}, {\"color\": \"red\", \"source\": 65, \"target\": 66}, {\"color\": \"blue\", \"source\": 65, \"target\": 35}, {\"color\": \"red\", \"source\": 65, \"target\": 90}, {\"color\": \"red\", \"source\": 65, \"target\": 57}, {\"color\": \"red\", \"source\": 65, \"target\": 57}, {\"color\": \"red\", \"source\": 65, \"target\": 58}, {\"color\": \"blue\", \"source\": 65, \"target\": 6}, {\"color\": \"red\", \"source\": 65, \"target\": 67}, {\"color\": \"red\", \"source\": 65, \"target\": 67}, {\"color\": \"blue\", \"source\": 65, \"target\": 48}, {\"color\": \"blue\", \"source\": 65, \"target\": 48}, {\"color\": \"red\", \"source\": 65, \"target\": 77}, {\"color\": \"blue\", \"source\": 65, \"target\": 19}, {\"color\": \"red\", \"source\": 65, \"target\": 20}, {\"color\": \"blue\", \"source\": 65, \"target\": 27}, {\"color\": \"blue\", \"source\": 65, \"target\": 83}, {\"color\": \"blue\", \"source\": 65, \"target\": 109}, {\"color\": \"blue\", \"source\": 68, \"target\": 73}, {\"color\": \"red\", \"source\": 71, \"target\": 90}, {\"color\": \"red\", \"source\": 73, \"target\": 90}, {\"color\": \"red\", \"source\": 73, \"target\": 101}, {\"color\": \"red\", \"source\": 73, \"target\": 65}, {\"color\": \"red\", \"source\": 73, \"target\": 65}, {\"color\": \"red\", \"source\": 73, \"target\": 75}, {\"color\": \"red\", \"source\": 73, \"target\": 15}, {\"color\": \"red\", \"source\": 73, \"target\": 35}, {\"color\": \"red\", \"source\": 73, \"target\": 80}, {\"color\": \"red\", \"source\": 73, \"target\": 96}, {\"color\": \"red\", \"source\": 73, \"target\": 58}, {\"color\": \"red\", \"source\": 73, \"target\": 6}, {\"color\": \"red\", \"source\": 73, \"target\": 78}, {\"color\": \"red\", \"source\": 73, \"target\": 103}, {\"color\": \"red\", \"source\": 73, \"target\": 48}, {\"color\": \"blue\", \"source\": 73, \"target\": 77}, {\"color\": \"red\", \"source\": 73, \"target\": 19}, {\"color\": \"blue\", \"source\": 73, \"target\": 68}, {\"color\": \"red\", \"source\": 73, \"target\": 20}, {\"color\": \"red\", \"source\": 73, \"target\": 13}, {\"color\": \"red\", \"source\": 73, \"target\": 79}, {\"color\": \"red\", \"source\": 88, \"target\": 0}, {\"color\": \"blue\", \"source\": 88, \"target\": 1}, {\"color\": \"red\", \"source\": 88, \"target\": 2}, {\"color\": \"red\", \"source\": 88, \"target\": 3}, {\"color\": \"red\", \"source\": 88, \"target\": 4}, {\"color\": \"blue\", \"source\": 88, \"target\": 5}, {\"color\": \"blue\", \"source\": 88, \"target\": 5}, {\"color\": \"blue\", \"source\": 88, \"target\": 6}, {\"color\": \"blue\", \"source\": 88, \"target\": 6}, {\"color\": \"blue\", \"source\": 88, \"target\": 6}, {\"color\": \"blue\", \"source\": 88, \"target\": 7}, {\"color\": \"blue\", \"source\": 88, \"target\": 7}, {\"color\": \"blue\", \"source\": 88, \"target\": 8}, {\"color\": \"blue\", \"source\": 88, \"target\": 8}, {\"color\": \"red\", \"source\": 88, \"target\": 9}, {\"color\": \"red\", \"source\": 88, \"target\": 10}, {\"color\": \"red\", \"source\": 88, \"target\": 11}, {\"color\": \"red\", \"source\": 88, \"target\": 12}, {\"color\": \"red\", \"source\": 88, \"target\": 13}, {\"color\": \"red\", \"source\": 88, \"target\": 14}, {\"color\": \"red\", \"source\": 88, \"target\": 15}, {\"color\": \"blue\", \"source\": 88, \"target\": 16}, {\"color\": \"blue\", \"source\": 88, \"target\": 16}, {\"color\": \"red\", \"source\": 88, \"target\": 17}, {\"color\": \"red\", \"source\": 88, \"target\": 18}, {\"color\": \"red\", \"source\": 88, \"target\": 19}, {\"color\": \"red\", \"source\": 88, \"target\": 20}, {\"color\": \"red\", \"source\": 88, \"target\": 21}, {\"color\": \"red\", \"source\": 88, \"target\": 22}, {\"color\": \"red\", \"source\": 88, \"target\": 22}, {\"color\": \"red\", \"source\": 88, \"target\": 23}, {\"color\": \"blue\", \"source\": 88, \"target\": 24}, {\"color\": \"blue\", \"source\": 88, \"target\": 25}, {\"color\": \"red\", \"source\": 88, \"target\": 26}, {\"color\": \"blue\", \"source\": 88, \"target\": 27}, {\"color\": \"blue\", \"source\": 88, \"target\": 28}, {\"color\": \"blue\", \"source\": 88, \"target\": 28}, {\"color\": \"red\", \"source\": 88, \"target\": 29}, {\"color\": \"blue\", \"source\": 88, \"target\": 30}, {\"color\": \"blue\", \"source\": 88, \"target\": 31}, {\"color\": \"red\", \"source\": 88, \"target\": 32}, {\"color\": \"red\", \"source\": 88, \"target\": 33}, {\"color\": \"red\", \"source\": 88, \"target\": 34}, {\"color\": \"blue\", \"source\": 88, \"target\": 35}, {\"color\": \"red\", \"source\": 88, \"target\": 36}, {\"color\": \"red\", \"source\": 88, \"target\": 37}, {\"color\": \"blue\", \"source\": 88, \"target\": 38}, {\"color\": \"red\", \"source\": 88, \"target\": 39}, {\"color\": \"red\", \"source\": 88, \"target\": 40}, {\"color\": \"red\", \"source\": 88, \"target\": 41}, {\"color\": \"blue\", \"source\": 88, \"target\": 42}, {\"color\": \"blue\", \"source\": 88, \"target\": 42}, {\"color\": \"red\", \"source\": 88, \"target\": 43}, {\"color\": \"red\", \"source\": 88, \"target\": 43}, {\"color\": \"red\", \"source\": 88, \"target\": 44}, {\"color\": \"red\", \"source\": 88, \"target\": 45}, {\"color\": \"blue\", \"source\": 88, \"target\": 46}, {\"color\": \"blue\", \"source\": 88, \"target\": 47}, {\"color\": \"blue\", \"source\": 88, \"target\": 47}, {\"color\": \"blue\", \"source\": 88, \"target\": 48}, {\"color\": \"red\", \"source\": 88, \"target\": 49}, {\"color\": \"red\", \"source\": 88, \"target\": 50}, {\"color\": \"blue\", \"source\": 88, \"target\": 51}, {\"color\": \"red\", \"source\": 88, \"target\": 52}, {\"color\": \"red\", \"source\": 88, \"target\": 53}, {\"color\": \"red\", \"source\": 88, \"target\": 54}, {\"color\": \"red\", \"source\": 88, \"target\": 55}, {\"color\": \"red\", \"source\": 88, \"target\": 56}, {\"color\": \"blue\", \"source\": 88, \"target\": 57}, {\"color\": \"red\", \"source\": 88, \"target\": 58}, {\"color\": \"red\", \"source\": 88, \"target\": 59}, {\"color\": \"red\", \"source\": 88, \"target\": 60}, {\"color\": \"red\", \"source\": 88, \"target\": 61}, {\"color\": \"red\", \"source\": 88, \"target\": 62}, {\"color\": \"red\", \"source\": 88, \"target\": 63}, {\"color\": \"blue\", \"source\": 88, \"target\": 64}, {\"color\": \"red\", \"source\": 88, \"target\": 65}, {\"color\": \"blue\", \"source\": 88, \"target\": 66}, {\"color\": \"blue\", \"source\": 88, \"target\": 66}, {\"color\": \"blue\", \"source\": 88, \"target\": 67}, {\"color\": \"blue\", \"source\": 88, \"target\": 67}, {\"color\": \"red\", \"source\": 88, \"target\": 68}, {\"color\": \"red\", \"source\": 88, \"target\": 69}, {\"color\": \"red\", \"source\": 88, \"target\": 70}, {\"color\": \"red\", \"source\": 88, \"target\": 71}, {\"color\": \"blue\", \"source\": 88, \"target\": 72}, {\"color\": \"blue\", \"source\": 88, \"target\": 73}, {\"color\": \"blue\", \"source\": 88, \"target\": 74}, {\"color\": \"blue\", \"source\": 88, \"target\": 74}, {\"color\": \"blue\", \"source\": 88, \"target\": 75}, {\"color\": \"blue\", \"source\": 88, \"target\": 75}, {\"color\": \"red\", \"source\": 88, \"target\": 76}, {\"color\": \"blue\", \"source\": 88, \"target\": 77}, {\"color\": \"blue\", \"source\": 88, \"target\": 78}, {\"color\": \"blue\", \"source\": 88, \"target\": 78}, {\"color\": \"blue\", \"source\": 88, \"target\": 79}, {\"color\": \"blue\", \"source\": 88, \"target\": 79}, {\"color\": \"blue\", \"source\": 88, \"target\": 80}, {\"color\": \"blue\", \"source\": 88, \"target\": 80}, {\"color\": \"blue\", \"source\": 88, \"target\": 81}, {\"color\": \"red\", \"source\": 88, \"target\": 82}, {\"color\": \"blue\", \"source\": 88, \"target\": 83}, {\"color\": \"blue\", \"source\": 88, \"target\": 84}, {\"color\": \"red\", \"source\": 88, \"target\": 85}, {\"color\": \"red\", \"source\": 88, \"target\": 86}, {\"color\": \"red\", \"source\": 88, \"target\": 87}, {\"color\": \"blue\", \"source\": 88, \"target\": 89}, {\"color\": \"red\", \"source\": 88, \"target\": 90}, {\"color\": \"red\", \"source\": 88, \"target\": 91}, {\"color\": \"red\", \"source\": 88, \"target\": 92}, {\"color\": \"blue\", \"source\": 88, \"target\": 93}, {\"color\": \"blue\", \"source\": 88, \"target\": 93}, {\"color\": \"red\", \"source\": 88, \"target\": 94}, {\"color\": \"blue\", \"source\": 88, \"target\": 95}, {\"color\": \"blue\", \"source\": 88, \"target\": 95}, {\"color\": \"red\", \"source\": 88, \"target\": 96}, {\"color\": \"blue\", \"source\": 88, \"target\": 97}, {\"color\": \"blue\", \"source\": 88, \"target\": 97}, {\"color\": \"blue\", \"source\": 88, \"target\": 98}, {\"color\": \"blue\", \"source\": 88, \"target\": 98}, {\"color\": \"blue\", \"source\": 88, \"target\": 99}, {\"color\": \"blue\", \"source\": 88, \"target\": 99}, {\"color\": \"blue\", \"source\": 88, \"target\": 100}, {\"color\": \"blue\", \"source\": 88, \"target\": 101}, {\"color\": \"blue\", \"source\": 88, \"target\": 102}, {\"color\": \"red\", \"source\": 88, \"target\": 103}, {\"color\": \"blue\", \"source\": 88, \"target\": 104}, {\"color\": \"blue\", \"source\": 88, \"target\": 104}, {\"color\": \"red\", \"source\": 88, \"target\": 105}, {\"color\": \"red\", \"source\": 88, \"target\": 106}, {\"color\": \"red\", \"source\": 88, \"target\": 107}, {\"color\": \"blue\", \"source\": 88, \"target\": 108}, {\"color\": \"blue\", \"source\": 88, \"target\": 108}, {\"color\": \"red\", \"source\": 88, \"target\": 109}, {\"color\": \"red\", \"source\": 90, \"target\": 17}, {\"color\": \"red\", \"source\": 90, \"target\": 34}, {\"color\": \"blue\", \"source\": 90, \"target\": 35}, {\"color\": \"red\", \"source\": 90, \"target\": 4}, {\"color\": \"red\", \"source\": 90, \"target\": 85}, {\"color\": \"red\", \"source\": 90, \"target\": 86}, {\"color\": \"blue\", \"source\": 90, \"target\": 5}, {\"color\": \"blue\", \"source\": 90, \"target\": 5}, {\"color\": \"blue\", \"source\": 90, \"target\": 6}, {\"color\": \"blue\", \"source\": 90, \"target\": 6}, {\"color\": \"blue\", \"source\": 90, \"target\": 7}, {\"color\": \"blue\", \"source\": 90, \"target\": 7}, {\"color\": \"blue\", \"source\": 90, \"target\": 8}, {\"color\": \"blue\", \"source\": 90, \"target\": 8}, {\"color\": \"red\", \"source\": 90, \"target\": 60}, {\"color\": \"red\", \"source\": 90, \"target\": 60}, {\"color\": \"red\", \"source\": 90, \"target\": 61}, {\"color\": \"red\", \"source\": 90, \"target\": 62}, {\"color\": \"red\", \"source\": 90, \"target\": 63}, {\"color\": \"red\", \"source\": 90, \"target\": 44}, {\"color\": \"red\", \"source\": 90, \"target\": 39}, {\"color\": \"red\", \"source\": 90, \"target\": 65}, {\"color\": \"red\", \"source\": 90, \"target\": 14}, {\"color\": \"red\", \"source\": 90, \"target\": 15}, {\"color\": \"blue\", \"source\": 90, \"target\": 66}, {\"color\": \"blue\", \"source\": 90, \"target\": 66}, {\"color\": \"blue\", \"source\": 90, \"target\": 67}, {\"color\": \"blue\", \"source\": 90, \"target\": 67}, {\"color\": \"red\", \"source\": 90, \"target\": 69}, {\"color\": \"red\", \"source\": 90, \"target\": 69}, {\"color\": \"red\", \"source\": 90, \"target\": 70}, {\"color\": \"red\", \"source\": 90, \"target\": 3}, {\"color\": \"red\", \"source\": 90, \"target\": 21}, {\"color\": \"red\", \"source\": 90, \"target\": 22}, {\"color\": \"red\", \"source\": 90, \"target\": 22}, {\"color\": \"red\", \"source\": 90, \"target\": 91}, {\"color\": \"red\", \"source\": 90, \"target\": 71}, {\"color\": \"red\", \"source\": 90, \"target\": 45}, {\"color\": \"blue\", \"source\": 90, \"target\": 47}, {\"color\": \"blue\", \"source\": 90, \"target\": 47}, {\"color\": \"red\", \"source\": 90, \"target\": 26}, {\"color\": \"red\", \"source\": 90, \"target\": 73}, {\"color\": \"blue\", \"source\": 90, \"target\": 42}, {\"color\": \"blue\", \"source\": 90, \"target\": 42}, {\"color\": \"blue\", \"source\": 90, \"target\": 28}, {\"color\": \"blue\", \"source\": 90, \"target\": 28}, {\"color\": \"red\", \"source\": 90, \"target\": 58}, {\"color\": \"blue\", \"source\": 90, \"target\": 74}, {\"color\": \"blue\", \"source\": 90, \"target\": 74}, {\"color\": \"blue\", \"source\": 90, \"target\": 75}, {\"color\": \"blue\", \"source\": 90, \"target\": 75}, {\"color\": \"red\", \"source\": 90, \"target\": 18}, {\"color\": \"red\", \"source\": 90, \"target\": 108}, {\"color\": \"red\", \"source\": 90, \"target\": 108}, {\"color\": \"red\", \"source\": 90, \"target\": 109}, {\"color\": \"red\", \"source\": 102, \"target\": 37}, {\"color\": \"red\", \"source\": 102, \"target\": 48}, {\"color\": \"red\", \"source\": 103, \"target\": 43}, {\"color\": \"red\", \"source\": 103, \"target\": 50}, {\"color\": \"red\", \"source\": 103, \"target\": 75}, {\"color\": \"red\", \"source\": 103, \"target\": 24}, {\"color\": \"red\", \"source\": 103, \"target\": 35}, {\"color\": \"red\", \"source\": 103, \"target\": 36}, {\"color\": \"red\", \"source\": 103, \"target\": 106}, {\"color\": \"red\", \"source\": 103, \"target\": 47}, {\"color\": \"red\", \"source\": 103, \"target\": 58}, {\"color\": \"red\", \"source\": 103, \"target\": 6}, {\"color\": \"blue\", \"source\": 103, \"target\": 48}, {\"color\": \"blue\", \"source\": 103, \"target\": 19}, {\"color\": \"red\", \"source\": 103, \"target\": 20}, {\"color\": \"red\", \"source\": 103, \"target\": 20}, {\"color\": \"red\", \"source\": 103, \"target\": 73}, {\"color\": \"red\", \"source\": 103, \"target\": 69}, {\"color\": \"red\", \"source\": 103, \"target\": 57}, {\"color\": \"red\", \"source\": 105, \"target\": 39}, {\"color\": \"red\", \"source\": 105, \"target\": 2}, {\"color\": \"blue\", \"source\": 105, \"target\": 15}, {\"color\": \"blue\", \"source\": 105, \"target\": 15}, {\"color\": \"red\", \"source\": 105, \"target\": 35}, {\"color\": \"red\", \"source\": 105, \"target\": 80}, {\"color\": \"red\", \"source\": 105, \"target\": 16}, {\"color\": \"blue\", \"source\": 105, \"target\": 6}, {\"color\": \"red\", \"source\": 105, \"target\": 78}, {\"color\": \"red\", \"source\": 105, \"target\": 31}, {\"color\": \"red\", \"source\": 105, \"target\": 17}, {\"color\": \"blue\", \"source\": 105, \"target\": 24}, {\"color\": \"red\", \"source\": 105, \"target\": 19}, {\"color\": \"red\", \"source\": 105, \"target\": 20}, {\"color\": \"red\", \"source\": 109, \"target\": 20}, {\"color\": \"blue\", \"source\": 109, \"target\": 65}, {\"color\": \"red\", \"source\": 109, \"target\": 90}]);}</script><iframe name=\"style_file68\" src=\"style_file68.html\" width=\"100%;\" height=\"805px\"></iframe></body></html>"
      ],
      "text/plain": [
       "<IPython.core.display.HTML object>"
      ]
     },
     "execution_count": 18,
     "metadata": {},
     "output_type": "execute_result"
    }
   ],
   "source": [
    "urb.vis_tf_network('FOXO3',\n",
    "                   directed_edges = True,\n",
    "                   node_spacing = 2300,\n",
    "                   graph_id = 68) "
   ]
  },
  {
   "cell_type": "code",
   "execution_count": null,
   "metadata": {
    "collapsed": true
   },
   "outputs": [],
   "source": []
  }
 ],
 "metadata": {
  "kernelspec": {
   "display_name": "Python 2",
   "language": "python",
   "name": "python2"
  },
  "language_info": {
   "codemirror_mode": {
    "name": "ipython",
    "version": 2
   },
   "file_extension": ".py",
   "mimetype": "text/x-python",
   "name": "python",
   "nbconvert_exporter": "python",
   "pygments_lexer": "ipython2",
   "version": "2.7.14"
  }
 },
 "nbformat": 4,
 "nbformat_minor": 2
}
