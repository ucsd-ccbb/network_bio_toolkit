{
 "cells": [
  {
   "cell_type": "markdown",
   "metadata": {},
   "source": [
    "# Upstream Regulator Analysis Package\n",
    "## Arthritis Case Study\n",
    "\n",
    "----------------------\n",
    "\n",
    "Author: Mikayla Webster (m1webste@ucsd.edu)\n",
    "\n",
    "Date: 19th January, 2018\n",
    "\n",
    "----------------------\n",
    "\n",
    "<a id='toc'></a>\n",
    "## Table of Contents\n",
    "1. [Background](#background)\n",
    "2. [Import packages](#import)\n",
    "3. [Load Networks](#load)\n",
    "6. [P-value and Z-score Calculation](#pz)\n",
    "7. [Compare the Ingenuity Article's results to Ours](#comp)\n",
    "8. [Display Our results](#display)"
   ]
  },
  {
   "cell_type": "markdown",
   "metadata": {},
   "source": [
    "## Background\n",
    "<a id='background'></a>\n",
    "\n",
    "Need some info about where these genes come from. Also Some feedback from Katie and Adam on motivation will go good here!"
   ]
  },
  {
   "cell_type": "markdown",
   "metadata": {},
   "source": [
    "## Import packages\n",
    "<a id='import'></a>"
   ]
  },
  {
   "cell_type": "code",
   "execution_count": 1,
   "metadata": {
    "collapsed": true
   },
   "outputs": [],
   "source": [
    "import networkx as nx\n",
    "import pandas as pd\n",
    "import numpy as np\n",
    "import matplotlib.pyplot as plt\n",
    "import mygene\n",
    "\n",
    "# import upstream regulator modules\n",
    "import sys\n",
    "code_path = '../ura'\n",
    "sys.path.append(code_path)\n",
    "import create_graph\n",
    "import stat_analysis\n",
    "reload(create_graph)\n",
    "reload(stat_analysis)\n",
    "\n",
    "# network visualization package\n",
    "import visJS2jupyter.visJS_module as visJS_module # >> pip install visJS2jupyter"
   ]
  },
  {
   "cell_type": "code",
   "execution_count": 2,
   "metadata": {
    "collapsed": true
   },
   "outputs": [],
   "source": [
    "# User preferences\n",
    "symbol = 'symbol'\n",
    "entrez = 'entrez'\n",
    "\n",
    "gene_type = symbol"
   ]
  },
  {
   "cell_type": "markdown",
   "metadata": {},
   "source": [
    "## Load Networks\n",
    "<a id='load'></a>\n",
    "\n",
    "1. List of all **Transcription Factors** (TF's) or regulators of interest to us\n",
    "    <br>\n",
    "    - Our sources are [slowkow](https://github.com/slowkow/tftargets) and [jaspar](http://jaspar.genereg.net/) TF databases\n",
    "    <br><br>\n",
    "2. **Background Network**: [STRING human protein interactions network](https://string-db.org/cgi/download.pl?UserId=9BGA8WkVMRl6&sessionId=HWUK6Dum9xC6&species_text=Homo+sapiens)  \n",
    "    - Filter our background network down to just the sub network of TF's and their targets\n",
    "    <br><br>\n",
    "3. User-supplied list of **Differentially Expressed Genes** (DEG's)"
   ]
  },
  {
   "cell_type": "code",
   "execution_count": 3,
   "metadata": {},
   "outputs": [
    {
     "name": "stdout",
     "output_type": "stream",
     "text": [
      "Number of TF's: 3983\n"
     ]
    }
   ],
   "source": [
    "# transcription factors\n",
    "TF_list = create_graph.easy_load_TF_list(slowkow_bool=True, jaspar_bool=True, gene_type = gene_type)\n",
    "print \"Number of TF's: \" + str(len(TF_list))"
   ]
  },
  {
   "cell_type": "code",
   "execution_count": 30,
   "metadata": {},
   "outputs": [
    {
     "name": "stdout",
     "output_type": "stream",
     "text": [
      "querying 1-1000...done.\n",
      "querying 1001-2000...done.\n",
      "querying 2001-3000...done.\n",
      "querying 3001-4000...done.\n",
      "querying 4001-5000...done.\n",
      "querying 5001-6000...done.\n",
      "querying 6001-7000...done.\n",
      "querying 7001-7374...done.\n",
      "Finished.\n",
      "56 input query terms found dup hits:\n",
      "\t[(u'ENSP00000359550', 3), (u'ENSP00000447879', 2), (u'ENSP00000364076', 2), (u'ENSP00000348986', 2),\n",
      "312 input query terms found no hit:\n",
      "\t[u'ENSP00000376684', u'ENSP00000289352', u'ENSP00000202788', u'ENSP00000373637', u'ENSP00000367802',\n",
      "Pass \"returnall=True\" to return complete lists of duplicate or missing query terms.\n",
      "\n",
      "Number of interactions: 28939\n"
     ]
    }
   ],
   "source": [
    "# background network\n",
    "filename = \"../background_networks/9606.protein.actions.v10.5.txt\"\n",
    "confidence_filter = 400\n",
    "DG_TF, DG_universe = create_graph.load_STRING_to_digraph(filename, TF_list, confidence_filter, gene_type)\n",
    "\n",
    "print \"\\nNumber of interactions: \" + str(len(list(DG_TF.edges())))"
   ]
  },
  {
   "cell_type": "code",
   "execution_count": 31,
   "metadata": {},
   "outputs": [
    {
     "name": "stdout",
     "output_type": "stream",
     "text": [
      "Number of DEG's: 1456\n"
     ]
    }
   ],
   "source": [
    "# differentially expressed genes\n",
    "reload(create_graph)\n",
    "DEG_filename = \"../DEG_databases/DE_Coeff_OAvsNormal_OAvsNormal_20171215.csv\" \n",
    "DEG_list, DG_TF = create_graph.create_DEG_list(DEG_filename, DG_TF, # adding DEG up-down information to our graph\n",
    "                                               p_value_filter = 0.05, # p < 0.05\n",
    "                                               fold_change_filter = 1, # |fld| > 1\n",
    "                                               gene_type = gene_type)\n",
    "\n",
    "DEG_full_graph, DEG_to_pvalue, DEG_to_updown = create_graph.create_DEG_full_graph(DEG_filename, gene_type = gene_type)\n",
    "\n",
    "print \"Number of DEG's: \" + str(len(DEG_list))"
   ]
  },
  {
   "cell_type": "markdown",
   "metadata": {},
   "source": [
    "## P-values and Z-score Calculation\n",
    "<a id='pz'></a>\n",
    "\n",
    "1. **P-values**: How relevant is a TF to its DEG targets? Are they connected by chance, or is their connection statistically significant?\n",
    "    <br>\n",
    "    1. -log(p-value) for each TF using [scipy.stats.hypergeom.logsf](https://docs.scipy.org/doc/scipy-0.19.1/reference/generated/scipy.stats.hypergeom.html).\n",
    "        1. high value = significant connection between this TF and its DEG targets\n",
    "        2. low value = TF is randomly associated with its DEG targets\n",
    "        3. zero = None of this TF's targets were DEG's\n",
    "        4. inf = original p-value was so small that its log is inf. Very high significance.\n",
    "        <br><br>\n",
    "2. **Z-scores**: Goal is to predict the activation states of the TF's\n",
    "\n",
    "    - activation states: interaction type/regulation direction = predicted state\n",
    "        - activating/up  = activating\n",
    "        - activating/down = inhibiting\n",
    "        - inhibiting/up = inhibiting\n",
    "        - inhibiting/down = activating\n",
    "        <br><br>\n",
    "    - unbiased vs biased calculations:\n",
    "        - **unbiased calculation**: Assume a normal distribution of activating and inhibiting states \n",
    "        - **biased calculation**: For the case when you cannot assume a 50-50 split between up/down-regulated targets and activating/inhbiting interactions. Modify our formula to approximate a normal distribution."
   ]
  },
  {
   "cell_type": "code",
   "execution_count": 6,
   "metadata": {
    "scrolled": true
   },
   "outputs": [
    {
     "data": {
      "text/plain": [
       "TF_ENRICHMENT    4.114487e-12\n",
       "dtype: float64"
      ]
     },
     "execution_count": 6,
     "metadata": {},
     "output_type": "execute_result"
    }
   ],
   "source": [
    "# Enrichment of every TF with respect to its targets\n",
    "p_values = stat_analysis.tf_target_enrichment(DG_TF, DG_universe, DEG_list)\n",
    "\n",
    "# Enrichment of TF's themselves\n",
    "stat_analysis.tf_enrichment(TF_list, DEG_full_graph, DEG_list)    "
   ]
  },
  {
   "cell_type": "code",
   "execution_count": 7,
   "metadata": {
    "collapsed": true
   },
   "outputs": [],
   "source": [
    "z_scores = stat_analysis.tf_zscore(DG_TF, DEG_list, bias_filter = 0.25) # recommended bias filter is 0.25"
   ]
  },
  {
   "cell_type": "markdown",
   "metadata": {},
   "source": [
    "## Display Our Results\n",
    "- Display TF's with top z-scores\n",
    "- Display where certain TF's rank among others and overall according to z-score\n",
    "- Display subnetwork of a particular TF and its targets"
   ]
  },
  {
   "cell_type": "code",
   "execution_count": 8,
   "metadata": {},
   "outputs": [
    {
     "data": {
      "text/html": [
       "<div>\n",
       "<style>\n",
       "    .dataframe thead tr:only-child th {\n",
       "        text-align: right;\n",
       "    }\n",
       "\n",
       "    .dataframe thead th {\n",
       "        text-align: left;\n",
       "    }\n",
       "\n",
       "    .dataframe tbody tr th {\n",
       "        vertical-align: top;\n",
       "    }\n",
       "</style>\n",
       "<table border=\"1\" class=\"dataframe\">\n",
       "  <thead>\n",
       "    <tr style=\"text-align: right;\">\n",
       "      <th></th>\n",
       "      <th>z-score</th>\n",
       "      <th>(adj) p-value</th>\n",
       "      <th>(log) fold change</th>\n",
       "    </tr>\n",
       "  </thead>\n",
       "  <tbody>\n",
       "    <tr>\n",
       "      <th>RBL2</th>\n",
       "      <td>-3.162278</td>\n",
       "      <td>0.129498</td>\n",
       "      <td>-0.830733</td>\n",
       "    </tr>\n",
       "    <tr>\n",
       "      <th>STAT1</th>\n",
       "      <td>2.840188</td>\n",
       "      <td>0.826469</td>\n",
       "      <td>0.063822</td>\n",
       "    </tr>\n",
       "    <tr>\n",
       "      <th>GLI2</th>\n",
       "      <td>-2.828427</td>\n",
       "      <td>0.172742</td>\n",
       "      <td>-0.554695</td>\n",
       "    </tr>\n",
       "    <tr>\n",
       "      <th>FOXO3</th>\n",
       "      <td>-2.710687</td>\n",
       "      <td>0.000292</td>\n",
       "      <td>-1.125810</td>\n",
       "    </tr>\n",
       "    <tr>\n",
       "      <th>CLIP1</th>\n",
       "      <td>2.672612</td>\n",
       "      <td>0.042270</td>\n",
       "      <td>-0.521127</td>\n",
       "    </tr>\n",
       "    <tr>\n",
       "      <th>CKAP5</th>\n",
       "      <td>2.672612</td>\n",
       "      <td>0.866232</td>\n",
       "      <td>-0.071815</td>\n",
       "    </tr>\n",
       "    <tr>\n",
       "      <th>MAD1L1</th>\n",
       "      <td>2.672612</td>\n",
       "      <td>0.039497</td>\n",
       "      <td>-0.561039</td>\n",
       "    </tr>\n",
       "    <tr>\n",
       "      <th>CENPA</th>\n",
       "      <td>2.672612</td>\n",
       "      <td>NaN</td>\n",
       "      <td>NaN</td>\n",
       "    </tr>\n",
       "    <tr>\n",
       "      <th>BUB3</th>\n",
       "      <td>2.672612</td>\n",
       "      <td>0.045374</td>\n",
       "      <td>0.264598</td>\n",
       "    </tr>\n",
       "    <tr>\n",
       "      <th>AHCTF1</th>\n",
       "      <td>2.672612</td>\n",
       "      <td>0.043979</td>\n",
       "      <td>-0.401034</td>\n",
       "    </tr>\n",
       "  </tbody>\n",
       "</table>\n",
       "</div>"
      ],
      "text/plain": [
       "         z-score  (adj) p-value  (log) fold change\n",
       "RBL2   -3.162278       0.129498          -0.830733\n",
       "STAT1   2.840188       0.826469           0.063822\n",
       "GLI2   -2.828427       0.172742          -0.554695\n",
       "FOXO3  -2.710687       0.000292          -1.125810\n",
       "CLIP1   2.672612       0.042270          -0.521127\n",
       "CKAP5   2.672612       0.866232          -0.071815\n",
       "MAD1L1  2.672612       0.039497          -0.561039\n",
       "CENPA   2.672612            NaN                NaN\n",
       "BUB3    2.672612       0.045374           0.264598\n",
       "AHCTF1  2.672612       0.043979          -0.401034"
      ]
     },
     "metadata": {},
     "output_type": "display_data"
    }
   ],
   "source": [
    "top_overall = stat_analysis.top_values(z_scores, DEG_to_pvalue, DEG_to_updown, act = False, abs_value = True, top = 10)\n",
    "display(top_overall)"
   ]
  },
  {
   "cell_type": "code",
   "execution_count": 9,
   "metadata": {},
   "outputs": [
    {
     "data": {
      "text/html": [
       "<div>\n",
       "<style>\n",
       "    .dataframe thead tr:only-child th {\n",
       "        text-align: right;\n",
       "    }\n",
       "\n",
       "    .dataframe thead th {\n",
       "        text-align: left;\n",
       "    }\n",
       "\n",
       "    .dataframe tbody tr th {\n",
       "        vertical-align: top;\n",
       "    }\n",
       "</style>\n",
       "<table border=\"1\" class=\"dataframe\">\n",
       "  <thead>\n",
       "    <tr style=\"text-align: right;\">\n",
       "      <th></th>\n",
       "      <th>rank</th>\n",
       "      <th>z-score</th>\n",
       "    </tr>\n",
       "  </thead>\n",
       "  <tbody>\n",
       "    <tr>\n",
       "      <th>RBL2</th>\n",
       "      <td>0</td>\n",
       "      <td>-3.162278</td>\n",
       "    </tr>\n",
       "    <tr>\n",
       "      <th>STAT1</th>\n",
       "      <td>1</td>\n",
       "      <td>2.840188</td>\n",
       "    </tr>\n",
       "    <tr>\n",
       "      <th>STAT5B</th>\n",
       "      <td>7</td>\n",
       "      <td>2.500000</td>\n",
       "    </tr>\n",
       "    <tr>\n",
       "      <th>CEBPB</th>\n",
       "      <td>29</td>\n",
       "      <td>-1.632993</td>\n",
       "    </tr>\n",
       "    <tr>\n",
       "      <th>HIF1A</th>\n",
       "      <td>37</td>\n",
       "      <td>-1.333333</td>\n",
       "    </tr>\n",
       "    <tr>\n",
       "      <th>TLE3</th>\n",
       "      <td>46</td>\n",
       "      <td>-1.000000</td>\n",
       "    </tr>\n",
       "    <tr>\n",
       "      <th>KLF4</th>\n",
       "      <td>49</td>\n",
       "      <td>-0.832050</td>\n",
       "    </tr>\n",
       "    <tr>\n",
       "      <th>TP53</th>\n",
       "      <td>65</td>\n",
       "      <td>0.321634</td>\n",
       "    </tr>\n",
       "    <tr>\n",
       "      <th>HOXA4</th>\n",
       "      <td>70</td>\n",
       "      <td>0.000000</td>\n",
       "    </tr>\n",
       "  </tbody>\n",
       "</table>\n",
       "</div>"
      ],
      "text/plain": [
       "        rank   z-score\n",
       "RBL2       0 -3.162278\n",
       "STAT1      1  2.840188\n",
       "STAT5B     7  2.500000\n",
       "CEBPB     29 -1.632993\n",
       "HIF1A     37 -1.333333\n",
       "TLE3      46 -1.000000\n",
       "KLF4      49 -0.832050\n",
       "TP53      65  0.321634\n",
       "HOXA4     70  0.000000"
      ]
     },
     "execution_count": 9,
     "metadata": {},
     "output_type": "execute_result"
    }
   ],
   "source": [
    "# Ranking (in this case from 0 to 168)\n",
    "genes_to_rank = ['HOXA4', 'CEBPB', 'HIF1A','KLF4', 'TLE3', 'RBL2','TP53', 'STAT1', 'STAT5B']\n",
    "stat_analysis.rank_and_score_df(z_scores, genes_to_rank, act = True, abs_value = True, remove_dups=True)"
   ]
  },
  {
   "cell_type": "code",
   "execution_count": 10,
   "metadata": {},
   "outputs": [
    {
     "data": {
      "text/html": [
       "<!doctype html><html><head>  <title>Network | Basic usage</title></head><body><script type=\"text/javascript\">function setUpFrame() {     var frame = window.frames[\"style_file2\"];    frame.runVis([{\"node_shape\": \"circle\", \"degree\": 3.0, \"title\": \"BIRC5\", \"color\": \"grey\", \"size_field\": 3.5228016057745535, \"y\": 953.7338032257744, \"x\": 824.0679848574248, \"border_width\": 0, \"id\": \"BIRC5\"}, {\"node_shape\": \"circle\", \"degree\": 3.0, \"title\": \"SOX9\", \"color\": \"rgba(0, 0, 256, 1.0)\", \"size_field\": 3.5769707222965987, \"y\": 1366.581938108791, \"x\": 579.3429739154593, \"border_width\": 2, \"id\": \"SOX9\"}, {\"node_shape\": \"circle\", \"degree\": 3.0, \"title\": \"EGF\", \"color\": \"grey\", \"size_field\": 2.385515432800544, \"y\": 202.70473056673092, \"x\": 1207.7285525449147, \"border_width\": 0, \"id\": \"EGF\"}, {\"node_shape\": \"circle\", \"degree\": 3.0, \"title\": \"SOX4\", \"color\": \"grey\", \"size_field\": 3.4312917270506267, \"y\": 637.9574419124993, \"x\": 1211.4168175317097, \"border_width\": 0, \"id\": \"SOX4\"}, {\"node_shape\": \"circle\", \"degree\": 3.0, \"title\": \"CEBPB\", \"color\": \"rgba(256, 196, 196, 1.0)\", \"size_field\": 3.8042369907391675, \"y\": 76.21985118903493, \"x\": 545.4330327973906, \"border_width\": 2, \"id\": \"CEBPB\"}, {\"node_shape\": \"circle\", \"degree\": 3.0, \"title\": \"NANOG\", \"color\": \"grey\", \"size_field\": 2.5963835121276375, \"y\": 443.83726913388205, \"x\": 279.4339921259389, \"border_width\": 0, \"id\": \"NANOG\"}, {\"node_shape\": \"circle\", \"degree\": 3.0, \"title\": \"CEBPD\", \"color\": \"grey\", \"size_field\": 2.3874287456220658, \"y\": 132.73069614409232, \"x\": 1061.9059118331068, \"border_width\": 0, \"id\": \"CEBPD\"}, {\"node_shape\": \"circle\", \"degree\": 3.0, \"title\": \"FYN\", \"color\": \"grey\", \"size_field\": 3.171182981502945, \"y\": 913.6757585259495, \"x\": 1075.7707211665372, \"border_width\": 0, \"id\": \"FYN\"}, {\"node_shape\": \"star\", \"degree\": 3.0, \"title\": \"KLF5\", \"color\": \"rgba(90, 90, 256, 1.0)\", \"size_field\": 12.835315552148087, \"y\": 587.4899752711469, \"x\": 707.3139656229955, \"border_width\": 0, \"id\": \"KLF5\"}, {\"node_shape\": \"circle\", \"degree\": 3.0, \"title\": \"CDH1\", \"color\": \"grey\", \"size_field\": 2.655080979753489, \"y\": 663.7489501474837, \"x\": 578.8148706584668, \"border_width\": 0, \"id\": \"CDH1\"}, {\"node_shape\": \"circle\", \"degree\": 3.0, \"title\": \"MYC\", \"color\": \"rgba(256, 0, 0, 1.0)\", \"size_field\": 4.296603021316498, \"y\": 493.65087364754766, \"x\": 1296.497125524253, \"border_width\": 2, \"id\": \"MYC\"}, {\"node_shape\": \"circle\", \"degree\": 3.0, \"title\": \"DUSP1\", \"color\": \"rgba(0, 0, 256, 1.0)\", \"size_field\": 3.9848588991938882, \"y\": 905.487283619841, \"x\": 1500.0, \"border_width\": 2, \"id\": \"DUSP1\"}, {\"node_shape\": \"circle\", \"degree\": 3.0, \"title\": \"PDGFA\", \"color\": \"grey\", \"size_field\": 2.171856506946191, \"y\": 420.86609105124313, \"x\": 0.0, \"border_width\": 0, \"id\": \"PDGFA\"}, {\"node_shape\": \"circle\", \"degree\": 3.0, \"title\": \"PDGFB\", \"color\": \"grey\", \"size_field\": 2.855195632514344, \"y\": 102.17217300650948, \"x\": 694.3260269621252, \"border_width\": 0, \"id\": \"PDGFB\"}, {\"node_shape\": \"circle\", \"degree\": 3.0, \"title\": \"IGF1\", \"color\": \"rgba(0, 0, 256, 1.0)\", \"size_field\": 2.838635487308551, \"y\": 812.0139726569047, \"x\": 903.9063685578581, \"border_width\": 2, \"id\": \"IGF1\"}, {\"node_shape\": \"circle\", \"degree\": 3.0, \"title\": \"FOXD3\", \"color\": \"grey\", \"size_field\": 3.068277088872037, \"y\": 647.9670553978909, \"x\": 71.42509498102416, \"border_width\": 0, \"id\": \"FOXD3\"}, {\"node_shape\": \"circle\", \"degree\": 3.0, \"title\": \"PPARG\", \"color\": \"grey\", \"size_field\": 2.6806259000062735, \"y\": 0.0, \"x\": 853.293087186008, \"border_width\": 0, \"id\": \"PPARG\"}, {\"node_shape\": \"circle\", \"degree\": 3.0, \"title\": \"PPARA\", \"color\": \"grey\", \"size_field\": 2.2568296089690163, \"y\": 962.4674836207339, \"x\": 1323.1241831287502, \"border_width\": 0, \"id\": \"PPARA\"}, {\"node_shape\": \"circle\", \"degree\": 3.0, \"title\": \"STAT3\", \"color\": \"grey\", \"size_field\": 3.0067626350382306, \"y\": 330.7498790886864, \"x\": 839.7358783737412, \"border_width\": 0, \"id\": \"STAT3\"}, {\"node_shape\": \"circle\", \"degree\": 3.0, \"title\": \"FGF2\", \"color\": \"grey\", \"size_field\": 2.64855629723207, \"y\": 859.1843380055229, \"x\": 625.634091014974, \"border_width\": 0, \"id\": \"FGF2\"}, {\"node_shape\": \"circle\", \"degree\": 3.0, \"title\": \"CCND1\", \"color\": \"rgba(216, 216, 256, 1.0)\", \"size_field\": 3.2437536743377806, \"y\": 353.58226941344066, \"x\": 1130.9695849136915, \"border_width\": 2, \"id\": \"CCND1\"}, {\"node_shape\": \"circle\", \"degree\": 3.0, \"title\": \"RUNX2\", \"color\": \"grey\", \"size_field\": 2.741497441500992, \"y\": 1264.5863681494027, \"x\": 347.71980302814023, \"border_width\": 0, \"id\": \"RUNX2\"}, {\"node_shape\": \"circle\", \"degree\": 3.0, \"title\": \"WWOX\", \"color\": \"grey\", \"size_field\": 4.835315552148087, \"y\": 141.6261733069032, \"x\": 226.25556892450078, \"border_width\": 0, \"id\": \"WWOX\"}, {\"node_shape\": \"circle\", \"degree\": 3.0, \"title\": \"LPAR3\", \"color\": \"grey\", \"size_field\": 2.654888468442855, \"y\": 1007.4958084113424, \"x\": 65.01849840164569, \"border_width\": 0, \"id\": \"LPAR3\"}], [{\"color\": \"blue\", \"source\": 1, \"target\": 9}, {\"color\": \"blue\", \"source\": 1, \"target\": 21}, {\"color\": \"blue\", \"source\": 1, \"target\": 8}, {\"color\": \"red\", \"source\": 1, \"target\": 14}, {\"color\": \"red\", \"source\": 1, \"target\": 19}, {\"color\": \"red\", \"source\": 3, \"target\": 8}, {\"color\": \"red\", \"source\": 3, \"target\": 18}, {\"color\": \"red\", \"source\": 4, \"target\": 16}, {\"color\": \"red\", \"source\": 4, \"target\": 8}, {\"color\": \"red\", \"source\": 4, \"target\": 18}, {\"color\": \"red\", \"source\": 5, \"target\": 8}, {\"color\": \"blue\", \"source\": 5, \"target\": 18}, {\"color\": \"red\", \"source\": 5, \"target\": 15}, {\"color\": \"red\", \"source\": 5, \"target\": 15}, {\"color\": \"red\", \"source\": 5, \"target\": 19}, {\"color\": \"red\", \"source\": 6, \"target\": 16}, {\"color\": \"red\", \"source\": 6, \"target\": 8}, {\"color\": \"red\", \"source\": 6, \"target\": 14}, {\"color\": \"red\", \"source\": 6, \"target\": 18}, {\"color\": \"blue\", \"source\": 6, \"target\": 10}, {\"color\": \"red\", \"source\": 8, \"target\": 0}, {\"color\": \"blue\", \"source\": 8, \"target\": 1}, {\"color\": \"red\", \"source\": 8, \"target\": 2}, {\"color\": \"red\", \"source\": 8, \"target\": 3}, {\"color\": \"red\", \"source\": 8, \"target\": 4}, {\"color\": \"red\", \"source\": 8, \"target\": 5}, {\"color\": \"red\", \"source\": 8, \"target\": 6}, {\"color\": \"red\", \"source\": 8, \"target\": 7}, {\"color\": \"red\", \"source\": 8, \"target\": 9}, {\"color\": \"red\", \"source\": 8, \"target\": 10}, {\"color\": \"red\", \"source\": 8, \"target\": 11}, {\"color\": \"red\", \"source\": 8, \"target\": 12}, {\"color\": \"red\", \"source\": 8, \"target\": 13}, {\"color\": \"red\", \"source\": 8, \"target\": 14}, {\"color\": \"blue\", \"source\": 8, \"target\": 15}, {\"color\": \"red\", \"source\": 8, \"target\": 16}, {\"color\": \"red\", \"source\": 8, \"target\": 17}, {\"color\": \"red\", \"source\": 8, \"target\": 18}, {\"color\": \"red\", \"source\": 8, \"target\": 19}, {\"color\": \"red\", \"source\": 8, \"target\": 20}, {\"color\": \"red\", \"source\": 8, \"target\": 21}, {\"color\": \"blue\", \"source\": 8, \"target\": 22}, {\"color\": \"red\", \"source\": 8, \"target\": 23}, {\"color\": \"red\", \"source\": 10, \"target\": 14}, {\"color\": \"red\", \"source\": 10, \"target\": 14}, {\"color\": \"red\", \"source\": 10, \"target\": 18}, {\"color\": \"blue\", \"source\": 10, \"target\": 6}, {\"color\": \"red\", \"source\": 10, \"target\": 20}, {\"color\": \"red\", \"source\": 10, \"target\": 0}, {\"color\": \"blue\", \"source\": 10, \"target\": 19}, {\"color\": \"red\", \"source\": 10, \"target\": 8}, {\"color\": \"blue\", \"source\": 10, \"target\": 17}, {\"color\": \"blue\", \"source\": 10, \"target\": 9}, {\"color\": \"red\", \"source\": 10, \"target\": 2}, {\"color\": \"blue\", \"source\": 15, \"target\": 8}, {\"color\": \"red\", \"source\": 15, \"target\": 5}, {\"color\": \"red\", \"source\": 15, \"target\": 5}, {\"color\": \"red\", \"source\": 16, \"target\": 4}, {\"color\": \"red\", \"source\": 16, \"target\": 8}, {\"color\": \"blue\", \"source\": 16, \"target\": 2}, {\"color\": \"red\", \"source\": 16, \"target\": 6}, {\"color\": \"blue\", \"source\": 17, \"target\": 10}, {\"color\": \"blue\", \"source\": 17, \"target\": 11}, {\"color\": \"red\", \"source\": 17, \"target\": 8}, {\"color\": \"red\", \"source\": 18, \"target\": 4}, {\"color\": \"red\", \"source\": 18, \"target\": 13}, {\"color\": \"blue\", \"source\": 18, \"target\": 5}, {\"color\": \"red\", \"source\": 18, \"target\": 6}, {\"color\": \"blue\", \"source\": 18, \"target\": 20}, {\"color\": \"blue\", \"source\": 18, \"target\": 20}, {\"color\": \"blue\", \"source\": 18, \"target\": 0}, {\"color\": \"red\", \"source\": 18, \"target\": 7}, {\"color\": \"red\", \"source\": 18, \"target\": 19}, {\"color\": \"red\", \"source\": 18, \"target\": 8}, {\"color\": \"blue\", \"source\": 18, \"target\": 9}, {\"color\": \"red\", \"source\": 18, \"target\": 10}, {\"color\": \"red\", \"source\": 18, \"target\": 2}, {\"color\": \"red\", \"source\": 18, \"target\": 3}, {\"color\": \"red\", \"source\": 21, \"target\": 0}, {\"color\": \"blue\", \"source\": 21, \"target\": 1}, {\"color\": \"red\", \"source\": 21, \"target\": 8}, {\"color\": \"red\", \"source\": 21, \"target\": 14}, {\"color\": \"blue\", \"source\": 21, \"target\": 19}, {\"color\": \"red\", \"source\": 22, \"target\": 9}, {\"color\": \"blue\", \"source\": 22, \"target\": 8}]);}</script><iframe name=\"style_file2\" src=\"style_file2.html\" width=\"100%;\" height=\"805px\"></iframe></body></html>"
      ],
      "text/plain": [
       "<IPython.core.display.HTML object>"
      ]
     },
     "execution_count": 10,
     "metadata": {},
     "output_type": "execute_result"
    }
   ],
   "source": [
    "stat_analysis.vis_tf_network(DG_TF, 'KLF5', '../DEG_databases/geo2r_GSE11352_brca_48hours.txt', DEG_list,\n",
    "              directed_edges = False,\n",
    "              node_spacing = 1500,\n",
    "              color_non_DEGs = False,\n",
    "              graph_id = 2) "
   ]
  },
  {
   "cell_type": "code",
   "execution_count": 11,
   "metadata": {},
   "outputs": [
    {
     "data": {
      "text/html": [
       "<!doctype html><html><head>  <title>Network | Basic usage</title></head><body><script type=\"text/javascript\">function setUpFrame() {     var frame = window.frames[\"style_file1\"];    frame.runVis([{\"node_shape\": \"circle\", \"degree\": 3.0, \"title\": \"BCL2L1\", \"color\": \"grey\", \"size_field\": 3.897786873873585, \"y\": 1094.5668547012658, \"x\": 515.9376548339018, \"border_width\": 0, \"id\": \"BCL2L1\"}, {\"node_shape\": \"circle\", \"degree\": 3.0, \"title\": \"HAMP\", \"color\": \"grey\", \"size_field\": 2.2073932412229778, \"y\": 1370.9750608153809, \"x\": 1119.7009539685266, \"border_width\": 0, \"id\": \"HAMP\"}, {\"node_shape\": \"circle\", \"degree\": 3.0, \"title\": \"TBX21\", \"color\": \"grey\", \"size_field\": 2.006018072325563, \"y\": 1587.7138689867393, \"x\": 1092.3805758348242, \"border_width\": 0, \"id\": \"TBX21\"}, {\"node_shape\": \"circle\", \"degree\": 3.0, \"title\": \"IL6ST\", \"color\": \"grey\", \"size_field\": 3.253163048516708, \"y\": 344.4495034851716, \"x\": 962.4707373496444, \"border_width\": 0, \"id\": \"IL6ST\"}, {\"node_shape\": \"circle\", \"degree\": 3.0, \"title\": \"IFNAR2\", \"color\": \"grey\", \"size_field\": 3.311929279164584, \"y\": 1717.9202886805597, \"x\": 52.526222863641166, \"border_width\": 0, \"id\": \"IFNAR2\"}, {\"node_shape\": \"circle\", \"degree\": 3.0, \"title\": \"EPO\", \"color\": \"grey\", \"size_field\": 2.2529586363933953, \"y\": 1406.456724859725, \"x\": 937.8385749378587, \"border_width\": 0, \"id\": \"EPO\"}, {\"node_shape\": \"circle\", \"degree\": 3.0, \"title\": \"IL22\", \"color\": \"grey\", \"size_field\": 2.450357876998901, \"y\": 472.4744232750183, \"x\": 631.4629005920007, \"border_width\": 0, \"id\": \"IL22\"}, {\"node_shape\": \"circle\", \"degree\": 3.0, \"title\": \"IL27\", \"color\": \"grey\", \"size_field\": 2.816671666845443, \"y\": 936.488734196536, \"x\": 416.58402808798, \"border_width\": 0, \"id\": \"IL27\"}, {\"node_shape\": \"circle\", \"degree\": 3.0, \"title\": \"TYK2\", \"color\": \"grey\", \"size_field\": 2.0214279474136205, \"y\": 1291.8835606344396, \"x\": 718.8315223015385, \"border_width\": 0, \"id\": \"TYK2\"}, {\"node_shape\": \"circle\", \"degree\": 3.0, \"title\": \"EGF\", \"color\": \"grey\", \"size_field\": 2.385515432800544, \"y\": 1750.0074397383626, \"x\": 362.7803722902531, \"border_width\": 0, \"id\": \"EGF\"}, {\"node_shape\": \"circle\", \"degree\": 3.0, \"title\": \"IL12RB1\", \"color\": \"grey\", \"size_field\": 2.708260818369993, \"y\": 1506.260924759311, \"x\": 1239.0060982955274, \"border_width\": 0, \"id\": \"IL12RB1\"}, {\"node_shape\": \"circle\", \"degree\": 3.0, \"title\": \"ZNF148\", \"color\": \"grey\", \"size_field\": 3.1564532883579597, \"y\": 36.767591238895136, \"x\": 1907.1165365876377, \"border_width\": 0, \"id\": \"ZNF148\"}, {\"node_shape\": \"circle\", \"degree\": 3.0, \"title\": \"IL12RB2\", \"color\": \"grey\", \"size_field\": 2.028502360472712, \"y\": 1254.8400452152282, \"x\": 1339.9758687628625, \"border_width\": 0, \"id\": \"IL12RB2\"}, {\"node_shape\": \"circle\", \"degree\": 3.0, \"title\": \"FADD\", \"color\": \"grey\", \"size_field\": 3.2786963505218725, \"y\": 1388.8942736587067, \"x\": 907.982190696029, \"border_width\": 0, \"id\": \"FADD\"}, {\"node_shape\": \"circle\", \"degree\": 3.0, \"title\": \"LYN\", \"color\": \"grey\", \"size_field\": 4.698595042331455, \"y\": 1026.0314005981334, \"x\": 1580.7796399049507, \"border_width\": 0, \"id\": \"LYN\"}, {\"node_shape\": \"circle\", \"degree\": 3.0, \"title\": \"IFNG\", \"color\": \"grey\", \"size_field\": 3.6184786570862495, \"y\": 1428.0895308664155, \"x\": 737.001871348617, \"border_width\": 0, \"id\": \"IFNG\"}, {\"node_shape\": \"circle\", \"degree\": 3.0, \"title\": \"CAMK2G\", \"color\": \"grey\", \"size_field\": 3.1818852078619315, \"y\": 1061.9758004684766, \"x\": 901.9616690912725, \"border_width\": 0, \"id\": \"CAMK2G\"}, {\"node_shape\": \"circle\", \"degree\": 3.0, \"title\": \"CAMK2A\", \"color\": \"grey\", \"size_field\": 2.9088187170354542, \"y\": 863.9812241799182, \"x\": 824.591048703062, \"border_width\": 0, \"id\": \"CAMK2A\"}, {\"node_shape\": \"circle\", \"degree\": 3.0, \"title\": \"IFI30\", \"color\": \"rgba(0, 0, 256, 1.0)\", \"size_field\": 2.9848803134313155, \"y\": 1650.6390341979165, \"x\": 777.9979071506265, \"border_width\": 2, \"id\": \"IFI30\"}, {\"node_shape\": \"circle\", \"degree\": 3.0, \"title\": \"SP7\", \"color\": \"grey\", \"size_field\": 2.1966233415048144, \"y\": 1459.391550922487, \"x\": 1567.0922719043133, \"border_width\": 0, \"id\": \"SP7\"}, {\"node_shape\": \"circle\", \"degree\": 3.0, \"title\": \"CXCL12\", \"color\": \"grey\", \"size_field\": 5.329807385575482, \"y\": 1387.6773077702076, \"x\": 529.0789562633903, \"border_width\": 0, \"id\": \"CXCL12\"}, {\"node_shape\": \"circle\", \"degree\": 3.0, \"title\": \"GATA3\", \"color\": \"grey\", \"size_field\": 4.9132310520422475, \"y\": 1705.8356956533476, \"x\": 810.5080849652213, \"border_width\": 0, \"id\": \"GATA3\"}, {\"node_shape\": \"circle\", \"degree\": 3.0, \"title\": \"SOCS5\", \"color\": \"grey\", \"size_field\": 3.1014162160008443, \"y\": 1562.5307919879297, \"x\": 0.0, \"border_width\": 0, \"id\": \"SOCS5\"}, {\"node_shape\": \"circle\", \"degree\": 3.0, \"title\": \"SOCS4\", \"color\": \"grey\", \"size_field\": 2.755235372873367, \"y\": 239.09124164830584, \"x\": 1836.6933973030393, \"border_width\": 0, \"id\": \"SOCS4\"}, {\"node_shape\": \"circle\", \"degree\": 3.0, \"title\": \"XAF1\", \"color\": \"grey\", \"size_field\": 2.7225759912507574, \"y\": 1127.3082021954112, \"x\": 341.79915272033946, \"border_width\": 0, \"id\": \"XAF1\"}, {\"node_shape\": \"circle\", \"degree\": 3.0, \"title\": \"SOCS6\", \"color\": \"grey\", \"size_field\": 3.835711356757238, \"y\": 987.5403642285771, \"x\": 1373.6304387807006, \"border_width\": 0, \"id\": \"SOCS6\"}, {\"node_shape\": \"circle\", \"degree\": 3.0, \"title\": \"SOCS1\", \"color\": \"grey\", \"size_field\": 3.795767490625594, \"y\": 905.2833387215353, \"x\": 872.3706651964801, \"border_width\": 0, \"id\": \"SOCS1\"}, {\"node_shape\": \"circle\", \"degree\": 3.0, \"title\": \"SOCS3\", \"color\": \"rgba(0, 0, 256, 1.0)\", \"size_field\": 4.292634762140878, \"y\": 1375.2423088235912, \"x\": 464.056876660285, \"border_width\": 2, \"id\": \"SOCS3\"}, {\"node_shape\": \"circle\", \"degree\": 3.0, \"title\": \"SOCS2\", \"color\": \"grey\", \"size_field\": 5.44201937618241, \"y\": 836.2969546360816, \"x\": 1247.0696025863529, \"border_width\": 0, \"id\": \"SOCS2\"}, {\"node_shape\": \"circle\", \"degree\": 3.0, \"title\": \"EIF2A\", \"color\": \"grey\", \"size_field\": 2.384486701722973, \"y\": 551.9574622144927, \"x\": 376.9496679039328, \"border_width\": 0, \"id\": \"EIF2A\"}, {\"node_shape\": \"circle\", \"degree\": 3.0, \"title\": \"KIT\", \"color\": \"rgba(256, 216, 216, 1.0)\", \"size_field\": 2.538196820562123, \"y\": 1177.0799536119014, \"x\": 110.36212274747776, \"border_width\": 2, \"id\": \"KIT\"}, {\"node_shape\": \"circle\", \"degree\": 3.0, \"title\": \"IFNAR1\", \"color\": \"grey\", \"size_field\": 2.410226425209875, \"y\": 346.39274048707546, \"x\": 1164.6728938663057, \"border_width\": 0, \"id\": \"IFNAR1\"}, {\"node_shape\": \"circle\", \"degree\": 3.0, \"title\": \"CYLD\", \"color\": \"grey\", \"size_field\": 2.938025224020161, \"y\": 1252.4159235444731, \"x\": 486.93658215219443, \"border_width\": 0, \"id\": \"CYLD\"}, {\"node_shape\": \"circle\", \"degree\": 3.0, \"title\": \"CSF2RB\", \"color\": \"grey\", \"size_field\": 2.073754188588662, \"y\": 60.54677195501697, \"x\": 906.1713041678057, \"border_width\": 0, \"id\": \"CSF2RB\"}, {\"node_shape\": \"circle\", \"degree\": 3.0, \"title\": \"TNFSF10\", \"color\": \"grey\", \"size_field\": 3.7909597890574904, \"y\": 1477.570606805464, \"x\": 450.7382503878174, \"border_width\": 0, \"id\": \"TNFSF10\"}, {\"node_shape\": \"circle\", \"degree\": 3.0, \"title\": \"MMP10\", \"color\": \"grey\", \"size_field\": 2.098715972939158, \"y\": 922.7713509974112, \"x\": 1921.7572124670025, \"border_width\": 0, \"id\": \"MMP10\"}, {\"node_shape\": \"circle\", \"degree\": 3.0, \"title\": \"IL10RA\", \"color\": \"grey\", \"size_field\": 2.2975977372391574, \"y\": 138.88125591617776, \"x\": 775.3523524746895, \"border_width\": 0, \"id\": \"IL10RA\"}, {\"node_shape\": \"circle\", \"degree\": 3.0, \"title\": \"ALB\", \"color\": \"grey\", \"size_field\": 2.6020275871924614, \"y\": 571.3634582688558, \"x\": 983.3112846289034, \"border_width\": 0, \"id\": \"ALB\"}, {\"node_shape\": \"circle\", \"degree\": 3.0, \"title\": \"CCR7\", \"color\": \"grey\", \"size_field\": 2.8615658321849087, \"y\": 1674.8186213480521, \"x\": 684.5063657280817, \"border_width\": 0, \"id\": \"CCR7\"}, {\"node_shape\": \"circle\", \"degree\": 3.0, \"title\": \"TRAF2\", \"color\": \"grey\", \"size_field\": 2.4193105149302174, \"y\": 1348.7315498858509, \"x\": 625.8213774192565, \"border_width\": 0, \"id\": \"TRAF2\"}, {\"node_shape\": \"circle\", \"degree\": 3.0, \"title\": \"CSF2\", \"color\": \"grey\", \"size_field\": 2.5040155318374415, \"y\": 1428.2750268412315, \"x\": 788.2906213686462, \"border_width\": 0, \"id\": \"CSF2\"}, {\"node_shape\": \"circle\", \"degree\": 3.0, \"title\": \"IFNGR2\", \"color\": \"grey\", \"size_field\": 2.6256754654449326, \"y\": 102.85506544678125, \"x\": 1019.4061631681864, \"border_width\": 0, \"id\": \"IFNGR2\"}, {\"node_shape\": \"circle\", \"degree\": 3.0, \"title\": \"PIAS2\", \"color\": \"grey\", \"size_field\": 3.4346446220609375, \"y\": 1123.2863503327856, \"x\": 303.3655087975881, \"border_width\": 0, \"id\": \"PIAS2\"}, {\"node_shape\": \"circle\", \"degree\": 3.0, \"title\": \"DMBT1\", \"color\": \"rgba(74, 74, 256, 1.0)\", \"size_field\": 2.2990801174041504, \"y\": 834.9494882227871, \"x\": 197.56488971867338, \"border_width\": 2, \"id\": \"DMBT1\"}, {\"node_shape\": \"circle\", \"degree\": 3.0, \"title\": \"JAK2\", \"color\": \"grey\", \"size_field\": 3.5050778971098575, \"y\": 1350.680836257088, \"x\": 506.77832208006333, \"border_width\": 0, \"id\": \"JAK2\"}, {\"node_shape\": \"circle\", \"degree\": 3.0, \"title\": \"JAK3\", \"color\": \"rgba(0, 0, 256, 1.0)\", \"size_field\": 3.5329399414613754, \"y\": 781.748940666128, \"x\": 599.8756193433023, \"border_width\": 2, \"id\": \"JAK3\"}, {\"node_shape\": \"circle\", \"degree\": 3.0, \"title\": \"JAK1\", \"color\": \"grey\", \"size_field\": 3.653389799963283, \"y\": 818.9256788603051, \"x\": 1012.0858677986757, \"border_width\": 0, \"id\": \"JAK1\"}, {\"node_shape\": \"circle\", \"degree\": 3.0, \"title\": \"IL22RA1\", \"color\": \"grey\", \"size_field\": 2.0180621428184087, \"y\": 1660.925191352453, \"x\": 475.57493079982186, \"border_width\": 0, \"id\": \"IL22RA1\"}, {\"node_shape\": \"circle\", \"degree\": 3.0, \"title\": \"FOS\", \"color\": \"rgba(192, 192, 256, 1.0)\", \"size_field\": 4.371935171128839, \"y\": 1202.8158853064808, \"x\": 1142.4764586619424, \"border_width\": 2, \"id\": \"FOS\"}, {\"node_shape\": \"circle\", \"degree\": 3.0, \"title\": \"IGFBP3\", \"color\": \"rgba(0, 0, 256, 1.0)\", \"size_field\": 4.647896278282463, \"y\": 1147.387434152882, \"x\": 1025.511435447414, \"border_width\": 2, \"id\": \"IGFBP3\"}, {\"node_shape\": \"circle\", \"degree\": 3.0, \"title\": \"VEGFA\", \"color\": \"rgba(136, 136, 256, 1.0)\", \"size_field\": 3.525556428453398, \"y\": 1705.639920460395, \"x\": 278.12960537138173, \"border_width\": 2, \"id\": \"VEGFA\"}, {\"node_shape\": \"circle\", \"degree\": 3.0, \"title\": \"PTPN2\", \"color\": \"grey\", \"size_field\": 3.7153541380256496, \"y\": 975.6825226342377, \"x\": 572.3007222625375, \"border_width\": 0, \"id\": \"PTPN2\"}, {\"node_shape\": \"circle\", \"degree\": 3.0, \"title\": \"EPOR\", \"color\": \"grey\", \"size_field\": 3.926205565780978, \"y\": 749.9794592794418, \"x\": 885.1284202957569, \"border_width\": 0, \"id\": \"EPOR\"}, {\"node_shape\": \"circle\", \"degree\": 3.0, \"title\": \"IRF1\", \"color\": \"rgba(0, 0, 256, 1.0)\", \"size_field\": 4.02798826009092, \"y\": 1144.2564098454975, \"x\": 538.7031795597395, \"border_width\": 2, \"id\": \"IRF1\"}, {\"node_shape\": \"circle\", \"degree\": 3.0, \"title\": \"TP53\", \"color\": \"grey\", \"size_field\": 2.4205279857852102, \"y\": 1201.9880616670503, \"x\": 693.753508902905, \"border_width\": 0, \"id\": \"TP53\"}, {\"node_shape\": \"circle\", \"degree\": 3.0, \"title\": \"TNFRSF1A\", \"color\": \"grey\", \"size_field\": 2.0666741332679925, \"y\": 1503.0168603304257, \"x\": 948.8257628072288, \"border_width\": 0, \"id\": \"TNFRSF1A\"}, {\"node_shape\": \"circle\", \"degree\": 3.0, \"title\": \"CD274\", \"color\": \"grey\", \"size_field\": 2.857786002501592, \"y\": 1469.1813622243144, \"x\": 282.85241293048125, \"border_width\": 0, \"id\": \"CD274\"}, {\"node_shape\": \"circle\", \"degree\": 3.0, \"title\": \"SDC2\", \"color\": \"grey\", \"size_field\": 3.8042369907391675, \"y\": 1191.369718751615, \"x\": 1417.8764740452266, \"border_width\": 0, \"id\": \"SDC2\"}, {\"node_shape\": \"circle\", \"degree\": 3.0, \"title\": \"IRF8\", \"color\": \"grey\", \"size_field\": 2.7793588773790106, \"y\": 1391.7369996320326, \"x\": 201.05873959231957, \"border_width\": 0, \"id\": \"IRF8\"}, {\"node_shape\": \"circle\", \"degree\": 3.0, \"title\": \"LCK\", \"color\": \"grey\", \"size_field\": 3.3314274596790505, \"y\": 1306.946893491971, \"x\": 23.286260037952907, \"border_width\": 0, \"id\": \"LCK\"}, {\"node_shape\": \"circle\", \"degree\": 3.0, \"title\": \"CREBBP\", \"color\": \"grey\", \"size_field\": 2.796731496816516, \"y\": 1378.9548826562486, \"x\": 176.51498811402965, \"border_width\": 0, \"id\": \"CREBBP\"}, {\"node_shape\": \"circle\", \"degree\": 3.0, \"title\": \"PDGFRB\", \"color\": \"grey\", \"size_field\": 2.0648585723484962, \"y\": 749.382098042931, \"x\": 435.44921368785714, \"border_width\": 0, \"id\": \"PDGFRB\"}, {\"node_shape\": \"circle\", \"degree\": 3.0, \"title\": \"SMAD7\", \"color\": \"grey\", \"size_field\": 2.036871474775905, \"y\": 1120.7380962073423, \"x\": 1641.2333330852812, \"border_width\": 0, \"id\": \"SMAD7\"}, {\"node_shape\": \"circle\", \"degree\": 3.0, \"title\": \"MAPK14\", \"color\": \"grey\", \"size_field\": 2.3129315067052314, \"y\": 1304.9780186685934, \"x\": 803.6796492810605, \"border_width\": 0, \"id\": \"MAPK14\"}, {\"node_shape\": \"circle\", \"degree\": 3.0, \"title\": \"CSF2RA\", \"color\": \"grey\", \"size_field\": 2.3042180410918807, \"y\": 699.5419381317879, \"x\": 280.3777260465453, \"border_width\": 0, \"id\": \"CSF2RA\"}, {\"node_shape\": \"circle\", \"degree\": 3.0, \"title\": \"MAPK11\", \"color\": \"grey\", \"size_field\": 2.6025754823755585, \"y\": 1032.2132549159408, \"x\": 870.8047754221573, \"border_width\": 0, \"id\": \"MAPK11\"}, {\"node_shape\": \"circle\", \"degree\": 3.0, \"title\": \"MAPK12\", \"color\": \"grey\", \"size_field\": 2.880199911729801, \"y\": 929.6797890541903, \"x\": 656.5322855434704, \"border_width\": 0, \"id\": \"MAPK12\"}, {\"node_shape\": \"circle\", \"degree\": 3.0, \"title\": \"ARRB1\", \"color\": \"grey\", \"size_field\": 4.8895720777256, \"y\": 352.82969276379947, \"x\": 680.0142827055245, \"border_width\": 0, \"id\": \"ARRB1\"}, {\"node_shape\": \"circle\", \"degree\": 3.0, \"title\": \"CD86\", \"color\": \"grey\", \"size_field\": 2.958154935972854, \"y\": 215.77747335732576, \"x\": 934.8887121242977, \"border_width\": 0, \"id\": \"CD86\"}, {\"node_shape\": \"star\", \"degree\": 3.0, \"title\": \"STAT1\", \"color\": \"rgba(26, 26, 256, 1.0)\", \"size_field\": 13.44201937618241, \"y\": 463.5819595027983, \"x\": 1623.4651164104694, \"border_width\": 0, \"id\": \"STAT1\"}, {\"node_shape\": \"circle\", \"degree\": 3.0, \"title\": \"CIITA\", \"color\": \"grey\", \"size_field\": 2.7680862672244393, \"y\": 1430.6884394457986, \"x\": 227.8971295172709, \"border_width\": 0, \"id\": \"CIITA\"}, {\"node_shape\": \"circle\", \"degree\": 3.0, \"title\": \"TRADD\", \"color\": \"grey\", \"size_field\": 2.4903696151986083, \"y\": 1548.9583934028085, \"x\": 822.1498268821722, \"border_width\": 0, \"id\": \"TRADD\"}, {\"node_shape\": \"circle\", \"degree\": 3.0, \"title\": \"IFNB1\", \"color\": \"grey\", \"size_field\": 2.423272726758129, \"y\": 1390.8709945635967, \"x\": 636.4541106960461, \"border_width\": 0, \"id\": \"IFNB1\"}, {\"node_shape\": \"circle\", \"degree\": 3.0, \"title\": \"MAPK3\", \"color\": \"grey\", \"size_field\": 2.7052197617942144, \"y\": 1202.4121998973967, \"x\": 880.468936052221, \"border_width\": 0, \"id\": \"MAPK3\"}, {\"node_shape\": \"circle\", \"degree\": 3.0, \"title\": \"MAPK1\", \"color\": \"grey\", \"size_field\": 3.267978134301848, \"y\": 1329.5926764911615, \"x\": 776.4823592765705, \"border_width\": 0, \"id\": \"MAPK1\"}, {\"node_shape\": \"circle\", \"degree\": 3.0, \"title\": \"CISH\", \"color\": \"rgba(124, 124, 256, 1.0)\", \"size_field\": 3.9152839555135523, \"y\": 692.2980464871958, \"x\": 1222.6008951444696, \"border_width\": 2, \"id\": \"CISH\"}, {\"node_shape\": \"circle\", \"degree\": 3.0, \"title\": \"IL17A\", \"color\": \"grey\", \"size_field\": 3.8858503926276504, \"y\": 1115.9451763780623, \"x\": 1136.3089806415626, \"border_width\": 0, \"id\": \"IL17A\"}, {\"node_shape\": \"circle\", \"degree\": 3.0, \"title\": \"IL6R\", \"color\": \"rgba(116, 116, 256, 1.0)\", \"size_field\": 3.0255477178111043, \"y\": 583.23126793553, \"x\": 615.3354694271621, \"border_width\": 2, \"id\": \"IL6R\"}, {\"node_shape\": \"circle\", \"degree\": 3.0, \"title\": \"CCL2\", \"color\": \"grey\", \"size_field\": 2.089924707527987, \"y\": 1522.7643345449685, \"x\": 625.1140468184016, \"border_width\": 0, \"id\": \"CCL2\"}, {\"node_shape\": \"circle\", \"degree\": 3.0, \"title\": \"EP300\", \"color\": \"grey\", \"size_field\": 2.98886142470899, \"y\": 1244.2233732872803, \"x\": 973.6567481649699, \"border_width\": 0, \"id\": \"EP300\"}, {\"node_shape\": \"circle\", \"degree\": 3.0, \"title\": \"IL2RA\", \"color\": \"grey\", \"size_field\": 2.566690756607386, \"y\": 1029.4693804750473, \"x\": 783.8421128622193, \"border_width\": 0, \"id\": \"IL2RA\"}, {\"node_shape\": \"circle\", \"degree\": 3.0, \"title\": \"IL2RB\", \"color\": \"grey\", \"size_field\": 2.1068060043178094, \"y\": 1583.3308571153602, \"x\": 426.0077103290131, \"border_width\": 0, \"id\": \"IL2RB\"}, {\"node_shape\": \"circle\", \"degree\": 3.0, \"title\": \"IL2RG\", \"color\": \"grey\", \"size_field\": 2.6867675735959065, \"y\": 0.0, \"x\": 1425.420879895304, \"border_width\": 0, \"id\": \"IL2RG\"}, {\"node_shape\": \"circle\", \"degree\": 3.0, \"title\": \"IFNA1\", \"color\": \"grey\", \"size_field\": 2.2950424268580734, \"y\": 828.2911814535317, \"x\": 644.9065190903123, \"border_width\": 0, \"id\": \"IFNA1\"}, {\"node_shape\": \"circle\", \"degree\": 3.0, \"title\": \"IL13\", \"color\": \"grey\", \"size_field\": 2.243218715745261, \"y\": 1704.612501548716, \"x\": 544.2870345521501, \"border_width\": 0, \"id\": \"IL13\"}, {\"node_shape\": \"circle\", \"degree\": 3.0, \"title\": \"LMO4\", \"color\": \"grey\", \"size_field\": 2.7271177001310987, \"y\": 446.03553273284507, \"x\": 584.2534283739313, \"border_width\": 0, \"id\": \"LMO4\"}, {\"node_shape\": \"circle\", \"degree\": 3.0, \"title\": \"IL6\", \"color\": \"grey\", \"size_field\": 2.013591953519467, \"y\": 989.4864712498511, \"x\": 759.884551892419, \"border_width\": 0, \"id\": \"IL6\"}, {\"node_shape\": \"circle\", \"degree\": 3.0, \"title\": \"PIAS3\", \"color\": \"grey\", \"size_field\": 2.1428316491075425, \"y\": 967.5153987222719, \"x\": 498.8314086436248, \"border_width\": 0, \"id\": \"PIAS3\"}, {\"node_shape\": \"circle\", \"degree\": 3.0, \"title\": \"IL4\", \"color\": \"grey\", \"size_field\": 2.4980739398408276, \"y\": 1589.227305164351, \"x\": 584.2905757871624, \"border_width\": 0, \"id\": \"IL4\"}, {\"node_shape\": \"circle\", \"degree\": 3.0, \"title\": \"PIAS1\", \"color\": \"grey\", \"size_field\": 4.509609262428372, \"y\": 396.52540913540804, \"x\": 1178.3001779288857, \"border_width\": 0, \"id\": \"PIAS1\"}, {\"node_shape\": \"circle\", \"degree\": 3.0, \"title\": \"IL2\", \"color\": \"grey\", \"size_field\": 2.112944759016134, \"y\": 1128.4913978822212, \"x\": 1223.3570610661275, \"border_width\": 0, \"id\": \"IL2\"}, {\"node_shape\": \"circle\", \"degree\": 3.0, \"title\": \"PIAS4\", \"color\": \"grey\", \"size_field\": 2.475297617706845, \"y\": 825.5572316976425, \"x\": 573.410956831144, \"border_width\": 0, \"id\": \"PIAS4\"}, {\"node_shape\": \"circle\", \"degree\": 3.0, \"title\": \"EBI3\", \"color\": \"grey\", \"size_field\": 2.0781777810640243, \"y\": 1199.455760208244, \"x\": 1791.1314568669304, \"border_width\": 0, \"id\": \"EBI3\"}, {\"node_shape\": \"circle\", \"degree\": 3.0, \"title\": \"IFNGR1\", \"color\": \"grey\", \"size_field\": 3.229974606864937, \"y\": 331.3725049428362, \"x\": 2000.0, \"border_width\": 0, \"id\": \"IFNGR1\"}, {\"node_shape\": \"circle\", \"degree\": 3.0, \"title\": \"IDO1\", \"color\": \"grey\", \"size_field\": 2.670994375918812, \"y\": 112.49701406253725, \"x\": 1165.2266094891586, \"border_width\": 0, \"id\": \"IDO1\"}, {\"node_shape\": \"circle\", \"degree\": 3.0, \"title\": \"IL23A\", \"color\": \"grey\", \"size_field\": 2.5803543530848234, \"y\": 904.5740538307559, \"x\": 250.77445998548114, \"border_width\": 0, \"id\": \"IL23A\"}, {\"node_shape\": \"circle\", \"degree\": 3.0, \"title\": \"EGFR\", \"color\": \"grey\", \"size_field\": 2.941352162469526, \"y\": 1138.0600852491882, \"x\": 908.9956077359728, \"border_width\": 0, \"id\": \"EGFR\"}, {\"node_shape\": \"circle\", \"degree\": 3.0, \"title\": \"IL12B\", \"color\": \"grey\", \"size_field\": 2.182241559993784, \"y\": 1223.8740426653283, \"x\": 1334.151166313078, \"border_width\": 0, \"id\": \"IL12B\"}, {\"node_shape\": \"circle\", \"degree\": 3.0, \"title\": \"IL12A\", \"color\": \"grey\", \"size_field\": 2.4183983835200635, \"y\": 1443.8319056708021, \"x\": 1222.5941281500538, \"border_width\": 0, \"id\": \"IL12A\"}, {\"node_shape\": \"circle\", \"degree\": 3.0, \"title\": \"IL23R\", \"color\": \"grey\", \"size_field\": 2.395415772255163, \"y\": 1618.408893429074, \"x\": 1218.2727287430123, \"border_width\": 0, \"id\": \"IL23R\"}, {\"node_shape\": \"circle\", \"degree\": 3.0, \"title\": \"MPL\", \"color\": \"grey\", \"size_field\": 3.0903465442510774, \"y\": 947.0101470667604, \"x\": 1320.0924323419779, \"border_width\": 0, \"id\": \"MPL\"}, {\"node_shape\": \"circle\", \"degree\": 3.0, \"title\": \"FYN\", \"color\": \"grey\", \"size_field\": 3.171182981502945, \"y\": 910.4816663464273, \"x\": 1658.7158228444418, \"border_width\": 0, \"id\": \"FYN\"}, {\"node_shape\": \"circle\", \"degree\": 3.0, \"title\": \"THPO\", \"color\": \"grey\", \"size_field\": 2.6869663214848645, \"y\": 590.4876766765691, \"x\": 1031.7656169217562, \"border_width\": 0, \"id\": \"THPO\"}, {\"node_shape\": \"circle\", \"degree\": 3.0, \"title\": \"CAMK2D\", \"color\": \"grey\", \"size_field\": 3.579879110192556, \"y\": 1080.3551505791509, \"x\": 797.1439470353807, \"border_width\": 0, \"id\": \"CAMK2D\"}, {\"node_shape\": \"circle\", \"degree\": 3.0, \"title\": \"CXCR4\", \"color\": \"grey\", \"size_field\": 4.4001979218610465, \"y\": 1201.911863530497, \"x\": 1224.5481368342112, \"border_width\": 0, \"id\": \"CXCR4\"}, {\"node_shape\": \"circle\", \"degree\": 3.0, \"title\": \"PDGFB\", \"color\": \"grey\", \"size_field\": 2.855195632514344, \"y\": 231.11509605367746, \"x\": 830.9087065479306, \"border_width\": 0, \"id\": \"PDGFB\"}, {\"node_shape\": \"circle\", \"degree\": 3.0, \"title\": \"PRKCD\", \"color\": \"grey\", \"size_field\": 2.8512054852182205, \"y\": 718.0777257802054, \"x\": 419.9589565719368, \"border_width\": 0, \"id\": \"PRKCD\"}, {\"node_shape\": \"circle\", \"degree\": 3.0, \"title\": \"CAMK2B\", \"color\": \"grey\", \"size_field\": 3.8109422886448288, \"y\": 1066.2826341493471, \"x\": 669.5340681663823, \"border_width\": 0, \"id\": \"CAMK2B\"}, {\"node_shape\": \"circle\", \"degree\": 3.0, \"title\": \"CASP3\", \"color\": \"grey\", \"size_field\": 2.552342303968924, \"y\": 1217.6204781928516, \"x\": 590.7348900928145, \"border_width\": 0, \"id\": \"CASP3\"}, {\"node_shape\": \"circle\", \"degree\": 3.0, \"title\": \"CASP1\", \"color\": \"grey\", \"size_field\": 3.4722880742868667, \"y\": 753.2861211863151, \"x\": 1181.7678051243818, \"border_width\": 0, \"id\": \"CASP1\"}, {\"node_shape\": \"circle\", \"degree\": 3.0, \"title\": \"IL27RA\", \"color\": \"grey\", \"size_field\": 3.579879110192556, \"y\": 1346.7527088265995, \"x\": 1490.1696864030464, \"border_width\": 0, \"id\": \"IL27RA\"}, {\"node_shape\": \"circle\", \"degree\": 3.0, \"title\": \"MAPK13\", \"color\": \"grey\", \"size_field\": 2.9824305343787003, \"y\": 1388.5060931289238, \"x\": 1471.4399591982396, \"border_width\": 0, \"id\": \"MAPK13\"}, {\"node_shape\": \"circle\", \"degree\": 3.0, \"title\": \"BCL2\", \"color\": \"grey\", \"size_field\": 3.5186835491656363, \"y\": 943.1744783166745, \"x\": 730.0358685993675, \"border_width\": 0, \"id\": \"BCL2\"}], [{\"color\": \"red\", \"source\": 2, \"target\": 81}, {\"color\": \"red\", \"source\": 2, \"target\": 12}, {\"color\": \"red\", \"source\": 2, \"target\": 12}, {\"color\": \"blue\", \"source\": 2, \"target\": 76}, {\"color\": \"red\", \"source\": 2, \"target\": 15}, {\"color\": \"red\", \"source\": 2, \"target\": 15}, {\"color\": \"blue\", \"source\": 2, \"target\": 84}, {\"color\": \"red\", \"source\": 2, \"target\": 97}, {\"color\": \"red\", \"source\": 2, \"target\": 98}, {\"color\": \"red\", \"source\": 2, \"target\": 110}, {\"color\": \"red\", \"source\": 2, \"target\": 4}, {\"color\": \"red\", \"source\": 2, \"target\": 10}, {\"color\": \"blue\", \"source\": 2, \"target\": 88}, {\"color\": \"blue\", \"source\": 2, \"target\": 88}, {\"color\": \"blue\", \"source\": 2, \"target\": 27}, {\"color\": \"red\", \"source\": 2, \"target\": 44}, {\"color\": \"blue\", \"source\": 2, \"target\": 99}, {\"color\": \"blue\", \"source\": 2, \"target\": 90}, {\"color\": \"red\", \"source\": 2, \"target\": 8}, {\"color\": \"blue\", \"source\": 2, \"target\": 21}, {\"color\": \"blue\", \"source\": 2, \"target\": 21}, {\"color\": \"red\", \"source\": 19, \"target\": 50}, {\"color\": \"blue\", \"source\": 21, \"target\": 2}, {\"color\": \"blue\", \"source\": 21, \"target\": 2}, {\"color\": \"blue\", \"source\": 21, \"target\": 84}, {\"color\": \"red\", \"source\": 21, \"target\": 63}, {\"color\": \"blue\", \"source\": 21, \"target\": 5}, {\"color\": \"blue\", \"source\": 21, \"target\": 88}, {\"color\": \"blue\", \"source\": 21, \"target\": 88}, {\"color\": \"blue\", \"source\": 21, \"target\": 10}, {\"color\": \"blue\", \"source\": 21, \"target\": 15}, {\"color\": \"red\", \"source\": 21, \"target\": 79}, {\"color\": \"red\", \"source\": 48, \"target\": 0}, {\"color\": \"red\", \"source\": 48, \"target\": 78}, {\"color\": \"red\", \"source\": 48, \"target\": 78}, {\"color\": \"red\", \"source\": 48, \"target\": 34}, {\"color\": \"blue\", \"source\": 48, \"target\": 1}, {\"color\": \"red\", \"source\": 48, \"target\": 62}, {\"color\": \"blue\", \"source\": 48, \"target\": 96}, {\"color\": \"red\", \"source\": 48, \"target\": 97}, {\"color\": \"red\", \"source\": 48, \"target\": 98}, {\"color\": \"red\", \"source\": 48, \"target\": 63}, {\"color\": \"red\", \"source\": 48, \"target\": 63}, {\"color\": \"red\", \"source\": 48, \"target\": 5}, {\"color\": \"red\", \"source\": 48, \"target\": 65}, {\"color\": \"red\", \"source\": 48, \"target\": 66}, {\"color\": \"red\", \"source\": 48, \"target\": 111}, {\"color\": \"red\", \"source\": 48, \"target\": 8}, {\"color\": \"red\", \"source\": 48, \"target\": 9}, {\"color\": \"red\", \"source\": 48, \"target\": 10}, {\"color\": \"red\", \"source\": 48, \"target\": 12}, {\"color\": \"red\", \"source\": 48, \"target\": 101}, {\"color\": \"blue\", \"source\": 48, \"target\": 72}, {\"color\": \"red\", \"source\": 48, \"target\": 73}, {\"color\": \"red\", \"source\": 48, \"target\": 73}, {\"color\": \"red\", \"source\": 48, \"target\": 74}, {\"color\": \"red\", \"source\": 48, \"target\": 74}, {\"color\": \"red\", \"source\": 48, \"target\": 44}, {\"color\": \"blue\", \"source\": 48, \"target\": 46}, {\"color\": \"blue\", \"source\": 48, \"target\": 14}, {\"color\": \"red\", \"source\": 48, \"target\": 15}, {\"color\": \"blue\", \"source\": 48, \"target\": 16}, {\"color\": \"red\", \"source\": 48, \"target\": 80}, {\"color\": \"blue\", \"source\": 48, \"target\": 54}, {\"color\": \"blue\", \"source\": 48, \"target\": 54}, {\"color\": \"red\", \"source\": 48, \"target\": 57}, {\"color\": \"red\", \"source\": 48, \"target\": 84}, {\"color\": \"red\", \"source\": 48, \"target\": 40}, {\"color\": \"red\", \"source\": 48, \"target\": 40}, {\"color\": \"red\", \"source\": 48, \"target\": 86}, {\"color\": \"red\", \"source\": 48, \"target\": 86}, {\"color\": \"red\", \"source\": 48, \"target\": 88}, {\"color\": \"red\", \"source\": 48, \"target\": 88}, {\"color\": \"red\", \"source\": 48, \"target\": 90}, {\"color\": \"red\", \"source\": 48, \"target\": 90}, {\"color\": \"red\", \"source\": 49, \"target\": 54}, {\"color\": \"red\", \"source\": 49, \"target\": 57}, {\"color\": \"red\", \"source\": 49, \"target\": 79}, {\"color\": \"blue\", \"source\": 49, \"target\": 50}, {\"color\": \"blue\", \"source\": 49, \"target\": 50}, {\"color\": \"red\", \"source\": 53, \"target\": 34}, {\"color\": \"red\", \"source\": 53, \"target\": 26}, {\"color\": \"blue\", \"source\": 53, \"target\": 27}, {\"color\": \"red\", \"source\": 53, \"target\": 15}, {\"color\": \"red\", \"source\": 53, \"target\": 70}, {\"color\": \"red\", \"source\": 53, \"target\": 83}, {\"color\": \"red\", \"source\": 53, \"target\": 96}, {\"color\": \"red\", \"source\": 53, \"target\": 72}, {\"color\": \"red\", \"source\": 53, \"target\": 86}, {\"color\": \"blue\", \"source\": 53, \"target\": 88}, {\"color\": \"blue\", \"source\": 53, \"target\": 50}, {\"color\": \"red\", \"source\": 53, \"target\": 79}, {\"color\": \"red\", \"source\": 53, \"target\": 60}, {\"color\": \"red\", \"source\": 54, \"target\": 78}, {\"color\": \"red\", \"source\": 54, \"target\": 1}, {\"color\": \"red\", \"source\": 54, \"target\": 96}, {\"color\": \"red\", \"source\": 54, \"target\": 96}, {\"color\": \"red\", \"source\": 54, \"target\": 63}, {\"color\": \"red\", \"source\": 54, \"target\": 65}, {\"color\": \"blue\", \"source\": 54, \"target\": 20}, {\"color\": \"red\", \"source\": 54, \"target\": 73}, {\"color\": \"red\", \"source\": 54, \"target\": 74}, {\"color\": \"red\", \"source\": 54, \"target\": 75}, {\"color\": \"blue\", \"source\": 54, \"target\": 104}, {\"color\": \"red\", \"source\": 54, \"target\": 76}, {\"color\": \"blue\", \"source\": 54, \"target\": 48}, {\"color\": \"blue\", \"source\": 54, \"target\": 48}, {\"color\": \"red\", \"source\": 54, \"target\": 106}, {\"color\": \"red\", \"source\": 54, \"target\": 49}, {\"color\": \"blue\", \"source\": 54, \"target\": 50}, {\"color\": \"blue\", \"source\": 54, \"target\": 79}, {\"color\": \"blue\", \"source\": 54, \"target\": 79}, {\"color\": \"blue\", \"source\": 54, \"target\": 79}, {\"color\": \"blue\", \"source\": 54, \"target\": 24}, {\"color\": \"red\", \"source\": 54, \"target\": 109}, {\"color\": \"blue\", \"source\": 54, \"target\": 58}, {\"color\": \"red\", \"source\": 54, \"target\": 37}, {\"color\": \"blue\", \"source\": 54, \"target\": 86}, {\"color\": \"blue\", \"source\": 54, \"target\": 86}, {\"color\": \"red\", \"source\": 54, \"target\": 88}, {\"color\": \"blue\", \"source\": 54, \"target\": 90}, {\"color\": \"blue\", \"source\": 54, \"target\": 60}, {\"color\": \"blue\", \"source\": 54, \"target\": 60}, {\"color\": \"blue\", \"source\": 54, \"target\": 60}, {\"color\": \"blue\", \"source\": 54, \"target\": 112}, {\"color\": \"blue\", \"source\": 54, \"target\": 112}, {\"color\": \"blue\", \"source\": 54, \"target\": 112}, {\"color\": \"blue\", \"source\": 58, \"target\": 0}, {\"color\": \"blue\", \"source\": 58, \"target\": 54}, {\"color\": \"red\", \"source\": 58, \"target\": 108}, {\"color\": \"red\", \"source\": 58, \"target\": 15}, {\"color\": \"red\", \"source\": 58, \"target\": 83}, {\"color\": \"blue\", \"source\": 58, \"target\": 40}, {\"color\": \"red\", \"source\": 58, \"target\": 7}, {\"color\": \"red\", \"source\": 58, \"target\": 7}, {\"color\": \"blue\", \"source\": 58, \"target\": 46}, {\"color\": \"red\", \"source\": 60, \"target\": 52}, {\"color\": \"red\", \"source\": 60, \"target\": 80}, {\"color\": \"red\", \"source\": 60, \"target\": 53}, {\"color\": \"blue\", \"source\": 60, \"target\": 54}, {\"color\": \"blue\", \"source\": 60, \"target\": 54}, {\"color\": \"blue\", \"source\": 60, \"target\": 54}, {\"color\": \"red\", \"source\": 60, \"target\": 103}, {\"color\": \"red\", \"source\": 60, \"target\": 16}, {\"color\": \"red\", \"source\": 60, \"target\": 17}, {\"color\": \"blue\", \"source\": 60, \"target\": 40}, {\"color\": \"red\", \"source\": 60, \"target\": 30}, {\"color\": \"red\", \"source\": 60, \"target\": 63}, {\"color\": \"red\", \"source\": 60, \"target\": 5}, {\"color\": \"red\", \"source\": 60, \"target\": 50}, {\"color\": \"red\", \"source\": 60, \"target\": 107}, {\"color\": \"red\", \"source\": 60, \"target\": 72}, {\"color\": \"red\", \"source\": 60, \"target\": 112}, {\"color\": \"blue\", \"source\": 62, \"target\": 1}, {\"color\": \"red\", \"source\": 62, \"target\": 48}, {\"color\": \"red\", \"source\": 62, \"target\": 40}, {\"color\": \"blue\", \"source\": 62, \"target\": 74}, {\"color\": \"red\", \"source\": 62, \"target\": 9}, {\"color\": \"red\", \"source\": 69, \"target\": 0}, {\"color\": \"red\", \"source\": 69, \"target\": 1}, {\"color\": \"red\", \"source\": 69, \"target\": 2}, {\"color\": \"blue\", \"source\": 69, \"target\": 3}, {\"color\": \"red\", \"source\": 69, \"target\": 4}, {\"color\": \"red\", \"source\": 69, \"target\": 4}, {\"color\": \"red\", \"source\": 69, \"target\": 5}, {\"color\": \"red\", \"source\": 69, \"target\": 6}, {\"color\": \"red\", \"source\": 69, \"target\": 7}, {\"color\": \"red\", \"source\": 69, \"target\": 8}, {\"color\": \"red\", \"source\": 69, \"target\": 8}, {\"color\": \"red\", \"source\": 69, \"target\": 9}, {\"color\": \"red\", \"source\": 69, \"target\": 10}, {\"color\": \"blue\", \"source\": 69, \"target\": 11}, {\"color\": \"red\", \"source\": 69, \"target\": 12}, {\"color\": \"red\", \"source\": 69, \"target\": 12}, {\"color\": \"red\", \"source\": 69, \"target\": 13}, {\"color\": \"red\", \"source\": 69, \"target\": 14}, {\"color\": \"red\", \"source\": 69, \"target\": 15}, {\"color\": \"red\", \"source\": 69, \"target\": 16}, {\"color\": \"red\", \"source\": 69, \"target\": 16}, {\"color\": \"red\", \"source\": 69, \"target\": 17}, {\"color\": \"red\", \"source\": 69, \"target\": 17}, {\"color\": \"blue\", \"source\": 69, \"target\": 18}, {\"color\": \"blue\", \"source\": 69, \"target\": 19}, {\"color\": \"red\", \"source\": 69, \"target\": 20}, {\"color\": \"blue\", \"source\": 69, \"target\": 21}, {\"color\": \"blue\", \"source\": 69, \"target\": 22}, {\"color\": \"blue\", \"source\": 69, \"target\": 22}, {\"color\": \"blue\", \"source\": 69, \"target\": 23}, {\"color\": \"blue\", \"source\": 69, \"target\": 23}, {\"color\": \"red\", \"source\": 69, \"target\": 24}, {\"color\": \"blue\", \"source\": 69, \"target\": 25}, {\"color\": \"blue\", \"source\": 69, \"target\": 25}, {\"color\": \"blue\", \"source\": 69, \"target\": 26}, {\"color\": \"blue\", \"source\": 69, \"target\": 26}, {\"color\": \"blue\", \"source\": 69, \"target\": 26}, {\"color\": \"blue\", \"source\": 69, \"target\": 27}, {\"color\": \"blue\", \"source\": 69, \"target\": 27}, {\"color\": \"blue\", \"source\": 69, \"target\": 27}, {\"color\": \"blue\", \"source\": 69, \"target\": 28}, {\"color\": \"blue\", \"source\": 69, \"target\": 28}, {\"color\": \"red\", \"source\": 69, \"target\": 29}, {\"color\": \"red\", \"source\": 69, \"target\": 30}, {\"color\": \"red\", \"source\": 69, \"target\": 31}, {\"color\": \"red\", \"source\": 69, \"target\": 31}, {\"color\": \"blue\", \"source\": 69, \"target\": 32}, {\"color\": \"red\", \"source\": 69, \"target\": 33}, {\"color\": \"blue\", \"source\": 69, \"target\": 34}, {\"color\": \"blue\", \"source\": 69, \"target\": 35}, {\"color\": \"red\", \"source\": 69, \"target\": 36}, {\"color\": \"red\", \"source\": 69, \"target\": 37}, {\"color\": \"red\", \"source\": 69, \"target\": 38}, {\"color\": \"red\", \"source\": 69, \"target\": 39}, {\"color\": \"red\", \"source\": 69, \"target\": 40}, {\"color\": \"red\", \"source\": 69, \"target\": 41}, {\"color\": \"blue\", \"source\": 69, \"target\": 42}, {\"color\": \"blue\", \"source\": 69, \"target\": 42}, {\"color\": \"red\", \"source\": 69, \"target\": 43}, {\"color\": \"red\", \"source\": 69, \"target\": 44}, {\"color\": \"red\", \"source\": 69, \"target\": 44}, {\"color\": \"red\", \"source\": 69, \"target\": 45}, {\"color\": \"red\", \"source\": 69, \"target\": 45}, {\"color\": \"red\", \"source\": 69, \"target\": 46}, {\"color\": \"red\", \"source\": 69, \"target\": 46}, {\"color\": \"red\", \"source\": 69, \"target\": 47}, {\"color\": \"blue\", \"source\": 69, \"target\": 48}, {\"color\": \"red\", \"source\": 69, \"target\": 49}, {\"color\": \"blue\", \"source\": 69, \"target\": 50}, {\"color\": \"blue\", \"source\": 69, \"target\": 51}, {\"color\": \"blue\", \"source\": 69, \"target\": 51}, {\"color\": \"red\", \"source\": 69, \"target\": 52}, {\"color\": \"red\", \"source\": 69, \"target\": 52}, {\"color\": \"blue\", \"source\": 69, \"target\": 53}, {\"color\": \"blue\", \"source\": 69, \"target\": 54}, {\"color\": \"red\", \"source\": 69, \"target\": 55}, {\"color\": \"red\", \"source\": 69, \"target\": 56}, {\"color\": \"red\", \"source\": 69, \"target\": 57}, {\"color\": \"blue\", \"source\": 69, \"target\": 58}, {\"color\": \"red\", \"source\": 69, \"target\": 59}, {\"color\": \"red\", \"source\": 69, \"target\": 60}, {\"color\": \"red\", \"source\": 69, \"target\": 60}, {\"color\": \"red\", \"source\": 69, \"target\": 61}, {\"color\": \"red\", \"source\": 69, \"target\": 62}, {\"color\": \"red\", \"source\": 69, \"target\": 63}, {\"color\": \"red\", \"source\": 69, \"target\": 64}, {\"color\": \"red\", \"source\": 69, \"target\": 65}, {\"color\": \"red\", \"source\": 69, \"target\": 66}, {\"color\": \"blue\", \"source\": 69, \"target\": 67}, {\"color\": \"blue\", \"source\": 69, \"target\": 68}, {\"color\": \"red\", \"source\": 69, \"target\": 70}, {\"color\": \"red\", \"source\": 69, \"target\": 70}, {\"color\": \"red\", \"source\": 69, \"target\": 71}, {\"color\": \"red\", \"source\": 69, \"target\": 72}, {\"color\": \"red\", \"source\": 69, \"target\": 73}, {\"color\": \"red\", \"source\": 69, \"target\": 73}, {\"color\": \"red\", \"source\": 69, \"target\": 74}, {\"color\": \"red\", \"source\": 69, \"target\": 74}, {\"color\": \"red\", \"source\": 69, \"target\": 74}, {\"color\": \"blue\", \"source\": 69, \"target\": 75}, {\"color\": \"blue\", \"source\": 69, \"target\": 75}, {\"color\": \"blue\", \"source\": 69, \"target\": 76}, {\"color\": \"blue\", \"source\": 69, \"target\": 77}, {\"color\": \"blue\", \"source\": 69, \"target\": 78}, {\"color\": \"red\", \"source\": 69, \"target\": 79}, {\"color\": \"red\", \"source\": 69, \"target\": 80}, {\"color\": \"red\", \"source\": 69, \"target\": 81}, {\"color\": \"red\", \"source\": 69, \"target\": 82}, {\"color\": \"red\", \"source\": 69, \"target\": 83}, {\"color\": \"blue\", \"source\": 69, \"target\": 84}, {\"color\": \"blue\", \"source\": 69, \"target\": 85}, {\"color\": \"blue\", \"source\": 69, \"target\": 86}, {\"color\": \"blue\", \"source\": 69, \"target\": 87}, {\"color\": \"blue\", \"source\": 69, \"target\": 87}, {\"color\": \"blue\", \"source\": 69, \"target\": 88}, {\"color\": \"blue\", \"source\": 69, \"target\": 89}, {\"color\": \"blue\", \"source\": 69, \"target\": 89}, {\"color\": \"red\", \"source\": 69, \"target\": 90}, {\"color\": \"blue\", \"source\": 69, \"target\": 91}, {\"color\": \"blue\", \"source\": 69, \"target\": 91}, {\"color\": \"red\", \"source\": 69, \"target\": 92}, {\"color\": \"red\", \"source\": 69, \"target\": 93}, {\"color\": \"red\", \"source\": 69, \"target\": 93}, {\"color\": \"red\", \"source\": 69, \"target\": 94}, {\"color\": \"red\", \"source\": 69, \"target\": 95}, {\"color\": \"red\", \"source\": 69, \"target\": 96}, {\"color\": \"red\", \"source\": 69, \"target\": 97}, {\"color\": \"red\", \"source\": 69, \"target\": 98}, {\"color\": \"red\", \"source\": 69, \"target\": 99}, {\"color\": \"red\", \"source\": 69, \"target\": 100}, {\"color\": \"red\", \"source\": 69, \"target\": 101}, {\"color\": \"red\", \"source\": 69, \"target\": 102}, {\"color\": \"red\", \"source\": 69, \"target\": 103}, {\"color\": \"red\", \"source\": 69, \"target\": 103}, {\"color\": \"red\", \"source\": 69, \"target\": 104}, {\"color\": \"red\", \"source\": 69, \"target\": 105}, {\"color\": \"red\", \"source\": 69, \"target\": 106}, {\"color\": \"red\", \"source\": 69, \"target\": 107}, {\"color\": \"red\", \"source\": 69, \"target\": 107}, {\"color\": \"red\", \"source\": 69, \"target\": 108}, {\"color\": \"red\", \"source\": 69, \"target\": 109}, {\"color\": \"red\", \"source\": 69, \"target\": 110}, {\"color\": \"red\", \"source\": 69, \"target\": 111}, {\"color\": \"red\", \"source\": 69, \"target\": 112}, {\"color\": \"blue\", \"source\": 70, \"target\": 15}, {\"color\": \"red\", \"source\": 70, \"target\": 53}, {\"color\": \"blue\", \"source\": 70, \"target\": 26}, {\"color\": \"blue\", \"source\": 70, \"target\": 88}, {\"color\": \"red\", \"source\": 71, \"target\": 39}, {\"color\": \"red\", \"source\": 71, \"target\": 39}, {\"color\": \"red\", \"source\": 71, \"target\": 108}, {\"color\": \"red\", \"source\": 71, \"target\": 55}, {\"color\": \"red\", \"source\": 71, \"target\": 55}, {\"color\": \"red\", \"source\": 71, \"target\": 55}, {\"color\": \"blue\", \"source\": 71, \"target\": 32}, {\"color\": \"red\", \"source\": 71, \"target\": 13}, {\"color\": \"red\", \"source\": 71, \"target\": 13}, {\"color\": \"red\", \"source\": 79, \"target\": 53}, {\"color\": \"blue\", \"source\": 79, \"target\": 54}, {\"color\": \"blue\", \"source\": 79, \"target\": 54}, {\"color\": \"blue\", \"source\": 79, \"target\": 54}, {\"color\": \"red\", \"source\": 79, \"target\": 49}, {\"color\": \"red\", \"source\": 79, \"target\": 103}, {\"color\": \"red\", \"source\": 79, \"target\": 16}, {\"color\": \"red\", \"source\": 79, \"target\": 17}, {\"color\": \"blue\", \"source\": 79, \"target\": 40}, {\"color\": \"red\", \"source\": 79, \"target\": 63}, {\"color\": \"red\", \"source\": 79, \"target\": 5}, {\"color\": \"red\", \"source\": 79, \"target\": 50}, {\"color\": \"red\", \"source\": 79, \"target\": 107}, {\"color\": \"red\", \"source\": 79, \"target\": 21}, {\"color\": \"red\", \"source\": 79, \"target\": 112}, {\"color\": \"red\", \"source\": 85, \"target\": 89}, {\"color\": \"red\", \"source\": 89, \"target\": 85}, {\"color\": \"red\", \"source\": 89, \"target\": 77}, {\"color\": \"red\", \"source\": 89, \"target\": 86}, {\"color\": \"red\", \"source\": 89, \"target\": 46}, {\"color\": \"red\", \"source\": 89, \"target\": 3}, {\"color\": \"blue\", \"source\": 91, \"target\": 26}, {\"color\": \"red\", \"source\": 39, \"target\": 108}, {\"color\": \"red\", \"source\": 39, \"target\": 55}, {\"color\": \"red\", \"source\": 39, \"target\": 55}, {\"color\": \"red\", \"source\": 39, \"target\": 71}, {\"color\": \"red\", \"source\": 39, \"target\": 71}, {\"color\": \"red\", \"source\": 39, \"target\": 63}, {\"color\": \"blue\", \"source\": 39, \"target\": 32}, {\"color\": \"blue\", \"source\": 39, \"target\": 32}, {\"color\": \"blue\", \"source\": 39, \"target\": 32}, {\"color\": \"red\", \"source\": 39, \"target\": 65}, {\"color\": \"red\", \"source\": 39, \"target\": 13}]);}</script><iframe name=\"style_file1\" src=\"style_file1.html\" width=\"100%;\" height=\"805px\"></iframe></body></html>"
      ],
      "text/plain": [
       "<IPython.core.display.HTML object>"
      ]
     },
     "execution_count": 11,
     "metadata": {},
     "output_type": "execute_result"
    }
   ],
   "source": [
    "# display subnetworks using visJS2jupyter\n",
    "stat_analysis.vis_tf_network(DG_TF, 'STAT1', '../DEG_databases/geo2r_GSE11352_brca_48hours.txt', DEG_list,\n",
    "              directed_edges = True,\n",
    "              node_spacing = 2000,\n",
    "              graph_id = 1) "
   ]
  },
  {
   "cell_type": "code",
   "execution_count": null,
   "metadata": {
    "collapsed": true
   },
   "outputs": [],
   "source": []
  },
  {
   "cell_type": "code",
   "execution_count": null,
   "metadata": {
    "collapsed": true
   },
   "outputs": [],
   "source": []
  },
  {
   "cell_type": "code",
   "execution_count": null,
   "metadata": {
    "collapsed": true
   },
   "outputs": [],
   "source": []
  }
 ],
 "metadata": {
  "kernelspec": {
   "display_name": "Python 2",
   "language": "python",
   "name": "python2"
  },
  "language_info": {
   "codemirror_mode": {
    "name": "ipython",
    "version": 2
   },
   "file_extension": ".py",
   "mimetype": "text/x-python",
   "name": "python",
   "nbconvert_exporter": "python",
   "pygments_lexer": "ipython2",
   "version": "2.7.14"
  }
 },
 "nbformat": 4,
 "nbformat_minor": 2
}
