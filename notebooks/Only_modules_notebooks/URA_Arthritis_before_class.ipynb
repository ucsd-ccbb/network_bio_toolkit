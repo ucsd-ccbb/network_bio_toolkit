{
 "cells": [
  {
   "cell_type": "markdown",
   "metadata": {},
   "source": [
    "# Upstream Regulator Analysis Package\n",
    "## Arthritis Case Study\n",
    "### Direct Module Use, No Wrapper Class\n",
    "\n",
    "----------------------\n",
    "\n",
    "Author: Mikayla Webster (m1webste@ucsd.edu)\n",
    "\n",
    "Date: 19th January, 2018\n",
    "\n",
    "----------------------\n",
    "\n",
    "<a id='toc'></a>\n",
    "## Table of Contents\n",
    "1. [Background](#background)\n",
    "2. [Import packages](#import)\n",
    "3. [Load Networks](#load)\n",
    "6. [P-value and Z-score Calculation](#pz)\n",
    "8. [Display Our results](#display)"
   ]
  },
  {
   "cell_type": "markdown",
   "metadata": {},
   "source": [
    "## Background\n",
    "<a id='background'></a>\n",
    "\n",
    "The inspiration for these modules comes from Ingenuity System's [Ingenuity Upstream Regulator Analysis in IPA®](http://pages.ingenuity.com/rs/ingenuity/images/0812%20upstream_regulator_analysis_whitepaper.pdf).\n",
    "\n",
    "This notebook demonstrates how to use our ura package WITHOUT the use of our \"wrapper class\" Upstream. This notebook directly calls all the functions from modules create_graph and stat_analysis. This notebook emphasizes the flow of function calls, namely what order you should call functions in order for the workflow to process correctly. If you need further help on how to use a function or what that function's purpose is, see the comments associated with that function in the source code (create_graph.py or stat_analysis.py)."
   ]
  },
  {
   "cell_type": "markdown",
   "metadata": {},
   "source": [
    "## Import packages\n",
    "<a id='import'></a>"
   ]
  },
  {
   "cell_type": "code",
   "execution_count": 1,
   "metadata": {},
   "outputs": [
    {
     "data": {
      "text/plain": [
       "<module 'stat_analysis' from '../../ura\\stat_analysis.pyc'>"
      ]
     },
     "execution_count": 1,
     "metadata": {},
     "output_type": "execute_result"
    }
   ],
   "source": [
    "# import upstream regulator modules\n",
    "import sys\n",
    "code_path = '../../ura'\n",
    "sys.path.append(code_path)\n",
    "import create_graph\n",
    "import stat_analysis\n",
    "reload(create_graph)\n",
    "reload(stat_analysis)"
   ]
  },
  {
   "cell_type": "code",
   "execution_count": 12,
   "metadata": {
    "collapsed": true
   },
   "outputs": [],
   "source": [
    "%matplotlib inline"
   ]
  },
  {
   "cell_type": "code",
   "execution_count": 2,
   "metadata": {
    "collapsed": true
   },
   "outputs": [],
   "source": [
    "# User preferences\n",
    "symbol = 'symbol'\n",
    "entrez = 'entrez'\n",
    "\n",
    "gene_type = symbol"
   ]
  },
  {
   "cell_type": "markdown",
   "metadata": {},
   "source": [
    "## Load Networks\n",
    "<a id='load'></a>\n",
    "\n",
    "1. List of all **Transcription Factors** (TF's) or regulators of interest to us\n",
    "    <br>\n",
    "    - Our sources are [slowkow](https://github.com/slowkow/tftargets) and [jaspar](http://jaspar.genereg.net/) TF databases\n",
    "    <br><br>\n",
    "2. **Background Network**: [STRING human protein interactions network](https://string-db.org/cgi/download.pl?UserId=9BGA8WkVMRl6&sessionId=HWUK6Dum9xC6&species_text=Homo+sapiens)  \n",
    "    - Filter our background network down to just the sub network of TF's and their targets\n",
    "    <br><br>\n",
    "3. User-supplied list of **Differentially Expressed Genes** (DEG's)"
   ]
  },
  {
   "cell_type": "code",
   "execution_count": 3,
   "metadata": {},
   "outputs": [
    {
     "name": "stdout",
     "output_type": "stream",
     "text": [
      "Number of TF's: 3983\n"
     ]
    }
   ],
   "source": [
    "# transcription factors\n",
    "TF_list = create_graph.easy_load_TF_list(slowkow_bool=True, jaspar_bool=True, gene_type = gene_type)\n",
    "print \"Number of TF's: \" + str(len(TF_list))"
   ]
  },
  {
   "cell_type": "code",
   "execution_count": 4,
   "metadata": {},
   "outputs": [
    {
     "name": "stdout",
     "output_type": "stream",
     "text": [
      "querying 1-1000...done.\n",
      "querying 1001-2000...done.\n",
      "querying 2001-3000...done.\n",
      "querying 3001-4000...done.\n",
      "querying 4001-5000...done.\n",
      "querying 5001-6000...done.\n",
      "querying 6001-7000...done.\n",
      "querying 7001-7374...done.\n",
      "Finished.\n",
      "56 input query terms found dup hits:\n",
      "\t[(u'ENSP00000359550', 3), (u'ENSP00000447879', 2), (u'ENSP00000364076', 2), (u'ENSP00000348986', 2),\n",
      "312 input query terms found no hit:\n",
      "\t[u'ENSP00000376684', u'ENSP00000289352', u'ENSP00000202788', u'ENSP00000373637', u'ENSP00000367802',\n",
      "Pass \"returnall=True\" to return complete lists of duplicate or missing query terms.\n",
      "\n",
      "Number of interactions: 28939\n"
     ]
    }
   ],
   "source": [
    "# background network\n",
    "filename = \"../../background_networks/9606.protein.actions.v10.5.txt\"\n",
    "confidence_filter = 400\n",
    "DG_TF, DG_universe = create_graph.load_STRING_to_digraph(filename, TF_list, confidence_filter, gene_type)\n",
    "\n",
    "print \"\\nNumber of interactions: \" + str(len(list(DG_TF.edges())))"
   ]
  },
  {
   "cell_type": "code",
   "execution_count": 5,
   "metadata": {},
   "outputs": [
    {
     "name": "stdout",
     "output_type": "stream",
     "text": [
      "Number of DEG's: 1456\n"
     ]
    }
   ],
   "source": [
    "# differentially expressed genes\n",
    "reload(create_graph)\n",
    "DEG_filename = \"../../DEG_databases/DE_Coeff_OAvsNormal_OAvsNormal_20171215.csv\" \n",
    "DEG_list, DG_TF = create_graph.create_DEG_list(DEG_filename, DG_TF, # adding DEG up-down information to our graph\n",
    "                                               p_value_filter = 0.05, # p < 0.05\n",
    "                                               fold_change_filter = 1, # |fld| > 1\n",
    "                                               gene_type = gene_type)\n",
    "\n",
    "DEG_full_graph, DEG_to_pvalue, DEG_to_updown = create_graph.create_DEG_full_graph(DEG_filename, gene_type = gene_type)\n",
    "\n",
    "print \"Number of DEG's: \" + str(len(DEG_list))"
   ]
  },
  {
   "cell_type": "markdown",
   "metadata": {},
   "source": [
    "## P-values and Z-score Calculation\n",
    "<a id='pz'></a>\n",
    "\n",
    "1. **P-values**: How relevant is a TF to its DEG targets? Are they connected by chance, or is their connection statistically significant?\n",
    "    <br>\n",
    "    1. -log(p-value) for each TF using [scipy.stats.hypergeom.logsf](https://docs.scipy.org/doc/scipy-0.19.1/reference/generated/scipy.stats.hypergeom.html).\n",
    "        1. high value = significant connection between this TF and its DEG targets\n",
    "        2. low value = TF is randomly associated with its DEG targets\n",
    "        3. zero = None of this TF's targets were DEG's\n",
    "        4. inf = original p-value was so small that its log is inf. Very high significance.\n",
    "        <br><br>\n",
    "2. **Z-scores**: Goal is to predict the activation states of the TF's\n",
    "\n",
    "    - activation states: interaction type/regulation direction = predicted state\n",
    "        - activating/up  = activating\n",
    "        - activating/down = inhibiting\n",
    "        - inhibiting/up = inhibiting\n",
    "        - inhibiting/down = activating\n",
    "        <br><br>\n",
    "    - unbiased vs biased calculations:\n",
    "        - **unbiased calculation**: Assume a normal distribution of activating and inhibiting states \n",
    "        - **biased calculation**: For the case when you cannot assume a 50-50 split between up/down-regulated targets and activating/inhbiting interactions. Modify our formula to approximate a normal distribution."
   ]
  },
  {
   "cell_type": "code",
   "execution_count": 6,
   "metadata": {
    "collapsed": true,
    "scrolled": true
   },
   "outputs": [],
   "source": [
    "# Enrichment of every TF with respect to its targets\n",
    "p_values = stat_analysis.tf_target_enrichment(DG_TF, DG_universe, DEG_list)\n",
    "\n",
    "# Enrichment of TF's themselves\n",
    "tf_enrich = stat_analysis.tf_enrichment(TF_list, DEG_full_graph, DEG_list)    "
   ]
  },
  {
   "cell_type": "code",
   "execution_count": 7,
   "metadata": {
    "collapsed": true
   },
   "outputs": [],
   "source": [
    "z_scores = stat_analysis.tf_zscore(DG_TF, DEG_list, bias_filter = 0.25) # recommended bias filter is 0.25"
   ]
  },
  {
   "cell_type": "markdown",
   "metadata": {},
   "source": [
    "## Display Our Results\n",
    "<a id='display'></a>\n",
    "- Display TF's with top z-scores\n",
    "- Display where certain TF's rank among others and overall according to z-score\n",
    "- Display subnetwork of a particular TF and its targets"
   ]
  },
  {
   "cell_type": "code",
   "execution_count": 8,
   "metadata": {},
   "outputs": [
    {
     "data": {
      "text/html": [
       "<div>\n",
       "<style>\n",
       "    .dataframe thead tr:only-child th {\n",
       "        text-align: right;\n",
       "    }\n",
       "\n",
       "    .dataframe thead th {\n",
       "        text-align: left;\n",
       "    }\n",
       "\n",
       "    .dataframe tbody tr th {\n",
       "        vertical-align: top;\n",
       "    }\n",
       "</style>\n",
       "<table border=\"1\" class=\"dataframe\">\n",
       "  <thead>\n",
       "    <tr style=\"text-align: right;\">\n",
       "      <th></th>\n",
       "      <th>z-score</th>\n",
       "      <th>(adj) p-value</th>\n",
       "      <th>(log) fold change</th>\n",
       "    </tr>\n",
       "  </thead>\n",
       "  <tbody>\n",
       "    <tr>\n",
       "      <th>RBL2</th>\n",
       "      <td>-3.162278</td>\n",
       "      <td>0.129498</td>\n",
       "      <td>-0.830733</td>\n",
       "    </tr>\n",
       "    <tr>\n",
       "      <th>GLI2</th>\n",
       "      <td>-2.828427</td>\n",
       "      <td>0.172742</td>\n",
       "      <td>-0.554695</td>\n",
       "    </tr>\n",
       "    <tr>\n",
       "      <th>FOXO3</th>\n",
       "      <td>-2.710687</td>\n",
       "      <td>0.000292</td>\n",
       "      <td>-1.125810</td>\n",
       "    </tr>\n",
       "    <tr>\n",
       "      <th>CLIP1</th>\n",
       "      <td>2.672612</td>\n",
       "      <td>0.042270</td>\n",
       "      <td>-0.521127</td>\n",
       "    </tr>\n",
       "    <tr>\n",
       "      <th>CKAP5</th>\n",
       "      <td>2.672612</td>\n",
       "      <td>0.866232</td>\n",
       "      <td>-0.071815</td>\n",
       "    </tr>\n",
       "    <tr>\n",
       "      <th>MAD1L1</th>\n",
       "      <td>2.672612</td>\n",
       "      <td>0.039497</td>\n",
       "      <td>-0.561039</td>\n",
       "    </tr>\n",
       "    <tr>\n",
       "      <th>CENPA</th>\n",
       "      <td>2.672612</td>\n",
       "      <td>NaN</td>\n",
       "      <td>NaN</td>\n",
       "    </tr>\n",
       "    <tr>\n",
       "      <th>BUB3</th>\n",
       "      <td>2.672612</td>\n",
       "      <td>0.045374</td>\n",
       "      <td>0.264598</td>\n",
       "    </tr>\n",
       "    <tr>\n",
       "      <th>AHCTF1</th>\n",
       "      <td>2.672612</td>\n",
       "      <td>0.043979</td>\n",
       "      <td>-0.401034</td>\n",
       "    </tr>\n",
       "    <tr>\n",
       "      <th>STAT1</th>\n",
       "      <td>2.840188</td>\n",
       "      <td>0.826469</td>\n",
       "      <td>0.063822</td>\n",
       "    </tr>\n",
       "  </tbody>\n",
       "</table>\n",
       "</div>"
      ],
      "text/plain": [
       "         z-score  (adj) p-value  (log) fold change\n",
       "RBL2   -3.162278       0.129498          -0.830733\n",
       "GLI2   -2.828427       0.172742          -0.554695\n",
       "FOXO3  -2.710687       0.000292          -1.125810\n",
       "CLIP1   2.672612       0.042270          -0.521127\n",
       "CKAP5   2.672612       0.866232          -0.071815\n",
       "MAD1L1  2.672612       0.039497          -0.561039\n",
       "CENPA   2.672612            NaN                NaN\n",
       "BUB3    2.672612       0.045374           0.264598\n",
       "AHCTF1  2.672612       0.043979          -0.401034\n",
       "STAT1   2.840188       0.826469           0.063822"
      ]
     },
     "metadata": {},
     "output_type": "display_data"
    }
   ],
   "source": [
    "top_overall = stat_analysis.top_values(z_scores, DEG_to_pvalue, DEG_to_updown, act = False, abs_value = True, top = 10)\n",
    "display(top_overall)"
   ]
  },
  {
   "cell_type": "code",
   "execution_count": 13,
   "metadata": {},
   "outputs": [
    {
     "data": {
      "image/png": "[encoded data removed]",
      "text/plain": [
       "<matplotlib.figure.Figure at 0x2e2930f0>"
      ]
     },
     "metadata": {},
     "output_type": "display_data"
    }
   ],
   "source": [
    "# Ranking (in this case from 0 to 168)\n",
    "genes_to_rank = ['HOXA4', 'CEBPB', 'HIF1A','KLF4', 'TLE3', 'RBL2','TP53', 'STAT1', 'STAT5B']\n",
    "stat_analysis.compare_genes(z_scores, genes_to_rank)"
   ]
  },
  {
   "cell_type": "code",
   "execution_count": null,
   "metadata": {},
   "outputs": [],
   "source": [
    "stat_analysis.vis_tf_network(DG_TF, 'STAT1', '../../DEG_databases/geo2r_GSE11352_brca_48hours.txt', DEG_list,\n",
    "              directed_edges = True,\n",
    "              node_spacing = 1500,\n",
    "              color_non_DEGs = False,\n",
    "              graph_id = 20) "
   ]
  },
  {
   "cell_type": "code",
   "execution_count": null,
   "metadata": {},
   "outputs": [],
   "source": [
    "# display subnetworks using visJS2jupyter\n",
    "stat_analysis.vis_tf_network(DG_TF, 'STAT1', '../../DEG_databases/geo2r_GSE11352_brca_48hours.txt', DEG_list,\n",
    "              directed_edges = False,\n",
    "              node_spacing = 2500,\n",
    "              color_non_DEGs = True,\n",
    "              tf_size_amplifier = 12,\n",
    "              graph_id = 21) "
   ]
  },
  {
   "cell_type": "code",
   "execution_count": null,
   "metadata": {
    "collapsed": true
   },
   "outputs": [],
   "source": [
    "stat_analysis.to_csv(out_filename = 'example_arthritis.txt', \n",
    "                     z_score_series = z_scores, \n",
    "                     DEG_to_pvalue = DEG_to_pvalue, \n",
    "                     DEG_to_updown = DEG_to_updown, \n",
    "                     tf_target_enrichment = tf_enrich, \n",
    "                     DG_TF = DG_TF)"
   ]
  },
  {
   "cell_type": "code",
   "execution_count": null,
   "metadata": {
    "collapsed": true
   },
   "outputs": [],
   "source": []
  }
 ],
 "metadata": {
  "kernelspec": {
   "display_name": "Python 2",
   "language": "python",
   "name": "python2"
  },
  "language_info": {
   "codemirror_mode": {
    "name": "ipython",
    "version": 2
   },
   "file_extension": ".py",
   "mimetype": "text/x-python",
   "name": "python",
   "nbconvert_exporter": "python",
   "pygments_lexer": "ipython2",
   "version": "2.7.14"
  }
 },
 "nbformat": 4,
 "nbformat_minor": 2
}
