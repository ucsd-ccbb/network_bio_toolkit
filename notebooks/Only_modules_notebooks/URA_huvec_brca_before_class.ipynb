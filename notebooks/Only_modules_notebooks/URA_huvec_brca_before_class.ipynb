{
 "cells": [
  {
   "cell_type": "markdown",
   "metadata": {},
   "source": [
    "# Upstream Regulator Analysis Package\n",
    "## HUVEC and Breast Cancer Case Study\n",
    "### Direct Module Use, No Wrapper Class\n",
    "\n",
    "----------------------\n",
    "\n",
    "Author: Mikayla Webster (m1webste@ucsd.edu)\n",
    "\n",
    "Date: 11th January, 2018\n",
    "\n",
    "----------------------\n",
    "\n",
    "<a id='toc'></a>\n",
    "## Table of Contents\n",
    "1. [Background](#background)\n",
    "2. [Import packages](#import)\n",
    "3. [Transcription Factors](#tf)\n",
    "4. [Background Network](#bn)\n",
    "5. [HUVEC](#huvec)\n",
    "    1. [Load DEG's](#loadhuvec)\n",
    "    2. [Calculate p-values and z-scores](#pzhuvec)\n",
    "    3. [Compare the Ingenuity Article's results to Ours](#comphuvec)\n",
    "    4. [Display Our results](#displayhuvec)\n",
    "6. [Breast Cancer](#brca)\n",
    "    1. [Load DEG's](#loadbrca)\n",
    "    2. [Calculate p-values and z-scores](#pzbrca)\n",
    "    3. [Compare the Ingenuity Article's results to Ours](#compbrca)\n",
    "    4. [Display Our results](#displaybrca)"
   ]
  },
  {
   "cell_type": "markdown",
   "metadata": {},
   "source": [
    "## Background\n",
    "<a id='background'></a>\n",
    "\n",
    "This notebook provides validation for our Upstream Regulator Analysis (URA) modules. Our modules are inspired by Ingenuity System's [Ingenuity Upstream Regulator Analysis in IPA®](http://pages.ingenuity.com/rs/ingenuity/images/0812%20upstream_regulator_analysis_whitepaper.pdf); this test case is inpired by Ingenuity System's corresponding paper, [Causal analysis approaches in Ingenuity Pathway Analysis](https://www.ncbi.nlm.nih.gov/pmc/articles/PMC3928520/). This paper analyses two sets of Differencially Expressed Genes (DEG's): one from a breast cancer tumor and the other from Human Umbilical Vein Endothelial Cells (HUVEC). We run our version of URA on these same breast cancer and HUVEC DEG's, however using the [STRING database](https://string-db.org/) human protein interaction network as our background network. "
   ]
  },
  {
   "cell_type": "markdown",
   "metadata": {},
   "source": [
    "## Import packages\n",
    "<a id='import'></a>"
   ]
  },
  {
   "cell_type": "code",
   "execution_count": 10,
   "metadata": {},
   "outputs": [
    {
     "data": {
      "text/plain": [
       "<module 'stat_analysis' from '../../ura\\stat_analysis.pyc'>"
      ]
     },
     "execution_count": 10,
     "metadata": {},
     "output_type": "execute_result"
    }
   ],
   "source": [
    "# import upstream regulator modules\n",
    "import sys\n",
    "code_path = '../../ura'\n",
    "sys.path.append(code_path)\n",
    "import create_graph\n",
    "import stat_analysis\n",
    "reload(create_graph)\n",
    "reload(stat_analysis)"
   ]
  },
  {
   "cell_type": "code",
   "execution_count": 11,
   "metadata": {
    "collapsed": true
   },
   "outputs": [],
   "source": [
    "gene_type = 'symbol'"
   ]
  },
  {
   "cell_type": "markdown",
   "metadata": {},
   "source": [
    "## Transcription Factors\n",
    "<a id='tf'></a>\n",
    "\n",
    "Load our list of Transcription Factors (TF) we want to analyze. Gene symbols will be in all caps. "
   ]
  },
  {
   "cell_type": "code",
   "execution_count": 12,
   "metadata": {},
   "outputs": [
    {
     "data": {
      "text/plain": [
       "3986"
      ]
     },
     "execution_count": 12,
     "metadata": {},
     "output_type": "execute_result"
    }
   ],
   "source": [
    "TF_list = create_graph.easy_load_TF_list(slowkow_bool=True, jaspar_bool=True, gene_type = gene_type)\n",
    "\n",
    "\n",
    "TF_list = TF_list + ['TNF', 'IFNG', 'LBP'] # known regulators of interest missing from our TF databases\n",
    "len(TF_list)"
   ]
  },
  {
   "cell_type": "markdown",
   "metadata": {},
   "source": [
    "## Background Network\n",
    "<a id='bn'></a>\n",
    "\n",
    "Load our background network, available on the [STRING website](https://string-db.org/cgi/download.pl?UserId=9BGA8WkVMRl6&sessionId=HWUK6Dum9xC6&species_text=Homo+sapiens), and keep only our the information about our TF's. \n",
    "\n",
    "The function load_STRING_to_digraph can load any species' \"protein actions\" database from STRING. Just ensure your TF list and DEG list have the same naming convention as you background network (Homo Sapiens use all caps, Mus Musculus only capitalizes the first letter, etc.) Inconsistent naming can effect your results."
   ]
  },
  {
   "cell_type": "code",
   "execution_count": 13,
   "metadata": {},
   "outputs": [
    {
     "name": "stdout",
     "output_type": "stream",
     "text": [
      "querying 1-1000...done.\n",
      "querying 1001-2000...done.\n",
      "querying 2001-3000...done.\n",
      "querying 3001-4000...done.\n",
      "querying 4001-5000...done.\n",
      "querying 5001-6000...done.\n",
      "querying 6001-7000...done.\n",
      "querying 7001-7374...done.\n",
      "Finished.\n",
      "56 input query terms found dup hits:\n",
      "\t[(u'ENSP00000359550', 3), (u'ENSP00000447879', 2), (u'ENSP00000364076', 2), (u'ENSP00000348986', 2),\n",
      "312 input query terms found no hit:\n",
      "\t[u'ENSP00000376684', u'ENSP00000289352', u'ENSP00000202788', u'ENSP00000373637', u'ENSP00000367802',\n",
      "Pass \"returnall=True\" to return complete lists of duplicate or missing query terms.\n"
     ]
    }
   ],
   "source": [
    "filename = \"../../background_networks/9606.protein.actions.v10.5.txt\"\n",
    "DG_TF, DG_universe = create_graph.load_STRING_to_digraph(filename, \n",
    "                                                         TF_list, \n",
    "                                                         confidence_filter=400, \n",
    "                                                         gene_type = gene_type)"
   ]
  },
  {
   "cell_type": "markdown",
   "metadata": {},
   "source": [
    "## HUVEC##\n",
    "<a id='huvec'></a>"
   ]
  },
  {
   "cell_type": "markdown",
   "metadata": {},
   "source": [
    "### Load HUVEC DEG's ###\n",
    "<a id='loadhuvec'></a>"
   ]
  },
  {
   "cell_type": "code",
   "execution_count": 18,
   "metadata": {
    "collapsed": true
   },
   "outputs": [],
   "source": [
    "# DEG's\n",
    "filename_huvec = '../../DEG_databases/geo2r_GSE2639_huvec.txt'\n",
    "\n",
    "# TF's found to be statistically significant in Ingenuity Systems URA article\n",
    "huvec_genes = ['TNF','IFNG','LBP', 'NFKB1', 'NFKB2', 'REL', 'RELA', 'RELB', 'PCBP3', 'PCBP2', 'PCBP1', 'PCBP4', 'NFKBIA']\n",
    "\n",
    "# add DEG information to STRING background network\n",
    "DEG_list_huvec, DG_huvec = create_graph.create_DEG_list(filename_huvec,\n",
    "                G = DG_TF,  # specify in order to add up-down info to graph\n",
    "                p_value_filter = 0.3,\n",
    "                gene_type = gene_type) # 'symbol' or 'entrez'\n",
    "\n",
    "DEG_full_graph_huvec, DEG_to_pvalue_huvec, DEG_to_updown_huvec = create_graph.create_DEG_full_graph(filename_huvec, gene_type=gene_type)"
   ]
  },
  {
   "cell_type": "markdown",
   "metadata": {},
   "source": [
    "### Calculate p-values and z-scores\n",
    "<a id='pzhuvec'></a>\n",
    "\n",
    "For a detailed explination of our p-value and z-score calculation functions, see our URA_Basic_Example notebook"
   ]
  },
  {
   "cell_type": "code",
   "execution_count": 19,
   "metadata": {},
   "outputs": [],
   "source": [
    "# calculate p-values\n",
    "p_values = stat_analysis.tf_target_enrichment(DG_huvec, DG_universe, DEG_list_huvec)\n",
    "\n",
    "# calculate z-scores\n",
    "z_scores_huvec = stat_analysis.tf_zscore(DG_huvec, DEG_list_huvec, bias_filter = 0.25) # recommended bias filter is 0.25"
   ]
  },
  {
   "cell_type": "markdown",
   "metadata": {},
   "source": [
    "### Compare the Ingenuity Article's results to Ours\n",
    "<a id='comphuvec'></a>\n",
    "\n",
    "These are the TF's found to be most relevant according to the Ingenuity Pathway Analysis paper. Optimally, these genes would rank very high. A rank of 0 is always best, while the rank associated with a z-score of zero is the worst. \n",
    "\n",
    "In this case, IFNG anf TNF are high ranking, therefore show coordination between our results and the Ingenuity article's results. LBP, PCBP1, PCBP2, PCBP4, and RELB have z-scores of zero, meaning not enough information exists about these genes to calculate a true z-score for them. PCBP3 has a NaN z-score because it is not in the graph."
   ]
  },
  {
   "cell_type": "code",
   "execution_count": 20,
   "metadata": {},
   "outputs": [
    {
     "data": {
      "text/html": [
       "<div>\n",
       "<style>\n",
       "    .dataframe thead tr:only-child th {\n",
       "        text-align: right;\n",
       "    }\n",
       "\n",
       "    .dataframe thead th {\n",
       "        text-align: left;\n",
       "    }\n",
       "\n",
       "    .dataframe tbody tr th {\n",
       "        vertical-align: top;\n",
       "    }\n",
       "</style>\n",
       "<table border=\"1\" class=\"dataframe\">\n",
       "  <thead>\n",
       "    <tr style=\"text-align: right;\">\n",
       "      <th></th>\n",
       "      <th>rank</th>\n",
       "      <th>unbiased-calculated z-scores</th>\n",
       "    </tr>\n",
       "  </thead>\n",
       "  <tbody>\n",
       "    <tr>\n",
       "      <th>IFNG</th>\n",
       "      <td>0.0</td>\n",
       "      <td>3.549648</td>\n",
       "    </tr>\n",
       "    <tr>\n",
       "      <th>TNF</th>\n",
       "      <td>5.0</td>\n",
       "      <td>2.342606</td>\n",
       "    </tr>\n",
       "    <tr>\n",
       "      <th>NFKB2</th>\n",
       "      <td>12.0</td>\n",
       "      <td>1.732051</td>\n",
       "    </tr>\n",
       "    <tr>\n",
       "      <th>RELA</th>\n",
       "      <td>13.0</td>\n",
       "      <td>1.732051</td>\n",
       "    </tr>\n",
       "    <tr>\n",
       "      <th>NFKBIA</th>\n",
       "      <td>19.0</td>\n",
       "      <td>1.341641</td>\n",
       "    </tr>\n",
       "    <tr>\n",
       "      <th>REL</th>\n",
       "      <td>19.0</td>\n",
       "      <td>-1.341641</td>\n",
       "    </tr>\n",
       "    <tr>\n",
       "      <th>NFKB1</th>\n",
       "      <td>23.0</td>\n",
       "      <td>1.091089</td>\n",
       "    </tr>\n",
       "    <tr>\n",
       "      <th>LBP</th>\n",
       "      <td>34.0</td>\n",
       "      <td>0.000000</td>\n",
       "    </tr>\n",
       "    <tr>\n",
       "      <th>PCBP1</th>\n",
       "      <td>34.0</td>\n",
       "      <td>0.000000</td>\n",
       "    </tr>\n",
       "    <tr>\n",
       "      <th>PCBP2</th>\n",
       "      <td>34.0</td>\n",
       "      <td>0.000000</td>\n",
       "    </tr>\n",
       "    <tr>\n",
       "      <th>PCBP4</th>\n",
       "      <td>34.0</td>\n",
       "      <td>0.000000</td>\n",
       "    </tr>\n",
       "    <tr>\n",
       "      <th>RELB</th>\n",
       "      <td>34.0</td>\n",
       "      <td>0.000000</td>\n",
       "    </tr>\n",
       "    <tr>\n",
       "      <th>PCBP3</th>\n",
       "      <td>NaN</td>\n",
       "      <td>NaN</td>\n",
       "    </tr>\n",
       "  </tbody>\n",
       "</table>\n",
       "</div>"
      ],
      "text/plain": [
       "        rank  unbiased-calculated z-scores\n",
       "IFNG     0.0                      3.549648\n",
       "TNF      5.0                      2.342606\n",
       "NFKB2   12.0                      1.732051\n",
       "RELA    13.0                      1.732051\n",
       "NFKBIA  19.0                      1.341641\n",
       "REL     19.0                     -1.341641\n",
       "NFKB1   23.0                      1.091089\n",
       "LBP     34.0                      0.000000\n",
       "PCBP1   34.0                      0.000000\n",
       "PCBP2   34.0                      0.000000\n",
       "PCBP4   34.0                      0.000000\n",
       "RELB    34.0                      0.000000\n",
       "PCBP3    NaN                           NaN"
      ]
     },
     "execution_count": 20,
     "metadata": {},
     "output_type": "execute_result"
    }
   ],
   "source": [
    "stat_analysis.rank_and_score_df(z_scores_huvec, huvec_genes, abs_value = True, remove_dups=True)"
   ]
  },
  {
   "cell_type": "markdown",
   "metadata": {},
   "source": [
    "### Display Our results\n",
    "<a id='displayhuvec'></a>\n",
    "\n",
    "These are the most relevant TF's according to our analysis. Optimally, these should match the huvec genes defined above. However, using a different background network produces discrepancies.\n",
    "\n",
    "IFNG, TNF, and TNFAIP3 show coordination between our results and the Ingenuity article's results."
   ]
  },
  {
   "cell_type": "code",
   "execution_count": 22,
   "metadata": {
    "scrolled": false
   },
   "outputs": [
    {
     "data": {
      "text/html": [
       "<div>\n",
       "<style>\n",
       "    .dataframe thead tr:only-child th {\n",
       "        text-align: right;\n",
       "    }\n",
       "\n",
       "    .dataframe thead th {\n",
       "        text-align: left;\n",
       "    }\n",
       "\n",
       "    .dataframe tbody tr th {\n",
       "        vertical-align: top;\n",
       "    }\n",
       "</style>\n",
       "<table border=\"1\" class=\"dataframe\">\n",
       "  <thead>\n",
       "    <tr style=\"text-align: right;\">\n",
       "      <th></th>\n",
       "      <th>z-score</th>\n",
       "      <th>(adj) p-value</th>\n",
       "      <th>(log) fold change</th>\n",
       "    </tr>\n",
       "  </thead>\n",
       "  <tbody>\n",
       "    <tr>\n",
       "      <th>IFNG</th>\n",
       "      <td>3.549648</td>\n",
       "      <td>0.943412</td>\n",
       "      <td>-0.1720</td>\n",
       "    </tr>\n",
       "    <tr>\n",
       "      <th>CTF1</th>\n",
       "      <td>3.000000</td>\n",
       "      <td>0.947242</td>\n",
       "      <td>0.4870</td>\n",
       "    </tr>\n",
       "    <tr>\n",
       "      <th>STAT4</th>\n",
       "      <td>2.645751</td>\n",
       "      <td>0.990425</td>\n",
       "      <td>0.0383</td>\n",
       "    </tr>\n",
       "    <tr>\n",
       "      <th>STAT5A</th>\n",
       "      <td>2.529822</td>\n",
       "      <td>0.344762</td>\n",
       "      <td>1.0600</td>\n",
       "    </tr>\n",
       "    <tr>\n",
       "      <th>TNF</th>\n",
       "      <td>2.342606</td>\n",
       "      <td>0.658852</td>\n",
       "      <td>1.1200</td>\n",
       "    </tr>\n",
       "    <tr>\n",
       "      <th>HIF1A</th>\n",
       "      <td>2.236068</td>\n",
       "      <td>0.965412</td>\n",
       "      <td>0.1130</td>\n",
       "    </tr>\n",
       "    <tr>\n",
       "      <th>GATA3</th>\n",
       "      <td>2.236068</td>\n",
       "      <td>0.323464</td>\n",
       "      <td>-0.8050</td>\n",
       "    </tr>\n",
       "    <tr>\n",
       "      <th>IRF3</th>\n",
       "      <td>2.236068</td>\n",
       "      <td>0.972756</td>\n",
       "      <td>0.1810</td>\n",
       "    </tr>\n",
       "    <tr>\n",
       "      <th>FOS</th>\n",
       "      <td>2.236068</td>\n",
       "      <td>0.625963</td>\n",
       "      <td>-0.8010</td>\n",
       "    </tr>\n",
       "    <tr>\n",
       "      <th>SPG7</th>\n",
       "      <td>2.236068</td>\n",
       "      <td>NaN</td>\n",
       "      <td>NaN</td>\n",
       "    </tr>\n",
       "  </tbody>\n",
       "</table>\n",
       "</div>"
      ],
      "text/plain": [
       "         z-score  (adj) p-value  (log) fold change\n",
       "IFNG    3.549648       0.943412            -0.1720\n",
       "CTF1    3.000000       0.947242             0.4870\n",
       "STAT4   2.645751       0.990425             0.0383\n",
       "STAT5A  2.529822       0.344762             1.0600\n",
       "TNF     2.342606       0.658852             1.1200\n",
       "HIF1A   2.236068       0.965412             0.1130\n",
       "GATA3   2.236068       0.323464            -0.8050\n",
       "IRF3    2.236068       0.972756             0.1810\n",
       "FOS     2.236068       0.625963            -0.8010\n",
       "SPG7    2.236068            NaN                NaN"
      ]
     },
     "metadata": {},
     "output_type": "display_data"
    },
    {
     "data": {
      "text/html": [
       "<div>\n",
       "<style>\n",
       "    .dataframe thead tr:only-child th {\n",
       "        text-align: right;\n",
       "    }\n",
       "\n",
       "    .dataframe thead th {\n",
       "        text-align: left;\n",
       "    }\n",
       "\n",
       "    .dataframe tbody tr th {\n",
       "        vertical-align: top;\n",
       "    }\n",
       "</style>\n",
       "<table border=\"1\" class=\"dataframe\">\n",
       "  <thead>\n",
       "    <tr style=\"text-align: right;\">\n",
       "      <th></th>\n",
       "      <th>z-score</th>\n",
       "      <th>(adj) p-value</th>\n",
       "      <th>(log) fold change</th>\n",
       "    </tr>\n",
       "  </thead>\n",
       "  <tbody>\n",
       "    <tr>\n",
       "      <th>PPARA</th>\n",
       "      <td>-2.449490</td>\n",
       "      <td>0.931975</td>\n",
       "      <td>0.26200</td>\n",
       "    </tr>\n",
       "    <tr>\n",
       "      <th>TNFAIP3</th>\n",
       "      <td>-2.000000</td>\n",
       "      <td>0.000369</td>\n",
       "      <td>2.80000</td>\n",
       "    </tr>\n",
       "    <tr>\n",
       "      <th>DDX41</th>\n",
       "      <td>-2.000000</td>\n",
       "      <td>0.884567</td>\n",
       "      <td>0.21500</td>\n",
       "    </tr>\n",
       "    <tr>\n",
       "      <th>CACNA2D4</th>\n",
       "      <td>-2.000000</td>\n",
       "      <td>NaN</td>\n",
       "      <td>NaN</td>\n",
       "    </tr>\n",
       "    <tr>\n",
       "      <th>CACNA2D2</th>\n",
       "      <td>-2.000000</td>\n",
       "      <td>0.994112</td>\n",
       "      <td>-0.04400</td>\n",
       "    </tr>\n",
       "    <tr>\n",
       "      <th>GPSM1</th>\n",
       "      <td>-1.941451</td>\n",
       "      <td>NaN</td>\n",
       "      <td>NaN</td>\n",
       "    </tr>\n",
       "    <tr>\n",
       "      <th>SIRT1</th>\n",
       "      <td>-1.897367</td>\n",
       "      <td>0.998068</td>\n",
       "      <td>0.00695</td>\n",
       "    </tr>\n",
       "    <tr>\n",
       "      <th>NR3C1</th>\n",
       "      <td>-1.732051</td>\n",
       "      <td>0.853714</td>\n",
       "      <td>0.30100</td>\n",
       "    </tr>\n",
       "    <tr>\n",
       "      <th>NKX2-5</th>\n",
       "      <td>-1.732051</td>\n",
       "      <td>0.847805</td>\n",
       "      <td>0.99000</td>\n",
       "    </tr>\n",
       "    <tr>\n",
       "      <th>IRF8</th>\n",
       "      <td>-1.732051</td>\n",
       "      <td>0.969826</td>\n",
       "      <td>0.14900</td>\n",
       "    </tr>\n",
       "  </tbody>\n",
       "</table>\n",
       "</div>"
      ],
      "text/plain": [
       "           z-score  (adj) p-value  (log) fold change\n",
       "PPARA    -2.449490       0.931975            0.26200\n",
       "TNFAIP3  -2.000000       0.000369            2.80000\n",
       "DDX41    -2.000000       0.884567            0.21500\n",
       "CACNA2D4 -2.000000            NaN                NaN\n",
       "CACNA2D2 -2.000000       0.994112           -0.04400\n",
       "GPSM1    -1.941451            NaN                NaN\n",
       "SIRT1    -1.897367       0.998068            0.00695\n",
       "NR3C1    -1.732051       0.853714            0.30100\n",
       "NKX2-5   -1.732051       0.847805            0.99000\n",
       "IRF8     -1.732051       0.969826            0.14900"
      ]
     },
     "metadata": {},
     "output_type": "display_data"
    }
   ],
   "source": [
    "top_act_huvec = stat_analysis.top_values(z_scores_huvec, DEG_to_pvalue_huvec, DEG_to_updown_huvec, act = True, abs_value = False, top = 10)\n",
    "top_inh_huvec = stat_analysis.top_values(z_scores_huvec, DEG_to_pvalue_huvec, DEG_to_updown_huvec, act = False, abs_value = False, top = 10)\n",
    "display(top_act_huvec)\n",
    "display(top_inh_huvec)"
   ]
  },
  {
   "cell_type": "markdown",
   "metadata": {},
   "source": [
    "## Breast Cancer ###\n",
    "<a id='brca'></a>"
   ]
  },
  {
   "cell_type": "markdown",
   "metadata": {},
   "source": [
    "### Load Breast Cancer DEG's\n",
    "<a id='loadbrca'></a>"
   ]
  },
  {
   "cell_type": "code",
   "execution_count": 24,
   "metadata": {},
   "outputs": [],
   "source": [
    "filename_brca = '../../DEG_databases/geo2r_GSE11352_brca_48hours.txt'\n",
    "brca_genes = ['ESR1', 'FSH', 'MEK', 'BRD4', 'MYC', 'MARK1', 'IL1B','NCOA3','PGR', \n",
    "              'EGR1', 'HIF1A', 'NR3C1','CTNNB1','TP53','SMARCE1','STAT5B']\n",
    "DEG_list_brca, DG_brca = create_graph.create_DEG_list(filename_brca,\n",
    "                G = DG_TF,  # specify in order to add up-down info to graph\n",
    "                p_value_filter = 0.05,\n",
    "                gene_type = gene_type) # 'symbol' or 'entrez'\n",
    "\n",
    "DEG_full_graph_brca, DEG_to_pvalue_brca, DEG_to_updown_brca = create_graph.create_DEG_full_graph(filename_brca, gene_type=gene_type)"
   ]
  },
  {
   "cell_type": "markdown",
   "metadata": {},
   "source": [
    "### Calculate p-values and z-scores\n",
    "<a id='pzbrca'></a>"
   ]
  },
  {
   "cell_type": "code",
   "execution_count": 26,
   "metadata": {
    "collapsed": true
   },
   "outputs": [],
   "source": [
    "# calculate p-values\n",
    "p_values_brca = stat_analysis.tf_target_enrichment(DG_brca, DG_universe, DEG_list_brca)\n",
    "\n",
    "# calculate z-scores\n",
    "z_scores_brca = stat_analysis.tf_zscore(DG_brca, DEG_list_brca, bias_filter = 0.25)"
   ]
  },
  {
   "cell_type": "markdown",
   "metadata": {},
   "source": [
    "### Compare the Ingenuity Article's results to Ours\n",
    "<a id='compbrca'></a>\n",
    "TP53, MYC, and ESR1 are foud to be highly ranking, showing coordination between our results and the Ingenuity article's results."
   ]
  },
  {
   "cell_type": "code",
   "execution_count": 27,
   "metadata": {},
   "outputs": [
    {
     "data": {
      "text/html": [
       "<div>\n",
       "<style>\n",
       "    .dataframe thead tr:only-child th {\n",
       "        text-align: right;\n",
       "    }\n",
       "\n",
       "    .dataframe thead th {\n",
       "        text-align: left;\n",
       "    }\n",
       "\n",
       "    .dataframe tbody tr th {\n",
       "        vertical-align: top;\n",
       "    }\n",
       "</style>\n",
       "<table border=\"1\" class=\"dataframe\">\n",
       "  <thead>\n",
       "    <tr style=\"text-align: right;\">\n",
       "      <th></th>\n",
       "      <th>rank</th>\n",
       "      <th>unbiased-calculated z-scores</th>\n",
       "    </tr>\n",
       "  </thead>\n",
       "  <tbody>\n",
       "    <tr>\n",
       "      <th>TP53</th>\n",
       "      <td>0.0</td>\n",
       "      <td>-1.889822</td>\n",
       "    </tr>\n",
       "    <tr>\n",
       "      <th>MYC</th>\n",
       "      <td>2.0</td>\n",
       "      <td>1.666667</td>\n",
       "    </tr>\n",
       "    <tr>\n",
       "      <th>ESR1</th>\n",
       "      <td>3.0</td>\n",
       "      <td>1.414214</td>\n",
       "    </tr>\n",
       "    <tr>\n",
       "      <th>STAT5B</th>\n",
       "      <td>4.0</td>\n",
       "      <td>1.341641</td>\n",
       "    </tr>\n",
       "    <tr>\n",
       "      <th>NR3C1</th>\n",
       "      <td>5.0</td>\n",
       "      <td>1.000000</td>\n",
       "    </tr>\n",
       "    <tr>\n",
       "      <th>HIF1A</th>\n",
       "      <td>7.0</td>\n",
       "      <td>-0.577350</td>\n",
       "    </tr>\n",
       "    <tr>\n",
       "      <th>CTNNB1</th>\n",
       "      <td>8.0</td>\n",
       "      <td>0.447214</td>\n",
       "    </tr>\n",
       "    <tr>\n",
       "      <th>EGR1</th>\n",
       "      <td>8.0</td>\n",
       "      <td>-0.447214</td>\n",
       "    </tr>\n",
       "    <tr>\n",
       "      <th>BRD4</th>\n",
       "      <td>9.0</td>\n",
       "      <td>0.000000</td>\n",
       "    </tr>\n",
       "    <tr>\n",
       "      <th>NCOA3</th>\n",
       "      <td>9.0</td>\n",
       "      <td>0.000000</td>\n",
       "    </tr>\n",
       "    <tr>\n",
       "      <th>PGR</th>\n",
       "      <td>9.0</td>\n",
       "      <td>0.000000</td>\n",
       "    </tr>\n",
       "    <tr>\n",
       "      <th>SMARCE1</th>\n",
       "      <td>9.0</td>\n",
       "      <td>0.000000</td>\n",
       "    </tr>\n",
       "    <tr>\n",
       "      <th>FSH</th>\n",
       "      <td>NaN</td>\n",
       "      <td>NaN</td>\n",
       "    </tr>\n",
       "    <tr>\n",
       "      <th>IL1B</th>\n",
       "      <td>NaN</td>\n",
       "      <td>NaN</td>\n",
       "    </tr>\n",
       "    <tr>\n",
       "      <th>MARK1</th>\n",
       "      <td>NaN</td>\n",
       "      <td>NaN</td>\n",
       "    </tr>\n",
       "    <tr>\n",
       "      <th>MEK</th>\n",
       "      <td>NaN</td>\n",
       "      <td>NaN</td>\n",
       "    </tr>\n",
       "  </tbody>\n",
       "</table>\n",
       "</div>"
      ],
      "text/plain": [
       "         rank  unbiased-calculated z-scores\n",
       "TP53      0.0                     -1.889822\n",
       "MYC       2.0                      1.666667\n",
       "ESR1      3.0                      1.414214\n",
       "STAT5B    4.0                      1.341641\n",
       "NR3C1     5.0                      1.000000\n",
       "HIF1A     7.0                     -0.577350\n",
       "CTNNB1    8.0                      0.447214\n",
       "EGR1      8.0                     -0.447214\n",
       "BRD4      9.0                      0.000000\n",
       "NCOA3     9.0                      0.000000\n",
       "PGR       9.0                      0.000000\n",
       "SMARCE1   9.0                      0.000000\n",
       "FSH       NaN                           NaN\n",
       "IL1B      NaN                           NaN\n",
       "MARK1     NaN                           NaN\n",
       "MEK       NaN                           NaN"
      ]
     },
     "execution_count": 27,
     "metadata": {},
     "output_type": "execute_result"
    }
   ],
   "source": [
    "stat_analysis.rank_and_score_df(z_scores_brca, brca_genes, act = True, abs_value = True, remove_dups=True)"
   ]
  },
  {
   "cell_type": "markdown",
   "metadata": {},
   "source": [
    "### Display Our results\n",
    "<a id='displaybrca'></a>\n",
    "MYCN, MYC, ESR1, and TP53 show coordination between our results and the Ingenuity article's results.\n",
    "\n",
    "Four out of five of our top activating genes, in particular MYCN, are associated with breast cancer according to literature. Our top three inhibiting genes, in particular FOXO3, are also associated with breast cancer according to literature."
   ]
  },
  {
   "cell_type": "code",
   "execution_count": 30,
   "metadata": {},
   "outputs": [
    {
     "data": {
      "text/html": [
       "<div>\n",
       "<style>\n",
       "    .dataframe thead tr:only-child th {\n",
       "        text-align: right;\n",
       "    }\n",
       "\n",
       "    .dataframe thead th {\n",
       "        text-align: left;\n",
       "    }\n",
       "\n",
       "    .dataframe tbody tr th {\n",
       "        vertical-align: top;\n",
       "    }\n",
       "</style>\n",
       "<table border=\"1\" class=\"dataframe\">\n",
       "  <thead>\n",
       "    <tr style=\"text-align: right;\">\n",
       "      <th></th>\n",
       "      <th>z-score</th>\n",
       "      <th>(adj) p-value</th>\n",
       "      <th>(log) fold change</th>\n",
       "    </tr>\n",
       "  </thead>\n",
       "  <tbody>\n",
       "    <tr>\n",
       "      <th>STAT1</th>\n",
       "      <td>1.732051</td>\n",
       "      <td>0.6421</td>\n",
       "      <td>0.136488</td>\n",
       "    </tr>\n",
       "    <tr>\n",
       "      <th>MYCN</th>\n",
       "      <td>1.732051</td>\n",
       "      <td>0.0545</td>\n",
       "      <td>-3.033888</td>\n",
       "    </tr>\n",
       "    <tr>\n",
       "      <th>STAT3</th>\n",
       "      <td>1.732051</td>\n",
       "      <td>0.3654</td>\n",
       "      <td>-0.324608</td>\n",
       "    </tr>\n",
       "    <tr>\n",
       "      <th>MYC</th>\n",
       "      <td>1.666667</td>\n",
       "      <td>0.1006</td>\n",
       "      <td>0.807643</td>\n",
       "    </tr>\n",
       "    <tr>\n",
       "      <th>SREBF1</th>\n",
       "      <td>1.414214</td>\n",
       "      <td>0.3877</td>\n",
       "      <td>-1.347036</td>\n",
       "    </tr>\n",
       "    <tr>\n",
       "      <th>PHKB</th>\n",
       "      <td>1.414214</td>\n",
       "      <td>0.0907</td>\n",
       "      <td>-0.781048</td>\n",
       "    </tr>\n",
       "    <tr>\n",
       "      <th>CCNA2</th>\n",
       "      <td>1.414214</td>\n",
       "      <td>0.1376</td>\n",
       "      <td>0.569129</td>\n",
       "    </tr>\n",
       "    <tr>\n",
       "      <th>ESR1</th>\n",
       "      <td>1.414214</td>\n",
       "      <td>0.0604</td>\n",
       "      <td>-1.452417</td>\n",
       "    </tr>\n",
       "    <tr>\n",
       "      <th>SREBF2</th>\n",
       "      <td>1.414214</td>\n",
       "      <td>0.5486</td>\n",
       "      <td>0.314303</td>\n",
       "    </tr>\n",
       "    <tr>\n",
       "      <th>IQGAP1</th>\n",
       "      <td>1.414214</td>\n",
       "      <td>0.5657</td>\n",
       "      <td>-0.187776</td>\n",
       "    </tr>\n",
       "  </tbody>\n",
       "</table>\n",
       "</div>"
      ],
      "text/plain": [
       "         z-score  (adj) p-value  (log) fold change\n",
       "STAT1   1.732051         0.6421           0.136488\n",
       "MYCN    1.732051         0.0545          -3.033888\n",
       "STAT3   1.732051         0.3654          -0.324608\n",
       "MYC     1.666667         0.1006           0.807643\n",
       "SREBF1  1.414214         0.3877          -1.347036\n",
       "PHKB    1.414214         0.0907          -0.781048\n",
       "CCNA2   1.414214         0.1376           0.569129\n",
       "ESR1    1.414214         0.0604          -1.452417\n",
       "SREBF2  1.414214         0.5486           0.314303\n",
       "IQGAP1  1.414214         0.5657          -0.187776"
      ]
     },
     "metadata": {},
     "output_type": "display_data"
    },
    {
     "data": {
      "text/html": [
       "<div>\n",
       "<style>\n",
       "    .dataframe thead tr:only-child th {\n",
       "        text-align: right;\n",
       "    }\n",
       "\n",
       "    .dataframe thead th {\n",
       "        text-align: left;\n",
       "    }\n",
       "\n",
       "    .dataframe tbody tr th {\n",
       "        vertical-align: top;\n",
       "    }\n",
       "</style>\n",
       "<table border=\"1\" class=\"dataframe\">\n",
       "  <thead>\n",
       "    <tr style=\"text-align: right;\">\n",
       "      <th></th>\n",
       "      <th>z-score</th>\n",
       "      <th>(adj) p-value</th>\n",
       "      <th>(log) fold change</th>\n",
       "    </tr>\n",
       "  </thead>\n",
       "  <tbody>\n",
       "    <tr>\n",
       "      <th>TP53</th>\n",
       "      <td>-1.889822</td>\n",
       "      <td>0.6567</td>\n",
       "      <td>0.131119</td>\n",
       "    </tr>\n",
       "    <tr>\n",
       "      <th>FOXO3</th>\n",
       "      <td>-1.414214</td>\n",
       "      <td>0.4660</td>\n",
       "      <td>-0.221403</td>\n",
       "    </tr>\n",
       "    <tr>\n",
       "      <th>EGR2</th>\n",
       "      <td>-1.414214</td>\n",
       "      <td>0.9456</td>\n",
       "      <td>0.223257</td>\n",
       "    </tr>\n",
       "    <tr>\n",
       "      <th>NR1H3</th>\n",
       "      <td>-1.414214</td>\n",
       "      <td>0.6998</td>\n",
       "      <td>0.123408</td>\n",
       "    </tr>\n",
       "    <tr>\n",
       "      <th>FOXO4</th>\n",
       "      <td>-1.414214</td>\n",
       "      <td>0.7937</td>\n",
       "      <td>0.403570</td>\n",
       "    </tr>\n",
       "    <tr>\n",
       "      <th>AKT1</th>\n",
       "      <td>-1.414214</td>\n",
       "      <td>0.7268</td>\n",
       "      <td>0.109646</td>\n",
       "    </tr>\n",
       "    <tr>\n",
       "      <th>NR1H2</th>\n",
       "      <td>-1.000000</td>\n",
       "      <td>0.9669</td>\n",
       "      <td>-0.020007</td>\n",
       "    </tr>\n",
       "    <tr>\n",
       "      <th>NFE2L2</th>\n",
       "      <td>-1.000000</td>\n",
       "      <td>0.2036</td>\n",
       "      <td>0.839586</td>\n",
       "    </tr>\n",
       "    <tr>\n",
       "      <th>TWIST1</th>\n",
       "      <td>-1.000000</td>\n",
       "      <td>0.6216</td>\n",
       "      <td>0.889346</td>\n",
       "    </tr>\n",
       "    <tr>\n",
       "      <th>FOXP3</th>\n",
       "      <td>-1.000000</td>\n",
       "      <td>0.4790</td>\n",
       "      <td>0.798675</td>\n",
       "    </tr>\n",
       "  </tbody>\n",
       "</table>\n",
       "</div>"
      ],
      "text/plain": [
       "         z-score  (adj) p-value  (log) fold change\n",
       "TP53   -1.889822         0.6567           0.131119\n",
       "FOXO3  -1.414214         0.4660          -0.221403\n",
       "EGR2   -1.414214         0.9456           0.223257\n",
       "NR1H3  -1.414214         0.6998           0.123408\n",
       "FOXO4  -1.414214         0.7937           0.403570\n",
       "AKT1   -1.414214         0.7268           0.109646\n",
       "NR1H2  -1.000000         0.9669          -0.020007\n",
       "NFE2L2 -1.000000         0.2036           0.839586\n",
       "TWIST1 -1.000000         0.6216           0.889346\n",
       "FOXP3  -1.000000         0.4790           0.798675"
      ]
     },
     "metadata": {},
     "output_type": "display_data"
    }
   ],
   "source": [
    "top_act_brca = stat_analysis.top_values(z_scores_brca, DEG_to_pvalue_brca, DEG_to_updown_brca, act = True, abs_value = False, top = 10)\n",
    "top_inh_brca = stat_analysis.top_values(z_scores_brca, DEG_to_pvalue_brca, DEG_to_updown_brca, act = False, abs_value = False, top = 10)\n",
    "display(top_act_brca)\n",
    "display(top_inh_brca)"
   ]
  },
  {
   "cell_type": "code",
   "execution_count": 36,
   "metadata": {},
   "outputs": [
    {
     "data": {
      "text/html": [
       "<!doctype html><html><head>  <title>Network | Basic usage</title></head><body><script type=\"text/javascript\">function setUpFrame() {     var frame = window.frames[\"style_file0\"];    frame.runVis([{\"node_shape\": \"circle\", \"degree\": 3.0, \"title\": \"CCL2\", \"color\": \"grey\", \"size_field\": 2.089924707527987, \"y\": 400.9185062641781, \"x\": 215.82169697687527, \"border_width\": 0, \"id\": \"CCL2\"}, {\"node_shape\": \"circle\", \"degree\": 3.0, \"title\": \"TGM2\", \"color\": \"grey\", \"size_field\": 3.932401799030521, \"y\": 832.3526225150896, \"x\": 585.0464444981848, \"border_width\": 0, \"id\": \"TGM2\"}, {\"node_shape\": \"circle\", \"degree\": 3.0, \"title\": \"TP53INP1\", \"color\": \"rgba(0, 0, 256, 1.0)\", \"size_field\": 5.44201937618241, \"y\": 561.2020337190393, \"x\": 320.0361735714439, \"border_width\": 2, \"id\": \"TP53INP1\"}, {\"node_shape\": \"circle\", \"degree\": 3.0, \"title\": \"SIRT2\", \"color\": \"grey\", \"size_field\": 2.8182569916027895, \"y\": 1023.6670659228193, \"x\": 1099.6645644858886, \"border_width\": 0, \"id\": \"SIRT2\"}, {\"node_shape\": \"circle\", \"degree\": 3.0, \"title\": \"SMAD4\", \"color\": \"grey\", \"size_field\": 3.6782522284344603, \"y\": 500.312019965298, \"x\": 195.21374855119578, \"border_width\": 0, \"id\": \"SMAD4\"}, {\"node_shape\": \"circle\", \"degree\": 3.0, \"title\": \"CDKN1B\", \"color\": \"grey\", \"size_field\": 4.10127823628901, \"y\": 0.0, \"x\": 300.83473344968024, \"border_width\": 0, \"id\": \"CDKN1B\"}, {\"node_shape\": \"circle\", \"degree\": 3.0, \"title\": \"IGF1R\", \"color\": \"grey\", \"size_field\": 3.944211592419732, \"y\": 590.6815598882065, \"x\": 466.4649418189371, \"border_width\": 0, \"id\": \"IGF1R\"}, {\"node_shape\": \"circle\", \"degree\": 3.0, \"title\": \"BCL2\", \"color\": \"grey\", \"size_field\": 3.5186835491656363, \"y\": 97.21599635420445, \"x\": 327.0952556003801, \"border_width\": 0, \"id\": \"BCL2\"}, {\"node_shape\": \"circle\", \"degree\": 3.0, \"title\": \"CHL1\", \"color\": \"grey\", \"size_field\": 2.7991745852054755, \"y\": 150.01745333260487, \"x\": 196.81634317195943, \"border_width\": 0, \"id\": \"CHL1\"}, {\"node_shape\": \"circle\", \"degree\": 3.0, \"title\": \"NDRG1\", \"color\": \"grey\", \"size_field\": 2.282628198149102, \"y\": 462.0764295352226, \"x\": 311.6051501702477, \"border_width\": 0, \"id\": \"NDRG1\"}, {\"node_shape\": \"circle\", \"degree\": 3.0, \"title\": \"MYBL2\", \"color\": \"grey\", \"size_field\": 2.316904931128684, \"y\": 581.2757603387645, \"x\": 29.196440460683252, \"border_width\": 0, \"id\": \"MYBL2\"}, {\"node_shape\": \"circle\", \"degree\": 3.0, \"title\": \"NES\", \"color\": \"grey\", \"size_field\": 2.8751487885429796, \"y\": 858.1248497546686, \"x\": 495.54995304217147, \"border_width\": 0, \"id\": \"NES\"}, {\"node_shape\": \"circle\", \"degree\": 3.0, \"title\": \"GSN\", \"color\": \"grey\", \"size_field\": 3.868856519613022, \"y\": 126.06398153806263, \"x\": 118.83897018712588, \"border_width\": 0, \"id\": \"GSN\"}, {\"node_shape\": \"star\", \"degree\": 3.0, \"title\": \"MYCN\", \"color\": \"grey\", \"size_field\": 13.44201937618241, \"y\": 1106.664523425727, \"x\": 622.8734873621531, \"border_width\": 0, \"id\": \"MYCN\"}, {\"node_shape\": \"circle\", \"degree\": 3.0, \"title\": \"KLF10\", \"color\": \"grey\", \"size_field\": 2.8636982817549845, \"y\": 650.2048530546799, \"x\": 986.8474457706494, \"border_width\": 0, \"id\": \"KLF10\"}, {\"node_shape\": \"circle\", \"degree\": 3.0, \"title\": \"STAT3\", \"color\": \"grey\", \"size_field\": 3.0067626350382306, \"y\": 94.01891143841239, \"x\": 511.99482979546656, \"border_width\": 0, \"id\": \"STAT3\"}, {\"node_shape\": \"circle\", \"degree\": 3.0, \"title\": \"CHD7\", \"color\": \"grey\", \"size_field\": 3.1933626252139202, \"y\": 843.16471575822, \"x\": 114.12996783373167, \"border_width\": 0, \"id\": \"CHD7\"}, {\"node_shape\": \"circle\", \"degree\": 3.0, \"title\": \"RUNX3\", \"color\": \"grey\", \"size_field\": 2.6790470561811635, \"y\": 313.3658310297809, \"x\": 439.33448960281635, \"border_width\": 0, \"id\": \"RUNX3\"}, {\"node_shape\": \"circle\", \"degree\": 3.0, \"title\": \"CDKL5\", \"color\": \"rgba(0, 0, 256, 1.0)\", \"size_field\": 5.18689277901515, \"y\": 192.36359944203474, \"x\": 782.3410691570577, \"border_width\": 2, \"id\": \"CDKL5\"}, {\"node_shape\": \"circle\", \"degree\": 3.0, \"title\": \"SOX11\", \"color\": \"grey\", \"size_field\": 2.8209805520698303, \"y\": 721.1400308701676, \"x\": 0.0, \"border_width\": 0, \"id\": \"SOX11\"}, {\"node_shape\": \"circle\", \"degree\": 3.0, \"title\": \"NTRK1\", \"color\": \"grey\", \"size_field\": 2.0781777810640243, \"y\": 359.38899399042475, \"x\": 84.07419173525646, \"border_width\": 0, \"id\": \"NTRK1\"}, {\"node_shape\": \"circle\", \"degree\": 3.0, \"title\": \"RGS5\", \"color\": \"grey\", \"size_field\": 4.6635549612156595, \"y\": 702.0337353331354, \"x\": 439.0686985440888, \"border_width\": 0, \"id\": \"RGS5\"}, {\"node_shape\": \"circle\", \"degree\": 3.0, \"title\": \"GLI1\", \"color\": \"grey\", \"size_field\": 2.1338743085563276, \"y\": 100.63305237809922, \"x\": 659.2579820835464, \"border_width\": 0, \"id\": \"GLI1\"}, {\"node_shape\": \"circle\", \"degree\": 3.0, \"title\": \"NFKB1\", \"color\": \"grey\", \"size_field\": 2.533923675011968, \"y\": 496.6826723471049, \"x\": 485.0593046119715, \"border_width\": 0, \"id\": \"NFKB1\"}, {\"node_shape\": \"circle\", \"degree\": 3.0, \"title\": \"MYC\", \"color\": \"grey\", \"size_field\": 4.296603021316498, \"y\": 81.02210585309149, \"x\": 267.9432908101149, \"border_width\": 0, \"id\": \"MYC\"}, {\"node_shape\": \"circle\", \"degree\": 3.0, \"title\": \"TRPM7\", \"color\": \"grey\", \"size_field\": 3.396344696973392, \"y\": 1032.8175366778041, \"x\": 208.1886603899501, \"border_width\": 0, \"id\": \"TRPM7\"}, {\"node_shape\": \"circle\", \"degree\": 3.0, \"title\": \"WT1\", \"color\": \"grey\", \"size_field\": 2.133188594243745, \"y\": 1039.384869345022, \"x\": 351.7848430797344, \"border_width\": 0, \"id\": \"WT1\"}, {\"node_shape\": \"circle\", \"degree\": 3.0, \"title\": \"WDR5\", \"color\": \"grey\", \"size_field\": 4.02117263355586, \"y\": 501.5419161927839, \"x\": 601.179466219837, \"border_width\": 0, \"id\": \"WDR5\"}, {\"node_shape\": \"circle\", \"degree\": 3.0, \"title\": \"SHC2\", \"color\": \"grey\", \"size_field\": 3.370027388656019, \"y\": 732.484378460754, \"x\": 110.64467146161056, \"border_width\": 0, \"id\": \"SHC2\"}, {\"node_shape\": \"circle\", \"degree\": 3.0, \"title\": \"ASCL1\", \"color\": \"rgba(256, 8, 8, 1.0)\", \"size_field\": 5.414282621210811, \"y\": 622.634039909971, \"x\": 773.4584084667855, \"border_width\": 2, \"id\": \"ASCL1\"}, {\"node_shape\": \"circle\", \"degree\": 3.0, \"title\": \"CTSD\", \"color\": \"grey\", \"size_field\": 4.838728524744326, \"y\": 746.6658336094101, \"x\": 320.42499549568214, \"border_width\": 0, \"id\": \"CTSD\"}, {\"node_shape\": \"circle\", \"degree\": 3.0, \"title\": \"HMGA1\", \"color\": \"grey\", \"size_field\": 2.8563722416629114, \"y\": 433.99150395803645, \"x\": 150.9610419463421, \"border_width\": 0, \"id\": \"HMGA1\"}, {\"node_shape\": \"circle\", \"degree\": 3.0, \"title\": \"MCM7\", \"color\": \"grey\", \"size_field\": 3.8546992690019293, \"y\": 1043.7777896752123, \"x\": 936.5358901566591, \"border_width\": 0, \"id\": \"MCM7\"}, {\"node_shape\": \"circle\", \"degree\": 3.0, \"title\": \"VEGFA\", \"color\": \"grey\", \"size_field\": 3.525556428453398, \"y\": 328.9392652805356, \"x\": 298.7516671655928, \"border_width\": 0, \"id\": \"VEGFA\"}, {\"node_shape\": \"circle\", \"degree\": 3.0, \"title\": \"SHH\", \"color\": \"grey\", \"size_field\": 2.9731256686266936, \"y\": 386.73993977629567, \"x\": 725.6155726029609, \"border_width\": 0, \"id\": \"SHH\"}, {\"node_shape\": \"circle\", \"degree\": 3.0, \"title\": \"SLC19A1\", \"color\": \"grey\", \"size_field\": 4.267217949156755, \"y\": 1146.063414772132, \"x\": 140.11512949526906, \"border_width\": 0, \"id\": \"SLC19A1\"}, {\"node_shape\": \"circle\", \"degree\": 3.0, \"title\": \"TRPM6\", \"color\": \"grey\", \"size_field\": 2.8472311959426606, \"y\": 1059.990473131485, \"x\": 828.0072673224414, \"border_width\": 0, \"id\": \"TRPM6\"}, {\"node_shape\": \"circle\", \"degree\": 3.0, \"title\": \"ALK\", \"color\": \"grey\", \"size_field\": 2.384486701722973, \"y\": 517.0172181467042, \"x\": 864.4573200767263, \"border_width\": 0, \"id\": \"ALK\"}, {\"node_shape\": \"circle\", \"degree\": 3.0, \"title\": \"TP53\", \"color\": \"grey\", \"size_field\": 2.4205279857852102, \"y\": 338.07918168019484, \"x\": 365.6053460326069, \"border_width\": 0, \"id\": \"TP53\"}, {\"node_shape\": \"circle\", \"degree\": 3.0, \"title\": \"BMP2\", \"color\": \"grey\", \"size_field\": 3.0555527992076628, \"y\": 297.7574905741634, \"x\": 699.8766941199337, \"border_width\": 0, \"id\": \"BMP2\"}, {\"node_shape\": \"circle\", \"degree\": 3.0, \"title\": \"CCND1\", \"color\": \"grey\", \"size_field\": 3.2437536743377806, \"y\": 322.9620977866278, \"x\": 474.5517241676025, \"border_width\": 0, \"id\": \"CCND1\"}, {\"node_shape\": \"circle\", \"degree\": 3.0, \"title\": \"LRRN3\", \"color\": \"grey\", \"size_field\": 2.8171243603796565, \"y\": 433.42897197583545, \"x\": 945.8587266403556, \"border_width\": 0, \"id\": \"LRRN3\"}, {\"node_shape\": \"circle\", \"degree\": 3.0, \"title\": \"INSM1\", \"color\": \"grey\", \"size_field\": 2.256312612705724, \"y\": 374.4007965574307, \"x\": 689.3507619185488, \"border_width\": 0, \"id\": \"INSM1\"}, {\"node_shape\": \"circle\", \"degree\": 3.0, \"title\": \"AHR\", \"color\": \"grey\", \"size_field\": 2.23990829764694, \"y\": 1200.0, \"x\": 300.9751932166425, \"border_width\": 0, \"id\": \"AHR\"}, {\"node_shape\": \"circle\", \"degree\": 3.0, \"title\": \"PTEN\", \"color\": \"grey\", \"size_field\": 3.3242589702004377, \"y\": 486.7474507476246, \"x\": 292.3966982329103, \"border_width\": 0, \"id\": \"PTEN\"}, {\"node_shape\": \"circle\", \"degree\": 3.0, \"title\": \"VIP\", \"color\": \"grey\", \"size_field\": 2.0948602810239603, \"y\": 509.62672491296877, \"x\": 647.4743542000979, \"border_width\": 0, \"id\": \"VIP\"}, {\"node_shape\": \"circle\", \"degree\": 3.0, \"title\": \"RD3\", \"color\": \"grey\", \"size_field\": 2.0142003494011416, \"y\": 1023.875612447742, \"x\": 72.14992874238769, \"border_width\": 0, \"id\": \"RD3\"}, {\"node_shape\": \"circle\", \"degree\": 3.0, \"title\": \"SIRT1\", \"color\": \"grey\", \"size_field\": 2.434173272244908, \"y\": 356.606600111419, \"x\": 545.3394828296188, \"border_width\": 0, \"id\": \"SIRT1\"}, {\"node_shape\": \"circle\", \"degree\": 3.0, \"title\": \"MTOR\", \"color\": \"grey\", \"size_field\": 2.2470520963658855, \"y\": 364.6726329153734, \"x\": 422.1868261222263, \"border_width\": 0, \"id\": \"MTOR\"}, {\"node_shape\": \"circle\", \"degree\": 3.0, \"title\": \"KDM3A\", \"color\": \"grey\", \"size_field\": 3.606941032235513, \"y\": 993.6217541054614, \"x\": 1021.2769622209825, \"border_width\": 0, \"id\": \"KDM3A\"}, {\"node_shape\": \"circle\", \"degree\": 3.0, \"title\": \"KDM5B\", \"color\": \"grey\", \"size_field\": 2.501865882394519, \"y\": 79.82556326441548, \"x\": 385.12966186841953, \"border_width\": 0, \"id\": \"KDM5B\"}, {\"node_shape\": \"circle\", \"degree\": 3.0, \"title\": \"CDC42\", \"color\": \"grey\", \"size_field\": 2.6002034349172076, \"y\": 91.88901393290068, \"x\": 449.6150661759997, \"border_width\": 0, \"id\": \"CDC42\"}], [{\"color\": \"blue\", \"source\": 26, \"target\": 40}, {\"color\": \"blue\", \"source\": 26, \"target\": 6}, {\"color\": \"blue\", \"source\": 26, \"target\": 7}, {\"color\": \"red\", \"source\": 4, \"target\": 38}, {\"color\": \"blue\", \"source\": 4, \"target\": 40}, {\"color\": \"red\", \"source\": 4, \"target\": 5}, {\"color\": \"blue\", \"source\": 4, \"target\": 33}, {\"color\": \"blue\", \"source\": 4, \"target\": 24}, {\"color\": \"blue\", \"source\": 13, \"target\": 0}, {\"color\": \"blue\", \"source\": 13, \"target\": 1}, {\"color\": \"blue\", \"source\": 13, \"target\": 2}, {\"color\": \"red\", \"source\": 13, \"target\": 3}, {\"color\": \"blue\", \"source\": 13, \"target\": 4}, {\"color\": \"blue\", \"source\": 13, \"target\": 5}, {\"color\": \"red\", \"source\": 13, \"target\": 6}, {\"color\": \"red\", \"source\": 13, \"target\": 7}, {\"color\": \"blue\", \"source\": 13, \"target\": 8}, {\"color\": \"blue\", \"source\": 13, \"target\": 9}, {\"color\": \"red\", \"source\": 13, \"target\": 10}, {\"color\": \"red\", \"source\": 13, \"target\": 11}, {\"color\": \"red\", \"source\": 13, \"target\": 11}, {\"color\": \"blue\", \"source\": 13, \"target\": 12}, {\"color\": \"blue\", \"source\": 13, \"target\": 14}, {\"color\": \"red\", \"source\": 13, \"target\": 15}, {\"color\": \"blue\", \"source\": 13, \"target\": 16}, {\"color\": \"blue\", \"source\": 13, \"target\": 17}, {\"color\": \"blue\", \"source\": 13, \"target\": 18}, {\"color\": \"red\", \"source\": 13, \"target\": 19}, {\"color\": \"blue\", \"source\": 13, \"target\": 20}, {\"color\": \"blue\", \"source\": 13, \"target\": 21}, {\"color\": \"red\", \"source\": 13, \"target\": 22}, {\"color\": \"blue\", \"source\": 13, \"target\": 23}, {\"color\": \"blue\", \"source\": 13, \"target\": 24}, {\"color\": \"red\", \"source\": 13, \"target\": 25}, {\"color\": \"blue\", \"source\": 13, \"target\": 26}, {\"color\": \"red\", \"source\": 13, \"target\": 27}, {\"color\": \"red\", \"source\": 13, \"target\": 28}, {\"color\": \"red\", \"source\": 13, \"target\": 29}, {\"color\": \"blue\", \"source\": 13, \"target\": 30}, {\"color\": \"red\", \"source\": 13, \"target\": 31}, {\"color\": \"red\", \"source\": 13, \"target\": 32}, {\"color\": \"red\", \"source\": 13, \"target\": 33}, {\"color\": \"red\", \"source\": 13, \"target\": 34}, {\"color\": \"red\", \"source\": 13, \"target\": 35}, {\"color\": \"red\", \"source\": 13, \"target\": 36}, {\"color\": \"red\", \"source\": 13, \"target\": 37}, {\"color\": \"red\", \"source\": 13, \"target\": 38}, {\"color\": \"blue\", \"source\": 13, \"target\": 39}, {\"color\": \"red\", \"source\": 13, \"target\": 40}, {\"color\": \"blue\", \"source\": 13, \"target\": 41}, {\"color\": \"red\", \"source\": 13, \"target\": 42}, {\"color\": \"blue\", \"source\": 13, \"target\": 43}, {\"color\": \"red\", \"source\": 13, \"target\": 44}, {\"color\": \"blue\", \"source\": 13, \"target\": 45}, {\"color\": \"blue\", \"source\": 13, \"target\": 46}, {\"color\": \"red\", \"source\": 13, \"target\": 47}, {\"color\": \"red\", \"source\": 13, \"target\": 48}, {\"color\": \"red\", \"source\": 13, \"target\": 49}, {\"color\": \"blue\", \"source\": 13, \"target\": 50}, {\"color\": \"blue\", \"source\": 13, \"target\": 51}, {\"color\": \"blue\", \"source\": 13, \"target\": 51}, {\"color\": \"red\", \"source\": 14, \"target\": 39}, {\"color\": \"red\", \"source\": 15, \"target\": 6}, {\"color\": \"blue\", \"source\": 15, \"target\": 38}, {\"color\": \"blue\", \"source\": 15, \"target\": 40}, {\"color\": \"blue\", \"source\": 15, \"target\": 40}, {\"color\": \"blue\", \"source\": 15, \"target\": 47}, {\"color\": \"blue\", \"source\": 15, \"target\": 33}, {\"color\": \"blue\", \"source\": 15, \"target\": 33}, {\"color\": \"red\", \"source\": 15, \"target\": 48}, {\"color\": \"red\", \"source\": 15, \"target\": 24}, {\"color\": \"blue\", \"source\": 44, \"target\": 0}, {\"color\": \"blue\", \"source\": 44, \"target\": 1}, {\"color\": \"blue\", \"source\": 44, \"target\": 38}, {\"color\": \"blue\", \"source\": 44, \"target\": 40}, {\"color\": \"blue\", \"source\": 44, \"target\": 20}, {\"color\": \"blue\", \"source\": 44, \"target\": 33}, {\"color\": \"blue\", \"source\": 44, \"target\": 48}, {\"color\": \"red\", \"source\": 44, \"target\": 9}, {\"color\": \"blue\", \"source\": 44, \"target\": 24}, {\"color\": \"blue\", \"source\": 44, \"target\": 50}, {\"color\": \"blue\", \"source\": 44, \"target\": 7}, {\"color\": \"red\", \"source\": 22, \"target\": 37}, {\"color\": \"blue\", \"source\": 22, \"target\": 40}, {\"color\": \"blue\", \"source\": 22, \"target\": 40}, {\"color\": \"red\", \"source\": 22, \"target\": 34}, {\"color\": \"red\", \"source\": 22, \"target\": 34}, {\"color\": \"blue\", \"source\": 22, \"target\": 7}, {\"color\": \"blue\", \"source\": 22, \"target\": 7}, {\"color\": \"blue\", \"source\": 22, \"target\": 39}, {\"color\": \"blue\", \"source\": 22, \"target\": 39}, {\"color\": \"red\", \"source\": 23, \"target\": 0}, {\"color\": \"blue\", \"source\": 23, \"target\": 47}, {\"color\": \"blue\", \"source\": 23, \"target\": 47}, {\"color\": \"red\", \"source\": 23, \"target\": 38}, {\"color\": \"red\", \"source\": 23, \"target\": 40}, {\"color\": \"red\", \"source\": 23, \"target\": 33}, {\"color\": \"red\", \"source\": 23, \"target\": 34}, {\"color\": \"red\", \"source\": 23, \"target\": 48}, {\"color\": \"red\", \"source\": 23, \"target\": 24}, {\"color\": \"red\", \"source\": 23, \"target\": 7}, {\"color\": \"red\", \"source\": 24, \"target\": 0}, {\"color\": \"red\", \"source\": 24, \"target\": 47}, {\"color\": \"red\", \"source\": 24, \"target\": 15}, {\"color\": \"blue\", \"source\": 24, \"target\": 2}, {\"color\": \"blue\", \"source\": 24, \"target\": 38}, {\"color\": \"blue\", \"source\": 24, \"target\": 17}, {\"color\": \"red\", \"source\": 24, \"target\": 40}, {\"color\": \"blue\", \"source\": 24, \"target\": 5}, {\"color\": \"blue\", \"source\": 24, \"target\": 5}, {\"color\": \"red\", \"source\": 24, \"target\": 23}, {\"color\": \"blue\", \"source\": 24, \"target\": 39}, {\"color\": \"blue\", \"source\": 24, \"target\": 44}, {\"color\": \"blue\", \"source\": 24, \"target\": 45}, {\"color\": \"blue\", \"source\": 24, \"target\": 33}, {\"color\": \"blue\", \"source\": 24, \"target\": 9}, {\"color\": \"blue\", \"source\": 24, \"target\": 9}, {\"color\": \"blue\", \"source\": 24, \"target\": 48}, {\"color\": \"red\", \"source\": 24, \"target\": 31}, {\"color\": \"blue\", \"source\": 24, \"target\": 4}, {\"color\": \"blue\", \"source\": 24, \"target\": 7}, {\"color\": \"blue\", \"source\": 24, \"target\": 7}, {\"color\": \"red\", \"source\": 29, \"target\": 34}, {\"color\": \"blue\", \"source\": 29, \"target\": 47}, {\"color\": \"red\", \"source\": 29, \"target\": 42}, {\"color\": \"red\", \"source\": 31, \"target\": 24}, {\"color\": \"blue\", \"source\": 31, \"target\": 38}, {\"color\": \"red\", \"source\": 38, \"target\": 0}, {\"color\": \"blue\", \"source\": 38, \"target\": 6}, {\"color\": \"red\", \"source\": 38, \"target\": 2}, {\"color\": \"blue\", \"source\": 38, \"target\": 15}, {\"color\": \"blue\", \"source\": 38, \"target\": 40}, {\"color\": \"blue\", \"source\": 38, \"target\": 5}, {\"color\": \"red\", \"source\": 38, \"target\": 30}, {\"color\": \"blue\", \"source\": 38, \"target\": 47}, {\"color\": \"blue\", \"source\": 38, \"target\": 47}, {\"color\": \"blue\", \"source\": 38, \"target\": 47}, {\"color\": \"blue\", \"source\": 38, \"target\": 31}, {\"color\": \"blue\", \"source\": 38, \"target\": 44}, {\"color\": \"blue\", \"source\": 38, \"target\": 33}, {\"color\": \"red\", \"source\": 38, \"target\": 9}, {\"color\": \"red\", \"source\": 38, \"target\": 34}, {\"color\": \"red\", \"source\": 38, \"target\": 23}, {\"color\": \"blue\", \"source\": 38, \"target\": 24}, {\"color\": \"blue\", \"source\": 38, \"target\": 11}, {\"color\": \"red\", \"source\": 38, \"target\": 4}, {\"color\": \"blue\", \"source\": 38, \"target\": 7}, {\"color\": \"blue\", \"source\": 38, \"target\": 7}, {\"color\": \"blue\", \"source\": 38, \"target\": 7}, {\"color\": \"blue\", \"source\": 42, \"target\": 40}, {\"color\": \"red\", \"source\": 42, \"target\": 29}, {\"color\": \"red\", \"source\": 42, \"target\": 34}, {\"color\": \"red\", \"source\": 43, \"target\": 0}, {\"color\": \"red\", \"source\": 43, \"target\": 9}, {\"color\": \"red\", \"source\": 43, \"target\": 33}, {\"color\": \"blue\", \"source\": 17, \"target\": 24}, {\"color\": \"blue\", \"source\": 17, \"target\": 33}, {\"color\": \"blue\", \"source\": 17, \"target\": 7}, {\"color\": \"blue\", \"source\": 47, \"target\": 15}, {\"color\": \"red\", \"source\": 47, \"target\": 5}, {\"color\": \"blue\", \"source\": 47, \"target\": 29}, {\"color\": \"blue\", \"source\": 47, \"target\": 33}, {\"color\": \"blue\", \"source\": 47, \"target\": 23}, {\"color\": \"blue\", \"source\": 47, \"target\": 23}, {\"color\": \"blue\", \"source\": 47, \"target\": 38}, {\"color\": \"blue\", \"source\": 47, \"target\": 38}, {\"color\": \"blue\", \"source\": 47, \"target\": 38}, {\"color\": \"red\", \"source\": 47, \"target\": 24}, {\"color\": \"blue\", \"source\": 50, \"target\": 44}]);}</script><iframe name=\"style_file0\" src=\"style_file0.html\" width=\"100%;\" height=\"805px\"></iframe></body></html>"
      ],
      "text/plain": [
       "<IPython.core.display.HTML object>"
      ]
     },
     "execution_count": 36,
     "metadata": {},
     "output_type": "execute_result"
    }
   ],
   "source": [
    "stat_analysis.vis_tf_network(DG_brca, 'MYCN', '../../DEG_databases/geo2r_GSE11352_brca_48hours.txt', list(DEG_list_brca),\n",
    "              directed_edges = True,\n",
    "              node_spacing = 1200,\n",
    "              graph_id = 0) "
   ]
  },
  {
   "cell_type": "code",
   "execution_count": 35,
   "metadata": {},
   "outputs": [
    {
     "data": {
      "text/html": [
       "<!doctype html><html><head>  <title>Network | Basic usage</title></head><body><script type=\"text/javascript\">function setUpFrame() {     var frame = window.frames[\"style_file1\"];    frame.runVis([{\"node_shape\": \"circle\", \"degree\": 3.0, \"title\": \"MOV10\", \"color\": \"grey\", \"size_field\": 3.4300372840678093, \"y\": 1580.7659405645009, \"x\": 236.81845083644797, \"border_width\": 0, \"id\": \"MOV10\"}, {\"node_shape\": \"circle\", \"degree\": 3.0, \"title\": \"HSPA4\", \"color\": \"grey\", \"size_field\": 4.446455463413748, \"y\": 1695.0137853000026, \"x\": 1110.8294254316534, \"border_width\": 0, \"id\": \"HSPA4\"}, {\"node_shape\": \"circle\", \"degree\": 3.0, \"title\": \"PLK1\", \"color\": \"grey\", \"size_field\": 3.433385968653741, \"y\": 1857.0205495470132, \"x\": 654.7633569949109, \"border_width\": 0, \"id\": \"PLK1\"}, {\"node_shape\": \"circle\", \"degree\": 3.0, \"title\": \"PRKAG3\", \"color\": \"grey\", \"size_field\": 2.573055700302125, \"y\": 1128.6894264011553, \"x\": 1576.6262045473507, \"border_width\": 0, \"id\": \"PRKAG3\"}, {\"node_shape\": \"circle\", \"degree\": 3.0, \"title\": \"PRKAG2\", \"color\": \"grey\", \"size_field\": 3.7153541380256496, \"y\": 1954.2590145221436, \"x\": 793.296333422139, \"border_width\": 0, \"id\": \"PRKAG2\"}, {\"node_shape\": \"circle\", \"degree\": 3.0, \"title\": \"IKBKB\", \"color\": \"grey\", \"size_field\": 2.5563461390678, \"y\": 924.7135226842637, \"x\": 1010.248434873864, \"border_width\": 0, \"id\": \"IKBKB\"}, {\"node_shape\": \"circle\", \"degree\": 3.0, \"title\": \"AKT1\", \"color\": \"grey\", \"size_field\": 2.3191039424601207, \"y\": 1277.0460184047831, \"x\": 765.6077957033768, \"border_width\": 0, \"id\": \"AKT1\"}, {\"node_shape\": \"circle\", \"degree\": 3.0, \"title\": \"AKT2\", \"color\": \"grey\", \"size_field\": 3.296819354692288, \"y\": 1315.3505699443187, \"x\": 643.569583840314, \"border_width\": 0, \"id\": \"AKT2\"}, {\"node_shape\": \"circle\", \"degree\": 3.0, \"title\": \"AKT3\", \"color\": \"grey\", \"size_field\": 2.7689488939762272, \"y\": 1245.407625124108, \"x\": 876.6595745436895, \"border_width\": 0, \"id\": \"AKT3\"}, {\"node_shape\": \"circle\", \"degree\": 3.0, \"title\": \"TNRC6C\", \"color\": \"grey\", \"size_field\": 4.584948003968227, \"y\": 2143.529948397878, \"x\": 482.79194084620934, \"border_width\": 0, \"id\": \"TNRC6C\"}, {\"node_shape\": \"circle\", \"degree\": 3.0, \"title\": \"TNRC6B\", \"color\": \"grey\", \"size_field\": 3.8457933577205408, \"y\": 849.16097486597, \"x\": 342.64693192385323, \"border_width\": 0, \"id\": \"TNRC6B\"}, {\"node_shape\": \"circle\", \"degree\": 3.0, \"title\": \"TNRC6A\", \"color\": \"grey\", \"size_field\": 2.9205497887945384, \"y\": 1618.7440527814394, \"x\": 1196.6700486748268, \"border_width\": 0, \"id\": \"TNRC6A\"}, {\"node_shape\": \"circle\", \"degree\": 3.0, \"title\": \"PMAIP1\", \"color\": \"grey\", \"size_field\": 4.71356538179032, \"y\": 1962.2292230798419, \"x\": 859.0423367426259, \"border_width\": 0, \"id\": \"PMAIP1\"}, {\"node_shape\": \"circle\", \"degree\": 3.0, \"title\": \"ADIPOQ\", \"color\": \"grey\", \"size_field\": 2.7832907304129115, \"y\": 1579.2164431007925, \"x\": 724.1103598980166, \"border_width\": 0, \"id\": \"ADIPOQ\"}, {\"node_shape\": \"circle\", \"degree\": 3.0, \"title\": \"RAN\", \"color\": \"grey\", \"size_field\": 3.3034248832975956, \"y\": 1051.3733451801133, \"x\": 1507.3643781356602, \"border_width\": 0, \"id\": \"RAN\"}, {\"node_shape\": \"circle\", \"degree\": 3.0, \"title\": \"GADD45A\", \"color\": \"grey\", \"size_field\": 2.279846186684006, \"y\": 1432.5435593638788, \"x\": 742.1791274195182, \"border_width\": 0, \"id\": \"GADD45A\"}, {\"node_shape\": \"circle\", \"degree\": 3.0, \"title\": \"YWHAH\", \"color\": \"grey\", \"size_field\": 2.9757753787090473, \"y\": 1455.1147891879316, \"x\": 959.4673870061337, \"border_width\": 0, \"id\": \"YWHAH\"}, {\"node_shape\": \"circle\", \"degree\": 3.0, \"title\": \"PRKAG1\", \"color\": \"grey\", \"size_field\": 2.0030045090202986, \"y\": 1181.6686421103625, \"x\": 1386.939495363548, \"border_width\": 0, \"id\": \"PRKAG1\"}, {\"node_shape\": \"circle\", \"degree\": 3.0, \"title\": \"CSNK1E\", \"color\": \"grey\", \"size_field\": 2.6933472005626125, \"y\": 863.1782042400068, \"x\": 1457.572792410563, \"border_width\": 0, \"id\": \"CSNK1E\"}, {\"node_shape\": \"circle\", \"degree\": 3.0, \"title\": \"CDH1\", \"color\": \"grey\", \"size_field\": 2.655080979753489, \"y\": 1343.8193494281973, \"x\": 491.00399083015975, \"border_width\": 0, \"id\": \"CDH1\"}, {\"node_shape\": \"circle\", \"degree\": 3.0, \"title\": \"MYC\", \"color\": \"grey\", \"size_field\": 4.296603021316498, \"y\": 1520.4623779753665, \"x\": 504.3006644441528, \"border_width\": 0, \"id\": \"MYC\"}, {\"node_shape\": \"circle\", \"degree\": 3.0, \"title\": \"CDKN2B\", \"color\": \"rgba(0, 0, 256, 1.0)\", \"size_field\": 5.094448246493149, \"y\": 1398.010684033363, \"x\": 877.9655430205326, \"border_width\": 2, \"id\": \"CDKN2B\"}, {\"node_shape\": \"circle\", \"degree\": 3.0, \"title\": \"STK11\", \"color\": \"grey\", \"size_field\": 3.3356012468043725, \"y\": 1139.1003781533639, \"x\": 1013.2936088534502, \"border_width\": 0, \"id\": \"STK11\"}, {\"node_shape\": \"circle\", \"degree\": 3.0, \"title\": \"CTSL\", \"color\": \"grey\", \"size_field\": 2.741917344929375, \"y\": 2300.0, \"x\": 187.54361342451716, \"border_width\": 0, \"id\": \"CTSL\"}, {\"node_shape\": \"circle\", \"degree\": 3.0, \"title\": \"SP1\", \"color\": \"grey\", \"size_field\": 3.0659515064285614, \"y\": 1670.347131702082, \"x\": 754.788653831868, \"border_width\": 0, \"id\": \"SP1\"}, {\"node_shape\": \"circle\", \"degree\": 3.0, \"title\": \"TSC22D3\", \"color\": \"grey\", \"size_field\": 4.267217949156755, \"y\": 731.0873860001548, \"x\": 1957.6383240042594, \"border_width\": 0, \"id\": \"TSC22D3\"}, {\"node_shape\": \"circle\", \"degree\": 3.0, \"title\": \"STK4\", \"color\": \"grey\", \"size_field\": 3.4093583007184423, \"y\": 711.1117507583992, \"x\": 834.5619451010261, \"border_width\": 0, \"id\": \"STK4\"}, {\"node_shape\": \"circle\", \"degree\": 3.0, \"title\": \"SNAI1\", \"color\": \"grey\", \"size_field\": 2.7936307191382674, \"y\": 873.0325943995867, \"x\": 577.6087058244545, \"border_width\": 0, \"id\": \"SNAI1\"}, {\"node_shape\": \"circle\", \"degree\": 3.0, \"title\": \"SETD7\", \"color\": \"grey\", \"size_field\": 2.7244314705997117, \"y\": 1659.7687218064264, \"x\": 940.7303862899853, \"border_width\": 0, \"id\": \"SETD7\"}, {\"node_shape\": \"circle\", \"degree\": 3.0, \"title\": \"GATA1\", \"color\": \"grey\", \"size_field\": 2.1928568587093373, \"y\": 581.3833507587641, \"x\": 948.7634500218234, \"border_width\": 0, \"id\": \"GATA1\"}, {\"node_shape\": \"circle\", \"degree\": 3.0, \"title\": \"NME1\", \"color\": \"grey\", \"size_field\": 4.267217949156755, \"y\": 837.7652154203865, \"x\": 1122.3636121981522, \"border_width\": 0, \"id\": \"NME1\"}, {\"node_shape\": \"circle\", \"degree\": 3.0, \"title\": \"FOXM1\", \"color\": \"grey\", \"size_field\": 2.045311222710003, \"y\": 1095.9143876077205, \"x\": 964.6577351276098, \"border_width\": 0, \"id\": \"FOXM1\"}, {\"node_shape\": \"circle\", \"degree\": 3.0, \"title\": \"FOXP3\", \"color\": \"grey\", \"size_field\": 2.736054681571222, \"y\": 1375.3656927191766, \"x\": 156.34383564298892, \"border_width\": 0, \"id\": \"FOXP3\"}, {\"node_shape\": \"circle\", \"degree\": 3.0, \"title\": \"TNFSF10\", \"color\": \"grey\", \"size_field\": 3.7909597890574904, \"y\": 994.618491844656, \"x\": 474.9287433739066, \"border_width\": 0, \"id\": \"TNFSF10\"}, {\"node_shape\": \"circle\", \"degree\": 3.0, \"title\": \"CDKN1B\", \"color\": \"grey\", \"size_field\": 4.10127823628901, \"y\": 1171.132168358501, \"x\": 706.7074574585889, \"border_width\": 0, \"id\": \"CDKN1B\"}, {\"node_shape\": \"circle\", \"degree\": 3.0, \"title\": \"CDKN1A\", \"color\": \"grey\", \"size_field\": 2.1101497435009873, \"y\": 1497.799148684322, \"x\": 612.8630965866523, \"border_width\": 0, \"id\": \"CDKN1A\"}, {\"node_shape\": \"circle\", \"degree\": 3.0, \"title\": \"KAT2B\", \"color\": \"grey\", \"size_field\": 4.8717462937730005, \"y\": 1847.8789717739799, \"x\": 564.3049500941366, \"border_width\": 0, \"id\": \"KAT2B\"}, {\"node_shape\": \"circle\", \"degree\": 3.0, \"title\": \"PINK1\", \"color\": \"grey\", \"size_field\": 3.1384972223670244, \"y\": 1710.1236012191632, \"x\": 0.0, \"border_width\": 0, \"id\": \"PINK1\"}, {\"node_shape\": \"circle\", \"degree\": 3.0, \"title\": \"MTDH\", \"color\": \"grey\", \"size_field\": 3.389098288452625, \"y\": 1480.4241158620362, \"x\": 247.0606561485248, \"border_width\": 0, \"id\": \"MTDH\"}, {\"node_shape\": \"circle\", \"degree\": 3.0, \"title\": \"XPO1\", \"color\": \"grey\", \"size_field\": 2.8060919395760795, \"y\": 1933.439324739348, \"x\": 713.1580524256673, \"border_width\": 0, \"id\": \"XPO1\"}, {\"node_shape\": \"circle\", \"degree\": 3.0, \"title\": \"MST1\", \"color\": \"grey\", \"size_field\": 2.6597124044737077, \"y\": 506.81562205980833, \"x\": 889.5852276031128, \"border_width\": 0, \"id\": \"MST1\"}, {\"node_shape\": \"circle\", \"degree\": 3.0, \"title\": \"RRM2B\", \"color\": \"grey\", \"size_field\": 2.4879232305486862, \"y\": 1981.3170325067567, \"x\": 1152.01335188343, \"border_width\": 0, \"id\": \"RRM2B\"}, {\"node_shape\": \"circle\", \"degree\": 3.0, \"title\": \"NLK\", \"color\": \"grey\", \"size_field\": 2.980829253011726, \"y\": 1253.371625328951, \"x\": 621.0584083597624, \"border_width\": 0, \"id\": \"NLK\"}, {\"node_shape\": \"circle\", \"degree\": 3.0, \"title\": \"SIRT1\", \"color\": \"grey\", \"size_field\": 2.434173272244908, \"y\": 1704.9958063378533, \"x\": 514.6479512600912, \"border_width\": 0, \"id\": \"SIRT1\"}, {\"node_shape\": \"circle\", \"degree\": 3.0, \"title\": \"PRKAB2\", \"color\": \"grey\", \"size_field\": 3.8891518152367044, \"y\": 1946.187814602232, \"x\": 917.0853196179717, \"border_width\": 0, \"id\": \"PRKAB2\"}, {\"node_shape\": \"circle\", \"degree\": 3.0, \"title\": \"PRKAB1\", \"color\": \"grey\", \"size_field\": 3.2013096869064523, \"y\": 1745.8212956625275, \"x\": 1244.0649485607269, \"border_width\": 0, \"id\": \"PRKAB1\"}, {\"node_shape\": \"circle\", \"degree\": 3.0, \"title\": \"NUPR1\", \"color\": \"grey\", \"size_field\": 2.2514144332812394, \"y\": 2220.2600610194486, \"x\": 351.9612280882141, \"border_width\": 0, \"id\": \"NUPR1\"}, {\"node_shape\": \"circle\", \"degree\": 3.0, \"title\": \"CHUK\", \"color\": \"grey\", \"size_field\": 2.055512709930259, \"y\": 1592.583496092687, \"x\": 639.7748100782092, \"border_width\": 0, \"id\": \"CHUK\"}, {\"node_shape\": \"circle\", \"degree\": 3.0, \"title\": \"VEGFA\", \"color\": \"grey\", \"size_field\": 3.525556428453398, \"y\": 1491.6745588770234, \"x\": 364.4113534158146, \"border_width\": 0, \"id\": \"VEGFA\"}, {\"node_shape\": \"circle\", \"degree\": 3.0, \"title\": \"BNIP3\", \"color\": \"grey\", \"size_field\": 4.042531187659739, \"y\": 435.21297919050755, \"x\": 814.3442109870497, \"border_width\": 0, \"id\": \"BNIP3\"}, {\"node_shape\": \"circle\", \"degree\": 3.0, \"title\": \"ESR2\", \"color\": \"grey\", \"size_field\": 2.626049437027451, \"y\": 1195.3692991846838, \"x\": 300.3677476885391, \"border_width\": 0, \"id\": \"ESR2\"}, {\"node_shape\": \"circle\", \"degree\": 3.0, \"title\": \"G6PC\", \"color\": \"grey\", \"size_field\": 2.325591645525001, \"y\": 1134.8497947586577, \"x\": 57.91714881007494, \"border_width\": 0, \"id\": \"G6PC\"}, {\"node_shape\": \"circle\", \"degree\": 3.0, \"title\": \"FBXO32\", \"color\": \"grey\", \"size_field\": 3.8825598335545513, \"y\": 1867.6653393134206, \"x\": 1358.9871417814713, \"border_width\": 0, \"id\": \"FBXO32\"}, {\"node_shape\": \"circle\", \"degree\": 3.0, \"title\": \"AGO4\", \"color\": \"grey\", \"size_field\": 4.607752479786846, \"y\": 855.0855175981746, \"x\": 1273.9002175433864, \"border_width\": 0, \"id\": \"AGO4\"}, {\"node_shape\": \"circle\", \"degree\": 3.0, \"title\": \"AGO1\", \"color\": \"grey\", \"size_field\": 3.6852396258503823, \"y\": 804.9575663651827, \"x\": 1182.4613850722692, \"border_width\": 0, \"id\": \"AGO1\"}, {\"node_shape\": \"circle\", \"degree\": 3.0, \"title\": \"AGO3\", \"color\": \"grey\", \"size_field\": 2.3934871313487576, \"y\": 547.0877561951824, \"x\": 620.6266071360127, \"border_width\": 0, \"id\": \"AGO3\"}, {\"node_shape\": \"circle\", \"degree\": 3.0, \"title\": \"AGO2\", \"color\": \"grey\", \"size_field\": 2.7756596021344095, \"y\": 1373.9461463287655, \"x\": 1399.1314785089767, \"border_width\": 0, \"id\": \"AGO2\"}, {\"node_shape\": \"circle\", \"degree\": 3.0, \"title\": \"VMP1\", \"color\": \"grey\", \"size_field\": 3.4841277214686537, \"y\": 1694.1981217219336, \"x\": 442.24996026872816, \"border_width\": 0, \"id\": \"VMP1\"}, {\"node_shape\": \"circle\", \"degree\": 3.0, \"title\": \"MAPK14\", \"color\": \"grey\", \"size_field\": 2.3129315067052314, \"y\": 1592.4070977995939, \"x\": 574.7124110579012, \"border_width\": 0, \"id\": \"MAPK14\"}, {\"node_shape\": \"circle\", \"degree\": 3.0, \"title\": \"CCNG2\", \"color\": \"grey\", \"size_field\": 4.852498105468083, \"y\": 1451.5054139863469, \"x\": 48.653453140609464, \"border_width\": 0, \"id\": \"CCNG2\"}, {\"node_shape\": \"circle\", \"degree\": 3.0, \"title\": \"MAPK10\", \"color\": \"grey\", \"size_field\": 3.3474583373346922, \"y\": 1041.9135368657785, \"x\": 555.3493031396553, \"border_width\": 0, \"id\": \"MAPK10\"}, {\"node_shape\": \"circle\", \"degree\": 3.0, \"title\": \"MAPK11\", \"color\": \"grey\", \"size_field\": 2.6025754823755585, \"y\": 1140.0071190238348, \"x\": 602.9510718051611, \"border_width\": 0, \"id\": \"MAPK11\"}, {\"node_shape\": \"circle\", \"degree\": 3.0, \"title\": \"MAPK12\", \"color\": \"grey\", \"size_field\": 2.880199911729801, \"y\": 1230.865362017862, \"x\": 957.4276672306025, \"border_width\": 0, \"id\": \"MAPK12\"}, {\"node_shape\": \"circle\", \"degree\": 3.0, \"title\": \"MAPK13\", \"color\": \"grey\", \"size_field\": 2.9824305343787003, \"y\": 1193.5449028784794, \"x\": 814.5754247229514, \"border_width\": 0, \"id\": \"MAPK13\"}, {\"node_shape\": \"circle\", \"degree\": 3.0, \"title\": \"BCR\", \"color\": \"grey\", \"size_field\": 2.846065286984658, \"y\": 0.0, \"x\": 856.9312704141798, \"border_width\": 0, \"id\": \"BCR\"}, {\"node_shape\": \"circle\", \"degree\": 3.0, \"title\": \"STAT3\", \"color\": \"grey\", \"size_field\": 3.0067626350382306, \"y\": 1371.7898068686447, \"x\": 412.98472091979187, \"border_width\": 0, \"id\": \"STAT3\"}, {\"node_shape\": \"circle\", \"degree\": 3.0, \"title\": \"MAPK3\", \"color\": \"grey\", \"size_field\": 2.7052197617942144, \"y\": 1095.549041948066, \"x\": 711.7854197924597, \"border_width\": 0, \"id\": \"MAPK3\"}, {\"node_shape\": \"circle\", \"degree\": 3.0, \"title\": \"MAPK1\", \"color\": \"grey\", \"size_field\": 3.267978134301848, \"y\": 1441.6267762898285, \"x\": 525.2614388085152, \"border_width\": 0, \"id\": \"MAPK1\"}, {\"node_shape\": \"circle\", \"degree\": 3.0, \"title\": \"CITED2\", \"color\": \"grey\", \"size_field\": 4.387054249620496, \"y\": 1886.8448237744676, \"x\": 286.77513211208037, \"border_width\": 0, \"id\": \"CITED2\"}, {\"node_shape\": \"circle\", \"degree\": 3.0, \"title\": \"MAPK8\", \"color\": \"grey\", \"size_field\": 2.745915246098601, \"y\": 1432.322889353879, \"x\": 815.3384090970058, \"border_width\": 0, \"id\": \"MAPK8\"}, {\"node_shape\": \"circle\", \"degree\": 3.0, \"title\": \"MAPK9\", \"color\": \"grey\", \"size_field\": 3.0642108619507775, \"y\": 1307.2772213196906, \"x\": 1343.9401154959235, \"border_width\": 0, \"id\": \"MAPK9\"}, {\"node_shape\": \"circle\", \"degree\": 3.0, \"title\": \"RBL2\", \"color\": \"rgba(0, 0, 256, 1.0)\", \"size_field\": 5.18689277901515, \"y\": 1037.3201815859893, \"x\": 1400.5362531824496, \"border_width\": 2, \"id\": \"RBL2\"}, {\"node_shape\": \"circle\", \"degree\": 3.0, \"title\": \"PAWR\", \"color\": \"grey\", \"size_field\": 4.880619466453487, \"y\": 356.86179232535505, \"x\": 411.21383464930545, \"border_width\": 0, \"id\": \"PAWR\"}, {\"node_shape\": \"circle\", \"degree\": 3.0, \"title\": \"EP300\", \"color\": \"grey\", \"size_field\": 2.98886142470899, \"y\": 2094.436411253624, \"x\": 152.1880635001839, \"border_width\": 0, \"id\": \"EP300\"}, {\"node_shape\": \"circle\", \"degree\": 3.0, \"title\": \"SGK2\", \"color\": \"grey\", \"size_field\": 2.082621028688337, \"y\": 937.3882507716303, \"x\": 792.6200412894146, \"border_width\": 0, \"id\": \"SGK2\"}, {\"node_shape\": \"circle\", \"degree\": 3.0, \"title\": \"SGK1\", \"color\": \"grey\", \"size_field\": 4.3166840173735475, \"y\": 1493.7746745313711, \"x\": 472.86447782224116, \"border_width\": 0, \"id\": \"SGK1\"}, {\"node_shape\": \"circle\", \"degree\": 3.0, \"title\": \"IRS2\", \"color\": \"grey\", \"size_field\": 2.567043303764219, \"y\": 636.0017678982014, \"x\": 645.9335894121309, \"border_width\": 0, \"id\": \"IRS2\"}, {\"node_shape\": \"circle\", \"degree\": 3.0, \"title\": \"LEP\", \"color\": \"grey\", \"size_field\": 2.7381445464906813, \"y\": 1294.0716828710729, \"x\": 385.08184592043426, \"border_width\": 0, \"id\": \"LEP\"}, {\"node_shape\": \"circle\", \"degree\": 3.0, \"title\": \"PRKACG\", \"color\": \"grey\", \"size_field\": 2.04468360762664, \"y\": 1288.923315347201, \"x\": 717.1082402610122, \"border_width\": 0, \"id\": \"PRKACG\"}, {\"node_shape\": \"circle\", \"degree\": 3.0, \"title\": \"PRKACA\", \"color\": \"grey\", \"size_field\": 2.6416938989710297, \"y\": 973.4824601013546, \"x\": 680.4432834169342, \"border_width\": 0, \"id\": \"PRKACA\"}, {\"node_shape\": \"circle\", \"degree\": 3.0, \"title\": \"PRKACB\", \"color\": \"grey\", \"size_field\": 3.6455833590704536, \"y\": 1738.8376651856229, \"x\": 828.0804605263883, \"border_width\": 0, \"id\": \"PRKACB\"}, {\"node_shape\": \"circle\", \"degree\": 3.0, \"title\": \"SPHK1\", \"color\": \"grey\", \"size_field\": 3.2616019171625723, \"y\": 1400.7277139856637, \"x\": 185.24302410122988, \"border_width\": 0, \"id\": \"SPHK1\"}, {\"node_shape\": \"circle\", \"degree\": 3.0, \"title\": \"LCN2\", \"color\": \"grey\", \"size_field\": 3.4692412819408167, \"y\": 1538.9577445191176, \"x\": 1377.425731708571, \"border_width\": 0, \"id\": \"LCN2\"}, {\"node_shape\": \"circle\", \"degree\": 3.0, \"title\": \"BIRC5\", \"color\": \"grey\", \"size_field\": 3.5228016057745535, \"y\": 1489.566623617003, \"x\": 983.7556937648811, \"border_width\": 0, \"id\": \"BIRC5\"}, {\"node_shape\": \"circle\", \"degree\": 3.0, \"title\": \"PRDX3\", \"color\": \"grey\", \"size_field\": 3.0820502003691317, \"y\": 641.0925718477686, \"x\": 1033.2783097256956, \"border_width\": 0, \"id\": \"PRDX3\"}, {\"node_shape\": \"circle\", \"degree\": 3.0, \"title\": \"PRKAA2\", \"color\": \"grey\", \"size_field\": 2.6294214896794004, \"y\": 641.5772067521124, \"x\": 745.0660706639278, \"border_width\": 0, \"id\": \"PRKAA2\"}, {\"node_shape\": \"circle\", \"degree\": 3.0, \"title\": \"PRKAA1\", \"color\": \"grey\", \"size_field\": 4.042531187659739, \"y\": 1338.3931771726966, \"x\": 1241.6725516043111, \"border_width\": 0, \"id\": \"PRKAA1\"}, {\"node_shape\": \"circle\", \"degree\": 3.0, \"title\": \"CAT\", \"color\": \"grey\", \"size_field\": 2.515000995176471, \"y\": 1782.099795024766, \"x\": 1103.0861752824087, \"border_width\": 0, \"id\": \"CAT\"}, {\"node_shape\": \"star\", \"degree\": 3.0, \"title\": \"FOXO3\", \"color\": \"grey\", \"size_field\": 13.18689277901515, \"y\": 278.4195124507707, \"x\": 1472.3032200480507, \"border_width\": 0, \"id\": \"FOXO3\"}, {\"node_shape\": \"circle\", \"degree\": 3.0, \"title\": \"MYOCD\", \"color\": \"grey\", \"size_field\": 3.1273204528048533, \"y\": 2084.5835575333217, \"x\": 418.81405773341675, \"border_width\": 0, \"id\": \"MYOCD\"}, {\"node_shape\": \"circle\", \"degree\": 3.0, \"title\": \"FOXO4\", \"color\": \"grey\", \"size_field\": 2.2310497228853072, \"y\": 1386.1087519437708, \"x\": 759.4441908331777, \"border_width\": 0, \"id\": \"FOXO4\"}, {\"node_shape\": \"circle\", \"degree\": 3.0, \"title\": \"SOD2\", \"color\": \"grey\", \"size_field\": 2.098715972939158, \"y\": 1357.7442675194786, \"x\": 1128.6755488984454, \"border_width\": 0, \"id\": \"SOD2\"}, {\"node_shape\": \"circle\", \"degree\": 3.0, \"title\": \"BBC3\", \"color\": \"grey\", \"size_field\": 3.2063800890661485, \"y\": 789.5949154728405, \"x\": 1082.0108433268906, \"border_width\": 0, \"id\": \"BBC3\"}, {\"node_shape\": \"circle\", \"degree\": 3.0, \"title\": \"YWHAZ\", \"color\": \"grey\", \"size_field\": 3.0305798782762827, \"y\": 1684.6651892081252, \"x\": 415.1476178530621, \"border_width\": 0, \"id\": \"YWHAZ\"}, {\"node_shape\": \"circle\", \"degree\": 3.0, \"title\": \"GABARAPL1\", \"color\": \"grey\", \"size_field\": 3.5269366909223567, \"y\": 255.43880893475043, \"x\": 520.5873843639821, \"border_width\": 0, \"id\": \"GABARAPL1\"}, {\"node_shape\": \"circle\", \"degree\": 3.0, \"title\": \"YWHAQ\", \"color\": \"grey\", \"size_field\": 2.9063404010209872, \"y\": 1077.4027142872212, \"x\": 1181.0927153348166, \"border_width\": 0, \"id\": \"YWHAQ\"}, {\"node_shape\": \"circle\", \"degree\": 3.0, \"title\": \"ABCB1\", \"color\": \"grey\", \"size_field\": 4.3258537199334, \"y\": 1505.050716880918, \"x\": 563.1060853239671, \"border_width\": 0, \"id\": \"ABCB1\"}, {\"node_shape\": \"circle\", \"degree\": 3.0, \"title\": \"YWHAB\", \"color\": \"grey\", \"size_field\": 3.9365540541312884, \"y\": 1279.6610624574532, \"x\": 1122.3152361127954, \"border_width\": 0, \"id\": \"YWHAB\"}, {\"node_shape\": \"circle\", \"degree\": 3.0, \"title\": \"YWHAG\", \"color\": \"grey\", \"size_field\": 2.461242123577163, \"y\": 1167.642881040714, \"x\": 1196.7712425151626, \"border_width\": 0, \"id\": \"YWHAG\"}, {\"node_shape\": \"circle\", \"degree\": 3.0, \"title\": \"YWHAE\", \"color\": \"grey\", \"size_field\": 2.1519863569978814, \"y\": 1454.8524533830862, \"x\": 1076.6807747924329, \"border_width\": 0, \"id\": \"YWHAE\"}, {\"node_shape\": \"circle\", \"degree\": 3.0, \"title\": \"DNMT3B\", \"color\": \"grey\", \"size_field\": 3.29901635301283, \"y\": 1094.8913671133957, \"x\": 1886.2721725725066, \"border_width\": 0, \"id\": \"DNMT3B\"}, {\"node_shape\": \"circle\", \"degree\": 3.0, \"title\": \"NOS3\", \"color\": \"grey\", \"size_field\": 3.7355681895783124, \"y\": 2167.670912902114, \"x\": 148.07152170107543, \"border_width\": 0, \"id\": \"NOS3\"}, {\"node_shape\": \"circle\", \"degree\": 3.0, \"title\": \"CYR61\", \"color\": \"grey\", \"size_field\": 2.242198957849369, \"y\": 553.2300711505027, \"x\": 297.67487739525734, \"border_width\": 0, \"id\": \"CYR61\"}, {\"node_shape\": \"circle\", \"degree\": 3.0, \"title\": \"AR\", \"color\": \"grey\", \"size_field\": 4.364460496712133, \"y\": 2224.549934172636, \"x\": 177.2348490090295, \"border_width\": 0, \"id\": \"AR\"}, {\"node_shape\": \"circle\", \"degree\": 3.0, \"title\": \"BCL2L11\", \"color\": \"grey\", \"size_field\": 3.8269722249837996, \"y\": 1648.3424609645117, \"x\": 885.7092061767582, \"border_width\": 0, \"id\": \"BCL2L11\"}, {\"node_shape\": \"circle\", \"degree\": 3.0, \"title\": \"CCNB1\", \"color\": \"grey\", \"size_field\": 3.0026659476209008, \"y\": 1703.7754996308388, \"x\": 802.082759408639, \"border_width\": 0, \"id\": \"CCNB1\"}, {\"node_shape\": \"circle\", \"degree\": 3.0, \"title\": \"CASP8\", \"color\": \"grey\", \"size_field\": 2.964955903855436, \"y\": 1573.3109952861862, \"x\": 689.4800611020258, \"border_width\": 0, \"id\": \"CASP8\"}, {\"node_shape\": \"circle\", \"degree\": 3.0, \"title\": \"PDK4\", \"color\": \"grey\", \"size_field\": 4.3740810946991155, \"y\": 1280.3755884473508, \"x\": 28.77987731141835, \"border_width\": 0, \"id\": \"PDK4\"}, {\"node_shape\": \"circle\", \"degree\": 3.0, \"title\": \"FASLG\", \"color\": \"grey\", \"size_field\": 2.516173230092586, \"y\": 1061.303638275968, \"x\": 673.6344692558588, \"border_width\": 0, \"id\": \"FASLG\"}, {\"node_shape\": \"circle\", \"degree\": 3.0, \"title\": \"BCL6\", \"color\": \"grey\", \"size_field\": 4.207274913189721, \"y\": 907.6530538116081, \"x\": 809.979881560557, \"border_width\": 0, \"id\": \"BCL6\"}], [{\"color\": \"red\", \"source\": 5, \"target\": 33}, {\"color\": \"red\", \"source\": 5, \"target\": 35}, {\"color\": \"red\", \"source\": 5, \"target\": 47}, {\"color\": \"red\", \"source\": 5, \"target\": 106}, {\"color\": \"red\", \"source\": 5, \"target\": 6}, {\"color\": \"red\", \"source\": 5, \"target\": 6}, {\"color\": \"red\", \"source\": 5, \"target\": 7}, {\"color\": \"red\", \"source\": 5, \"target\": 8}, {\"color\": \"red\", \"source\": 5, \"target\": 108}, {\"color\": \"blue\", \"source\": 5, \"target\": 76}, {\"color\": \"blue\", \"source\": 5, \"target\": 76}, {\"color\": \"blue\", \"source\": 5, \"target\": 90}, {\"color\": \"blue\", \"source\": 5, \"target\": 90}, {\"color\": \"red\", \"source\": 6, \"target\": 57}, {\"color\": \"blue\", \"source\": 6, \"target\": 82}, {\"color\": \"blue\", \"source\": 6, \"target\": 34}, {\"color\": \"blue\", \"source\": 6, \"target\": 34}, {\"color\": \"blue\", \"source\": 6, \"target\": 34}, {\"color\": \"blue\", \"source\": 6, \"target\": 35}, {\"color\": \"blue\", \"source\": 6, \"target\": 35}, {\"color\": \"blue\", \"source\": 6, \"target\": 35}, {\"color\": \"blue\", \"source\": 6, \"target\": 90}, {\"color\": \"blue\", \"source\": 6, \"target\": 90}, {\"color\": \"red\", \"source\": 6, \"target\": 87}, {\"color\": \"blue\", \"source\": 6, \"target\": 58}, {\"color\": \"blue\", \"source\": 6, \"target\": 58}, {\"color\": \"blue\", \"source\": 6, \"target\": 7}, {\"color\": \"blue\", \"source\": 6, \"target\": 7}, {\"color\": \"blue\", \"source\": 6, \"target\": 7}, {\"color\": \"blue\", \"source\": 6, \"target\": 7}, {\"color\": \"blue\", \"source\": 6, \"target\": 8}, {\"color\": \"blue\", \"source\": 6, \"target\": 8}, {\"color\": \"blue\", \"source\": 6, \"target\": 8}, {\"color\": \"blue\", \"source\": 6, \"target\": 31}, {\"color\": \"blue\", \"source\": 6, \"target\": 61}, {\"color\": \"blue\", \"source\": 6, \"target\": 61}, {\"color\": \"blue\", \"source\": 6, \"target\": 62}, {\"color\": \"blue\", \"source\": 6, \"target\": 62}, {\"color\": \"blue\", \"source\": 6, \"target\": 63}, {\"color\": \"blue\", \"source\": 6, \"target\": 63}, {\"color\": \"red\", \"source\": 6, \"target\": 93}, {\"color\": \"red\", \"source\": 6, \"target\": 73}, {\"color\": \"blue\", \"source\": 6, \"target\": 65}, {\"color\": \"blue\", \"source\": 6, \"target\": 15}, {\"color\": \"blue\", \"source\": 6, \"target\": 15}, {\"color\": \"red\", \"source\": 6, \"target\": 95}, {\"color\": \"red\", \"source\": 6, \"target\": 40}, {\"color\": \"red\", \"source\": 6, \"target\": 16}, {\"color\": \"blue\", \"source\": 6, \"target\": 19}, {\"color\": \"red\", \"source\": 6, \"target\": 20}, {\"color\": \"red\", \"source\": 6, \"target\": 20}, {\"color\": \"red\", \"source\": 6, \"target\": 83}, {\"color\": \"red\", \"source\": 6, \"target\": 99}, {\"color\": \"red\", \"source\": 6, \"target\": 101}, {\"color\": \"red\", \"source\": 6, \"target\": 101}, {\"color\": \"red\", \"source\": 6, \"target\": 91}, {\"color\": \"red\", \"source\": 6, \"target\": 47}, {\"color\": \"red\", \"source\": 6, \"target\": 47}, {\"color\": \"red\", \"source\": 6, \"target\": 97}, {\"color\": \"red\", \"source\": 6, \"target\": 103}, {\"color\": \"blue\", \"source\": 6, \"target\": 108}, {\"color\": \"blue\", \"source\": 6, \"target\": 104}, {\"color\": \"red\", \"source\": 6, \"target\": 27}, {\"color\": \"blue\", \"source\": 6, \"target\": 49}, {\"color\": \"red\", \"source\": 6, \"target\": 5}, {\"color\": \"red\", \"source\": 6, \"target\": 5}, {\"color\": \"blue\", \"source\": 6, \"target\": 105}, {\"color\": \"red\", \"source\": 6, \"target\": 98}, {\"color\": \"red\", \"source\": 6, \"target\": 77}, {\"color\": \"red\", \"source\": 6, \"target\": 48}, {\"color\": \"blue\", \"source\": 7, \"target\": 58}, {\"color\": \"blue\", \"source\": 7, \"target\": 58}, {\"color\": \"red\", \"source\": 7, \"target\": 57}, {\"color\": \"red\", \"source\": 7, \"target\": 101}, {\"color\": \"blue\", \"source\": 7, \"target\": 34}, {\"color\": \"blue\", \"source\": 7, \"target\": 34}, {\"color\": \"blue\", \"source\": 7, \"target\": 35}, {\"color\": \"blue\", \"source\": 7, \"target\": 35}, {\"color\": \"blue\", \"source\": 7, \"target\": 90}, {\"color\": \"blue\", \"source\": 7, \"target\": 90}, {\"color\": \"red\", \"source\": 7, \"target\": 47}, {\"color\": \"red\", \"source\": 7, \"target\": 5}, {\"color\": \"blue\", \"source\": 7, \"target\": 6}, {\"color\": \"blue\", \"source\": 7, \"target\": 6}, {\"color\": \"blue\", \"source\": 7, \"target\": 6}, {\"color\": \"blue\", \"source\": 7, \"target\": 6}, {\"color\": \"blue\", \"source\": 7, \"target\": 8}, {\"color\": \"blue\", \"source\": 7, \"target\": 8}, {\"color\": \"blue\", \"source\": 7, \"target\": 8}, {\"color\": \"blue\", \"source\": 7, \"target\": 61}, {\"color\": \"blue\", \"source\": 7, \"target\": 61}, {\"color\": \"blue\", \"source\": 7, \"target\": 62}, {\"color\": \"blue\", \"source\": 7, \"target\": 62}, {\"color\": \"blue\", \"source\": 7, \"target\": 63}, {\"color\": \"blue\", \"source\": 7, \"target\": 63}, {\"color\": \"red\", \"source\": 7, \"target\": 27}, {\"color\": \"blue\", \"source\": 8, \"target\": 58}, {\"color\": \"blue\", \"source\": 8, \"target\": 58}, {\"color\": \"red\", \"source\": 8, \"target\": 101}, {\"color\": \"blue\", \"source\": 8, \"target\": 104}, {\"color\": \"blue\", \"source\": 8, \"target\": 34}, {\"color\": \"blue\", \"source\": 8, \"target\": 34}, {\"color\": \"blue\", \"source\": 8, \"target\": 35}, {\"color\": \"blue\", \"source\": 8, \"target\": 35}, {\"color\": \"blue\", \"source\": 8, \"target\": 90}, {\"color\": \"blue\", \"source\": 8, \"target\": 90}, {\"color\": \"red\", \"source\": 8, \"target\": 47}, {\"color\": \"red\", \"source\": 8, \"target\": 5}, {\"color\": \"blue\", \"source\": 8, \"target\": 6}, {\"color\": \"blue\", \"source\": 8, \"target\": 6}, {\"color\": \"blue\", \"source\": 8, \"target\": 6}, {\"color\": \"blue\", \"source\": 8, \"target\": 7}, {\"color\": \"blue\", \"source\": 8, \"target\": 7}, {\"color\": \"blue\", \"source\": 8, \"target\": 7}, {\"color\": \"red\", \"source\": 8, \"target\": 48}, {\"color\": \"blue\", \"source\": 8, \"target\": 61}, {\"color\": \"blue\", \"source\": 8, \"target\": 61}, {\"color\": \"blue\", \"source\": 8, \"target\": 62}, {\"color\": \"blue\", \"source\": 8, \"target\": 62}, {\"color\": \"blue\", \"source\": 8, \"target\": 63}, {\"color\": \"blue\", \"source\": 8, \"target\": 63}, {\"color\": \"blue\", \"source\": 10, \"target\": 20}, {\"color\": \"blue\", \"source\": 10, \"target\": 42}, {\"color\": \"blue\", \"source\": 11, \"target\": 42}, {\"color\": \"blue\", \"source\": 11, \"target\": 20}, {\"color\": \"red\", \"source\": 20, \"target\": 32}, {\"color\": \"blue\", \"source\": 20, \"target\": 57}, {\"color\": \"blue\", \"source\": 20, \"target\": 57}, {\"color\": \"blue\", \"source\": 20, \"target\": 0}, {\"color\": \"red\", \"source\": 20, \"target\": 62}, {\"color\": \"red\", \"source\": 20, \"target\": 1}, {\"color\": \"blue\", \"source\": 20, \"target\": 34}, {\"color\": \"blue\", \"source\": 20, \"target\": 34}, {\"color\": \"blue\", \"source\": 20, \"target\": 35}, {\"color\": \"blue\", \"source\": 20, \"target\": 35}, {\"color\": \"blue\", \"source\": 20, \"target\": 35}, {\"color\": \"blue\", \"source\": 20, \"target\": 22}, {\"color\": \"red\", \"source\": 20, \"target\": 84}, {\"color\": \"red\", \"source\": 20, \"target\": 36}, {\"color\": \"red\", \"source\": 20, \"target\": 6}, {\"color\": \"red\", \"source\": 20, \"target\": 6}, {\"color\": \"blue\", \"source\": 20, \"target\": 9}, {\"color\": \"blue\", \"source\": 20, \"target\": 10}, {\"color\": \"blue\", \"source\": 20, \"target\": 11}, {\"color\": \"red\", \"source\": 20, \"target\": 63}, {\"color\": \"red\", \"source\": 20, \"target\": 12}, {\"color\": \"red\", \"source\": 20, \"target\": 38}, {\"color\": \"red\", \"source\": 20, \"target\": 27}, {\"color\": \"red\", \"source\": 20, \"target\": 65}, {\"color\": \"blue\", \"source\": 20, \"target\": 15}, {\"color\": \"blue\", \"source\": 20, \"target\": 15}, {\"color\": \"red\", \"source\": 20, \"target\": 66}, {\"color\": \"red\", \"source\": 20, \"target\": 67}, {\"color\": \"red\", \"source\": 20, \"target\": 67}, {\"color\": \"red\", \"source\": 20, \"target\": 61}, {\"color\": \"blue\", \"source\": 20, \"target\": 19}, {\"color\": \"red\", \"source\": 20, \"target\": 83}, {\"color\": \"blue\", \"source\": 20, \"target\": 21}, {\"color\": \"blue\", \"source\": 20, \"target\": 21}, {\"color\": \"blue\", \"source\": 20, \"target\": 21}, {\"color\": \"blue\", \"source\": 20, \"target\": 21}, {\"color\": \"red\", \"source\": 20, \"target\": 43}, {\"color\": \"blue\", \"source\": 20, \"target\": 24}, {\"color\": \"red\", \"source\": 20, \"target\": 47}, {\"color\": \"red\", \"source\": 20, \"target\": 103}, {\"color\": \"red\", \"source\": 20, \"target\": 103}, {\"color\": \"blue\", \"source\": 20, \"target\": 48}, {\"color\": \"blue\", \"source\": 20, \"target\": 104}, {\"color\": \"red\", \"source\": 20, \"target\": 73}, {\"color\": \"blue\", \"source\": 20, \"target\": 29}, {\"color\": \"red\", \"source\": 20, \"target\": 58}, {\"color\": \"red\", \"source\": 20, \"target\": 105}, {\"color\": \"red\", \"source\": 20, \"target\": 30}, {\"color\": \"blue\", \"source\": 20, \"target\": 53}, {\"color\": \"red\", \"source\": 20, \"target\": 109}, {\"color\": \"blue\", \"source\": 20, \"target\": 54}, {\"color\": \"blue\", \"source\": 20, \"target\": 55}, {\"color\": \"blue\", \"source\": 20, \"target\": 56}, {\"color\": \"blue\", \"source\": 24, \"target\": 57}, {\"color\": \"blue\", \"source\": 24, \"target\": 33}, {\"color\": \"red\", \"source\": 24, \"target\": 12}, {\"color\": \"red\", \"source\": 24, \"target\": 35}, {\"color\": \"red\", \"source\": 24, \"target\": 58}, {\"color\": \"red\", \"source\": 24, \"target\": 60}, {\"color\": \"red\", \"source\": 24, \"target\": 61}, {\"color\": \"red\", \"source\": 24, \"target\": 62}, {\"color\": \"red\", \"source\": 24, \"target\": 63}, {\"color\": \"red\", \"source\": 24, \"target\": 92}, {\"color\": \"red\", \"source\": 24, \"target\": 96}, {\"color\": \"red\", \"source\": 24, \"target\": 67}, {\"color\": \"blue\", \"source\": 24, \"target\": 20}, {\"color\": \"red\", \"source\": 24, \"target\": 70}, {\"color\": \"red\", \"source\": 24, \"target\": 83}, {\"color\": \"red\", \"source\": 24, \"target\": 21}, {\"color\": \"red\", \"source\": 24, \"target\": 103}, {\"color\": \"red\", \"source\": 24, \"target\": 48}, {\"color\": \"blue\", \"source\": 24, \"target\": 69}, {\"color\": \"blue\", \"source\": 24, \"target\": 105}, {\"color\": \"red\", \"source\": 24, \"target\": 77}, {\"color\": \"blue\", \"source\": 25, \"target\": 104}, {\"color\": \"blue\", \"source\": 27, \"target\": 65}, {\"color\": \"red\", \"source\": 27, \"target\": 6}, {\"color\": \"red\", \"source\": 27, \"target\": 7}, {\"color\": \"red\", \"source\": 27, \"target\": 48}, {\"color\": \"blue\", \"source\": 27, \"target\": 19}, {\"color\": \"blue\", \"source\": 27, \"target\": 19}, {\"color\": \"blue\", \"source\": 27, \"target\": 19}, {\"color\": \"red\", \"source\": 27, \"target\": 20}, {\"color\": \"red\", \"source\": 27, \"target\": 69}, {\"color\": \"blue\", \"source\": 27, \"target\": 13}, {\"color\": \"blue\", \"source\": 29, \"target\": 19}, {\"color\": \"blue\", \"source\": 29, \"target\": 20}, {\"color\": \"red\", \"source\": 31, \"target\": 43}, {\"color\": \"red\", \"source\": 31, \"target\": 2}, {\"color\": \"blue\", \"source\": 31, \"target\": 35}, {\"color\": \"red\", \"source\": 31, \"target\": 105}, {\"color\": \"blue\", \"source\": 31, \"target\": 6}, {\"color\": \"blue\", \"source\": 31, \"target\": 67}, {\"color\": \"blue\", \"source\": 31, \"target\": 48}, {\"color\": \"red\", \"source\": 31, \"target\": 19}, {\"color\": \"blue\", \"source\": 31, \"target\": 69}, {\"color\": \"red\", \"source\": 31, \"target\": 83}, {\"color\": \"blue\", \"source\": 32, \"target\": 43}, {\"color\": \"red\", \"source\": 32, \"target\": 65}, {\"color\": \"red\", \"source\": 32, \"target\": 35}, {\"color\": \"blue\", \"source\": 32, \"target\": 108}, {\"color\": \"red\", \"source\": 32, \"target\": 20}, {\"color\": \"red\", \"source\": 36, \"target\": 58}, {\"color\": \"red\", \"source\": 36, \"target\": 96}, {\"color\": \"red\", \"source\": 36, \"target\": 103}, {\"color\": \"red\", \"source\": 36, \"target\": 20}, {\"color\": \"red\", \"source\": 39, \"target\": 93}, {\"color\": \"red\", \"source\": 39, \"target\": 105}, {\"color\": \"red\", \"source\": 39, \"target\": 2}, {\"color\": \"red\", \"source\": 39, \"target\": 2}, {\"color\": \"red\", \"source\": 39, \"target\": 83}, {\"color\": \"red\", \"source\": 39, \"target\": 83}, {\"color\": \"red\", \"source\": 39, \"target\": 95}, {\"color\": \"red\", \"source\": 39, \"target\": 16}, {\"color\": \"red\", \"source\": 39, \"target\": 90}, {\"color\": \"red\", \"source\": 39, \"target\": 97}, {\"color\": \"red\", \"source\": 39, \"target\": 98}, {\"color\": \"red\", \"source\": 39, \"target\": 99}, {\"color\": \"blue\", \"source\": 43, \"target\": 32}, {\"color\": \"red\", \"source\": 43, \"target\": 101}, {\"color\": \"red\", \"source\": 43, \"target\": 101}, {\"color\": \"blue\", \"source\": 43, \"target\": 65}, {\"color\": \"red\", \"source\": 43, \"target\": 91}, {\"color\": \"red\", \"source\": 43, \"target\": 31}, {\"color\": \"red\", \"source\": 43, \"target\": 15}, {\"color\": \"blue\", \"source\": 43, \"target\": 35}, {\"color\": \"red\", \"source\": 43, \"target\": 86}, {\"color\": \"blue\", \"source\": 43, \"target\": 104}, {\"color\": \"blue\", \"source\": 43, \"target\": 104}, {\"color\": \"red\", \"source\": 43, \"target\": 103}, {\"color\": \"blue\", \"source\": 43, \"target\": 108}, {\"color\": \"red\", \"source\": 43, \"target\": 34}, {\"color\": \"blue\", \"source\": 43, \"target\": 48}, {\"color\": \"red\", \"source\": 43, \"target\": 20}, {\"color\": \"blue\", \"source\": 43, \"target\": 38}, {\"color\": \"red\", \"source\": 43, \"target\": 13}, {\"color\": \"red\", \"source\": 43, \"target\": 13}, {\"color\": \"red\", \"source\": 50, \"target\": 57}, {\"color\": \"red\", \"source\": 50, \"target\": 101}, {\"color\": \"red\", \"source\": 50, \"target\": 66}, {\"color\": \"red\", \"source\": 50, \"target\": 67}, {\"color\": \"blue\", \"source\": 50, \"target\": 48}, {\"color\": \"red\", \"source\": 50, \"target\": 61}, {\"color\": \"red\", \"source\": 50, \"target\": 103}, {\"color\": \"red\", \"source\": 65, \"target\": 32}, {\"color\": \"blue\", \"source\": 65, \"target\": 43}, {\"color\": \"red\", \"source\": 65, \"target\": 73}, {\"color\": \"red\", \"source\": 65, \"target\": 73}, {\"color\": \"red\", \"source\": 65, \"target\": 66}, {\"color\": \"red\", \"source\": 65, \"target\": 66}, {\"color\": \"blue\", \"source\": 65, \"target\": 35}, {\"color\": \"red\", \"source\": 65, \"target\": 90}, {\"color\": \"red\", \"source\": 65, \"target\": 57}, {\"color\": \"red\", \"source\": 65, \"target\": 57}, {\"color\": \"red\", \"source\": 65, \"target\": 58}, {\"color\": \"blue\", \"source\": 65, \"target\": 6}, {\"color\": \"red\", \"source\": 65, \"target\": 67}, {\"color\": \"red\", \"source\": 65, \"target\": 67}, {\"color\": \"blue\", \"source\": 65, \"target\": 48}, {\"color\": \"blue\", \"source\": 65, \"target\": 48}, {\"color\": \"red\", \"source\": 65, \"target\": 77}, {\"color\": \"blue\", \"source\": 65, \"target\": 19}, {\"color\": \"red\", \"source\": 65, \"target\": 20}, {\"color\": \"blue\", \"source\": 65, \"target\": 27}, {\"color\": \"blue\", \"source\": 65, \"target\": 83}, {\"color\": \"blue\", \"source\": 65, \"target\": 109}, {\"color\": \"blue\", \"source\": 68, \"target\": 73}, {\"color\": \"red\", \"source\": 71, \"target\": 90}, {\"color\": \"red\", \"source\": 73, \"target\": 90}, {\"color\": \"red\", \"source\": 73, \"target\": 101}, {\"color\": \"red\", \"source\": 73, \"target\": 65}, {\"color\": \"red\", \"source\": 73, \"target\": 65}, {\"color\": \"red\", \"source\": 73, \"target\": 75}, {\"color\": \"red\", \"source\": 73, \"target\": 15}, {\"color\": \"red\", \"source\": 73, \"target\": 35}, {\"color\": \"red\", \"source\": 73, \"target\": 80}, {\"color\": \"red\", \"source\": 73, \"target\": 96}, {\"color\": \"red\", \"source\": 73, \"target\": 58}, {\"color\": \"red\", \"source\": 73, \"target\": 6}, {\"color\": \"red\", \"source\": 73, \"target\": 78}, {\"color\": \"red\", \"source\": 73, \"target\": 103}, {\"color\": \"red\", \"source\": 73, \"target\": 48}, {\"color\": \"blue\", \"source\": 73, \"target\": 77}, {\"color\": \"red\", \"source\": 73, \"target\": 19}, {\"color\": \"blue\", \"source\": 73, \"target\": 68}, {\"color\": \"red\", \"source\": 73, \"target\": 20}, {\"color\": \"red\", \"source\": 73, \"target\": 13}, {\"color\": \"red\", \"source\": 73, \"target\": 79}, {\"color\": \"red\", \"source\": 88, \"target\": 0}, {\"color\": \"blue\", \"source\": 88, \"target\": 1}, {\"color\": \"red\", \"source\": 88, \"target\": 2}, {\"color\": \"red\", \"source\": 88, \"target\": 3}, {\"color\": \"red\", \"source\": 88, \"target\": 4}, {\"color\": \"blue\", \"source\": 88, \"target\": 5}, {\"color\": \"blue\", \"source\": 88, \"target\": 5}, {\"color\": \"blue\", \"source\": 88, \"target\": 6}, {\"color\": \"blue\", \"source\": 88, \"target\": 6}, {\"color\": \"blue\", \"source\": 88, \"target\": 6}, {\"color\": \"blue\", \"source\": 88, \"target\": 7}, {\"color\": \"blue\", \"source\": 88, \"target\": 7}, {\"color\": \"blue\", \"source\": 88, \"target\": 8}, {\"color\": \"blue\", \"source\": 88, \"target\": 8}, {\"color\": \"red\", \"source\": 88, \"target\": 9}, {\"color\": \"red\", \"source\": 88, \"target\": 10}, {\"color\": \"red\", \"source\": 88, \"target\": 11}, {\"color\": \"red\", \"source\": 88, \"target\": 12}, {\"color\": \"red\", \"source\": 88, \"target\": 13}, {\"color\": \"red\", \"source\": 88, \"target\": 14}, {\"color\": \"red\", \"source\": 88, \"target\": 15}, {\"color\": \"blue\", \"source\": 88, \"target\": 16}, {\"color\": \"blue\", \"source\": 88, \"target\": 16}, {\"color\": \"red\", \"source\": 88, \"target\": 17}, {\"color\": \"red\", \"source\": 88, \"target\": 18}, {\"color\": \"red\", \"source\": 88, \"target\": 19}, {\"color\": \"red\", \"source\": 88, \"target\": 20}, {\"color\": \"red\", \"source\": 88, \"target\": 21}, {\"color\": \"red\", \"source\": 88, \"target\": 22}, {\"color\": \"red\", \"source\": 88, \"target\": 22}, {\"color\": \"red\", \"source\": 88, \"target\": 23}, {\"color\": \"blue\", \"source\": 88, \"target\": 24}, {\"color\": \"blue\", \"source\": 88, \"target\": 25}, {\"color\": \"red\", \"source\": 88, \"target\": 26}, {\"color\": \"blue\", \"source\": 88, \"target\": 27}, {\"color\": \"blue\", \"source\": 88, \"target\": 28}, {\"color\": \"blue\", \"source\": 88, \"target\": 28}, {\"color\": \"red\", \"source\": 88, \"target\": 29}, {\"color\": \"blue\", \"source\": 88, \"target\": 30}, {\"color\": \"blue\", \"source\": 88, \"target\": 31}, {\"color\": \"red\", \"source\": 88, \"target\": 32}, {\"color\": \"red\", \"source\": 88, \"target\": 33}, {\"color\": \"red\", \"source\": 88, \"target\": 34}, {\"color\": \"blue\", \"source\": 88, \"target\": 35}, {\"color\": \"red\", \"source\": 88, \"target\": 36}, {\"color\": \"red\", \"source\": 88, \"target\": 37}, {\"color\": \"blue\", \"source\": 88, \"target\": 38}, {\"color\": \"red\", \"source\": 88, \"target\": 39}, {\"color\": \"red\", \"source\": 88, \"target\": 40}, {\"color\": \"red\", \"source\": 88, \"target\": 41}, {\"color\": \"blue\", \"source\": 88, \"target\": 42}, {\"color\": \"blue\", \"source\": 88, \"target\": 42}, {\"color\": \"red\", \"source\": 88, \"target\": 43}, {\"color\": \"red\", \"source\": 88, \"target\": 43}, {\"color\": \"red\", \"source\": 88, \"target\": 44}, {\"color\": \"red\", \"source\": 88, \"target\": 45}, {\"color\": \"blue\", \"source\": 88, \"target\": 46}, {\"color\": \"blue\", \"source\": 88, \"target\": 47}, {\"color\": \"blue\", \"source\": 88, \"target\": 47}, {\"color\": \"blue\", \"source\": 88, \"target\": 48}, {\"color\": \"red\", \"source\": 88, \"target\": 49}, {\"color\": \"red\", \"source\": 88, \"target\": 50}, {\"color\": \"blue\", \"source\": 88, \"target\": 51}, {\"color\": \"red\", \"source\": 88, \"target\": 52}, {\"color\": \"red\", \"source\": 88, \"target\": 53}, {\"color\": \"red\", \"source\": 88, \"target\": 54}, {\"color\": \"red\", \"source\": 88, \"target\": 55}, {\"color\": \"red\", \"source\": 88, \"target\": 56}, {\"color\": \"blue\", \"source\": 88, \"target\": 57}, {\"color\": \"red\", \"source\": 88, \"target\": 58}, {\"color\": \"red\", \"source\": 88, \"target\": 59}, {\"color\": \"red\", \"source\": 88, \"target\": 60}, {\"color\": \"red\", \"source\": 88, \"target\": 61}, {\"color\": \"red\", \"source\": 88, \"target\": 62}, {\"color\": \"red\", \"source\": 88, \"target\": 63}, {\"color\": \"blue\", \"source\": 88, \"target\": 64}, {\"color\": \"red\", \"source\": 88, \"target\": 65}, {\"color\": \"blue\", \"source\": 88, \"target\": 66}, {\"color\": \"blue\", \"source\": 88, \"target\": 66}, {\"color\": \"blue\", \"source\": 88, \"target\": 67}, {\"color\": \"blue\", \"source\": 88, \"target\": 67}, {\"color\": \"red\", \"source\": 88, \"target\": 68}, {\"color\": \"red\", \"source\": 88, \"target\": 69}, {\"color\": \"red\", \"source\": 88, \"target\": 70}, {\"color\": \"red\", \"source\": 88, \"target\": 71}, {\"color\": \"blue\", \"source\": 88, \"target\": 72}, {\"color\": \"blue\", \"source\": 88, \"target\": 73}, {\"color\": \"blue\", \"source\": 88, \"target\": 74}, {\"color\": \"blue\", \"source\": 88, \"target\": 74}, {\"color\": \"blue\", \"source\": 88, \"target\": 75}, {\"color\": \"blue\", \"source\": 88, \"target\": 75}, {\"color\": \"red\", \"source\": 88, \"target\": 76}, {\"color\": \"blue\", \"source\": 88, \"target\": 77}, {\"color\": \"blue\", \"source\": 88, \"target\": 78}, {\"color\": \"blue\", \"source\": 88, \"target\": 78}, {\"color\": \"blue\", \"source\": 88, \"target\": 79}, {\"color\": \"blue\", \"source\": 88, \"target\": 79}, {\"color\": \"blue\", \"source\": 88, \"target\": 80}, {\"color\": \"blue\", \"source\": 88, \"target\": 80}, {\"color\": \"blue\", \"source\": 88, \"target\": 81}, {\"color\": \"red\", \"source\": 88, \"target\": 82}, {\"color\": \"blue\", \"source\": 88, \"target\": 83}, {\"color\": \"blue\", \"source\": 88, \"target\": 84}, {\"color\": \"red\", \"source\": 88, \"target\": 85}, {\"color\": \"red\", \"source\": 88, \"target\": 86}, {\"color\": \"red\", \"source\": 88, \"target\": 87}, {\"color\": \"blue\", \"source\": 88, \"target\": 89}, {\"color\": \"red\", \"source\": 88, \"target\": 90}, {\"color\": \"red\", \"source\": 88, \"target\": 91}, {\"color\": \"red\", \"source\": 88, \"target\": 92}, {\"color\": \"blue\", \"source\": 88, \"target\": 93}, {\"color\": \"blue\", \"source\": 88, \"target\": 93}, {\"color\": \"red\", \"source\": 88, \"target\": 94}, {\"color\": \"blue\", \"source\": 88, \"target\": 95}, {\"color\": \"blue\", \"source\": 88, \"target\": 95}, {\"color\": \"red\", \"source\": 88, \"target\": 96}, {\"color\": \"blue\", \"source\": 88, \"target\": 97}, {\"color\": \"blue\", \"source\": 88, \"target\": 97}, {\"color\": \"blue\", \"source\": 88, \"target\": 98}, {\"color\": \"blue\", \"source\": 88, \"target\": 98}, {\"color\": \"blue\", \"source\": 88, \"target\": 99}, {\"color\": \"blue\", \"source\": 88, \"target\": 99}, {\"color\": \"blue\", \"source\": 88, \"target\": 100}, {\"color\": \"blue\", \"source\": 88, \"target\": 101}, {\"color\": \"blue\", \"source\": 88, \"target\": 102}, {\"color\": \"red\", \"source\": 88, \"target\": 103}, {\"color\": \"blue\", \"source\": 88, \"target\": 104}, {\"color\": \"blue\", \"source\": 88, \"target\": 104}, {\"color\": \"red\", \"source\": 88, \"target\": 105}, {\"color\": \"red\", \"source\": 88, \"target\": 106}, {\"color\": \"red\", \"source\": 88, \"target\": 107}, {\"color\": \"blue\", \"source\": 88, \"target\": 108}, {\"color\": \"blue\", \"source\": 88, \"target\": 108}, {\"color\": \"red\", \"source\": 88, \"target\": 109}, {\"color\": \"red\", \"source\": 90, \"target\": 17}, {\"color\": \"red\", \"source\": 90, \"target\": 34}, {\"color\": \"blue\", \"source\": 90, \"target\": 35}, {\"color\": \"red\", \"source\": 90, \"target\": 4}, {\"color\": \"red\", \"source\": 90, \"target\": 85}, {\"color\": \"red\", \"source\": 90, \"target\": 86}, {\"color\": \"blue\", \"source\": 90, \"target\": 5}, {\"color\": \"blue\", \"source\": 90, \"target\": 5}, {\"color\": \"blue\", \"source\": 90, \"target\": 6}, {\"color\": \"blue\", \"source\": 90, \"target\": 6}, {\"color\": \"blue\", \"source\": 90, \"target\": 7}, {\"color\": \"blue\", \"source\": 90, \"target\": 7}, {\"color\": \"blue\", \"source\": 90, \"target\": 8}, {\"color\": \"blue\", \"source\": 90, \"target\": 8}, {\"color\": \"red\", \"source\": 90, \"target\": 60}, {\"color\": \"red\", \"source\": 90, \"target\": 60}, {\"color\": \"red\", \"source\": 90, \"target\": 61}, {\"color\": \"red\", \"source\": 90, \"target\": 62}, {\"color\": \"red\", \"source\": 90, \"target\": 63}, {\"color\": \"red\", \"source\": 90, \"target\": 44}, {\"color\": \"red\", \"source\": 90, \"target\": 39}, {\"color\": \"red\", \"source\": 90, \"target\": 65}, {\"color\": \"red\", \"source\": 90, \"target\": 14}, {\"color\": \"red\", \"source\": 90, \"target\": 15}, {\"color\": \"blue\", \"source\": 90, \"target\": 66}, {\"color\": \"blue\", \"source\": 90, \"target\": 66}, {\"color\": \"blue\", \"source\": 90, \"target\": 67}, {\"color\": \"blue\", \"source\": 90, \"target\": 67}, {\"color\": \"red\", \"source\": 90, \"target\": 69}, {\"color\": \"red\", \"source\": 90, \"target\": 69}, {\"color\": \"red\", \"source\": 90, \"target\": 70}, {\"color\": \"red\", \"source\": 90, \"target\": 3}, {\"color\": \"red\", \"source\": 90, \"target\": 21}, {\"color\": \"red\", \"source\": 90, \"target\": 22}, {\"color\": \"red\", \"source\": 90, \"target\": 22}, {\"color\": \"red\", \"source\": 90, \"target\": 91}, {\"color\": \"red\", \"source\": 90, \"target\": 71}, {\"color\": \"red\", \"source\": 90, \"target\": 45}, {\"color\": \"blue\", \"source\": 90, \"target\": 47}, {\"color\": \"blue\", \"source\": 90, \"target\": 47}, {\"color\": \"red\", \"source\": 90, \"target\": 26}, {\"color\": \"red\", \"source\": 90, \"target\": 73}, {\"color\": \"blue\", \"source\": 90, \"target\": 42}, {\"color\": \"blue\", \"source\": 90, \"target\": 42}, {\"color\": \"blue\", \"source\": 90, \"target\": 28}, {\"color\": \"blue\", \"source\": 90, \"target\": 28}, {\"color\": \"red\", \"source\": 90, \"target\": 58}, {\"color\": \"blue\", \"source\": 90, \"target\": 74}, {\"color\": \"blue\", \"source\": 90, \"target\": 74}, {\"color\": \"blue\", \"source\": 90, \"target\": 75}, {\"color\": \"blue\", \"source\": 90, \"target\": 75}, {\"color\": \"red\", \"source\": 90, \"target\": 18}, {\"color\": \"red\", \"source\": 90, \"target\": 108}, {\"color\": \"red\", \"source\": 90, \"target\": 108}, {\"color\": \"red\", \"source\": 90, \"target\": 109}, {\"color\": \"red\", \"source\": 102, \"target\": 37}, {\"color\": \"red\", \"source\": 102, \"target\": 48}, {\"color\": \"red\", \"source\": 103, \"target\": 43}, {\"color\": \"red\", \"source\": 103, \"target\": 50}, {\"color\": \"red\", \"source\": 103, \"target\": 75}, {\"color\": \"red\", \"source\": 103, \"target\": 24}, {\"color\": \"red\", \"source\": 103, \"target\": 35}, {\"color\": \"red\", \"source\": 103, \"target\": 36}, {\"color\": \"red\", \"source\": 103, \"target\": 106}, {\"color\": \"red\", \"source\": 103, \"target\": 47}, {\"color\": \"red\", \"source\": 103, \"target\": 58}, {\"color\": \"red\", \"source\": 103, \"target\": 6}, {\"color\": \"blue\", \"source\": 103, \"target\": 48}, {\"color\": \"blue\", \"source\": 103, \"target\": 19}, {\"color\": \"red\", \"source\": 103, \"target\": 20}, {\"color\": \"red\", \"source\": 103, \"target\": 20}, {\"color\": \"red\", \"source\": 103, \"target\": 73}, {\"color\": \"red\", \"source\": 103, \"target\": 69}, {\"color\": \"red\", \"source\": 103, \"target\": 57}, {\"color\": \"red\", \"source\": 105, \"target\": 39}, {\"color\": \"red\", \"source\": 105, \"target\": 2}, {\"color\": \"blue\", \"source\": 105, \"target\": 15}, {\"color\": \"blue\", \"source\": 105, \"target\": 15}, {\"color\": \"red\", \"source\": 105, \"target\": 35}, {\"color\": \"red\", \"source\": 105, \"target\": 80}, {\"color\": \"red\", \"source\": 105, \"target\": 16}, {\"color\": \"blue\", \"source\": 105, \"target\": 6}, {\"color\": \"red\", \"source\": 105, \"target\": 78}, {\"color\": \"red\", \"source\": 105, \"target\": 31}, {\"color\": \"red\", \"source\": 105, \"target\": 17}, {\"color\": \"blue\", \"source\": 105, \"target\": 24}, {\"color\": \"red\", \"source\": 105, \"target\": 19}, {\"color\": \"red\", \"source\": 105, \"target\": 20}, {\"color\": \"red\", \"source\": 109, \"target\": 20}, {\"color\": \"blue\", \"source\": 109, \"target\": 65}, {\"color\": \"red\", \"source\": 109, \"target\": 90}]);}</script><iframe name=\"style_file1\" src=\"style_file1.html\" width=\"100%;\" height=\"805px\"></iframe></body></html>"
      ],
      "text/plain": [
       "<IPython.core.display.HTML object>"
      ]
     },
     "execution_count": 35,
     "metadata": {},
     "output_type": "execute_result"
    }
   ],
   "source": [
    "stat_analysis.vis_tf_network(DG_brca, 'FOXO3', '../../DEG_databases/geo2r_GSE11352_brca_48hours.txt', list(DEG_list_brca),\n",
    "              directed_edges = True,\n",
    "              node_spacing = 2300,\n",
    "              graph_id = 1) "
   ]
  },
  {
   "cell_type": "code",
   "execution_count": null,
   "metadata": {
    "collapsed": true
   },
   "outputs": [],
   "source": []
  }
 ],
 "metadata": {
  "kernelspec": {
   "display_name": "Python 2",
   "language": "python",
   "name": "python2"
  },
  "language_info": {
   "codemirror_mode": {
    "name": "ipython",
    "version": 2
   },
   "file_extension": ".py",
   "mimetype": "text/x-python",
   "name": "python",
   "nbconvert_exporter": "python",
   "pygments_lexer": "ipython2",
   "version": "2.7.14"
  }
 },
 "nbformat": 4,
 "nbformat_minor": 2
}
