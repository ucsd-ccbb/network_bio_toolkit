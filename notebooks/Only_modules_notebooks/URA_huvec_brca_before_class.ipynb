{
 "cells": [
  {
   "cell_type": "markdown",
   "metadata": {},
   "source": [
    "# Upstream Regulator Analysis Package\n",
    "## HUVEC and Breast Cancer Case Study\n",
    "### Direct Module Use, No Wrapper Class\n",
    "\n",
    "----------------------\n",
    "\n",
    "Author: Mikayla Webster (m1webste@ucsd.edu)\n",
    "\n",
    "Date: 11th January, 2018\n",
    "\n",
    "----------------------\n",
    "\n",
    "<a id='toc'></a>\n",
    "## Table of Contents\n",
    "1. [Background](#background)\n",
    "2. [Import packages](#import)\n",
    "3. [Transcription Factors](#tf)\n",
    "4. [Background Network](#bn)\n",
    "5. [HUVEC](#huvec)\n",
    "    1. [Load DEG's](#loadhuvec)\n",
    "    2. [Calculate p-values and z-scores](#pzhuvec)\n",
    "    3. [Compare the Ingenuity Article's results to Ours](#comphuvec)\n",
    "    4. [Display Our results](#displayhuvec)\n",
    "6. [Breast Cancer](#brca)\n",
    "    1. [Load DEG's](#loadbrca)\n",
    "    2. [Calculate p-values and z-scores](#pzbrca)\n",
    "    3. [Compare the Ingenuity Article's results to Ours](#compbrca)\n",
    "    4. [Display Our results](#displaybrca)"
   ]
  },
  {
   "cell_type": "markdown",
   "metadata": {},
   "source": [
    "## Background\n",
    "<a id='background'></a>\n",
    "\n",
    "This notebook provides validation for our Upstream Regulator Analysis (URA) modules. Our modules are inspired by Ingenuity System's [Ingenuity Upstream Regulator Analysis in IPA®](http://pages.ingenuity.com/rs/ingenuity/images/0812%20upstream_regulator_analysis_whitepaper.pdf); this test case is inpired by Ingenuity System's corresponding paper, [Causal analysis approaches in Ingenuity Pathway Analysis](https://www.ncbi.nlm.nih.gov/pmc/articles/PMC3928520/). This paper analyses two sets of Differencially Expressed Genes (DEG's): one from a breast cancer tumor and the other from Human Umbilical Vein Endothelial Cells (HUVEC). We run our version of URA on these same breast cancer and HUVEC DEG's, however using the [STRING database](https://string-db.org/) human protein interaction network as our background network. "
   ]
  },
  {
   "cell_type": "markdown",
   "metadata": {},
   "source": [
    "## Import packages\n",
    "<a id='import'></a>"
   ]
  },
  {
   "cell_type": "code",
   "execution_count": 1,
   "metadata": {},
   "outputs": [
    {
     "data": {
      "text/plain": [
       "<module 'stat_analysis' from '../../ura\\stat_analysis.pyc'>"
      ]
     },
     "execution_count": 1,
     "metadata": {},
     "output_type": "execute_result"
    }
   ],
   "source": [
    "# import upstream regulator modules\n",
    "import sys\n",
    "code_path = '../../ura'\n",
    "sys.path.append(code_path)\n",
    "import create_graph\n",
    "import stat_analysis\n",
    "reload(create_graph)\n",
    "reload(stat_analysis)"
   ]
  },
  {
   "cell_type": "code",
   "execution_count": 16,
   "metadata": {
    "collapsed": true
   },
   "outputs": [],
   "source": [
    "%matplotlib inline"
   ]
  },
  {
   "cell_type": "code",
   "execution_count": 2,
   "metadata": {
    "collapsed": true
   },
   "outputs": [],
   "source": [
    "gene_type = 'symbol'"
   ]
  },
  {
   "cell_type": "markdown",
   "metadata": {},
   "source": [
    "## Transcription Factors\n",
    "<a id='tf'></a>\n",
    "\n",
    "Load our list of Transcription Factors (TF) we want to analyze. Gene symbols will be in all caps. "
   ]
  },
  {
   "cell_type": "code",
   "execution_count": 3,
   "metadata": {},
   "outputs": [
    {
     "data": {
      "text/plain": [
       "3986"
      ]
     },
     "execution_count": 3,
     "metadata": {},
     "output_type": "execute_result"
    }
   ],
   "source": [
    "TF_list = create_graph.easy_load_TF_list(slowkow_bool=True, jaspar_bool=True, gene_type = gene_type)\n",
    "\n",
    "\n",
    "TF_list = TF_list + ['TNF', 'IFNG', 'LBP'] # known regulators of interest missing from our TF databases\n",
    "len(TF_list)"
   ]
  },
  {
   "cell_type": "markdown",
   "metadata": {},
   "source": [
    "## Background Network\n",
    "<a id='bn'></a>\n",
    "\n",
    "Load our background network, available on the [STRING website](https://string-db.org/cgi/download.pl?UserId=9BGA8WkVMRl6&sessionId=HWUK6Dum9xC6&species_text=Homo+sapiens), and keep only our the information about our TF's. \n",
    "\n",
    "The function load_STRING_to_digraph can load any species' \"protein actions\" database from STRING. Just ensure your TF list and DEG list have the same naming convention as you background network (Homo Sapiens use all caps, Mus Musculus only capitalizes the first letter, etc.) Inconsistent naming can effect your results."
   ]
  },
  {
   "cell_type": "code",
   "execution_count": 4,
   "metadata": {},
   "outputs": [
    {
     "name": "stdout",
     "output_type": "stream",
     "text": [
      "querying 1-1000...done.\n",
      "querying 1001-2000...done.\n",
      "querying 2001-3000...done.\n",
      "querying 3001-4000...done.\n",
      "querying 4001-5000...done.\n",
      "querying 5001-6000...done.\n",
      "querying 6001-7000...done.\n",
      "querying 7001-7374...done.\n",
      "Finished.\n",
      "56 input query terms found dup hits:\n",
      "\t[(u'ENSP00000359550', 3), (u'ENSP00000447879', 2), (u'ENSP00000364076', 2), (u'ENSP00000348986', 2),\n",
      "312 input query terms found no hit:\n",
      "\t[u'ENSP00000376684', u'ENSP00000289352', u'ENSP00000202788', u'ENSP00000373637', u'ENSP00000367802',\n",
      "Pass \"returnall=True\" to return complete lists of duplicate or missing query terms.\n"
     ]
    }
   ],
   "source": [
    "filename = \"../../background_networks/9606.protein.actions.v10.5.txt\"\n",
    "DG_TF, DG_universe = create_graph.load_STRING_to_digraph(filename, \n",
    "                                                         TF_list, \n",
    "                                                         confidence_filter=400, \n",
    "                                                         gene_type = gene_type)"
   ]
  },
  {
   "cell_type": "markdown",
   "metadata": {},
   "source": [
    "## HUVEC##\n",
    "<a id='huvec'></a>"
   ]
  },
  {
   "cell_type": "markdown",
   "metadata": {},
   "source": [
    "### Load HUVEC DEG's ###\n",
    "<a id='loadhuvec'></a>"
   ]
  },
  {
   "cell_type": "code",
   "execution_count": 5,
   "metadata": {
    "collapsed": true
   },
   "outputs": [],
   "source": [
    "# DEG's\n",
    "filename_huvec = '../../DEG_databases/geo2r_GSE2639_huvec.txt'\n",
    "\n",
    "# TF's found to be statistically significant in Ingenuity Systems URA article\n",
    "huvec_genes = ['TNF','IFNG','LBP', 'NFKB1', 'NFKB2', 'REL', 'RELA', 'RELB', 'PCBP3', 'PCBP2', 'PCBP1', 'PCBP4', 'NFKBIA']\n",
    "\n",
    "# add DEG information to STRING background network\n",
    "DEG_list_huvec, DG_huvec = create_graph.create_DEG_list(filename_huvec,\n",
    "                G = DG_TF,  # specify in order to add up-down info to graph\n",
    "                p_value_filter = 0.3,\n",
    "                gene_type = gene_type) # 'symbol' or 'entrez'\n",
    "\n",
    "DEG_full_graph_huvec, DEG_to_pvalue_huvec, DEG_to_updown_huvec = create_graph.create_DEG_full_graph(filename_huvec, gene_type=gene_type)"
   ]
  },
  {
   "cell_type": "markdown",
   "metadata": {},
   "source": [
    "### Calculate p-values and z-scores\n",
    "<a id='pzhuvec'></a>\n",
    "\n",
    "For a detailed explination of our p-value and z-score calculation functions, see our URA_Basic_Example notebook"
   ]
  },
  {
   "cell_type": "code",
   "execution_count": 6,
   "metadata": {
    "collapsed": true
   },
   "outputs": [],
   "source": [
    "# calculate p-values\n",
    "p_values = stat_analysis.tf_target_enrichment(DG_huvec, DG_universe, DEG_list_huvec)\n",
    "\n",
    "# calculate z-scores\n",
    "z_scores_huvec = stat_analysis.tf_zscore(DG_huvec, DEG_list_huvec, bias_filter = 0.25) # recommended bias filter is 0.25"
   ]
  },
  {
   "cell_type": "markdown",
   "metadata": {},
   "source": [
    "### Compare the Ingenuity Article's results to Ours\n",
    "<a id='comphuvec'></a>\n",
    "\n",
    "These are the TF's found to be most relevant according to the Ingenuity Pathway Analysis paper. Optimally, these genes would rank very high. A rank of 0 is always best, while the rank associated with a z-score of zero is the worst. \n",
    "\n",
    "In this case, IFNG anf TNF are high ranking, therefore show coordination between our results and the Ingenuity article's results. LBP, PCBP1, PCBP2, PCBP4, and RELB have z-scores of zero, meaning not enough information exists about these genes to calculate a true z-score for them. PCBP3 has a NaN z-score because it is not in the graph."
   ]
  },
  {
   "cell_type": "code",
   "execution_count": 18,
   "metadata": {},
   "outputs": [
    {
     "name": "stdout",
     "output_type": "stream",
     "text": [
      "PCBP3 is not a valid transcription factor in our graph.\n"
     ]
    },
    {
     "data": {
      "image/png": "[encoded data removed]",
      "text/plain": [
       "<matplotlib.figure.Figure at 0x298f3438>"
      ]
     },
     "metadata": {},
     "output_type": "display_data"
    }
   ],
   "source": [
    "stat_analysis.compare_genes(z_scores_huvec, huvec_genes)"
   ]
  },
  {
   "cell_type": "markdown",
   "metadata": {},
   "source": [
    "### Display Our results\n",
    "<a id='displayhuvec'></a>\n",
    "\n",
    "These are the most relevant TF's according to our analysis. Optimally, these should match the huvec genes defined above. However, using a different background network produces discrepancies.\n",
    "\n",
    "IFNG, TNF, and TNFAIP3 show coordination between our results and the Ingenuity article's results."
   ]
  },
  {
   "cell_type": "code",
   "execution_count": 8,
   "metadata": {
    "scrolled": false
   },
   "outputs": [
    {
     "data": {
      "text/html": [
       "<div>\n",
       "<style>\n",
       "    .dataframe thead tr:only-child th {\n",
       "        text-align: right;\n",
       "    }\n",
       "\n",
       "    .dataframe thead th {\n",
       "        text-align: left;\n",
       "    }\n",
       "\n",
       "    .dataframe tbody tr th {\n",
       "        vertical-align: top;\n",
       "    }\n",
       "</style>\n",
       "<table border=\"1\" class=\"dataframe\">\n",
       "  <thead>\n",
       "    <tr style=\"text-align: right;\">\n",
       "      <th></th>\n",
       "      <th>z-score</th>\n",
       "      <th>(adj) p-value</th>\n",
       "      <th>(log) fold change</th>\n",
       "    </tr>\n",
       "  </thead>\n",
       "  <tbody>\n",
       "    <tr>\n",
       "      <th>IFNG</th>\n",
       "      <td>3.549648</td>\n",
       "      <td>0.943412</td>\n",
       "      <td>-0.1720</td>\n",
       "    </tr>\n",
       "    <tr>\n",
       "      <th>CTF1</th>\n",
       "      <td>3.000000</td>\n",
       "      <td>0.947242</td>\n",
       "      <td>0.4870</td>\n",
       "    </tr>\n",
       "    <tr>\n",
       "      <th>STAT4</th>\n",
       "      <td>2.645751</td>\n",
       "      <td>0.990425</td>\n",
       "      <td>0.0383</td>\n",
       "    </tr>\n",
       "    <tr>\n",
       "      <th>STAT5A</th>\n",
       "      <td>2.529822</td>\n",
       "      <td>0.344762</td>\n",
       "      <td>1.0600</td>\n",
       "    </tr>\n",
       "    <tr>\n",
       "      <th>TNF</th>\n",
       "      <td>2.342606</td>\n",
       "      <td>0.658852</td>\n",
       "      <td>1.1200</td>\n",
       "    </tr>\n",
       "    <tr>\n",
       "      <th>HIF1A</th>\n",
       "      <td>2.236068</td>\n",
       "      <td>0.965412</td>\n",
       "      <td>0.1130</td>\n",
       "    </tr>\n",
       "    <tr>\n",
       "      <th>GATA3</th>\n",
       "      <td>2.236068</td>\n",
       "      <td>0.323464</td>\n",
       "      <td>-0.8050</td>\n",
       "    </tr>\n",
       "    <tr>\n",
       "      <th>IRF3</th>\n",
       "      <td>2.236068</td>\n",
       "      <td>0.972756</td>\n",
       "      <td>0.1810</td>\n",
       "    </tr>\n",
       "    <tr>\n",
       "      <th>FOS</th>\n",
       "      <td>2.236068</td>\n",
       "      <td>0.625963</td>\n",
       "      <td>-0.8010</td>\n",
       "    </tr>\n",
       "    <tr>\n",
       "      <th>SPG7</th>\n",
       "      <td>2.236068</td>\n",
       "      <td>NaN</td>\n",
       "      <td>NaN</td>\n",
       "    </tr>\n",
       "  </tbody>\n",
       "</table>\n",
       "</div>"
      ],
      "text/plain": [
       "         z-score  (adj) p-value  (log) fold change\n",
       "IFNG    3.549648       0.943412            -0.1720\n",
       "CTF1    3.000000       0.947242             0.4870\n",
       "STAT4   2.645751       0.990425             0.0383\n",
       "STAT5A  2.529822       0.344762             1.0600\n",
       "TNF     2.342606       0.658852             1.1200\n",
       "HIF1A   2.236068       0.965412             0.1130\n",
       "GATA3   2.236068       0.323464            -0.8050\n",
       "IRF3    2.236068       0.972756             0.1810\n",
       "FOS     2.236068       0.625963            -0.8010\n",
       "SPG7    2.236068            NaN                NaN"
      ]
     },
     "metadata": {},
     "output_type": "display_data"
    },
    {
     "data": {
      "text/html": [
       "<div>\n",
       "<style>\n",
       "    .dataframe thead tr:only-child th {\n",
       "        text-align: right;\n",
       "    }\n",
       "\n",
       "    .dataframe thead th {\n",
       "        text-align: left;\n",
       "    }\n",
       "\n",
       "    .dataframe tbody tr th {\n",
       "        vertical-align: top;\n",
       "    }\n",
       "</style>\n",
       "<table border=\"1\" class=\"dataframe\">\n",
       "  <thead>\n",
       "    <tr style=\"text-align: right;\">\n",
       "      <th></th>\n",
       "      <th>z-score</th>\n",
       "      <th>(adj) p-value</th>\n",
       "      <th>(log) fold change</th>\n",
       "    </tr>\n",
       "  </thead>\n",
       "  <tbody>\n",
       "    <tr>\n",
       "      <th>PPARA</th>\n",
       "      <td>-2.449490</td>\n",
       "      <td>0.931975</td>\n",
       "      <td>0.26200</td>\n",
       "    </tr>\n",
       "    <tr>\n",
       "      <th>TNFAIP3</th>\n",
       "      <td>-2.000000</td>\n",
       "      <td>0.000369</td>\n",
       "      <td>2.80000</td>\n",
       "    </tr>\n",
       "    <tr>\n",
       "      <th>DDX41</th>\n",
       "      <td>-2.000000</td>\n",
       "      <td>0.884567</td>\n",
       "      <td>0.21500</td>\n",
       "    </tr>\n",
       "    <tr>\n",
       "      <th>CACNA2D4</th>\n",
       "      <td>-2.000000</td>\n",
       "      <td>NaN</td>\n",
       "      <td>NaN</td>\n",
       "    </tr>\n",
       "    <tr>\n",
       "      <th>CACNA2D2</th>\n",
       "      <td>-2.000000</td>\n",
       "      <td>0.994112</td>\n",
       "      <td>-0.04400</td>\n",
       "    </tr>\n",
       "    <tr>\n",
       "      <th>GPSM1</th>\n",
       "      <td>-1.941451</td>\n",
       "      <td>NaN</td>\n",
       "      <td>NaN</td>\n",
       "    </tr>\n",
       "    <tr>\n",
       "      <th>SIRT1</th>\n",
       "      <td>-1.897367</td>\n",
       "      <td>0.998068</td>\n",
       "      <td>0.00695</td>\n",
       "    </tr>\n",
       "    <tr>\n",
       "      <th>NR3C1</th>\n",
       "      <td>-1.732051</td>\n",
       "      <td>0.853714</td>\n",
       "      <td>0.30100</td>\n",
       "    </tr>\n",
       "    <tr>\n",
       "      <th>NKX2-5</th>\n",
       "      <td>-1.732051</td>\n",
       "      <td>0.847805</td>\n",
       "      <td>0.99000</td>\n",
       "    </tr>\n",
       "    <tr>\n",
       "      <th>IRF8</th>\n",
       "      <td>-1.732051</td>\n",
       "      <td>0.969826</td>\n",
       "      <td>0.14900</td>\n",
       "    </tr>\n",
       "  </tbody>\n",
       "</table>\n",
       "</div>"
      ],
      "text/plain": [
       "           z-score  (adj) p-value  (log) fold change\n",
       "PPARA    -2.449490       0.931975            0.26200\n",
       "TNFAIP3  -2.000000       0.000369            2.80000\n",
       "DDX41    -2.000000       0.884567            0.21500\n",
       "CACNA2D4 -2.000000            NaN                NaN\n",
       "CACNA2D2 -2.000000       0.994112           -0.04400\n",
       "GPSM1    -1.941451            NaN                NaN\n",
       "SIRT1    -1.897367       0.998068            0.00695\n",
       "NR3C1    -1.732051       0.853714            0.30100\n",
       "NKX2-5   -1.732051       0.847805            0.99000\n",
       "IRF8     -1.732051       0.969826            0.14900"
      ]
     },
     "metadata": {},
     "output_type": "display_data"
    }
   ],
   "source": [
    "top_act_huvec = stat_analysis.top_values(z_scores_huvec, DEG_to_pvalue_huvec, DEG_to_updown_huvec, act = True, abs_value = False, top = 10)\n",
    "top_inh_huvec = stat_analysis.top_values(z_scores_huvec, DEG_to_pvalue_huvec, DEG_to_updown_huvec, act = False, abs_value = False, top = 10)\n",
    "display(top_act_huvec)\n",
    "display(top_inh_huvec)"
   ]
  },
  {
   "cell_type": "markdown",
   "metadata": {},
   "source": [
    "## Breast Cancer ###\n",
    "<a id='brca'></a>"
   ]
  },
  {
   "cell_type": "markdown",
   "metadata": {},
   "source": [
    "### Load Breast Cancer DEG's\n",
    "<a id='loadbrca'></a>"
   ]
  },
  {
   "cell_type": "code",
   "execution_count": 9,
   "metadata": {
    "collapsed": true
   },
   "outputs": [],
   "source": [
    "filename_brca = '../../DEG_databases/geo2r_GSE11352_brca_48hours.txt'\n",
    "brca_genes = ['ESR1', 'FSH', 'MEK', 'BRD4', 'MYC', 'MARK1', 'IL1B','NCOA3','PGR', \n",
    "              'EGR1', 'HIF1A', 'NR3C1','CTNNB1','TP53','SMARCE1','STAT5B']\n",
    "DEG_list_brca, DG_brca = create_graph.create_DEG_list(filename_brca,\n",
    "                G = DG_TF,  # specify in order to add up-down info to graph\n",
    "                p_value_filter = 0.05,\n",
    "                gene_type = gene_type) # 'symbol' or 'entrez'\n",
    "\n",
    "DEG_full_graph_brca, DEG_to_pvalue_brca, DEG_to_updown_brca = create_graph.create_DEG_full_graph(filename_brca, gene_type=gene_type)"
   ]
  },
  {
   "cell_type": "markdown",
   "metadata": {},
   "source": [
    "### Calculate p-values and z-scores\n",
    "<a id='pzbrca'></a>"
   ]
  },
  {
   "cell_type": "code",
   "execution_count": 10,
   "metadata": {
    "collapsed": true
   },
   "outputs": [],
   "source": [
    "# calculate p-values\n",
    "p_values_brca = stat_analysis.tf_target_enrichment(DG_brca, DG_universe, DEG_list_brca)\n",
    "\n",
    "# calculate z-scores\n",
    "z_scores_brca = stat_analysis.tf_zscore(DG_brca, DEG_list_brca, bias_filter = 0.25)"
   ]
  },
  {
   "cell_type": "markdown",
   "metadata": {},
   "source": [
    "### Compare the Ingenuity Article's results to Ours\n",
    "<a id='compbrca'></a>\n",
    "TP53, MYC, and ESR1 are foud to be highly ranking, showing coordination between our results and the Ingenuity article's results."
   ]
  },
  {
   "cell_type": "code",
   "execution_count": 17,
   "metadata": {},
   "outputs": [
    {
     "name": "stdout",
     "output_type": "stream",
     "text": [
      "FSH is not a valid transcription factor in our graph.\n",
      "MEK is not a valid transcription factor in our graph.\n",
      "MARK1 is not a valid transcription factor in our graph.\n",
      "IL1B is not a valid transcription factor in our graph.\n"
     ]
    },
    {
     "data": {
      "image/png": "[encoded data removed]",
      "text/plain": [
       "<matplotlib.figure.Figure at 0x1b8fb8d0>"
      ]
     },
     "metadata": {},
     "output_type": "display_data"
    }
   ],
   "source": [
    "stat_analysis.compare_genes(z_scores_brca, brca_genes)"
   ]
  },
  {
   "cell_type": "markdown",
   "metadata": {},
   "source": [
    "### Display Our results\n",
    "<a id='displaybrca'></a>\n",
    "MYCN, MYC, ESR1, and TP53 show coordination between our results and the Ingenuity article's results.\n",
    "\n",
    "Four out of five of our top activating genes, in particular MYCN, are associated with breast cancer according to literature. Our top three inhibiting genes, in particular FOXO3, are also associated with breast cancer according to literature."
   ]
  },
  {
   "cell_type": "code",
   "execution_count": 12,
   "metadata": {},
   "outputs": [
    {
     "data": {
      "text/html": [
       "<div>\n",
       "<style>\n",
       "    .dataframe thead tr:only-child th {\n",
       "        text-align: right;\n",
       "    }\n",
       "\n",
       "    .dataframe thead th {\n",
       "        text-align: left;\n",
       "    }\n",
       "\n",
       "    .dataframe tbody tr th {\n",
       "        vertical-align: top;\n",
       "    }\n",
       "</style>\n",
       "<table border=\"1\" class=\"dataframe\">\n",
       "  <thead>\n",
       "    <tr style=\"text-align: right;\">\n",
       "      <th></th>\n",
       "      <th>z-score</th>\n",
       "      <th>(adj) p-value</th>\n",
       "      <th>(log) fold change</th>\n",
       "    </tr>\n",
       "  </thead>\n",
       "  <tbody>\n",
       "    <tr>\n",
       "      <th>STAT1</th>\n",
       "      <td>1.732051</td>\n",
       "      <td>0.6421</td>\n",
       "      <td>0.136488</td>\n",
       "    </tr>\n",
       "    <tr>\n",
       "      <th>MYCN</th>\n",
       "      <td>1.732051</td>\n",
       "      <td>0.0545</td>\n",
       "      <td>-3.033888</td>\n",
       "    </tr>\n",
       "    <tr>\n",
       "      <th>STAT3</th>\n",
       "      <td>1.732051</td>\n",
       "      <td>0.3654</td>\n",
       "      <td>-0.324608</td>\n",
       "    </tr>\n",
       "    <tr>\n",
       "      <th>MYC</th>\n",
       "      <td>1.666667</td>\n",
       "      <td>0.1006</td>\n",
       "      <td>0.807643</td>\n",
       "    </tr>\n",
       "    <tr>\n",
       "      <th>SREBF1</th>\n",
       "      <td>1.414214</td>\n",
       "      <td>0.3877</td>\n",
       "      <td>-1.347036</td>\n",
       "    </tr>\n",
       "    <tr>\n",
       "      <th>PHKB</th>\n",
       "      <td>1.414214</td>\n",
       "      <td>0.0907</td>\n",
       "      <td>-0.781048</td>\n",
       "    </tr>\n",
       "    <tr>\n",
       "      <th>CCNA2</th>\n",
       "      <td>1.414214</td>\n",
       "      <td>0.1376</td>\n",
       "      <td>0.569129</td>\n",
       "    </tr>\n",
       "    <tr>\n",
       "      <th>ESR1</th>\n",
       "      <td>1.414214</td>\n",
       "      <td>0.0604</td>\n",
       "      <td>-1.452417</td>\n",
       "    </tr>\n",
       "    <tr>\n",
       "      <th>SREBF2</th>\n",
       "      <td>1.414214</td>\n",
       "      <td>0.5486</td>\n",
       "      <td>0.314303</td>\n",
       "    </tr>\n",
       "    <tr>\n",
       "      <th>IQGAP1</th>\n",
       "      <td>1.414214</td>\n",
       "      <td>0.5657</td>\n",
       "      <td>-0.187776</td>\n",
       "    </tr>\n",
       "  </tbody>\n",
       "</table>\n",
       "</div>"
      ],
      "text/plain": [
       "         z-score  (adj) p-value  (log) fold change\n",
       "STAT1   1.732051         0.6421           0.136488\n",
       "MYCN    1.732051         0.0545          -3.033888\n",
       "STAT3   1.732051         0.3654          -0.324608\n",
       "MYC     1.666667         0.1006           0.807643\n",
       "SREBF1  1.414214         0.3877          -1.347036\n",
       "PHKB    1.414214         0.0907          -0.781048\n",
       "CCNA2   1.414214         0.1376           0.569129\n",
       "ESR1    1.414214         0.0604          -1.452417\n",
       "SREBF2  1.414214         0.5486           0.314303\n",
       "IQGAP1  1.414214         0.5657          -0.187776"
      ]
     },
     "metadata": {},
     "output_type": "display_data"
    },
    {
     "data": {
      "text/html": [
       "<div>\n",
       "<style>\n",
       "    .dataframe thead tr:only-child th {\n",
       "        text-align: right;\n",
       "    }\n",
       "\n",
       "    .dataframe thead th {\n",
       "        text-align: left;\n",
       "    }\n",
       "\n",
       "    .dataframe tbody tr th {\n",
       "        vertical-align: top;\n",
       "    }\n",
       "</style>\n",
       "<table border=\"1\" class=\"dataframe\">\n",
       "  <thead>\n",
       "    <tr style=\"text-align: right;\">\n",
       "      <th></th>\n",
       "      <th>z-score</th>\n",
       "      <th>(adj) p-value</th>\n",
       "      <th>(log) fold change</th>\n",
       "    </tr>\n",
       "  </thead>\n",
       "  <tbody>\n",
       "    <tr>\n",
       "      <th>TP53</th>\n",
       "      <td>-1.889822</td>\n",
       "      <td>0.6567</td>\n",
       "      <td>0.131119</td>\n",
       "    </tr>\n",
       "    <tr>\n",
       "      <th>FOXO3</th>\n",
       "      <td>-1.414214</td>\n",
       "      <td>0.4660</td>\n",
       "      <td>-0.221403</td>\n",
       "    </tr>\n",
       "    <tr>\n",
       "      <th>EGR2</th>\n",
       "      <td>-1.414214</td>\n",
       "      <td>0.9456</td>\n",
       "      <td>0.223257</td>\n",
       "    </tr>\n",
       "    <tr>\n",
       "      <th>NR1H3</th>\n",
       "      <td>-1.414214</td>\n",
       "      <td>0.6998</td>\n",
       "      <td>0.123408</td>\n",
       "    </tr>\n",
       "    <tr>\n",
       "      <th>FOXO4</th>\n",
       "      <td>-1.414214</td>\n",
       "      <td>0.7937</td>\n",
       "      <td>0.403570</td>\n",
       "    </tr>\n",
       "    <tr>\n",
       "      <th>AKT1</th>\n",
       "      <td>-1.414214</td>\n",
       "      <td>0.7268</td>\n",
       "      <td>0.109646</td>\n",
       "    </tr>\n",
       "    <tr>\n",
       "      <th>NR1H2</th>\n",
       "      <td>-1.000000</td>\n",
       "      <td>0.9669</td>\n",
       "      <td>-0.020007</td>\n",
       "    </tr>\n",
       "    <tr>\n",
       "      <th>NFE2L2</th>\n",
       "      <td>-1.000000</td>\n",
       "      <td>0.2036</td>\n",
       "      <td>0.839586</td>\n",
       "    </tr>\n",
       "    <tr>\n",
       "      <th>TWIST1</th>\n",
       "      <td>-1.000000</td>\n",
       "      <td>0.6216</td>\n",
       "      <td>0.889346</td>\n",
       "    </tr>\n",
       "    <tr>\n",
       "      <th>FOXP3</th>\n",
       "      <td>-1.000000</td>\n",
       "      <td>0.4790</td>\n",
       "      <td>0.798675</td>\n",
       "    </tr>\n",
       "  </tbody>\n",
       "</table>\n",
       "</div>"
      ],
      "text/plain": [
       "         z-score  (adj) p-value  (log) fold change\n",
       "TP53   -1.889822         0.6567           0.131119\n",
       "FOXO3  -1.414214         0.4660          -0.221403\n",
       "EGR2   -1.414214         0.9456           0.223257\n",
       "NR1H3  -1.414214         0.6998           0.123408\n",
       "FOXO4  -1.414214         0.7937           0.403570\n",
       "AKT1   -1.414214         0.7268           0.109646\n",
       "NR1H2  -1.000000         0.9669          -0.020007\n",
       "NFE2L2 -1.000000         0.2036           0.839586\n",
       "TWIST1 -1.000000         0.6216           0.889346\n",
       "FOXP3  -1.000000         0.4790           0.798675"
      ]
     },
     "metadata": {},
     "output_type": "display_data"
    }
   ],
   "source": [
    "top_act_brca = stat_analysis.top_values(z_scores_brca, DEG_to_pvalue_brca, DEG_to_updown_brca, act = True, abs_value = False, top = 10)\n",
    "top_inh_brca = stat_analysis.top_values(z_scores_brca, DEG_to_pvalue_brca, DEG_to_updown_brca, act = False, abs_value = False, top = 10)\n",
    "display(top_act_brca)\n",
    "display(top_inh_brca)"
   ]
  },
  {
   "cell_type": "code",
   "execution_count": 13,
   "metadata": {},
   "outputs": [
    {
     "data": {
      "text/html": [
       "<!doctype html><html><head>  <title>Network | Basic usage</title></head><body><script type=\"text/javascript\">function setUpFrame() {     var frame = window.frames[\"style_file0\"];    frame.runVis([{\"node_shape\": \"circle\", \"degree\": 3.0, \"title\": \"CCL2\", \"color\": \"grey\", \"size_field\": 2.089924707527987, \"y\": 400.2464915717729, \"x\": 616.8533640520037, \"border_width\": 0, \"id\": \"CCL2\"}, {\"node_shape\": \"circle\", \"degree\": 3.0, \"title\": \"TGM2\", \"color\": \"grey\", \"size_field\": 3.932401799030521, \"y\": 245.032533867894, \"x\": 628.4880985135518, \"border_width\": 0, \"id\": \"TGM2\"}, {\"node_shape\": \"circle\", \"degree\": 3.0, \"title\": \"TP53INP1\", \"color\": \"rgba(0, 0, 256, 1.0)\", \"size_field\": 5.44201937618241, \"y\": 522.1827458952537, \"x\": 437.9597097673499, \"border_width\": 2, \"id\": \"TP53INP1\"}, {\"node_shape\": \"circle\", \"degree\": 3.0, \"title\": \"SIRT2\", \"color\": \"grey\", \"size_field\": 2.8182569916027895, \"y\": 172.90810118290796, \"x\": 539.8131800766599, \"border_width\": 0, \"id\": \"SIRT2\"}, {\"node_shape\": \"circle\", \"degree\": 3.0, \"title\": \"SMAD4\", \"color\": \"grey\", \"size_field\": 3.6782522284344603, \"y\": 649.250915461771, \"x\": 372.62575179621103, \"border_width\": 0, \"id\": \"SMAD4\"}, {\"node_shape\": \"circle\", \"degree\": 3.0, \"title\": \"CDKN1B\", \"color\": \"grey\", \"size_field\": 4.10127823628901, \"y\": 770.5795092314362, \"x\": 580.7652697432612, \"border_width\": 0, \"id\": \"CDKN1B\"}, {\"node_shape\": \"circle\", \"degree\": 3.0, \"title\": \"IGF1R\", \"color\": \"grey\", \"size_field\": 3.944211592419732, \"y\": 875.0074869684368, \"x\": 894.301729297464, \"border_width\": 0, \"id\": \"IGF1R\"}, {\"node_shape\": \"circle\", \"degree\": 3.0, \"title\": \"BCL2\", \"color\": \"grey\", \"size_field\": 3.5186835491656363, \"y\": 406.33051261042476, \"x\": 435.10661239527036, \"border_width\": 0, \"id\": \"BCL2\"}, {\"node_shape\": \"circle\", \"degree\": 3.0, \"title\": \"CHL1\", \"color\": \"grey\", \"size_field\": 2.7991745852054755, \"y\": 81.75659829891156, \"x\": 644.670296137668, \"border_width\": 0, \"id\": \"CHL1\"}, {\"node_shape\": \"circle\", \"degree\": 3.0, \"title\": \"NDRG1\", \"color\": \"grey\", \"size_field\": 2.282628198149102, \"y\": 432.66904304776466, \"x\": 768.6534854700586, \"border_width\": 0, \"id\": \"NDRG1\"}, {\"node_shape\": \"circle\", \"degree\": 3.0, \"title\": \"MYBL2\", \"color\": \"grey\", \"size_field\": 2.316904931128684, \"y\": 165.72428212643595, \"x\": 319.9324269952267, \"border_width\": 0, \"id\": \"MYBL2\"}, {\"node_shape\": \"circle\", \"degree\": 3.0, \"title\": \"NES\", \"color\": \"grey\", \"size_field\": 2.8751487885429796, \"y\": 698.5260274108076, \"x\": 810.7651751863193, \"border_width\": 0, \"id\": \"NES\"}, {\"node_shape\": \"circle\", \"degree\": 3.0, \"title\": \"GSN\", \"color\": \"grey\", \"size_field\": 3.868856519613022, \"y\": 993.9559575682717, \"x\": 513.2562053897934, \"border_width\": 0, \"id\": \"GSN\"}, {\"node_shape\": \"star\", \"degree\": 3.0, \"title\": \"MYCN\", \"color\": \"grey\", \"size_field\": 13.44201937618241, \"y\": 626.8784310940698, \"x\": 1200.0, \"border_width\": 0, \"id\": \"MYCN\"}, {\"node_shape\": \"circle\", \"degree\": 3.0, \"title\": \"KLF10\", \"color\": \"grey\", \"size_field\": 2.8636982817549845, \"y\": 853.3834506065249, \"x\": 365.36572630626705, \"border_width\": 0, \"id\": \"KLF10\"}, {\"node_shape\": \"circle\", \"degree\": 3.0, \"title\": \"STAT3\", \"color\": \"grey\", \"size_field\": 3.0067626350382306, \"y\": 836.8336341049899, \"x\": 600.0389568199794, \"border_width\": 0, \"id\": \"STAT3\"}, {\"node_shape\": \"circle\", \"degree\": 3.0, \"title\": \"CHD7\", \"color\": \"grey\", \"size_field\": 3.1933626252139202, \"y\": 133.36368086858567, \"x\": 1188.2476129169456, \"border_width\": 0, \"id\": \"CHD7\"}, {\"node_shape\": \"circle\", \"degree\": 3.0, \"title\": \"RUNX3\", \"color\": \"grey\", \"size_field\": 2.6790470561811635, \"y\": 643.5879692203391, \"x\": 1060.8227232166946, \"border_width\": 0, \"id\": \"RUNX3\"}, {\"node_shape\": \"circle\", \"degree\": 3.0, \"title\": \"CDKL5\", \"color\": \"rgba(0, 0, 256, 1.0)\", \"size_field\": 5.18689277901515, \"y\": 243.93396158485905, \"x\": 1168.814259987557, \"border_width\": 2, \"id\": \"CDKL5\"}, {\"node_shape\": \"circle\", \"degree\": 3.0, \"title\": \"SOX11\", \"color\": \"grey\", \"size_field\": 2.8209805520698303, \"y\": 912.4942209404062, \"x\": 506.80860853392517, \"border_width\": 0, \"id\": \"SOX11\"}, {\"node_shape\": \"circle\", \"degree\": 3.0, \"title\": \"NTRK1\", \"color\": \"grey\", \"size_field\": 2.0781777810640243, \"y\": 356.4205190905526, \"x\": 1018.1593181872958, \"border_width\": 0, \"id\": \"NTRK1\"}, {\"node_shape\": \"circle\", \"degree\": 3.0, \"title\": \"RGS5\", \"color\": \"grey\", \"size_field\": 4.6635549612156595, \"y\": 215.25825508276145, \"x\": 0.0, \"border_width\": 0, \"id\": \"RGS5\"}, {\"node_shape\": \"circle\", \"degree\": 3.0, \"title\": \"GLI1\", \"color\": \"grey\", \"size_field\": 2.1338743085563276, \"y\": 21.64970270511489, \"x\": 773.2164293566734, \"border_width\": 0, \"id\": \"GLI1\"}, {\"node_shape\": \"circle\", \"degree\": 3.0, \"title\": \"NFKB1\", \"color\": \"grey\", \"size_field\": 2.533923675011968, \"y\": 518.6992918646491, \"x\": 624.8711881282688, \"border_width\": 0, \"id\": \"NFKB1\"}, {\"node_shape\": \"circle\", \"degree\": 3.0, \"title\": \"MYC\", \"color\": \"grey\", \"size_field\": 4.296603021316498, \"y\": 627.6539340815915, \"x\": 610.3388384181912, \"border_width\": 0, \"id\": \"MYC\"}, {\"node_shape\": \"circle\", \"degree\": 3.0, \"title\": \"TRPM7\", \"color\": \"grey\", \"size_field\": 3.396344696973392, \"y\": 155.7807956888726, \"x\": 939.8788621507946, \"border_width\": 0, \"id\": \"TRPM7\"}, {\"node_shape\": \"circle\", \"degree\": 3.0, \"title\": \"WT1\", \"color\": \"grey\", \"size_field\": 2.133188594243745, \"y\": 955.2698777879027, \"x\": 1159.0415188158963, \"border_width\": 0, \"id\": \"WT1\"}, {\"node_shape\": \"circle\", \"degree\": 3.0, \"title\": \"WDR5\", \"color\": \"grey\", \"size_field\": 4.02117263355586, \"y\": 1067.5463970290423, \"x\": 1070.8605208750319, \"border_width\": 0, \"id\": \"WDR5\"}, {\"node_shape\": \"circle\", \"degree\": 3.0, \"title\": \"SHC2\", \"color\": \"grey\", \"size_field\": 3.370027388656019, \"y\": 694.29858514799, \"x\": 321.57179602705173, \"border_width\": 0, \"id\": \"SHC2\"}, {\"node_shape\": \"circle\", \"degree\": 3.0, \"title\": \"ASCL1\", \"color\": \"rgba(256, 8, 8, 1.0)\", \"size_field\": 5.414282621210811, \"y\": 534.8085613134017, \"x\": 194.84936245574494, \"border_width\": 2, \"id\": \"ASCL1\"}, {\"node_shape\": \"circle\", \"degree\": 3.0, \"title\": \"CTSD\", \"color\": \"grey\", \"size_field\": 4.838728524744326, \"y\": 340.1785571982302, \"x\": 331.89639192637867, \"border_width\": 0, \"id\": \"CTSD\"}, {\"node_shape\": \"circle\", \"degree\": 3.0, \"title\": \"HMGA1\", \"color\": \"grey\", \"size_field\": 2.8563722416629114, \"y\": 436.32748755590313, \"x\": 216.6025617379836, \"border_width\": 0, \"id\": \"HMGA1\"}, {\"node_shape\": \"circle\", \"degree\": 3.0, \"title\": \"MCM7\", \"color\": \"grey\", \"size_field\": 3.8546992690019293, \"y\": 574.7009351537951, \"x\": 377.9406944812435, \"border_width\": 0, \"id\": \"MCM7\"}, {\"node_shape\": \"circle\", \"degree\": 3.0, \"title\": \"VEGFA\", \"color\": \"grey\", \"size_field\": 3.525556428453398, \"y\": 596.7642787462859, \"x\": 705.6053581098996, \"border_width\": 0, \"id\": \"VEGFA\"}, {\"node_shape\": \"circle\", \"degree\": 3.0, \"title\": \"SHH\", \"color\": \"grey\", \"size_field\": 2.9731256686266936, \"y\": 300.3732796793446, \"x\": 519.6990852949208, \"border_width\": 0, \"id\": \"SHH\"}, {\"node_shape\": \"circle\", \"degree\": 3.0, \"title\": \"SLC19A1\", \"color\": \"grey\", \"size_field\": 4.267217949156755, \"y\": 0.0, \"x\": 655.1197849001645, \"border_width\": 0, \"id\": \"SLC19A1\"}, {\"node_shape\": \"circle\", \"degree\": 3.0, \"title\": \"TRPM6\", \"color\": \"grey\", \"size_field\": 2.8472311959426606, \"y\": 992.2479278236632, \"x\": 802.4277963721565, \"border_width\": 0, \"id\": \"TRPM6\"}, {\"node_shape\": \"circle\", \"degree\": 3.0, \"title\": \"ALK\", \"color\": \"grey\", \"size_field\": 2.384486701722973, \"y\": 125.06426927828868, \"x\": 804.6384692943432, \"border_width\": 0, \"id\": \"ALK\"}, {\"node_shape\": \"circle\", \"degree\": 3.0, \"title\": \"TP53\", \"color\": \"grey\", \"size_field\": 2.4205279857852102, \"y\": 641.6081045897217, \"x\": 517.2879146864062, \"border_width\": 0, \"id\": \"TP53\"}, {\"node_shape\": \"circle\", \"degree\": 3.0, \"title\": \"BMP2\", \"color\": \"grey\", \"size_field\": 3.0555527992076628, \"y\": 344.91357706572336, \"x\": 590.1066267783626, \"border_width\": 0, \"id\": \"BMP2\"}, {\"node_shape\": \"circle\", \"degree\": 3.0, \"title\": \"CCND1\", \"color\": \"grey\", \"size_field\": 3.2437536743377806, \"y\": 471.2225990630225, \"x\": 510.71382501008276, \"border_width\": 0, \"id\": \"CCND1\"}, {\"node_shape\": \"circle\", \"degree\": 3.0, \"title\": \"LRRN3\", \"color\": \"grey\", \"size_field\": 2.8171243603796565, \"y\": 285.37730754386166, \"x\": 168.30215795104647, \"border_width\": 0, \"id\": \"LRRN3\"}, {\"node_shape\": \"circle\", \"degree\": 3.0, \"title\": \"INSM1\", \"color\": \"grey\", \"size_field\": 2.256312612705724, \"y\": 456.35121812988444, \"x\": 316.2878895670212, \"border_width\": 0, \"id\": \"INSM1\"}, {\"node_shape\": \"circle\", \"degree\": 3.0, \"title\": \"AHR\", \"color\": \"grey\", \"size_field\": 2.23990829764694, \"y\": 107.47394350204793, \"x\": 584.1537182777033, \"border_width\": 0, \"id\": \"AHR\"}, {\"node_shape\": \"circle\", \"degree\": 3.0, \"title\": \"PTEN\", \"color\": \"grey\", \"size_field\": 3.3242589702004377, \"y\": 562.257856324739, \"x\": 765.3583228648399, \"border_width\": 0, \"id\": \"PTEN\"}, {\"node_shape\": \"circle\", \"degree\": 3.0, \"title\": \"VIP\", \"color\": \"grey\", \"size_field\": 2.0948602810239603, \"y\": 747.5756033278956, \"x\": 302.6758353312597, \"border_width\": 0, \"id\": \"VIP\"}, {\"node_shape\": \"circle\", \"degree\": 3.0, \"title\": \"RD3\", \"color\": \"grey\", \"size_field\": 2.0142003494011416, \"y\": 1086.2895494641211, \"x\": 812.4871059209516, \"border_width\": 0, \"id\": \"RD3\"}, {\"node_shape\": \"circle\", \"degree\": 3.0, \"title\": \"SIRT1\", \"color\": \"grey\", \"size_field\": 2.434173272244908, \"y\": 700.694616089748, \"x\": 555.3710646868366, \"border_width\": 0, \"id\": \"SIRT1\"}, {\"node_shape\": \"circle\", \"degree\": 3.0, \"title\": \"MTOR\", \"color\": \"grey\", \"size_field\": 2.2470520963658855, \"y\": 579.5948261638647, \"x\": 574.0185309921219, \"border_width\": 0, \"id\": \"MTOR\"}, {\"node_shape\": \"circle\", \"degree\": 3.0, \"title\": \"KDM3A\", \"color\": \"grey\", \"size_field\": 3.606941032235513, \"y\": 63.3194478059842, \"x\": 1006.6576453374649, \"border_width\": 0, \"id\": \"KDM3A\"}, {\"node_shape\": \"circle\", \"degree\": 3.0, \"title\": \"KDM5B\", \"color\": \"grey\", \"size_field\": 2.501865882394519, \"y\": 737.6724462704901, \"x\": 1009.8905824412575, \"border_width\": 0, \"id\": \"KDM5B\"}, {\"node_shape\": \"circle\", \"degree\": 3.0, \"title\": \"CDC42\", \"color\": \"grey\", \"size_field\": 2.6002034349172076, \"y\": 422.651583566295, \"x\": 938.1466686583345, \"border_width\": 0, \"id\": \"CDC42\"}], [{\"color\": \"blue\", \"source\": 26, \"target\": 40}, {\"color\": \"blue\", \"source\": 26, \"target\": 6}, {\"color\": \"blue\", \"source\": 26, \"target\": 7}, {\"color\": \"red\", \"source\": 4, \"target\": 38}, {\"color\": \"blue\", \"source\": 4, \"target\": 40}, {\"color\": \"red\", \"source\": 4, \"target\": 5}, {\"color\": \"blue\", \"source\": 4, \"target\": 33}, {\"color\": \"blue\", \"source\": 4, \"target\": 24}, {\"color\": \"blue\", \"source\": 13, \"target\": 0}, {\"color\": \"blue\", \"source\": 13, \"target\": 1}, {\"color\": \"blue\", \"source\": 13, \"target\": 2}, {\"color\": \"red\", \"source\": 13, \"target\": 3}, {\"color\": \"blue\", \"source\": 13, \"target\": 4}, {\"color\": \"blue\", \"source\": 13, \"target\": 5}, {\"color\": \"red\", \"source\": 13, \"target\": 6}, {\"color\": \"red\", \"source\": 13, \"target\": 7}, {\"color\": \"blue\", \"source\": 13, \"target\": 8}, {\"color\": \"blue\", \"source\": 13, \"target\": 9}, {\"color\": \"red\", \"source\": 13, \"target\": 10}, {\"color\": \"red\", \"source\": 13, \"target\": 11}, {\"color\": \"red\", \"source\": 13, \"target\": 11}, {\"color\": \"blue\", \"source\": 13, \"target\": 12}, {\"color\": \"blue\", \"source\": 13, \"target\": 14}, {\"color\": \"red\", \"source\": 13, \"target\": 15}, {\"color\": \"blue\", \"source\": 13, \"target\": 16}, {\"color\": \"blue\", \"source\": 13, \"target\": 17}, {\"color\": \"blue\", \"source\": 13, \"target\": 18}, {\"color\": \"red\", \"source\": 13, \"target\": 19}, {\"color\": \"blue\", \"source\": 13, \"target\": 20}, {\"color\": \"blue\", \"source\": 13, \"target\": 21}, {\"color\": \"red\", \"source\": 13, \"target\": 22}, {\"color\": \"blue\", \"source\": 13, \"target\": 23}, {\"color\": \"blue\", \"source\": 13, \"target\": 24}, {\"color\": \"red\", \"source\": 13, \"target\": 25}, {\"color\": \"blue\", \"source\": 13, \"target\": 26}, {\"color\": \"red\", \"source\": 13, \"target\": 27}, {\"color\": \"red\", \"source\": 13, \"target\": 28}, {\"color\": \"red\", \"source\": 13, \"target\": 29}, {\"color\": \"blue\", \"source\": 13, \"target\": 30}, {\"color\": \"red\", \"source\": 13, \"target\": 31}, {\"color\": \"red\", \"source\": 13, \"target\": 32}, {\"color\": \"red\", \"source\": 13, \"target\": 33}, {\"color\": \"red\", \"source\": 13, \"target\": 34}, {\"color\": \"red\", \"source\": 13, \"target\": 35}, {\"color\": \"red\", \"source\": 13, \"target\": 36}, {\"color\": \"red\", \"source\": 13, \"target\": 37}, {\"color\": \"red\", \"source\": 13, \"target\": 38}, {\"color\": \"blue\", \"source\": 13, \"target\": 39}, {\"color\": \"red\", \"source\": 13, \"target\": 40}, {\"color\": \"blue\", \"source\": 13, \"target\": 41}, {\"color\": \"red\", \"source\": 13, \"target\": 42}, {\"color\": \"blue\", \"source\": 13, \"target\": 43}, {\"color\": \"red\", \"source\": 13, \"target\": 44}, {\"color\": \"blue\", \"source\": 13, \"target\": 45}, {\"color\": \"blue\", \"source\": 13, \"target\": 46}, {\"color\": \"red\", \"source\": 13, \"target\": 47}, {\"color\": \"red\", \"source\": 13, \"target\": 48}, {\"color\": \"red\", \"source\": 13, \"target\": 49}, {\"color\": \"blue\", \"source\": 13, \"target\": 50}, {\"color\": \"blue\", \"source\": 13, \"target\": 51}, {\"color\": \"blue\", \"source\": 13, \"target\": 51}, {\"color\": \"red\", \"source\": 14, \"target\": 39}, {\"color\": \"red\", \"source\": 15, \"target\": 6}, {\"color\": \"blue\", \"source\": 15, \"target\": 38}, {\"color\": \"blue\", \"source\": 15, \"target\": 40}, {\"color\": \"blue\", \"source\": 15, \"target\": 40}, {\"color\": \"blue\", \"source\": 15, \"target\": 47}, {\"color\": \"blue\", \"source\": 15, \"target\": 33}, {\"color\": \"blue\", \"source\": 15, \"target\": 33}, {\"color\": \"red\", \"source\": 15, \"target\": 48}, {\"color\": \"red\", \"source\": 15, \"target\": 24}, {\"color\": \"blue\", \"source\": 44, \"target\": 0}, {\"color\": \"blue\", \"source\": 44, \"target\": 1}, {\"color\": \"blue\", \"source\": 44, \"target\": 38}, {\"color\": \"blue\", \"source\": 44, \"target\": 40}, {\"color\": \"blue\", \"source\": 44, \"target\": 20}, {\"color\": \"blue\", \"source\": 44, \"target\": 33}, {\"color\": \"blue\", \"source\": 44, \"target\": 48}, {\"color\": \"red\", \"source\": 44, \"target\": 9}, {\"color\": \"blue\", \"source\": 44, \"target\": 24}, {\"color\": \"blue\", \"source\": 44, \"target\": 50}, {\"color\": \"blue\", \"source\": 44, \"target\": 7}, {\"color\": \"red\", \"source\": 22, \"target\": 37}, {\"color\": \"blue\", \"source\": 22, \"target\": 40}, {\"color\": \"blue\", \"source\": 22, \"target\": 40}, {\"color\": \"red\", \"source\": 22, \"target\": 34}, {\"color\": \"red\", \"source\": 22, \"target\": 34}, {\"color\": \"blue\", \"source\": 22, \"target\": 7}, {\"color\": \"blue\", \"source\": 22, \"target\": 7}, {\"color\": \"blue\", \"source\": 22, \"target\": 39}, {\"color\": \"blue\", \"source\": 22, \"target\": 39}, {\"color\": \"red\", \"source\": 23, \"target\": 0}, {\"color\": \"blue\", \"source\": 23, \"target\": 47}, {\"color\": \"blue\", \"source\": 23, \"target\": 47}, {\"color\": \"red\", \"source\": 23, \"target\": 38}, {\"color\": \"red\", \"source\": 23, \"target\": 40}, {\"color\": \"red\", \"source\": 23, \"target\": 33}, {\"color\": \"red\", \"source\": 23, \"target\": 34}, {\"color\": \"red\", \"source\": 23, \"target\": 48}, {\"color\": \"red\", \"source\": 23, \"target\": 24}, {\"color\": \"red\", \"source\": 23, \"target\": 7}, {\"color\": \"red\", \"source\": 24, \"target\": 0}, {\"color\": \"red\", \"source\": 24, \"target\": 47}, {\"color\": \"red\", \"source\": 24, \"target\": 15}, {\"color\": \"blue\", \"source\": 24, \"target\": 2}, {\"color\": \"blue\", \"source\": 24, \"target\": 38}, {\"color\": \"blue\", \"source\": 24, \"target\": 17}, {\"color\": \"red\", \"source\": 24, \"target\": 40}, {\"color\": \"blue\", \"source\": 24, \"target\": 5}, {\"color\": \"blue\", \"source\": 24, \"target\": 5}, {\"color\": \"red\", \"source\": 24, \"target\": 23}, {\"color\": \"blue\", \"source\": 24, \"target\": 39}, {\"color\": \"blue\", \"source\": 24, \"target\": 44}, {\"color\": \"blue\", \"source\": 24, \"target\": 45}, {\"color\": \"blue\", \"source\": 24, \"target\": 33}, {\"color\": \"blue\", \"source\": 24, \"target\": 9}, {\"color\": \"blue\", \"source\": 24, \"target\": 9}, {\"color\": \"blue\", \"source\": 24, \"target\": 48}, {\"color\": \"red\", \"source\": 24, \"target\": 31}, {\"color\": \"blue\", \"source\": 24, \"target\": 4}, {\"color\": \"blue\", \"source\": 24, \"target\": 7}, {\"color\": \"blue\", \"source\": 24, \"target\": 7}, {\"color\": \"red\", \"source\": 29, \"target\": 34}, {\"color\": \"blue\", \"source\": 29, \"target\": 47}, {\"color\": \"red\", \"source\": 29, \"target\": 42}, {\"color\": \"red\", \"source\": 31, \"target\": 24}, {\"color\": \"blue\", \"source\": 31, \"target\": 38}, {\"color\": \"red\", \"source\": 38, \"target\": 0}, {\"color\": \"blue\", \"source\": 38, \"target\": 6}, {\"color\": \"red\", \"source\": 38, \"target\": 2}, {\"color\": \"blue\", \"source\": 38, \"target\": 15}, {\"color\": \"blue\", \"source\": 38, \"target\": 40}, {\"color\": \"blue\", \"source\": 38, \"target\": 5}, {\"color\": \"red\", \"source\": 38, \"target\": 30}, {\"color\": \"blue\", \"source\": 38, \"target\": 47}, {\"color\": \"blue\", \"source\": 38, \"target\": 47}, {\"color\": \"blue\", \"source\": 38, \"target\": 47}, {\"color\": \"blue\", \"source\": 38, \"target\": 31}, {\"color\": \"blue\", \"source\": 38, \"target\": 44}, {\"color\": \"blue\", \"source\": 38, \"target\": 33}, {\"color\": \"red\", \"source\": 38, \"target\": 9}, {\"color\": \"red\", \"source\": 38, \"target\": 34}, {\"color\": \"red\", \"source\": 38, \"target\": 23}, {\"color\": \"blue\", \"source\": 38, \"target\": 24}, {\"color\": \"blue\", \"source\": 38, \"target\": 11}, {\"color\": \"red\", \"source\": 38, \"target\": 4}, {\"color\": \"blue\", \"source\": 38, \"target\": 7}, {\"color\": \"blue\", \"source\": 38, \"target\": 7}, {\"color\": \"blue\", \"source\": 38, \"target\": 7}, {\"color\": \"blue\", \"source\": 42, \"target\": 40}, {\"color\": \"red\", \"source\": 42, \"target\": 29}, {\"color\": \"red\", \"source\": 42, \"target\": 34}, {\"color\": \"red\", \"source\": 43, \"target\": 0}, {\"color\": \"red\", \"source\": 43, \"target\": 9}, {\"color\": \"red\", \"source\": 43, \"target\": 33}, {\"color\": \"blue\", \"source\": 17, \"target\": 24}, {\"color\": \"blue\", \"source\": 17, \"target\": 33}, {\"color\": \"blue\", \"source\": 17, \"target\": 7}, {\"color\": \"blue\", \"source\": 47, \"target\": 15}, {\"color\": \"red\", \"source\": 47, \"target\": 5}, {\"color\": \"blue\", \"source\": 47, \"target\": 29}, {\"color\": \"blue\", \"source\": 47, \"target\": 33}, {\"color\": \"blue\", \"source\": 47, \"target\": 23}, {\"color\": \"blue\", \"source\": 47, \"target\": 23}, {\"color\": \"blue\", \"source\": 47, \"target\": 38}, {\"color\": \"blue\", \"source\": 47, \"target\": 38}, {\"color\": \"blue\", \"source\": 47, \"target\": 38}, {\"color\": \"red\", \"source\": 47, \"target\": 24}, {\"color\": \"blue\", \"source\": 50, \"target\": 44}]);}</script><iframe name=\"style_file0\" src=\"style_file0.html\" width=\"100%;\" height=\"805px\"></iframe></body></html>"
      ],
      "text/plain": [
       "<IPython.core.display.HTML object>"
      ]
     },
     "execution_count": 13,
     "metadata": {},
     "output_type": "execute_result"
    }
   ],
   "source": [
    "stat_analysis.vis_tf_network(DG_brca, 'MYCN', '../../DEG_databases/geo2r_GSE11352_brca_48hours.txt', list(DEG_list_brca),\n",
    "              directed_edges = True,\n",
    "              node_spacing = 1200,\n",
    "              graph_id = 0) "
   ]
  },
  {
   "cell_type": "code",
   "execution_count": 14,
   "metadata": {},
   "outputs": [
    {
     "data": {
      "text/html": [
       "<!doctype html><html><head>  <title>Network | Basic usage</title></head><body><script type=\"text/javascript\">function setUpFrame() {     var frame = window.frames[\"style_file1\"];    frame.runVis([{\"node_shape\": \"circle\", \"degree\": 3.0, \"title\": \"MOV10\", \"color\": \"grey\", \"size_field\": 3.4300372840678093, \"y\": 897.9840529551122, \"x\": 630.0683356957363, \"border_width\": 0, \"id\": \"MOV10\"}, {\"node_shape\": \"circle\", \"degree\": 3.0, \"title\": \"HSPA4\", \"color\": \"grey\", \"size_field\": 4.446455463413748, \"y\": 971.8725559093457, \"x\": 517.1908034040135, \"border_width\": 0, \"id\": \"HSPA4\"}, {\"node_shape\": \"circle\", \"degree\": 3.0, \"title\": \"PLK1\", \"color\": \"grey\", \"size_field\": 3.433385968653741, \"y\": 778.6353307386446, \"x\": 1230.9100903798521, \"border_width\": 0, \"id\": \"PLK1\"}, {\"node_shape\": \"circle\", \"degree\": 3.0, \"title\": \"PRKAG3\", \"color\": \"grey\", \"size_field\": 2.573055700302125, \"y\": 1159.1919271703791, \"x\": 1062.4697681328964, \"border_width\": 0, \"id\": \"PRKAG3\"}, {\"node_shape\": \"circle\", \"degree\": 3.0, \"title\": \"PRKAG2\", \"color\": \"grey\", \"size_field\": 3.7153541380256496, \"y\": 844.4781536168101, \"x\": 2119.341325754666, \"border_width\": 0, \"id\": \"PRKAG2\"}, {\"node_shape\": \"circle\", \"degree\": 3.0, \"title\": \"IKBKB\", \"color\": \"grey\", \"size_field\": 2.5563461390678, \"y\": 911.8054394378308, \"x\": 1454.4474374356637, \"border_width\": 0, \"id\": \"IKBKB\"}, {\"node_shape\": \"circle\", \"degree\": 3.0, \"title\": \"AKT1\", \"color\": \"grey\", \"size_field\": 2.3191039424601207, \"y\": 1154.0035763112423, \"x\": 1730.2744735834456, \"border_width\": 0, \"id\": \"AKT1\"}, {\"node_shape\": \"circle\", \"degree\": 3.0, \"title\": \"AKT2\", \"color\": \"grey\", \"size_field\": 3.296819354692288, \"y\": 1208.6125794993407, \"x\": 2145.452593376374, \"border_width\": 0, \"id\": \"AKT2\"}, {\"node_shape\": \"circle\", \"degree\": 3.0, \"title\": \"AKT3\", \"color\": \"grey\", \"size_field\": 2.7689488939762272, \"y\": 1040.2115331546781, \"x\": 1886.1693545665091, \"border_width\": 0, \"id\": \"AKT3\"}, {\"node_shape\": \"circle\", \"degree\": 3.0, \"title\": \"TNRC6C\", \"color\": \"grey\", \"size_field\": 4.584948003968227, \"y\": 657.168115831964, \"x\": 1847.9404806327152, \"border_width\": 0, \"id\": \"TNRC6C\"}, {\"node_shape\": \"circle\", \"degree\": 3.0, \"title\": \"TNRC6B\", \"color\": \"grey\", \"size_field\": 3.8457933577205408, \"y\": 1072.328212951749, \"x\": 472.3306241586989, \"border_width\": 0, \"id\": \"TNRC6B\"}, {\"node_shape\": \"circle\", \"degree\": 3.0, \"title\": \"TNRC6A\", \"color\": \"grey\", \"size_field\": 2.9205497887945384, \"y\": 487.7441397114418, \"x\": 762.7474663441263, \"border_width\": 0, \"id\": \"TNRC6A\"}, {\"node_shape\": \"circle\", \"degree\": 3.0, \"title\": \"PMAIP1\", \"color\": \"grey\", \"size_field\": 4.71356538179032, \"y\": 807.9409011159573, \"x\": 1611.4204394496062, \"border_width\": 0, \"id\": \"PMAIP1\"}, {\"node_shape\": \"circle\", \"degree\": 3.0, \"title\": \"ADIPOQ\", \"color\": \"grey\", \"size_field\": 2.7832907304129115, \"y\": 1364.5890515424796, \"x\": 1162.125475240714, \"border_width\": 0, \"id\": \"ADIPOQ\"}, {\"node_shape\": \"circle\", \"degree\": 3.0, \"title\": \"RAN\", \"color\": \"grey\", \"size_field\": 3.3034248832975956, \"y\": 1010.5166869663555, \"x\": 1062.2570952280666, \"border_width\": 0, \"id\": \"RAN\"}, {\"node_shape\": \"circle\", \"degree\": 3.0, \"title\": \"GADD45A\", \"color\": \"grey\", \"size_field\": 2.279846186684006, \"y\": 1194.4695027389441, \"x\": 2002.2682683195437, \"border_width\": 0, \"id\": \"GADD45A\"}, {\"node_shape\": \"circle\", \"degree\": 3.0, \"title\": \"YWHAH\", \"color\": \"grey\", \"size_field\": 2.9757753787090473, \"y\": 956.8548503548653, \"x\": 1603.957996277838, \"border_width\": 0, \"id\": \"YWHAH\"}, {\"node_shape\": \"circle\", \"degree\": 3.0, \"title\": \"PRKAG1\", \"color\": \"grey\", \"size_field\": 2.0030045090202986, \"y\": 1012.7153862559186, \"x\": 1157.3185778772006, \"border_width\": 0, \"id\": \"PRKAG1\"}, {\"node_shape\": \"circle\", \"degree\": 3.0, \"title\": \"CSNK1E\", \"color\": \"grey\", \"size_field\": 2.6933472005626125, \"y\": 507.5784125895784, \"x\": 1300.216420716205, \"border_width\": 0, \"id\": \"CSNK1E\"}, {\"node_shape\": \"circle\", \"degree\": 3.0, \"title\": \"CDH1\", \"color\": \"grey\", \"size_field\": 2.655080979753489, \"y\": 1203.0597432033676, \"x\": 1889.7235905596895, \"border_width\": 0, \"id\": \"CDH1\"}, {\"node_shape\": \"circle\", \"degree\": 3.0, \"title\": \"MYC\", \"color\": \"grey\", \"size_field\": 4.296603021316498, \"y\": 1070.226629196804, \"x\": 1395.9165837028638, \"border_width\": 0, \"id\": \"MYC\"}, {\"node_shape\": \"circle\", \"degree\": 3.0, \"title\": \"CDKN2B\", \"color\": \"rgba(0, 0, 256, 1.0)\", \"size_field\": 5.094448246493149, \"y\": 1301.7693176174341, \"x\": 1951.9047593563469, \"border_width\": 2, \"id\": \"CDKN2B\"}, {\"node_shape\": \"circle\", \"degree\": 3.0, \"title\": \"STK11\", \"color\": \"grey\", \"size_field\": 3.3356012468043725, \"y\": 770.8576748271504, \"x\": 1383.9780464596893, \"border_width\": 0, \"id\": \"STK11\"}, {\"node_shape\": \"circle\", \"degree\": 3.0, \"title\": \"CTSL\", \"color\": \"grey\", \"size_field\": 2.741917344929375, \"y\": 1684.2982129875115, \"x\": 1564.0475075654354, \"border_width\": 0, \"id\": \"CTSL\"}, {\"node_shape\": \"circle\", \"degree\": 3.0, \"title\": \"SP1\", \"color\": \"grey\", \"size_field\": 3.0659515064285614, \"y\": 1476.0985556112194, \"x\": 1388.869180973113, \"border_width\": 0, \"id\": \"SP1\"}, {\"node_shape\": \"circle\", \"degree\": 3.0, \"title\": \"TSC22D3\", \"color\": \"grey\", \"size_field\": 4.267217949156755, \"y\": 12.284900263887458, \"x\": 797.0289752849563, \"border_width\": 0, \"id\": \"TSC22D3\"}, {\"node_shape\": \"circle\", \"degree\": 3.0, \"title\": \"STK4\", \"color\": \"grey\", \"size_field\": 3.4093583007184423, \"y\": 537.155874198504, \"x\": 1837.3282611719965, \"border_width\": 0, \"id\": \"STK4\"}, {\"node_shape\": \"circle\", \"degree\": 3.0, \"title\": \"SNAI1\", \"color\": \"grey\", \"size_field\": 2.7936307191382674, \"y\": 1401.0592798858606, \"x\": 2235.0367884539633, \"border_width\": 0, \"id\": \"SNAI1\"}, {\"node_shape\": \"circle\", \"degree\": 3.0, \"title\": \"SETD7\", \"color\": \"grey\", \"size_field\": 2.7244314705997117, \"y\": 890.7668068310307, \"x\": 1833.6863213180234, \"border_width\": 0, \"id\": \"SETD7\"}, {\"node_shape\": \"circle\", \"degree\": 3.0, \"title\": \"GATA1\", \"color\": \"grey\", \"size_field\": 2.1928568587093373, \"y\": 417.9158944639645, \"x\": 1340.5772374109765, \"border_width\": 0, \"id\": \"GATA1\"}, {\"node_shape\": \"circle\", \"degree\": 3.0, \"title\": \"NME1\", \"color\": \"grey\", \"size_field\": 4.267217949156755, \"y\": 834.1355683957233, \"x\": 1000.9860881361321, \"border_width\": 0, \"id\": \"NME1\"}, {\"node_shape\": \"circle\", \"degree\": 3.0, \"title\": \"FOXM1\", \"color\": \"grey\", \"size_field\": 2.045311222710003, \"y\": 1313.5512719548412, \"x\": 1182.6829361619034, \"border_width\": 0, \"id\": \"FOXM1\"}, {\"node_shape\": \"circle\", \"degree\": 3.0, \"title\": \"FOXP3\", \"color\": \"grey\", \"size_field\": 2.736054681571222, \"y\": 1054.7950199969166, \"x\": 1001.0624999625389, \"border_width\": 0, \"id\": \"FOXP3\"}, {\"node_shape\": \"circle\", \"degree\": 3.0, \"title\": \"TNFSF10\", \"color\": \"grey\", \"size_field\": 3.7909597890574904, \"y\": 1140.7294417261605, \"x\": 847.00963010633, \"border_width\": 0, \"id\": \"TNFSF10\"}, {\"node_shape\": \"circle\", \"degree\": 3.0, \"title\": \"CDKN1B\", \"color\": \"grey\", \"size_field\": 4.10127823628901, \"y\": 1282.3339709693512, \"x\": 2070.915417647207, \"border_width\": 0, \"id\": \"CDKN1B\"}, {\"node_shape\": \"circle\", \"degree\": 3.0, \"title\": \"CDKN1A\", \"color\": \"grey\", \"size_field\": 2.1101497435009873, \"y\": 1141.008283075611, \"x\": 1562.3502425133377, \"border_width\": 0, \"id\": \"CDKN1A\"}, {\"node_shape\": \"circle\", \"degree\": 3.0, \"title\": \"KAT2B\", \"color\": \"grey\", \"size_field\": 4.8717462937730005, \"y\": 1348.9874588269995, \"x\": 1932.830143347942, \"border_width\": 0, \"id\": \"KAT2B\"}, {\"node_shape\": \"circle\", \"degree\": 3.0, \"title\": \"PINK1\", \"color\": \"grey\", \"size_field\": 3.1384972223670244, \"y\": 1603.5512532813782, \"x\": 1205.846557324728, \"border_width\": 0, \"id\": \"PINK1\"}, {\"node_shape\": \"circle\", \"degree\": 3.0, \"title\": \"MTDH\", \"color\": \"grey\", \"size_field\": 3.389098288452625, \"y\": 1492.7768483120622, \"x\": 1887.8077595147088, \"border_width\": 0, \"id\": \"MTDH\"}, {\"node_shape\": \"circle\", \"degree\": 3.0, \"title\": \"XPO1\", \"color\": \"grey\", \"size_field\": 2.8060919395760795, \"y\": 696.3134538221295, \"x\": 1520.0609387930801, \"border_width\": 0, \"id\": \"XPO1\"}, {\"node_shape\": \"circle\", \"degree\": 3.0, \"title\": \"MST1\", \"color\": \"grey\", \"size_field\": 2.6597124044737077, \"y\": 617.8038693394369, \"x\": 1918.631775731866, \"border_width\": 0, \"id\": \"MST1\"}, {\"node_shape\": \"circle\", \"degree\": 3.0, \"title\": \"RRM2B\", \"color\": \"grey\", \"size_field\": 2.4879232305486862, \"y\": 1415.5899025576282, \"x\": 630.3940254933643, \"border_width\": 0, \"id\": \"RRM2B\"}, {\"node_shape\": \"circle\", \"degree\": 3.0, \"title\": \"NLK\", \"color\": \"grey\", \"size_field\": 2.980829253011726, \"y\": 849.2779078741291, \"x\": 1178.9274179663907, \"border_width\": 0, \"id\": \"NLK\"}, {\"node_shape\": \"circle\", \"degree\": 3.0, \"title\": \"SIRT1\", \"color\": \"grey\", \"size_field\": 2.434173272244908, \"y\": 1237.9923735260354, \"x\": 1340.5104844672683, \"border_width\": 0, \"id\": \"SIRT1\"}, {\"node_shape\": \"circle\", \"degree\": 3.0, \"title\": \"PRKAB2\", \"color\": \"grey\", \"size_field\": 3.8891518152367044, \"y\": 1551.1873218902301, \"x\": 1599.3721193954116, \"border_width\": 0, \"id\": \"PRKAB2\"}, {\"node_shape\": \"circle\", \"degree\": 3.0, \"title\": \"PRKAB1\", \"color\": \"grey\", \"size_field\": 3.2013096869064523, \"y\": 1495.1090108382966, \"x\": 1643.3595673987968, \"border_width\": 0, \"id\": \"PRKAB1\"}, {\"node_shape\": \"circle\", \"degree\": 3.0, \"title\": \"NUPR1\", \"color\": \"grey\", \"size_field\": 2.2514144332812394, \"y\": 1483.2138677601843, \"x\": 780.6789137091732, \"border_width\": 0, \"id\": \"NUPR1\"}, {\"node_shape\": \"circle\", \"degree\": 3.0, \"title\": \"CHUK\", \"color\": \"grey\", \"size_field\": 2.055512709930259, \"y\": 1029.8062776238578, \"x\": 1742.3570614133375, \"border_width\": 0, \"id\": \"CHUK\"}, {\"node_shape\": \"circle\", \"degree\": 3.0, \"title\": \"VEGFA\", \"color\": \"grey\", \"size_field\": 3.525556428453398, \"y\": 1178.5888658908648, \"x\": 1289.2738323135147, \"border_width\": 0, \"id\": \"VEGFA\"}, {\"node_shape\": \"circle\", \"degree\": 3.0, \"title\": \"BNIP3\", \"color\": \"grey\", \"size_field\": 4.042531187659739, \"y\": 539.7162676867465, \"x\": 1703.9357636246962, \"border_width\": 0, \"id\": \"BNIP3\"}, {\"node_shape\": \"circle\", \"degree\": 3.0, \"title\": \"ESR2\", \"color\": \"grey\", \"size_field\": 2.626049437027451, \"y\": 721.4348737544857, \"x\": 1745.1281347521578, \"border_width\": 0, \"id\": \"ESR2\"}, {\"node_shape\": \"circle\", \"degree\": 3.0, \"title\": \"G6PC\", \"color\": \"grey\", \"size_field\": 2.325591645525001, \"y\": 1409.2508338761527, \"x\": 1608.7643810076838, \"border_width\": 0, \"id\": \"G6PC\"}, {\"node_shape\": \"circle\", \"degree\": 3.0, \"title\": \"FBXO32\", \"color\": \"grey\", \"size_field\": 3.8825598335545513, \"y\": 303.7179763735945, \"x\": 1622.9055548352924, \"border_width\": 0, \"id\": \"FBXO32\"}, {\"node_shape\": \"circle\", \"degree\": 3.0, \"title\": \"AGO4\", \"color\": \"grey\", \"size_field\": 4.607752479786846, \"y\": 486.62707392791054, \"x\": 1497.3285118156202, \"border_width\": 0, \"id\": \"AGO4\"}, {\"node_shape\": \"circle\", \"degree\": 3.0, \"title\": \"AGO1\", \"color\": \"grey\", \"size_field\": 3.6852396258503823, \"y\": 790.564633481642, \"x\": 810.1656247621362, \"border_width\": 0, \"id\": \"AGO1\"}, {\"node_shape\": \"circle\", \"degree\": 3.0, \"title\": \"AGO3\", \"color\": \"grey\", \"size_field\": 2.3934871313487576, \"y\": 692.1081036602537, \"x\": 935.7060872299083, \"border_width\": 0, \"id\": \"AGO3\"}, {\"node_shape\": \"circle\", \"degree\": 3.0, \"title\": \"AGO2\", \"color\": \"grey\", \"size_field\": 2.7756596021344095, \"y\": 672.1916377238995, \"x\": 508.0243839094304, \"border_width\": 0, \"id\": \"AGO2\"}, {\"node_shape\": \"circle\", \"degree\": 3.0, \"title\": \"VMP1\", \"color\": \"grey\", \"size_field\": 3.4841277214686537, \"y\": 1115.0518255432423, \"x\": 1727.2339921590496, \"border_width\": 0, \"id\": \"VMP1\"}, {\"node_shape\": \"circle\", \"degree\": 3.0, \"title\": \"MAPK14\", \"color\": \"grey\", \"size_field\": 2.3129315067052314, \"y\": 1069.468177433986, \"x\": 1576.0591853860165, \"border_width\": 0, \"id\": \"MAPK14\"}, {\"node_shape\": \"circle\", \"degree\": 3.0, \"title\": \"CCNG2\", \"color\": \"grey\", \"size_field\": 4.852498105468083, \"y\": 1652.793111293203, \"x\": 1140.6982434594875, \"border_width\": 0, \"id\": \"CCNG2\"}, {\"node_shape\": \"circle\", \"degree\": 3.0, \"title\": \"MAPK10\", \"color\": \"grey\", \"size_field\": 3.3474583373346922, \"y\": 963.3830895930978, \"x\": 1788.7520490063253, \"border_width\": 0, \"id\": \"MAPK10\"}, {\"node_shape\": \"circle\", \"degree\": 3.0, \"title\": \"MAPK11\", \"color\": \"grey\", \"size_field\": 2.6025754823755585, \"y\": 1112.3405347015064, \"x\": 1835.732834187914, \"border_width\": 0, \"id\": \"MAPK11\"}, {\"node_shape\": \"circle\", \"degree\": 3.0, \"title\": \"MAPK12\", \"color\": \"grey\", \"size_field\": 2.880199911729801, \"y\": 1185.681965987458, \"x\": 1536.5626200980967, \"border_width\": 0, \"id\": \"MAPK12\"}, {\"node_shape\": \"circle\", \"degree\": 3.0, \"title\": \"MAPK13\", \"color\": \"grey\", \"size_field\": 2.9824305343787003, \"y\": 1185.100565524054, \"x\": 1633.3466437073507, \"border_width\": 0, \"id\": \"MAPK13\"}, {\"node_shape\": \"circle\", \"degree\": 3.0, \"title\": \"BCR\", \"color\": \"grey\", \"size_field\": 2.846065286984658, \"y\": 10.469657119187675, \"x\": 157.03129024851987, \"border_width\": 0, \"id\": \"BCR\"}, {\"node_shape\": \"circle\", \"degree\": 3.0, \"title\": \"STAT3\", \"color\": \"grey\", \"size_field\": 3.0067626350382306, \"y\": 1091.6759057942104, \"x\": 1462.374148639883, \"border_width\": 0, \"id\": \"STAT3\"}, {\"node_shape\": \"circle\", \"degree\": 3.0, \"title\": \"MAPK3\", \"color\": \"grey\", \"size_field\": 2.7052197617942144, \"y\": 1116.6719808996706, \"x\": 1872.0886395658845, \"border_width\": 0, \"id\": \"MAPK3\"}, {\"node_shape\": \"circle\", \"degree\": 3.0, \"title\": \"MAPK1\", \"color\": \"grey\", \"size_field\": 3.267978134301848, \"y\": 1028.6117084432128, \"x\": 1519.8708361904924, \"border_width\": 0, \"id\": \"MAPK1\"}, {\"node_shape\": \"circle\", \"degree\": 3.0, \"title\": \"CITED2\", \"color\": \"grey\", \"size_field\": 4.387054249620496, \"y\": 812.2481486845196, \"x\": 504.5044872516714, \"border_width\": 0, \"id\": \"CITED2\"}, {\"node_shape\": \"circle\", \"degree\": 3.0, \"title\": \"MAPK8\", \"color\": \"grey\", \"size_field\": 2.745915246098601, \"y\": 1266.7910916906171, \"x\": 1411.6389447130732, \"border_width\": 0, \"id\": \"MAPK8\"}, {\"node_shape\": \"circle\", \"degree\": 3.0, \"title\": \"MAPK9\", \"color\": \"grey\", \"size_field\": 3.0642108619507775, \"y\": 911.9636231098164, \"x\": 1937.031125056856, \"border_width\": 0, \"id\": \"MAPK9\"}, {\"node_shape\": \"circle\", \"degree\": 3.0, \"title\": \"RBL2\", \"color\": \"rgba(0, 0, 256, 1.0)\", \"size_field\": 5.18689277901515, \"y\": 734.9911746670152, \"x\": 2062.08491120967, \"border_width\": 2, \"id\": \"RBL2\"}, {\"node_shape\": \"circle\", \"degree\": 3.0, \"title\": \"PAWR\", \"color\": \"grey\", \"size_field\": 4.880619466453487, \"y\": 1314.7292795919986, \"x\": 2300.0, \"border_width\": 0, \"id\": \"PAWR\"}, {\"node_shape\": \"circle\", \"degree\": 3.0, \"title\": \"EP300\", \"color\": \"grey\", \"size_field\": 2.98886142470899, \"y\": 949.8967301730055, \"x\": 1210.2412133669563, \"border_width\": 0, \"id\": \"EP300\"}, {\"node_shape\": \"circle\", \"degree\": 3.0, \"title\": \"SGK2\", \"color\": \"grey\", \"size_field\": 2.082621028688337, \"y\": 1324.852810912601, \"x\": 2100.461828736216, \"border_width\": 0, \"id\": \"SGK2\"}, {\"node_shape\": \"circle\", \"degree\": 3.0, \"title\": \"SGK1\", \"color\": \"grey\", \"size_field\": 4.3166840173735475, \"y\": 900.2885714829685, \"x\": 1641.932672481625, \"border_width\": 0, \"id\": \"SGK1\"}, {\"node_shape\": \"circle\", \"degree\": 3.0, \"title\": \"IRS2\", \"color\": \"grey\", \"size_field\": 2.567043303764219, \"y\": 1442.4802211576366, \"x\": 1601.3865122702018, \"border_width\": 0, \"id\": \"IRS2\"}, {\"node_shape\": \"circle\", \"degree\": 3.0, \"title\": \"LEP\", \"color\": \"grey\", \"size_field\": 2.7381445464906813, \"y\": 1262.9847052515465, \"x\": 1117.9194427150333, \"border_width\": 0, \"id\": \"LEP\"}, {\"node_shape\": \"circle\", \"degree\": 3.0, \"title\": \"PRKACG\", \"color\": \"grey\", \"size_field\": 2.04468360762664, \"y\": 1109.0214922920327, \"x\": 1229.39636980532, \"border_width\": 0, \"id\": \"PRKACG\"}, {\"node_shape\": \"circle\", \"degree\": 3.0, \"title\": \"PRKACA\", \"color\": \"grey\", \"size_field\": 2.6416938989710297, \"y\": 906.0884436905457, \"x\": 1391.619577028137, \"border_width\": 0, \"id\": \"PRKACA\"}, {\"node_shape\": \"circle\", \"degree\": 3.0, \"title\": \"PRKACB\", \"color\": \"grey\", \"size_field\": 3.6455833590704536, \"y\": 949.2479689632721, \"x\": 873.3219560582068, \"border_width\": 0, \"id\": \"PRKACB\"}, {\"node_shape\": \"circle\", \"degree\": 3.0, \"title\": \"SPHK1\", \"color\": \"grey\", \"size_field\": 3.2616019171625723, \"y\": 153.57534819461264, \"x\": 1191.9077893845053, \"border_width\": 0, \"id\": \"SPHK1\"}, {\"node_shape\": \"circle\", \"degree\": 3.0, \"title\": \"LCN2\", \"color\": \"grey\", \"size_field\": 3.4692412819408167, \"y\": 1213.2419439160665, \"x\": 803.0774106894747, \"border_width\": 0, \"id\": \"LCN2\"}, {\"node_shape\": \"circle\", \"degree\": 3.0, \"title\": \"BIRC5\", \"color\": \"grey\", \"size_field\": 3.5228016057745535, \"y\": 1272.1586668500097, \"x\": 1817.00884061191, \"border_width\": 0, \"id\": \"BIRC5\"}, {\"node_shape\": \"circle\", \"degree\": 3.0, \"title\": \"PRDX3\", \"color\": \"grey\", \"size_field\": 3.0820502003691317, \"y\": 629.6396166609936, \"x\": 672.6147613224077, \"border_width\": 0, \"id\": \"PRDX3\"}, {\"node_shape\": \"circle\", \"degree\": 3.0, \"title\": \"PRKAA2\", \"color\": \"grey\", \"size_field\": 2.6294214896794004, \"y\": 543.5096578898197, \"x\": 1613.574209766541, \"border_width\": 0, \"id\": \"PRKAA2\"}, {\"node_shape\": \"circle\", \"degree\": 3.0, \"title\": \"PRKAA1\", \"color\": \"grey\", \"size_field\": 4.042531187659739, \"y\": 1512.3353540544274, \"x\": 1978.0781897462923, \"border_width\": 0, \"id\": \"PRKAA1\"}, {\"node_shape\": \"circle\", \"degree\": 3.0, \"title\": \"CAT\", \"color\": \"grey\", \"size_field\": 2.515000995176471, \"y\": 724.3586529412918, \"x\": 1857.3896764437043, \"border_width\": 0, \"id\": \"CAT\"}, {\"node_shape\": \"star\", \"degree\": 3.0, \"title\": \"FOXO3\", \"color\": \"grey\", \"size_field\": 13.18689277901515, \"y\": 502.0701498455766, \"x\": 0.0, \"border_width\": 0, \"id\": \"FOXO3\"}, {\"node_shape\": \"circle\", \"degree\": 3.0, \"title\": \"MYOCD\", \"color\": \"grey\", \"size_field\": 3.1273204528048533, \"y\": 1679.299261582699, \"x\": 1448.205898675964, \"border_width\": 0, \"id\": \"MYOCD\"}, {\"node_shape\": \"circle\", \"degree\": 3.0, \"title\": \"FOXO4\", \"color\": \"grey\", \"size_field\": 2.2310497228853072, \"y\": 1121.1168363741406, \"x\": 2081.6059551836433, \"border_width\": 0, \"id\": \"FOXO4\"}, {\"node_shape\": \"circle\", \"degree\": 3.0, \"title\": \"SOD2\", \"color\": \"grey\", \"size_field\": 2.098715972939158, \"y\": 963.2344430972864, \"x\": 1323.764727283453, \"border_width\": 0, \"id\": \"SOD2\"}, {\"node_shape\": \"circle\", \"degree\": 3.0, \"title\": \"BBC3\", \"color\": \"grey\", \"size_field\": 3.2063800890661485, \"y\": 1535.1245717640727, \"x\": 974.9538900597285, \"border_width\": 0, \"id\": \"BBC3\"}, {\"node_shape\": \"circle\", \"degree\": 3.0, \"title\": \"YWHAZ\", \"color\": \"grey\", \"size_field\": 3.0305798782762827, \"y\": 623.058186134093, \"x\": 931.4700146625652, \"border_width\": 0, \"id\": \"YWHAZ\"}, {\"node_shape\": \"circle\", \"degree\": 3.0, \"title\": \"GABARAPL1\", \"color\": \"grey\", \"size_field\": 3.5269366909223567, \"y\": 0.0, \"x\": 696.1718252413076, \"border_width\": 0, \"id\": \"GABARAPL1\"}, {\"node_shape\": \"circle\", \"degree\": 3.0, \"title\": \"YWHAQ\", \"color\": \"grey\", \"size_field\": 2.9063404010209872, \"y\": 559.8407421176835, \"x\": 975.3654652203261, \"border_width\": 0, \"id\": \"YWHAQ\"}, {\"node_shape\": \"circle\", \"degree\": 3.0, \"title\": \"ABCB1\", \"color\": \"grey\", \"size_field\": 4.3258537199334, \"y\": 944.513276464418, \"x\": 1555.7874049713773, \"border_width\": 0, \"id\": \"ABCB1\"}, {\"node_shape\": \"circle\", \"degree\": 3.0, \"title\": \"YWHAB\", \"color\": \"grey\", \"size_field\": 3.9365540541312884, \"y\": 969.591272039156, \"x\": 1932.3001184537172, \"border_width\": 0, \"id\": \"YWHAB\"}, {\"node_shape\": \"circle\", \"degree\": 3.0, \"title\": \"YWHAG\", \"color\": \"grey\", \"size_field\": 2.461242123577163, \"y\": 1134.7360026819754, \"x\": 1421.7536773629315, \"border_width\": 0, \"id\": \"YWHAG\"}, {\"node_shape\": \"circle\", \"degree\": 3.0, \"title\": \"YWHAE\", \"color\": \"grey\", \"size_field\": 2.1519863569978814, \"y\": 1359.4487645267493, \"x\": 1930.483775583939, \"border_width\": 0, \"id\": \"YWHAE\"}, {\"node_shape\": \"circle\", \"degree\": 3.0, \"title\": \"DNMT3B\", \"color\": \"grey\", \"size_field\": 3.29901635301283, \"y\": 1666.722232049248, \"x\": 1052.0603154087796, \"border_width\": 0, \"id\": \"DNMT3B\"}, {\"node_shape\": \"circle\", \"degree\": 3.0, \"title\": \"NOS3\", \"color\": \"grey\", \"size_field\": 3.7355681895783124, \"y\": 1101.6493234061566, \"x\": 2099.9689533509895, \"border_width\": 0, \"id\": \"NOS3\"}, {\"node_shape\": \"circle\", \"degree\": 3.0, \"title\": \"CYR61\", \"color\": \"grey\", \"size_field\": 2.242198957849369, \"y\": 1460.2732889113224, \"x\": 527.7150951235162, \"border_width\": 0, \"id\": \"CYR61\"}, {\"node_shape\": \"circle\", \"degree\": 3.0, \"title\": \"AR\", \"color\": \"grey\", \"size_field\": 4.364460496712133, \"y\": 1273.422839611733, \"x\": 1554.1146620585384, \"border_width\": 0, \"id\": \"AR\"}, {\"node_shape\": \"circle\", \"degree\": 3.0, \"title\": \"BCL2L11\", \"color\": \"grey\", \"size_field\": 3.8269722249837996, \"y\": 746.7227605681128, \"x\": 1058.2133187212114, \"border_width\": 0, \"id\": \"BCL2L11\"}, {\"node_shape\": \"circle\", \"degree\": 3.0, \"title\": \"CCNB1\", \"color\": \"grey\", \"size_field\": 3.0026659476209008, \"y\": 1329.3798838262371, \"x\": 1699.6329159902675, \"border_width\": 0, \"id\": \"CCNB1\"}, {\"node_shape\": \"circle\", \"degree\": 3.0, \"title\": \"CASP8\", \"color\": \"grey\", \"size_field\": 2.964955903855436, \"y\": 627.4379565713435, \"x\": 1194.8829315058194, \"border_width\": 0, \"id\": \"CASP8\"}, {\"node_shape\": \"circle\", \"degree\": 3.0, \"title\": \"PDK4\", \"color\": \"grey\", \"size_field\": 4.3740810946991155, \"y\": 154.89804247491534, \"x\": 711.0859652882706, \"border_width\": 0, \"id\": \"PDK4\"}, {\"node_shape\": \"circle\", \"degree\": 3.0, \"title\": \"FASLG\", \"color\": \"grey\", \"size_field\": 2.516173230092586, \"y\": 859.0688086823042, \"x\": 1442.4121575540892, \"border_width\": 0, \"id\": \"FASLG\"}, {\"node_shape\": \"circle\", \"degree\": 3.0, \"title\": \"BCL6\", \"color\": \"grey\", \"size_field\": 4.207274913189721, \"y\": 1235.800073105284, \"x\": 2007.2182738274948, \"border_width\": 0, \"id\": \"BCL6\"}], [{\"color\": \"red\", \"source\": 5, \"target\": 33}, {\"color\": \"red\", \"source\": 5, \"target\": 35}, {\"color\": \"red\", \"source\": 5, \"target\": 47}, {\"color\": \"red\", \"source\": 5, \"target\": 106}, {\"color\": \"red\", \"source\": 5, \"target\": 6}, {\"color\": \"red\", \"source\": 5, \"target\": 6}, {\"color\": \"red\", \"source\": 5, \"target\": 7}, {\"color\": \"red\", \"source\": 5, \"target\": 8}, {\"color\": \"red\", \"source\": 5, \"target\": 108}, {\"color\": \"blue\", \"source\": 5, \"target\": 76}, {\"color\": \"blue\", \"source\": 5, \"target\": 76}, {\"color\": \"blue\", \"source\": 5, \"target\": 90}, {\"color\": \"blue\", \"source\": 5, \"target\": 90}, {\"color\": \"red\", \"source\": 6, \"target\": 57}, {\"color\": \"blue\", \"source\": 6, \"target\": 82}, {\"color\": \"blue\", \"source\": 6, \"target\": 34}, {\"color\": \"blue\", \"source\": 6, \"target\": 34}, {\"color\": \"blue\", \"source\": 6, \"target\": 34}, {\"color\": \"blue\", \"source\": 6, \"target\": 35}, {\"color\": \"blue\", \"source\": 6, \"target\": 35}, {\"color\": \"blue\", \"source\": 6, \"target\": 35}, {\"color\": \"blue\", \"source\": 6, \"target\": 90}, {\"color\": \"blue\", \"source\": 6, \"target\": 90}, {\"color\": \"red\", \"source\": 6, \"target\": 87}, {\"color\": \"blue\", \"source\": 6, \"target\": 58}, {\"color\": \"blue\", \"source\": 6, \"target\": 58}, {\"color\": \"blue\", \"source\": 6, \"target\": 7}, {\"color\": \"blue\", \"source\": 6, \"target\": 7}, {\"color\": \"blue\", \"source\": 6, \"target\": 7}, {\"color\": \"blue\", \"source\": 6, \"target\": 7}, {\"color\": \"blue\", \"source\": 6, \"target\": 8}, {\"color\": \"blue\", \"source\": 6, \"target\": 8}, {\"color\": \"blue\", \"source\": 6, \"target\": 8}, {\"color\": \"blue\", \"source\": 6, \"target\": 31}, {\"color\": \"blue\", \"source\": 6, \"target\": 61}, {\"color\": \"blue\", \"source\": 6, \"target\": 61}, {\"color\": \"blue\", \"source\": 6, \"target\": 62}, {\"color\": \"blue\", \"source\": 6, \"target\": 62}, {\"color\": \"blue\", \"source\": 6, \"target\": 63}, {\"color\": \"blue\", \"source\": 6, \"target\": 63}, {\"color\": \"red\", \"source\": 6, \"target\": 93}, {\"color\": \"red\", \"source\": 6, \"target\": 73}, {\"color\": \"blue\", \"source\": 6, \"target\": 65}, {\"color\": \"blue\", \"source\": 6, \"target\": 15}, {\"color\": \"blue\", \"source\": 6, \"target\": 15}, {\"color\": \"red\", \"source\": 6, \"target\": 95}, {\"color\": \"red\", \"source\": 6, \"target\": 40}, {\"color\": \"red\", \"source\": 6, \"target\": 16}, {\"color\": \"blue\", \"source\": 6, \"target\": 19}, {\"color\": \"red\", \"source\": 6, \"target\": 20}, {\"color\": \"red\", \"source\": 6, \"target\": 20}, {\"color\": \"red\", \"source\": 6, \"target\": 83}, {\"color\": \"red\", \"source\": 6, \"target\": 99}, {\"color\": \"red\", \"source\": 6, \"target\": 101}, {\"color\": \"red\", \"source\": 6, \"target\": 101}, {\"color\": \"red\", \"source\": 6, \"target\": 91}, {\"color\": \"red\", \"source\": 6, \"target\": 47}, {\"color\": \"red\", \"source\": 6, \"target\": 47}, {\"color\": \"red\", \"source\": 6, \"target\": 97}, {\"color\": \"red\", \"source\": 6, \"target\": 103}, {\"color\": \"blue\", \"source\": 6, \"target\": 108}, {\"color\": \"blue\", \"source\": 6, \"target\": 104}, {\"color\": \"red\", \"source\": 6, \"target\": 27}, {\"color\": \"blue\", \"source\": 6, \"target\": 49}, {\"color\": \"red\", \"source\": 6, \"target\": 5}, {\"color\": \"red\", \"source\": 6, \"target\": 5}, {\"color\": \"blue\", \"source\": 6, \"target\": 105}, {\"color\": \"red\", \"source\": 6, \"target\": 98}, {\"color\": \"red\", \"source\": 6, \"target\": 77}, {\"color\": \"red\", \"source\": 6, \"target\": 48}, {\"color\": \"blue\", \"source\": 7, \"target\": 58}, {\"color\": \"blue\", \"source\": 7, \"target\": 58}, {\"color\": \"red\", \"source\": 7, \"target\": 57}, {\"color\": \"red\", \"source\": 7, \"target\": 101}, {\"color\": \"blue\", \"source\": 7, \"target\": 34}, {\"color\": \"blue\", \"source\": 7, \"target\": 34}, {\"color\": \"blue\", \"source\": 7, \"target\": 35}, {\"color\": \"blue\", \"source\": 7, \"target\": 35}, {\"color\": \"blue\", \"source\": 7, \"target\": 90}, {\"color\": \"blue\", \"source\": 7, \"target\": 90}, {\"color\": \"red\", \"source\": 7, \"target\": 47}, {\"color\": \"red\", \"source\": 7, \"target\": 5}, {\"color\": \"blue\", \"source\": 7, \"target\": 6}, {\"color\": \"blue\", \"source\": 7, \"target\": 6}, {\"color\": \"blue\", \"source\": 7, \"target\": 6}, {\"color\": \"blue\", \"source\": 7, \"target\": 6}, {\"color\": \"blue\", \"source\": 7, \"target\": 8}, {\"color\": \"blue\", \"source\": 7, \"target\": 8}, {\"color\": \"blue\", \"source\": 7, \"target\": 8}, {\"color\": \"blue\", \"source\": 7, \"target\": 61}, {\"color\": \"blue\", \"source\": 7, \"target\": 61}, {\"color\": \"blue\", \"source\": 7, \"target\": 62}, {\"color\": \"blue\", \"source\": 7, \"target\": 62}, {\"color\": \"blue\", \"source\": 7, \"target\": 63}, {\"color\": \"blue\", \"source\": 7, \"target\": 63}, {\"color\": \"red\", \"source\": 7, \"target\": 27}, {\"color\": \"blue\", \"source\": 8, \"target\": 58}, {\"color\": \"blue\", \"source\": 8, \"target\": 58}, {\"color\": \"red\", \"source\": 8, \"target\": 101}, {\"color\": \"blue\", \"source\": 8, \"target\": 104}, {\"color\": \"blue\", \"source\": 8, \"target\": 34}, {\"color\": \"blue\", \"source\": 8, \"target\": 34}, {\"color\": \"blue\", \"source\": 8, \"target\": 35}, {\"color\": \"blue\", \"source\": 8, \"target\": 35}, {\"color\": \"blue\", \"source\": 8, \"target\": 90}, {\"color\": \"blue\", \"source\": 8, \"target\": 90}, {\"color\": \"red\", \"source\": 8, \"target\": 47}, {\"color\": \"red\", \"source\": 8, \"target\": 5}, {\"color\": \"blue\", \"source\": 8, \"target\": 6}, {\"color\": \"blue\", \"source\": 8, \"target\": 6}, {\"color\": \"blue\", \"source\": 8, \"target\": 6}, {\"color\": \"blue\", \"source\": 8, \"target\": 7}, {\"color\": \"blue\", \"source\": 8, \"target\": 7}, {\"color\": \"blue\", \"source\": 8, \"target\": 7}, {\"color\": \"red\", \"source\": 8, \"target\": 48}, {\"color\": \"blue\", \"source\": 8, \"target\": 61}, {\"color\": \"blue\", \"source\": 8, \"target\": 61}, {\"color\": \"blue\", \"source\": 8, \"target\": 62}, {\"color\": \"blue\", \"source\": 8, \"target\": 62}, {\"color\": \"blue\", \"source\": 8, \"target\": 63}, {\"color\": \"blue\", \"source\": 8, \"target\": 63}, {\"color\": \"blue\", \"source\": 10, \"target\": 20}, {\"color\": \"blue\", \"source\": 10, \"target\": 42}, {\"color\": \"blue\", \"source\": 11, \"target\": 42}, {\"color\": \"blue\", \"source\": 11, \"target\": 20}, {\"color\": \"red\", \"source\": 20, \"target\": 32}, {\"color\": \"blue\", \"source\": 20, \"target\": 57}, {\"color\": \"blue\", \"source\": 20, \"target\": 57}, {\"color\": \"blue\", \"source\": 20, \"target\": 0}, {\"color\": \"red\", \"source\": 20, \"target\": 62}, {\"color\": \"red\", \"source\": 20, \"target\": 1}, {\"color\": \"blue\", \"source\": 20, \"target\": 34}, {\"color\": \"blue\", \"source\": 20, \"target\": 34}, {\"color\": \"blue\", \"source\": 20, \"target\": 35}, {\"color\": \"blue\", \"source\": 20, \"target\": 35}, {\"color\": \"blue\", \"source\": 20, \"target\": 35}, {\"color\": \"blue\", \"source\": 20, \"target\": 22}, {\"color\": \"red\", \"source\": 20, \"target\": 84}, {\"color\": \"red\", \"source\": 20, \"target\": 36}, {\"color\": \"red\", \"source\": 20, \"target\": 6}, {\"color\": \"red\", \"source\": 20, \"target\": 6}, {\"color\": \"blue\", \"source\": 20, \"target\": 9}, {\"color\": \"blue\", \"source\": 20, \"target\": 10}, {\"color\": \"blue\", \"source\": 20, \"target\": 11}, {\"color\": \"red\", \"source\": 20, \"target\": 63}, {\"color\": \"red\", \"source\": 20, \"target\": 12}, {\"color\": \"red\", \"source\": 20, \"target\": 38}, {\"color\": \"red\", \"source\": 20, \"target\": 27}, {\"color\": \"red\", \"source\": 20, \"target\": 65}, {\"color\": \"blue\", \"source\": 20, \"target\": 15}, {\"color\": \"blue\", \"source\": 20, \"target\": 15}, {\"color\": \"red\", \"source\": 20, \"target\": 66}, {\"color\": \"red\", \"source\": 20, \"target\": 67}, {\"color\": \"red\", \"source\": 20, \"target\": 67}, {\"color\": \"red\", \"source\": 20, \"target\": 61}, {\"color\": \"blue\", \"source\": 20, \"target\": 19}, {\"color\": \"red\", \"source\": 20, \"target\": 83}, {\"color\": \"blue\", \"source\": 20, \"target\": 21}, {\"color\": \"blue\", \"source\": 20, \"target\": 21}, {\"color\": \"blue\", \"source\": 20, \"target\": 21}, {\"color\": \"blue\", \"source\": 20, \"target\": 21}, {\"color\": \"red\", \"source\": 20, \"target\": 43}, {\"color\": \"blue\", \"source\": 20, \"target\": 24}, {\"color\": \"red\", \"source\": 20, \"target\": 47}, {\"color\": \"red\", \"source\": 20, \"target\": 103}, {\"color\": \"red\", \"source\": 20, \"target\": 103}, {\"color\": \"blue\", \"source\": 20, \"target\": 48}, {\"color\": \"blue\", \"source\": 20, \"target\": 104}, {\"color\": \"red\", \"source\": 20, \"target\": 73}, {\"color\": \"blue\", \"source\": 20, \"target\": 29}, {\"color\": \"red\", \"source\": 20, \"target\": 58}, {\"color\": \"red\", \"source\": 20, \"target\": 105}, {\"color\": \"red\", \"source\": 20, \"target\": 30}, {\"color\": \"blue\", \"source\": 20, \"target\": 53}, {\"color\": \"red\", \"source\": 20, \"target\": 109}, {\"color\": \"blue\", \"source\": 20, \"target\": 54}, {\"color\": \"blue\", \"source\": 20, \"target\": 55}, {\"color\": \"blue\", \"source\": 20, \"target\": 56}, {\"color\": \"blue\", \"source\": 24, \"target\": 57}, {\"color\": \"blue\", \"source\": 24, \"target\": 33}, {\"color\": \"red\", \"source\": 24, \"target\": 12}, {\"color\": \"red\", \"source\": 24, \"target\": 35}, {\"color\": \"red\", \"source\": 24, \"target\": 58}, {\"color\": \"red\", \"source\": 24, \"target\": 60}, {\"color\": \"red\", \"source\": 24, \"target\": 61}, {\"color\": \"red\", \"source\": 24, \"target\": 62}, {\"color\": \"red\", \"source\": 24, \"target\": 63}, {\"color\": \"red\", \"source\": 24, \"target\": 92}, {\"color\": \"red\", \"source\": 24, \"target\": 96}, {\"color\": \"red\", \"source\": 24, \"target\": 67}, {\"color\": \"blue\", \"source\": 24, \"target\": 20}, {\"color\": \"red\", \"source\": 24, \"target\": 70}, {\"color\": \"red\", \"source\": 24, \"target\": 83}, {\"color\": \"red\", \"source\": 24, \"target\": 21}, {\"color\": \"red\", \"source\": 24, \"target\": 103}, {\"color\": \"red\", \"source\": 24, \"target\": 48}, {\"color\": \"blue\", \"source\": 24, \"target\": 69}, {\"color\": \"blue\", \"source\": 24, \"target\": 105}, {\"color\": \"red\", \"source\": 24, \"target\": 77}, {\"color\": \"blue\", \"source\": 25, \"target\": 104}, {\"color\": \"blue\", \"source\": 27, \"target\": 65}, {\"color\": \"red\", \"source\": 27, \"target\": 6}, {\"color\": \"red\", \"source\": 27, \"target\": 7}, {\"color\": \"red\", \"source\": 27, \"target\": 48}, {\"color\": \"blue\", \"source\": 27, \"target\": 19}, {\"color\": \"blue\", \"source\": 27, \"target\": 19}, {\"color\": \"blue\", \"source\": 27, \"target\": 19}, {\"color\": \"red\", \"source\": 27, \"target\": 20}, {\"color\": \"red\", \"source\": 27, \"target\": 69}, {\"color\": \"blue\", \"source\": 27, \"target\": 13}, {\"color\": \"blue\", \"source\": 29, \"target\": 19}, {\"color\": \"blue\", \"source\": 29, \"target\": 20}, {\"color\": \"red\", \"source\": 31, \"target\": 43}, {\"color\": \"red\", \"source\": 31, \"target\": 2}, {\"color\": \"blue\", \"source\": 31, \"target\": 35}, {\"color\": \"red\", \"source\": 31, \"target\": 105}, {\"color\": \"blue\", \"source\": 31, \"target\": 6}, {\"color\": \"blue\", \"source\": 31, \"target\": 67}, {\"color\": \"blue\", \"source\": 31, \"target\": 48}, {\"color\": \"red\", \"source\": 31, \"target\": 19}, {\"color\": \"blue\", \"source\": 31, \"target\": 69}, {\"color\": \"red\", \"source\": 31, \"target\": 83}, {\"color\": \"blue\", \"source\": 32, \"target\": 43}, {\"color\": \"red\", \"source\": 32, \"target\": 65}, {\"color\": \"red\", \"source\": 32, \"target\": 35}, {\"color\": \"blue\", \"source\": 32, \"target\": 108}, {\"color\": \"red\", \"source\": 32, \"target\": 20}, {\"color\": \"red\", \"source\": 36, \"target\": 58}, {\"color\": \"red\", \"source\": 36, \"target\": 96}, {\"color\": \"red\", \"source\": 36, \"target\": 103}, {\"color\": \"red\", \"source\": 36, \"target\": 20}, {\"color\": \"red\", \"source\": 39, \"target\": 93}, {\"color\": \"red\", \"source\": 39, \"target\": 105}, {\"color\": \"red\", \"source\": 39, \"target\": 2}, {\"color\": \"red\", \"source\": 39, \"target\": 2}, {\"color\": \"red\", \"source\": 39, \"target\": 83}, {\"color\": \"red\", \"source\": 39, \"target\": 83}, {\"color\": \"red\", \"source\": 39, \"target\": 95}, {\"color\": \"red\", \"source\": 39, \"target\": 16}, {\"color\": \"red\", \"source\": 39, \"target\": 90}, {\"color\": \"red\", \"source\": 39, \"target\": 97}, {\"color\": \"red\", \"source\": 39, \"target\": 98}, {\"color\": \"red\", \"source\": 39, \"target\": 99}, {\"color\": \"blue\", \"source\": 43, \"target\": 32}, {\"color\": \"red\", \"source\": 43, \"target\": 101}, {\"color\": \"red\", \"source\": 43, \"target\": 101}, {\"color\": \"blue\", \"source\": 43, \"target\": 65}, {\"color\": \"red\", \"source\": 43, \"target\": 91}, {\"color\": \"red\", \"source\": 43, \"target\": 31}, {\"color\": \"red\", \"source\": 43, \"target\": 15}, {\"color\": \"blue\", \"source\": 43, \"target\": 35}, {\"color\": \"red\", \"source\": 43, \"target\": 86}, {\"color\": \"blue\", \"source\": 43, \"target\": 104}, {\"color\": \"blue\", \"source\": 43, \"target\": 104}, {\"color\": \"red\", \"source\": 43, \"target\": 103}, {\"color\": \"blue\", \"source\": 43, \"target\": 108}, {\"color\": \"red\", \"source\": 43, \"target\": 34}, {\"color\": \"blue\", \"source\": 43, \"target\": 48}, {\"color\": \"red\", \"source\": 43, \"target\": 20}, {\"color\": \"blue\", \"source\": 43, \"target\": 38}, {\"color\": \"red\", \"source\": 43, \"target\": 13}, {\"color\": \"red\", \"source\": 43, \"target\": 13}, {\"color\": \"red\", \"source\": 50, \"target\": 57}, {\"color\": \"red\", \"source\": 50, \"target\": 101}, {\"color\": \"red\", \"source\": 50, \"target\": 66}, {\"color\": \"red\", \"source\": 50, \"target\": 67}, {\"color\": \"blue\", \"source\": 50, \"target\": 48}, {\"color\": \"red\", \"source\": 50, \"target\": 61}, {\"color\": \"red\", \"source\": 50, \"target\": 103}, {\"color\": \"red\", \"source\": 65, \"target\": 32}, {\"color\": \"blue\", \"source\": 65, \"target\": 43}, {\"color\": \"red\", \"source\": 65, \"target\": 73}, {\"color\": \"red\", \"source\": 65, \"target\": 73}, {\"color\": \"red\", \"source\": 65, \"target\": 66}, {\"color\": \"red\", \"source\": 65, \"target\": 66}, {\"color\": \"blue\", \"source\": 65, \"target\": 35}, {\"color\": \"red\", \"source\": 65, \"target\": 90}, {\"color\": \"red\", \"source\": 65, \"target\": 57}, {\"color\": \"red\", \"source\": 65, \"target\": 57}, {\"color\": \"red\", \"source\": 65, \"target\": 58}, {\"color\": \"blue\", \"source\": 65, \"target\": 6}, {\"color\": \"red\", \"source\": 65, \"target\": 67}, {\"color\": \"red\", \"source\": 65, \"target\": 67}, {\"color\": \"blue\", \"source\": 65, \"target\": 48}, {\"color\": \"blue\", \"source\": 65, \"target\": 48}, {\"color\": \"red\", \"source\": 65, \"target\": 77}, {\"color\": \"blue\", \"source\": 65, \"target\": 19}, {\"color\": \"red\", \"source\": 65, \"target\": 20}, {\"color\": \"blue\", \"source\": 65, \"target\": 27}, {\"color\": \"blue\", \"source\": 65, \"target\": 83}, {\"color\": \"blue\", \"source\": 65, \"target\": 109}, {\"color\": \"blue\", \"source\": 68, \"target\": 73}, {\"color\": \"red\", \"source\": 71, \"target\": 90}, {\"color\": \"red\", \"source\": 73, \"target\": 90}, {\"color\": \"red\", \"source\": 73, \"target\": 101}, {\"color\": \"red\", \"source\": 73, \"target\": 65}, {\"color\": \"red\", \"source\": 73, \"target\": 65}, {\"color\": \"red\", \"source\": 73, \"target\": 75}, {\"color\": \"red\", \"source\": 73, \"target\": 15}, {\"color\": \"red\", \"source\": 73, \"target\": 35}, {\"color\": \"red\", \"source\": 73, \"target\": 80}, {\"color\": \"red\", \"source\": 73, \"target\": 96}, {\"color\": \"red\", \"source\": 73, \"target\": 58}, {\"color\": \"red\", \"source\": 73, \"target\": 6}, {\"color\": \"red\", \"source\": 73, \"target\": 78}, {\"color\": \"red\", \"source\": 73, \"target\": 103}, {\"color\": \"red\", \"source\": 73, \"target\": 48}, {\"color\": \"blue\", \"source\": 73, \"target\": 77}, {\"color\": \"red\", \"source\": 73, \"target\": 19}, {\"color\": \"blue\", \"source\": 73, \"target\": 68}, {\"color\": \"red\", \"source\": 73, \"target\": 20}, {\"color\": \"red\", \"source\": 73, \"target\": 13}, {\"color\": \"red\", \"source\": 73, \"target\": 79}, {\"color\": \"red\", \"source\": 88, \"target\": 0}, {\"color\": \"blue\", \"source\": 88, \"target\": 1}, {\"color\": \"red\", \"source\": 88, \"target\": 2}, {\"color\": \"red\", \"source\": 88, \"target\": 3}, {\"color\": \"red\", \"source\": 88, \"target\": 4}, {\"color\": \"blue\", \"source\": 88, \"target\": 5}, {\"color\": \"blue\", \"source\": 88, \"target\": 5}, {\"color\": \"blue\", \"source\": 88, \"target\": 6}, {\"color\": \"blue\", \"source\": 88, \"target\": 6}, {\"color\": \"blue\", \"source\": 88, \"target\": 6}, {\"color\": \"blue\", \"source\": 88, \"target\": 7}, {\"color\": \"blue\", \"source\": 88, \"target\": 7}, {\"color\": \"blue\", \"source\": 88, \"target\": 8}, {\"color\": \"blue\", \"source\": 88, \"target\": 8}, {\"color\": \"red\", \"source\": 88, \"target\": 9}, {\"color\": \"red\", \"source\": 88, \"target\": 10}, {\"color\": \"red\", \"source\": 88, \"target\": 11}, {\"color\": \"red\", \"source\": 88, \"target\": 12}, {\"color\": \"red\", \"source\": 88, \"target\": 13}, {\"color\": \"red\", \"source\": 88, \"target\": 14}, {\"color\": \"red\", \"source\": 88, \"target\": 15}, {\"color\": \"blue\", \"source\": 88, \"target\": 16}, {\"color\": \"blue\", \"source\": 88, \"target\": 16}, {\"color\": \"red\", \"source\": 88, \"target\": 17}, {\"color\": \"red\", \"source\": 88, \"target\": 18}, {\"color\": \"red\", \"source\": 88, \"target\": 19}, {\"color\": \"red\", \"source\": 88, \"target\": 20}, {\"color\": \"red\", \"source\": 88, \"target\": 21}, {\"color\": \"red\", \"source\": 88, \"target\": 22}, {\"color\": \"red\", \"source\": 88, \"target\": 22}, {\"color\": \"red\", \"source\": 88, \"target\": 23}, {\"color\": \"blue\", \"source\": 88, \"target\": 24}, {\"color\": \"blue\", \"source\": 88, \"target\": 25}, {\"color\": \"red\", \"source\": 88, \"target\": 26}, {\"color\": \"blue\", \"source\": 88, \"target\": 27}, {\"color\": \"blue\", \"source\": 88, \"target\": 28}, {\"color\": \"blue\", \"source\": 88, \"target\": 28}, {\"color\": \"red\", \"source\": 88, \"target\": 29}, {\"color\": \"blue\", \"source\": 88, \"target\": 30}, {\"color\": \"blue\", \"source\": 88, \"target\": 31}, {\"color\": \"red\", \"source\": 88, \"target\": 32}, {\"color\": \"red\", \"source\": 88, \"target\": 33}, {\"color\": \"red\", \"source\": 88, \"target\": 34}, {\"color\": \"blue\", \"source\": 88, \"target\": 35}, {\"color\": \"red\", \"source\": 88, \"target\": 36}, {\"color\": \"red\", \"source\": 88, \"target\": 37}, {\"color\": \"blue\", \"source\": 88, \"target\": 38}, {\"color\": \"red\", \"source\": 88, \"target\": 39}, {\"color\": \"red\", \"source\": 88, \"target\": 40}, {\"color\": \"red\", \"source\": 88, \"target\": 41}, {\"color\": \"blue\", \"source\": 88, \"target\": 42}, {\"color\": \"blue\", \"source\": 88, \"target\": 42}, {\"color\": \"red\", \"source\": 88, \"target\": 43}, {\"color\": \"red\", \"source\": 88, \"target\": 43}, {\"color\": \"red\", \"source\": 88, \"target\": 44}, {\"color\": \"red\", \"source\": 88, \"target\": 45}, {\"color\": \"blue\", \"source\": 88, \"target\": 46}, {\"color\": \"blue\", \"source\": 88, \"target\": 47}, {\"color\": \"blue\", \"source\": 88, \"target\": 47}, {\"color\": \"blue\", \"source\": 88, \"target\": 48}, {\"color\": \"red\", \"source\": 88, \"target\": 49}, {\"color\": \"red\", \"source\": 88, \"target\": 50}, {\"color\": \"blue\", \"source\": 88, \"target\": 51}, {\"color\": \"red\", \"source\": 88, \"target\": 52}, {\"color\": \"red\", \"source\": 88, \"target\": 53}, {\"color\": \"red\", \"source\": 88, \"target\": 54}, {\"color\": \"red\", \"source\": 88, \"target\": 55}, {\"color\": \"red\", \"source\": 88, \"target\": 56}, {\"color\": \"blue\", \"source\": 88, \"target\": 57}, {\"color\": \"red\", \"source\": 88, \"target\": 58}, {\"color\": \"red\", \"source\": 88, \"target\": 59}, {\"color\": \"red\", \"source\": 88, \"target\": 60}, {\"color\": \"red\", \"source\": 88, \"target\": 61}, {\"color\": \"red\", \"source\": 88, \"target\": 62}, {\"color\": \"red\", \"source\": 88, \"target\": 63}, {\"color\": \"blue\", \"source\": 88, \"target\": 64}, {\"color\": \"red\", \"source\": 88, \"target\": 65}, {\"color\": \"blue\", \"source\": 88, \"target\": 66}, {\"color\": \"blue\", \"source\": 88, \"target\": 66}, {\"color\": \"blue\", \"source\": 88, \"target\": 67}, {\"color\": \"blue\", \"source\": 88, \"target\": 67}, {\"color\": \"red\", \"source\": 88, \"target\": 68}, {\"color\": \"red\", \"source\": 88, \"target\": 69}, {\"color\": \"red\", \"source\": 88, \"target\": 70}, {\"color\": \"red\", \"source\": 88, \"target\": 71}, {\"color\": \"blue\", \"source\": 88, \"target\": 72}, {\"color\": \"blue\", \"source\": 88, \"target\": 73}, {\"color\": \"blue\", \"source\": 88, \"target\": 74}, {\"color\": \"blue\", \"source\": 88, \"target\": 74}, {\"color\": \"blue\", \"source\": 88, \"target\": 75}, {\"color\": \"blue\", \"source\": 88, \"target\": 75}, {\"color\": \"red\", \"source\": 88, \"target\": 76}, {\"color\": \"blue\", \"source\": 88, \"target\": 77}, {\"color\": \"blue\", \"source\": 88, \"target\": 78}, {\"color\": \"blue\", \"source\": 88, \"target\": 78}, {\"color\": \"blue\", \"source\": 88, \"target\": 79}, {\"color\": \"blue\", \"source\": 88, \"target\": 79}, {\"color\": \"blue\", \"source\": 88, \"target\": 80}, {\"color\": \"blue\", \"source\": 88, \"target\": 80}, {\"color\": \"blue\", \"source\": 88, \"target\": 81}, {\"color\": \"red\", \"source\": 88, \"target\": 82}, {\"color\": \"blue\", \"source\": 88, \"target\": 83}, {\"color\": \"blue\", \"source\": 88, \"target\": 84}, {\"color\": \"red\", \"source\": 88, \"target\": 85}, {\"color\": \"red\", \"source\": 88, \"target\": 86}, {\"color\": \"red\", \"source\": 88, \"target\": 87}, {\"color\": \"blue\", \"source\": 88, \"target\": 89}, {\"color\": \"red\", \"source\": 88, \"target\": 90}, {\"color\": \"red\", \"source\": 88, \"target\": 91}, {\"color\": \"red\", \"source\": 88, \"target\": 92}, {\"color\": \"blue\", \"source\": 88, \"target\": 93}, {\"color\": \"blue\", \"source\": 88, \"target\": 93}, {\"color\": \"red\", \"source\": 88, \"target\": 94}, {\"color\": \"blue\", \"source\": 88, \"target\": 95}, {\"color\": \"blue\", \"source\": 88, \"target\": 95}, {\"color\": \"red\", \"source\": 88, \"target\": 96}, {\"color\": \"blue\", \"source\": 88, \"target\": 97}, {\"color\": \"blue\", \"source\": 88, \"target\": 97}, {\"color\": \"blue\", \"source\": 88, \"target\": 98}, {\"color\": \"blue\", \"source\": 88, \"target\": 98}, {\"color\": \"blue\", \"source\": 88, \"target\": 99}, {\"color\": \"blue\", \"source\": 88, \"target\": 99}, {\"color\": \"blue\", \"source\": 88, \"target\": 100}, {\"color\": \"blue\", \"source\": 88, \"target\": 101}, {\"color\": \"blue\", \"source\": 88, \"target\": 102}, {\"color\": \"red\", \"source\": 88, \"target\": 103}, {\"color\": \"blue\", \"source\": 88, \"target\": 104}, {\"color\": \"blue\", \"source\": 88, \"target\": 104}, {\"color\": \"red\", \"source\": 88, \"target\": 105}, {\"color\": \"red\", \"source\": 88, \"target\": 106}, {\"color\": \"red\", \"source\": 88, \"target\": 107}, {\"color\": \"blue\", \"source\": 88, \"target\": 108}, {\"color\": \"blue\", \"source\": 88, \"target\": 108}, {\"color\": \"red\", \"source\": 88, \"target\": 109}, {\"color\": \"red\", \"source\": 90, \"target\": 17}, {\"color\": \"red\", \"source\": 90, \"target\": 34}, {\"color\": \"blue\", \"source\": 90, \"target\": 35}, {\"color\": \"red\", \"source\": 90, \"target\": 4}, {\"color\": \"red\", \"source\": 90, \"target\": 85}, {\"color\": \"red\", \"source\": 90, \"target\": 86}, {\"color\": \"blue\", \"source\": 90, \"target\": 5}, {\"color\": \"blue\", \"source\": 90, \"target\": 5}, {\"color\": \"blue\", \"source\": 90, \"target\": 6}, {\"color\": \"blue\", \"source\": 90, \"target\": 6}, {\"color\": \"blue\", \"source\": 90, \"target\": 7}, {\"color\": \"blue\", \"source\": 90, \"target\": 7}, {\"color\": \"blue\", \"source\": 90, \"target\": 8}, {\"color\": \"blue\", \"source\": 90, \"target\": 8}, {\"color\": \"red\", \"source\": 90, \"target\": 60}, {\"color\": \"red\", \"source\": 90, \"target\": 60}, {\"color\": \"red\", \"source\": 90, \"target\": 61}, {\"color\": \"red\", \"source\": 90, \"target\": 62}, {\"color\": \"red\", \"source\": 90, \"target\": 63}, {\"color\": \"red\", \"source\": 90, \"target\": 44}, {\"color\": \"red\", \"source\": 90, \"target\": 39}, {\"color\": \"red\", \"source\": 90, \"target\": 65}, {\"color\": \"red\", \"source\": 90, \"target\": 14}, {\"color\": \"red\", \"source\": 90, \"target\": 15}, {\"color\": \"blue\", \"source\": 90, \"target\": 66}, {\"color\": \"blue\", \"source\": 90, \"target\": 66}, {\"color\": \"blue\", \"source\": 90, \"target\": 67}, {\"color\": \"blue\", \"source\": 90, \"target\": 67}, {\"color\": \"red\", \"source\": 90, \"target\": 69}, {\"color\": \"red\", \"source\": 90, \"target\": 69}, {\"color\": \"red\", \"source\": 90, \"target\": 70}, {\"color\": \"red\", \"source\": 90, \"target\": 3}, {\"color\": \"red\", \"source\": 90, \"target\": 21}, {\"color\": \"red\", \"source\": 90, \"target\": 22}, {\"color\": \"red\", \"source\": 90, \"target\": 22}, {\"color\": \"red\", \"source\": 90, \"target\": 91}, {\"color\": \"red\", \"source\": 90, \"target\": 71}, {\"color\": \"red\", \"source\": 90, \"target\": 45}, {\"color\": \"blue\", \"source\": 90, \"target\": 47}, {\"color\": \"blue\", \"source\": 90, \"target\": 47}, {\"color\": \"red\", \"source\": 90, \"target\": 26}, {\"color\": \"red\", \"source\": 90, \"target\": 73}, {\"color\": \"blue\", \"source\": 90, \"target\": 42}, {\"color\": \"blue\", \"source\": 90, \"target\": 42}, {\"color\": \"blue\", \"source\": 90, \"target\": 28}, {\"color\": \"blue\", \"source\": 90, \"target\": 28}, {\"color\": \"red\", \"source\": 90, \"target\": 58}, {\"color\": \"blue\", \"source\": 90, \"target\": 74}, {\"color\": \"blue\", \"source\": 90, \"target\": 74}, {\"color\": \"blue\", \"source\": 90, \"target\": 75}, {\"color\": \"blue\", \"source\": 90, \"target\": 75}, {\"color\": \"red\", \"source\": 90, \"target\": 18}, {\"color\": \"red\", \"source\": 90, \"target\": 108}, {\"color\": \"red\", \"source\": 90, \"target\": 108}, {\"color\": \"red\", \"source\": 90, \"target\": 109}, {\"color\": \"red\", \"source\": 102, \"target\": 37}, {\"color\": \"red\", \"source\": 102, \"target\": 48}, {\"color\": \"red\", \"source\": 103, \"target\": 43}, {\"color\": \"red\", \"source\": 103, \"target\": 50}, {\"color\": \"red\", \"source\": 103, \"target\": 75}, {\"color\": \"red\", \"source\": 103, \"target\": 24}, {\"color\": \"red\", \"source\": 103, \"target\": 35}, {\"color\": \"red\", \"source\": 103, \"target\": 36}, {\"color\": \"red\", \"source\": 103, \"target\": 106}, {\"color\": \"red\", \"source\": 103, \"target\": 47}, {\"color\": \"red\", \"source\": 103, \"target\": 58}, {\"color\": \"red\", \"source\": 103, \"target\": 6}, {\"color\": \"blue\", \"source\": 103, \"target\": 48}, {\"color\": \"blue\", \"source\": 103, \"target\": 19}, {\"color\": \"red\", \"source\": 103, \"target\": 20}, {\"color\": \"red\", \"source\": 103, \"target\": 20}, {\"color\": \"red\", \"source\": 103, \"target\": 73}, {\"color\": \"red\", \"source\": 103, \"target\": 69}, {\"color\": \"red\", \"source\": 103, \"target\": 57}, {\"color\": \"red\", \"source\": 105, \"target\": 39}, {\"color\": \"red\", \"source\": 105, \"target\": 2}, {\"color\": \"blue\", \"source\": 105, \"target\": 15}, {\"color\": \"blue\", \"source\": 105, \"target\": 15}, {\"color\": \"red\", \"source\": 105, \"target\": 35}, {\"color\": \"red\", \"source\": 105, \"target\": 80}, {\"color\": \"red\", \"source\": 105, \"target\": 16}, {\"color\": \"blue\", \"source\": 105, \"target\": 6}, {\"color\": \"red\", \"source\": 105, \"target\": 78}, {\"color\": \"red\", \"source\": 105, \"target\": 31}, {\"color\": \"red\", \"source\": 105, \"target\": 17}, {\"color\": \"blue\", \"source\": 105, \"target\": 24}, {\"color\": \"red\", \"source\": 105, \"target\": 19}, {\"color\": \"red\", \"source\": 105, \"target\": 20}, {\"color\": \"red\", \"source\": 109, \"target\": 20}, {\"color\": \"blue\", \"source\": 109, \"target\": 65}, {\"color\": \"red\", \"source\": 109, \"target\": 90}]);}</script><iframe name=\"style_file1\" src=\"style_file1.html\" width=\"100%;\" height=\"805px\"></iframe></body></html>"
      ],
      "text/plain": [
       "<IPython.core.display.HTML object>"
      ]
     },
     "execution_count": 14,
     "metadata": {},
     "output_type": "execute_result"
    }
   ],
   "source": [
    "stat_analysis.vis_tf_network(DG_brca, 'FOXO3', '../../DEG_databases/geo2r_GSE11352_brca_48hours.txt', list(DEG_list_brca),\n",
    "              directed_edges = True,\n",
    "              node_spacing = 2300,\n",
    "              graph_id = 1) "
   ]
  },
  {
   "cell_type": "code",
   "execution_count": null,
   "metadata": {
    "collapsed": true
   },
   "outputs": [],
   "source": []
  }
 ],
 "metadata": {
  "kernelspec": {
   "display_name": "Python 2",
   "language": "python",
   "name": "python2"
  },
  "language_info": {
   "codemirror_mode": {
    "name": "ipython",
    "version": 2
   },
   "file_extension": ".py",
   "mimetype": "text/x-python",
   "name": "python",
   "nbconvert_exporter": "python",
   "pygments_lexer": "ipython2",
   "version": "2.7.14"
  }
 },
 "nbformat": 4,
 "nbformat_minor": 2
}
