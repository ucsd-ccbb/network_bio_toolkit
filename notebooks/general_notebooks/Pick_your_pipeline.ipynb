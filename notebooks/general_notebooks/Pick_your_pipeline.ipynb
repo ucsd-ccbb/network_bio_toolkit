{
 "cells": [
  {
   "cell_type": "markdown",
   "metadata": {},
   "source": [
    "## Import Packages"
   ]
  },
  {
   "cell_type": "code",
   "execution_count": 22,
   "metadata": {},
   "outputs": [],
   "source": [
    "# import upstream regulator module\n",
    "import sys\n",
    "code_path = '../../network_bio_toolkit'\n",
    "sys.path.append(code_path)\n",
    "import Upstream\n",
    "reload(Upstream)\n",
    "\n",
    "# heat propagation and clustering\n",
    "import Heat\n",
    "reload(Heat)\n",
    "\n",
    "# gsea\n",
    "import PrepGsea\n",
    "reload(PrepGsea)\n",
    "\n",
    "# this notebook\n",
    "from ipywidgets import widgets, Layout\n",
    "from IPython.display import Javascript, display\n",
    "\n",
    "#from IPython.core.interactiveshell import InteractiveShell\n",
    "#InteractiveShell.ast_node_interactivity = \"all\"\n",
    "#display(Javascript('IPython.notebook.execute_cell_range(IPython.notebook.get_selected_index(), IPython.notebook.get_selected_index()+2)'))\n",
    "\n",
    "%matplotlib inline"
   ]
  },
  {
   "cell_type": "code",
   "execution_count": null,
   "metadata": {
    "collapsed": true
   },
   "outputs": [],
   "source": [
    "def checkbox_maker(descriptions):\n",
    "    options_dict = {description: widgets.Checkbox(description=description, style = {'description_width': 'initial'}, value=False) for description in descriptions}\n",
    "    options = [options_dict[description] for description in descriptions]\n",
    "    options_widget = widgets.VBox(options, layout={'overflow': 'scroll'})\n",
    "    multi_select = widgets.VBox([options_widget])\n",
    "    return multi_select\n",
    "\n",
    "def get_values(checkboxes):\n",
    "    selected_pipelines = [widget.description for widget in checkboxes.children[0].children if widget.value]\n",
    "    return selected_pipelines"
   ]
  },
  {
   "cell_type": "code",
   "execution_count": 43,
   "metadata": {},
   "outputs": [
    {
     "data": {
      "application/vnd.jupyter.widget-view+json": {
       "model_id": "5c1ffff45bb441a185624d1663d515f5",
       "version_major": 2,
       "version_minor": 0
      },
      "text/plain": [
       "A Jupyter Widget"
      ]
     },
     "metadata": {},
     "output_type": "display_data"
    }
   ],
   "source": [
    "# decide which analysis to run\n",
    "pipeline_checkbox = checkbox_maker(['Upstream Regulator Analysis', 'Heat Propagation and Clustering', 'GSEA'])\n",
    "display(pipeline_checkbox)"
   ]
  },
  {
   "cell_type": "code",
   "execution_count": 49,
   "metadata": {},
   "outputs": [
    {
     "data": {
      "text/plain": [
       "[u'Upstream Regulator Analysis', u'Heat Propagation and Clustering', u'GSEA']"
      ]
     },
     "execution_count": 49,
     "metadata": {},
     "output_type": "execute_result"
    }
   ],
   "source": [
    "pipelines = get_values(pipeline_checkbox)\n",
    "pipelines"
   ]
  },
  {
   "cell_type": "code",
   "execution_count": 100,
   "metadata": {},
   "outputs": [
    {
     "data": {
      "application/vnd.jupyter.widget-view+json": {
       "model_id": "271e485562924da08bfddf9f4c57ec1b",
       "version_major": 2,
       "version_minor": 0
      },
      "text/plain": [
       "A Jupyter Widget"
      ]
     },
     "metadata": {},
     "output_type": "display_data"
    }
   ],
   "source": [
    "from ipywidgets import Layout, Button, Box, FloatText, Textarea, Dropdown, Label, IntSlider, Text\n",
    "\n",
    "URA_form_item_layout = Layout(\n",
    "    display='flex',\n",
    "    flex_flow='row',\n",
    "    justify_content='space-between'\n",
    ")\n",
    "\n",
    "URA_form_items = [\n",
    "    Box([Label(value='Gene type'), Dropdown(options=['gene_symbol', 'entrez'])], layout = URA_form_item_layout),\n",
    "    Box([Label(value='Species'), Dropdown(options=['human', 'mouse'])], layout = URA_form_item_layout),\n",
    "    Box([Label(value='TF Filepath'), Text()], layout = URA_form_item_layout),\n",
    "    Box([Label(value='Background Network Filepath'), Text()], layout = URA_form_item_layout),\n",
    "    Box([Label(value='DEG filepath'), Text()], layout = URA_form_item_layout)\n",
    "]\n",
    "\n",
    "URA_form = Box(URA_form_items, layout=Layout(\n",
    "        display='flex',\n",
    "        flex_flow='column',\n",
    "        border='solid 2px',\n",
    "        align_items='stretch',\n",
    "        width='60%'\n",
    "))\n",
    "\n",
    "URA_form"
   ]
  },
  {
   "cell_type": "code",
   "execution_count": 101,
   "metadata": {},
   "outputs": [
    {
     "data": {
      "application/vnd.jupyter.widget-view+json": {
       "model_id": "5597ae59bdef4621ae7bbe222e3bd8cf",
       "version_major": 2,
       "version_minor": 0
      },
      "text/plain": [
       "A Jupyter Widget"
      ]
     },
     "metadata": {},
     "output_type": "display_data"
    }
   ],
   "source": [
    "HC_form_item_layout = Layout(\n",
    "    display='flex',\n",
    "    flex_flow='row',\n",
    "    justify_content='space-between'\n",
    ")\n",
    "\n",
    "HC_form_items = [\n",
    "    Box([Label(value='Gene type'), Dropdown(options=['gene_symbol', 'entrez'])], layout = HC_form_item_layout),\n",
    "    Box([Label(value='Species'), Dropdown(options=['human', 'mouse'])], layout = HC_form_item_layout),\n",
    "    Box([Label(value='Background Network Filepath'), Text()], layout = HC_form_item_layout),\n",
    "    Box([Label(value='DEG filepath'), Text()], layout = HC_form_item_layout)\n",
    "]\n",
    "\n",
    "HC_form = Box(HC_form_items, layout=Layout(\n",
    "        display='flex',\n",
    "        flex_flow='column',\n",
    "        border='solid 2px',\n",
    "        align_items='stretch',\n",
    "        width='60%'\n",
    "))\n",
    "\n",
    "HC_form"
   ]
  },
  {
   "cell_type": "code",
   "execution_count": 103,
   "metadata": {},
   "outputs": [
    {
     "data": {
      "application/vnd.jupyter.widget-view+json": {
       "model_id": "9c9f1d369afb491395f27d9b2f05e416",
       "version_major": 2,
       "version_minor": 0
      },
      "text/plain": [
       "A Jupyter Widget"
      ]
     },
     "metadata": {},
     "output_type": "display_data"
    }
   ],
   "source": [
    "GSEA_form_item_layout = Layout(\n",
    "    display='flex',\n",
    "    flex_flow='row',\n",
    "    justify_content='space-between'\n",
    ")\n",
    "\n",
    "['gmt_file', 'expression_file', 'meta_file', 'output_dir']\n",
    "\n",
    "GSEA_form_items = [\n",
    "    Box([Label(value='GMT Filepath'), Text()], layout = GSEA_form_item_layout),\n",
    "    Box([Label(value='Expression Filepath'), Text()], layout = GSEA_form_item_layout),\n",
    "    Box([Label(value='Meta Filepath'), Text()], layout = GSEA_form_item_layout),\n",
    "    Box([Label(value='Output Directory'), Text()], layout = GSEA_form_item_layout)\n",
    "]\n",
    "\n",
    "GSEA_form = Box(GSEA_form_items, layout=Layout(\n",
    "        display='flex',\n",
    "        flex_flow='column',\n",
    "        border='solid 2px',\n",
    "        align_items='stretch',\n",
    "        width='60%'\n",
    "))\n",
    "\n",
    "GSEA_form"
   ]
  },
  {
   "cell_type": "code",
   "execution_count": 104,
   "metadata": {},
   "outputs": [
    {
     "data": {
      "application/vnd.jupyter.widget-view+json": {
       "model_id": "ad24125e14504ccbb36b4b9b52bbb30d",
       "version_major": 2,
       "version_minor": 0
      },
      "text/plain": [
       "A Jupyter Widget"
      ]
     },
     "metadata": {},
     "output_type": "display_data"
    }
   ],
   "source": [
    "children = [URA_form, HC_form, GSEA_form]\n",
    "tab = widgets.Tab()\n",
    "tab.children = children\n",
    "\n",
    "for i in range(len(pipelines)):\n",
    "    tab.set_title(i, pipelines[i])\n",
    "tab"
   ]
  },
  {
   "cell_type": "code",
   "execution_count": null,
   "metadata": {
    "collapsed": true
   },
   "outputs": [],
   "source": []
  },
  {
   "cell_type": "code",
   "execution_count": null,
   "metadata": {
    "collapsed": true
   },
   "outputs": [],
   "source": []
  },
  {
   "cell_type": "code",
   "execution_count": null,
   "metadata": {
    "collapsed": true
   },
   "outputs": [],
   "source": []
  },
  {
   "cell_type": "code",
   "execution_count": null,
   "metadata": {
    "collapsed": true
   },
   "outputs": [],
   "source": []
  },
  {
   "cell_type": "code",
   "execution_count": 71,
   "metadata": {},
   "outputs": [
    {
     "name": "stdout",
     "output_type": "stream",
     "text": [
      "You have selected the following analyses:\n",
      "\n",
      "Upstream Regulator Analysis\n",
      "Heat Propagation and Clustering\n",
      "GSEA\n",
      " \n",
      "Upstream Regulator Analysis:\n",
      "\n",
      "1. Please specify the gene naming convention and species that match your Differentially Expressed Genes (DEG) file:\n"
     ]
    },
    {
     "data": {
      "application/vnd.jupyter.widget-view+json": {
       "model_id": "dcc8b1a38a214b48a6fb3ee9307b0fd1",
       "version_major": 2,
       "version_minor": 0
      },
      "text/plain": [
       "A Jupyter Widget"
      ]
     },
     "metadata": {},
     "output_type": "display_data"
    },
    {
     "data": {
      "application/vnd.jupyter.widget-view+json": {
       "model_id": "2b245798929a4aab8815f60eaf505cdb",
       "version_major": 2,
       "version_minor": 0
      },
      "text/plain": [
       "A Jupyter Widget"
      ]
     },
     "metadata": {},
     "output_type": "display_data"
    },
    {
     "name": "stdout",
     "output_type": "stream",
     "text": [
      "2. Please specify the following filepaths\n"
     ]
    },
    {
     "data": {
      "application/vnd.jupyter.widget-view+json": {
       "model_id": "b5a572999ce5416380d872622e8c077b",
       "version_major": 2,
       "version_minor": 0
      },
      "text/plain": [
       "A Jupyter Widget"
      ]
     },
     "metadata": {},
     "output_type": "display_data"
    },
    {
     "data": {
      "application/vnd.jupyter.widget-view+json": {
       "model_id": "443a834b5df745a49155c48b1b98595f",
       "version_major": 2,
       "version_minor": 0
      },
      "text/plain": [
       "A Jupyter Widget"
      ]
     },
     "metadata": {},
     "output_type": "display_data"
    },
    {
     "data": {
      "application/vnd.jupyter.widget-view+json": {
       "model_id": "3aff2815a2b747cc84a4d64a86b63655",
       "version_major": 2,
       "version_minor": 0
      },
      "text/plain": [
       "A Jupyter Widget"
      ]
     },
     "metadata": {},
     "output_type": "display_data"
    },
    {
     "name": "stdout",
     "output_type": "stream",
     "text": [
      "\n",
      "Heat Propagation and Clustering:\n",
      "\n",
      "3. Please specify the gene naming convention and species that match your Differentially Expressed Genes (DEG) file:\n"
     ]
    },
    {
     "data": {
      "application/vnd.jupyter.widget-view+json": {
       "model_id": "45c51deaf7134099ab8d0bd27efe7050",
       "version_major": 2,
       "version_minor": 0
      },
      "text/plain": [
       "A Jupyter Widget"
      ]
     },
     "metadata": {},
     "output_type": "display_data"
    },
    {
     "data": {
      "application/vnd.jupyter.widget-view+json": {
       "model_id": "88d054e101284f5f86a492c63f196237",
       "version_major": 2,
       "version_minor": 0
      },
      "text/plain": [
       "A Jupyter Widget"
      ]
     },
     "metadata": {},
     "output_type": "display_data"
    },
    {
     "name": "stdout",
     "output_type": "stream",
     "text": [
      "\n",
      "4. Please specify the following filepaths\n"
     ]
    },
    {
     "data": {
      "application/vnd.jupyter.widget-view+json": {
       "model_id": "ce5fcdf40b3e45178f7e361fc2b6a7ea",
       "version_major": 2,
       "version_minor": 0
      },
      "text/plain": [
       "A Jupyter Widget"
      ]
     },
     "metadata": {},
     "output_type": "display_data"
    },
    {
     "data": {
      "application/vnd.jupyter.widget-view+json": {
       "model_id": "0090cb8bd977452cbcc7dee5abefeb51",
       "version_major": 2,
       "version_minor": 0
      },
      "text/plain": [
       "A Jupyter Widget"
      ]
     },
     "metadata": {},
     "output_type": "display_data"
    },
    {
     "name": "stdout",
     "output_type": "stream",
     "text": [
      "GSEA\n"
     ]
    }
   ],
   "source": [
    "print 'You have selected the following analyses:\\n'\n",
    "for pipeline in pipelines: print pipeline\n",
    "print ' '\n",
    "\n",
    "i = 1\n",
    "if ('Upstream Regulator Analysis' in pipelines):\n",
    "    \n",
    "    print 'Upstream Regulator Analysis:\\n'\n",
    "    print str(i) + '. Please specify the gene naming convention and species that match your Differentially Expressed Genes (DEG) file:'\n",
    "    i = i + 1\n",
    "    \n",
    "    # specify gene type and species\n",
    "    gene_symbol_widget = widgets.RadioButtons(\n",
    "        options=['gene_symbol', 'entrez'],\n",
    "        value='gene_symbol',\n",
    "        description='gene type:',\n",
    "        disabled=False\n",
    "    )\n",
    "    display(gene_symbol_widget)\n",
    "    \n",
    "    species_widget = widgets.RadioButtons(\n",
    "        options=['human', 'mouse'],\n",
    "        value='human',\n",
    "        description='species:',\n",
    "        disabled=False\n",
    "    )\n",
    "    display(species_widget)\n",
    "    \n",
    "    print str(i) + '. Please specify the following filepaths'\n",
    "    i = i + 1\n",
    "        \n",
    "    # specify filepaths\n",
    "    filepath_widget_array = []\n",
    "    headers = ['TF filepath', 'background network filepath', 'DEG filepath']\n",
    "    for header in headers:\n",
    "        text = widgets.Text(description = header, style = {'description_width': 'initial'})\n",
    "        display(text)\n",
    "        filepath_widget_array.append(text) \n",
    "    \n",
    "    \n",
    "if ('Heat Propagation and Clustering' in pipelines):\n",
    "    \n",
    "    print '\\nHeat Propagation and Clustering:\\n'\n",
    "    print str(i) + '. Please specify the gene naming convention and species that match your Differentially Expressed Genes (DEG) file:'\n",
    "    i = i + 1\n",
    "    \n",
    "    # specify gene type and species\n",
    "    gene_symbol_widget = widgets.RadioButtons(\n",
    "        options=['gene_symbol', 'entrez'],\n",
    "        value='gene_symbol',\n",
    "        description='gene type:',\n",
    "        disabled=False\n",
    "    )\n",
    "    display(gene_symbol_widget)\n",
    "    \n",
    "    species_widget = widgets.RadioButtons(\n",
    "        options=['human', 'mouse'],\n",
    "        value='human',\n",
    "        description='species:',\n",
    "        disabled=False\n",
    "    )\n",
    "    display(species_widget)\n",
    "    \n",
    "    print '\\n' + str(i) + '. Please specify the following filepaths'\n",
    "        \n",
    "    # specify filepaths\n",
    "    filepath_widget_array = []\n",
    "    headers = ['background network filepath', 'DEG filepath']\n",
    "    for header in headers:\n",
    "        text = widgets.Text(description = header, style = {'description_width': 'initial'})\n",
    "        display(text)\n",
    "        filepath_widget_array.append(text)    \n",
    "    \n",
    "if ('GSEA' in pipelines):\n",
    "    print 'GSEA'"
   ]
  },
  {
   "cell_type": "code",
   "execution_count": null,
   "metadata": {
    "collapsed": true
   },
   "outputs": [],
   "source": []
  },
  {
   "cell_type": "code",
   "execution_count": null,
   "metadata": {
    "collapsed": true
   },
   "outputs": [],
   "source": []
  },
  {
   "cell_type": "code",
   "execution_count": null,
   "metadata": {
    "collapsed": true
   },
   "outputs": [],
   "source": []
  },
  {
   "cell_type": "code",
   "execution_count": 120,
   "metadata": {
    "collapsed": true
   },
   "outputs": [],
   "source": [
    "# decide user preferences\n",
    "\n",
    "if (drop_down.value == 'Upstream Regulator Analysis') | (drop_down.value == 'Heat Propagation and Clustering'):\n",
    "    \n",
    "    gene_symbol_widget = widgets.RadioButtons(\n",
    "        options=['gene_symbol', 'entrez'],\n",
    "        value='gene_symbol',\n",
    "        description='gene type:',\n",
    "        disabled=False\n",
    "    )\n",
    "    \n",
    "    species_widget = widgets.RadioButtons(\n",
    "        options=['human', 'mouse'],\n",
    "        value='human',\n",
    "        description='species:',\n",
    "        disabled=False\n",
    "    )\n",
    "    \n",
    "    if \n",
    "    \n",
    "    \n",
    "    \n",
    "    if (drop_down.value == 'Upstream Regulator Analysis'): headers = ['TF filepath', 'background network filepath', 'DEG filepath']\n",
    "    elif (drop_down.value == 'Heat Propagation and Clustering'): headers = ['background network filepath', 'DEG filepath']  \n",
    "    else: headers = ['gmt_file', 'expression_file', 'meta_file', 'output_dir']\n",
    "\n",
    "    controls_widget_array = []\n",
    "    for header in headers:\n",
    "        text = widgets.Text(description = header, style = {'description_width': 'initial'})\n",
    "        display(text)\n",
    "        controls_widget_array.append(text)\n",
    "    \n",
    "    display(gene_symbol_widget)\n",
    "    display(species_widget)"
   ]
  },
  {
   "cell_type": "code",
   "execution_count": 10,
   "metadata": {},
   "outputs": [
    {
     "name": "stdout",
     "output_type": "stream",
     "text": [
      "Pick which functions you would like to run for UPSTREAM REGULATOR ANALYSIS:\n"
     ]
    },
    {
     "data": {
      "application/vnd.jupyter.widget-view+json": {
       "model_id": "0b10524f70f049a7b7821eeacb5a0029",
       "version_major": 2,
       "version_minor": 0
      },
      "text/plain": [
       "A Jupyter Widget"
      ]
     },
     "metadata": {},
     "output_type": "display_data"
    }
   ],
   "source": [
    "# decide which funcitons and displays to run\n",
    "\n",
    "if (drop_down.value == 'Upstream Regulator Analysis'):\n",
    "    \n",
    "    print 'Pick which functions you would like to run for ' + str(drop_down.value).upper() + ':'\n",
    "    descriptions = ['TF-target enrichment', 'TF enrichment', 'z-score', 'top values', 'rank genes', 'display TF network', 'print to file']\n",
    "    options_dict = {description: widgets.Checkbox(description=description, style = {'description_width': 'initial'}, value=False) for description in descriptions}\n",
    "    options = [options_dict[description] for description in descriptions]\n",
    "    options_widget = widgets.VBox(options, layout={'overflow': 'scroll'})\n",
    "    multi_select = widgets.VBox([options_widget])\n",
    "    display(multi_select) \n",
    "\n",
    "elif (drop_down.value == 'Heat Propagation and Clustering'):\n",
    "    \n",
    "    print 'Pick which functions you would like to run for ' + str(drop_down.value).upper() + ':'\n",
    "    descriptions = ['Heat propagation display', 'Clustering WITHOUT radial positioning', 'Clustering WITH radial positioning']\n",
    "    options_dict = {description: widgets.Checkbox(description=description, style = {'description_width': 'initial'}, value=False) for description in descriptions}\n",
    "    options = [options_dict[description] for description in descriptions]\n",
    "    options_widget = widgets.VBox(options, layout={'overflow': 'scroll'})\n",
    "    multi_select = widgets.VBox([options_widget])\n",
    "    display(multi_select) "
   ]
  },
  {
   "cell_type": "code",
   "execution_count": 51,
   "metadata": {},
   "outputs": [
    {
     "name": "stdout",
     "output_type": "stream",
     "text": [
      "[u'Upstream Regulator Analysis']\n"
     ]
    },
    {
     "ename": "NameError",
     "evalue": "name 'gene_symbol_widget' is not defined",
     "output_type": "error",
     "traceback": [
      "\u001b[1;31m---------------------------------------------------------------------------\u001b[0m",
      "\u001b[1;31mNameError\u001b[0m                                 Traceback (most recent call last)",
      "\u001b[1;32m<ipython-input-51-9742f9d535f2>\u001b[0m in \u001b[0;36m<module>\u001b[1;34m()\u001b[0m\n\u001b[0;32m      2\u001b[0m \u001b[1;32mprint\u001b[0m \u001b[0mselected_options\u001b[0m\u001b[1;33m\u001b[0m\u001b[0m\n\u001b[0;32m      3\u001b[0m \u001b[1;33m\u001b[0m\u001b[0m\n\u001b[1;32m----> 4\u001b[1;33m \u001b[1;32mprint\u001b[0m \u001b[0mgene_symbol_widget\u001b[0m\u001b[1;33m.\u001b[0m\u001b[0mvalue\u001b[0m\u001b[1;33m\u001b[0m\u001b[0m\n\u001b[0m\u001b[0;32m      5\u001b[0m \u001b[1;32mprint\u001b[0m \u001b[0mspecies_widget\u001b[0m\u001b[1;33m.\u001b[0m\u001b[0mvalue\u001b[0m\u001b[1;33m\u001b[0m\u001b[0m\n",
      "\u001b[1;31mNameError\u001b[0m: name 'gene_symbol_widget' is not defined"
     ]
    }
   ],
   "source": [
    "selected_options = [widget.description for widget in multi_select.children[0].children if widget.value]\n",
    "print selected_options\n",
    "\n",
    "print gene_symbol_widget.value\n",
    "print species_widget.value"
   ]
  },
  {
   "cell_type": "code",
   "execution_count": 52,
   "metadata": {},
   "outputs": [
    {
     "data": {
      "application/vnd.jupyter.widget-view+json": {
       "model_id": "c5cdfcffee014412981250a8fb97ec67",
       "version_major": 2,
       "version_minor": 0
      },
      "text/plain": [
       "A Jupyter Widget"
      ]
     },
     "metadata": {},
     "output_type": "display_data"
    },
    {
     "data": {
      "application/vnd.jupyter.widget-view+json": {
       "model_id": "268e974241854b5ea8833a62dfeb03cb",
       "version_major": 2,
       "version_minor": 0
      },
      "text/plain": [
       "A Jupyter Widget"
      ]
     },
     "metadata": {},
     "output_type": "display_data"
    },
    {
     "data": {
      "application/vnd.jupyter.widget-view+json": {
       "model_id": "b2712d6cee2d4e15834cf9365d2b3cdc",
       "version_major": 2,
       "version_minor": 0
      },
      "text/plain": [
       "A Jupyter Widget"
      ]
     },
     "metadata": {},
     "output_type": "display_data"
    }
   ],
   "source": [
    "# declare your file paths\n",
    "\n",
    "if (drop_down.value == 'Upstream Regulator Analysis'): headers = ['TF filepath', 'background network filepath', 'DEG filepath']\n",
    "elif (drop_down.value == 'Heat Propagation and Clustering'): headers = ['background network filepath', 'DEG filepath']  \n",
    "else: headers = ['gmt_file', 'expression_file', 'meta_file', 'output_dir']\n",
    "\n",
    "controls_widget_array = []\n",
    "for header in headers:\n",
    "    text = widgets.Text(description = header, style = {'description_width': 'initial'})\n",
    "    display(text)\n",
    "    controls_widget_array.append(text)"
   ]
  },
  {
   "cell_type": "code",
   "execution_count": 113,
   "metadata": {},
   "outputs": [
    {
     "name": "stdout",
     "output_type": "stream",
     "text": [
      "1\n",
      "2\n"
     ]
    }
   ],
   "source": [
    "[box.value for box in controls_widget_array]\n",
    "print controls_widget_array[0].value\n",
    "print controls_widget_array[1].value\n",
    "print gene_symbol_widget.value\n",
    "print species_widget.value"
   ]
  },
  {
   "cell_type": "code",
   "execution_count": 111,
   "metadata": {},
   "outputs": [
    {
     "ename": "IOError",
     "evalue": "File C does not exist",
     "output_type": "error",
     "traceback": [
      "\u001b[1;31m---------------------------------------------------------------------------\u001b[0m",
      "\u001b[1;31mIOError\u001b[0m                                   Traceback (most recent call last)",
      "\u001b[1;32m<ipython-input-111-eb8d450fac4c>\u001b[0m in \u001b[0;36m<module>\u001b[1;34m()\u001b[0m\n\u001b[0;32m     10\u001b[0m                         \u001b[0mexpression_file\u001b[0m \u001b[1;33m=\u001b[0m \u001b[0mcontrols_widget_array\u001b[0m\u001b[1;33m[\u001b[0m\u001b[1;36m1\u001b[0m\u001b[1;33m]\u001b[0m\u001b[1;33m.\u001b[0m\u001b[0mvalue\u001b[0m\u001b[1;33m,\u001b[0m\u001b[1;33m\u001b[0m\u001b[0m\n\u001b[0;32m     11\u001b[0m                         \u001b[0mmeta_file\u001b[0m \u001b[1;33m=\u001b[0m \u001b[0mcontrols_widget_array\u001b[0m\u001b[1;33m[\u001b[0m\u001b[1;36m2\u001b[0m\u001b[1;33m]\u001b[0m\u001b[1;33m.\u001b[0m\u001b[0mvalue\u001b[0m\u001b[1;33m,\u001b[0m\u001b[1;33m\u001b[0m\u001b[0m\n\u001b[1;32m---> 12\u001b[1;33m                         output_dir = controls_widget_array[3].value)\n\u001b[0m\u001b[0;32m     13\u001b[0m \u001b[1;33m\u001b[0m\u001b[0m\n",
      "\u001b[1;32mC:\\Users\\m1webste\\Documents\\CCBB_2\\network_bio_toolkit\\network_bio_toolkit\\PrepGsea.pyc\u001b[0m in \u001b[0;36m__init__\u001b[1;34m(self, gmt_file, expression_file, meta_file, output_dir, display_df_meta)\u001b[0m\n\u001b[0;32m     15\u001b[0m         \u001b[0mself\u001b[0m\u001b[1;33m.\u001b[0m\u001b[0moutput_dir\u001b[0m \u001b[1;33m=\u001b[0m \u001b[0moutput_dir\u001b[0m\u001b[1;33m\u001b[0m\u001b[0m\n\u001b[0;32m     16\u001b[0m \u001b[1;33m\u001b[0m\u001b[0m\n\u001b[1;32m---> 17\u001b[1;33m         \u001b[0mself\u001b[0m\u001b[1;33m.\u001b[0m\u001b[0mdf_meta\u001b[0m \u001b[1;33m=\u001b[0m \u001b[0mpd\u001b[0m\u001b[1;33m.\u001b[0m\u001b[0mread_csv\u001b[0m\u001b[1;33m(\u001b[0m\u001b[0mmeta_file\u001b[0m\u001b[1;33m)\u001b[0m\u001b[1;33m\u001b[0m\u001b[0m\n\u001b[0m\u001b[0;32m     18\u001b[0m         \u001b[1;32mif\u001b[0m \u001b[0mdisplay_df_meta\u001b[0m \u001b[1;33m==\u001b[0m \u001b[0mTrue\u001b[0m\u001b[1;33m:\u001b[0m \u001b[1;31m# recommended so that you can see your class and control choices\u001b[0m\u001b[1;33m\u001b[0m\u001b[0m\n\u001b[0;32m     19\u001b[0m             \u001b[1;32mprint\u001b[0m \u001b[1;34m\"Meta DataFrame: \"\u001b[0m\u001b[1;33m\u001b[0m\u001b[0m\n",
      "\u001b[1;32mC:\\Users\\m1webste\\Anaconda2\\lib\\site-packages\\pandas\\io\\parsers.pyc\u001b[0m in \u001b[0;36mparser_f\u001b[1;34m(filepath_or_buffer, sep, delimiter, header, names, index_col, usecols, squeeze, prefix, mangle_dupe_cols, dtype, engine, converters, true_values, false_values, skipinitialspace, skiprows, nrows, na_values, keep_default_na, na_filter, verbose, skip_blank_lines, parse_dates, infer_datetime_format, keep_date_col, date_parser, dayfirst, iterator, chunksize, compression, thousands, decimal, lineterminator, quotechar, quoting, escapechar, comment, encoding, dialect, tupleize_cols, error_bad_lines, warn_bad_lines, skipfooter, skip_footer, doublequote, delim_whitespace, as_recarray, compact_ints, use_unsigned, low_memory, buffer_lines, memory_map, float_precision)\u001b[0m\n\u001b[0;32m    653\u001b[0m                     skip_blank_lines=skip_blank_lines)\n\u001b[0;32m    654\u001b[0m \u001b[1;33m\u001b[0m\u001b[0m\n\u001b[1;32m--> 655\u001b[1;33m         \u001b[1;32mreturn\u001b[0m \u001b[0m_read\u001b[0m\u001b[1;33m(\u001b[0m\u001b[0mfilepath_or_buffer\u001b[0m\u001b[1;33m,\u001b[0m \u001b[0mkwds\u001b[0m\u001b[1;33m)\u001b[0m\u001b[1;33m\u001b[0m\u001b[0m\n\u001b[0m\u001b[0;32m    656\u001b[0m \u001b[1;33m\u001b[0m\u001b[0m\n\u001b[0;32m    657\u001b[0m     \u001b[0mparser_f\u001b[0m\u001b[1;33m.\u001b[0m\u001b[0m__name__\u001b[0m \u001b[1;33m=\u001b[0m \u001b[0mname\u001b[0m\u001b[1;33m\u001b[0m\u001b[0m\n",
      "\u001b[1;32mC:\\Users\\m1webste\\Anaconda2\\lib\\site-packages\\pandas\\io\\parsers.pyc\u001b[0m in \u001b[0;36m_read\u001b[1;34m(filepath_or_buffer, kwds)\u001b[0m\n\u001b[0;32m    403\u001b[0m \u001b[1;33m\u001b[0m\u001b[0m\n\u001b[0;32m    404\u001b[0m     \u001b[1;31m# Create the parser.\u001b[0m\u001b[1;33m\u001b[0m\u001b[1;33m\u001b[0m\u001b[0m\n\u001b[1;32m--> 405\u001b[1;33m     \u001b[0mparser\u001b[0m \u001b[1;33m=\u001b[0m \u001b[0mTextFileReader\u001b[0m\u001b[1;33m(\u001b[0m\u001b[0mfilepath_or_buffer\u001b[0m\u001b[1;33m,\u001b[0m \u001b[1;33m**\u001b[0m\u001b[0mkwds\u001b[0m\u001b[1;33m)\u001b[0m\u001b[1;33m\u001b[0m\u001b[0m\n\u001b[0m\u001b[0;32m    406\u001b[0m \u001b[1;33m\u001b[0m\u001b[0m\n\u001b[0;32m    407\u001b[0m     \u001b[1;32mif\u001b[0m \u001b[0mchunksize\u001b[0m \u001b[1;32mor\u001b[0m \u001b[0miterator\u001b[0m\u001b[1;33m:\u001b[0m\u001b[1;33m\u001b[0m\u001b[0m\n",
      "\u001b[1;32mC:\\Users\\m1webste\\Anaconda2\\lib\\site-packages\\pandas\\io\\parsers.pyc\u001b[0m in \u001b[0;36m__init__\u001b[1;34m(self, f, engine, **kwds)\u001b[0m\n\u001b[0;32m    762\u001b[0m             \u001b[0mself\u001b[0m\u001b[1;33m.\u001b[0m\u001b[0moptions\u001b[0m\u001b[1;33m[\u001b[0m\u001b[1;34m'has_index_names'\u001b[0m\u001b[1;33m]\u001b[0m \u001b[1;33m=\u001b[0m \u001b[0mkwds\u001b[0m\u001b[1;33m[\u001b[0m\u001b[1;34m'has_index_names'\u001b[0m\u001b[1;33m]\u001b[0m\u001b[1;33m\u001b[0m\u001b[0m\n\u001b[0;32m    763\u001b[0m \u001b[1;33m\u001b[0m\u001b[0m\n\u001b[1;32m--> 764\u001b[1;33m         \u001b[0mself\u001b[0m\u001b[1;33m.\u001b[0m\u001b[0m_make_engine\u001b[0m\u001b[1;33m(\u001b[0m\u001b[0mself\u001b[0m\u001b[1;33m.\u001b[0m\u001b[0mengine\u001b[0m\u001b[1;33m)\u001b[0m\u001b[1;33m\u001b[0m\u001b[0m\n\u001b[0m\u001b[0;32m    765\u001b[0m \u001b[1;33m\u001b[0m\u001b[0m\n\u001b[0;32m    766\u001b[0m     \u001b[1;32mdef\u001b[0m \u001b[0mclose\u001b[0m\u001b[1;33m(\u001b[0m\u001b[0mself\u001b[0m\u001b[1;33m)\u001b[0m\u001b[1;33m:\u001b[0m\u001b[1;33m\u001b[0m\u001b[0m\n",
      "\u001b[1;32mC:\\Users\\m1webste\\Anaconda2\\lib\\site-packages\\pandas\\io\\parsers.pyc\u001b[0m in \u001b[0;36m_make_engine\u001b[1;34m(self, engine)\u001b[0m\n\u001b[0;32m    983\u001b[0m     \u001b[1;32mdef\u001b[0m \u001b[0m_make_engine\u001b[0m\u001b[1;33m(\u001b[0m\u001b[0mself\u001b[0m\u001b[1;33m,\u001b[0m \u001b[0mengine\u001b[0m\u001b[1;33m=\u001b[0m\u001b[1;34m'c'\u001b[0m\u001b[1;33m)\u001b[0m\u001b[1;33m:\u001b[0m\u001b[1;33m\u001b[0m\u001b[0m\n\u001b[0;32m    984\u001b[0m         \u001b[1;32mif\u001b[0m \u001b[0mengine\u001b[0m \u001b[1;33m==\u001b[0m \u001b[1;34m'c'\u001b[0m\u001b[1;33m:\u001b[0m\u001b[1;33m\u001b[0m\u001b[0m\n\u001b[1;32m--> 985\u001b[1;33m             \u001b[0mself\u001b[0m\u001b[1;33m.\u001b[0m\u001b[0m_engine\u001b[0m \u001b[1;33m=\u001b[0m \u001b[0mCParserWrapper\u001b[0m\u001b[1;33m(\u001b[0m\u001b[0mself\u001b[0m\u001b[1;33m.\u001b[0m\u001b[0mf\u001b[0m\u001b[1;33m,\u001b[0m \u001b[1;33m**\u001b[0m\u001b[0mself\u001b[0m\u001b[1;33m.\u001b[0m\u001b[0moptions\u001b[0m\u001b[1;33m)\u001b[0m\u001b[1;33m\u001b[0m\u001b[0m\n\u001b[0m\u001b[0;32m    986\u001b[0m         \u001b[1;32melse\u001b[0m\u001b[1;33m:\u001b[0m\u001b[1;33m\u001b[0m\u001b[0m\n\u001b[0;32m    987\u001b[0m             \u001b[1;32mif\u001b[0m \u001b[0mengine\u001b[0m \u001b[1;33m==\u001b[0m \u001b[1;34m'python'\u001b[0m\u001b[1;33m:\u001b[0m\u001b[1;33m\u001b[0m\u001b[0m\n",
      "\u001b[1;32mC:\\Users\\m1webste\\Anaconda2\\lib\\site-packages\\pandas\\io\\parsers.pyc\u001b[0m in \u001b[0;36m__init__\u001b[1;34m(self, src, **kwds)\u001b[0m\n\u001b[0;32m   1603\u001b[0m         \u001b[0mkwds\u001b[0m\u001b[1;33m[\u001b[0m\u001b[1;34m'allow_leading_cols'\u001b[0m\u001b[1;33m]\u001b[0m \u001b[1;33m=\u001b[0m \u001b[0mself\u001b[0m\u001b[1;33m.\u001b[0m\u001b[0mindex_col\u001b[0m \u001b[1;32mis\u001b[0m \u001b[1;32mnot\u001b[0m \u001b[0mFalse\u001b[0m\u001b[1;33m\u001b[0m\u001b[0m\n\u001b[0;32m   1604\u001b[0m \u001b[1;33m\u001b[0m\u001b[0m\n\u001b[1;32m-> 1605\u001b[1;33m         \u001b[0mself\u001b[0m\u001b[1;33m.\u001b[0m\u001b[0m_reader\u001b[0m \u001b[1;33m=\u001b[0m \u001b[0mparsers\u001b[0m\u001b[1;33m.\u001b[0m\u001b[0mTextReader\u001b[0m\u001b[1;33m(\u001b[0m\u001b[0msrc\u001b[0m\u001b[1;33m,\u001b[0m \u001b[1;33m**\u001b[0m\u001b[0mkwds\u001b[0m\u001b[1;33m)\u001b[0m\u001b[1;33m\u001b[0m\u001b[0m\n\u001b[0m\u001b[0;32m   1606\u001b[0m \u001b[1;33m\u001b[0m\u001b[0m\n\u001b[0;32m   1607\u001b[0m         \u001b[1;31m# XXX\u001b[0m\u001b[1;33m\u001b[0m\u001b[1;33m\u001b[0m\u001b[0m\n",
      "\u001b[1;32mpandas/_libs/parsers.pyx\u001b[0m in \u001b[0;36mpandas._libs.parsers.TextReader.__cinit__ (pandas\\_libs\\parsers.c:4209)\u001b[1;34m()\u001b[0m\n",
      "\u001b[1;32mpandas/_libs/parsers.pyx\u001b[0m in \u001b[0;36mpandas._libs.parsers.TextReader._setup_parser_source (pandas\\_libs\\parsers.c:8873)\u001b[1;34m()\u001b[0m\n",
      "\u001b[1;31mIOError\u001b[0m: File C does not exist"
     ]
    }
   ],
   "source": [
    "if (drop_down.value == 'Upstream Regulator Analysis'): \n",
    "    ura = Upstream.Upstream(gene_type = gene_symbol_widget.value, species = species_widget.value)\n",
    "    \n",
    "elif (drop_down.value == 'Heat Propagation and Clustering'): \n",
    "    heat = Heat.Heat(gene_type = gene_symbol_widget.value, species = species_widget.value) \n",
    "    \n",
    "else: \n",
    "    if u'' in [box.value for box in controls_widget_array]: print 'One of your pathways is blank'\n",
    "    gsea_prepper = PrepGsea.PrepGsea(gmt_file = controls_widget_array[0].value,\n",
    "                        expression_file = controls_widget_array[1].value,\n",
    "                        meta_file = controls_widget_array[2].value,\n",
    "                        output_dir = controls_widget_array[3].value)\n",
    "    "
   ]
  },
  {
   "cell_type": "code",
   "execution_count": null,
   "metadata": {
    "collapsed": true
   },
   "outputs": [],
   "source": []
  }
 ],
 "metadata": {
  "kernelspec": {
   "display_name": "Python 2",
   "language": "python",
   "name": "python2"
  },
  "language_info": {
   "codemirror_mode": {
    "name": "ipython",
    "version": 2
   },
   "file_extension": ".py",
   "mimetype": "text/x-python",
   "name": "python",
   "nbconvert_exporter": "python",
   "pygments_lexer": "ipython2",
   "version": "2.7.14"
  }
 },
 "nbformat": 4,
 "nbformat_minor": 2
}
