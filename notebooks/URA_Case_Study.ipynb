{
 "cells": [
  {
   "cell_type": "markdown",
   "metadata": {},
   "source": [
    "# Upstream Regulator Analysis Package Case Study\n",
    "\n",
    "----------------------\n",
    "\n",
    "Author: Mikayla Webster (m1webste@ucsd.edu)\n",
    "\n",
    "Date: 8th November, 2017\n",
    "\n",
    "----------------------\n",
    "\n",
    "<a id='toc'></a>\n",
    "## Table of Contents\n",
    "1. [Import packages](#import)\n",
    "2. [Create Graph](#graph)\n",
    "3. [Background](#background)\n",
    "    1. [Transcription Factors](#tf)\n",
    "    2. [Background Network](#bn)\n",
    "    3. [Differencially Expressed Genes](#deg)\n",
    "3. [Stat Analysis](#stat)\n",
    "    1. [P-value](#pvalue)\n",
    "    2. [Z-score](#zscore)"
   ]
  },
  {
   "cell_type": "markdown",
   "metadata": {},
   "source": [
    "## Import packages\n",
    "<a id='import'></a>"
   ]
  },
  {
   "cell_type": "code",
   "execution_count": 8,
   "metadata": {},
   "outputs": [
    {
     "data": {
      "text/plain": [
       "<module 'stat_analysis' from 'upstream_regulator_analysis_project/ura\\stat_analysis.py'>"
      ]
     },
     "execution_count": 8,
     "metadata": {},
     "output_type": "execute_result"
    }
   ],
   "source": [
    "import sys\n",
    "code_path = 'upstream_regulator_analysis_project/ura'\n",
    "sys.path.append(code_path)\n",
    "import create_graph\n",
    "import stat_analysis\n",
    "reload(create_graph)\n",
    "reload(stat_analysis)"
   ]
  },
  {
   "cell_type": "markdown",
   "metadata": {},
   "source": [
    "## Background\n",
    "<a id='background'></a>"
   ]
  },
  {
   "cell_type": "markdown",
   "metadata": {},
   "source": [
    "The inspiration for these modules comes from [Ingenuity](http://pages.ingenuity.com/rs/ingenuity/images/0812%20upstream_regulator_analysis_whitepaper.pdf)."
   ]
  },
  {
   "cell_type": "markdown",
   "metadata": {},
   "source": [
    "## Create Graph ##\n",
    "<a id='graph'></a>"
   ]
  },
  {
   "cell_type": "markdown",
   "metadata": {},
   "source": [
    "### Transcription Factors\n",
    "<a id='tf'></a>\n",
    "\n",
    "Our create_graph module prepares 3 databases to use in our analysis: a transcription factor interaction network, a background network, and a differencially expressed genes database. Our transcription factor data comes from two sources: [slowkow](https://github.com/slowkow/tftargets) and [jaspar](http://jaspar.genereg.net/). Slowkow is a compilation of 6 smaller databases: TRED, ITFP, ENCODE, Neph2012, TRRUST, Marbach2016. Information about these specific databases, including links to their sources, is available through the slowkow github page. Some basic information on these databases is as follows:\n",
    "- Size of Jaspar Database: 2049\n",
    "- Size of Slowkow Database: 2705\n",
    "- Size of TRED: 133\n",
    "- Size of ITFP: 1974\n",
    "- Size of ENCODE: 157\n",
    "- Size of Neph2012: 536\n",
    "- Size of TRRUST: 748\n",
    "- Size of Marbach2016: 643 \n",
    "\n",
    "Our trascription factor list contains 3983 unique entries."
   ]
  },
  {
   "cell_type": "code",
   "execution_count": 2,
   "metadata": {},
   "outputs": [
    {
     "data": {
      "text/plain": [
       "3984"
      ]
     },
     "execution_count": 2,
     "metadata": {},
     "output_type": "execute_result"
    }
   ],
   "source": [
    "TF_list = create_graph.create_TF_list() # loads slowkow databases\n",
    "len(TF_list)"
   ]
  },
  {
   "cell_type": "markdown",
   "metadata": {},
   "source": [
    "### Background Network\n",
    "<a id='bn'></a>\n",
    "\n",
    "Our background network comes from a subset of the [STRING](https://string-db.org/) database, and contains 40,216 interactions. We use our list of transcription factors (TF_list) to extract only relevant information from the STRING database. Namely, we pull out edge information from STRING only for our transcription factors (the entries in TF_list) and use those edges to create a graph. After this filtering process, our graph (labeled DG) has 687 nodes and 1505 edges."
   ]
  },
  {
   "cell_type": "code",
   "execution_count": 3,
   "metadata": {},
   "outputs": [
    {
     "name": "stdout",
     "output_type": "stream",
     "text": [
      "Total number of interactions in STRING before filtering: 40216\n",
      "Number of unique nodes after filtering: 687\n",
      "Number of edges after filtering: 1505\n"
     ]
    }
   ],
   "source": [
    "STRING_DF, db_edges, db_sign_att = create_graph.load_and_process_STRING()\n",
    "print 'Total number of interactions in STRING before filtering: ' + str(len(STRING_DF))\n",
    "edge_list_filtered, sign_att_list_filtered = create_graph.filter_background(db_edges, db_sign_att, TF_list)\n",
    "DG = create_graph.make_digraph(db_edges, db_sign_att, TF_list)\n",
    "print 'Number of unique nodes after filtering: ' + str(len(DG.nodes()))\n",
    "print 'Number of edges after filtering: ' + str(len(DG.edges()))"
   ]
  },
  {
   "cell_type": "markdown",
   "metadata": {},
   "source": [
    "### Differencially Expressed Genes\n",
    "<a id='deg'></a>\n",
    "\n",
    "Our last database comes from a list of differencially exressed genes (DEG) found in an experiement. These are the genes we wish to analyze using our stat_analysis module. The TF graph created previously serves as our point of referece for these DEG's. Our DEG list (DEG_list) contains 2782 genes. "
   ]
  },
  {
   "cell_type": "code",
   "execution_count": 4,
   "metadata": {},
   "outputs": [
    {
     "data": {
      "text/plain": [
       "2782"
      ]
     },
     "execution_count": 4,
     "metadata": {},
     "output_type": "execute_result"
    }
   ],
   "source": [
    "DEG_list = create_graph.add_updown_from_DEG(DG)\n",
    "len(DEG_list)"
   ]
  },
  {
   "cell_type": "markdown",
   "metadata": {},
   "source": [
    "## Stat Analysis"
   ]
  },
  {
   "cell_type": "markdown",
   "metadata": {},
   "source": [
    "Our stat_analysis package can help identify TF's that are statistically significant to our set of DEG's."
   ]
  },
  {
   "cell_type": "markdown",
   "metadata": {},
   "source": [
    "### P-value"
   ]
  },
  {
   "cell_type": "markdown",
   "metadata": {},
   "source": [
    "Our p-value function calculates the log of the p-value for every TF in the graph using [scipy.stats.hypergeom.logsf](https://docs.scipy.org/doc/scipy-0.19.1/reference/generated/scipy.stats.hypergeom.html). These values help us determine which TF's are actually associated with our DEG's. If a TF is given a high value (because we are working with logs, not straight p-values), then it is likely that there is correlation between that TF and its DEG targets. Therefore, it is likely that TF is responsible for some of our observed gene expression. Note that if a TF is given a value of zero, that means none of the TF's targets were DEG's. "
   ]
  },
  {
   "cell_type": "code",
   "execution_count": 5,
   "metadata": {
    "scrolled": true
   },
   "outputs": [
    {
     "data": {
      "text/plain": [
       "{u'ABD-B': 0,\n",
       " u'ACHI': 0,\n",
       " u'AKT1': 0,\n",
       " u'ANTP': 0,\n",
       " u'ARR1': 0,\n",
       " u'ATF6': 0,\n",
       " u'BAP': 0,\n",
       " u'BUB3': 0,\n",
       " u'CDC16': 3.144198753053967,\n",
       " u'CDC27': 2.0214533281294007,\n",
       " u'CDC6': 3.9095518809588667,\n",
       " u'CG11294': 0,\n",
       " u'CNOT4': 0,\n",
       " u'DFD': 0,\n",
       " u'DL': 5.3485051248380939,\n",
       " u'ECD': 0,\n",
       " u'EVE': 0,\n",
       " u'FKH': 0,\n",
       " u'GATA': 0,\n",
       " u'GCM': 0,\n",
       " u'GSTO1': 0,\n",
       " u'H': 0,\n",
       " u'HBN': 0,\n",
       " u'HDAC3': 0,\n",
       " u'HDAC6': 0,\n",
       " u'HKB': 0,\n",
       " u'ILK': 0,\n",
       " u'ING3': 0,\n",
       " u'INR': 0,\n",
       " u'INTS4': 5.6306387511574956,\n",
       " u'INTS6': 6.0258370197536495,\n",
       " u'INTS8': 6.5263844837146863,\n",
       " u'KLHL18': 0,\n",
       " u'KR': 0,\n",
       " u'LIG3': 0,\n",
       " u'MAD': 0,\n",
       " u'MARS': 0,\n",
       " u'MAX': 0,\n",
       " u'MCM2': 3.9716418433383445,\n",
       " u'MCM3': 5.3485051248380939,\n",
       " u'MCM5': 4.0535277071393567,\n",
       " u'MCM6': 6.8878747785318186,\n",
       " u'MCM7': 3.7766142159274736,\n",
       " u'MED1': 3.5382108565536048,\n",
       " u'MED15': 4.9811500142924485,\n",
       " u'MRPL23': 0,\n",
       " u'MRPL24': 11.39048554520299,\n",
       " u'MRPL44': 0,\n",
       " u'MSH6': 0,\n",
       " u'MYB': 0,\n",
       " u'NF1': 0,\n",
       " u'NUB': 0,\n",
       " u'NUP133': 0,\n",
       " u'NUP50': 0,\n",
       " u'ONECUT': 0,\n",
       " u'OPTIX': 0,\n",
       " u'PAN': 0,\n",
       " u'PAX': 9.5111898014709304,\n",
       " u'PNR': 0,\n",
       " u'PTEN': 4.3825187727183872,\n",
       " u'PXN': 0,\n",
       " u'RAE1': 0,\n",
       " u'RBBP5': 0,\n",
       " u'REL': 4.7859022137824159,\n",
       " u'REPO': 0,\n",
       " u'RFC4': 2.5062489040717684,\n",
       " u'RNPS1': 2.9780655427223324,\n",
       " u'RPL23A': 5.1249880701959585,\n",
       " u'RPL8': 4.9704305599847363,\n",
       " u'RPS23': 4.4500688509817881,\n",
       " u'RPS24': 6.1873697276885418,\n",
       " u'RPS3': 6.3039359844690406,\n",
       " u'SCR': 0,\n",
       " u'SF1': 0,\n",
       " u'SIN3A': 0,\n",
       " u'SLBO': 7.1814092062737567,\n",
       " u'SNA': 0,\n",
       " u'SPEN': 0,\n",
       " u'STAT92E': 0,\n",
       " u'SU(H)': 0,\n",
       " u'SU(HW)': 0,\n",
       " u'SVP': 0,\n",
       " u'TAF1': 4.1259115459560416,\n",
       " u'TAF11': 5.9385052959865554,\n",
       " u'TAF12': 2.195516323205017,\n",
       " u'TAF2': 4.0535277071393567,\n",
       " u'TAF4': 2.5652583509075648,\n",
       " u'TAF5': 4.1259115459560416,\n",
       " u'TAF6': 2.8277732133461364,\n",
       " u'TAF7': 0,\n",
       " u'TAZ': 0,\n",
       " u'TBP': 0,\n",
       " u'TIN': 0,\n",
       " u'TLL': 0,\n",
       " u'TOPORS': 0,\n",
       " u'TRL': 0,\n",
       " u'TSG101': 0,\n",
       " u'TTK': 0,\n",
       " u'UTX': 0,\n",
       " u'VHL': 0,\n",
       " u'Z': 7.2092422239400182,\n",
       " u'ZEN2': 0}"
      ]
     },
     "execution_count": 5,
     "metadata": {},
     "output_type": "execute_result"
    }
   ],
   "source": [
    "stat_analysis.tr_pvalues(DG, db_edges, DEG_list)"
   ]
  },
  {
   "cell_type": "markdown",
   "metadata": {},
   "source": [
    "### Z-score"
   ]
  },
  {
   "cell_type": "markdown",
   "metadata": {},
   "source": [
    "The goal of our z-score function is to predict the activation states of the TF's. We observe how a TF relates to each of its targets to make our prediction. We compare each targets' observed gene regulation (either up or down) and each TF-target interation (whether it is activating or inhibiting) to conclude whether a TF is activating or inhibiting. A positive value indicates activating while a negative value indicates inhibiting. A value of zero means that we did not have enough information about the target or TF-target interaction to make the prediction. "
   ]
  },
  {
   "cell_type": "code",
   "execution_count": 12,
   "metadata": {
    "scrolled": true
   },
   "outputs": [
    {
     "data": {
      "text/plain": [
       "{u'ABD-B': 0,\n",
       " u'ACHI': 0,\n",
       " u'AKT1': 0,\n",
       " u'ANTP': 0,\n",
       " u'ARR1': 0,\n",
       " u'ATF6': 0,\n",
       " u'BAP': 0,\n",
       " u'BUB3': 0,\n",
       " u'CDC16': -1.0,\n",
       " u'CDC27': -1.0,\n",
       " u'CDC6': -1.0,\n",
       " u'CG11294': 0,\n",
       " u'CNOT4': 0,\n",
       " u'DFD': 0,\n",
       " u'DL': 0.0,\n",
       " u'ECD': 0,\n",
       " u'EVE': 0,\n",
       " u'FKH': 0,\n",
       " u'GATA': 0,\n",
       " u'GCM': 0,\n",
       " u'GSTO1': 0,\n",
       " u'H': 0,\n",
       " u'HBN': 0,\n",
       " u'HDAC3': 0,\n",
       " u'HDAC6': 0,\n",
       " u'HKB': 0,\n",
       " u'ILK': 0,\n",
       " u'ING3': 0,\n",
       " u'INR': 0,\n",
       " u'INTS4': -1.0,\n",
       " u'INTS6': -1.0,\n",
       " u'INTS8': -1.0,\n",
       " u'KLHL18': 0,\n",
       " u'KR': 0,\n",
       " u'LIG3': 0,\n",
       " u'MAD': 0,\n",
       " u'MARS': 0,\n",
       " u'MAX': 0,\n",
       " u'MCM2': -1.414213562373095,\n",
       " u'MCM3': -1.414213562373095,\n",
       " u'MCM5': -1.0,\n",
       " u'MCM6': -0.5773502691896258,\n",
       " u'MCM7': -1.0,\n",
       " u'MED1': -1.0,\n",
       " u'MED15': -1.414213562373095,\n",
       " u'MRPL23': 0,\n",
       " u'MRPL24': -1.7320508075688774,\n",
       " u'MRPL44': 0,\n",
       " u'MSH6': 0,\n",
       " u'MYB': 0,\n",
       " u'NF1': 0,\n",
       " u'NUB': 0,\n",
       " u'NUP133': 0,\n",
       " u'NUP50': 0,\n",
       " u'ONECUT': 0,\n",
       " u'OPTIX': 0,\n",
       " u'PAN': 0,\n",
       " u'PAX': 0.0,\n",
       " u'PNR': 0,\n",
       " u'PTEN': -1.0,\n",
       " u'PXN': 0,\n",
       " u'RAE1': 0,\n",
       " u'RBBP5': 0,\n",
       " u'REL': -1.0,\n",
       " u'REPO': 0,\n",
       " u'RFC4': -1.0,\n",
       " u'RNPS1': -1.0,\n",
       " u'RPL23A': 1.3416407864998738,\n",
       " u'RPL8': 1.6329931618554523,\n",
       " u'RPS23': 2.23606797749979,\n",
       " u'RPS24': 1.6329931618554523,\n",
       " u'RPS3': 1.889822365046136,\n",
       " u'SCR': 0,\n",
       " u'SF1': 0,\n",
       " u'SIN3A': 0,\n",
       " u'SLBO': 0.0,\n",
       " u'SNA': 0,\n",
       " u'SPEN': 0,\n",
       " u'STAT92E': 0,\n",
       " u'SU(H)': 0,\n",
       " u'SU(HW)': 0,\n",
       " u'SVP': 0,\n",
       " u'TAF1': 0.0,\n",
       " u'TAF11': 0.0,\n",
       " u'TAF12': 1.0,\n",
       " u'TAF2': 1.0,\n",
       " u'TAF4': -1.0,\n",
       " u'TAF5': 0.0,\n",
       " u'TAF6': 1.0,\n",
       " u'TAF7': 0,\n",
       " u'TAZ': 0,\n",
       " u'TBP': 0,\n",
       " u'TIN': 0,\n",
       " u'TLL': 0,\n",
       " u'TOPORS': 0,\n",
       " u'TRL': 0,\n",
       " u'TSG101': 0,\n",
       " u'TTK': 0,\n",
       " u'UTX': 0,\n",
       " u'VHL': 0,\n",
       " u'Z': -1.0,\n",
       " u'ZEN2': 0}"
      ]
     },
     "execution_count": 12,
     "metadata": {},
     "output_type": "execute_result"
    }
   ],
   "source": [
    "not_biased_zcsores = stat_analysis.tr_zscore(DG, DEG_list)\n",
    "not_biased_zcsores"
   ]
  },
  {
   "cell_type": "code",
   "execution_count": 13,
   "metadata": {},
   "outputs": [
    {
     "data": {
      "text/plain": [
       "{u'ABD-B': 0,\n",
       " u'ACHI': 0,\n",
       " u'AKT1': 0,\n",
       " u'ANTP': 0,\n",
       " u'ARR1': 0,\n",
       " u'ATF6': 0,\n",
       " u'BAP': 0,\n",
       " u'BUB3': 0,\n",
       " u'CDC16': -1.0,\n",
       " u'CDC27': -1.0,\n",
       " u'CDC6': -1.0,\n",
       " u'CG11294': 0,\n",
       " u'CNOT4': 0,\n",
       " u'DFD': 0,\n",
       " u'DL': 0.0,\n",
       " u'ECD': 0,\n",
       " u'EVE': 0,\n",
       " u'FKH': 0,\n",
       " u'GATA': 0,\n",
       " u'GCM': 0,\n",
       " u'GSTO1': 0,\n",
       " u'H': 0,\n",
       " u'HBN': 0,\n",
       " u'HDAC3': 0,\n",
       " u'HDAC6': 0,\n",
       " u'HKB': 0,\n",
       " u'ILK': 0,\n",
       " u'ING3': 0,\n",
       " u'INR': 0,\n",
       " u'INTS4': -1.0,\n",
       " u'INTS6': -1.0,\n",
       " u'INTS8': -1.0,\n",
       " u'KLHL18': 0,\n",
       " u'KR': 0,\n",
       " u'LIG3': 0,\n",
       " u'MAD': 0,\n",
       " u'MARS': 0,\n",
       " u'MAX': 0,\n",
       " u'MCM2': -1.0,\n",
       " u'MCM3': -1.0,\n",
       " u'MCM5': -1.0,\n",
       " u'MCM6': -0.3333333333333333,\n",
       " u'MCM7': -1.0,\n",
       " u'MED1': -1.0,\n",
       " u'MED15': -1.0,\n",
       " u'MRPL23': 0,\n",
       " u'MRPL24': -1.0,\n",
       " u'MRPL44': 0,\n",
       " u'MSH6': 0,\n",
       " u'MYB': 0,\n",
       " u'NF1': 0,\n",
       " u'NUB': 0,\n",
       " u'NUP133': 0,\n",
       " u'NUP50': 0,\n",
       " u'ONECUT': 0,\n",
       " u'OPTIX': 0,\n",
       " u'PAN': 0,\n",
       " u'PAX': -0.0,\n",
       " u'PNR': 0,\n",
       " u'PTEN': -1.0,\n",
       " u'PXN': 0,\n",
       " u'RAE1': 0,\n",
       " u'RBBP5': 0,\n",
       " u'REL': -1.0,\n",
       " u'REPO': 0,\n",
       " u'RFC4': -1.0,\n",
       " u'RNPS1': -1.0,\n",
       " u'RPL23A': 0.6,\n",
       " u'RPL8': 0.2222222222222222,\n",
       " u'RPS23': 1.0,\n",
       " u'RPS24': 0.6666666666666666,\n",
       " u'RPS3': 0.30612244897959184,\n",
       " u'SCR': 0,\n",
       " u'SF1': 0,\n",
       " u'SIN3A': 0,\n",
       " u'SLBO': -0.0,\n",
       " u'SNA': 0,\n",
       " u'SPEN': 0,\n",
       " u'STAT92E': 0,\n",
       " u'SU(H)': 0,\n",
       " u'SU(HW)': 0,\n",
       " u'SVP': 0,\n",
       " u'TAF1': 0.0,\n",
       " u'TAF11': 0.0,\n",
       " u'TAF12': 1.0,\n",
       " u'TAF2': 1.0,\n",
       " u'TAF4': -1.0,\n",
       " u'TAF5': 0.0,\n",
       " u'TAF6': 1.0,\n",
       " u'TAF7': 0,\n",
       " u'TAZ': 0,\n",
       " u'TBP': 0,\n",
       " u'TIN': 0,\n",
       " u'TLL': 0,\n",
       " u'TOPORS': 0,\n",
       " u'TRL': 0,\n",
       " u'TSG101': 0,\n",
       " u'TTK': 0,\n",
       " u'UTX': 0,\n",
       " u'VHL': 0,\n",
       " u'Z': -1.0,\n",
       " u'ZEN2': 0}"
      ]
     },
     "execution_count": 13,
     "metadata": {},
     "output_type": "execute_result"
    }
   ],
   "source": [
    "TR_to_bias = stat_analysis.calculate_bias(DG, DEG_list)\n",
    "TR_to_bias"
   ]
  },
  {
   "cell_type": "code",
   "execution_count": 14,
   "metadata": {},
   "outputs": [
    {
     "data": {
      "text/plain": [
       "{u'ABD-B': 0,\n",
       " u'ACHI': 0,\n",
       " u'AKT1': 0,\n",
       " u'ANTP': 0,\n",
       " u'ARR1': 0,\n",
       " u'ATF6': 0,\n",
       " u'BAP': 0,\n",
       " u'BUB3': 0,\n",
       " u'CDC16': 0.0,\n",
       " u'CDC27': 0.0,\n",
       " u'CDC6': 0.0,\n",
       " u'CG11294': 0,\n",
       " u'CNOT4': 0,\n",
       " u'DFD': 0,\n",
       " u'DL': -1.0,\n",
       " u'ECD': 0,\n",
       " u'EVE': 0,\n",
       " u'FKH': 0,\n",
       " u'GATA': 0,\n",
       " u'GCM': 0,\n",
       " u'GSTO1': 0,\n",
       " u'H': 0,\n",
       " u'HBN': 0,\n",
       " u'HDAC3': 0,\n",
       " u'HDAC6': 0,\n",
       " u'HKB': 0,\n",
       " u'ILK': 0,\n",
       " u'ING3': 0,\n",
       " u'INR': 0,\n",
       " u'INTS4': 0.0,\n",
       " u'INTS6': 0.0,\n",
       " u'INTS8': 0.0,\n",
       " u'KLHL18': 0,\n",
       " u'KR': 0,\n",
       " u'LIG3': 0,\n",
       " u'MAD': 0,\n",
       " u'MARS': 0,\n",
       " u'MAX': 0,\n",
       " u'MCM2': 0.0,\n",
       " u'MCM3': 0.0,\n",
       " u'MCM5': 0.0,\n",
       " u'MCM6': -2.2204460492503131e-16,\n",
       " u'MCM7': 0.0,\n",
       " u'MED1': 0.0,\n",
       " u'MED15': 0.0,\n",
       " u'MRPL23': 0,\n",
       " u'MRPL24': 0.0,\n",
       " u'MRPL44': 0,\n",
       " u'MSH6': 0,\n",
       " u'MYB': 0,\n",
       " u'NF1': 0,\n",
       " u'NUB': 0,\n",
       " u'NUP133': 0,\n",
       " u'NUP50': 0,\n",
       " u'ONECUT': 0,\n",
       " u'OPTIX': 0,\n",
       " u'PAN': 0,\n",
       " u'PAX': 0.0,\n",
       " u'PNR': 0,\n",
       " u'PTEN': 0.0,\n",
       " u'PXN': 0,\n",
       " u'RAE1': 0,\n",
       " u'RBBP5': 0,\n",
       " u'REL': 0.0,\n",
       " u'REPO': 0,\n",
       " u'RFC4': 0.0,\n",
       " u'RNPS1': 0.0,\n",
       " u'RPL23A': 2.7158479847794479,\n",
       " u'RPL8': 9.3822741353567842,\n",
       " u'RPS23': 0.0,\n",
       " u'RPS24': 2.9937022354948404,\n",
       " u'RPS3': 4.8952263445894966,\n",
       " u'SCR': 0,\n",
       " u'SF1': 0,\n",
       " u'SIN3A': 0,\n",
       " u'SLBO': 0.31783724519577983,\n",
       " u'SNA': 0,\n",
       " u'SPEN': 0,\n",
       " u'STAT92E': 0,\n",
       " u'SU(H)': 0,\n",
       " u'SU(HW)': 0,\n",
       " u'SVP': 0,\n",
       " u'TAF1': 2.0,\n",
       " u'TAF11': 0.31783724519577983,\n",
       " u'TAF12': 0.0,\n",
       " u'TAF2': 0.0,\n",
       " u'TAF4': 0.0,\n",
       " u'TAF5': 1.0352761804100798,\n",
       " u'TAF6': 0.0,\n",
       " u'TAF7': 0,\n",
       " u'TAZ': 0,\n",
       " u'TBP': 0,\n",
       " u'TIN': 0,\n",
       " u'TLL': 0,\n",
       " u'TOPORS': 0,\n",
       " u'TRL': 0,\n",
       " u'TSG101': 0,\n",
       " u'TTK': 0,\n",
       " u'UTX': 0,\n",
       " u'VHL': 0,\n",
       " u'Z': 0.0,\n",
       " u'ZEN2': 0}"
      ]
     },
     "execution_count": 14,
     "metadata": {},
     "output_type": "execute_result"
    }
   ],
   "source": [
    "bias_zscores = stat_analysis.bias_corrected_tr_zscore(DG, DEG_list, TR_to_bias)\n",
    "bias_zscores"
   ]
  },
  {
   "cell_type": "code",
   "execution_count": 15,
   "metadata": {},
   "outputs": [
    {
     "data": {
      "text/plain": [
       "[(0, 0, 0),\n",
       " (0, 0, 0),\n",
       " (0, 0, 0),\n",
       " (0, 0, 0),\n",
       " (0, 0, 0),\n",
       " (0, 0, 0),\n",
       " (0, 0, 0),\n",
       " (0, 0, 0),\n",
       " (-0.0, 0.0, 0.0),\n",
       " (0, 0, 0),\n",
       " (0, 0, 0),\n",
       " (0, 0, 0),\n",
       " (0, 0, 0),\n",
       " (0, 0, 0),\n",
       " (0, 0, 0),\n",
       " (0, 0, 0),\n",
       " (0, 0, 0),\n",
       " (0, 0, 0),\n",
       " (0, 0, 0),\n",
       " (0, 0, 0),\n",
       " (0, 0, 0),\n",
       " (0, 0, 0),\n",
       " (0, 0, 0),\n",
       " (0, 0, 0),\n",
       " (-1.0, -1.0, 0.0),\n",
       " (0, 0, 0),\n",
       " (0, 0, 0),\n",
       " (0, 0, 0),\n",
       " (0, 0, 0),\n",
       " (-1.0, -1.7320508075688774, 0.0),\n",
       " (0.2222222222222222, 1.6329931618554523, 9.3822741353567842),\n",
       " (0, 0, 0),\n",
       " (-1.0, -1.0, 0.0),\n",
       " (-0.0, 0.0, 0.31783724519577983),\n",
       " (0, 0, 0),\n",
       " (-1.0, -1.0, 0.0),\n",
       " (0, 0, 0),\n",
       " (0, 0, 0),\n",
       " (0, 0, 0),\n",
       " (0, 0, 0),\n",
       " (-1.0, -1.0, 0.0),\n",
       " (0, 0, 0),\n",
       " (0, 0, 0),\n",
       " (0, 0, 0),\n",
       " (0, 0, 0),\n",
       " (1.0, 1.0, 0.0),\n",
       " (0.0, 0.0, 1.0352761804100798),\n",
       " (-1.0, -1.0, 0.0),\n",
       " (1.0, 1.0, 0.0),\n",
       " (0.0, 0.0, 2.0),\n",
       " (-1.0, -1.0, 0.0),\n",
       " (0, 0, 0),\n",
       " (0, 0, 0),\n",
       " (0, 0, 0),\n",
       " (0, 0, 0),\n",
       " (0, 0, 0),\n",
       " (-1.0, -1.0, 0.0),\n",
       " (0, 0, 0),\n",
       " (0, 0, 0),\n",
       " (1.0, 1.0, 0.0),\n",
       " (0.0, 0.0, 0.31783724519577983),\n",
       " (0.30612244897959184, 1.889822365046136, 4.8952263445894966),\n",
       " (-1.0, -1.0, 0.0),\n",
       " (-1.0, -1.0, 0.0),\n",
       " (0, 0, 0),\n",
       " (0, 0, 0),\n",
       " (0, 0, 0),\n",
       " (0, 0, 0),\n",
       " (0.6666666666666666, 1.6329931618554523, 2.9937022354948404),\n",
       " (1.0, 2.23606797749979, 0.0),\n",
       " (0.6, 1.3416407864998738, 2.7158479847794479),\n",
       " (0, 0, 0),\n",
       " (0, 0, 0),\n",
       " (0, 0, 0),\n",
       " (0, 0, 0),\n",
       " (-1.0, -1.0, 0.0),\n",
       " (0, 0, 0),\n",
       " (0, 0, 0),\n",
       " (0, 0, 0),\n",
       " (0, 0, 0),\n",
       " (0.0, 0.0, -1.0),\n",
       " (0, 0, 0),\n",
       " (0, 0, 0),\n",
       " (0, 0, 0),\n",
       " (-1.0, -1.414213562373095, 0.0),\n",
       " (0, 0, 0),\n",
       " (0, 0, 0),\n",
       " (-1.0, -1.0, 0.0),\n",
       " (-1.0, -1.0, 0.0),\n",
       " (-1.0, -1.0, 0.0),\n",
       " (0, 0, 0),\n",
       " (-1.0, -1.0, 0.0),\n",
       " (-0.3333333333333333, -0.5773502691896258, -2.2204460492503131e-16),\n",
       " (-1.0, -1.0, 0.0),\n",
       " (-1.0, -1.414213562373095, 0.0),\n",
       " (-1.0, -1.414213562373095, 0.0),\n",
       " (0, 0, 0),\n",
       " (0, 0, 0),\n",
       " (0, 0, 0),\n",
       " (0, 0, 0),\n",
       " (0, 0, 0),\n",
       " (0, 0, 0)]"
      ]
     },
     "execution_count": 15,
     "metadata": {},
     "output_type": "execute_result"
    }
   ],
   "source": [
    "# comparison of unbiased z-score vs biased z-score calculation\n",
    "# each entry is of form (bias, unbiased z-score, biased z-score)\n",
    "zip(TR_to_bias.values(), not_biased_zcsores.values(), bias_zscores.values())"
   ]
  },
  {
   "cell_type": "code",
   "execution_count": null,
   "metadata": {
    "collapsed": true
   },
   "outputs": [],
   "source": []
  }
 ],
 "metadata": {
  "kernelspec": {
   "display_name": "Python 2",
   "language": "python",
   "name": "python2"
  },
  "language_info": {
   "codemirror_mode": {
    "name": "ipython",
    "version": 2
   },
   "file_extension": ".py",
   "mimetype": "text/x-python",
   "name": "python",
   "nbconvert_exporter": "python",
   "pygments_lexer": "ipython2",
   "version": "2.7.14"
  }
 },
 "nbformat": 4,
 "nbformat_minor": 1
}
