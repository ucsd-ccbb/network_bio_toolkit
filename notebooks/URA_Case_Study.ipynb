{
 "cells": [
  {
   "cell_type": "code",
   "execution_count": 133,
   "metadata": {},
   "outputs": [
    {
     "data": {
      "text/plain": [
       "<module 'stat_analysis' from '../ura\\stat_analysis.pyc'>"
      ]
     },
     "execution_count": 133,
     "metadata": {},
     "output_type": "execute_result"
    }
   ],
   "source": [
    "import sys\n",
    "import time\n",
    "import networkx as nx\n",
    "import pandas as pd\n",
    "code_path = '../ura'\n",
    "sys.path.append(code_path)\n",
    "import create_graph\n",
    "import stat_analysis\n",
    "reload(create_graph)\n",
    "reload(stat_analysis)"
   ]
  },
  {
   "cell_type": "code",
   "execution_count": 6,
   "metadata": {},
   "outputs": [
    {
     "data": {
      "text/plain": [
       "3983"
      ]
     },
     "execution_count": 6,
     "metadata": {},
     "output_type": "execute_result"
    }
   ],
   "source": [
    "TF_list = create_graph.create_TF_list(slowkow_bool=True,\n",
    "                    slowkow_files=['../slowkow_databases/TRED_TF.txt',\n",
    "                                   '../slowkow_databases/ITFP_TF.txt',\n",
    "                                   '../slowkow_databases/ENCODE_TF.txt',\n",
    "                                   '../slowkow_databases/Neph2012_TF.txt',\n",
    "                                   '../slowkow_databases/TRRUST_TF.txt',\n",
    "                                   '../slowkow_databases/Marbach2016_TF.txt'],\n",
    "                    slowkow_sep = '\\n',\n",
    "                    jaspar_bool=True,\n",
    "                    jaspar_file=\"../jaspar_genereg_matrix.txt\")\n",
    "len(TF_list)"
   ]
  },
  {
   "cell_type": "code",
   "execution_count": 132,
   "metadata": {},
   "outputs": [
    {
     "name": "stdout",
     "output_type": "stream",
     "text": [
      "querying 1-1000...done.\n",
      "querying 1001-2000...done.\n",
      "querying 2001-3000...done.\n",
      "querying 3001-4000...done.\n",
      "querying 4001-5000...done.\n",
      "querying 5001-6000...done.\n",
      "querying 6001-7000...done.\n",
      "querying 7001-7374...done.\n",
      "Finished.\n",
      "312 input query terms found no hit:\n",
      "\t[u'ENSP00000376684', u'ENSP00000289352', u'ENSP00000202788', u'ENSP00000373637', u'ENSP00000367802',\n",
      "Pass \"returnall=True\" to return complete lists of duplicate or missing query terms.\n"
     ]
    }
   ],
   "source": [
    "unfiltered_DG = create_graph.load_STRING_to_digraph(filename = \"../9606.protein.actions.v10.5.txt\", confidence_filter=400)\n",
    "DG = create_graph.filter_digraph(unfiltered_DG, TF_list)"
   ]
  },
  {
   "cell_type": "code",
   "execution_count": null,
   "metadata": {
    "collapsed": true
   },
   "outputs": [],
   "source": []
  },
  {
   "cell_type": "code",
   "execution_count": null,
   "metadata": {
    "collapsed": true
   },
   "outputs": [],
   "source": []
  },
  {
   "cell_type": "markdown",
   "metadata": {},
   "source": [
    "## HUVEC ##"
   ]
  },
  {
   "cell_type": "code",
   "execution_count": 162,
   "metadata": {
    "collapsed": true
   },
   "outputs": [],
   "source": [
    "filename_huvec = '../geo2r_GSE2639_huvec.txt'\n",
    "huvec_genes = ['TNF','IFNG','LBP', 'NFKB1', 'NFKB2', 'REL', 'RELA', 'RELB', 'PCBP3', 'PCBP2', 'PCBP1', 'PCBP4', 'NFKBIA']\n",
    "DEG_list_huvec, DEG_to_pvalue_huvec, DEG_to_updown_huvec = create_graph.create_DEG_list_GEO(filename_huvec, p_value_filter = 0.3)\n",
    "DG_huvec = create_graph.add_updown_from_DEG(DG, DEG_to_updown_huvec)"
   ]
  },
  {
   "cell_type": "code",
   "execution_count": 163,
   "metadata": {},
   "outputs": [
    {
     "name": "stdout",
     "output_type": "stream",
     "text": [
      "bias: 0.138907441954\n"
     ]
    }
   ],
   "source": [
    "not_biased_zscores_huvec = stat_analysis.tr_zscore(DG_huvec, DEG_list_huvec, auto_correct_bias = False, correct_for_bias = False, bias_filter = 0.25)\n",
    "biased_zscores_huvec = stat_analysis.tr_zscore(DG_huvec, DEG_list_huvec, auto_correct_bias = False, correct_for_bias = True, bias_filter = 0.25)\n",
    "print 'bias: ' + str(calculate_bias(DG_huvec))"
   ]
  },
  {
   "cell_type": "code",
   "execution_count": 164,
   "metadata": {},
   "outputs": [
    {
     "data": {
      "text/plain": [
       "CTF1      3.000000\n",
       "STAT4     2.645751\n",
       "STAT5A    2.529822\n",
       "HIF1A     2.236068\n",
       "GATA3     2.236068\n",
       "SPG7      2.236068\n",
       "IRF3      2.236068\n",
       "FOS       2.236068\n",
       "IRF9      2.236068\n",
       "STAT5B    2.121320\n",
       "FGF9      2.000000\n",
       "GATA2     2.000000\n",
       "XPO1      2.000000\n",
       "CCNA2     2.000000\n",
       "SHC1      2.000000\n",
       "SPI1      1.897367\n",
       "CTGF      1.889822\n",
       "SOS1      1.732051\n",
       "ID2       1.732051\n",
       "ZEB1      1.732051\n",
       "dtype: float64"
      ]
     },
     "execution_count": 164,
     "metadata": {},
     "output_type": "execute_result"
    }
   ],
   "source": [
    "stat_analysis.top_values(not_biased_zscores_huvec, activating = True, absolute_value = False, top = 20)"
   ]
  },
  {
   "cell_type": "code",
   "execution_count": 169,
   "metadata": {},
   "outputs": [
    {
     "name": "stdout",
     "output_type": "stream",
     "text": [
      "Total: 1356\n"
     ]
    },
    {
     "data": {
      "text/plain": [
       "NFKB2       24.0\n",
       "RELA        27.0\n",
       "NFKBIA      87.0\n",
       "NFKB1       93.0\n",
       "RELB       915.0\n",
       "PCBP4     1006.0\n",
       "PCBP2     1008.0\n",
       "PCBP1     1011.0\n",
       "REL       1311.0\n",
       "IFNG         NaN\n",
       "LBP          NaN\n",
       "PCBP3        NaN\n",
       "TNF          NaN\n",
       "dtype: float64"
      ]
     },
     "execution_count": 169,
     "metadata": {},
     "output_type": "execute_result"
    }
   ],
   "source": [
    "print 'Total: ' + str(len(not_biased_zscores_huvec))\n",
    "stat_analysis.rank(not_biased_zscores_huvec, huvec_genes, activating = True, absolute_value = False)"
   ]
  },
  {
   "cell_type": "code",
   "execution_count": 166,
   "metadata": {},
   "outputs": [
    {
     "data": {
      "text/plain": [
       "CTF1      7.749833\n",
       "FOS       7.221851\n",
       "STAT5A    6.610926\n",
       "STAT4     6.027648\n",
       "RELA      5.249499\n",
       "STAT5B    4.888740\n",
       "SPI1      4.610926\n",
       "IRF1      4.333111\n",
       "GATA3     4.305463\n",
       "HIF1A     4.305463\n",
       "IRF9      4.305463\n",
       "SPG7      4.305463\n",
       "IRF3      4.305463\n",
       "CTGF      4.027648\n",
       "JUN       3.499666\n",
       "NFATC1    3.472018\n",
       "XPO1      3.444370\n",
       "CCNA2     3.444370\n",
       "FGF9      3.444370\n",
       "SHC1      3.444370\n",
       "dtype: float64"
      ]
     },
     "execution_count": 166,
     "metadata": {},
     "output_type": "execute_result"
    }
   ],
   "source": [
    "stat_analysis.top_values(biased_zscores_huvec, activating = True, absolute_value = False, top = 20)"
   ]
  },
  {
   "cell_type": "code",
   "execution_count": 170,
   "metadata": {},
   "outputs": [
    {
     "name": "stdout",
     "output_type": "stream",
     "text": [
      "Total: 1356\n"
     ]
    },
    {
     "data": {
      "text/plain": [
       "RELA         4.0\n",
       "NFKB2       36.0\n",
       "NFKBIA      43.0\n",
       "NFKB1       52.0\n",
       "PCBP4      971.0\n",
       "PCBP2      973.0\n",
       "PCBP1      976.0\n",
       "RELB      1139.0\n",
       "REL       1342.0\n",
       "IFNG         NaN\n",
       "LBP          NaN\n",
       "PCBP3        NaN\n",
       "TNF          NaN\n",
       "dtype: float64"
      ]
     },
     "execution_count": 170,
     "metadata": {},
     "output_type": "execute_result"
    }
   ],
   "source": [
    "print 'Total: ' + str(len(biased_zscores_huvec))\n",
    "stat_analysis.rank(biased_zscores_huvec, huvec_genes, activating = True, absolute_value = False)"
   ]
  },
  {
   "cell_type": "code",
   "execution_count": null,
   "metadata": {
    "collapsed": true
   },
   "outputs": [],
   "source": []
  },
  {
   "cell_type": "code",
   "execution_count": null,
   "metadata": {
    "collapsed": true
   },
   "outputs": [],
   "source": []
  },
  {
   "cell_type": "code",
   "execution_count": null,
   "metadata": {
    "collapsed": true
   },
   "outputs": [],
   "source": []
  },
  {
   "cell_type": "markdown",
   "metadata": {},
   "source": [
    "## Breast Cancer ###"
   ]
  },
  {
   "cell_type": "code",
   "execution_count": 172,
   "metadata": {
    "collapsed": true
   },
   "outputs": [],
   "source": [
    "filename_brca = '../geo2r_GSE11352_brca_48hours.txt'\n",
    "brca_genes = ['ESR','ESR1','ESR2']\n",
    "DEG_list_brca, DEG_to_pvalue_brca, DEG_to_updown_brca = create_graph.create_DEG_list_GEO(filename_brca, p_value_filter = 0.05)\n",
    "DG_brca = create_graph.add_updown_from_DEG(DG, DEG_to_updown_brca)"
   ]
  },
  {
   "cell_type": "code",
   "execution_count": 173,
   "metadata": {},
   "outputs": [
    {
     "name": "stdout",
     "output_type": "stream",
     "text": [
      "bias: -0.0241967802114\n"
     ]
    }
   ],
   "source": [
    "not_biased_zscores_brca = stat_analysis.tr_zscore(DG_brca, DEG_list_brca, auto_correct_bias = False, correct_for_bias = False, bias_filter = 0.25)\n",
    "biased_zscores_brca = stat_analysis.tr_zscore(DG_brca, DEG_list_brca, auto_correct_bias = False, correct_for_bias = True, bias_filter = 0.25)\n",
    "print 'bias: ' + str(calculate_bias(DG_brca))"
   ]
  },
  {
   "cell_type": "code",
   "execution_count": 182,
   "metadata": {},
   "outputs": [
    {
     "data": {
      "text/plain": [
       "MYCN      1.732051\n",
       "STAT1     1.732051\n",
       "STAT3     1.732051\n",
       "MYC       1.666667\n",
       "PHKB      1.414214\n",
       "PHKA1     1.414214\n",
       "SREBF1    1.414214\n",
       "IQGAP1    1.414214\n",
       "SREBF2    1.414214\n",
       "CCNA2     1.414214\n",
       "ESR1      1.414214\n",
       "STAT2     1.414214\n",
       "NFATC2    1.414214\n",
       "STAT5B    1.341641\n",
       "HSF1      1.000000\n",
       "TBP       1.000000\n",
       "OSBP      1.000000\n",
       "COL6A2    1.000000\n",
       "COL6A1    1.000000\n",
       "ID1       1.000000\n",
       "dtype: float64"
      ]
     },
     "execution_count": 182,
     "metadata": {},
     "output_type": "execute_result"
    }
   ],
   "source": [
    "stat_analysis.top_values(not_biased_zscores_brca, activating = True, absolute_value = False, top = 20)"
   ]
  },
  {
   "cell_type": "code",
   "execution_count": 175,
   "metadata": {},
   "outputs": [
    {
     "name": "stdout",
     "output_type": "stream",
     "text": [
      "Total: 1356\n"
     ]
    },
    {
     "data": {
      "text/plain": [
       "ESR1     10.0\n",
       "ESR2    832.0\n",
       "ESR       NaN\n",
       "dtype: float64"
      ]
     },
     "execution_count": 175,
     "metadata": {},
     "output_type": "execute_result"
    }
   ],
   "source": [
    "print 'Total: ' + str(len(not_biased_zscores_brca))\n",
    "stat_analysis.rank(not_biased_zscores_brca, brca_genes, activating = True, absolute_value = False)"
   ]
  },
  {
   "cell_type": "code",
   "execution_count": 176,
   "metadata": {},
   "outputs": [
    {
     "data": {
      "text/plain": [
       "MYC       5.217771\n",
       "STAT5B    3.120984\n",
       "STAT1     3.072590\n",
       "MYCN      3.072590\n",
       "STAT3     3.072590\n",
       "MAX       2.096787\n",
       "STAT5A    2.096787\n",
       "SREBF1    2.048394\n",
       "PHKB      2.048394\n",
       "PHKA1     2.048394\n",
       "ESR1      2.048394\n",
       "STAT2     2.048394\n",
       "SREBF2    2.048394\n",
       "IQGAP1    2.048394\n",
       "NFATC2    2.048394\n",
       "CCNA2     2.048394\n",
       "CTNNB1    1.120984\n",
       "SP1       1.072590\n",
       "BRCA1     1.072590\n",
       "CREBBP    1.072590\n",
       "dtype: float64"
      ]
     },
     "execution_count": 176,
     "metadata": {},
     "output_type": "execute_result"
    }
   ],
   "source": [
    "stat_analysis.top_values(biased_zscores_brca, activating = True, absolute_value = False, top = 20)"
   ]
  },
  {
   "cell_type": "code",
   "execution_count": 177,
   "metadata": {},
   "outputs": [
    {
     "name": "stdout",
     "output_type": "stream",
     "text": [
      "Total: 1356\n"
     ]
    },
    {
     "data": {
      "text/plain": [
       "ESR1     13.0\n",
       "ESR2    838.0\n",
       "ESR       NaN\n",
       "dtype: float64"
      ]
     },
     "execution_count": 177,
     "metadata": {},
     "output_type": "execute_result"
    }
   ],
   "source": [
    "print 'Total: ' + str(len(biased_zscores_brca))\n",
    "stat_analysis.rank(biased_zscores_brca, brca_genes, activating = True, absolute_value = False)"
   ]
  },
  {
   "cell_type": "code",
   "execution_count": null,
   "metadata": {
    "collapsed": true
   },
   "outputs": [],
   "source": []
  }
 ],
 "metadata": {
  "kernelspec": {
   "display_name": "Python 2",
   "language": "python",
   "name": "python2"
  },
  "language_info": {
   "codemirror_mode": {
    "name": "ipython",
    "version": 2
   },
   "file_extension": ".py",
   "mimetype": "text/x-python",
   "name": "python",
   "nbconvert_exporter": "python",
   "pygments_lexer": "ipython2",
   "version": "2.7.14"
  }
 },
 "nbformat": 4,
 "nbformat_minor": 2
}
