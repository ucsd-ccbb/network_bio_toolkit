{
 "cells": [
  {
   "cell_type": "code",
   "execution_count": 3,
   "metadata": {},
   "outputs": [
    {
     "data": {
      "text/plain": [
       "<module 'stat_analysis' from '../ura\\stat_analysis.pyc'>"
      ]
     },
     "execution_count": 3,
     "metadata": {},
     "output_type": "execute_result"
    }
   ],
   "source": [
    "import sys\n",
    "import time\n",
    "import networkx as nx\n",
    "import pandas as pd\n",
    "code_path = '../ura'\n",
    "sys.path.append(code_path)\n",
    "import create_graph\n",
    "import stat_analysis\n",
    "reload(create_graph)\n",
    "reload(stat_analysis)"
   ]
  },
  {
   "cell_type": "code",
   "execution_count": 4,
   "metadata": {},
   "outputs": [
    {
     "data": {
      "text/plain": [
       "3987"
      ]
     },
     "execution_count": 4,
     "metadata": {},
     "output_type": "execute_result"
    }
   ],
   "source": [
    "TF_list = create_graph.create_TF_list(slowkow_bool=True,\n",
    "                    slowkow_files=['../slowkow_databases/TRED_TF.txt',\n",
    "                                   '../slowkow_databases/ITFP_TF.txt',\n",
    "                                   '../slowkow_databases/ENCODE_TF.txt',\n",
    "                                   '../slowkow_databases/Neph2012_TF.txt',\n",
    "                                   '../slowkow_databases/TRRUST_TF.txt',\n",
    "                                   '../slowkow_databases/Marbach2016_TF.txt'],\n",
    "                    slowkow_sep = '\\n',\n",
    "                    jaspar_bool=True,\n",
    "                    jaspar_file=\"../jaspar_genereg_matrix.txt\")\n",
    "TF_list.extend(['TNF','LBP','IFNG', 'IL1B'])\n",
    "len(TF_list)"
   ]
  },
  {
   "cell_type": "code",
   "execution_count": 5,
   "metadata": {},
   "outputs": [
    {
     "name": "stdout",
     "output_type": "stream",
     "text": [
      "querying 1-1000...done.\n",
      "querying 1001-2000...done.\n",
      "querying 2001-3000...done.\n",
      "querying 3001-4000...done.\n",
      "querying 4001-5000...done.\n",
      "querying 5001-6000...done.\n",
      "querying 6001-7000...done.\n",
      "querying 7001-7374...done.\n",
      "Finished.\n",
      "312 input query terms found no hit:\n",
      "\t[u'ENSP00000376684', u'ENSP00000289352', u'ENSP00000202788', u'ENSP00000373637', u'ENSP00000367802',\n",
      "Pass \"returnall=True\" to return complete lists of duplicate or missing query terms.\n"
     ]
    }
   ],
   "source": [
    "unfiltered_DG = create_graph.load_STRING_to_digraph(filename = \"../9606.protein.actions.v10.5.txt\", confidence_filter=400)\n",
    "DG = create_graph.filter_digraph(unfiltered_DG, TF_list)"
   ]
  },
  {
   "cell_type": "code",
   "execution_count": null,
   "metadata": {
    "collapsed": true
   },
   "outputs": [],
   "source": []
  },
  {
   "cell_type": "code",
   "execution_count": null,
   "metadata": {
    "collapsed": true
   },
   "outputs": [],
   "source": []
  },
  {
   "cell_type": "markdown",
   "metadata": {},
   "source": [
    "## HUVEC ##"
   ]
  },
  {
   "cell_type": "code",
   "execution_count": 6,
   "metadata": {
    "collapsed": true
   },
   "outputs": [],
   "source": [
    "filename_huvec = '../geo2r_GSE2639_huvec.txt'\n",
    "huvec_genes = ['TNF','IFNG','LBP', 'NFKB1', 'NFKB2', 'REL', 'RELA', 'RELB', 'PCBP3', 'PCBP2', 'PCBP1', 'PCBP4', 'NFKBIA']\n",
    "DEG_list_huvec, DEG_to_pvalue_huvec, DEG_to_updown_huvec = create_graph.create_DEG_list(filename_huvec, p_value_filter = 0.3)\n",
    "DG_huvec = create_graph.add_updown_from_DEG(DG, DEG_to_updown_huvec)"
   ]
  },
  {
   "cell_type": "code",
   "execution_count": 7,
   "metadata": {},
   "outputs": [
    {
     "ename": "TypeError",
     "evalue": "tr_zscore() got an unexpected keyword argument 'auto_correct_'",
     "output_type": "error",
     "traceback": [
      "\u001b[1;31m---------------------------------------------------------------------------\u001b[0m",
      "\u001b[1;31mTypeError\u001b[0m                                 Traceback (most recent call last)",
      "\u001b[1;32m<ipython-input-7-1b91fba860ca>\u001b[0m in \u001b[0;36m<module>\u001b[1;34m()\u001b[0m\n\u001b[1;32m----> 1\u001b[1;33m \u001b[0mnot_biased_zscores_huvec\u001b[0m \u001b[1;33m=\u001b[0m \u001b[0mstat_analysis\u001b[0m\u001b[1;33m.\u001b[0m\u001b[0mtr_zscore\u001b[0m\u001b[1;33m(\u001b[0m\u001b[0mDG_huvec\u001b[0m\u001b[1;33m,\u001b[0m \u001b[0mDEG_list_huvec\u001b[0m\u001b[1;33m,\u001b[0m \u001b[0mauto_correct_\u001b[0m \u001b[1;33m=\u001b[0m \u001b[0mFalse\u001b[0m\u001b[1;33m,\u001b[0m \u001b[0mcorrect_for_bias\u001b[0m \u001b[1;33m=\u001b[0m \u001b[0mFalse\u001b[0m\u001b[1;33m,\u001b[0m \u001b[0mbias_filter\u001b[0m \u001b[1;33m=\u001b[0m \u001b[1;36m0.25\u001b[0m\u001b[1;33m)\u001b[0m\u001b[1;33m\u001b[0m\u001b[0m\n\u001b[0m\u001b[0;32m      2\u001b[0m \u001b[0mbiased_zscores_huvec\u001b[0m \u001b[1;33m=\u001b[0m \u001b[0mstat_analysis\u001b[0m\u001b[1;33m.\u001b[0m\u001b[0mtr_zscore\u001b[0m\u001b[1;33m(\u001b[0m\u001b[0mDG_huvec\u001b[0m\u001b[1;33m,\u001b[0m \u001b[0mDEG_list_huvec\u001b[0m\u001b[1;33m,\u001b[0m \u001b[0mauto_correct_bias\u001b[0m \u001b[1;33m=\u001b[0m \u001b[0mFalse\u001b[0m\u001b[1;33m,\u001b[0m \u001b[0mcorrect_for_bias\u001b[0m \u001b[1;33m=\u001b[0m \u001b[0mTrue\u001b[0m\u001b[1;33m,\u001b[0m \u001b[0mbias_filter\u001b[0m \u001b[1;33m=\u001b[0m \u001b[1;36m0.25\u001b[0m\u001b[1;33m)\u001b[0m\u001b[1;33m\u001b[0m\u001b[0m\n\u001b[0;32m      3\u001b[0m \u001b[1;32mprint\u001b[0m \u001b[1;34m'bias: '\u001b[0m \u001b[1;33m+\u001b[0m \u001b[0mstr\u001b[0m\u001b[1;33m(\u001b[0m\u001b[0mstat_analysis\u001b[0m\u001b[1;33m.\u001b[0m\u001b[0mcalculate_bias\u001b[0m\u001b[1;33m(\u001b[0m\u001b[0mDG_huvec\u001b[0m\u001b[1;33m)\u001b[0m\u001b[1;33m)\u001b[0m\u001b[1;33m\u001b[0m\u001b[0m\n",
      "\u001b[1;31mTypeError\u001b[0m: tr_zscore() got an unexpected keyword argument 'auto_correct_'"
     ]
    }
   ],
   "source": [
    "not_biased_zscores_huvec = stat_analysis.tr_zscore(DG_huvec, DEG_list_huvec, auto_correct_ = False, correct_for_bias = False, bias_filter = 0.25)\n",
    "biased_zscores_huvec = stat_analysis.tr_zscore(DG_huvec, DEG_list_huvec, auto_correct_bias = False, correct_for_bias = True, bias_filter = 0.25)\n",
    "print 'bias: ' + str(stat_analysis.calculate_bias(DG_huvec))"
   ]
  },
  {
   "cell_type": "code",
   "execution_count": null,
   "metadata": {
    "collapsed": true
   },
   "outputs": [],
   "source": [
    "stat_analysis.top_values(not_biased_zscores_huvec, activating = True, absolute_value = False, top = 20)"
   ]
  },
  {
   "cell_type": "code",
   "execution_count": null,
   "metadata": {},
   "outputs": [],
   "source": [
    "print 'Total: ' + str(len(not_biased_zscores_huvec))\n",
    "stat_analysis.rank(not_biased_zscores_huvec, huvec_genes, activating = True, absolute_value = False)"
   ]
  },
  {
   "cell_type": "code",
   "execution_count": null,
   "metadata": {},
   "outputs": [],
   "source": [
    "stat_analysis.top_values(biased_zscores_huvec, activating = True, absolute_value = False, top = 20)"
   ]
  },
  {
   "cell_type": "code",
   "execution_count": null,
   "metadata": {},
   "outputs": [],
   "source": [
    "print 'Total: ' + str(len(biased_zscores_huvec))\n",
    "stat_analysis.rank(biased_zscores_huvec, huvec_genes, activating = True, absolute_value = False)"
   ]
  },
  {
   "cell_type": "code",
   "execution_count": null,
   "metadata": {
    "collapsed": true
   },
   "outputs": [],
   "source": []
  },
  {
   "cell_type": "code",
   "execution_count": null,
   "metadata": {
    "collapsed": true
   },
   "outputs": [],
   "source": []
  },
  {
   "cell_type": "code",
   "execution_count": null,
   "metadata": {
    "collapsed": true
   },
   "outputs": [],
   "source": []
  },
  {
   "cell_type": "markdown",
   "metadata": {},
   "source": [
    "## Breast Cancer ###"
   ]
  },
  {
   "cell_type": "code",
   "execution_count": null,
   "metadata": {
    "collapsed": true
   },
   "outputs": [],
   "source": [
    "filename_brca = '../geo2r_GSE11352_brca_48hours.txt'\n",
    "brca_genes = ['IL1B','NCOA3','PGR', 'EGR1', 'HIF1A', 'NR3C1','CTNNB1','TP53','SMARCE1','STAT5B','ESR1']\n",
    "DEG_list_brca, DEG_to_pvalue_brca, DEG_to_updown_brca = create_graph.create_DEG_list(filename_brca, p_value_filter = 0.05)\n",
    "DG_brca = create_graph.add_updown_from_DEG(DG, DEG_to_updown_brca)"
   ]
  },
  {
   "cell_type": "code",
   "execution_count": null,
   "metadata": {},
   "outputs": [],
   "source": [
    "z_scores_brca = stat_analysis.tr_zscore(DG_brca, DEG_list_brca, auto_correct = True, bias_filter = 0.25)\n",
    "print 'bias: ' + str(stat_analysis.calculate_bias(DG_brca))"
   ]
  },
  {
   "cell_type": "code",
   "execution_count": null,
   "metadata": {
    "scrolled": true
   },
   "outputs": [],
   "source": [
    "stat_analysis.top_values(z_scores_brca, activating = False, absolute_value = False, top = 1360)"
   ]
  },
  {
   "cell_type": "code",
   "execution_count": null,
   "metadata": {
    "collapsed": true
   },
   "outputs": [],
   "source": [
    "print 'Total: ' + str(len(z_scores_brca))\n",
    "stat_analysis.rank(z_scores_brca, brca_genes, activating = False, absolute_value = False)"
   ]
  },
  {
   "cell_type": "code",
   "execution_count": null,
   "metadata": {
    "collapsed": true
   },
   "outputs": [],
   "source": [
    "def top_values(my_series, activating = True, absolute_value = False, top = 10):\n",
    "\n",
    "    # top activating and inhibiting, sort by strongest zscore or log(pvalue)\n",
    "    if absolute_value == True:\n",
    "        top_series_abs = my_series.abs().sort_values(ascending=False).head(top)\n",
    "        top_genes = list(top_series_abs.index)\n",
    "        top_values = [my_series[gene] for gene in top_genes]\n",
    "        return pd.Series(top_values, index=top_genes)\n",
    "\n",
    "    # top activating\n",
    "    if activating == True:\n",
    "        return my_series.sort_values(ascending=False).head(top)\n",
    "\n",
    "    # top inhibiting\n",
    "    else:\n",
    "        return my_series.sort_values(ascending=True).head(top)\n",
    "\n",
    "\n",
    "def rank(series, genes_to_rank, activating=True, absolute_value=False, print_to_stdout=False):\n",
    "    if absolute_value == True:\n",
    "        sorted_dict = sorted(dict(series.abs()).items(), key=lambda x: x[1], reverse=True)\n",
    "    else:\n",
    "        if activating == True:\n",
    "            sorted_dict = sorted(dict(series).items(), key=lambda x: x[1], reverse=True)\n",
    "        else:\n",
    "            sorted_dict = sorted(dict(series).items(), key=lambda x: x[1], reverse=False)\n",
    "\n",
    "    genes = zip(*sorted_dict)[0]\n",
    "    index = range(len(sorted_dict))\n",
    "    gene_to_index = dict(zip(genes, index))\n",
    "\n",
    "    return pd.Series({k: gene_to_index.get(k, None) for k in genes_to_rank}).sort_values(ascending=True)"
   ]
  },
  {
   "cell_type": "code",
   "execution_count": null,
   "metadata": {},
   "outputs": [],
   "source": [
    "sorted_dict = sorted(dict(z_scores_brca).items(), key=lambda x: x[1], reverse=True)\n",
    "sorted_dict"
   ]
  },
  {
   "cell_type": "code",
   "execution_count": null,
   "metadata": {
    "collapsed": true
   },
   "outputs": [],
   "source": []
  }
 ],
 "metadata": {
  "kernelspec": {
   "display_name": "Python 2",
   "language": "python",
   "name": "python2"
  },
  "language_info": {
   "codemirror_mode": {
    "name": "ipython",
    "version": 2
   },
   "file_extension": ".py",
   "mimetype": "text/x-python",
   "name": "python",
   "nbconvert_exporter": "python",
   "pygments_lexer": "ipython2",
   "version": "2.7.14"
  }
 },
 "nbformat": 4,
 "nbformat_minor": 2
}
