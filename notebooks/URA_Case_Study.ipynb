{
 "cells": [
  {
   "cell_type": "markdown",
   "metadata": {},
   "source": [
    "# Upstream Regulator Analysis Package Case Study\n",
    "\n",
    "----------------------\n",
    "\n",
    "Author: Mikayla Webster (m1webste@ucsd.edu)\n",
    "\n",
    "Date: 11th January, 2018\n",
    "\n",
    "----------------------\n",
    "\n",
    "<a id='toc'></a>\n",
    "## Table of Contents\n",
    "1. [Import packages](#import)\n",
    "2. [Background](#background)\n",
    "3. [Transcription Factors](#tf)\n",
    "4. [Background Network](#bn)\n",
    "5. [HUVEC](#huvec)\n",
    "    1. [Load DEG's](#loadhuvec)\n",
    "    2. [Calculate p-values and z-scores](#pzhuvec)\n",
    "    3. [Compare the Ingenuity Article's results to Ours](#comphuvec)\n",
    "    4. [Display Our results](#displayhuvec)\n",
    "6. [Breast Cancer](#brca)\n",
    "    1. [Load DEG's](#loadbrca)\n",
    "    2. [Calculate p-values and z-scores](#pzbrca)\n",
    "    3. [Compare the Ingenuity Article's results to Ours](#compbrca)\n",
    "    4. [Display Our results](#displaybrca)"
   ]
  },
  {
   "cell_type": "markdown",
   "metadata": {},
   "source": [
    "## Background\n",
    "<a id='background'></a>\n",
    "\n",
    "This notebook attempts to validate our Upstream Regulator Analysis (URA) modules. Our modules are inspired by Ingenuity System's [Ingenuity Upstream Regulator Analysis in IPA®](http://pages.ingenuity.com/rs/ingenuity/images/0812%20upstream_regulator_analysis_whitepaper.pdf); this test case is inpired by Ingenuity System's corresponding paper, [Causal analysis approaches in Ingenuity Pathway Analysis](https://www.ncbi.nlm.nih.gov/pmc/articles/PMC3928520/). This paper analyses two sets of Differencially Expressed Genes (DEG's): one from a breast cancer tumor and the other from Human Umbilical Vein Endothelial Cells (HUVEC). We run our version of URA on these same breast cancer and HUVEC DEG's, however using the [STRING database](https://string-db.org/) human protein interaction network as our background network. "
   ]
  },
  {
   "cell_type": "markdown",
   "metadata": {},
   "source": [
    "## Import packages\n",
    "<a id='import'></a>"
   ]
  },
  {
   "cell_type": "code",
   "execution_count": 33,
   "metadata": {},
   "outputs": [],
   "source": [
    "import networkx as nx\n",
    "import pandas as pd\n",
    "import numpy as np\n",
    "import matplotlib.pyplot as plt\n",
    "\n",
    "# import upstream regulator modules\n",
    "import sys\n",
    "code_path = '../ura'\n",
    "sys.path.append(code_path)\n",
    "import create_graph\n",
    "import stat_analysis\n",
    "reload(create_graph)\n",
    "reload(stat_analysis)\n",
    "\n",
    "# network visualization package\n",
    "# (pip install visJS2jupyter)\n",
    "import visJS2jupyter.visJS_module as visJS_module"
   ]
  },
  {
   "cell_type": "markdown",
   "metadata": {},
   "source": [
    "## Transcription Factors\n",
    "<a id='tf'></a>\n",
    "\n",
    "Load our list of Transcription Factors (TF) we want to analyze. Gene symbols will be in all caps. "
   ]
  },
  {
   "cell_type": "code",
   "execution_count": 2,
   "metadata": {
    "collapsed": true
   },
   "outputs": [],
   "source": [
    "TF_list = create_graph.create_TF_list(slowkow_bool=True,\n",
    "                    slowkow_files=['../slowkow_databases/TRED_TF.txt',\n",
    "                                   '../slowkow_databases/ITFP_TF.txt',\n",
    "                                   '../slowkow_databases/ENCODE_TF.txt',\n",
    "                                   '../slowkow_databases/Neph2012_TF.txt',\n",
    "                                   '../slowkow_databases/TRRUST_TF.txt',\n",
    "                                   '../slowkow_databases/Marbach2016_TF.txt'],\n",
    "                    slowkow_sep = '\\n',\n",
    "                    jaspar_bool=True,\n",
    "                    jaspar_file=\"../jaspar_genereg_matrix.txt\")\n",
    "\n",
    "\n",
    "TF_list = TF_list + ['TNF', 'IFNG', 'LBP'] # known regulators of interest missing from our TF databases"
   ]
  },
  {
   "cell_type": "markdown",
   "metadata": {},
   "source": [
    "## Background Network\n",
    "<a id='bn'></a>\n",
    "\n",
    "Load our background network, available on the [STRING website](https://string-db.org/cgi/download.pl?UserId=9BGA8WkVMRl6&sessionId=HWUK6Dum9xC6&species_text=Homo+sapiens), and keep only our the information about our TF's. \n",
    "\n",
    "The function load_STRING_to_digraph can load any species' \"protein actions\" database from STRING. Just ensure your TF list and DEG list have the same naming convention as you background network (Homo Sapiens use all caps, Mus Musculus only capitalizes the first letter, etc.) Inconsistent naming can effect your results."
   ]
  },
  {
   "cell_type": "code",
   "execution_count": 3,
   "metadata": {},
   "outputs": [
    {
     "name": "stdout",
     "output_type": "stream",
     "text": [
      "querying 1-1000...done.\n",
      "querying 1001-2000...done.\n",
      "querying 2001-3000...done.\n",
      "querying 3001-4000...done.\n",
      "querying 4001-5000...done.\n",
      "querying 5001-6000...done.\n",
      "querying 6001-7000...done.\n",
      "querying 7001-7374...done.\n",
      "Finished.\n",
      "56 input query terms found dup hits:\n",
      "\t[(u'ENSP00000359550', 3), (u'ENSP00000447879', 2), (u'ENSP00000364076', 2), (u'ENSP00000348986', 2),\n",
      "312 input query terms found no hit:\n",
      "\t[u'ENSP00000376684', u'ENSP00000289352', u'ENSP00000202788', u'ENSP00000373637', u'ENSP00000367802',\n",
      "Pass \"returnall=True\" to return complete lists of duplicate or missing query terms.\n"
     ]
    }
   ],
   "source": [
    "filename = \"../9606.protein.actions.v10.5.txt\"\n",
    "confidence_filter=400\n",
    "DG = create_graph.load_STRING_to_digraph(filename, confidence_filter, TF_list)"
   ]
  },
  {
   "cell_type": "markdown",
   "metadata": {},
   "source": [
    "## HUVEC##\n",
    "<a id='huvec'></a>"
   ]
  },
  {
   "cell_type": "markdown",
   "metadata": {},
   "source": [
    "### Load HUVEC DEG's ###\n",
    "<a id='loadhuvec'></a>"
   ]
  },
  {
   "cell_type": "code",
   "execution_count": 4,
   "metadata": {
    "collapsed": true
   },
   "outputs": [],
   "source": [
    "# DEG's\n",
    "filename_huvec = '../geo2r_GSE2639_huvec.txt'\n",
    "\n",
    "# TF's found to be statistically significant in Ingenuity Systems URA article\n",
    "huvec_genes = ['TNF','IFNG','LBP', 'NFKB1', 'NFKB2', 'REL', 'RELA', 'RELB', 'PCBP3', 'PCBP2', 'PCBP1', 'PCBP4', 'NFKBIA']\n",
    "\n",
    "# add DEG information to STRING background network\n",
    "DEG_list_huvec, DEG_to_pvalue_huvec, DEG_to_updown_huvec = create_graph.create_DEG_list(filename_huvec, p_value_filter = 0.3)\n",
    "DG_huvec = create_graph.add_updown_from_DEG(DG, DEG_to_updown_huvec) # will not overwrite original graph DG"
   ]
  },
  {
   "cell_type": "markdown",
   "metadata": {},
   "source": [
    "### Calculate p-values and z-scores\n",
    "<a id='pzhuvec'></a>\n",
    "\n",
    "For a detailed explination of our p-value and z-score calculation functions, see our URA_Basic_Example notebook"
   ]
  },
  {
   "cell_type": "code",
   "execution_count": 5,
   "metadata": {
    "collapsed": true
   },
   "outputs": [],
   "source": [
    "# calculate p-values\n",
    "p_values_huvec = stat_analysis.tf_pvalues(DG_huvec, DG, DEG_list_huvec)\n",
    "\n",
    "# calculate z-scores\n",
    "z_scores_huvec = stat_analysis.tf_zscore(DG_huvec, DEG_list_huvec, bias_filter = 0.25) # recommended bias filter is 0.25"
   ]
  },
  {
   "cell_type": "markdown",
   "metadata": {},
   "source": [
    "### Compare the Ingenuity Article's results to Ours\n",
    "<a id='comphuvec'></a>\n",
    "\n",
    "These are the TF's found to be most relevant according to the Ingenuity Pathway Analysis paper. Optimally, these genes would rank very high. A rank of 0 is always best, while the rank associated with a z-score of zero is the worst. \n",
    "\n",
    "In this case, IFNG anf TNF are high ranking, therefore show coordination between our results and the Ingenuity article's results. LBP, PCBP1, PCBP2, PCBP4, and RELB have z-scores of zero, meaning not enough information exists about these genes to calculate a true z-score for them. PCBP3 has a NaN z-score because it is not in the graph."
   ]
  },
  {
   "cell_type": "code",
   "execution_count": 6,
   "metadata": {},
   "outputs": [
    {
     "data": {
      "text/html": [
       "<div>\n",
       "<style>\n",
       "    .dataframe thead tr:only-child th {\n",
       "        text-align: right;\n",
       "    }\n",
       "\n",
       "    .dataframe thead th {\n",
       "        text-align: left;\n",
       "    }\n",
       "\n",
       "    .dataframe tbody tr th {\n",
       "        vertical-align: top;\n",
       "    }\n",
       "</style>\n",
       "<table border=\"1\" class=\"dataframe\">\n",
       "  <thead>\n",
       "    <tr style=\"text-align: right;\">\n",
       "      <th></th>\n",
       "      <th>rank</th>\n",
       "      <th>z-score</th>\n",
       "    </tr>\n",
       "  </thead>\n",
       "  <tbody>\n",
       "    <tr>\n",
       "      <th>IFNG</th>\n",
       "      <td>0.0</td>\n",
       "      <td>3.549648</td>\n",
       "    </tr>\n",
       "    <tr>\n",
       "      <th>TNF</th>\n",
       "      <td>5.0</td>\n",
       "      <td>2.342606</td>\n",
       "    </tr>\n",
       "    <tr>\n",
       "      <th>NFKB2</th>\n",
       "      <td>12.0</td>\n",
       "      <td>1.732051</td>\n",
       "    </tr>\n",
       "    <tr>\n",
       "      <th>RELA</th>\n",
       "      <td>13.0</td>\n",
       "      <td>1.732051</td>\n",
       "    </tr>\n",
       "    <tr>\n",
       "      <th>NFKBIA</th>\n",
       "      <td>19.0</td>\n",
       "      <td>1.341641</td>\n",
       "    </tr>\n",
       "    <tr>\n",
       "      <th>REL</th>\n",
       "      <td>19.0</td>\n",
       "      <td>-1.341641</td>\n",
       "    </tr>\n",
       "    <tr>\n",
       "      <th>NFKB1</th>\n",
       "      <td>23.0</td>\n",
       "      <td>1.091089</td>\n",
       "    </tr>\n",
       "    <tr>\n",
       "      <th>LBP</th>\n",
       "      <td>34.0</td>\n",
       "      <td>0.000000</td>\n",
       "    </tr>\n",
       "    <tr>\n",
       "      <th>PCBP1</th>\n",
       "      <td>34.0</td>\n",
       "      <td>0.000000</td>\n",
       "    </tr>\n",
       "    <tr>\n",
       "      <th>PCBP2</th>\n",
       "      <td>34.0</td>\n",
       "      <td>0.000000</td>\n",
       "    </tr>\n",
       "    <tr>\n",
       "      <th>PCBP4</th>\n",
       "      <td>34.0</td>\n",
       "      <td>0.000000</td>\n",
       "    </tr>\n",
       "    <tr>\n",
       "      <th>RELB</th>\n",
       "      <td>34.0</td>\n",
       "      <td>0.000000</td>\n",
       "    </tr>\n",
       "    <tr>\n",
       "      <th>PCBP3</th>\n",
       "      <td>NaN</td>\n",
       "      <td>NaN</td>\n",
       "    </tr>\n",
       "  </tbody>\n",
       "</table>\n",
       "</div>"
      ],
      "text/plain": [
       "        rank   z-score\n",
       "IFNG     0.0  3.549648\n",
       "TNF      5.0  2.342606\n",
       "NFKB2   12.0  1.732051\n",
       "RELA    13.0  1.732051\n",
       "NFKBIA  19.0  1.341641\n",
       "REL     19.0 -1.341641\n",
       "NFKB1   23.0  1.091089\n",
       "LBP     34.0  0.000000\n",
       "PCBP1   34.0  0.000000\n",
       "PCBP2   34.0  0.000000\n",
       "PCBP4   34.0  0.000000\n",
       "RELB    34.0  0.000000\n",
       "PCBP3    NaN       NaN"
      ]
     },
     "execution_count": 6,
     "metadata": {},
     "output_type": "execute_result"
    }
   ],
   "source": [
    "stat_analysis.rank_and_score_df(z_scores_huvec, huvec_genes, remove_dups=True)"
   ]
  },
  {
   "cell_type": "markdown",
   "metadata": {},
   "source": [
    "### Display Our results\n",
    "<a id='displayhuvec'></a>\n",
    "\n",
    "These are the most relevant TF's according to our analysis. Optimally, these should match the huvec genes defined above. However, using a different background network produces discrepancies.\n",
    "\n",
    "IFNG, TNF, and TNFAIP3 show coordination between our results and the Ingenuity article's results."
   ]
  },
  {
   "cell_type": "code",
   "execution_count": 7,
   "metadata": {
    "scrolled": true
   },
   "outputs": [
    {
     "data": {
      "text/html": [
       "<div>\n",
       "<style>\n",
       "    .dataframe thead tr:only-child th {\n",
       "        text-align: right;\n",
       "    }\n",
       "\n",
       "    .dataframe thead th {\n",
       "        text-align: left;\n",
       "    }\n",
       "\n",
       "    .dataframe tbody tr th {\n",
       "        vertical-align: top;\n",
       "    }\n",
       "</style>\n",
       "<table border=\"1\" class=\"dataframe\">\n",
       "  <thead>\n",
       "    <tr style=\"text-align: right;\">\n",
       "      <th></th>\n",
       "      <th>activating z-score</th>\n",
       "    </tr>\n",
       "  </thead>\n",
       "  <tbody>\n",
       "    <tr>\n",
       "      <th>IFNG</th>\n",
       "      <td>3.549648</td>\n",
       "    </tr>\n",
       "    <tr>\n",
       "      <th>CTF1</th>\n",
       "      <td>3.000000</td>\n",
       "    </tr>\n",
       "    <tr>\n",
       "      <th>STAT4</th>\n",
       "      <td>2.645751</td>\n",
       "    </tr>\n",
       "    <tr>\n",
       "      <th>STAT5A</th>\n",
       "      <td>2.529822</td>\n",
       "    </tr>\n",
       "    <tr>\n",
       "      <th>TNF</th>\n",
       "      <td>2.342606</td>\n",
       "    </tr>\n",
       "    <tr>\n",
       "      <th>HIF1A</th>\n",
       "      <td>2.236068</td>\n",
       "    </tr>\n",
       "    <tr>\n",
       "      <th>GATA3</th>\n",
       "      <td>2.236068</td>\n",
       "    </tr>\n",
       "    <tr>\n",
       "      <th>IRF3</th>\n",
       "      <td>2.236068</td>\n",
       "    </tr>\n",
       "    <tr>\n",
       "      <th>FOS</th>\n",
       "      <td>2.236068</td>\n",
       "    </tr>\n",
       "    <tr>\n",
       "      <th>SPG7</th>\n",
       "      <td>2.236068</td>\n",
       "    </tr>\n",
       "  </tbody>\n",
       "</table>\n",
       "</div>"
      ],
      "text/plain": [
       "        activating z-score\n",
       "IFNG              3.549648\n",
       "CTF1              3.000000\n",
       "STAT4             2.645751\n",
       "STAT5A            2.529822\n",
       "TNF               2.342606\n",
       "HIF1A             2.236068\n",
       "GATA3             2.236068\n",
       "IRF3              2.236068\n",
       "FOS               2.236068\n",
       "SPG7              2.236068"
      ]
     },
     "metadata": {},
     "output_type": "display_data"
    },
    {
     "data": {
      "text/html": [
       "<div>\n",
       "<style>\n",
       "    .dataframe thead tr:only-child th {\n",
       "        text-align: right;\n",
       "    }\n",
       "\n",
       "    .dataframe thead th {\n",
       "        text-align: left;\n",
       "    }\n",
       "\n",
       "    .dataframe tbody tr th {\n",
       "        vertical-align: top;\n",
       "    }\n",
       "</style>\n",
       "<table border=\"1\" class=\"dataframe\">\n",
       "  <thead>\n",
       "    <tr style=\"text-align: right;\">\n",
       "      <th></th>\n",
       "      <th>inhibiting z-score</th>\n",
       "    </tr>\n",
       "  </thead>\n",
       "  <tbody>\n",
       "    <tr>\n",
       "      <th>PPARA</th>\n",
       "      <td>-2.449490</td>\n",
       "    </tr>\n",
       "    <tr>\n",
       "      <th>TNFAIP3</th>\n",
       "      <td>-2.000000</td>\n",
       "    </tr>\n",
       "    <tr>\n",
       "      <th>DDX41</th>\n",
       "      <td>-2.000000</td>\n",
       "    </tr>\n",
       "    <tr>\n",
       "      <th>CACNA2D4</th>\n",
       "      <td>-2.000000</td>\n",
       "    </tr>\n",
       "    <tr>\n",
       "      <th>CACNA2D2</th>\n",
       "      <td>-2.000000</td>\n",
       "    </tr>\n",
       "    <tr>\n",
       "      <th>GPSM1</th>\n",
       "      <td>-1.941451</td>\n",
       "    </tr>\n",
       "    <tr>\n",
       "      <th>SIRT1</th>\n",
       "      <td>-1.897367</td>\n",
       "    </tr>\n",
       "    <tr>\n",
       "      <th>STRAP</th>\n",
       "      <td>-1.732051</td>\n",
       "    </tr>\n",
       "    <tr>\n",
       "      <th>IRF8</th>\n",
       "      <td>-1.732051</td>\n",
       "    </tr>\n",
       "    <tr>\n",
       "      <th>NKX2-5</th>\n",
       "      <td>-1.732051</td>\n",
       "    </tr>\n",
       "  </tbody>\n",
       "</table>\n",
       "</div>"
      ],
      "text/plain": [
       "          inhibiting z-score\n",
       "PPARA              -2.449490\n",
       "TNFAIP3            -2.000000\n",
       "DDX41              -2.000000\n",
       "CACNA2D4           -2.000000\n",
       "CACNA2D2           -2.000000\n",
       "GPSM1              -1.941451\n",
       "SIRT1              -1.897367\n",
       "STRAP              -1.732051\n",
       "IRF8               -1.732051\n",
       "NKX2-5             -1.732051"
      ]
     },
     "metadata": {},
     "output_type": "display_data"
    }
   ],
   "source": [
    "top_act_huvec = stat_analysis.top_values(z_scores_huvec, act = True, abs_value = False, top = 10)\n",
    "top_inh_huvec = stat_analysis.top_values(z_scores_huvec, act = False, abs_value = False, top = 10)\n",
    "display(top_act_huvec.to_frame(name = 'activating z-score'))\n",
    "display(top_inh_huvec.to_frame(name = 'inhibiting z-score'))"
   ]
  },
  {
   "cell_type": "markdown",
   "metadata": {},
   "source": [
    "## Breast Cancer ###\n",
    "<a id='brca'></a>"
   ]
  },
  {
   "cell_type": "markdown",
   "metadata": {},
   "source": [
    "### Load Breast Cancer DEG's\n",
    "<a id='loadbrca'></a>"
   ]
  },
  {
   "cell_type": "code",
   "execution_count": 8,
   "metadata": {
    "collapsed": true
   },
   "outputs": [],
   "source": [
    "filename_brca = '../geo2r_GSE11352_brca_48hours.txt'\n",
    "brca_genes = ['ESR1', 'FSH', 'MEK', 'BRD4', 'MYC', 'MARK1', 'IL1B','NCOA3','PGR', \n",
    "              'EGR1', 'HIF1A', 'NR3C1','CTNNB1','TP53','SMARCE1','STAT5B']\n",
    "DEG_list_brca, DEG_to_pvalue_brca, DEG_to_updown_brca = create_graph.create_DEG_list(filename_brca, p_value_filter = 0.05)\n",
    "DG_brca = create_graph.add_updown_from_DEG(DG, DEG_to_updown_brca)"
   ]
  },
  {
   "cell_type": "markdown",
   "metadata": {},
   "source": [
    "### Calculate p-values and z-scores\n",
    "<a id='pzbrca'></a>"
   ]
  },
  {
   "cell_type": "code",
   "execution_count": 9,
   "metadata": {
    "collapsed": true
   },
   "outputs": [],
   "source": [
    "p_values_brca = stat_analysis.tf_pvalues(DG_brca, DG, DEG_list_brca)\n",
    "\n",
    "z_scores_brca = stat_analysis.tf_zscore(DG_brca, DEG_list_brca, bias_filter = 0.25)"
   ]
  },
  {
   "cell_type": "markdown",
   "metadata": {},
   "source": [
    "### Compare the Ingenuity Article's results to Ours\n",
    "<a id='compbrca'></a>\n",
    "TP53, MYC, and ESR1 are foud to be highly ranking, showing coordination between our results and the Ingenuity article's results."
   ]
  },
  {
   "cell_type": "code",
   "execution_count": 10,
   "metadata": {},
   "outputs": [
    {
     "data": {
      "text/html": [
       "<div>\n",
       "<style>\n",
       "    .dataframe thead tr:only-child th {\n",
       "        text-align: right;\n",
       "    }\n",
       "\n",
       "    .dataframe thead th {\n",
       "        text-align: left;\n",
       "    }\n",
       "\n",
       "    .dataframe tbody tr th {\n",
       "        vertical-align: top;\n",
       "    }\n",
       "</style>\n",
       "<table border=\"1\" class=\"dataframe\">\n",
       "  <thead>\n",
       "    <tr style=\"text-align: right;\">\n",
       "      <th></th>\n",
       "      <th>rank</th>\n",
       "      <th>z-score</th>\n",
       "    </tr>\n",
       "  </thead>\n",
       "  <tbody>\n",
       "    <tr>\n",
       "      <th>TP53</th>\n",
       "      <td>0.0</td>\n",
       "      <td>-1.889822</td>\n",
       "    </tr>\n",
       "    <tr>\n",
       "      <th>MYC</th>\n",
       "      <td>2.0</td>\n",
       "      <td>1.666667</td>\n",
       "    </tr>\n",
       "    <tr>\n",
       "      <th>ESR1</th>\n",
       "      <td>3.0</td>\n",
       "      <td>1.414214</td>\n",
       "    </tr>\n",
       "    <tr>\n",
       "      <th>STAT5B</th>\n",
       "      <td>4.0</td>\n",
       "      <td>1.341641</td>\n",
       "    </tr>\n",
       "    <tr>\n",
       "      <th>NR3C1</th>\n",
       "      <td>5.0</td>\n",
       "      <td>1.000000</td>\n",
       "    </tr>\n",
       "    <tr>\n",
       "      <th>HIF1A</th>\n",
       "      <td>7.0</td>\n",
       "      <td>-0.577350</td>\n",
       "    </tr>\n",
       "    <tr>\n",
       "      <th>CTNNB1</th>\n",
       "      <td>8.0</td>\n",
       "      <td>0.447214</td>\n",
       "    </tr>\n",
       "    <tr>\n",
       "      <th>EGR1</th>\n",
       "      <td>8.0</td>\n",
       "      <td>-0.447214</td>\n",
       "    </tr>\n",
       "    <tr>\n",
       "      <th>BRD4</th>\n",
       "      <td>9.0</td>\n",
       "      <td>0.000000</td>\n",
       "    </tr>\n",
       "    <tr>\n",
       "      <th>NCOA3</th>\n",
       "      <td>9.0</td>\n",
       "      <td>0.000000</td>\n",
       "    </tr>\n",
       "    <tr>\n",
       "      <th>PGR</th>\n",
       "      <td>9.0</td>\n",
       "      <td>0.000000</td>\n",
       "    </tr>\n",
       "    <tr>\n",
       "      <th>SMARCE1</th>\n",
       "      <td>9.0</td>\n",
       "      <td>0.000000</td>\n",
       "    </tr>\n",
       "    <tr>\n",
       "      <th>FSH</th>\n",
       "      <td>NaN</td>\n",
       "      <td>NaN</td>\n",
       "    </tr>\n",
       "    <tr>\n",
       "      <th>IL1B</th>\n",
       "      <td>NaN</td>\n",
       "      <td>NaN</td>\n",
       "    </tr>\n",
       "    <tr>\n",
       "      <th>MARK1</th>\n",
       "      <td>NaN</td>\n",
       "      <td>NaN</td>\n",
       "    </tr>\n",
       "    <tr>\n",
       "      <th>MEK</th>\n",
       "      <td>NaN</td>\n",
       "      <td>NaN</td>\n",
       "    </tr>\n",
       "  </tbody>\n",
       "</table>\n",
       "</div>"
      ],
      "text/plain": [
       "         rank   z-score\n",
       "TP53      0.0 -1.889822\n",
       "MYC       2.0  1.666667\n",
       "ESR1      3.0  1.414214\n",
       "STAT5B    4.0  1.341641\n",
       "NR3C1     5.0  1.000000\n",
       "HIF1A     7.0 -0.577350\n",
       "CTNNB1    8.0  0.447214\n",
       "EGR1      8.0 -0.447214\n",
       "BRD4      9.0  0.000000\n",
       "NCOA3     9.0  0.000000\n",
       "PGR       9.0  0.000000\n",
       "SMARCE1   9.0  0.000000\n",
       "FSH       NaN       NaN\n",
       "IL1B      NaN       NaN\n",
       "MARK1     NaN       NaN\n",
       "MEK       NaN       NaN"
      ]
     },
     "execution_count": 10,
     "metadata": {},
     "output_type": "execute_result"
    }
   ],
   "source": [
    "stat_analysis.rank_and_score_df(z_scores_brca, brca_genes, act = True, abs_value = True, remove_dups=True)"
   ]
  },
  {
   "cell_type": "markdown",
   "metadata": {},
   "source": [
    "### Display Our results\n",
    "<a id='displaybrca'></a>\n",
    "MYCN, MYC, ESR1, and TP53 show coordination between our results and the Ingenuity article's results.\n",
    "\n",
    "Four out of five of our top activating genes are associated with breast cancer according to literature. Our top three inhibiting genes are also associated with breast cancer according to literature. "
   ]
  },
  {
   "cell_type": "code",
   "execution_count": 11,
   "metadata": {},
   "outputs": [
    {
     "data": {
      "text/html": [
       "<div>\n",
       "<style>\n",
       "    .dataframe thead tr:only-child th {\n",
       "        text-align: right;\n",
       "    }\n",
       "\n",
       "    .dataframe thead th {\n",
       "        text-align: left;\n",
       "    }\n",
       "\n",
       "    .dataframe tbody tr th {\n",
       "        vertical-align: top;\n",
       "    }\n",
       "</style>\n",
       "<table border=\"1\" class=\"dataframe\">\n",
       "  <thead>\n",
       "    <tr style=\"text-align: right;\">\n",
       "      <th></th>\n",
       "      <th>activating z-score</th>\n",
       "    </tr>\n",
       "  </thead>\n",
       "  <tbody>\n",
       "    <tr>\n",
       "      <th>STAT1</th>\n",
       "      <td>1.732051</td>\n",
       "    </tr>\n",
       "    <tr>\n",
       "      <th>MYCN</th>\n",
       "      <td>1.732051</td>\n",
       "    </tr>\n",
       "    <tr>\n",
       "      <th>STAT3</th>\n",
       "      <td>1.732051</td>\n",
       "    </tr>\n",
       "    <tr>\n",
       "      <th>MYC</th>\n",
       "      <td>1.666667</td>\n",
       "    </tr>\n",
       "    <tr>\n",
       "      <th>SREBF1</th>\n",
       "      <td>1.414214</td>\n",
       "    </tr>\n",
       "    <tr>\n",
       "      <th>PHKB</th>\n",
       "      <td>1.414214</td>\n",
       "    </tr>\n",
       "    <tr>\n",
       "      <th>CCNA2</th>\n",
       "      <td>1.414214</td>\n",
       "    </tr>\n",
       "    <tr>\n",
       "      <th>ESR1</th>\n",
       "      <td>1.414214</td>\n",
       "    </tr>\n",
       "    <tr>\n",
       "      <th>SREBF2</th>\n",
       "      <td>1.414214</td>\n",
       "    </tr>\n",
       "    <tr>\n",
       "      <th>IQGAP1</th>\n",
       "      <td>1.414214</td>\n",
       "    </tr>\n",
       "  </tbody>\n",
       "</table>\n",
       "</div>"
      ],
      "text/plain": [
       "        activating z-score\n",
       "STAT1             1.732051\n",
       "MYCN              1.732051\n",
       "STAT3             1.732051\n",
       "MYC               1.666667\n",
       "SREBF1            1.414214\n",
       "PHKB              1.414214\n",
       "CCNA2             1.414214\n",
       "ESR1              1.414214\n",
       "SREBF2            1.414214\n",
       "IQGAP1            1.414214"
      ]
     },
     "metadata": {},
     "output_type": "display_data"
    },
    {
     "data": {
      "text/html": [
       "<div>\n",
       "<style>\n",
       "    .dataframe thead tr:only-child th {\n",
       "        text-align: right;\n",
       "    }\n",
       "\n",
       "    .dataframe thead th {\n",
       "        text-align: left;\n",
       "    }\n",
       "\n",
       "    .dataframe tbody tr th {\n",
       "        vertical-align: top;\n",
       "    }\n",
       "</style>\n",
       "<table border=\"1\" class=\"dataframe\">\n",
       "  <thead>\n",
       "    <tr style=\"text-align: right;\">\n",
       "      <th></th>\n",
       "      <th>inhibiting z-score</th>\n",
       "    </tr>\n",
       "  </thead>\n",
       "  <tbody>\n",
       "    <tr>\n",
       "      <th>TP53</th>\n",
       "      <td>-1.889822</td>\n",
       "    </tr>\n",
       "    <tr>\n",
       "      <th>FOXO3</th>\n",
       "      <td>-1.414214</td>\n",
       "    </tr>\n",
       "    <tr>\n",
       "      <th>EGR2</th>\n",
       "      <td>-1.414214</td>\n",
       "    </tr>\n",
       "    <tr>\n",
       "      <th>NR1H3</th>\n",
       "      <td>-1.414214</td>\n",
       "    </tr>\n",
       "    <tr>\n",
       "      <th>FOXO4</th>\n",
       "      <td>-1.414214</td>\n",
       "    </tr>\n",
       "    <tr>\n",
       "      <th>AKT1</th>\n",
       "      <td>-1.414214</td>\n",
       "    </tr>\n",
       "    <tr>\n",
       "      <th>NR1H2</th>\n",
       "      <td>-1.000000</td>\n",
       "    </tr>\n",
       "    <tr>\n",
       "      <th>NFE2L2</th>\n",
       "      <td>-1.000000</td>\n",
       "    </tr>\n",
       "    <tr>\n",
       "      <th>TWIST1</th>\n",
       "      <td>-1.000000</td>\n",
       "    </tr>\n",
       "    <tr>\n",
       "      <th>FOXP3</th>\n",
       "      <td>-1.000000</td>\n",
       "    </tr>\n",
       "  </tbody>\n",
       "</table>\n",
       "</div>"
      ],
      "text/plain": [
       "        inhibiting z-score\n",
       "TP53             -1.889822\n",
       "FOXO3            -1.414214\n",
       "EGR2             -1.414214\n",
       "NR1H3            -1.414214\n",
       "FOXO4            -1.414214\n",
       "AKT1             -1.414214\n",
       "NR1H2            -1.000000\n",
       "NFE2L2           -1.000000\n",
       "TWIST1           -1.000000\n",
       "FOXP3            -1.000000"
      ]
     },
     "metadata": {},
     "output_type": "display_data"
    }
   ],
   "source": [
    "top_act_brca = stat_analysis.top_values(z_scores_brca, act = True, abs_value = False, top = 10)\n",
    "top_inh_brca = stat_analysis.top_values(z_scores_brca, act = False, abs_value = False, top = 10)\n",
    "display(top_act_brca.to_frame(name = 'activating z-score'))\n",
    "display(top_inh_brca.to_frame(name = 'inhibiting z-score'))"
   ]
  },
  {
   "cell_type": "code",
   "execution_count": 22,
   "metadata": {},
   "outputs": [
    {
     "ename": "KeyError",
     "evalue": "0",
     "output_type": "error",
     "traceback": [
      "\u001b[1;31m---------------------------------------------------------------------------\u001b[0m",
      "\u001b[1;31mKeyError\u001b[0m                                  Traceback (most recent call last)",
      "\u001b[1;32m<ipython-input-22-b5fef1f9a6e0>\u001b[0m in \u001b[0;36m<module>\u001b[1;34m()\u001b[0m\n\u001b[0;32m      1\u001b[0m \u001b[0mX\u001b[0m \u001b[1;33m=\u001b[0m \u001b[0mnx\u001b[0m\u001b[1;33m.\u001b[0m\u001b[0mDiGraph\u001b[0m\u001b[1;33m(\u001b[0m\u001b[1;33m[\u001b[0m\u001b[1;33m[\u001b[0m\u001b[1;36m1\u001b[0m\u001b[1;33m,\u001b[0m\u001b[1;36m2\u001b[0m\u001b[1;33m]\u001b[0m\u001b[1;33m,\u001b[0m\u001b[1;33m[\u001b[0m\u001b[1;36m2\u001b[0m\u001b[1;33m,\u001b[0m\u001b[1;36m3\u001b[0m\u001b[1;33m]\u001b[0m\u001b[1;33m,\u001b[0m\u001b[1;33m[\u001b[0m\u001b[1;36m3\u001b[0m\u001b[1;33m,\u001b[0m\u001b[1;36m4\u001b[0m\u001b[1;33m]\u001b[0m\u001b[1;33m]\u001b[0m\u001b[1;33m)\u001b[0m\u001b[1;33m\u001b[0m\u001b[0m\n\u001b[0;32m      2\u001b[0m \u001b[0md\u001b[0m \u001b[1;33m=\u001b[0m \u001b[1;33m{\u001b[0m\u001b[1;36m0\u001b[0m\u001b[1;33m:\u001b[0m\u001b[1;34m'A'\u001b[0m\u001b[1;33m,\u001b[0m \u001b[1;36m1\u001b[0m\u001b[1;33m:\u001b[0m\u001b[1;34m'B'\u001b[0m\u001b[1;33m,\u001b[0m \u001b[1;36m2\u001b[0m\u001b[1;33m:\u001b[0m\u001b[1;34m'C'\u001b[0m\u001b[1;33m}\u001b[0m\u001b[1;33m\u001b[0m\u001b[0m\n\u001b[1;32m----> 3\u001b[1;33m \u001b[0mnx\u001b[0m\u001b[1;33m.\u001b[0m\u001b[0mset_node_attributes\u001b[0m\u001b[1;33m(\u001b[0m\u001b[0mX\u001b[0m\u001b[1;33m,\u001b[0m \u001b[1;34m'help'\u001b[0m\u001b[1;33m,\u001b[0m \u001b[0md\u001b[0m\u001b[1;33m)\u001b[0m\u001b[1;33m\u001b[0m\u001b[0m\n\u001b[0m\u001b[0;32m      4\u001b[0m \u001b[0mx\u001b[0m\u001b[1;33m.\u001b[0m\u001b[0mnodes\u001b[0m\u001b[1;33m(\u001b[0m\u001b[0mdata\u001b[0m\u001b[1;33m=\u001b[0m\u001b[0mTrue\u001b[0m\u001b[1;33m)\u001b[0m\u001b[1;33m\u001b[0m\u001b[0m\n",
      "\u001b[1;32mC:\\Users\\m1webste\\Anaconda2\\lib\\site-packages\\networkx\\classes\\function.pyc\u001b[0m in \u001b[0;36mset_node_attributes\u001b[1;34m(G, name, values)\u001b[0m\n\u001b[0;32m    331\u001b[0m \u001b[1;33m\u001b[0m\u001b[0m\n\u001b[0;32m    332\u001b[0m     \u001b[1;32mfor\u001b[0m \u001b[0mnode\u001b[0m\u001b[1;33m,\u001b[0m \u001b[0mvalue\u001b[0m \u001b[1;32min\u001b[0m \u001b[0mvalues\u001b[0m\u001b[1;33m.\u001b[0m\u001b[0mitems\u001b[0m\u001b[1;33m(\u001b[0m\u001b[1;33m)\u001b[0m\u001b[1;33m:\u001b[0m\u001b[1;33m\u001b[0m\u001b[0m\n\u001b[1;32m--> 333\u001b[1;33m         \u001b[0mG\u001b[0m\u001b[1;33m.\u001b[0m\u001b[0mnode\u001b[0m\u001b[1;33m[\u001b[0m\u001b[0mnode\u001b[0m\u001b[1;33m]\u001b[0m\u001b[1;33m[\u001b[0m\u001b[0mname\u001b[0m\u001b[1;33m]\u001b[0m \u001b[1;33m=\u001b[0m \u001b[0mvalue\u001b[0m\u001b[1;33m\u001b[0m\u001b[0m\n\u001b[0m\u001b[0;32m    334\u001b[0m \u001b[1;33m\u001b[0m\u001b[0m\n\u001b[0;32m    335\u001b[0m \u001b[1;33m\u001b[0m\u001b[0m\n",
      "\u001b[1;31mKeyError\u001b[0m: 0"
     ]
    }
   ],
   "source": [
    "X = nx.DiGraph([[1,2],[2,3],[3,4]])\n",
    "d = {0:'A', 1:'B', 2:'C'}\n",
    "nx.set_node_attributes(X, 'help', d)\n",
    "x.nodes(data=True)"
   ]
  },
  {
   "cell_type": "code",
   "execution_count": 84,
   "metadata": {},
   "outputs": [
    {
     "data": {
      "text/plain": [
       "[]"
      ]
     },
     "execution_count": 84,
     "metadata": {},
     "output_type": "execute_result"
    }
   ],
   "source": [
    "tf = 'MYCN'\n",
    "node_list = DG.neighbors(tf) + [tf]\n",
    "G = DG.subgraph(node_list) #get only top z-score node and neighbors\n",
    "nodes = list(G.nodes())\n",
    "\n",
    "DEG_filename = '../geo2r_GSE11352_brca_48hours.txt'\n",
    "DEG_list, DEG_to_pvalue, DEG_to_updown = create_graph.create_DEG_list(DEG_filename, p_value_filter = 1) # get info for all\n",
    "DEG_to_fld = {n: DEG_to_updown[n] for n in nodes if n in DEG_to_updown} # keep only those in the graph\n",
    "\n",
    "nts = {n: -np.log(DEG_to_pvalue[n]) for n in nodes if n in DEG_to_updown} # keep only those in graph G\n",
    "avg = np.average(list(nts.values()))\n",
    "node_to_size = {n:nts[n] if n in nts else avg for n in nodes}\n",
    "node_to_size, avg\n",
    "\n",
    "MYC_in_edges = G.in_edges('MYCN')\n",
    "G.remove_edges_from(MYC_in_edges)\n",
    "G.in_edges('MYCN')"
   ]
  },
  {
   "cell_type": "code",
   "execution_count": 104,
   "metadata": {},
   "outputs": [
    {
     "data": {
      "text/html": [
       "<!doctype html><html><head>  <title>Network | Basic usage</title></head><body><script type=\"text/javascript\">function setUpFrame() {     var frame = window.frames[\"style_file100\"];    frame.runVis([{\"node_shape\": \"dot\", \"degree\": 3.0, \"title\": \"CCL2\", \"color\": \"rgba(0, 0, 256, 1.0)\", \"size_field\": 2.089924707527987, \"y\": 1239.469888617839, \"x\": 1188.1387897299014, \"border_width\": 0, \"id\": \"CCL2\"}, {\"node_shape\": \"dot\", \"degree\": 3.0, \"title\": \"TGM2\", \"color\": \"rgba(198, 198, 256, 1.0)\", \"size_field\": 3.932401799030521, \"y\": 1466.2385437160099, \"x\": 442.13135343225656, \"border_width\": 0, \"id\": \"TGM2\"}, {\"node_shape\": \"dot\", \"degree\": 3.0, \"title\": \"TP53INP1\", \"color\": \"rgba(0, 0, 256, 1.0)\", \"size_field\": 5.44201937618241, \"y\": 1920.4072248091707, \"x\": 1846.5700094456074, \"border_width\": 0, \"id\": \"TP53INP1\"}, {\"node_shape\": \"dot\", \"degree\": 3.0, \"title\": \"SIRT2\", \"color\": \"rgba(0, 0, 256, 1.0)\", \"size_field\": 2.8182569916027895, \"y\": 2096.9588423541854, \"x\": 1931.6576248971696, \"border_width\": 0, \"id\": \"SIRT2\"}, {\"node_shape\": \"dot\", \"degree\": 3.0, \"title\": \"SMAD4\", \"color\": \"rgba(0, 0, 256, 1.0)\", \"size_field\": 3.6782522284344603, \"y\": 1899.084614589561, \"x\": 878.1031938961131, \"border_width\": 0, \"id\": \"SMAD4\"}, {\"node_shape\": \"dot\", \"degree\": 3.0, \"title\": \"CDKN1B\", \"color\": \"rgba(0, 0, 256, 1.0)\", \"size_field\": 4.10127823628901, \"y\": 1286.0161636913485, \"x\": 755.4358749774308, \"border_width\": 0, \"id\": \"CDKN1B\"}, {\"node_shape\": \"dot\", \"degree\": 3.0, \"title\": \"IGF1R\", \"color\": \"rgba(0, 0, 256, 1.0)\", \"size_field\": 3.944211592419732, \"y\": 1466.6179240260863, \"x\": 1354.2859461369721, \"border_width\": 0, \"id\": \"IGF1R\"}, {\"node_shape\": \"dot\", \"degree\": 3.0, \"title\": \"BCL2\", \"color\": \"rgba(154, 154, 256, 1.0)\", \"size_field\": 3.5186835491656363, \"y\": 1402.6252917818779, \"x\": 1471.6923699750862, \"border_width\": 0, \"id\": \"BCL2\"}, {\"node_shape\": \"dot\", \"degree\": 3.0, \"title\": \"CHL1\", \"color\": \"rgba(256, 172, 172, 1.0)\", \"size_field\": 2.7991745852054755, \"y\": 1230.3207286009674, \"x\": 888.8950825326434, \"border_width\": 0, \"id\": \"CHL1\"}, {\"node_shape\": \"dot\", \"degree\": 3.0, \"title\": \"NDRG1\", \"color\": \"rgba(0, 0, 256, 1.0)\", \"size_field\": 2.282628198149102, \"y\": 1476.3661583529758, \"x\": 835.0306059035554, \"border_width\": 0, \"id\": \"NDRG1\"}, {\"node_shape\": \"dot\", \"degree\": 3.0, \"title\": \"MYBL2\", \"color\": \"rgba(34, 34, 256, 1.0)\", \"size_field\": 2.316904931128684, \"y\": 340.1333105300408, \"x\": 1284.1605077529305, \"border_width\": 0, \"id\": \"MYBL2\"}, {\"node_shape\": \"dot\", \"degree\": 3.0, \"title\": \"NES\", \"color\": \"rgba(256, 0, 0, 1.0)\", \"size_field\": 2.8751487885429796, \"y\": 1007.7864622116222, \"x\": 1418.8831857584469, \"border_width\": 0, \"id\": \"NES\"}, {\"node_shape\": \"dot\", \"degree\": 3.0, \"title\": \"GSN\", \"color\": \"rgba(0, 0, 256, 1.0)\", \"size_field\": 3.868856519613022, \"y\": 0.0, \"x\": 861.4395699103748, \"border_width\": 0, \"id\": \"GSN\"}, {\"node_shape\": \"dot\", \"degree\": 3.0, \"title\": \"MYCN\", \"color\": \"yellow\", \"size_field\": 4.909554577312939, \"y\": 336.31129160868517, \"x\": 114.62491094548731, \"border_width\": 0, \"id\": \"MYCN\"}, {\"node_shape\": \"dot\", \"degree\": 3.0, \"title\": \"KLF10\", \"color\": \"rgba(50, 50, 256, 1.0)\", \"size_field\": 2.8636982817549845, \"y\": 2200.0, \"x\": 1638.0248328073274, \"border_width\": 0, \"id\": \"KLF10\"}, {\"node_shape\": \"dot\", \"degree\": 3.0, \"title\": \"STAT3\", \"color\": \"rgba(0, 0, 256, 1.0)\", \"size_field\": 3.0067626350382306, \"y\": 754.6472496471744, \"x\": 953.450160869148, \"border_width\": 0, \"id\": \"STAT3\"}, {\"node_shape\": \"dot\", \"degree\": 3.0, \"title\": \"CHD7\", \"color\": \"rgba(102, 102, 256, 1.0)\", \"size_field\": 3.1933626252139202, \"y\": 1554.2630617430552, \"x\": 0.0, \"border_width\": 0, \"id\": \"CHD7\"}, {\"node_shape\": \"dot\", \"degree\": 3.0, \"title\": \"RUNX3\", \"color\": \"rgba(0, 0, 256, 1.0)\", \"size_field\": 2.6790470561811635, \"y\": 1998.374853936362, \"x\": 1718.338990100752, \"border_width\": 0, \"id\": \"RUNX3\"}, {\"node_shape\": \"dot\", \"degree\": 3.0, \"title\": \"CDKL5\", \"color\": \"rgba(0, 0, 256, 1.0)\", \"size_field\": 5.18689277901515, \"y\": 1705.674852357545, \"x\": 194.17897695845767, \"border_width\": 0, \"id\": \"CDKL5\"}, {\"node_shape\": \"dot\", \"degree\": 3.0, \"title\": \"SOX11\", \"color\": \"rgba(0, 0, 256, 1.0)\", \"size_field\": 2.8209805520698303, \"y\": 1053.7426689971135, \"x\": 1402.7472863455332, \"border_width\": 0, \"id\": \"SOX11\"}, {\"node_shape\": \"dot\", \"degree\": 3.0, \"title\": \"NTRK1\", \"color\": \"rgba(48, 48, 256, 1.0)\", \"size_field\": 2.0781777810640243, \"y\": 973.1263073589084, \"x\": 1556.966565093407, \"border_width\": 0, \"id\": \"NTRK1\"}, {\"node_shape\": \"dot\", \"degree\": 3.0, \"title\": \"RGS5\", \"color\": \"rgba(0, 0, 256, 1.0)\", \"size_field\": 4.6635549612156595, \"y\": 1433.260480144711, \"x\": 534.0152938327528, \"border_width\": 0, \"id\": \"RGS5\"}, {\"node_shape\": \"dot\", \"degree\": 3.0, \"title\": \"GLI1\", \"color\": \"rgba(0, 0, 256, 1.0)\", \"size_field\": 2.1338743085563276, \"y\": 732.9340419493642, \"x\": 1691.1515268656995, \"border_width\": 0, \"id\": \"GLI1\"}, {\"node_shape\": \"dot\", \"degree\": 3.0, \"title\": \"NFKB1\", \"color\": \"rgba(0, 0, 256, 1.0)\", \"size_field\": 2.533923675011968, \"y\": 865.0479237620433, \"x\": 945.4742423822792, \"border_width\": 0, \"id\": \"NFKB1\"}, {\"node_shape\": \"dot\", \"degree\": 3.0, \"title\": \"MYC\", \"color\": \"rgba(176, 176, 256, 1.0)\", \"size_field\": 4.296603021316498, \"y\": 1383.753492594834, \"x\": 1062.9695106032652, \"border_width\": 0, \"id\": \"MYC\"}, {\"node_shape\": \"dot\", \"degree\": 3.0, \"title\": \"TRPM7\", \"color\": \"rgba(0, 0, 256, 1.0)\", \"size_field\": 3.396344696973392, \"y\": 564.0439929940537, \"x\": 1362.6587212461877, \"border_width\": 0, \"id\": \"TRPM7\"}, {\"node_shape\": \"dot\", \"degree\": 3.0, \"title\": \"WT1\", \"color\": \"rgba(0, 0, 256, 1.0)\", \"size_field\": 2.133188594243745, \"y\": 1265.6360156831397, \"x\": 437.4642427208686, \"border_width\": 0, \"id\": \"WT1\"}, {\"node_shape\": \"dot\", \"degree\": 3.0, \"title\": \"WDR5\", \"color\": \"rgba(142, 142, 256, 1.0)\", \"size_field\": 4.02117263355586, \"y\": 463.2729077267398, \"x\": 1534.2291096532247, \"border_width\": 0, \"id\": \"WDR5\"}, {\"node_shape\": \"dot\", \"degree\": 3.0, \"title\": \"SHC2\", \"color\": \"rgba(0, 0, 256, 1.0)\", \"size_field\": 3.370027388656019, \"y\": 1297.3024294516208, \"x\": 182.13061580216294, \"border_width\": 0, \"id\": \"SHC2\"}, {\"node_shape\": \"dot\", \"degree\": 3.0, \"title\": \"ASCL1\", \"color\": \"rgba(256, 8, 8, 1.0)\", \"size_field\": 5.414282621210811, \"y\": 1699.2143595703183, \"x\": 1571.996542217829, \"border_width\": 0, \"id\": \"ASCL1\"}, {\"node_shape\": \"dot\", \"degree\": 3.0, \"title\": \"CTSD\", \"color\": \"rgba(252, 252, 256, 1.0)\", \"size_field\": 4.838728524744326, \"y\": 1727.811992239618, \"x\": 904.1165015798941, \"border_width\": 0, \"id\": \"CTSD\"}, {\"node_shape\": \"dot\", \"degree\": 3.0, \"title\": \"HMGA1\", \"color\": \"rgba(0, 0, 256, 1.0)\", \"size_field\": 2.8563722416629114, \"y\": 987.4805429526481, \"x\": 871.4902398373537, \"border_width\": 0, \"id\": \"HMGA1\"}, {\"node_shape\": \"dot\", \"degree\": 3.0, \"title\": \"MCM7\", \"color\": \"rgba(130, 130, 256, 1.0)\", \"size_field\": 3.8546992690019293, \"y\": 1785.132473033191, \"x\": 427.6098687551601, \"border_width\": 0, \"id\": \"MCM7\"}, {\"node_shape\": \"dot\", \"degree\": 3.0, \"title\": \"VEGFA\", \"color\": \"rgba(148, 148, 256, 1.0)\", \"size_field\": 3.525556428453398, \"y\": 1522.3297088015047, \"x\": 1167.6879036029063, \"border_width\": 0, \"id\": \"VEGFA\"}, {\"node_shape\": \"dot\", \"degree\": 3.0, \"title\": \"SHH\", \"color\": \"rgba(0, 0, 256, 1.0)\", \"size_field\": 2.9731256686266936, \"y\": 1350.284979810441, \"x\": 1710.5042385623735, \"border_width\": 0, \"id\": \"SHH\"}, {\"node_shape\": \"dot\", \"degree\": 3.0, \"title\": \"SLC19A1\", \"color\": \"rgba(196, 196, 256, 1.0)\", \"size_field\": 4.267217949156755, \"y\": 878.5174343059778, \"x\": 1794.1359264206876, \"border_width\": 0, \"id\": \"SLC19A1\"}, {\"node_shape\": \"dot\", \"degree\": 3.0, \"title\": \"TRPM6\", \"color\": \"rgba(0, 0, 256, 1.0)\", \"size_field\": 2.8472311959426606, \"y\": 1956.9779393913227, \"x\": 636.1747053063427, \"border_width\": 0, \"id\": \"TRPM6\"}, {\"node_shape\": \"dot\", \"degree\": 3.0, \"title\": \"ALK\", \"color\": \"rgba(0, 0, 256, 1.0)\", \"size_field\": 2.384486701722973, \"y\": 1402.0047609608084, \"x\": 1718.028167518664, \"border_width\": 0, \"id\": \"ALK\"}, {\"node_shape\": \"dot\", \"degree\": 3.0, \"title\": \"TP53\", \"color\": \"rgba(28, 28, 256, 1.0)\", \"size_field\": 2.4205279857852102, \"y\": 1537.9933724028601, \"x\": 1351.641229531028, \"border_width\": 0, \"id\": \"TP53\"}, {\"node_shape\": \"dot\", \"degree\": 3.0, \"title\": \"BMP2\", \"color\": \"rgba(256, 54, 54, 1.0)\", \"size_field\": 3.0555527992076628, \"y\": 1161.8815151360964, \"x\": 1381.0844175432226, \"border_width\": 0, \"id\": \"BMP2\"}, {\"node_shape\": \"dot\", \"degree\": 3.0, \"title\": \"CCND1\", \"color\": \"rgba(74, 74, 256, 1.0)\", \"size_field\": 3.2437536743377806, \"y\": 1253.1224380009414, \"x\": 1136.4554579239627, \"border_width\": 0, \"id\": \"CCND1\"}, {\"node_shape\": \"dot\", \"degree\": 3.0, \"title\": \"LRRN3\", \"color\": \"rgba(0, 0, 256, 1.0)\", \"size_field\": 2.8171243603796565, \"y\": 1870.708877124327, \"x\": 938.8864116166329, \"border_width\": 0, \"id\": \"LRRN3\"}, {\"node_shape\": \"dot\", \"degree\": 3.0, \"title\": \"INSM1\", \"color\": \"rgba(0, 0, 256, 1.0)\", \"size_field\": 2.256312612705724, \"y\": 1834.5568434851182, \"x\": 1231.8168784141096, \"border_width\": 0, \"id\": \"INSM1\"}, {\"node_shape\": \"dot\", \"degree\": 3.0, \"title\": \"AHR\", \"color\": \"rgba(0, 0, 256, 1.0)\", \"size_field\": 2.23990829764694, \"y\": 1758.154818214526, \"x\": 1031.1620297850147, \"border_width\": 0, \"id\": \"AHR\"}, {\"node_shape\": \"dot\", \"degree\": 3.0, \"title\": \"PTEN\", \"color\": \"rgba(0, 0, 256, 1.0)\", \"size_field\": 3.3242589702004377, \"y\": 1527.2949585214349, \"x\": 1209.4129941835586, \"border_width\": 0, \"id\": \"PTEN\"}, {\"node_shape\": \"dot\", \"degree\": 3.0, \"title\": \"VIP\", \"color\": \"rgba(110, 110, 256, 1.0)\", \"size_field\": 2.0948602810239603, \"y\": 888.7968400020502, \"x\": 535.6372187762533, \"border_width\": 0, \"id\": \"VIP\"}, {\"node_shape\": \"dot\", \"degree\": 3.0, \"title\": \"RD3\", \"color\": \"rgba(0, 0, 256, 1.0)\", \"size_field\": 2.0142003494011416, \"y\": 1492.951579741102, \"x\": 164.13351769419594, \"border_width\": 0, \"id\": \"RD3\"}, {\"node_shape\": \"dot\", \"degree\": 3.0, \"title\": \"SIRT1\", \"color\": \"rgba(44, 44, 256, 1.0)\", \"size_field\": 2.434173272244908, \"y\": 1161.6004881221504, \"x\": 1251.909489585098, \"border_width\": 0, \"id\": \"SIRT1\"}, {\"node_shape\": \"dot\", \"degree\": 3.0, \"title\": \"MTOR\", \"color\": \"rgba(142, 142, 256, 1.0)\", \"size_field\": 2.2470520963658855, \"y\": 983.9472052305329, \"x\": 730.8141593845766, \"border_width\": 0, \"id\": \"MTOR\"}, {\"node_shape\": \"dot\", \"degree\": 3.0, \"title\": \"KDM3A\", \"color\": \"rgba(150, 150, 256, 1.0)\", \"size_field\": 3.606941032235513, \"y\": 1072.7719680584157, \"x\": 1769.3238729765508, \"border_width\": 0, \"id\": \"KDM3A\"}, {\"node_shape\": \"dot\", \"degree\": 3.0, \"title\": \"KDM5B\", \"color\": \"rgba(0, 0, 256, 1.0)\", \"size_field\": 2.501865882394519, \"y\": 2034.7469481320143, \"x\": 1544.3120898827694, \"border_width\": 0, \"id\": \"KDM5B\"}, {\"node_shape\": \"dot\", \"degree\": 3.0, \"title\": \"CDC42\", \"color\": \"rgba(102, 102, 256, 1.0)\", \"size_field\": 2.6002034349172076, \"y\": 365.6115838788612, \"x\": 641.9622162550855, \"border_width\": 0, \"id\": \"CDC42\"}], [{\"color\": \"blue\", \"source\": 26, \"target\": 40}, {\"color\": \"blue\", \"source\": 26, \"target\": 6}, {\"color\": \"blue\", \"source\": 26, \"target\": 7}, {\"color\": \"red\", \"source\": 4, \"target\": 38}, {\"color\": \"blue\", \"source\": 4, \"target\": 40}, {\"color\": \"red\", \"source\": 4, \"target\": 5}, {\"color\": \"blue\", \"source\": 4, \"target\": 33}, {\"color\": \"blue\", \"source\": 4, \"target\": 24}, {\"color\": \"blue\", \"source\": 13, \"target\": 0}, {\"color\": \"blue\", \"source\": 13, \"target\": 1}, {\"color\": \"blue\", \"source\": 13, \"target\": 2}, {\"color\": \"red\", \"source\": 13, \"target\": 3}, {\"color\": \"blue\", \"source\": 13, \"target\": 4}, {\"color\": \"blue\", \"source\": 13, \"target\": 5}, {\"color\": \"red\", \"source\": 13, \"target\": 6}, {\"color\": \"red\", \"source\": 13, \"target\": 7}, {\"color\": \"blue\", \"source\": 13, \"target\": 8}, {\"color\": \"blue\", \"source\": 13, \"target\": 9}, {\"color\": \"red\", \"source\": 13, \"target\": 10}, {\"color\": \"red\", \"source\": 13, \"target\": 11}, {\"color\": \"red\", \"source\": 13, \"target\": 11}, {\"color\": \"blue\", \"source\": 13, \"target\": 12}, {\"color\": \"blue\", \"source\": 13, \"target\": 14}, {\"color\": \"red\", \"source\": 13, \"target\": 15}, {\"color\": \"blue\", \"source\": 13, \"target\": 16}, {\"color\": \"blue\", \"source\": 13, \"target\": 17}, {\"color\": \"blue\", \"source\": 13, \"target\": 18}, {\"color\": \"red\", \"source\": 13, \"target\": 19}, {\"color\": \"blue\", \"source\": 13, \"target\": 20}, {\"color\": \"blue\", \"source\": 13, \"target\": 21}, {\"color\": \"red\", \"source\": 13, \"target\": 22}, {\"color\": \"blue\", \"source\": 13, \"target\": 23}, {\"color\": \"blue\", \"source\": 13, \"target\": 24}, {\"color\": \"red\", \"source\": 13, \"target\": 25}, {\"color\": \"blue\", \"source\": 13, \"target\": 26}, {\"color\": \"red\", \"source\": 13, \"target\": 27}, {\"color\": \"red\", \"source\": 13, \"target\": 28}, {\"color\": \"red\", \"source\": 13, \"target\": 29}, {\"color\": \"blue\", \"source\": 13, \"target\": 30}, {\"color\": \"red\", \"source\": 13, \"target\": 31}, {\"color\": \"red\", \"source\": 13, \"target\": 32}, {\"color\": \"red\", \"source\": 13, \"target\": 33}, {\"color\": \"red\", \"source\": 13, \"target\": 34}, {\"color\": \"red\", \"source\": 13, \"target\": 35}, {\"color\": \"red\", \"source\": 13, \"target\": 36}, {\"color\": \"red\", \"source\": 13, \"target\": 37}, {\"color\": \"red\", \"source\": 13, \"target\": 38}, {\"color\": \"blue\", \"source\": 13, \"target\": 39}, {\"color\": \"red\", \"source\": 13, \"target\": 40}, {\"color\": \"blue\", \"source\": 13, \"target\": 41}, {\"color\": \"red\", \"source\": 13, \"target\": 42}, {\"color\": \"blue\", \"source\": 13, \"target\": 43}, {\"color\": \"red\", \"source\": 13, \"target\": 44}, {\"color\": \"blue\", \"source\": 13, \"target\": 45}, {\"color\": \"blue\", \"source\": 13, \"target\": 46}, {\"color\": \"red\", \"source\": 13, \"target\": 47}, {\"color\": \"red\", \"source\": 13, \"target\": 48}, {\"color\": \"red\", \"source\": 13, \"target\": 49}, {\"color\": \"blue\", \"source\": 13, \"target\": 50}, {\"color\": \"blue\", \"source\": 13, \"target\": 51}, {\"color\": \"blue\", \"source\": 13, \"target\": 51}, {\"color\": \"red\", \"source\": 14, \"target\": 39}, {\"color\": \"red\", \"source\": 15, \"target\": 6}, {\"color\": \"blue\", \"source\": 15, \"target\": 38}, {\"color\": \"blue\", \"source\": 15, \"target\": 40}, {\"color\": \"blue\", \"source\": 15, \"target\": 40}, {\"color\": \"blue\", \"source\": 15, \"target\": 47}, {\"color\": \"blue\", \"source\": 15, \"target\": 33}, {\"color\": \"blue\", \"source\": 15, \"target\": 33}, {\"color\": \"red\", \"source\": 15, \"target\": 48}, {\"color\": \"red\", \"source\": 15, \"target\": 24}, {\"color\": \"blue\", \"source\": 44, \"target\": 0}, {\"color\": \"blue\", \"source\": 44, \"target\": 1}, {\"color\": \"blue\", \"source\": 44, \"target\": 38}, {\"color\": \"blue\", \"source\": 44, \"target\": 40}, {\"color\": \"blue\", \"source\": 44, \"target\": 20}, {\"color\": \"blue\", \"source\": 44, \"target\": 33}, {\"color\": \"blue\", \"source\": 44, \"target\": 48}, {\"color\": \"red\", \"source\": 44, \"target\": 9}, {\"color\": \"blue\", \"source\": 44, \"target\": 24}, {\"color\": \"blue\", \"source\": 44, \"target\": 50}, {\"color\": \"blue\", \"source\": 44, \"target\": 7}, {\"color\": \"red\", \"source\": 22, \"target\": 37}, {\"color\": \"blue\", \"source\": 22, \"target\": 40}, {\"color\": \"blue\", \"source\": 22, \"target\": 40}, {\"color\": \"red\", \"source\": 22, \"target\": 34}, {\"color\": \"red\", \"source\": 22, \"target\": 34}, {\"color\": \"blue\", \"source\": 22, \"target\": 7}, {\"color\": \"blue\", \"source\": 22, \"target\": 7}, {\"color\": \"blue\", \"source\": 22, \"target\": 39}, {\"color\": \"blue\", \"source\": 22, \"target\": 39}, {\"color\": \"red\", \"source\": 23, \"target\": 0}, {\"color\": \"blue\", \"source\": 23, \"target\": 47}, {\"color\": \"blue\", \"source\": 23, \"target\": 47}, {\"color\": \"red\", \"source\": 23, \"target\": 38}, {\"color\": \"red\", \"source\": 23, \"target\": 40}, {\"color\": \"red\", \"source\": 23, \"target\": 33}, {\"color\": \"red\", \"source\": 23, \"target\": 34}, {\"color\": \"red\", \"source\": 23, \"target\": 48}, {\"color\": \"red\", \"source\": 23, \"target\": 24}, {\"color\": \"red\", \"source\": 23, \"target\": 7}, {\"color\": \"red\", \"source\": 24, \"target\": 0}, {\"color\": \"red\", \"source\": 24, \"target\": 47}, {\"color\": \"red\", \"source\": 24, \"target\": 15}, {\"color\": \"blue\", \"source\": 24, \"target\": 2}, {\"color\": \"blue\", \"source\": 24, \"target\": 38}, {\"color\": \"blue\", \"source\": 24, \"target\": 17}, {\"color\": \"red\", \"source\": 24, \"target\": 40}, {\"color\": \"blue\", \"source\": 24, \"target\": 5}, {\"color\": \"blue\", \"source\": 24, \"target\": 5}, {\"color\": \"red\", \"source\": 24, \"target\": 23}, {\"color\": \"blue\", \"source\": 24, \"target\": 39}, {\"color\": \"blue\", \"source\": 24, \"target\": 44}, {\"color\": \"blue\", \"source\": 24, \"target\": 45}, {\"color\": \"blue\", \"source\": 24, \"target\": 33}, {\"color\": \"blue\", \"source\": 24, \"target\": 9}, {\"color\": \"blue\", \"source\": 24, \"target\": 9}, {\"color\": \"blue\", \"source\": 24, \"target\": 48}, {\"color\": \"red\", \"source\": 24, \"target\": 31}, {\"color\": \"blue\", \"source\": 24, \"target\": 4}, {\"color\": \"blue\", \"source\": 24, \"target\": 7}, {\"color\": \"blue\", \"source\": 24, \"target\": 7}, {\"color\": \"red\", \"source\": 29, \"target\": 34}, {\"color\": \"blue\", \"source\": 29, \"target\": 47}, {\"color\": \"red\", \"source\": 29, \"target\": 42}, {\"color\": \"red\", \"source\": 31, \"target\": 24}, {\"color\": \"blue\", \"source\": 31, \"target\": 38}, {\"color\": \"red\", \"source\": 38, \"target\": 0}, {\"color\": \"blue\", \"source\": 38, \"target\": 6}, {\"color\": \"red\", \"source\": 38, \"target\": 2}, {\"color\": \"blue\", \"source\": 38, \"target\": 15}, {\"color\": \"blue\", \"source\": 38, \"target\": 40}, {\"color\": \"blue\", \"source\": 38, \"target\": 5}, {\"color\": \"red\", \"source\": 38, \"target\": 30}, {\"color\": \"blue\", \"source\": 38, \"target\": 47}, {\"color\": \"blue\", \"source\": 38, \"target\": 47}, {\"color\": \"blue\", \"source\": 38, \"target\": 47}, {\"color\": \"blue\", \"source\": 38, \"target\": 31}, {\"color\": \"blue\", \"source\": 38, \"target\": 44}, {\"color\": \"blue\", \"source\": 38, \"target\": 33}, {\"color\": \"red\", \"source\": 38, \"target\": 9}, {\"color\": \"red\", \"source\": 38, \"target\": 34}, {\"color\": \"red\", \"source\": 38, \"target\": 23}, {\"color\": \"blue\", \"source\": 38, \"target\": 24}, {\"color\": \"blue\", \"source\": 38, \"target\": 11}, {\"color\": \"red\", \"source\": 38, \"target\": 4}, {\"color\": \"blue\", \"source\": 38, \"target\": 7}, {\"color\": \"blue\", \"source\": 38, \"target\": 7}, {\"color\": \"blue\", \"source\": 38, \"target\": 7}, {\"color\": \"blue\", \"source\": 42, \"target\": 40}, {\"color\": \"red\", \"source\": 42, \"target\": 29}, {\"color\": \"red\", \"source\": 42, \"target\": 34}, {\"color\": \"red\", \"source\": 43, \"target\": 0}, {\"color\": \"red\", \"source\": 43, \"target\": 9}, {\"color\": \"red\", \"source\": 43, \"target\": 33}, {\"color\": \"blue\", \"source\": 17, \"target\": 24}, {\"color\": \"blue\", \"source\": 17, \"target\": 33}, {\"color\": \"blue\", \"source\": 17, \"target\": 7}, {\"color\": \"blue\", \"source\": 47, \"target\": 15}, {\"color\": \"red\", \"source\": 47, \"target\": 5}, {\"color\": \"blue\", \"source\": 47, \"target\": 29}, {\"color\": \"blue\", \"source\": 47, \"target\": 33}, {\"color\": \"blue\", \"source\": 47, \"target\": 23}, {\"color\": \"blue\", \"source\": 47, \"target\": 23}, {\"color\": \"blue\", \"source\": 47, \"target\": 38}, {\"color\": \"blue\", \"source\": 47, \"target\": 38}, {\"color\": \"blue\", \"source\": 47, \"target\": 38}, {\"color\": \"red\", \"source\": 47, \"target\": 24}, {\"color\": \"blue\", \"source\": 50, \"target\": 44}]);}</script><iframe name=\"style_file100\" src=\"style_file100.html\" height=\"1200px\" width=\"100%;\"></iframe></body></html>"
      ],
      "text/plain": [
       "<IPython.core.display.HTML object>"
      ]
     },
     "execution_count": 104,
     "metadata": {},
     "output_type": "execute_result"
    }
   ],
   "source": [
    "def vis_tf_network(DG, tf, DEG_filename):\n",
    "\n",
    "    # create sub graph\n",
    "    node_list = DG.neighbors(tf) + [tf]\n",
    "    G = DG.subgraph(node_list) #get only top z-score node and neighbors\n",
    "    \n",
    "    # remove arrows pointing to tf\n",
    "    tf_in_edges = G.in_edges(tf)\n",
    "    G.remove_edges_from(tf_in_edges)\n",
    "    \n",
    "    nodes = list(G.nodes())\n",
    "    edges = list(G.edges()) \n",
    "\n",
    "    # define the initial positions of the nodes using networkx's spring_layout function\n",
    "    pos = nx.spring_layout(G)\n",
    "    \n",
    "    # define node colors\n",
    "    DEG_list, DEG_to_pvalue, DEG_to_updown = create_graph.create_DEG_list(DEG_filename, p_value_filter = 1) # get info for all\n",
    "    node_to_fld = {n: DEG_to_updown[n] for n in nodes if n in DEG_to_updown} # keep only those in graph G\n",
    "    nx.set_node_attributes(G, 'fold_change', 0) # give all nodes a default fold change of zero\n",
    "    nx.set_node_attributes(G, 'fold_change', node_to_fld) # overwrite with actual fold change for those nodes who have one\n",
    "    node_to_color = visJS_module.return_node_to_color(G,\n",
    "                                                      field_to_map='fold_change',\n",
    "                                                      cmap=plt.cm.bwr,\n",
    "                                                      alpha = 1.0,\n",
    "                                                      color_vals_transform = None,\n",
    "                                                      ceil_val=10,\n",
    "                                                      color_max_frac = 1.0,\n",
    "                                                      color_min_frac = 0.0)\n",
    "    \n",
    "    node_to_color[tf] = 'yellow'\n",
    "    \n",
    "    # define node size\n",
    "    nts = {n: (2+(-np.log(DEG_to_pvalue[n]))) for n in nodes if n in DEG_to_updown} # keep only those in graph G\n",
    "    avg = np.average(list(nts.values()))\n",
    "    node_to_size = {n:nts[n] if n in nts else avg for n in nodes}\n",
    "    \n",
    "    # define edge colors\n",
    "    edge_to_color = {edge[0:2]:color[np.sign(edge[2]['sign'])] for edge in list(G.edges(data = True))}\n",
    "    \n",
    "    # define node attributes\n",
    "    nodes_dict = [{\"id\":n,\n",
    "                   \"color\": node_to_color[n],\n",
    "                   \"size_field\": node_to_size[n],\n",
    "                   \"x\":pos[n][0]*2200,\n",
    "                   \"y\":pos[n][1]*2200} for n in nodes]\n",
    "    node_map = dict(zip(nodes,range(len(nodes))))  # map to indices for source/target in edges\n",
    "\n",
    "    # define edge attributes\n",
    "    edges_dict = [{\"source\":node_map[edges[i][0]], \n",
    "                   \"target\":node_map[edges[i][1]], \n",
    "                   \"color\":edge_to_color[edges[i]]} for i in range(len(edges))]\n",
    "\n",
    "    # display results\n",
    "    return visJS2jupyter.visJS_module.visjs_network(nodes_dict,edges_dict,\n",
    "                                            edge_arrow_to = True,\n",
    "                                            node_size_multiplier = 10,\n",
    "                                            node_size_transform = '',\n",
    "                                            node_size_field = 'size_field',\n",
    "                                            node_font_size = 35,\n",
    "                                            node_font_color = 'black',\n",
    "                                            edge_color_hover = 'orange',\n",
    "                                            edge_color_highlight = 'orange',\n",
    "                                            edge_width = 1.5,\n",
    "                                            edge_hoverWidth = 5,\n",
    "                                            edge_selection_width = 5,\n",
    "                                            node_border_width_selected = 0,\n",
    "                                            graph_id = 100)\n",
    "    \n",
    "vis_tf_network(DG_brca, 'MYCN', '../geo2r_GSE11352_brca_48hours.txt')  "
   ]
  },
  {
   "cell_type": "code",
   "execution_count": null,
   "metadata": {
    "collapsed": true
   },
   "outputs": [],
   "source": []
  },
  {
   "cell_type": "code",
   "execution_count": null,
   "metadata": {
    "collapsed": true
   },
   "outputs": [],
   "source": []
  },
  {
   "cell_type": "code",
   "execution_count": null,
   "metadata": {
    "collapsed": true
   },
   "outputs": [],
   "source": []
  },
  {
   "cell_type": "code",
   "execution_count": null,
   "metadata": {
    "collapsed": true
   },
   "outputs": [],
   "source": []
  },
  {
   "cell_type": "code",
   "execution_count": null,
   "metadata": {
    "collapsed": true
   },
   "outputs": [],
   "source": []
  },
  {
   "cell_type": "code",
   "execution_count": null,
   "metadata": {
    "collapsed": true
   },
   "outputs": [],
   "source": []
  },
  {
   "cell_type": "code",
   "execution_count": null,
   "metadata": {
    "collapsed": true
   },
   "outputs": [],
   "source": []
  },
  {
   "cell_type": "code",
   "execution_count": null,
   "metadata": {
    "collapsed": true
   },
   "outputs": [],
   "source": []
  },
  {
   "cell_type": "code",
   "execution_count": 15,
   "metadata": {},
   "outputs": [
    {
     "data": {
      "text/html": [
       "<!doctype html><html><head>  <title>Network | Basic usage</title></head><body><script type=\"text/javascript\">function setUpFrame() {     var frame = window.frames[\"style_file0\"];    frame.runVis([{\"node_shape\": \"dot\", \"degree\": 3.0, \"title\": \"SOD2 \", \"color\": \"grey\", \"size_field\": 3, \"y\": 1213.3216467161692, \"x\": 1470.7515228652614, \"border_width\": 0, \"id\": \"SOD2 \"}, {\"node_shape\": \"dot\", \"degree\": 3.0, \"title\": \"YWHAZ \", \"color\": \"grey\", \"size_field\": 3, \"y\": 732.5565266862855, \"x\": 943.0731853396543, \"border_width\": 0, \"id\": \"YWHAZ \"}, {\"node_shape\": \"dot\", \"degree\": 3.0, \"title\": \"TSC22D3 \", \"color\": \"grey\", \"size_field\": 3, \"y\": 1318.3139400166954, \"x\": 67.10751077919404, \"border_width\": 0, \"id\": \"TSC22D3 \"}, {\"node_shape\": \"dot\", \"degree\": 3.0, \"title\": \"AGO4 \", \"color\": \"grey\", \"size_field\": 3, \"y\": 1892.961778088584, \"x\": 786.1985461801004, \"border_width\": 0, \"id\": \"AGO4 \"}, {\"node_shape\": \"dot\", \"degree\": 3.0, \"title\": \"TNRC6A \", \"color\": \"grey\", \"size_field\": 3, \"y\": 1963.5138628918455, \"x\": 752.324120875026, \"border_width\": 0, \"id\": \"TNRC6A \"}, {\"node_shape\": \"dot\", \"degree\": 3.0, \"title\": \"AKT1 \", \"color\": \"grey\", \"size_field\": 3, \"y\": 1101.0454445619318, \"x\": 1146.5689252976804, \"border_width\": 0, \"id\": \"AKT1 \"}, {\"node_shape\": \"dot\", \"degree\": 3.0, \"title\": \"MST1 \", \"color\": \"grey\", \"size_field\": 3, \"y\": 490.5653691946977, \"x\": 688.4452299018777, \"border_width\": 0, \"id\": \"MST1 \"}, {\"node_shape\": \"dot\", \"degree\": 3.0, \"title\": \"AKT3 \", \"color\": \"grey\", \"size_field\": 3, \"y\": 821.6696280799498, \"x\": 1170.2024642931444, \"border_width\": 0, \"id\": \"AKT3 \"}, {\"node_shape\": \"dot\", \"degree\": 3.0, \"title\": \"GADD45A \", \"color\": \"grey\", \"size_field\": 3, \"y\": 1307.9210941603112, \"x\": 978.2734412743733, \"border_width\": 0, \"id\": \"GADD45A \"}, {\"node_shape\": \"dot\", \"degree\": 3.0, \"title\": \"MAPK8 \", \"color\": \"grey\", \"size_field\": 3, \"y\": 1161.9740685053864, \"x\": 963.0745661561514, \"border_width\": 0, \"id\": \"MAPK8 \"}, {\"node_shape\": \"dot\", \"degree\": 3.0, \"title\": \"SIRT1 \", \"color\": \"grey\", \"size_field\": 3, \"y\": 1638.9085141686398, \"x\": 986.4079508416534, \"border_width\": 0, \"id\": \"SIRT1 \"}, {\"node_shape\": \"dot\", \"degree\": 3.0, \"title\": \"PDK4 \", \"color\": \"grey\", \"size_field\": 3, \"y\": 923.8826942157147, \"x\": 1908.8625272487461, \"border_width\": 0, \"id\": \"PDK4 \"}, {\"node_shape\": \"dot\", \"degree\": 3.0, \"title\": \"VMP1 \", \"color\": \"grey\", \"size_field\": 3, \"y\": 1540.8262313817856, \"x\": 1070.4965985015222, \"border_width\": 0, \"id\": \"VMP1 \"}, {\"node_shape\": \"dot\", \"degree\": 3.0, \"title\": \"SGK2 \", \"color\": \"grey\", \"size_field\": 3, \"y\": 629.4754934622521, \"x\": 1091.8748994447917, \"border_width\": 0, \"id\": \"SGK2 \"}, {\"node_shape\": \"dot\", \"degree\": 3.0, \"title\": \"BIRC5 \", \"color\": \"grey\", \"size_field\": 3, \"y\": 1178.4764141345725, \"x\": 754.5833878998673, \"border_width\": 0, \"id\": \"BIRC5 \"}, {\"node_shape\": \"dot\", \"degree\": 3.0, \"title\": \"NLK \", \"color\": \"grey\", \"size_field\": 3, \"y\": 1414.1656608226674, \"x\": 1332.727094049819, \"border_width\": 0, \"id\": \"NLK \"}, {\"node_shape\": \"dot\", \"degree\": 3.0, \"title\": \"MTDH \", \"color\": \"grey\", \"size_field\": 3, \"y\": 1805.2741698995421, \"x\": 809.7568323264517, \"border_width\": 0, \"id\": \"MTDH \"}, {\"node_shape\": \"dot\", \"degree\": 3.0, \"title\": \"RAN \", \"color\": \"grey\", \"size_field\": 3, \"y\": 499.4269401615361, \"x\": 1573.9279203015828, \"border_width\": 0, \"id\": \"RAN \"}, {\"node_shape\": \"dot\", \"degree\": 3.0, \"title\": \"RBL2 \", \"color\": \"blue\", \"size_field\": 3, \"y\": 607.730155039089, \"x\": 1627.2661798785905, \"border_width\": 0, \"id\": \"RBL2 \"}, {\"node_shape\": \"dot\", \"degree\": 3.0, \"title\": \"GABARAPL1 \", \"color\": \"grey\", \"size_field\": 3, \"y\": 754.237643952882, \"x\": 1849.909190758354, \"border_width\": 0, \"id\": \"GABARAPL1 \"}, {\"node_shape\": \"dot\", \"degree\": 3.0, \"title\": \"ADIPOQ \", \"color\": \"grey\", \"size_field\": 3, \"y\": 1596.277153759771, \"x\": 1449.1547502216195, \"border_width\": 0, \"id\": \"ADIPOQ \"}, {\"node_shape\": \"dot\", \"degree\": 3.0, \"title\": \"SPHK1 \", \"color\": \"grey\", \"size_field\": 3, \"y\": 533.0402005157756, \"x\": 242.8832439557351, \"border_width\": 0, \"id\": \"SPHK1 \"}, {\"node_shape\": \"dot\", \"degree\": 3.0, \"title\": \"CDKN2B \", \"color\": \"blue\", \"size_field\": 3, \"y\": 1452.6503452174459, \"x\": 942.5973377413559, \"border_width\": 0, \"id\": \"CDKN2B \"}, {\"node_shape\": \"dot\", \"degree\": 3.0, \"title\": \"PAWR \", \"color\": \"grey\", \"size_field\": 3, \"y\": 2200.0, \"x\": 856.0055263874681, \"border_width\": 0, \"id\": \"PAWR \"}, {\"node_shape\": \"dot\", \"degree\": 3.0, \"title\": \"BBC3 \", \"color\": \"grey\", \"size_field\": 3, \"y\": 1719.8248781726459, \"x\": 295.5025345887806, \"border_width\": 0, \"id\": \"BBC3 \"}, {\"node_shape\": \"dot\", \"degree\": 3.0, \"title\": \"CDKN1A \", \"color\": \"grey\", \"size_field\": 3, \"y\": 1236.7291771035088, \"x\": 1105.2883397317312, \"border_width\": 0, \"id\": \"CDKN1A \"}, {\"node_shape\": \"dot\", \"degree\": 3.0, \"title\": \"ESR2 \", \"color\": \"grey\", \"size_field\": 3, \"y\": 2071.143386966479, \"x\": 717.8794684452495, \"border_width\": 0, \"id\": \"ESR2 \"}, {\"node_shape\": \"dot\", \"degree\": 3.0, \"title\": \"MAPK12 \", \"color\": \"grey\", \"size_field\": 3, \"y\": 1015.6426355236596, \"x\": 1003.9041558225545, \"border_width\": 0, \"id\": \"MAPK12 \"}, {\"node_shape\": \"dot\", \"degree\": 3.0, \"title\": \"TNRC6C \", \"color\": \"grey\", \"size_field\": 3, \"y\": 1663.0680686096955, \"x\": 516.6823358366137, \"border_width\": 0, \"id\": \"TNRC6C \"}, {\"node_shape\": \"dot\", \"degree\": 3.0, \"title\": \"YWHAH \", \"color\": \"grey\", \"size_field\": 3, \"y\": 965.7842393008858, \"x\": 599.9525248836422, \"border_width\": 0, \"id\": \"YWHAH \"}, {\"node_shape\": \"dot\", \"degree\": 3.0, \"title\": \"VEGFA \", \"color\": \"grey\", \"size_field\": 3, \"y\": 1170.2665667151248, \"x\": 856.9663209028831, \"border_width\": 0, \"id\": \"VEGFA \"}, {\"node_shape\": \"dot\", \"degree\": 3.0, \"title\": \"MYOCD \", \"color\": \"grey\", \"size_field\": 3, \"y\": 709.7648018255231, \"x\": 155.19285450776223, \"border_width\": 0, \"id\": \"MYOCD \"}, {\"node_shape\": \"dot\", \"degree\": 3.0, \"title\": \"IRS2 \", \"color\": \"grey\", \"size_field\": 3, \"y\": 400.6140133432623, \"x\": 1003.0471891390507, \"border_width\": 0, \"id\": \"IRS2 \"}, {\"node_shape\": \"dot\", \"degree\": 3.0, \"title\": \"G6PC \", \"color\": \"grey\", \"size_field\": 3, \"y\": 1188.4824323238959, \"x\": 91.3307941641776, \"border_width\": 0, \"id\": \"G6PC \"}, {\"node_shape\": \"dot\", \"degree\": 3.0, \"title\": \"PMAIP1 \", \"color\": \"grey\", \"size_field\": 3, \"y\": 1831.6234046638926, \"x\": 650.0672317638247, \"border_width\": 0, \"id\": \"PMAIP1 \"}, {\"node_shape\": \"dot\", \"degree\": 3.0, \"title\": \"TNFSF10 \", \"color\": \"grey\", \"size_field\": 3, \"y\": 1057.5176268664268, \"x\": 516.9345817349069, \"border_width\": 0, \"id\": \"TNFSF10 \"}, {\"node_shape\": \"dot\", \"degree\": 3.0, \"title\": \"CASP8 \", \"color\": \"grey\", \"size_field\": 3, \"y\": 1245.0341866797814, \"x\": 1581.4336543552981, \"border_width\": 0, \"id\": \"CASP8 \"}, {\"node_shape\": \"dot\", \"degree\": 3.0, \"title\": \"FOXP3 \", \"color\": \"grey\", \"size_field\": 3, \"y\": 1751.065747447484, \"x\": 1369.0132812756294, \"border_width\": 0, \"id\": \"FOXP3 \"}, {\"node_shape\": \"dot\", \"degree\": 3.0, \"title\": \"YWHAQ \", \"color\": \"grey\", \"size_field\": 3, \"y\": 655.9736643321231, \"x\": 887.5059645959273, \"border_width\": 0, \"id\": \"YWHAQ \"}, {\"node_shape\": \"dot\", \"degree\": 3.0, \"title\": \"BCR \", \"color\": \"grey\", \"size_field\": 3, \"y\": 1901.2145875571684, \"x\": 1673.949004434295, \"border_width\": 0, \"id\": \"BCR \"}, {\"node_shape\": \"dot\", \"degree\": 3.0, \"title\": \"PRKACB \", \"color\": \"grey\", \"size_field\": 3, \"y\": 1481.4938096798396, \"x\": 789.0021302375034, \"border_width\": 0, \"id\": \"PRKACB \"}, {\"node_shape\": \"dot\", \"degree\": 3.0, \"title\": \"MAPK3 \", \"color\": \"grey\", \"size_field\": 3, \"y\": 1450.150081212183, \"x\": 1252.5406307093067, \"border_width\": 0, \"id\": \"MAPK3 \"}, {\"node_shape\": \"dot\", \"degree\": 3.0, \"title\": \"SNAI1 \", \"color\": \"grey\", \"size_field\": 3, \"y\": 1108.2104792655678, \"x\": 1553.4822868585095, \"border_width\": 0, \"id\": \"SNAI1 \"}, {\"node_shape\": \"dot\", \"degree\": 3.0, \"title\": \"CHUK \", \"color\": \"grey\", \"size_field\": 3, \"y\": 1045.3978594660837, \"x\": 1255.4413532777023, \"border_width\": 0, \"id\": \"CHUK \"}, {\"node_shape\": \"dot\", \"degree\": 3.0, \"title\": \"RRM2B \", \"color\": \"grey\", \"size_field\": 3, \"y\": 1446.9305789335933, \"x\": 128.6676150122033, \"border_width\": 0, \"id\": \"RRM2B \"}, {\"node_shape\": \"dot\", \"degree\": 3.0, \"title\": \"ABCB1 \", \"color\": \"grey\", \"size_field\": 3, \"y\": 1824.0333371537918, \"x\": 1137.1837701229992, \"border_width\": 0, \"id\": \"ABCB1 \"}, {\"node_shape\": \"dot\", \"degree\": 3.0, \"title\": \"XPO1 \", \"color\": \"grey\", \"size_field\": 3, \"y\": 734.7588258276036, \"x\": 661.2285894836141, \"border_width\": 0, \"id\": \"XPO1 \"}, {\"node_shape\": \"dot\", \"degree\": 3.0, \"title\": \"AGO1 \", \"color\": \"grey\", \"size_field\": 3, \"y\": 1792.559082304632, \"x\": 558.670506808274, \"border_width\": 0, \"id\": \"AGO1 \"}, {\"node_shape\": \"dot\", \"degree\": 3.0, \"title\": \"MYC \", \"color\": \"grey\", \"size_field\": 3, \"y\": 1531.6899528312033, \"x\": 1193.0771388986034, \"border_width\": 0, \"id\": \"MYC \"}, {\"node_shape\": \"dot\", \"degree\": 3.0, \"title\": \"STK4 \", \"color\": \"grey\", \"size_field\": 3, \"y\": 710.0257349145472, \"x\": 1683.465034209196, \"border_width\": 0, \"id\": \"STK4 \"}, {\"node_shape\": \"dot\", \"degree\": 3.0, \"title\": \"TNRC6B \", \"color\": \"grey\", \"size_field\": 3, \"y\": 1630.8403703415322, \"x\": 1687.8508296573598, \"border_width\": 0, \"id\": \"TNRC6B \"}, {\"node_shape\": \"dot\", \"degree\": 3.0, \"title\": \"PRKAB2 \", \"color\": \"grey\", \"size_field\": 3, \"y\": 385.2186055326888, \"x\": 1331.2848547588083, \"border_width\": 0, \"id\": \"PRKAB2 \"}, {\"node_shape\": \"dot\", \"degree\": 3.0, \"title\": \"CTSL \", \"color\": \"grey\", \"size_field\": 3, \"y\": 1592.5911944223983, \"x\": 150.41016595155196, \"border_width\": 0, \"id\": \"CTSL \"}, {\"node_shape\": \"dot\", \"degree\": 3.0, \"title\": \"PRKACA \", \"color\": \"grey\", \"size_field\": 3, \"y\": 1414.2129013169285, \"x\": 1647.3671799410972, \"border_width\": 0, \"id\": \"PRKACA \"}, {\"node_shape\": \"dot\", \"degree\": 3.0, \"title\": \"DNMT3B \", \"color\": \"grey\", \"size_field\": 3, \"y\": 1485.5709521554475, \"x\": 1920.977293291627, \"border_width\": 0, \"id\": \"DNMT3B \"}, {\"node_shape\": \"dot\", \"degree\": 3.0, \"title\": \"FBXO32 \", \"color\": \"grey\", \"size_field\": 3, \"y\": 1108.8947135021738, \"x\": 1955.6637422583913, \"border_width\": 0, \"id\": \"FBXO32 \"}, {\"node_shape\": \"dot\", \"degree\": 3.0, \"title\": \"PRDX3 \", \"color\": \"grey\", \"size_field\": 3, \"y\": 1859.8797685603035, \"x\": 1515.8925341077847, \"border_width\": 0, \"id\": \"PRDX3 \"}, {\"node_shape\": \"dot\", \"degree\": 3.0, \"title\": \"PLK1 \", \"color\": \"grey\", \"size_field\": 3, \"y\": 962.4977421815144, \"x\": 324.46156925705156, \"border_width\": 0, \"id\": \"PLK1 \"}, {\"node_shape\": \"dot\", \"degree\": 3.0, \"title\": \"PRKAG3 \", \"color\": \"grey\", \"size_field\": 3, \"y\": 315.32306573198036, \"x\": 1222.405985471151, \"border_width\": 0, \"id\": \"PRKAG3 \"}, {\"node_shape\": \"dot\", \"degree\": 3.0, \"title\": \"MAPK1 \", \"color\": \"grey\", \"size_field\": 3, \"y\": 1398.163190579373, \"x\": 1003.808166291455, \"border_width\": 0, \"id\": \"MAPK1 \"}, {\"node_shape\": \"dot\", \"degree\": 3.0, \"title\": \"PRKAA1 \", \"color\": \"grey\", \"size_field\": 3, \"y\": 1027.498351213212, \"x\": 759.0265523966558, \"border_width\": 0, \"id\": \"PRKAA1 \"}, {\"node_shape\": \"dot\", \"degree\": 3.0, \"title\": \"YWHAG \", \"color\": \"grey\", \"size_field\": 3, \"y\": 732.6187908092461, \"x\": 817.7578775154684, \"border_width\": 0, \"id\": \"YWHAG \"}, {\"node_shape\": \"dot\", \"degree\": 3.0, \"title\": \"FOXO4 \", \"color\": \"grey\", \"size_field\": 3, \"y\": 833.62147231416, \"x\": 1327.721175556888, \"border_width\": 0, \"id\": \"FOXO4 \"}, {\"node_shape\": \"dot\", \"degree\": 3.0, \"title\": \"SGK1 \", \"color\": \"grey\", \"size_field\": 3, \"y\": 1132.8882402489423, \"x\": 1411.8258265276127, \"border_width\": 0, \"id\": \"SGK1 \"}, {\"node_shape\": \"dot\", \"degree\": 3.0, \"title\": \"FASLG \", \"color\": \"grey\", \"size_field\": 3, \"y\": 1193.4334502979616, \"x\": 1327.9527488493534, \"border_width\": 0, \"id\": \"FASLG \"}, {\"node_shape\": \"dot\", \"degree\": 3.0, \"title\": \"FOXO3 \", \"color\": \"yellow\", \"size_field\": 5, \"y\": 1222.1468682433263, \"x\": 1013.644320169553, \"border_width\": 0, \"id\": \"FOXO3 \"}, {\"node_shape\": \"dot\", \"degree\": 3.0, \"title\": \"MAPK9 \", \"color\": \"grey\", \"size_field\": 3, \"y\": 1127.2954501145068, \"x\": 584.9849949278649, \"border_width\": 0, \"id\": \"MAPK9 \"}, {\"node_shape\": \"dot\", \"degree\": 3.0, \"title\": \"CCNG2 \", \"color\": \"grey\", \"size_field\": 3, \"y\": 818.2335592371679, \"x\": 26.110690114615487, \"border_width\": 0, \"id\": \"CCNG2 \"}, {\"node_shape\": \"dot\", \"degree\": 3.0, \"title\": \"PINK1 \", \"color\": \"grey\", \"size_field\": 3, \"y\": 365.47381988294694, \"x\": 346.63753851499087, \"border_width\": 0, \"id\": \"PINK1 \"}, {\"node_shape\": \"dot\", \"degree\": 3.0, \"title\": \"BNIP3 \", \"color\": \"grey\", \"size_field\": 3, \"y\": 911.4873193880139, \"x\": 451.5867804812193, \"border_width\": 0, \"id\": \"BNIP3 \"}, {\"node_shape\": \"dot\", \"degree\": 3.0, \"title\": \"CITED2 \", \"color\": \"grey\", \"size_field\": 3, \"y\": 1304.6948056196138, \"x\": 1872.3874066962203, \"border_width\": 0, \"id\": \"CITED2 \"}, {\"node_shape\": \"dot\", \"degree\": 3.0, \"title\": \"NOS3 \", \"color\": \"grey\", \"size_field\": 3, \"y\": 1415.4689300954694, \"x\": 1099.3111770878754, \"border_width\": 0, \"id\": \"NOS3 \"}, {\"node_shape\": \"dot\", \"degree\": 3.0, \"title\": \"LEP \", \"color\": \"grey\", \"size_field\": 3, \"y\": 1627.1594448008464, \"x\": 1240.1573999558966, \"border_width\": 0, \"id\": \"LEP \"}, {\"node_shape\": \"dot\", \"degree\": 3.0, \"title\": \"PRKAG2 \", \"color\": \"grey\", \"size_field\": 3, \"y\": 531.2811865102019, \"x\": 1467.4591701507911, \"border_width\": 0, \"id\": \"PRKAG2 \"}, {\"node_shape\": \"dot\", \"degree\": 3.0, \"title\": \"PRKAB1 \", \"color\": \"grey\", \"size_field\": 3, \"y\": 329.32351538167853, \"x\": 1080.7773784650083, \"border_width\": 0, \"id\": \"PRKAB1 \"}, {\"node_shape\": \"dot\", \"degree\": 3.0, \"title\": \"PRKAA2 \", \"color\": \"grey\", \"size_field\": 3, \"y\": 410.43272496651946, \"x\": 1195.3810401535543, \"border_width\": 0, \"id\": \"PRKAA2 \"}, {\"node_shape\": \"dot\", \"degree\": 3.0, \"title\": \"STK11 \", \"color\": \"grey\", \"size_field\": 3, \"y\": 973.4029920943678, \"x\": 1446.41348828503, \"border_width\": 0, \"id\": \"STK11 \"}, {\"node_shape\": \"dot\", \"degree\": 3.0, \"title\": \"CDKN1B \", \"color\": \"grey\", \"size_field\": 3, \"y\": 1120.0407215462765, \"x\": 1249.7360471643185, \"border_width\": 0, \"id\": \"CDKN1B \"}, {\"node_shape\": \"dot\", \"degree\": 3.0, \"title\": \"AGO3 \", \"color\": \"grey\", \"size_field\": 3, \"y\": 2001.504494859334, \"x\": 1030.985535411008, \"border_width\": 0, \"id\": \"AGO3 \"}, {\"node_shape\": \"dot\", \"degree\": 3.0, \"title\": \"PRKAG1 \", \"color\": \"grey\", \"size_field\": 3, \"y\": 643.7883640370318, \"x\": 707.1421913011667, \"border_width\": 0, \"id\": \"PRKAG1 \"}, {\"node_shape\": \"dot\", \"degree\": 3.0, \"title\": \"CCNB1 \", \"color\": \"grey\", \"size_field\": 3, \"y\": 1268.5466107085822, \"x\": 616.714993897759, \"border_width\": 0, \"id\": \"CCNB1 \"}, {\"node_shape\": \"dot\", \"degree\": 3.0, \"title\": \"MAPK13 \", \"color\": \"grey\", \"size_field\": 3, \"y\": 1022.0047460321534, \"x\": 1071.240135023896, \"border_width\": 0, \"id\": \"MAPK13 \"}, {\"node_shape\": \"dot\", \"degree\": 3.0, \"title\": \"FOXM1 \", \"color\": \"grey\", \"size_field\": 3, \"y\": 1434.6421770071547, \"x\": 570.3502402907874, \"border_width\": 0, \"id\": \"FOXM1 \"}, {\"node_shape\": \"dot\", \"degree\": 3.0, \"title\": \"IKBKB \", \"color\": \"grey\", \"size_field\": 3, \"y\": 751.0799899626211, \"x\": 1228.090501842709, \"border_width\": 0, \"id\": \"IKBKB \"}, {\"node_shape\": \"dot\", \"degree\": 3.0, \"title\": \"MAPK14 \", \"color\": \"grey\", \"size_field\": 3, \"y\": 1265.5523743825809, \"x\": 1201.2925112070848, \"border_width\": 0, \"id\": \"MAPK14 \"}, {\"node_shape\": \"dot\", \"degree\": 3.0, \"title\": \"MAPK10 \", \"color\": \"grey\", \"size_field\": 3, \"y\": 948.3414546445214, \"x\": 875.6063834670655, \"border_width\": 0, \"id\": \"MAPK10 \"}, {\"node_shape\": \"dot\", \"degree\": 3.0, \"title\": \"LCN2 \", \"color\": \"grey\", \"size_field\": 3, \"y\": 685.2551639248782, \"x\": 529.4103068547099, \"border_width\": 0, \"id\": \"LCN2 \"}, {\"node_shape\": \"dot\", \"degree\": 3.0, \"title\": \"SP1 \", \"color\": \"grey\", \"size_field\": 3, \"y\": 1644.0769306944087, \"x\": 663.5443948092599, \"border_width\": 0, \"id\": \"SP1 \"}, {\"node_shape\": \"dot\", \"degree\": 3.0, \"title\": \"PRKACG \", \"color\": \"grey\", \"size_field\": 3, \"y\": 1571.2679645931048, \"x\": 861.6130823392139, \"border_width\": 0, \"id\": \"PRKACG \"}, {\"node_shape\": \"dot\", \"degree\": 3.0, \"title\": \"CAT \", \"color\": \"grey\", \"size_field\": 3, \"y\": 473.2914946427333, \"x\": 857.2373833439739, \"border_width\": 0, \"id\": \"CAT \"}, {\"node_shape\": \"dot\", \"degree\": 3.0, \"title\": \"BCL2L11 \", \"color\": \"grey\", \"size_field\": 3, \"y\": 1329.5717947258743, \"x\": 733.6342502264978, \"border_width\": 0, \"id\": \"BCL2L11 \"}, {\"node_shape\": \"dot\", \"degree\": 3.0, \"title\": \"STAT3 \", \"color\": \"grey\", \"size_field\": 3, \"y\": 1338.0179492485952, \"x\": 1424.8580637930183, \"border_width\": 0, \"id\": \"STAT3 \"}, {\"node_shape\": \"dot\", \"degree\": 3.0, \"title\": \"YWHAE \", \"color\": \"grey\", \"size_field\": 3, \"y\": 824.4592273475588, \"x\": 763.8764709581619, \"border_width\": 0, \"id\": \"YWHAE \"}, {\"node_shape\": \"dot\", \"degree\": 3.0, \"title\": \"AR \", \"color\": \"grey\", \"size_field\": 3, \"y\": 1710.5929939286575, \"x\": 1061.58220730098, \"border_width\": 0, \"id\": \"AR \"}, {\"node_shape\": \"dot\", \"degree\": 3.0, \"title\": \"CDH1 \", \"color\": \"grey\", \"size_field\": 3, \"y\": 1394.321373216043, \"x\": 1212.5982879948415, \"border_width\": 0, \"id\": \"CDH1 \"}, {\"node_shape\": \"dot\", \"degree\": 3.0, \"title\": \"AGO2 \", \"color\": \"grey\", \"size_field\": 3, \"y\": 1983.7573906795628, \"x\": 925.917095431979, \"border_width\": 0, \"id\": \"AGO2 \"}, {\"node_shape\": \"dot\", \"degree\": 3.0, \"title\": \"BCL6 \", \"color\": \"grey\", \"size_field\": 3, \"y\": 1069.476322980482, \"x\": 1635.9229489657387, \"border_width\": 0, \"id\": \"BCL6 \"}, {\"node_shape\": \"dot\", \"degree\": 3.0, \"title\": \"NME1 \", \"color\": \"grey\", \"size_field\": 3, \"y\": 2048.2093643683893, \"x\": 1152.5152653436528, \"border_width\": 0, \"id\": \"NME1 \"}, {\"node_shape\": \"dot\", \"degree\": 3.0, \"title\": \"YWHAB \", \"color\": \"grey\", \"size_field\": 3, \"y\": 868.7745528685095, \"x\": 651.9003390647119, \"border_width\": 0, \"id\": \"YWHAB \"}, {\"node_shape\": \"dot\", \"degree\": 3.0, \"title\": \"GATA1 \", \"color\": \"grey\", \"size_field\": 3, \"y\": 1944.7657758391454, \"x\": 1420.937923838711, \"border_width\": 0, \"id\": \"GATA1 \"}, {\"node_shape\": \"dot\", \"degree\": 3.0, \"title\": \"MOV10 \", \"color\": \"grey\", \"size_field\": 3, \"y\": 2011.3767661534519, \"x\": 1319.7603071597707, \"border_width\": 0, \"id\": \"MOV10 \"}, {\"node_shape\": \"dot\", \"degree\": 3.0, \"title\": \"EP300 \", \"color\": \"grey\", \"size_field\": 3, \"y\": 1345.8710169299327, \"x\": 1495.9696512080277, \"border_width\": 0, \"id\": \"EP300 \"}, {\"node_shape\": \"dot\", \"degree\": 3.0, \"title\": \"KAT2B \", \"color\": \"grey\", \"size_field\": 3, \"y\": 1940.917842455679, \"x\": 1198.9687548464565, \"border_width\": 0, \"id\": \"KAT2B \"}, {\"node_shape\": \"dot\", \"degree\": 3.0, \"title\": \"HSPA4 \", \"color\": \"grey\", \"size_field\": 3, \"y\": 1743.1493790434624, \"x\": 1613.4513504062302, \"border_width\": 0, \"id\": \"HSPA4 \"}, {\"node_shape\": \"dot\", \"degree\": 3.0, \"title\": \"NUPR1 \", \"color\": \"grey\", \"size_field\": 3, \"y\": 1035.2127432225318, \"x\": 77.47188567838312, \"border_width\": 0, \"id\": \"NUPR1 \"}, {\"node_shape\": \"dot\", \"degree\": 3.0, \"title\": \"MAPK11 \", \"color\": \"grey\", \"size_field\": 3, \"y\": 1270.3832523981446, \"x\": 1046.892512132347, \"border_width\": 0, \"id\": \"MAPK11 \"}, {\"node_shape\": \"dot\", \"degree\": 3.0, \"title\": \"CYR61 \", \"color\": \"grey\", \"size_field\": 3, \"y\": 0.0, \"x\": 0.0, \"border_width\": 0, \"id\": \"CYR61 \"}, {\"node_shape\": \"dot\", \"degree\": 3.0, \"title\": \"AKT2 \", \"color\": \"grey\", \"size_field\": 3, \"y\": 897.3683378966416, \"x\": 1293.2957664675125, \"border_width\": 0, \"id\": \"AKT2 \"}, {\"node_shape\": \"dot\", \"degree\": 3.0, \"title\": \"SETD7 \", \"color\": \"grey\", \"size_field\": 3, \"y\": 612.5458172733885, \"x\": 1198.0023304415781, \"border_width\": 0, \"id\": \"SETD7 \"}, {\"node_shape\": \"dot\", \"degree\": 3.0, \"title\": \"CSNK1E \", \"color\": \"grey\", \"size_field\": 3, \"y\": 416.7748077981294, \"x\": 1438.7629913105443, \"border_width\": 0, \"id\": \"CSNK1E \"}], [{\"color\": \"blue\", \"source\": 2, \"target\": 65}, {\"color\": \"blue\", \"source\": 2, \"target\": 90}, {\"color\": \"red\", \"source\": 4, \"target\": 65}, {\"color\": \"blue\", \"source\": 4, \"target\": 48}, {\"color\": \"blue\", \"source\": 4, \"target\": 15}, {\"color\": \"blue\", \"source\": 5, \"target\": 27}, {\"color\": \"blue\", \"source\": 5, \"target\": 27}, {\"color\": \"red\", \"source\": 5, \"target\": 89}, {\"color\": \"blue\", \"source\": 5, \"target\": 25}, {\"color\": \"blue\", \"source\": 5, \"target\": 25}, {\"color\": \"blue\", \"source\": 5, \"target\": 25}, {\"color\": \"blue\", \"source\": 5, \"target\": 91}, {\"color\": \"blue\", \"source\": 5, \"target\": 90}, {\"color\": \"red\", \"source\": 5, \"target\": 92}, {\"color\": \"red\", \"source\": 5, \"target\": 1}, {\"color\": \"red\", \"source\": 5, \"target\": 61}, {\"color\": \"blue\", \"source\": 5, \"target\": 62}, {\"color\": \"blue\", \"source\": 5, \"target\": 62}, {\"color\": \"blue\", \"source\": 5, \"target\": 94}, {\"color\": \"red\", \"source\": 5, \"target\": 29}, {\"color\": \"red\", \"source\": 5, \"target\": 72}, {\"color\": \"blue\", \"source\": 5, \"target\": 64}, {\"color\": \"blue\", \"source\": 5, \"target\": 65}, {\"color\": \"blue\", \"source\": 5, \"target\": 65}, {\"color\": \"blue\", \"source\": 5, \"target\": 65}, {\"color\": \"red\", \"source\": 5, \"target\": 6}, {\"color\": \"blue\", \"source\": 5, \"target\": 8}, {\"color\": \"blue\", \"source\": 5, \"target\": 8}, {\"color\": \"blue\", \"source\": 5, \"target\": 69}, {\"color\": \"red\", \"source\": 5, \"target\": 38}, {\"color\": \"red\", \"source\": 5, \"target\": 71}, {\"color\": \"red\", \"source\": 5, \"target\": 71}, {\"color\": \"blue\", \"source\": 5, \"target\": 105}, {\"color\": \"blue\", \"source\": 5, \"target\": 105}, {\"color\": \"red\", \"source\": 5, \"target\": 12}, {\"color\": \"red\", \"source\": 5, \"target\": 42}, {\"color\": \"red\", \"source\": 5, \"target\": 43}, {\"color\": \"red\", \"source\": 5, \"target\": 43}, {\"color\": \"blue\", \"source\": 5, \"target\": 7}, {\"color\": \"blue\", \"source\": 5, \"target\": 7}, {\"color\": \"blue\", \"source\": 5, \"target\": 7}, {\"color\": \"blue\", \"source\": 5, \"target\": 77}, {\"color\": \"blue\", \"source\": 5, \"target\": 77}, {\"color\": \"blue\", \"source\": 5, \"target\": 77}, {\"color\": \"red\", \"source\": 5, \"target\": 14}, {\"color\": \"red\", \"source\": 5, \"target\": 48}, {\"color\": \"red\", \"source\": 5, \"target\": 48}, {\"color\": \"red\", \"source\": 5, \"target\": 98}, {\"color\": \"blue\", \"source\": 5, \"target\": 80}, {\"color\": \"blue\", \"source\": 5, \"target\": 82}, {\"color\": \"red\", \"source\": 5, \"target\": 83}, {\"color\": \"red\", \"source\": 5, \"target\": 83}, {\"color\": \"red\", \"source\": 5, \"target\": 0}, {\"color\": \"red\", \"source\": 5, \"target\": 93}, {\"color\": \"blue\", \"source\": 5, \"target\": 84}, {\"color\": \"blue\", \"source\": 5, \"target\": 84}, {\"color\": \"blue\", \"source\": 5, \"target\": 107}, {\"color\": \"blue\", \"source\": 5, \"target\": 107}, {\"color\": \"blue\", \"source\": 5, \"target\": 107}, {\"color\": \"blue\", \"source\": 5, \"target\": 107}, {\"color\": \"red\", \"source\": 5, \"target\": 101}, {\"color\": \"blue\", \"source\": 5, \"target\": 86}, {\"color\": \"blue\", \"source\": 5, \"target\": 81}, {\"color\": \"blue\", \"source\": 5, \"target\": 81}, {\"color\": \"red\", \"source\": 5, \"target\": 30}, {\"color\": \"blue\", \"source\": 7, \"target\": 90}, {\"color\": \"blue\", \"source\": 7, \"target\": 77}, {\"color\": \"blue\", \"source\": 7, \"target\": 77}, {\"color\": \"blue\", \"source\": 7, \"target\": 62}, {\"color\": \"blue\", \"source\": 7, \"target\": 62}, {\"color\": \"blue\", \"source\": 7, \"target\": 25}, {\"color\": \"blue\", \"source\": 7, \"target\": 25}, {\"color\": \"blue\", \"source\": 7, \"target\": 81}, {\"color\": \"blue\", \"source\": 7, \"target\": 81}, {\"color\": \"red\", \"source\": 7, \"target\": 30}, {\"color\": \"blue\", \"source\": 7, \"target\": 27}, {\"color\": \"blue\", \"source\": 7, \"target\": 27}, {\"color\": \"blue\", \"source\": 7, \"target\": 65}, {\"color\": \"blue\", \"source\": 7, \"target\": 65}, {\"color\": \"blue\", \"source\": 7, \"target\": 5}, {\"color\": \"blue\", \"source\": 7, \"target\": 5}, {\"color\": \"blue\", \"source\": 7, \"target\": 5}, {\"color\": \"blue\", \"source\": 7, \"target\": 105}, {\"color\": \"blue\", \"source\": 7, \"target\": 105}, {\"color\": \"red\", \"source\": 7, \"target\": 83}, {\"color\": \"blue\", \"source\": 7, \"target\": 84}, {\"color\": \"blue\", \"source\": 7, \"target\": 84}, {\"color\": \"blue\", \"source\": 7, \"target\": 107}, {\"color\": \"blue\", \"source\": 7, \"target\": 107}, {\"color\": \"blue\", \"source\": 7, \"target\": 107}, {\"color\": \"red\", \"source\": 7, \"target\": 71}, {\"color\": \"red\", \"source\": 7, \"target\": 43}, {\"color\": \"blue\", \"source\": 10, \"target\": 90}, {\"color\": \"blue\", \"source\": 10, \"target\": 90}, {\"color\": \"blue\", \"source\": 10, \"target\": 25}, {\"color\": \"blue\", \"source\": 10, \"target\": 91}, {\"color\": \"red\", \"source\": 10, \"target\": 93}, {\"color\": \"blue\", \"source\": 10, \"target\": 30}, {\"color\": \"red\", \"source\": 10, \"target\": 8}, {\"color\": \"blue\", \"source\": 10, \"target\": 37}, {\"color\": \"red\", \"source\": 10, \"target\": 71}, {\"color\": \"red\", \"source\": 10, \"target\": 71}, {\"color\": \"blue\", \"source\": 10, \"target\": 16}, {\"color\": \"red\", \"source\": 10, \"target\": 60}, {\"color\": \"red\", \"source\": 10, \"target\": 77}, {\"color\": \"red\", \"source\": 10, \"target\": 48}, {\"color\": \"red\", \"source\": 10, \"target\": 82}, {\"color\": \"red\", \"source\": 10, \"target\": 65}, {\"color\": \"red\", \"source\": 10, \"target\": 65}, {\"color\": \"red\", \"source\": 10, \"target\": 0}, {\"color\": \"red\", \"source\": 10, \"target\": 20}, {\"color\": \"red\", \"source\": 10, \"target\": 20}, {\"color\": \"blue\", \"source\": 10, \"target\": 64}, {\"color\": \"red\", \"source\": 18, \"target\": 62}, {\"color\": \"red\", \"source\": 18, \"target\": 65}, {\"color\": \"blue\", \"source\": 23, \"target\": 65}, {\"color\": \"red\", \"source\": 26, \"target\": 93}, {\"color\": \"red\", \"source\": 26, \"target\": 59}, {\"color\": \"red\", \"source\": 26, \"target\": 71}, {\"color\": \"red\", \"source\": 26, \"target\": 105}, {\"color\": \"red\", \"source\": 26, \"target\": 12}, {\"color\": \"red\", \"source\": 26, \"target\": 65}, {\"color\": \"red\", \"source\": 26, \"target\": 41}, {\"color\": \"blue\", \"source\": 26, \"target\": 30}, {\"color\": \"blue\", \"source\": 31, \"target\": 65}, {\"color\": \"red\", \"source\": 37, \"target\": 25}, {\"color\": \"red\", \"source\": 37, \"target\": 91}, {\"color\": \"red\", \"source\": 37, \"target\": 48}, {\"color\": \"blue\", \"source\": 37, \"target\": 10}, {\"color\": \"blue\", \"source\": 37, \"target\": 64}, {\"color\": \"red\", \"source\": 37, \"target\": 65}, {\"color\": \"red\", \"source\": 42, \"target\": 9}, {\"color\": \"blue\", \"source\": 42, \"target\": 91}, {\"color\": \"red\", \"source\": 42, \"target\": 107}, {\"color\": \"blue\", \"source\": 42, \"target\": 20}, {\"color\": \"blue\", \"source\": 42, \"target\": 94}, {\"color\": \"blue\", \"source\": 42, \"target\": 94}, {\"color\": \"blue\", \"source\": 42, \"target\": 94}, {\"color\": \"red\", \"source\": 42, \"target\": 30}, {\"color\": \"blue\", \"source\": 42, \"target\": 65}, {\"color\": \"red\", \"source\": 42, \"target\": 5}, {\"color\": \"red\", \"source\": 42, \"target\": 48}, {\"color\": \"red\", \"source\": 46, \"target\": 57}, {\"color\": \"red\", \"source\": 46, \"target\": 57}, {\"color\": \"red\", \"source\": 46, \"target\": 14}, {\"color\": \"red\", \"source\": 46, \"target\": 14}, {\"color\": \"red\", \"source\": 46, \"target\": 92}, {\"color\": \"red\", \"source\": 46, \"target\": 1}, {\"color\": \"red\", \"source\": 46, \"target\": 38}, {\"color\": \"red\", \"source\": 46, \"target\": 61}, {\"color\": \"red\", \"source\": 46, \"target\": 62}, {\"color\": \"red\", \"source\": 46, \"target\": 98}, {\"color\": \"red\", \"source\": 46, \"target\": 29}, {\"color\": \"red\", \"source\": 46, \"target\": 65}, {\"color\": \"red\", \"source\": 46, \"target\": 80}, {\"color\": \"blue\", \"source\": 48, \"target\": 90}, {\"color\": \"blue\", \"source\": 48, \"target\": 25}, {\"color\": \"blue\", \"source\": 48, \"target\": 25}, {\"color\": \"blue\", \"source\": 48, \"target\": 25}, {\"color\": \"red\", \"source\": 48, \"target\": 59}, {\"color\": \"red\", \"source\": 48, \"target\": 59}, {\"color\": \"red\", \"source\": 48, \"target\": 91}, {\"color\": \"red\", \"source\": 48, \"target\": 27}, {\"color\": \"red\", \"source\": 48, \"target\": 10}, {\"color\": \"red\", \"source\": 48, \"target\": 93}, {\"color\": \"red\", \"source\": 48, \"target\": 93}, {\"color\": \"blue\", \"source\": 48, \"target\": 28}, {\"color\": \"blue\", \"source\": 48, \"target\": 3}, {\"color\": \"blue\", \"source\": 48, \"target\": 95}, {\"color\": \"blue\", \"source\": 48, \"target\": 4}, {\"color\": \"red\", \"source\": 48, \"target\": 96}, {\"color\": \"red\", \"source\": 48, \"target\": 103}, {\"color\": \"red\", \"source\": 48, \"target\": 34}, {\"color\": \"blue\", \"source\": 48, \"target\": 8}, {\"color\": \"blue\", \"source\": 48, \"target\": 8}, {\"color\": \"blue\", \"source\": 48, \"target\": 99}, {\"color\": \"blue\", \"source\": 48, \"target\": 76}, {\"color\": \"red\", \"source\": 48, \"target\": 105}, {\"color\": \"blue\", \"source\": 48, \"target\": 12}, {\"color\": \"blue\", \"source\": 48, \"target\": 12}, {\"color\": \"red\", \"source\": 48, \"target\": 16}, {\"color\": \"red\", \"source\": 48, \"target\": 41}, {\"color\": \"red\", \"source\": 48, \"target\": 42}, {\"color\": \"red\", \"source\": 48, \"target\": 102}, {\"color\": \"red\", \"source\": 48, \"target\": 43}, {\"color\": \"blue\", \"source\": 48, \"target\": 30}, {\"color\": \"red\", \"source\": 48, \"target\": 14}, {\"color\": \"red\", \"source\": 48, \"target\": 97}, {\"color\": \"blue\", \"source\": 48, \"target\": 77}, {\"color\": \"blue\", \"source\": 48, \"target\": 77}, {\"color\": \"blue\", \"source\": 48, \"target\": 78}, {\"color\": \"blue\", \"source\": 48, \"target\": 47}, {\"color\": \"red\", \"source\": 48, \"target\": 80}, {\"color\": \"red\", \"source\": 48, \"target\": 81}, {\"color\": \"red\", \"source\": 48, \"target\": 5}, {\"color\": \"red\", \"source\": 48, \"target\": 5}, {\"color\": \"blue\", \"source\": 48, \"target\": 50}, {\"color\": \"red\", \"source\": 48, \"target\": 84}, {\"color\": \"blue\", \"source\": 48, \"target\": 100}, {\"color\": \"blue\", \"source\": 48, \"target\": 94}, {\"color\": \"red\", \"source\": 48, \"target\": 101}, {\"color\": \"red\", \"source\": 48, \"target\": 56}, {\"color\": \"red\", \"source\": 48, \"target\": 65}, {\"color\": \"blue\", \"source\": 48, \"target\": 22}, {\"color\": \"blue\", \"source\": 48, \"target\": 22}, {\"color\": \"blue\", \"source\": 48, \"target\": 22}, {\"color\": \"blue\", \"source\": 48, \"target\": 22}, {\"color\": \"blue\", \"source\": 48, \"target\": 87}, {\"color\": \"red\", \"source\": 48, \"target\": 37}, {\"color\": \"red\", \"source\": 50, \"target\": 65}, {\"color\": \"blue\", \"source\": 50, \"target\": 48}, {\"color\": \"blue\", \"source\": 50, \"target\": 15}, {\"color\": \"blue\", \"source\": 54, \"target\": 65}, {\"color\": \"red\", \"source\": 55, \"target\": 65}, {\"color\": \"red\", \"source\": 62, \"target\": 58}, {\"color\": \"blue\", \"source\": 62, \"target\": 59}, {\"color\": \"blue\", \"source\": 62, \"target\": 59}, {\"color\": \"red\", \"source\": 62, \"target\": 91}, {\"color\": \"red\", \"source\": 62, \"target\": 76}, {\"color\": \"red\", \"source\": 62, \"target\": 76}, {\"color\": \"red\", \"source\": 62, \"target\": 79}, {\"color\": \"red\", \"source\": 62, \"target\": 85}, {\"color\": \"red\", \"source\": 62, \"target\": 85}, {\"color\": \"blue\", \"source\": 62, \"target\": 25}, {\"color\": \"red\", \"source\": 62, \"target\": 64}, {\"color\": \"red\", \"source\": 62, \"target\": 64}, {\"color\": \"red\", \"source\": 62, \"target\": 27}, {\"color\": \"red\", \"source\": 62, \"target\": 96}, {\"color\": \"red\", \"source\": 62, \"target\": 66}, {\"color\": \"blue\", \"source\": 62, \"target\": 7}, {\"color\": \"blue\", \"source\": 62, \"target\": 7}, {\"color\": \"red\", \"source\": 62, \"target\": 8}, {\"color\": \"red\", \"source\": 62, \"target\": 74}, {\"color\": \"blue\", \"source\": 62, \"target\": 13}, {\"color\": \"blue\", \"source\": 62, \"target\": 13}, {\"color\": \"red\", \"source\": 62, \"target\": 0}, {\"color\": \"red\", \"source\": 62, \"target\": 105}, {\"color\": \"blue\", \"source\": 62, \"target\": 41}, {\"color\": \"blue\", \"source\": 62, \"target\": 41}, {\"color\": \"red\", \"source\": 62, \"target\": 101}, {\"color\": \"blue\", \"source\": 62, \"target\": 43}, {\"color\": \"blue\", \"source\": 62, \"target\": 43}, {\"color\": \"red\", \"source\": 62, \"target\": 60}, {\"color\": \"red\", \"source\": 62, \"target\": 73}, {\"color\": \"red\", \"source\": 62, \"target\": 75}, {\"color\": \"red\", \"source\": 62, \"target\": 46}, {\"color\": \"red\", \"source\": 62, \"target\": 77}, {\"color\": \"blue\", \"source\": 62, \"target\": 15}, {\"color\": \"blue\", \"source\": 62, \"target\": 15}, {\"color\": \"red\", \"source\": 62, \"target\": 81}, {\"color\": \"red\", \"source\": 62, \"target\": 49}, {\"color\": \"red\", \"source\": 62, \"target\": 65}, {\"color\": \"blue\", \"source\": 62, \"target\": 5}, {\"color\": \"blue\", \"source\": 62, \"target\": 5}, {\"color\": \"red\", \"source\": 62, \"target\": 9}, {\"color\": \"red\", \"source\": 62, \"target\": 9}, {\"color\": \"blue\", \"source\": 62, \"target\": 83}, {\"color\": \"blue\", \"source\": 62, \"target\": 83}, {\"color\": \"red\", \"source\": 62, \"target\": 17}, {\"color\": \"red\", \"source\": 62, \"target\": 51}, {\"color\": \"blue\", \"source\": 62, \"target\": 63}, {\"color\": \"blue\", \"source\": 62, \"target\": 63}, {\"color\": \"red\", \"source\": 62, \"target\": 18}, {\"color\": \"red\", \"source\": 62, \"target\": 84}, {\"color\": \"blue\", \"source\": 62, \"target\": 107}, {\"color\": \"blue\", \"source\": 62, \"target\": 107}, {\"color\": \"red\", \"source\": 62, \"target\": 22}, {\"color\": \"blue\", \"source\": 62, \"target\": 108}, {\"color\": \"blue\", \"source\": 62, \"target\": 108}, {\"color\": \"red\", \"source\": 62, \"target\": 109}, {\"color\": \"red\", \"source\": 65, \"target\": 0}, {\"color\": \"blue\", \"source\": 65, \"target\": 1}, {\"color\": \"blue\", \"source\": 65, \"target\": 1}, {\"color\": \"blue\", \"source\": 65, \"target\": 2}, {\"color\": \"red\", \"source\": 65, \"target\": 3}, {\"color\": \"red\", \"source\": 65, \"target\": 4}, {\"color\": \"blue\", \"source\": 65, \"target\": 5}, {\"color\": \"blue\", \"source\": 65, \"target\": 5}, {\"color\": \"blue\", \"source\": 65, \"target\": 5}, {\"color\": \"red\", \"source\": 65, \"target\": 6}, {\"color\": \"blue\", \"source\": 65, \"target\": 7}, {\"color\": \"blue\", \"source\": 65, \"target\": 7}, {\"color\": \"red\", \"source\": 65, \"target\": 8}, {\"color\": \"red\", \"source\": 65, \"target\": 10}, {\"color\": \"red\", \"source\": 65, \"target\": 10}, {\"color\": \"red\", \"source\": 65, \"target\": 11}, {\"color\": \"blue\", \"source\": 65, \"target\": 12}, {\"color\": \"blue\", \"source\": 65, \"target\": 13}, {\"color\": \"blue\", \"source\": 65, \"target\": 13}, {\"color\": \"blue\", \"source\": 65, \"target\": 14}, {\"color\": \"blue\", \"source\": 65, \"target\": 15}, {\"color\": \"blue\", \"source\": 65, \"target\": 15}, {\"color\": \"blue\", \"source\": 65, \"target\": 98}, {\"color\": \"blue\", \"source\": 65, \"target\": 98}, {\"color\": \"red\", \"source\": 65, \"target\": 18}, {\"color\": \"red\", \"source\": 65, \"target\": 100}, {\"color\": \"red\", \"source\": 65, \"target\": 19}, {\"color\": \"red\", \"source\": 65, \"target\": 20}, {\"color\": \"blue\", \"source\": 65, \"target\": 21}, {\"color\": \"red\", \"source\": 65, \"target\": 44}, {\"color\": \"red\", \"source\": 65, \"target\": 60}, {\"color\": \"red\", \"source\": 65, \"target\": 24}, {\"color\": \"blue\", \"source\": 65, \"target\": 25}, {\"color\": \"red\", \"source\": 65, \"target\": 26}, {\"color\": \"red\", \"source\": 65, \"target\": 28}, {\"color\": \"blue\", \"source\": 65, \"target\": 29}, {\"color\": \"blue\", \"source\": 65, \"target\": 29}, {\"color\": \"blue\", \"source\": 65, \"target\": 30}, {\"color\": \"blue\", \"source\": 65, \"target\": 31}, {\"color\": \"red\", \"source\": 65, \"target\": 32}, {\"color\": \"blue\", \"source\": 65, \"target\": 33}, {\"color\": \"blue\", \"source\": 65, \"target\": 103}, {\"color\": \"red\", \"source\": 65, \"target\": 34}, {\"color\": \"red\", \"source\": 65, \"target\": 35}, {\"color\": \"red\", \"source\": 65, \"target\": 36}, {\"color\": \"red\", \"source\": 65, \"target\": 37}, {\"color\": \"blue\", \"source\": 65, \"target\": 38}, {\"color\": \"blue\", \"source\": 65, \"target\": 38}, {\"color\": \"blue\", \"source\": 65, \"target\": 39}, {\"color\": \"blue\", \"source\": 65, \"target\": 40}, {\"color\": \"blue\", \"source\": 65, \"target\": 40}, {\"color\": \"blue\", \"source\": 65, \"target\": 41}, {\"color\": \"blue\", \"source\": 65, \"target\": 41}, {\"color\": \"blue\", \"source\": 65, \"target\": 42}, {\"color\": \"blue\", \"source\": 65, \"target\": 43}, {\"color\": \"blue\", \"source\": 65, \"target\": 43}, {\"color\": \"red\", \"source\": 65, \"target\": 22}, {\"color\": \"red\", \"source\": 65, \"target\": 45}, {\"color\": \"red\", \"source\": 65, \"target\": 46}, {\"color\": \"red\", \"source\": 65, \"target\": 47}, {\"color\": \"red\", \"source\": 65, \"target\": 48}, {\"color\": \"red\", \"source\": 65, \"target\": 49}, {\"color\": \"red\", \"source\": 65, \"target\": 50}, {\"color\": \"red\", \"source\": 65, \"target\": 51}, {\"color\": \"red\", \"source\": 65, \"target\": 52}, {\"color\": \"blue\", \"source\": 65, \"target\": 53}, {\"color\": \"blue\", \"source\": 65, \"target\": 53}, {\"color\": \"blue\", \"source\": 65, \"target\": 54}, {\"color\": \"red\", \"source\": 65, \"target\": 55}, {\"color\": \"blue\", \"source\": 65, \"target\": 56}, {\"color\": \"red\", \"source\": 65, \"target\": 57}, {\"color\": \"red\", \"source\": 65, \"target\": 58}, {\"color\": \"blue\", \"source\": 65, \"target\": 59}, {\"color\": \"blue\", \"source\": 65, \"target\": 59}, {\"color\": \"blue\", \"source\": 65, \"target\": 61}, {\"color\": \"blue\", \"source\": 65, \"target\": 61}, {\"color\": \"red\", \"source\": 65, \"target\": 62}, {\"color\": \"blue\", \"source\": 65, \"target\": 63}, {\"color\": \"blue\", \"source\": 65, \"target\": 63}, {\"color\": \"blue\", \"source\": 65, \"target\": 64}, {\"color\": \"blue\", \"source\": 65, \"target\": 64}, {\"color\": \"red\", \"source\": 65, \"target\": 27}, {\"color\": \"red\", \"source\": 65, \"target\": 66}, {\"color\": \"red\", \"source\": 65, \"target\": 67}, {\"color\": \"red\", \"source\": 65, \"target\": 69}, {\"color\": \"blue\", \"source\": 65, \"target\": 71}, {\"color\": \"red\", \"source\": 65, \"target\": 68}, {\"color\": \"blue\", \"source\": 65, \"target\": 72}, {\"color\": \"red\", \"source\": 65, \"target\": 73}, {\"color\": \"red\", \"source\": 65, \"target\": 75}, {\"color\": \"red\", \"source\": 65, \"target\": 77}, {\"color\": \"red\", \"source\": 65, \"target\": 78}, {\"color\": \"red\", \"source\": 65, \"target\": 80}, {\"color\": \"red\", \"source\": 65, \"target\": 81}, {\"color\": \"blue\", \"source\": 65, \"target\": 82}, {\"color\": \"blue\", \"source\": 65, \"target\": 83}, {\"color\": \"blue\", \"source\": 65, \"target\": 83}, {\"color\": \"red\", \"source\": 65, \"target\": 70}, {\"color\": \"red\", \"source\": 65, \"target\": 9}, {\"color\": \"red\", \"source\": 65, \"target\": 84}, {\"color\": \"red\", \"source\": 65, \"target\": 17}, {\"color\": \"red\", \"source\": 65, \"target\": 94}, {\"color\": \"red\", \"source\": 65, \"target\": 86}, {\"color\": \"blue\", \"source\": 65, \"target\": 87}, {\"color\": \"blue\", \"source\": 65, \"target\": 88}, {\"color\": \"blue\", \"source\": 65, \"target\": 88}, {\"color\": \"red\", \"source\": 65, \"target\": 89}, {\"color\": \"blue\", \"source\": 65, \"target\": 90}, {\"color\": \"blue\", \"source\": 65, \"target\": 90}, {\"color\": \"red\", \"source\": 65, \"target\": 91}, {\"color\": \"blue\", \"source\": 65, \"target\": 92}, {\"color\": \"blue\", \"source\": 65, \"target\": 92}, {\"color\": \"red\", \"source\": 65, \"target\": 76}, {\"color\": \"red\", \"source\": 65, \"target\": 76}, {\"color\": \"red\", \"source\": 65, \"target\": 79}, {\"color\": \"red\", \"source\": 65, \"target\": 93}, {\"color\": \"red\", \"source\": 65, \"target\": 85}, {\"color\": \"red\", \"source\": 65, \"target\": 95}, {\"color\": \"red\", \"source\": 65, \"target\": 96}, {\"color\": \"blue\", \"source\": 65, \"target\": 97}, {\"color\": \"red\", \"source\": 65, \"target\": 99}, {\"color\": \"blue\", \"source\": 65, \"target\": 16}, {\"color\": \"blue\", \"source\": 65, \"target\": 101}, {\"color\": \"red\", \"source\": 65, \"target\": 102}, {\"color\": \"blue\", \"source\": 65, \"target\": 23}, {\"color\": \"blue\", \"source\": 65, \"target\": 104}, {\"color\": \"red\", \"source\": 65, \"target\": 74}, {\"color\": \"red\", \"source\": 65, \"target\": 105}, {\"color\": \"blue\", \"source\": 65, \"target\": 106}, {\"color\": \"blue\", \"source\": 65, \"target\": 107}, {\"color\": \"blue\", \"source\": 65, \"target\": 107}, {\"color\": \"blue\", \"source\": 65, \"target\": 108}, {\"color\": \"blue\", \"source\": 65, \"target\": 108}, {\"color\": \"red\", \"source\": 65, \"target\": 109}, {\"color\": \"red\", \"source\": 70, \"target\": 65}, {\"color\": \"blue\", \"source\": 70, \"target\": 101}, {\"color\": \"red\", \"source\": 80, \"target\": 57}, {\"color\": \"blue\", \"source\": 80, \"target\": 8}, {\"color\": \"blue\", \"source\": 80, \"target\": 8}, {\"color\": \"red\", \"source\": 80, \"target\": 25}, {\"color\": \"red\", \"source\": 80, \"target\": 46}, {\"color\": \"red\", \"source\": 80, \"target\": 79}, {\"color\": \"red\", \"source\": 80, \"target\": 48}, {\"color\": \"red\", \"source\": 80, \"target\": 94}, {\"color\": \"red\", \"source\": 80, \"target\": 29}, {\"color\": \"red\", \"source\": 80, \"target\": 40}, {\"color\": \"red\", \"source\": 80, \"target\": 82}, {\"color\": \"red\", \"source\": 80, \"target\": 65}, {\"color\": \"blue\", \"source\": 80, \"target\": 5}, {\"color\": \"red\", \"source\": 80, \"target\": 88}, {\"color\": \"blue\", \"source\": 80, \"target\": 87}, {\"color\": \"red\", \"source\": 82, \"target\": 57}, {\"color\": \"blue\", \"source\": 82, \"target\": 25}, {\"color\": \"blue\", \"source\": 82, \"target\": 59}, {\"color\": \"red\", \"source\": 82, \"target\": 14}, {\"color\": \"red\", \"source\": 82, \"target\": 10}, {\"color\": \"red\", \"source\": 82, \"target\": 94}, {\"color\": \"red\", \"source\": 82, \"target\": 80}, {\"color\": \"blue\", \"source\": 82, \"target\": 30}, {\"color\": \"blue\", \"source\": 82, \"target\": 65}, {\"color\": \"blue\", \"source\": 82, \"target\": 9}, {\"color\": \"blue\", \"source\": 82, \"target\": 5}, {\"color\": \"red\", \"source\": 83, \"target\": 7}, {\"color\": \"red\", \"source\": 83, \"target\": 25}, {\"color\": \"red\", \"source\": 83, \"target\": 35}, {\"color\": \"red\", \"source\": 83, \"target\": 107}, {\"color\": \"red\", \"source\": 83, \"target\": 36}, {\"color\": \"blue\", \"source\": 83, \"target\": 62}, {\"color\": \"blue\", \"source\": 83, \"target\": 62}, {\"color\": \"red\", \"source\": 83, \"target\": 64}, {\"color\": \"blue\", \"source\": 83, \"target\": 65}, {\"color\": \"blue\", \"source\": 83, \"target\": 65}, {\"color\": \"red\", \"source\": 83, \"target\": 5}, {\"color\": \"red\", \"source\": 83, \"target\": 5}, {\"color\": \"blue\", \"source\": 83, \"target\": 32}, {\"color\": \"blue\", \"source\": 83, \"target\": 32}, {\"color\": \"red\", \"source\": 83, \"target\": 43}, {\"color\": \"red\", \"source\": 87, \"target\": 25}, {\"color\": \"red\", \"source\": 87, \"target\": 59}, {\"color\": \"red\", \"source\": 87, \"target\": 27}, {\"color\": \"red\", \"source\": 87, \"target\": 93}, {\"color\": \"red\", \"source\": 87, \"target\": 85}, {\"color\": \"red\", \"source\": 87, \"target\": 66}, {\"color\": \"red\", \"source\": 87, \"target\": 34}, {\"color\": \"blue\", \"source\": 87, \"target\": 35}, {\"color\": \"blue\", \"source\": 87, \"target\": 12}, {\"color\": \"red\", \"source\": 87, \"target\": 45}, {\"color\": \"red\", \"source\": 87, \"target\": 14}, {\"color\": \"blue\", \"source\": 87, \"target\": 48}, {\"color\": \"blue\", \"source\": 87, \"target\": 80}, {\"color\": \"red\", \"source\": 87, \"target\": 81}, {\"color\": \"blue\", \"source\": 87, \"target\": 65}, {\"color\": \"blue\", \"source\": 87, \"target\": 9}, {\"color\": \"red\", \"source\": 87, \"target\": 105}, {\"color\": \"red\", \"source\": 87, \"target\": 84}, {\"color\": \"red\", \"source\": 87, \"target\": 72}, {\"color\": \"red\", \"source\": 87, \"target\": 22}, {\"color\": \"red\", \"source\": 87, \"target\": 24}, {\"color\": \"red\", \"source\": 87, \"target\": 30}, {\"color\": \"blue\", \"source\": 91, \"target\": 25}, {\"color\": \"red\", \"source\": 91, \"target\": 59}, {\"color\": \"red\", \"source\": 91, \"target\": 59}, {\"color\": \"red\", \"source\": 91, \"target\": 62}, {\"color\": \"blue\", \"source\": 91, \"target\": 94}, {\"color\": \"blue\", \"source\": 91, \"target\": 30}, {\"color\": \"blue\", \"source\": 91, \"target\": 30}, {\"color\": \"blue\", \"source\": 91, \"target\": 96}, {\"color\": \"red\", \"source\": 91, \"target\": 37}, {\"color\": \"blue\", \"source\": 91, \"target\": 10}, {\"color\": \"red\", \"source\": 91, \"target\": 12}, {\"color\": \"red\", \"source\": 91, \"target\": 12}, {\"color\": \"red\", \"source\": 91, \"target\": 41}, {\"color\": \"red\", \"source\": 91, \"target\": 41}, {\"color\": \"red\", \"source\": 91, \"target\": 101}, {\"color\": \"red\", \"source\": 91, \"target\": 101}, {\"color\": \"red\", \"source\": 91, \"target\": 72}, {\"color\": \"blue\", \"source\": 91, \"target\": 14}, {\"color\": \"red\", \"source\": 91, \"target\": 48}, {\"color\": \"red\", \"source\": 91, \"target\": 65}, {\"color\": \"blue\", \"source\": 91, \"target\": 5}, {\"color\": \"red\", \"source\": 91, \"target\": 84}, {\"color\": \"blue\", \"source\": 91, \"target\": 42}, {\"color\": \"red\", \"source\": 93, \"target\": 10}, {\"color\": \"red\", \"source\": 93, \"target\": 25}, {\"color\": \"red\", \"source\": 93, \"target\": 26}, {\"color\": \"red\", \"source\": 93, \"target\": 36}, {\"color\": \"red\", \"source\": 93, \"target\": 43}, {\"color\": \"red\", \"source\": 93, \"target\": 48}, {\"color\": \"red\", \"source\": 93, \"target\": 48}, {\"color\": \"blue\", \"source\": 93, \"target\": 94}, {\"color\": \"red\", \"source\": 93, \"target\": 63}, {\"color\": \"blue\", \"source\": 93, \"target\": 30}, {\"color\": \"red\", \"source\": 93, \"target\": 12}, {\"color\": \"red\", \"source\": 93, \"target\": 65}, {\"color\": \"red\", \"source\": 93, \"target\": 5}, {\"color\": \"red\", \"source\": 93, \"target\": 9}, {\"color\": \"red\", \"source\": 93, \"target\": 101}, {\"color\": \"red\", \"source\": 93, \"target\": 87}, {\"color\": \"red\", \"source\": 93, \"target\": 102}, {\"color\": \"red\", \"source\": 93, \"target\": 84}, {\"color\": \"red\", \"source\": 96, \"target\": 62}, {\"color\": \"red\", \"source\": 96, \"target\": 65}, {\"color\": \"blue\", \"source\": 96, \"target\": 91}, {\"color\": \"red\", \"source\": 96, \"target\": 48}, {\"color\": \"blue\", \"source\": 99, \"target\": 94}, {\"color\": \"red\", \"source\": 99, \"target\": 65}, {\"color\": \"blue\", \"source\": 99, \"target\": 48}, {\"color\": \"red\", \"source\": 101, \"target\": 25}, {\"color\": \"red\", \"source\": 101, \"target\": 91}, {\"color\": \"red\", \"source\": 101, \"target\": 91}, {\"color\": \"red\", \"source\": 101, \"target\": 62}, {\"color\": \"red\", \"source\": 101, \"target\": 94}, {\"color\": \"red\", \"source\": 101, \"target\": 63}, {\"color\": \"red\", \"source\": 101, \"target\": 30}, {\"color\": \"red\", \"source\": 101, \"target\": 5}, {\"color\": \"red\", \"source\": 101, \"target\": 8}, {\"color\": \"red\", \"source\": 101, \"target\": 71}, {\"color\": \"red\", \"source\": 101, \"target\": 40}, {\"color\": \"blue\", \"source\": 101, \"target\": 72}, {\"color\": \"red\", \"source\": 101, \"target\": 48}, {\"color\": \"red\", \"source\": 101, \"target\": 45}, {\"color\": \"blue\", \"source\": 101, \"target\": 65}, {\"color\": \"blue\", \"source\": 101, \"target\": 70}, {\"color\": \"red\", \"source\": 101, \"target\": 93}, {\"color\": \"red\", \"source\": 101, \"target\": 84}, {\"color\": \"red\", \"source\": 101, \"target\": 20}, {\"color\": \"red\", \"source\": 101, \"target\": 53}, {\"color\": \"red\", \"source\": 101, \"target\": 88}, {\"color\": \"red\", \"source\": 102, \"target\": 45}, {\"color\": \"red\", \"source\": 102, \"target\": 84}, {\"color\": \"red\", \"source\": 102, \"target\": 48}, {\"color\": \"red\", \"source\": 102, \"target\": 93}, {\"color\": \"red\", \"source\": 102, \"target\": 65}, {\"color\": \"blue\", \"source\": 104, \"target\": 65}, {\"color\": \"red\", \"source\": 106, \"target\": 68}, {\"color\": \"red\", \"source\": 106, \"target\": 30}, {\"color\": \"blue\", \"source\": 106, \"target\": 65}, {\"color\": \"blue\", \"source\": 107, \"target\": 77}, {\"color\": \"blue\", \"source\": 107, \"target\": 77}, {\"color\": \"blue\", \"source\": 107, \"target\": 62}, {\"color\": \"blue\", \"source\": 107, \"target\": 62}, {\"color\": \"blue\", \"source\": 107, \"target\": 25}, {\"color\": \"blue\", \"source\": 107, \"target\": 25}, {\"color\": \"blue\", \"source\": 107, \"target\": 81}, {\"color\": \"blue\", \"source\": 107, \"target\": 81}, {\"color\": \"blue\", \"source\": 107, \"target\": 27}, {\"color\": \"blue\", \"source\": 107, \"target\": 27}, {\"color\": \"red\", \"source\": 107, \"target\": 83}, {\"color\": \"blue\", \"source\": 107, \"target\": 5}, {\"color\": \"blue\", \"source\": 107, \"target\": 5}, {\"color\": \"blue\", \"source\": 107, \"target\": 5}, {\"color\": \"blue\", \"source\": 107, \"target\": 5}, {\"color\": \"blue\", \"source\": 107, \"target\": 105}, {\"color\": \"blue\", \"source\": 107, \"target\": 105}, {\"color\": \"blue\", \"source\": 107, \"target\": 7}, {\"color\": \"blue\", \"source\": 107, \"target\": 7}, {\"color\": \"blue\", \"source\": 107, \"target\": 7}, {\"color\": \"blue\", \"source\": 107, \"target\": 84}, {\"color\": \"blue\", \"source\": 107, \"target\": 84}, {\"color\": \"red\", \"source\": 107, \"target\": 71}, {\"color\": \"blue\", \"source\": 107, \"target\": 65}, {\"color\": \"blue\", \"source\": 107, \"target\": 65}, {\"color\": \"red\", \"source\": 107, \"target\": 12}, {\"color\": \"red\", \"source\": 107, \"target\": 42}, {\"color\": \"red\", \"source\": 107, \"target\": 43}]);}</script><iframe name=\"style_file0\" src=\"style_file0.html\" height=\"1200px\" width=\"100%;\"></iframe></body></html>"
      ],
      "text/plain": [
       "<IPython.core.display.HTML object>"
      ]
     },
     "execution_count": 15,
     "metadata": {},
     "output_type": "execute_result"
    }
   ],
   "source": [
    "gene1 = 'MYCN'\n",
    "gene2 = 'FOXO3'\n",
    "\n",
    "# extract sub graphs\n",
    "node_list_1 = DG_brca.neighbors(gene1) + [gene1]\n",
    "G_1 = DG_brca.subgraph(node_list_1) #get only top z-score node and neighbors\n",
    "node_list_2 = DG_brca.neighbors(gene2) + [gene2]\n",
    "G_2 = DG_brca.subgraph(node_list_2) #get only top z-score node and neighbors\n",
    "\n",
    "# differenciate between these two graphs\n",
    "G2_dict = {}\n",
    "for n in node_list_2:\n",
    "    G2_dict[n] = n + ' '  \n",
    "nx.relabel_nodes(G_2, G2_dict, copy = False)\n",
    "\n",
    "# combine two subgraphs into one\n",
    "#G = nx.compose(G_1,G_2)\n",
    "G = G_2\n",
    "nodes = list(G.nodes())\n",
    "edges = list(G.edges()) \n",
    "\n",
    "# define the initial positions of the nodes using networkx's spring_layout function\n",
    "pos = nx.spring_layout(G)\n",
    "\n",
    "# define node colors\n",
    "color = {-1:'blue', 1:'red', 0: 'grey'} # red = act/up, blue = inh/down, no info = grey\n",
    "node_to_color = {node[0]:color[np.sign(node[1]['updown'])] for node in list(G.nodes(data = True))}\n",
    "node_to_color[gene1] = 'yellow'\n",
    "node_to_color[gene2] = 'yellow'\n",
    "node_to_color[gene1 + ' '] = 'yellow'\n",
    "node_to_color[gene2 + ' '] = 'yellow'\n",
    "\n",
    "# define edge colors\n",
    "edge_to_color = {edge[0:2]:color[np.sign(edge[2]['sign'])] for edge in list(G.edges(data = True))}\n",
    "\n",
    "# define node size transform\n",
    "node_to_size = dict(zip(nodes, [3]*len(nodes)))\n",
    "node_to_size[gene1] = 5\n",
    "node_to_size[gene2] = 5\n",
    "node_to_size[gene1 + ' '] = 5\n",
    "node_to_size[gene2 + ' '] = 5\n",
    "\n",
    "# define node and edge attributes\n",
    "nodes_dict = [{\"id\":n,\n",
    "               \"color\": node_to_color[n],\n",
    "               \"size_field\": node_to_size[n],\n",
    "               \"x\":pos[n][0]*2200,\n",
    "               \"y\":pos[n][1]*2200} for n in nodes]\n",
    "\n",
    "node_map = dict(zip(nodes,range(len(nodes))))  # map to indices for source/target in edges\n",
    "\n",
    "edges_dict = [{\"source\":node_map[edges[i][0]], \n",
    "               \"target\":node_map[edges[i][1]], \n",
    "               \"color\":edge_to_color[edges[i]]} for i in range(len(edges))]\n",
    "\n",
    "# display results\n",
    "visJS2jupyter.visJS_module.visjs_network(nodes_dict,edges_dict,\n",
    "                                        edge_arrow_to = True,\n",
    "                                        node_size_multiplier = 6,\n",
    "                                        node_size_transform = '',\n",
    "                                        node_size_field = 'size_field',\n",
    "                                        node_font_size = 35,\n",
    "                                        node_font_color = 'black',\n",
    "                                        edge_color_opacity = 0.5,\n",
    "                                        edge_color_hover = 'orange',\n",
    "                                        edge_color_highlight = 'orange',\n",
    "                                        edge_hoverWidth = 5,\n",
    "                                        edge_selection_width = 5,\n",
    "                                        node_border_width_selected = 0)"
   ]
  },
  {
   "cell_type": "code",
   "execution_count": 19,
   "metadata": {
    "scrolled": false
   },
   "outputs": [
    {
     "data": {
      "text/html": [
       "<!doctype html><html><head>  <title>Network | Basic usage</title></head><body><script type=\"text/javascript\">function setUpFrame() {     var frame = window.frames[\"style_file1\"];    frame.runVis([{\"node_shape\": \"dot\", \"degree\": 3.0, \"title\": \"CCL2\", \"color\": \"grey\", \"size_field\": 3, \"y\": 267.18864766427464, \"x\": 590.1487605777128, \"border_width\": 0, \"id\": \"CCL2\"}, {\"node_shape\": \"dot\", \"degree\": 3.0, \"title\": \"TGM2\", \"color\": \"grey\", \"size_field\": 3, \"y\": 469.2475744728478, \"x\": 11.869217312057904, \"border_width\": 0, \"id\": \"TGM2\"}, {\"node_shape\": \"dot\", \"degree\": 3.0, \"title\": \"TP53INP1\", \"color\": \"blue\", \"size_field\": 3, \"y\": 366.6563946503891, \"x\": 228.67823886051687, \"border_width\": 0, \"id\": \"TP53INP1\"}, {\"node_shape\": \"dot\", \"degree\": 3.0, \"title\": \"SIRT2\", \"color\": \"grey\", \"size_field\": 3, \"y\": 1148.0821752977088, \"x\": 466.43512534270417, \"border_width\": 0, \"id\": \"SIRT2\"}, {\"node_shape\": \"dot\", \"degree\": 3.0, \"title\": \"SMAD4\", \"color\": \"grey\", \"size_field\": 3, \"y\": 298.9397393658763, \"x\": 140.7186195761335, \"border_width\": 0, \"id\": \"SMAD4\"}, {\"node_shape\": \"dot\", \"degree\": 3.0, \"title\": \"CDKN1B\", \"color\": \"grey\", \"size_field\": 3, \"y\": 276.7086813613132, \"x\": 300.02825891970053, \"border_width\": 0, \"id\": \"CDKN1B\"}, {\"node_shape\": \"dot\", \"degree\": 3.0, \"title\": \"IGF1R\", \"color\": \"grey\", \"size_field\": 3, \"y\": 562.5607970171104, \"x\": 295.5447885856322, \"border_width\": 0, \"id\": \"IGF1R\"}, {\"node_shape\": \"dot\", \"degree\": 3.0, \"title\": \"BCL2\", \"color\": \"grey\", \"size_field\": 3, \"y\": 591.0968640052696, \"x\": 365.4091646435932, \"border_width\": 0, \"id\": \"BCL2\"}, {\"node_shape\": \"dot\", \"degree\": 3.0, \"title\": \"CHL1\", \"color\": \"grey\", \"size_field\": 3, \"y\": 654.5958849630642, \"x\": 987.31384863989, \"border_width\": 0, \"id\": \"CHL1\"}, {\"node_shape\": \"dot\", \"degree\": 3.0, \"title\": \"NDRG1\", \"color\": \"grey\", \"size_field\": 3, \"y\": 308.4498057258321, \"x\": 537.1608353669624, \"border_width\": 0, \"id\": \"NDRG1\"}, {\"node_shape\": \"dot\", \"degree\": 3.0, \"title\": \"MYBL2\", \"color\": \"grey\", \"size_field\": 3, \"y\": 608.0530155452575, \"x\": 1111.5066670781725, \"border_width\": 0, \"id\": \"MYBL2\"}, {\"node_shape\": \"dot\", \"degree\": 3.0, \"title\": \"NES\", \"color\": \"grey\", \"size_field\": 3, \"y\": 403.9669037647209, \"x\": 439.04801888284203, \"border_width\": 0, \"id\": \"NES\"}, {\"node_shape\": \"dot\", \"degree\": 3.0, \"title\": \"GSN\", \"color\": \"grey\", \"size_field\": 3, \"y\": 832.320712024155, \"x\": 73.10138045484868, \"border_width\": 0, \"id\": \"GSN\"}, {\"node_shape\": \"dot\", \"degree\": 3.0, \"title\": \"MYCN\", \"color\": \"yellow\", \"size_field\": 5, \"y\": 532.2161681700745, \"x\": 558.3128682798779, \"border_width\": 0, \"id\": \"MYCN\"}, {\"node_shape\": \"dot\", \"degree\": 3.0, \"title\": \"KLF10\", \"color\": \"grey\", \"size_field\": 3, \"y\": 999.6513994126537, \"x\": 385.0599595806209, \"border_width\": 0, \"id\": \"KLF10\"}, {\"node_shape\": \"dot\", \"degree\": 3.0, \"title\": \"STAT3\", \"color\": \"grey\", \"size_field\": 3, \"y\": 2.854219666032901, \"x\": 421.4051900581556, \"border_width\": 0, \"id\": \"STAT3\"}, {\"node_shape\": \"dot\", \"degree\": 3.0, \"title\": \"CHD7\", \"color\": \"grey\", \"size_field\": 3, \"y\": 1124.7062102072423, \"x\": 783.1671681968626, \"border_width\": 0, \"id\": \"CHD7\"}, {\"node_shape\": \"dot\", \"degree\": 3.0, \"title\": \"RUNX3\", \"color\": \"grey\", \"size_field\": 3, \"y\": 582.2907427381831, \"x\": 90.56484471740718, \"border_width\": 0, \"id\": \"RUNX3\"}, {\"node_shape\": \"dot\", \"degree\": 3.0, \"title\": \"CDKL5\", \"color\": \"blue\", \"size_field\": 3, \"y\": 985.2743149815075, \"x\": 115.77776653357994, \"border_width\": 0, \"id\": \"CDKL5\"}, {\"node_shape\": \"dot\", \"degree\": 3.0, \"title\": \"SOX11\", \"color\": \"grey\", \"size_field\": 3, \"y\": 295.177875939261, \"x\": 1048.5223597746508, \"border_width\": 0, \"id\": \"SOX11\"}, {\"node_shape\": \"dot\", \"degree\": 3.0, \"title\": \"NTRK1\", \"color\": \"grey\", \"size_field\": 3, \"y\": 107.20402647648586, \"x\": 119.10385521671282, \"border_width\": 0, \"id\": \"NTRK1\"}, {\"node_shape\": \"dot\", \"degree\": 3.0, \"title\": \"RGS5\", \"color\": \"grey\", \"size_field\": 3, \"y\": 918.191984327558, \"x\": 234.93663600921252, \"border_width\": 0, \"id\": \"RGS5\"}, {\"node_shape\": \"dot\", \"degree\": 3.0, \"title\": \"GLI1\", \"color\": \"grey\", \"size_field\": 3, \"y\": 1200.0, \"x\": 558.2398497213644, \"border_width\": 0, \"id\": \"GLI1\"}, {\"node_shape\": \"dot\", \"degree\": 3.0, \"title\": \"NFKB1\", \"color\": \"grey\", \"size_field\": 3, \"y\": 109.00344269671861, \"x\": 471.5838723712199, \"border_width\": 0, \"id\": \"NFKB1\"}, {\"node_shape\": \"dot\", \"degree\": 3.0, \"title\": \"MYC\", \"color\": \"grey\", \"size_field\": 3, \"y\": 199.93334940262648, \"x\": 303.42105364174023, \"border_width\": 0, \"id\": \"MYC\"}, {\"node_shape\": \"dot\", \"degree\": 3.0, \"title\": \"TRPM7\", \"color\": \"grey\", \"size_field\": 3, \"y\": 148.80723945753363, \"x\": 965.9248777815073, \"border_width\": 0, \"id\": \"TRPM7\"}, {\"node_shape\": \"dot\", \"degree\": 3.0, \"title\": \"WT1\", \"color\": \"grey\", \"size_field\": 3, \"y\": 1168.8922010815043, \"x\": 346.42910801624987, \"border_width\": 0, \"id\": \"WT1\"}, {\"node_shape\": \"dot\", \"degree\": 3.0, \"title\": \"WDR5\", \"color\": \"grey\", \"size_field\": 3, \"y\": 772.8815363464756, \"x\": 1059.4531600319262, \"border_width\": 0, \"id\": \"WDR5\"}, {\"node_shape\": \"dot\", \"degree\": 3.0, \"title\": \"SHC2\", \"color\": \"grey\", \"size_field\": 3, \"y\": 1149.3749981578762, \"x\": 205.3407830260254, \"border_width\": 0, \"id\": \"SHC2\"}, {\"node_shape\": \"dot\", \"degree\": 3.0, \"title\": \"ASCL1\", \"color\": \"red\", \"size_field\": 3, \"y\": 157.9772267017689, \"x\": 809.8878874235244, \"border_width\": 0, \"id\": \"ASCL1\"}, {\"node_shape\": \"dot\", \"degree\": 3.0, \"title\": \"CTSD\", \"color\": \"grey\", \"size_field\": 3, \"y\": 443.3609342637979, \"x\": 153.89544316298162, \"border_width\": 0, \"id\": \"CTSD\"}, {\"node_shape\": \"dot\", \"degree\": 3.0, \"title\": \"HMGA1\", \"color\": \"grey\", \"size_field\": 3, \"y\": 0.0, \"x\": 528.5363984841349, \"border_width\": 0, \"id\": \"HMGA1\"}, {\"node_shape\": \"dot\", \"degree\": 3.0, \"title\": \"MCM7\", \"color\": \"grey\", \"size_field\": 3, \"y\": 862.012659751079, \"x\": 977.92268056033, \"border_width\": 0, \"id\": \"MCM7\"}, {\"node_shape\": \"dot\", \"degree\": 3.0, \"title\": \"VEGFA\", \"color\": \"grey\", \"size_field\": 3, \"y\": 289.58096357970624, \"x\": 436.0211461500734, \"border_width\": 0, \"id\": \"VEGFA\"}, {\"node_shape\": \"dot\", \"degree\": 3.0, \"title\": \"SHH\", \"color\": \"grey\", \"size_field\": 3, \"y\": 601.0885562527857, \"x\": 626.5556879327701, \"border_width\": 0, \"id\": \"SHH\"}, {\"node_shape\": \"dot\", \"degree\": 3.0, \"title\": \"SLC19A1\", \"color\": \"grey\", \"size_field\": 3, \"y\": 416.8810918183022, \"x\": 1093.3068112693538, \"border_width\": 0, \"id\": \"SLC19A1\"}, {\"node_shape\": \"dot\", \"degree\": 3.0, \"title\": \"TRPM6\", \"color\": \"grey\", \"size_field\": 3, \"y\": 943.4336218103131, \"x\": 760.6348028095747, \"border_width\": 0, \"id\": \"TRPM6\"}, {\"node_shape\": \"dot\", \"degree\": 3.0, \"title\": \"ALK\", \"color\": \"grey\", \"size_field\": 3, \"y\": 1192.3155383921226, \"x\": 663.7424122236265, \"border_width\": 0, \"id\": \"ALK\"}, {\"node_shape\": \"dot\", \"degree\": 3.0, \"title\": \"TP53\", \"color\": \"grey\", \"size_field\": 3, \"y\": 127.2969142487702, \"x\": 373.0755789448289, \"border_width\": 0, \"id\": \"TP53\"}, {\"node_shape\": \"dot\", \"degree\": 3.0, \"title\": \"BMP2\", \"color\": \"grey\", \"size_field\": 3, \"y\": 825.0531673878642, \"x\": 431.9277308803004, \"border_width\": 0, \"id\": \"BMP2\"}, {\"node_shape\": \"dot\", \"degree\": 3.0, \"title\": \"CCND1\", \"color\": \"grey\", \"size_field\": 3, \"y\": 541.6383550255399, \"x\": 440.1136184069764, \"border_width\": 0, \"id\": \"CCND1\"}, {\"node_shape\": \"dot\", \"degree\": 3.0, \"title\": \"LRRN3\", \"color\": \"grey\", \"size_field\": 3, \"y\": 931.9416646307579, \"x\": 616.449566821388, \"border_width\": 0, \"id\": \"LRRN3\"}, {\"node_shape\": \"dot\", \"degree\": 3.0, \"title\": \"INSM1\", \"color\": \"grey\", \"size_field\": 3, \"y\": 284.4120101932359, \"x\": 912.6421851032956, \"border_width\": 0, \"id\": \"INSM1\"}, {\"node_shape\": \"dot\", \"degree\": 3.0, \"title\": \"AHR\", \"color\": \"grey\", \"size_field\": 3, \"y\": 505.9240049618782, \"x\": 1005.4446871404766, \"border_width\": 0, \"id\": \"AHR\"}, {\"node_shape\": \"dot\", \"degree\": 3.0, \"title\": \"PTEN\", \"color\": \"grey\", \"size_field\": 3, \"y\": 207.6292754819321, \"x\": 140.86844982601824, \"border_width\": 0, \"id\": \"PTEN\"}, {\"node_shape\": \"dot\", \"degree\": 3.0, \"title\": \"VIP\", \"color\": \"grey\", \"size_field\": 3, \"y\": 85.32408256208407, \"x\": 658.096705460925, \"border_width\": 0, \"id\": \"VIP\"}, {\"node_shape\": \"dot\", \"degree\": 3.0, \"title\": \"RD3\", \"color\": \"grey\", \"size_field\": 3, \"y\": 828.0959512247365, \"x\": 857.4036536793138, \"border_width\": 0, \"id\": \"RD3\"}, {\"node_shape\": \"dot\", \"degree\": 3.0, \"title\": \"SIRT1\", \"color\": \"grey\", \"size_field\": 3, \"y\": 118.02883805982822, \"x\": 549.1398116671415, \"border_width\": 0, \"id\": \"SIRT1\"}, {\"node_shape\": \"dot\", \"degree\": 3.0, \"title\": \"MTOR\", \"color\": \"grey\", \"size_field\": 3, \"y\": 53.888408930550774, \"x\": 284.04852747762055, \"border_width\": 0, \"id\": \"MTOR\"}, {\"node_shape\": \"dot\", \"degree\": 3.0, \"title\": \"KDM3A\", \"color\": \"grey\", \"size_field\": 3, \"y\": 1037.7045559728049, \"x\": 904.1106461493381, \"border_width\": 0, \"id\": \"KDM3A\"}, {\"node_shape\": \"dot\", \"degree\": 3.0, \"title\": \"KDM5B\", \"color\": \"grey\", \"size_field\": 3, \"y\": 348.73982560806206, \"x\": 0.0, \"border_width\": 0, \"id\": \"KDM5B\"}, {\"node_shape\": \"dot\", \"degree\": 3.0, \"title\": \"CDC42\", \"color\": \"grey\", \"size_field\": 3, \"y\": 631.9151959181559, \"x\": 799.5395403208769, \"border_width\": 0, \"id\": \"CDC42\"}], [{\"color\": \"blue\", \"source\": 26, \"target\": 40}, {\"color\": \"blue\", \"source\": 26, \"target\": 13}, {\"color\": \"blue\", \"source\": 26, \"target\": 6}, {\"color\": \"blue\", \"source\": 26, \"target\": 7}, {\"color\": \"blue\", \"source\": 4, \"target\": 13}, {\"color\": \"red\", \"source\": 4, \"target\": 38}, {\"color\": \"blue\", \"source\": 4, \"target\": 40}, {\"color\": \"red\", \"source\": 4, \"target\": 5}, {\"color\": \"blue\", \"source\": 4, \"target\": 33}, {\"color\": \"blue\", \"source\": 4, \"target\": 24}, {\"color\": \"red\", \"source\": 27, \"target\": 13}, {\"color\": \"red\", \"source\": 10, \"target\": 13}, {\"color\": \"blue\", \"source\": 13, \"target\": 0}, {\"color\": \"blue\", \"source\": 13, \"target\": 1}, {\"color\": \"blue\", \"source\": 13, \"target\": 2}, {\"color\": \"red\", \"source\": 13, \"target\": 3}, {\"color\": \"blue\", \"source\": 13, \"target\": 4}, {\"color\": \"blue\", \"source\": 13, \"target\": 5}, {\"color\": \"red\", \"source\": 13, \"target\": 6}, {\"color\": \"red\", \"source\": 13, \"target\": 7}, {\"color\": \"blue\", \"source\": 13, \"target\": 8}, {\"color\": \"blue\", \"source\": 13, \"target\": 9}, {\"color\": \"red\", \"source\": 13, \"target\": 10}, {\"color\": \"red\", \"source\": 13, \"target\": 11}, {\"color\": \"red\", \"source\": 13, \"target\": 11}, {\"color\": \"blue\", \"source\": 13, \"target\": 12}, {\"color\": \"blue\", \"source\": 13, \"target\": 14}, {\"color\": \"red\", \"source\": 13, \"target\": 15}, {\"color\": \"blue\", \"source\": 13, \"target\": 16}, {\"color\": \"blue\", \"source\": 13, \"target\": 17}, {\"color\": \"blue\", \"source\": 13, \"target\": 18}, {\"color\": \"red\", \"source\": 13, \"target\": 19}, {\"color\": \"blue\", \"source\": 13, \"target\": 20}, {\"color\": \"blue\", \"source\": 13, \"target\": 21}, {\"color\": \"red\", \"source\": 13, \"target\": 22}, {\"color\": \"blue\", \"source\": 13, \"target\": 23}, {\"color\": \"blue\", \"source\": 13, \"target\": 24}, {\"color\": \"red\", \"source\": 13, \"target\": 25}, {\"color\": \"blue\", \"source\": 13, \"target\": 26}, {\"color\": \"red\", \"source\": 13, \"target\": 27}, {\"color\": \"red\", \"source\": 13, \"target\": 28}, {\"color\": \"red\", \"source\": 13, \"target\": 29}, {\"color\": \"blue\", \"source\": 13, \"target\": 30}, {\"color\": \"red\", \"source\": 13, \"target\": 31}, {\"color\": \"red\", \"source\": 13, \"target\": 32}, {\"color\": \"red\", \"source\": 13, \"target\": 33}, {\"color\": \"red\", \"source\": 13, \"target\": 34}, {\"color\": \"red\", \"source\": 13, \"target\": 35}, {\"color\": \"red\", \"source\": 13, \"target\": 36}, {\"color\": \"red\", \"source\": 13, \"target\": 37}, {\"color\": \"red\", \"source\": 13, \"target\": 38}, {\"color\": \"blue\", \"source\": 13, \"target\": 39}, {\"color\": \"red\", \"source\": 13, \"target\": 40}, {\"color\": \"blue\", \"source\": 13, \"target\": 41}, {\"color\": \"red\", \"source\": 13, \"target\": 42}, {\"color\": \"blue\", \"source\": 13, \"target\": 43}, {\"color\": \"red\", \"source\": 13, \"target\": 44}, {\"color\": \"blue\", \"source\": 13, \"target\": 45}, {\"color\": \"blue\", \"source\": 13, \"target\": 46}, {\"color\": \"red\", \"source\": 13, \"target\": 47}, {\"color\": \"red\", \"source\": 13, \"target\": 48}, {\"color\": \"red\", \"source\": 13, \"target\": 49}, {\"color\": \"blue\", \"source\": 13, \"target\": 50}, {\"color\": \"blue\", \"source\": 13, \"target\": 51}, {\"color\": \"blue\", \"source\": 13, \"target\": 51}, {\"color\": \"blue\", \"source\": 14, \"target\": 13}, {\"color\": \"red\", \"source\": 14, \"target\": 39}, {\"color\": \"red\", \"source\": 15, \"target\": 13}, {\"color\": \"red\", \"source\": 15, \"target\": 6}, {\"color\": \"blue\", \"source\": 15, \"target\": 38}, {\"color\": \"blue\", \"source\": 15, \"target\": 40}, {\"color\": \"blue\", \"source\": 15, \"target\": 40}, {\"color\": \"blue\", \"source\": 15, \"target\": 47}, {\"color\": \"blue\", \"source\": 15, \"target\": 33}, {\"color\": \"blue\", \"source\": 15, \"target\": 33}, {\"color\": \"red\", \"source\": 15, \"target\": 48}, {\"color\": \"red\", \"source\": 15, \"target\": 24}, {\"color\": \"blue\", \"source\": 44, \"target\": 0}, {\"color\": \"red\", \"source\": 44, \"target\": 13}, {\"color\": \"blue\", \"source\": 44, \"target\": 1}, {\"color\": \"blue\", \"source\": 44, \"target\": 38}, {\"color\": \"blue\", \"source\": 44, \"target\": 40}, {\"color\": \"blue\", \"source\": 44, \"target\": 20}, {\"color\": \"blue\", \"source\": 44, \"target\": 33}, {\"color\": \"blue\", \"source\": 44, \"target\": 48}, {\"color\": \"red\", \"source\": 44, \"target\": 9}, {\"color\": \"blue\", \"source\": 44, \"target\": 24}, {\"color\": \"blue\", \"source\": 44, \"target\": 50}, {\"color\": \"blue\", \"source\": 44, \"target\": 7}, {\"color\": \"red\", \"source\": 19, \"target\": 13}, {\"color\": \"red\", \"source\": 22, \"target\": 13}, {\"color\": \"red\", \"source\": 22, \"target\": 37}, {\"color\": \"blue\", \"source\": 22, \"target\": 40}, {\"color\": \"blue\", \"source\": 22, \"target\": 40}, {\"color\": \"red\", \"source\": 22, \"target\": 34}, {\"color\": \"red\", \"source\": 22, \"target\": 34}, {\"color\": \"blue\", \"source\": 22, \"target\": 7}, {\"color\": \"blue\", \"source\": 22, \"target\": 7}, {\"color\": \"blue\", \"source\": 22, \"target\": 39}, {\"color\": \"blue\", \"source\": 22, \"target\": 39}, {\"color\": \"red\", \"source\": 23, \"target\": 0}, {\"color\": \"blue\", \"source\": 23, \"target\": 13}, {\"color\": \"blue\", \"source\": 23, \"target\": 47}, {\"color\": \"blue\", \"source\": 23, \"target\": 47}, {\"color\": \"red\", \"source\": 23, \"target\": 38}, {\"color\": \"red\", \"source\": 23, \"target\": 40}, {\"color\": \"red\", \"source\": 23, \"target\": 33}, {\"color\": \"red\", \"source\": 23, \"target\": 34}, {\"color\": \"red\", \"source\": 23, \"target\": 48}, {\"color\": \"red\", \"source\": 23, \"target\": 24}, {\"color\": \"red\", \"source\": 23, \"target\": 7}, {\"color\": \"red\", \"source\": 24, \"target\": 0}, {\"color\": \"blue\", \"source\": 24, \"target\": 13}, {\"color\": \"red\", \"source\": 24, \"target\": 47}, {\"color\": \"red\", \"source\": 24, \"target\": 15}, {\"color\": \"blue\", \"source\": 24, \"target\": 2}, {\"color\": \"blue\", \"source\": 24, \"target\": 38}, {\"color\": \"blue\", \"source\": 24, \"target\": 17}, {\"color\": \"red\", \"source\": 24, \"target\": 40}, {\"color\": \"blue\", \"source\": 24, \"target\": 5}, {\"color\": \"blue\", \"source\": 24, \"target\": 5}, {\"color\": \"red\", \"source\": 24, \"target\": 23}, {\"color\": \"blue\", \"source\": 24, \"target\": 39}, {\"color\": \"blue\", \"source\": 24, \"target\": 44}, {\"color\": \"blue\", \"source\": 24, \"target\": 45}, {\"color\": \"blue\", \"source\": 24, \"target\": 33}, {\"color\": \"blue\", \"source\": 24, \"target\": 9}, {\"color\": \"blue\", \"source\": 24, \"target\": 9}, {\"color\": \"blue\", \"source\": 24, \"target\": 48}, {\"color\": \"red\", \"source\": 24, \"target\": 31}, {\"color\": \"blue\", \"source\": 24, \"target\": 4}, {\"color\": \"blue\", \"source\": 24, \"target\": 7}, {\"color\": \"blue\", \"source\": 24, \"target\": 7}, {\"color\": \"red\", \"source\": 3, \"target\": 13}, {\"color\": \"red\", \"source\": 29, \"target\": 34}, {\"color\": \"red\", \"source\": 29, \"target\": 13}, {\"color\": \"blue\", \"source\": 29, \"target\": 47}, {\"color\": \"red\", \"source\": 29, \"target\": 42}, {\"color\": \"red\", \"source\": 31, \"target\": 13}, {\"color\": \"red\", \"source\": 31, \"target\": 24}, {\"color\": \"blue\", \"source\": 31, \"target\": 38}, {\"color\": \"red\", \"source\": 32, \"target\": 13}, {\"color\": \"red\", \"source\": 38, \"target\": 0}, {\"color\": \"red\", \"source\": 38, \"target\": 13}, {\"color\": \"blue\", \"source\": 38, \"target\": 6}, {\"color\": \"red\", \"source\": 38, \"target\": 2}, {\"color\": \"blue\", \"source\": 38, \"target\": 15}, {\"color\": \"blue\", \"source\": 38, \"target\": 40}, {\"color\": \"blue\", \"source\": 38, \"target\": 5}, {\"color\": \"red\", \"source\": 38, \"target\": 30}, {\"color\": \"blue\", \"source\": 38, \"target\": 47}, {\"color\": \"blue\", \"source\": 38, \"target\": 47}, {\"color\": \"blue\", \"source\": 38, \"target\": 47}, {\"color\": \"blue\", \"source\": 38, \"target\": 31}, {\"color\": \"blue\", \"source\": 38, \"target\": 44}, {\"color\": \"blue\", \"source\": 38, \"target\": 33}, {\"color\": \"red\", \"source\": 38, \"target\": 9}, {\"color\": \"red\", \"source\": 38, \"target\": 34}, {\"color\": \"red\", \"source\": 38, \"target\": 23}, {\"color\": \"blue\", \"source\": 38, \"target\": 24}, {\"color\": \"blue\", \"source\": 38, \"target\": 11}, {\"color\": \"red\", \"source\": 38, \"target\": 4}, {\"color\": \"blue\", \"source\": 38, \"target\": 7}, {\"color\": \"blue\", \"source\": 38, \"target\": 7}, {\"color\": \"blue\", \"source\": 38, \"target\": 7}, {\"color\": \"blue\", \"source\": 42, \"target\": 40}, {\"color\": \"red\", \"source\": 42, \"target\": 13}, {\"color\": \"red\", \"source\": 42, \"target\": 29}, {\"color\": \"red\", \"source\": 42, \"target\": 34}, {\"color\": \"red\", \"source\": 43, \"target\": 0}, {\"color\": \"red\", \"source\": 43, \"target\": 9}, {\"color\": \"red\", \"source\": 43, \"target\": 33}, {\"color\": \"blue\", \"source\": 43, \"target\": 13}, {\"color\": \"blue\", \"source\": 17, \"target\": 13}, {\"color\": \"blue\", \"source\": 17, \"target\": 24}, {\"color\": \"blue\", \"source\": 17, \"target\": 33}, {\"color\": \"blue\", \"source\": 17, \"target\": 7}, {\"color\": \"red\", \"source\": 47, \"target\": 13}, {\"color\": \"blue\", \"source\": 47, \"target\": 15}, {\"color\": \"red\", \"source\": 47, \"target\": 5}, {\"color\": \"blue\", \"source\": 47, \"target\": 29}, {\"color\": \"blue\", \"source\": 47, \"target\": 33}, {\"color\": \"blue\", \"source\": 47, \"target\": 23}, {\"color\": \"blue\", \"source\": 47, \"target\": 23}, {\"color\": \"blue\", \"source\": 47, \"target\": 38}, {\"color\": \"blue\", \"source\": 47, \"target\": 38}, {\"color\": \"blue\", \"source\": 47, \"target\": 38}, {\"color\": \"red\", \"source\": 47, \"target\": 24}, {\"color\": \"blue\", \"source\": 50, \"target\": 13}, {\"color\": \"blue\", \"source\": 50, \"target\": 44}]);}</script><iframe name=\"style_file1\" src=\"style_file1.html\" height=\"1200px\" width=\"100%;\"></iframe></body></html>"
      ],
      "text/plain": [
       "<IPython.core.display.HTML object>"
      ]
     },
     "execution_count": 19,
     "metadata": {},
     "output_type": "execute_result"
    }
   ],
   "source": [
    "gene1 = 'MYCN'\n",
    "gene2 = 'FOXO3'\n",
    "\n",
    "# extract sub graphs\n",
    "node_list_1 = DG_brca.neighbors(gene1) + [gene1]\n",
    "G_1 = DG_brca.subgraph(node_list_1) #get only top z-score node and neighbors\n",
    "node_list_2 = DG_brca.neighbors(gene2) + [gene2]\n",
    "G_2 = DG_brca.subgraph(node_list_2) #get only top z-score node and neighbors\n",
    "\n",
    "# differenciate between these two graphs\n",
    "G2_dict = {}\n",
    "for n in node_list_2:\n",
    "    G2_dict[n] = n + ' '  \n",
    "nx.relabel_nodes(G_2, G2_dict, copy = False)\n",
    "\n",
    "# combine two subgraphs into one\n",
    "#G = nx.compose(G_1,G_2)\n",
    "G = G_1\n",
    "nodes = list(G.nodes())\n",
    "edges = list(G.edges()) \n",
    "\n",
    "# define the initial positions of the nodes using networkx's spring_layout function\n",
    "pos = nx.spring_layout(G)\n",
    "\n",
    "# define node colors\n",
    "color = {-1:'blue', 1:'red', 0: 'grey'} # red = act/up, blue = inh/down, no info = grey\n",
    "node_to_color = {node[0]:color[np.sign(node[1]['updown'])] for node in list(G.nodes(data = True))}\n",
    "node_to_color[gene1] = 'yellow'\n",
    "node_to_color[gene2] = 'yellow'\n",
    "node_to_color[gene1 + ' '] = 'yellow'\n",
    "node_to_color[gene2 + ' '] = 'yellow'\n",
    "\n",
    "# define edge colors\n",
    "edge_to_color = {edge[0:2]:color[np.sign(edge[2]['sign'])] for edge in list(G.edges(data = True))}\n",
    "\n",
    "# define node size transform\n",
    "node_to_size = dict(zip(nodes, [3]*len(nodes)))\n",
    "node_to_size[gene1] = 5\n",
    "node_to_size[gene2] = 5\n",
    "node_to_size[gene1 + ' '] = 5\n",
    "node_to_size[gene2 + ' '] = 5\n",
    "\n",
    "# define node and edge attributes\n",
    "nodes_dict = [{\"id\":n,\n",
    "               \"color\": node_to_color[n],\n",
    "               \"size_field\": node_to_size[n],\n",
    "               \"x\":pos[n][0]*1200,\n",
    "               \"y\":pos[n][1]*1200} for n in nodes]\n",
    "\n",
    "node_map = dict(zip(nodes,range(len(nodes))))  # map to indices for source/target in edges\n",
    "\n",
    "edges_dict = [{\"source\":node_map[edges[i][0]], \n",
    "               \"target\":node_map[edges[i][1]], \n",
    "               \"color\":edge_to_color[edges[i]]} for i in range(len(edges))]\n",
    "\n",
    "# display results\n",
    "visJS2jupyter.visJS_module.visjs_network(nodes_dict,edges_dict,\n",
    "                                        edge_arrow_to = False,\n",
    "                                        node_size_multiplier = 6,\n",
    "                                        node_size_transform = '',\n",
    "                                        node_size_field = 'size_field',\n",
    "                                        node_font_size = 25,\n",
    "                                        node_font_color = 'black',\n",
    "                                        edge_color_opacity = 0.5,\n",
    "                                        edge_color_hover = 'orange',\n",
    "                                        edge_color_highlight = 'orange',\n",
    "                                        edge_hoverWidth = 3,\n",
    "                                        edge_selection_width = 3,\n",
    "                                        node_border_width_selected = 0,\n",
    "                                        graph_id = 1)"
   ]
  },
  {
   "cell_type": "code",
   "execution_count": 18,
   "metadata": {},
   "outputs": [
    {
     "data": {
      "text/html": [
       "<!doctype html><html><head>  <title>Network | Basic usage</title></head><body><script type=\"text/javascript\">function setUpFrame() {     var frame = window.frames[\"style_file2\"];    frame.runVis([{\"node_shape\": \"dot\", \"degree\": 3.0, \"title\": \"TGM2\", \"color\": \"grey\", \"size_field\": 3, \"y\": 2020.0675733060484, \"x\": 434.0670689658685, \"border_width\": 0, \"id\": \"TGM2\"}, {\"node_shape\": \"dot\", \"degree\": 3.0, \"title\": \"YWHAZ \", \"color\": \"grey\", \"size_field\": 3, \"y\": 667.117242770781, \"x\": 1062.091161777118, \"border_width\": 0, \"id\": \"YWHAZ \"}, {\"node_shape\": \"dot\", \"degree\": 3.0, \"title\": \"TSC22D3 \", \"color\": \"grey\", \"size_field\": 3, \"y\": 190.24364852259308, \"x\": 374.48007507386575, \"border_width\": 0, \"id\": \"TSC22D3 \"}, {\"node_shape\": \"dot\", \"degree\": 3.0, \"title\": \"AGO4 \", \"color\": \"grey\", \"size_field\": 3, \"y\": 475.63514041663973, \"x\": 125.20020743747463, \"border_width\": 0, \"id\": \"AGO4 \"}, {\"node_shape\": \"dot\", \"degree\": 3.0, \"title\": \"TNRC6A \", \"color\": \"grey\", \"size_field\": 3, \"y\": 314.1821320357883, \"x\": 237.59761033348258, \"border_width\": 0, \"id\": \"TNRC6A \"}, {\"node_shape\": \"dot\", \"degree\": 3.0, \"title\": \"AKT1 \", \"color\": \"grey\", \"size_field\": 3, \"y\": 503.9671424510451, \"x\": 840.9253301957516, \"border_width\": 0, \"id\": \"AKT1 \"}, {\"node_shape\": \"dot\", \"degree\": 3.0, \"title\": \"MST1 \", \"color\": \"grey\", \"size_field\": 3, \"y\": 752.207971814566, \"x\": 1280.4183618324469, \"border_width\": 0, \"id\": \"MST1 \"}, {\"node_shape\": \"dot\", \"degree\": 3.0, \"title\": \"GSN\", \"color\": \"grey\", \"size_field\": 3, \"y\": 2178.924052306775, \"x\": 1192.5703280025486, \"border_width\": 0, \"id\": \"GSN\"}, {\"node_shape\": \"dot\", \"degree\": 3.0, \"title\": \"AKT3 \", \"color\": \"grey\", \"size_field\": 3, \"y\": 452.9316814918686, \"x\": 1062.0477333275892, \"border_width\": 0, \"id\": \"AKT3 \"}, {\"node_shape\": \"dot\", \"degree\": 3.0, \"title\": \"GADD45A \", \"color\": \"grey\", \"size_field\": 3, \"y\": 681.3260402474658, \"x\": 661.9157312100305, \"border_width\": 0, \"id\": \"GADD45A \"}, {\"node_shape\": \"dot\", \"degree\": 3.0, \"title\": \"NTRK1\", \"color\": \"grey\", \"size_field\": 3, \"y\": 1972.2606813829245, \"x\": 1012.4758748475247, \"border_width\": 0, \"id\": \"NTRK1\"}, {\"node_shape\": \"dot\", \"degree\": 3.0, \"title\": \"SIRT1 \", \"color\": \"grey\", \"size_field\": 3, \"y\": 665.7571150082258, \"x\": 359.8088479764004, \"border_width\": 0, \"id\": \"SIRT1 \"}, {\"node_shape\": \"dot\", \"degree\": 3.0, \"title\": \"PDK4 \", \"color\": \"grey\", \"size_field\": 3, \"y\": 5.808654146718816, \"x\": 891.7212584778645, \"border_width\": 0, \"id\": \"PDK4 \"}, {\"node_shape\": \"dot\", \"degree\": 3.0, \"title\": \"VMP1 \", \"color\": \"grey\", \"size_field\": 3, \"y\": 347.4219045389253, \"x\": 562.613113637258, \"border_width\": 0, \"id\": \"VMP1 \"}, {\"node_shape\": \"dot\", \"degree\": 3.0, \"title\": \"MYC\", \"color\": \"grey\", \"size_field\": 3, \"y\": 2180.1598141756563, \"x\": 849.4766194942497, \"border_width\": 0, \"id\": \"MYC\"}, {\"node_shape\": \"dot\", \"degree\": 3.0, \"title\": \"WT1\", \"color\": \"grey\", \"size_field\": 3, \"y\": 1864.2063236773242, \"x\": 231.41618075919308, \"border_width\": 0, \"id\": \"WT1\"}, {\"node_shape\": \"dot\", \"degree\": 3.0, \"title\": \"IGF1R\", \"color\": \"grey\", \"size_field\": 3, \"y\": 2005.6456870635936, \"x\": 555.4494280103382, \"border_width\": 0, \"id\": \"IGF1R\"}, {\"node_shape\": \"dot\", \"degree\": 3.0, \"title\": \"SGK2 \", \"color\": \"grey\", \"size_field\": 3, \"y\": 224.68011272917164, \"x\": 1104.9792163402867, \"border_width\": 0, \"id\": \"SGK2 \"}, {\"node_shape\": \"dot\", \"degree\": 3.0, \"title\": \"BIRC5 \", \"color\": \"grey\", \"size_field\": 3, \"y\": 829.0216382598654, \"x\": 692.3456731917654, \"border_width\": 0, \"id\": \"BIRC5 \"}, {\"node_shape\": \"dot\", \"degree\": 3.0, \"title\": \"CTSD\", \"color\": \"grey\", \"size_field\": 3, \"y\": 2101.1898101311554, \"x\": 576.1825632518112, \"border_width\": 0, \"id\": \"CTSD\"}, {\"node_shape\": \"dot\", \"degree\": 3.0, \"title\": \"NLK \", \"color\": \"grey\", \"size_field\": 3, \"y\": 168.30344510168456, \"x\": 634.275883685332, \"border_width\": 0, \"id\": \"NLK \"}, {\"node_shape\": \"dot\", \"degree\": 3.0, \"title\": \"YWHAB \", \"color\": \"grey\", \"size_field\": 3, \"y\": 694.4892611876913, \"x\": 1143.4628394002075, \"border_width\": 0, \"id\": \"YWHAB \"}, {\"node_shape\": \"dot\", \"degree\": 3.0, \"title\": \"TRPM6\", \"color\": \"grey\", \"size_field\": 3, \"y\": 1986.6738845558, \"x\": 1541.346753772264, \"border_width\": 0, \"id\": \"TRPM6\"}, {\"node_shape\": \"dot\", \"degree\": 3.0, \"title\": \"ALK\", \"color\": \"grey\", \"size_field\": 3, \"y\": 1965.1429066244384, \"x\": 376.9516988753009, \"border_width\": 0, \"id\": \"ALK\"}, {\"node_shape\": \"dot\", \"degree\": 3.0, \"title\": \"RBL2 \", \"color\": \"blue\", \"size_field\": 5, \"y\": 31.411332833185952, \"x\": 1024.2770311624288, \"border_width\": 0, \"id\": \"RBL2 \"}, {\"node_shape\": \"dot\", \"degree\": 3.0, \"title\": \"MOV10 \", \"color\": \"grey\", \"size_field\": 3, \"y\": 156.60012484316377, \"x\": 472.37076885736917, \"border_width\": 0, \"id\": \"MOV10 \"}, {\"node_shape\": \"dot\", \"degree\": 3.0, \"title\": \"CCND1\", \"color\": \"grey\", \"size_field\": 3, \"y\": 1998.967577369731, \"x\": 722.9207110645976, \"border_width\": 0, \"id\": \"CCND1\"}, {\"node_shape\": \"dot\", \"degree\": 3.0, \"title\": \"GABARAPL1 \", \"color\": \"grey\", \"size_field\": 3, \"y\": 558.1661639629931, \"x\": 1543.4388426249263, \"border_width\": 0, \"id\": \"GABARAPL1 \"}, {\"node_shape\": \"dot\", \"degree\": 3.0, \"title\": \"ADIPOQ \", \"color\": \"grey\", \"size_field\": 3, \"y\": 342.2220351742411, \"x\": 442.40445866932225, \"border_width\": 0, \"id\": \"ADIPOQ \"}, {\"node_shape\": \"dot\", \"degree\": 3.0, \"title\": \"AHR\", \"color\": \"grey\", \"size_field\": 3, \"y\": 2039.658920845764, \"x\": 1532.9669863678262, \"border_width\": 0, \"id\": \"AHR\"}, {\"node_shape\": \"dot\", \"degree\": 3.0, \"title\": \"RUNX3\", \"color\": \"grey\", \"size_field\": 3, \"y\": 2199.3031336047893, \"x\": 983.6658234048343, \"border_width\": 0, \"id\": \"RUNX3\"}, {\"node_shape\": \"dot\", \"degree\": 3.0, \"title\": \"FOXO3 \", \"color\": \"yellow\", \"size_field\": 5, \"y\": 1210.0, \"x\": 880.0, \"border_width\": 0, \"id\": \"FOXO3 \"}, {\"node_shape\": \"dot\", \"degree\": 3.0, \"title\": \"SPHK1 \", \"color\": \"grey\", \"size_field\": 3, \"y\": 685.9636042928307, \"x\": 6.299395968636845, \"border_width\": 0, \"id\": \"SPHK1 \"}, {\"node_shape\": \"dot\", \"degree\": 3.0, \"title\": \"RRM2B \", \"color\": \"grey\", \"size_field\": 3, \"y\": 252.27340591152853, \"x\": 1546.8468933595811, \"border_width\": 0, \"id\": \"RRM2B \"}, {\"node_shape\": \"dot\", \"degree\": 3.0, \"title\": \"PRKAA1 \", \"color\": \"grey\", \"size_field\": 3, \"y\": 335.02501766984005, \"x\": 385.88928288331886, \"border_width\": 0, \"id\": \"PRKAA1 \"}, {\"node_shape\": \"dot\", \"degree\": 3.0, \"title\": \"KDM5B\", \"color\": \"grey\", \"size_field\": 3, \"y\": 2052.197360271733, \"x\": 457.7426092241929, \"border_width\": 0, \"id\": \"KDM5B\"}, {\"node_shape\": \"dot\", \"degree\": 3.0, \"title\": \"BBC3 \", \"color\": \"grey\", \"size_field\": 3, \"y\": 773.9232759559513, \"x\": 27.980620916321975, \"border_width\": 0, \"id\": \"BBC3 \"}, {\"node_shape\": \"dot\", \"degree\": 3.0, \"title\": \"CCL2\", \"color\": \"grey\", \"size_field\": 3, \"y\": 2091.079561564634, \"x\": 1119.124235698696, \"border_width\": 0, \"id\": \"CCL2\"}, {\"node_shape\": \"dot\", \"degree\": 3.0, \"title\": \"CDKN1A \", \"color\": \"grey\", \"size_field\": 3, \"y\": 578.0751320163838, \"x\": 699.4642063297895, \"border_width\": 0, \"id\": \"CDKN1A \"}, {\"node_shape\": \"dot\", \"degree\": 3.0, \"title\": \"WDR5\", \"color\": \"grey\", \"size_field\": 3, \"y\": 1951.5097824878735, \"x\": 291.37656680076253, \"border_width\": 0, \"id\": \"WDR5\"}, {\"node_shape\": \"dot\", \"degree\": 3.0, \"title\": \"ESR2 \", \"color\": \"grey\", \"size_field\": 3, \"y\": 43.45120225099889, \"x\": 729.3774225842018, \"border_width\": 0, \"id\": \"ESR2 \"}, {\"node_shape\": \"dot\", \"degree\": 3.0, \"title\": \"CDKN1B\", \"color\": \"grey\", \"size_field\": 3, \"y\": 2167.28555363841, \"x\": 940.1971422752343, \"border_width\": 0, \"id\": \"CDKN1B\"}, {\"node_shape\": \"dot\", \"degree\": 3.0, \"title\": \"TNRC6C \", \"color\": \"grey\", \"size_field\": 3, \"y\": 128.54552249804698, \"x\": 530.2948528695001, \"border_width\": 0, \"id\": \"TNRC6C \"}, {\"node_shape\": \"dot\", \"degree\": 3.0, \"title\": \"YWHAH \", \"color\": \"grey\", \"size_field\": 3, \"y\": 852.1589544671716, \"x\": 894.8219087413175, \"border_width\": 0, \"id\": \"YWHAH \"}, {\"node_shape\": \"dot\", \"degree\": 3.0, \"title\": \"VEGFA \", \"color\": \"grey\", \"size_field\": 3, \"y\": 429.5970661959213, \"x\": 600.8684681564243, \"border_width\": 0, \"id\": \"VEGFA \"}, {\"node_shape\": \"dot\", \"degree\": 3.0, \"title\": \"MYOCD \", \"color\": \"grey\", \"size_field\": 3, \"y\": 423.39652593513387, \"x\": 128.02492896579267, \"border_width\": 0, \"id\": \"MYOCD \"}, {\"node_shape\": \"dot\", \"degree\": 3.0, \"title\": \"CHL1\", \"color\": \"grey\", \"size_field\": 3, \"y\": 1887.7000399500705, \"x\": 367.2513769177587, \"border_width\": 0, \"id\": \"CHL1\"}, {\"node_shape\": \"dot\", \"degree\": 3.0, \"title\": \"NDRG1\", \"color\": \"grey\", \"size_field\": 3, \"y\": 2164.874008563787, \"x\": 1117.3159765697499, \"border_width\": 0, \"id\": \"NDRG1\"}, {\"node_shape\": \"dot\", \"degree\": 3.0, \"title\": \"IRS2 \", \"color\": \"grey\", \"size_field\": 3, \"y\": 239.20487489097667, \"x\": 1349.710593317787, \"border_width\": 0, \"id\": \"IRS2 \"}, {\"node_shape\": \"dot\", \"degree\": 3.0, \"title\": \"SHC2\", \"color\": \"grey\", \"size_field\": 3, \"y\": 2104.1287953172737, \"x\": 517.9576578159857, \"border_width\": 0, \"id\": \"SHC2\"}, {\"node_shape\": \"dot\", \"degree\": 3.0, \"title\": \"G6PC \", \"color\": \"grey\", \"size_field\": 3, \"y\": 331.6099209238445, \"x\": 1572.1121369556643, \"border_width\": 0, \"id\": \"G6PC \"}, {\"node_shape\": \"dot\", \"degree\": 3.0, \"title\": \"HSPA4 \", \"color\": \"grey\", \"size_field\": 3, \"y\": 119.18715555434106, \"x\": 606.8875520488941, \"border_width\": 0, \"id\": \"HSPA4 \"}, {\"node_shape\": \"dot\", \"degree\": 3.0, \"title\": \"PMAIP1 \", \"color\": \"grey\", \"size_field\": 3, \"y\": 688.9439654495169, \"x\": 117.26789262611778, \"border_width\": 0, \"id\": \"PMAIP1 \"}, {\"node_shape\": \"dot\", \"degree\": 3.0, \"title\": \"PRKAB1 \", \"color\": \"grey\", \"size_field\": 3, \"y\": 40.965762975910806, \"x\": 1081.4034185154133, \"border_width\": 0, \"id\": \"PRKAB1 \"}, {\"node_shape\": \"dot\", \"degree\": 3.0, \"title\": \"CHD7\", \"color\": \"grey\", \"size_field\": 3, \"y\": 2028.396590471206, \"x\": 379.91920814949304, \"border_width\": 0, \"id\": \"CHD7\"}, {\"node_shape\": \"dot\", \"degree\": 3.0, \"title\": \"CASP8 \", \"color\": \"grey\", \"size_field\": 3, \"y\": 79.06406067757838, \"x\": 839.0326576249483, \"border_width\": 0, \"id\": \"CASP8 \"}, {\"node_shape\": \"dot\", \"degree\": 3.0, \"title\": \"SOX11\", \"color\": \"grey\", \"size_field\": 3, \"y\": 2122.3005010778593, \"x\": 1374.0951710817255, \"border_width\": 0, \"id\": \"SOX11\"}, {\"node_shape\": \"dot\", \"degree\": 3.0, \"title\": \"FOXP3 \", \"color\": \"grey\", \"size_field\": 3, \"y\": 655.9092430366575, \"x\": 237.8102972706378, \"border_width\": 0, \"id\": \"FOXP3 \"}, {\"node_shape\": \"dot\", \"degree\": 3.0, \"title\": \"YWHAQ \", \"color\": \"grey\", \"size_field\": 3, \"y\": 747.372421473638, \"x\": 1050.7602417630628, \"border_width\": 0, \"id\": \"YWHAQ \"}, {\"node_shape\": \"dot\", \"degree\": 3.0, \"title\": \"VIP\", \"color\": \"grey\", \"size_field\": 3, \"y\": 2164.154754668618, \"x\": 1231.766790819752, \"border_width\": 0, \"id\": \"VIP\"}, {\"node_shape\": \"dot\", \"degree\": 3.0, \"title\": \"BCR \", \"color\": \"grey\", \"size_field\": 3, \"y\": 848.7410102514343, \"x\": 0.0, \"border_width\": 0, \"id\": \"BCR \"}, {\"node_shape\": \"dot\", \"degree\": 3.0, \"title\": \"PRKACB \", \"color\": \"grey\", \"size_field\": 3, \"y\": 750.5582974001688, \"x\": 920.9893528115815, \"border_width\": 0, \"id\": \"PRKACB \"}, {\"node_shape\": \"dot\", \"degree\": 3.0, \"title\": \"MAPK3 \", \"color\": \"grey\", \"size_field\": 3, \"y\": 237.87042432715944, \"x\": 706.8126692362212, \"border_width\": 0, \"id\": \"MAPK3 \"}, {\"node_shape\": \"dot\", \"degree\": 3.0, \"title\": \"TRPM7\", \"color\": \"grey\", \"size_field\": 3, \"y\": 1900.5200591036005, \"x\": 1535.701697954689, \"border_width\": 0, \"id\": \"TRPM7\"}, {\"node_shape\": \"dot\", \"degree\": 3.0, \"title\": \"SNAI1 \", \"color\": \"grey\", \"size_field\": 3, \"y\": 229.99784335628175, \"x\": 773.096244388617, \"border_width\": 0, \"id\": \"SNAI1 \"}, {\"node_shape\": \"dot\", \"degree\": 3.0, \"title\": \"CHUK \", \"color\": \"grey\", \"size_field\": 3, \"y\": 329.0029021970436, \"x\": 857.4367508408914, \"border_width\": 0, \"id\": \"CHUK \"}, {\"node_shape\": \"dot\", \"degree\": 3.0, \"title\": \"CDKN2B \", \"color\": \"blue\", \"size_field\": 5, \"y\": 657.389249503841, \"x\": 450.9259299570184, \"border_width\": 0, \"id\": \"CDKN2B \"}, {\"node_shape\": \"dot\", \"degree\": 3.0, \"title\": \"SIRT2\", \"color\": \"grey\", \"size_field\": 3, \"y\": 2174.428673958274, \"x\": 722.6016655914907, \"border_width\": 0, \"id\": \"SIRT2\"}, {\"node_shape\": \"dot\", \"degree\": 3.0, \"title\": \"SIRT1\", \"color\": \"grey\", \"size_field\": 3, \"y\": 2139.0381620984135, \"x\": 1061.585625678498, \"border_width\": 0, \"id\": \"SIRT1\"}, {\"node_shape\": \"dot\", \"degree\": 3.0, \"title\": \"ABCB1 \", \"color\": \"grey\", \"size_field\": 3, \"y\": 512.9255699705071, \"x\": 282.8795301821091, \"border_width\": 0, \"id\": \"ABCB1 \"}, {\"node_shape\": \"dot\", \"degree\": 3.0, \"title\": \"XPO1 \", \"color\": \"grey\", \"size_field\": 3, \"y\": 859.1822838836111, \"x\": 1078.9718087957244, \"border_width\": 0, \"id\": \"XPO1 \"}, {\"node_shape\": \"dot\", \"degree\": 3.0, \"title\": \"AGO1 \", \"color\": \"grey\", \"size_field\": 3, \"y\": 174.58892716716556, \"x\": 420.72697008444305, \"border_width\": 0, \"id\": \"AGO1 \"}, {\"node_shape\": \"dot\", \"degree\": 3.0, \"title\": \"MYC \", \"color\": \"grey\", \"size_field\": 3, \"y\": 497.43500755379625, \"x\": 445.9362320243405, \"border_width\": 0, \"id\": \"MYC \"}, {\"node_shape\": \"dot\", \"degree\": 3.0, \"title\": \"TP53INP1\", \"color\": \"blue\", \"size_field\": 5, \"y\": 2118.3193096372684, \"x\": 1183.902890988874, \"border_width\": 0, \"id\": \"TP53INP1\"}, {\"node_shape\": \"dot\", \"degree\": 3.0, \"title\": \"STK4 \", \"color\": \"grey\", \"size_field\": 3, \"y\": 100.64356817268423, \"x\": 1281.9531785287993, \"border_width\": 0, \"id\": \"STK4 \"}, {\"node_shape\": \"dot\", \"degree\": 3.0, \"title\": \"SHH\", \"color\": \"grey\", \"size_field\": 3, \"y\": 1973.0039419372692, \"x\": 855.4843999609748, \"border_width\": 0, \"id\": \"SHH\"}, {\"node_shape\": \"dot\", \"degree\": 3.0, \"title\": \"TNRC6B \", \"color\": \"grey\", \"size_field\": 3, \"y\": 278.7079504409796, \"x\": 282.4691664313492, \"border_width\": 0, \"id\": \"TNRC6B \"}, {\"node_shape\": \"dot\", \"degree\": 3.0, \"title\": \"PRKAB2 \", \"color\": \"grey\", \"size_field\": 3, \"y\": 166.56144187044788, \"x\": 1306.9714187463578, \"border_width\": 0, \"id\": \"PRKAB2 \"}, {\"node_shape\": \"dot\", \"degree\": 3.0, \"title\": \"TP53\", \"color\": \"grey\", \"size_field\": 3, \"y\": 2167.3625540209073, \"x\": 889.4304390441692, \"border_width\": 0, \"id\": \"TP53\"}, {\"node_shape\": \"dot\", \"degree\": 3.0, \"title\": \"CTSL \", \"color\": \"grey\", \"size_field\": 3, \"y\": 431.5654048001299, \"x\": 1569.3738434302977, \"border_width\": 0, \"id\": \"CTSL \"}, {\"node_shape\": \"dot\", \"degree\": 3.0, \"title\": \"INSM1\", \"color\": \"grey\", \"size_field\": 3, \"y\": 2046.0043495485043, \"x\": 1482.4042796091233, \"border_width\": 0, \"id\": \"INSM1\"}, {\"node_shape\": \"dot\", \"degree\": 3.0, \"title\": \"PRKACA \", \"color\": \"grey\", \"size_field\": 3, \"y\": 540.39100626345, \"x\": 1205.706769989038, \"border_width\": 0, \"id\": \"PRKACA \"}, {\"node_shape\": \"dot\", \"degree\": 3.0, \"title\": \"DNMT3B \", \"color\": \"grey\", \"size_field\": 3, \"y\": 597.9543046770934, \"x\": 29.18036424066916, \"border_width\": 0, \"id\": \"DNMT3B \"}, {\"node_shape\": \"dot\", \"degree\": 3.0, \"title\": \"FBXO32 \", \"color\": \"grey\", \"size_field\": 3, \"y\": 190.75453042719786, \"x\": 1502.0596847855236, \"border_width\": 0, \"id\": \"FBXO32 \"}, {\"node_shape\": \"dot\", \"degree\": 3.0, \"title\": \"VEGFA\", \"color\": \"grey\", \"size_field\": 3, \"y\": 2127.549155943553, \"x\": 998.0912555397007, \"border_width\": 0, \"id\": \"VEGFA\"}, {\"node_shape\": \"dot\", \"degree\": 3.0, \"title\": \"SLC19A1\", \"color\": \"grey\", \"size_field\": 3, \"y\": 2133.4528125232264, \"x\": 595.1267552411572, \"border_width\": 0, \"id\": \"SLC19A1\"}, {\"node_shape\": \"dot\", \"degree\": 3.0, \"title\": \"PRDX3 \", \"color\": \"grey\", \"size_field\": 3, \"y\": 123.63518781635908, \"x\": 730.3076801960448, \"border_width\": 0, \"id\": \"PRDX3 \"}, {\"node_shape\": \"dot\", \"degree\": 3.0, \"title\": \"PLK1 \", \"color\": \"grey\", \"size_field\": 3, \"y\": 1015.1821796634438, \"x\": 827.339129620677, \"border_width\": 0, \"id\": \"PLK1 \"}, {\"node_shape\": \"dot\", \"degree\": 3.0, \"title\": \"PRKAG3 \", \"color\": \"grey\", \"size_field\": 3, \"y\": 307.3251083874942, \"x\": 1394.9039582153348, \"border_width\": 0, \"id\": \"PRKAG3 \"}, {\"node_shape\": \"dot\", \"degree\": 3.0, \"title\": \"MAPK1 \", \"color\": \"grey\", \"size_field\": 3, \"y\": 529.4720665890749, \"x\": 596.0741376631872, \"border_width\": 0, \"id\": \"MAPK1 \"}, {\"node_shape\": \"dot\", \"degree\": 3.0, \"title\": \"SMAD4\", \"color\": \"grey\", \"size_field\": 3, \"y\": 2153.848295302283, \"x\": 683.6907608291535, \"border_width\": 0, \"id\": \"SMAD4\"}, {\"node_shape\": \"dot\", \"degree\": 3.0, \"title\": \"BMP2\", \"color\": \"grey\", \"size_field\": 3, \"y\": 2051.425332264063, \"x\": 753.1424509303832, \"border_width\": 0, \"id\": \"BMP2\"}, {\"node_shape\": \"dot\", \"degree\": 3.0, \"title\": \"YWHAG \", \"color\": \"grey\", \"size_field\": 3, \"y\": 541.767755496185, \"x\": 1130.4947378990048, \"border_width\": 0, \"id\": \"YWHAG \"}, {\"node_shape\": \"dot\", \"degree\": 3.0, \"title\": \"FOXO4 \", \"color\": \"grey\", \"size_field\": 3, \"y\": 394.1218515262415, \"x\": 979.4797768725776, \"border_width\": 0, \"id\": \"FOXO4 \"}, {\"node_shape\": \"dot\", \"degree\": 3.0, \"title\": \"SGK1 \", \"color\": \"grey\", \"size_field\": 3, \"y\": 214.40569041707204, \"x\": 900.1117523091897, \"border_width\": 0, \"id\": \"SGK1 \"}, {\"node_shape\": \"dot\", \"degree\": 3.0, \"title\": \"FASLG \", \"color\": \"grey\", \"size_field\": 3, \"y\": 625.5756107105276, \"x\": 745.2792297392712, \"border_width\": 0, \"id\": \"FASLG \"}, {\"node_shape\": \"dot\", \"degree\": 3.0, \"title\": \"MAPK12 \", \"color\": \"grey\", \"size_field\": 3, \"y\": 572.3758892378705, \"x\": 872.7880255357461, \"border_width\": 0, \"id\": \"MAPK12 \"}, {\"node_shape\": \"dot\", \"degree\": 3.0, \"title\": \"LRRN3\", \"color\": \"grey\", \"size_field\": 3, \"y\": 1988.062128433188, \"x\": 1598.6752317427902, \"border_width\": 0, \"id\": \"LRRN3\"}, {\"node_shape\": \"dot\", \"degree\": 3.0, \"title\": \"MAPK9 \", \"color\": \"grey\", \"size_field\": 3, \"y\": 541.7308007444561, \"x\": 357.6524541242868, \"border_width\": 0, \"id\": \"MAPK9 \"}, {\"node_shape\": \"dot\", \"degree\": 3.0, \"title\": \"NES\", \"color\": \"grey\", \"size_field\": 3, \"y\": 1942.338410427435, \"x\": 1164.0308422010073, \"border_width\": 0, \"id\": \"NES\"}, {\"node_shape\": \"dot\", \"degree\": 3.0, \"title\": \"CCNG2 \", \"color\": \"grey\", \"size_field\": 3, \"y\": 95.28038770175881, \"x\": 1385.0506359959077, \"border_width\": 0, \"id\": \"CCNG2 \"}, {\"node_shape\": \"dot\", \"degree\": 3.0, \"title\": \"STAT3\", \"color\": \"grey\", \"size_field\": 3, \"y\": 2147.2779823264636, \"x\": 775.0864586051802, \"border_width\": 0, \"id\": \"STAT3\"}, {\"node_shape\": \"dot\", \"degree\": 3.0, \"title\": \"RD3\", \"color\": \"grey\", \"size_field\": 3, \"y\": 1986.7122934541835, \"x\": 332.4842057167705, \"border_width\": 0, \"id\": \"RD3\"}, {\"node_shape\": \"dot\", \"degree\": 3.0, \"title\": \"BNIP3 \", \"color\": \"grey\", \"size_field\": 3, \"y\": 651.4485763981293, \"x\": 1329.6201274108107, \"border_width\": 0, \"id\": \"BNIP3 \"}, {\"node_shape\": \"dot\", \"degree\": 3.0, \"title\": \"NOS3 \", \"color\": \"grey\", \"size_field\": 3, \"y\": 356.51129349205434, \"x\": 703.7559727557558, \"border_width\": 0, \"id\": \"NOS3 \"}, {\"node_shape\": \"dot\", \"degree\": 3.0, \"title\": \"PINK1 \", \"color\": \"grey\", \"size_field\": 3, \"y\": 0.0, \"x\": 951.7392379155976, \"border_width\": 0, \"id\": \"PINK1 \"}, {\"node_shape\": \"dot\", \"degree\": 3.0, \"title\": \"NFKB1\", \"color\": \"grey\", \"size_field\": 3, \"y\": 2184.3926533095387, \"x\": 1030.6803981401074, \"border_width\": 0, \"id\": \"NFKB1\"}, {\"node_shape\": \"dot\", \"degree\": 3.0, \"title\": \"LEP \", \"color\": \"grey\", \"size_field\": 3, \"y\": 782.3974244427054, \"x\": 569.2787336077478, \"border_width\": 0, \"id\": \"LEP \"}, {\"node_shape\": \"dot\", \"degree\": 3.0, \"title\": \"PRKAG2 \", \"color\": \"grey\", \"size_field\": 3, \"y\": 415.5643108957089, \"x\": 1397.551474326354, \"border_width\": 0, \"id\": \"PRKAG2 \"}, {\"node_shape\": \"dot\", \"degree\": 3.0, \"title\": \"PRKAA2 \", \"color\": \"grey\", \"size_field\": 3, \"y\": 48.86030382705341, \"x\": 1134.2524679117178, \"border_width\": 0, \"id\": \"PRKAA2 \"}, {\"node_shape\": \"dot\", \"degree\": 3.0, \"title\": \"KAT2B \", \"color\": \"grey\", \"size_field\": 3, \"y\": 367.33598350895005, \"x\": 221.1471354776795, \"border_width\": 0, \"id\": \"KAT2B \"}, {\"node_shape\": \"dot\", \"degree\": 3.0, \"title\": \"CDKN1B \", \"color\": \"grey\", \"size_field\": 3, \"y\": 513.9480230618634, \"x\": 791.5102695899812, \"border_width\": 0, \"id\": \"CDKN1B \"}, {\"node_shape\": \"dot\", \"degree\": 3.0, \"title\": \"AGO3 \", \"color\": \"grey\", \"size_field\": 3, \"y\": 799.4372726728583, \"x\": 152.40142249530308, \"border_width\": 0, \"id\": \"AGO3 \"}, {\"node_shape\": \"dot\", \"degree\": 3.0, \"title\": \"CDKL5\", \"color\": \"blue\", \"size_field\": 5, \"y\": 2200.0, \"x\": 907.188927884701, \"border_width\": 0, \"id\": \"CDKL5\"}, {\"node_shape\": \"dot\", \"degree\": 3.0, \"title\": \"CCNB1 \", \"color\": \"grey\", \"size_field\": 3, \"y\": 883.150781163913, \"x\": 621.3390853863617, \"border_width\": 0, \"id\": \"CCNB1 \"}, {\"node_shape\": \"dot\", \"degree\": 3.0, \"title\": \"MAPK13 \", \"color\": \"grey\", \"size_field\": 3, \"y\": 611.621741388984, \"x\": 838.79986639391, \"border_width\": 0, \"id\": \"MAPK13 \"}, {\"node_shape\": \"dot\", \"degree\": 3.0, \"title\": \"FOXM1 \", \"color\": \"grey\", \"size_field\": 3, \"y\": 908.0911327419457, \"x\": 500.7160320083814, \"border_width\": 0, \"id\": \"FOXM1 \"}, {\"node_shape\": \"dot\", \"degree\": 3.0, \"title\": \"IKBKB \", \"color\": \"grey\", \"size_field\": 3, \"y\": 383.56695177156286, \"x\": 1108.7309746430858, \"border_width\": 0, \"id\": \"IKBKB \"}, {\"node_shape\": \"dot\", \"degree\": 3.0, \"title\": \"CITED2 \", \"color\": \"grey\", \"size_field\": 3, \"y\": 329.5699141890711, \"x\": 1278.6214880658526, \"border_width\": 0, \"id\": \"CITED2 \"}, {\"node_shape\": \"dot\", \"degree\": 3.0, \"title\": \"MAPK8 \", \"color\": \"grey\", \"size_field\": 3, \"y\": 612.9234441635118, \"x\": 605.1161900169511, \"border_width\": 0, \"id\": \"MAPK8 \"}, {\"node_shape\": \"dot\", \"degree\": 3.0, \"title\": \"MAPK14 \", \"color\": \"grey\", \"size_field\": 3, \"y\": 483.7390238969732, \"x\": 709.4449005902626, \"border_width\": 0, \"id\": \"MAPK14 \"}, {\"node_shape\": \"dot\", \"degree\": 3.0, \"title\": \"RAN \", \"color\": \"grey\", \"size_field\": 3, \"y\": 71.43521644162239, \"x\": 1183.194887782245, \"border_width\": 0, \"id\": \"RAN \"}, {\"node_shape\": \"dot\", \"degree\": 3.0, \"title\": \"CDH1 \", \"color\": \"grey\", \"size_field\": 3, \"y\": 531.8470121045792, \"x\": 527.9941821928364, \"border_width\": 0, \"id\": \"CDH1 \"}, {\"node_shape\": \"dot\", \"degree\": 3.0, \"title\": \"LCN2 \", \"color\": \"grey\", \"size_field\": 3, \"y\": 888.0697209923272, \"x\": 417.15641616143364, \"border_width\": 0, \"id\": \"LCN2 \"}, {\"node_shape\": \"dot\", \"degree\": 3.0, \"title\": \"SP1 \", \"color\": \"grey\", \"size_field\": 3, \"y\": 784.3454079571578, \"x\": 294.49050217252625, \"border_width\": 0, \"id\": \"SP1 \"}, {\"node_shape\": \"dot\", \"degree\": 3.0, \"title\": \"PRKACG \", \"color\": \"grey\", \"size_field\": 3, \"y\": 821.1484509914793, \"x\": 820.2323726638377, \"border_width\": 0, \"id\": \"PRKACG \"}, {\"node_shape\": \"dot\", \"degree\": 3.0, \"title\": \"CDC42\", \"color\": \"grey\", \"size_field\": 3, \"y\": 2130.2991827274814, \"x\": 1275.0907912923017, \"border_width\": 0, \"id\": \"CDC42\"}, {\"node_shape\": \"dot\", \"degree\": 3.0, \"title\": \"CAT \", \"color\": \"grey\", \"size_field\": 3, \"y\": 538.4550309033857, \"x\": 1338.7967074665964, \"border_width\": 0, \"id\": \"CAT \"}, {\"node_shape\": \"dot\", \"degree\": 3.0, \"title\": \"BCL2L11 \", \"color\": \"grey\", \"size_field\": 3, \"y\": 423.5152385780619, \"x\": 517.4119073273358, \"border_width\": 0, \"id\": \"BCL2L11 \"}, {\"node_shape\": \"dot\", \"degree\": 3.0, \"title\": \"STAT3 \", \"color\": \"grey\", \"size_field\": 3, \"y\": 475.5383404853163, \"x\": 618.0386897678222, \"border_width\": 0, \"id\": \"STAT3 \"}, {\"node_shape\": \"dot\", \"degree\": 3.0, \"title\": \"YWHAE \", \"color\": \"grey\", \"size_field\": 3, \"y\": 620.1686801099854, \"x\": 1131.712507021246, \"border_width\": 0, \"id\": \"YWHAE \"}, {\"node_shape\": \"dot\", \"degree\": 3.0, \"title\": \"STK11 \", \"color\": \"grey\", \"size_field\": 3, \"y\": 195.28848277452258, \"x\": 839.293087427501, \"border_width\": 0, \"id\": \"STK11 \"}, {\"node_shape\": \"dot\", \"degree\": 3.0, \"title\": \"PRKAG1 \", \"color\": \"grey\", \"size_field\": 3, \"y\": 893.7290913910045, \"x\": 998.8060387911553, \"border_width\": 0, \"id\": \"PRKAG1 \"}, {\"node_shape\": \"dot\", \"degree\": 3.0, \"title\": \"AR \", \"color\": \"grey\", \"size_field\": 3, \"y\": 413.50848714867266, \"x\": 430.1323672119896, \"border_width\": 0, \"id\": \"AR \"}, {\"node_shape\": \"dot\", \"degree\": 3.0, \"title\": \"MAPK10 \", \"color\": \"grey\", \"size_field\": 3, \"y\": 753.4913111869992, \"x\": 768.7823961322946, \"border_width\": 0, \"id\": \"MAPK10 \"}, {\"node_shape\": \"dot\", \"degree\": 3.0, \"title\": \"AGO2 \", \"color\": \"grey\", \"size_field\": 3, \"y\": 246.40232080350927, \"x\": 333.03140164843177, \"border_width\": 0, \"id\": \"AGO2 \"}, {\"node_shape\": \"dot\", \"degree\": 3.0, \"title\": \"BCL6 \", \"color\": \"grey\", \"size_field\": 3, \"y\": 194.54584585478457, \"x\": 573.4116222750343, \"border_width\": 0, \"id\": \"BCL6 \"}, {\"node_shape\": \"dot\", \"degree\": 3.0, \"title\": \"MYBL2\", \"color\": \"grey\", \"size_field\": 3, \"y\": 2106.4865240411073, \"x\": 1419.4153951936166, \"border_width\": 0, \"id\": \"MYBL2\"}, {\"node_shape\": \"dot\", \"degree\": 3.0, \"title\": \"KLF10\", \"color\": \"grey\", \"size_field\": 3, \"y\": 2086.3196684226396, \"x\": 1462.4061856918493, \"border_width\": 0, \"id\": \"KLF10\"}, {\"node_shape\": \"dot\", \"degree\": 3.0, \"title\": \"NME1 \", \"color\": \"grey\", \"size_field\": 3, \"y\": 390.36555801480654, \"x\": 174.51462219409314, \"border_width\": 0, \"id\": \"NME1 \"}, {\"node_shape\": \"dot\", \"degree\": 3.0, \"title\": \"GATA1 \", \"color\": \"grey\", \"size_field\": 3, \"y\": 519.0725219401636, \"x\": 87.80776914157957, \"border_width\": 0, \"id\": \"GATA1 \"}, {\"node_shape\": \"dot\", \"degree\": 3.0, \"title\": \"RGS5\", \"color\": \"grey\", \"size_field\": 3, \"y\": 2142.7477442302484, \"x\": 1328.8122341445462, \"border_width\": 0, \"id\": \"RGS5\"}, {\"node_shape\": \"dot\", \"degree\": 3.0, \"title\": \"GLI1\", \"color\": \"grey\", \"size_field\": 3, \"y\": 1914.0466223981227, \"x\": 255.43779048946385, \"border_width\": 0, \"id\": \"GLI1\"}, {\"node_shape\": \"dot\", \"degree\": 3.0, \"title\": \"MTDH \", \"color\": \"grey\", \"size_field\": 3, \"y\": 585.6371071529627, \"x\": 117.52274620211224, \"border_width\": 0, \"id\": \"MTDH \"}, {\"node_shape\": \"dot\", \"degree\": 3.0, \"title\": \"EP300 \", \"color\": \"grey\", \"size_field\": 3, \"y\": 412.1612556252647, \"x\": 868.7994927210094, \"border_width\": 0, \"id\": \"EP300 \"}, {\"node_shape\": \"dot\", \"degree\": 3.0, \"title\": \"SOD2 \", \"color\": \"grey\", \"size_field\": 3, \"y\": 726.2420126740279, \"x\": 580.5351487034678, \"border_width\": 0, \"id\": \"SOD2 \"}, {\"node_shape\": \"dot\", \"degree\": 3.0, \"title\": \"PAWR \", \"color\": \"grey\", \"size_field\": 3, \"y\": 51.041197751668825, \"x\": 1271.7021001492203, \"border_width\": 0, \"id\": \"PAWR \"}, {\"node_shape\": \"dot\", \"degree\": 3.0, \"title\": \"ASCL1\", \"color\": \"red\", \"size_field\": 5, \"y\": 2047.3256804856994, \"x\": 1360.9691539432135, \"border_width\": 0, \"id\": \"ASCL1\"}, {\"node_shape\": \"dot\", \"degree\": 3.0, \"title\": \"MYCN\", \"color\": \"yellow\", \"size_field\": 5, \"y\": 1540.0, \"x\": 880.0, \"border_width\": 0, \"id\": \"MYCN\"}, {\"node_shape\": \"dot\", \"degree\": 3.0, \"title\": \"PTEN\", \"color\": \"grey\", \"size_field\": 3, \"y\": 2114.579513608028, \"x\": 658.1367063139219, \"border_width\": 0, \"id\": \"PTEN\"}, {\"node_shape\": \"dot\", \"degree\": 3.0, \"title\": \"NUPR1 \", \"color\": \"grey\", \"size_field\": 3, \"y\": 141.54797126028308, \"x\": 1447.5363359773075, \"border_width\": 0, \"id\": \"NUPR1 \"}, {\"node_shape\": \"dot\", \"degree\": 3.0, \"title\": \"MCM7\", \"color\": \"grey\", \"size_field\": 3, \"y\": 2081.4240111290933, \"x\": 478.28220704658935, \"border_width\": 0, \"id\": \"MCM7\"}, {\"node_shape\": \"dot\", \"degree\": 3.0, \"title\": \"TNFSF10 \", \"color\": \"grey\", \"size_field\": 3, \"y\": 292.3310413814271, \"x\": 536.4876891512902, \"border_width\": 0, \"id\": \"TNFSF10 \"}, {\"node_shape\": \"dot\", \"degree\": 3.0, \"title\": \"HMGA1\", \"color\": \"grey\", \"size_field\": 3, \"y\": 2187.676993040753, \"x\": 1081.5368417623524, \"border_width\": 0, \"id\": \"HMGA1\"}, {\"node_shape\": \"dot\", \"degree\": 3.0, \"title\": \"MAPK11 \", \"color\": \"grey\", \"size_field\": 3, \"y\": 406.0141094240416, \"x\": 793.89649731741, \"border_width\": 0, \"id\": \"MAPK11 \"}, {\"node_shape\": \"dot\", \"degree\": 3.0, \"title\": \"CYR61 \", \"color\": \"grey\", \"size_field\": 3, \"y\": 44.02220465056608, \"x\": 682.0430473865429, \"border_width\": 0, \"id\": \"CYR61 \"}, {\"node_shape\": \"dot\", \"degree\": 3.0, \"title\": \"KDM3A\", \"color\": \"grey\", \"size_field\": 3, \"y\": 1929.012997055272, \"x\": 1636.2757167828158, \"border_width\": 0, \"id\": \"KDM3A\"}, {\"node_shape\": \"dot\", \"degree\": 3.0, \"title\": \"AKT2 \", \"color\": \"grey\", \"size_field\": 3, \"y\": 341.48675929924275, \"x\": 1014.893439362974, \"border_width\": 0, \"id\": \"AKT2 \"}, {\"node_shape\": \"dot\", \"degree\": 3.0, \"title\": \"SETD7 \", \"color\": \"grey\", \"size_field\": 3, \"y\": 155.06808297715293, \"x\": 1023.2077798238113, \"border_width\": 0, \"id\": \"SETD7 \"}, {\"node_shape\": \"dot\", \"degree\": 3.0, \"title\": \"CSNK1E \", \"color\": \"grey\", \"size_field\": 3, \"y\": 126.52268387147552, \"x\": 1211.9478786333277, \"border_width\": 0, \"id\": \"CSNK1E \"}, {\"node_shape\": \"dot\", \"degree\": 3.0, \"title\": \"MTOR\", \"color\": \"grey\", \"size_field\": 3, \"y\": 2166.1511022709337, \"x\": 806.9519346058202, \"border_width\": 0, \"id\": \"MTOR\"}, {\"node_shape\": \"dot\", \"degree\": 3.0, \"title\": \"BCL2\", \"color\": \"grey\", \"size_field\": 3, \"y\": 2052.6398235956826, \"x\": 644.5996805452288, \"border_width\": 0, \"id\": \"BCL2\"}], [{\"color\": \"blue\", \"source\": 2, \"target\": 31}, {\"color\": \"blue\", \"source\": 2, \"target\": 128}, {\"color\": \"red\", \"source\": 4, \"target\": 31}, {\"color\": \"blue\", \"source\": 4, \"target\": 20}, {\"color\": \"blue\", \"source\": 4, \"target\": 72}, {\"color\": \"red\", \"source\": 5, \"target\": 127}, {\"color\": \"blue\", \"source\": 5, \"target\": 128}, {\"color\": \"blue\", \"source\": 5, \"target\": 38}, {\"color\": \"blue\", \"source\": 5, \"target\": 38}, {\"color\": \"blue\", \"source\": 5, \"target\": 38}, {\"color\": \"blue\", \"source\": 5, \"target\": 129}, {\"color\": \"red\", \"source\": 5, \"target\": 130}, {\"color\": \"red\", \"source\": 5, \"target\": 1}, {\"color\": \"red\", \"source\": 5, \"target\": 92}, {\"color\": \"blue\", \"source\": 5, \"target\": 93}, {\"color\": \"blue\", \"source\": 5, \"target\": 93}, {\"color\": \"blue\", \"source\": 5, \"target\": 122}, {\"color\": \"blue\", \"source\": 5, \"target\": 95}, {\"color\": \"blue\", \"source\": 5, \"target\": 96}, {\"color\": \"blue\", \"source\": 5, \"target\": 96}, {\"color\": \"red\", \"source\": 5, \"target\": 6}, {\"color\": \"blue\", \"source\": 5, \"target\": 8}, {\"color\": \"blue\", \"source\": 5, \"target\": 8}, {\"color\": \"blue\", \"source\": 5, \"target\": 8}, {\"color\": \"blue\", \"source\": 5, \"target\": 9}, {\"color\": \"blue\", \"source\": 5, \"target\": 9}, {\"color\": \"blue\", \"source\": 5, \"target\": 103}, {\"color\": \"red\", \"source\": 5, \"target\": 58}, {\"color\": \"red\", \"source\": 5, \"target\": 104}, {\"color\": \"red\", \"source\": 5, \"target\": 104}, {\"color\": \"red\", \"source\": 5, \"target\": 13}, {\"color\": \"red\", \"source\": 5, \"target\": 64}, {\"color\": \"red\", \"source\": 5, \"target\": 107}, {\"color\": \"red\", \"source\": 5, \"target\": 65}, {\"color\": \"red\", \"source\": 5, \"target\": 65}, {\"color\": \"red\", \"source\": 5, \"target\": 43}, {\"color\": \"blue\", \"source\": 5, \"target\": 111}, {\"color\": \"blue\", \"source\": 5, \"target\": 111}, {\"color\": \"blue\", \"source\": 5, \"target\": 111}, {\"color\": \"red\", \"source\": 5, \"target\": 18}, {\"color\": \"red\", \"source\": 5, \"target\": 72}, {\"color\": \"red\", \"source\": 5, \"target\": 72}, {\"color\": \"red\", \"source\": 5, \"target\": 21}, {\"color\": \"blue\", \"source\": 5, \"target\": 114}, {\"color\": \"blue\", \"source\": 5, \"target\": 115}, {\"color\": \"blue\", \"source\": 5, \"target\": 115}, {\"color\": \"blue\", \"source\": 5, \"target\": 116}, {\"color\": \"blue\", \"source\": 5, \"target\": 31}, {\"color\": \"blue\", \"source\": 5, \"target\": 31}, {\"color\": \"blue\", \"source\": 5, \"target\": 31}, {\"color\": \"blue\", \"source\": 5, \"target\": 154}, {\"color\": \"blue\", \"source\": 5, \"target\": 154}, {\"color\": \"blue\", \"source\": 5, \"target\": 120}, {\"color\": \"blue\", \"source\": 5, \"target\": 120}, {\"color\": \"red\", \"source\": 5, \"target\": 133}, {\"color\": \"red\", \"source\": 5, \"target\": 145}, {\"color\": \"blue\", \"source\": 5, \"target\": 157}, {\"color\": \"blue\", \"source\": 5, \"target\": 157}, {\"color\": \"blue\", \"source\": 5, \"target\": 157}, {\"color\": \"blue\", \"source\": 5, \"target\": 157}, {\"color\": \"red\", \"source\": 5, \"target\": 144}, {\"color\": \"blue\", \"source\": 5, \"target\": 123}, {\"color\": \"red\", \"source\": 5, \"target\": 117}, {\"color\": \"red\", \"source\": 5, \"target\": 117}, {\"color\": \"red\", \"source\": 5, \"target\": 44}, {\"color\": \"blue\", \"source\": 8, \"target\": 128}, {\"color\": \"red\", \"source\": 8, \"target\": 117}, {\"color\": \"blue\", \"source\": 8, \"target\": 38}, {\"color\": \"blue\", \"source\": 8, \"target\": 38}, {\"color\": \"blue\", \"source\": 8, \"target\": 120}, {\"color\": \"blue\", \"source\": 8, \"target\": 120}, {\"color\": \"blue\", \"source\": 8, \"target\": 157}, {\"color\": \"blue\", \"source\": 8, \"target\": 157}, {\"color\": \"blue\", \"source\": 8, \"target\": 157}, {\"color\": \"blue\", \"source\": 8, \"target\": 111}, {\"color\": \"blue\", \"source\": 8, \"target\": 111}, {\"color\": \"red\", \"source\": 8, \"target\": 104}, {\"color\": \"blue\", \"source\": 8, \"target\": 93}, {\"color\": \"blue\", \"source\": 8, \"target\": 93}, {\"color\": \"blue\", \"source\": 8, \"target\": 115}, {\"color\": \"blue\", \"source\": 8, \"target\": 115}, {\"color\": \"red\", \"source\": 8, \"target\": 44}, {\"color\": \"blue\", \"source\": 8, \"target\": 96}, {\"color\": \"blue\", \"source\": 8, \"target\": 96}, {\"color\": \"blue\", \"source\": 8, \"target\": 31}, {\"color\": \"blue\", \"source\": 8, \"target\": 31}, {\"color\": \"blue\", \"source\": 8, \"target\": 5}, {\"color\": \"blue\", \"source\": 8, \"target\": 5}, {\"color\": \"blue\", \"source\": 8, \"target\": 5}, {\"color\": \"blue\", \"source\": 8, \"target\": 154}, {\"color\": \"blue\", \"source\": 8, \"target\": 154}, {\"color\": \"red\", \"source\": 8, \"target\": 65}, {\"color\": \"blue\", \"source\": 11, \"target\": 128}, {\"color\": \"blue\", \"source\": 11, \"target\": 128}, {\"color\": \"red\", \"source\": 11, \"target\": 9}, {\"color\": \"blue\", \"source\": 11, \"target\": 38}, {\"color\": \"red\", \"source\": 11, \"target\": 28}, {\"color\": \"red\", \"source\": 11, \"target\": 28}, {\"color\": \"blue\", \"source\": 11, \"target\": 129}, {\"color\": \"red\", \"source\": 11, \"target\": 116}, {\"color\": \"blue\", \"source\": 11, \"target\": 57}, {\"color\": \"blue\", \"source\": 11, \"target\": 95}, {\"color\": \"red\", \"source\": 11, \"target\": 104}, {\"color\": \"red\", \"source\": 11, \"target\": 104}, {\"color\": \"red\", \"source\": 11, \"target\": 133}, {\"color\": \"red\", \"source\": 11, \"target\": 145}, {\"color\": \"blue\", \"source\": 11, \"target\": 44}, {\"color\": \"blue\", \"source\": 11, \"target\": 143}, {\"color\": \"red\", \"source\": 11, \"target\": 31}, {\"color\": \"red\", \"source\": 11, \"target\": 31}, {\"color\": \"red\", \"source\": 11, \"target\": 72}, {\"color\": \"red\", \"source\": 11, \"target\": 111}, {\"color\": \"red\", \"source\": 11, \"target\": 34}, {\"color\": \"red\", \"source\": 14, \"target\": 37}, {\"color\": \"blue\", \"source\": 14, \"target\": 148}, {\"color\": \"red\", \"source\": 14, \"target\": 68}, {\"color\": \"red\", \"source\": 14, \"target\": 101}, {\"color\": \"blue\", \"source\": 14, \"target\": 91}, {\"color\": \"blue\", \"source\": 14, \"target\": 149}, {\"color\": \"red\", \"source\": 14, \"target\": 26}, {\"color\": \"blue\", \"source\": 14, \"target\": 41}, {\"color\": \"blue\", \"source\": 14, \"target\": 41}, {\"color\": \"blue\", \"source\": 14, \"target\": 84}, {\"color\": \"red\", \"source\": 14, \"target\": 153}, {\"color\": \"blue\", \"source\": 14, \"target\": 30}, {\"color\": \"blue\", \"source\": 14, \"target\": 59}, {\"color\": \"blue\", \"source\": 14, \"target\": 73}, {\"color\": \"red\", \"source\": 14, \"target\": 106}, {\"color\": \"blue\", \"source\": 14, \"target\": 47}, {\"color\": \"blue\", \"source\": 14, \"target\": 47}, {\"color\": \"blue\", \"source\": 14, \"target\": 78}, {\"color\": \"blue\", \"source\": 14, \"target\": 161}, {\"color\": \"blue\", \"source\": 14, \"target\": 161}, {\"color\": \"blue\", \"source\": 14, \"target\": 90}, {\"color\": \"blue\", \"source\": 14, \"target\": 160}, {\"color\": \"blue\", \"source\": 15, \"target\": 26}, {\"color\": \"blue\", \"source\": 15, \"target\": 148}, {\"color\": \"blue\", \"source\": 15, \"target\": 16}, {\"color\": \"blue\", \"source\": 15, \"target\": 161}, {\"color\": \"red\", \"source\": 24, \"target\": 93}, {\"color\": \"red\", \"source\": 24, \"target\": 31}, {\"color\": \"red\", \"source\": 29, \"target\": 37}, {\"color\": \"red\", \"source\": 29, \"target\": 47}, {\"color\": \"red\", \"source\": 29, \"target\": 84}, {\"color\": \"blue\", \"source\": 29, \"target\": 148}, {\"color\": \"blue\", \"source\": 30, \"target\": 148}, {\"color\": \"blue\", \"source\": 30, \"target\": 14}, {\"color\": \"blue\", \"source\": 30, \"target\": 84}, {\"color\": \"blue\", \"source\": 30, \"target\": 161}, {\"color\": \"blue\", \"source\": 31, \"target\": 1}, {\"color\": \"blue\", \"source\": 31, \"target\": 1}, {\"color\": \"blue\", \"source\": 31, \"target\": 2}, {\"color\": \"red\", \"source\": 31, \"target\": 3}, {\"color\": \"red\", \"source\": 31, \"target\": 4}, {\"color\": \"blue\", \"source\": 31, \"target\": 5}, {\"color\": \"blue\", \"source\": 31, \"target\": 5}, {\"color\": \"blue\", \"source\": 31, \"target\": 5}, {\"color\": \"red\", \"source\": 31, \"target\": 6}, {\"color\": \"blue\", \"source\": 31, \"target\": 8}, {\"color\": \"blue\", \"source\": 31, \"target\": 8}, {\"color\": \"red\", \"source\": 31, \"target\": 9}, {\"color\": \"red\", \"source\": 31, \"target\": 11}, {\"color\": \"red\", \"source\": 31, \"target\": 11}, {\"color\": \"red\", \"source\": 31, \"target\": 12}, {\"color\": \"blue\", \"source\": 31, \"target\": 13}, {\"color\": \"blue\", \"source\": 31, \"target\": 17}, {\"color\": \"blue\", \"source\": 31, \"target\": 17}, {\"color\": \"blue\", \"source\": 31, \"target\": 18}, {\"color\": \"blue\", \"source\": 31, \"target\": 20}, {\"color\": \"blue\", \"source\": 31, \"target\": 20}, {\"color\": \"blue\", \"source\": 31, \"target\": 21}, {\"color\": \"blue\", \"source\": 31, \"target\": 21}, {\"color\": \"red\", \"source\": 31, \"target\": 33}, {\"color\": \"red\", \"source\": 31, \"target\": 24}, {\"color\": \"red\", \"source\": 31, \"target\": 25}, {\"color\": \"red\", \"source\": 31, \"target\": 27}, {\"color\": \"red\", \"source\": 31, \"target\": 28}, {\"color\": \"blue\", \"source\": 31, \"target\": 32}, {\"color\": \"red\", \"source\": 31, \"target\": 66}, {\"color\": \"red\", \"source\": 31, \"target\": 36}, {\"color\": \"blue\", \"source\": 31, \"target\": 38}, {\"color\": \"red\", \"source\": 31, \"target\": 40}, {\"color\": \"red\", \"source\": 31, \"target\": 42}, {\"color\": \"blue\", \"source\": 31, \"target\": 43}, {\"color\": \"blue\", \"source\": 31, \"target\": 43}, {\"color\": \"blue\", \"source\": 31, \"target\": 44}, {\"color\": \"blue\", \"source\": 31, \"target\": 45}, {\"color\": \"red\", \"source\": 31, \"target\": 48}, {\"color\": \"blue\", \"source\": 31, \"target\": 50}, {\"color\": \"blue\", \"source\": 31, \"target\": 51}, {\"color\": \"red\", \"source\": 31, \"target\": 52}, {\"color\": \"red\", \"source\": 31, \"target\": 152}, {\"color\": \"red\", \"source\": 31, \"target\": 55}, {\"color\": \"red\", \"source\": 31, \"target\": 57}, {\"color\": \"blue\", \"source\": 31, \"target\": 58}, {\"color\": \"blue\", \"source\": 31, \"target\": 58}, {\"color\": \"blue\", \"source\": 31, \"target\": 60}, {\"color\": \"blue\", \"source\": 31, \"target\": 61}, {\"color\": \"blue\", \"source\": 31, \"target\": 61}, {\"color\": \"blue\", \"source\": 31, \"target\": 62}, {\"color\": \"blue\", \"source\": 31, \"target\": 62}, {\"color\": \"blue\", \"source\": 31, \"target\": 64}, {\"color\": \"blue\", \"source\": 31, \"target\": 65}, {\"color\": \"blue\", \"source\": 31, \"target\": 65}, {\"color\": \"red\", \"source\": 31, \"target\": 34}, {\"color\": \"red\", \"source\": 31, \"target\": 69}, {\"color\": \"red\", \"source\": 31, \"target\": 70}, {\"color\": \"red\", \"source\": 31, \"target\": 71}, {\"color\": \"red\", \"source\": 31, \"target\": 72}, {\"color\": \"red\", \"source\": 31, \"target\": 74}, {\"color\": \"red\", \"source\": 31, \"target\": 76}, {\"color\": \"red\", \"source\": 31, \"target\": 77}, {\"color\": \"red\", \"source\": 31, \"target\": 79}, {\"color\": \"blue\", \"source\": 31, \"target\": 81}, {\"color\": \"blue\", \"source\": 31, \"target\": 81}, {\"color\": \"blue\", \"source\": 31, \"target\": 82}, {\"color\": \"red\", \"source\": 31, \"target\": 83}, {\"color\": \"blue\", \"source\": 31, \"target\": 86}, {\"color\": \"red\", \"source\": 31, \"target\": 87}, {\"color\": \"red\", \"source\": 31, \"target\": 88}, {\"color\": \"blue\", \"source\": 31, \"target\": 89}, {\"color\": \"blue\", \"source\": 31, \"target\": 89}, {\"color\": \"blue\", \"source\": 31, \"target\": 92}, {\"color\": \"blue\", \"source\": 31, \"target\": 92}, {\"color\": \"red\", \"source\": 31, \"target\": 93}, {\"color\": \"blue\", \"source\": 31, \"target\": 94}, {\"color\": \"blue\", \"source\": 31, \"target\": 94}, {\"color\": \"blue\", \"source\": 31, \"target\": 95}, {\"color\": \"blue\", \"source\": 31, \"target\": 95}, {\"color\": \"red\", \"source\": 31, \"target\": 96}, {\"color\": \"red\", \"source\": 31, \"target\": 98}, {\"color\": \"red\", \"source\": 31, \"target\": 100}, {\"color\": \"red\", \"source\": 31, \"target\": 103}, {\"color\": \"blue\", \"source\": 31, \"target\": 104}, {\"color\": \"red\", \"source\": 31, \"target\": 105}, {\"color\": \"blue\", \"source\": 31, \"target\": 107}, {\"color\": \"red\", \"source\": 31, \"target\": 108}, {\"color\": \"red\", \"source\": 31, \"target\": 109}, {\"color\": \"red\", \"source\": 31, \"target\": 110}, {\"color\": \"red\", \"source\": 31, \"target\": 111}, {\"color\": \"red\", \"source\": 31, \"target\": 112}, {\"color\": \"red\", \"source\": 31, \"target\": 114}, {\"color\": \"red\", \"source\": 31, \"target\": 115}, {\"color\": \"blue\", \"source\": 31, \"target\": 116}, {\"color\": \"blue\", \"source\": 31, \"target\": 117}, {\"color\": \"blue\", \"source\": 31, \"target\": 117}, {\"color\": \"red\", \"source\": 31, \"target\": 118}, {\"color\": \"red\", \"source\": 31, \"target\": 119}, {\"color\": \"red\", \"source\": 31, \"target\": 120}, {\"color\": \"red\", \"source\": 31, \"target\": 121}, {\"color\": \"red\", \"source\": 31, \"target\": 134}, {\"color\": \"red\", \"source\": 31, \"target\": 123}, {\"color\": \"blue\", \"source\": 31, \"target\": 124}, {\"color\": \"blue\", \"source\": 31, \"target\": 125}, {\"color\": \"blue\", \"source\": 31, \"target\": 125}, {\"color\": \"red\", \"source\": 31, \"target\": 127}, {\"color\": \"blue\", \"source\": 31, \"target\": 128}, {\"color\": \"blue\", \"source\": 31, \"target\": 128}, {\"color\": \"red\", \"source\": 31, \"target\": 129}, {\"color\": \"blue\", \"source\": 31, \"target\": 130}, {\"color\": \"blue\", \"source\": 31, \"target\": 130}, {\"color\": \"red\", \"source\": 31, \"target\": 131}, {\"color\": \"red\", \"source\": 31, \"target\": 131}, {\"color\": \"red\", \"source\": 31, \"target\": 132}, {\"color\": \"red\", \"source\": 31, \"target\": 133}, {\"color\": \"red\", \"source\": 31, \"target\": 122}, {\"color\": \"red\", \"source\": 31, \"target\": 135}, {\"color\": \"red\", \"source\": 31, \"target\": 136}, {\"color\": \"blue\", \"source\": 31, \"target\": 139}, {\"color\": \"red\", \"source\": 31, \"target\": 140}, {\"color\": \"blue\", \"source\": 31, \"target\": 143}, {\"color\": \"blue\", \"source\": 31, \"target\": 144}, {\"color\": \"red\", \"source\": 31, \"target\": 145}, {\"color\": \"blue\", \"source\": 31, \"target\": 146}, {\"color\": \"blue\", \"source\": 31, \"target\": 150}, {\"color\": \"red\", \"source\": 31, \"target\": 53}, {\"color\": \"red\", \"source\": 31, \"target\": 154}, {\"color\": \"blue\", \"source\": 31, \"target\": 155}, {\"color\": \"blue\", \"source\": 31, \"target\": 157}, {\"color\": \"blue\", \"source\": 31, \"target\": 157}, {\"color\": \"blue\", \"source\": 31, \"target\": 158}, {\"color\": \"blue\", \"source\": 31, \"target\": 158}, {\"color\": \"red\", \"source\": 31, \"target\": 159}, {\"color\": \"blue\", \"source\": 35, \"target\": 148}, {\"color\": \"blue\", \"source\": 35, \"target\": 149}, {\"color\": \"red\", \"source\": 39, \"target\": 148}, {\"color\": \"red\", \"source\": 40, \"target\": 104}, {\"color\": \"red\", \"source\": 40, \"target\": 89}, {\"color\": \"red\", \"source\": 40, \"target\": 133}, {\"color\": \"blue\", \"source\": 40, \"target\": 44}, {\"color\": \"red\", \"source\": 40, \"target\": 13}, {\"color\": \"red\", \"source\": 40, \"target\": 31}, {\"color\": \"red\", \"source\": 40, \"target\": 62}, {\"color\": \"red\", \"source\": 40, \"target\": 154}, {\"color\": \"blue\", \"source\": 45, \"target\": 31}, {\"color\": \"red\", \"source\": 56, \"target\": 148}, {\"color\": \"red\", \"source\": 57, \"target\": 38}, {\"color\": \"red\", \"source\": 57, \"target\": 129}, {\"color\": \"red\", \"source\": 57, \"target\": 72}, {\"color\": \"blue\", \"source\": 57, \"target\": 11}, {\"color\": \"blue\", \"source\": 57, \"target\": 95}, {\"color\": \"red\", \"source\": 57, \"target\": 31}, {\"color\": \"blue\", \"source\": 64, \"target\": 129}, {\"color\": \"red\", \"source\": 64, \"target\": 157}, {\"color\": \"blue\", \"source\": 64, \"target\": 28}, {\"color\": \"blue\", \"source\": 64, \"target\": 122}, {\"color\": \"blue\", \"source\": 64, \"target\": 122}, {\"color\": \"blue\", \"source\": 64, \"target\": 122}, {\"color\": \"red\", \"source\": 64, \"target\": 44}, {\"color\": \"blue\", \"source\": 64, \"target\": 31}, {\"color\": \"red\", \"source\": 64, \"target\": 5}, {\"color\": \"red\", \"source\": 64, \"target\": 119}, {\"color\": \"red\", \"source\": 64, \"target\": 72}, {\"color\": \"red\", \"source\": 67, \"target\": 148}, {\"color\": \"red\", \"source\": 68, \"target\": 148}, {\"color\": \"blue\", \"source\": 68, \"target\": 101}, {\"color\": \"blue\", \"source\": 68, \"target\": 78}, {\"color\": \"blue\", \"source\": 68, \"target\": 78}, {\"color\": \"blue\", \"source\": 68, \"target\": 78}, {\"color\": \"red\", \"source\": 68, \"target\": 41}, {\"color\": \"blue\", \"source\": 68, \"target\": 147}, {\"color\": \"blue\", \"source\": 68, \"target\": 84}, {\"color\": \"blue\", \"source\": 68, \"target\": 106}, {\"color\": \"blue\", \"source\": 68, \"target\": 106}, {\"color\": \"red\", \"source\": 68, \"target\": 14}, {\"color\": \"red\", \"source\": 70, \"target\": 87}, {\"color\": \"red\", \"source\": 70, \"target\": 87}, {\"color\": \"red\", \"source\": 70, \"target\": 43}, {\"color\": \"red\", \"source\": 70, \"target\": 130}, {\"color\": \"red\", \"source\": 70, \"target\": 1}, {\"color\": \"red\", \"source\": 70, \"target\": 18}, {\"color\": \"red\", \"source\": 70, \"target\": 18}, {\"color\": \"red\", \"source\": 70, \"target\": 58}, {\"color\": \"red\", \"source\": 70, \"target\": 92}, {\"color\": \"red\", \"source\": 70, \"target\": 93}, {\"color\": \"red\", \"source\": 70, \"target\": 21}, {\"color\": \"red\", \"source\": 70, \"target\": 114}, {\"color\": \"red\", \"source\": 70, \"target\": 31}, {\"color\": \"blue\", \"source\": 72, \"target\": 128}, {\"color\": \"blue\", \"source\": 72, \"target\": 38}, {\"color\": \"blue\", \"source\": 72, \"target\": 38}, {\"color\": \"blue\", \"source\": 72, \"target\": 38}, {\"color\": \"red\", \"source\": 72, \"target\": 89}, {\"color\": \"red\", \"source\": 72, \"target\": 89}, {\"color\": \"red\", \"source\": 72, \"target\": 129}, {\"color\": \"red\", \"source\": 72, \"target\": 96}, {\"color\": \"blue\", \"source\": 72, \"target\": 131}, {\"color\": \"red\", \"source\": 72, \"target\": 133}, {\"color\": \"red\", \"source\": 72, \"target\": 133}, {\"color\": \"blue\", \"source\": 72, \"target\": 42}, {\"color\": \"blue\", \"source\": 72, \"target\": 3}, {\"color\": \"blue\", \"source\": 72, \"target\": 135}, {\"color\": \"blue\", \"source\": 72, \"target\": 44}, {\"color\": \"blue\", \"source\": 72, \"target\": 4}, {\"color\": \"red\", \"source\": 72, \"target\": 136}, {\"color\": \"red\", \"source\": 72, \"target\": 51}, {\"color\": \"red\", \"source\": 72, \"target\": 52}, {\"color\": \"blue\", \"source\": 72, \"target\": 9}, {\"color\": \"blue\", \"source\": 72, \"target\": 9}, {\"color\": \"blue\", \"source\": 72, \"target\": 140}, {\"color\": \"red\", \"source\": 72, \"target\": 57}, {\"color\": \"red\", \"source\": 72, \"target\": 11}, {\"color\": \"blue\", \"source\": 72, \"target\": 76}, {\"color\": \"blue\", \"source\": 72, \"target\": 13}, {\"color\": \"blue\", \"source\": 72, \"target\": 13}, {\"color\": \"red\", \"source\": 72, \"target\": 143}, {\"color\": \"red\", \"source\": 72, \"target\": 62}, {\"color\": \"red\", \"source\": 72, \"target\": 64}, {\"color\": \"red\", \"source\": 72, \"target\": 110}, {\"color\": \"blue\", \"source\": 72, \"target\": 66}, {\"color\": \"blue\", \"source\": 72, \"target\": 66}, {\"color\": \"blue\", \"source\": 72, \"target\": 66}, {\"color\": \"blue\", \"source\": 72, \"target\": 66}, {\"color\": \"blue\", \"source\": 72, \"target\": 112}, {\"color\": \"red\", \"source\": 72, \"target\": 139}, {\"color\": \"blue\", \"source\": 72, \"target\": 111}, {\"color\": \"blue\", \"source\": 72, \"target\": 111}, {\"color\": \"red\", \"source\": 72, \"target\": 18}, {\"color\": \"blue\", \"source\": 72, \"target\": 71}, {\"color\": \"red\", \"source\": 72, \"target\": 114}, {\"color\": \"red\", \"source\": 72, \"target\": 115}, {\"color\": \"red\", \"source\": 72, \"target\": 31}, {\"color\": \"red\", \"source\": 72, \"target\": 5}, {\"color\": \"red\", \"source\": 72, \"target\": 5}, {\"color\": \"red\", \"source\": 72, \"target\": 154}, {\"color\": \"blue\", \"source\": 72, \"target\": 25}, {\"color\": \"red\", \"source\": 72, \"target\": 120}, {\"color\": \"blue\", \"source\": 72, \"target\": 122}, {\"color\": \"red\", \"source\": 72, \"target\": 144}, {\"color\": \"red\", \"source\": 72, \"target\": 65}, {\"color\": \"blue\", \"source\": 72, \"target\": 124}, {\"color\": \"red\", \"source\": 72, \"target\": 86}, {\"color\": \"red\", \"source\": 76, \"target\": 31}, {\"color\": \"blue\", \"source\": 76, \"target\": 20}, {\"color\": \"blue\", \"source\": 76, \"target\": 72}, {\"color\": \"red\", \"source\": 78, \"target\": 37}, {\"color\": \"red\", \"source\": 78, \"target\": 148}, {\"color\": \"blue\", \"source\": 78, \"target\": 16}, {\"color\": \"blue\", \"source\": 78, \"target\": 101}, {\"color\": \"blue\", \"source\": 78, \"target\": 26}, {\"color\": \"blue\", \"source\": 78, \"target\": 41}, {\"color\": \"red\", \"source\": 78, \"target\": 19}, {\"color\": \"blue\", \"source\": 78, \"target\": 68}, {\"color\": \"blue\", \"source\": 78, \"target\": 68}, {\"color\": \"blue\", \"source\": 78, \"target\": 68}, {\"color\": \"blue\", \"source\": 78, \"target\": 153}, {\"color\": \"blue\", \"source\": 78, \"target\": 149}, {\"color\": \"red\", \"source\": 78, \"target\": 106}, {\"color\": \"red\", \"source\": 78, \"target\": 73}, {\"color\": \"red\", \"source\": 78, \"target\": 47}, {\"color\": \"red\", \"source\": 78, \"target\": 75}, {\"color\": \"blue\", \"source\": 78, \"target\": 84}, {\"color\": \"blue\", \"source\": 78, \"target\": 14}, {\"color\": \"blue\", \"source\": 78, \"target\": 99}, {\"color\": \"red\", \"source\": 78, \"target\": 90}, {\"color\": \"blue\", \"source\": 78, \"target\": 161}, {\"color\": \"blue\", \"source\": 78, \"target\": 161}, {\"color\": \"blue\", \"source\": 78, \"target\": 161}, {\"color\": \"blue\", \"source\": 80, \"target\": 26}, {\"color\": \"red\", \"source\": 80, \"target\": 148}, {\"color\": \"red\", \"source\": 80, \"target\": 147}, {\"color\": \"red\", \"source\": 80, \"target\": 75}, {\"color\": \"blue\", \"source\": 82, \"target\": 31}, {\"color\": \"red\", \"source\": 83, \"target\": 31}, {\"color\": \"blue\", \"source\": 90, \"target\": 148}, {\"color\": \"red\", \"source\": 90, \"target\": 78}, {\"color\": \"blue\", \"source\": 90, \"target\": 26}, {\"color\": \"red\", \"source\": 90, \"target\": 41}, {\"color\": \"blue\", \"source\": 90, \"target\": 84}, {\"color\": \"blue\", \"source\": 90, \"target\": 14}, {\"color\": \"red\", \"source\": 93, \"target\": 88}, {\"color\": \"blue\", \"source\": 93, \"target\": 89}, {\"color\": \"blue\", \"source\": 93, \"target\": 89}, {\"color\": \"red\", \"source\": 93, \"target\": 129}, {\"color\": \"red\", \"source\": 93, \"target\": 131}, {\"color\": \"red\", \"source\": 93, \"target\": 131}, {\"color\": \"red\", \"source\": 93, \"target\": 132}, {\"color\": \"red\", \"source\": 93, \"target\": 134}, {\"color\": \"red\", \"source\": 93, \"target\": 134}, {\"color\": \"blue\", \"source\": 93, \"target\": 38}, {\"color\": \"red\", \"source\": 93, \"target\": 95}, {\"color\": \"red\", \"source\": 93, \"target\": 95}, {\"color\": \"red\", \"source\": 93, \"target\": 96}, {\"color\": \"red\", \"source\": 93, \"target\": 136}, {\"color\": \"red\", \"source\": 93, \"target\": 98}, {\"color\": \"blue\", \"source\": 93, \"target\": 8}, {\"color\": \"blue\", \"source\": 93, \"target\": 8}, {\"color\": \"red\", \"source\": 93, \"target\": 9}, {\"color\": \"red\", \"source\": 93, \"target\": 53}, {\"color\": \"red\", \"source\": 93, \"target\": 109}, {\"color\": \"red\", \"source\": 93, \"target\": 120}, {\"color\": \"blue\", \"source\": 93, \"target\": 62}, {\"color\": \"blue\", \"source\": 93, \"target\": 62}, {\"color\": \"red\", \"source\": 93, \"target\": 144}, {\"color\": \"blue\", \"source\": 93, \"target\": 65}, {\"color\": \"blue\", \"source\": 93, \"target\": 65}, {\"color\": \"red\", \"source\": 93, \"target\": 34}, {\"color\": \"red\", \"source\": 93, \"target\": 108}, {\"color\": \"blue\", \"source\": 93, \"target\": 17}, {\"color\": \"blue\", \"source\": 93, \"target\": 17}, {\"color\": \"red\", \"source\": 93, \"target\": 70}, {\"color\": \"red\", \"source\": 93, \"target\": 111}, {\"color\": \"blue\", \"source\": 93, \"target\": 20}, {\"color\": \"blue\", \"source\": 93, \"target\": 20}, {\"color\": \"red\", \"source\": 93, \"target\": 115}, {\"color\": \"red\", \"source\": 93, \"target\": 74}, {\"color\": \"red\", \"source\": 93, \"target\": 31}, {\"color\": \"blue\", \"source\": 93, \"target\": 5}, {\"color\": \"blue\", \"source\": 93, \"target\": 5}, {\"color\": \"red\", \"source\": 93, \"target\": 119}, {\"color\": \"red\", \"source\": 93, \"target\": 119}, {\"color\": \"red\", \"source\": 93, \"target\": 154}, {\"color\": \"red\", \"source\": 93, \"target\": 121}, {\"color\": \"red\", \"source\": 93, \"target\": 77}, {\"color\": \"blue\", \"source\": 93, \"target\": 94}, {\"color\": \"blue\", \"source\": 93, \"target\": 94}, {\"color\": \"red\", \"source\": 93, \"target\": 24}, {\"color\": \"red\", \"source\": 93, \"target\": 145}, {\"color\": \"blue\", \"source\": 93, \"target\": 157}, {\"color\": \"blue\", \"source\": 93, \"target\": 157}, {\"color\": \"red\", \"source\": 93, \"target\": 66}, {\"color\": \"blue\", \"source\": 93, \"target\": 158}, {\"color\": \"blue\", \"source\": 93, \"target\": 158}, {\"color\": \"red\", \"source\": 93, \"target\": 159}, {\"color\": \"blue\", \"source\": 93, \"target\": 117}, {\"color\": \"blue\", \"source\": 93, \"target\": 117}, {\"color\": \"red\", \"source\": 101, \"target\": 148}, {\"color\": \"red\", \"source\": 101, \"target\": 16}, {\"color\": \"blue\", \"source\": 101, \"target\": 78}, {\"color\": \"blue\", \"source\": 101, \"target\": 26}, {\"color\": \"blue\", \"source\": 101, \"target\": 26}, {\"color\": \"blue\", \"source\": 101, \"target\": 68}, {\"color\": \"blue\", \"source\": 101, \"target\": 84}, {\"color\": \"blue\", \"source\": 101, \"target\": 84}, {\"color\": \"red\", \"source\": 101, \"target\": 160}, {\"color\": \"red\", \"source\": 101, \"target\": 14}, {\"color\": \"red\", \"source\": 106, \"target\": 37}, {\"color\": \"blue\", \"source\": 106, \"target\": 148}, {\"color\": \"blue\", \"source\": 106, \"target\": 68}, {\"color\": \"blue\", \"source\": 106, \"target\": 68}, {\"color\": \"red\", \"source\": 106, \"target\": 78}, {\"color\": \"red\", \"source\": 106, \"target\": 26}, {\"color\": \"red\", \"source\": 106, \"target\": 84}, {\"color\": \"red\", \"source\": 106, \"target\": 75}, {\"color\": \"red\", \"source\": 106, \"target\": 160}, {\"color\": \"red\", \"source\": 106, \"target\": 14}, {\"color\": \"red\", \"source\": 106, \"target\": 161}, {\"color\": \"red\", \"source\": 110, \"target\": 133}, {\"color\": \"red\", \"source\": 110, \"target\": 31}, {\"color\": \"red\", \"source\": 110, \"target\": 69}, {\"color\": \"red\", \"source\": 110, \"target\": 120}, {\"color\": \"red\", \"source\": 110, \"target\": 72}, {\"color\": \"red\", \"source\": 114, \"target\": 87}, {\"color\": \"blue\", \"source\": 114, \"target\": 9}, {\"color\": \"blue\", \"source\": 114, \"target\": 9}, {\"color\": \"red\", \"source\": 114, \"target\": 38}, {\"color\": \"red\", \"source\": 114, \"target\": 70}, {\"color\": \"red\", \"source\": 114, \"target\": 132}, {\"color\": \"red\", \"source\": 114, \"target\": 72}, {\"color\": \"red\", \"source\": 114, \"target\": 122}, {\"color\": \"red\", \"source\": 114, \"target\": 43}, {\"color\": \"red\", \"source\": 114, \"target\": 61}, {\"color\": \"red\", \"source\": 114, \"target\": 116}, {\"color\": \"red\", \"source\": 114, \"target\": 31}, {\"color\": \"blue\", \"source\": 114, \"target\": 5}, {\"color\": \"red\", \"source\": 114, \"target\": 125}, {\"color\": \"blue\", \"source\": 114, \"target\": 124}, {\"color\": \"red\", \"source\": 116, \"target\": 87}, {\"color\": \"blue\", \"source\": 116, \"target\": 38}, {\"color\": \"blue\", \"source\": 116, \"target\": 89}, {\"color\": \"red\", \"source\": 116, \"target\": 18}, {\"color\": \"red\", \"source\": 116, \"target\": 122}, {\"color\": \"red\", \"source\": 116, \"target\": 11}, {\"color\": \"blue\", \"source\": 116, \"target\": 44}, {\"color\": \"blue\", \"source\": 116, \"target\": 31}, {\"color\": \"red\", \"source\": 116, \"target\": 114}, {\"color\": \"blue\", \"source\": 116, \"target\": 119}, {\"color\": \"blue\", \"source\": 116, \"target\": 5}, {\"color\": \"red\", \"source\": 117, \"target\": 8}, {\"color\": \"red\", \"source\": 117, \"target\": 38}, {\"color\": \"red\", \"source\": 117, \"target\": 152}, {\"color\": \"red\", \"source\": 117, \"target\": 55}, {\"color\": \"red\", \"source\": 117, \"target\": 157}, {\"color\": \"blue\", \"source\": 117, \"target\": 93}, {\"color\": \"blue\", \"source\": 117, \"target\": 93}, {\"color\": \"red\", \"source\": 117, \"target\": 95}, {\"color\": \"blue\", \"source\": 117, \"target\": 31}, {\"color\": \"blue\", \"source\": 117, \"target\": 31}, {\"color\": \"red\", \"source\": 117, \"target\": 5}, {\"color\": \"red\", \"source\": 117, \"target\": 5}, {\"color\": \"blue\", \"source\": 117, \"target\": 48}, {\"color\": \"blue\", \"source\": 117, \"target\": 48}, {\"color\": \"red\", \"source\": 117, \"target\": 65}, {\"color\": \"red\", \"source\": 118, \"target\": 31}, {\"color\": \"blue\", \"source\": 118, \"target\": 144}, {\"color\": \"red\", \"source\": 124, \"target\": 38}, {\"color\": \"red\", \"source\": 124, \"target\": 89}, {\"color\": \"red\", \"source\": 124, \"target\": 133}, {\"color\": \"red\", \"source\": 124, \"target\": 134}, {\"color\": \"red\", \"source\": 124, \"target\": 44}, {\"color\": \"red\", \"source\": 124, \"target\": 96}, {\"color\": \"red\", \"source\": 124, \"target\": 98}, {\"color\": \"red\", \"source\": 124, \"target\": 52}, {\"color\": \"blue\", \"source\": 124, \"target\": 152}, {\"color\": \"blue\", \"source\": 124, \"target\": 13}, {\"color\": \"red\", \"source\": 124, \"target\": 107}, {\"color\": \"red\", \"source\": 124, \"target\": 69}, {\"color\": \"red\", \"source\": 124, \"target\": 18}, {\"color\": \"blue\", \"source\": 124, \"target\": 72}, {\"color\": \"blue\", \"source\": 124, \"target\": 114}, {\"color\": \"red\", \"source\": 124, \"target\": 115}, {\"color\": \"blue\", \"source\": 124, \"target\": 31}, {\"color\": \"blue\", \"source\": 124, \"target\": 119}, {\"color\": \"red\", \"source\": 124, \"target\": 154}, {\"color\": \"red\", \"source\": 124, \"target\": 120}, {\"color\": \"red\", \"source\": 124, \"target\": 66}, {\"color\": \"red\", \"source\": 124, \"target\": 36}, {\"color\": \"blue\", \"source\": 129, \"target\": 38}, {\"color\": \"red\", \"source\": 129, \"target\": 89}, {\"color\": \"red\", \"source\": 129, \"target\": 89}, {\"color\": \"red\", \"source\": 129, \"target\": 120}, {\"color\": \"blue\", \"source\": 129, \"target\": 5}, {\"color\": \"red\", \"source\": 129, \"target\": 57}, {\"color\": \"blue\", \"source\": 129, \"target\": 18}, {\"color\": \"red\", \"source\": 129, \"target\": 72}, {\"color\": \"red\", \"source\": 129, \"target\": 93}, {\"color\": \"blue\", \"source\": 129, \"target\": 122}, {\"color\": \"blue\", \"source\": 129, \"target\": 11}, {\"color\": \"blue\", \"source\": 129, \"target\": 64}, {\"color\": \"blue\", \"source\": 129, \"target\": 44}, {\"color\": \"blue\", \"source\": 129, \"target\": 44}, {\"color\": \"red\", \"source\": 129, \"target\": 13}, {\"color\": \"red\", \"source\": 129, \"target\": 13}, {\"color\": \"blue\", \"source\": 129, \"target\": 136}, {\"color\": \"red\", \"source\": 129, \"target\": 31}, {\"color\": \"red\", \"source\": 129, \"target\": 62}, {\"color\": \"red\", \"source\": 129, \"target\": 62}, {\"color\": \"red\", \"source\": 129, \"target\": 144}, {\"color\": \"red\", \"source\": 129, \"target\": 144}, {\"color\": \"red\", \"source\": 129, \"target\": 107}, {\"color\": \"red\", \"source\": 133, \"target\": 38}, {\"color\": \"red\", \"source\": 133, \"target\": 94}, {\"color\": \"red\", \"source\": 133, \"target\": 40}, {\"color\": \"red\", \"source\": 133, \"target\": 55}, {\"color\": \"red\", \"source\": 133, \"target\": 110}, {\"color\": \"red\", \"source\": 133, \"target\": 72}, {\"color\": \"red\", \"source\": 133, \"target\": 72}, {\"color\": \"blue\", \"source\": 133, \"target\": 122}, {\"color\": \"red\", \"source\": 133, \"target\": 11}, {\"color\": \"blue\", \"source\": 133, \"target\": 44}, {\"color\": \"red\", \"source\": 133, \"target\": 13}, {\"color\": \"red\", \"source\": 133, \"target\": 31}, {\"color\": \"red\", \"source\": 133, \"target\": 5}, {\"color\": \"red\", \"source\": 133, \"target\": 119}, {\"color\": \"red\", \"source\": 133, \"target\": 144}, {\"color\": \"red\", \"source\": 133, \"target\": 124}, {\"color\": \"red\", \"source\": 133, \"target\": 65}, {\"color\": \"red\", \"source\": 133, \"target\": 120}, {\"color\": \"red\", \"source\": 136, \"target\": 93}, {\"color\": \"red\", \"source\": 136, \"target\": 31}, {\"color\": \"blue\", \"source\": 136, \"target\": 129}, {\"color\": \"red\", \"source\": 136, \"target\": 72}, {\"color\": \"red\", \"source\": 137, \"target\": 148}, {\"color\": \"blue\", \"source\": 138, \"target\": 148}, {\"color\": \"red\", \"source\": 138, \"target\": 91}, {\"color\": \"blue\", \"source\": 140, \"target\": 122}, {\"color\": \"blue\", \"source\": 140, \"target\": 72}, {\"color\": \"red\", \"source\": 140, \"target\": 31}, {\"color\": \"red\", \"source\": 142, \"target\": 148}, {\"color\": \"blue\", \"source\": 142, \"target\": 91}, {\"color\": \"blue\", \"source\": 142, \"target\": 91}, {\"color\": \"blue\", \"source\": 142, \"target\": 26}, {\"color\": \"blue\", \"source\": 142, \"target\": 26}, {\"color\": \"red\", \"source\": 142, \"target\": 75}, {\"color\": \"red\", \"source\": 142, \"target\": 75}, {\"color\": \"blue\", \"source\": 142, \"target\": 161}, {\"color\": \"blue\", \"source\": 142, \"target\": 161}, {\"color\": \"red\", \"source\": 142, \"target\": 23}, {\"color\": \"red\", \"source\": 144, \"target\": 104}, {\"color\": \"red\", \"source\": 144, \"target\": 9}, {\"color\": \"red\", \"source\": 144, \"target\": 38}, {\"color\": \"red\", \"source\": 144, \"target\": 129}, {\"color\": \"red\", \"source\": 144, \"target\": 129}, {\"color\": \"red\", \"source\": 144, \"target\": 81}, {\"color\": \"red\", \"source\": 144, \"target\": 125}, {\"color\": \"blue\", \"source\": 144, \"target\": 118}, {\"color\": \"red\", \"source\": 144, \"target\": 72}, {\"color\": \"red\", \"source\": 144, \"target\": 93}, {\"color\": \"red\", \"source\": 144, \"target\": 122}, {\"color\": \"red\", \"source\": 144, \"target\": 133}, {\"color\": \"red\", \"source\": 144, \"target\": 94}, {\"color\": \"red\", \"source\": 144, \"target\": 61}, {\"color\": \"red\", \"source\": 144, \"target\": 44}, {\"color\": \"red\", \"source\": 144, \"target\": 69}, {\"color\": \"blue\", \"source\": 144, \"target\": 31}, {\"color\": \"red\", \"source\": 144, \"target\": 5}, {\"color\": \"red\", \"source\": 144, \"target\": 28}, {\"color\": \"blue\", \"source\": 144, \"target\": 107}, {\"color\": \"red\", \"source\": 144, \"target\": 120}, {\"color\": \"blue\", \"source\": 146, \"target\": 31}, {\"color\": \"red\", \"source\": 147, \"target\": 75}, {\"color\": \"red\", \"source\": 147, \"target\": 148}, {\"color\": \"blue\", \"source\": 147, \"target\": 68}, {\"color\": \"red\", \"source\": 147, \"target\": 80}, {\"color\": \"blue\", \"source\": 148, \"target\": 37}, {\"color\": \"blue\", \"source\": 148, \"target\": 0}, {\"color\": \"blue\", \"source\": 148, \"target\": 15}, {\"color\": \"blue\", \"source\": 148, \"target\": 90}, {\"color\": \"blue\", \"source\": 148, \"target\": 41}, {\"color\": \"red\", \"source\": 148, \"target\": 39}, {\"color\": \"blue\", \"source\": 148, \"target\": 126}, {\"color\": \"blue\", \"source\": 148, \"target\": 126}, {\"color\": \"blue\", \"source\": 148, \"target\": 46}, {\"color\": \"blue\", \"source\": 148, \"target\": 47}, {\"color\": \"red\", \"source\": 148, \"target\": 137}, {\"color\": \"red\", \"source\": 148, \"target\": 99}, {\"color\": \"red\", \"source\": 148, \"target\": 99}, {\"color\": \"blue\", \"source\": 148, \"target\": 7}, {\"color\": \"blue\", \"source\": 148, \"target\": 138}, {\"color\": \"red\", \"source\": 148, \"target\": 101}, {\"color\": \"blue\", \"source\": 148, \"target\": 54}, {\"color\": \"red\", \"source\": 148, \"target\": 149}, {\"color\": \"blue\", \"source\": 148, \"target\": 113}, {\"color\": \"red\", \"source\": 148, \"target\": 56}, {\"color\": \"blue\", \"source\": 148, \"target\": 10}, {\"color\": \"blue\", \"source\": 148, \"target\": 141}, {\"color\": \"red\", \"source\": 148, \"target\": 142}, {\"color\": \"red\", \"source\": 148, \"target\": 160}, {\"color\": \"blue\", \"source\": 148, \"target\": 106}, {\"color\": \"blue\", \"source\": 148, \"target\": 14}, {\"color\": \"red\", \"source\": 148, \"target\": 63}, {\"color\": \"red\", \"source\": 148, \"target\": 67}, {\"color\": \"red\", \"source\": 148, \"target\": 16}, {\"color\": \"red\", \"source\": 148, \"target\": 49}, {\"color\": \"red\", \"source\": 148, \"target\": 147}, {\"color\": \"blue\", \"source\": 148, \"target\": 19}, {\"color\": \"red\", \"source\": 148, \"target\": 153}, {\"color\": \"red\", \"source\": 148, \"target\": 151}, {\"color\": \"blue\", \"source\": 148, \"target\": 73}, {\"color\": \"red\", \"source\": 148, \"target\": 75}, {\"color\": \"red\", \"source\": 148, \"target\": 22}, {\"color\": \"blue\", \"source\": 148, \"target\": 91}, {\"color\": \"red\", \"source\": 148, \"target\": 156}, {\"color\": \"red\", \"source\": 148, \"target\": 78}, {\"color\": \"red\", \"source\": 148, \"target\": 23}, {\"color\": \"red\", \"source\": 148, \"target\": 26}, {\"color\": \"blue\", \"source\": 148, \"target\": 97}, {\"color\": \"red\", \"source\": 148, \"target\": 80}, {\"color\": \"blue\", \"source\": 148, \"target\": 29}, {\"color\": \"blue\", \"source\": 148, \"target\": 30}, {\"color\": \"blue\", \"source\": 148, \"target\": 59}, {\"color\": \"blue\", \"source\": 148, \"target\": 102}, {\"color\": \"red\", \"source\": 148, \"target\": 68}, {\"color\": \"red\", \"source\": 148, \"target\": 84}, {\"color\": \"red\", \"source\": 148, \"target\": 85}, {\"color\": \"blue\", \"source\": 148, \"target\": 35}, {\"color\": \"red\", \"source\": 148, \"target\": 161}, {\"color\": \"blue\", \"source\": 149, \"target\": 37}, {\"color\": \"red\", \"source\": 149, \"target\": 148}, {\"color\": \"blue\", \"source\": 149, \"target\": 0}, {\"color\": \"blue\", \"source\": 149, \"target\": 78}, {\"color\": \"blue\", \"source\": 149, \"target\": 26}, {\"color\": \"blue\", \"source\": 149, \"target\": 10}, {\"color\": \"blue\", \"source\": 149, \"target\": 84}, {\"color\": \"red\", \"source\": 149, \"target\": 47}, {\"color\": \"blue\", \"source\": 149, \"target\": 160}, {\"color\": \"blue\", \"source\": 149, \"target\": 14}, {\"color\": \"blue\", \"source\": 149, \"target\": 35}, {\"color\": \"blue\", \"source\": 149, \"target\": 161}, {\"color\": \"blue\", \"source\": 150, \"target\": 31}, {\"color\": \"red\", \"source\": 151, \"target\": 148}, {\"color\": \"red\", \"source\": 153, \"target\": 148}, {\"color\": \"red\", \"source\": 153, \"target\": 14}, {\"color\": \"blue\", \"source\": 153, \"target\": 78}, {\"color\": \"red\", \"source\": 155, \"target\": 105}, {\"color\": \"red\", \"source\": 155, \"target\": 44}, {\"color\": \"blue\", \"source\": 155, \"target\": 31}, {\"color\": \"blue\", \"source\": 157, \"target\": 8}, {\"color\": \"blue\", \"source\": 157, \"target\": 8}, {\"color\": \"blue\", \"source\": 157, \"target\": 8}, {\"color\": \"red\", \"source\": 157, \"target\": 104}, {\"color\": \"blue\", \"source\": 157, \"target\": 38}, {\"color\": \"blue\", \"source\": 157, \"target\": 38}, {\"color\": \"blue\", \"source\": 157, \"target\": 120}, {\"color\": \"blue\", \"source\": 157, \"target\": 120}, {\"color\": \"blue\", \"source\": 157, \"target\": 111}, {\"color\": \"blue\", \"source\": 157, \"target\": 111}, {\"color\": \"red\", \"source\": 157, \"target\": 13}, {\"color\": \"blue\", \"source\": 157, \"target\": 93}, {\"color\": \"blue\", \"source\": 157, \"target\": 93}, {\"color\": \"blue\", \"source\": 157, \"target\": 31}, {\"color\": \"blue\", \"source\": 157, \"target\": 31}, {\"color\": \"blue\", \"source\": 157, \"target\": 115}, {\"color\": \"blue\", \"source\": 157, \"target\": 115}, {\"color\": \"red\", \"source\": 157, \"target\": 65}, {\"color\": \"blue\", \"source\": 157, \"target\": 96}, {\"color\": \"blue\", \"source\": 157, \"target\": 96}, {\"color\": \"red\", \"source\": 157, \"target\": 117}, {\"color\": \"blue\", \"source\": 157, \"target\": 5}, {\"color\": \"blue\", \"source\": 157, \"target\": 5}, {\"color\": \"blue\", \"source\": 157, \"target\": 5}, {\"color\": \"blue\", \"source\": 157, \"target\": 5}, {\"color\": \"red\", \"source\": 157, \"target\": 64}, {\"color\": \"blue\", \"source\": 157, \"target\": 154}, {\"color\": \"blue\", \"source\": 157, \"target\": 154}]);}</script><iframe name=\"style_file2\" src=\"style_file2.html\" height=\"1200px\" width=\"100%;\"></iframe></body></html>"
      ],
      "text/plain": [
       "<IPython.core.display.HTML object>"
      ]
     },
     "execution_count": 18,
     "metadata": {},
     "output_type": "execute_result"
    }
   ],
   "source": [
    "gene1 = 'MYCN'\n",
    "gene2 = 'FOXO3'\n",
    "\n",
    "# extract sub graphs\n",
    "node_list_1 = DG_brca.neighbors(gene1) + [gene1]\n",
    "G_1 = DG_brca.subgraph(node_list_1) #get only top z-score node and neighbors\n",
    "node_list_2 = DG_brca.neighbors(gene2) + [gene2]\n",
    "G_2 = DG_brca.subgraph(node_list_2) #get only top z-score node and neighbors\n",
    "\n",
    "# differenciate between these two graphs\n",
    "G2_dict = {}\n",
    "for n in node_list_2:\n",
    "    G2_dict[n] = n + ' '  \n",
    "nx.relabel_nodes(G_2, G2_dict, copy = False)\n",
    "\n",
    "# combine two subgraphs into one\n",
    "G = nx.compose(G_1,G_2)\n",
    "nodes = list(G.nodes())\n",
    "edges = list(G.edges()) \n",
    "\n",
    "# define the initial positions of the nodes using networkx's spring_layout function\n",
    "pos = nx.spring_layout(G)\n",
    "\n",
    "pos[gene1] = np.array([ 0.4,  0.7])\n",
    "pos[gene2] = np.array([ 0.4,  0.55])\n",
    "pos[gene1 + ' '] = np.array([ 0.4,  0.7])\n",
    "pos[gene2 + ' '] = np.array([ 0.4,  0.55])\n",
    "\n",
    "# define node colors\n",
    "color = {-1:'blue', 1:'red', 0: 'grey'} # red = act/up, blue = inh/down, no info = grey\n",
    "node_to_color = {node[0]:color[np.sign(node[1]['updown'])] for node in list(G.nodes(data = True))}\n",
    "node_to_color[gene1] = 'yellow'\n",
    "node_to_color[gene2] = 'yellow'\n",
    "node_to_color[gene1 + ' '] = 'yellow'\n",
    "node_to_color[gene2 + ' '] = 'yellow'\n",
    "\n",
    "# define edge colors\n",
    "edge_to_color = {edge[0:2]:color[np.sign(edge[2]['sign'])] for edge in list(G.edges(data = True))}\n",
    "\n",
    "# define node size transform\n",
    "#node_to_size = dict(zip(nodes, [3]*len(nodes)))\n",
    "node_to_size = { n:3 if node_to_color[n] == 'grey' else 5 for n in nodes }\n",
    "\n",
    "# define node and edge attributes\n",
    "nodes_dict = [{\"id\":n,\n",
    "               \"color\": node_to_color[n],\n",
    "               \"size_field\": node_to_size[n],\n",
    "               \"x\":pos[n][0]*2200,\n",
    "               \"y\":pos[n][1]*2200} for n in nodes]\n",
    "\n",
    "node_map = dict(zip(nodes,range(len(nodes))))  # map to indices for source/target in edges\n",
    "\n",
    "edges_dict = [{\"source\":node_map[edges[i][0]], \n",
    "               \"target\":node_map[edges[i][1]], \n",
    "               \"color\":edge_to_color[edges[i]]} for i in range(len(edges))]\n",
    "\n",
    "# display results\n",
    "visJS2jupyter.visJS_module.visjs_network(nodes_dict,edges_dict,\n",
    "                                        edge_arrow_to = True,\n",
    "                                        node_size_multiplier = 6,\n",
    "                                        node_size_transform = '',\n",
    "                                        node_size_field = 'size_field',\n",
    "                                        node_font_size = 35,\n",
    "                                        node_font_color = 'black',\n",
    "                                        edge_color_opacity = 0.1,\n",
    "                                        edge_color_hover = 'orange',\n",
    "                                        edge_color_highlight = 'orange',\n",
    "                                        edge_hoverWidth = 5,\n",
    "                                        edge_selection_width = 5,\n",
    "                                        node_border_width_selected = 0,\n",
    "                                        graph_id = 2)"
   ]
  },
  {
   "cell_type": "code",
   "execution_count": null,
   "metadata": {
    "collapsed": true
   },
   "outputs": [],
   "source": []
  }
 ],
 "metadata": {
  "kernelspec": {
   "display_name": "Python 2",
   "language": "python",
   "name": "python2"
  },
  "language_info": {
   "codemirror_mode": {
    "name": "ipython",
    "version": 2
   },
   "file_extension": ".py",
   "mimetype": "text/x-python",
   "name": "python",
   "nbconvert_exporter": "python",
   "pygments_lexer": "ipython2",
   "version": "2.7.14"
  }
 },
 "nbformat": 4,
 "nbformat_minor": 2
}
