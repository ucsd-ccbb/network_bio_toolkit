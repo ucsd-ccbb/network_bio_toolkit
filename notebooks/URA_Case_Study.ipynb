{
 "cells": [
  {
   "cell_type": "code",
   "execution_count": 1,
   "metadata": {},
   "outputs": [
    {
     "data": {
      "text/plain": [
       "<module 'stat_analysis' from '../ura\\stat_analysis.pyc'>"
      ]
     },
     "execution_count": 1,
     "metadata": {},
     "output_type": "execute_result"
    }
   ],
   "source": [
    "import sys\n",
    "import time\n",
    "import networkx as nx\n",
    "import pandas as pd\n",
    "code_path = '../ura'\n",
    "sys.path.append(code_path)\n",
    "import create_graph\n",
    "import stat_analysis\n",
    "reload(create_graph)\n",
    "reload(stat_analysis)"
   ]
  },
  {
   "cell_type": "code",
   "execution_count": 2,
   "metadata": {},
   "outputs": [
    {
     "data": {
      "text/plain": [
       "3983"
      ]
     },
     "execution_count": 2,
     "metadata": {},
     "output_type": "execute_result"
    }
   ],
   "source": [
    "TF_list = create_graph.create_TF_list(slowkow_bool=True,\n",
    "                    slowkow_files=['../slowkow_databases/TRED_TF.txt',\n",
    "                                   '../slowkow_databases/ITFP_TF.txt',\n",
    "                                   '../slowkow_databases/ENCODE_TF.txt',\n",
    "                                   '../slowkow_databases/Neph2012_TF.txt',\n",
    "                                   '../slowkow_databases/TRRUST_TF.txt',\n",
    "                                   '../slowkow_databases/Marbach2016_TF.txt'],\n",
    "                    slowkow_sep = '\\n',\n",
    "                    jaspar_bool=True,\n",
    "                    jaspar_file=\"../jaspar_genereg_matrix.txt\")\n",
    "len(TF_list)"
   ]
  },
  {
   "cell_type": "code",
   "execution_count": 3,
   "metadata": {},
   "outputs": [
    {
     "name": "stdout",
     "output_type": "stream",
     "text": [
      "querying 1-1000...done.\n",
      "querying 1001-2000...done.\n",
      "querying 2001-3000...done.\n",
      "querying 3001-4000...done.\n",
      "querying 4001-5000...done.\n",
      "querying 5001-6000...done.\n",
      "querying 6001-7000...done.\n",
      "querying 7001-7374...done.\n",
      "Finished.\n",
      "56 input query terms found dup hits:\n",
      "\t[(u'ENSP00000359550', 3), (u'ENSP00000447879', 2), (u'ENSP00000364076', 2), (u'ENSP00000348986', 2),\n",
      "312 input query terms found no hit:\n",
      "\t[u'ENSP00000376684', u'ENSP00000289352', u'ENSP00000202788', u'ENSP00000373637', u'ENSP00000367802',\n",
      "Pass \"returnall=True\" to return complete lists of duplicate or missing query terms.\n"
     ]
    }
   ],
   "source": [
    "filename = \"../9606.protein.actions.v10.5.txt\"\n",
    "confidence_filter=400\n",
    "DG = create_graph.load_STRING_to_digraph(filename, confidence_filter, TF_list)"
   ]
  },
  {
   "cell_type": "markdown",
   "metadata": {},
   "source": [
    "## HUVEC ##"
   ]
  },
  {
   "cell_type": "code",
   "execution_count": 4,
   "metadata": {
    "collapsed": true
   },
   "outputs": [],
   "source": [
    "filename_huvec = '../geo2r_GSE2639_huvec.txt'\n",
    "huvec_genes = ['TNF','IFNG','LBP', 'NFKB1', 'NFKB2', 'REL', 'RELA', 'RELB', 'PCBP3', 'PCBP2', 'PCBP1', 'PCBP4', 'NFKBIA']\n",
    "DEG_list_huvec, DEG_to_pvalue_huvec, DEG_to_updown_huvec = create_graph.create_DEG_list(filename_huvec, p_value_filter = 0.3)\n",
    "DG_huvec = create_graph.add_updown_from_DEG(DG, DEG_to_updown_huvec)"
   ]
  },
  {
   "cell_type": "code",
   "execution_count": 6,
   "metadata": {},
   "outputs": [
    {
     "name": "stdout",
     "output_type": "stream",
     "text": [
      "time: 5.78566310819\n",
      "num regulators: 1354\n"
     ]
    }
   ],
   "source": [
    "start = time.clock()\n",
    "p_values_huvec = stat_analysis.tf_pvalues(DG_huvec, DG, DEG_list_huvec)\n",
    "end = time.clock()\n",
    "print 'time: ' + str(end - start)\n",
    "print 'num regulators: ' + str(len(p_values_huvec))"
   ]
  },
  {
   "cell_type": "code",
   "execution_count": 7,
   "metadata": {},
   "outputs": [
    {
     "name": "stdout",
     "output_type": "stream",
     "text": [
      "time: 5.46311943377\n",
      "bias: 0.138848467551\n"
     ]
    }
   ],
   "source": [
    "start = time.clock()\n",
    "z_scores_huvec = stat_analysis.tf_zscore(DG_huvec, DEG_list_huvec, bias_filter = 0.25)\n",
    "end = time.clock()\n",
    "print 'time: ' + str(end - start)\n",
    "print 'bias: ' + str(stat_analysis.calculate_bias(DG_huvec))"
   ]
  },
  {
   "cell_type": "code",
   "execution_count": 8,
   "metadata": {
    "scrolled": true
   },
   "outputs": [
    {
     "data": {
      "text/plain": [
       "CTF1        3.000000\n",
       "STAT4       2.645751\n",
       "STAT5A      2.529822\n",
       "FOS         2.236068\n",
       "HIF1A       2.236068\n",
       "IRF3        2.236068\n",
       "IRF9        2.236068\n",
       "GATA3       2.236068\n",
       "SPG7        2.236068\n",
       "STAT5B      2.121320\n",
       "XPO1        2.000000\n",
       "SHC1        2.000000\n",
       "GATA2       2.000000\n",
       "FGF9        2.000000\n",
       "CCNA2       2.000000\n",
       "SPI1        1.897367\n",
       "CTGF        1.889822\n",
       "SOS1        1.732051\n",
       "IRF1        1.732051\n",
       "CD74        1.732051\n",
       "PARP1       1.732051\n",
       "NFKB2       1.732051\n",
       "FOSL1       1.732051\n",
       "NR1I2       1.732051\n",
       "APAF1       1.732051\n",
       "ZEB1        1.732051\n",
       "ID2         1.732051\n",
       "RELA        1.732051\n",
       "FOXO1       1.632993\n",
       "SMAD9       1.632993\n",
       "SMAD5       1.632993\n",
       "FOXP3       1.632993\n",
       "BTRC        1.632993\n",
       "NFATC1      1.507557\n",
       "JUN         1.414214\n",
       "CLASP2      1.414214\n",
       "ITIH4       1.414214\n",
       "BUB3        1.414214\n",
       "CCNE2       1.414214\n",
       "AHCTF1      1.414214\n",
       "CLIP3       1.414214\n",
       "ETS2        1.414214\n",
       "PML         1.414214\n",
       "PAFAH1B1    1.414214\n",
       "CLASP1      1.414214\n",
       "HEY1        1.414214\n",
       "FOXM1       1.414214\n",
       "ELAVL1      1.414214\n",
       "KLF6        1.414214\n",
       "NUP37       1.414214\n",
       "dtype: float64"
      ]
     },
     "execution_count": 8,
     "metadata": {},
     "output_type": "execute_result"
    }
   ],
   "source": [
    "stat_analysis.top_values(z_scores_huvec, act = True, abs_value = False, top = 50)"
   ]
  },
  {
   "cell_type": "code",
   "execution_count": 9,
   "metadata": {},
   "outputs": [
    {
     "data": {
      "text/html": [
       "<div>\n",
       "<style>\n",
       "    .dataframe thead tr:only-child th {\n",
       "        text-align: right;\n",
       "    }\n",
       "\n",
       "    .dataframe thead th {\n",
       "        text-align: left;\n",
       "    }\n",
       "\n",
       "    .dataframe tbody tr th {\n",
       "        vertical-align: top;\n",
       "    }\n",
       "</style>\n",
       "<table border=\"1\" class=\"dataframe\">\n",
       "  <thead>\n",
       "    <tr style=\"text-align: right;\">\n",
       "      <th></th>\n",
       "      <th>rank</th>\n",
       "      <th>z-score</th>\n",
       "    </tr>\n",
       "  </thead>\n",
       "  <tbody>\n",
       "    <tr>\n",
       "      <th>NFKB2</th>\n",
       "      <td>10.0</td>\n",
       "      <td>1.732051</td>\n",
       "    </tr>\n",
       "    <tr>\n",
       "      <th>RELA</th>\n",
       "      <td>11.0</td>\n",
       "      <td>1.732051</td>\n",
       "    </tr>\n",
       "    <tr>\n",
       "      <th>NFKBIA</th>\n",
       "      <td>17.0</td>\n",
       "      <td>1.341641</td>\n",
       "    </tr>\n",
       "    <tr>\n",
       "      <th>REL</th>\n",
       "      <td>17.0</td>\n",
       "      <td>-1.341641</td>\n",
       "    </tr>\n",
       "    <tr>\n",
       "      <th>NFKB1</th>\n",
       "      <td>21.0</td>\n",
       "      <td>1.091089</td>\n",
       "    </tr>\n",
       "    <tr>\n",
       "      <th>PCBP1</th>\n",
       "      <td>32.0</td>\n",
       "      <td>0.000000</td>\n",
       "    </tr>\n",
       "    <tr>\n",
       "      <th>PCBP2</th>\n",
       "      <td>32.0</td>\n",
       "      <td>0.000000</td>\n",
       "    </tr>\n",
       "    <tr>\n",
       "      <th>PCBP4</th>\n",
       "      <td>32.0</td>\n",
       "      <td>0.000000</td>\n",
       "    </tr>\n",
       "    <tr>\n",
       "      <th>RELB</th>\n",
       "      <td>32.0</td>\n",
       "      <td>0.000000</td>\n",
       "    </tr>\n",
       "    <tr>\n",
       "      <th>IFNG</th>\n",
       "      <td>NaN</td>\n",
       "      <td>NaN</td>\n",
       "    </tr>\n",
       "    <tr>\n",
       "      <th>LBP</th>\n",
       "      <td>NaN</td>\n",
       "      <td>NaN</td>\n",
       "    </tr>\n",
       "    <tr>\n",
       "      <th>PCBP3</th>\n",
       "      <td>NaN</td>\n",
       "      <td>NaN</td>\n",
       "    </tr>\n",
       "    <tr>\n",
       "      <th>TNF</th>\n",
       "      <td>NaN</td>\n",
       "      <td>NaN</td>\n",
       "    </tr>\n",
       "  </tbody>\n",
       "</table>\n",
       "</div>"
      ],
      "text/plain": [
       "        rank   z-score\n",
       "NFKB2   10.0  1.732051\n",
       "RELA    11.0  1.732051\n",
       "NFKBIA  17.0  1.341641\n",
       "REL     17.0 -1.341641\n",
       "NFKB1   21.0  1.091089\n",
       "PCBP1   32.0  0.000000\n",
       "PCBP2   32.0  0.000000\n",
       "PCBP4   32.0  0.000000\n",
       "RELB    32.0  0.000000\n",
       "IFNG     NaN       NaN\n",
       "LBP      NaN       NaN\n",
       "PCBP3    NaN       NaN\n",
       "TNF      NaN       NaN"
      ]
     },
     "execution_count": 9,
     "metadata": {},
     "output_type": "execute_result"
    }
   ],
   "source": [
    "stat_analysis.rank_and_score_df(z_scores_huvec, huvec_genes, remove_dups=True)"
   ]
  },
  {
   "cell_type": "code",
   "execution_count": null,
   "metadata": {
    "collapsed": true
   },
   "outputs": [],
   "source": []
  },
  {
   "cell_type": "code",
   "execution_count": null,
   "metadata": {
    "collapsed": true
   },
   "outputs": [],
   "source": []
  },
  {
   "cell_type": "markdown",
   "metadata": {},
   "source": [
    "## Breast Cancer ###"
   ]
  },
  {
   "cell_type": "code",
   "execution_count": 10,
   "metadata": {
    "collapsed": true
   },
   "outputs": [],
   "source": [
    "filename_brca = '../geo2r_GSE11352_brca_48hours.txt'\n",
    "brca_genes = ['ESR1', 'FSH', 'MEK', 'BRD4', 'MYC', 'MARK1', 'IL1B','NCOA3','PGR', \n",
    "              'EGR1', 'HIF1A', 'NR3C1','CTNNB1','TP53','SMARCE1','STAT5B']\n",
    "DEG_list_brca, DEG_to_pvalue_brca, DEG_to_updown_brca = create_graph.create_DEG_list(filename_brca, p_value_filter = 0.05)\n",
    "DG_brca = create_graph.add_updown_from_DEG(DG, DEG_to_updown_brca)"
   ]
  },
  {
   "cell_type": "code",
   "execution_count": 11,
   "metadata": {},
   "outputs": [
    {
     "name": "stdout",
     "output_type": "stream",
     "text": [
      "time: 5.46787772865\n",
      "num regulators: 1354\n"
     ]
    }
   ],
   "source": [
    "start = time.clock()\n",
    "p_values_brca = stat_analysis.tf_pvalues(DG_brca, DG, DEG_list_brca)\n",
    "end = time.clock()\n",
    "print 'time: ' + str(end - start)\n",
    "print 'num regulators: ' + str(len(p_values_brca))"
   ]
  },
  {
   "cell_type": "code",
   "execution_count": 12,
   "metadata": {},
   "outputs": [
    {
     "name": "stdout",
     "output_type": "stream",
     "text": [
      "time: 5.19755856181\n",
      "bias: -0.0241865072509\n"
     ]
    }
   ],
   "source": [
    "start = time.clock()\n",
    "z_scores_brca = stat_analysis.tf_zscore(DG_brca, DEG_list_brca, bias_filter = 0.25)\n",
    "end = time.clock()\n",
    "print 'time: ' + str(end - start)\n",
    "print 'bias: ' + str(stat_analysis.calculate_bias(DG_brca))"
   ]
  },
  {
   "cell_type": "code",
   "execution_count": 13,
   "metadata": {
    "scrolled": true
   },
   "outputs": [
    {
     "data": {
      "text/plain": [
       "TP53      -1.889822\n",
       "FOXO3     -1.414214\n",
       "EGR2      -1.414214\n",
       "NR1H3     -1.414214\n",
       "FOXO4     -1.414214\n",
       "AKT1      -1.414214\n",
       "EP300     -1.000000\n",
       "RELB      -1.000000\n",
       "PSMD10    -1.000000\n",
       "DNMT1     -1.000000\n",
       "MEN1      -1.000000\n",
       "HES1      -1.000000\n",
       "SMAD9     -1.000000\n",
       "PARP1     -1.000000\n",
       "SHC1      -1.000000\n",
       "TCF7L2    -1.000000\n",
       "SOX10     -1.000000\n",
       "CEBPB     -1.000000\n",
       "NEUROG2   -1.000000\n",
       "NFIL3     -1.000000\n",
       "AKT2      -1.000000\n",
       "COPS5     -1.000000\n",
       "FOXF1     -1.000000\n",
       "SIRT1     -1.000000\n",
       "HDAC1     -1.000000\n",
       "PTTG1     -1.000000\n",
       "HOXA13    -1.000000\n",
       "RXRG      -1.000000\n",
       "JUND      -1.000000\n",
       "SMAD5     -1.000000\n",
       "NR1H2     -1.000000\n",
       "KLF4      -1.000000\n",
       "SPI1      -1.000000\n",
       "FOXP3     -1.000000\n",
       "SMAD1     -1.000000\n",
       "NFE2L2    -1.000000\n",
       "TWIST1    -1.000000\n",
       "RFX1      -1.000000\n",
       "AR        -1.000000\n",
       "TGFB1     -0.816497\n",
       "dtype: float64"
      ]
     },
     "execution_count": 13,
     "metadata": {},
     "output_type": "execute_result"
    }
   ],
   "source": [
    "stat_analysis.top_values(z_scores_brca, act = False, abs_value = False, top = 40)"
   ]
  },
  {
   "cell_type": "code",
   "execution_count": 14,
   "metadata": {},
   "outputs": [
    {
     "data": {
      "text/html": [
       "<div>\n",
       "<style>\n",
       "    .dataframe thead tr:only-child th {\n",
       "        text-align: right;\n",
       "    }\n",
       "\n",
       "    .dataframe thead th {\n",
       "        text-align: left;\n",
       "    }\n",
       "\n",
       "    .dataframe tbody tr th {\n",
       "        vertical-align: top;\n",
       "    }\n",
       "</style>\n",
       "<table border=\"1\" class=\"dataframe\">\n",
       "  <thead>\n",
       "    <tr style=\"text-align: right;\">\n",
       "      <th></th>\n",
       "      <th>rank</th>\n",
       "      <th>z-score</th>\n",
       "    </tr>\n",
       "  </thead>\n",
       "  <tbody>\n",
       "    <tr>\n",
       "      <th>TP53</th>\n",
       "      <td>0.0</td>\n",
       "      <td>-1.889822</td>\n",
       "    </tr>\n",
       "    <tr>\n",
       "      <th>MYC</th>\n",
       "      <td>2.0</td>\n",
       "      <td>1.666667</td>\n",
       "    </tr>\n",
       "    <tr>\n",
       "      <th>ESR1</th>\n",
       "      <td>3.0</td>\n",
       "      <td>1.414214</td>\n",
       "    </tr>\n",
       "    <tr>\n",
       "      <th>STAT5B</th>\n",
       "      <td>4.0</td>\n",
       "      <td>1.341641</td>\n",
       "    </tr>\n",
       "    <tr>\n",
       "      <th>NR3C1</th>\n",
       "      <td>5.0</td>\n",
       "      <td>1.000000</td>\n",
       "    </tr>\n",
       "    <tr>\n",
       "      <th>HIF1A</th>\n",
       "      <td>7.0</td>\n",
       "      <td>-0.577350</td>\n",
       "    </tr>\n",
       "    <tr>\n",
       "      <th>CTNNB1</th>\n",
       "      <td>8.0</td>\n",
       "      <td>0.447214</td>\n",
       "    </tr>\n",
       "    <tr>\n",
       "      <th>EGR1</th>\n",
       "      <td>8.0</td>\n",
       "      <td>-0.447214</td>\n",
       "    </tr>\n",
       "    <tr>\n",
       "      <th>BRD4</th>\n",
       "      <td>9.0</td>\n",
       "      <td>0.000000</td>\n",
       "    </tr>\n",
       "    <tr>\n",
       "      <th>NCOA3</th>\n",
       "      <td>9.0</td>\n",
       "      <td>0.000000</td>\n",
       "    </tr>\n",
       "    <tr>\n",
       "      <th>PGR</th>\n",
       "      <td>9.0</td>\n",
       "      <td>0.000000</td>\n",
       "    </tr>\n",
       "    <tr>\n",
       "      <th>SMARCE1</th>\n",
       "      <td>9.0</td>\n",
       "      <td>0.000000</td>\n",
       "    </tr>\n",
       "    <tr>\n",
       "      <th>FSH</th>\n",
       "      <td>NaN</td>\n",
       "      <td>NaN</td>\n",
       "    </tr>\n",
       "    <tr>\n",
       "      <th>IL1B</th>\n",
       "      <td>NaN</td>\n",
       "      <td>NaN</td>\n",
       "    </tr>\n",
       "    <tr>\n",
       "      <th>MARK1</th>\n",
       "      <td>NaN</td>\n",
       "      <td>NaN</td>\n",
       "    </tr>\n",
       "    <tr>\n",
       "      <th>MEK</th>\n",
       "      <td>NaN</td>\n",
       "      <td>NaN</td>\n",
       "    </tr>\n",
       "  </tbody>\n",
       "</table>\n",
       "</div>"
      ],
      "text/plain": [
       "         rank   z-score\n",
       "TP53      0.0 -1.889822\n",
       "MYC       2.0  1.666667\n",
       "ESR1      3.0  1.414214\n",
       "STAT5B    4.0  1.341641\n",
       "NR3C1     5.0  1.000000\n",
       "HIF1A     7.0 -0.577350\n",
       "CTNNB1    8.0  0.447214\n",
       "EGR1      8.0 -0.447214\n",
       "BRD4      9.0  0.000000\n",
       "NCOA3     9.0  0.000000\n",
       "PGR       9.0  0.000000\n",
       "SMARCE1   9.0  0.000000\n",
       "FSH       NaN       NaN\n",
       "IL1B      NaN       NaN\n",
       "MARK1     NaN       NaN\n",
       "MEK       NaN       NaN"
      ]
     },
     "execution_count": 14,
     "metadata": {},
     "output_type": "execute_result"
    }
   ],
   "source": [
    "stat_analysis.rank_and_score_df(z_scores_brca, brca_genes, act = True, abs_value = True, remove_dups=True)"
   ]
  },
  {
   "cell_type": "code",
   "execution_count": null,
   "metadata": {
    "collapsed": true
   },
   "outputs": [],
   "source": []
  },
  {
   "cell_type": "code",
   "execution_count": null,
   "metadata": {
    "collapsed": true
   },
   "outputs": [],
   "source": []
  }
 ],
 "metadata": {
  "kernelspec": {
   "display_name": "Python 2",
   "language": "python",
   "name": "python2"
  },
  "language_info": {
   "codemirror_mode": {
    "name": "ipython",
    "version": 2
   },
   "file_extension": ".py",
   "mimetype": "text/x-python",
   "name": "python",
   "nbconvert_exporter": "python",
   "pygments_lexer": "ipython2",
   "version": "2.7.14"
  }
 },
 "nbformat": 4,
 "nbformat_minor": 2
}
