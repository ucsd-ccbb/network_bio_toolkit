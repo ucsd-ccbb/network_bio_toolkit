{
 "cells": [
  {
   "cell_type": "markdown",
   "metadata": {},
   "source": [
    "# Upstream Regulator Analysis Package\n",
    "## Randomization Testing\n",
    "### Wrapper Class \"Upstream\" in Use\n",
    "\n",
    "----------------------\n",
    "\n",
    "Author: Mikayla Webster (m1webste@ucsd.edu)\n",
    "\n",
    "Date: 1st March, 2018\n",
    "\n",
    "----------------------\n",
    "\n",
    "<a id='toc'></a>\n",
    "## Table of Contents\n",
    "1. [Background](#background)\n",
    "2. [Import packages](#import)\n",
    "3. [Load Networks](#load)\n",
    "6. [P-value and Z-score Calculation](#pz)\n",
    "8. [Display Our results](#display)"
   ]
  },
  {
   "cell_type": "markdown",
   "metadata": {},
   "source": [
    "## Background\n",
    "<a id='background'></a>"
   ]
  },
  {
   "cell_type": "markdown",
   "metadata": {},
   "source": [
    "## Import packages\n",
    "<a id='import'></a>"
   ]
  },
  {
   "cell_type": "code",
   "execution_count": 1,
   "metadata": {},
   "outputs": [
    {
     "data": {
      "text/plain": [
       "<module 'Upstream' from '../../ura\\Upstream.pyc'>"
      ]
     },
     "execution_count": 1,
     "metadata": {},
     "output_type": "execute_result"
    }
   ],
   "source": [
    "import pandas as pd\n",
    "from random import shuffle\n",
    "import networkx as nx\n",
    "import seaborn as sns\n",
    "import matplotlib.pyplot as plt\n",
    "\n",
    "# import upstream regulator module\n",
    "import sys\n",
    "code_path = '../../ura'\n",
    "sys.path.append(code_path)\n",
    "import Upstream\n",
    "reload(Upstream)"
   ]
  },
  {
   "cell_type": "code",
   "execution_count": 2,
   "metadata": {
    "collapsed": true
   },
   "outputs": [],
   "source": [
    "%matplotlib inline"
   ]
  },
  {
   "cell_type": "markdown",
   "metadata": {},
   "source": [
    "## Randomization Support Functions"
   ]
  },
  {
   "cell_type": "code",
   "execution_count": 3,
   "metadata": {
    "collapsed": true
   },
   "outputs": [],
   "source": [
    "def shuffleACopy(x):\n",
    "    b = x[:] # make a copy of the keys\n",
    "    shuffle(b) # shuffle the copy\n",
    "    return b\n",
    "\n",
    "\n",
    "def returnShuffle(its, to_shuffle):\n",
    "    a = [shuffleACopy(to_shuffle) for x in range(its)]\n",
    "    return a[its-1]\n",
    "\n",
    "\n",
    "# modifying our usual function to support shuffled genes\n",
    "def create_DEG_list(filename,\n",
    "                    G,  # specify in order to add up-down info to graph\n",
    "                    its = 1,\n",
    "                    p_value_filter=0.05,\n",
    "                    p_value_or_adj='adj',  # filtering by p-value ('p') or adjusted p-value ('adj')\n",
    "                    fold_change_filter=None,  # specify a number to filter by absolute (log) fold change\n",
    "                    gene_type='symbol',  # 'symbol' or 'entrez'\n",
    "                    gene_column_header='gene_symbol',\n",
    "                    p_value_column_header='adj_p_value',\n",
    "                    fold_change_column_header='fold_change',\n",
    "                    ):\n",
    "\n",
    "    df = pd.DataFrame.from_csv(filename, sep='\\t')\n",
    "    \n",
    "    # shuffle just the genes in this DEG file\n",
    "    genes_to_shuffle = list(df['gene_symbol'])\n",
    "    shuffled_genes = returnShuffle(its, genes_to_shuffle)\n",
    "    shuffle_mapping = dict(zip(df['gene_symbol'], shuffled_genes))\n",
    "    df['gene_symbol'] = shuffled_genes\n",
    "\n",
    "    # remove duplicate lines for same gene symbol, just use first occurance\n",
    "    df.drop_duplicates(subset=[gene_column_header], keep='first', inplace=True)\n",
    "    \n",
    "    # map from gene to p-value and fold change\n",
    "    DEG_full_list = list(df[gene_column_header])\n",
    "    DEG_to_pvalue = dict(zip(shuffled_genes, list(df[p_value_column_header])))\n",
    "    DEG_to_updown = dict(zip(shuffled_genes, list(df[fold_change_column_header])))\n",
    "    \n",
    "    # create a graph based on the full DEG file\n",
    "    DEG_full_graph = nx.DiGraph()\n",
    "    DEG_full_graph.add_nodes_from(DEG_full_list)  \n",
    "    nx.set_node_attributes(DEG_full_graph, values = DEG_to_pvalue, name = 'adj_p_value')\n",
    "    \n",
    "    nx.set_node_attributes(DEG_full_graph, values = DEG_to_updown, name = 'updown')\n",
    "    \n",
    "    # filter by p-value cut-off\n",
    "    df = df.loc[df[p_value_column_header] < p_value_filter]\n",
    "\n",
    "    # filter by (log) fold change cut off if applicable\n",
    "    if fold_change_filter != None:\n",
    "        df = df.loc[abs(df[fold_change_column_header]) > fold_change_filter]\n",
    "        \n",
    "    # save just significant values\n",
    "    DEG_list = list(df[gene_column_header])\n",
    "        \n",
    "    # add up-down info to DG_TF\n",
    "    small_updown_dict = {n:DEG_to_updown[n] if n in DEG_to_updown else 0 for n in G.nodes()}\n",
    "    nx.set_node_attributes(G, values = small_updown_dict, name = 'updown')\n",
    "\n",
    "    return DEG_list, DEG_to_pvalue, DEG_to_updown, DEG_full_graph, G\n",
    "\n",
    "\n",
    "def create_mega_list(ura, filename, iters, p_value_filter):\n",
    "    \n",
    "    # init mega list\n",
    "    ura.DEG_list, ura.DEG_to_pvalue, ura.DEG_to_updown, ura.DEG_full_graph, DG_TF = create_DEG_list(filename, \n",
    "                                                                                                ura.DG_TF, \n",
    "                                                                                                p_value_filter=p_value_filter)\n",
    "    z_scores_mega_list = pd.DataFrame(index=ura.z_scores.index)\n",
    "    ura.tf_zscore(bias_filter=0.25)\n",
    "    z_scores_mega_list[str(0)] = pd.Series(ura.z_scores)\n",
    "    \n",
    "    # generate random z-score shuffles\n",
    "    for i in range(iters):\n",
    "        ura.DEG_list, ura.DEG_to_pvalue, ura.DEG_to_updown, ura.DEG_full_graph, DG_TF = create_DEG_list(filename, \n",
    "                                                                                                ura.DG_TF, \n",
    "                                                                                                p_value_filter=p_value_filter)\n",
    "        ura.tf_zscore(bias_filter=0.25)\n",
    "        z_scores_mega_list[str(i+1)] = pd.Series(ura.z_scores)\n",
    "    \n",
    "    return z_scores_mega_list\n",
    "    "
   ]
  },
  {
   "cell_type": "markdown",
   "metadata": {},
   "source": [
    "## Arthritis"
   ]
  },
  {
   "cell_type": "code",
   "execution_count": 4,
   "metadata": {
    "collapsed": true
   },
   "outputs": [],
   "source": [
    "# User preferences\n",
    "symbol = 'symbol'\n",
    "entrez = 'entrez'\n",
    "\n",
    "human = 'human'\n",
    "mouse = 'mouse'\n",
    "\n",
    "ura = Upstream.Upstream(gene_type = symbol, species = human)"
   ]
  },
  {
   "cell_type": "markdown",
   "metadata": {},
   "source": [
    "### Calculate z-scores normally\n",
    "\n",
    "First, let's look at which transcription factors are most significant according to our URA package."
   ]
  },
  {
   "cell_type": "code",
   "execution_count": 5,
   "metadata": {},
   "outputs": [
    {
     "name": "stdout",
     "output_type": "stream",
     "text": [
      "querying 1-1000...done.\n",
      "querying 1001-2000...done.\n",
      "querying 2001-3000...done.\n",
      "querying 3001-4000...done.\n",
      "querying 4001-5000...done.\n",
      "querying 5001-6000...done.\n",
      "querying 6001-7000...done.\n",
      "querying 7001-7374...done.\n",
      "Finished.\n",
      "56 input query terms found dup hits:\n",
      "\t[(u'ENSP00000359550', 3), (u'ENSP00000447879', 2), (u'ENSP00000364076', 2), (u'ENSP00000348986', 2),\n",
      "312 input query terms found no hit:\n",
      "\t[u'ENSP00000376684', u'ENSP00000289352', u'ENSP00000202788', u'ENSP00000373637', u'ENSP00000367802',\n",
      "Pass \"returnall=True\" to return complete lists of duplicate or missing query terms.\n"
     ]
    }
   ],
   "source": [
    "# transcription factors\n",
    "ura.easy_load_TF_list(slowkow_bool=True, jaspar_bool=True)\n",
    "\n",
    "# background network\n",
    "filename = \"../../background_networks/9606.protein.actions.v10.5.txt\"\n",
    "confidence_filter = 400\n",
    "ura.load_STRING_to_digraph(filename, confidence_filter);\n",
    "\n",
    "# DEG list\n",
    "DEG_filename = \"../../DEG_databases/DE_Coeff_OAvsNormal_OAvsNormal_20171215.csv\" \n",
    "ura.create_DEG_list(DEG_filename, p_value_filter = 0.05, fold_change_filter = 1)"
   ]
  },
  {
   "cell_type": "code",
   "execution_count": 6,
   "metadata": {},
   "outputs": [
    {
     "data": {
      "text/html": [
       "<div>\n",
       "<style>\n",
       "    .dataframe thead tr:only-child th {\n",
       "        text-align: right;\n",
       "    }\n",
       "\n",
       "    .dataframe thead th {\n",
       "        text-align: left;\n",
       "    }\n",
       "\n",
       "    .dataframe tbody tr th {\n",
       "        vertical-align: top;\n",
       "    }\n",
       "</style>\n",
       "<table border=\"1\" class=\"dataframe\">\n",
       "  <thead>\n",
       "    <tr style=\"text-align: right;\">\n",
       "      <th></th>\n",
       "      <th>z-score</th>\n",
       "      <th>(adj) p-value</th>\n",
       "      <th>(log) fold change</th>\n",
       "    </tr>\n",
       "  </thead>\n",
       "  <tbody>\n",
       "    <tr>\n",
       "      <th>STAT1</th>\n",
       "      <td>2.840188</td>\n",
       "      <td>0.826469</td>\n",
       "      <td>0.063822</td>\n",
       "    </tr>\n",
       "    <tr>\n",
       "      <th>CENPA</th>\n",
       "      <td>2.672612</td>\n",
       "      <td>NaN</td>\n",
       "      <td>NaN</td>\n",
       "    </tr>\n",
       "    <tr>\n",
       "      <th>FOXO3</th>\n",
       "      <td>-2.710687</td>\n",
       "      <td>0.000292</td>\n",
       "      <td>-1.125810</td>\n",
       "    </tr>\n",
       "    <tr>\n",
       "      <th>GLI2</th>\n",
       "      <td>-2.828427</td>\n",
       "      <td>0.172742</td>\n",
       "      <td>-0.554695</td>\n",
       "    </tr>\n",
       "    <tr>\n",
       "      <th>RBL2</th>\n",
       "      <td>-3.162278</td>\n",
       "      <td>0.129498</td>\n",
       "      <td>-0.830733</td>\n",
       "    </tr>\n",
       "  </tbody>\n",
       "</table>\n",
       "</div>"
      ],
      "text/plain": [
       "        z-score  (adj) p-value  (log) fold change\n",
       "STAT1  2.840188       0.826469           0.063822\n",
       "CENPA  2.672612            NaN                NaN\n",
       "FOXO3 -2.710687       0.000292          -1.125810\n",
       "GLI2  -2.828427       0.172742          -0.554695\n",
       "RBL2  -3.162278       0.129498          -0.830733"
      ]
     },
     "metadata": {},
     "output_type": "display_data"
    }
   ],
   "source": [
    "ura.tf_zscore(bias_filter=0.25)\n",
    "top_values = ura.top_values(act=True, abs_value=True, top=5)\n",
    "display(top_values)"
   ]
  },
  {
   "cell_type": "markdown",
   "metadata": {},
   "source": [
    "### Calculate randomized z-scores\n",
    "\n",
    "Now let's see how significant these same TF's are in a randomized graph.\n",
    "\n",
    "Takes about 45 seconds per iteration, so you may need to be patient!"
   ]
  },
  {
   "cell_type": "code",
   "execution_count": 7,
   "metadata": {
    "collapsed": true
   },
   "outputs": [],
   "source": [
    "filename = \"../../DEG_databases/DE_Coeff_OAvsNormal_OAvsNormal_20171215.csv\" \n",
    "iters = 1000\n",
    "p_value_filter = 0.05\n",
    "\n",
    "mega_list = create_mega_list(ura, filename, iters, p_value_filter)"
   ]
  },
  {
   "cell_type": "code",
   "execution_count": 8,
   "metadata": {},
   "outputs": [],
   "source": [
    "# z-scores for each iteration, using a different shuffled DEG list each time\n",
    "#mega_list.loc[top_values.index]"
   ]
  },
  {
   "cell_type": "code",
   "execution_count": 9,
   "metadata": {
    "scrolled": false
   },
   "outputs": [
    {
     "data": {
      "image/png": "[encoded data removed]",
      "text/plain": [
       "<matplotlib.figure.Figure at 0xf04e2b0>"
      ]
     },
     "metadata": {},
     "output_type": "display_data"
    },
    {
     "data": {
      "image/png": "[encoded data removed]",
      "text/plain": [
       "<matplotlib.figure.Figure at 0x1c7136a0>"
      ]
     },
     "metadata": {},
     "output_type": "display_data"
    },
    {
     "data": {
      "image/png": "[encoded data removed]",
      "text/plain": [
       "<matplotlib.figure.Figure at 0x19b879b0>"
      ]
     },
     "metadata": {},
     "output_type": "display_data"
    },
    {
     "data": {
      "image/png": "[encoded data removed]",
      "text/plain": [
       "<matplotlib.figure.Figure at 0x199934e0>"
      ]
     },
     "metadata": {},
     "output_type": "display_data"
    },
    {
     "data": {
      "image/png": "[encoded data removed]",
      "text/plain": [
       "<matplotlib.figure.Figure at 0x19ca9f98>"
      ]
     },
     "metadata": {},
     "output_type": "display_data"
    }
   ],
   "source": [
    "for i in range(len(top_values)):\n",
    "    TF = mega_list.loc[top_values.index].index[i]\n",
    "    TF_normal_z = top_values[\"z-score\"][TF]\n",
    "    plt.figure(figsize=(10, 5))\n",
    "    plt.xlim((-10,10)) # adjust the max leaving min unchanged\n",
    "    ax = sns.distplot(list(mega_list.loc[top_values.index[i]]), kde=True)\n",
    "    plt.scatter([TF_normal_z], [0], marker='^', s=200, c='r')\n",
    "    ax.annotate(TF, xy=(TF_normal_z, 0.025),\n",
    "                        rotation=90,\n",
    "                        horizontalalignment='center',\n",
    "                        verticalalignment='bottom',\n",
    "                        fontsize=14)"
   ]
  },
  {
   "cell_type": "code",
   "execution_count": null,
   "metadata": {
    "collapsed": true
   },
   "outputs": [],
   "source": []
  },
  {
   "cell_type": "code",
   "execution_count": null,
   "metadata": {
    "collapsed": true
   },
   "outputs": [],
   "source": []
  },
  {
   "cell_type": "markdown",
   "metadata": {},
   "source": [
    "## Breast Cancer"
   ]
  },
  {
   "cell_type": "code",
   "execution_count": 10,
   "metadata": {},
   "outputs": [],
   "source": [
    "# User preferences\n",
    "symbol = 'symbol'\n",
    "entrez = 'entrez'\n",
    "\n",
    "human = 'human'\n",
    "mouse = 'mouse'\n",
    "\n",
    "urb = Upstream.Upstream(gene_type = symbol, species = human)"
   ]
  },
  {
   "cell_type": "code",
   "execution_count": 11,
   "metadata": {},
   "outputs": [
    {
     "name": "stdout",
     "output_type": "stream",
     "text": [
      "querying 1-1000...done.\n",
      "querying 1001-2000...done.\n",
      "querying 2001-3000...done.\n",
      "querying 3001-4000...done.\n",
      "querying 4001-5000...done.\n",
      "querying 5001-6000...done.\n",
      "querying 6001-7000...done.\n",
      "querying 7001-7374...done.\n",
      "Finished.\n",
      "56 input query terms found dup hits:\n",
      "\t[(u'ENSP00000359550', 3), (u'ENSP00000447879', 2), (u'ENSP00000364076', 2), (u'ENSP00000348986', 2),\n",
      "312 input query terms found no hit:\n",
      "\t[u'ENSP00000376684', u'ENSP00000289352', u'ENSP00000202788', u'ENSP00000373637', u'ENSP00000367802',\n",
      "Pass \"returnall=True\" to return complete lists of duplicate or missing query terms.\n"
     ]
    }
   ],
   "source": [
    "# transcription factors\n",
    "urb.easy_load_TF_list(slowkow_bool=True, jaspar_bool=True)\n",
    "TF_list = urb.get('TF_list')\n",
    "TF_list = TF_list + ['TNF', 'IFNG', 'LBP'] # known regulators of interest missing from our TF databases\n",
    "urb.set('TF_list', TF_list)\n",
    "\n",
    "# background network\n",
    "filename = \"../../background_networks/9606.protein.actions.v10.5.txt\"\n",
    "confidence_filter = 400\n",
    "urb.load_STRING_to_digraph(filename, confidence_filter);"
   ]
  },
  {
   "cell_type": "code",
   "execution_count": 12,
   "metadata": {},
   "outputs": [],
   "source": [
    "# add DEG information to STRING background network\n",
    "filename_brca = '../../DEG_databases/geo2r_GSE11352_brca_48hours.txt'\n",
    "urb.create_DEG_list(filename_brca, p_value_filter = 0.05)"
   ]
  },
  {
   "cell_type": "code",
   "execution_count": null,
   "metadata": {},
   "outputs": [
    {
     "data": {
      "text/html": [
       "<div>\n",
       "<style>\n",
       "    .dataframe thead tr:only-child th {\n",
       "        text-align: right;\n",
       "    }\n",
       "\n",
       "    .dataframe thead th {\n",
       "        text-align: left;\n",
       "    }\n",
       "\n",
       "    .dataframe tbody tr th {\n",
       "        vertical-align: top;\n",
       "    }\n",
       "</style>\n",
       "<table border=\"1\" class=\"dataframe\">\n",
       "  <thead>\n",
       "    <tr style=\"text-align: right;\">\n",
       "      <th></th>\n",
       "      <th>z-score</th>\n",
       "      <th>(adj) p-value</th>\n",
       "      <th>(log) fold change</th>\n",
       "    </tr>\n",
       "  </thead>\n",
       "  <tbody>\n",
       "    <tr>\n",
       "      <th>STAT1</th>\n",
       "      <td>1.732051</td>\n",
       "      <td>0.6421</td>\n",
       "      <td>0.136488</td>\n",
       "    </tr>\n",
       "    <tr>\n",
       "      <th>MYCN</th>\n",
       "      <td>1.732051</td>\n",
       "      <td>0.0545</td>\n",
       "      <td>-3.033888</td>\n",
       "    </tr>\n",
       "    <tr>\n",
       "      <th>STAT3</th>\n",
       "      <td>1.732051</td>\n",
       "      <td>0.3654</td>\n",
       "      <td>-0.324608</td>\n",
       "    </tr>\n",
       "    <tr>\n",
       "      <th>MYC</th>\n",
       "      <td>1.666667</td>\n",
       "      <td>0.1006</td>\n",
       "      <td>0.807643</td>\n",
       "    </tr>\n",
       "    <tr>\n",
       "      <th>TP53</th>\n",
       "      <td>-1.889822</td>\n",
       "      <td>0.6567</td>\n",
       "      <td>0.131119</td>\n",
       "    </tr>\n",
       "  </tbody>\n",
       "</table>\n",
       "</div>"
      ],
      "text/plain": [
       "        z-score  (adj) p-value  (log) fold change\n",
       "STAT1  1.732051         0.6421           0.136488\n",
       "MYCN   1.732051         0.0545          -3.033888\n",
       "STAT3  1.732051         0.3654          -0.324608\n",
       "MYC    1.666667         0.1006           0.807643\n",
       "TP53  -1.889822         0.6567           0.131119"
      ]
     },
     "execution_count": 13,
     "metadata": {},
     "output_type": "execute_result"
    }
   ],
   "source": [
    "urb.tf_zscore(bias_filter=0.25)\n",
    "top_values = urb.top_values(act=True, abs_value=True, top=5)\n",
    "top_values"
   ]
  },
  {
   "cell_type": "code",
   "execution_count": null,
   "metadata": {},
   "outputs": [],
   "source": [
    "iters = 1000\n",
    "p_value_filter = 0.05\n",
    "\n",
    "mega_list = create_mega_list(urb, filename_brca, iters, p_value_filter)"
   ]
  },
  {
   "cell_type": "code",
   "execution_count": null,
   "metadata": {},
   "outputs": [],
   "source": [
    "# z-scores for each iteration, using a different shuffled DEG list each time\n",
    "#mega_list.loc[top_values.index]"
   ]
  },
  {
   "cell_type": "code",
   "execution_count": null,
   "metadata": {},
   "outputs": [],
   "source": [
    "for i in range(len(top_values)):\n",
    "    TF = mega_list.loc[top_values.index].index[i]\n",
    "    TF_normal_z = top_values[\"z-score\"][TF]\n",
    "    plt.figure(figsize=(10, 5))\n",
    "    plt.xlim((-10,10)) # adjust the max leaving min unchanged\n",
    "    ax = sns.distplot(list(mega_list.loc[top_values.index[i]]), kde=True)\n",
    "    plt.scatter([TF_normal_z], [0], marker='^', s=200, c='r')\n",
    "    ax.annotate(TF, xy=(TF_normal_z, 0.025),\n",
    "                        rotation=90,\n",
    "                        horizontalalignment='center',\n",
    "                        verticalalignment='bottom',\n",
    "                        fontsize=14)"
   ]
  },
  {
   "cell_type": "code",
   "execution_count": null,
   "metadata": {
    "collapsed": true
   },
   "outputs": [],
   "source": []
  }
 ],
 "metadata": {
  "kernelspec": {
   "display_name": "Python 2",
   "language": "python",
   "name": "python2"
  },
  "language_info": {
   "codemirror_mode": {
    "name": "ipython",
    "version": 2
   },
   "file_extension": ".py",
   "mimetype": "text/x-python",
   "name": "python",
   "nbconvert_exporter": "python",
   "pygments_lexer": "ipython2",
   "version": "2.7.14"
  }
 },
 "nbformat": 4,
 "nbformat_minor": 2
}
