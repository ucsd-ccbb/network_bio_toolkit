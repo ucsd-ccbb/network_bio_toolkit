{
 "cells": [
  {
   "cell_type": "markdown",
   "metadata": {},
   "source": [
    "# Upstream Regulator Analysis Package\n",
    "## Arthritis Case Study\n",
    "### Wrapper Class \"Upstream\" in Use\n",
    "\n",
    "----------------------\n",
    "\n",
    "Author: Mikayla Webster (m1webste@ucsd.edu)\n",
    "\n",
    "Date: 9th February, 2018\n",
    "\n",
    "----------------------\n",
    "\n",
    "<a id='toc'></a>\n",
    "## Table of Contents\n",
    "1. [Background](#background)\n",
    "2. [Import packages](#import)\n",
    "3. [Load Networks](#load)\n",
    "6. [P-value and Z-score Calculation](#pz)\n",
    "7. [Compare the Ingenuity Article's results to Ours](#comp)\n",
    "8. [Display Our results](#display)"
   ]
  },
  {
   "cell_type": "markdown",
   "metadata": {},
   "source": [
    "## Background\n",
    "<a id='background'></a>\n",
    "\n",
    "The inspiration for these modules comes from Ingenuity System's [Ingenuity Upstream Regulator Analysis in IPA®](http://pages.ingenuity.com/rs/ingenuity/images/0812%20upstream_regulator_analysis_whitepaper.pdf).\n",
    "\n",
    "This notebook demonstrates how to use our ura package WITH the use of our \"wrapper class\" Upstream. This notebook creates an instance of class Upstream, and uses this instance to call all of our module's functions. This requires less module imports and simplifies work flow. This notebook emphasizes the flow of function calls, namely what order you should call functions in order for the workflow to process correctly. If you need further help on how to use a function or what that function's purpose is, see the comments associated with that function in the source code (create_graph.py or stat_analysis.py)."
   ]
  },
  {
   "cell_type": "markdown",
   "metadata": {},
   "source": [
    "## Import packages\n",
    "<a id='import'></a>"
   ]
  },
  {
   "cell_type": "code",
   "execution_count": 29,
   "metadata": {},
   "outputs": [
    {
     "data": {
      "text/plain": [
       "<module 'stat_analysis' from '../../ura\\stat_analysis.pyc'>"
      ]
     },
     "execution_count": 29,
     "metadata": {},
     "output_type": "execute_result"
    }
   ],
   "source": [
    "# import upstream regulator module\n",
    "import sys\n",
    "code_path = '../../ura'\n",
    "sys.path.append(code_path)\n",
    "import Upstream\n",
    "import stat_analysis\n",
    "reload(Upstream)\n",
    "reload(stat_analysis)"
   ]
  },
  {
   "cell_type": "code",
   "execution_count": 3,
   "metadata": {
    "collapsed": true
   },
   "outputs": [],
   "source": [
    "%matplotlib inline"
   ]
  },
  {
   "cell_type": "code",
   "execution_count": 4,
   "metadata": {
    "collapsed": true
   },
   "outputs": [],
   "source": [
    "# User preferences\n",
    "symbol = 'symbol'\n",
    "entrez = 'entrez'\n",
    "\n",
    "ura = Upstream.Upstream(symbol)"
   ]
  },
  {
   "cell_type": "markdown",
   "metadata": {},
   "source": [
    "## Load Networks\n",
    "<a id='load'></a>\n",
    "\n",
    "1. List of all **Transcription Factors** (TF's) or regulators of interest to us\n",
    "    <br>\n",
    "    - Our sources are [slowkow](https://github.com/slowkow/tftargets) and [jaspar](http://jaspar.genereg.net/) TF databases\n",
    "    <br><br>\n",
    "2. **Background Network**: [STRING human protein interactions network](https://string-db.org/cgi/download.pl?UserId=9BGA8WkVMRl6&sessionId=HWUK6Dum9xC6&species_text=Homo+sapiens)  \n",
    "    - Filter our background network down to just the sub network of TF's and their targets\n",
    "    <br><br>\n",
    "3. User-supplied list of **Differentially Expressed Genes** (DEG's)"
   ]
  },
  {
   "cell_type": "code",
   "execution_count": 5,
   "metadata": {},
   "outputs": [
    {
     "name": "stdout",
     "output_type": "stream",
     "text": [
      "Number of TF's: 3983\n"
     ]
    }
   ],
   "source": [
    "# transcription factors\n",
    "ura.easy_load_TF_list(slowkow_bool=True, jaspar_bool=True)\n",
    "TF_list = ura.get('TF_list')\n",
    "print \"Number of TF's: \" + str(len(TF_list))"
   ]
  },
  {
   "cell_type": "code",
   "execution_count": 6,
   "metadata": {},
   "outputs": [
    {
     "name": "stdout",
     "output_type": "stream",
     "text": [
      "querying 1-1000...done.\n",
      "querying 1001-2000...done.\n",
      "querying 2001-3000...done.\n",
      "querying 3001-4000...done.\n",
      "querying 4001-5000...done.\n",
      "querying 5001-6000...done.\n",
      "querying 6001-7000...done.\n",
      "querying 7001-7374...done.\n",
      "Finished.\n",
      "56 input query terms found dup hits:\n",
      "\t[(u'ENSP00000359550', 3), (u'ENSP00000447879', 2), (u'ENSP00000364076', 2), (u'ENSP00000348986', 2),\n",
      "312 input query terms found no hit:\n",
      "\t[u'ENSP00000376684', u'ENSP00000289352', u'ENSP00000202788', u'ENSP00000373637', u'ENSP00000367802',\n",
      "Pass \"returnall=True\" to return complete lists of duplicate or missing query terms.\n",
      "\n",
      "Number of interactions: 28939\n"
     ]
    }
   ],
   "source": [
    "# background network\n",
    "filename = \"../../background_networks/9606.protein.actions.v10.5.txt\"\n",
    "confidence_filter = 400\n",
    "ura.load_STRING_to_digraph(filename, confidence_filter)\n",
    "DG_TF = ura.get('DG_TF')\n",
    "DG_universe = ura.get('DG_universe')\n",
    "\n",
    "\n",
    "print \"\\nNumber of interactions: \" + str(len(list(DG_TF.edges())))"
   ]
  },
  {
   "cell_type": "code",
   "execution_count": 7,
   "metadata": {},
   "outputs": [
    {
     "name": "stdout",
     "output_type": "stream",
     "text": [
      "Number of DEG's: 1456\n"
     ]
    }
   ],
   "source": [
    "#ura.DG_TF = save_DG_TF\n",
    "#ura.DG_universe = DG_universe\n",
    "# differentially expressed genes\n",
    "DEG_filename = \"../../DEG_databases/DE_Coeff_OAvsNormal_OAvsNormal_20171215.csv\" \n",
    "ura.create_DEG_list(DEG_filename, p_value_filter = 0.05, fold_change_filter = 1)\n",
    "\n",
    "DEG_list = ura.get('DEG_list')\n",
    "DG_TF = ura.get('DG_TF')\n",
    "DEG_full_graph = ura.get('DEG_full_graph')\n",
    "DEG_to_pvalue = ura.get('DEG_to_pvalue')\n",
    "DEG_to_updown = ura.get('DEG_to_updown')\n",
    "\n",
    "print \"Number of DEG's: \" + str(len(DEG_list))"
   ]
  },
  {
   "cell_type": "markdown",
   "metadata": {},
   "source": [
    "## P-values and Z-score Calculation\n",
    "<a id='pz'></a>\n",
    "\n",
    "1. **P-values**: How relevant is a TF to its DEG targets? Are they connected by chance, or is their connection statistically significant?\n",
    "    <br>\n",
    "    1. -log(p-value) for each TF using [scipy.stats.hypergeom.logsf](https://docs.scipy.org/doc/scipy-0.19.1/reference/generated/scipy.stats.hypergeom.html).\n",
    "        1. high value = significant connection between this TF and its DEG targets\n",
    "        2. low value = TF is randomly associated with its DEG targets\n",
    "        3. zero = None of this TF's targets were DEG's\n",
    "        4. inf = original p-value was so small that its log is inf. Very high significance.\n",
    "        <br><br>\n",
    "2. **Z-scores**: Goal is to predict the activation states of the TF's\n",
    "\n",
    "    - activation states: interaction type/regulation direction = predicted state\n",
    "        - activating/up  = activating\n",
    "        - activating/down = inhibiting\n",
    "        - inhibiting/up = inhibiting\n",
    "        - inhibiting/down = activating\n",
    "        <br><br>\n",
    "    - unbiased vs biased calculations:\n",
    "        - **unbiased calculation**: Assume a normal distribution of activating and inhibiting states \n",
    "        - **biased calculation**: For the case when you cannot assume a 50-50 split between up/down-regulated targets and activating/inhbiting interactions. Modify our formula to approximate a normal distribution."
   ]
  },
  {
   "cell_type": "code",
   "execution_count": 8,
   "metadata": {
    "scrolled": true
   },
   "outputs": [
    {
     "data": {
      "text/plain": [
       "TF_ENRICHMENT    4.114487e-12\n",
       "dtype: float64"
      ]
     },
     "execution_count": 8,
     "metadata": {},
     "output_type": "execute_result"
    }
   ],
   "source": [
    "# Enrichment of every TF with respect to its targets\n",
    "ura.tf_target_enrichment_calc()\n",
    "tf_target_enrichment = ura.get('tf_target_enrichment')\n",
    "\n",
    "# Enrichment of TF's themselves\n",
    "ura.tf_enrichment_calc()   \n",
    "ura.get('tf_enrichment')"
   ]
  },
  {
   "cell_type": "code",
   "execution_count": 9,
   "metadata": {
    "scrolled": true
   },
   "outputs": [
    {
     "data": {
      "text/plain": [
       "STAT1       2.840188\n",
       "CLASP2      2.672612\n",
       "KNTC1       2.672612\n",
       "CLIP1       2.672612\n",
       "CKAP5       2.672612\n",
       "MAD1L1      2.672612\n",
       "CENPA       2.672612\n",
       "BUB3        2.672612\n",
       "AHCTF1      2.672612\n",
       "CLASP1      2.672612\n",
       "ARNTL2      2.645751\n",
       "NCOR1       2.645751\n",
       "STAT5A      2.523573\n",
       "FOXM1       2.500000\n",
       "STAT5B      2.500000\n",
       "AKT2        2.500000\n",
       "TWIST1      2.333333\n",
       "RBX1        2.333333\n",
       "JUND        2.333333\n",
       "PAFAH1B1    2.323790\n",
       "CUL1        2.309401\n",
       "WWTR1       2.236068\n",
       "FBXW11      2.236068\n",
       "ARNTL       2.182821\n",
       "RANBP2      2.182821\n",
       "XPO1        2.182821\n",
       "NFKBIA      2.121320\n",
       "CDC20       2.041241\n",
       "EGR1        2.041241\n",
       "MYC         2.020726\n",
       "              ...   \n",
       "NR2F1      -1.732051\n",
       "MTA1       -1.732051\n",
       "PPP2R2A    -1.732051\n",
       "ID4        -1.732051\n",
       "TPR        -1.732051\n",
       "E2F2       -1.732051\n",
       "HMGB2      -1.732051\n",
       "KLF6       -1.732051\n",
       "CREBBP     -1.800000\n",
       "MED1       -1.889822\n",
       "SMARCD3    -1.889822\n",
       "NCOA1      -1.897367\n",
       "AR         -1.961161\n",
       "FOSL2      -2.000000\n",
       "MEF2A      -2.000000\n",
       "NR2F2      -2.000000\n",
       "BRCA1      -2.000000\n",
       "EPAS1      -2.110579\n",
       "PPARGC1A   -2.121320\n",
       "RBL1       -2.121320\n",
       "E2F3       -2.138090\n",
       "EP300      -2.190890\n",
       "CTF1       -2.236068\n",
       "ELK1       -2.236068\n",
       "NFATC2     -2.236068\n",
       "CDC6       -2.449490\n",
       "RORA       -2.449490\n",
       "FOXO3      -2.710687\n",
       "GLI2       -2.828427\n",
       "RBL2       -3.162278\n",
       "Name: unbiased-calculated z-scores, Length: 1354, dtype: float64"
      ]
     },
     "execution_count": 9,
     "metadata": {},
     "output_type": "execute_result"
    }
   ],
   "source": [
    "ura.tf_zscore(bias_filter = 0.25) # recommended bias filter is 0.25\n",
    "z_scores = ura.get('z_scores')\n",
    "z_scores"
   ]
  },
  {
   "cell_type": "markdown",
   "metadata": {},
   "source": [
    "## Display Our Results\n",
    "<a id='display'></a>\n",
    "- Display TF's with top z-scores\n",
    "- Display a histogram to see where specific genes rank among others according to z-score\n",
    "- Display subnetwork of a particular TF and its targets"
   ]
  },
  {
   "cell_type": "code",
   "execution_count": 21,
   "metadata": {},
   "outputs": [
    {
     "data": {
      "text/html": [
       "<div>\n",
       "<style>\n",
       "    .dataframe thead tr:only-child th {\n",
       "        text-align: right;\n",
       "    }\n",
       "\n",
       "    .dataframe thead th {\n",
       "        text-align: left;\n",
       "    }\n",
       "\n",
       "    .dataframe tbody tr th {\n",
       "        vertical-align: top;\n",
       "    }\n",
       "</style>\n",
       "<table border=\"1\" class=\"dataframe\">\n",
       "  <thead>\n",
       "    <tr style=\"text-align: right;\">\n",
       "      <th></th>\n",
       "      <th>z-score</th>\n",
       "      <th>(adj) p-value</th>\n",
       "      <th>(log) fold change</th>\n",
       "    </tr>\n",
       "  </thead>\n",
       "  <tbody>\n",
       "    <tr>\n",
       "      <th>STAT1</th>\n",
       "      <td>2.840188</td>\n",
       "      <td>0.826469</td>\n",
       "      <td>0.063822</td>\n",
       "    </tr>\n",
       "    <tr>\n",
       "      <th>AHCTF1</th>\n",
       "      <td>2.672612</td>\n",
       "      <td>0.043979</td>\n",
       "      <td>-0.401034</td>\n",
       "    </tr>\n",
       "    <tr>\n",
       "      <th>BUB3</th>\n",
       "      <td>2.672612</td>\n",
       "      <td>0.045374</td>\n",
       "      <td>0.264598</td>\n",
       "    </tr>\n",
       "    <tr>\n",
       "      <th>CENPA</th>\n",
       "      <td>2.672612</td>\n",
       "      <td>NaN</td>\n",
       "      <td>NaN</td>\n",
       "    </tr>\n",
       "    <tr>\n",
       "      <th>MAD1L1</th>\n",
       "      <td>2.672612</td>\n",
       "      <td>0.039497</td>\n",
       "      <td>-0.561039</td>\n",
       "    </tr>\n",
       "    <tr>\n",
       "      <th>CKAP5</th>\n",
       "      <td>2.672612</td>\n",
       "      <td>0.866232</td>\n",
       "      <td>-0.071815</td>\n",
       "    </tr>\n",
       "    <tr>\n",
       "      <th>CLIP1</th>\n",
       "      <td>2.672612</td>\n",
       "      <td>0.042270</td>\n",
       "      <td>-0.521127</td>\n",
       "    </tr>\n",
       "    <tr>\n",
       "      <th>FOXO3</th>\n",
       "      <td>-2.710687</td>\n",
       "      <td>0.000292</td>\n",
       "      <td>-1.125810</td>\n",
       "    </tr>\n",
       "    <tr>\n",
       "      <th>GLI2</th>\n",
       "      <td>-2.828427</td>\n",
       "      <td>0.172742</td>\n",
       "      <td>-0.554695</td>\n",
       "    </tr>\n",
       "    <tr>\n",
       "      <th>RBL2</th>\n",
       "      <td>-3.162278</td>\n",
       "      <td>0.129498</td>\n",
       "      <td>-0.830733</td>\n",
       "    </tr>\n",
       "  </tbody>\n",
       "</table>\n",
       "</div>"
      ],
      "text/plain": [
       "         z-score  (adj) p-value  (log) fold change\n",
       "STAT1   2.840188       0.826469           0.063822\n",
       "AHCTF1  2.672612       0.043979          -0.401034\n",
       "BUB3    2.672612       0.045374           0.264598\n",
       "CENPA   2.672612            NaN                NaN\n",
       "MAD1L1  2.672612       0.039497          -0.561039\n",
       "CKAP5   2.672612       0.866232          -0.071815\n",
       "CLIP1   2.672612       0.042270          -0.521127\n",
       "FOXO3  -2.710687       0.000292          -1.125810\n",
       "GLI2   -2.828427       0.172742          -0.554695\n",
       "RBL2   -3.162278       0.129498          -0.830733"
      ]
     },
     "metadata": {},
     "output_type": "display_data"
    }
   ],
   "source": [
    "top_values = ura.top_values(act=True, abs_value=True, top=10)\n",
    "display(top_values)"
   ]
  },
  {
   "cell_type": "code",
   "execution_count": 33,
   "metadata": {},
   "outputs": [
    {
     "data": {
      "image/png": "[encoded data removed]",
      "text/plain": [
       "<matplotlib.figure.Figure at 0x276f8c18>"
      ]
     },
     "metadata": {},
     "output_type": "display_data"
    }
   ],
   "source": [
    "genes_to_rank = ['HOXA4', 'CEBPB', 'HIF1A','KLF4', 'TLE3', 'RBL2','TP53', 'STAT1', 'STAT5B', 'BUB3', 'CENPA']\n",
    "stat_analysis.compare_genes(z_scores, genes_to_rank)"
   ]
  },
  {
   "cell_type": "code",
   "execution_count": 31,
   "metadata": {},
   "outputs": [
    {
     "data": {
      "text/html": [
       "<!doctype html><html><head>  <title>Network | Basic usage</title></head><body><script type=\"text/javascript\">function setUpFrame() {     var frame = window.frames[\"style_file2\"];    frame.runVis([{\"node_shape\": \"circle\", \"degree\": 3.0, \"title\": \"BIRC5\", \"color\": \"grey\", \"size_field\": 7.233579913228549, \"y\": 900.919404710461, \"x\": 831.6102969879125, \"border_width\": 0, \"id\": \"BIRC5\"}, {\"node_shape\": \"circle\", \"degree\": 3.0, \"title\": \"SOX9\", \"color\": \"rgba(0, 0, 256, 1.0)\", \"size_field\": 17.472254861827405, \"y\": 1416.0826066827424, \"x\": 476.6629256027362, \"border_width\": 2, \"id\": \"SOX9\"}, {\"node_shape\": \"circle\", \"degree\": 3.0, \"title\": \"EGF\", \"color\": \"grey\", \"size_field\": 7.233579913228549, \"y\": 131.17279740582225, \"x\": 989.5906281342088, \"border_width\": 0, \"id\": \"EGF\"}, {\"node_shape\": \"circle\", \"degree\": 3.0, \"title\": \"SOX4\", \"color\": \"grey\", \"size_field\": 7.095383336795881, \"y\": 809.5831264643051, \"x\": 1274.8340616080397, \"border_width\": 0, \"id\": \"SOX4\"}, {\"node_shape\": \"circle\", \"degree\": 3.0, \"title\": \"CEBPB\", \"color\": \"rgba(0, 0, 256, 1.0)\", \"size_field\": 12.668518211585257, \"y\": 234.7826977138707, \"x\": 1358.6072852274654, \"border_width\": 2, \"id\": \"CEBPB\"}, {\"node_shape\": \"circle\", \"degree\": 3.0, \"title\": \"NANOG\", \"color\": \"grey\", \"size_field\": 7.233579913228549, \"y\": 69.97396265277959, \"x\": 551.1778045288831, \"border_width\": 0, \"id\": \"NANOG\"}, {\"node_shape\": \"circle\", \"degree\": 3.0, \"title\": \"CEBPD\", \"color\": \"grey\", \"size_field\": 4.948123107528526, \"y\": 15.248733451715859, \"x\": 848.2267862413112, \"border_width\": 0, \"id\": \"CEBPD\"}, {\"node_shape\": \"circle\", \"degree\": 3.0, \"title\": \"FYN\", \"color\": \"grey\", \"size_field\": 2.167442616450891, \"y\": 674.1854471153849, \"x\": 1434.816318811212, \"border_width\": 0, \"id\": \"FYN\"}, {\"node_shape\": \"star\", \"degree\": 3.0, \"title\": \"KLF5\", \"color\": \"rgba(0, 0, 256, 1.0)\", \"size_field\": 12.472254861827405, \"y\": 663.7912611421508, \"x\": 812.7407398583872, \"border_width\": 2, \"id\": \"KLF5\"}, {\"node_shape\": \"circle\", \"degree\": 3.0, \"title\": \"CDH1\", \"color\": \"grey\", \"size_field\": 7.233579913228549, \"y\": 1056.874594365428, \"x\": 828.602109284695, \"border_width\": 0, \"id\": \"CDH1\"}, {\"node_shape\": \"circle\", \"degree\": 3.0, \"title\": \"MYC\", \"color\": \"rgba(0, 0, 256, 1.0)\", \"size_field\": 7.7638573135398, \"y\": 337.92975640706356, \"x\": 535.0925918280326, \"border_width\": 2, \"id\": \"MYC\"}, {\"node_shape\": \"circle\", \"degree\": 3.0, \"title\": \"DUSP1\", \"color\": \"rgba(0, 0, 256, 1.0)\", \"size_field\": 12.054375875291882, \"y\": 927.1828303181223, \"x\": 114.45500708860612, \"border_width\": 2, \"id\": \"DUSP1\"}, {\"node_shape\": \"circle\", \"degree\": 3.0, \"title\": \"PDGFA\", \"color\": \"grey\", \"size_field\": 2.003322162552698, \"y\": 1276.9579029125125, \"x\": 1416.519505524844, \"border_width\": 0, \"id\": \"PDGFA\"}, {\"node_shape\": \"circle\", \"degree\": 3.0, \"title\": \"PDGFB\", \"color\": \"grey\", \"size_field\": 7.233579913228549, \"y\": 465.9506612385854, \"x\": 1439.7736544460743, \"border_width\": 0, \"id\": \"PDGFB\"}, {\"node_shape\": \"circle\", \"degree\": 3.0, \"title\": \"IGF1\", \"color\": \"rgba(256, 64, 64, 1.0)\", \"size_field\": 5.270916525524362, \"y\": 790.0416425222325, \"x\": 515.2622507281208, \"border_width\": 2, \"id\": \"IGF1\"}, {\"node_shape\": \"circle\", \"degree\": 3.0, \"title\": \"FOXD3\", \"color\": \"grey\", \"size_field\": 7.233579913228549, \"y\": 133.81439505072754, \"x\": 299.27148684795264, \"border_width\": 0, \"id\": \"FOXD3\"}, {\"node_shape\": \"circle\", \"degree\": 3.0, \"title\": \"PPARG\", \"color\": \"grey\", \"size_field\": 7.233579913228549, \"y\": 0.0, \"x\": 1219.3262542009631, \"border_width\": 0, \"id\": \"PPARG\"}, {\"node_shape\": \"circle\", \"degree\": 3.0, \"title\": \"PPARA\", \"color\": \"grey\", \"size_field\": 2.299240310681016, \"y\": 588.6698708925448, \"x\": 214.4585366100647, \"border_width\": 0, \"id\": \"PPARA\"}, {\"node_shape\": \"circle\", \"degree\": 3.0, \"title\": \"STAT3\", \"color\": \"grey\", \"size_field\": 4.514757305414338, \"y\": 358.43989239012313, \"x\": 995.8530757217488, \"border_width\": 0, \"id\": \"STAT3\"}, {\"node_shape\": \"circle\", \"degree\": 3.0, \"title\": \"FGF2\", \"color\": \"grey\", \"size_field\": 2.2782729567070286, \"y\": 847.498233770917, \"x\": 624.644356725631, \"border_width\": 0, \"id\": \"FGF2\"}, {\"node_shape\": \"circle\", \"degree\": 3.0, \"title\": \"CCND1\", \"color\": \"rgba(256, 0, 0, 1.0)\", \"size_field\": 14.239595949266329, \"y\": 281.4591376213072, \"x\": 767.494372013992, \"border_width\": 2, \"id\": \"CCND1\"}, {\"node_shape\": \"circle\", \"degree\": 3.0, \"title\": \"RUNX2\", \"color\": \"grey\", \"size_field\": 2.086527380462619, \"y\": 1500.0, \"x\": 710.9729770636421, \"border_width\": 0, \"id\": \"RUNX2\"}, {\"node_shape\": \"circle\", \"degree\": 3.0, \"title\": \"WWOX\", \"color\": \"grey\", \"size_field\": 3.618213084131578, \"y\": 1499.1987651361696, \"x\": 1112.493382779388, \"border_width\": 0, \"id\": \"WWOX\"}, {\"node_shape\": \"circle\", \"degree\": 3.0, \"title\": \"LPAR3\", \"color\": \"grey\", \"size_field\": 7.233579913228549, \"y\": 495.9791139388107, \"x\": 0.0, \"border_width\": 0, \"id\": \"LPAR3\"}], [{\"color\": \"blue\", \"source\": 1, \"target\": 9}, {\"color\": \"blue\", \"source\": 1, \"target\": 21}, {\"color\": \"blue\", \"source\": 1, \"target\": 8}, {\"color\": \"red\", \"source\": 1, \"target\": 14}, {\"color\": \"red\", \"source\": 1, \"target\": 19}, {\"color\": \"red\", \"source\": 3, \"target\": 8}, {\"color\": \"red\", \"source\": 3, \"target\": 18}, {\"color\": \"red\", \"source\": 4, \"target\": 16}, {\"color\": \"red\", \"source\": 4, \"target\": 8}, {\"color\": \"red\", \"source\": 4, \"target\": 18}, {\"color\": \"red\", \"source\": 5, \"target\": 8}, {\"color\": \"blue\", \"source\": 5, \"target\": 18}, {\"color\": \"red\", \"source\": 5, \"target\": 15}, {\"color\": \"red\", \"source\": 5, \"target\": 15}, {\"color\": \"red\", \"source\": 5, \"target\": 19}, {\"color\": \"red\", \"source\": 6, \"target\": 16}, {\"color\": \"red\", \"source\": 6, \"target\": 8}, {\"color\": \"red\", \"source\": 6, \"target\": 14}, {\"color\": \"red\", \"source\": 6, \"target\": 18}, {\"color\": \"blue\", \"source\": 6, \"target\": 10}, {\"color\": \"red\", \"source\": 8, \"target\": 0}, {\"color\": \"blue\", \"source\": 8, \"target\": 1}, {\"color\": \"red\", \"source\": 8, \"target\": 2}, {\"color\": \"red\", \"source\": 8, \"target\": 3}, {\"color\": \"red\", \"source\": 8, \"target\": 4}, {\"color\": \"red\", \"source\": 8, \"target\": 5}, {\"color\": \"red\", \"source\": 8, \"target\": 6}, {\"color\": \"red\", \"source\": 8, \"target\": 7}, {\"color\": \"red\", \"source\": 8, \"target\": 9}, {\"color\": \"red\", \"source\": 8, \"target\": 10}, {\"color\": \"red\", \"source\": 8, \"target\": 11}, {\"color\": \"red\", \"source\": 8, \"target\": 12}, {\"color\": \"red\", \"source\": 8, \"target\": 13}, {\"color\": \"red\", \"source\": 8, \"target\": 14}, {\"color\": \"blue\", \"source\": 8, \"target\": 15}, {\"color\": \"red\", \"source\": 8, \"target\": 16}, {\"color\": \"red\", \"source\": 8, \"target\": 17}, {\"color\": \"red\", \"source\": 8, \"target\": 18}, {\"color\": \"red\", \"source\": 8, \"target\": 19}, {\"color\": \"red\", \"source\": 8, \"target\": 20}, {\"color\": \"red\", \"source\": 8, \"target\": 21}, {\"color\": \"blue\", \"source\": 8, \"target\": 22}, {\"color\": \"red\", \"source\": 8, \"target\": 23}, {\"color\": \"red\", \"source\": 10, \"target\": 14}, {\"color\": \"red\", \"source\": 10, \"target\": 14}, {\"color\": \"red\", \"source\": 10, \"target\": 18}, {\"color\": \"blue\", \"source\": 10, \"target\": 6}, {\"color\": \"red\", \"source\": 10, \"target\": 20}, {\"color\": \"red\", \"source\": 10, \"target\": 0}, {\"color\": \"blue\", \"source\": 10, \"target\": 19}, {\"color\": \"red\", \"source\": 10, \"target\": 8}, {\"color\": \"blue\", \"source\": 10, \"target\": 17}, {\"color\": \"blue\", \"source\": 10, \"target\": 9}, {\"color\": \"red\", \"source\": 10, \"target\": 2}, {\"color\": \"blue\", \"source\": 15, \"target\": 8}, {\"color\": \"red\", \"source\": 15, \"target\": 5}, {\"color\": \"red\", \"source\": 15, \"target\": 5}, {\"color\": \"red\", \"source\": 16, \"target\": 4}, {\"color\": \"red\", \"source\": 16, \"target\": 8}, {\"color\": \"blue\", \"source\": 16, \"target\": 2}, {\"color\": \"red\", \"source\": 16, \"target\": 6}, {\"color\": \"blue\", \"source\": 17, \"target\": 10}, {\"color\": \"blue\", \"source\": 17, \"target\": 11}, {\"color\": \"red\", \"source\": 17, \"target\": 8}, {\"color\": \"red\", \"source\": 18, \"target\": 4}, {\"color\": \"red\", \"source\": 18, \"target\": 13}, {\"color\": \"blue\", \"source\": 18, \"target\": 5}, {\"color\": \"red\", \"source\": 18, \"target\": 6}, {\"color\": \"blue\", \"source\": 18, \"target\": 20}, {\"color\": \"blue\", \"source\": 18, \"target\": 20}, {\"color\": \"blue\", \"source\": 18, \"target\": 0}, {\"color\": \"red\", \"source\": 18, \"target\": 7}, {\"color\": \"red\", \"source\": 18, \"target\": 19}, {\"color\": \"red\", \"source\": 18, \"target\": 8}, {\"color\": \"blue\", \"source\": 18, \"target\": 9}, {\"color\": \"red\", \"source\": 18, \"target\": 10}, {\"color\": \"red\", \"source\": 18, \"target\": 2}, {\"color\": \"red\", \"source\": 18, \"target\": 3}, {\"color\": \"red\", \"source\": 21, \"target\": 0}, {\"color\": \"blue\", \"source\": 21, \"target\": 1}, {\"color\": \"red\", \"source\": 21, \"target\": 8}, {\"color\": \"red\", \"source\": 21, \"target\": 14}, {\"color\": \"blue\", \"source\": 21, \"target\": 19}, {\"color\": \"red\", \"source\": 22, \"target\": 9}, {\"color\": \"blue\", \"source\": 22, \"target\": 8}]);}</script><iframe name=\"style_file2\" src=\"style_file2.html\" width=\"100%;\" height=\"805px\"></iframe></body></html>"
      ],
      "text/plain": [
       "<IPython.core.display.HTML object>"
      ]
     },
     "execution_count": 31,
     "metadata": {},
     "output_type": "execute_result"
    }
   ],
   "source": [
    "ura.vis_tf_network('KLF5',\n",
    "              directed_edges = False,\n",
    "              node_spacing = 1500,\n",
    "              color_non_DEGs = False,\n",
    "              graph_id = 2,\n",
    "              tf_size_amplifier = -5) "
   ]
  },
  {
   "cell_type": "code",
   "execution_count": 32,
   "metadata": {},
   "outputs": [
    {
     "data": {
      "text/html": [
       "<!doctype html><html><head>  <title>Network | Basic usage</title></head><body><script type=\"text/javascript\">function setUpFrame() {     var frame = window.frames[\"style_file1\"];    frame.runVis([{\"node_shape\": \"circle\", \"degree\": 3.0, \"title\": \"BCL2L1\", \"color\": \"grey\", \"size_field\": 2.430987093907155, \"y\": 695.1681611373972, \"x\": 1340.4712847660642, \"border_width\": 0, \"id\": \"BCL2L1\"}, {\"node_shape\": \"circle\", \"degree\": 3.0, \"title\": \"HAMP\", \"color\": \"grey\", \"size_field\": 5.088935797617125, \"y\": 562.4172632057579, \"x\": 879.4261959945698, \"border_width\": 0, \"id\": \"HAMP\"}, {\"node_shape\": \"circle\", \"degree\": 3.0, \"title\": \"TBX21\", \"color\": \"grey\", \"size_field\": 5.088935797617125, \"y\": 704.0549046746726, \"x\": 216.37281746741635, \"border_width\": 0, \"id\": \"TBX21\"}, {\"node_shape\": \"circle\", \"degree\": 3.0, \"title\": \"IL6ST\", \"color\": \"grey\", \"size_field\": 4.588200278750872, \"y\": 271.2184813011585, \"x\": 823.31333136346, \"border_width\": 0, \"id\": \"IL6ST\"}, {\"node_shape\": \"circle\", \"degree\": 3.0, \"title\": \"IFNAR2\", \"color\": \"grey\", \"size_field\": 6.350647766692723, \"y\": 502.67640737498033, \"x\": 602.2117389057237, \"border_width\": 0, \"id\": \"IFNAR2\"}, {\"node_shape\": \"circle\", \"degree\": 3.0, \"title\": \"EPO\", \"color\": \"grey\", \"size_field\": 5.088935797617125, \"y\": 799.9675618305579, \"x\": 631.6115270577957, \"border_width\": 0, \"id\": \"EPO\"}, {\"node_shape\": \"circle\", \"degree\": 3.0, \"title\": \"IL22\", \"color\": \"grey\", \"size_field\": 5.088935797617125, \"y\": 48.59956038886094, \"x\": 245.82569874098417, \"border_width\": 0, \"id\": \"IL22\"}, {\"node_shape\": \"circle\", \"degree\": 3.0, \"title\": \"IL27\", \"color\": \"grey\", \"size_field\": 2.3561526931617913, \"y\": 488.59504301705374, \"x\": 778.2639819201725, \"border_width\": 0, \"id\": \"IL27\"}, {\"node_shape\": \"circle\", \"degree\": 3.0, \"title\": \"TYK2\", \"color\": \"grey\", \"size_field\": 2.907442950118574, \"y\": 711.682167509638, \"x\": 914.0026720111397, \"border_width\": 0, \"id\": \"TYK2\"}, {\"node_shape\": \"circle\", \"degree\": 3.0, \"title\": \"EGF\", \"color\": \"grey\", \"size_field\": 5.088935797617125, \"y\": 181.71868616433196, \"x\": 617.5568556614885, \"border_width\": 0, \"id\": \"EGF\"}, {\"node_shape\": \"circle\", \"degree\": 3.0, \"title\": \"IL12RB1\", \"color\": \"grey\", \"size_field\": 5.088935797617125, \"y\": 900.9439658437866, \"x\": 473.7651240652692, \"border_width\": 0, \"id\": \"IL12RB1\"}, {\"node_shape\": \"circle\", \"degree\": 3.0, \"title\": \"ZNF148\", \"color\": \"grey\", \"size_field\": 2.9042969058500487, \"y\": 491.40609310417653, \"x\": 1018.8376062881797, \"border_width\": 0, \"id\": \"ZNF148\"}, {\"node_shape\": \"circle\", \"degree\": 3.0, \"title\": \"IL12RB2\", \"color\": \"grey\", \"size_field\": 3.1954248627529185, \"y\": 589.0865775634771, \"x\": 618.2739987888405, \"border_width\": 0, \"id\": \"IL12RB2\"}, {\"node_shape\": \"circle\", \"degree\": 3.0, \"title\": \"FADD\", \"color\": \"grey\", \"size_field\": 10.283927757244037, \"y\": 1011.7706360231131, \"x\": 694.9324259243888, \"border_width\": 0, \"id\": \"FADD\"}, {\"node_shape\": \"circle\", \"degree\": 3.0, \"title\": \"LYN\", \"color\": \"grey\", \"size_field\": 2.8279799824091345, \"y\": 583.0900434036851, \"x\": 489.0970485684418, \"border_width\": 0, \"id\": \"LYN\"}, {\"node_shape\": \"circle\", \"degree\": 3.0, \"title\": \"IFNG\", \"color\": \"grey\", \"size_field\": 5.088935797617125, \"y\": 883.7965733093698, \"x\": 837.927710814789, \"border_width\": 0, \"id\": \"IFNG\"}, {\"node_shape\": \"circle\", \"degree\": 3.0, \"title\": \"CAMK2G\", \"color\": \"grey\", \"size_field\": 2.615623561242911, \"y\": 854.2978314071529, \"x\": 895.0844421266023, \"border_width\": 0, \"id\": \"CAMK2G\"}, {\"node_shape\": \"circle\", \"degree\": 3.0, \"title\": \"CAMK2A\", \"color\": \"grey\", \"size_field\": 5.088935797617125, \"y\": 200.0484453306979, \"x\": 284.9663600882037, \"border_width\": 0, \"id\": \"CAMK2A\"}, {\"node_shape\": \"circle\", \"degree\": 3.0, \"title\": \"IFI30\", \"color\": \"rgba(202, 202, 256, 1.0)\", \"size_field\": 5.322711481510136, \"y\": 95.86974459871315, \"x\": 634.7214033551893, \"border_width\": 2, \"id\": \"IFI30\"}, {\"node_shape\": \"circle\", \"degree\": 3.0, \"title\": \"SP7\", \"color\": \"grey\", \"size_field\": 4.091681605587128, \"y\": 703.3500593859548, \"x\": 156.13771994299614, \"border_width\": 0, \"id\": \"SP7\"}, {\"node_shape\": \"circle\", \"degree\": 3.0, \"title\": \"CXCL12\", \"color\": \"grey\", \"size_field\": 4.332982512941924, \"y\": 660.072497015995, \"x\": 560.9123178043709, \"border_width\": 0, \"id\": \"CXCL12\"}, {\"node_shape\": \"circle\", \"degree\": 3.0, \"title\": \"GATA3\", \"color\": \"grey\", \"size_field\": 5.088935797617125, \"y\": 1163.3774049609522, \"x\": 583.600121976542, \"border_width\": 0, \"id\": \"GATA3\"}, {\"node_shape\": \"circle\", \"degree\": 3.0, \"title\": \"SOCS5\", \"color\": \"grey\", \"size_field\": 2.282668638107833, \"y\": 1066.9951128730602, \"x\": 639.7378335320093, \"border_width\": 0, \"id\": \"SOCS5\"}, {\"node_shape\": \"circle\", \"degree\": 3.0, \"title\": \"SOCS4\", \"color\": \"grey\", \"size_field\": 5.9091609480237395, \"y\": 1394.4829867034368, \"x\": 1296.0252429586826, \"border_width\": 0, \"id\": \"SOCS4\"}, {\"node_shape\": \"circle\", \"degree\": 3.0, \"title\": \"XAF1\", \"color\": \"grey\", \"size_field\": 2.1223772025174172, \"y\": 1134.0011850331725, \"x\": 1151.7981711675234, \"border_width\": 0, \"id\": \"XAF1\"}, {\"node_shape\": \"circle\", \"degree\": 3.0, \"title\": \"SOCS6\", \"color\": \"grey\", \"size_field\": 6.011356430648988, \"y\": 478.2369546661874, \"x\": 1036.1773508815406, \"border_width\": 0, \"id\": \"SOCS6\"}, {\"node_shape\": \"circle\", \"degree\": 3.0, \"title\": \"SOCS1\", \"color\": \"grey\", \"size_field\": 5.088935797617125, \"y\": 1219.998228638568, \"x\": 1235.423807452293, \"border_width\": 0, \"id\": \"SOCS1\"}, {\"node_shape\": \"circle\", \"degree\": 3.0, \"title\": \"SOCS3\", \"color\": \"rgba(0, 0, 256, 1.0)\", \"size_field\": 6.531631665424094, \"y\": 1115.4967109945535, \"x\": 957.185908893414, \"border_width\": 2, \"id\": \"SOCS3\"}, {\"node_shape\": \"circle\", \"degree\": 3.0, \"title\": \"SOCS2\", \"color\": \"grey\", \"size_field\": 5.482242227732794, \"y\": 1522.478728668852, \"x\": 1621.32097202605, \"border_width\": 0, \"id\": \"SOCS2\"}, {\"node_shape\": \"circle\", \"degree\": 3.0, \"title\": \"EIF2A\", \"color\": \"grey\", \"size_field\": 3.5122330695142114, \"y\": 942.058469019022, \"x\": 235.59409801225317, \"border_width\": 0, \"id\": \"EIF2A\"}, {\"node_shape\": \"circle\", \"degree\": 3.0, \"title\": \"KIT\", \"color\": \"rgba(0, 0, 256, 1.0)\", \"size_field\": 12.2067555977314, \"y\": 113.54315923142553, \"x\": 51.03794095387999, \"border_width\": 2, \"id\": \"KIT\"}, {\"node_shape\": \"circle\", \"degree\": 3.0, \"title\": \"IFNAR1\", \"color\": \"grey\", \"size_field\": 2.0916205340358873, \"y\": 291.39065084482496, \"x\": 550.091834367937, \"border_width\": 0, \"id\": \"IFNAR1\"}, {\"node_shape\": \"circle\", \"degree\": 3.0, \"title\": \"CYLD\", \"color\": \"grey\", \"size_field\": 3.365882014966637, \"y\": 697.8738609322209, \"x\": 660.2891510412239, \"border_width\": 0, \"id\": \"CYLD\"}, {\"node_shape\": \"circle\", \"degree\": 3.0, \"title\": \"CSF2RB\", \"color\": \"grey\", \"size_field\": 5.088935797617125, \"y\": 1817.270050229334, \"x\": 1127.7108305085453, \"border_width\": 0, \"id\": \"CSF2RB\"}, {\"node_shape\": \"circle\", \"degree\": 3.0, \"title\": \"TNFSF10\", \"color\": \"grey\", \"size_field\": 4.8971937036565105, \"y\": 937.96832847471, \"x\": 1039.0096528140584, \"border_width\": 0, \"id\": \"TNFSF10\"}, {\"node_shape\": \"circle\", \"degree\": 3.0, \"title\": \"MMP10\", \"color\": \"grey\", \"size_field\": 5.088935797617125, \"y\": 407.7988176436438, \"x\": 448.23657231609917, \"border_width\": 0, \"id\": \"MMP10\"}, {\"node_shape\": \"circle\", \"degree\": 3.0, \"title\": \"IL10RA\", \"color\": \"grey\", \"size_field\": 5.088935797617125, \"y\": 1677.7624571914828, \"x\": 1156.1738252071364, \"border_width\": 0, \"id\": \"IL10RA\"}, {\"node_shape\": \"circle\", \"degree\": 3.0, \"title\": \"ALB\", \"color\": \"grey\", \"size_field\": 5.088935797617125, \"y\": 771.4775047004878, \"x\": 352.40461684656213, \"border_width\": 0, \"id\": \"ALB\"}, {\"node_shape\": \"circle\", \"degree\": 3.0, \"title\": \"CCR7\", \"color\": \"grey\", \"size_field\": 5.088935797617125, \"y\": 505.1892197235633, \"x\": 1303.8403762413602, \"border_width\": 0, \"id\": \"CCR7\"}, {\"node_shape\": \"circle\", \"degree\": 3.0, \"title\": \"TRAF2\", \"color\": \"grey\", \"size_field\": 2.3000659538481774, \"y\": 297.63480534487826, \"x\": 151.7641062313378, \"border_width\": 0, \"id\": \"TRAF2\"}, {\"node_shape\": \"circle\", \"degree\": 3.0, \"title\": \"CSF2\", \"color\": \"grey\", \"size_field\": 5.088935797617125, \"y\": 614.3702323111935, \"x\": 848.7256075343562, \"border_width\": 0, \"id\": \"CSF2\"}, {\"node_shape\": \"circle\", \"degree\": 3.0, \"title\": \"IFNGR2\", \"color\": \"grey\", \"size_field\": 3.3707608578707697, \"y\": 1211.5099242173972, \"x\": 1863.0694548068302, \"border_width\": 0, \"id\": \"IFNGR2\"}, {\"node_shape\": \"circle\", \"degree\": 3.0, \"title\": \"PIAS2\", \"color\": \"grey\", \"size_field\": 3.854600115400334, \"y\": 1050.2371601494785, \"x\": 1378.8052160643522, \"border_width\": 0, \"id\": \"PIAS2\"}, {\"node_shape\": \"circle\", \"degree\": 3.0, \"title\": \"DMBT1\", \"color\": \"rgba(256, 12, 12, 1.0)\", \"size_field\": 14.186571411719306, \"y\": 613.6670909706248, \"x\": 1492.9361809754216, \"border_width\": 2, \"id\": \"DMBT1\"}, {\"node_shape\": \"circle\", \"degree\": 3.0, \"title\": \"JAK2\", \"color\": \"grey\", \"size_field\": 2.1600003188520085, \"y\": 1170.4010295895605, \"x\": 1045.7564332887525, \"border_width\": 0, \"id\": \"JAK2\"}, {\"node_shape\": \"circle\", \"degree\": 3.0, \"title\": \"JAK3\", \"color\": \"rgba(228, 228, 256, 1.0)\", \"size_field\": 13.769483786243455, \"y\": 1017.2229944089374, \"x\": 1294.5694296091406, \"border_width\": 2, \"id\": \"JAK3\"}, {\"node_shape\": \"circle\", \"degree\": 3.0, \"title\": \"JAK1\", \"color\": \"grey\", \"size_field\": 4.13557305634912, \"y\": 763.4644334012378, \"x\": 778.621916930435, \"border_width\": 0, \"id\": \"JAK1\"}, {\"node_shape\": \"circle\", \"degree\": 3.0, \"title\": \"IL22RA1\", \"color\": \"grey\", \"size_field\": 5.088935797617125, \"y\": 1447.8370483929946, \"x\": 707.2796758763052, \"border_width\": 0, \"id\": \"IL22RA1\"}, {\"node_shape\": \"circle\", \"degree\": 3.0, \"title\": \"FOS\", \"color\": \"rgba(0, 0, 256, 1.0)\", \"size_field\": 9.636661028915066, \"y\": 617.9481566622138, \"x\": 1124.3433333202897, \"border_width\": 2, \"id\": \"FOS\"}, {\"node_shape\": \"circle\", \"degree\": 3.0, \"title\": \"IGFBP3\", \"color\": \"rgba(256, 0, 0, 1.0)\", \"size_field\": 11.46529260234245, \"y\": 1001.3707528969427, \"x\": 455.19442412873525, \"border_width\": 2, \"id\": \"IGFBP3\"}, {\"node_shape\": \"circle\", \"degree\": 3.0, \"title\": \"VEGFA\", \"color\": \"rgba(0, 0, 256, 1.0)\", \"size_field\": 18.079351742217305, \"y\": 852.9656325185846, \"x\": 492.56363893241615, \"border_width\": 2, \"id\": \"VEGFA\"}, {\"node_shape\": \"circle\", \"degree\": 3.0, \"title\": \"PTPN2\", \"color\": \"grey\", \"size_field\": 3.658040660156031, \"y\": 1572.0349711451581, \"x\": 1922.3743499676207, \"border_width\": 0, \"id\": \"PTPN2\"}, {\"node_shape\": \"circle\", \"degree\": 3.0, \"title\": \"EPOR\", \"color\": \"grey\", \"size_field\": 2.0699590605051577, \"y\": 365.7658515370888, \"x\": 493.93648930165796, \"border_width\": 0, \"id\": \"EPOR\"}, {\"node_shape\": \"circle\", \"degree\": 3.0, \"title\": \"IRF1\", \"color\": \"rgba(0, 0, 256, 1.0)\", \"size_field\": 10.307409228018198, \"y\": 664.3300696218477, \"x\": 485.04677766719715, \"border_width\": 2, \"id\": \"IRF1\"}, {\"node_shape\": \"circle\", \"degree\": 3.0, \"title\": \"TP53\", \"color\": \"grey\", \"size_field\": 2.1548699347618787, \"y\": 548.2024763173292, \"x\": 580.3491313827761, \"border_width\": 0, \"id\": \"TP53\"}, {\"node_shape\": \"circle\", \"degree\": 3.0, \"title\": \"TNFRSF1A\", \"color\": \"grey\", \"size_field\": 4.131370142264556, \"y\": 780.0787584573413, \"x\": 510.6227361867932, \"border_width\": 0, \"id\": \"TNFRSF1A\"}, {\"node_shape\": \"circle\", \"degree\": 3.0, \"title\": \"CD274\", \"color\": \"grey\", \"size_field\": 4.9658563661186115, \"y\": 200.6989430491842, \"x\": 825.5680358112102, \"border_width\": 0, \"id\": \"CD274\"}, {\"node_shape\": \"circle\", \"degree\": 3.0, \"title\": \"SDC2\", \"color\": \"grey\", \"size_field\": 3.8478870032643933, \"y\": 532.6174993261593, \"x\": 419.89730478297923, \"border_width\": 0, \"id\": \"SDC2\"}, {\"node_shape\": \"circle\", \"degree\": 3.0, \"title\": \"IRF8\", \"color\": \"grey\", \"size_field\": 5.088935797617125, \"y\": 349.19620771354465, \"x\": 1038.5560666103338, \"border_width\": 0, \"id\": \"IRF8\"}, {\"node_shape\": \"circle\", \"degree\": 3.0, \"title\": \"LCK\", \"color\": \"grey\", \"size_field\": 5.088935797617125, \"y\": 150.1607055280446, \"x\": 901.4677949817939, \"border_width\": 0, \"id\": \"LCK\"}, {\"node_shape\": \"circle\", \"degree\": 3.0, \"title\": \"CREBBP\", \"color\": \"grey\", \"size_field\": 3.480574117843834, \"y\": 0.0, \"x\": 0.0, \"border_width\": 0, \"id\": \"CREBBP\"}, {\"node_shape\": \"circle\", \"degree\": 3.0, \"title\": \"PDGFRB\", \"color\": \"grey\", \"size_field\": 2.433056608554594, \"y\": 181.83069373660916, \"x\": 563.2871867185711, \"border_width\": 0, \"id\": \"PDGFRB\"}, {\"node_shape\": \"circle\", \"degree\": 3.0, \"title\": \"SMAD7\", \"color\": \"grey\", \"size_field\": 8.509120729480891, \"y\": 799.2269305243195, \"x\": 1404.0921223967637, \"border_width\": 0, \"id\": \"SMAD7\"}, {\"node_shape\": \"circle\", \"degree\": 3.0, \"title\": \"MAPK14\", \"color\": \"grey\", \"size_field\": 2.1816819760842687, \"y\": 451.82802863637085, \"x\": 431.13929828848, \"border_width\": 0, \"id\": \"MAPK14\"}, {\"node_shape\": \"circle\", \"degree\": 3.0, \"title\": \"CSF2RA\", \"color\": \"grey\", \"size_field\": 5.088935797617125, \"y\": 292.82275953245505, \"x\": 798.3721606196422, \"border_width\": 0, \"id\": \"CSF2RA\"}, {\"node_shape\": \"circle\", \"degree\": 3.0, \"title\": \"MAPK11\", \"color\": \"grey\", \"size_field\": 2.5987664645089525, \"y\": 464.18128647775404, \"x\": 699.497151473181, \"border_width\": 0, \"id\": \"MAPK11\"}, {\"node_shape\": \"circle\", \"degree\": 3.0, \"title\": \"MAPK12\", \"color\": \"grey\", \"size_field\": 2.1419644423541837, \"y\": 947.422252195914, \"x\": 760.7741516345826, \"border_width\": 0, \"id\": \"MAPK12\"}, {\"node_shape\": \"circle\", \"degree\": 3.0, \"title\": \"ARRB1\", \"color\": \"grey\", \"size_field\": 5.490802346920649, \"y\": 450.96008915019786, \"x\": 906.4515093367235, \"border_width\": 0, \"id\": \"ARRB1\"}, {\"node_shape\": \"circle\", \"degree\": 3.0, \"title\": \"CD86\", \"color\": \"grey\", \"size_field\": 5.088935797617125, \"y\": 644.1626020375691, \"x\": 1100.5994534135134, \"border_width\": 0, \"id\": \"CD86\"}, {\"node_shape\": \"star\", \"degree\": 3.0, \"title\": \"STAT1\", \"color\": \"grey\", \"size_field\": 14.21162900062276, \"y\": 1847.194357040059, \"x\": 1837.4029150977349, \"border_width\": 0, \"id\": \"STAT1\"}, {\"node_shape\": \"circle\", \"degree\": 3.0, \"title\": \"CIITA\", \"color\": \"grey\", \"size_field\": 5.088935797617125, \"y\": 553.0391024601214, \"x\": 887.554457452551, \"border_width\": 0, \"id\": \"CIITA\"}, {\"node_shape\": \"circle\", \"degree\": 3.0, \"title\": \"TRADD\", \"color\": \"grey\", \"size_field\": 3.86415840757297, \"y\": 576.7171212516585, \"x\": 242.62211231788274, \"border_width\": 0, \"id\": \"TRADD\"}, {\"node_shape\": \"circle\", \"degree\": 3.0, \"title\": \"IFNB1\", \"color\": \"grey\", \"size_field\": 5.088935797617125, \"y\": 743.9505548430961, \"x\": 804.0369878326562, \"border_width\": 0, \"id\": \"IFNB1\"}, {\"node_shape\": \"circle\", \"degree\": 3.0, \"title\": \"MAPK3\", \"color\": \"grey\", \"size_field\": 4.008148957337652, \"y\": 1103.8279573428033, \"x\": 1306.018742982459, \"border_width\": 0, \"id\": \"MAPK3\"}, {\"node_shape\": \"circle\", \"degree\": 3.0, \"title\": \"MAPK1\", \"color\": \"grey\", \"size_field\": 3.9605199652336243, \"y\": 120.22455927951978, \"x\": 356.5484216585616, \"border_width\": 0, \"id\": \"MAPK1\"}, {\"node_shape\": \"circle\", \"degree\": 3.0, \"title\": \"CISH\", \"color\": \"rgba(0, 0, 256, 1.0)\", \"size_field\": 24.21162900062276, \"y\": 770.4351790493942, \"x\": 493.24074803137097, \"border_width\": 2, \"id\": \"CISH\"}, {\"node_shape\": \"circle\", \"degree\": 3.0, \"title\": \"IL17A\", \"color\": \"grey\", \"size_field\": 5.088935797617125, \"y\": 454.20455195117574, \"x\": 305.616030941516, \"border_width\": 0, \"id\": \"IL17A\"}, {\"node_shape\": \"circle\", \"degree\": 3.0, \"title\": \"IL6R\", \"color\": \"rgba(0, 0, 256, 1.0)\", \"size_field\": 10.140876508464517, \"y\": 741.8968886883024, \"x\": 907.4142033030308, \"border_width\": 2, \"id\": \"IL6R\"}, {\"node_shape\": \"circle\", \"degree\": 3.0, \"title\": \"CCL2\", \"color\": \"grey\", \"size_field\": 2.00132764645493, \"y\": 81.54574841994274, \"x\": 453.0209850026339, \"border_width\": 0, \"id\": \"CCL2\"}, {\"node_shape\": \"circle\", \"degree\": 3.0, \"title\": \"EP300\", \"color\": \"grey\", \"size_field\": 2.6687184002702002, \"y\": 420.5186267234944, \"x\": 165.41647694194086, \"border_width\": 0, \"id\": \"EP300\"}, {\"node_shape\": \"circle\", \"degree\": 3.0, \"title\": \"IL2RA\", \"color\": \"grey\", \"size_field\": 5.088935797617125, \"y\": 369.17186689785615, \"x\": 727.5282730160383, \"border_width\": 0, \"id\": \"IL2RA\"}, {\"node_shape\": \"circle\", \"degree\": 3.0, \"title\": \"IL2RB\", \"color\": \"grey\", \"size_field\": 5.088935797617125, \"y\": 354.14990815006115, \"x\": 270.2938507381088, \"border_width\": 0, \"id\": \"IL2RB\"}, {\"node_shape\": \"circle\", \"degree\": 3.0, \"title\": \"IL2RG\", \"color\": \"grey\", \"size_field\": 5.088935797617125, \"y\": 2000.0, \"x\": 1405.9830656446827, \"border_width\": 0, \"id\": \"IL2RG\"}, {\"node_shape\": \"circle\", \"degree\": 3.0, \"title\": \"IFNA1\", \"color\": \"grey\", \"size_field\": 5.088935797617125, \"y\": 847.1899758347732, \"x\": 1124.2033648838906, \"border_width\": 0, \"id\": \"IFNA1\"}, {\"node_shape\": \"circle\", \"degree\": 3.0, \"title\": \"IL13\", \"color\": \"grey\", \"size_field\": 5.088935797617125, \"y\": 720.6317474543732, \"x\": 805.4404432082938, \"border_width\": 0, \"id\": \"IL13\"}, {\"node_shape\": \"circle\", \"degree\": 3.0, \"title\": \"LMO4\", \"color\": \"grey\", \"size_field\": 3.9053475585977075, \"y\": 1198.2788244922735, \"x\": 731.0731187944934, \"border_width\": 0, \"id\": \"LMO4\"}, {\"node_shape\": \"circle\", \"degree\": 3.0, \"title\": \"IL6\", \"color\": \"grey\", \"size_field\": 4.127660779424653, \"y\": 765.910786158468, \"x\": 860.0602797002126, \"border_width\": 0, \"id\": \"IL6\"}, {\"node_shape\": \"circle\", \"degree\": 3.0, \"title\": \"PIAS3\", \"color\": \"grey\", \"size_field\": 2.5031221497521208, \"y\": 434.30105520073005, \"x\": 921.5048533796434, \"border_width\": 0, \"id\": \"PIAS3\"}, {\"node_shape\": \"circle\", \"degree\": 3.0, \"title\": \"IL4\", \"color\": \"grey\", \"size_field\": 5.088935797617125, \"y\": 781.9310031983973, \"x\": 677.5137218250442, \"border_width\": 0, \"id\": \"IL4\"}, {\"node_shape\": \"circle\", \"degree\": 3.0, \"title\": \"PIAS1\", \"color\": \"grey\", \"size_field\": 3.696675347245827, \"y\": 468.4555198677224, \"x\": 265.4585170302162, \"border_width\": 0, \"id\": \"PIAS1\"}, {\"node_shape\": \"circle\", \"degree\": 3.0, \"title\": \"IL2\", \"color\": \"grey\", \"size_field\": 5.088935797617125, \"y\": 346.11921682778615, \"x\": 634.377620896963, \"border_width\": 0, \"id\": \"IL2\"}, {\"node_shape\": \"circle\", \"degree\": 3.0, \"title\": \"PIAS4\", \"color\": \"grey\", \"size_field\": 4.604498003522812, \"y\": 1255.710736214351, \"x\": 1384.9176966490274, \"border_width\": 0, \"id\": \"PIAS4\"}, {\"node_shape\": \"circle\", \"degree\": 3.0, \"title\": \"EBI3\", \"color\": \"grey\", \"size_field\": 5.088935797617125, \"y\": 311.5036311017192, \"x\": 1018.4851815728254, \"border_width\": 0, \"id\": \"EBI3\"}, {\"node_shape\": \"circle\", \"degree\": 3.0, \"title\": \"IFNGR1\", \"color\": \"grey\", \"size_field\": 2.369786307169507, \"y\": 1543.037095424367, \"x\": 1430.288690238359, \"border_width\": 0, \"id\": \"IFNGR1\"}, {\"node_shape\": \"circle\", \"degree\": 3.0, \"title\": \"IDO1\", \"color\": \"grey\", \"size_field\": 5.088935797617125, \"y\": 1522.9402598427325, \"x\": 807.5653435967988, \"border_width\": 0, \"id\": \"IDO1\"}, {\"node_shape\": \"circle\", \"degree\": 3.0, \"title\": \"IL23A\", \"color\": \"grey\", \"size_field\": 5.088935797617125, \"y\": 665.20590790358, \"x\": 1429.853554781199, \"border_width\": 0, \"id\": \"IL23A\"}, {\"node_shape\": \"circle\", \"degree\": 3.0, \"title\": \"EGFR\", \"color\": \"grey\", \"size_field\": 7.8927701194867375, \"y\": 721.8924272741923, \"x\": 652.6015846991961, \"border_width\": 0, \"id\": \"EGFR\"}, {\"node_shape\": \"circle\", \"degree\": 3.0, \"title\": \"IL12B\", \"color\": \"grey\", \"size_field\": 5.088935797617125, \"y\": 456.9360649959034, \"x\": 522.0610081792305, \"border_width\": 0, \"id\": \"IL12B\"}, {\"node_shape\": \"circle\", \"degree\": 3.0, \"title\": \"IL12A\", \"color\": \"grey\", \"size_field\": 5.088935797617125, \"y\": 914.2113773478691, \"x\": 555.290019104331, \"border_width\": 0, \"id\": \"IL12A\"}, {\"node_shape\": \"circle\", \"degree\": 3.0, \"title\": \"IL23R\", \"color\": \"grey\", \"size_field\": 5.088935797617125, \"y\": 406.3017346278391, \"x\": 527.5865227904599, \"border_width\": 0, \"id\": \"IL23R\"}, {\"node_shape\": \"circle\", \"degree\": 3.0, \"title\": \"MPL\", \"color\": \"grey\", \"size_field\": 5.088935797617125, \"y\": 1384.6515476690643, \"x\": 1017.2760790654773, \"border_width\": 0, \"id\": \"MPL\"}, {\"node_shape\": \"circle\", \"degree\": 3.0, \"title\": \"FYN\", \"color\": \"grey\", \"size_field\": 2.167442616450891, \"y\": 1030.3044147482435, \"x\": 669.4687303448909, \"border_width\": 0, \"id\": \"FYN\"}, {\"node_shape\": \"circle\", \"degree\": 3.0, \"title\": \"THPO\", \"color\": \"grey\", \"size_field\": 5.088935797617125, \"y\": 1321.3046307483685, \"x\": 544.8280783282707, \"border_width\": 0, \"id\": \"THPO\"}, {\"node_shape\": \"circle\", \"degree\": 3.0, \"title\": \"CAMK2D\", \"color\": \"grey\", \"size_field\": 6.128872504049397, \"y\": 972.2535850464918, \"x\": 829.7588436139094, \"border_width\": 0, \"id\": \"CAMK2D\"}, {\"node_shape\": \"circle\", \"degree\": 3.0, \"title\": \"CXCR4\", \"color\": \"grey\", \"size_field\": 5.088935797617125, \"y\": 827.8233492002483, \"x\": 301.0590603515281, \"border_width\": 0, \"id\": \"CXCR4\"}, {\"node_shape\": \"circle\", \"degree\": 3.0, \"title\": \"PDGFB\", \"color\": \"grey\", \"size_field\": 5.088935797617125, \"y\": 139.70620416768617, \"x\": 185.54540895240717, \"border_width\": 0, \"id\": \"PDGFB\"}, {\"node_shape\": \"circle\", \"degree\": 3.0, \"title\": \"PRKCD\", \"color\": \"grey\", \"size_field\": 2.094701759579387, \"y\": 958.087668862296, \"x\": 354.4792850715026, \"border_width\": 0, \"id\": \"PRKCD\"}, {\"node_shape\": \"circle\", \"degree\": 3.0, \"title\": \"CAMK2B\", \"color\": \"grey\", \"size_field\": 5.088935797617125, \"y\": 924.6329194458958, \"x\": 820.5348587826239, \"border_width\": 0, \"id\": \"CAMK2B\"}, {\"node_shape\": \"circle\", \"degree\": 3.0, \"title\": \"CASP3\", \"color\": \"grey\", \"size_field\": 2.5142634880697257, \"y\": 475.1157747070196, \"x\": 795.8766745424741, \"border_width\": 0, \"id\": \"CASP3\"}, {\"node_shape\": \"circle\", \"degree\": 3.0, \"title\": \"CASP1\", \"color\": \"grey\", \"size_field\": 5.088935797617125, \"y\": 787.8553419946265, \"x\": 1177.3807594866075, \"border_width\": 0, \"id\": \"CASP1\"}, {\"node_shape\": \"circle\", \"degree\": 3.0, \"title\": \"IL27RA\", \"color\": \"grey\", \"size_field\": 5.088935797617125, \"y\": 1422.4240509150434, \"x\": 880.6529172023544, \"border_width\": 0, \"id\": \"IL27RA\"}, {\"node_shape\": \"circle\", \"degree\": 3.0, \"title\": \"MAPK13\", \"color\": \"grey\", \"size_field\": 4.340177975302543, \"y\": 876.0300727927057, \"x\": 676.1209863512751, \"border_width\": 0, \"id\": \"MAPK13\"}, {\"node_shape\": \"circle\", \"degree\": 3.0, \"title\": \"BCL2\", \"color\": \"grey\", \"size_field\": 2.1943776429221855, \"y\": 853.3571111485882, \"x\": 611.8028293539307, \"border_width\": 0, \"id\": \"BCL2\"}], [{\"color\": \"red\", \"source\": 2, \"target\": 81}, {\"color\": \"red\", \"source\": 2, \"target\": 12}, {\"color\": \"red\", \"source\": 2, \"target\": 12}, {\"color\": \"blue\", \"source\": 2, \"target\": 76}, {\"color\": \"red\", \"source\": 2, \"target\": 15}, {\"color\": \"red\", \"source\": 2, \"target\": 15}, {\"color\": \"blue\", \"source\": 2, \"target\": 84}, {\"color\": \"red\", \"source\": 2, \"target\": 97}, {\"color\": \"red\", \"source\": 2, \"target\": 98}, {\"color\": \"red\", \"source\": 2, \"target\": 110}, {\"color\": \"red\", \"source\": 2, \"target\": 4}, {\"color\": \"red\", \"source\": 2, \"target\": 10}, {\"color\": \"blue\", \"source\": 2, \"target\": 88}, {\"color\": \"blue\", \"source\": 2, \"target\": 88}, {\"color\": \"blue\", \"source\": 2, \"target\": 27}, {\"color\": \"red\", \"source\": 2, \"target\": 44}, {\"color\": \"blue\", \"source\": 2, \"target\": 99}, {\"color\": \"blue\", \"source\": 2, \"target\": 90}, {\"color\": \"red\", \"source\": 2, \"target\": 8}, {\"color\": \"blue\", \"source\": 2, \"target\": 21}, {\"color\": \"blue\", \"source\": 2, \"target\": 21}, {\"color\": \"red\", \"source\": 19, \"target\": 50}, {\"color\": \"blue\", \"source\": 21, \"target\": 2}, {\"color\": \"blue\", \"source\": 21, \"target\": 2}, {\"color\": \"blue\", \"source\": 21, \"target\": 84}, {\"color\": \"red\", \"source\": 21, \"target\": 63}, {\"color\": \"blue\", \"source\": 21, \"target\": 5}, {\"color\": \"blue\", \"source\": 21, \"target\": 88}, {\"color\": \"blue\", \"source\": 21, \"target\": 88}, {\"color\": \"blue\", \"source\": 21, \"target\": 10}, {\"color\": \"blue\", \"source\": 21, \"target\": 15}, {\"color\": \"red\", \"source\": 21, \"target\": 79}, {\"color\": \"red\", \"source\": 48, \"target\": 0}, {\"color\": \"red\", \"source\": 48, \"target\": 78}, {\"color\": \"red\", \"source\": 48, \"target\": 78}, {\"color\": \"red\", \"source\": 48, \"target\": 34}, {\"color\": \"blue\", \"source\": 48, \"target\": 1}, {\"color\": \"red\", \"source\": 48, \"target\": 62}, {\"color\": \"blue\", \"source\": 48, \"target\": 96}, {\"color\": \"red\", \"source\": 48, \"target\": 97}, {\"color\": \"red\", \"source\": 48, \"target\": 98}, {\"color\": \"red\", \"source\": 48, \"target\": 63}, {\"color\": \"red\", \"source\": 48, \"target\": 63}, {\"color\": \"red\", \"source\": 48, \"target\": 5}, {\"color\": \"red\", \"source\": 48, \"target\": 65}, {\"color\": \"red\", \"source\": 48, \"target\": 66}, {\"color\": \"red\", \"source\": 48, \"target\": 111}, {\"color\": \"red\", \"source\": 48, \"target\": 8}, {\"color\": \"red\", \"source\": 48, \"target\": 9}, {\"color\": \"red\", \"source\": 48, \"target\": 10}, {\"color\": \"red\", \"source\": 48, \"target\": 12}, {\"color\": \"red\", \"source\": 48, \"target\": 101}, {\"color\": \"blue\", \"source\": 48, \"target\": 72}, {\"color\": \"red\", \"source\": 48, \"target\": 73}, {\"color\": \"red\", \"source\": 48, \"target\": 73}, {\"color\": \"red\", \"source\": 48, \"target\": 74}, {\"color\": \"red\", \"source\": 48, \"target\": 74}, {\"color\": \"red\", \"source\": 48, \"target\": 44}, {\"color\": \"blue\", \"source\": 48, \"target\": 46}, {\"color\": \"blue\", \"source\": 48, \"target\": 14}, {\"color\": \"red\", \"source\": 48, \"target\": 15}, {\"color\": \"blue\", \"source\": 48, \"target\": 16}, {\"color\": \"red\", \"source\": 48, \"target\": 80}, {\"color\": \"blue\", \"source\": 48, \"target\": 54}, {\"color\": \"blue\", \"source\": 48, \"target\": 54}, {\"color\": \"red\", \"source\": 48, \"target\": 57}, {\"color\": \"red\", \"source\": 48, \"target\": 84}, {\"color\": \"red\", \"source\": 48, \"target\": 40}, {\"color\": \"red\", \"source\": 48, \"target\": 40}, {\"color\": \"red\", \"source\": 48, \"target\": 86}, {\"color\": \"red\", \"source\": 48, \"target\": 86}, {\"color\": \"red\", \"source\": 48, \"target\": 88}, {\"color\": \"red\", \"source\": 48, \"target\": 88}, {\"color\": \"red\", \"source\": 48, \"target\": 90}, {\"color\": \"red\", \"source\": 48, \"target\": 90}, {\"color\": \"red\", \"source\": 49, \"target\": 54}, {\"color\": \"red\", \"source\": 49, \"target\": 57}, {\"color\": \"red\", \"source\": 49, \"target\": 79}, {\"color\": \"blue\", \"source\": 49, \"target\": 50}, {\"color\": \"blue\", \"source\": 49, \"target\": 50}, {\"color\": \"red\", \"source\": 53, \"target\": 34}, {\"color\": \"red\", \"source\": 53, \"target\": 26}, {\"color\": \"blue\", \"source\": 53, \"target\": 27}, {\"color\": \"red\", \"source\": 53, \"target\": 15}, {\"color\": \"red\", \"source\": 53, \"target\": 70}, {\"color\": \"red\", \"source\": 53, \"target\": 83}, {\"color\": \"red\", \"source\": 53, \"target\": 96}, {\"color\": \"red\", \"source\": 53, \"target\": 72}, {\"color\": \"red\", \"source\": 53, \"target\": 86}, {\"color\": \"blue\", \"source\": 53, \"target\": 88}, {\"color\": \"blue\", \"source\": 53, \"target\": 50}, {\"color\": \"red\", \"source\": 53, \"target\": 79}, {\"color\": \"red\", \"source\": 53, \"target\": 60}, {\"color\": \"red\", \"source\": 54, \"target\": 78}, {\"color\": \"red\", \"source\": 54, \"target\": 1}, {\"color\": \"red\", \"source\": 54, \"target\": 96}, {\"color\": \"red\", \"source\": 54, \"target\": 96}, {\"color\": \"red\", \"source\": 54, \"target\": 63}, {\"color\": \"red\", \"source\": 54, \"target\": 65}, {\"color\": \"blue\", \"source\": 54, \"target\": 20}, {\"color\": \"red\", \"source\": 54, \"target\": 73}, {\"color\": \"red\", \"source\": 54, \"target\": 74}, {\"color\": \"red\", \"source\": 54, \"target\": 75}, {\"color\": \"blue\", \"source\": 54, \"target\": 104}, {\"color\": \"red\", \"source\": 54, \"target\": 76}, {\"color\": \"blue\", \"source\": 54, \"target\": 48}, {\"color\": \"blue\", \"source\": 54, \"target\": 48}, {\"color\": \"red\", \"source\": 54, \"target\": 106}, {\"color\": \"red\", \"source\": 54, \"target\": 49}, {\"color\": \"blue\", \"source\": 54, \"target\": 50}, {\"color\": \"blue\", \"source\": 54, \"target\": 79}, {\"color\": \"blue\", \"source\": 54, \"target\": 79}, {\"color\": \"blue\", \"source\": 54, \"target\": 79}, {\"color\": \"blue\", \"source\": 54, \"target\": 24}, {\"color\": \"red\", \"source\": 54, \"target\": 109}, {\"color\": \"blue\", \"source\": 54, \"target\": 58}, {\"color\": \"red\", \"source\": 54, \"target\": 37}, {\"color\": \"blue\", \"source\": 54, \"target\": 86}, {\"color\": \"blue\", \"source\": 54, \"target\": 86}, {\"color\": \"red\", \"source\": 54, \"target\": 88}, {\"color\": \"blue\", \"source\": 54, \"target\": 90}, {\"color\": \"blue\", \"source\": 54, \"target\": 60}, {\"color\": \"blue\", \"source\": 54, \"target\": 60}, {\"color\": \"blue\", \"source\": 54, \"target\": 60}, {\"color\": \"blue\", \"source\": 54, \"target\": 112}, {\"color\": \"blue\", \"source\": 54, \"target\": 112}, {\"color\": \"blue\", \"source\": 54, \"target\": 112}, {\"color\": \"blue\", \"source\": 58, \"target\": 0}, {\"color\": \"blue\", \"source\": 58, \"target\": 54}, {\"color\": \"red\", \"source\": 58, \"target\": 108}, {\"color\": \"red\", \"source\": 58, \"target\": 15}, {\"color\": \"red\", \"source\": 58, \"target\": 83}, {\"color\": \"blue\", \"source\": 58, \"target\": 40}, {\"color\": \"red\", \"source\": 58, \"target\": 7}, {\"color\": \"red\", \"source\": 58, \"target\": 7}, {\"color\": \"blue\", \"source\": 58, \"target\": 46}, {\"color\": \"red\", \"source\": 60, \"target\": 52}, {\"color\": \"red\", \"source\": 60, \"target\": 80}, {\"color\": \"red\", \"source\": 60, \"target\": 53}, {\"color\": \"blue\", \"source\": 60, \"target\": 54}, {\"color\": \"blue\", \"source\": 60, \"target\": 54}, {\"color\": \"blue\", \"source\": 60, \"target\": 54}, {\"color\": \"red\", \"source\": 60, \"target\": 103}, {\"color\": \"red\", \"source\": 60, \"target\": 16}, {\"color\": \"red\", \"source\": 60, \"target\": 17}, {\"color\": \"blue\", \"source\": 60, \"target\": 40}, {\"color\": \"red\", \"source\": 60, \"target\": 30}, {\"color\": \"red\", \"source\": 60, \"target\": 63}, {\"color\": \"red\", \"source\": 60, \"target\": 5}, {\"color\": \"red\", \"source\": 60, \"target\": 50}, {\"color\": \"red\", \"source\": 60, \"target\": 107}, {\"color\": \"red\", \"source\": 60, \"target\": 72}, {\"color\": \"red\", \"source\": 60, \"target\": 112}, {\"color\": \"blue\", \"source\": 62, \"target\": 1}, {\"color\": \"red\", \"source\": 62, \"target\": 48}, {\"color\": \"red\", \"source\": 62, \"target\": 40}, {\"color\": \"blue\", \"source\": 62, \"target\": 74}, {\"color\": \"red\", \"source\": 62, \"target\": 9}, {\"color\": \"red\", \"source\": 69, \"target\": 0}, {\"color\": \"red\", \"source\": 69, \"target\": 1}, {\"color\": \"red\", \"source\": 69, \"target\": 2}, {\"color\": \"blue\", \"source\": 69, \"target\": 3}, {\"color\": \"red\", \"source\": 69, \"target\": 4}, {\"color\": \"red\", \"source\": 69, \"target\": 4}, {\"color\": \"red\", \"source\": 69, \"target\": 5}, {\"color\": \"red\", \"source\": 69, \"target\": 6}, {\"color\": \"red\", \"source\": 69, \"target\": 7}, {\"color\": \"red\", \"source\": 69, \"target\": 8}, {\"color\": \"red\", \"source\": 69, \"target\": 8}, {\"color\": \"red\", \"source\": 69, \"target\": 9}, {\"color\": \"red\", \"source\": 69, \"target\": 10}, {\"color\": \"blue\", \"source\": 69, \"target\": 11}, {\"color\": \"red\", \"source\": 69, \"target\": 12}, {\"color\": \"red\", \"source\": 69, \"target\": 12}, {\"color\": \"red\", \"source\": 69, \"target\": 13}, {\"color\": \"red\", \"source\": 69, \"target\": 14}, {\"color\": \"red\", \"source\": 69, \"target\": 15}, {\"color\": \"red\", \"source\": 69, \"target\": 16}, {\"color\": \"red\", \"source\": 69, \"target\": 16}, {\"color\": \"red\", \"source\": 69, \"target\": 17}, {\"color\": \"red\", \"source\": 69, \"target\": 17}, {\"color\": \"blue\", \"source\": 69, \"target\": 18}, {\"color\": \"blue\", \"source\": 69, \"target\": 19}, {\"color\": \"red\", \"source\": 69, \"target\": 20}, {\"color\": \"blue\", \"source\": 69, \"target\": 21}, {\"color\": \"blue\", \"source\": 69, \"target\": 22}, {\"color\": \"blue\", \"source\": 69, \"target\": 22}, {\"color\": \"blue\", \"source\": 69, \"target\": 23}, {\"color\": \"blue\", \"source\": 69, \"target\": 23}, {\"color\": \"red\", \"source\": 69, \"target\": 24}, {\"color\": \"blue\", \"source\": 69, \"target\": 25}, {\"color\": \"blue\", \"source\": 69, \"target\": 25}, {\"color\": \"blue\", \"source\": 69, \"target\": 26}, {\"color\": \"blue\", \"source\": 69, \"target\": 26}, {\"color\": \"blue\", \"source\": 69, \"target\": 26}, {\"color\": \"blue\", \"source\": 69, \"target\": 27}, {\"color\": \"blue\", \"source\": 69, \"target\": 27}, {\"color\": \"blue\", \"source\": 69, \"target\": 27}, {\"color\": \"blue\", \"source\": 69, \"target\": 28}, {\"color\": \"blue\", \"source\": 69, \"target\": 28}, {\"color\": \"red\", \"source\": 69, \"target\": 29}, {\"color\": \"red\", \"source\": 69, \"target\": 30}, {\"color\": \"red\", \"source\": 69, \"target\": 31}, {\"color\": \"red\", \"source\": 69, \"target\": 31}, {\"color\": \"blue\", \"source\": 69, \"target\": 32}, {\"color\": \"red\", \"source\": 69, \"target\": 33}, {\"color\": \"blue\", \"source\": 69, \"target\": 34}, {\"color\": \"blue\", \"source\": 69, \"target\": 35}, {\"color\": \"red\", \"source\": 69, \"target\": 36}, {\"color\": \"red\", \"source\": 69, \"target\": 37}, {\"color\": \"red\", \"source\": 69, \"target\": 38}, {\"color\": \"red\", \"source\": 69, \"target\": 39}, {\"color\": \"red\", \"source\": 69, \"target\": 40}, {\"color\": \"red\", \"source\": 69, \"target\": 41}, {\"color\": \"blue\", \"source\": 69, \"target\": 42}, {\"color\": \"blue\", \"source\": 69, \"target\": 42}, {\"color\": \"red\", \"source\": 69, \"target\": 43}, {\"color\": \"red\", \"source\": 69, \"target\": 44}, {\"color\": \"red\", \"source\": 69, \"target\": 44}, {\"color\": \"red\", \"source\": 69, \"target\": 45}, {\"color\": \"red\", \"source\": 69, \"target\": 45}, {\"color\": \"red\", \"source\": 69, \"target\": 46}, {\"color\": \"red\", \"source\": 69, \"target\": 46}, {\"color\": \"red\", \"source\": 69, \"target\": 47}, {\"color\": \"blue\", \"source\": 69, \"target\": 48}, {\"color\": \"red\", \"source\": 69, \"target\": 49}, {\"color\": \"blue\", \"source\": 69, \"target\": 50}, {\"color\": \"blue\", \"source\": 69, \"target\": 51}, {\"color\": \"blue\", \"source\": 69, \"target\": 51}, {\"color\": \"red\", \"source\": 69, \"target\": 52}, {\"color\": \"red\", \"source\": 69, \"target\": 52}, {\"color\": \"blue\", \"source\": 69, \"target\": 53}, {\"color\": \"blue\", \"source\": 69, \"target\": 54}, {\"color\": \"red\", \"source\": 69, \"target\": 55}, {\"color\": \"red\", \"source\": 69, \"target\": 56}, {\"color\": \"red\", \"source\": 69, \"target\": 57}, {\"color\": \"blue\", \"source\": 69, \"target\": 58}, {\"color\": \"red\", \"source\": 69, \"target\": 59}, {\"color\": \"red\", \"source\": 69, \"target\": 60}, {\"color\": \"red\", \"source\": 69, \"target\": 60}, {\"color\": \"red\", \"source\": 69, \"target\": 61}, {\"color\": \"red\", \"source\": 69, \"target\": 62}, {\"color\": \"red\", \"source\": 69, \"target\": 63}, {\"color\": \"red\", \"source\": 69, \"target\": 64}, {\"color\": \"red\", \"source\": 69, \"target\": 65}, {\"color\": \"red\", \"source\": 69, \"target\": 66}, {\"color\": \"blue\", \"source\": 69, \"target\": 67}, {\"color\": \"blue\", \"source\": 69, \"target\": 68}, {\"color\": \"red\", \"source\": 69, \"target\": 70}, {\"color\": \"red\", \"source\": 69, \"target\": 70}, {\"color\": \"red\", \"source\": 69, \"target\": 71}, {\"color\": \"red\", \"source\": 69, \"target\": 72}, {\"color\": \"red\", \"source\": 69, \"target\": 73}, {\"color\": \"red\", \"source\": 69, \"target\": 73}, {\"color\": \"red\", \"source\": 69, \"target\": 74}, {\"color\": \"red\", \"source\": 69, \"target\": 74}, {\"color\": \"red\", \"source\": 69, \"target\": 74}, {\"color\": \"blue\", \"source\": 69, \"target\": 75}, {\"color\": \"blue\", \"source\": 69, \"target\": 75}, {\"color\": \"blue\", \"source\": 69, \"target\": 76}, {\"color\": \"blue\", \"source\": 69, \"target\": 77}, {\"color\": \"blue\", \"source\": 69, \"target\": 78}, {\"color\": \"red\", \"source\": 69, \"target\": 79}, {\"color\": \"red\", \"source\": 69, \"target\": 80}, {\"color\": \"red\", \"source\": 69, \"target\": 81}, {\"color\": \"red\", \"source\": 69, \"target\": 82}, {\"color\": \"red\", \"source\": 69, \"target\": 83}, {\"color\": \"blue\", \"source\": 69, \"target\": 84}, {\"color\": \"blue\", \"source\": 69, \"target\": 85}, {\"color\": \"blue\", \"source\": 69, \"target\": 86}, {\"color\": \"blue\", \"source\": 69, \"target\": 87}, {\"color\": \"blue\", \"source\": 69, \"target\": 87}, {\"color\": \"blue\", \"source\": 69, \"target\": 88}, {\"color\": \"blue\", \"source\": 69, \"target\": 89}, {\"color\": \"blue\", \"source\": 69, \"target\": 89}, {\"color\": \"red\", \"source\": 69, \"target\": 90}, {\"color\": \"blue\", \"source\": 69, \"target\": 91}, {\"color\": \"blue\", \"source\": 69, \"target\": 91}, {\"color\": \"red\", \"source\": 69, \"target\": 92}, {\"color\": \"red\", \"source\": 69, \"target\": 93}, {\"color\": \"red\", \"source\": 69, \"target\": 93}, {\"color\": \"red\", \"source\": 69, \"target\": 94}, {\"color\": \"red\", \"source\": 69, \"target\": 95}, {\"color\": \"red\", \"source\": 69, \"target\": 96}, {\"color\": \"red\", \"source\": 69, \"target\": 97}, {\"color\": \"red\", \"source\": 69, \"target\": 98}, {\"color\": \"red\", \"source\": 69, \"target\": 99}, {\"color\": \"red\", \"source\": 69, \"target\": 100}, {\"color\": \"red\", \"source\": 69, \"target\": 101}, {\"color\": \"red\", \"source\": 69, \"target\": 102}, {\"color\": \"red\", \"source\": 69, \"target\": 103}, {\"color\": \"red\", \"source\": 69, \"target\": 103}, {\"color\": \"red\", \"source\": 69, \"target\": 104}, {\"color\": \"red\", \"source\": 69, \"target\": 105}, {\"color\": \"red\", \"source\": 69, \"target\": 106}, {\"color\": \"red\", \"source\": 69, \"target\": 107}, {\"color\": \"red\", \"source\": 69, \"target\": 107}, {\"color\": \"red\", \"source\": 69, \"target\": 108}, {\"color\": \"red\", \"source\": 69, \"target\": 109}, {\"color\": \"red\", \"source\": 69, \"target\": 110}, {\"color\": \"red\", \"source\": 69, \"target\": 111}, {\"color\": \"red\", \"source\": 69, \"target\": 112}, {\"color\": \"blue\", \"source\": 70, \"target\": 15}, {\"color\": \"red\", \"source\": 70, \"target\": 53}, {\"color\": \"blue\", \"source\": 70, \"target\": 26}, {\"color\": \"blue\", \"source\": 70, \"target\": 88}, {\"color\": \"red\", \"source\": 71, \"target\": 39}, {\"color\": \"red\", \"source\": 71, \"target\": 39}, {\"color\": \"red\", \"source\": 71, \"target\": 108}, {\"color\": \"red\", \"source\": 71, \"target\": 55}, {\"color\": \"red\", \"source\": 71, \"target\": 55}, {\"color\": \"red\", \"source\": 71, \"target\": 55}, {\"color\": \"blue\", \"source\": 71, \"target\": 32}, {\"color\": \"red\", \"source\": 71, \"target\": 13}, {\"color\": \"red\", \"source\": 71, \"target\": 13}, {\"color\": \"red\", \"source\": 79, \"target\": 53}, {\"color\": \"blue\", \"source\": 79, \"target\": 54}, {\"color\": \"blue\", \"source\": 79, \"target\": 54}, {\"color\": \"blue\", \"source\": 79, \"target\": 54}, {\"color\": \"red\", \"source\": 79, \"target\": 49}, {\"color\": \"red\", \"source\": 79, \"target\": 103}, {\"color\": \"red\", \"source\": 79, \"target\": 16}, {\"color\": \"red\", \"source\": 79, \"target\": 17}, {\"color\": \"blue\", \"source\": 79, \"target\": 40}, {\"color\": \"red\", \"source\": 79, \"target\": 63}, {\"color\": \"red\", \"source\": 79, \"target\": 5}, {\"color\": \"red\", \"source\": 79, \"target\": 50}, {\"color\": \"red\", \"source\": 79, \"target\": 107}, {\"color\": \"red\", \"source\": 79, \"target\": 21}, {\"color\": \"red\", \"source\": 79, \"target\": 112}, {\"color\": \"red\", \"source\": 85, \"target\": 89}, {\"color\": \"red\", \"source\": 89, \"target\": 85}, {\"color\": \"red\", \"source\": 89, \"target\": 77}, {\"color\": \"red\", \"source\": 89, \"target\": 86}, {\"color\": \"red\", \"source\": 89, \"target\": 46}, {\"color\": \"red\", \"source\": 89, \"target\": 3}, {\"color\": \"blue\", \"source\": 91, \"target\": 26}, {\"color\": \"red\", \"source\": 39, \"target\": 108}, {\"color\": \"red\", \"source\": 39, \"target\": 55}, {\"color\": \"red\", \"source\": 39, \"target\": 55}, {\"color\": \"red\", \"source\": 39, \"target\": 71}, {\"color\": \"red\", \"source\": 39, \"target\": 71}, {\"color\": \"red\", \"source\": 39, \"target\": 63}, {\"color\": \"blue\", \"source\": 39, \"target\": 32}, {\"color\": \"blue\", \"source\": 39, \"target\": 32}, {\"color\": \"blue\", \"source\": 39, \"target\": 32}, {\"color\": \"red\", \"source\": 39, \"target\": 65}, {\"color\": \"red\", \"source\": 39, \"target\": 13}]);}</script><iframe name=\"style_file1\" src=\"style_file1.html\" width=\"100%;\" height=\"805px\"></iframe></body></html>"
      ],
      "text/plain": [
       "<IPython.core.display.HTML object>"
      ]
     },
     "execution_count": 32,
     "metadata": {},
     "output_type": "execute_result"
    }
   ],
   "source": [
    "# display subnetworks using visJS2jupyter\n",
    "ura.vis_tf_network('STAT1',\n",
    "              directed_edges = True,\n",
    "              node_spacing = 2000,\n",
    "              graph_id = 1,\n",
    "              tf_size_amplifier = -10) "
   ]
  },
  {
   "cell_type": "code",
   "execution_count": 27,
   "metadata": {
    "collapsed": true
   },
   "outputs": [],
   "source": [
    "# to write data to a csv file\n",
    "csv_filename = 'URA_Analysis.txt'\n",
    "ura.to_csv(csv_filename)"
   ]
  },
  {
   "cell_type": "code",
   "execution_count": null,
   "metadata": {
    "collapsed": true
   },
   "outputs": [],
   "source": []
  }
 ],
 "metadata": {
  "kernelspec": {
   "display_name": "Python 2",
   "language": "python",
   "name": "python2"
  },
  "language_info": {
   "codemirror_mode": {
    "name": "ipython",
    "version": 2
   },
   "file_extension": ".py",
   "mimetype": "text/x-python",
   "name": "python",
   "nbconvert_exporter": "python",
   "pygments_lexer": "ipython2",
   "version": "2.7.14"
  }
 },
 "nbformat": 4,
 "nbformat_minor": 2
}
