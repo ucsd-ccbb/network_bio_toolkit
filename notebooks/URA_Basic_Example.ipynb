{
 "cells": [
  {
   "cell_type": "markdown",
   "metadata": {},
   "source": [
    "# Upstream Regulator Analysis Package Case Study\n",
    "\n",
    "----------------------\n",
    "\n",
    "Author: Mikayla Webster (m1webste@ucsd.edu)\n",
    "\n",
    "Date: 8th November, 2017\n",
    "\n",
    "----------------------\n",
    "\n",
    "<a id='toc'></a>\n",
    "## Table of Contents\n",
    "1. [Import packages](#import)\n",
    "2. [Create Graph](#graph)\n",
    "3. [Background](#background)\n",
    "    1. [Transcription Factors](#tf)\n",
    "    2. [Background Network](#bn)\n",
    "    3. [Differentially Expressed Genes](#deg)\n",
    "3. [Stat Analysis](#stat)\n",
    "    1. [P-value](#pvalue)\n",
    "    2. [Z-score](#zscore)"
   ]
  },
  {
   "cell_type": "markdown",
   "metadata": {},
   "source": [
    "## Import packages\n",
    "<a id='import'></a>"
   ]
  },
  {
   "cell_type": "code",
   "execution_count": 22,
   "metadata": {},
   "outputs": [
    {
     "data": {
      "text/plain": [
       "<module 'stat_analysis' from '../ura\\stat_analysis.py'>"
      ]
     },
     "execution_count": 22,
     "metadata": {},
     "output_type": "execute_result"
    }
   ],
   "source": [
    "import sys\n",
    "import time\n",
    "import networkx as nx\n",
    "code_path = '../ura'\n",
    "sys.path.append(code_path)\n",
    "import create_graph\n",
    "import stat_analysis\n",
    "reload(create_graph)\n",
    "reload(stat_analysis)"
   ]
  },
  {
   "cell_type": "markdown",
   "metadata": {},
   "source": [
    "## Background\n",
    "<a id='background'></a>"
   ]
  },
  {
   "cell_type": "markdown",
   "metadata": {},
   "source": [
    "The inspiration for these modules comes from [Ingenuity](http://pages.ingenuity.com/rs/ingenuity/images/0812%20upstream_regulator_analysis_whitepaper.pdf)."
   ]
  },
  {
   "cell_type": "markdown",
   "metadata": {},
   "source": [
    "## Create Graph ##\n",
    "<a id='graph'></a>"
   ]
  },
  {
   "cell_type": "markdown",
   "metadata": {},
   "source": [
    "### Transcription Factors\n",
    "<a id='tf'></a>\n",
    "\n",
    "Our create_graph module prepares 3 databases to use in our analysis: a transcription factor interaction network, a background network, and a differentially expressed genes database. Our transcription factor data comes from two sources: [slowkow](https://github.com/slowkow/tftargets) and [jaspar](http://jaspar.genereg.net/). Slowkow is a compilation of 6 smaller databases: TRED, ITFP, ENCODE, Neph2012, TRRUST, Marbach2016. Information about these specific databases, including links to their sources, is available through the slowkow github page. Some basic information on these databases is as follows:\n",
    "- Size of Jaspar Database: 2049\n",
    "- Size of Slowkow Database: 2705\n",
    "- Size of TRED: 133\n",
    "- Size of ITFP: 1974\n",
    "- Size of ENCODE: 157\n",
    "- Size of Neph2012: 536\n",
    "- Size of TRRUST: 748\n",
    "- Size of Marbach2016: 643 \n",
    "\n",
    "Our trascription factor list contains 3983 unique entries."
   ]
  },
  {
   "cell_type": "code",
   "execution_count": 2,
   "metadata": {},
   "outputs": [
    {
     "data": {
      "text/plain": [
       "3983"
      ]
     },
     "execution_count": 2,
     "metadata": {},
     "output_type": "execute_result"
    }
   ],
   "source": [
    "TF_list = create_graph.create_TF_list(slowkow_bool=True,\n",
    "                    slowkow_files=['../slowkow_databases/TRED_TF.txt',\n",
    "                                   '../slowkow_databases/ITFP_TF.txt',\n",
    "                                   '../slowkow_databases/ENCODE_TF.txt',\n",
    "                                   '../slowkow_databases/Neph2012_TF.txt',\n",
    "                                   '../slowkow_databases/TRRUST_TF.txt',\n",
    "                                   '../slowkow_databases/Marbach2016_TF.txt'],\n",
    "                    slowkow_sep = '\\n',\n",
    "                    jaspar_bool=True,\n",
    "                    jaspar_file=\"../jaspar_genereg_matrix.txt\")\n",
    "len(TF_list)"
   ]
  },
  {
   "cell_type": "markdown",
   "metadata": {},
   "source": [
    "### Background Network\n",
    "<a id='bn'></a>\n",
    "\n",
    "Our background network comes from the [STRING](https://string-db.org/) database. Our module can use our list of transcription factors (TF_list) to extract only relevant information from the STRING database. Namely, we pull out edge information from STRING only for our transcription factors (the entries in TF_list) and use those edges to create a graph."
   ]
  },
  {
   "cell_type": "code",
   "execution_count": 16,
   "metadata": {
    "scrolled": true
   },
   "outputs": [],
   "source": [
    "filename = \"../STRING_network.xlsx\"\n",
    "unfiltered_DG = create_graph.load_small_STRING_to_digraph(filename) # by default does not filter graph\n",
    "DG = create_graph.load_small_STRING_to_digraph(filename, TF_list) # to filter, specify TF_list"
   ]
  },
  {
   "cell_type": "code",
   "execution_count": 17,
   "metadata": {},
   "outputs": [
    {
     "name": "stdout",
     "output_type": "stream",
     "text": [
      "Number of unique nodes without filtering: 3580\n",
      "Number of edges without filtering: 40106\n",
      "\n",
      "\n",
      "Number of unique nodes with filtering: 687\n",
      "Number of edges with filtering: 1505\n"
     ]
    }
   ],
   "source": [
    "print 'Number of unique nodes without filtering: ' + str(len(list(set(unfiltered_DG.nodes()))))\n",
    "print 'Number of edges without filtering: ' + str(len(unfiltered_DG.edges()))\n",
    "print '\\n'\n",
    "print 'Number of unique nodes with filtering: ' + str(len(list(set(DG.nodes()))))\n",
    "print 'Number of edges with filtering: ' + str(len(DG.edges()))"
   ]
  },
  {
   "cell_type": "markdown",
   "metadata": {},
   "source": [
    "### Differentially Expressed Genes\n",
    "<a id='deg'></a>\n",
    "\n",
    "Our last database comes from a list of differentially exressed genes (DEG) found in an experiement. This is the user input, the genes we wish to analyze using our stat_analysis module. The TF graph created previously serves as our point of referece for these DEG's.\n",
    "\n",
    "Our DEG file must be a tab separated file, where each row represents a gene. This file must contain three columns (can contain other columns as well) titled \"adj_p_value\" (adjusted p-value), \"gene_symbol\", and \"fold_change\" (fold change or log fold change). "
   ]
  },
  {
   "cell_type": "code",
   "execution_count": 18,
   "metadata": {},
   "outputs": [
    {
     "data": {
      "text/plain": [
       "12906"
      ]
     },
     "execution_count": 18,
     "metadata": {},
     "output_type": "execute_result"
    }
   ],
   "source": [
    "filename = '../differentially_expressed_genes.txt'\n",
    "p_value_filter = 0.3\n",
    "DEG_list, DEG_to_pvalue, DEG_to_updown = create_graph.create_DEG_list(filename, p_value_filter) # load DEG list from file\n",
    "DG = create_graph.add_updown_from_DEG(DG, DEG_to_updown) # add DEG's information to our graph \n",
    "len(DEG_list)"
   ]
  },
  {
   "cell_type": "markdown",
   "metadata": {},
   "source": [
    "## Stat Analysis"
   ]
  },
  {
   "cell_type": "markdown",
   "metadata": {},
   "source": [
    "Our stat_analysis package can help identify TF's that are statistically significant to our set of DEG's."
   ]
  },
  {
   "cell_type": "markdown",
   "metadata": {},
   "source": [
    "### P-value"
   ]
  },
  {
   "cell_type": "markdown",
   "metadata": {},
   "source": [
    "Our p-value function calculates the log of the p-value for every TF in the graph using [scipy.stats.hypergeom.logsf](https://docs.scipy.org/doc/scipy-0.19.1/reference/generated/scipy.stats.hypergeom.html). These values help us determine which TF's are actually associated with our DEG's. If a TF is given a high value (because we are working with logs, not straight p-values), then it is likely that there is correlation between that TF and its DEG targets. Therefore, it is likely that TF is responsible for some of our observed gene expression. Note that if a TF is given a value of zero, that means none of the TF's targets were DEG's. "
   ]
  },
  {
   "cell_type": "code",
   "execution_count": 23,
   "metadata": {
    "scrolled": true
   },
   "outputs": [
    {
     "data": {
      "text/plain": [
       "MRPL44          inf\n",
       "RBBP5           inf\n",
       "TOPORS          inf\n",
       "HBN             inf\n",
       "RPS24     74.214855\n",
       "RPL23A    73.436222\n",
       "RPL8      69.506025\n",
       "RPS3      68.456336\n",
       "RPS23     63.336969\n",
       "DL        26.761561\n",
       "MED15     20.992895\n",
       "MRPL24    18.756252\n",
       "TAF2      14.757389\n",
       "TAF7      14.299399\n",
       "MED1      14.072495\n",
       "REL       12.883480\n",
       "INTS6     11.623171\n",
       "TAF11     10.987837\n",
       "SLBO      10.056217\n",
       "INTS4      9.915756\n",
       "HDAC3      9.915756\n",
       "INTS8      9.293373\n",
       "Z          6.966166\n",
       "RNPS1      6.857867\n",
       "TAF1       6.789783\n",
       "TAF5       6.789783\n",
       "TAF4       6.642762\n",
       "MCM2       6.306885\n",
       "PTEN       5.990586\n",
       "SVP        5.367390\n",
       "            ...    \n",
       "MAX        0.000000\n",
       "PXN        0.000000\n",
       "SU(HW)     0.000000\n",
       "ILK        0.000000\n",
       "MYB        0.000000\n",
       "SPEN       0.000000\n",
       "SF1        0.000000\n",
       "ABD-B      0.000000\n",
       "REPO       0.000000\n",
       "ZEN2       0.000000\n",
       "PNR        0.000000\n",
       "GSTO1      0.000000\n",
       "ANTP       0.000000\n",
       "UTX        0.000000\n",
       "MAD        0.000000\n",
       "HKB        0.000000\n",
       "CNOT4      0.000000\n",
       "SU(H)      0.000000\n",
       "PAN        0.000000\n",
       "SCR        0.000000\n",
       "MRPL23     0.000000\n",
       "LIG3       0.000000\n",
       "BAP        0.000000\n",
       "ONECUT     0.000000\n",
       "KR         0.000000\n",
       "GCM        0.000000\n",
       "NF1        0.000000\n",
       "TAZ        0.000000\n",
       "MSH6       0.000000\n",
       "ACHI       0.000000\n",
       "Length: 102, dtype: float64"
      ]
     },
     "execution_count": 23,
     "metadata": {},
     "output_type": "execute_result"
    }
   ],
   "source": [
    "stat_analysis.tf_pvalues(DG, unfiltered_DG, DEG_list)"
   ]
  },
  {
   "cell_type": "markdown",
   "metadata": {},
   "source": [
    "### Z-score"
   ]
  },
  {
   "cell_type": "markdown",
   "metadata": {},
   "source": [
    "The goal of our z-score function is to predict the activation states of the TF's. We observe how a TF relates to each of its targets to make our prediction. We compare each targets' observed gene regulation (either up or down) and each TF-target interation (whether it is activating or inhibiting) to conclude whether a TF is activating or inhibiting. A positive value indicates activating while a negative value indicates inhibiting. A value of zero means that we did not have enough information about the target or TF-target interaction to make the prediction.\n",
    "\n",
    "Our z-score calculater has to calculation methods. Our method calculates how \"biased\" the background network is towards either activating or inhibiting interactions, then adjusts its calculations to that non-zero average. Our bias-filter parameter is a number between 0 and 1 that indicates the threshold at which the graph is considered \"too biased\", and therefore the bias z-score formula must be used."
   ]
  },
  {
   "cell_type": "code",
   "execution_count": 27,
   "metadata": {
    "scrolled": true
   },
   "outputs": [
    {
     "data": {
      "text/plain": [
       "RPS24      7.229569\n",
       "RPS3       7.069980\n",
       "RPL23A     7.020021\n",
       "RPS23      7.020021\n",
       "RPL8       6.077702\n",
       "MED15      3.741657\n",
       "MED1       3.000000\n",
       "TAF1       3.000000\n",
       "TAF5       3.000000\n",
       "DL         2.840188\n",
       "TAF11      2.828427\n",
       "MRPL24     2.828427\n",
       "TAF4       2.828427\n",
       "TAF2       2.828427\n",
       "TAF12      2.828427\n",
       "TAF7       2.449490\n",
       "REL        2.449490\n",
       "TAF6       2.449490\n",
       "MCM2       2.333333\n",
       "CDC27      2.236068\n",
       "MCM3       2.236068\n",
       "INTS4      2.000000\n",
       "NUP133     2.000000\n",
       "HDAC3      2.000000\n",
       "RAE1       2.000000\n",
       "INTS6      2.000000\n",
       "SVP        1.732051\n",
       "INTS8      1.732051\n",
       "BUB3       1.732051\n",
       "CDC16      1.732051\n",
       "             ...   \n",
       "DFD        0.000000\n",
       "VHL        0.000000\n",
       "BAP        0.000000\n",
       "MAD        0.000000\n",
       "MYB        0.000000\n",
       "TLL        0.000000\n",
       "SCR        0.000000\n",
       "PAN        0.000000\n",
       "GCM        0.000000\n",
       "TBP        0.000000\n",
       "KR         0.000000\n",
       "H          0.000000\n",
       "ANTP       0.000000\n",
       "ZEN2       0.000000\n",
       "SU(HW)     0.000000\n",
       "RNPS1     -0.377964\n",
       "SIN3A     -1.000000\n",
       "PTEN      -1.000000\n",
       "HBN       -1.000000\n",
       "HDAC6     -1.000000\n",
       "RBBP5     -1.000000\n",
       "ATF6      -1.000000\n",
       "TOPORS    -1.000000\n",
       "TTK       -1.000000\n",
       "ARR1      -1.000000\n",
       "STAT92E   -1.000000\n",
       "KLHL18    -1.414214\n",
       "Z         -1.414214\n",
       "PAX       -1.414214\n",
       "SLBO      -2.449490\n",
       "Length: 102, dtype: float64"
      ]
     },
     "execution_count": 27,
     "metadata": {},
     "output_type": "execute_result"
    }
   ],
   "source": [
    "unbiased_zscores = stat_analysis.tf_zscore(DG, DEG_list, bias_filter = 1) # To explicitly use not-biased formula, set to 1\n",
    "unbiased_zscores"
   ]
  },
  {
   "cell_type": "code",
   "execution_count": 26,
   "metadata": {
    "scrolled": true
   },
   "outputs": [
    {
     "name": "stdout",
     "output_type": "stream",
     "text": [
      "Graph has bias of 0.637209302326. Adjusting z-score calculation accordingly.\n"
     ]
    },
    {
     "data": {
      "text/plain": [
       "RPS24      61.537275\n",
       "RPL23A     58.234485\n",
       "RPS23      54.468443\n",
       "RPL8       49.379552\n",
       "RPS3       46.947623\n",
       "MED15       8.105357\n",
       "TAF1        6.499651\n",
       "TAF4        6.461631\n",
       "TAF5        6.118121\n",
       "TAF2        5.462191\n",
       "TAF12       5.371641\n",
       "MED1        4.795125\n",
       "TAF11       4.565742\n",
       "CDC27       4.263537\n",
       "MRPL24      4.217432\n",
       "TAF6        3.984691\n",
       "REL         3.424306\n",
       "TAF7        3.335306\n",
       "DL          3.152367\n",
       "MCM3        2.680626\n",
       "NUP133      2.398179\n",
       "INTS6       2.317814\n",
       "RAE1        2.242446\n",
       "CDC16       2.127297\n",
       "INTS4       1.999597\n",
       "HDAC3       1.867017\n",
       "MCM2        1.811704\n",
       "BUB3        1.654499\n",
       "INTS8       1.654499\n",
       "SVP         1.388918\n",
       "             ...    \n",
       "TRL         0.000000\n",
       "GCM         0.000000\n",
       "DFD         0.000000\n",
       "ACHI        0.000000\n",
       "OPTIX       0.000000\n",
       "TAZ         0.000000\n",
       "ZEN2        0.000000\n",
       "SPEN        0.000000\n",
       "GSTO1       0.000000\n",
       "KR          0.000000\n",
       "RFC4       -0.150186\n",
       "MCM7       -0.611082\n",
       "AKT1       -1.439509\n",
       "VHL        -1.802300\n",
       "MCM6       -1.950101\n",
       "HBN        -2.315364\n",
       "STAT92E    -2.315364\n",
       "TTK        -2.315364\n",
       "ATF6       -2.315364\n",
       "TOPORS     -2.315364\n",
       "RBBP5      -2.315364\n",
       "ARR1       -2.835730\n",
       "SIN3A      -3.660911\n",
       "HDAC6      -3.660911\n",
       "KLHL18     -4.171784\n",
       "PAX        -4.630727\n",
       "Z          -4.630727\n",
       "PTEN       -7.699931\n",
       "RNPS1      -7.757228\n",
       "SLBO      -16.412335\n",
       "Length: 102, dtype: float64"
      ]
     },
     "execution_count": 26,
     "metadata": {},
     "output_type": "execute_result"
    }
   ],
   "source": [
    "stat_analysis.tf_zscore(DG, DEG_list, bias_filter = 0) # To explicitly use bias formula, set to 0"
   ]
  },
  {
   "cell_type": "markdown",
   "metadata": {
    "collapsed": true
   },
   "source": [
    "Our stat_analysis module also inculdes methods to help you find the most statistically relevant TF's to your input DEG data set."
   ]
  },
  {
   "cell_type": "code",
   "execution_count": 28,
   "metadata": {},
   "outputs": [
    {
     "data": {
      "text/plain": [
       "RPS24     7.229569\n",
       "RPS3      7.069980\n",
       "RPL23A    7.020021\n",
       "RPS23     7.020021\n",
       "RPL8      6.077702\n",
       "dtype: float64"
      ]
     },
     "execution_count": 28,
     "metadata": {},
     "output_type": "execute_result"
    }
   ],
   "source": [
    "stat_analysis.top_values(unbiased_zscores, act = True, abs_value = False, top = 5) # top 5 activating"
   ]
  },
  {
   "cell_type": "code",
   "execution_count": 29,
   "metadata": {},
   "outputs": [
    {
     "data": {
      "text/plain": [
       "SLBO      -2.449490\n",
       "KLHL18    -1.414214\n",
       "PAX       -1.414214\n",
       "Z         -1.414214\n",
       "STAT92E   -1.000000\n",
       "dtype: float64"
      ]
     },
     "execution_count": 29,
     "metadata": {},
     "output_type": "execute_result"
    }
   ],
   "source": [
    "stat_analysis.top_values(unbiased_zscores, act = False, abs_value = False, top = 5) # top 5 inhibiting"
   ]
  },
  {
   "cell_type": "code",
   "execution_count": 32,
   "metadata": {},
   "outputs": [
    {
     "data": {
      "text/plain": [
       "RPS24     7.229569\n",
       "RPS3      7.069980\n",
       "RPL23A    7.020021\n",
       "RPS23     7.020021\n",
       "RPL8      6.077702\n",
       "dtype: float64"
      ]
     },
     "execution_count": 32,
     "metadata": {},
     "output_type": "execute_result"
    }
   ],
   "source": [
    "stat_analysis.top_values(unbiased_zscores, act = False, abs_value = True, top = 5) # top 5 overall (happen to all be activating)"
   ]
  },
  {
   "cell_type": "code",
   "execution_count": null,
   "metadata": {
    "collapsed": true
   },
   "outputs": [],
   "source": []
  }
 ],
 "metadata": {
  "kernelspec": {
   "display_name": "Python 2",
   "language": "python",
   "name": "python2"
  },
  "language_info": {
   "codemirror_mode": {
    "name": "ipython",
    "version": 2
   },
   "file_extension": ".py",
   "mimetype": "text/x-python",
   "name": "python",
   "nbconvert_exporter": "python",
   "pygments_lexer": "ipython2",
   "version": "2.7.14"
  }
 },
 "nbformat": 4,
 "nbformat_minor": 1
}
